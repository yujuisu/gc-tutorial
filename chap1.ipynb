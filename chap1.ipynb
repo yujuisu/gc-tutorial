{
 "cells": [
  {
   "cell_type": "markdown",
   "metadata": {},
   "source": [
    "## Geometric Algebra\n",
    "What to focus? Not identities, but how to generate them.\n",
    "\n",
    "### A few Simple Techniques\n",
    "\n",
    "1. split into grades, then reverse their order [r-vector part](#r-vector-part-reordering)\n",
    "2. reduct to geometric product, and use its associativity e.g. [vector inner](#132)"
   ]
  },
  {
   "cell_type": "markdown",
   "metadata": {},
   "source": [
    "### Algebraic Identities\n",
    "1. [Reversions](#reversion)\n",
    "2. Reordering rules:\n",
    "    [Inner](#ip-reordering), [Outer](#op-reordering), [r-vector part](#r-vector-part-reordering)\n",
    "3. geometric/outer products are associative, but not inner [Left/Right Contraction](#left-right-contraction)\n",
    "4. ip/op of a vector with a r-vector into gp [1.27 1.30 1.33](#130)\n",
    "5. a product of even mv is even -> even subalgebra, but not odd [1.36](#136)\n",
    "6. distribute ip/op to a product of multivectors [1.41](#141)\n",
    "7. bivectors are closed under the commutator product [1.62](#162)\n",
    "8. cp distributes to gp [1.57](#157)\n",
    "9. In finite dim, inner/outer product are related by duality [1.41](#141), [2.18](#218)\n",
    "### Pseudoscalars and Projections\n",
    "1. the outermorphism of a projection is the same projection [2.13d](#213d)\n",
    "2. Projections, replacing the second ip with gp extends the projection to its dual [2.10](#210a) but such extension fails to be an outermorphism\n",
    "3. [splitting a blade](#vector-split-of-a-blade)\n",
    "#### Set/Subspace Language\n",
    "1. subspace [2.20]\n",
    "2. direct sum [2.21](#221)\n",
    "3. intersection [2.23]\n",
    "4. factor space [2.35], sounds like plane-based GA?\n",
    "### Frames and Matrices\n",
    "1. matrix algebra as manipulations with ordered sets of vectors\n",
    "2. reciprocal frame [3.5](#35-reciprocal-frame)\n",
    "3. reciprocal multiframe [3.14](#314-reciprocal-multiframe)\n",
    "4. multiframe expands any multivector in the subspace [3.20](#320)\n",
    "5. solve a vector equation [3.21](#321-solve-a-vector-equation)\n",
    "6. Cramer's Rule [3.23]\n",
    "5. inverse matrix [3.28](#328)\n",
    "\n",
    "\n",
    "Closure of finite dim algebra [1.33](#133) [3.20]\n"
   ]
  },
  {
   "cell_type": "markdown",
   "metadata": {},
   "source": [
    "### Claims\n",
    "#### One Algebraic structure, multiple geometric interpretations\n",
    "Drawback: Hard to see a motivation.\n",
    "\n",
    "#### Building blocks of GA are k-blades.\n",
    "\n",
    "Geometric product relates blades of different grade.\n",
    "1. All directional relations among linear spaces can be represented by geometric product.\n",
    "\n",
    "A blade represents a subspace. If the blade is invertible, all relations are included by gp.\n",
    "\n",
    "2. \n",
    "\n"
   ]
  },
  {
   "cell_type": "code",
   "execution_count": 20,
   "metadata": {},
   "outputs": [
    {
     "data": {
      "text/plain": [
       "0.0"
      ]
     },
     "execution_count": 20,
     "metadata": {},
     "output_type": "execute_result"
    }
   ],
   "source": [
    "# 1.9 A multivector can be split into grades\n",
    "# Select a flavor of algebra\n",
    "from kingdon import Algebra\n",
    "import numpy as np\n",
    "alg = Algebra(1,3)\n",
    "locals().update(alg.blades)\n",
    "\n",
    "def random_vector(alg: Algebra):\n",
    "    vec = np.random.random(alg.d)\n",
    "    return alg.vector(vec)\n",
    "\n",
    "\n",
    "def random_multivector(alg: Algebra):\n",
    "    n = 2**alg.d\n",
    "    vec = np.random.random(n)\n",
    "    return alg.multivector(vec)\n",
    "\n",
    "\n",
    "def max_diff(A, B):\n",
    "    return np.max(np.abs((A - B)[:]))\n",
    "\n",
    "\n",
    "def assert_diff(A, B, err=1e-10):\n",
    "    assert max_diff(A, B) < err\n",
    "            \n",
    "A, B, C = [random_multivector(alg) for _ in range(3)]\n",
    "a = random_vector(alg)\n",
    "_A = 0\n",
    "for g in A.grades:\n",
    "    _A += A.grade(g)\n",
    "max_diff(A, _A)"
   ]
  },
  {
   "cell_type": "code",
   "execution_count": 21,
   "metadata": {},
   "outputs": [
    {
     "data": {
      "text/plain": [
       "(1.83 + 1.6 𝐞₁ + 1.92 𝐞₂ + 1.84 𝐞₃ + 1.14 𝐞₄ + 0.986 𝐞₁₂ + 2.13 𝐞₁₃ + 1.41 𝐞₁₄ + 2.16 𝐞₂₃ + 1.08 𝐞₂₄ + 2.53 𝐞₃₄ + 0.731 𝐞₁₂₃ + 1.83 𝐞₁₂₄ + 1.87 𝐞₁₃₄ + 1.08 𝐞₂₃₄ + 1.26 𝐞₁₂₃₄,\n",
       " 1.83 + 1.6 𝐞₁ + 1.92 𝐞₂ + 1.84 𝐞₃ + 1.14 𝐞₄ + 0.986 𝐞₁₂ + 2.13 𝐞₁₃ + 1.41 𝐞₁₄ + 2.16 𝐞₂₃ + 1.08 𝐞₂₄ + 2.53 𝐞₃₄ + 0.731 𝐞₁₂₃ + 1.83 𝐞₁₂₄ + 1.87 𝐞₁₃₄ + 1.08 𝐞₂₃₄ + 1.26 𝐞₁₂₃₄,\n",
       " -4.16 + -4.69 𝐞₁ + -5.42 𝐞₂ + -1.43 𝐞₃ + -0.819 𝐞₄ + -3.83 𝐞₁₂ + -1.74 𝐞₁₃ + -0.319 𝐞₁₄ + -0.693 𝐞₂₃ + 0.269 𝐞₂₄ + -2.07 𝐞₃₄ + -0.153 𝐞₁₂₃ + -0.405 𝐞₁₂₄ + 1.64 𝐞₁₃₄ + 2.5 𝐞₂₃₄ + -1.94 𝐞₁₂₃₄,\n",
       " -4.16 + -4.69 𝐞₁ + -5.42 𝐞₂ + -1.43 𝐞₃ + -0.819 𝐞₄ + -3.83 𝐞₁₂ + -1.74 𝐞₁₃ + -0.319 𝐞₁₄ + -0.693 𝐞₂₃ + 0.269 𝐞₂₄ + -2.07 𝐞₃₄ + -0.153 𝐞₁₂₃ + -0.405 𝐞₁₂₄ + 1.64 𝐞₁₃₄ + 2.5 𝐞₂₃₄ + -1.94 𝐞₁₂₃₄)"
      ]
     },
     "execution_count": 21,
     "metadata": {},
     "output_type": "execute_result"
    }
   ],
   "source": [
    "#1.2 gp and sum are associative\n",
    "(A+B) +C, A+(B+C), (A*B)*C, A*(B*C)"
   ]
  },
  {
   "cell_type": "code",
   "execution_count": 22,
   "metadata": {},
   "outputs": [
    {
     "data": {
      "text/plain": [
       "(0.663 𝐞₁₂ + 1.49 𝐞₁₃ + 0.771 𝐞₁₄ + 1.39 𝐞₂₃ + 0.397 𝐞₂₄ + 1.69 𝐞₃₄,\n",
       " 0.663 𝐞₁₂ + 1.49 𝐞₁₃ + 0.771 𝐞₁₄ + 1.39 𝐞₂₃ + 0.397 𝐞₂₄ + 1.69 𝐞₃₄)"
      ]
     },
     "execution_count": 22,
     "metadata": {},
     "output_type": "execute_result"
    }
   ],
   "source": [
    "#1.10 distribute summation into grades\n",
    "g = 2\n",
    "(A+B).grade(g), A.grade(g) + B.grade(g)"
   ]
  },
  {
   "cell_type": "code",
   "execution_count": 23,
   "metadata": {},
   "outputs": [
    {
     "data": {
      "text/plain": [
       "(0.131 𝐞₁₂ + 0.843 𝐞₁₃ + 0.311 𝐞₁₄ + 0.588 𝐞₂₃ + 0.0239 𝐞₂₄ + 0.701 𝐞₃₄,\n",
       " 0.131 𝐞₁₂ + 0.843 𝐞₁₃ + 0.311 𝐞₁₄ + 0.588 𝐞₂₃ + 0.0239 𝐞₂₄ + 0.701 𝐞₃₄)"
      ]
     },
     "execution_count": 23,
     "metadata": {},
     "output_type": "execute_result"
    }
   ],
   "source": [
    "#1.12\n",
    "A.grade(2).grade(2), A.grade(2)"
   ]
  },
  {
   "cell_type": "code",
   "execution_count": 83,
   "metadata": {},
   "outputs": [
    {
     "data": {
      "text/plain": [
       "(-0.533, 0.533273111307806, 0.7302555109739371)"
      ]
     },
     "execution_count": 83,
     "metadata": {},
     "output_type": "execute_result"
    }
   ],
   "source": [
    "#1.13\n",
    "from kingdon import MultiVector\n",
    "def normsq(A: MultiVector):\n",
    "    return abs(A.sp(A.reverse())[0])\n",
    "\n",
    "\n",
    "def norm(A):\n",
    "    return np.sqrt(normsq(A))\n",
    "\n",
    "\n",
    "def normalize(A, tol=1e-6):\n",
    "    n = norm(A)\n",
    "    assert n > tol, \"zero norm\"\n",
    "    return A / n\n",
    "\n",
    "a**2, normsq(a), norm(a)"
   ]
  },
  {
   "cell_type": "markdown",
   "metadata": {},
   "source": [
    "### k-blade/ simple k-vector"
   ]
  },
  {
   "cell_type": "code",
   "execution_count": 25,
   "metadata": {},
   "outputs": [
    {
     "name": "stdout",
     "output_type": "stream",
     "text": [
      "not simple, (4.2500725161431774e-17, 0.0, 0.0, 0.0, 0.0, 0.0, 0.5090075027620369)\n"
     ]
    },
    {
     "data": {
      "text/plain": [
       "0.11372632145761989"
      ]
     },
     "execution_count": 25,
     "metadata": {},
     "output_type": "execute_result"
    }
   ],
   "source": [
    "#1.4 in 4 dimension space, there's non-simple bivectors.\n",
    "# But not other grades.\n",
    "from functools import reduce\n",
    "def random_r_vectors(r, alg):\n",
    "    return [random_vector(alg) for _ in range(r)]\n",
    "\n",
    "def random_r_blade(r, alg):\n",
    "    return wedge(random_r_vectors(r, alg))\n",
    "\n",
    "def wedge(vectors) -> MultiVector:\n",
    "    return reduce(lambda a, b: a ^ b, vectors, 1)\n",
    "\n",
    "#1.51\n",
    "def assert_simple(A, tol=1e-8):\n",
    "    Asquare = A**2\n",
    "    if isinstance(A, (int, float)):\n",
    "        return Asquare\n",
    "    if Asquare[1:]:\n",
    "        assert np.max(np.abs(Asquare[1:])) < tol, f\"not simple, {Asquare[1:]}\"\n",
    "    return Asquare[0]\n",
    "\n",
    "blade = random_r_blade(2, alg)\n",
    "try:\n",
    "    assert_simple(A.grade(2))\n",
    "except Exception as e:\n",
    "    print(e)\n",
    "assert_simple(blade)"
   ]
  },
  {
   "cell_type": "code",
   "execution_count": 26,
   "metadata": {},
   "outputs": [
    {
     "name": "stdout",
     "output_type": "stream",
     "text": [
      "1 𝐞₁₂₃ + 1 𝐞₃₄₅ not simple, (2,)\n"
     ]
    }
   ],
   "source": [
    "# Not a compact assertion\n",
    "# But enough for dimension < 6?\n",
    "# e123 + e456 is not simple, but passed\n",
    "alg6 = Algebra(6)\n",
    "locals().update(alg6.blades)\n",
    "\n",
    "for kvec in [e123 + e234, e123 + e345, e123 + e456]:\n",
    "    try:\n",
    "        assert_simple(kvec)\n",
    "    except Exception as e:\n",
    "        print(kvec, e)"
   ]
  },
  {
   "cell_type": "markdown",
   "metadata": {},
   "source": [
    "#### Reversion"
   ]
  },
  {
   "cell_type": "code",
   "execution_count": 27,
   "metadata": {
    "tags": [
     "reversion"
    ]
   },
   "outputs": [
    {
     "data": {
      "text/plain": [
       "(-1.42 + -0.783 𝐞₁ + 0.817 𝐞₂ + 0.819 𝐞₃ + 2.27 𝐞₄ + 0.347 𝐞₁₂ + -2.01 𝐞₁₃ + -1.19 𝐞₁₄ + -2.2 𝐞₂₃ + -0.104 𝐞₂₄ + -1.52 𝐞₃₄ + -0.255 𝐞₁₂₃ + -1.51 𝐞₁₂₄ + -1.79 𝐞₁₃₄ + -2.71 𝐞₂₃₄ + 1.49 𝐞₁₂₃₄,\n",
       " -1.42 + -0.783 𝐞₁ + 0.817 𝐞₂ + 0.819 𝐞₃ + 2.27 𝐞₄ + 0.347 𝐞₁₂ + -2.01 𝐞₁₃ + -1.19 𝐞₁₄ + -2.2 𝐞₂₃ + -0.104 𝐞₂₄ + -1.52 𝐞₃₄ + -0.255 𝐞₁₂₃ + -1.51 𝐞₁₂₄ + -1.79 𝐞₁₃₄ + -2.71 𝐞₂₃₄ + 1.49 𝐞₁₂₃₄)"
      ]
     },
     "execution_count": 27,
     "metadata": {},
     "output_type": "execute_result"
    }
   ],
   "source": [
    "# 1.17\n",
    "locals().update(alg.blades)\n",
    "(A * B).reverse(), B.reverse() * A.reverse()"
   ]
  },
  {
   "cell_type": "markdown",
   "metadata": {},
   "source": [
    "1.19 is how Kingdon compute reversion:\n",
    "\n",
    "    def codegen_involutions(x, invert_grades=(2, 3)):\n",
    "        \"\"\"\n",
    "        Codegen for the involutions of Clifford algebras:\n",
    "        reverse, grade involute, and Clifford involution.\n",
    "\n",
    "        :param invert_grades: The grades that flip sign under this involution mod 4, e.g. (2, 3) for reversion.\n",
    "        \"\"\"\n",
    "        return {\n",
    "            k: f\"-{v.name}\" if bin(k).count(\"1\") % 4 in invert_grades else v.name\n",
    "            for k, v in x.items()\n",
    "        }"
   ]
  },
  {
   "cell_type": "code",
   "execution_count": 28,
   "metadata": {},
   "outputs": [
    {
     "data": {
      "text/plain": [
       "(-0.131 𝐞₁₂ + -0.843 𝐞₁₃ + -0.311 𝐞₁₄ + -0.588 𝐞₂₃ + -0.0239 𝐞₂₄ + -0.701 𝐞₃₄,\n",
       " -0.131 𝐞₁₂ + -0.843 𝐞₁₃ + -0.311 𝐞₁₄ + -0.588 𝐞₂₃ + -0.0239 𝐞₂₄ + -0.701 𝐞₃₄,\n",
       " -0.131 𝐞₁₂ + -0.843 𝐞₁₃ + -0.311 𝐞₁₄ + -0.588 𝐞₂₃ + -0.0239 𝐞₂₄ + -0.701 𝐞₃₄)"
      ]
     },
     "execution_count": 28,
     "metadata": {},
     "output_type": "execute_result"
    }
   ],
   "source": [
    "# 1.19\n",
    "r = 2\n",
    "(\n",
    "    A.reverse().grade(r), \n",
    "    A.grade(r).reverse(), \n",
    "    A.grade(r) * int((-1) ** (r*(r-1)/2))\n",
    "    )"
   ]
  },
  {
   "cell_type": "markdown",
   "metadata": {},
   "source": [
    "#### r-vector part reordering"
   ]
  },
  {
   "cell_type": "code",
   "execution_count": 29,
   "metadata": {},
   "outputs": [
    {
     "data": {
      "text/plain": [
       "(1 + -1 𝐞₁₂, 1 + 1 𝐞₁₂)"
      ]
     },
     "execution_count": 29,
     "metadata": {},
     "output_type": "execute_result"
    }
   ],
   "source": [
    "# A simple idea:\n",
    "# sign flips at grade 2 but not 1\n",
    "(e1+e2)*e1, e1*(e1+e2)"
   ]
  },
  {
   "cell_type": "code",
   "execution_count": 30,
   "metadata": {},
   "outputs": [
    {
     "data": {
      "text/plain": [
       "(-0.347 𝐞₁₂ + 2.01 𝐞₁₃ + 1.19 𝐞₁₄ + 2.2 𝐞₂₃ + 0.104 𝐞₂₄ + 1.52 𝐞₃₄,\n",
       " -0.347 𝐞₁₂ + 2.01 𝐞₁₃ + 1.19 𝐞₁₄ + 2.2 𝐞₂₃ + 0.104 𝐞₂₄ + 1.52 𝐞₃₄)"
      ]
     },
     "execution_count": 30,
     "metadata": {},
     "output_type": "execute_result"
    }
   ],
   "source": [
    "#1.20a\n",
    "(A*B).grade(r), (-1)**(r*(r-1)/2) * (B.reverse()*A.reverse()).grade(r)"
   ]
  },
  {
   "cell_type": "code",
   "execution_count": 31,
   "metadata": {},
   "outputs": [
    {
     "data": {
      "text/plain": [
       "(-0.411 + 0.397 𝐞₁₂ + 0.194 𝐞₁₃ + -0.412 𝐞₁₄ + 0.126 𝐞₂₃ + 0.0857 𝐞₂₄ + 0.0157 𝐞₃₄ + 0.692 𝐞₁₂₃₄,\n",
       " 0.411 + 0.397 𝐞₁₂ + 0.194 𝐞₁₃ + -0.412 𝐞₁₄ + 0.126 𝐞₂₃ + 0.0857 𝐞₂₄ + 0.0157 𝐞₃₄ + -0.692 𝐞₁₂₃₄)"
      ]
     },
     "execution_count": 31,
     "metadata": {},
     "output_type": "execute_result"
    }
   ],
   "source": [
    "#1.20b\n",
    "r, s = 2, 2\n",
    "Ar = A.grade(r)\n",
    "Bs = B.grade(s)\n",
    "(Ar * Bs), (Bs.reverse() * Ar)"
   ]
  },
  {
   "cell_type": "code",
   "execution_count": 32,
   "metadata": {},
   "outputs": [
    {
     "data": {
      "text/plain": [
       "(-2.49 𝐞₁₂ + -2.53 𝐞₁₃ + -0.716 𝐞₁₄ + -1.32 𝐞₂₃ + -0.361 𝐞₂₄ + 0.114 𝐞₃₄,\n",
       " -2.49 𝐞₁₂ + -2.53 𝐞₁₃ + -0.716 𝐞₁₄ + -1.32 𝐞₂₃ + -0.361 𝐞₂₄ + 0.114 𝐞₃₄)"
      ]
     },
     "execution_count": 32,
     "metadata": {},
     "output_type": "execute_result"
    }
   ],
   "source": [
    "#1.20c\n",
    "r = 2\n",
    "(A*B.grade(r)*C).grade(r), (C.reverse()*B.grade(r)*A.reverse()).grade(r)"
   ]
  },
  {
   "cell_type": "code",
   "execution_count": 33,
   "metadata": {},
   "outputs": [
    {
     "data": {
      "text/plain": [
       "(0.484 𝐞₁₂₃₄, 0.484 𝐞₁₂₃₄)"
      ]
     },
     "execution_count": 33,
     "metadata": {},
     "output_type": "execute_result"
    }
   ],
   "source": [
    "#1.20d\n",
    "vec = [1,2,3,4]\n",
    "r,s,t,q = vec\n",
    "vec = np.array(vec)\n",
    "epsilon = sum(vec**2 - vec)/2\n",
    "Ar, Bs, Ct = A.grade(r), B.grade(s), C.grade(t)\n",
    "(Ar*Bs*Ct).grade(q), (-1)**epsilon*(Ct*Bs*Ar).grade(q)"
   ]
  },
  {
   "cell_type": "code",
   "execution_count": 34,
   "metadata": {},
   "outputs": [
    {
     "data": {
      "text/plain": [
       "(-1.42 + -0.783 𝐞₁ + 0.817 𝐞₂ + 0.819 𝐞₃ + 2.27 𝐞₄ + -1.27 𝐞₁₂ + 1.13 𝐞₁₃ + 1.49 𝐞₁₄ + 1.28 𝐞₂₃ + 0.387 𝐞₂₄ + 1.9 𝐞₃₄ + 0.0317 𝐞₁₂₃ + 1.54 𝐞₁₂₄ + 0.445 𝐞₁₃₄ + 0.331 𝐞₂₃₄ + 0.886 𝐞₁₂₃₄,\n",
       " -1.42 + -0.783 𝐞₁ + 0.817 𝐞₂ + 0.819 𝐞₃ + 2.27 𝐞₄ + -1.27 𝐞₁₂ + 1.13 𝐞₁₃ + 1.49 𝐞₁₄ + 1.28 𝐞₂₃ + 0.387 𝐞₂₄ + 1.9 𝐞₃₄ + 0.0317 𝐞₁₂₃ + 1.54 𝐞₁₂₄ + 0.445 𝐞₁₃₄ + 0.331 𝐞₂₃₄ + 0.886 𝐞₁₂₃₄,\n",
       " -1.99 + -1.77 𝐞₁ + -0.551 𝐞₂ + 0.161 𝐞₃ + 1.35 𝐞₄ + -1.72 𝐞₁₂ + -0.0671 𝐞₁₃ + 0.911 𝐞₁₄ + 0.239 𝐞₂₃ + 0.139 𝐞₂₄ + 0.633 𝐞₃₄ + -0.353 𝐞₁₂₃ + 0.67 𝐞₁₂₄ + -0.713 𝐞₁₃₄ + -0.207 𝐞₂₃₄,\n",
       " 0.578 + 0.194 𝐞₁ + 0.547 𝐞₂ + 0.476 𝐞₃ + 0.285 𝐞₄ + 0.322 𝐞₁₂ + 0.393 𝐞₁₃ + 0.278 𝐞₁₄ + 0.483 𝐞₂₃ + 0.226 𝐞₂₄ + 0.597 𝐞₃₄ + 0.0218 𝐞₁₂₃ + 0.104 𝐞₁₂₄ + 0.327 𝐞₁₃₄ + 0.124 𝐞₂₃₄ + 0.0528 𝐞₁₂₃₄,\n",
       " 0.578 + 0.194 𝐞₁ + 0.547 𝐞₂ + 0.476 𝐞₃ + 0.285 𝐞₄ + 0.322 𝐞₁₂ + 0.393 𝐞₁₃ + 0.278 𝐞₁₄ + 0.483 𝐞₂₃ + 0.226 𝐞₂₄ + 0.597 𝐞₃₄ + 0.0218 𝐞₁₂₃ + 0.104 𝐞₁₂₄ + 0.327 𝐞₁₃₄ + 0.124 𝐞₂₃₄ + 0.0528 𝐞₁₂₃₄)"
      ]
     },
     "execution_count": 34,
     "metadata": {},
     "output_type": "execute_result"
    }
   ],
   "source": [
    "#1.21c\n",
    "# in Kingdon, the inner product is either left or right contraction\n",
    "# so its inner/outer product has an overlap on the grade zero\n",
    "# The Hestenes' inner product:\n",
    "def inner(A, B):\n",
    "    if isinstance(A, MultiVector) and isinstance(B, MultiVector):\n",
    "        return (A - A.e) | (B - B.e)\n",
    "    return 0\n",
    "\n",
    "temp = 0\n",
    "for r in A.grades:\n",
    "    for s in B.grades:\n",
    "        Ar = A.grade(r)\n",
    "        Bs = B.grade(s)\n",
    "        temp += (Ar * Bs).grade(abs(r - s))\n",
    "(\n",
    "    A | B, \n",
    "    temp, \n",
    "    inner(A, B), \n",
    "    alg.ip(A.e, B), \n",
    "    A.e ^ B,\n",
    "    )"
   ]
  },
  {
   "cell_type": "code",
   "execution_count": 35,
   "metadata": {},
   "outputs": [
    {
     "data": {
      "text/plain": [
       "(0.692 𝐞₁₂₃₄, 0.692 𝐞₁₂₃₄)"
      ]
     },
     "execution_count": 35,
     "metadata": {},
     "output_type": "execute_result"
    }
   ],
   "source": [
    "#1.22 The wedge as grade selection\n",
    "r, s = 2, 2\n",
    "Ar = A.grade(r)\n",
    "Bs = B.grade(s)\n",
    "Ar ^ Bs, (Ar * Bs).grade(r + s)"
   ]
  },
  {
   "cell_type": "markdown",
   "metadata": {},
   "source": [
    "##### ip reordering"
   ]
  },
  {
   "cell_type": "code",
   "execution_count": 36,
   "metadata": {
    "tags": [
     "ip reorder"
    ]
   },
   "outputs": [
    {
     "data": {
      "text/plain": [
       "(-1.46 𝐞₁ + -1.04 𝐞₂ + -0.0357 𝐞₃ + 0.645 𝐞₄,\n",
       " -1.46 𝐞₁ + -1.04 𝐞₂ + -0.0357 𝐞₃ + 0.645 𝐞₄)"
      ]
     },
     "execution_count": 36,
     "metadata": {},
     "output_type": "execute_result"
    }
   ],
   "source": [
    "# 1.23a\n",
    "r, s = 3, 2\n",
    "Ar = A.grade(r)\n",
    "Bs = B.grade(s)\n",
    "r, s = sorted((r,s))\n",
    "Ar | Bs, (-1) ** (r * (s-1)) * Bs | Ar"
   ]
  },
  {
   "cell_type": "markdown",
   "metadata": {},
   "source": [
    "##### op reordering"
   ]
  },
  {
   "cell_type": "code",
   "execution_count": 37,
   "metadata": {},
   "outputs": [
    {
     "data": {
      "text/plain": [
       "(0, 0)"
      ]
     },
     "execution_count": 37,
     "metadata": {},
     "output_type": "execute_result"
    }
   ],
   "source": [
    "# 1.23b\n",
    "Ar ^ Bs, (-1) ** (r * s) * Bs ^ Ar"
   ]
  },
  {
   "cell_type": "code",
   "execution_count": 38,
   "metadata": {},
   "outputs": [
    {
     "data": {
      "text/plain": [
       "1.1102230246251565e-15"
      ]
     },
     "execution_count": 38,
     "metadata": {},
     "output_type": "execute_result"
    }
   ],
   "source": [
    "#1.24a\n",
    "D = A | (B + C)\n",
    "E = (A|B) + (A|C)\n",
    "max_diff(D, E)"
   ]
  },
  {
   "cell_type": "code",
   "execution_count": 39,
   "metadata": {},
   "outputs": [
    {
     "data": {
      "text/plain": [
       "8.881784197001252e-16"
      ]
     },
     "execution_count": 39,
     "metadata": {},
     "output_type": "execute_result"
    }
   ],
   "source": [
    "#1.24b\n",
    "D = A ^ (B + C)\n",
    "E = (A^B) + (A^C)\n",
    "max_diff(D, E)"
   ]
  },
  {
   "cell_type": "code",
   "execution_count": 40,
   "metadata": {},
   "outputs": [
    {
     "data": {
      "text/plain": [
       "4.440892098500626e-16"
      ]
     },
     "execution_count": 40,
     "metadata": {},
     "output_type": "execute_result"
    }
   ],
   "source": [
    "#1.25a\n",
    "max_diff((A^(B^C)), ((A^B)^C))"
   ]
  },
  {
   "cell_type": "markdown",
   "metadata": {},
   "source": [
    "##### Left Right Contraction"
   ]
  },
  {
   "cell_type": "code",
   "execution_count": 41,
   "metadata": {},
   "outputs": [
    {
     "data": {
      "text/plain": [
       "[0.0, 0.0, 2.498001805406602e-16, 1.1102230246251565e-16]"
      ]
     },
     "execution_count": 41,
     "metadata": {},
     "output_type": "execute_result"
    }
   ],
   "source": [
    "#1.25b\n",
    "errs = []\n",
    "for r,s,t in [(0,1,1), (0,0,0), (1,1,3), (2,1,3)]:\n",
    "    Ar = A.grade(r)\n",
    "    Bs = B.grade(s)\n",
    "    Ct = C.grade(t)\n",
    "    errs.append(max_diff(Ar|(Bs|Ct), (Ar^Bs)|Ct))\n",
    "errs\n",
    "    "
   ]
  },
  {
   "cell_type": "code",
   "execution_count": 42,
   "metadata": {},
   "outputs": [
    {
     "data": {
      "text/plain": [
       "[0.0, 0.0, 2.7755575615628914e-17, 0.0]"
      ]
     },
     "execution_count": 42,
     "metadata": {},
     "output_type": "execute_result"
    }
   ],
   "source": [
    "#1.25c\n",
    "errs = []\n",
    "for r,s,t in [(0,1,1), (0,0,0), (1,3,1), (2,3,1)]:\n",
    "    Ar = A.grade(r)\n",
    "    Bs = B.grade(s)\n",
    "    Ct = C.grade(t)\n",
    "    errs.append(max_diff(Ar|(Bs|Ct), (Ar|Bs)|Ct))\n",
    "errs"
   ]
  },
  {
   "cell_type": "code",
   "execution_count": 43,
   "metadata": {},
   "outputs": [
    {
     "data": {
      "text/plain": [
       "1.6653345369377348e-16"
      ]
     },
     "execution_count": 43,
     "metadata": {},
     "output_type": "execute_result"
    }
   ],
   "source": [
    "#1.26\n",
    "a, b = random_r_vectors(2, alg)\n",
    "max_diff(a^A^b^B, -b^A^a^B)"
   ]
  },
  {
   "cell_type": "code",
   "execution_count": 44,
   "metadata": {},
   "outputs": [],
   "source": [
    "#1.27\n",
    "S = A * 0\n",
    "for r in A.grades:\n",
    "    if r == 0:\n",
    "        continue\n",
    "    Ar = A.grade(r)\n",
    "    aAr = a*Ar\n",
    "    Ara = Ar*a\n",
    "    assert_diff(a | Ar, aAr.grade(r-1))\n",
    "    assert_diff(a | Ar, (aAr - (-1)**r * Ara)/2)\n",
    "    assert_diff(a ^ Ar, (aAr + (-1)**r * Ara)/2)\n",
    "    assert_diff(aAr, (a|Ar)+(a^Ar))"
   ]
  },
  {
   "cell_type": "code",
   "execution_count": 45,
   "metadata": {},
   "outputs": [],
   "source": [
    "def even_grades(A):\n",
    "    return A.grade(A.grades[::2])\n",
    "def odd_grades(A):\n",
    "    return A.grade(A.grades[1::2])\n",
    "    "
   ]
  },
  {
   "cell_type": "code",
   "execution_count": 46,
   "metadata": {},
   "outputs": [
    {
     "data": {
      "text/plain": [
       "0.0"
      ]
     },
     "execution_count": 46,
     "metadata": {},
     "output_type": "execute_result"
    }
   ],
   "source": [
    "#1.29\n",
    "max_diff(A, even_grades(A) + odd_grades(A))"
   ]
  },
  {
   "cell_type": "markdown",
   "metadata": {},
   "source": [
    "##### 1.30"
   ]
  },
  {
   "cell_type": "code",
   "execution_count": 47,
   "metadata": {},
   "outputs": [],
   "source": [
    "# the sign flip of r leads to even/odd split of grades\n",
    "Ap = even_grades(A)\n",
    "Am = odd_grades(A)\n",
    "assert_diff(inner(a, Ap) - a * Ap.scalar, (a*Ap - Ap*a)/2)\n",
    "assert_diff(a ^ Ap, (a*Ap + Ap*a)/2)\n",
    "assert_diff(inner(a, Am), (a*Am + Am*a)/2)\n",
    "assert_diff(a ^ Am, (a*Am - Am*a)/2)"
   ]
  },
  {
   "cell_type": "code",
   "execution_count": 48,
   "metadata": {},
   "outputs": [
    {
     "data": {
      "text/plain": [
       "1.1102230246251565e-16"
      ]
     },
     "execution_count": 48,
     "metadata": {},
     "output_type": "execute_result"
    }
   ],
   "source": [
    "#1.31\n",
    "max_diff(a * A, inner(a,A) + (a^A))"
   ]
  },
  {
   "cell_type": "markdown",
   "metadata": {},
   "source": [
    "##### 1.32"
   ]
  },
  {
   "cell_type": "code",
   "execution_count": 49,
   "metadata": {},
   "outputs": [
    {
     "data": {
      "text/plain": [
       "(-0.342,\n",
       " -0.342 + 0.0798 𝐞₁₂ + -0.163 𝐞₁₃ + 0.579 𝐞₁₄ + -0.173 𝐞₂₃ + 0.231 𝐞₂₄ + 0.785 𝐞₃₄,\n",
       " -0.342)"
      ]
     },
     "execution_count": 49,
     "metadata": {},
     "output_type": "execute_result"
    }
   ],
   "source": [
    "a|b, a*b, (a*b + b*a)/2"
   ]
  },
  {
   "cell_type": "markdown",
   "metadata": {},
   "source": [
    "##### 1.33"
   ]
  },
  {
   "cell_type": "code",
   "execution_count": null,
   "metadata": {},
   "outputs": [
    {
     "data": {
      "text/plain": [
       "1.6653345369377348e-16"
      ]
     },
     "execution_count": 50,
     "metadata": {},
     "output_type": "execute_result"
    }
   ],
   "source": [
    "r = 6\n",
    "def random_r_vectors(r, alg):\n",
    "    return [random_multivector(alg).grade(1) for _ in range(r)]\n",
    "\n",
    "vectors = random_r_vectors(r, alg)\n",
    "\n",
    "from functools import reduce\n",
    "\n",
    "def product(vectors):\n",
    "    return reduce(lambda a, b: a*b, vectors)\n",
    "\n",
    "prods = product(vectors)\n",
    "S = alg.multivector()\n",
    "for i, v in enumerate(vectors):\n",
    "    _vectors = vectors.copy()\n",
    "    _vectors.pop(i)\n",
    "    S += (-1)**(i)*(a | v)*product(_vectors)\n",
    "\n",
    "max_diff(inner(a, prods), S)\n"
   ]
  },
  {
   "cell_type": "code",
   "execution_count": 51,
   "metadata": {},
   "outputs": [
    {
     "data": {
      "text/plain": [
       "1.8041124150158794e-16"
      ]
     },
     "execution_count": 51,
     "metadata": {},
     "output_type": "execute_result"
    }
   ],
   "source": [
    "#1.34\n",
    "_v = vectors.copy()\n",
    "_v.append(a)\n",
    "def cyclic_reorder(_v, k):\n",
    "    return _v[k:]+_v[:k]\n",
    "\n",
    "S = (product(cyclic_reorder(_v, -1)) - (-1)**r * product(_v))/2\n",
    "max_diff(inner(a, prods), S)"
   ]
  },
  {
   "cell_type": "markdown",
   "metadata": {},
   "source": [
    "##### 1.36"
   ]
  },
  {
   "cell_type": "code",
   "execution_count": 52,
   "metadata": {},
   "outputs": [
    {
     "data": {
      "text/plain": [
       "[1, 3]"
      ]
     },
     "execution_count": 52,
     "metadata": {},
     "output_type": "execute_result"
    }
   ],
   "source": [
    "r, s = 2, 3\n",
    "Ar = A.grade(r)\n",
    "Bs = B.grade(s)\n",
    "def nonzero_grades(A, tol=1e-6):\n",
    "    grades = []\n",
    "    for k in range(alg.d+1):\n",
    "        Ak = A.grade(k)[:]\n",
    "        if isinstance(Ak, float):\n",
    "            Ak = [Ak]\n",
    "        for v in Ak:\n",
    "            if abs(v) > tol:\n",
    "                grades.append(k)\n",
    "                break\n",
    "    return grades\n",
    "\n",
    "nonzero_grades(Ar * Bs)"
   ]
  },
  {
   "cell_type": "code",
   "execution_count": 53,
   "metadata": {},
   "outputs": [
    {
     "data": {
      "text/plain": [
       "(1 𝐞₃, -1 𝐞₁₃₄)"
      ]
     },
     "execution_count": 53,
     "metadata": {},
     "output_type": "execute_result"
    }
   ],
   "source": [
    "e12 * e123, e12 * e234"
   ]
  },
  {
   "cell_type": "markdown",
   "metadata": {},
   "source": [
    "##### 1.41"
   ]
  },
  {
   "cell_type": "code",
   "execution_count": 54,
   "metadata": {},
   "outputs": [
    {
     "data": {
      "text/plain": [
       "(-1.0 + 0.39 𝐞₁ + -0.0941 𝐞₂ + -0.0874 𝐞₃ + 0.903 𝐞₄ + -1.24 𝐞₁₂ + 0.115 𝐞₁₃ + 0.773 𝐞₁₄ + 0.52 𝐞₂₃ + 1.05 𝐞₂₄ + 0.226 𝐞₃₄ + 0.0858 𝐞₁₂₃ + -0.17 𝐞₁₂₄ + 0.0691 𝐞₁₃₄ + 0.144 𝐞₂₃₄,\n",
       " -1.0 + 0.39 𝐞₁ + -0.0941 𝐞₂ + -0.0874 𝐞₃ + 0.903 𝐞₄ + -1.24 𝐞₁₂ + 0.115 𝐞₁₃ + 0.773 𝐞₁₄ + 0.52 𝐞₂₃ + 1.05 𝐞₂₄ + 0.226 𝐞₃₄ + 0.0858 𝐞₁₂₃ + -0.17 𝐞₁₂₄ + 0.0691 𝐞₁₃₄ + 0.144 𝐞₂₃₄ + 1.11e-16 𝐞₁₂₃₄,\n",
       " -1.0 + 0.39 𝐞₁ + -0.0941 𝐞₂ + -0.0874 𝐞₃ + 0.903 𝐞₄ + -1.24 𝐞₁₂ + 0.115 𝐞₁₃ + 0.773 𝐞₁₄ + 0.52 𝐞₂₃ + 1.05 𝐞₂₄ + 0.226 𝐞₃₄ + 0.0858 𝐞₁₂₃ + -0.17 𝐞₁₂₄ + 0.0691 𝐞₁₃₄ + 0.144 𝐞₂₃₄,\n",
       " -0.391 𝐞₁ + -0.188 𝐞₂ + -0.463 𝐞₃ + -0.233 𝐞₄ + -0.291 𝐞₁₂ + 1.33 𝐞₁₃ + 1.1 𝐞₁₄ + 0.983 𝐞₂₃ + 0.705 𝐞₂₄ + 0.516 𝐞₃₄ + -0.399 𝐞₁₂₃ + -0.435 𝐞₁₂₄ + -1.21 𝐞₁₃₄ + -0.307 𝐞₂₃₄ + 0.438 𝐞₁₂₃₄,\n",
       " -0.391 𝐞₁ + -0.188 𝐞₂ + -0.463 𝐞₃ + -0.233 𝐞₄ + -0.291 𝐞₁₂ + 1.33 𝐞₁₃ + 1.1 𝐞₁₄ + 0.983 𝐞₂₃ + 0.705 𝐞₂₄ + 0.516 𝐞₃₄ + -0.399 𝐞₁₂₃ + -0.435 𝐞₁₂₄ + -1.21 𝐞₁₃₄ + -0.307 𝐞₂₃₄ + 0.438 𝐞₁₂₃₄,\n",
       " 1.11e-16 + -0.391 𝐞₁ + -0.188 𝐞₂ + -0.463 𝐞₃ + -0.233 𝐞₄ + -0.291 𝐞₁₂ + 1.33 𝐞₁₃ + 1.1 𝐞₁₄ + 0.983 𝐞₂₃ + 0.705 𝐞₂₄ + 0.516 𝐞₃₄ + -0.399 𝐞₁₂₃ + -0.435 𝐞₁₂₄ + -1.21 𝐞₁₃₄ + -0.307 𝐞₂₃₄ + 0.438 𝐞₁₂₃₄)"
      ]
     },
     "execution_count": 54,
     "metadata": {},
     "output_type": "execute_result"
    }
   ],
   "source": [
    "r = 3\n",
    "Ar = A.grade(r)\n",
    "(\n",
    "    inner(a, (Ar * B)),\n",
    "    (a | Ar)*B + (-1)**r*Ar*inner(a,B),\n",
    "    (a ^ Ar)*B - (-1)**r*Ar*(a^B),\n",
    "    (a ^ (Ar * B)),\n",
    "    (a ^ Ar)*B - (-1)**r*Ar*inner(a,B),\n",
    "    (a | Ar)*B + (-1)**r*Ar*(a^B)\n",
    "    )"
   ]
  },
  {
   "cell_type": "markdown",
   "metadata": {},
   "source": [
    "##### 1.57"
   ]
  },
  {
   "cell_type": "code",
   "execution_count": 55,
   "metadata": {},
   "outputs": [
    {
     "data": {
      "text/plain": [
       "(0.235 𝐞₁ + -0.212 𝐞₂ + 0.106 𝐞₃ + 0.331 𝐞₄ + 0.0939 𝐞₁₂ + -0.457 𝐞₁₃ + -0.283 𝐞₁₄ + -1.06 𝐞₂₃ + 0.15 𝐞₂₄ + -0.589 𝐞₃₄ + -0.265 𝐞₁₂₃ + 0.909 𝐞₁₂₄ + 1.89 𝐞₁₃₄ + 1.82 𝐞₂₃₄ + -0.883 𝐞₁₂₃₄,\n",
       " 1.56e-16 + 0.235 𝐞₁ + -0.212 𝐞₂ + 0.106 𝐞₃ + 0.331 𝐞₄ + 0.0939 𝐞₁₂ + -0.457 𝐞₁₃ + -0.283 𝐞₁₄ + -1.06 𝐞₂₃ + 0.15 𝐞₂₄ + -0.589 𝐞₃₄ + -0.265 𝐞₁₂₃ + 0.909 𝐞₁₂₄ + 1.89 𝐞₁₃₄ + 1.82 𝐞₂₃₄ + -0.883 𝐞₁₂₃₄)"
      ]
     },
     "execution_count": 55,
     "metadata": {},
     "output_type": "execute_result"
    }
   ],
   "source": [
    "A.cp(B*C), A.cp(B)*C + B*A.cp(C)"
   ]
  },
  {
   "cell_type": "markdown",
   "metadata": {},
   "source": [
    "##### 1.62"
   ]
  },
  {
   "cell_type": "code",
   "execution_count": 56,
   "metadata": {},
   "outputs": [
    {
     "data": {
      "text/plain": [
       "(0.406 𝐞₁₂₃ + 0.533 𝐞₁₂₄ + 2.32 𝐞₁₃₄ + 2.61 𝐞₂₃₄,\n",
       " -0.886 𝐞₁ + -0.84 𝐞₂ + -0.505 𝐞₃ + 0.129 𝐞₄)"
      ]
     },
     "execution_count": 56,
     "metadata": {},
     "output_type": "execute_result"
    }
   ],
   "source": [
    "r = 1\n",
    "Ar = A.grade(r)\n",
    "B2 = B.grade(2)\n",
    "B2*Ar + Ar*B2, B2.cp(Ar)"
   ]
  },
  {
   "cell_type": "code",
   "execution_count": 57,
   "metadata": {},
   "outputs": [
    {
     "data": {
      "text/plain": [
       "-1 𝐞₂₃"
      ]
     },
     "execution_count": 57,
     "metadata": {},
     "output_type": "execute_result"
    }
   ],
   "source": [
    "#1.69\n",
    "e12.cp(e13)"
   ]
  },
  {
   "cell_type": "code",
   "execution_count": 58,
   "metadata": {},
   "outputs": [
    {
     "data": {
      "text/plain": [
       "-0.144 𝐞₁₂₃₄"
      ]
     },
     "execution_count": 58,
     "metadata": {},
     "output_type": "execute_result"
    }
   ],
   "source": [
    "#2.2\n",
    "n = A.grades[-1]\n",
    "vectors = random_r_vectors(n, alg)\n",
    "\n",
    "def wedge(vectors):\n",
    "    if len(vectors) == 0:\n",
    "        return 1\n",
    "    return reduce(lambda a, b: a^b, vectors)\n",
    "\n",
    "An = wedge(vectors)\n",
    "An"
   ]
  },
  {
   "cell_type": "code",
   "execution_count": 59,
   "metadata": {},
   "outputs": [
    {
     "data": {
      "text/plain": [
       "0"
      ]
     },
     "execution_count": 59,
     "metadata": {},
     "output_type": "execute_result"
    }
   ],
   "source": [
    "#2.4\n",
    "wedge(random_r_vectors(n+1, alg))"
   ]
  },
  {
   "cell_type": "code",
   "execution_count": 60,
   "metadata": {},
   "outputs": [
    {
     "data": {
      "text/plain": [
       "(0.732 𝐞₁ + 0.352 𝐞₂ + 0.868 𝐞₃ + 0.438 𝐞₄,\n",
       " 0.732 𝐞₁ + 0.352 𝐞₂ + 0.868 𝐞₃ + 0.438 𝐞₄)"
      ]
     },
     "execution_count": 60,
     "metadata": {},
     "output_type": "execute_result"
    }
   ],
   "source": [
    "#2.6\n",
    "((a | An) / An), a"
   ]
  },
  {
   "cell_type": "code",
   "execution_count": 61,
   "metadata": {},
   "outputs": [
    {
     "data": {
      "text/plain": [
       "(0.957 + 1.57 𝐞₁ + 1.37 𝐞₂ + 0.455 𝐞₃ + 1.47 𝐞₄ + -3.08 𝐞₁₂ + -1.12 𝐞₁₃ + 1.07 𝐞₁₄ + -0.0846 𝐞₂₃ + 3.82 𝐞₂₄ + 1.36 𝐞₃₄,\n",
       " 0.957 + 0.321 𝐞₁ + 0.905 𝐞₂ + 0.788 𝐞₃ + 0.472 𝐞₄ + 0.533 𝐞₁₂ + 0.651 𝐞₁₃ + 0.46 𝐞₁₄ + 0.8 𝐞₂₃ + 0.374 𝐞₂₄ + 0.988 𝐞₃₄ + 0.0361 𝐞₁₂₃ + 0.173 𝐞₁₂₄ + 0.542 𝐞₁₃₄ + 0.206 𝐞₂₃₄ + 0.0874 𝐞₁₂₃₄)"
      ]
     },
     "execution_count": 61,
     "metadata": {},
     "output_type": "execute_result"
    }
   ],
   "source": [
    "#2.9a use the build-in inner product instead\n",
    "def random_r_blade(r, alg):\n",
    "    return wedge(random_r_vectors(r, alg))\n",
    "\n",
    "def P(a, A):\n",
    "    return (1/(A**2)[0])*((a|A)|A)\n",
    "\n",
    "A2 = random_r_blade(2, alg)\n",
    "P(B, A2), B"
   ]
  },
  {
   "cell_type": "code",
   "execution_count": 62,
   "metadata": {},
   "outputs": [
    {
     "data": {
      "text/plain": [
       "0.957 + 1.57 𝐞₁ + 1.37 𝐞₂ + 0.455 𝐞₃ + 1.47 𝐞₄ + -3.08 𝐞₁₂ + -1.12 𝐞₁₃ + 1.07 𝐞₁₄ + -0.0846 𝐞₂₃ + 3.82 𝐞₂₄ + 1.36 𝐞₃₄ + -3.15e-18 𝐞₁₂₃ + -6.14e-17 𝐞₁₂₄ + 1.43e-17 𝐞₁₃₄ + 2e-17 𝐞₂₃₄ + -1.22e-17 𝐞₁₂₃₄"
      ]
     },
     "execution_count": 62,
     "metadata": {},
     "output_type": "execute_result"
    }
   ],
   "source": [
    "# Is this projection equivalent to its outermorphism?\n",
    "# Yes, and it's by 2.13d\n",
    "from gc_utils import outermorphism\n",
    "outermorphism(lambda x: P(x, A2), B, alg)"
   ]
  },
  {
   "cell_type": "code",
   "execution_count": 63,
   "metadata": {},
   "outputs": [
    {
     "data": {
      "text/plain": [
       "[(0.957, 0.957),\n",
       " (1.57 𝐞₁ + 1.37 𝐞₂ + 0.455 𝐞₃ + 1.47 𝐞₄,\n",
       "  0.321 𝐞₁ + 0.905 𝐞₂ + 0.788 𝐞₃ + 0.472 𝐞₄),\n",
       " (-3.08 𝐞₁₂ + -1.12 𝐞₁₃ + 1.07 𝐞₁₄ + -0.0846 𝐞₂₃ + 3.82 𝐞₂₄ + 1.36 𝐞₃₄,\n",
       "  0.533 𝐞₁₂ + 0.651 𝐞₁₃ + 0.46 𝐞₁₄ + 0.8 𝐞₂₃ + 0.374 𝐞₂₄ + 0.988 𝐞₃₄),\n",
       " (1.62e-16 𝐞₂ + -1.52e-17 𝐞₄,\n",
       "  0.0361 𝐞₁₂₃ + 0.173 𝐞₁₂₄ + 0.542 𝐞₁₃₄ + 0.206 𝐞₂₃₄),\n",
       " (2.03e-17, 0.0874 𝐞₁₂₃₄)]"
      ]
     },
     "execution_count": 63,
     "metadata": {},
     "output_type": "execute_result"
    }
   ],
   "source": [
    "#2.9b Indeed just the scalar part equal, and grades greater than projected dimension goes zero\n",
    "[(P(B.grade(r), A2), B.grade(r)) for r in B.grades]"
   ]
  },
  {
   "cell_type": "markdown",
   "metadata": {},
   "source": [
    "##### 2.10a \n",
    "In PGA, the projection is extended for s >= n:"
   ]
  },
  {
   "cell_type": "code",
   "execution_count": 64,
   "metadata": {},
   "outputs": [
    {
     "data": {
      "text/plain": [
       "(1.62e-16 𝐞₂ + -1.52e-17 𝐞₄,\n",
       " 1.62e-16 𝐞₂ + -1.52e-17 𝐞₄ + 0.141 𝐞₁₂₃ + 0.31 𝐞₁₂₄ + 0.161 𝐞₁₃₄ + 0.183 𝐞₂₃₄)"
      ]
     },
     "execution_count": 64,
     "metadata": {},
     "output_type": "execute_result"
    }
   ],
   "source": [
    "def P_(a, A):\n",
    "    return (1/(A**2)[0])*((a|A)*A)\n",
    "B3 = B.grade(3)\n",
    "\n",
    "P(B3, A2), P_(B3, A2), "
   ]
  },
  {
   "cell_type": "code",
   "execution_count": 65,
   "metadata": {},
   "outputs": [],
   "source": [
    "#2.13c\n",
    "assert_diff(P(B, A2), P(P(B, A2), A2))"
   ]
  },
  {
   "cell_type": "markdown",
   "metadata": {},
   "source": [
    "##### 2.13d \n",
    "But the extended projection doesn't satisfy the outermorphism property"
   ]
  },
  {
   "cell_type": "code",
   "execution_count": null,
   "metadata": {},
   "outputs": [
    {
     "data": {
      "text/plain": [
       "(0.253 + -0.363 𝐞₁ + 0.446 𝐞₂ + 0.172 𝐞₃ + -0.605 𝐞₄ + -2.59 𝐞₁₂ + -0.938 𝐞₁₃ + 0.9 𝐞₁₄ + -0.071 𝐞₂₃ + 3.21 𝐞₂₄ + 1.14 𝐞₃₄,\n",
       " 0.253 + -0.363 𝐞₁ + 0.446 𝐞₂ + 0.172 𝐞₃ + -0.605 𝐞₄ + -2.59 𝐞₁₂ + -0.938 𝐞₁₃ + 0.9 𝐞₁₄ + -0.071 𝐞₂₃ + 3.21 𝐞₂₄ + 1.14 𝐞₃₄ + 1.11e-15 𝐞₁₂₃ + -1.33e-15 𝐞₁₂₄ + -4.44e-16 𝐞₁₃₄ + 1.3e-15 𝐞₂₃₄,\n",
       " 0.253 + -0.363 𝐞₁ + 0.446 𝐞₂ + 0.172 𝐞₃ + -0.605 𝐞₄ + -2.59 𝐞₁₂ + -0.938 𝐞₁₃ + 0.9 𝐞₁₄ + -0.071 𝐞₂₃ + 3.21 𝐞₂₄ + 1.14 𝐞₃₄ + -0.0198 𝐞₁₂₃ + 0.874 𝐞₁₂₄ + 0.31 𝐞₁₃₄ + -0.000517 𝐞₂₃₄ + 1.37 𝐞₁₂₃₄,\n",
       " 0.253 + -0.363 𝐞₁ + 0.446 𝐞₂ + 0.172 𝐞₃ + -0.605 𝐞₄ + -2.59 𝐞₁₂ + -0.938 𝐞₁₃ + 0.9 𝐞₁₄ + -0.071 𝐞₂₃ + 3.21 𝐞₂₄ + 1.14 𝐞₃₄ + 0.393 𝐞₁₂₃ + 0.906 𝐞₁₂₄ + 0.465 𝐞₁₃₄ + 0.512 𝐞₂₃₄ + 0.314 𝐞₁₂₃₄)"
      ]
     },
     "execution_count": 66,
     "metadata": {},
     "output_type": "execute_result"
    }
   ],
   "source": [
    "P(B^C, A2), P(B, A2)^P(C, A2), P_(B^C, A2), P_(B, A2)^P_(C, A2)"
   ]
  },
  {
   "cell_type": "markdown",
   "metadata": {},
   "source": [
    "##### 2.14b\n",
    "Note that this equation holds for veoctos only. \n",
    "\n",
    "The extension of summation by outermorphism doesn't preserve its summation structure.\n",
    "\n",
    "Or another explanation: the expansion of a multivector uses a scalar product, \n",
    "\n",
    "which happens to be the inner product for vectors."
   ]
  },
  {
   "cell_type": "code",
   "execution_count": 67,
   "metadata": {},
   "outputs": [
    {
     "data": {
      "text/plain": [
       "(0.732 𝐞₁ + 0.352 𝐞₂ + 0.868 𝐞₃,\n",
       " 0.732 𝐞₁ + 0.352 𝐞₂ + 0.868 𝐞₃,\n",
       " 0.604 + 0.826 𝐞₁ + 0.859 𝐞₂ + 0.19 𝐞₃ + 0.131 𝐞₁₂ + 0.843 𝐞₁₃ + 0.588 𝐞₂₃ + 0.379 𝐞₁₂₃,\n",
       " 1.21 + 0.826 𝐞₁ + 0.859 𝐞₂ + 0.19 𝐞₃ + 0.131 𝐞₁₂)"
      ]
     },
     "execution_count": 67,
     "metadata": {},
     "output_type": "execute_result"
    }
   ],
   "source": [
    "P(a, e123), P(a, e12) + P(a, e3), P(A, e123), P(A, e12) + P(A, e3)"
   ]
  },
  {
   "cell_type": "code",
   "execution_count": 68,
   "metadata": {},
   "outputs": [
    {
     "data": {
      "text/plain": [
       "(0.131 𝐞₁₂ + 0.843 𝐞₁₃ + 0.311 𝐞₁₄ + 0.588 𝐞₂₃ + 0.0239 𝐞₂₄ + 0.701 𝐞₃₄,\n",
       " 0.131 𝐞₁₂ + 0.843 𝐞₁₃ + 0.588 𝐞₂₃,\n",
       " 0.131 𝐞₁₂,\n",
       " 0.131 𝐞₁₂ + 0.843 𝐞₁₃ + 0.588 𝐞₂₃,\n",
       " 0.131 𝐞₁₂ + 0.843 𝐞₁₃ + 0.588 𝐞₂₃ + 0.701 𝐞₃₄)"
      ]
     },
     "execution_count": 68,
     "metadata": {},
     "output_type": "execute_result"
    }
   ],
   "source": [
    "#2.14b\n",
    "A2 = A.grade(2)\n",
    "A2, P(A2, e123), P(A2, e12) + P(A2, e3), P_(A2, e123), P_(A2, e12) + P_(A2, e3)"
   ]
  },
  {
   "cell_type": "code",
   "execution_count": 69,
   "metadata": {},
   "outputs": [
    {
     "data": {
      "text/plain": [
       "(0.352 𝐞₂ + 0.868 𝐞₃,\n",
       " 0.352 𝐞₂ + 0.868 𝐞₃,\n",
       " 0.604 + 0.859 𝐞₂ + 0.19 𝐞₃ + 0.588 𝐞₂₃,\n",
       " 0.859 𝐞₂ + 0.19 𝐞₃ + 0.131 𝐞₁₂ + 0.843 𝐞₁₃ + 0.588 𝐞₂₃ + 0.379 𝐞₁₂₃)"
      ]
     },
     "execution_count": 69,
     "metadata": {},
     "output_type": "execute_result"
    }
   ],
   "source": [
    "#2.15b\n",
    "P(a, e23), P(a, e123) - P(a, e1), P(A, e23), P(A, e123) - P(A, e1)"
   ]
  },
  {
   "cell_type": "code",
   "execution_count": 70,
   "metadata": {},
   "outputs": [
    {
     "data": {
      "text/plain": [
       "(0.604 + 0.826 𝐞₁, 0.604 + 0.826 𝐞₁, 0.604 + 0.826 𝐞₁)"
      ]
     },
     "execution_count": 70,
     "metadata": {},
     "output_type": "execute_result"
    }
   ],
   "source": [
    "#2.15c\n",
    "P(A, e1), P(P(A, e123), e1), P(P(A, e1), e123)"
   ]
  },
  {
   "cell_type": "code",
   "execution_count": 71,
   "metadata": {},
   "outputs": [
    {
     "data": {
      "text/plain": [
       "((-1.3e-17 + 0.0787 𝐞₁ + 0.252 𝐞₂ + 0.36 𝐞₃ + 0.232 𝐞₄ + -0.132 𝐞₁₂ + -0.212 𝐞₁₃ + -0.0247 𝐞₁₄ + -0.0737 𝐞₂₃ + 0.311 𝐞₂₄ + 0.513 𝐞₃₄ + 0.0285 𝐞₁₂₃ + -0.199 𝐞₁₂₄ + -0.405 𝐞₁₃₄ + -0.303 𝐞₂₃₄ + -0.0209 𝐞₁₂₃₄,\n",
       "  0.0787 𝐞₁ + 0.252 𝐞₂ + 0.36 𝐞₃ + 0.232 𝐞₄ + -0.132 𝐞₁₂ + -0.212 𝐞₁₃ + -0.0247 𝐞₁₄ + -0.0737 𝐞₂₃ + 0.311 𝐞₂₄ + 0.513 𝐞₃₄ + 0.0285 𝐞₁₂₃ + -0.199 𝐞₁₂₄ + -0.405 𝐞₁₃₄ + -0.303 𝐞₂₃₄ + -0.0209 𝐞₁₂₃₄),\n",
       " (-0.0611 + 0.0454 𝐞₁ + 0.123 𝐞₂ + -0.35 𝐞₃ + 0.426 𝐞₄ + -0.0474 𝐞₁₂ + 0.0672 𝐞₁₃ + -0.0529 𝐞₁₄ + 0.0803 𝐞₂₃ + -0.109 𝐞₂₄ + 0.0644 𝐞₃₄ + -0.0462 𝐞₁₂₃ + 0.0717 𝐞₁₂₄ + -0.0501 𝐞₁₃₄ + -0.0157 𝐞₂₃₄ + -9.89e-18 𝐞₁₂₃₄,\n",
       "  -0.0611 + 0.0454 𝐞₁ + 0.123 𝐞₂ + -0.35 𝐞₃ + 0.426 𝐞₄ + -0.0474 𝐞₁₂ + 0.0672 𝐞₁₃ + -0.0529 𝐞₁₄ + 0.0803 𝐞₂₃ + -0.109 𝐞₂₄ + 0.0644 𝐞₃₄ + -0.0462 𝐞₁₂₃ + 0.0717 𝐞₁₂₄ + -0.0501 𝐞₁₃₄ + -0.0157 𝐞₂₃₄))"
      ]
     },
     "execution_count": 71,
     "metadata": {},
     "output_type": "execute_result"
    }
   ],
   "source": [
    "#2.16\n",
    "A2 = random_r_blade(2, alg)\n",
    "ap = P(a, A2)\n",
    "(inner(ap, B) * A2, ap ^ (B*A2)), ((ap^B)*A2, inner(ap,(B*A2)))"
   ]
  },
  {
   "cell_type": "code",
   "execution_count": 72,
   "metadata": {},
   "outputs": [
    {
     "data": {
      "text/plain": [
       "(1 𝐞₃ + 1 𝐞₄, 1 𝐞₁ + 1 𝐞₁₃₄, 1 𝐞₁ + 1 𝐞₁₃₄, 1 + -1 𝐞₁₂ + 1 𝐞₃₄)"
      ]
     },
     "execution_count": 72,
     "metadata": {},
     "output_type": "execute_result"
    }
   ],
   "source": [
    "#2.16\n",
    "B2 = e14 + e13 + e23\n",
    "(\n",
    "    e1 | B2, \n",
    "    (e1 | B2) * e13, \n",
    "    (e1 ^ (B2 * e13)), \n",
    "    B2 * e13\n",
    "    )"
   ]
  },
  {
   "cell_type": "markdown",
   "metadata": {},
   "source": [
    "##### 2.18"
   ]
  },
  {
   "cell_type": "code",
   "execution_count": 73,
   "metadata": {},
   "outputs": [
    {
     "data": {
      "text/plain": [
       "(3.47e-18 + 3.9e-18 𝐞₁ + 1.08e-17 𝐞₂ + -2.6e-18 𝐞₃ + -5.2e-18 𝐞₄ + -0.115 𝐞₁₂ + -0.184 𝐞₁₃ + 0.000881 𝐞₁₄ + -0.0724 𝐞₂₃ + 0.00278 𝐞₂₄ + 0.0039 𝐞₃₄ + 0.00491 𝐞₁₂₃ + 0.16 𝐞₁₂₄ + 0.256 𝐞₁₃₄ + 0.1 𝐞₂₃₄ + 0.0109 𝐞₁₂₃₄,\n",
       " -0.115 𝐞₁₂ + -0.184 𝐞₁₃ + 0.000881 𝐞₁₄ + -0.0724 𝐞₂₃ + 0.00278 𝐞₂₄ + 0.0039 𝐞₃₄ + 0.00491 𝐞₁₂₃ + 0.16 𝐞₁₂₄ + 0.256 𝐞₁₃₄ + 0.1 𝐞₂₃₄ + 0.0109 𝐞₁₂₃₄,\n",
       " -3.47e-18 + 0.0802 𝐞₁ + 0.0291 𝐞₂ + -0.00389 𝐞₃ + 0.00171 𝐞₄ + -0.115 𝐞₁₂ + -0.184 𝐞₁₃ + 0.000881 𝐞₁₄ + -0.0724 𝐞₂₃ + 0.00278 𝐞₂₄ + 0.0039 𝐞₃₄ + 0.0252 𝐞₁₂₃ + 0.163 𝐞₁₂₄ + 0.253 𝐞₁₃₄ + 0.1 𝐞₂₃₄ + 0.0109 𝐞₁₂₃₄,\n",
       " 0.0802 𝐞₁ + 0.0291 𝐞₂ + -0.00389 𝐞₃ + 0.00171 𝐞₄ + -0.115 𝐞₁₂ + -0.184 𝐞₁₃ + 0.000881 𝐞₁₄ + -0.0724 𝐞₂₃ + 0.00278 𝐞₂₄ + 0.0039 𝐞₃₄ + 0.0252 𝐞₁₂₃ + 0.163 𝐞₁₂₄ + 0.253 𝐞₁₃₄ + 0.1 𝐞₂₃₄ + 0.0109 𝐞₁₂₃₄)"
      ]
     },
     "execution_count": 73,
     "metadata": {},
     "output_type": "execute_result"
    }
   ],
   "source": [
    "# The restriction of C.grade <= B.grade can be replaced by left contraction\n",
    "C2 = C.grade(2) + C.grade(1)\n",
    "B3 = B.grade(3)\n",
    "PC2 = P(C2, A2)\n",
    "PC = P(C, A2)\n",
    "(PC2 | B3) * A2, PC2 ^ (B3 * A2), alg.lc(PC, B3) * A2, PC ^ (B3 * A2)"
   ]
  },
  {
   "cell_type": "markdown",
   "metadata": {},
   "source": [
    "#### Set/Subspace Language\n",
    "##### 2.21\n",
    "a blade represents a subspace"
   ]
  },
  {
   "cell_type": "code",
   "execution_count": 74,
   "metadata": {},
   "outputs": [
    {
     "data": {
      "text/plain": [
       "(1 𝐞₁₂₃, 1 𝐞₁₂₃)"
      ]
     },
     "execution_count": 74,
     "metadata": {},
     "output_type": "execute_result"
    }
   ],
   "source": [
    "# direct sum\n",
    "e12 ^ e3, e12 ^ (e1 + e3)"
   ]
  },
  {
   "cell_type": "code",
   "execution_count": 75,
   "metadata": {},
   "outputs": [],
   "source": [
    "def max_grade(B):\n",
    "    for r in B.grades[::-1]:\n",
    "        Br = B.grade(r)\n",
    "        if np.max(np.abs(Br[:])) > 1e-8:\n",
    "            return Br"
   ]
  },
  {
   "cell_type": "markdown",
   "metadata": {},
   "source": [
    "##### 2.22\n",
    "How to find common subspace? Join, but we need an addition information:\n",
    "\n",
    "a common subspace containing A and B where A.dual is independent of B.dual.\n",
    "\n",
    "If they happen to span the algebra, we can use the build-in regressive product,\n",
    "\n",
    "which is dual -> wedge -> undual using Hodge dual"
   ]
  },
  {
   "cell_type": "code",
   "execution_count": null,
   "metadata": {},
   "outputs": [
    {
     "data": {
      "text/plain": [
       "(0.0149 𝐞₁₂ + 0.0233 𝐞₁₃ + -0.0643 𝐞₁₄ + 0.0196 𝐞₂₃ + -0.154 𝐞₂₄ + -0.156 𝐞₃₄,\n",
       " 0.0149 𝐞₁₂ + 0.0233 𝐞₁₃ + -0.0643 𝐞₁₄ + 0.0196 𝐞₂₃ + -0.154 𝐞₂₄ + -0.156 𝐞₃₄,\n",
       " array([3.83125807, 3.83125807, 3.83125807, 3.83125807, 3.83125807,\n",
       "        3.83125807]))"
      ]
     },
     "execution_count": 86,
     "metadata": {},
     "output_type": "execute_result"
    }
   ],
   "source": [
    "# common factor axiom\n",
    "from gc_utils import terms_ratio\n",
    "B2 = random_r_blade(2,alg)\n",
    "c = random_vector(alg)\n",
    "(a ^ B2).rp(B2 ^ c), B2.rp(a^B2^c), terms_ratio(B2, B2.rp(a^B2^c))"
   ]
  },
  {
   "cell_type": "code",
   "execution_count": 87,
   "metadata": {},
   "outputs": [
    {
     "data": {
      "text/plain": [
       "(-0.0318 𝐞₁₂₃ + 0.0162 𝐞₁₂₄ + 0.0396 𝐞₁₃₄ + 0.0353 𝐞₂₃₄,\n",
       " -0.0318 𝐞₁₂₃ + 0.0162 𝐞₁₂₄ + 0.0396 𝐞₁₃₄ + 0.0353 𝐞₂₃₄,\n",
       " -0.0353 𝐞₁ + -0.0396 𝐞₂ + 0.0162 𝐞₃ + 0.0318 𝐞₄)"
      ]
     },
     "execution_count": 87,
     "metadata": {},
     "output_type": "execute_result"
    }
   ],
   "source": [
    "# use rp to find the common subspace\n",
    "B3 = random_r_blade(3, alg)\n",
    "AB = A2 * B3\n",
    "C = A2.rp(B3)\n",
    "\n",
    "max_grade(AB), (A2|C) ^ (C|B3) / C**2, C"
   ]
  },
  {
   "cell_type": "code",
   "execution_count": 88,
   "metadata": {},
   "outputs": [
    {
     "data": {
      "text/plain": [
       "(-1.11e-16 𝐞₁₂₃₄,\n",
       " 1.11e-16,\n",
       " 0.182 + -0.672 𝐞₁₂ + 0.224 𝐞₁₃ + 1.03 𝐞₁₄ + 0.187 𝐞₂₃ + -0.294 𝐞₂₄ + 0.385 𝐞₃₄ + 1.11e-16 𝐞₁₂₃₄)"
      ]
     },
     "execution_count": 88,
     "metadata": {},
     "output_type": "execute_result"
    }
   ],
   "source": [
    "# But when both A and B in a smaller subspace, the build-in regressive product fails:\n",
    "vectors = random_r_vectors(3, alg) # the smaller subspace\n",
    "A2 = wedge(vectors[:2])\n",
    "B2 = wedge(vectors[1:])\n",
    "B2.dual() ^ A2.dual(), A2.rp(B2), A2 * B2"
   ]
  },
  {
   "cell_type": "code",
   "execution_count": 89,
   "metadata": {},
   "outputs": [
    {
     "data": {
      "text/plain": [
       "-0.182 + -0.672 𝐞₁₂ + 0.224 𝐞₁₃ + 1.03 𝐞₁₄ + 0.187 𝐞₂₃ + -0.294 𝐞₂₄ + 0.385 𝐞₃₄ + -1.11e-16 𝐞₁₂₃₄"
      ]
     },
     "execution_count": 89,
     "metadata": {},
     "output_type": "execute_result"
    }
   ],
   "source": [
    "B2.dual() * A2.dual()"
   ]
  },
  {
   "cell_type": "markdown",
   "metadata": {},
   "source": [
    "##### vector split of a blade\n",
    "a simple method finding a common subspace:\n",
    "\n",
    "projection and contraction\n",
    "\n",
    "But maybe it's not a good practice"
   ]
  },
  {
   "cell_type": "code",
   "execution_count": 80,
   "metadata": {},
   "outputs": [
    {
     "data": {
      "text/plain": [
       "2.7755575615628914e-17"
      ]
     },
     "execution_count": 80,
     "metadata": {},
     "output_type": "execute_result"
    }
   ],
   "source": [
    "# splitting a blade into vectors\n",
    "# choose any nonorthonormal vector e.g. e1\n",
    "v1 = P(e1, A2)\n",
    "# contract the parallel part\n",
    "v2 = v1 | A2\n",
    "max_diff(v1 ^ v2 / v1**2, A2)"
   ]
  },
  {
   "cell_type": "code",
   "execution_count": null,
   "metadata": {},
   "outputs": [
    {
     "data": {
      "text/plain": [
       "(6.22e-17 𝐞₁₂₃₄, array([16.8478889, 16.8478889, 16.8478889, 16.8478889]))"
      ]
     },
     "execution_count": 81,
     "metadata": {},
     "output_type": "execute_result"
    }
   ],
   "source": [
    "# we split both blades and find out the space they span\n",
    "v3 = P(e1, B2)\n",
    "v4 = v3 | B2\n",
    "v1 ^ v2 ^v3 ^v4, terms_ratio(v1 ^ v2 ^v3, v1 ^ v2 ^v4)"
   ]
  },
  {
   "cell_type": "code",
   "execution_count": null,
   "metadata": {},
   "outputs": [
    {
     "data": {
      "text/plain": [
       "1.4699352846037073e-13"
      ]
     },
     "execution_count": 86,
     "metadata": {},
     "output_type": "execute_result"
    }
   ],
   "source": [
    "# Give a check on 2.22\n",
    "I = v1^v2^v3  # the common subspace\n",
    "C = -((B2*I) ^ (A2*I))*I\n",
    "max_diff(max_grade(A2*B2), (A2|C) ^ (C|B2) / C**2)"
   ]
  },
  {
   "cell_type": "code",
   "execution_count": 92,
   "metadata": {},
   "outputs": [
    {
     "data": {
      "text/plain": [
       "(-0.00244 𝐞₁₂₃ + -0.139 𝐞₁₂₄ + 0.113 𝐞₁₃₄ + 0.327 𝐞₂₃₄,\n",
       " [-0.00244 𝐞₂₃ + -0.139 𝐞₂₄ + 0.113 𝐞₃₄,\n",
       "  -0.00244 𝐞₁₃ + -0.139 𝐞₁₄ + -0.327 𝐞₃₄,\n",
       "  0.00244 𝐞₁₂ + 0.113 𝐞₁₄ + 0.327 𝐞₂₄,\n",
       "  0.139 𝐞₁₂ + -0.113 𝐞₁₃ + -0.327 𝐞₂₃])"
      ]
     },
     "execution_count": 92,
     "metadata": {},
     "output_type": "execute_result"
    }
   ],
   "source": [
    "B3, [e | B3 for e in alg.frame]"
   ]
  },
  {
   "cell_type": "code",
   "execution_count": 95,
   "metadata": {},
   "outputs": [
    {
     "data": {
      "text/plain": [
       "0.001 𝐞₁₂ + -4.96e-05 𝐞₁₃ + 0.0438 𝐞₁₄ + -0.00155 𝐞₂₃ + 0.0465 𝐞₂₄ + 0.0653 𝐞₃₄"
      ]
     },
     "execution_count": 95,
     "metadata": {},
     "output_type": "execute_result"
    }
   ],
   "source": [
    "(B3 | A2) | B3"
   ]
  },
  {
   "cell_type": "markdown",
   "metadata": {},
   "source": [
    "#### Factor Space\n",
    "Let B be a subspace of A, then $G^1(A)/G^1(B)$ is isomorphic to {a ^ B} where $a \\in G^1(A)$\n",
    "\n",
    "I think {a ^ B} is the line perpendicular to B. Just like plane-based geometry?"
   ]
  },
  {
   "cell_type": "code",
   "execution_count": 95,
   "metadata": {},
   "outputs": [
    {
     "data": {
      "text/plain": [
       "[-6.07e-18, -1.3e-18, 1.08e-19]"
      ]
     },
     "execution_count": 95,
     "metadata": {},
     "output_type": "execute_result"
    }
   ],
   "source": [
    "#3.1 orthogonalize\n",
    "vectors = random_r_vectors(4, alg)\n",
    "\n",
    "def gram_schmidt(vectors):\n",
    "    o_vecs = [vectors[0]]\n",
    "    Ar = vectors[0]\n",
    "    for v in vectors[1:]:\n",
    "        Ar1 = Ar ^ v\n",
    "        o_vecs.append(Ar | Ar1)\n",
    "        Ar = Ar1\n",
    "    return o_vecs\n",
    "\n",
    "\n",
    "orthvecs = gram_schmidt(vectors)\n",
    "[orthvecs[i] | orthvecs[j] for i, j in [(0,1), (2,3), (1,3)]]"
   ]
  },
  {
   "cell_type": "markdown",
   "metadata": {},
   "source": [
    "##### 3.5 reciprocal frame"
   ]
  },
  {
   "cell_type": "code",
   "execution_count": null,
   "metadata": {},
   "outputs": [
    {
     "data": {
      "text/plain": [
       "[1.0, 2.22e-16, 2.22e-16, 1.0]"
      ]
     },
     "execution_count": 96,
     "metadata": {},
     "output_type": "execute_result"
    }
   ],
   "source": [
    "def reciprocal(vectors):\n",
    "    An = wedge(vectors)\n",
    "    return [(-1)**k * wedge(vectors[:k]+vectors[k+1:])| An / An ** 2 for k in range(len(vectors))]\n",
    "\n",
    "r_vecs = reciprocal(vectors)\n",
    "[r_vecs[i]|vectors[j] for i, j in [(1,1), (2,3), (0,3), (3,3)]]"
   ]
  },
  {
   "cell_type": "code",
   "execution_count": 97,
   "metadata": {},
   "outputs": [
    {
     "data": {
      "text/plain": [
       "([(0, 1, 2), (0, 1, 3), (0, 2, 3), (1, 2, 3)],\n",
       " [0.0908 𝐞₁ + 0.128 𝐞₂ + 0.815 𝐞₃ + 0.348 𝐞₄,\n",
       "  0.873 𝐞₁ + 0.686 𝐞₂ + 0.573 𝐞₃ + 0.258 𝐞₄,\n",
       "  0.527 𝐞₁ + 0.825 𝐞₂ + 0.791 𝐞₃ + 0.64 𝐞₄])"
      ]
     },
     "execution_count": 97,
     "metadata": {},
     "output_type": "execute_result"
    }
   ],
   "source": [
    "from itertools import combinations\n",
    "\n",
    "def multiindex(n, r):\n",
    "    return list(combinations(range(n), r))\n",
    "multiindex(4,3), [vectors[i] for i in multiindex(4,3)[0]]"
   ]
  },
  {
   "cell_type": "code",
   "execution_count": 99,
   "metadata": {},
   "outputs": [
    {
     "data": {
      "text/plain": [
       "[0.249 𝐞₁₂₃ + 0.091 𝐞₁₂₄ + -0.195 𝐞₁₃₄ + -0.139 𝐞₂₃₄,\n",
       " -0.133 𝐞₁₂₃ + -0.0889 𝐞₁₂₄ + -0.428 𝐞₁₃₄ + -0.318 𝐞₂₃₄,\n",
       " -0.183 𝐞₁₂₃ + -0.0611 𝐞₁₂₄ + -0.145 𝐞₁₃₄ + -0.359 𝐞₂₃₄,\n",
       " 0.147 𝐞₁₂₃ + 0.344 𝐞₁₂₄ + 0.199 𝐞₁₃₄ + -0.0257 𝐞₂₃₄]"
      ]
     },
     "execution_count": 99,
     "metadata": {},
     "output_type": "execute_result"
    }
   ],
   "source": [
    "#3.9 r-vector frame\n",
    "from itertools import combinations\n",
    "\n",
    "def r_indexes(n, r):\n",
    "    return list(combinations(range(n), r))\n",
    "\n",
    "def extract(vectors, indexes):\n",
    "    return [vectors[i] for i in indexes]\n",
    "\n",
    "def r_vector_frame(vectors, r, reverse=False):\n",
    "    n = len(vectors)\n",
    "    indexes = r_indexes(n, r)\n",
    "    if reverse:\n",
    "        return [wedge(extract(vectors, i[::-1])) for i in indexes]\n",
    "    return [wedge(extract(vectors, i)) for i in indexes]\n",
    "\n",
    "r_vector_frame(vectors, 3)"
   ]
  },
  {
   "cell_type": "code",
   "execution_count": 100,
   "metadata": {},
   "outputs": [],
   "source": [
    "# I found it cumbersome to deal with signs...\n",
    "def find_complement(combo, full):\n",
    "    return [item for item in full if item not in combo]\n",
    "\n",
    "def comp_indexes(indexes, full):\n",
    "    return [find_complement(comb, full) for comb in indexes]\n",
    "\n",
    "# def r_vector_complement_frame(vectors, r):\n",
    "#     return [wedge(find_complement(comb, vectors)) for comb in combinations(vectors, r)]"
   ]
  },
  {
   "cell_type": "code",
   "execution_count": 101,
   "metadata": {},
   "outputs": [
    {
     "data": {
      "text/plain": [
       "[1.0, 9.71e-17, 1.0, -6.94e-17]"
      ]
     },
     "execution_count": 101,
     "metadata": {},
     "output_type": "execute_result"
    }
   ],
   "source": [
    "#3.11\n",
    "r = 3\n",
    "framer = r_vector_frame(vectors, r)\n",
    "framerr = r_vector_frame(r_vecs, r)\n",
    "[(-1)**(r*(r-1)/2)*framerr[i] | framer[j] for i,j in [(1,1), (1,3), (3,3), (2,3)]]"
   ]
  },
  {
   "cell_type": "markdown",
   "metadata": {},
   "source": [
    "##### 3.14 reciprocal multiframe"
   ]
  },
  {
   "cell_type": "code",
   "execution_count": null,
   "metadata": {},
   "outputs": [
    {
     "data": {
      "text/plain": [
       "[1.0, -1.11e-16, , -2.78e-17, 1.0, -2.22e-16, -2.78e-17, 1.0, 2.78e-17, 1.0]"
      ]
     },
     "execution_count": 102,
     "metadata": {},
     "output_type": "execute_result"
    }
   ],
   "source": [
    "n = len(vectors)\n",
    "r = 3\n",
    "indexes = r_indexes(n, r)\n",
    "[wedge(extract(r_vecs, i[::-1])) | wedge(extract(vectors, j)) for k,j in enumerate(indexes) for i in indexes[k:]]"
   ]
  },
  {
   "cell_type": "code",
   "execution_count": 70,
   "metadata": {},
   "outputs": [
    {
     "data": {
      "text/plain": [
       "[3.33e-16, 1.0, 0, 1.0]"
      ]
     },
     "execution_count": 70,
     "metadata": {},
     "output_type": "execute_result"
    }
   ],
   "source": [
    "#3.19\n",
    "def multi_frame(vectors, reverse=False): # reverse for reciprocal frames\n",
    "    multi_frame = [1]\n",
    "    for r in range(1, len(vectors)+1):\n",
    "        multi_frame += r_vector_frame(vectors, r, reverse)\n",
    "    return multi_frame\n",
    "rf = multi_frame(r_vecs[:2], reverse=True)\n",
    "f = multi_frame(vectors[:2])\n",
    "\n",
    "[rf[i].sp(f[j]) for i, j in [(1,2), (1,1), (1,3), (3,3)]]"
   ]
  },
  {
   "cell_type": "markdown",
   "metadata": {},
   "source": [
    "##### 3.20\n",
    "A subspace admits a multivector basis.\n",
    "\n",
    "The basis expands any multivector projected into the subspace"
   ]
  },
  {
   "cell_type": "code",
   "execution_count": null,
   "metadata": {},
   "outputs": [
    {
     "data": {
      "text/plain": [
       "2.4424906541753444e-15"
      ]
     },
     "execution_count": 71,
     "metadata": {},
     "output_type": "execute_result"
    }
   ],
   "source": [
    "A2 = wedge(vectors[:2])\n",
    "r_vecs = reciprocal(vectors[:2])\n",
    "\n",
    "PB = B * 0\n",
    "for a, ar in zip(multi_frame(vectors[:2]), multi_frame(r_vecs[:2], reverse=True)):\n",
    "    PB += B.sp(a) * ar\n",
    "max_diff(P(B, A2), PB)"
   ]
  },
  {
   "cell_type": "markdown",
   "metadata": {},
   "source": [
    "##### 3.21 solve a vector equation"
   ]
  },
  {
   "cell_type": "code",
   "execution_count": 103,
   "metadata": {},
   "outputs": [
    {
     "data": {
      "text/plain": [
       "2.220446049250313e-16"
      ]
     },
     "execution_count": 103,
     "metadata": {},
     "output_type": "execute_result"
    }
   ],
   "source": [
    "a = random_multivector(alg).grade(1)\n",
    "beta = []\n",
    "Bn = wedge(vectors)\n",
    "for k in range(len(vectors)):\n",
    "    beta.append((wedge(vectors[:k])^a^wedge(vectors[k+1:]))/Bn)\n",
    "\n",
    "max_diff(a, sum(vectors[i]*beta[i] for i in range(len(vectors))))"
   ]
  },
  {
   "cell_type": "code",
   "execution_count": 104,
   "metadata": {},
   "outputs": [
    {
     "data": {
      "text/plain": [
       "1.1102230246251565e-16"
      ]
     },
     "execution_count": 104,
     "metadata": {},
     "output_type": "execute_result"
    }
   ],
   "source": [
    "# solve a system of linear scalar eq M * sol = b\n",
    "r = 4\n",
    "matrix = np.random.rand(r,r)\n",
    "b = np.random.rand(r)\n",
    "sol = np.linalg.solve(matrix, b)\n",
    "max_diff(np.dot(matrix, sol), b)"
   ]
  },
  {
   "cell_type": "code",
   "execution_count": 105,
   "metadata": {},
   "outputs": [
    {
     "data": {
      "text/plain": [
       "(3.3306690738754696e-16, 2.8449465006019636e-16)"
      ]
     },
     "execution_count": 105,
     "metadata": {},
     "output_type": "execute_result"
    }
   ],
   "source": [
    "#3.23 Cramer's Rule\n",
    "# Using e_i frame\n",
    "# alg = Algebra(r)\n",
    "matrix = matrix.transpose()\n",
    "vectors = [alg.vector(matrix[i]) for i in range(r)] \n",
    "a = alg.vector(b)\n",
    "\n",
    "beta = []\n",
    "Bn = wedge(vectors)\n",
    "for k in range(len(vectors)):\n",
    "    beta.append((wedge(vectors[:k])^a^wedge(vectors[k+1:]))/Bn)\n",
    "\n",
    "max_diff(a, sum(vectors[i]*beta[i] for i in range(len(vectors)))), max_diff(sol, [beta[i][0] for i in range(r)])"
   ]
  },
  {
   "cell_type": "markdown",
   "metadata": {},
   "source": [
    "##### 3.28"
   ]
  },
  {
   "cell_type": "code",
   "execution_count": null,
   "metadata": {},
   "outputs": [
    {
     "data": {
      "text/plain": [
       "(array([[-0.32788446, -0.78603022,  2.12358147, -0.4931653 ],\n",
       "        [ 1.03238376, -1.64320912, -1.76850665,  1.44660755],\n",
       "        [ 0.7928399 ,  1.82159515,  0.31423824, -1.51144411],\n",
       "        [-2.10220263,  1.31437665, -1.06913028,  2.25849011]]),\n",
       " array([[-0.32788446, -0.78603022,  2.12358147, -0.4931653 ],\n",
       "        [ 1.03238376, -1.64320912, -1.76850665,  1.44660755],\n",
       "        [ 0.7928399 ,  1.82159515,  0.31423824, -1.51144411],\n",
       "        [-2.10220263,  1.31437665, -1.06913028,  2.25849011]]))"
      ]
     },
     "execution_count": 117,
     "metadata": {},
     "output_type": "execute_result"
    }
   ],
   "source": [
    "# inverse matrix M b = a, M' a = b\n",
    "inverse = []\n",
    "Bn = wedge(vectors)\n",
    "for a in alg.frame:\n",
    "    beta = []\n",
    "    for k in range(len(vectors)):\n",
    "        beta.append(((wedge(vectors[:k])^a^wedge(vectors[k+1:]))/Bn).e)\n",
    "    inverse.append(beta)\n",
    "inverse = np.array(inverse)\n",
    "inverse, np.linalg.inv(matrix)"
   ]
  }
 ],
 "metadata": {
  "kernelspec": {
   "display_name": "3.10.5",
   "language": "python",
   "name": "python3"
  },
  "language_info": {
   "codemirror_mode": {
    "name": "ipython",
    "version": 3
   },
   "file_extension": ".py",
   "mimetype": "text/x-python",
   "name": "python",
   "nbconvert_exporter": "python",
   "pygments_lexer": "ipython3",
   "version": "3.10.5"
  }
 },
 "nbformat": 4,
 "nbformat_minor": 2
}
