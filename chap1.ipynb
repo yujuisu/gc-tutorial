{
 "cells": [
  {
   "cell_type": "markdown",
   "metadata": {},
   "source": [
    "### Geometric Calculus\n",
    "Notes from Hestenes' Clifford Algebra to Geometric Calculus with extra examples, tests and corrections."
   ]
  },
  {
   "cell_type": "code",
   "execution_count": 1,
   "metadata": {},
   "outputs": [],
   "source": [
    "# Select a flavor of algebra\n",
    "from kingdon import Algebra\n",
    "import numpy as np\n",
    "alg = Algebra(1,3)\n",
    "locals().update(alg.blades)\n",
    "A = alg.multivector(name='A')\n",
    "B = alg.multivector(name='B')\n",
    "C = alg.multivector(name='C')\n",
    "a = alg.multivector(name='a', grades=(1,))"
   ]
  },
  {
   "cell_type": "code",
   "execution_count": 4,
   "metadata": {},
   "outputs": [
    {
     "data": {
      "text/plain": [
       "True"
      ]
     },
     "execution_count": 4,
     "metadata": {},
     "output_type": "execute_result"
    }
   ],
   "source": [
    "# 1.9\n",
    "_A = 0\n",
    "for g in A.grades:\n",
    "    _A += A.grade(g)\n",
    "A == _A"
   ]
  },
  {
   "cell_type": "code",
   "execution_count": 5,
   "metadata": {},
   "outputs": [
    {
     "data": {
      "text/plain": [
       "True"
      ]
     },
     "execution_count": 5,
     "metadata": {},
     "output_type": "execute_result"
    }
   ],
   "source": [
    "# 1.10\n",
    "cond = True\n",
    "for g in A.grades:\n",
    "    cond = cond and ((A+B).grade(g) == A.grade(g) + B.grade(g))\n",
    "cond"
   ]
  },
  {
   "cell_type": "code",
   "execution_count": 6,
   "metadata": {},
   "outputs": [
    {
     "data": {
      "text/plain": [
       "True"
      ]
     },
     "execution_count": 6,
     "metadata": {},
     "output_type": "execute_result"
    }
   ],
   "source": [
    "# 1.12\n",
    "A.grade(2).grade(2) == A.grade(2)"
   ]
  },
  {
   "cell_type": "code",
   "execution_count": 7,
   "metadata": {},
   "outputs": [
    {
     "data": {
      "text/plain": [
       "((a1**2 - a2**2 - a3**2 - a4**2), ((a1**2 - a2**2 - a3**2 - a4**2)**0.5))"
      ]
     },
     "execution_count": 7,
     "metadata": {},
     "output_type": "execute_result"
    }
   ],
   "source": [
    "# 1.13\n",
    "a ** 2, a.norm()"
   ]
  },
  {
   "cell_type": "code",
   "execution_count": 8,
   "metadata": {},
   "outputs": [
    {
     "data": {
      "text/plain": [
       "(True,\n",
       " A + A1 𝐞₁ + A2 𝐞₂ + A3 𝐞₃ + A4 𝐞₄ + (-A12) 𝐞₁₂ + (-A13) 𝐞₁₃ + (-A14) 𝐞₁₄ + (-A23) 𝐞₂₃ + (-A24) 𝐞₂₄ + (-A34) 𝐞₃₄ + (-A123) 𝐞₁₂₃ + (-A124) 𝐞₁₂₄ + (-A134) 𝐞₁₃₄ + (-A234) 𝐞₂₃₄ + A1234 𝐞₁₂₃₄)"
      ]
     },
     "execution_count": 8,
     "metadata": {},
     "output_type": "execute_result"
    }
   ],
   "source": [
    "# 1.17\n",
    "(A * B).reverse() == B.reverse() * A.reverse(), A.reverse()"
   ]
  },
  {
   "cell_type": "code",
   "execution_count": 9,
   "metadata": {},
   "outputs": [
    {
     "data": {
      "text/plain": [
       "True"
      ]
     },
     "execution_count": 9,
     "metadata": {},
     "output_type": "execute_result"
    }
   ],
   "source": [
    "# 1.19\n",
    "cond = True\n",
    "for r in A.grades:\n",
    "    c1 = A.reverse().grade(r) == A.grade(r).reverse()\n",
    "    c2 = A.grade(r).reverse() == A.grade(r) * int((-1) ** (r*(r-1)/2))\n",
    "    cond = cond and (c1 and c2)\n",
    "cond"
   ]
  },
  {
   "cell_type": "code",
   "execution_count": 10,
   "metadata": {},
   "outputs": [
    {
     "data": {
      "text/plain": [
       "True"
      ]
     },
     "execution_count": 10,
     "metadata": {},
     "output_type": "execute_result"
    }
   ],
   "source": [
    "# 1.20b\n",
    "AB = A * B\n",
    "ABr = AB.reverse()\n",
    "cond = True\n",
    "for r in A.grades:\n",
    "    for s in B.grades:\n",
    "        Ar = A.grade(r)\n",
    "        Bs = B.grade(s)\n",
    "        cond = cond and (Ar * Bs).grade(r) == (Bs.reverse() * Ar).grade(r)\n",
    "cond"
   ]
  },
  {
   "cell_type": "code",
   "execution_count": 11,
   "metadata": {},
   "outputs": [
    {
     "data": {
      "text/plain": [
       "(True, True, True)"
      ]
     },
     "execution_count": 11,
     "metadata": {},
     "output_type": "execute_result"
    }
   ],
   "source": [
    "# in kindon inner product just select grade\n",
    "# 1.21c\n",
    "cond = True\n",
    "C = 0 * A\n",
    "for r in A.grades:\n",
    "    for s in B.grades:\n",
    "        Ar = A.grade(r)\n",
    "        Bs = B.grade(s)\n",
    "        inn = Ar | Bs\n",
    "        cond = cond and inn == (Ar * Bs).grade(abs(r - s))\n",
    "        C += inn\n",
    "cond, A | B == C, A.grade(0) | B == A.grade(0) ^ B"
   ]
  },
  {
   "cell_type": "code",
   "execution_count": 12,
   "metadata": {},
   "outputs": [
    {
     "data": {
      "text/plain": [
       "(True, True)"
      ]
     },
     "execution_count": 12,
     "metadata": {},
     "output_type": "execute_result"
    }
   ],
   "source": [
    "# 1.22c\n",
    "cond = True\n",
    "C = 0 * A\n",
    "n = A.grades[-1]\n",
    "for r in A.grades:\n",
    "    for s in B.grades:\n",
    "        Ar = A.grade(r)\n",
    "        Bs = B.grade(s)\n",
    "        wed = (Ar * Bs).grade(r + s) if r+s <= n else 0 * Ar\n",
    "        cond = cond and Ar ^ Bs == wed\n",
    "        C += wed\n",
    "cond, A ^ B == C"
   ]
  },
  {
   "cell_type": "code",
   "execution_count": 13,
   "metadata": {},
   "outputs": [
    {
     "data": {
      "text/plain": [
       "True"
      ]
     },
     "execution_count": 13,
     "metadata": {},
     "output_type": "execute_result"
    }
   ],
   "source": [
    "# 1.23a\n",
    "cond = True\n",
    "for r in A.grades:\n",
    "    for s in B.grades:\n",
    "        Ar = A.grade(r)\n",
    "        Bs = B.grade(s)\n",
    "        r, s = sorted((r,s))\n",
    "        c = Ar | Bs == (-1) ** (r * (s-1)) * Bs | Ar\n",
    "        cond = cond and c\n",
    "cond"
   ]
  },
  {
   "cell_type": "code",
   "execution_count": 14,
   "metadata": {},
   "outputs": [
    {
     "data": {
      "text/plain": [
       "True"
      ]
     },
     "execution_count": 14,
     "metadata": {},
     "output_type": "execute_result"
    }
   ],
   "source": [
    "# 1.23b\n",
    "cond = True\n",
    "for r in A.grades:\n",
    "    for s in B.grades:\n",
    "        Ar = A.grade(r)\n",
    "        Bs = B.grade(s)\n",
    "        c = Ar ^ Bs == (-1) ** (r * (s)) * Bs ^ Ar\n",
    "        cond = cond and c\n",
    "cond"
   ]
  },
  {
   "cell_type": "code",
   "execution_count": 15,
   "metadata": {},
   "outputs": [],
   "source": [
    "import numpy as np\n",
    "def random_multivector(alg: Algebra):\n",
    "    n = len(alg.blades.blades.keys())\n",
    "    vec = np.random.random(n)\n",
    "    return alg.multivector(vec)\n",
    "            "
   ]
  },
  {
   "cell_type": "code",
   "execution_count": 16,
   "metadata": {},
   "outputs": [],
   "source": [
    "A, B, C = [random_multivector(alg) for _ in range(3)]\n",
    "def max_diff(A, B):\n",
    "    return np.max(np.abs((A - B)[:]))\n",
    "def assert_diff(A,B):\n",
    "    assert max_diff(A, B) < 1e-10"
   ]
  },
  {
   "cell_type": "code",
   "execution_count": 17,
   "metadata": {},
   "outputs": [
    {
     "data": {
      "text/plain": [
       "6.661338147750939e-16"
      ]
     },
     "execution_count": 17,
     "metadata": {},
     "output_type": "execute_result"
    }
   ],
   "source": [
    "#1.24a\n",
    "D = A | (B + C)\n",
    "E = (A|B) + (A|C)\n",
    "max_diff(D, E)"
   ]
  },
  {
   "cell_type": "code",
   "execution_count": 18,
   "metadata": {},
   "outputs": [
    {
     "data": {
      "text/plain": [
       "4.440892098500626e-16"
      ]
     },
     "execution_count": 18,
     "metadata": {},
     "output_type": "execute_result"
    }
   ],
   "source": [
    "#1.24b\n",
    "D = A ^ (B + C)\n",
    "E = (A^B) + (A^C)\n",
    "max_diff(D, E)"
   ]
  },
  {
   "cell_type": "code",
   "execution_count": 19,
   "metadata": {},
   "outputs": [
    {
     "data": {
      "text/plain": [
       "2.220446049250313e-16"
      ]
     },
     "execution_count": 19,
     "metadata": {},
     "output_type": "execute_result"
    }
   ],
   "source": [
    "#1.25a\n",
    "max_diff((A^(B^C)), ((A^B)^C))"
   ]
  },
  {
   "cell_type": "code",
   "execution_count": 20,
   "metadata": {},
   "outputs": [
    {
     "data": {
      "text/plain": [
       "[0.0, 0.0, 3.469446951953614e-17, 8.326672684688674e-17]"
      ]
     },
     "execution_count": 20,
     "metadata": {},
     "output_type": "execute_result"
    }
   ],
   "source": [
    "#1.25b\n",
    "errs = []\n",
    "for r,s,t in [(0,1,1), (0,0,0), (1,1,3), (2,1,3)]:\n",
    "    Ar = A.grade(r)\n",
    "    Bs = B.grade(s)\n",
    "    Ct = C.grade(t)\n",
    "    errs.append(max_diff(Ar|(Bs|Ct), (Ar^Bs)|Ct))\n",
    "errs\n",
    "    "
   ]
  },
  {
   "cell_type": "code",
   "execution_count": 21,
   "metadata": {},
   "outputs": [
    {
     "data": {
      "text/plain": [
       "[0.0, 0.0, 1.1102230246251565e-16, 0.0]"
      ]
     },
     "execution_count": 21,
     "metadata": {},
     "output_type": "execute_result"
    }
   ],
   "source": [
    "#1.25c\n",
    "errs = []\n",
    "for r,s,t in [(0,1,1), (0,0,0), (1,3,1), (2,3,1)]:\n",
    "    Ar = A.grade(r)\n",
    "    Bs = B.grade(s)\n",
    "    Ct = C.grade(t)\n",
    "    errs.append(max_diff(Ar|(Bs|Ct), (Ar|Bs)|Ct))\n",
    "errs"
   ]
  },
  {
   "cell_type": "code",
   "execution_count": 22,
   "metadata": {},
   "outputs": [],
   "source": [
    "a = random_multivector(alg).grade(1)\n",
    "b = random_multivector(alg).grade(1)"
   ]
  },
  {
   "cell_type": "code",
   "execution_count": 23,
   "metadata": {},
   "outputs": [
    {
     "data": {
      "text/plain": [
       "8.326672684688674e-17"
      ]
     },
     "execution_count": 23,
     "metadata": {},
     "output_type": "execute_result"
    }
   ],
   "source": [
    "#1.26\n",
    "max_diff(a^A^b^B, -b^A^a^B)"
   ]
  },
  {
   "cell_type": "code",
   "execution_count": 24,
   "metadata": {},
   "outputs": [],
   "source": [
    "#1.27\n",
    "S = A * 0\n",
    "for r in A.grades:\n",
    "    if r == 0:\n",
    "        continue\n",
    "    Ar = A.grade(r)\n",
    "    aAr = a*Ar\n",
    "    Ara = Ar*a\n",
    "    assert_diff(a | Ar, aAr.grade(r-1))\n",
    "    assert_diff(a | Ar, (aAr - (-1)**r * Ara)/2)\n",
    "    assert_diff(a ^ Ar, (aAr + (-1)**r * Ara)/2)\n",
    "    assert_diff(aAr, (a|Ar)+(a^Ar))"
   ]
  },
  {
   "cell_type": "code",
   "execution_count": 25,
   "metadata": {},
   "outputs": [],
   "source": [
    "def even_grades(A):\n",
    "    return A.grade(A.grades[::2])\n",
    "def odd_grades(A):\n",
    "    return A.grade(A.grades[1::2])\n",
    "    "
   ]
  },
  {
   "cell_type": "code",
   "execution_count": 26,
   "metadata": {},
   "outputs": [
    {
     "data": {
      "text/plain": [
       "0.0"
      ]
     },
     "execution_count": 26,
     "metadata": {},
     "output_type": "execute_result"
    }
   ],
   "source": [
    "#1.29\n",
    "max_diff(A, even_grades(A) + odd_grades(A))"
   ]
  },
  {
   "cell_type": "code",
   "execution_count": 27,
   "metadata": {},
   "outputs": [],
   "source": [
    "#1.30\n",
    "#somehow I realized it's time to define Hestene's inner product\n",
    "def inner(A,B):\n",
    "    return (A - A.grade(0))|(B - B.grade(0))\n",
    "\n",
    "Ap = even_grades(A)\n",
    "Am = odd_grades(A)\n",
    "assert_diff(inner(a, Ap) - a * Ap.scalar, (a*Ap - Ap*a)/2)\n",
    "assert_diff(a ^ Ap, (a*Ap + Ap*a)/2)\n",
    "assert_diff(inner(a, Am), (a*Am + Am*a)/2)\n",
    "assert_diff(a ^ Am, (a*Am - Am*a)/2)"
   ]
  },
  {
   "cell_type": "code",
   "execution_count": 28,
   "metadata": {},
   "outputs": [
    {
     "data": {
      "text/plain": [
       "1.1102230246251565e-16"
      ]
     },
     "execution_count": 28,
     "metadata": {},
     "output_type": "execute_result"
    }
   ],
   "source": [
    "#1.31\n",
    "max_diff(a * A, inner(a,A) + (a^A))"
   ]
  },
  {
   "cell_type": "code",
   "execution_count": 29,
   "metadata": {},
   "outputs": [
    {
     "data": {
      "text/plain": [
       "2.220446049250313e-16"
      ]
     },
     "execution_count": 29,
     "metadata": {},
     "output_type": "execute_result"
    }
   ],
   "source": [
    "#1.33\n",
    "r = 6\n",
    "def random_r_vectors(r, alg):\n",
    "    return [random_multivector(alg).grade(1) for _ in range(r)]\n",
    "\n",
    "vectors = random_r_vectors(r, alg)\n",
    "\n",
    "from functools import reduce\n",
    "\n",
    "def product(vectors):\n",
    "    return reduce(lambda a, b: a*b, vectors)\n",
    "\n",
    "prods = product(vectors)\n",
    "S = alg.multivector()\n",
    "for i, v in enumerate(vectors):\n",
    "    _vectors = vectors.copy()\n",
    "    _vectors.pop(i)\n",
    "    S += (-1)**(i)*(a | v)*product(_vectors)\n",
    "\n",
    "max_diff(inner(a, prods), S)\n"
   ]
  },
  {
   "cell_type": "code",
   "execution_count": 30,
   "metadata": {},
   "outputs": [
    {
     "data": {
      "text/plain": [
       "1.1102230246251565e-16"
      ]
     },
     "execution_count": 30,
     "metadata": {},
     "output_type": "execute_result"
    }
   ],
   "source": [
    "#1.34\n",
    "_v = vectors.copy()\n",
    "_v.append(a)\n",
    "def cyclic_reorder(_v, k):\n",
    "    return _v[k:]+_v[:k]\n",
    "\n",
    "S = (product(cyclic_reorder(_v, -1)) - (-1)**r * product(_v))/2\n",
    "max_diff(inner(a, prods), S)"
   ]
  },
  {
   "cell_type": "code",
   "execution_count": 31,
   "metadata": {},
   "outputs": [
    {
     "data": {
      "text/plain": [
       "0.0"
      ]
     },
     "execution_count": 31,
     "metadata": {},
     "output_type": "execute_result"
    }
   ],
   "source": [
    "#1.55\n",
    "def cross(A, B):\n",
    "    return (A*B - B*A)/2\n",
    "max_diff(cross(A,B), -cross(B,A))"
   ]
  },
  {
   "cell_type": "code",
   "execution_count": 32,
   "metadata": {},
   "outputs": [
    {
     "data": {
      "text/plain": [
       "-0.0127 𝐞₁₂₃₄"
      ]
     },
     "execution_count": 32,
     "metadata": {},
     "output_type": "execute_result"
    }
   ],
   "source": [
    "#2.2\n",
    "n = A.grades[-1]\n",
    "vectors = random_r_vectors(n, alg)\n",
    "\n",
    "def wedge(vectors):\n",
    "    if len(vectors) == 0:\n",
    "        return 1\n",
    "    return reduce(lambda a, b: a^b, vectors)\n",
    "\n",
    "An = wedge(vectors)\n",
    "An"
   ]
  },
  {
   "cell_type": "code",
   "execution_count": 33,
   "metadata": {},
   "outputs": [
    {
     "data": {
      "text/plain": [
       "0"
      ]
     },
     "execution_count": 33,
     "metadata": {},
     "output_type": "execute_result"
    }
   ],
   "source": [
    "#2.4\n",
    "wedge(random_r_vectors(n+1, alg))"
   ]
  },
  {
   "cell_type": "code",
   "execution_count": 34,
   "metadata": {},
   "outputs": [
    {
     "data": {
      "text/plain": [
       "0.0"
      ]
     },
     "execution_count": 34,
     "metadata": {},
     "output_type": "execute_result"
    }
   ],
   "source": [
    "#2.6\n",
    "max_diff(((a | An) / An), a)"
   ]
  },
  {
   "cell_type": "code",
   "execution_count": 74,
   "metadata": {},
   "outputs": [
    {
     "data": {
      "text/plain": [
       "(0.406 + 1.5 𝐞₁ + 1.14 𝐞₂ + 1.26 𝐞₃ + 0.247 𝐞₄ + 0.33 𝐞₁₂ + -0.618 𝐞₁₃ + 3.81 𝐞₁₄ + -0.748 𝐞₂₃ + 2.85 𝐞₂₄ + 3.3 𝐞₃₄,\n",
       " 0.406 + 0.738 𝐞₁ + 0.587 𝐞₂ + 0.862 𝐞₃ + 0.231 𝐞₄ + 0.103 𝐞₁₂ + 0.123 𝐞₁₃ + 0.0494 𝐞₁₄ + 0.621 𝐞₂₃ + 0.894 𝐞₂₄ + 0.806 𝐞₃₄ + 0.448 𝐞₁₂₃ + 0.728 𝐞₁₂₄ + 0.937 𝐞₁₃₄ + 0.507 𝐞₂₃₄ + 0.163 𝐞₁₂₃₄)"
      ]
     },
     "execution_count": 74,
     "metadata": {},
     "output_type": "execute_result"
    }
   ],
   "source": [
    "#2.9a\n",
    "def random_r_blade(r, alg):\n",
    "    return wedge(random_r_vectors(r, alg))\n",
    "\n",
    "def P(a, A):\n",
    "    return (1/(A**2)[0])*((a|A)|A)\n",
    "\n",
    "A2 = random_r_blade(2, alg)\n",
    "P(B, A2), B"
   ]
  },
  {
   "cell_type": "code",
   "execution_count": 75,
   "metadata": {},
   "outputs": [
    {
     "data": {
      "text/plain": [
       "[(0.406, 0.406),\n",
       " (1.5 𝐞₁ + 1.14 𝐞₂ + 1.26 𝐞₃ + 0.247 𝐞₄,\n",
       "  0.738 𝐞₁ + 0.587 𝐞₂ + 0.862 𝐞₃ + 0.231 𝐞₄),\n",
       " (0.33 𝐞₁₂ + -0.618 𝐞₁₃ + 3.81 𝐞₁₄ + -0.748 𝐞₂₃ + 2.85 𝐞₂₄ + 3.3 𝐞₃₄,\n",
       "  0.103 𝐞₁₂ + 0.123 𝐞₁₃ + 0.0494 𝐞₁₄ + 0.621 𝐞₂₃ + 0.894 𝐞₂₄ + 0.806 𝐞₃₄),\n",
       " (3.54e-16 𝐞₁ + 5.7e-16 𝐞₂ + -3.37e-16 𝐞₃ + 4.45e-16 𝐞₄,\n",
       "  0.448 𝐞₁₂₃ + 0.728 𝐞₁₂₄ + 0.937 𝐞₁₃₄ + 0.507 𝐞₂₃₄),\n",
       " (1.39e-16, 0.163 𝐞₁₂₃₄)]"
      ]
     },
     "execution_count": 75,
     "metadata": {},
     "output_type": "execute_result"
    }
   ],
   "source": [
    "#2.9b Indeed just the scalar part equal, and grades greater than projected dimension goes zero\n",
    "[(P(B.grade(r), A2), B.grade(r)) for r in B.grades]"
   ]
  },
  {
   "cell_type": "code",
   "execution_count": 37,
   "metadata": {},
   "outputs": [
    {
     "data": {
      "text/plain": [
       "1.53e-16 𝐞₁ + 9.55e-17 𝐞₂ + -8.11e-17 𝐞₃ + -9.55e-18 𝐞₄ + 3.01e-33 𝐞₁₂₃ + 1.14e-33 𝐞₁₂₄ + 9.11e-34 𝐞₁₃₄ + 1.46e-33 𝐞₂₃₄"
      ]
     },
     "execution_count": 37,
     "metadata": {},
     "output_type": "execute_result"
    }
   ],
   "source": [
    "#2.10a\n",
    "P(B.grade(3), A2)"
   ]
  },
  {
   "cell_type": "code",
   "execution_count": 38,
   "metadata": {},
   "outputs": [],
   "source": [
    "#2.13c\n",
    "assert_diff(P(B, A2), P(P(B, A2), A2))"
   ]
  },
  {
   "cell_type": "code",
   "execution_count": 39,
   "metadata": {},
   "outputs": [],
   "source": [
    "#2.16\n",
    "ap = P(a,A2)\n",
    "assert_diff(inner(ap, B) * A2, ap ^ (B*A2))\n",
    "assert_diff((ap^B)*A2, inner(ap,(B*A2)))"
   ]
  },
  {
   "cell_type": "code",
   "execution_count": 40,
   "metadata": {},
   "outputs": [],
   "source": [
    "#2.18\n",
    "C2 = C.grade(2)\n",
    "B3 = B.grade(3)\n",
    "PC2 = P(C2, A2)\n",
    "assert_diff((PC2 | B3) * A2, PC2 ^ (B3 * A2))"
   ]
  },
  {
   "cell_type": "code",
   "execution_count": 41,
   "metadata": {},
   "outputs": [],
   "source": [
    "def max_grade(B):\n",
    "    for r in B.grades[::-1]:\n",
    "        Br = B.grade(r)\n",
    "        if np.max(np.abs(Br[:])) > 1e-8:\n",
    "            return Br"
   ]
  },
  {
   "cell_type": "code",
   "execution_count": 42,
   "metadata": {},
   "outputs": [
    {
     "data": {
      "text/plain": [
       "(0.121 𝐞₁₂₃₄, 0.121 𝐞₁₂₃₄)"
      ]
     },
     "execution_count": 42,
     "metadata": {},
     "output_type": "execute_result"
    }
   ],
   "source": [
    "#2.22\n",
    "# How to find common factor? Join, but we need an addition information ---a common subspace containing A and B where A.dual indep of B.dual.\n",
    "# If they happen to span the algebra, we can do regressive product.\n",
    "B3 = random_r_blade(2, alg)\n",
    "AB = A2 * B3\n",
    "C = A2.rp(B3)\n",
    "\n",
    "max_grade(AB), (A2|C) ^ (C|B3) / C**2"
   ]
  },
  {
   "cell_type": "code",
   "execution_count": 43,
   "metadata": {},
   "outputs": [
    {
     "data": {
      "text/plain": [
       "(-1.3e-17 𝐞₁₂₃₄,\n",
       " 1.3e-17,\n",
       " 0.0199 + 0.0239 𝐞₁₂ + -0.0621 𝐞₁₃ + 0.0303 𝐞₁₄ + 0.00724 𝐞₂₃ + -0.0232 𝐞₂₄ + 0.0512 𝐞₃₄ + 1.3e-17 𝐞₁₂₃₄)"
      ]
     },
     "execution_count": 43,
     "metadata": {},
     "output_type": "execute_result"
    }
   ],
   "source": [
    "# But when both A and B in a smaller subspace, how do we find this subspace?\n",
    "vectors = random_r_vectors(3, alg) # span the subspace\n",
    "A2 = wedge(vectors[:2])\n",
    "B2 = wedge(vectors[1:])\n",
    "B2.dual() ^ A2.dual(), A2.rp(B2), A2 * B2"
   ]
  },
  {
   "cell_type": "code",
   "execution_count": 44,
   "metadata": {},
   "outputs": [
    {
     "data": {
      "text/plain": [
       "3.3306690738754696e-16"
      ]
     },
     "execution_count": 44,
     "metadata": {},
     "output_type": "execute_result"
    }
   ],
   "source": [
    "# decompose A2, B2 into vectors\n",
    "# choose any nonorthonormal vector e.g. e1\n",
    "v1 = P(e1, A2)\n",
    "# contract the parallel part\n",
    "v2 = v1 | A2\n",
    "max_diff(v1 ^ v2 / v1**2, A2)"
   ]
  },
  {
   "cell_type": "code",
   "execution_count": 45,
   "metadata": {},
   "outputs": [
    {
     "data": {
      "text/plain": [
       "(-1.89e-17 𝐞₁₂₃₄,\n",
       " -0.369 𝐞₁₂₃ + 0.11 𝐞₁₂₄ + 0.182 𝐞₁₃₄ + -0.326 𝐞₂₃₄,\n",
       " 0.0731 𝐞₁₂₃ + -0.0218 𝐞₁₂₄ + -0.036 𝐞₁₃₄ + 0.0645 𝐞₂₃₄)"
      ]
     },
     "execution_count": 45,
     "metadata": {},
     "output_type": "execute_result"
    }
   ],
   "source": [
    "# span of vectors\n",
    "v3 = P(e1, B2)\n",
    "v4 = v3 | B2\n",
    "v1 ^ v2 ^v3 ^v4, v1 ^ v2 ^v3, v1 ^ v2 ^v4  # v_123 seems to be the best choice"
   ]
  },
  {
   "cell_type": "code",
   "execution_count": 46,
   "metadata": {},
   "outputs": [
    {
     "data": {
      "text/plain": [
       "3.8163916471489756e-17"
      ]
     },
     "execution_count": 46,
     "metadata": {},
     "output_type": "execute_result"
    }
   ],
   "source": [
    "# Give a check on 2.22\n",
    "I = v1^v2^v3\n",
    "C = -((B2*I) ^ (A2*I))*I\n",
    "max_diff(max_grade(A2*B2), (A2|C) ^ (C|B2) / C**2)"
   ]
  },
  {
   "cell_type": "code",
   "execution_count": 47,
   "metadata": {},
   "outputs": [
    {
     "data": {
      "text/plain": [
       "[-5.55e-17, -8.67e-19, 2.82e-18]"
      ]
     },
     "execution_count": 47,
     "metadata": {},
     "output_type": "execute_result"
    }
   ],
   "source": [
    "#3.1 orthogonalize\n",
    "vectors = random_r_vectors(4, alg)\n",
    "\n",
    "def gram_schmidt(vectors):\n",
    "    o_vecs = [vectors[0]]\n",
    "    Ar = vectors[0]\n",
    "    for v in vectors[1:]:\n",
    "        Ar1 = Ar ^ v\n",
    "        o_vecs.append(Ar | Ar1)\n",
    "        Ar = Ar1\n",
    "    return o_vecs\n",
    "\n",
    "\n",
    "orthvecs = gram_schmidt(vectors)\n",
    "[orthvecs[i] | orthvecs[j] for i, j in [(0,1), (2,3), (1,3)]]"
   ]
  },
  {
   "cell_type": "code",
   "execution_count": 48,
   "metadata": {},
   "outputs": [
    {
     "data": {
      "text/plain": [
       "[1.0, 1.11e-16, 1.39e-17, 1.0]"
      ]
     },
     "execution_count": 48,
     "metadata": {},
     "output_type": "execute_result"
    }
   ],
   "source": [
    "#3.5 reciprocal frame\n",
    "def reciprocal(vectors):\n",
    "    An = wedge(vectors)\n",
    "    return [(-1)**k * wedge(vectors[:k]+vectors[k+1:])| An / An ** 2 for k in range(len(vectors))]\n",
    "\n",
    "r_vecs = reciprocal(vectors)\n",
    "[r_vecs[i]|vectors[j] for i, j in [(1,1), (2,3), (0,3), (3,3)]]\n"
   ]
  },
  {
   "cell_type": "code",
   "execution_count": 49,
   "metadata": {},
   "outputs": [
    {
     "data": {
      "text/plain": [
       "[0.944 𝐞₁ + 0.809 𝐞₂ + 0.615 𝐞₃ + 0.722 𝐞₄,\n",
       " 0.607 𝐞₁ + 0.0945 𝐞₂ + 0.799 𝐞₃ + 0.382 𝐞₄,\n",
       " 0.944 𝐞₁ + 0.183 𝐞₂ + 0.76 𝐞₃ + 0.163 𝐞₄]"
      ]
     },
     "execution_count": 49,
     "metadata": {},
     "output_type": "execute_result"
    }
   ],
   "source": [
    "from itertools import combinations\n",
    "\n",
    "def multiindex(n, r):\n",
    "    return list(combinations(range(n), r))\n",
    "[vectors[i] for i in multiindex(4,3)[0]]"
   ]
  },
  {
   "cell_type": "code",
   "execution_count": 50,
   "metadata": {},
   "outputs": [
    {
     "data": {
      "text/plain": [
       "[0.18 𝐞₁₂₃ + 0.176 𝐞₁₂₄ + -0.201 𝐞₁₃₄ + -0.149 𝐞₂₃₄,\n",
       " 0.0574 𝐞₁₂₃ + -0.295 𝐞₁₂₄ + 0.268 𝐞₁₃₄ + 0.466 𝐞₂₃₄,\n",
       " 0.0407 𝐞₁₂₃ + -0.477 𝐞₁₂₄ + 0.0739 𝐞₁₃₄ + 0.405 𝐞₂₃₄,\n",
       " 0.00753 𝐞₁₂₃ + 0.0262 𝐞₁₂₄ + -0.264 𝐞₁₃₄ + -0.071 𝐞₂₃₄]"
      ]
     },
     "execution_count": 50,
     "metadata": {},
     "output_type": "execute_result"
    }
   ],
   "source": [
    "#3.9 r-vector frame\n",
    "from itertools import combinations\n",
    "\n",
    "def r_indexes(n, r):\n",
    "    return list(combinations(range(n), r))\n",
    "\n",
    "def extract(vectors, indexes):\n",
    "    return [vectors[i] for i in indexes]\n",
    "\n",
    "def r_vector_frame(vectors, r, reverse=False):\n",
    "    n = len(vectors)\n",
    "    indexes = r_indexes(n, r)\n",
    "    if reverse:\n",
    "        return [wedge(extract(vectors, i[::-1])) for i in indexes]\n",
    "    return [wedge(extract(vectors, i)) for i in indexes]\n",
    "\n",
    "r_vector_frame(vectors, 3)"
   ]
  },
  {
   "cell_type": "code",
   "execution_count": 51,
   "metadata": {},
   "outputs": [],
   "source": [
    "# I found it cumbersome to deal with signs...\n",
    "def find_complement(combo, full):\n",
    "    return [item for item in full if item not in combo]\n",
    "\n",
    "def comp_indexes(indexes, full):\n",
    "    return [find_complement(comb, full) for comb in indexes]\n",
    "\n",
    "# def r_vector_complement_frame(vectors, r):\n",
    "#     return [wedge(find_complement(comb, vectors)) for comb in combinations(vectors, r)]"
   ]
  },
  {
   "cell_type": "code",
   "execution_count": 52,
   "metadata": {},
   "outputs": [
    {
     "data": {
      "text/plain": [
       "[1.0, -5.55e-17, 1.0, ]"
      ]
     },
     "execution_count": 52,
     "metadata": {},
     "output_type": "execute_result"
    }
   ],
   "source": [
    "#3.11\n",
    "r = 3\n",
    "framer = r_vector_frame(vectors, r)\n",
    "framerr = r_vector_frame(r_vecs, r)\n",
    "[(-1)**(r*(r-1)/2)*framerr[i] | framer[j] for i,j in [(1,1), (1,3), (3,3), (2,3)]]"
   ]
  },
  {
   "cell_type": "code",
   "execution_count": 53,
   "metadata": {},
   "outputs": [
    {
     "data": {
      "text/plain": [
       "[1.0, 1.11e-16, -1.11e-16, , 1.0, 2.22e-16, , 1.0, , 1.0]"
      ]
     },
     "execution_count": 53,
     "metadata": {},
     "output_type": "execute_result"
    }
   ],
   "source": [
    "#3.14\n",
    "n = len(vectors)\n",
    "r = 3\n",
    "indexes = r_indexes(n, r)\n",
    "[wedge(extract(r_vecs, i[::-1])) | wedge(extract(vectors, j)) for k,j in enumerate(indexes) for i in indexes[k:]]"
   ]
  },
  {
   "cell_type": "code",
   "execution_count": 54,
   "metadata": {},
   "outputs": [
    {
     "data": {
      "text/plain": [
       "[4.16e-17, 1.0, 0, 1.0]"
      ]
     },
     "execution_count": 54,
     "metadata": {},
     "output_type": "execute_result"
    }
   ],
   "source": [
    "#3.19\n",
    "def multi_frame(vectors, reverse=False): # reverse for reciprocal frames\n",
    "    multi_frame = [1]\n",
    "    for r in range(1, len(vectors)+1):\n",
    "        multi_frame += r_vector_frame(vectors, r, reverse)\n",
    "    return multi_frame\n",
    "rf = multi_frame(r_vecs[:2], reverse=True)\n",
    "f = multi_frame(vectors[:2])\n",
    "\n",
    "[rf[i].sp(f[j]) for i, j in [(1,2), (1,1), (1,3), (3,3)]]"
   ]
  },
  {
   "cell_type": "code",
   "execution_count": 55,
   "metadata": {},
   "outputs": [
    {
     "data": {
      "text/plain": [
       "7.771561172376096e-16"
      ]
     },
     "execution_count": 55,
     "metadata": {},
     "output_type": "execute_result"
    }
   ],
   "source": [
    "#3.20\n",
    "A2 = wedge(vectors[:2])\n",
    "r_vecs = reciprocal(vectors[:2])\n",
    "\n",
    "PB = B * 0\n",
    "for a, ar in zip(multi_frame(vectors[:2]), multi_frame(r_vecs[:2], reverse=True)):\n",
    "    PB += B.sp(a) * ar\n",
    "max_diff(P(B, A2), PB)"
   ]
  },
  {
   "cell_type": "code",
   "execution_count": 56,
   "metadata": {},
   "outputs": [
    {
     "data": {
      "text/plain": [
       "6.661338147750939e-16"
      ]
     },
     "execution_count": 56,
     "metadata": {},
     "output_type": "execute_result"
    }
   ],
   "source": [
    "#3.21 solve a vector equation\n",
    "a = random_multivector(alg).grade(1)\n",
    "beta = []\n",
    "Bn = wedge(vectors)\n",
    "for k in range(len(vectors)):\n",
    "    beta.append((wedge(vectors[:k])^a^wedge(vectors[k+1:]))/Bn)\n",
    "\n",
    "max_diff(a, sum(vectors[i]*beta[i] for i in range(len(vectors))))"
   ]
  },
  {
   "cell_type": "code",
   "execution_count": 57,
   "metadata": {},
   "outputs": [
    {
     "data": {
      "text/plain": [
       "5.551115123125783e-16"
      ]
     },
     "execution_count": 57,
     "metadata": {},
     "output_type": "execute_result"
    }
   ],
   "source": [
    "# solve matrix eq\n",
    "r = 4\n",
    "matrix = np.random.rand(r,r)\n",
    "b = np.random.rand(r)\n",
    "sol = np.linalg.solve(matrix, b)\n",
    "max_diff(np.dot(matrix, sol), b)"
   ]
  },
  {
   "cell_type": "code",
   "execution_count": 58,
   "metadata": {},
   "outputs": [
    {
     "data": {
      "text/plain": [
       "(9.769962616701378e-15, 4.263256414560601e-14)"
      ]
     },
     "execution_count": 58,
     "metadata": {},
     "output_type": "execute_result"
    }
   ],
   "source": [
    "#3.23\n",
    "# Using e_i frame\n",
    "# alg = Algebra(r)\n",
    "matrix = matrix.transpose()\n",
    "vectors = [alg.vector(matrix[i]) for i in range(r)] \n",
    "a = alg.vector(b)\n",
    "\n",
    "beta = []\n",
    "Bn = wedge(vectors)\n",
    "for k in range(len(vectors)):\n",
    "    beta.append((wedge(vectors[:k])^a^wedge(vectors[k+1:]))/Bn)\n",
    "\n",
    "max_diff(a, sum(vectors[i]*beta[i] for i in range(len(vectors)))), max_diff(sol, [beta[i][0] for i in range(r)])"
   ]
  }
 ],
 "metadata": {
  "kernelspec": {
   "display_name": "Python 3",
   "language": "python",
   "name": "python3"
  },
  "language_info": {
   "codemirror_mode": {
    "name": "ipython",
    "version": 3
   },
   "file_extension": ".py",
   "mimetype": "text/x-python",
   "name": "python",
   "nbconvert_exporter": "python",
   "pygments_lexer": "ipython3",
   "version": "3.10.5"
  }
 },
 "nbformat": 4,
 "nbformat_minor": 2
}
