{
 "cells": [
  {
   "cell_type": "markdown",
   "metadata": {},
   "source": [
    "## Geometric Algebra\n",
    "What to focus? Not identities, but how to generate them.\n",
    "\n",
    "### A few Simple Techniques\n",
    "\n",
    "1. split into grades, then reverse their order [r-vector part](#r-vector-part-reordering)\n",
    "2. reduct to geometric product, and use its associativity e.g. [vector inner](#132)"
   ]
  },
  {
   "cell_type": "markdown",
   "metadata": {},
   "source": [
    "### Algebraic Identities\n",
    "1. [Reversions](#reversion)\n",
    "2. Reordering rules:\n",
    "    [Inner](#ip-reordering), [Outer](#op-reordering), [r-vector part](#r-vector-part-reordering)\n",
    "3. geometric/outer products are associative, but not inner [Left/Right Contraction](#left-right-contraction)\n",
    "4. ip/op of a vector with a r-vector into gp [1.27 1.30 1.33](#130)\n",
    "5. a product of even mv is even -> even subalgebra, but not odd [1.36](#136)\n",
    "6. distribute ip/op to a product of multivectors [1.41](#141)\n",
    "7. bivectors are closed under the commutator product [1.62](#162)\n",
    "8. cp distributes to gp [1.57](#157)\n",
    "9. duality of ip/op [1.41](#141), [2.18](#218)\n",
    "### Pseudoscalars and Projections\n",
    "1. the outermorphism of a projection [2.13d](#213d)\n",
    "2. Projections, replacing the second ip with gp extends the projection to its dual [2.10](#210a)\n",
    "3. [splitting a blade](#vector-split-of-a-blade)\n",
    "#### Set Language\n",
    "1. subset [2.20]\n",
    "1. direct sum [2.21](#221)\n",
    "2. intersection [2.23]\n",
    "3. factor space [2.35]\n",
    "\n",
    "\n",
    "In finite dim, inner/outer product are related by duality\n",
    "Closure of finite dim algebra\n"
   ]
  },
  {
   "cell_type": "markdown",
   "metadata": {},
   "source": [
    "### Claims\n",
    "#### One Algebraic structure, multiple geometric interpretations\n",
    "Drawback: Hard to see a motivation.\n",
    "\n",
    "#### Building blocks of GA are k-blades.\n",
    "\n",
    "Geometric product relates blades of different grade.\n",
    "1. All directional relations among linear spaces can be represented by geometric product.\n",
    "\n",
    "A blade represents a subspace. If the blade is invertible, all relations are included by gp.\n",
    "\n",
    "2. \n",
    "\n"
   ]
  },
  {
   "cell_type": "code",
   "execution_count": 2,
   "metadata": {},
   "outputs": [
    {
     "data": {
      "text/plain": [
       "0.0"
      ]
     },
     "execution_count": 2,
     "metadata": {},
     "output_type": "execute_result"
    }
   ],
   "source": [
    "# 1.9 A multivector can be split into grades\n",
    "# Select a flavor of algebra\n",
    "from kingdon import Algebra\n",
    "import numpy as np\n",
    "alg = Algebra(1,3)\n",
    "locals().update(alg.blades)\n",
    "\n",
    "def random_vector(alg: Algebra):\n",
    "    vec = np.random.random(alg.d)\n",
    "    return alg.vector(vec)\n",
    "\n",
    "\n",
    "def random_multivector(alg: Algebra):\n",
    "    n = 2**alg.d\n",
    "    vec = np.random.random(n)\n",
    "    return alg.multivector(vec)\n",
    "\n",
    "\n",
    "def max_diff(A, B):\n",
    "    return np.max(np.abs((A - B)[:]))\n",
    "\n",
    "\n",
    "def assert_diff(A, B, err=1e-10):\n",
    "    assert max_diff(A, B) < err\n",
    "            \n",
    "A, B, C = [random_multivector(alg) for _ in range(3)]\n",
    "a = random_vector(alg)\n",
    "_A = 0\n",
    "for g in A.grades:\n",
    "    _A += A.grade(g)\n",
    "max_diff(A, _A)"
   ]
  },
  {
   "cell_type": "code",
   "execution_count": 3,
   "metadata": {},
   "outputs": [
    {
     "data": {
      "text/plain": [
       "(0.736 + 1.69 𝐞₁ + 1.42 𝐞₂ + 2.31 𝐞₃ + 0.292 𝐞₄ + 0.901 𝐞₁₂ + 1.99 𝐞₁₃ + 2.06 𝐞₁₄ + 0.971 𝐞₂₃ + 1.61 𝐞₂₄ + 1.59 𝐞₃₄ + 2.23 𝐞₁₂₃ + 1.77 𝐞₁₂₄ + 1.7 𝐞₁₃₄ + 1.61 𝐞₂₃₄ + 0.502 𝐞₁₂₃₄,\n",
       " 0.736 + 1.69 𝐞₁ + 1.42 𝐞₂ + 2.31 𝐞₃ + 0.292 𝐞₄ + 0.901 𝐞₁₂ + 1.99 𝐞₁₃ + 2.06 𝐞₁₄ + 0.971 𝐞₂₃ + 1.61 𝐞₂₄ + 1.59 𝐞₃₄ + 2.23 𝐞₁₂₃ + 1.77 𝐞₁₂₄ + 1.7 𝐞₁₃₄ + 1.61 𝐞₂₃₄ + 0.502 𝐞₁₂₃₄,\n",
       " -1.84 + -4.19 𝐞₁ + -5.43 𝐞₂ + -1.42 𝐞₃ + -0.98 𝐞₄ + -3.43 𝐞₁₂ + -3.93 𝐞₁₃ + 0.101 𝐞₁₄ + -4.51 𝐞₂₃ + -0.155 𝐞₂₄ + -2.35 𝐞₃₄ + -0.947 𝐞₁₂₃ + 0.577 𝐞₁₂₄ + -3.49 𝐞₁₃₄ + -1.03 𝐞₂₃₄ + 1.7 𝐞₁₂₃₄,\n",
       " -1.84 + -4.19 𝐞₁ + -5.43 𝐞₂ + -1.42 𝐞₃ + -0.98 𝐞₄ + -3.43 𝐞₁₂ + -3.93 𝐞₁₃ + 0.101 𝐞₁₄ + -4.51 𝐞₂₃ + -0.155 𝐞₂₄ + -2.35 𝐞₃₄ + -0.947 𝐞₁₂₃ + 0.577 𝐞₁₂₄ + -3.49 𝐞₁₃₄ + -1.03 𝐞₂₃₄ + 1.7 𝐞₁₂₃₄)"
      ]
     },
     "execution_count": 3,
     "metadata": {},
     "output_type": "execute_result"
    }
   ],
   "source": [
    "#1.2 gp and sum are associative\n",
    "(A+B) +C, A+(B+C), (A*B)*C, A*(B*C)"
   ]
  },
  {
   "cell_type": "code",
   "execution_count": 4,
   "metadata": {},
   "outputs": [
    {
     "data": {
      "text/plain": [
       "(0.641 𝐞₁₂ + 1.82 𝐞₁₃ + 1.3 𝐞₁₄ + 0.791 𝐞₂₃ + 1.44 𝐞₂₄ + 1.22 𝐞₃₄,\n",
       " 0.641 𝐞₁₂ + 1.82 𝐞₁₃ + 1.3 𝐞₁₄ + 0.791 𝐞₂₃ + 1.44 𝐞₂₄ + 1.22 𝐞₃₄)"
      ]
     },
     "execution_count": 4,
     "metadata": {},
     "output_type": "execute_result"
    }
   ],
   "source": [
    "#1.10 distribute summation into grades\n",
    "g = 2\n",
    "(A+B).grade(g), A.grade(g) + B.grade(g)"
   ]
  },
  {
   "cell_type": "code",
   "execution_count": 5,
   "metadata": {},
   "outputs": [
    {
     "data": {
      "text/plain": [
       "(0.166 𝐞₁₂ + 0.83 𝐞₁₃ + 0.559 𝐞₁₄ + 0.639 𝐞₂₃ + 0.534 𝐞₂₄ + 0.706 𝐞₃₄,\n",
       " 0.166 𝐞₁₂ + 0.83 𝐞₁₃ + 0.559 𝐞₁₄ + 0.639 𝐞₂₃ + 0.534 𝐞₂₄ + 0.706 𝐞₃₄)"
      ]
     },
     "execution_count": 5,
     "metadata": {},
     "output_type": "execute_result"
    }
   ],
   "source": [
    "#1.12\n",
    "A.grade(2).grade(2), A.grade(2)"
   ]
  },
  {
   "cell_type": "code",
   "execution_count": 6,
   "metadata": {},
   "outputs": [
    {
     "data": {
      "text/plain": [
       "(0.405, 0.4052623865613656, 0.6366022200411852)"
      ]
     },
     "execution_count": 6,
     "metadata": {},
     "output_type": "execute_result"
    }
   ],
   "source": [
    "#1.13\n",
    "from kingdon import MultiVector\n",
    "def normsq(A: MultiVector):\n",
    "    return abs(A.sp(A.reverse())[0])\n",
    "\n",
    "\n",
    "def norm(A):\n",
    "    return np.sqrt(normsq(A))\n",
    "\n",
    "a**2, normsq(a), norm(a)"
   ]
  },
  {
   "cell_type": "markdown",
   "metadata": {},
   "source": [
    "### k-blade/ simple k-vector"
   ]
  },
  {
   "cell_type": "code",
   "execution_count": 7,
   "metadata": {},
   "outputs": [
    {
     "name": "stdout",
     "output_type": "stream",
     "text": [
      "not simple, (-5.551115123125783e-17, 5.551115123125783e-17, 0.0, 0.0, 0.0, 0.0, 0.0617901150385243)\n"
     ]
    },
    {
     "data": {
      "text/plain": [
       "-0.503724014785525"
      ]
     },
     "execution_count": 7,
     "metadata": {},
     "output_type": "execute_result"
    }
   ],
   "source": [
    "#1.4 in 4 dimension space, there's non-simple bivectors.\n",
    "# But not other grades.\n",
    "from functools import reduce\n",
    "def random_r_vectors(r, alg):\n",
    "    return [random_vector(alg) for _ in range(r)]\n",
    "\n",
    "def random_r_blade(r, alg):\n",
    "    return wedge(random_r_vectors(r, alg))\n",
    "\n",
    "def wedge(vectors) -> MultiVector:\n",
    "    return reduce(lambda a, b: a ^ b, vectors, 1)\n",
    "\n",
    "#1.51\n",
    "def assert_simple(A, tol=1e-8):\n",
    "    Asquare = A**2\n",
    "    if isinstance(A, (int, float)):\n",
    "        return Asquare\n",
    "    if Asquare[1:]:\n",
    "        assert np.max(np.abs(Asquare[1:])) < tol, f\"not simple, {Asquare[1:]}\"\n",
    "    return Asquare[0]\n",
    "\n",
    "blade = random_r_blade(2, alg)\n",
    "try:\n",
    "    assert_simple(A.grade(2))\n",
    "except Exception as e:\n",
    "    print(e)\n",
    "assert_simple(blade)"
   ]
  },
  {
   "cell_type": "code",
   "execution_count": 8,
   "metadata": {},
   "outputs": [
    {
     "name": "stdout",
     "output_type": "stream",
     "text": [
      "1 𝐞₁₂₃ + 1 𝐞₃₄₅ not simple, (2,)\n"
     ]
    }
   ],
   "source": [
    "# Not a compact assertion\n",
    "# But enough for dimension < 6?\n",
    "# e123 + e456 is not simple, but passed\n",
    "alg6 = Algebra(6)\n",
    "locals().update(alg6.blades)\n",
    "\n",
    "for kvec in [e123 + e234, e123 + e345, e123 + e456]:\n",
    "    try:\n",
    "        assert_simple(kvec)\n",
    "    except Exception as e:\n",
    "        print(kvec, e)"
   ]
  },
  {
   "cell_type": "markdown",
   "metadata": {},
   "source": [
    "#### Reversion"
   ]
  },
  {
   "cell_type": "code",
   "execution_count": 9,
   "metadata": {
    "tags": [
     "reversion"
    ]
   },
   "outputs": [
    {
     "data": {
      "text/plain": [
       "(-1.13 + -2.41 𝐞₁ + -3.37 𝐞₂ + 1.76 𝐞₃ + 1.47 𝐞₄ + 1.19 𝐞₁₂ + -1.84 𝐞₁₃ + -1.69 𝐞₁₄ + -2.06 𝐞₂₃ + -1.05 𝐞₂₄ + -1.0 𝐞₃₄ + -1.04 𝐞₁₂₃ + -0.5 𝐞₁₂₄ + -1.29 𝐞₁₃₄ + 0.086 𝐞₂₃₄ + -0.735 𝐞₁₂₃₄,\n",
       " -1.13 + -2.41 𝐞₁ + -3.37 𝐞₂ + 1.76 𝐞₃ + 1.47 𝐞₄ + 1.19 𝐞₁₂ + -1.84 𝐞₁₃ + -1.69 𝐞₁₄ + -2.06 𝐞₂₃ + -1.05 𝐞₂₄ + -1.0 𝐞₃₄ + -1.04 𝐞₁₂₃ + -0.5 𝐞₁₂₄ + -1.29 𝐞₁₃₄ + 0.086 𝐞₂₃₄ + -0.735 𝐞₁₂₃₄)"
      ]
     },
     "execution_count": 9,
     "metadata": {},
     "output_type": "execute_result"
    }
   ],
   "source": [
    "# 1.17\n",
    "locals().update(alg.blades)\n",
    "(A * B).reverse(), B.reverse() * A.reverse()"
   ]
  },
  {
   "cell_type": "markdown",
   "metadata": {},
   "source": [
    "1.19 is how Kingdon compute reversion:\n",
    "\n",
    "    def codegen_involutions(x, invert_grades=(2, 3)):\n",
    "        \"\"\"\n",
    "        Codegen for the involutions of Clifford algebras:\n",
    "        reverse, grade involute, and Clifford involution.\n",
    "\n",
    "        :param invert_grades: The grades that flip sign under this involution mod 4, e.g. (2, 3) for reversion.\n",
    "        \"\"\"\n",
    "        return {\n",
    "            k: f\"-{v.name}\" if bin(k).count(\"1\") % 4 in invert_grades else v.name\n",
    "            for k, v in x.items()\n",
    "        }"
   ]
  },
  {
   "cell_type": "code",
   "execution_count": 10,
   "metadata": {},
   "outputs": [
    {
     "data": {
      "text/plain": [
       "(-0.166 𝐞₁₂ + -0.83 𝐞₁₃ + -0.559 𝐞₁₄ + -0.639 𝐞₂₃ + -0.534 𝐞₂₄ + -0.706 𝐞₃₄,\n",
       " -0.166 𝐞₁₂ + -0.83 𝐞₁₃ + -0.559 𝐞₁₄ + -0.639 𝐞₂₃ + -0.534 𝐞₂₄ + -0.706 𝐞₃₄,\n",
       " -0.166 𝐞₁₂ + -0.83 𝐞₁₃ + -0.559 𝐞₁₄ + -0.639 𝐞₂₃ + -0.534 𝐞₂₄ + -0.706 𝐞₃₄)"
      ]
     },
     "execution_count": 10,
     "metadata": {},
     "output_type": "execute_result"
    }
   ],
   "source": [
    "# 1.19\n",
    "r = 2\n",
    "(\n",
    "    A.reverse().grade(r), \n",
    "    A.grade(r).reverse(), \n",
    "    A.grade(r) * int((-1) ** (r*(r-1)/2))\n",
    "    )"
   ]
  },
  {
   "cell_type": "markdown",
   "metadata": {},
   "source": [
    "#### r-vector part reordering"
   ]
  },
  {
   "cell_type": "code",
   "execution_count": 11,
   "metadata": {},
   "outputs": [
    {
     "data": {
      "text/plain": [
       "(1 + -1 𝐞₁₂, 1 + 1 𝐞₁₂)"
      ]
     },
     "execution_count": 11,
     "metadata": {},
     "output_type": "execute_result"
    }
   ],
   "source": [
    "# A simple idea:\n",
    "# sign flips at grade 2 but not 1\n",
    "(e1+e2)*e1, e1*(e1+e2)"
   ]
  },
  {
   "cell_type": "code",
   "execution_count": 12,
   "metadata": {},
   "outputs": [
    {
     "data": {
      "text/plain": [
       "(-1.19 𝐞₁₂ + 1.84 𝐞₁₃ + 1.69 𝐞₁₄ + 2.06 𝐞₂₃ + 1.05 𝐞₂₄ + 1.0 𝐞₃₄,\n",
       " -1.19 𝐞₁₂ + 1.84 𝐞₁₃ + 1.69 𝐞₁₄ + 2.06 𝐞₂₃ + 1.05 𝐞₂₄ + 1.0 𝐞₃₄)"
      ]
     },
     "execution_count": 12,
     "metadata": {},
     "output_type": "execute_result"
    }
   ],
   "source": [
    "#1.20a\n",
    "(A*B).grade(r), (-1)**(r*(r-1)/2) * (B.reverse()*A.reverse()).grade(r)"
   ]
  },
  {
   "cell_type": "code",
   "execution_count": 13,
   "metadata": {},
   "outputs": [
    {
     "data": {
      "text/plain": [
       "(0.371 + -0.397 𝐞₁₂ + 0.0412 𝐞₁₃ + 0.374 𝐞₁₄ + -0.136 𝐞₂₃ + -0.081 𝐞₂₄ + 0.435 𝐞₃₄ + -0.302 𝐞₁₂₃₄,\n",
       " -0.371 + -0.397 𝐞₁₂ + 0.0412 𝐞₁₃ + 0.374 𝐞₁₄ + -0.136 𝐞₂₃ + -0.081 𝐞₂₄ + 0.435 𝐞₃₄ + 0.302 𝐞₁₂₃₄)"
      ]
     },
     "execution_count": 13,
     "metadata": {},
     "output_type": "execute_result"
    }
   ],
   "source": [
    "#1.20b\n",
    "r, s = 2, 2\n",
    "Ar = A.grade(r)\n",
    "Bs = B.grade(s)\n",
    "(Ar * Bs), (Bs.reverse() * Ar)"
   ]
  },
  {
   "cell_type": "code",
   "execution_count": 14,
   "metadata": {},
   "outputs": [
    {
     "data": {
      "text/plain": [
       "(-1.54 𝐞₁₂ + -1.95 𝐞₁₃ + 1.2 𝐞₁₄ + -2.66 𝐞₂₃ + -0.0507 𝐞₂₄ + 1.0 𝐞₃₄,\n",
       " -1.54 𝐞₁₂ + -1.95 𝐞₁₃ + 1.2 𝐞₁₄ + -2.66 𝐞₂₃ + -0.0507 𝐞₂₄ + 1.0 𝐞₃₄)"
      ]
     },
     "execution_count": 14,
     "metadata": {},
     "output_type": "execute_result"
    }
   ],
   "source": [
    "#1.20c\n",
    "r = 2\n",
    "(A*B.grade(r)*C).grade(r), (C.reverse()*B.grade(r)*A.reverse()).grade(r)"
   ]
  },
  {
   "cell_type": "code",
   "execution_count": 15,
   "metadata": {},
   "outputs": [
    {
     "data": {
      "text/plain": [
       "(0.0638 𝐞₁₂₃₄, 0.0638 𝐞₁₂₃₄)"
      ]
     },
     "execution_count": 15,
     "metadata": {},
     "output_type": "execute_result"
    }
   ],
   "source": [
    "#1.20d\n",
    "vec = [1,2,3,4]\n",
    "r,s,t,q = vec\n",
    "vec = np.array(vec)\n",
    "epsilon = sum(vec**2 - vec)/2\n",
    "Ar, Bs, Ct = A.grade(r), B.grade(s), C.grade(t)\n",
    "(Ar*Bs*Ct).grade(q), (-1)**epsilon*(Ct*Bs*Ar).grade(q)"
   ]
  },
  {
   "cell_type": "code",
   "execution_count": 16,
   "metadata": {},
   "outputs": [
    {
     "data": {
      "text/plain": [
       "(-1.13 + -2.41 𝐞₁ + -3.37 𝐞₂ + 1.76 𝐞₃ + 1.47 𝐞₄ + -1.35 𝐞₁₂ + 1.34 𝐞₁₃ + 1.58 𝐞₁₄ + 1.45 𝐞₂₃ + 1.97 𝐞₂₄ + 0.707 𝐞₃₄ + 0.557 𝐞₁₂₃ + 0.495 𝐞₁₂₄ + 0.296 𝐞₁₃₄ + 0.4 𝐞₂₃₄ + 0.0794 𝐞₁₂₃₄,\n",
       " -1.13 + -2.41 𝐞₁ + -3.37 𝐞₂ + 1.76 𝐞₃ + 1.47 𝐞₄ + -1.35 𝐞₁₂ + 1.34 𝐞₁₃ + 1.58 𝐞₁₄ + 1.45 𝐞₂₃ + 1.97 𝐞₂₄ + 0.707 𝐞₃₄ + 0.557 𝐞₁₂₃ + 0.495 𝐞₁₂₄ + 0.296 𝐞₁₃₄ + 0.4 𝐞₂₃₄ + 0.0794 𝐞₁₂₃₄,\n",
       " -1.21 + -2.78 𝐞₁ + -3.6 𝐞₂ + 1.38 𝐞₃ + 1.42 𝐞₄ + -1.53 𝐞₁₂ + 0.812 𝐞₁₃ + 1.2 𝐞₁₄ + 1.21 𝐞₂₃ + 1.57 𝐞₂₄ + 0.343 𝐞₃₄ + 0.0207 𝐞₁₂₃ + -0.02 𝐞₁₂₄ + 0.00234 𝐞₁₃₄ + 0.0671 𝐞₂₃₄,\n",
       " 0.084 + 0.15 𝐞₁ + 0.134 𝐞₂ + 0.205 𝐞₃ + 0.00749 𝐞₄ + 0.122 𝐞₁₂ + 0.254 𝐞₁₃ + 0.191 𝐞₁₄ + 0.0391 𝐞₂₃ + 0.233 𝐞₂₄ + 0.132 𝐞₃₄ + 0.213 𝐞₁₂₃ + 0.196 𝐞₁₂₄ + 0.24 𝐞₁₃₄ + 0.165 𝐞₂₃₄ + 0.048 𝐞₁₂₃₄,\n",
       " 0.084 + 0.15 𝐞₁ + 0.134 𝐞₂ + 0.205 𝐞₃ + 0.00749 𝐞₄ + 0.122 𝐞₁₂ + 0.254 𝐞₁₃ + 0.191 𝐞₁₄ + 0.0391 𝐞₂₃ + 0.233 𝐞₂₄ + 0.132 𝐞₃₄ + 0.213 𝐞₁₂₃ + 0.196 𝐞₁₂₄ + 0.24 𝐞₁₃₄ + 0.165 𝐞₂₃₄ + 0.048 𝐞₁₂₃₄)"
      ]
     },
     "execution_count": 16,
     "metadata": {},
     "output_type": "execute_result"
    }
   ],
   "source": [
    "#1.21c\n",
    "# in Kingdon, the inner product only selects grade\n",
    "# which means the inner/outer product has an overlap on the grade zero\n",
    "# The textbook's inner product is:\n",
    "def inner(A, B):\n",
    "    if isinstance(A, MultiVector) and isinstance(B, MultiVector):\n",
    "        return (A - A.grade(0)) | (B - B.grade(0))\n",
    "    return 0\n",
    "\n",
    "temp = 0\n",
    "for r in A.grades:\n",
    "    for s in B.grades:\n",
    "        Ar = A.grade(r)\n",
    "        Bs = B.grade(s)\n",
    "        temp += (Ar * Bs).grade(abs(r - s))\n",
    "(\n",
    "    A | B, \n",
    "    temp, \n",
    "    inner(A, B), \n",
    "    A.grade(0) | B, \n",
    "    A.grade(0) ^ B,\n",
    "    )"
   ]
  },
  {
   "cell_type": "code",
   "execution_count": 17,
   "metadata": {},
   "outputs": [
    {
     "data": {
      "text/plain": [
       "(-0.302 𝐞₁₂₃₄, -0.302 𝐞₁₂₃₄)"
      ]
     },
     "execution_count": 17,
     "metadata": {},
     "output_type": "execute_result"
    }
   ],
   "source": [
    "#1.22 The wedge as grade selection\n",
    "r, s = 2, 2\n",
    "Ar = A.grade(r)\n",
    "Bs = B.grade(s)\n",
    "Ar ^ Bs, (Ar * Bs).grade(r + s)"
   ]
  },
  {
   "cell_type": "markdown",
   "metadata": {},
   "source": [
    "##### ip reordering"
   ]
  },
  {
   "cell_type": "code",
   "execution_count": 18,
   "metadata": {
    "tags": [
     "ip reorder"
    ]
   },
   "outputs": [
    {
     "data": {
      "text/plain": [
       "(-1.12 𝐞₁ + -1.97 𝐞₂ + 0.812 𝐞₃ + 0.545 𝐞₄,\n",
       " -1.12 𝐞₁ + -1.97 𝐞₂ + 0.812 𝐞₃ + 0.545 𝐞₄)"
      ]
     },
     "execution_count": 18,
     "metadata": {},
     "output_type": "execute_result"
    }
   ],
   "source": [
    "# 1.23a\n",
    "r, s = 3, 2\n",
    "Ar = A.grade(r)\n",
    "Bs = B.grade(s)\n",
    "r, s = sorted((r,s))\n",
    "Ar | Bs, (-1) ** (r * (s-1)) * Bs | Ar"
   ]
  },
  {
   "cell_type": "markdown",
   "metadata": {},
   "source": [
    "##### op reordering"
   ]
  },
  {
   "cell_type": "code",
   "execution_count": 19,
   "metadata": {},
   "outputs": [
    {
     "data": {
      "text/plain": [
       "(0, 0)"
      ]
     },
     "execution_count": 19,
     "metadata": {},
     "output_type": "execute_result"
    }
   ],
   "source": [
    "# 1.23b\n",
    "Ar ^ Bs, (-1) ** (r * s) * Bs ^ Ar"
   ]
  },
  {
   "cell_type": "code",
   "execution_count": 20,
   "metadata": {},
   "outputs": [
    {
     "data": {
      "text/plain": [
       "8.881784197001252e-16"
      ]
     },
     "execution_count": 20,
     "metadata": {},
     "output_type": "execute_result"
    }
   ],
   "source": [
    "#1.24a\n",
    "D = A | (B + C)\n",
    "E = (A|B) + (A|C)\n",
    "max_diff(D, E)"
   ]
  },
  {
   "cell_type": "code",
   "execution_count": 21,
   "metadata": {},
   "outputs": [
    {
     "data": {
      "text/plain": [
       "2.220446049250313e-16"
      ]
     },
     "execution_count": 21,
     "metadata": {},
     "output_type": "execute_result"
    }
   ],
   "source": [
    "#1.24b\n",
    "D = A ^ (B + C)\n",
    "E = (A^B) + (A^C)\n",
    "max_diff(D, E)"
   ]
  },
  {
   "cell_type": "code",
   "execution_count": 22,
   "metadata": {},
   "outputs": [
    {
     "data": {
      "text/plain": [
       "2.220446049250313e-16"
      ]
     },
     "execution_count": 22,
     "metadata": {},
     "output_type": "execute_result"
    }
   ],
   "source": [
    "#1.25a\n",
    "max_diff((A^(B^C)), ((A^B)^C))"
   ]
  },
  {
   "cell_type": "markdown",
   "metadata": {},
   "source": [
    "##### Left Right Contraction"
   ]
  },
  {
   "cell_type": "code",
   "execution_count": 23,
   "metadata": {},
   "outputs": [
    {
     "data": {
      "text/plain": [
       "[0.0, 0.0, 3.469446951953614e-17, 4.163336342344337e-17]"
      ]
     },
     "execution_count": 23,
     "metadata": {},
     "output_type": "execute_result"
    }
   ],
   "source": [
    "#1.25b\n",
    "errs = []\n",
    "for r,s,t in [(0,1,1), (0,0,0), (1,1,3), (2,1,3)]:\n",
    "    Ar = A.grade(r)\n",
    "    Bs = B.grade(s)\n",
    "    Ct = C.grade(t)\n",
    "    errs.append(max_diff(Ar|(Bs|Ct), (Ar^Bs)|Ct))\n",
    "errs\n",
    "    "
   ]
  },
  {
   "cell_type": "code",
   "execution_count": 24,
   "metadata": {},
   "outputs": [
    {
     "data": {
      "text/plain": [
       "[0.0, 0.0, 5.551115123125783e-17, 5.551115123125783e-17]"
      ]
     },
     "execution_count": 24,
     "metadata": {},
     "output_type": "execute_result"
    }
   ],
   "source": [
    "#1.25c\n",
    "errs = []\n",
    "for r,s,t in [(0,1,1), (0,0,0), (1,3,1), (2,3,1)]:\n",
    "    Ar = A.grade(r)\n",
    "    Bs = B.grade(s)\n",
    "    Ct = C.grade(t)\n",
    "    errs.append(max_diff(Ar|(Bs|Ct), (Ar|Bs)|Ct))\n",
    "errs"
   ]
  },
  {
   "cell_type": "code",
   "execution_count": 25,
   "metadata": {},
   "outputs": [
    {
     "data": {
      "text/plain": [
       "5.551115123125783e-17"
      ]
     },
     "execution_count": 25,
     "metadata": {},
     "output_type": "execute_result"
    }
   ],
   "source": [
    "#1.26\n",
    "a, b = random_r_vectors(2, alg)\n",
    "max_diff(a^A^b^B, -b^A^a^B)"
   ]
  },
  {
   "cell_type": "code",
   "execution_count": 26,
   "metadata": {},
   "outputs": [],
   "source": [
    "#1.27\n",
    "S = A * 0\n",
    "for r in A.grades:\n",
    "    if r == 0:\n",
    "        continue\n",
    "    Ar = A.grade(r)\n",
    "    aAr = a*Ar\n",
    "    Ara = Ar*a\n",
    "    assert_diff(a | Ar, aAr.grade(r-1))\n",
    "    assert_diff(a | Ar, (aAr - (-1)**r * Ara)/2)\n",
    "    assert_diff(a ^ Ar, (aAr + (-1)**r * Ara)/2)\n",
    "    assert_diff(aAr, (a|Ar)+(a^Ar))"
   ]
  },
  {
   "cell_type": "code",
   "execution_count": 27,
   "metadata": {},
   "outputs": [],
   "source": [
    "def even_grades(A):\n",
    "    return A.grade(A.grades[::2])\n",
    "def odd_grades(A):\n",
    "    return A.grade(A.grades[1::2])\n",
    "    "
   ]
  },
  {
   "cell_type": "code",
   "execution_count": 28,
   "metadata": {},
   "outputs": [
    {
     "data": {
      "text/plain": [
       "0.0"
      ]
     },
     "execution_count": 28,
     "metadata": {},
     "output_type": "execute_result"
    }
   ],
   "source": [
    "#1.29\n",
    "max_diff(A, even_grades(A) + odd_grades(A))"
   ]
  },
  {
   "cell_type": "markdown",
   "metadata": {},
   "source": [
    "##### 1.30"
   ]
  },
  {
   "cell_type": "code",
   "execution_count": 29,
   "metadata": {},
   "outputs": [],
   "source": [
    "# the sign flip of r leads to even/odd split of grades\n",
    "Ap = even_grades(A)\n",
    "Am = odd_grades(A)\n",
    "assert_diff(inner(a, Ap) - a * Ap.scalar, (a*Ap - Ap*a)/2)\n",
    "assert_diff(a ^ Ap, (a*Ap + Ap*a)/2)\n",
    "assert_diff(inner(a, Am), (a*Am + Am*a)/2)\n",
    "assert_diff(a ^ Am, (a*Am - Am*a)/2)"
   ]
  },
  {
   "cell_type": "code",
   "execution_count": 30,
   "metadata": {},
   "outputs": [
    {
     "data": {
      "text/plain": [
       "2.220446049250313e-16"
      ]
     },
     "execution_count": 30,
     "metadata": {},
     "output_type": "execute_result"
    }
   ],
   "source": [
    "#1.31\n",
    "max_diff(a * A, inner(a,A) + (a^A))"
   ]
  },
  {
   "cell_type": "markdown",
   "metadata": {},
   "source": [
    "##### 1.32"
   ]
  },
  {
   "cell_type": "code",
   "execution_count": 31,
   "metadata": {},
   "outputs": [
    {
     "data": {
      "text/plain": [
       "(-0.756,\n",
       " -0.756 + 0.354 𝐞₁₂ + 0.665 𝐞₁₃ + 0.301 𝐞₁₄ + 0.496 𝐞₂₃ + 0.262 𝐞₂₄ + 0.0697 𝐞₃₄,\n",
       " -0.756)"
      ]
     },
     "execution_count": 31,
     "metadata": {},
     "output_type": "execute_result"
    }
   ],
   "source": [
    "a|b, a*b, (a*b + b*a)/2"
   ]
  },
  {
   "cell_type": "code",
   "execution_count": 32,
   "metadata": {},
   "outputs": [
    {
     "data": {
      "text/plain": [
       "2.0816681711721685e-16"
      ]
     },
     "execution_count": 32,
     "metadata": {},
     "output_type": "execute_result"
    }
   ],
   "source": [
    "#1.33\n",
    "r = 6\n",
    "def random_r_vectors(r, alg):\n",
    "    return [random_multivector(alg).grade(1) for _ in range(r)]\n",
    "\n",
    "vectors = random_r_vectors(r, alg)\n",
    "\n",
    "from functools import reduce\n",
    "\n",
    "def product(vectors):\n",
    "    return reduce(lambda a, b: a*b, vectors)\n",
    "\n",
    "prods = product(vectors)\n",
    "S = alg.multivector()\n",
    "for i, v in enumerate(vectors):\n",
    "    _vectors = vectors.copy()\n",
    "    _vectors.pop(i)\n",
    "    S += (-1)**(i)*(a | v)*product(_vectors)\n",
    "\n",
    "max_diff(inner(a, prods), S)\n"
   ]
  },
  {
   "cell_type": "code",
   "execution_count": 33,
   "metadata": {},
   "outputs": [
    {
     "data": {
      "text/plain": [
       "8.326672684688674e-17"
      ]
     },
     "execution_count": 33,
     "metadata": {},
     "output_type": "execute_result"
    }
   ],
   "source": [
    "#1.34\n",
    "_v = vectors.copy()\n",
    "_v.append(a)\n",
    "def cyclic_reorder(_v, k):\n",
    "    return _v[k:]+_v[:k]\n",
    "\n",
    "S = (product(cyclic_reorder(_v, -1)) - (-1)**r * product(_v))/2\n",
    "max_diff(inner(a, prods), S)"
   ]
  },
  {
   "cell_type": "markdown",
   "metadata": {},
   "source": [
    "##### 1.36"
   ]
  },
  {
   "cell_type": "code",
   "execution_count": 34,
   "metadata": {},
   "outputs": [
    {
     "data": {
      "text/plain": [
       "[1, 3]"
      ]
     },
     "execution_count": 34,
     "metadata": {},
     "output_type": "execute_result"
    }
   ],
   "source": [
    "r, s = 2, 3\n",
    "Ar = A.grade(r)\n",
    "Bs = B.grade(s)\n",
    "def nonzero_grades(A, tol=1e-6):\n",
    "    grades = []\n",
    "    for k in range(alg.d+1):\n",
    "        Ak = A.grade(k)[:]\n",
    "        if isinstance(Ak, float):\n",
    "            Ak = [Ak]\n",
    "        for v in Ak:\n",
    "            if abs(v) > tol:\n",
    "                grades.append(k)\n",
    "                break\n",
    "    return grades\n",
    "\n",
    "nonzero_grades(Ar * Bs)"
   ]
  },
  {
   "cell_type": "code",
   "execution_count": 35,
   "metadata": {},
   "outputs": [
    {
     "data": {
      "text/plain": [
       "(1 𝐞₃, -1 𝐞₁₃₄)"
      ]
     },
     "execution_count": 35,
     "metadata": {},
     "output_type": "execute_result"
    }
   ],
   "source": [
    "e12 * e123, e12 * e234"
   ]
  },
  {
   "cell_type": "markdown",
   "metadata": {},
   "source": [
    "##### 1.41"
   ]
  },
  {
   "cell_type": "code",
   "execution_count": 36,
   "metadata": {},
   "outputs": [
    {
     "data": {
      "text/plain": [
       "(0.252 + -0.0182 𝐞₁ + 0.249 𝐞₂ + -0.617 𝐞₃ + 0.33 𝐞₄ + -0.424 𝐞₁₂ + 0.889 𝐞₁₃ + -0.148 𝐞₁₄ + 0.992 𝐞₂₃ + -0.627 𝐞₂₄ + 0.966 𝐞₃₄ + -0.112 𝐞₁₂₃ + 0.458 𝐞₁₂₄ + -0.921 𝐞₁₃₄ + -0.906 𝐞₂₃₄,\n",
       " 0.252 + -0.0182 𝐞₁ + 0.249 𝐞₂ + -0.617 𝐞₃ + 0.33 𝐞₄ + -0.424 𝐞₁₂ + 0.889 𝐞₁₃ + -0.148 𝐞₁₄ + 0.992 𝐞₂₃ + -0.627 𝐞₂₄ + 0.966 𝐞₃₄ + -0.112 𝐞₁₂₃ + 0.458 𝐞₁₂₄ + -0.921 𝐞₁₃₄ + -0.906 𝐞₂₃₄ + 2.22e-16 𝐞₁₂₃₄,\n",
       " 0.252 + -0.0182 𝐞₁ + 0.249 𝐞₂ + -0.617 𝐞₃ + 0.33 𝐞₄ + -0.424 𝐞₁₂ + 0.889 𝐞₁₃ + -0.148 𝐞₁₄ + 0.992 𝐞₂₃ + -0.627 𝐞₂₄ + 0.966 𝐞₃₄ + -0.112 𝐞₁₂₃ + 0.458 𝐞₁₂₄ + -0.921 𝐞₁₃₄ + -0.906 𝐞₂₃₄ + -2.78e-17 𝐞₁₂₃₄,\n",
       " -1.3 𝐞₁ + -1.32 𝐞₂ + -0.659 𝐞₃ + -0.162 𝐞₄ + -0.718 𝐞₁₂ + 1.51 𝐞₁₃ + 0.48 𝐞₁₄ + 1.9 𝐞₂₃ + 0.577 𝐞₂₄ + 0.0557 𝐞₃₄ + 0.35 𝐞₁₂₃ + -0.283 𝐞₁₂₄ + -0.332 𝐞₁₃₄ + -0.151 𝐞₂₃₄ + -1.43 𝐞₁₂₃₄,\n",
       " -1.3 𝐞₁ + -1.32 𝐞₂ + -0.659 𝐞₃ + -0.162 𝐞₄ + -0.718 𝐞₁₂ + 1.51 𝐞₁₃ + 0.48 𝐞₁₄ + 1.9 𝐞₂₃ + 0.577 𝐞₂₄ + 0.0557 𝐞₃₄ + 0.35 𝐞₁₂₃ + -0.283 𝐞₁₂₄ + -0.332 𝐞₁₃₄ + -0.151 𝐞₂₃₄ + -1.43 𝐞₁₂₃₄,\n",
       " 1.11e-16 + -1.3 𝐞₁ + -1.32 𝐞₂ + -0.659 𝐞₃ + -0.162 𝐞₄ + -0.718 𝐞₁₂ + 1.51 𝐞₁₃ + 0.48 𝐞₁₄ + 1.9 𝐞₂₃ + 0.577 𝐞₂₄ + 0.0557 𝐞₃₄ + 0.35 𝐞₁₂₃ + -0.283 𝐞₁₂₄ + -0.332 𝐞₁₃₄ + -0.151 𝐞₂₃₄ + -1.43 𝐞₁₂₃₄)"
      ]
     },
     "execution_count": 36,
     "metadata": {},
     "output_type": "execute_result"
    }
   ],
   "source": [
    "r = 3\n",
    "Ar = A.grade(r)\n",
    "(\n",
    "    inner(a, (Ar * B)),\n",
    "    (a | Ar)*B + (-1)**r*Ar*inner(a,B),\n",
    "    (a ^ Ar)*B - (-1)**r*Ar*(a^B),\n",
    "    (a ^ (Ar * B)),\n",
    "    (a ^ Ar)*B - (-1)**r*Ar*inner(a,B),\n",
    "    (a | Ar)*B + (-1)**r*Ar*(a^B)\n",
    "    )"
   ]
  },
  {
   "cell_type": "markdown",
   "metadata": {},
   "source": [
    "##### 1.57"
   ]
  },
  {
   "cell_type": "code",
   "execution_count": 37,
   "metadata": {},
   "outputs": [
    {
     "data": {
      "text/plain": [
       "(-0.00805 𝐞₁ + -0.546 𝐞₂ + -0.203 𝐞₃ + 1.64 𝐞₄ + -0.828 𝐞₁₂ + -2.14 𝐞₁₃ + 2.24 𝐞₁₄ + -2.6 𝐞₂₃ + 1.97 𝐞₂₄ + -1.33 𝐞₃₄ + -0.317 𝐞₁₂₃ + 1.42 𝐞₁₂₄ + -1.84 𝐞₁₃₄ + 0.131 𝐞₂₃₄ + 2.41 𝐞₁₂₃₄,\n",
       " 2.22e-16 + -0.00805 𝐞₁ + -0.546 𝐞₂ + -0.203 𝐞₃ + 1.64 𝐞₄ + -0.828 𝐞₁₂ + -2.14 𝐞₁₃ + 2.24 𝐞₁₄ + -2.6 𝐞₂₃ + 1.97 𝐞₂₄ + -1.33 𝐞₃₄ + -0.317 𝐞₁₂₃ + 1.42 𝐞₁₂₄ + -1.84 𝐞₁₃₄ + 0.131 𝐞₂₃₄ + 2.41 𝐞₁₂₃₄)"
      ]
     },
     "execution_count": 37,
     "metadata": {},
     "output_type": "execute_result"
    }
   ],
   "source": [
    "A.cp(B*C), A.cp(B)*C + B*A.cp(C)"
   ]
  },
  {
   "cell_type": "markdown",
   "metadata": {},
   "source": [
    "##### 1.62"
   ]
  },
  {
   "cell_type": "code",
   "execution_count": 38,
   "metadata": {},
   "outputs": [
    {
     "data": {
      "text/plain": [
       "(0.136 𝐞₁₂₃ + 0.899 𝐞₁₂₄ + 0.161 𝐞₁₃₄ + -0.612 𝐞₂₃₄,\n",
       " -0.74 𝐞₁ + -0.506 𝐞₂ + -0.676 𝐞₃ + 0.0317 𝐞₄)"
      ]
     },
     "execution_count": 38,
     "metadata": {},
     "output_type": "execute_result"
    }
   ],
   "source": [
    "r = 1\n",
    "Ar = A.grade(r)\n",
    "B2 = B.grade(2)\n",
    "B2*Ar + Ar*B2, B2.cp(Ar)"
   ]
  },
  {
   "cell_type": "code",
   "execution_count": 39,
   "metadata": {},
   "outputs": [
    {
     "data": {
      "text/plain": [
       "-1 𝐞₂₃"
      ]
     },
     "execution_count": 39,
     "metadata": {},
     "output_type": "execute_result"
    }
   ],
   "source": [
    "#1.69\n",
    "e12.cp(e13)"
   ]
  },
  {
   "cell_type": "code",
   "execution_count": 40,
   "metadata": {},
   "outputs": [
    {
     "data": {
      "text/plain": [
       "0.133 𝐞₁₂₃₄"
      ]
     },
     "execution_count": 40,
     "metadata": {},
     "output_type": "execute_result"
    }
   ],
   "source": [
    "#2.2\n",
    "n = A.grades[-1]\n",
    "vectors = random_r_vectors(n, alg)\n",
    "\n",
    "def wedge(vectors):\n",
    "    if len(vectors) == 0:\n",
    "        return 1\n",
    "    return reduce(lambda a, b: a^b, vectors)\n",
    "\n",
    "An = wedge(vectors)\n",
    "An"
   ]
  },
  {
   "cell_type": "code",
   "execution_count": 41,
   "metadata": {},
   "outputs": [
    {
     "data": {
      "text/plain": [
       "0"
      ]
     },
     "execution_count": 41,
     "metadata": {},
     "output_type": "execute_result"
    }
   ],
   "source": [
    "#2.4\n",
    "wedge(random_r_vectors(n+1, alg))"
   ]
  },
  {
   "cell_type": "code",
   "execution_count": 42,
   "metadata": {},
   "outputs": [
    {
     "data": {
      "text/plain": [
       "(0.939 𝐞₁ + 0.954 𝐞₂ + 0.475 𝐞₃ + 0.116 𝐞₄,\n",
       " 0.939 𝐞₁ + 0.954 𝐞₂ + 0.475 𝐞₃ + 0.116 𝐞₄)"
      ]
     },
     "execution_count": 42,
     "metadata": {},
     "output_type": "execute_result"
    }
   ],
   "source": [
    "#2.6\n",
    "((a | An) / An), a"
   ]
  },
  {
   "cell_type": "code",
   "execution_count": 43,
   "metadata": {},
   "outputs": [
    {
     "data": {
      "text/plain": [
       "(0.328 + 0.791 𝐞₁ + 0.815 𝐞₂ + 0.157 𝐞₃ + 0.171 𝐞₄ + 0.785 𝐞₁₂ + 0.461 𝐞₁₃ + 0.47 𝐞₁₄ + 0.319 𝐞₂₃ + 0.315 𝐞₂₄ + -0.00615 𝐞₃₄,\n",
       " 0.328 + 0.586 𝐞₁ + 0.522 𝐞₂ + 0.8 𝐞₃ + 0.0292 𝐞₄ + 0.474 𝐞₁₂ + 0.992 𝐞₁₃ + 0.743 𝐞₁₄ + 0.152 𝐞₂₃ + 0.907 𝐞₂₄ + 0.516 𝐞₃₄ + 0.832 𝐞₁₂₃ + 0.765 𝐞₁₂₄ + 0.938 𝐞₁₃₄ + 0.643 𝐞₂₃₄ + 0.187 𝐞₁₂₃₄)"
      ]
     },
     "execution_count": 43,
     "metadata": {},
     "output_type": "execute_result"
    }
   ],
   "source": [
    "#2.9a use the build-in inner product instead\n",
    "def random_r_blade(r, alg):\n",
    "    return wedge(random_r_vectors(r, alg))\n",
    "\n",
    "def P(a, A):\n",
    "    return (1/(A**2)[0])*((a|A)|A)\n",
    "\n",
    "A2 = random_r_blade(2, alg)\n",
    "P(B, A2), B"
   ]
  },
  {
   "cell_type": "code",
   "execution_count": 44,
   "metadata": {},
   "outputs": [
    {
     "data": {
      "text/plain": [
       "0.328 + 0.791 𝐞₁ + 0.815 𝐞₂ + 0.157 𝐞₃ + 0.171 𝐞₄ + 0.785 𝐞₁₂ + 0.461 𝐞₁₃ + 0.47 𝐞₁₄ + 0.319 𝐞₂₃ + 0.315 𝐞₂₄ + -0.00615 𝐞₃₄ + -8.67e-18 𝐞₁₂₃ + -2.25e-17 𝐞₁₂₄ + 1.01e-17 𝐞₁₃₄ + 4.31e-18 𝐞₂₃₄ + -1.35e-19 𝐞₁₂₃₄"
      ]
     },
     "execution_count": 44,
     "metadata": {},
     "output_type": "execute_result"
    }
   ],
   "source": [
    "# Is this projection equivalent to its outermorphism?\n",
    "# Yes, and it's by 2.13d\n",
    "from gc_utils import outermorphism\n",
    "outermorphism(lambda x: P(x, A2), B, alg)"
   ]
  },
  {
   "cell_type": "code",
   "execution_count": 45,
   "metadata": {},
   "outputs": [
    {
     "data": {
      "text/plain": [
       "[(0.328, 0.328),\n",
       " (0.791 𝐞₁ + 0.815 𝐞₂ + 0.157 𝐞₃ + 0.171 𝐞₄,\n",
       "  0.586 𝐞₁ + 0.522 𝐞₂ + 0.8 𝐞₃ + 0.0292 𝐞₄),\n",
       " (0.785 𝐞₁₂ + 0.461 𝐞₁₃ + 0.47 𝐞₁₄ + 0.319 𝐞₂₃ + 0.315 𝐞₂₄ + -0.00615 𝐞₃₄,\n",
       "  0.474 𝐞₁₂ + 0.992 𝐞₁₃ + 0.743 𝐞₁₄ + 0.152 𝐞₂₃ + 0.907 𝐞₂₄ + 0.516 𝐞₃₄),\n",
       " (1.18e-16 𝐞₁ + 5.9e-17 𝐞₂ + -6.45e-18 𝐞₃ + -1.52e-17 𝐞₄,\n",
       "  0.832 𝐞₁₂₃ + 0.765 𝐞₁₂₄ + 0.938 𝐞₁₃₄ + 0.643 𝐞₂₃₄),\n",
       " (2.53e-18, 0.187 𝐞₁₂₃₄)]"
      ]
     },
     "execution_count": 45,
     "metadata": {},
     "output_type": "execute_result"
    }
   ],
   "source": [
    "#2.9b Indeed just the scalar part equal, and grades greater than projected dimension goes zero\n",
    "[(P(B.grade(r), A2), B.grade(r)) for r in B.grades]"
   ]
  },
  {
   "cell_type": "markdown",
   "metadata": {},
   "source": [
    "##### 2.10a \n",
    "In PGA, the projection is extended for s >= n:"
   ]
  },
  {
   "cell_type": "code",
   "execution_count": 46,
   "metadata": {},
   "outputs": [
    {
     "data": {
      "text/plain": [
       "(1.18e-16 𝐞₁ + 5.9e-17 𝐞₂ + -6.45e-18 𝐞₃ + -1.52e-17 𝐞₄,\n",
       " 1.18e-16 𝐞₁ + 5.9e-17 𝐞₂ + -6.45e-18 𝐞₃ + -1.52e-17 𝐞₄ + 0.598 𝐞₁₂₃ + 0.989 𝐞₁₂₄ + 0.223 𝐞₁₃₄ + 0.163 𝐞₂₃₄)"
      ]
     },
     "execution_count": 46,
     "metadata": {},
     "output_type": "execute_result"
    }
   ],
   "source": [
    "def P_(a, A):\n",
    "    return (1/(A**2)[0])*((a|A)*A)\n",
    "B3 = B.grade(3)\n",
    "\n",
    "P(B3, A2), P_(B3, A2), "
   ]
  },
  {
   "cell_type": "code",
   "execution_count": 47,
   "metadata": {},
   "outputs": [],
   "source": [
    "#2.13c\n",
    "assert_diff(P(B, A2), P(P(B, A2), A2))"
   ]
  },
  {
   "cell_type": "markdown",
   "metadata": {},
   "source": [
    "##### 2.13d \n",
    "note that the extended projection doesn't satisfy the outermorphism property"
   ]
  },
  {
   "cell_type": "code",
   "execution_count": 48,
   "metadata": {},
   "outputs": [
    {
     "data": {
      "text/plain": [
       "(0.0497 + 0.34 𝐞₁ + 0.431 𝐞₂ + 0.115 𝐞₃ + 0.122 𝐞₄ + 0.475 𝐞₁₂ + 0.279 𝐞₁₃ + 0.285 𝐞₁₄ + 0.193 𝐞₂₃ + 0.191 𝐞₂₄ + -0.00372 𝐞₃₄,\n",
       " 0.0497 + 0.34 𝐞₁ + 0.431 𝐞₂ + 0.115 𝐞₃ + 0.122 𝐞₄ + 0.475 𝐞₁₂ + 0.279 𝐞₁₃ + 0.285 𝐞₁₄ + 0.193 𝐞₂₃ + 0.191 𝐞₂₄ + -0.00372 𝐞₃₄ + -2.78e-17 𝐞₁₂₃ + -5.55e-17 𝐞₁₂₄ + -1.21e-17 𝐞₁₃₄ + 6.07e-18 𝐞₂₃₄ + -3.47e-18 𝐞₁₂₃₄,\n",
       " 0.0497 + 0.34 𝐞₁ + 0.431 𝐞₂ + 0.115 𝐞₃ + 0.122 𝐞₄ + 0.475 𝐞₁₂ + 0.279 𝐞₁₃ + 0.285 𝐞₁₄ + 0.193 𝐞₂₃ + 0.191 𝐞₂₄ + -0.00372 𝐞₃₄ + 0.44 𝐞₁₂₃ + -0.178 𝐞₁₂₄ + -0.368 𝐞₁₃₄ + -0.249 𝐞₂₃₄ + -0.0501 𝐞₁₂₃₄,\n",
       " 0.0497 + 0.34 𝐞₁ + 0.431 𝐞₂ + 0.115 𝐞₃ + 0.122 𝐞₄ + 0.475 𝐞₁₂ + 0.279 𝐞₁₃ + 0.285 𝐞₁₄ + 0.193 𝐞₂₃ + 0.191 𝐞₂₄ + -0.00372 𝐞₃₄ + 0.164 𝐞₁₂₃ + 0.217 𝐞₁₂₄ + 0.0293 𝐞₁₃₄ + 0.0225 𝐞₂₃₄ + 0.1 𝐞₁₂₃₄)"
      ]
     },
     "execution_count": 48,
     "metadata": {},
     "output_type": "execute_result"
    }
   ],
   "source": [
    "P(B^C, A2), P(B, A2)^P(C, A2), P_(B^C, A2), P_(B, A2)^P_(C, A2)"
   ]
  },
  {
   "cell_type": "markdown",
   "metadata": {},
   "source": [
    "##### 2.14b\n",
    "Note that this equation holds for veoctos only. \n",
    "\n",
    "The extension of summation by outermorphism doesn't preserve its summation structure.\n",
    "\n",
    "Or another explanation: the expansion of a multivector uses a scalar product, \n",
    "\n",
    "which happens to be the inner product for vectors."
   ]
  },
  {
   "cell_type": "code",
   "execution_count": 49,
   "metadata": {},
   "outputs": [
    {
     "data": {
      "text/plain": [
       "(0.939 𝐞₁ + 0.954 𝐞₂ + 0.475 𝐞₃,\n",
       " 0.939 𝐞₁ + 0.954 𝐞₂ + 0.475 𝐞₃,\n",
       " 0.256 + 0.66 𝐞₁ + 0.28 𝐞₂ + 0.518 𝐞₃ + 0.166 𝐞₁₂ + 0.83 𝐞₁₃ + 0.639 𝐞₂₃ + 0.986 𝐞₁₂₃,\n",
       " 0.513 + 0.66 𝐞₁ + 0.28 𝐞₂ + 0.518 𝐞₃ + 0.166 𝐞₁₂)"
      ]
     },
     "execution_count": 49,
     "metadata": {},
     "output_type": "execute_result"
    }
   ],
   "source": [
    "P(a, e123), P(a, e12) + P(a, e3), P(A, e123), P(A, e12) + P(A, e3)"
   ]
  },
  {
   "cell_type": "code",
   "execution_count": 50,
   "metadata": {},
   "outputs": [
    {
     "data": {
      "text/plain": [
       "(0.166 𝐞₁₂ + 0.83 𝐞₁₃ + 0.559 𝐞₁₄ + 0.639 𝐞₂₃ + 0.534 𝐞₂₄ + 0.706 𝐞₃₄,\n",
       " 0.166 𝐞₁₂ + 0.83 𝐞₁₃ + 0.639 𝐞₂₃,\n",
       " 0.166 𝐞₁₂,\n",
       " 0.166 𝐞₁₂ + 0.83 𝐞₁₃ + 0.639 𝐞₂₃,\n",
       " 0.166 𝐞₁₂ + 0.83 𝐞₁₃ + 0.639 𝐞₂₃ + 0.706 𝐞₃₄)"
      ]
     },
     "execution_count": 50,
     "metadata": {},
     "output_type": "execute_result"
    }
   ],
   "source": [
    "#2.14b\n",
    "A2 = A.grade(2)\n",
    "A2, P(A2, e123), P(A2, e12) + P(A2, e3), P_(A2, e123), P_(A2, e12) + P_(A2, e3)"
   ]
  },
  {
   "cell_type": "code",
   "execution_count": 51,
   "metadata": {},
   "outputs": [
    {
     "data": {
      "text/plain": [
       "(0.954 𝐞₂ + 0.475 𝐞₃,\n",
       " 0.954 𝐞₂ + 0.475 𝐞₃,\n",
       " 0.256 + 0.28 𝐞₂ + 0.518 𝐞₃ + 0.639 𝐞₂₃,\n",
       " 0.28 𝐞₂ + 0.518 𝐞₃ + 0.166 𝐞₁₂ + 0.83 𝐞₁₃ + 0.639 𝐞₂₃ + 0.986 𝐞₁₂₃)"
      ]
     },
     "execution_count": 51,
     "metadata": {},
     "output_type": "execute_result"
    }
   ],
   "source": [
    "#2.15b\n",
    "P(a, e23), P(a, e123) - P(a, e1), P(A, e23), P(A, e123) - P(A, e1)"
   ]
  },
  {
   "cell_type": "code",
   "execution_count": 52,
   "metadata": {},
   "outputs": [
    {
     "data": {
      "text/plain": [
       "(0.256 + 0.66 𝐞₁, 0.256 + 0.66 𝐞₁, 0.256 + 0.66 𝐞₁)"
      ]
     },
     "execution_count": 52,
     "metadata": {},
     "output_type": "execute_result"
    }
   ],
   "source": [
    "#2.15c\n",
    "P(A, e1), P(P(A, e123), e1), P(P(A, e1), e123)"
   ]
  },
  {
   "cell_type": "code",
   "execution_count": 53,
   "metadata": {},
   "outputs": [
    {
     "data": {
      "text/plain": [
       "((4.44e-16 + -0.84 𝐞₁ + -0.808 𝐞₂ + -0.2 𝐞₃ + 0.048 𝐞₄ + -0.0434 𝐞₁₂ + 0.494 𝐞₁₃ + 0.359 𝐞₁₄ + 0.486 𝐞₂₃ + 0.342 𝐞₂₄ + 0.114 𝐞₃₄ + -0.0214 𝐞₁₂₃ + -0.595 𝐞₁₂₄ + 2.41 𝐞₁₃₄ + 2.46 𝐞₂₃₄ + 0.00175 𝐞₁₂₃₄,\n",
       "  -0.84 𝐞₁ + -0.808 𝐞₂ + -0.2 𝐞₃ + 0.048 𝐞₄ + -0.0434 𝐞₁₂ + 0.494 𝐞₁₃ + 0.359 𝐞₁₄ + 0.486 𝐞₂₃ + 0.342 𝐞₂₄ + 0.114 𝐞₃₄ + -0.0214 𝐞₁₂₃ + -0.595 𝐞₁₂₄ + 2.41 𝐞₁₃₄ + 2.46 𝐞₂₃₄ + 0.00175 𝐞₁₂₃₄),\n",
       " (-0.00759 + -0.829 𝐞₁ + -0.783 𝐞₂ + -0.302 𝐞₃ + 0.0601 𝐞₄ + -0.0919 𝐞₁₂ + 0.436 𝐞₁₃ + 0.27 𝐞₁₄ + 0.447 𝐞₂₃ + 0.253 𝐞₂₄ + 0.111 𝐞₃₄ + -0.143 𝐞₁₂₃ + -0.595 𝐞₁₂₄ + 2.41 𝐞₁₃₄ + 2.5 𝐞₂₃₄ + -1.04e-17 𝐞₁₂₃₄,\n",
       "  -0.00759 + -0.829 𝐞₁ + -0.783 𝐞₂ + -0.302 𝐞₃ + 0.0601 𝐞₄ + -0.0919 𝐞₁₂ + 0.436 𝐞₁₃ + 0.27 𝐞₁₄ + 0.447 𝐞₂₃ + 0.253 𝐞₂₄ + 0.111 𝐞₃₄ + -0.143 𝐞₁₂₃ + -0.595 𝐞₁₂₄ + 2.41 𝐞₁₃₄ + 2.5 𝐞₂₃₄))"
      ]
     },
     "execution_count": 53,
     "metadata": {},
     "output_type": "execute_result"
    }
   ],
   "source": [
    "#2.16\n",
    "A2 = random_r_blade(2, alg)\n",
    "ap = P(a, A2)\n",
    "(inner(ap, B) * A2, ap ^ (B*A2)), ((ap^B)*A2, inner(ap,(B*A2)))"
   ]
  },
  {
   "cell_type": "code",
   "execution_count": 103,
   "metadata": {},
   "outputs": [
    {
     "data": {
      "text/plain": [
       "(1 𝐞₃ + 1 𝐞₄, 1 𝐞₁ + 1 𝐞₁₃₄, 1 𝐞₁ + 1 𝐞₁₃₄, 1 + -1 𝐞₁₂ + 1 𝐞₃₄)"
      ]
     },
     "execution_count": 103,
     "metadata": {},
     "output_type": "execute_result"
    }
   ],
   "source": [
    "#2.16\n",
    "B2 = e14 + e13 + e23\n",
    "(\n",
    "    e1 | B2, \n",
    "    (e1 | B2) * e13, \n",
    "    (e1 ^ (B2 * e13)), \n",
    "    B2 * e13\n",
    "    )"
   ]
  },
  {
   "cell_type": "markdown",
   "metadata": {},
   "source": [
    "##### 2.18"
   ]
  },
  {
   "cell_type": "code",
   "execution_count": 55,
   "metadata": {},
   "outputs": [
    {
     "data": {
      "text/plain": [
       "(2e-15 + 6.66e-16 𝐞₁ + 1.33e-15 𝐞₂ + -1.44e-15 𝐞₃ + 1.11e-15 𝐞₄ + 0.104 𝐞₁₂ + 0.904 𝐞₁₃ + -0.0162 𝐞₁₄ + 0.842 𝐞₂₃ + -0.0109 𝐞₂₄ + 0.036 𝐞₃₄ + 0.165 𝐞₁₂₃ + 0.0667 𝐞₁₂₄ + 0.603 𝐞₁₃₄ + 0.555 𝐞₂₃₄ + -0.000683 𝐞₁₂₃₄,\n",
       " 0.104 𝐞₁₂ + 0.904 𝐞₁₃ + -0.0162 𝐞₁₄ + 0.842 𝐞₂₃ + -0.0109 𝐞₂₄ + 0.036 𝐞₃₄ + 0.165 𝐞₁₂₃ + 0.0667 𝐞₁₂₄ + 0.603 𝐞₁₃₄ + 0.555 𝐞₂₃₄ + -0.000683 𝐞₁₂₃₄,\n",
       " -6e-15 + -0.128 𝐞₁ + -0.123 𝐞₂ + -0.0375 𝐞₃ + 0.00576 𝐞₄ + 0.104 𝐞₁₂ + 0.904 𝐞₁₃ + -0.0162 𝐞₁₄ + 0.842 𝐞₂₃ + -0.0109 𝐞₂₄ + 0.036 𝐞₃₄ + 0.162 𝐞₁₂₃ + 0.0673 𝐞₁₂₄ + 0.609 𝐞₁₃₄ + 0.56 𝐞₂₃₄ + -0.000683 𝐞₁₂₃₄,\n",
       " -0.128 𝐞₁ + -0.123 𝐞₂ + -0.0375 𝐞₃ + 0.00576 𝐞₄ + 0.104 𝐞₁₂ + 0.904 𝐞₁₃ + -0.0162 𝐞₁₄ + 0.842 𝐞₂₃ + -0.0109 𝐞₂₄ + 0.036 𝐞₃₄ + 0.162 𝐞₁₂₃ + 0.0673 𝐞₁₂₄ + 0.609 𝐞₁₃₄ + 0.56 𝐞₂₃₄ + -0.000683 𝐞₁₂₃₄)"
      ]
     },
     "execution_count": 55,
     "metadata": {},
     "output_type": "execute_result"
    }
   ],
   "source": [
    "# The restriction of C.grade <= B.grade can be replaced by left contraction\n",
    "C2 = C.grade(2) + C.grade(1)\n",
    "B3 = B.grade(3)\n",
    "PC2 = P(C2, A2)\n",
    "PC = P(C, A2)\n",
    "(PC2 | B3) * A2, PC2 ^ (B3 * A2), alg.lc(PC, B3) * A2, PC ^ (B3 * A2)"
   ]
  },
  {
   "cell_type": "markdown",
   "metadata": {},
   "source": [
    "##### 2.21"
   ]
  },
  {
   "cell_type": "code",
   "execution_count": 56,
   "metadata": {},
   "outputs": [
    {
     "data": {
      "text/plain": [
       "(1 𝐞₁₂₃, 1 𝐞₁₂₃)"
      ]
     },
     "execution_count": 56,
     "metadata": {},
     "output_type": "execute_result"
    }
   ],
   "source": [
    "e12 ^ e3, e12 ^ (e1 + e3)"
   ]
  },
  {
   "cell_type": "code",
   "execution_count": 57,
   "metadata": {},
   "outputs": [],
   "source": [
    "def max_grade(B):\n",
    "    for r in B.grades[::-1]:\n",
    "        Br = B.grade(r)\n",
    "        if np.max(np.abs(Br[:])) > 1e-8:\n",
    "            return Br"
   ]
  },
  {
   "cell_type": "markdown",
   "metadata": {},
   "source": [
    "##### 2.22\n",
    "How to find common factor? Join, but we need an addition information:\n",
    "\n",
    "a common subspace containing A and B where A.dual is independent of B.dual.\n",
    "\n",
    "If they happen to span the algebra, we can use the build-in regressive product,\n",
    "\n",
    "which is dual -> wedge -> undual using Hodge dual"
   ]
  },
  {
   "cell_type": "code",
   "execution_count": 106,
   "metadata": {},
   "outputs": [
    {
     "data": {
      "text/plain": [
       "(-0.00179 𝐞₁₂ + -0.00135 𝐞₁₃ + -0.000583 𝐞₁₄ + 0.00421 𝐞₂₃ + 0.00236 𝐞₂₄ + 0.000407 𝐞₃₄,\n",
       " -0.00179 𝐞₁₂ + -0.00135 𝐞₁₃ + -0.000583 𝐞₁₄ + 0.00421 𝐞₂₃ + 0.00236 𝐞₂₄ + 0.000407 𝐞₃₄)"
      ]
     },
     "execution_count": 106,
     "metadata": {},
     "output_type": "execute_result"
    }
   ],
   "source": [
    "# common factor axiom\n",
    "B2 = random_r_blade(2,alg)\n",
    "c = random_vector(alg)\n",
    "(a ^ B2).rp(B2 ^ c), B2.rp(a^B2^c)"
   ]
  },
  {
   "cell_type": "code",
   "execution_count": 77,
   "metadata": {},
   "outputs": [
    {
     "data": {
      "text/plain": [
       "(0.146 𝐞₁₂₃ + -0.141 𝐞₁₂₄ + 0.128 𝐞₁₃₄ + 0.103 𝐞₂₃₄,\n",
       " 0.146 𝐞₁₂₃ + -0.141 𝐞₁₂₄ + 0.128 𝐞₁₃₄ + 0.103 𝐞₂₃₄,\n",
       " -0.103 𝐞₁ + -0.128 𝐞₂ + -0.141 𝐞₃ + -0.146 𝐞₄)"
      ]
     },
     "execution_count": 77,
     "metadata": {},
     "output_type": "execute_result"
    }
   ],
   "source": [
    "B3 = random_r_blade(3, alg)\n",
    "AB = A2 * B3\n",
    "C = A2.rp(B3)\n",
    "\n",
    "max_grade(AB), (A2|C) ^ (C|B3) / C**2, C"
   ]
  },
  {
   "cell_type": "code",
   "execution_count": null,
   "metadata": {},
   "outputs": [
    {
     "data": {
      "text/plain": [
       "(5.55e-17 𝐞₁₂₃₄,\n",
       " -5.55e-17,\n",
       " -0.127 + 0.208 𝐞₁₂ + -0.0368 𝐞₁₃ + -0.0356 𝐞₁₄ + -0.0424 𝐞₂₃ + -0.209 𝐞₂₄ + 0.0296 𝐞₃₄ + -5.55e-17 𝐞₁₂₃₄)"
      ]
     },
     "execution_count": 81,
     "metadata": {},
     "output_type": "execute_result"
    }
   ],
   "source": [
    "# But when both A and B in a smaller subspace, the build-in regressive product fails:\n",
    "vectors = random_r_vectors(3, alg) # the smaller subspace\n",
    "A2 = wedge(vectors[:2])\n",
    "B2 = wedge(vectors[1:])\n",
    "B2.dual() ^ A2.dual(), A2.rp(B2), A2 * B2"
   ]
  },
  {
   "cell_type": "code",
   "execution_count": 98,
   "metadata": {},
   "outputs": [
    {
     "data": {
      "text/plain": [
       "0.127 + 0.208 𝐞₁₂ + -0.0368 𝐞₁₃ + -0.0356 𝐞₁₄ + -0.0424 𝐞₂₃ + -0.209 𝐞₂₄ + 0.0296 𝐞₃₄ + 5.55e-17 𝐞₁₂₃₄"
      ]
     },
     "execution_count": 98,
     "metadata": {},
     "output_type": "execute_result"
    }
   ],
   "source": [
    "B2.dual() * A2.dual()"
   ]
  },
  {
   "cell_type": "markdown",
   "metadata": {},
   "source": [
    "##### vector split of a blade\n",
    "a simple method finding a common subspace:\n",
    "\n",
    "projection and contraction"
   ]
  },
  {
   "cell_type": "code",
   "execution_count": null,
   "metadata": {},
   "outputs": [
    {
     "data": {
      "text/plain": [
       "2.220446049250313e-16"
      ]
     },
     "execution_count": 82,
     "metadata": {},
     "output_type": "execute_result"
    }
   ],
   "source": [
    "# splitting a blade into vectors\n",
    "# choose any nonorthonormal vector e.g. e1\n",
    "v1 = P(e1, A2)\n",
    "# contract the parallel part\n",
    "v2 = v1 | A2\n",
    "max_diff(v1 ^ v2 / v1**2, A2)"
   ]
  },
  {
   "cell_type": "code",
   "execution_count": null,
   "metadata": {},
   "outputs": [
    {
     "data": {
      "text/plain": [
       "(-7.36e-16 𝐞₁₂₃₄, array([-4.0655004, -4.0655004, -4.0655004, -4.0655004]))"
      ]
     },
     "execution_count": 88,
     "metadata": {},
     "output_type": "execute_result"
    }
   ],
   "source": [
    "# we split both blades and find out the space they span\n",
    "from gc_utils import terms_ratio\n",
    "v3 = P(e1, B2)\n",
    "v4 = v3 | B2\n",
    "v1 ^ v2 ^v3 ^v4, terms_ratio(v1 ^ v2 ^v3, v1 ^ v2 ^v4)"
   ]
  },
  {
   "cell_type": "code",
   "execution_count": null,
   "metadata": {},
   "outputs": [
    {
     "data": {
      "text/plain": [
       "1.4699352846037073e-13"
      ]
     },
     "execution_count": 86,
     "metadata": {},
     "output_type": "execute_result"
    }
   ],
   "source": [
    "# Give a check on 2.22\n",
    "I = v1^v2^v3  # the common subspace\n",
    "C = -((B2*I) ^ (A2*I))*I\n",
    "max_diff(max_grade(A2*B2), (A2|C) ^ (C|B2) / C**2)"
   ]
  },
  {
   "cell_type": "code",
   "execution_count": 92,
   "metadata": {},
   "outputs": [
    {
     "data": {
      "text/plain": [
       "(-0.00244 𝐞₁₂₃ + -0.139 𝐞₁₂₄ + 0.113 𝐞₁₃₄ + 0.327 𝐞₂₃₄,\n",
       " [-0.00244 𝐞₂₃ + -0.139 𝐞₂₄ + 0.113 𝐞₃₄,\n",
       "  -0.00244 𝐞₁₃ + -0.139 𝐞₁₄ + -0.327 𝐞₃₄,\n",
       "  0.00244 𝐞₁₂ + 0.113 𝐞₁₄ + 0.327 𝐞₂₄,\n",
       "  0.139 𝐞₁₂ + -0.113 𝐞₁₃ + -0.327 𝐞₂₃])"
      ]
     },
     "execution_count": 92,
     "metadata": {},
     "output_type": "execute_result"
    }
   ],
   "source": [
    "B3, [e | B3 for e in alg.frame]"
   ]
  },
  {
   "cell_type": "code",
   "execution_count": 95,
   "metadata": {},
   "outputs": [
    {
     "data": {
      "text/plain": [
       "0.001 𝐞₁₂ + -4.96e-05 𝐞₁₃ + 0.0438 𝐞₁₄ + -0.00155 𝐞₂₃ + 0.0465 𝐞₂₄ + 0.0653 𝐞₃₄"
      ]
     },
     "execution_count": 95,
     "metadata": {},
     "output_type": "execute_result"
    }
   ],
   "source": [
    "(B3 | A2) | B3"
   ]
  },
  {
   "cell_type": "code",
   "execution_count": null,
   "metadata": {},
   "outputs": [],
   "source": [
    "# A more efficient scheme:\n",
    "def common_subspace(A, B):\n",
    "    "
   ]
  },
  {
   "cell_type": "code",
   "execution_count": 63,
   "metadata": {},
   "outputs": [
    {
     "data": {
      "text/plain": [
       "[-2.78e-17, , 2.6e-18]"
      ]
     },
     "execution_count": 63,
     "metadata": {},
     "output_type": "execute_result"
    }
   ],
   "source": [
    "#3.1 orthogonalize\n",
    "vectors = random_r_vectors(4, alg)\n",
    "\n",
    "def gram_schmidt(vectors):\n",
    "    o_vecs = [vectors[0]]\n",
    "    Ar = vectors[0]\n",
    "    for v in vectors[1:]:\n",
    "        Ar1 = Ar ^ v\n",
    "        o_vecs.append(Ar | Ar1)\n",
    "        Ar = Ar1\n",
    "    return o_vecs\n",
    "\n",
    "\n",
    "orthvecs = gram_schmidt(vectors)\n",
    "[orthvecs[i] | orthvecs[j] for i, j in [(0,1), (2,3), (1,3)]]"
   ]
  },
  {
   "cell_type": "code",
   "execution_count": 64,
   "metadata": {},
   "outputs": [
    {
     "data": {
      "text/plain": [
       "[1.0, -1.11e-15, , 1.0]"
      ]
     },
     "execution_count": 64,
     "metadata": {},
     "output_type": "execute_result"
    }
   ],
   "source": [
    "#3.5 reciprocal frame\n",
    "def reciprocal(vectors):\n",
    "    An = wedge(vectors)\n",
    "    return [(-1)**k * wedge(vectors[:k]+vectors[k+1:])| An / An ** 2 for k in range(len(vectors))]\n",
    "\n",
    "r_vecs = reciprocal(vectors)\n",
    "[r_vecs[i]|vectors[j] for i, j in [(1,1), (2,3), (0,3), (3,3)]]\n"
   ]
  },
  {
   "cell_type": "code",
   "execution_count": 65,
   "metadata": {},
   "outputs": [
    {
     "data": {
      "text/plain": [
       "[0.641 𝐞₁ + 0.853 𝐞₂ + 0.899 𝐞₃ + 0.976 𝐞₄,\n",
       " 0.896 𝐞₁ + 0.246 𝐞₂ + 0.852 𝐞₃ + 0.22 𝐞₄,\n",
       " 0.904 𝐞₁ + 0.286 𝐞₂ + 0.16 𝐞₃ + 0.207 𝐞₄]"
      ]
     },
     "execution_count": 65,
     "metadata": {},
     "output_type": "execute_result"
    }
   ],
   "source": [
    "from itertools import combinations\n",
    "\n",
    "def multiindex(n, r):\n",
    "    return list(combinations(range(n), r))\n",
    "[vectors[i] for i in multiindex(4,3)[0]]"
   ]
  },
  {
   "cell_type": "code",
   "execution_count": 66,
   "metadata": {},
   "outputs": [
    {
     "data": {
      "text/plain": [
       "[0.434 𝐞₁₂₃ + 0.0366 𝐞₁₂₄ + -0.51 𝐞₁₃₄ + -0.0683 𝐞₂₃₄,\n",
       " -0.164 𝐞₁₂₃ + -0.121 𝐞₁₂₄ + 0.146 𝐞₁₃₄ + 0.115 𝐞₂₃₄,\n",
       " -0.229 𝐞₁₂₃ + -0.124 𝐞₁₂₄ + 0.143 𝐞₁₃₄ + 0.0147 𝐞₂₃₄,\n",
       " 0.291 𝐞₁₂₃ + 0.0304 𝐞₁₂₄ + -0.453 𝐞₁₃₄ + -0.082 𝐞₂₃₄]"
      ]
     },
     "execution_count": 66,
     "metadata": {},
     "output_type": "execute_result"
    }
   ],
   "source": [
    "#3.9 r-vector frame\n",
    "from itertools import combinations\n",
    "\n",
    "def r_indexes(n, r):\n",
    "    return list(combinations(range(n), r))\n",
    "\n",
    "def extract(vectors, indexes):\n",
    "    return [vectors[i] for i in indexes]\n",
    "\n",
    "def r_vector_frame(vectors, r, reverse=False):\n",
    "    n = len(vectors)\n",
    "    indexes = r_indexes(n, r)\n",
    "    if reverse:\n",
    "        return [wedge(extract(vectors, i[::-1])) for i in indexes]\n",
    "    return [wedge(extract(vectors, i)) for i in indexes]\n",
    "\n",
    "r_vector_frame(vectors, 3)"
   ]
  },
  {
   "cell_type": "code",
   "execution_count": 67,
   "metadata": {},
   "outputs": [],
   "source": [
    "# I found it cumbersome to deal with signs...\n",
    "def find_complement(combo, full):\n",
    "    return [item for item in full if item not in combo]\n",
    "\n",
    "def comp_indexes(indexes, full):\n",
    "    return [find_complement(comb, full) for comb in indexes]\n",
    "\n",
    "# def r_vector_complement_frame(vectors, r):\n",
    "#     return [wedge(find_complement(comb, vectors)) for comb in combinations(vectors, r)]"
   ]
  },
  {
   "cell_type": "code",
   "execution_count": 68,
   "metadata": {},
   "outputs": [
    {
     "data": {
      "text/plain": [
       "[1.0, 1.33e-15, 1.0, 2.22e-16]"
      ]
     },
     "execution_count": 68,
     "metadata": {},
     "output_type": "execute_result"
    }
   ],
   "source": [
    "#3.11\n",
    "r = 3\n",
    "framer = r_vector_frame(vectors, r)\n",
    "framerr = r_vector_frame(r_vecs, r)\n",
    "[(-1)**(r*(r-1)/2)*framerr[i] | framer[j] for i,j in [(1,1), (1,3), (3,3), (2,3)]]"
   ]
  },
  {
   "cell_type": "code",
   "execution_count": 69,
   "metadata": {},
   "outputs": [
    {
     "data": {
      "text/plain": [
       "[1.0,\n",
       " 1.11e-16,\n",
       " 4.44e-16,\n",
       " 4.44e-16,\n",
       " 1.0,\n",
       " 4.44e-16,\n",
       " -4.44e-16,\n",
       " 1.0,\n",
       " -5.13e-16,\n",
       " 1.0]"
      ]
     },
     "execution_count": 69,
     "metadata": {},
     "output_type": "execute_result"
    }
   ],
   "source": [
    "#3.14\n",
    "n = len(vectors)\n",
    "r = 3\n",
    "indexes = r_indexes(n, r)\n",
    "[wedge(extract(r_vecs, i[::-1])) | wedge(extract(vectors, j)) for k,j in enumerate(indexes) for i in indexes[k:]]"
   ]
  },
  {
   "cell_type": "code",
   "execution_count": 70,
   "metadata": {},
   "outputs": [
    {
     "data": {
      "text/plain": [
       "[3.33e-16, 1.0, 0, 1.0]"
      ]
     },
     "execution_count": 70,
     "metadata": {},
     "output_type": "execute_result"
    }
   ],
   "source": [
    "#3.19\n",
    "def multi_frame(vectors, reverse=False): # reverse for reciprocal frames\n",
    "    multi_frame = [1]\n",
    "    for r in range(1, len(vectors)+1):\n",
    "        multi_frame += r_vector_frame(vectors, r, reverse)\n",
    "    return multi_frame\n",
    "rf = multi_frame(r_vecs[:2], reverse=True)\n",
    "f = multi_frame(vectors[:2])\n",
    "\n",
    "[rf[i].sp(f[j]) for i, j in [(1,2), (1,1), (1,3), (3,3)]]"
   ]
  },
  {
   "cell_type": "code",
   "execution_count": 71,
   "metadata": {},
   "outputs": [
    {
     "data": {
      "text/plain": [
       "2.4424906541753444e-15"
      ]
     },
     "execution_count": 71,
     "metadata": {},
     "output_type": "execute_result"
    }
   ],
   "source": [
    "#3.20\n",
    "A2 = wedge(vectors[:2])\n",
    "r_vecs = reciprocal(vectors[:2])\n",
    "\n",
    "PB = B * 0\n",
    "for a, ar in zip(multi_frame(vectors[:2]), multi_frame(r_vecs[:2], reverse=True)):\n",
    "    PB += B.sp(a) * ar\n",
    "max_diff(P(B, A2), PB)"
   ]
  },
  {
   "cell_type": "code",
   "execution_count": 72,
   "metadata": {},
   "outputs": [
    {
     "data": {
      "text/plain": [
       "1.5543122344752192e-15"
      ]
     },
     "execution_count": 72,
     "metadata": {},
     "output_type": "execute_result"
    }
   ],
   "source": [
    "#3.21 solve a vector equation\n",
    "a = random_multivector(alg).grade(1)\n",
    "beta = []\n",
    "Bn = wedge(vectors)\n",
    "for k in range(len(vectors)):\n",
    "    beta.append((wedge(vectors[:k])^a^wedge(vectors[k+1:]))/Bn)\n",
    "\n",
    "max_diff(a, sum(vectors[i]*beta[i] for i in range(len(vectors))))"
   ]
  },
  {
   "cell_type": "code",
   "execution_count": 73,
   "metadata": {},
   "outputs": [
    {
     "data": {
      "text/plain": [
       "3.3306690738754696e-16"
      ]
     },
     "execution_count": 73,
     "metadata": {},
     "output_type": "execute_result"
    }
   ],
   "source": [
    "# solve matrix eq\n",
    "r = 4\n",
    "matrix = np.random.rand(r,r)\n",
    "b = np.random.rand(r)\n",
    "sol = np.linalg.solve(matrix, b)\n",
    "max_diff(np.dot(matrix, sol), b)"
   ]
  },
  {
   "cell_type": "code",
   "execution_count": 74,
   "metadata": {},
   "outputs": [
    {
     "data": {
      "text/plain": [
       "(1.4432899320127035e-15, 1.1102230246251565e-15)"
      ]
     },
     "execution_count": 74,
     "metadata": {},
     "output_type": "execute_result"
    }
   ],
   "source": [
    "#3.23\n",
    "# Using e_i frame\n",
    "# alg = Algebra(r)\n",
    "matrix = matrix.transpose()\n",
    "vectors = [alg.vector(matrix[i]) for i in range(r)] \n",
    "a = alg.vector(b)\n",
    "\n",
    "beta = []\n",
    "Bn = wedge(vectors)\n",
    "for k in range(len(vectors)):\n",
    "    beta.append((wedge(vectors[:k])^a^wedge(vectors[k+1:]))/Bn)\n",
    "\n",
    "max_diff(a, sum(vectors[i]*beta[i] for i in range(len(vectors)))), max_diff(sol, [beta[i][0] for i in range(r)])"
   ]
  }
 ],
 "metadata": {
  "kernelspec": {
   "display_name": "3.10.5",
   "language": "python",
   "name": "python3"
  },
  "language_info": {
   "codemirror_mode": {
    "name": "ipython",
    "version": 3
   },
   "file_extension": ".py",
   "mimetype": "text/x-python",
   "name": "python",
   "nbconvert_exporter": "python",
   "pygments_lexer": "ipython3",
   "version": "3.10.5"
  }
 },
 "nbformat": 4,
 "nbformat_minor": 2
}
