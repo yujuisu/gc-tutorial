{
 "cells": [
  {
   "cell_type": "markdown",
   "metadata": {},
   "source": [
    "### Linear and Multilinear Functions"
   ]
  },
  {
   "cell_type": "code",
   "execution_count": 1,
   "metadata": {},
   "outputs": [],
   "source": [
    "from kingdon import Algebra\n",
    "from gc_utils import *\n",
    "import numpy as np\n",
    "alg = Algebra(1,3)\n",
    "locals().update(alg.blades)"
   ]
  },
  {
   "cell_type": "code",
   "execution_count": 2,
   "metadata": {},
   "outputs": [
    {
     "data": {
      "text/plain": [
       "(-4.0 𝐞₁ + -2.34 𝐞₂ + -1.9 𝐞₃ + 3.11 𝐞₄,\n",
       " -4.0 𝐞₁ + -2.34 𝐞₂ + -1.9 𝐞₃ + 3.11 𝐞₄)"
      ]
     },
     "execution_count": 2,
     "metadata": {},
     "output_type": "execute_result"
    }
   ],
   "source": [
    "#1.1 linear transformation\n",
    "A = create_random_multivector(alg)\n",
    "B = create_random_multivector(alg)\n",
    "x = create_random_multivector(alg).grade(1)\n",
    "a = create_random_multivector(alg).grade(1)\n",
    "f = lambda x: (A*x*B).grade(1)\n",
    "differential(f, x, a), f(a)"
   ]
  },
  {
   "cell_type": "code",
   "execution_count": 3,
   "metadata": {},
   "outputs": [
    {
     "data": {
      "text/plain": [
       "(-1.32 𝐞₁ + 1.83 𝐞₂ + -4.45 𝐞₃ + -1.5 𝐞₄,\n",
       " -1.32 𝐞₁ + 1.83 𝐞₂ + -4.45 𝐞₃ + -1.5 𝐞₄)"
      ]
     },
     "execution_count": 3,
     "metadata": {},
     "output_type": "execute_result"
    }
   ],
   "source": [
    "#1.2\n",
    "C = create_random_multivector(alg)\n",
    "D = create_random_multivector(alg)\n",
    "g = lambda x: (C*x*D).grade(1)\n",
    "g(f(a)), differential(g, f(a), f(a))"
   ]
  },
  {
   "cell_type": "code",
   "execution_count": 4,
   "metadata": {},
   "outputs": [],
   "source": [
    "def skew_symmetrizer(F, Ar, alg, h=1e-6, frame=None, r_frame=None):\n",
    "    if not frame:\n",
    "        frame = alg.frame\n",
    "        r_frame = reciprocal(alg.frame)\n",
    "    drF = 0\n",
    "    r = Ar.grades[0]\n",
    "    for base_vectors, reci_vectors in zip(permutations(frame, r), permutations(r_frame, r)):\n",
    "        # if F is linear, vectors cause no difference in vectors_partial. The input is just Ar.\n",
    "        # So actually we allow Ar being any multivector\n",
    "        drF += (Ar.sp(wedge(base_vectors[::-1]))) * vectors_partial(F, np.zeros(r), reci_vectors, h=h)\n",
    "    return (1/factorial(r)) * drF"
   ]
  },
  {
   "cell_type": "code",
   "execution_count": 5,
   "metadata": {},
   "outputs": [
    {
     "data": {
      "text/plain": [
       "(-3.69 𝐞₁ + -2.67 𝐞₂ + -0.349 𝐞₃ + 1.83 𝐞₄,\n",
       " -3.69 𝐞₁ + -2.67 𝐞₂ + -0.349 𝐞₃ + 1.83 𝐞₄)"
      ]
     },
     "execution_count": 5,
     "metadata": {},
     "output_type": "execute_result"
    }
   ],
   "source": [
    "#1.4\n",
    "def outermorphism(f, A: MultiVector, alg, h=1e-6, frame=None, r_frame=None):\n",
    "    F = lambda vectors: wedge([f(v) for v in vectors])\n",
    "    outer = 0\n",
    "    for r in A.grades:\n",
    "        if r == 0:\n",
    "           outer += A.grade(0)\n",
    "           continue\n",
    "        outer += skew_symmetrizer(F, A.grade(r), alg, h, frame, r_frame)\n",
    "    return outer\n",
    "\n",
    "outermorphism(f, x, alg), f(x)"
   ]
  },
  {
   "cell_type": "code",
   "execution_count": 6,
   "metadata": {},
   "outputs": [
    {
     "data": {
      "text/plain": [
       "(0.496 + -0.812 𝐞₁ + -0.391 𝐞₂ + -0.53 𝐞₃ + 0.886 𝐞₄ + -0.445 𝐞₁₂ + 3.14 𝐞₁₃ + -0.304 𝐞₁₄ + 1.8 𝐞₂₃ + -0.632 𝐞₂₄ + 3.23 𝐞₃₄,\n",
       " 0.496 + -0.812 𝐞₁ + -0.391 𝐞₂ + -0.53 𝐞₃ + 0.886 𝐞₄ + -0.445 𝐞₁₂ + 3.14 𝐞₁₃ + -0.304 𝐞₁₄ + 1.8 𝐞₂₃ + -0.632 𝐞₂₄ + 3.23 𝐞₃₄)"
      ]
     },
     "execution_count": 6,
     "metadata": {},
     "output_type": "execute_result"
    }
   ],
   "source": [
    "#1.6\n",
    "h = 1e-2\n",
    "A2 = e12\n",
    "A2frame = [e1, e2]\n",
    "A2r_frame = reciprocal(A2frame)\n",
    "\n",
    "outermorphism(f, P(A, A2), alg, h, frame=A2frame, r_frame=A2r_frame), outermorphism(f, A, alg, h, frame=A2frame, r_frame=A2r_frame)"
   ]
  },
  {
   "cell_type": "code",
   "execution_count": 7,
   "metadata": {},
   "outputs": [
    {
     "data": {
      "text/plain": [
       "(-0.727 𝐞₁₂₃ + -0.387 𝐞₁₂₄ + 3.16 𝐞₁₃₄ + 2.62 𝐞₂₃₄,\n",
       " -0.727 𝐞₁₂₃ + -0.387 𝐞₁₂₄ + 3.16 𝐞₁₃₄ + 2.62 𝐞₂₃₄)"
      ]
     },
     "execution_count": 7,
     "metadata": {},
     "output_type": "execute_result"
    }
   ],
   "source": [
    "#1.7\n",
    "vectors = create_r_vectors(3, alg)\n",
    "outermorphism(f, wedge(vectors), alg), wedge([f(v) for v in vectors])"
   ]
  },
  {
   "cell_type": "code",
   "execution_count": 8,
   "metadata": {},
   "outputs": [
    {
     "data": {
      "text/plain": [
       "(0.638 + -3.49 𝐞₁ + -2.43 𝐞₂ + -1.23 𝐞₃ + 1.6 𝐞₄ + 0.313 𝐞₁₂ + -3.1 𝐞₁₃ + 0.0619 𝐞₁₄ + -2.7 𝐞₂₃ + 0.0477 𝐞₂₄ + -0.043 𝐞₃₄ + 0.718 𝐞₁₂₃ + -0.0928 𝐞₁₂₄ + -0.903 𝐞₁₃₄ + -0.94 𝐞₂₃₄ + -0.265 𝐞₁₂₃₄,\n",
       " 0.638 + -3.49 𝐞₁ + -2.43 𝐞₂ + -1.23 𝐞₃ + 1.6 𝐞₄ + 0.313 𝐞₁₂ + -3.1 𝐞₁₃ + 0.0619 𝐞₁₄ + -2.7 𝐞₂₃ + 0.0477 𝐞₂₄ + -0.043 𝐞₃₄ + 0.718 𝐞₁₂₃ + -0.0928 𝐞₁₂₄ + -0.903 𝐞₁₃₄ + -0.94 𝐞₂₃₄ + -0.265 𝐞₁₂₃₄)"
      ]
     },
     "execution_count": 8,
     "metadata": {},
     "output_type": "execute_result"
    }
   ],
   "source": [
    "#By 1.7, splitting A into simple blades, we get an easier implement of 1.4\n",
    "def outermorphism_(f, A: MultiVector, alg):\n",
    "    outer = A.grade(0)\n",
    "    for vectors in multi_frame_vectors(alg.frame):\n",
    "        Vr = wedge(reciprocal(vectors)[::-1])\n",
    "        outer += alg.sp(Vr,A) * wedge([f(v) for v in vectors]) # frame split of A\n",
    "    return outer\n",
    "\n",
    "outermorphism_(f, D, alg), outermorphism(f, D, alg)"
   ]
  },
  {
   "cell_type": "code",
   "execution_count": 9,
   "metadata": {},
   "outputs": [
    {
     "data": {
      "text/plain": [
       "(0.496 + -0.949 𝐞₁ + -0.496 𝐞₂ + -0.537 𝐞₃ + 0.929 𝐞₄ + -1.39 𝐞₁₂ + 2.95 𝐞₁₃ + -3.75 𝐞₁₄ + 2.8 𝐞₂₃ + -3.2 𝐞₂₄ + -0.878 𝐞₃₄ + -1.04 𝐞₁₂₃ + -0.0841 𝐞₁₂₄ + 3.58 𝐞₁₃₄ + 2.93 𝐞₂₃₄ + -0.805 𝐞₁₂₃₄,\n",
       " 0.496 + -0.949 𝐞₁ + -0.496 𝐞₂ + -0.537 𝐞₃ + 0.929 𝐞₄ + -1.39 𝐞₁₂ + 2.95 𝐞₁₃ + -3.75 𝐞₁₄ + 2.8 𝐞₂₃ + -3.2 𝐞₂₄ + -0.878 𝐞₃₄ + -1.04 𝐞₁₂₃ + -0.0841 𝐞₁₂₄ + 3.58 𝐞₁₃₄ + 2.93 𝐞₂₃₄ + -0.805 𝐞₁₂₃₄)"
      ]
     },
     "execution_count": 9,
     "metadata": {},
     "output_type": "execute_result"
    }
   ],
   "source": [
    "#1.9\n",
    "outermorphism(f, A.reverse(), alg), outermorphism(f, A, alg).reverse()"
   ]
  },
  {
   "cell_type": "code",
   "execution_count": 10,
   "metadata": {},
   "outputs": [
    {
     "data": {
      "text/plain": [
       "(0.496 + -0.949 𝐞₁ + -0.496 𝐞₂ + 1.39 𝐞₁₂,\n",
       " 0.496 + -0.949 𝐞₁ + -0.496 𝐞₂ + 1.39 𝐞₁₂)"
      ]
     },
     "execution_count": 10,
     "metadata": {},
     "output_type": "execute_result"
    }
   ],
   "source": [
    "#1.10\n",
    "f = lambda x: P((A*x*B).grade(1), A2)\n",
    "outermorphism(f, A, alg), P(outermorphism(f, A, alg), A2)"
   ]
  },
  {
   "cell_type": "code",
   "execution_count": 11,
   "metadata": {},
   "outputs": [],
   "source": [
    "#1.11\n",
    "def adjoint_outermorphism(f, A, alg, h=1e-6, frame=None, r_frame=None):\n",
    "    F = lambda vectors: wedge([f(v) for v in vectors]).sp(A)\n",
    "    outer = 0\n",
    "    for r in A.grades:\n",
    "        if r == 0:\n",
    "           outer += A.grade(0)\n",
    "           continue\n",
    "        outer += simplicial_derivative(F, np.zeros(r), alg, h, frame, r_frame)\n",
    "    return outer"
   ]
  },
  {
   "cell_type": "code",
   "execution_count": 12,
   "metadata": {},
   "outputs": [
    {
     "data": {
      "text/plain": [
       "(0.496 + -0.851 𝐞₁ + -0.519 𝐞₂ + 0.373 𝐞₃ + 0.443 𝐞₄ + -0.445 𝐞₁₂ + 1.0 𝐞₁₃ + 0.601 𝐞₁₄ + 0.418 𝐞₂₃ + 0.135 𝐞₂₄ + 0.26 𝐞₃₄,\n",
       " 0.496 + -0.851 𝐞₁ + -0.519 𝐞₂ + 0.373 𝐞₃ + 0.443 𝐞₄ + -0.445 𝐞₁₂ + 1.0 𝐞₁₃ + 0.601 𝐞₁₄ + 0.418 𝐞₂₃ + 0.135 𝐞₂₄ + 0.26 𝐞₃₄)"
      ]
     },
     "execution_count": 12,
     "metadata": {},
     "output_type": "execute_result"
    }
   ],
   "source": [
    "#1.12\n",
    "adjoint_outermorphism(f, P(A, A2), alg), adjoint_outermorphism(f, A, alg)"
   ]
  },
  {
   "cell_type": "code",
   "execution_count": 13,
   "metadata": {},
   "outputs": [
    {
     "data": {
      "text/plain": [
       "(0.257 + -0.79 𝐞₁ + -0.419 𝐞₂ + 0.203 𝐞₃ + 0.326 𝐞₄ + -0.723 𝐞₁₂ + 1.63 𝐞₁₃ + 0.978 𝐞₁₄ + 0.679 𝐞₂₃ + 0.22 𝐞₂₄ + 0.422 𝐞₃₄,\n",
       " 0.257 + -0.79 𝐞₁ + -0.419 𝐞₂ + 0.203 𝐞₃ + 0.326 𝐞₄ + -0.723 𝐞₁₂ + 1.63 𝐞₁₃ + 0.978 𝐞₁₄ + 0.679 𝐞₂₃ + 0.22 𝐞₂₄ + 0.422 𝐞₃₄ + -1.11e-16 𝐞₁₂₃ + -5.41e-16 𝐞₁₂₄ + 3.33e-16 𝐞₁₃₄ + 9.71e-17 𝐞₂₃₄ + -4.44e-16 𝐞₁₂₃₄)"
      ]
     },
     "execution_count": 13,
     "metadata": {},
     "output_type": "execute_result"
    }
   ],
   "source": [
    "#1.13 also suggest we can implement the adjoint outermorphism by spliting A into vectors\n",
    "adjoint_outermorphism(f, A^B, alg), wedge([adjoint_outermorphism(f, V, alg) for V in [A, B]])"
   ]
  },
  {
   "cell_type": "code",
   "execution_count": 14,
   "metadata": {},
   "outputs": [
    {
     "data": {
      "text/plain": [
       "(4.7 𝐞₁ + 6.78 𝐞₂ + -2.95 𝐞₃ + -0.981 𝐞₄,\n",
       " -2.61 𝐞₁ + -2.38 𝐞₂ + -2.5 𝐞₃ + -1.1 𝐞₄,\n",
       " 4.7 𝐞₁ + 6.78 𝐞₂ + -2.95 𝐞₃ + -0.981 𝐞₄)"
      ]
     },
     "execution_count": 14,
     "metadata": {},
     "output_type": "execute_result"
    }
   ],
   "source": [
    "#1.14a\n",
    "r, s = 2, 3\n",
    "f = lambda x: (A*x.grade(1)*B).grade(1)\n",
    "Ar = A.grade(r)\n",
    "Bs = B.grade(s)\n",
    "(\n",
    "    Ar | adjoint_outermorphism(f, Bs, alg),\n",
    "    outermorphism(f, Ar, alg) | Bs,\n",
    "    adjoint_outermorphism(f, outermorphism(f, Ar, alg) | Bs, alg),\n",
    ")"
   ]
  },
  {
   "cell_type": "code",
   "execution_count": 15,
   "metadata": {},
   "outputs": [
    {
     "data": {
      "text/plain": [
       "(2.86 𝐞₁ + 2.38 𝐞₂ + -0.189 𝐞₃ + 0.116 𝐞₄,\n",
       " 0.85 𝐞₁ + 0.67 𝐞₂ + 0.331 𝐞₃ + -2.66 𝐞₄,\n",
       " 2.86 𝐞₁ + 2.38 𝐞₂ + -0.189 𝐞₃ + 0.116 𝐞₄)"
      ]
     },
     "execution_count": 15,
     "metadata": {},
     "output_type": "execute_result"
    }
   ],
   "source": [
    "#1.14b\n",
    "r, s = 3, 2\n",
    "Ar = A.grade(r)\n",
    "Bs = B.grade(s)\n",
    "(\n",
    "    outermorphism(f, Ar | adjoint_outermorphism(f, Bs, alg), alg),\n",
    "    Ar | adjoint_outermorphism(f, Bs, alg),\n",
    "    outermorphism(f, Ar, alg) | Bs,\n",
    ")"
   ]
  },
  {
   "cell_type": "code",
   "execution_count": 16,
   "metadata": {},
   "outputs": [
    {
     "name": "stdout",
     "output_type": "stream",
     "text": [
      "-0.648 -0.648\n",
      "2.39 2.39\n"
     ]
    }
   ],
   "source": [
    "#1.15\n",
    "for r,s in [(2,2), (3,3)]:\n",
    "    Ar = A.grade(r)\n",
    "    Bs = B.grade(s)\n",
    "    print(\n",
    "        Ar | adjoint_outermorphism(f, Bs, alg),\n",
    "        outermorphism(f, Ar, alg) | Bs,\n",
    "    )"
   ]
  },
  {
   "cell_type": "code",
   "execution_count": 17,
   "metadata": {},
   "outputs": [
    {
     "data": {
      "text/plain": [
       "(4.7 𝐞₁ + 6.78 𝐞₂ + -2.95 𝐞₃ + -0.981 𝐞₄,\n",
       " 4.7 𝐞₁ + 6.78 𝐞₂ + -2.95 𝐞₃ + -0.981 𝐞₄)"
      ]
     },
     "execution_count": 17,
     "metadata": {},
     "output_type": "execute_result"
    }
   ],
   "source": [
    "# proof of 1.14a\n",
    "r, s = 2, 3\n",
    "Ar = A.grade(r)\n",
    "Bs = B.grade(s)\n",
    "frame = alg.frame\n",
    "r_frame = reciprocal(alg.frame)\n",
    "rhs = 0\n",
    "r = Ar.grades[0]\n",
    "F = lambda vectors: wedge([f(v) for v in vectors]) \n",
    "for base_vectors, reci_vectors in zip(permutations(frame, s), permutations(r_frame, s)):\n",
    "    rhs += (Ar | (wedge(base_vectors[::-1]))) * (vectors_partial(F, np.zeros(s), reci_vectors, h=h) | Bs)\n",
    "(\n",
    "    Ar | adjoint_outermorphism(f, Bs, alg),\n",
    "    rhs / factorial(s)\n",
    ")"
   ]
  },
  {
   "cell_type": "code",
   "execution_count": 18,
   "metadata": {},
   "outputs": [
    {
     "data": {
      "text/plain": [
       "(, -0.825 𝐞₁₂₃₄, -0.825 𝐞₁₂₃₄)"
      ]
     },
     "execution_count": 18,
     "metadata": {},
     "output_type": "execute_result"
    }
   ],
   "source": [
    "# singular, nonsingular functions\n",
    "I = wedge(alg.frame)\n",
    "fA2 = lambda x: P(f(x), A2) # a singular one\n",
    "outermorphism(fA2, I, alg), outermorphism(f, I, alg), adjoint_outermorphism(f, I, alg)"
   ]
  },
  {
   "cell_type": "code",
   "execution_count": 19,
   "metadata": {},
   "outputs": [
    {
     "data": {
      "text/plain": [
       "(-0.825, -0.825, -0.825)"
      ]
     },
     "execution_count": 19,
     "metadata": {},
     "output_type": "execute_result"
    }
   ],
   "source": [
    "#1.16 Use inverse instead of reverse for negative signatures.\n",
    "n = 4\n",
    "Ir = I.inv()\n",
    "F = lambda vectors: wedge([f(v) for v in vectors])\n",
    "simplicial_derivative(F, alg.frame, alg, h=1e-2), Ir * outermorphism(f, I, alg), adjoint_outermorphism(f, I, alg) * Ir.reverse()"
   ]
  },
  {
   "cell_type": "code",
   "execution_count": 45,
   "metadata": {},
   "outputs": [
    {
     "data": {
      "text/plain": [
       "(-3.33 𝐞₁₃, -3.33 𝐞₁₃, -3.33 𝐞₁₃)"
      ]
     },
     "execution_count": 45,
     "metadata": {},
     "output_type": "execute_result"
    }
   ],
   "source": [
    "#1.16 Use inverse instead of reverse for negative signatures.\n",
    "n = 2\n",
    "I = e12\n",
    "Ip = e23\n",
    "Ir = I.inv()\n",
    "Ipr = Ip.inv()\n",
    "h = 1e-2\n",
    "# a function from I to Ip\n",
    "g = lambda x: P((A*P(x.grade(1), I)*B).grade(1), Ip)\n",
    "F = lambda vectors: wedge([g(v) for v in vectors])\n",
    "(\n",
    "    simplicial_derivative(F, alg.frame[:2], alg, h),\n",
    "    Ir * outermorphism(g, I, alg, h),\n",
    "    adjoint_outermorphism(g, Ip, alg, h) * Ipr\n",
    ")"
   ]
  },
  {
   "cell_type": "code",
   "execution_count": 46,
   "metadata": {},
   "outputs": [
    {
     "data": {
      "text/plain": [
       "(3.33 𝐞₂₃, 1 𝐞₂₃)"
      ]
     },
     "execution_count": 46,
     "metadata": {},
     "output_type": "execute_result"
    }
   ],
   "source": [
    "#1.17a\n",
    "outermorphism(g, I, alg, h), Ip"
   ]
  },
  {
   "cell_type": "code",
   "execution_count": 47,
   "metadata": {},
   "outputs": [
    {
     "data": {
      "text/plain": [
       "(-3.33 𝐞₁₂, 1 𝐞₁₂)"
      ]
     },
     "execution_count": 47,
     "metadata": {},
     "output_type": "execute_result"
    }
   ],
   "source": [
    "#1.17b need extra minus sign for signature (3,1)\n",
    "adjoint_outermorphism(g, Ip, alg, h), I"
   ]
  },
  {
   "cell_type": "code",
   "execution_count": 48,
   "metadata": {},
   "outputs": [
    {
     "data": {
      "text/plain": [
       "3.334188832212731"
      ]
     },
     "execution_count": 48,
     "metadata": {},
     "output_type": "execute_result"
    }
   ],
   "source": [
    "# The relative orientation between I and I' can be arbitrary. Here we let the parent algebra determine the orientation.\n",
    "def det(f, I, Ip):\n",
    "    return (outermorphism(f, I, alg)/Ip)[0]\n",
    "\n",
    "det(g, I, Ip)"
   ]
  },
  {
   "cell_type": "code",
   "execution_count": 49,
   "metadata": {},
   "outputs": [
    {
     "data": {
      "text/plain": [
       "(0.968 + 0.737 𝐞₁ + 0.491 𝐞₂ + 0.909 𝐞₁₂,\n",
       " 0.968 + 0.737 𝐞₁ + 0.491 𝐞₂ + 0.755 𝐞₃ + 0.646 𝐞₄ + 0.909 𝐞₁₂ + 0.416 𝐞₁₃ + 0.0788 𝐞₁₄ + 0.155 𝐞₂₃ + 0.962 𝐞₂₄ + 0.873 𝐞₃₄ + 0.373 𝐞₁₂₃ + 0.126 𝐞₁₂₄ + 0.643 𝐞₁₃₄ + 0.604 𝐞₂₃₄ + 0.73 𝐞₁₂₃₄)"
      ]
     },
     "execution_count": 49,
     "metadata": {},
     "output_type": "execute_result"
    }
   ],
   "source": [
    "#1.21a null part goes null\n",
    "C = create_random_multivector(alg)\n",
    "C_ = outermorphism(g, C, alg)\n",
    "(-1/det(g, I, Ip)) * adjoint_outermorphism(g, C_*Ip, alg) * Ir, C"
   ]
  },
  {
   "cell_type": "code",
   "execution_count": 50,
   "metadata": {},
   "outputs": [
    {
     "data": {
      "text/plain": [
       "(0.968 + -0.56 𝐞₂ + -1.48 𝐞₃ + 3.03 𝐞₂₃,\n",
       " 0.968 + -0.56 𝐞₂ + -1.48 𝐞₃ + 3.03 𝐞₂₃)"
      ]
     },
     "execution_count": 50,
     "metadata": {},
     "output_type": "execute_result"
    }
   ],
   "source": [
    "#1.21b\n",
    "C = adjoint_outermorphism(g, C_, alg)\n",
    "(1/det(g, I, Ip)) * outermorphism(g, C*I, alg) * Ipr, C_"
   ]
  },
  {
   "cell_type": "code",
   "execution_count": 51,
   "metadata": {},
   "outputs": [
    {
     "data": {
      "text/plain": [
       "(5.17 + 0.98 𝐞₁₂ + 5.57 𝐞₁₃ + -5.17 𝐞₁₄ + 6.47 𝐞₂₃ + -5.65 𝐞₂₄ + 1.1 𝐞₃₄,\n",
       " 5.17 + 0.98 𝐞₁₂ + 5.57 𝐞₁₃ + -5.17 𝐞₁₄ + 6.47 𝐞₂₃ + -5.65 𝐞₂₄ + 1.1 𝐞₃₄,\n",
       " 5.17 + 0.98 𝐞₁₂ + 5.57 𝐞₁₃ + -5.17 𝐞₁₄ + 6.47 𝐞₂₃ + -5.65 𝐞₂₄ + 1.1 𝐞₃₄)"
      ]
     },
     "execution_count": 51,
     "metadata": {},
     "output_type": "execute_result"
    }
   ],
   "source": [
    "#2.1\n",
    "r = 3\n",
    "h = 1e-2\n",
    "vectors = create_r_vectors(r, alg)\n",
    "F = lambda vectors: wedge([f(v) for v in vectors])\n",
    "(\n",
    "    simplicial_derivative(F, vectors, alg, h),\n",
    "    simplicial_derivative(lambda vectors: outermorphism(f, wedge(vectors), alg, h), vectors, alg, h),\n",
    "    derivative(lambda A: outermorphism(f, A, alg, h), wedge(vectors), alg, h, r)    \n",
    ")\n"
   ]
  },
  {
   "cell_type": "code",
   "execution_count": 52,
   "metadata": {},
   "outputs": [
    {
     "data": {
      "text/plain": [
       "(-0.621 + 0.403 𝐞₁₂ + -2.98 𝐞₁₃ + 1.62 𝐞₁₄ + -0.457 𝐞₂₃ + 0.732 𝐞₂₄ + -0.953 𝐞₃₄,\n",
       " -0.621 + 0.403 𝐞₁₂ + -2.98 𝐞₁₃ + 1.62 𝐞₁₄ + -0.457 𝐞₂₃ + 0.732 𝐞₂₄ + -0.953 𝐞₃₄)"
      ]
     },
     "execution_count": 52,
     "metadata": {},
     "output_type": "execute_result"
    }
   ],
   "source": [
    "#2.2\n",
    "frame = create_r_vectors(len(alg.signature), alg)\n",
    "r_frame = reciprocal(frame)\n",
    "images = [f(v) for v in frame]\n",
    "(\n",
    "    sum(vr * b for b, vr in zip(images, r_frame)),\n",
    "    derivative(f, x, alg)\n",
    ")"
   ]
  },
  {
   "cell_type": "code",
   "execution_count": 53,
   "metadata": {},
   "outputs": [
    {
     "data": {
      "text/plain": [
       "(-0.621, -0.621)"
      ]
     },
     "execution_count": 53,
     "metadata": {},
     "output_type": "execute_result"
    }
   ],
   "source": [
    "#2.3 trace\n",
    "def trace(f, alg):\n",
    "    return sum(vr | f(v) for v, vr in zip(alg.frame, reciprocal(alg.frame)))\n",
    "(\n",
    "    derivative(f, e1, alg).grade(0),\n",
    "    trace(f, alg)\n",
    ")"
   ]
  },
  {
   "cell_type": "code",
   "execution_count": 54,
   "metadata": {},
   "outputs": [
    {
     "data": {
      "text/plain": [
       "(5.17 + 0.98 𝐞₁₂ + 5.57 𝐞₁₃ + -5.17 𝐞₁₄ + 6.47 𝐞₂₃ + -5.65 𝐞₂₄ + 1.1 𝐞₃₄,\n",
       " 5.17 + 0.98 𝐞₁₂ + 5.57 𝐞₁₃ + -5.17 𝐞₁₄ + 6.47 𝐞₂₃ + -5.65 𝐞₂₄ + 1.1 𝐞₃₄)"
      ]
     },
     "execution_count": 54,
     "metadata": {},
     "output_type": "execute_result"
    }
   ],
   "source": [
    "#2.4\n",
    "r = 3\n",
    "h = 1e-2\n",
    "vectors = create_r_vectors(r, alg)\n",
    "F = lambda vectors: wedge([f(v) for v in vectors])\n",
    "frame = create_r_vectors(len(alg.signature), alg)\n",
    "r_frame = reciprocal(frame)\n",
    "r_vec_frame = r_vector_frame_vectors(frame, r)\n",
    "r_reci_frame = r_vector_frame_vectors(r_frame, r, reverse=True)\n",
    "sdf = 0\n",
    "for vectors, r_vectors in zip(r_vec_frame, r_reci_frame):\n",
    "    sdf += wedge(r_vectors[::-1]) * wedge([f(v) for v in vectors])\n",
    "(\n",
    "    sdf,\n",
    "    simplicial_derivative(F, vectors, alg, h)\n",
    ")"
   ]
  },
  {
   "cell_type": "code",
   "execution_count": 135,
   "metadata": {},
   "outputs": [
    {
     "data": {
      "text/plain": [
       "(-0.0815 + -0.0467 𝐞₁₂ + -0.0576 𝐞₁₃ + 0.0495 𝐞₁₄ + -0.0131 𝐞₂₃ + 0.0352 𝐞₂₄ + 0.0296 𝐞₃₄,\n",
       " -0.0815 + -0.0467 𝐞₁₂ + -0.0576 𝐞₁₃ + 0.0495 𝐞₁₄ + -0.0131 𝐞₂₃ + 0.0352 𝐞₂₄ + 0.0296 𝐞₃₄)"
      ]
     },
     "execution_count": 135,
     "metadata": {},
     "output_type": "execute_result"
    }
   ],
   "source": [
    "#2.4\n",
    "r = 3\n",
    "h = 1e-2\n",
    "vectors = create_r_vectors(r, alg)\n",
    "F = lambda vectors: wedge([f(v) for v in vectors])\n",
    "frame = alg.frame\n",
    "r_frame = reciprocal(frame)\n",
    "r_vec_frame = r_vector_frame_vectors(frame, r)\n",
    "r_reci_frame = r_vector_frame_vectors(r_frame, r, reverse=True)\n",
    "sdf = 0\n",
    "for vectors, r_vectors in zip(r_vec_frame, r_reci_frame):\n",
    "    sdf += wedge(r_vectors[::-1]) * wedge([f(v) for v in vectors])\n",
    "(\n",
    "    sdf,\n",
    "    simplicial_derivative(F, vectors, alg, h)\n",
    ")"
   ]
  },
  {
   "cell_type": "code",
   "execution_count": 136,
   "metadata": {},
   "outputs": [
    {
     "data": {
      "text/plain": [
       "-0.0815 + -0.0467 𝐞₁₂ + -0.0576 𝐞₁₃ + 0.0495 𝐞₁₄ + -0.0131 𝐞₂₃ + 0.0352 𝐞₂₄ + 0.0296 𝐞₃₄"
      ]
     },
     "execution_count": 136,
     "metadata": {},
     "output_type": "execute_result"
    }
   ],
   "source": [
    "def char_multi(f, r, alg: Algebra):\n",
    "    frame = alg.frame\n",
    "    r_frame = reciprocal(frame)\n",
    "    r_vec_frame = r_vector_frame_vectors(frame, r)\n",
    "    r_reci_frame = r_vector_frame_vectors(r_frame, r, reverse=True)\n",
    "    sdf = 0\n",
    "    for vectors, r_vectors in zip(r_vec_frame, r_reci_frame):\n",
    "        sdf += wedge(r_vectors[::-1]) * wedge([f(v) for v in vectors])\n",
    "    return sdf\n",
    "\n",
    "char_multi(f, r, alg)"
   ]
  },
  {
   "cell_type": "code",
   "execution_count": 63,
   "metadata": {},
   "outputs": [
    {
     "data": {
      "text/plain": [
       "(-0.8251540275247926, -0.8251540275247937, -0.8251540275247865)"
      ]
     },
     "execution_count": 63,
     "metadata": {},
     "output_type": "execute_result"
    }
   ],
   "source": [
    "#2.6\n",
    "matrix = np.array([[(ar|f(a))[0] for a in alg.frame] for ar in reciprocal(alg.frame)])\n",
    "I = wedge(alg.frame)\n",
    "char_multi(f, 4, alg)[0], np.linalg.det(matrix), det(f, I, I)"
   ]
  },
  {
   "cell_type": "code",
   "execution_count": 146,
   "metadata": {},
   "outputs": [
    {
     "data": {
      "text/plain": [
       "(-0.29 + -0.112 𝐞₁₂ + -0.16 𝐞₁₃ + 0.198 𝐞₁₄ + -0.0261 𝐞₂₃ + 0.0764 𝐞₂₄ + 0.0567 𝐞₃₄,\n",
       " -0.29 + -0.112 𝐞₁₂ + -0.16 𝐞₁₃ + 0.198 𝐞₁₄ + -0.0261 𝐞₂₃ + 0.0764 𝐞₂₄ + 0.0567 𝐞₃₄)"
      ]
     },
     "execution_count": 146,
     "metadata": {},
     "output_type": "execute_result"
    }
   ],
   "source": [
    "#2.7\n",
    "from scipy.special import comb\n",
    "r = 3\n",
    "h = lambda x: f(x)+g(x)\n",
    "\n",
    "# Correct implemetation means frame independence\n",
    "# generate a random frame again\n",
    "frame = create_r_vectors(len(alg.signature), alg)\n",
    "r_frame = reciprocal(frame)\n",
    "drF = 0\n",
    "coef = [1/(factorial(r-s)*factorial(s)) for s in range(r+1)]\n",
    "for base_vectors, reci_vectors in zip(permutations(frame, r), permutations(r_frame, r)):\n",
    "    gh = 0\n",
    "    for s in range(r+1):\n",
    "        gh += coef[s]*wedge([f(v) for v in reci_vectors[:s]]) ^ wedge([g(v) for v in reci_vectors[s:]])\n",
    "    drF += wedge(base_vectors[::-1]) * gh\n",
    "char_multi(h, r, alg), drF"
   ]
  },
  {
   "cell_type": "code",
   "execution_count": 148,
   "metadata": {},
   "outputs": [
    {
     "data": {
      "text/plain": [
       "(91.6,\n",
       " 91.6 + -7.08 𝐞₁₂ + -21.0 𝐞₁₃ + 14.0 𝐞₁₄ + 3.78 𝐞₂₃ + 2.28 𝐞₂₄ + 14.2 𝐞₃₄ + -4.53e-16 𝐞₁₂₃₄)"
      ]
     },
     "execution_count": 148,
     "metadata": {},
     "output_type": "execute_result"
    }
   ],
   "source": [
    "#2.8\n",
    "l = 3.3\n",
    "n = 4\n",
    "char_multi(lambda x: f(x) - l*x, n, alg), sum((-l)**(n - s) * char_multi(f, s, alg) for s in range(n+1))"
   ]
  },
  {
   "cell_type": "code",
   "execution_count": 164,
   "metadata": {},
   "outputs": [
    {
     "data": {
      "text/plain": [
       "(0.0565 𝐞₁ + 0.0445 𝐞₂ + 0.0401 𝐞₃ + 0.0425 𝐞₄,\n",
       " 0.0565 𝐞₁ + 0.0445 𝐞₂ + 0.0401 𝐞₃ + 0.0425 𝐞₄,\n",
       " 0.369 𝐞₁ + 0.12 𝐞₂ + 0.968 𝐞₃ + 0.684 𝐞₄,\n",
       " 0.369 𝐞₁ + 0.12 𝐞₂ + 0.968 𝐞₃ + 0.684 𝐞₄)"
      ]
     },
     "execution_count": 164,
     "metadata": {},
     "output_type": "execute_result"
    }
   ],
   "source": [
    "def r_fold(f,r,value):\n",
    "    return reduce(lambda v, _: f(v), range(r), value)\n",
    "\n",
    "r_fold(f, 3, x), f(f(f(x))), r_fold(f, 0, x), x"
   ]
  },
  {
   "cell_type": "code",
   "execution_count": 171,
   "metadata": {},
   "outputs": [
    {
     "data": {
      "text/plain": [
       "-3.04e-18 𝐞₁ + 1.28e-17 𝐞₂ + -3.9e-18 𝐞₃ + -6.29e-18 𝐞₄"
      ]
     },
     "execution_count": 171,
     "metadata": {},
     "output_type": "execute_result"
    }
   ],
   "source": [
    "#2.9\n",
    "n = 4\n",
    "ch = 0\n",
    "for s in range(0,n+1):\n",
    "    ch += ((-1)**(n-s))*extract_scalar(char_multi(f, s, alg))*r_fold(f, n-s, x)\n",
    "ch"
   ]
  },
  {
   "cell_type": "code",
   "execution_count": 176,
   "metadata": {},
   "outputs": [
    {
     "name": "stdout",
     "output_type": "stream",
     "text": [
      "-1.491862189340054e-16\n",
      "-1.3877787807814457e-17\n",
      "-2.168404344971009e-18\n",
      "4.163336342344337e-17\n"
     ]
    }
   ],
   "source": [
    "#2.10\n",
    "matrix = np.array([[(ar|f(a))[0] for a in alg.frame] for ar in reciprocal(alg.frame)])\n",
    "eigvalues, eigvecs = np.linalg.eig(matrix)\n",
    "for l in eigvalues:\n",
    "    print(sum(((-l)**(n-s))*extract_scalar(char_multi(f, s, alg)) for s in range(n+1)))"
   ]
  },
  {
   "cell_type": "code",
   "execution_count": 242,
   "metadata": {},
   "outputs": [
    {
     "data": {
      "text/plain": [
       "(0.274 𝐞₁ + 0.303 𝐞₂ + 0.121 𝐞₃ + 0.33 𝐞₄,\n",
       " 0.274 𝐞₁ + 0.303 𝐞₂ + 0.121 𝐞₃ + 0.33 𝐞₄)"
      ]
     },
     "execution_count": 242,
     "metadata": {},
     "output_type": "execute_result"
    }
   ],
   "source": [
    "# recovering matrix to transfromation\n",
    "def matrix2trans(M, alg:Algebra ):\n",
    "    d = alg.d\n",
    "    assert M.shape[0] == d, 'dimension not fit'\n",
    "    return lambda x: sum(c*e for c,e in zip(np.dot(M, x.asfullmv()[1:d+1]), alg.frame))\n",
    "    \n",
    "fm = matrix2trans(matrix, alg)\n",
    "fm(x), f(x)"
   ]
  },
  {
   "cell_type": "code",
   "execution_count": 185,
   "metadata": {},
   "outputs": [
    {
     "data": {
      "text/plain": [
       "(-0.06696381545784844, -0.06696381545784841)"
      ]
     },
     "execution_count": 185,
     "metadata": {},
     "output_type": "execute_result"
    }
   ],
   "source": [
    "#2.11\n",
    "s = 2\n",
    "rhs = (1/s) * sum((-1)**(r+1) * extract_scalar(char_multi(f, s-r, alg)) * trace(lambda x: r_fold(f, r, x), alg)[0] for r in range(1,s+1))\n",
    "char_multi(f, s, alg)[0], rhs"
   ]
  },
  {
   "cell_type": "code",
   "execution_count": 179,
   "metadata": {},
   "outputs": [
    {
     "data": {
      "text/plain": [
       "(-0.08149140824435848, -0.08149140824435847)"
      ]
     },
     "execution_count": 179,
     "metadata": {},
     "output_type": "execute_result"
    }
   ],
   "source": [
    "#2.13\n",
    "k = 3\n",
    "char_multi(f, k, alg)[0], sum(np.prod(comb) for comb in combinations(eigvalues, k))"
   ]
  },
  {
   "cell_type": "code",
   "execution_count": 187,
   "metadata": {},
   "outputs": [
    {
     "data": {
      "text/plain": [
       "(0.30535808203709597, 0.305358082037095)"
      ]
     },
     "execution_count": 187,
     "metadata": {},
     "output_type": "execute_result"
    }
   ],
   "source": [
    "#2.14 It's easier to show the eigenvalues of f^k are {lambda^k_i} by linearity\n",
    "trace(lambda x: r_fold(f, k, x), alg)[0], sum(l**k for l in eigvalues)"
   ]
  },
  {
   "cell_type": "code",
   "execution_count": null,
   "metadata": {},
   "outputs": [],
   "source": []
  }
 ],
 "metadata": {
  "kernelspec": {
   "display_name": "Python 3",
   "language": "python",
   "name": "python3"
  },
  "language_info": {
   "codemirror_mode": {
    "name": "ipython",
    "version": 3
   },
   "file_extension": ".py",
   "mimetype": "text/x-python",
   "name": "python",
   "nbconvert_exporter": "python",
   "pygments_lexer": "ipython3",
   "version": "3.10.5"
  }
 },
 "nbformat": 4,
 "nbformat_minor": 2
}
