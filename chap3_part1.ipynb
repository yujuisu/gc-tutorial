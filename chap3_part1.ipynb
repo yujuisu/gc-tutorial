{
 "cells": [
  {
   "cell_type": "markdown",
   "metadata": {},
   "source": [
    "### Linear and Multilinear Functions"
   ]
  },
  {
   "cell_type": "code",
   "execution_count": 1,
   "metadata": {},
   "outputs": [],
   "source": [
    "from kingdon import Algebra\n",
    "from gc_utils import *\n",
    "import numpy as np\n",
    "# use vanilla algebra, so we're not bother by the sign of I*I.reverse()\n",
    "alg = Algebra(4) \n",
    "locals().update(alg.blades)"
   ]
  },
  {
   "cell_type": "code",
   "execution_count": 2,
   "metadata": {},
   "outputs": [
    {
     "data": {
      "text/plain": [
       "(1.44 𝐞₁ + -0.85 𝐞₂ + 2.77 𝐞₃ + -1.11 𝐞₄,\n",
       " 1.44 𝐞₁ + -0.85 𝐞₂ + 2.77 𝐞₃ + -1.11 𝐞₄)"
      ]
     },
     "execution_count": 2,
     "metadata": {},
     "output_type": "execute_result"
    }
   ],
   "source": [
    "#1.1 linear transformation\n",
    "A = create_random_multivector(alg)\n",
    "B = create_random_multivector(alg)\n",
    "C = create_random_multivector(alg)\n",
    "D = create_random_multivector(alg)\n",
    "x = create_random_multivector(alg).grade(1)\n",
    "a = create_random_multivector(alg).grade(1)\n",
    "f = lambda x: (A*x*B+C*x*D).grade(1)\n",
    "differential(f, x, a), f(a)"
   ]
  },
  {
   "cell_type": "code",
   "execution_count": 3,
   "metadata": {},
   "outputs": [
    {
     "data": {
      "text/plain": [
       "(3.79 𝐞₁ + 3.93 𝐞₂ + 1.39 𝐞₃ + -3.88 𝐞₄,\n",
       " 3.79 𝐞₁ + 3.93 𝐞₂ + 1.39 𝐞₃ + -3.88 𝐞₄)"
      ]
     },
     "execution_count": 3,
     "metadata": {},
     "output_type": "execute_result"
    }
   ],
   "source": [
    "#1.2\n",
    "g = lambda x: (C*x*D).grade(1)\n",
    "g(f(a)), differential(g, f(a), f(a))"
   ]
  },
  {
   "cell_type": "code",
   "execution_count": 4,
   "metadata": {},
   "outputs": [],
   "source": [
    "# modify the input of the original skew_symmetrizer: a multivector Ar instead of vectors\n",
    "def skew_symmetrizer(F, Ar, alg, h=1e-6, frame=None, r_frame=None):\n",
    "    if not frame:\n",
    "        frame = alg.frame\n",
    "        r_frame = reciprocal(alg.frame)\n",
    "    drF = 0\n",
    "    r = Ar.grades[0]\n",
    "    for base_vectors, reci_vectors in zip(permutations(frame, r), permutations(r_frame, r)):\n",
    "        # if F is linear, vectors cause no difference in vectors_partial. The input is just Ar.\n",
    "        # So actually we allow Ar being any multivector\n",
    "        drF += (Ar.sp(wedge(base_vectors[::-1]))) * vectors_partial(F, np.zeros(r), reci_vectors, h=h)\n",
    "    return (1/factorial(r)) * drF"
   ]
  },
  {
   "cell_type": "code",
   "execution_count": 5,
   "metadata": {},
   "outputs": [
    {
     "data": {
      "text/plain": [
       "(2.58 𝐞₁ + 1.78 𝐞₂ + 2.61 𝐞₃ + -1.47 𝐞₄,\n",
       " 2.58 𝐞₁ + 1.78 𝐞₂ + 2.61 𝐞₃ + -1.47 𝐞₄)"
      ]
     },
     "execution_count": 5,
     "metadata": {},
     "output_type": "execute_result"
    }
   ],
   "source": [
    "#1.4 Extend a vector function to a multivector function.\n",
    "# For linear f we ignore the position where f is measured, \n",
    "# just the differential at each direction.\n",
    "def outermorphism(f, A: MultiVector, alg, h=1e-6, frame=None, r_frame=None):\n",
    "    wf = lambda vectors: wedge([f(v) for v in vectors])\n",
    "    outer = 0\n",
    "    for r in A.grades:\n",
    "        if r == 0:\n",
    "           outer += A.grade(0)\n",
    "           continue\n",
    "        outer += skew_symmetrizer(wf, A.grade(r), alg, h, frame, r_frame)\n",
    "    return outer\n",
    "\n",
    "outermorphism(f, x, alg), f(x)"
   ]
  },
  {
   "cell_type": "code",
   "execution_count": 6,
   "metadata": {},
   "outputs": [
    {
     "data": {
      "text/plain": [
       "(0.0888 + 0.769 𝐞₁ + -1.63 𝐞₂ + 2.81 𝐞₃ + -0.943 𝐞₄ + 2.36 𝐞₁₂ + -10.1 𝐞₁₃ + 6.65 𝐞₁₄ + 12.7 𝐞₂₃ + -11.2 𝐞₂₄ + 12.0 𝐞₃₄,\n",
       " 0.0888 + 0.769 𝐞₁ + -1.63 𝐞₂ + 2.81 𝐞₃ + -0.943 𝐞₄ + 2.36 𝐞₁₂ + -10.1 𝐞₁₃ + 6.65 𝐞₁₄ + 12.7 𝐞₂₃ + -11.2 𝐞₂₄ + 12.0 𝐞₃₄)"
      ]
     },
     "execution_count": 6,
     "metadata": {},
     "output_type": "execute_result"
    }
   ],
   "source": [
    "#1.6 A frame can be arbitrary as long as it represent the same space. \n",
    "# It's pretty handy to specify a domain.\n",
    "h = 1e-2\n",
    "A2 = e12\n",
    "A2frame = [e1, e2]\n",
    "A2r_frame = reciprocal(A2frame)\n",
    "\n",
    "outermorphism(f, P(A, A2), alg, h, frame=A2frame, r_frame=A2r_frame), outermorphism(f, A, alg, h, frame=A2frame, r_frame=A2r_frame)"
   ]
  },
  {
   "cell_type": "code",
   "execution_count": 7,
   "metadata": {},
   "outputs": [
    {
     "data": {
      "text/plain": [
       "(10.0 𝐞₁₂₃ + -1.67 𝐞₁₂₄ + -0.0235 𝐞₁₃₄ + -4.61 𝐞₂₃₄,\n",
       " 10.0 𝐞₁₂₃ + -1.67 𝐞₁₂₄ + -0.0235 𝐞₁₃₄ + -4.61 𝐞₂₃₄)"
      ]
     },
     "execution_count": 7,
     "metadata": {},
     "output_type": "execute_result"
    }
   ],
   "source": [
    "#1.7 An outermorphism preserves outer products\n",
    "vectors = create_r_vectors(3, alg)\n",
    "outermorphism(f, wedge(vectors), alg), wedge([f(v) for v in vectors])"
   ]
  },
  {
   "cell_type": "code",
   "execution_count": 8,
   "metadata": {},
   "outputs": [
    {
     "data": {
      "text/plain": [
       "(0.696 + 1.48 𝐞₁ + 2.85 𝐞₂ + 3.53 𝐞₃ + -2.91 𝐞₄ + 7.35 𝐞₁₂ + -0.694 𝐞₁₃ + 1.48 𝐞₁₄ + -4.79 𝐞₂₃ + 3.4 𝐞₂₄ + 1.29 𝐞₃₄ + 1.47e+02 𝐞₁₂₃ + -99.5 𝐞₁₂₄ + 31.7 𝐞₁₃₄ + 49.3 𝐞₂₃₄ + 2.27e+02 𝐞₁₂₃₄,\n",
       " 0.696 + 1.48 𝐞₁ + 2.85 𝐞₂ + 3.53 𝐞₃ + -2.91 𝐞₄ + 7.35 𝐞₁₂ + -0.694 𝐞₁₃ + 1.48 𝐞₁₄ + -4.79 𝐞₂₃ + 3.4 𝐞₂₄ + 1.29 𝐞₃₄ + 1.47e+02 𝐞₁₂₃ + -99.5 𝐞₁₂₄ + 31.7 𝐞₁₃₄ + 49.3 𝐞₂₃₄ + 2.27e+02 𝐞₁₂₃₄)"
      ]
     },
     "execution_count": 8,
     "metadata": {},
     "output_type": "execute_result"
    }
   ],
   "source": [
    "# By 1.7, splitting A into simple blades, we get an easier implement of 1.4\n",
    "# Here, the value at v replaces the slope at direction v by linearity\n",
    "def outermorphism_(f, A: MultiVector, alg):\n",
    "    outer = A.grade(0)\n",
    "    for vectors in multi_frame_vectors(alg.frame):\n",
    "        Vr = wedge(reciprocal(vectors)[::-1])\n",
    "        outer += alg.sp(Vr,A) * wedge([f(v) for v in vectors]) # frame split of A\n",
    "    return outer\n",
    "\n",
    "outermorphism_(f, D, alg), outermorphism(f, D, alg)"
   ]
  },
  {
   "cell_type": "code",
   "execution_count": 9,
   "metadata": {},
   "outputs": [
    {
     "data": {
      "text/plain": [
       "(0.0888 + 1.46 𝐞₁ + 3.38 𝐞₂ + 4.54 𝐞₃ + -2.4 𝐞₄ + -7.19 𝐞₁₂ + 9.54 𝐞₁₃ + -9.28 𝐞₁₄ + 3.43 𝐞₂₃ + 2.42 𝐞₂₄ + -6.04 𝐞₃₄ + -1.29e+02 𝐞₁₂₃ + 89.0 𝐞₁₂₄ + -21.3 𝐞₁₃₄ + -46.7 𝐞₂₃₄ + 32.4 𝐞₁₂₃₄,\n",
       " 0.0888 + 1.46 𝐞₁ + 3.38 𝐞₂ + 4.54 𝐞₃ + -2.4 𝐞₄ + -7.19 𝐞₁₂ + 9.54 𝐞₁₃ + -9.28 𝐞₁₄ + 3.43 𝐞₂₃ + 2.42 𝐞₂₄ + -6.04 𝐞₃₄ + -1.29e+02 𝐞₁₂₃ + 89.0 𝐞₁₂₄ + -21.3 𝐞₁₃₄ + -46.7 𝐞₂₃₄ + 32.4 𝐞₁₂₃₄)"
      ]
     },
     "execution_count": 9,
     "metadata": {},
     "output_type": "execute_result"
    }
   ],
   "source": [
    "#1.9 anoter outer product property\n",
    "outermorphism(f, A.reverse(), alg), outermorphism(f, A, alg).reverse()"
   ]
  },
  {
   "cell_type": "code",
   "execution_count": 10,
   "metadata": {},
   "outputs": [
    {
     "data": {
      "text/plain": [
       "(0.0888 + 1.46 𝐞₁ + 3.38 𝐞₂ + 7.19 𝐞₁₂, 0.0888 + 1.46 𝐞₁ + 3.38 𝐞₂ + 7.19 𝐞₁₂)"
      ]
     },
     "execution_count": 10,
     "metadata": {},
     "output_type": "execute_result"
    }
   ],
   "source": [
    "#1.10\n",
    "fA2 = lambda x: P(f(x), A2)\n",
    "outermorphism(fA2, A, alg), P(outermorphism(fA2, A, alg), A2)"
   ]
  },
  {
   "cell_type": "code",
   "execution_count": 11,
   "metadata": {},
   "outputs": [],
   "source": [
    "#1.11\n",
    "def adjoint_outermorphism(f, A, alg, h=1e-6, frame=None, r_frame=None):\n",
    "    F = lambda vectors: wedge([f(v) for v in vectors]).sp(A)\n",
    "    outer = 0\n",
    "    for r in A.grades:\n",
    "        if r == 0:\n",
    "           outer += A.grade(0)\n",
    "           continue\n",
    "        # Why np.zeros(r)? The derivative of a linear function is constant\n",
    "        outer += simplicial_derivative(F, np.zeros(r), alg, h, frame, r_frame)\n",
    "    return outer"
   ]
  },
  {
   "cell_type": "code",
   "execution_count": 12,
   "metadata": {},
   "outputs": [
    {
     "data": {
      "text/plain": [
       "(0.0888 + -0.397 𝐞₁ + -0.465 𝐞₂ + 3.6 𝐞₃ + 1.8 𝐞₄ + 2.36 𝐞₁₂ + -4.39 𝐞₁₃ + -3.37 𝐞₁₄ + 16.3 𝐞₂₃ + 6.75 𝐞₂₄ + 10.7 𝐞₃₄,\n",
       " 0.0888 + -0.397 𝐞₁ + -0.465 𝐞₂ + 3.6 𝐞₃ + 1.8 𝐞₄ + 2.36 𝐞₁₂ + -4.39 𝐞₁₃ + -3.37 𝐞₁₄ + 16.3 𝐞₂₃ + 6.75 𝐞₂₄ + 10.7 𝐞₃₄)"
      ]
     },
     "execution_count": 12,
     "metadata": {},
     "output_type": "execute_result"
    }
   ],
   "source": [
    "#1.12\n",
    "adjoint_outermorphism(fA2, P(A, A2), alg), adjoint_outermorphism(fA2, A, alg)"
   ]
  },
  {
   "cell_type": "code",
   "execution_count": 13,
   "metadata": {},
   "outputs": [
    {
     "data": {
      "text/plain": [
       "(0.065 + -1.76 𝐞₁ + 1.6 𝐞₂ + 2.34 𝐞₃ + 1.24 𝐞₄ + -7.32 𝐞₁₂ + -6.92 𝐞₁₃ + -6.14 𝐞₁₄ + 5.65 𝐞₂₃ + 10.3 𝐞₂₄ + 17.4 𝐞₃₄ + 60.1 𝐞₁₂₃ + 0.193 𝐞₁₂₄ + -72.5 𝐞₁₃₄ + 1.08e+02 𝐞₂₃₄ + 46.1 𝐞₁₂₃₄,\n",
       " 0.065 + -1.76 𝐞₁ + 1.6 𝐞₂ + 2.34 𝐞₃ + 1.24 𝐞₄ + -7.32 𝐞₁₂ + -6.92 𝐞₁₃ + -6.14 𝐞₁₄ + 5.65 𝐞₂₃ + 10.3 𝐞₂₄ + 17.4 𝐞₃₄ + 60.1 𝐞₁₂₃ + 0.193 𝐞₁₂₄ + -72.5 𝐞₁₃₄ + 1.08e+02 𝐞₂₃₄ + 46.1 𝐞₁₂₃₄)"
      ]
     },
     "execution_count": 13,
     "metadata": {},
     "output_type": "execute_result"
    }
   ],
   "source": [
    "#1.13\n",
    "# Exercise: implement the adjoint outermorphism by spliting A into vectors.\n",
    "adjoint_outermorphism(f, A^B, alg), adjoint_outermorphism(f, A, alg) ^ adjoint_outermorphism(f, B, alg)"
   ]
  },
  {
   "cell_type": "code",
   "execution_count": 14,
   "metadata": {},
   "outputs": [
    {
     "data": {
      "text/plain": [
       "(-11.0 𝐞₁ + 4.7 𝐞₂ + 6.66 𝐞₃ + -15.0 𝐞₄,\n",
       " 2.7 𝐞₁ + -2.0 𝐞₂ + -3.86 𝐞₃ + -2.23 𝐞₄,\n",
       " -11.0 𝐞₁ + 4.7 𝐞₂ + 6.66 𝐞₃ + -15.0 𝐞₄)"
      ]
     },
     "execution_count": 14,
     "metadata": {},
     "output_type": "execute_result"
    }
   ],
   "source": [
    "#1.14a r <= s\n",
    "r, s = 2, 3\n",
    "Ar = A.grade(r)\n",
    "Bs = B.grade(s)\n",
    "(\n",
    "    Ar | adjoint_outermorphism(f, Bs, alg),\n",
    "    outermorphism(f, Ar, alg) | Bs,\n",
    "    adjoint_outermorphism(f, outermorphism(f, Ar, alg) | Bs, alg),\n",
    ")"
   ]
  },
  {
   "cell_type": "code",
   "execution_count": 15,
   "metadata": {},
   "outputs": [
    {
     "data": {
      "text/plain": [
       "(4.62 𝐞₁ + 7.94 𝐞₂ + -76.9 𝐞₃ + 53.6 𝐞₄,\n",
       " -15.5 𝐞₁ + -5.65 𝐞₂ + 0.378 𝐞₃ + -1.83 𝐞₄,\n",
       " 4.62 𝐞₁ + 7.94 𝐞₂ + -76.9 𝐞₃ + 53.6 𝐞₄)"
      ]
     },
     "execution_count": 15,
     "metadata": {},
     "output_type": "execute_result"
    }
   ],
   "source": [
    "#1.14b r >= s\n",
    "r, s = 3, 2\n",
    "Ar = A.grade(r)\n",
    "Bs = B.grade(s)\n",
    "(\n",
    "    outermorphism(f, Ar | adjoint_outermorphism(f, Bs, alg), alg),\n",
    "    Ar | adjoint_outermorphism(f, Bs, alg),\n",
    "    outermorphism(f, Ar, alg) | Bs,\n",
    ")"
   ]
  },
  {
   "cell_type": "code",
   "execution_count": 16,
   "metadata": {},
   "outputs": [
    {
     "name": "stdout",
     "output_type": "stream",
     "text": [
      "4.79 4.79\n",
      "-9.3 -9.3\n",
      "-40.3 -40.3\n"
     ]
    }
   ],
   "source": [
    "#1.15 r = s\n",
    "for r,s in [(1,1), (2,2), (3,3)]:\n",
    "    Ar = A.grade(r)\n",
    "    Bs = B.grade(s)\n",
    "    print(\n",
    "        Ar | adjoint_outermorphism(f, Bs, alg),\n",
    "        outermorphism(f, Ar, alg) | Bs,\n",
    "    )"
   ]
  },
  {
   "cell_type": "code",
   "execution_count": 17,
   "metadata": {},
   "outputs": [
    {
     "data": {
      "text/plain": [
       "(-11.0 𝐞₁ + 4.7 𝐞₂ + 6.66 𝐞₃ + -15.0 𝐞₄,\n",
       " -11.0 𝐞₁ + 4.7 𝐞₂ + 6.66 𝐞₃ + -15.0 𝐞₄)"
      ]
     },
     "execution_count": 17,
     "metadata": {},
     "output_type": "execute_result"
    }
   ],
   "source": [
    "# proof of 1.14a\n",
    "r, s = 2, 3\n",
    "Ar = A.grade(r)\n",
    "Bs = B.grade(s)\n",
    "frame = alg.frame\n",
    "r_frame = reciprocal(alg.frame)\n",
    "rhs = 0\n",
    "r = Ar.grades[0]\n",
    "F = lambda vectors: wedge([f(v) for v in vectors]) \n",
    "for base_vectors, reci_vectors in zip(permutations(frame, s), permutations(r_frame, s)):\n",
    "    rhs += (Ar | (wedge(base_vectors[::-1]))) * (vectors_partial(F, np.zeros(s), reci_vectors, h=h) | Bs)\n",
    "(\n",
    "    Ar | adjoint_outermorphism(f, Bs, alg),\n",
    "    rhs / factorial(s)\n",
    ")"
   ]
  },
  {
   "cell_type": "code",
   "execution_count": 18,
   "metadata": {},
   "outputs": [
    {
     "data": {
      "text/plain": [
       "(, 2.44e+02 𝐞₁₂₃₄, 2.44e+02 𝐞₁₂₃₄)"
      ]
     },
     "execution_count": 18,
     "metadata": {},
     "output_type": "execute_result"
    }
   ],
   "source": [
    "# singular, nonsingular functions\n",
    "I = alg.pseudoscalar((1,))\n",
    "# fA2 is singular\n",
    "outermorphism(fA2, I, alg), outermorphism(f, I, alg), adjoint_outermorphism(f, I, alg)"
   ]
  },
  {
   "cell_type": "code",
   "execution_count": 19,
   "metadata": {},
   "outputs": [
    {
     "data": {
      "text/plain": [
       "(2.44e+02, 2.44e+02, 2.44e+02)"
      ]
     },
     "execution_count": 19,
     "metadata": {},
     "output_type": "execute_result"
    }
   ],
   "source": [
    "#1.16 Use inverse instead of reverse for negative signatures. case I = Ip\n",
    "n = 4\n",
    "Ir = I.inv()\n",
    "F = lambda vectors: wedge([f(v) for v in vectors])\n",
    "(\n",
    "    simplicial_derivative(F, alg.frame, alg, h=1e-2), \n",
    "    Ir * outermorphism(f, I, alg), \n",
    "    adjoint_outermorphism(f, I, alg) * Ir\n",
    ")"
   ]
  },
  {
   "cell_type": "code",
   "execution_count": 20,
   "metadata": {},
   "outputs": [
    {
     "data": {
      "text/plain": [
       "(-3.41 𝐞₁₃, -3.41 𝐞₁₃, -3.41 𝐞₁₃)"
      ]
     },
     "execution_count": 20,
     "metadata": {},
     "output_type": "execute_result"
    }
   ],
   "source": [
    "#1.16 case I != Ip\n",
    "n = 2\n",
    "I = e12\n",
    "Ip = e23\n",
    "Ir = I.inv()\n",
    "Ipr = Ip.inv()\n",
    "h = 1e-2\n",
    "# a function from I to Ip\n",
    "g = lambda x: P((A*P(x, I)*B).grade(1), Ip)\n",
    "F = lambda vectors: wedge([g(v) for v in vectors])\n",
    "(\n",
    "    simplicial_derivative(F, alg.frame[:2], alg, h),\n",
    "    Ir * outermorphism(g, I, alg, h),\n",
    "    adjoint_outermorphism(g, Ip, alg, h) * Ipr\n",
    ")"
   ]
  },
  {
   "cell_type": "code",
   "execution_count": 21,
   "metadata": {},
   "outputs": [
    {
     "data": {
      "text/plain": [
       "(3.41 𝐞₂₃, 1 𝐞₂₃)"
      ]
     },
     "execution_count": 21,
     "metadata": {},
     "output_type": "execute_result"
    }
   ],
   "source": [
    "#1.17a\n",
    "outermorphism(g, I, alg, h), Ip"
   ]
  },
  {
   "cell_type": "code",
   "execution_count": 22,
   "metadata": {},
   "outputs": [
    {
     "data": {
      "text/plain": [
       "(3.41 𝐞₁₂, 1 𝐞₁₂)"
      ]
     },
     "execution_count": 22,
     "metadata": {},
     "output_type": "execute_result"
    }
   ],
   "source": [
    "#1.17b Need extra minus sign for negative signature. You can try Algebra(3,1).\n",
    "adjoint_outermorphism(g, Ip, alg, h), I"
   ]
  },
  {
   "cell_type": "code",
   "execution_count": 23,
   "metadata": {},
   "outputs": [
    {
     "data": {
      "text/plain": [
       "3.4101087755299084"
      ]
     },
     "execution_count": 23,
     "metadata": {},
     "output_type": "execute_result"
    }
   ],
   "source": [
    "# The relative orientation between I and I' can be arbitrary.\n",
    "# Here we let the parent algebra determine the orientation.\n",
    "def det(f, I, Ip):\n",
    "    return (outermorphism(f, I, alg)/Ip)[0]\n",
    "\n",
    "det(g, I, Ip)"
   ]
  },
  {
   "cell_type": "code",
   "execution_count": 24,
   "metadata": {},
   "outputs": [
    {
     "data": {
      "text/plain": [
       "(0.621 + 0.542 𝐞₁ + 0.97 𝐞₂ + 0.415 𝐞₁₂,\n",
       " 0.621 + 0.542 𝐞₁ + 0.97 𝐞₂ + 0.348 𝐞₃ + 0.98 𝐞₄ + 0.415 𝐞₁₂ + 0.634 𝐞₁₃ + 0.0406 𝐞₁₄ + 0.0932 𝐞₂₃ + 0.772 𝐞₂₄ + 0.116 𝐞₃₄ + 0.829 𝐞₁₂₃ + 0.655 𝐞₁₂₄ + 0.588 𝐞₁₃₄ + 0.531 𝐞₂₃₄ + 0.365 𝐞₁₂₃₄)"
      ]
     },
     "execution_count": 24,
     "metadata": {},
     "output_type": "execute_result"
    }
   ],
   "source": [
    "#1.21a null part goes null\n",
    "C = create_random_multivector(alg)\n",
    "C_ = outermorphism(g, C, alg)\n",
    "(1/det(g, I, Ip)) * adjoint_outermorphism(g, C_*Ip, alg) * Ir, C"
   ]
  },
  {
   "cell_type": "code",
   "execution_count": 25,
   "metadata": {},
   "outputs": [
    {
     "data": {
      "text/plain": [
       "(0.154 + 0.101 𝐞₂ + 0.441 𝐞₃ + 0.118 𝐞₂₃,\n",
       " 0.154 + 0.37 𝐞₁ + 0.101 𝐞₂ + 0.441 𝐞₃ + 0.478 𝐞₄ + 0.644 𝐞₁₂ + 0.405 𝐞₁₃ + 0.665 𝐞₁₄ + 0.118 𝐞₂₃ + 0.295 𝐞₂₄ + 0.00518 𝐞₃₄ + 0.523 𝐞₁₂₃ + 0.15 𝐞₁₂₄ + 0.767 𝐞₁₃₄ + 0.787 𝐞₂₃₄ + 0.203 𝐞₁₂₃₄)"
      ]
     },
     "execution_count": 25,
     "metadata": {},
     "output_type": "execute_result"
    }
   ],
   "source": [
    "#1.21b null part goes null\n",
    "C_ = create_random_multivector(alg)\n",
    "C = adjoint_outermorphism(g, C_, alg)\n",
    "(1/det(g, I, Ip)) * outermorphism(g, C*I, alg) * Ipr, C_"
   ]
  },
  {
   "cell_type": "code",
   "execution_count": 26,
   "metadata": {},
   "outputs": [
    {
     "data": {
      "text/plain": [
       "(7.11 𝐞₁₂₃ + 6.58 𝐞₁₂₄ + 6.84 𝐞₁₃₄ + -0.206 𝐞₂₃₄,\n",
       " 7.11 𝐞₁₂₃ + 6.58 𝐞₁₂₄ + 6.84 𝐞₁₃₄ + -0.206 𝐞₂₃₄,\n",
       " 56.8 + -32.7 𝐞₁₂ + -26.7 𝐞₁₃ + -34.6 𝐞₁₄ + 2.39 𝐞₂₃ + -3.25 𝐞₂₄ + -30.0 𝐞₃₄,\n",
       " 56.8 + -32.7 𝐞₁₂ + -26.7 𝐞₁₃ + -34.6 𝐞₁₄ + 2.39 𝐞₂₃ + -3.25 𝐞₂₄ + -30.0 𝐞₃₄)"
      ]
     },
     "execution_count": 26,
     "metadata": {},
     "output_type": "execute_result"
    }
   ],
   "source": [
    "#2.1 Note that characteristic multivectors are of even grades\n",
    "r = 3  # try several r\n",
    "h = 1e-2\n",
    "vectors = create_r_vectors(r, alg)\n",
    "F = lambda vectors: wedge([f(v) for v in vectors])\n",
    "(\n",
    "    F(vectors),\n",
    "    outermorphism(f, wedge(vectors), alg, h),\n",
    "    simplicial_derivative(F, vectors, alg, h), # characteristic multivectors\n",
    "    derivative(lambda A: outermorphism(f, A, alg, h), wedge(vectors), alg, h, r),\n",
    ")\n"
   ]
  },
  {
   "cell_type": "code",
   "execution_count": 27,
   "metadata": {},
   "outputs": [
    {
     "data": {
      "text/plain": [
       "(-5.35 + -1.31 𝐞₁₂ + 1.9 𝐞₁₃ + -0.902 𝐞₁₄ + -1.62 𝐞₂₃ + -2.45 𝐞₂₄ + -3.36 𝐞₃₄,\n",
       " -5.35 + -7.78 𝐞₁ + 1.58 𝐞₂ + -0.4 𝐞₃ + 0.274 𝐞₄ + 1.42 𝐞₁₂ + 4.08 𝐞₁₃ + 0.638 𝐞₁₄ + -0.24 𝐞₂₃ + -1.24 𝐞₂₄ + -2.29 𝐞₃₄ + 2.78 𝐞₁₂₃ + -1.01 𝐞₁₂₄ + -2.13 𝐞₁₃₄ + 0.635 𝐞₂₃₄ + -0.752 𝐞₁₂₃₄)"
      ]
     },
     "execution_count": 27,
     "metadata": {},
     "output_type": "execute_result"
    }
   ],
   "source": [
    "#2.2\n",
    "frame = create_r_vectors(len(alg.signature), alg)\n",
    "r_frame = reciprocal(frame)\n",
    "images = [f(v) for v in frame]\n",
    "(\n",
    "    sum(vr * b for b, vr in zip(images, r_frame)),\n",
    "    derivative(f, x, alg)\n",
    ")"
   ]
  },
  {
   "cell_type": "code",
   "execution_count": 28,
   "metadata": {},
   "outputs": [
    {
     "data": {
      "text/plain": [
       "([0.0709 𝐞₁ + 6.41 𝐞₂ + 1.91 𝐞₃ + -2.07 𝐞₄,\n",
       "  1.2 𝐞₁ + 2.92 𝐞₂ + 1.4 𝐞₃ + -0.92 𝐞₄,\n",
       "  0.543 𝐞₁ + 5.29 𝐞₂ + 4.98 𝐞₃ + -2.58 𝐞₄,\n",
       "  0.976 𝐞₁ + 2.21 𝐞₂ + 3.01 𝐞₃ + -0.799 𝐞₄],\n",
       " [0.0709 𝐞₁ + 6.41 𝐞₂ + 1.91 𝐞₃ + -2.07 𝐞₄,\n",
       "  1.2 𝐞₁ + 2.92 𝐞₂ + 1.4 𝐞₃ + -0.92 𝐞₄,\n",
       "  0.543 𝐞₁ + 5.29 𝐞₂ + 4.98 𝐞₃ + -2.58 𝐞₄,\n",
       "  0.976 𝐞₁ + 2.21 𝐞₂ + 3.01 𝐞₃ + -0.799 𝐞₄])"
      ]
     },
     "execution_count": 28,
     "metadata": {},
     "output_type": "execute_result"
    }
   ],
   "source": [
    "#2.2 comes from linearity\n",
    "images, [differential(f, a, v) for v in frame]"
   ]
  },
  {
   "cell_type": "code",
   "execution_count": 29,
   "metadata": {},
   "outputs": [
    {
     "data": {
      "text/plain": [
       "(-5.35, -5.35, -5.35)"
      ]
     },
     "execution_count": 29,
     "metadata": {},
     "output_type": "execute_result"
    }
   ],
   "source": [
    "#2.3 trace\n",
    "def trace(f, alg):\n",
    "    return sum(vr.sp(f(v)) for v, vr in zip(alg.frame, reciprocal(alg.frame)))\n",
    "def divergence(f, alg):\n",
    "    return sum(vr | f(v) for v, vr in zip(alg.frame, reciprocal(alg.frame)))\n",
    "(\n",
    "    derivative(f, e1, alg).grade(0),\n",
    "    trace(f, alg),\n",
    "    divergence(f, alg)\n",
    ")"
   ]
  },
  {
   "cell_type": "code",
   "execution_count": 30,
   "metadata": {},
   "outputs": [
    {
     "data": {
      "text/plain": [
       "(-9.15 + 2.27 𝐞₁₂ + 6.04 𝐞₁₃ + 14.9 𝐞₁₄ + -9.14 𝐞₂₃ + 19.9 𝐞₂₄ + 7.31 𝐞₃₄ + 10.5 𝐞₁₂₃₄,\n",
       " -9.15 + 2.27 𝐞₁₂ + 6.04 𝐞₁₃ + 14.9 𝐞₁₄ + -9.14 𝐞₂₃ + 19.9 𝐞₂₄ + 7.31 𝐞₃₄ + 10.5 𝐞₁₂₃₄)"
      ]
     },
     "execution_count": 30,
     "metadata": {},
     "output_type": "execute_result"
    }
   ],
   "source": [
    "#2.4\n",
    "r = 2\n",
    "h = 1e-2\n",
    "F = lambda vectors: wedge([f(v) for v in vectors])\n",
    "def char_multi_linear(f, r, alg: Algebra, frame=None, r_frame=None):\n",
    "    if not frame:\n",
    "        frame = alg.frame\n",
    "        r_frame = reciprocal(frame)\n",
    "    r_vec_frame = r_vector_frame_vectors(frame, r)\n",
    "    r_reci_frame = r_vector_frame_vectors(r_frame, r, reverse=True)\n",
    "    sdf = 0\n",
    "    for vectors, r_vectors in zip(r_vec_frame, r_reci_frame):\n",
    "        sdf += wedge(r_vectors[::-1]) * wedge([f(v) for v in vectors])\n",
    "    return sdf\n",
    "\n",
    "(\n",
    "    char_multi_linear(f, r, alg),\n",
    "    simplicial_derivative(F, np.zeros(r), alg, h)\n",
    ")"
   ]
  },
  {
   "cell_type": "code",
   "execution_count": 31,
   "metadata": {},
   "outputs": [
    {
     "data": {
      "text/plain": [
       "(77.38893423867682, 77.38893423867681, 77.3889342386768)"
      ]
     },
     "execution_count": 31,
     "metadata": {},
     "output_type": "execute_result"
    }
   ],
   "source": [
    "#2.6 when full rank, only scalar remains\n",
    "def trans2matrix(f, alg):\n",
    "    values = [f(a) for a in alg.frame]\n",
    "    return np.array([[ar.sp(v)[0] for v in values] for ar in reciprocal(alg.frame)])\n",
    "matrix = trans2matrix(f, alg)\n",
    "I = alg.pseudoscalar((1,))\n",
    "char_multi_linear(f, 4, alg)[0], np.linalg.det(matrix), det(f, I, I)"
   ]
  },
  {
   "cell_type": "code",
   "execution_count": 32,
   "metadata": {},
   "outputs": [
    {
     "data": {
      "text/plain": [
       "(1.65e+02 + -70.9 𝐞₁₂ + -84.4 𝐞₁₃ + -94.0 𝐞₁₄ + 5.77 𝐞₂₃ + 13.3 𝐞₂₄ + -74.7 𝐞₃₄,\n",
       " 1.65e+02 + -70.9 𝐞₁₂ + -84.4 𝐞₁₃ + -94.0 𝐞₁₄ + 5.77 𝐞₂₃ + 13.3 𝐞₂₄ + -74.7 𝐞₃₄)"
      ]
     },
     "execution_count": 32,
     "metadata": {},
     "output_type": "execute_result"
    }
   ],
   "source": [
    "#2.7 sum\n",
    "r = 3\n",
    "h = lambda x: f(x)+g(x)\n",
    "\n",
    "# Sometimes I use a random frame to check frame independence\n",
    "frame = create_r_vectors(len(alg.signature), alg)\n",
    "r_frame = reciprocal(frame)\n",
    "drF = 0\n",
    "coef = [1/(factorial(r-s)*factorial(s)) for s in range(r+1)]\n",
    "for base_vectors, reci_vectors in zip(permutations(frame, r), permutations(r_frame, r)):\n",
    "    gh = 0\n",
    "    for s in range(r+1):\n",
    "        gh += coef[s]*wedge([f(v) for v in reci_vectors[:s]]) ^ wedge([g(v) for v in reci_vectors[s:]])\n",
    "    drF += wedge(base_vectors[::-1]) * gh\n",
    "char_multi_linear(h, r, alg), drF"
   ]
  },
  {
   "cell_type": "code",
   "execution_count": 33,
   "metadata": {},
   "outputs": [
    {
     "data": {
      "text/plain": [
       "(1.01e+02, 101.04485146177167)"
      ]
     },
     "execution_count": 33,
     "metadata": {},
     "output_type": "execute_result"
    }
   ],
   "source": [
    "#2.8 characteristic polynomial\n",
    "def char_scalar(f, r, alg: Algebra, frame=None, r_frame=None):\n",
    "    if not frame:\n",
    "        frame = alg.frame\n",
    "        r_frame = reciprocal(frame)\n",
    "    r_vec_frame = r_vector_frame_vectors(frame, r)\n",
    "    r_reci_frame = r_vector_frame_vectors(r_frame, r, reverse=True)\n",
    "    sdf = 0\n",
    "    for vectors, r_vectors in zip(r_vec_frame, r_reci_frame):\n",
    "        sdf += alg.sp(wedge(r_vectors[::-1]), wedge([f(v) for v in vectors]))[0]\n",
    "    return sdf\n",
    "\n",
    "# This calculates n characteristic multivectors. \n",
    "# But drops the nonscalar information\n",
    "def char_poly_coefs(f, alg, frame=None, r_frame=None):\n",
    "    n = alg.d\n",
    "    if frame:\n",
    "        n = len(frame)\n",
    "    return [(-1)**(n-s) * char_scalar(f, s, alg, frame, r_frame) for s in range(n+1)]\n",
    "\n",
    "def polynomial(l, coefs):\n",
    "    return sum(l ** i * coef for i, coef in enumerate(coefs[::-1]))\n",
    "\n",
    "l = 3.3\n",
    "n = 4\n",
    "(\n",
    "    char_multi_linear(lambda x: f(x) - l*x, n, alg), \n",
    "    polynomial(l, char_poly_coefs(f, alg))\n",
    ")"
   ]
  },
  {
   "cell_type": "code",
   "execution_count": 34,
   "metadata": {},
   "outputs": [
    {
     "data": {
      "text/plain": [
       "(1.78 𝐞₁ + 34.3 𝐞₂ + 31.3 𝐞₃ + -23.9 𝐞₄,\n",
       " 1.78 𝐞₁ + 34.3 𝐞₂ + 31.3 𝐞₃ + -23.9 𝐞₄,\n",
       " 0.62 𝐞₁ + 0.578 𝐞₂ + 0.676 𝐞₃ + 0.251 𝐞₄,\n",
       " 0.62 𝐞₁ + 0.578 𝐞₂ + 0.676 𝐞₃ + 0.251 𝐞₄)"
      ]
     },
     "execution_count": 34,
     "metadata": {},
     "output_type": "execute_result"
    }
   ],
   "source": [
    "def r_fold(f,r,value):\n",
    "    return reduce(lambda v, _: f(v), range(r), value)\n",
    "\n",
    "r_fold(f, 3, x), f(f(f(x))), r_fold(f, 0, x), x"
   ]
  },
  {
   "cell_type": "code",
   "execution_count": 35,
   "metadata": {},
   "outputs": [
    {
     "data": {
      "text/plain": [
       "-4.26e-14 𝐞₂ + -7.11e-14 𝐞₃"
      ]
     },
     "execution_count": 35,
     "metadata": {},
     "output_type": "execute_result"
    }
   ],
   "source": [
    "#2.9 Cayley Hamilton\n",
    "sum(r_fold(f, i, x) * coef for i, coef in enumerate(char_poly_coefs(f, alg)[::-1]))"
   ]
  },
  {
   "cell_type": "code",
   "execution_count": 36,
   "metadata": {},
   "outputs": [
    {
     "data": {
      "text/plain": [
       "(array([-4.59790929+1.30721359j, -4.59790929-1.30721359j,\n",
       "         1.36219798+0.j        ,  2.48633971+0.j        ]),\n",
       " array([-4.59790929+1.30721359j, -4.59790929-1.30721359j,\n",
       "         2.48633971+0.j        ,  1.36219798+0.j        ]))"
      ]
     },
     "execution_count": 36,
     "metadata": {},
     "output_type": "execute_result"
    }
   ],
   "source": [
    "#2.10 We can find eigenvalues like the usual many-fold method.\n",
    "# How about eigenvectors? \n",
    "# What else can we get from characteristic multivector? Some papers I should go through...\n",
    "matrix = trans2matrix(f, alg)\n",
    "eigvalues, eigvecs = np.linalg.eig(matrix)\n",
    "coefs = char_poly_coefs(f, alg)\n",
    "eigvalues, np.roots(coefs)"
   ]
  },
  {
   "cell_type": "code",
   "execution_count": 37,
   "metadata": {},
   "outputs": [
    {
     "data": {
      "text/plain": [
       "array([-0.67471063, -0.67471063, -0.67471063, -0.67471063, -0.67471063,\n",
       "       -0.67471063, -0.67471063, -0.67471063])"
      ]
     },
     "execution_count": 37,
     "metadata": {},
     "output_type": "execute_result"
    }
   ],
   "source": [
    "# From Lasenby's paper, we can reconstruct a rotor from characteristic multivector:\n",
    "# Note that the rotor must have non-zero scalar part\n",
    "# the paper suggest such method is pretty robust for noisy data\n",
    "R = blade_exp(create_r_blade(2, alg)) * blade_exp(create_r_blade(2, alg))\n",
    "rotor = lambda x: R.sw(x) # a screw motion\n",
    "\n",
    "terms_ratio(R.reverse(), sum(char_multi_linear(rotor, s, alg) for s in range(n+1)))"
   ]
  },
  {
   "cell_type": "code",
   "execution_count": 38,
   "metadata": {},
   "outputs": [
    {
     "data": {
      "text/plain": [
       "(1.63 𝐞₁ + 3.25 𝐞₂ + 2.32 𝐞₃ + -1.02 𝐞₄,\n",
       " 1.63 𝐞₁ + 3.25 𝐞₂ + 2.32 𝐞₃ + -1.02 𝐞₄)"
      ]
     },
     "execution_count": 38,
     "metadata": {},
     "output_type": "execute_result"
    }
   ],
   "source": [
    "# recovering matrix to transfromation\n",
    "def matrix2trans(M, alg:Algebra ):\n",
    "    d = alg.d\n",
    "    assert M.shape[0] == d, 'dimension not fit'\n",
    "    return lambda x: sum(c*e for c,e in zip(np.dot(M, x.asfullmv()[1:d+1]), alg.frame))\n",
    "    \n",
    "mf = matrix2trans(matrix, alg)\n",
    "mf(x), f(x)"
   ]
  },
  {
   "cell_type": "code",
   "execution_count": 39,
   "metadata": {},
   "outputs": [
    {
     "data": {
      "text/plain": [
       "(-9.15399024488881, -9.153990244888805)"
      ]
     },
     "execution_count": 39,
     "metadata": {},
     "output_type": "execute_result"
    }
   ],
   "source": [
    "#2.11\n",
    "s = 2\n",
    "rhs = (1/s) * sum((-1)**(r+1) * char_scalar(f, s-r, alg) * trace(lambda x: r_fold(f, r, x), alg)[0] for r in range(1,s+1))\n",
    "char_scalar(f, s, alg), rhs"
   ]
  },
  {
   "cell_type": "code",
   "execution_count": 40,
   "metadata": {},
   "outputs": [
    {
     "data": {
      "text/plain": [
       "(56.79226123828997, (56.79226123829+0j))"
      ]
     },
     "execution_count": 40,
     "metadata": {},
     "output_type": "execute_result"
    }
   ],
   "source": [
    "#2.13\n",
    "k = 3\n",
    "char_scalar(f, k, alg), sum(np.prod(comb) for comb in combinations(eigvalues, k))"
   ]
  },
  {
   "cell_type": "code",
   "execution_count": 41,
   "metadata": {},
   "outputs": [
    {
     "data": {
      "text/plain": [
       "(-129.36709722158122, (-129.36709722158128+0j))"
      ]
     },
     "execution_count": 41,
     "metadata": {},
     "output_type": "execute_result"
    }
   ],
   "source": [
    "#2.14 It's easier to show the eigenvalues of f^k are {lambda^k_i} by linearity\n",
    "trace(lambda x: r_fold(f, k, x), alg)[0], sum(l**k for l in eigvalues)"
   ]
  },
  {
   "cell_type": "code",
   "execution_count": 42,
   "metadata": {},
   "outputs": [
    {
     "data": {
      "text/plain": [
       "(77.4 𝐞₁₂₃₄, 77.4 𝐞₁₂₃₄, 77.4 𝐞₁₂₃₄)"
      ]
     },
     "execution_count": 42,
     "metadata": {},
     "output_type": "execute_result"
    }
   ],
   "source": [
    "# 3.4 A space must bound f to own an invariant subspace.\n",
    "I = alg.pseudoscalar((1,))\n",
    "outermorphism(f, I, alg), det(f, I, I)*I, adjoint_outermorphism(f, I, alg)"
   ]
  },
  {
   "cell_type": "code",
   "execution_count": 43,
   "metadata": {},
   "outputs": [
    {
     "data": {
      "text/plain": [
       "(-11.5 𝐞₁₂₃₄, -11.5 𝐞₁₂₃₄)"
      ]
     },
     "execution_count": 43,
     "metadata": {},
     "output_type": "execute_result"
    }
   ],
   "source": [
    "#3.6\n",
    "l = 2.2\n",
    "n = 4\n",
    "F = lambda x: f(x) - l*x\n",
    "coefs = char_poly_coefs(f, alg)\n",
    "outermorphism(F, I, alg), polynomial(l, coefs) * I"
   ]
  },
  {
   "cell_type": "code",
   "execution_count": 44,
   "metadata": {},
   "outputs": [
    {
     "data": {
      "text/plain": [
       "(9.89 𝐞₁₂, 9.89 𝐞₁₂)"
      ]
     },
     "execution_count": 44,
     "metadata": {},
     "output_type": "execute_result"
    }
   ],
   "source": [
    "#3.7\n",
    "I = e12\n",
    "frame = [e1,e2]\n",
    "g = lambda x: P((A*x.grade(1)*B).grade(1), I)\n",
    "coefs = char_poly_coefs(g, alg, frame, frame)\n",
    "F = lambda x: g(x) - l*x\n",
    "outermorphism(F, I, alg), polynomial(l, coefs) * I"
   ]
  },
  {
   "cell_type": "code",
   "execution_count": 45,
   "metadata": {},
   "outputs": [
    {
     "data": {
      "text/plain": [
       "(-29.27120081877561, -29.27120081877561)"
      ]
     },
     "execution_count": 45,
     "metadata": {},
     "output_type": "execute_result"
    }
   ],
   "source": [
    "#3.8\n",
    "I = e123\n",
    "frame2 = [e3]\n",
    "frame3 = [e1,e2,e3]\n",
    "h = lambda x: P((A*P(x, e12).grade(1)*B).grade(1), e12) + P((B*P(x, e3).grade(1)*C).grade(1), e3)\n",
    "F = lambda x: h(x) - l*x\n",
    "(\n",
    "    char_scalar(F, 2, alg, frame, frame) * char_scalar(F, 1, alg, frame2, frame2),\n",
    "    char_scalar(F, 3, alg, frame3, frame3)\n",
    ")"
   ]
  },
  {
   "cell_type": "code",
   "execution_count": 46,
   "metadata": {},
   "outputs": [
    {
     "data": {
      "text/plain": [
       "(-0.751 𝐞₁ + 0.497 𝐞₂, -0.751 𝐞₁ + 1.31 𝐞₂)"
      ]
     },
     "execution_count": 46,
     "metadata": {},
     "output_type": "execute_result"
    }
   ],
   "source": [
    "outermorphism(h, e1, alg), adjoint_outermorphism(h, e1, alg)"
   ]
  },
  {
   "cell_type": "code",
   "execution_count": 47,
   "metadata": {},
   "outputs": [
    {
     "data": {
      "text/plain": [
       "(0.287 𝐞₃, 0.287 𝐞₃)"
      ]
     },
     "execution_count": 47,
     "metadata": {},
     "output_type": "execute_result"
    }
   ],
   "source": [
    "#3.9a\n",
    "adjoint_outermorphism(h, e123, alg) | e12, outermorphism(h, e12, alg).e12 * outermorphism(h, -e3, alg)"
   ]
  },
  {
   "cell_type": "code",
   "execution_count": 48,
   "metadata": {},
   "outputs": [
    {
     "data": {
      "text/plain": [
       "(-0.287 𝐞₁₂, -0.287 𝐞₁₂)"
      ]
     },
     "execution_count": 48,
     "metadata": {},
     "output_type": "execute_result"
    }
   ],
   "source": [
    "#3.9b\n",
    "outermorphism(h, e123, alg) | e3, adjoint_outermorphism(h, e3, alg).e3 * adjoint_outermorphism(h, e12, alg)"
   ]
  },
  {
   "cell_type": "code",
   "execution_count": 49,
   "metadata": {},
   "outputs": [
    {
     "data": {
      "text/plain": [
       "(([2, 3], [(0, 1)]),\n",
       " array([-4.59790929+1.30721359j, -4.59790929-1.30721359j,\n",
       "         1.36219798+0.j        ,  2.48633971+0.j        ]))"
      ]
     },
     "execution_count": 49,
     "metadata": {},
     "output_type": "execute_result"
    }
   ],
   "source": [
    "def separate_indices(numbers):\n",
    "    real_indices = []\n",
    "    conjugate_pairs_indices = []\n",
    "    visited = set()  # To keep track of indices already processed\n",
    "\n",
    "    for i, num in enumerate(numbers):\n",
    "        if np.isreal(num):  # Check if the number is real\n",
    "            real_indices.append(i)\n",
    "        elif i not in visited:  # Check if the index is not already processed\n",
    "            conjugate = np.conj(num)\n",
    "            for j in range(i + 1, len(numbers)):\n",
    "                if numbers[j] == conjugate:\n",
    "                    conjugate_pairs_indices.append((i, j))\n",
    "                    visited.add(i)\n",
    "                    visited.add(j)\n",
    "                    break\n",
    "\n",
    "    return real_indices, conjugate_pairs_indices\n",
    "\n",
    "separate_indices(eigvalues), eigvalues"
   ]
  },
  {
   "cell_type": "code",
   "execution_count": 50,
   "metadata": {},
   "outputs": [
    {
     "name": "stdout",
     "output_type": "stream",
     "text": [
      "[1.36219798 1.36219798 1.36219798 1.36219798] [ 2.51438877  9.17832951  2.10302016 -4.31495142]\n",
      "[2.48633971 2.48633971 2.48633971 2.48633971] [  3.28325308   3.43894814   2.69757702 -17.37584088]\n",
      "[22.84957718 22.84957718 22.84957718 22.84957718 22.84957718 22.84957718] [ 31.28439092  33.77430631 163.50836142   7.18314458  37.71336611\n",
      "  40.01478835]\n"
     ]
    }
   ],
   "source": [
    "# An example of non proper blade:\n",
    "def linalg_eigblades(f, alg: Algebra):\n",
    "    matrix = trans2matrix(f, alg)\n",
    "    eigvalues, eigvecs = np.linalg.eig(matrix)\n",
    "    real_indices, conjugate_pairs_indices = separate_indices(eigvalues)\n",
    "    eigblades = [alg.vector(np.real(eigvecs[:, i])) for i in real_indices]\n",
    "    for k, l in conjugate_pairs_indices:\n",
    "        v1 = np.real(eigvecs[:,k] + eigvecs[:,l])\n",
    "        v2 = np.imag(eigvecs[:,k] - eigvecs[:,l])\n",
    "        eigblades.append(alg.vector(v1) ^ alg.vector(v2))\n",
    "    return eigblades \n",
    "\n",
    "def terms_ratio(A, B: MultiVector):\n",
    "    valid_keys = [k for k in B.keys() if not np.isclose(B[k], 0)]\n",
    "    return np.divide([A[k] for k in valid_keys], [B[k] for k in valid_keys])\n",
    "\n",
    "eigblades = linalg_eigblades(f, alg)\n",
    "\n",
    "# right eigenblades but not left!\n",
    "for blade in eigblades:\n",
    "    print(\n",
    "        terms_ratio(outermorphism(f, blade, alg), blade), \n",
    "        terms_ratio(adjoint_outermorphism(f, blade, alg), blade)\n",
    "        )"
   ]
  },
  {
   "cell_type": "code",
   "execution_count": 51,
   "metadata": {},
   "outputs": [
    {
     "name": "stdout",
     "output_type": "stream",
     "text": [
      "[-1.71127696  8.29921842  7.99784201 -0.53748771] [1.36219798 1.36219798 1.36219798 1.36219798]\n",
      "[ 9.09824903  6.79456235  7.31077928 -1.09672986] [2.48633971 2.48633971 2.48633971 2.48633971]\n",
      "[12.01919848 17.15348839 -0.07380245 62.87769689 20.57210183 19.00558503] [22.84957718 22.84957718 22.84957718 22.84957718 22.84957718 22.84957718]\n"
     ]
    }
   ],
   "source": [
    "#3.11 reciprocal for blades\n",
    "def reciprocal(blades):\n",
    "    I = wedge(blades)\n",
    "    dualblades = []\n",
    "    for k in range(len(blades)):\n",
    "        sign = (-1) ** (blades[k].grades[0] * sum(blade.grades[0] for blade in blades[:k]))\n",
    "        dualblades.append(sign * wedge(blades[:k] + blades[k+1:]) * I.inv())\n",
    "    return dualblades\n",
    "\n",
    "dualblades = reciprocal(eigblades)\n",
    "# The reciprocal of a right eigenblade is a left eigenblade! Note that they correspond to the same eigenvalues\n",
    "for blade in dualblades:\n",
    "    print(\n",
    "        terms_ratio(outermorphism(f, blade, alg), blade), \n",
    "        terms_ratio(adjoint_outermorphism(f, blade, alg), blade)\n",
    "        )\n"
   ]
  },
  {
   "cell_type": "code",
   "execution_count": 52,
   "metadata": {},
   "outputs": [
    {
     "data": {
      "text/plain": [
       "[1.0, 1.11e-16, 1.0]"
      ]
     },
     "execution_count": 52,
     "metadata": {},
     "output_type": "execute_result"
    }
   ],
   "source": [
    "#3.12 \n",
    "[eigblades[i] | dualblades[j] for i,j in [(0,0), (0,1), (1,1)]]"
   ]
  },
  {
   "cell_type": "code",
   "execution_count": 53,
   "metadata": {},
   "outputs": [
    {
     "data": {
      "text/plain": [
       "[(35.7 𝐞₁₂₃, 35.7 𝐞₁₂₃), (-1.71 𝐞₄, -1.71 𝐞₄)]"
      ]
     },
     "execution_count": 53,
     "metadata": {},
     "output_type": "execute_result"
    }
   ],
   "source": [
    "# What transformation have a non-trivial proper blade?\n",
    "# A invariant subspace, say e123 of e1234\n",
    "# from 3.12 we know we're looking for blades equal to thier own reciprocal\n",
    "# that means orthogonal to other eigenspaces\n",
    "\n",
    "pf = lambda x: P(f(P(x, e123)), e123) + P(f(P(x, e4)), e4)\n",
    "[(outermorphism(pf, blade, alg), adjoint_outermorphism(pf, blade, alg)) for blade in [e123, e4]]"
   ]
  },
  {
   "cell_type": "code",
   "execution_count": 54,
   "metadata": {},
   "outputs": [
    {
     "name": "stdout",
     "output_type": "stream",
     "text": [
      "[3.06472435 3.06472435 3.06472435] [3.58733806 2.80810499 2.77859329]\n",
      "[] []\n",
      "[11.63643486 11.63643486 11.63643486] [13.06340932 13.2223068   9.44082423]\n",
      "[] []\n",
      "[-1.70914638] [-1.70914638]\n",
      "[] []\n"
     ]
    }
   ],
   "source": [
    "eigblades = linalg_eigblades(pf, alg)\n",
    "for E in [e123, e4]:\n",
    "    for blade in eigblades: # not just vectors\n",
    "        blade = (blade | E)*E\n",
    "        om = outermorphism(pf, blade, alg)\n",
    "        am = adjoint_outermorphism(pf, blade, alg)\n",
    "        print(\n",
    "            terms_ratio(om, blade), \n",
    "            terms_ratio(am, blade)\n",
    "            )"
   ]
  },
  {
   "cell_type": "code",
   "execution_count": 55,
   "metadata": {},
   "outputs": [
    {
     "data": {
      "text/plain": [
       "(array([[-0.16674087,  1.74703513,  1.810695  , -1.38057919],\n",
       "        [ 1.74703513, -1.56805885,  2.8506107 ,  2.78032805],\n",
       "        [ 1.810695  ,  2.8506107 , -1.90333478,  1.1635589 ],\n",
       "        [-1.38057919,  2.78032805,  1.1635589 , -1.70914638]]),\n",
       " 1.78 𝐞₁ + 2.8 𝐞₂ + 1.77 𝐞₃ + 1.11 𝐞₄,\n",
       " 1.78 𝐞₁ + 2.8 𝐞₂ + 1.77 𝐞₃ + 1.11 𝐞₄)"
      ]
     },
     "execution_count": 55,
     "metadata": {},
     "output_type": "execute_result"
    }
   ],
   "source": [
    "#4.1b A matrix from a symmetric transformation is symmetric\n",
    "fp = lambda x: (f(x) + adjoint_outermorphism(f, x, alg))/2\n",
    "trans2matrix(fp, alg), fp(x), derivative(lambda x: x | f(x)/2, x, alg, grade=1)"
   ]
  },
  {
   "cell_type": "code",
   "execution_count": 56,
   "metadata": {},
   "outputs": [
    {
     "data": {
      "text/plain": [
       "(-1.31 𝐞₁₂ + 1.9 𝐞₁₃ + -0.902 𝐞₁₄ + -1.62 𝐞₂₃ + -2.45 𝐞₂₄ + -3.36 𝐞₃₄,\n",
       " -1.31 𝐞₁₂ + 1.9 𝐞₁₃ + -0.902 𝐞₁₄ + -1.62 𝐞₂₃ + -2.45 𝐞₂₄ + -3.36 𝐞₃₄)"
      ]
     },
     "execution_count": 56,
     "metadata": {},
     "output_type": "execute_result"
    }
   ],
   "source": [
    "# a curl is a part of a derivative\n",
    "derivative(f, x, alg, grade=1).grade(2), curl(f, x, alg, grade=1)"
   ]
  },
  {
   "cell_type": "code",
   "execution_count": 57,
   "metadata": {},
   "outputs": [
    {
     "data": {
      "text/plain": [
       "(array([[ 5.55111512e-17,  6.55163325e-01, -9.48530295e-01,\n",
       "          4.50963801e-01],\n",
       "        [-6.55163325e-01,  1.11022302e-16,  8.11441158e-01,\n",
       "          1.22274522e+00],\n",
       "        [ 9.48530295e-01, -8.11441158e-01,  1.11022302e-16,\n",
       "          1.68092334e+00],\n",
       "        [-4.50963801e-01, -1.22274522e+00, -1.68092334e+00,\n",
       "         -2.22044605e-16]]),\n",
       " -0.15 𝐞₁ + 0.45 𝐞₂ + 0.542 𝐞₃ + -2.12 𝐞₄,\n",
       " -0.15 𝐞₁ + 0.45 𝐞₂ + 0.542 𝐞₃ + -2.12 𝐞₄)"
      ]
     },
     "execution_count": 57,
     "metadata": {},
     "output_type": "execute_result"
    }
   ],
   "source": [
    "#4.1c a skew transfromation leads to a skew matrix\n",
    "fm = lambda x: (f(x) - adjoint_outermorphism(f, x, alg))/2\n",
    "trans2matrix(fm, alg), fm(x), x | derivative(f, x, alg, grade=1).grade(2)/2"
   ]
  },
  {
   "cell_type": "code",
   "execution_count": 58,
   "metadata": {},
   "outputs": [
    {
     "data": {
      "text/plain": [
       "(3.15, 3.15, 2.33e-10 𝐞₁₃ + 4.66e-10 𝐞₂₄ + -3.49e-10 𝐞₃₄)"
      ]
     },
     "execution_count": 58,
     "metadata": {},
     "output_type": "execute_result"
    }
   ],
   "source": [
    "#4.2 fp curl free\n",
    "a | fp(x), x | fp(a), curl(fp, x, alg, grade=1)"
   ]
  },
  {
   "cell_type": "code",
   "execution_count": 59,
   "metadata": {},
   "outputs": [
    {
     "data": {
      "text/plain": [
       "(1.78 𝐞₁ + 2.8 𝐞₂ + 1.77 𝐞₃ + 1.11 𝐞₄, 1.78 𝐞₁ + 2.8 𝐞₂ + 1.77 𝐞₃ + 1.11 𝐞₄)"
      ]
     },
     "execution_count": 59,
     "metadata": {},
     "output_type": "execute_result"
    }
   ],
   "source": [
    "#4.3 spectral decomposition of the symmetric part\n",
    "matrix = trans2matrix(fp, alg)\n",
    "eigvalues, eigvecs = np.linalg.eigh(matrix)\n",
    "eigvecs = [alg.vector(v) for v in eigvecs.transpose()]\n",
    "mf = lambda x: sum(e * P(x, v) for e, v in zip(eigvalues, eigvecs))\n",
    "mf(x), fp(x)"
   ]
  },
  {
   "cell_type": "code",
   "execution_count": 60,
   "metadata": {},
   "outputs": [
    {
     "data": {
      "text/plain": [
       "[-9.48e+02 𝐞₁ + -1.62e-14 𝐞₂ + 3.38e-14 𝐞₃ + 1.58e-13 𝐞₄,\n",
       " 1.23e-15 𝐞₁ + -71.9 𝐞₂ + 9.91e-15 𝐞₃ + -1.6e-14 𝐞₄,\n",
       " -1.41e-16 𝐞₁ + -5.44e-16 𝐞₂ + -3.95 𝐞₃ + 1.37e-15 𝐞₄,\n",
       " -1.67e-16 𝐞₁ + 2.22e-16 𝐞₂ + -3.47e-16 𝐞₃ + -0.998 𝐞₄]"
      ]
     },
     "execution_count": 60,
     "metadata": {},
     "output_type": "execute_result"
    }
   ],
   "source": [
    "# QR factorization\n",
    "transframe = [fp(e) for e in alg.frame] #another basis\n",
    "gs_trans = gram_schmidt(transframe)\n",
    "gs_trans2 = gram_schmidt([fp(v / norm(v)) for v in gs_trans[::-1]])[::-1]\n",
    "gs_trans2\n"
   ]
  },
  {
   "cell_type": "code",
   "execution_count": 61,
   "metadata": {},
   "outputs": [],
   "source": [
    "# A GA version of eigenblade-solver given the eigenvalues\n",
    "def null_space(f, alg, tol=1e-5, frame=None):\n",
    "    if not frame:\n",
    "        frame = alg.frame\n",
    "    null_sp = wedge(frame)\n",
    "    images = [f(a) for a in frame]\n",
    "    for v in images:\n",
    "        contracted = v | null_sp\n",
    "        if normsq(contracted) >= tol:\n",
    "            null_sp = contracted\n",
    "    return null_sp\n",
    "\n",
    "def eigenblades_from_values(f, eigvalues, alg, frame=None):\n",
    "    eigblades = []\n",
    "    for e in eigvalues:\n",
    "        null_f = lambda x: f(x) - e*x\n",
    "        eigblades.append(null_space(null_f, alg, frame=frame))\n",
    "    return eigblades"
   ]
  },
  {
   "cell_type": "code",
   "execution_count": 62,
   "metadata": {},
   "outputs": [
    {
     "data": {
      "text/plain": [
       "[1,\n",
       " -5.35 + 2.22e-16 𝐞₁₄ + 8.88e-16 𝐞₂₃ + -8.88e-16 𝐞₂₄ + -4.44e-16 𝐞₃₄,\n",
       " -15.7 + 4.44e-16 𝐞₁₂ + -1.55e-15 𝐞₁₃ + 8.88e-16 𝐞₁₄ + -1.78e-15 𝐞₂₃ + 7.11e-15 𝐞₃₄ + -1.78e-15 𝐞₁₂₃₄,\n",
       " 72.6 + 1.78e-15 𝐞₁₂ + -1.78e-15 𝐞₁₃ + -7.11e-15 𝐞₁₄ + -3.55e-15 𝐞₂₃ + -3.55e-15 𝐞₂₄ + 1.78e-15 𝐞₃₄,\n",
       " 52.2]"
      ]
     },
     "execution_count": 62,
     "metadata": {},
     "output_type": "execute_result"
    }
   ],
   "source": [
    "# One thing to note for a symmetric transformation:\n",
    "# the characteristic multivectors are of scalar values\n",
    "# So all subspaces are invariant under the transfromation.\n",
    "[char_multi_linear(fp, r, alg) for r in range(5)]"
   ]
  },
  {
   "cell_type": "code",
   "execution_count": 63,
   "metadata": {},
   "outputs": [
    {
     "data": {
      "text/plain": [
       "(array([-5.45779756, -4.11479977,  3.5752481 ,  0.65006836]),\n",
       " array([-5.45779756, -4.11479977,  0.65006836,  3.5752481 ]))"
      ]
     },
     "execution_count": 63,
     "metadata": {},
     "output_type": "execute_result"
    }
   ],
   "source": [
    "np.roots(char_poly_coefs(fp, alg)), eigvalues"
   ]
  },
  {
   "cell_type": "code",
   "execution_count": 64,
   "metadata": {},
   "outputs": [
    {
     "data": {
      "text/plain": [
       "([0.309 𝐞₁ + -0.72 𝐞₂ + 0.232 𝐞₃ + 0.576 𝐞₄,\n",
       "  -0.406 𝐞₁ + -0.214 𝐞₂ + 0.806 𝐞₃ + -0.375 𝐞₄,\n",
       "  -0.743 𝐞₁ + 0.187 𝐞₂ + -0.0257 𝐞₃ + 0.642 𝐞₄,\n",
       "  -0.434 𝐞₁ + -0.633 𝐞₂ + -0.545 𝐞₃ + -0.339 𝐞₄],\n",
       " [-0.309 𝐞₁ + 0.72 𝐞₂ + -0.232 𝐞₃ + -0.576 𝐞₄,\n",
       "  0.406 𝐞₁ + 0.214 𝐞₂ + -0.806 𝐞₃ + 0.375 𝐞₄,\n",
       "  0.743 𝐞₁ + -0.187 𝐞₂ + 0.0257 𝐞₃ + -0.642 𝐞₄,\n",
       "  -0.434 𝐞₁ + -0.633 𝐞₂ + -0.545 𝐞₃ + -0.339 𝐞₄])"
      ]
     },
     "execution_count": 64,
     "metadata": {},
     "output_type": "execute_result"
    }
   ],
   "source": [
    "eigblades = eigenblades_from_values(fp, eigvalues, alg)\n",
    "[e/norm(e) for e in eigblades], eigvecs"
   ]
  },
  {
   "cell_type": "code",
   "execution_count": 65,
   "metadata": {},
   "outputs": [
    {
     "name": "stdout",
     "output_type": "stream",
     "text": [
      "[-5.45779756 -5.45779756 -5.45779756 -5.45779756]\n",
      "[29.78755426 29.78755426 29.78755426 29.78755426 29.78755426 29.78755426]\n"
     ]
    }
   ],
   "source": [
    "#4.4 modify mf so to have a repeat eigenvalue (degeneracy)\n",
    "eigvalues[1] = eigvalues[0]\n",
    "mf = lambda x: sum(e * P(x, v) for e, v in zip(eigvalues, eigvecs))\n",
    "for blade in [eigvecs[0], wedge(eigvecs[:2])]:\n",
    "    of = outermorphism(mf, blade, alg)\n",
    "    print(terms_ratio(of, blade))"
   ]
  },
  {
   "cell_type": "code",
   "execution_count": 66,
   "metadata": {},
   "outputs": [
    {
     "data": {
      "text/plain": [
       "([-0.743 𝐞₁ + 0.187 𝐞₂ + -0.0257 𝐞₃ + 0.642 𝐞₄,\n",
       "  0.358 𝐞₁₂ + -0.343 𝐞₁₃ + -0.118 𝐞₁₄ + 0.531 𝐞₂₃ + -0.393 𝐞₂₄ + 0.551 𝐞₃₄,\n",
       "  -0.434 𝐞₁ + -0.633 𝐞₂ + -0.545 𝐞₃ + -0.339 𝐞₄],\n",
       " [-0.358 𝐞₁₂ + 0.343 𝐞₁₃ + 0.118 𝐞₁₄ + -0.531 𝐞₂₃ + 0.393 𝐞₂₄ + -0.551 𝐞₃₄,\n",
       "  0.743 𝐞₁ + -0.187 𝐞₂ + 0.0257 𝐞₃ + -0.642 𝐞₄,\n",
       "  -0.434 𝐞₁ + -0.633 𝐞₂ + -0.545 𝐞₃ + -0.339 𝐞₄])"
      ]
     },
     "execution_count": 66,
     "metadata": {},
     "output_type": "execute_result"
    }
   ],
   "source": [
    "eigblades = eigenblades_from_values(mf, set(eigvalues), alg)\n",
    "[e/norm(e) for e in eigblades], [wedge(eigvecs[:2])] + eigvecs[2:]"
   ]
  },
  {
   "cell_type": "code",
   "execution_count": 67,
   "metadata": {},
   "outputs": [
    {
     "data": {
      "text/plain": [
       "(array([[-0.9180656 ,  0.14374694, -0.33678807,  0.15187553],\n",
       "        [ 0.14374694, -0.74780823, -0.590866  ,  0.26645268],\n",
       "        [-0.33678807, -0.590866  ,  0.3843538 , -0.62427824],\n",
       "        [ 0.15187553,  0.26645268, -0.62427824, -0.71847997]]),\n",
       " [0.9999999999999994, -8.326672684688674e-17, 0.0, 0.9999999999999996],\n",
       " array([-1.,  1., -1., -1.]))"
      ]
     },
     "execution_count": 67,
     "metadata": {},
     "output_type": "execute_result"
    }
   ],
   "source": [
    "#4.6 a reflection is an orthogonal symmetric transformation \n",
    "A3 = create_r_blade(3, alg).normalized()\n",
    "matrix = trans2matrix(lambda x: (-1)**3*(A3.sw(x)), alg)\n",
    "# a symmetric matrix, orthogonal, unit eigvals\n",
    "matrix, [np.dot(matrix[i], matrix[j]) for i,j in [(1,1), (1,2), (2,3), (3,3)]], np.linalg.eigvals(matrix)"
   ]
  },
  {
   "cell_type": "code",
   "execution_count": 68,
   "metadata": {},
   "outputs": [
    {
     "data": {
      "text/plain": [
       "(-0.676 𝐞₁ + -0.676 𝐞₂ + -0.447 𝐞₃ + -0.355 𝐞₄,\n",
       " -0.676 𝐞₁ + -0.676 𝐞₂ + -0.447 𝐞₃ + -0.355 𝐞₄)"
      ]
     },
     "execution_count": 68,
     "metadata": {},
     "output_type": "execute_result"
    }
   ],
   "source": [
    "#4.6 Find blade A from an orthogonal-symmetric-transfromation?\n",
    "ot = matrix2trans(matrix, alg)\n",
    "eigvalues, eigvecs = np.linalg.eig(matrix)\n",
    "eigvecs = [alg.vector(v) for v in eigvecs.transpose()]\n",
    "A3_ = wedge([v for v, e in zip(eigvecs, eigvalues) if np.isclose(e, -1)])\n",
    "(-1)**3*(A3.sw(x)), ot(x)"
   ]
  },
  {
   "cell_type": "code",
   "execution_count": 69,
   "metadata": {},
   "outputs": [
    {
     "data": {
      "text/plain": [
       "([0.584 𝐞₁ + 0.584 𝐞₂ + 0.564 𝐞₃,\n",
       "  1.0 𝐞₄,\n",
       "  0.479 𝐞₁₂ + -0.512 𝐞₁₃ + 0.582 𝐞₂₃,\n",
       "  1 𝐞₁₂₃],\n",
       " [0.007318501827574986, 0.0, 0.533981488584967, 0.0])"
      ]
     },
     "execution_count": 69,
     "metadata": {},
     "output_type": "execute_result"
    }
   ],
   "source": [
    "#4.7 Not true for whole space, but the proper ones\n",
    "# In matrix terms: diagonal parts commute\n",
    "eigblades = linalg_eigblades(pf, alg)\n",
    "eigblades.append(e123)\n",
    "eigblades, [max_diff(pf(blade.sw(x)), blade.sw(pf(x))) for blade in eigblades]"
   ]
  },
  {
   "cell_type": "code",
   "execution_count": 70,
   "metadata": {},
   "outputs": [
    {
     "data": {
      "text/plain": [
       "(0.275, 0.275)"
      ]
     },
     "execution_count": 70,
     "metadata": {},
     "output_type": "execute_result"
    }
   ],
   "source": [
    "#4.8 skew transformation -> skew bilinear form -> bivector\n",
    "fm_biform = lambda vectors: vectors[0] | fm(vectors[1])\n",
    "F = simplicial_derivative(fm_biform, np.zeros(2), alg)\n",
    "a | fm(x), a| (x | F)"
   ]
  },
  {
   "cell_type": "code",
   "execution_count": 71,
   "metadata": {},
   "outputs": [
    {
     "data": {
      "text/plain": [
       "(-0.15 𝐞₁ + 0.45 𝐞₂ + 0.542 𝐞₃ + -2.12 𝐞₄,\n",
       " -0.15 𝐞₁ + 0.45 𝐞₂ + 0.542 𝐞₃ + -2.12 𝐞₄,\n",
       " )"
      ]
     },
     "execution_count": 71,
     "metadata": {},
     "output_type": "execute_result"
    }
   ],
   "source": [
    "#4.9 so fm(x) is always orthogonal to x\n",
    "fm(x), x|F, fm(x) | x"
   ]
  },
  {
   "cell_type": "code",
   "execution_count": 72,
   "metadata": {},
   "outputs": [
    {
     "data": {
      "text/plain": [
       "(5.09e-10 + -1.31 𝐞₁₂ + 1.9 𝐞₁₃ + -0.902 𝐞₁₄ + -1.62 𝐞₂₃ + -2.45 𝐞₂₄ + -3.36 𝐞₃₄,\n",
       " -1.31 𝐞₁₂ + 1.9 𝐞₁₃ + -0.902 𝐞₁₄ + -1.62 𝐞₂₃ + -2.45 𝐞₂₄ + -3.36 𝐞₃₄,\n",
       " -1.31 𝐞₁₂ + 1.9 𝐞₁₃ + -0.902 𝐞₁₄ + -1.62 𝐞₂₃ + -2.45 𝐞₂₄ + -3.36 𝐞₃₄,\n",
       " -1.31 𝐞₁₂ + 1.9 𝐞₁₃ + -0.902 𝐞₁₄ + -1.62 𝐞₂₃ + -2.45 𝐞₂₄ + -3.36 𝐞₃₄)"
      ]
     },
     "execution_count": 72,
     "metadata": {},
     "output_type": "execute_result"
    }
   ],
   "source": [
    "#4.10 F is a bivector\n",
    "derivative(fm, x, alg, grade=1), curl(fm, x, alg, grade=1), curl(f, x, alg, grade=1), 2*F"
   ]
  },
  {
   "cell_type": "code",
   "execution_count": 73,
   "metadata": {},
   "outputs": [
    {
     "data": {
      "text/plain": [
       "(-1 𝐞₁₂₃₄, -1 𝐞₁₂₃₄)"
      ]
     },
     "execution_count": 73,
     "metadata": {},
     "output_type": "execute_result"
    }
   ],
   "source": [
    "#4.11 bivector split commutes, you can think about a screw motion splits into translation and rotation\n",
    "e13*e24, e24*e13"
   ]
  },
  {
   "cell_type": "code",
   "execution_count": 74,
   "metadata": {},
   "outputs": [
    {
     "data": {
      "text/plain": [
       "([1.0,\n",
       "  -0.655 𝐞₁₂ + 0.949 𝐞₁₃ + -0.451 𝐞₁₄ + -0.811 𝐞₂₃ + -1.22 𝐞₂₄ + -1.68 𝐞₃₄,\n",
       "  2.63 𝐞₁₂₃₄],\n",
       " [5.55e-17 + -1.31 𝐞₁₂ + 1.9 𝐞₁₃ + -0.902 𝐞₁₄ + -1.62 𝐞₂₃ + -2.45 𝐞₂₄ + -3.36 𝐞₃₄,\n",
       "  6.51 + -4.44e-16 𝐞₁₂ + -5.55e-16 𝐞₁₃ + 8.88e-16 𝐞₁₄ + -1.33e-15 𝐞₂₃ + -6.66e-16 𝐞₂₄ + -6.66e-16 𝐞₃₄ + 10.5 𝐞₁₂₃₄,\n",
       "  9.44e-16 + -8.83 𝐞₁₂ + 6.42 𝐞₁₃ + -4.26 𝐞₁₄ + -2.37 𝐞₂₃ + -4.98 𝐞₂₄ + -3.44 𝐞₃₄,\n",
       "  6.9])"
      ]
     },
     "execution_count": 74,
     "metadata": {},
     "output_type": "execute_result"
    }
   ],
   "source": [
    "#4.13 How to factor F?\n",
    "def wedge_power(A, r):\n",
    "    if r == 0:\n",
    "        return 1\n",
    "    result = A\n",
    "    for _ in range(r-1):\n",
    "        result = A ^ result\n",
    "    return result\n",
    "\n",
    "Ck = [(1/factorial(r))*wedge_power(F, r) for r in range(3)]\n",
    "Ck, [char_multi_linear(fm, r, alg) for r in range(1, 5)] # these are full story, but we just take a fraction"
   ]
  },
  {
   "cell_type": "code",
   "execution_count": 75,
   "metadata": {},
   "outputs": [
    {
     "data": {
      "text/plain": [
       "[-0.655 𝐞₁₂ + 0.949 𝐞₁₃ + -0.451 𝐞₁₄ + -0.811 𝐞₂₃ + -1.22 𝐞₂₄ + -1.68 𝐞₃₄,\n",
       " 4.42 𝐞₁₂ + -3.21 𝐞₁₃ + 2.13 𝐞₁₄ + 1.18 𝐞₂₃ + 2.49 𝐞₂₄ + 1.72 𝐞₃₄]"
      ]
     },
     "execution_count": 75,
     "metadata": {},
     "output_type": "execute_result"
    }
   ],
   "source": [
    "[alg.ip(Ck[i-1], Ck[i]) for i in range(1, len(Ck))]"
   ]
  },
  {
   "cell_type": "code",
   "execution_count": 76,
   "metadata": {},
   "outputs": [
    {
     "data": {
      "text/plain": [
       "{0, 1, 2, 3, 4, 5, 6, 7, 8, 9, 10, 11, 12, 13, 14, 15}"
      ]
     },
     "execution_count": 76,
     "metadata": {},
     "output_type": "execute_result"
    }
   ],
   "source": [
    "set.union(*(set(ck.keys()) for ck in Ck if isinstance(ck, MultiVector)))"
   ]
  },
  {
   "cell_type": "code",
   "execution_count": 77,
   "metadata": {},
   "outputs": [
    {
     "data": {
      "text/plain": [
       "(-0.15 𝐞₁ + 0.45 𝐞₂ + 0.542 𝐞₃ + -2.12 𝐞₄,\n",
       " -0.15 𝐞₁ + 0.45 𝐞₂ + 0.542 𝐞₃ + -2.12 𝐞₄,\n",
       " -1.18 𝐞₁ + -2.06 𝐞₂ + -4.08 𝐞₃ + -1.39 𝐞₄,\n",
       " -1.18 𝐞₁ + -2.06 𝐞₂ + -4.08 𝐞₃ + -1.39 𝐞₄)"
      ]
     },
     "execution_count": 77,
     "metadata": {},
     "output_type": "execute_result"
    }
   ],
   "source": [
    "x|F, fm(x), x|F|F, fm(fm(x))"
   ]
  },
  {
   "cell_type": "code",
   "execution_count": 78,
   "metadata": {},
   "outputs": [
    {
     "data": {
      "text/plain": [
       "([1.0, 6.511362965787674, 6.901238279568452],\n",
       " [1,\n",
       "  -5.551115123125783e-17,\n",
       "  6.511362965787677,\n",
       "  -9.43689570931383e-16,\n",
       "  6.901238279568455],\n",
       " array([-5.17875809, -1.33260488]),\n",
       " array([2.27568849, 1.15438506]),\n",
       " array([-8.53074112e-17+2.27568849j, -8.53074112e-17-2.27568849j,\n",
       "         1.13062987e-16+1.15438506j,  1.13062987e-16-1.15438506j]),\n",
       " [1,\n",
       "  13.022725931575351,\n",
       "  56.200324231368185,\n",
       "  89.87293470331656,\n",
       "  47.62708979138092])"
      ]
     },
     "execution_count": 78,
     "metadata": {},
     "output_type": "execute_result"
    }
   ],
   "source": [
    "#4.14 4.18 Why square of eigen values? \n",
    "# The odd grade characteristic multivectors have zero scalar\n",
    "# A correction on Lasenby's paper, not square of f, but the even outermorphism f_(x, y)\n",
    "Ck2 = [(-1)**(2 - i) * alg.sp(Ck[i], Ck[i])[0] for i in range(3)]\n",
    "char_poly = char_poly_coefs(fm, alg)\n",
    "Lk = np.roots(Ck2)\n",
    "\n",
    "Ck2, char_poly, Lk, np.sqrt(-np.array(Lk)), np.roots(char_poly), char_poly_coefs(lambda x: fm(fm(x)), alg)"
   ]
  },
  {
   "cell_type": "code",
   "execution_count": 79,
   "metadata": {},
   "outputs": [
    {
     "data": {
      "text/plain": [
       "(-0.655 𝐞₁₂ + 0.949 𝐞₁₃ + -0.451 𝐞₁₄ + -0.811 𝐞₂₃ + -1.22 𝐞₂₄ + -1.68 𝐞₃₄,\n",
       " 4.42 𝐞₁₂ + -3.21 𝐞₁₃ + 2.13 𝐞₁₄ + 1.18 𝐞₂₃ + 2.49 𝐞₂₄ + 1.72 𝐞₃₄)"
      ]
     },
     "execution_count": 79,
     "metadata": {},
     "output_type": "execute_result"
    }
   ],
   "source": [
    "Ck[1], Ck[1] | Ck[2]"
   ]
  },
  {
   "cell_type": "code",
   "execution_count": 80,
   "metadata": {},
   "outputs": [
    {
     "data": {
      "text/plain": [
       "(-0.655 𝐞₁₂ + 0.949 𝐞₁₃ + -0.451 𝐞₁₄ + -0.811 𝐞₂₃ + -1.22 𝐞₂₄ + -1.68 𝐞₃₄,\n",
       " -0.655 𝐞₁₂ + 0.949 𝐞₁₃ + -0.451 𝐞₁₄ + -0.811 𝐞₂₃ + -1.22 𝐞₂₄ + -1.68 𝐞₃₄,\n",
       " 1.05e-15 + -2.6e-17 𝐞₁₂ + -9.11e-17 𝐞₁₃ + 3.47e-17 𝐞₁₄ + 5.55e-17 𝐞₂₄ + -5.55e-17 𝐞₃₄ + 2.63 𝐞₁₂₃₄,\n",
       " 1.05e-15 + 1.11e-16 𝐞₁₃ + -5.55e-17 𝐞₂₄ + 5.9e-17 𝐞₃₄ + 2.63 𝐞₁₂₃₄,\n",
       " -6.51 + 5.25 𝐞₁₂₃₄,\n",
       " -1.33 + -6.94e-18 𝐞₁₃ + 2.78e-17 𝐞₁₄ + -4.3e-16 𝐞₁₂₃₄,\n",
       " -5.18 + -2.78e-17 𝐞₁₂ + -1.39e-17 𝐞₁₃ + -2.39e-15 𝐞₁₂₃₄)"
      ]
     },
     "execution_count": 80,
     "metadata": {},
     "output_type": "execute_result"
    }
   ],
   "source": [
    "#4.15\n",
    "mv_map1 = {}\n",
    "mv_map2 = {}\n",
    "ck1, ck2 = Ck[1], Ck[1] | Ck[2]\n",
    "for key in ck2.keys():\n",
    "    if np.isclose(ck1[key],0) and np.isclose(ck2[key],0):\n",
    "        continue\n",
    "    ans = np.linalg.solve(np.array([[1, 1], Lk]), [ck1[key], ck2[key]])\n",
    "    mv_map1[key], mv_map2[key] = ans\n",
    "F1 = alg.multivector(mv_map1)\n",
    "F2 = alg.multivector(mv_map2)\n",
    "F1 + F2, F, F1*F2, F2*F1, F**2, F1**2, F2**2\n"
   ]
  },
  {
   "cell_type": "code",
   "execution_count": 81,
   "metadata": {},
   "outputs": [
    {
     "data": {
      "text/plain": [
       "([-5.178758090439507, -1.3326048753481676], array([-5.17875809, -1.33260488]))"
      ]
     },
     "execution_count": 81,
     "metadata": {},
     "output_type": "execute_result"
    }
   ],
   "source": [
    "#4.16\n",
    "def normsq(A):\n",
    "    return A.reverse().sp(A)[0]\n",
    "(\n",
    "    [(-normsq(F) - np.sqrt((normsq(F)**2 - normsq(F ^ F))))/2,\n",
    "    (-normsq(F) + np.sqrt((normsq(F)**2 - normsq(F ^ F))))/2],\n",
    "    Lk\n",
    ")\n"
   ]
  },
  {
   "cell_type": "code",
   "execution_count": 82,
   "metadata": {},
   "outputs": [
    {
     "data": {
      "text/plain": [
       "(-0.921 𝐞₁₂ + 0.507 𝐞₁₃ + -0.398 𝐞₁₄ + -0.0269 𝐞₂₃ + -0.224 𝐞₂₄ + 0.135 𝐞₃₄,\n",
       " -0.921 𝐞₁₂ + 0.507 𝐞₁₃ + -0.398 𝐞₁₄ + -0.0269 𝐞₂₃ + -0.224 𝐞₂₄ + 0.135 𝐞₃₄,\n",
       " 0.266 𝐞₁₂ + 0.442 𝐞₁₃ + -0.053 𝐞₁₄ + -0.785 𝐞₂₃ + -0.999 𝐞₂₄ + -1.82 𝐞₃₄,\n",
       " 0.266 𝐞₁₂ + 0.442 𝐞₁₃ + -0.053 𝐞₁₄ + -0.785 𝐞₂₃ + -0.999 𝐞₂₄ + -1.82 𝐞₃₄)"
      ]
     },
     "execution_count": 82,
     "metadata": {},
     "output_type": "execute_result"
    }
   ],
   "source": [
    "#4.17\n",
    "F2_ = F / (1 + (1/2/Lk[0])*(F ^ F))\n",
    "F1_ = F / (1 + (1/2/Lk[1])*(F ^ F))\n",
    "F1_, F1, F2_, F2"
   ]
  },
  {
   "cell_type": "code",
   "execution_count": 83,
   "metadata": {},
   "outputs": [],
   "source": [
    "def bivector_split(F, alg: Algebra):\n",
    "    m = alg.d // 2\n",
    "    if m <= 1:\n",
    "        return F\n",
    "    Ck = [(1/factorial(r))*wedge_power(F, r) for r in range(m+1)]\n",
    "    Ck2 = [(-1)**(m - i) * alg.sp(Ck[i], Ck[i])[0] for i in range(m+1)]\n",
    "    Lk = np.roots(Ck2)\n",
    "    mv_map_list = [{} for _ in range(m)]\n",
    "    ck_inner_list = [alg.ip(Ck[i-1], Ck[i]) for i in range(1, m+1)]\n",
    "    mv_keys = set.union(*(set(ck.keys()) for ck in ck_inner_list if isinstance(ck, MultiVector)))\n",
    "    linear_eq_matrix = np.array([[np.prod(Lk[i:i+k]) for i in range(m)] for k in range(m)])\n",
    "    inv_matrix = np.linalg.inv(linear_eq_matrix)\n",
    "    for key in mv_keys:\n",
    "        if all([np.isclose(ck[key],0) for ck in ck_inner_list]):\n",
    "            continue\n",
    "        ans = np.dot(inv_matrix, [ck[key] for ck in ck_inner_list])\n",
    "        for i, v in enumerate(ans):\n",
    "            mv_map_list[i][key] = v\n",
    "    return [alg.multivector(mv_map) for mv_map in mv_map_list]"
   ]
  },
  {
   "cell_type": "code",
   "execution_count": 84,
   "metadata": {},
   "outputs": [],
   "source": [
    "# From Graded Symmetry Groups: Plane and Simple, \n",
    "# instead of solving linear equations, the solutions are given algebraically\n",
    "def bivector_split_(F, alg: Algebra):  \n",
    "    # FIXME: it produce commuting bivectors but not blades\n",
    "    m = alg.d // 2\n",
    "    if m <= 1:\n",
    "        return F\n",
    "    Ck = [(1/factorial(r))*wedge_power(F, r) for r in range(m+1)]\n",
    "    Ck2 = [(-1)**(m - i) * alg.sp(Ck[i], Ck[i])[0] for i in range(m+1)]\n",
    "    Lk = np.roots(Ck2)\n",
    "    blades = []\n",
    "    for l in Lk:\n",
    "        even = sum(l ** r * c for r, c in enumerate(Ck[-1::-2]))\n",
    "        odd = sum(l ** r * c for r, c in enumerate(Ck[-2::-2]))\n",
    "        blades.append(even * odd.reverse() / normsq(odd))\n",
    "    return blades"
   ]
  },
  {
   "cell_type": "code",
   "execution_count": 85,
   "metadata": {},
   "outputs": [
    {
     "data": {
      "text/plain": [
       "(-2.37 + -2.18e-12 𝐞₁ + -2.02e-12 𝐞₂ + 4.03e-13 𝐞₃ + 2.29e-12 𝐞₄ + -2.67e-13 𝐞₁₂ + 3.08e-14 𝐞₁₃ + -1.84e-13 𝐞₁₄ + 2.01e-13 𝐞₂₃ + -1.01e-13 𝐞₂₄ + 2.91e-13 𝐞₃₄ + 6.72e-13 𝐞₁₂₃ + -1.34e-13 𝐞₁₂₄ + -6.12e-13 𝐞₁₃₄ + 6.47e-13 𝐞₂₃₄ + 9.42e-13 𝐞₁₂₃₄,\n",
       " [array([-1.27289047e-13,  1.60714632e-13, -1.25722902e-13, -3.13956467e-13,\n",
       "          2.45600030e-13, -3.10093596e-13]),\n",
       "  array([1., 1., 1., 1., 1., 1.]),\n",
       "  array([-1.98674403e-13, -1.98674403e-13, -1.98674403e-13, -1.98674403e-13,\n",
       "         -1.98674403e-13, -1.98674403e-13]),\n",
       "  array([ 1.56081303, -1.23619362,  1.58025625,  0.63280876, -0.80893477,\n",
       "          0.64069173])])"
      ]
     },
     "execution_count": 85,
     "metadata": {},
     "output_type": "execute_result"
    }
   ],
   "source": [
    "# What if we use the above function to split a bivector that's almost a blade?\n",
    "# The result blades are R itself and its dual with a small magnitude\n",
    "# Should assert not simple before process?\n",
    "\n",
    "R = create_r_blade(2, alg) + 1e-12 * A # a blade with a small perturbation\n",
    "blades = bivector_split(R, alg)\n",
    "R**2, [terms_ratio(b, r) for r in [R, R.dual()] for b in blades]"
   ]
  },
  {
   "cell_type": "code",
   "execution_count": 86,
   "metadata": {},
   "outputs": [
    {
     "data": {
      "text/plain": [
       "7.11e-14 𝐞₁₂ + 3.55e-14 𝐞₁₃ + 1.42e-14 𝐞₁₄ + -1.42e-14 𝐞₂₄ + -5.68e-14 𝐞₃₄"
      ]
     },
     "execution_count": 86,
     "metadata": {},
     "output_type": "execute_result"
    }
   ],
   "source": [
    "# double skew is symmetric\n",
    "fm2 = lambda x: fm(fm(x))\n",
    "curl(fm2, x, alg, h=1e-2, grade=1)"
   ]
  },
  {
   "cell_type": "code",
   "execution_count": 87,
   "metadata": {},
   "outputs": [
    {
     "data": {
      "text/plain": [
       "(-1.26 𝐞₁ + -0.0756 𝐞₂ + 0.0784 𝐞₃ + 0.275 𝐞₄,\n",
       " -1.26 𝐞₁ + -0.0756 𝐞₂ + 0.0784 𝐞₃ + 0.275 𝐞₄ + 8.91e-17 𝐞₁₂₃ + -2.69e-17 𝐞₁₂₄ + -2.13e-17 𝐞₁₃₄ + 4.08e-16 𝐞₂₃₄)"
      ]
     },
     "execution_count": 87,
     "metadata": {},
     "output_type": "execute_result"
    }
   ],
   "source": [
    "#4.19\n",
    "v = P(e1, F1)\n",
    "fm2(v), (F1 ** 2) * v"
   ]
  },
  {
   "cell_type": "code",
   "execution_count": 88,
   "metadata": {},
   "outputs": [
    {
     "data": {
      "text/plain": [
       "(-0.921 𝐞₁₂ + 0.507 𝐞₁₃ + -0.398 𝐞₁₄ + -0.0269 𝐞₂₃ + -0.224 𝐞₂₄ + 0.135 𝐞₃₄,\n",
       " -0.921 𝐞₁₂ + 0.507 𝐞₁₃ + -0.398 𝐞₁₄ + -0.0269 𝐞₂₃ + -0.224 𝐞₂₄ + 0.135 𝐞₃₄)"
      ]
     },
     "execution_count": 88,
     "metadata": {},
     "output_type": "execute_result"
    }
   ],
   "source": [
    "#4.20 \n",
    "F1_eigvecs= [v.normalized() for v in gram_schmidt(blade_split(F1, alg))]\n",
    "F1, np.sqrt(normsq(F1)) * wedge(F1_eigvecs)\n"
   ]
  },
  {
   "cell_type": "code",
   "execution_count": 89,
   "metadata": {},
   "outputs": [
    {
     "data": {
      "text/plain": [
       "(-0.589 𝐞₁ + -0.808 𝐞₃,\n",
       " -0.589 𝐞₂ + -0.808 𝐞₄,\n",
       " 0.808 𝐞₁ + -0.589 𝐞₃,\n",
       " 0.808 𝐞₂ + -0.589 𝐞₄,\n",
       " 1.0 𝐞₁₂ + 1.0 𝐞₃₄,\n",
       " 0.346 𝐞₁₂ + 0.476 𝐞₁₄ + -0.476 𝐞₂₃ + 0.654 𝐞₃₄,\n",
       " 0.654 𝐞₁₂ + -0.476 𝐞₁₄ + 0.476 𝐞₂₃ + 0.346 𝐞₃₄)"
      ]
     },
     "execution_count": 89,
     "metadata": {},
     "output_type": "execute_result"
    }
   ],
   "source": [
    "# If Lk[0] == Lk[1], the linear equation has no unique solution in 4.15\n",
    "# nonunique bivector split? We should find another split of e12 + e34. \n",
    "t = 1.1\n",
    "R = blade_exp(t*e13) * blade_exp(t*e24)\n",
    "a,b,c,d = [R.sw(v) for v in alg.frame]\n",
    "a,b,c,d, a*b+c*d, a*b, c*d"
   ]
  },
  {
   "cell_type": "code",
   "execution_count": 90,
   "metadata": {},
   "outputs": [
    {
     "data": {
      "text/plain": [
       "(1.0 𝐞₁₂ + 1.0 𝐞₃₄,\n",
       " 1.0 𝐞₁₂ + 1.0 𝐞₃₄,\n",
       " 0.346 + -0.476 𝐞₁₃ + -0.476 𝐞₂₄ + -0.654 𝐞₁₂₃₄)"
      ]
     },
     "execution_count": 90,
     "metadata": {},
     "output_type": "execute_result"
    }
   ],
   "source": [
    "R.sw(e12 + e34), (e12+e34) * (R**2), R**2"
   ]
  },
  {
   "cell_type": "code",
   "execution_count": 91,
   "metadata": {},
   "outputs": [
    {
     "data": {
      "text/plain": [
       "(-1.16 𝐞₁₂ + -1.07 𝐞₁₃ + 0.815 𝐞₁₄ + -0.395 𝐞₂₃ + 5.26 𝐞₂₄ + 1.37 𝐞₃₄,\n",
       " -1.16 𝐞₁₂ + -1.07 𝐞₁₃ + 0.815 𝐞₁₄ + -0.395 𝐞₂₃ + 5.26 𝐞₂₄ + 1.37 𝐞₃₄)"
      ]
     },
     "execution_count": 91,
     "metadata": {},
     "output_type": "execute_result"
    }
   ],
   "source": [
    "#4.21\n",
    "B2 = B.grade(2)\n",
    "# fm = lambda x: f(x) - adjoint_outermorphism(f, x, alg)\n",
    "# F = curl(fm, x, alg, grade=1) / 2\n",
    "outermorphism(fm, B2, alg), (0.5 * (B2 | (F^F))) - ((B2|F) * F)"
   ]
  },
  {
   "cell_type": "code",
   "execution_count": 92,
   "metadata": {},
   "outputs": [
    {
     "data": {
      "text/plain": [
       "(-1.16 𝐞₁₂ + -1.07 𝐞₁₃ + 0.815 𝐞₁₄ + -0.395 𝐞₂₃ + 5.26 𝐞₂₄ + 1.37 𝐞₃₄,\n",
       " -1.16 𝐞₁₂ + -1.07 𝐞₁₃ + 0.815 𝐞₁₄ + -0.395 𝐞₂₃ + 5.26 𝐞₂₄ + 1.37 𝐞₃₄)"
      ]
     },
     "execution_count": 92,
     "metadata": {},
     "output_type": "execute_result"
    }
   ],
   "source": [
    "# What is a symmetric bivector function?\n",
    "# I guess it means:\n",
    "outermorphism(fm, B2, alg), adjoint_outermorphism(fm, B2, alg)"
   ]
  },
  {
   "cell_type": "code",
   "execution_count": 93,
   "metadata": {},
   "outputs": [
    {
     "data": {
      "text/plain": [
       "(-1.23 𝐞₁₂ + 0.675 𝐞₁₃ + -0.53 𝐞₁₄ + -0.0358 𝐞₂₃ + -0.299 𝐞₂₄ + 0.18 𝐞₃₄,\n",
       " -1.23 𝐞₁₂ + 0.675 𝐞₁₃ + -0.53 𝐞₁₄ + -0.0358 𝐞₂₃ + -0.299 𝐞₂₄ + 0.18 𝐞₃₄)"
      ]
     },
     "execution_count": 93,
     "metadata": {},
     "output_type": "execute_result"
    }
   ],
   "source": [
    "#4.23 The bivector split solves the eigenbivector problem of a skew transformation\n",
    "outermorphism(fm, F1, alg), normsq(F1)*F1"
   ]
  },
  {
   "cell_type": "code",
   "execution_count": 94,
   "metadata": {},
   "outputs": [
    {
     "data": {
      "text/plain": [
       "(4.72 𝐞₁ + -5.33 𝐞₂ + -2.49 𝐞₃ + 5.72 𝐞₄,\n",
       " 0.654 𝐞₁ + 1.63 𝐞₂ + 1.28 𝐞₃ + -7.22 𝐞₄,\n",
       " 11.5 𝐞₁ + 1.96 𝐞₂ + 9.44 𝐞₃ + 19.8 𝐞₄,\n",
       " 3.39 𝐞₁ + 15.9 𝐞₂ + 17.0 𝐞₃ + -6.03 𝐞₄)"
      ]
     },
     "execution_count": 94,
     "metadata": {},
     "output_type": "execute_result"
    }
   ],
   "source": [
    "#5.1 normal transformation\n",
    "af = lambda x: adjoint_outermorphism(f, x, alg)\n",
    "\n",
    "fp(fm(x)), fm(fp(x)), af(f(x)), f(af(x)) # not normal"
   ]
  },
  {
   "cell_type": "code",
   "execution_count": 95,
   "metadata": {},
   "outputs": [
    {
     "data": {
      "text/plain": [
       "(0.223 𝐞₁ + 1.14 𝐞₂ + 1.14 𝐞₃ + -0.0143 𝐞₄,\n",
       " 0.223 𝐞₁ + 1.14 𝐞₂ + 1.14 𝐞₃ + -0.0143 𝐞₄)"
      ]
     },
     "execution_count": 95,
     "metadata": {},
     "output_type": "execute_result"
    }
   ],
   "source": [
    "M = blade_exp(create_r_blade(2, alg))\n",
    "Mdual = blade_split(M.grade(2).dual(), alg)\n",
    "rigid = lambda x: 1.1 *  M.sw(x) - 4.4 * P(x, Mdual[0]) + 3.3 * P(x, Mdual[1])\n",
    "adrigid = lambda x: adjoint_outermorphism(rigid, x, alg)\n",
    "adrigid(rigid(x)), rigid(adrigid(x))"
   ]
  },
  {
   "cell_type": "code",
   "execution_count": 96,
   "metadata": {},
   "outputs": [
    {
     "data": {
      "text/plain": [
       "(0.656 𝐞₁ + 0.923 𝐞₂ + -0.527 𝐞₃ + 0.0675 𝐞₄,\n",
       " 1.44 𝐞₁ + 3.07 𝐞₂ + -1.35 𝐞₃ + 0.393 𝐞₄ + 6.69e-16 𝐞₁₂₃ + 1.04e-16 𝐞₁₂₄ + -1.05e-16 𝐞₁₃₄ + 1.59e-16 𝐞₂₃₄)"
      ]
     },
     "execution_count": 96,
     "metadata": {},
     "output_type": "execute_result"
    }
   ],
   "source": [
    "rigid(x), 3.3 * M**2 * P(x, M.grade(2).normalized()) + 3.3 * P(x, M.grade(2).normalized().dual()) - 4.4 * P(x, Mdual[0]) + 5.5 * P(x, Mdual[1])"
   ]
  },
  {
   "cell_type": "code",
   "execution_count": 97,
   "metadata": {},
   "outputs": [
    {
     "data": {
      "text/plain": [
       "(-0.655 𝐞₁₂ + 0.949 𝐞₁₃ + -0.451 𝐞₁₄ + -0.811 𝐞₂₃ + -1.22 𝐞₂₄ + -1.68 𝐞₃₄,\n",
       " -0.655 𝐞₁₂ + 0.949 𝐞₁₃ + -0.451 𝐞₁₄ + -0.811 𝐞₂₃ + -1.22 𝐞₂₄ + -1.68 𝐞₃₄,\n",
       " -1.06 𝐞₁₂ + 0.585 𝐞₁₃ + -0.459 𝐞₁₄ + -0.031 𝐞₂₃ + -0.259 𝐞₂₄ + 0.156 𝐞₃₄,\n",
       " -1.06 𝐞₁₂ + 0.585 𝐞₁₃ + -0.459 𝐞₁₄ + -0.031 𝐞₂₃ + -0.259 𝐞₂₄ + 0.156 𝐞₃₄)"
      ]
     },
     "execution_count": 97,
     "metadata": {},
     "output_type": "execute_result"
    }
   ],
   "source": [
    "#5.2\n",
    "def norm(A):\n",
    "    return np.sqrt(normsq(A))\n",
    "b1, b2 = norm(F1), norm(F2)\n",
    "i1, i2 = F1/b1, F2/b2\n",
    "\n",
    "F, b1*i1 + b2*i2, outermorphism(fm, i1, alg), b1**2*i1"
   ]
  },
  {
   "cell_type": "code",
   "execution_count": 98,
   "metadata": {},
   "outputs": [
    {
     "data": {
      "text/plain": [
       "array([ -0.37815445,  -0.48640434,   0.73578706, 253.81595428,\n",
       "        -2.2491517 , -45.14961975])"
      ]
     },
     "execution_count": 98,
     "metadata": {},
     "output_type": "execute_result"
    }
   ],
   "source": [
    "# 5.3\n",
    "terms_ratio(outermorphism(fp, i1, alg), i1) # not normal"
   ]
  },
  {
   "cell_type": "code",
   "execution_count": 99,
   "metadata": {},
   "outputs": [
    {
     "data": {
      "text/plain": [
       "[array([0.25101574, 0.25101574, 0.25101574, 0.25101574, 0.25101574,\n",
       "        0.25101574])]"
      ]
     },
     "execution_count": 99,
     "metadata": {},
     "output_type": "execute_result"
    }
   ],
   "source": [
    "# 5.3\n",
    "def sym_part(f, alg):\n",
    "    return lambda x: (f(x) + adjoint_outermorphism(f, x, alg))/2\n",
    "\n",
    "def skew_part(f, alg):\n",
    "    return lambda x: (f(x) - adjoint_outermorphism(f, x, alg))/2\n",
    "\n",
    "R = curl(rigid, x, alg, grade=1)/2\n",
    "skew_blades = bivector_split(R, alg)\n",
    "skew_eigs = [norm(b) for b in skew_blades]\n",
    "skew_blades = [b / e for b,e in zip(skew_blades, skew_eigs) if e > 1e-6]\n",
    "skew_eigs = [e for e in skew_eigs if e > 1e-6]\n",
    "rigid_p = sym_part(rigid, alg)\n",
    "[terms_ratio(outermorphism(rigid_p, i, alg), i) for i in skew_blades]"
   ]
  },
  {
   "cell_type": "code",
   "execution_count": 100,
   "metadata": {},
   "outputs": [
    {
     "data": {
      "text/plain": [
       "([0.5010147051239883], array([0.25101573]), [0.2510157365077086])"
      ]
     },
     "execution_count": 100,
     "metadata": {},
     "output_type": "execute_result"
    }
   ],
   "source": [
    "#5.4\n",
    "rand_vec = create_r_vectors(1, alg)[0]\n",
    "sym_vecs = [(rand_vec | i).normalized() for i in skew_blades]\n",
    "other_sym_space = wedge(skew_blades).dual()\n",
    "sym_eigs = [terms_ratio(rigid_p(a), a)[0] for a in sym_vecs]\n",
    "\n",
    "sym_eigs, np.square(sym_eigs), [terms_ratio(outermorphism(rigid_p, i, alg), i)[0] for i in skew_blades]\n"
   ]
  },
  {
   "cell_type": "code",
   "execution_count": 101,
   "metadata": {},
   "outputs": [
    {
     "data": {
      "text/plain": [
       "([-0.473 𝐞₁ + 0.0261 𝐞₂ + -0.977 𝐞₃ + -0.175 𝐞₄],\n",
       " [-0.473 𝐞₁ + 0.0261 𝐞₂ + -0.977 𝐞₃ + -0.175 𝐞₄ + -6.94e-18 𝐞₁₂₄ + -6.94e-18 𝐞₁₃₄ + -1.39e-17 𝐞₂₃₄],\n",
       " [-0.473 𝐞₁ + 0.0261 𝐞₂ + -0.977 𝐞₃ + -0.175 𝐞₄ + 1.04e-17 𝐞₁₂₄ + 2.78e-17 𝐞₂₃₄])"
      ]
     },
     "execution_count": 101,
     "metadata": {},
     "output_type": "execute_result"
    }
   ],
   "source": [
    "#5.5a\n",
    "m = len(skew_blades)\n",
    "rigid_eigs = [sym_eigs[k] + skew_blades[k] * skew_eigs[k] for k in range(m)]\n",
    "[rigid(a) for a in sym_vecs], [a*l for a, l in zip(sym_vecs,rigid_eigs)], [l.reverse()*a for a, l in zip(sym_vecs,rigid_eigs)]"
   ]
  },
  {
   "cell_type": "code",
   "execution_count": 102,
   "metadata": {},
   "outputs": [
    {
     "data": {
      "text/plain": [
       "([0.676 𝐞₁ + 0.738 𝐞₂ + 0.369 𝐞₃ + 0.269 𝐞₄],\n",
       " [0.676 𝐞₁ + 0.738 𝐞₂ + 0.369 𝐞₃ + 0.269 𝐞₄ + -1.04e-17 𝐞₁₂₄ + -2.78e-17 𝐞₂₃₄],\n",
       " [0.676 𝐞₁ + 0.738 𝐞₂ + 0.369 𝐞₃ + 0.269 𝐞₄ + 6.94e-18 𝐞₁₂₄ + 6.94e-18 𝐞₁₃₄ + 1.39e-17 𝐞₂₃₄])"
      ]
     },
     "execution_count": 102,
     "metadata": {},
     "output_type": "execute_result"
    }
   ],
   "source": [
    "#5.5b\n",
    "[adjoint_outermorphism(rigid, a, alg) for a in sym_vecs], [l*a for a, l in zip(sym_vecs,rigid_eigs)], [a*l.reverse() for a, l in zip(sym_vecs,rigid_eigs)]"
   ]
  },
  {
   "cell_type": "code",
   "execution_count": 103,
   "metadata": {},
   "outputs": [
    {
     "data": {
      "text/plain": [
       "([1.0999999994011997], [1.0999999994011997])"
      ]
     },
     "execution_count": 103,
     "metadata": {},
     "output_type": "execute_result"
    }
   ],
   "source": [
    "[norm(l) for l in rigid_eigs], [np.sqrt(sym_eigs[k] ** 2 + skew_eigs[k] ** 2) for k in range(m)]"
   ]
  },
  {
   "cell_type": "code",
   "execution_count": 104,
   "metadata": {},
   "outputs": [
    {
     "data": {
      "text/plain": [
       "([0.501 + 0.366 𝐞₁₂ + -0.485 𝐞₁₃ + 0.00889 𝐞₁₄ + -0.729 𝐞₂₃ + -0.136 𝐞₂₄ + 0.198 𝐞₃₄],\n",
       " [0.501 + 0.366 𝐞₁₂ + -0.485 𝐞₁₃ + 0.00889 𝐞₁₄ + -0.729 𝐞₂₃ + -0.136 𝐞₂₄ + 0.198 𝐞₃₄])"
      ]
     },
     "execution_count": 104,
     "metadata": {},
     "output_type": "execute_result"
    }
   ],
   "source": [
    "#5.6\n",
    "rho = [norm(l) for l in rigid_eigs] # dilation\n",
    "theta = [np.arccos(sym_eigs[k] / rho[k]) for k in range(m)] # rotation angle\n",
    "\n",
    "rigid_eigs, [rho[k] * blade_exp(theta[k] * skew_blades[k]) for k in range(m)] # skew_blades gives rotation plane"
   ]
  },
  {
   "cell_type": "code",
   "execution_count": 105,
   "metadata": {},
   "outputs": [
    {
     "data": {
      "text/plain": [
       "0.5010147051239884"
      ]
     },
     "execution_count": 105,
     "metadata": {},
     "output_type": "execute_result"
    }
   ],
   "source": [
    "np.sqrt(1 - (skew_eigs[0]/rho[0])**2) * rho[0]"
   ]
  },
  {
   "cell_type": "code",
   "execution_count": 106,
   "metadata": {},
   "outputs": [
    {
     "data": {
      "text/plain": [
       "array([ 4.32385277, -3.22385277])"
      ]
     },
     "execution_count": 106,
     "metadata": {},
     "output_type": "execute_result"
    }
   ],
   "source": [
    "# spectral decomposition of symmetric part in other_sym_space\n",
    "other_sym_frame = blade_split(other_sym_space, alg)\n",
    "other_sym_eigs = np.roots(char_poly_coefs(rigid_p, alg, other_sym_frame, reciprocal(other_sym_frame)))\n",
    "other_sym_eigs"
   ]
  },
  {
   "cell_type": "code",
   "execution_count": 107,
   "metadata": {},
   "outputs": [
    {
     "data": {
      "text/plain": [
       "(0.656 𝐞₁ + 0.923 𝐞₂ + -0.527 𝐞₃ + 0.0675 𝐞₄,\n",
       " 0.656 𝐞₁ + 0.923 𝐞₂ + -0.527 𝐞₃ + 0.0675 𝐞₄ + -1.39e-17 𝐞₁₂₃ + -1.73e-18 𝐞₁₂₄ + -5.2e-18 𝐞₂₃₄)"
      ]
     },
     "execution_count": 107,
     "metadata": {},
     "output_type": "execute_result"
    }
   ],
   "source": [
    "#5.9 spectral decomposition of a normal transformation\n",
    "sym_vecs_dual = [a|i for a, i in zip(sym_vecs, skew_blades)]\n",
    "other_sym_blades = eigenblades_from_values(rigid_p, other_sym_eigs, alg, other_sym_frame)\n",
    "\n",
    "rigid(x), sum([P(x, a) * l for a, l in zip(sym_vecs + sym_vecs_dual + other_sym_blades, rigid_eigs * 2 + list(other_sym_eigs))])"
   ]
  },
  {
   "cell_type": "code",
   "execution_count": 108,
   "metadata": {},
   "outputs": [
    {
     "data": {
      "text/plain": [
       "(array([-3.22385277,  0.50101471,  0.50101471,  4.32385277]),\n",
       " [-0.781 𝐞₁ + 0.489 𝐞₂ + 0.372 𝐞₃ + 0.111 𝐞₄,\n",
       "  0.618 𝐞₁ + 0.642 𝐞₂ + 0.381 𝐞₃ + 0.245 𝐞₄,\n",
       "  -0.054 𝐞₁ + 0.549 𝐞₂ + -0.834 𝐞₃ + -0.00671 𝐞₄,\n",
       "  -0.0674 𝐞₁ + -0.216 𝐞₂ + -0.146 𝐞₃ + 0.963 𝐞₄])"
      ]
     },
     "execution_count": 108,
     "metadata": {},
     "output_type": "execute_result"
    }
   ],
   "source": [
    "#5.17\n",
    "sym_eigs, sym_vecs = np.linalg.eigh(trans2matrix(rigid_p, alg))\n",
    "sym_vecs = [alg.vector(v) for v in sym_vecs.transpose()]\n",
    "sym_eigs, sym_vecs"
   ]
  },
  {
   "cell_type": "code",
   "execution_count": 109,
   "metadata": {},
   "outputs": [
    {
     "data": {
      "text/plain": [
       "[array([10.39322669, 10.39322669, 10.39322669, 10.39322669]),\n",
       " array([1.21, 1.21, 1.21, 1.21]),\n",
       " array([1.21, 1.21, 1.21, 1.21]),\n",
       " array([18.69570278, 18.69570278, 18.69570278, 18.69570278])]"
      ]
     },
     "execution_count": 109,
     "metadata": {},
     "output_type": "execute_result"
    }
   ],
   "source": [
    "# In my case, all vectors are both eigenvectors of rigid_p and rigid_n\n",
    "rigid_n = lambda x: rigid(adjoint_outermorphism(rigid, x, alg))\n",
    "[terms_ratio(rigid_n(v), v) for v in sym_vecs]"
   ]
  },
  {
   "cell_type": "code",
   "execution_count": 110,
   "metadata": {},
   "outputs": [
    {
     "data": {
      "text/plain": [
       "(0.656 𝐞₁ + 0.923 𝐞₂ + -0.527 𝐞₃ + 0.0675 𝐞₄,\n",
       " 0.656 𝐞₁ + 0.923 𝐞₂ + -0.527 𝐞₃ + 0.0675 𝐞₄ + 2.36e-17 𝐞₁₂₃ + 1.23e-17 𝐞₁₂₄ + -3.66e-19 𝐞₁₃₄ + -2.34e-17 𝐞₂₃₄)"
      ]
     },
     "execution_count": 110,
     "metadata": {},
     "output_type": "execute_result"
    }
   ],
   "source": [
    "# the same spectral decomposition of the normal transformation\n",
    "beta = [v ^ rigid(v) for v in sym_vecs]\n",
    "rigid_eigs = [a + b for a,b in zip(sym_eigs, beta)]\n",
    "rigid(x), sum([P(x, a) * l for a, l in zip(sym_vecs, rigid_eigs)])"
   ]
  },
  {
   "cell_type": "code",
   "execution_count": 111,
   "metadata": {},
   "outputs": [
    {
     "data": {
      "text/plain": [
       "(0.0888 + 0.544 𝐞₁ + 0.546 𝐞₂ + 0.392 𝐞₃ + 0.942 𝐞₄ + 0.865 𝐞₁₂ + 0.511 𝐞₁₃ + 0.346 𝐞₁₄ + 0.01 𝐞₂₃ + 0.615 𝐞₂₄ + 0.305 𝐞₃₄ + 0.499 𝐞₁₂₃ + 0.775 𝐞₁₂₄ + 0.812 𝐞₁₃₄ + 0.374 𝐞₂₃₄ + 0.133 𝐞₁₂₃₄,\n",
       " 0.0888 + -0.824 𝐞₁ + -1.56 𝐞₂ + -0.984 𝐞₃ + 12.9 𝐞₄ + 25.1 𝐞₁₂ + 16.5 𝐞₁₃ + -46.9 𝐞₁₄ + 0.879 𝐞₂₃ + 49.1 𝐞₂₄ + 33.4 𝐞₃₄ + 12.9 𝐞₁₂₃ + 2.03e+02 𝐞₁₂₄ + 1.66e+02 𝐞₁₃₄ + 7.22 𝐞₂₃₄ + 37.7 𝐞₁₂₃₄)"
      ]
     },
     "execution_count": 111,
     "metadata": {},
     "output_type": "execute_result"
    }
   ],
   "source": [
    "#5.19 our function \"rigid\" is normal but not orthogonal\n",
    "A, outermorphism(rigid, adjoint_outermorphism(rigid, A, alg, h=1e-2), alg, h=1e-2)"
   ]
  },
  {
   "cell_type": "code",
   "execution_count": 112,
   "metadata": {},
   "outputs": [
    {
     "data": {
      "text/plain": [
       "(0.0888 + 0.544 𝐞₁ + 0.546 𝐞₂ + 0.392 𝐞₃ + 0.942 𝐞₄ + 0.865 𝐞₁₂ + 0.511 𝐞₁₃ + 0.346 𝐞₁₄ + 0.01 𝐞₂₃ + 0.615 𝐞₂₄ + 0.305 𝐞₃₄ + 0.499 𝐞₁₂₃ + 0.775 𝐞₁₂₄ + 0.812 𝐞₁₃₄ + 0.374 𝐞₂₃₄ + 0.133 𝐞₁₂₃₄,\n",
       " 0.0888 + 0.544 𝐞₁ + 0.546 𝐞₂ + 0.392 𝐞₃ + 0.942 𝐞₄ + 0.865 𝐞₁₂ + 0.511 𝐞₁₃ + 0.346 𝐞₁₄ + 0.01 𝐞₂₃ + 0.615 𝐞₂₄ + 0.305 𝐞₃₄ + 0.499 𝐞₁₂₃ + 0.775 𝐞₁₂₄ + 0.812 𝐞₁₃₄ + 0.374 𝐞₂₃₄ + 0.133 𝐞₁₂₃₄)"
      ]
     },
     "execution_count": 112,
     "metadata": {},
     "output_type": "execute_result"
    }
   ],
   "source": [
    "#5.19 But if we normalize each \"eigenvalues\" in the spectral decomposition\n",
    "ortho_eigs = [l.normalized() for l in rigid_eigs]\n",
    "ortho = lambda x: sum([P(x, a) * l for a, l in zip(sym_vecs, ortho_eigs)])\n",
    "A, outermorphism(ortho, adjoint_outermorphism(ortho, A, alg, h=1e-2), alg, h=1e-2)"
   ]
  },
  {
   "cell_type": "code",
   "execution_count": 113,
   "metadata": {},
   "outputs": [
    {
     "data": {
      "text/plain": [
       "(0.475 𝐞₁ + 0.897 𝐞₂ + -0.433 𝐞₃ + 0.145 𝐞₄ + -5.73e-17 𝐞₁₂₃ + 2.54e-17 𝐞₁₂₄ + -1.33e-17 𝐞₁₃₄ + -4.76e-17 𝐞₂₃₄,\n",
       " 0.475 𝐞₁ + 0.897 𝐞₂ + -0.433 𝐞₃ + 0.145 𝐞₄ + 1.18e-16 𝐞₁₂₃ + -7.49e-18 𝐞₁₂₄ + 1.15e-18 𝐞₁₃₄ + 3.39e-17 𝐞₂₃₄)"
      ]
     },
     "execution_count": 113,
     "metadata": {},
     "output_type": "execute_result"
    }
   ],
   "source": [
    "#5.20 left/right product of exponential\n",
    "ortho(x), sum([l.inv() * P(x, a) for a, l in zip(sym_vecs, ortho_eigs)])"
   ]
  },
  {
   "cell_type": "code",
   "execution_count": 114,
   "metadata": {},
   "outputs": [
    {
     "data": {
      "text/plain": [
       "([4.41e-16 + -0.804 𝐞₁₂ + -0.527 𝐞₁₃ + -0.26 𝐞₁₄ + -0.0524 𝐞₂₃ + 0.0484 𝐞₂₄ + 0.0487 𝐞₃₄,\n",
       "  8.65e-17 + 0.374 𝐞₁₂ + -0.495 𝐞₁₃ + 0.00908 𝐞₁₄ + -0.745 𝐞₂₃ + -0.139 𝐞₂₄ + 0.202 𝐞₃₄,\n",
       "  -1.95e-16 + 0.0487 𝐞₁₂ + -0.0484 𝐞₁₃ + -0.0524 𝐞₁₄ + -0.26 𝐞₂₃ + 0.527 𝐞₂₄ + -0.804 𝐞₃₄],\n",
       " [0.0406 𝐞₁₂ + 0.211 𝐞₁₃ + 0.802 𝐞₁₄ + -0.0974 𝐞₂₃ + -0.435 𝐞₂₄ + -0.334 𝐞₃₄,\n",
       "  0.374 𝐞₁₂ + -0.495 𝐞₁₃ + 0.00908 𝐞₁₄ + -0.745 𝐞₂₃ + -0.139 𝐞₂₄ + 0.202 𝐞₃₄,\n",
       "  0.374 𝐞₁₂ + -0.495 𝐞₁₃ + 0.00908 𝐞₁₄ + -0.745 𝐞₂₃ + -0.139 𝐞₂₄ + 0.202 𝐞₃₄,\n",
       "  0.0183 𝐞₁₂ + 0.087 𝐞₁₃ + -0.142 𝐞₁₄ + 0.236 𝐞₂₃ + -0.187 𝐞₂₄ + 0.939 𝐞₃₄])"
      ]
     },
     "execution_count": 114,
     "metadata": {},
     "output_type": "execute_result"
    }
   ],
   "source": [
    "#5.21\n",
    "(\n",
    "    [sym_vecs[k-1].normalized() * sym_vecs[k].normalized() for k in range(1, 4)],\n",
    "    [e.grade(2).normalized() for e in ortho_eigs]\n",
    ")\n"
   ]
  },
  {
   "cell_type": "code",
   "execution_count": 115,
   "metadata": {},
   "outputs": [
    {
     "data": {
      "text/plain": [
       "([-0.781 𝐞₁ + 0.489 𝐞₂ + 0.372 𝐞₃ + 0.111 𝐞₄,\n",
       "  0.618 𝐞₁ + 0.642 𝐞₂ + 0.381 𝐞₃ + 0.245 𝐞₄,\n",
       "  -0.054 𝐞₁ + 0.549 𝐞₂ + -0.834 𝐞₃ + -0.00671 𝐞₄,\n",
       "  -0.0674 𝐞₁ + -0.216 𝐞₂ + -0.146 𝐞₃ + 0.963 𝐞₄],\n",
       " [[-0.781 𝐞₁ + 0.489 𝐞₂ + 0.372 𝐞₃ + 0.111 𝐞₄,\n",
       "   -0.781 𝐞₁ + 0.489 𝐞₂ + 0.372 𝐞₃ + 0.111 𝐞₄,\n",
       "   -0.781 𝐞₁ + 0.489 𝐞₂ + 0.372 𝐞₃ + 0.111 𝐞₄],\n",
       "  [0.234 𝐞₁ + 0.781 𝐞₂ + -0.569 𝐞₃ + 0.106 𝐞₄,\n",
       "   0.234 𝐞₁ + 0.781 𝐞₂ + -0.569 𝐞₃ + 0.106 𝐞₄,\n",
       "   0.618 𝐞₁ + 0.642 𝐞₂ + 0.381 𝐞₃ + 0.245 𝐞₄],\n",
       "  [-0.575 𝐞₁ + -0.322 𝐞₂ + -0.719 𝐞₃ + -0.221 𝐞₄,\n",
       "   -0.575 𝐞₁ + -0.322 𝐞₂ + -0.719 𝐞₃ + -0.221 𝐞₄,\n",
       "   -0.054 𝐞₁ + 0.549 𝐞₂ + -0.834 𝐞₃ + -0.00671 𝐞₄],\n",
       "  [-0.0674 𝐞₁ + -0.216 𝐞₂ + -0.146 𝐞₃ + 0.963 𝐞₄,\n",
       "   -0.0674 𝐞₁ + -0.216 𝐞₂ + -0.146 𝐞₃ + 0.963 𝐞₄,\n",
       "   -0.0674 𝐞₁ + -0.216 𝐞₂ + -0.146 𝐞₃ + 0.963 𝐞₄]])"
      ]
     },
     "execution_count": 115,
     "metadata": {},
     "output_type": "execute_result"
    }
   ],
   "source": [
    "#5.23\n",
    "def simple_rotor_sqrt(R):\n",
    "    # for rotations only, don't use on screw motions\n",
    "    R_norm = norm(R+1)\n",
    "    assert R_norm >= 1e-4, \"no explicit square root for -1\"\n",
    "    return (R + 1)/R_norm\n",
    "    \n",
    "neg_eig_pairs = []\n",
    "eig_rotors = []\n",
    "for i, e in enumerate(ortho_eigs):\n",
    "    if normsq(e + 1) <= 1e-4:\n",
    "        neg_eig_pairs.append((-1, sym_vecs[i]))\n",
    "    else:\n",
    "        eig_rotors.append(simple_rotor_sqrt(e))\n",
    "\n",
    "sym_vecs, [[e.reverse().sw(a) for e in eig_rotors] for a in sym_vecs]"
   ]
  },
  {
   "cell_type": "code",
   "execution_count": 116,
   "metadata": {},
   "outputs": [
    {
     "data": {
      "text/plain": [
       "(0.475 𝐞₁ + 0.897 𝐞₂ + -0.433 𝐞₃ + 0.145 𝐞₄ + -5.73e-17 𝐞₁₂₃ + 2.54e-17 𝐞₁₂₄ + -1.33e-17 𝐞₁₃₄ + -4.76e-17 𝐞₂₃₄,\n",
       " 0.475 𝐞₁ + 0.897 𝐞₂ + -0.433 𝐞₃ + 0.145 𝐞₄)"
      ]
     },
     "execution_count": 116,
     "metadata": {},
     "output_type": "execute_result"
    }
   ],
   "source": [
    "#5.25 I selected an example with -1 as an eigenvalue, \n",
    "# so we need an extra fix for the canonical form.\n",
    "theta = reduce(alg.gp, eig_rotors[::2])\n",
    "(\n",
    "    ortho(x),\n",
    "    theta.reverse().sw(x) - (2*sum(P(x, neg_eig_pairs[i][1]) for i in range(len(neg_eig_pairs))))\n",
    ")\n"
   ]
  },
  {
   "cell_type": "code",
   "execution_count": 117,
   "metadata": {},
   "outputs": [
    {
     "data": {
      "text/plain": [
       "(-0.262 + 0.509 𝐞₁₂ + -0.2 𝐞₁₃ + 0.197 𝐞₁₄ + -0.0924 𝐞₂₃ + -0.0201 𝐞₂₄ + -0.315 𝐞₃₄ + 0.697 𝐞₁₂₃₄,\n",
       " -0.262 + 0.509 𝐞₁₂ + -0.2 𝐞₁₃ + 0.197 𝐞₁₄ + -0.0924 𝐞₂₃ + -0.0201 𝐞₂₄ + -0.315 𝐞₃₄ + 0.697 𝐞₁₂₃₄)"
      ]
     },
     "execution_count": 117,
     "metadata": {},
     "output_type": "execute_result"
    }
   ],
   "source": [
    "#5.28\n",
    "blade_exp(F1) * blade_exp(F2), blade_exp(F2) * blade_exp(F1), "
   ]
  },
  {
   "cell_type": "code",
   "execution_count": 118,
   "metadata": {},
   "outputs": [
    {
     "data": {
      "text/plain": [
       "(0.404 + -0.73 𝐞₁₂ + 0.401 𝐞₁₃ + -0.315 𝐞₁₄ + -0.0213 𝐞₂₃ + -0.178 𝐞₂₄ + 0.107 𝐞₃₄,\n",
       " 0.404 + -0.73 𝐞₁₂ + 0.401 𝐞₁₃ + -0.315 𝐞₁₄ + -0.0213 𝐞₂₃ + -0.178 𝐞₂₄ + 0.107 𝐞₃₄)"
      ]
     },
     "execution_count": 118,
     "metadata": {},
     "output_type": "execute_result"
    }
   ],
   "source": [
    "#5.29\n",
    "blade_exp_ = blade_exp(F1)\n",
    "u1 = P(e1, F1).normalized()\n",
    "u2 = u1 | blade_exp_\n",
    "blade_exp_, u1 * u2"
   ]
  },
  {
   "cell_type": "code",
   "execution_count": 119,
   "metadata": {},
   "outputs": [
    {
     "data": {
      "text/plain": [
       "(0.741 𝐞₁ + 0.502 𝐞₂ + 0.619 𝐞₃ + 0.234 𝐞₄,\n",
       " 0.741 𝐞₁ + 0.502 𝐞₂ + 0.619 𝐞₃ + 0.234 𝐞₄)"
      ]
     },
     "execution_count": 119,
     "metadata": {},
     "output_type": "execute_result"
    }
   ],
   "source": [
    "# reflection as sandwich product\n",
    "x - 2 * P(x, neg_eig_pairs[0][1]), -neg_eig_pairs[0][1].sw(x)"
   ]
  },
  {
   "cell_type": "code",
   "execution_count": 120,
   "metadata": {},
   "outputs": [
    {
     "data": {
      "text/plain": [
       "(0.475 𝐞₁ + 0.897 𝐞₂ + -0.433 𝐞₃ + 0.145 𝐞₄ + -5.73e-17 𝐞₁₂₃ + 2.54e-17 𝐞₁₂₄ + -1.33e-17 𝐞₁₃₄ + -4.76e-17 𝐞₂₃₄,\n",
       " 0.475 𝐞₁ + 0.897 𝐞₂ + -0.433 𝐞₃ + 0.145 𝐞₄,\n",
       " 0.475 𝐞₁ + 0.897 𝐞₂ + -0.433 𝐞₃ + 0.145 𝐞₄)"
      ]
     },
     "execution_count": 120,
     "metadata": {},
     "output_type": "execute_result"
    }
   ],
   "source": [
    "#5.30\n",
    "theta2 = theta * neg_eig_pairs[0][1]\n",
    "ortho(x), -neg_eig_pairs[0][1].sw(theta.reverse().sw(x)), -theta2.reverse().sw(x)"
   ]
  },
  {
   "cell_type": "code",
   "execution_count": 121,
   "metadata": {},
   "outputs": [
    {
     "data": {
      "text/plain": [
       "(-0.225 𝐞₁₂₃ + -0.666 𝐞₁₂₄ + 0.143 𝐞₁₃₄ + -0.696 𝐞₂₃₄,\n",
       " -0.225 𝐞₁₂₃ + -0.666 𝐞₁₂₄ + 0.143 𝐞₁₃₄ + -0.696 𝐞₂₃₄)"
      ]
     },
     "execution_count": 121,
     "metadata": {},
     "output_type": "execute_result"
    }
   ],
   "source": [
    "#5.37a\n",
    "outermorphism(ortho, A3, alg), (-1)**(3*1)*theta2.reverse().sw(A3)"
   ]
  },
  {
   "cell_type": "code",
   "execution_count": 122,
   "metadata": {},
   "outputs": [
    {
     "data": {
      "text/plain": [
       "(0.862 𝐞₁₂ + -0.435 𝐞₁₃ + -0.592 𝐞₁₄ + -0.187 𝐞₂₃ + 1.7 𝐞₂₄ + -0.985 𝐞₃₄,\n",
       " 0.862 𝐞₁₂ + -0.435 𝐞₁₃ + -0.592 𝐞₁₄ + -0.187 𝐞₂₃ + 1.7 𝐞₂₄ + -0.985 𝐞₃₄)"
      ]
     },
     "execution_count": 122,
     "metadata": {},
     "output_type": "execute_result"
    }
   ],
   "source": [
    "#5.37b\n",
    "adjoint_outermorphism(ortho, F2, alg), (-1)**(2*1)*theta2.sw(F2)"
   ]
  },
  {
   "cell_type": "code",
   "execution_count": 123,
   "metadata": {},
   "outputs": [
    {
     "data": {
      "text/plain": [
       "(-0.79 𝐞₁ + 1.63 𝐞₂ + 0.393 𝐞₃ + -0.249 𝐞₄ + -1.2 𝐞₁₂₃ + -0.0312 𝐞₁₂₄ + -0.359 𝐞₁₃₄ + 0.345 𝐞₂₃₄,\n",
       " -0.79 𝐞₁ + 1.63 𝐞₂ + 0.393 𝐞₃ + -0.249 𝐞₄ + -1.2 𝐞₁₂₃ + -0.0312 𝐞₁₂₄ + -0.359 𝐞₁₃₄ + 0.345 𝐞₂₃₄)"
      ]
     },
     "execution_count": 123,
     "metadata": {},
     "output_type": "execute_result"
    }
   ],
   "source": [
    "#5.38\n",
    "outermorphism(ortho, A3 * F2, alg), outermorphism(ortho, A3, alg) * outermorphism(ortho, F2, alg)"
   ]
  },
  {
   "cell_type": "code",
   "execution_count": 124,
   "metadata": {},
   "outputs": [
    {
     "data": {
      "text/plain": [
       "-3.41 + 5.55e-17 𝐞₁₂ + -1.39e-17 𝐞₁₅ + -4.16e-17 𝐞₂₅ + 0.886 𝐞₁₂₃₄ + -0.764 𝐞₁₂₃₅ + -0.749 𝐞₁₂₄₅ + 0.3 𝐞₁₃₄₅ + 0.309 𝐞₂₃₄₅"
      ]
     },
     "execution_count": 124,
     "metadata": {},
     "output_type": "execute_result"
    }
   ],
   "source": [
    "#5.39\n",
    "from scipy.stats import ortho_group\n",
    "matrix = ortho_group.rvs(dim=5)\n",
    "alg = Algebra(5)\n",
    "ortho = matrix2trans(matrix, alg)\n",
    "x = create_r_vectors(1, alg)[0]\n",
    "ortho_curl = curl(ortho, x, alg, grade=1)\n",
    "ortho_curl ** 2"
   ]
  },
  {
   "cell_type": "code",
   "execution_count": 125,
   "metadata": {},
   "outputs": [
    {
     "data": {
      "text/plain": [
       "(0.797 𝐞₁ + 0.527 𝐞₂ + 0.56 𝐞₃ + 0.62 𝐞₄ + 0.314 𝐞₅,\n",
       " 0.797 𝐞₁ + 0.527 𝐞₂ + 0.56 𝐞₃ + 0.62 𝐞₄ + 0.314 𝐞₅)"
      ]
     },
     "execution_count": 125,
     "metadata": {},
     "output_type": "execute_result"
    }
   ],
   "source": [
    "# check orthogonality\n",
    "x, ortho(adjoint_outermorphism(ortho, x, alg, h=1e-2))"
   ]
  },
  {
   "cell_type": "code",
   "execution_count": 126,
   "metadata": {},
   "outputs": [],
   "source": [
    "# only a single vector left in the dual of skew blades, \n",
    "# so it's the remaining eigenvector for the symmetric part\n",
    "# with eigenvalue 1 or -1: identity or a reflection\n",
    "\n",
    "skew_blades = bivector_split(ortho_curl/2, alg)\n",
    "sym_vec = reduce(alg.ip, skew_blades, alg.pseudoscalar((1,)))\n",
    "sym_vec = sym_vec / norm(sym_vec)\n",
    "p = 0\n",
    "if max_diff(ortho(sym_vec), -sym_vec) < 1e-6:\n",
    "    p += 1"
   ]
  },
  {
   "cell_type": "code",
   "execution_count": 127,
   "metadata": {},
   "outputs": [
    {
     "data": {
      "text/plain": [
       "(-0.032 𝐞₁ + -0.265 𝐞₂ + 0.738 𝐞₃ + 0.825 𝐞₄ + -0.642 𝐞₅ + -6.94e-17 𝐞₁₂₃₄₅,\n",
       " -0.032 𝐞₁ + -0.265 𝐞₂ + 0.738 𝐞₃ + 0.825 𝐞₄ + -0.642 𝐞₅)"
      ]
     },
     "execution_count": 127,
     "metadata": {},
     "output_type": "execute_result"
    }
   ],
   "source": [
    "rotors = []\n",
    "for blade in skew_blades:\n",
    "    t = P(sum(alg.frame), blade)\n",
    "    # blade_norm = norm(blade)\n",
    "    # we can't simply rely on ortho_m:\n",
    "    # angle = np.arcsin(blade_norm) has no unique solution in [0, pi].\n",
    "    # (pi - angle) generates the same sine, but differnt cosine (alpha).\n",
    "    \n",
    "    alpha = np.median(terms_ratio(ortho(t) - (t | ortho_curl)/2, t))\n",
    "    # half_blade_ortho = (angle/blade_norm/2) * blade.reverse()\n",
    "    # rotors.append(blade_exp(half_blade_ortho))\n",
    "    rotors.append(simple_rotor_sqrt(alpha + blade))\n",
    "rotor = reduce(alg.gp, rotors)\n",
    "if p == 1:\n",
    "    rotor2 = sym_vec * rotor\n",
    "else:\n",
    "    rotor2 = rotor\n",
    "(-1) ** p * rotor2.reverse().sw(x), ortho(x)"
   ]
  },
  {
   "cell_type": "code",
   "execution_count": 128,
   "metadata": {},
   "outputs": [
    {
     "data": {
      "text/plain": [
       "array([0.11816824, 0.11816824, 0.11816824, 0.11816824, 0.11816824,\n",
       "       0.11816824, 0.11816824, 0.11816824, 0.11816824, 0.11816824,\n",
       "       0.11816824, 0.11816824, 0.11816824, 0.11816824, 0.11816824,\n",
       "       0.11816824])"
      ]
     },
     "execution_count": 128,
     "metadata": {},
     "output_type": "execute_result"
    }
   ],
   "source": [
    "# On the other hand, we can solve the rotor part by Lasenby's method\n",
    "frame = [item for blade in skew_blades for item in blade_split(blade, alg)]\n",
    "r_frame = reciprocal(frame)\n",
    "lasenby_rotor = sum(char_multi_linear(ortho, s, alg, frame, r_frame) for s in range(5))\n",
    "terms_ratio(rotor, lasenby_rotor)"
   ]
  },
  {
   "cell_type": "code",
   "execution_count": 129,
   "metadata": {},
   "outputs": [
    {
     "data": {
      "text/plain": [
       "(-0.032 𝐞₁ + -0.265 𝐞₂ + 0.738 𝐞₃ + 0.825 𝐞₄ + -0.642 𝐞₅ + 6.94e-17 𝐞₁₂₃₄₅,\n",
       " -0.032 𝐞₁ + -0.265 𝐞₂ + 0.738 𝐞₃ + 0.825 𝐞₄ + -0.642 𝐞₅)"
      ]
     },
     "execution_count": 129,
     "metadata": {},
     "output_type": "execute_result"
    }
   ],
   "source": [
    "# For orthogonal transform, we simply normalize it\n",
    "l_rotor = lasenby_rotor/norm(lasenby_rotor)\n",
    "if p == 1:\n",
    "    l_rotor = l_rotor * sym_vec\n",
    "(-1) ** p * l_rotor.reverse().sw(x), ortho(x)"
   ]
  },
  {
   "cell_type": "code",
   "execution_count": null,
   "metadata": {},
   "outputs": [],
   "source": []
  }
 ],
 "metadata": {
  "kernelspec": {
   "display_name": "Python 3",
   "language": "python",
   "name": "python3"
  },
  "language_info": {
   "codemirror_mode": {
    "name": "ipython",
    "version": 3
   },
   "file_extension": ".py",
   "mimetype": "text/x-python",
   "name": "python",
   "nbconvert_exporter": "python",
   "pygments_lexer": "ipython3",
   "version": "3.10.5"
  }
 },
 "nbformat": 4,
 "nbformat_minor": 2
}
