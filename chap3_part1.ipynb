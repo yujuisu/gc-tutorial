{
 "cells": [
  {
   "cell_type": "markdown",
   "metadata": {},
   "source": [
    "### Linear and Multilinear Functions"
   ]
  },
  {
   "cell_type": "code",
   "execution_count": 2,
   "metadata": {},
   "outputs": [],
   "source": [
    "from kingdon import Algebra\n",
    "from gc_utils import *\n",
    "import numpy as np\n",
    "# use vanilla algebra, so we're not bother by the sign of I*I.reverse()\n",
    "alg = Algebra(4) \n",
    "locals().update(alg.blades)"
   ]
  },
  {
   "cell_type": "code",
   "execution_count": 3,
   "metadata": {},
   "outputs": [
    {
     "data": {
      "text/plain": [
       "(0.484 𝐞₁ + 0.408 𝐞₂ + 0.618 𝐞₃ + 0.618 𝐞₄,\n",
       " 0.484 𝐞₁ + 0.408 𝐞₂ + 0.618 𝐞₃ + 0.618 𝐞₄)"
      ]
     },
     "execution_count": 3,
     "metadata": {},
     "output_type": "execute_result"
    }
   ],
   "source": [
    "#1.1 linear transformation\n",
    "A = create_random_multivector(alg)\n",
    "B = create_random_multivector(alg)\n",
    "C = create_random_multivector(alg)\n",
    "D = create_random_multivector(alg)\n",
    "x = create_random_multivector(alg).grade(1)\n",
    "a = create_random_multivector(alg).grade(1)\n",
    "f = lambda x: (A*x*B+C*x*D).grade(1)\n",
    "differential(f, x, a), f(a)"
   ]
  },
  {
   "cell_type": "code",
   "execution_count": 4,
   "metadata": {},
   "outputs": [
    {
     "data": {
      "text/plain": [
       "(-0.771 𝐞₁ + -0.171 𝐞₂ + 1.11 𝐞₃ + -0.5 𝐞₄,\n",
       " -0.771 𝐞₁ + -0.171 𝐞₂ + 1.11 𝐞₃ + -0.5 𝐞₄)"
      ]
     },
     "execution_count": 4,
     "metadata": {},
     "output_type": "execute_result"
    }
   ],
   "source": [
    "#1.2\n",
    "g = lambda x: (C*x*D).grade(1)\n",
    "g(f(a)), differential(g, f(a), f(a))"
   ]
  },
  {
   "cell_type": "code",
   "execution_count": 5,
   "metadata": {},
   "outputs": [],
   "source": [
    "# modify the input of the original skew_symmetrizer: a multivector Ar instead of vectors\n",
    "def skew_symmetrizer(F, Ar, alg, h=1e-6, frame=None, r_frame=None):\n",
    "    if not frame:\n",
    "        frame = alg.frame\n",
    "        r_frame = reciprocal(alg.frame)\n",
    "    drF = 0\n",
    "    r = Ar.grades[0]\n",
    "    for base_vectors, reci_vectors in zip(permutations(frame, r), permutations(r_frame, r)):\n",
    "        # if F is linear, vectors cause no difference in vectors_partial. The input is just Ar.\n",
    "        # So actually we allow Ar being any multivector\n",
    "        drF += (Ar.sp(wedge(base_vectors[::-1]))) * vectors_partial(F, np.zeros(r), reci_vectors, h=h)\n",
    "    return (1/factorial(r)) * drF"
   ]
  },
  {
   "cell_type": "code",
   "execution_count": 6,
   "metadata": {},
   "outputs": [
    {
     "data": {
      "text/plain": [
       "(-0.35 𝐞₁ + 0.419 𝐞₂ + 4.12 𝐞₃ + -1.38 𝐞₄,\n",
       " -0.35 𝐞₁ + 0.419 𝐞₂ + 4.12 𝐞₃ + -1.38 𝐞₄)"
      ]
     },
     "execution_count": 6,
     "metadata": {},
     "output_type": "execute_result"
    }
   ],
   "source": [
    "#1.4 Extend a vector function to a multivector function.\n",
    "# For linear f we ignore the position where f is measured, \n",
    "# just the differential at each direction.\n",
    "def outermorphism(f, A: MultiVector, alg, h=1e-6, frame=None, r_frame=None):\n",
    "    wf = lambda vectors: wedge([f(v) for v in vectors])\n",
    "    outer = 0\n",
    "    for r in A.grades:\n",
    "        if r == 0:\n",
    "           outer += A.grade(0)\n",
    "           continue\n",
    "        outer += skew_symmetrizer(wf, A.grade(r), alg, h, frame, r_frame)\n",
    "    return outer\n",
    "\n",
    "outermorphism(f, x, alg), f(x)"
   ]
  },
  {
   "cell_type": "code",
   "execution_count": 7,
   "metadata": {},
   "outputs": [
    {
     "data": {
      "text/plain": [
       "(0.408 + 0.0355 𝐞₁ + 0.371 𝐞₂ + 2.07 𝐞₃ + 0.0683 𝐞₄ + -0.12 𝐞₁₂ + -0.567 𝐞₁₃ + -0.0167 𝐞₁₄ + 1.1 𝐞₂₃ + 0.0567 𝐞₂₄ + 0.115 𝐞₃₄,\n",
       " 0.408 + 0.0355 𝐞₁ + 0.371 𝐞₂ + 2.07 𝐞₃ + 0.0683 𝐞₄ + -0.12 𝐞₁₂ + -0.567 𝐞₁₃ + -0.0167 𝐞₁₄ + 1.1 𝐞₂₃ + 0.0567 𝐞₂₄ + 0.115 𝐞₃₄)"
      ]
     },
     "execution_count": 7,
     "metadata": {},
     "output_type": "execute_result"
    }
   ],
   "source": [
    "#1.6 A frame can be arbitrary as long as it represent the same space. \n",
    "# It's pretty handy to specify a domain.\n",
    "h = 1e-2\n",
    "A2 = e12\n",
    "A2frame = [e1, e2]\n",
    "A2r_frame = reciprocal(A2frame)\n",
    "\n",
    "outermorphism(f, P(A, A2), alg, h, frame=A2frame, r_frame=A2r_frame), outermorphism(f, A, alg, h, frame=A2frame, r_frame=A2r_frame)"
   ]
  },
  {
   "cell_type": "code",
   "execution_count": 8,
   "metadata": {},
   "outputs": [
    {
     "data": {
      "text/plain": [
       "(-1.18 𝐞₁₂₃ + 0.243 𝐞₁₂₄ + -0.494 𝐞₁₃₄ + -0.993 𝐞₂₃₄,\n",
       " -1.18 𝐞₁₂₃ + 0.243 𝐞₁₂₄ + -0.494 𝐞₁₃₄ + -0.993 𝐞₂₃₄)"
      ]
     },
     "execution_count": 8,
     "metadata": {},
     "output_type": "execute_result"
    }
   ],
   "source": [
    "#1.7 An outermorphism preserves outer products\n",
    "vectors = create_r_vectors(3, alg)\n",
    "outermorphism(f, wedge(vectors), alg), wedge([f(v) for v in vectors])"
   ]
  },
  {
   "cell_type": "code",
   "execution_count": 9,
   "metadata": {},
   "outputs": [
    {
     "data": {
      "text/plain": [
       "(0.133 + -0.758 𝐞₁ + 0.632 𝐞₂ + 2.46 𝐞₃ + -1.75 𝐞₄ + 2.99 𝐞₁₂ + -3.55 𝐞₁₃ + 2.07 𝐞₁₄ + 10.3 𝐞₂₃ + -7.8 𝐞₂₄ + -1.99 𝐞₃₄ + 1.84 𝐞₁₂₃ + -0.0322 𝐞₁₂₄ + 2.91 𝐞₁₃₄ + 1.28 𝐞₂₃₄ + -0.595 𝐞₁₂₃₄,\n",
       " 0.133 + -0.758 𝐞₁ + 0.632 𝐞₂ + 2.46 𝐞₃ + -1.75 𝐞₄ + 2.99 𝐞₁₂ + -3.55 𝐞₁₃ + 2.07 𝐞₁₄ + 10.3 𝐞₂₃ + -7.8 𝐞₂₄ + -1.99 𝐞₃₄ + 1.84 𝐞₁₂₃ + -0.0322 𝐞₁₂₄ + 2.91 𝐞₁₃₄ + 1.28 𝐞₂₃₄ + -0.595 𝐞₁₂₃₄)"
      ]
     },
     "execution_count": 9,
     "metadata": {},
     "output_type": "execute_result"
    }
   ],
   "source": [
    "# By 1.7, splitting A into simple blades, we get an easier implement of 1.4\n",
    "# Here, the value at v replaces the slope at direction v by linearity\n",
    "def outermorphism_(f, A: MultiVector, alg):\n",
    "    outer = A.grade(0)\n",
    "    for vectors in multi_frame_vectors(alg.frame):\n",
    "        Vr = wedge(reciprocal(vectors)[::-1])\n",
    "        outer += alg.sp(Vr,A) * wedge([f(v) for v in vectors]) # frame split of A\n",
    "    return outer\n",
    "\n",
    "outermorphism_(f, D, alg), outermorphism(f, D, alg)"
   ]
  },
  {
   "cell_type": "code",
   "execution_count": 10,
   "metadata": {},
   "outputs": [
    {
     "data": {
      "text/plain": [
       "(0.408 + -0.253 𝐞₁ + 0.52 𝐞₂ + 3.0 𝐞₃ + -0.737 𝐞₄ + -0.19 𝐞₁₂ + -0.225 𝐞₁₃ + 0.0719 𝐞₁₄ + -1.79 𝐞₂₃ + 2.18 𝐞₂₄ + 3.36 𝐞₃₄ + 0.439 𝐞₁₂₃ + -0.645 𝐞₁₂₄ + -2.62 𝐞₁₃₄ + 2.99 𝐞₂₃₄ + -1.02 𝐞₁₂₃₄,\n",
       " 0.408 + -0.253 𝐞₁ + 0.52 𝐞₂ + 3.0 𝐞₃ + -0.737 𝐞₄ + -0.19 𝐞₁₂ + -0.225 𝐞₁₃ + 0.0719 𝐞₁₄ + -1.79 𝐞₂₃ + 2.18 𝐞₂₄ + 3.36 𝐞₃₄ + 0.439 𝐞₁₂₃ + -0.645 𝐞₁₂₄ + -2.62 𝐞₁₃₄ + 2.99 𝐞₂₃₄ + -1.02 𝐞₁₂₃₄)"
      ]
     },
     "execution_count": 10,
     "metadata": {},
     "output_type": "execute_result"
    }
   ],
   "source": [
    "#1.9 anoter outer product property\n",
    "outermorphism(f, A.reverse(), alg), outermorphism(f, A, alg).reverse()"
   ]
  },
  {
   "cell_type": "code",
   "execution_count": 11,
   "metadata": {},
   "outputs": [
    {
     "data": {
      "text/plain": [
       "(0.408 + -0.253 𝐞₁ + 0.52 𝐞₂ + 0.19 𝐞₁₂,\n",
       " 0.408 + -0.253 𝐞₁ + 0.52 𝐞₂ + 0.19 𝐞₁₂)"
      ]
     },
     "execution_count": 11,
     "metadata": {},
     "output_type": "execute_result"
    }
   ],
   "source": [
    "#1.10\n",
    "fA2 = lambda x: P(f(x), A2)\n",
    "outermorphism(fA2, A, alg), P(outermorphism(fA2, A, alg), A2)"
   ]
  },
  {
   "cell_type": "code",
   "execution_count": 12,
   "metadata": {},
   "outputs": [],
   "source": [
    "#1.11\n",
    "def adjoint_outermorphism(f, A, alg, h=1e-6, frame=None, r_frame=None):\n",
    "    F = lambda vectors: wedge([f(v) for v in vectors]).sp(A)\n",
    "    outer = 0\n",
    "    for r in A.grades:\n",
    "        if r == 0:\n",
    "           outer += A.grade(0)\n",
    "           continue\n",
    "        # Why np.zeros(r)? The derivative of a linear function is constant\n",
    "        outer += simplicial_derivative(F, np.zeros(r), alg, h, frame, r_frame)\n",
    "    return outer"
   ]
  },
  {
   "cell_type": "code",
   "execution_count": 13,
   "metadata": {},
   "outputs": [
    {
     "data": {
      "text/plain": [
       "(0.408 + 1.27 𝐞₁ + -0.463 𝐞₂ + 0.794 𝐞₃ + -0.203 𝐞₄ + -0.12 𝐞₁₂ + -0.409 𝐞₁₃ + 0.28 𝐞₁₄ + 0.225 𝐞₂₃ + -0.122 𝐞₂₄ + 0.11 𝐞₃₄,\n",
       " 0.408 + 1.27 𝐞₁ + -0.463 𝐞₂ + 0.794 𝐞₃ + -0.203 𝐞₄ + -0.12 𝐞₁₂ + -0.409 𝐞₁₃ + 0.28 𝐞₁₄ + 0.225 𝐞₂₃ + -0.122 𝐞₂₄ + 0.11 𝐞₃₄)"
      ]
     },
     "execution_count": 13,
     "metadata": {},
     "output_type": "execute_result"
    }
   ],
   "source": [
    "#1.12\n",
    "adjoint_outermorphism(fA2, P(A, A2), alg), adjoint_outermorphism(fA2, A, alg)"
   ]
  },
  {
   "cell_type": "code",
   "execution_count": 14,
   "metadata": {},
   "outputs": [
    {
     "data": {
      "text/plain": [
       "(0.105 + 1.13 𝐞₁ + 0.181 𝐞₂ + 0.992 𝐞₃ + -0.759 𝐞₄ + 1.87 𝐞₁₂ + -0.35 𝐞₁₃ + -0.832 𝐞₁₄ + -1.5 𝐞₂₃ + 0.411 𝐞₂₄ + -0.00677 𝐞₃₄ + 6.74 𝐞₁₂₃ + -12.0 𝐞₁₂₄ + 5.66 𝐞₁₃₄ + 5.78 𝐞₂₃₄ + -4.72 𝐞₁₂₃₄,\n",
       " 0.105 + 1.13 𝐞₁ + 0.181 𝐞₂ + 0.992 𝐞₃ + -0.759 𝐞₄ + 1.87 𝐞₁₂ + -0.35 𝐞₁₃ + -0.832 𝐞₁₄ + -1.5 𝐞₂₃ + 0.411 𝐞₂₄ + -0.00677 𝐞₃₄ + 6.74 𝐞₁₂₃ + -12.0 𝐞₁₂₄ + 5.66 𝐞₁₃₄ + 5.78 𝐞₂₃₄ + -4.72 𝐞₁₂₃₄)"
      ]
     },
     "execution_count": 14,
     "metadata": {},
     "output_type": "execute_result"
    }
   ],
   "source": [
    "#1.13\n",
    "# Exercise: implement the adjoint outermorphism by spliting A into vectors.\n",
    "adjoint_outermorphism(f, A^B, alg), adjoint_outermorphism(f, A, alg) ^ adjoint_outermorphism(f, B, alg)"
   ]
  },
  {
   "cell_type": "code",
   "execution_count": 15,
   "metadata": {},
   "outputs": [
    {
     "data": {
      "text/plain": [
       "(2.66 𝐞₁ + -6.47 𝐞₂ + 3.73 𝐞₃ + -2.08 𝐞₄,\n",
       " 2.16 𝐞₁ + 3.02 𝐞₂ + -2.02 𝐞₃ + -1.8 𝐞₄,\n",
       " 2.66 𝐞₁ + -6.47 𝐞₂ + 3.73 𝐞₃ + -2.08 𝐞₄)"
      ]
     },
     "execution_count": 15,
     "metadata": {},
     "output_type": "execute_result"
    }
   ],
   "source": [
    "#1.14a r <= s\n",
    "r, s = 2, 3\n",
    "Ar = A.grade(r)\n",
    "Bs = B.grade(s)\n",
    "(\n",
    "    Ar | adjoint_outermorphism(f, Bs, alg),\n",
    "    outermorphism(f, Ar, alg) | Bs,\n",
    "    adjoint_outermorphism(f, outermorphism(f, Ar, alg) | Bs, alg),\n",
    ")"
   ]
  },
  {
   "cell_type": "code",
   "execution_count": 16,
   "metadata": {},
   "outputs": [
    {
     "data": {
      "text/plain": [
       "(-1.02 𝐞₁ + 0.869 𝐞₂ + -0.634 𝐞₃ + -0.806 𝐞₄,\n",
       " 0.0726 𝐞₁ + -0.683 𝐞₂ + -0.341 𝐞₃ + 0.0881 𝐞₄,\n",
       " -1.02 𝐞₁ + 0.869 𝐞₂ + -0.634 𝐞₃ + -0.806 𝐞₄)"
      ]
     },
     "execution_count": 16,
     "metadata": {},
     "output_type": "execute_result"
    }
   ],
   "source": [
    "#1.14b r >= s\n",
    "r, s = 3, 2\n",
    "Ar = A.grade(r)\n",
    "Bs = B.grade(s)\n",
    "(\n",
    "    outermorphism(f, Ar | adjoint_outermorphism(f, Bs, alg), alg),\n",
    "    Ar | adjoint_outermorphism(f, Bs, alg),\n",
    "    outermorphism(f, Ar, alg) | Bs,\n",
    ")"
   ]
  },
  {
   "cell_type": "code",
   "execution_count": 17,
   "metadata": {},
   "outputs": [
    {
     "name": "stdout",
     "output_type": "stream",
     "text": [
      "0.871 0.871\n",
      "1.28 1.28\n",
      "1.46 1.46\n"
     ]
    }
   ],
   "source": [
    "#1.15 r = s\n",
    "for r,s in [(1,1), (2,2), (3,3)]:\n",
    "    Ar = A.grade(r)\n",
    "    Bs = B.grade(s)\n",
    "    print(\n",
    "        Ar | adjoint_outermorphism(f, Bs, alg),\n",
    "        outermorphism(f, Ar, alg) | Bs,\n",
    "    )"
   ]
  },
  {
   "cell_type": "code",
   "execution_count": 18,
   "metadata": {},
   "outputs": [
    {
     "data": {
      "text/plain": [
       "(2.66 𝐞₁ + -6.47 𝐞₂ + 3.73 𝐞₃ + -2.08 𝐞₄,\n",
       " 2.66 𝐞₁ + -6.47 𝐞₂ + 3.73 𝐞₃ + -2.08 𝐞₄)"
      ]
     },
     "execution_count": 18,
     "metadata": {},
     "output_type": "execute_result"
    }
   ],
   "source": [
    "# proof of 1.14a\n",
    "r, s = 2, 3\n",
    "Ar = A.grade(r)\n",
    "Bs = B.grade(s)\n",
    "frame = alg.frame\n",
    "r_frame = reciprocal(alg.frame)\n",
    "rhs = 0\n",
    "r = Ar.grades[0]\n",
    "F = lambda vectors: wedge([f(v) for v in vectors]) \n",
    "for base_vectors, reci_vectors in zip(permutations(frame, s), permutations(r_frame, s)):\n",
    "    rhs += (Ar | (wedge(base_vectors[::-1]))) * (vectors_partial(F, np.zeros(s), reci_vectors, h=h) | Bs)\n",
    "(\n",
    "    Ar | adjoint_outermorphism(f, Bs, alg),\n",
    "    rhs / factorial(s)\n",
    ")"
   ]
  },
  {
   "cell_type": "code",
   "execution_count": 19,
   "metadata": {},
   "outputs": [
    {
     "data": {
      "text/plain": [
       "(, -10.8 𝐞₁₂₃₄, -10.8 𝐞₁₂₃₄)"
      ]
     },
     "execution_count": 19,
     "metadata": {},
     "output_type": "execute_result"
    }
   ],
   "source": [
    "# singular, nonsingular functions\n",
    "I = alg.pseudoscalar((1,))\n",
    "# fA2 is singular\n",
    "outermorphism(fA2, I, alg), outermorphism(f, I, alg), adjoint_outermorphism(f, I, alg)"
   ]
  },
  {
   "cell_type": "code",
   "execution_count": 20,
   "metadata": {},
   "outputs": [
    {
     "data": {
      "text/plain": [
       "(-10.8, -10.8, -10.8)"
      ]
     },
     "execution_count": 20,
     "metadata": {},
     "output_type": "execute_result"
    }
   ],
   "source": [
    "#1.16 Use inverse instead of reverse for negative signatures. case I = Ip\n",
    "n = 4\n",
    "Ir = I.inv()\n",
    "F = lambda vectors: wedge([f(v) for v in vectors])\n",
    "(\n",
    "    simplicial_derivative(F, alg.frame, alg, h=1e-2), \n",
    "    Ir * outermorphism(f, I, alg), \n",
    "    adjoint_outermorphism(f, I, alg) * Ir\n",
    ")"
   ]
  },
  {
   "cell_type": "code",
   "execution_count": 21,
   "metadata": {},
   "outputs": [
    {
     "data": {
      "text/plain": [
       "(-1.4 𝐞₁₃, -1.4 𝐞₁₃, -1.4 𝐞₁₃)"
      ]
     },
     "execution_count": 21,
     "metadata": {},
     "output_type": "execute_result"
    }
   ],
   "source": [
    "#1.16 case I != Ip\n",
    "n = 2\n",
    "I = e12\n",
    "Ip = e23\n",
    "Ir = I.inv()\n",
    "Ipr = Ip.inv()\n",
    "h = 1e-2\n",
    "# a function from I to Ip\n",
    "g = lambda x: P((A*P(x, I)*B).grade(1), Ip)\n",
    "F = lambda vectors: wedge([g(v) for v in vectors])\n",
    "(\n",
    "    simplicial_derivative(F, alg.frame[:2], alg, h),\n",
    "    Ir * outermorphism(g, I, alg, h),\n",
    "    adjoint_outermorphism(g, Ip, alg, h) * Ipr\n",
    ")"
   ]
  },
  {
   "cell_type": "code",
   "execution_count": 22,
   "metadata": {},
   "outputs": [
    {
     "data": {
      "text/plain": [
       "(1.4 𝐞₂₃, 1 𝐞₂₃)"
      ]
     },
     "execution_count": 22,
     "metadata": {},
     "output_type": "execute_result"
    }
   ],
   "source": [
    "#1.17a\n",
    "outermorphism(g, I, alg, h), Ip"
   ]
  },
  {
   "cell_type": "code",
   "execution_count": 23,
   "metadata": {},
   "outputs": [
    {
     "data": {
      "text/plain": [
       "(1.4 𝐞₁₂, 1 𝐞₁₂)"
      ]
     },
     "execution_count": 23,
     "metadata": {},
     "output_type": "execute_result"
    }
   ],
   "source": [
    "#1.17b Need extra minus sign for negative signature. You can try Algebra(3,1).\n",
    "adjoint_outermorphism(g, Ip, alg, h), I"
   ]
  },
  {
   "cell_type": "code",
   "execution_count": 24,
   "metadata": {},
   "outputs": [
    {
     "data": {
      "text/plain": [
       "1.4040278358296427"
      ]
     },
     "execution_count": 24,
     "metadata": {},
     "output_type": "execute_result"
    }
   ],
   "source": [
    "# The relative orientation between I and I' can be arbitrary.\n",
    "# Here we let the parent algebra determine the orientation.\n",
    "def det(f, I, Ip):\n",
    "    return (outermorphism(f, I, alg)/Ip)[0]\n",
    "\n",
    "det(g, I, Ip)"
   ]
  },
  {
   "cell_type": "code",
   "execution_count": 25,
   "metadata": {},
   "outputs": [
    {
     "data": {
      "text/plain": [
       "(0.178 + 0.00219 𝐞₁ + 0.951 𝐞₂ + 0.463 𝐞₁₂,\n",
       " 0.178 + 0.00219 𝐞₁ + 0.951 𝐞₂ + 0.248 𝐞₃ + 0.614 𝐞₄ + 0.463 𝐞₁₂ + 0.588 𝐞₁₃ + 0.0665 𝐞₁₄ + 0.746 𝐞₂₃ + 0.769 𝐞₂₄ + 0.55 𝐞₃₄ + 0.0634 𝐞₁₂₃ + 0.808 𝐞₁₂₄ + 0.103 𝐞₁₃₄ + 0.877 𝐞₂₃₄ + 0.91 𝐞₁₂₃₄)"
      ]
     },
     "execution_count": 25,
     "metadata": {},
     "output_type": "execute_result"
    }
   ],
   "source": [
    "#1.21a null part goes null\n",
    "C = create_random_multivector(alg)\n",
    "C_ = outermorphism(g, C, alg)\n",
    "(1/det(g, I, Ip)) * adjoint_outermorphism(g, C_*Ip, alg) * Ir, C"
   ]
  },
  {
   "cell_type": "code",
   "execution_count": 26,
   "metadata": {},
   "outputs": [
    {
     "data": {
      "text/plain": [
       "(0.858 + 0.54 𝐞₂ + 0.644 𝐞₃ + 0.507 𝐞₂₃,\n",
       " 0.858 + 0.288 𝐞₁ + 0.54 𝐞₂ + 0.644 𝐞₃ + 0.64 𝐞₄ + 0.0954 𝐞₁₂ + 0.587 𝐞₁₃ + 0.399 𝐞₁₄ + 0.507 𝐞₂₃ + 0.869 𝐞₂₄ + 0.85 𝐞₃₄ + 0.593 𝐞₁₂₃ + 0.104 𝐞₁₂₄ + 0.808 𝐞₁₃₄ + 0.392 𝐞₂₃₄ + 0.858 𝐞₁₂₃₄)"
      ]
     },
     "execution_count": 26,
     "metadata": {},
     "output_type": "execute_result"
    }
   ],
   "source": [
    "#1.21b null part goes null\n",
    "C_ = create_random_multivector(alg)\n",
    "C = adjoint_outermorphism(g, C_, alg)\n",
    "(1/det(g, I, Ip)) * outermorphism(g, C*I, alg) * Ipr, C_"
   ]
  },
  {
   "cell_type": "code",
   "execution_count": 27,
   "metadata": {},
   "outputs": [
    {
     "data": {
      "text/plain": [
       "(0.972 𝐞₁₂₃ + 0.763 𝐞₁₂₄ + -1.07 𝐞₁₃₄ + -0.978 𝐞₂₃₄,\n",
       " 0.972 𝐞₁₂₃ + 0.763 𝐞₁₂₄ + -1.07 𝐞₁₃₄ + -0.978 𝐞₂₃₄,\n",
       " 19.2 + 5.8 𝐞₁₂ + -0.885 𝐞₁₃ + 1.85 𝐞₁₄ + 5.06 𝐞₂₃ + 1.5 𝐞₂₄ + -0.442 𝐞₃₄,\n",
       " 19.2 + 5.8 𝐞₁₂ + -0.885 𝐞₁₃ + 1.85 𝐞₁₄ + 5.06 𝐞₂₃ + 1.5 𝐞₂₄ + -0.442 𝐞₃₄)"
      ]
     },
     "execution_count": 27,
     "metadata": {},
     "output_type": "execute_result"
    }
   ],
   "source": [
    "#2.1 Note that characteristic multivectors are of even grades\n",
    "r = 3  # try several r\n",
    "h = 1e-2\n",
    "vectors = create_r_vectors(r, alg)\n",
    "F = lambda vectors: wedge([f(v) for v in vectors])\n",
    "(\n",
    "    F(vectors),\n",
    "    outermorphism(f, wedge(vectors), alg, h),\n",
    "    simplicial_derivative(F, vectors, alg, h), # characteristic multivectors\n",
    "    derivative(lambda A: outermorphism(f, A, alg, h), wedge(vectors), alg, h, r),\n",
    ")\n"
   ]
  },
  {
   "cell_type": "code",
   "execution_count": 28,
   "metadata": {},
   "outputs": [
    {
     "data": {
      "text/plain": [
       "(-3.37 + 0.207 𝐞₁₂ + 1.27 𝐞₁₃ + 0.471 𝐞₁₄ + -0.742 𝐞₂₃ + 0.069 𝐞₂₄ + -0.385 𝐞₃₄,\n",
       " -3.37 + -0.925 𝐞₁ + 3.4 𝐞₂ + 0.953 𝐞₃ + 8.01 𝐞₄ + 3.1 𝐞₁₂ + 1.29 𝐞₁₃ + 7.23 𝐞₁₄ + 2.87 𝐞₂₃ + -0.0279 𝐞₂₄ + 2.18 𝐞₃₄ + -1.17 𝐞₁₂₃ + 0.203 𝐞₁₂₄ + -2.84 𝐞₁₃₄ + 5.53 𝐞₂₃₄ + 4.76 𝐞₁₂₃₄)"
      ]
     },
     "execution_count": 28,
     "metadata": {},
     "output_type": "execute_result"
    }
   ],
   "source": [
    "#2.2\n",
    "frame = create_r_vectors(len(alg.signature), alg)\n",
    "r_frame = reciprocal(frame)\n",
    "images = [f(v) for v in frame]\n",
    "(\n",
    "    sum(vr * b for b, vr in zip(images, r_frame)),\n",
    "    derivative(f, x, alg)\n",
    ")"
   ]
  },
  {
   "cell_type": "code",
   "execution_count": 29,
   "metadata": {},
   "outputs": [
    {
     "data": {
      "text/plain": [
       "([0.457 𝐞₁ + 3.09 𝐞₂ + 1.52 𝐞₃ + 0.789 𝐞₄,\n",
       "  1.45 𝐞₁ + 1.25 𝐞₂ + 0.501 𝐞₃ + 1.65 𝐞₄,\n",
       "  0.542 𝐞₁ + 0.915 𝐞₂ + 0.925 𝐞₃ + -0.718 𝐞₄,\n",
       "  0.801 𝐞₁ + 1.86 𝐞₂ + -0.0648 𝐞₃ + 0.334 𝐞₄],\n",
       " [0.457 𝐞₁ + 3.09 𝐞₂ + 1.52 𝐞₃ + 0.789 𝐞₄,\n",
       "  1.45 𝐞₁ + 1.25 𝐞₂ + 0.501 𝐞₃ + 1.65 𝐞₄,\n",
       "  0.542 𝐞₁ + 0.915 𝐞₂ + 0.925 𝐞₃ + -0.718 𝐞₄,\n",
       "  0.801 𝐞₁ + 1.86 𝐞₂ + -0.0648 𝐞₃ + 0.334 𝐞₄])"
      ]
     },
     "execution_count": 29,
     "metadata": {},
     "output_type": "execute_result"
    }
   ],
   "source": [
    "#2.2 comes from linearity\n",
    "images, [differential(f, a, v) for v in frame]"
   ]
  },
  {
   "cell_type": "code",
   "execution_count": 30,
   "metadata": {},
   "outputs": [
    {
     "data": {
      "text/plain": [
       "(-3.37, -3.37, -3.37)"
      ]
     },
     "execution_count": 30,
     "metadata": {},
     "output_type": "execute_result"
    }
   ],
   "source": [
    "#2.3 trace\n",
    "def trace(f, alg):\n",
    "    return sum(vr.sp(f(v)) for v, vr in zip(alg.frame, reciprocal(alg.frame)))\n",
    "def divergence(f, alg):\n",
    "    return sum(vr | f(v) for v, vr in zip(alg.frame, reciprocal(alg.frame)))\n",
    "(\n",
    "    derivative(f, e1, alg).grade(0),\n",
    "    trace(f, alg),\n",
    "    divergence(f, alg)\n",
    ")"
   ]
  },
  {
   "cell_type": "code",
   "execution_count": 31,
   "metadata": {},
   "outputs": [
    {
     "data": {
      "text/plain": [
       "(-2.84 + -2.61 𝐞₁₂ + -2.3 𝐞₁₃ + -2.55 𝐞₁₄ + -1.46 𝐞₂₃ + 0.513 𝐞₂₄ + 0.104 𝐞₃₄ + -0.517 𝐞₁₂₃₄,\n",
       " -2.84 + -2.61 𝐞₁₂ + -2.3 𝐞₁₃ + -2.55 𝐞₁₄ + -1.46 𝐞₂₃ + 0.513 𝐞₂₄ + 0.104 𝐞₃₄ + -0.517 𝐞₁₂₃₄)"
      ]
     },
     "execution_count": 31,
     "metadata": {},
     "output_type": "execute_result"
    }
   ],
   "source": [
    "#2.4\n",
    "r = 2\n",
    "h = 1e-2\n",
    "F = lambda vectors: wedge([f(v) for v in vectors])\n",
    "def char_multi_linear(f, r, alg: Algebra, frame=None, r_frame=None):\n",
    "    if not frame:\n",
    "        frame = alg.frame\n",
    "        r_frame = reciprocal(frame)\n",
    "    r_vec_frame = r_vector_frame_vectors(frame, r)\n",
    "    r_reci_frame = r_vector_frame_vectors(r_frame, r, reverse=True)\n",
    "    sdf = 0\n",
    "    for vectors, r_vectors in zip(r_vec_frame, r_reci_frame):\n",
    "        sdf += wedge(r_vectors[::-1]) * wedge([f(v) for v in vectors])\n",
    "    return sdf\n",
    "\n",
    "(\n",
    "    char_multi_linear(f, r, alg),\n",
    "    simplicial_derivative(F, np.zeros(r), alg, h)\n",
    ")"
   ]
  },
  {
   "cell_type": "code",
   "execution_count": 32,
   "metadata": {},
   "outputs": [
    {
     "data": {
      "text/plain": [
       "(-15.713906881867167, -15.713906881867173, -15.713906881867162)"
      ]
     },
     "execution_count": 32,
     "metadata": {},
     "output_type": "execute_result"
    }
   ],
   "source": [
    "#2.6 when full rank, only scalar remains\n",
    "def trans2matrix(f, alg):\n",
    "    values = [f(a) for a in alg.frame]\n",
    "    return np.array([[ar.sp(v)[0] for v in values] for ar in reciprocal(alg.frame)])\n",
    "matrix = trans2matrix(f, alg)\n",
    "I = alg.pseudoscalar((1,))\n",
    "char_multi_linear(f, 4, alg)[0], np.linalg.det(matrix), det(f, I, I)"
   ]
  },
  {
   "cell_type": "code",
   "execution_count": 33,
   "metadata": {},
   "outputs": [
    {
     "data": {
      "text/plain": [
       "(54.6 + 25.6 𝐞₁₂ + 8.29 𝐞₁₃ + 7.39 𝐞₁₄ + 12.3 𝐞₂₃ + -1.9 𝐞₂₄ + 2.3 𝐞₃₄,\n",
       " 54.6 + 25.6 𝐞₁₂ + 8.29 𝐞₁₃ + 7.39 𝐞₁₄ + 12.3 𝐞₂₃ + -1.9 𝐞₂₄ + 2.3 𝐞₃₄)"
      ]
     },
     "execution_count": 33,
     "metadata": {},
     "output_type": "execute_result"
    }
   ],
   "source": [
    "#2.7 sum\n",
    "r = 3\n",
    "h = lambda x: f(x)+g(x)\n",
    "\n",
    "# Sometimes I use a random frame to check frame independence\n",
    "frame = create_r_vectors(len(alg.signature), alg)\n",
    "r_frame = reciprocal(frame)\n",
    "drF = 0\n",
    "coef = [1/(factorial(r-s)*factorial(s)) for s in range(r+1)]\n",
    "for base_vectors, reci_vectors in zip(permutations(frame, r), permutations(r_frame, r)):\n",
    "    gh = 0\n",
    "    for s in range(r+1):\n",
    "        gh += coef[s]*wedge([f(v) for v in reci_vectors[:s]]) ^ wedge([g(v) for v in reci_vectors[s:]])\n",
    "    drF += wedge(base_vectors[::-1]) * gh\n",
    "char_multi_linear(h, r, alg), drF"
   ]
  },
  {
   "cell_type": "code",
   "execution_count": 34,
   "metadata": {},
   "outputs": [
    {
     "data": {
      "text/plain": [
       "(1.29e+02, 129.38591582787262)"
      ]
     },
     "execution_count": 34,
     "metadata": {},
     "output_type": "execute_result"
    }
   ],
   "source": [
    "#2.8 characteristic polynomial\n",
    "def char_scalar(f, r, alg: Algebra, frame=None, r_frame=None):\n",
    "    if not frame:\n",
    "        frame = alg.frame\n",
    "        r_frame = reciprocal(frame)\n",
    "    r_vec_frame = r_vector_frame_vectors(frame, r)\n",
    "    r_reci_frame = r_vector_frame_vectors(r_frame, r, reverse=True)\n",
    "    sdf = 0\n",
    "    for vectors, r_vectors in zip(r_vec_frame, r_reci_frame):\n",
    "        sdf += alg.sp(wedge(r_vectors[::-1]), wedge([f(v) for v in vectors]))[0]\n",
    "    return sdf\n",
    "\n",
    "# This calculates n characteristic multivectors. \n",
    "# But drops the nonscalar information\n",
    "def char_poly_coefs(f, alg, frame=None, r_frame=None):\n",
    "    n = alg.d\n",
    "    if frame:\n",
    "        n = len(frame)\n",
    "    return [(-1)**(n-s) * char_scalar(f, s, alg, frame, r_frame) for s in range(n+1)]\n",
    "\n",
    "def polynomial(l, coefs):\n",
    "    return sum(l ** i * coef for i, coef in enumerate(coefs[::-1]))\n",
    "\n",
    "l = 3.3\n",
    "n = 4\n",
    "(\n",
    "    char_multi_linear(lambda x: f(x) - l*x, n, alg), \n",
    "    polynomial(l, char_poly_coefs(f, alg))\n",
    ")"
   ]
  },
  {
   "cell_type": "code",
   "execution_count": 35,
   "metadata": {},
   "outputs": [
    {
     "data": {
      "text/plain": [
       "(9.75 𝐞₁ + 6.83 𝐞₂ + 8.89 𝐞₃ + 4.95 𝐞₄,\n",
       " 9.75 𝐞₁ + 6.83 𝐞₂ + 8.89 𝐞₃ + 4.95 𝐞₄,\n",
       " 0.45 𝐞₁ + 0.832 𝐞₂ + 0.108 𝐞₃ + 0.741 𝐞₄,\n",
       " 0.45 𝐞₁ + 0.832 𝐞₂ + 0.108 𝐞₃ + 0.741 𝐞₄)"
      ]
     },
     "execution_count": 35,
     "metadata": {},
     "output_type": "execute_result"
    }
   ],
   "source": [
    "def r_fold(f,r,value):\n",
    "    return reduce(lambda v, _: f(v), range(r), value)\n",
    "\n",
    "r_fold(f, 3, x), f(f(f(x))), r_fold(f, 0, x), x"
   ]
  },
  {
   "cell_type": "code",
   "execution_count": 36,
   "metadata": {},
   "outputs": [
    {
     "data": {
      "text/plain": [
       "-7.11e-15 𝐞₁ + 3.55e-15 𝐞₂ + 3.55e-15 𝐞₃ + 1.07e-14 𝐞₄"
      ]
     },
     "execution_count": 36,
     "metadata": {},
     "output_type": "execute_result"
    }
   ],
   "source": [
    "#2.9 Cayley Hamilton\n",
    "sum(r_fold(f, i, x) * coef for i, coef in enumerate(char_poly_coefs(f, alg)[::-1]))"
   ]
  },
  {
   "cell_type": "code",
   "execution_count": 37,
   "metadata": {},
   "outputs": [
    {
     "data": {
      "text/plain": [
       "(array([ 2.38183674+0.j       , -1.31289598+0.j       ,\n",
       "        -2.21722457+0.3301247j, -2.21722457-0.3301247j]),\n",
       " array([ 2.38183674+0.j       , -2.21722457+0.3301247j,\n",
       "        -2.21722457-0.3301247j, -1.31289598+0.j       ]))"
      ]
     },
     "execution_count": 37,
     "metadata": {},
     "output_type": "execute_result"
    }
   ],
   "source": [
    "#2.10 We can find eigenvalues like the usual many-fold method.\n",
    "# How about eigenvectors? \n",
    "# What else can we get from characteristic multivector? Some papers I should go through...\n",
    "matrix = trans2matrix(f, alg)\n",
    "eigvalues, eigvecs = np.linalg.eig(matrix)\n",
    "coefs = char_poly_coefs(f, alg)\n",
    "eigvalues, np.roots(coefs)"
   ]
  },
  {
   "cell_type": "code",
   "execution_count": 38,
   "metadata": {},
   "outputs": [
    {
     "data": {
      "text/plain": [
       "array([0.14026346, 0.14026346, 0.14026346, 0.14026346, 0.14026346,\n",
       "       0.14026346, 0.14026346, 0.14026346])"
      ]
     },
     "execution_count": 38,
     "metadata": {},
     "output_type": "execute_result"
    }
   ],
   "source": [
    "# From Lasenby's paper, we can reconstruct a rotor from characteristic multivector:\n",
    "# Note that the rotor must have non-zero scalar part\n",
    "# the paper suggest such method is pretty robust for noisy data\n",
    "R = blade_exp(create_r_blade(2, alg)) * blade_exp(create_r_blade(2, alg))\n",
    "rotor = lambda x: R.sw(x) # a screw motion\n",
    "\n",
    "terms_ratio(R.reverse(), sum(char_multi_linear(rotor, s, alg) for s in range(n+1)))"
   ]
  },
  {
   "cell_type": "code",
   "execution_count": 39,
   "metadata": {},
   "outputs": [
    {
     "data": {
      "text/plain": [
       "(1.62 𝐞₁ + 1.28 𝐞₂ + 1.79 𝐞₃ + 0.786 𝐞₄,\n",
       " 1.62 𝐞₁ + 1.28 𝐞₂ + 1.79 𝐞₃ + 0.786 𝐞₄)"
      ]
     },
     "execution_count": 39,
     "metadata": {},
     "output_type": "execute_result"
    }
   ],
   "source": [
    "# recovering matrix to transfromation\n",
    "def matrix2trans(M, alg:Algebra ):\n",
    "    d = alg.d\n",
    "    assert M.shape[0] == d, 'dimension not fit'\n",
    "    return lambda x: sum(c*e for c,e in zip(np.dot(M, x.asfullmv()[1:d+1]), alg.frame))\n",
    "    \n",
    "mf = matrix2trans(matrix, alg)\n",
    "mf(x), f(x)"
   ]
  },
  {
   "cell_type": "code",
   "execution_count": 40,
   "metadata": {},
   "outputs": [
    {
     "data": {
      "text/plain": [
       "(-2.8422002264115793, -2.842200226411581)"
      ]
     },
     "execution_count": 40,
     "metadata": {},
     "output_type": "execute_result"
    }
   ],
   "source": [
    "#2.11\n",
    "s = 2\n",
    "rhs = (1/s) * sum((-1)**(r+1) * char_scalar(f, s-r, alg) * trace(lambda x: r_fold(f, r, x), alg)[0] for r in range(1,s+1))\n",
    "char_scalar(f, s, alg), rhs"
   ]
  },
  {
   "cell_type": "code",
   "execution_count": 41,
   "metadata": {},
   "outputs": [
    {
     "data": {
      "text/plain": [
       "(19.238482212880626, (19.238482212880612+0j))"
      ]
     },
     "execution_count": 41,
     "metadata": {},
     "output_type": "execute_result"
    }
   ],
   "source": [
    "#2.13\n",
    "k = 3\n",
    "char_scalar(f, k, alg), sum(np.prod(comb) for comb in combinations(eigvalues, k))"
   ]
  },
  {
   "cell_type": "code",
   "execution_count": 42,
   "metadata": {},
   "outputs": [
    {
     "data": {
      "text/plain": [
       "(-9.100823431763676, (-9.100823431763738+0j))"
      ]
     },
     "execution_count": 42,
     "metadata": {},
     "output_type": "execute_result"
    }
   ],
   "source": [
    "#2.14 It's easier to show the eigenvalues of f^k are {lambda^k_i} by linearity\n",
    "trace(lambda x: r_fold(f, k, x), alg)[0], sum(l**k for l in eigvalues)"
   ]
  },
  {
   "cell_type": "code",
   "execution_count": 43,
   "metadata": {},
   "outputs": [
    {
     "data": {
      "text/plain": [
       "(-15.7 𝐞₁₂₃₄, -15.7 𝐞₁₂₃₄, -15.7 𝐞₁₂₃₄)"
      ]
     },
     "execution_count": 43,
     "metadata": {},
     "output_type": "execute_result"
    }
   ],
   "source": [
    "# 3.4 A space must bound f to own an invariant subspace.\n",
    "I = alg.pseudoscalar((1,))\n",
    "outermorphism(f, I, alg), det(f, I, I)*I, adjoint_outermorphism(f, I, alg)"
   ]
  },
  {
   "cell_type": "code",
   "execution_count": 44,
   "metadata": {},
   "outputs": [
    {
     "data": {
      "text/plain": [
       "(-12.5 𝐞₁₂₃₄, -12.5 𝐞₁₂₃₄)"
      ]
     },
     "execution_count": 44,
     "metadata": {},
     "output_type": "execute_result"
    }
   ],
   "source": [
    "#3.6\n",
    "l = 2.2\n",
    "n = 4\n",
    "F = lambda x: f(x) - l*x\n",
    "coefs = char_poly_coefs(f, alg)\n",
    "outermorphism(F, I, alg), polynomial(l, coefs) * I"
   ]
  },
  {
   "cell_type": "code",
   "execution_count": 45,
   "metadata": {},
   "outputs": [
    {
     "data": {
      "text/plain": [
       "(6.97 𝐞₁₂, 6.97 𝐞₁₂)"
      ]
     },
     "execution_count": 45,
     "metadata": {},
     "output_type": "execute_result"
    }
   ],
   "source": [
    "#3.7\n",
    "I = e12\n",
    "frame = [e1,e2]\n",
    "g = lambda x: P((A*x.grade(1)*B).grade(1), I)\n",
    "coefs = char_poly_coefs(g, alg, frame, frame)\n",
    "F = lambda x: g(x) - l*x\n",
    "outermorphism(F, I, alg), polynomial(l, coefs) * I"
   ]
  },
  {
   "cell_type": "code",
   "execution_count": 46,
   "metadata": {},
   "outputs": [
    {
     "data": {
      "text/plain": [
       "(-19.683951866566243, -19.683951866566243)"
      ]
     },
     "execution_count": 46,
     "metadata": {},
     "output_type": "execute_result"
    }
   ],
   "source": [
    "#3.8\n",
    "I = e123\n",
    "frame2 = [e3]\n",
    "frame3 = [e1,e2,e3]\n",
    "h = lambda x: P((A*P(x, e12).grade(1)*B).grade(1), e12) + P((B*P(x, e3).grade(1)*C).grade(1), e3)\n",
    "F = lambda x: h(x) - l*x\n",
    "(\n",
    "    char_scalar(F, 2, alg, frame, frame) * char_scalar(F, 1, alg, frame2, frame2),\n",
    "    char_scalar(F, 3, alg, frame3, frame3)\n",
    ")"
   ]
  },
  {
   "cell_type": "code",
   "execution_count": 47,
   "metadata": {},
   "outputs": [
    {
     "data": {
      "text/plain": [
       "(-0.854 𝐞₁ + 1.29 𝐞₂, -0.854 𝐞₁ + 1.65 𝐞₂)"
      ]
     },
     "execution_count": 47,
     "metadata": {},
     "output_type": "execute_result"
    }
   ],
   "source": [
    "outermorphism(h, e1, alg), adjoint_outermorphism(h, e1, alg)"
   ]
  },
  {
   "cell_type": "code",
   "execution_count": 48,
   "metadata": {},
   "outputs": [
    {
     "data": {
      "text/plain": [
       "(-0.912 𝐞₃, -0.912 𝐞₃)"
      ]
     },
     "execution_count": 48,
     "metadata": {},
     "output_type": "execute_result"
    }
   ],
   "source": [
    "#3.9a\n",
    "adjoint_outermorphism(h, e123, alg) | e12, outermorphism(h, e12, alg).e12 * outermorphism(h, -e3, alg)"
   ]
  },
  {
   "cell_type": "code",
   "execution_count": 49,
   "metadata": {},
   "outputs": [
    {
     "data": {
      "text/plain": [
       "(0.912 𝐞₁₂, 0.912 𝐞₁₂)"
      ]
     },
     "execution_count": 49,
     "metadata": {},
     "output_type": "execute_result"
    }
   ],
   "source": [
    "#3.9b\n",
    "outermorphism(h, e123, alg) | e3, adjoint_outermorphism(h, e3, alg).e3 * adjoint_outermorphism(h, e12, alg)"
   ]
  },
  {
   "cell_type": "code",
   "execution_count": 50,
   "metadata": {},
   "outputs": [
    {
     "data": {
      "text/plain": [
       "(([0, 1], [(2, 3)]),\n",
       " array([ 2.38183674+0.j       , -1.31289598+0.j       ,\n",
       "        -2.21722457+0.3301247j, -2.21722457-0.3301247j]))"
      ]
     },
     "execution_count": 50,
     "metadata": {},
     "output_type": "execute_result"
    }
   ],
   "source": [
    "def separate_indices(numbers):\n",
    "    real_indices = []\n",
    "    conjugate_pairs_indices = []\n",
    "    visited = set()  # To keep track of indices already processed\n",
    "\n",
    "    for i, num in enumerate(numbers):\n",
    "        if np.isreal(num):  # Check if the number is real\n",
    "            real_indices.append(i)\n",
    "        elif i not in visited:  # Check if the index is not already processed\n",
    "            conjugate = np.conj(num)\n",
    "            for j in range(i + 1, len(numbers)):\n",
    "                if numbers[j] == conjugate:\n",
    "                    conjugate_pairs_indices.append((i, j))\n",
    "                    visited.add(i)\n",
    "                    visited.add(j)\n",
    "                    break\n",
    "\n",
    "    return real_indices, conjugate_pairs_indices\n",
    "\n",
    "separate_indices(eigvalues), eigvalues"
   ]
  },
  {
   "cell_type": "code",
   "execution_count": 51,
   "metadata": {},
   "outputs": [
    {
     "name": "stdout",
     "output_type": "stream",
     "text": [
      "[2.38183674 2.38183674 2.38183674 2.38183674] [4.22046201 1.79664144 1.58471985 2.15136733]\n",
      "[-1.31289598 -1.31289598 -1.31289598 -1.31289598] [-2.19925402 -1.31864721  2.71001585 -0.50701392]\n",
      "[5.02506712 5.02506712 5.02506712 5.02506712 5.02506712 5.02506712] [   4.01361982    5.11801164    5.83626287    4.90743006    4.63526294\n",
      " -515.29360583]\n"
     ]
    }
   ],
   "source": [
    "# An example of non proper blade:\n",
    "def linalg_eigblades(f, alg: Algebra):\n",
    "    matrix = trans2matrix(f, alg)\n",
    "    eigvalues, eigvecs = np.linalg.eig(matrix)\n",
    "    real_indices, conjugate_pairs_indices = separate_indices(eigvalues)\n",
    "    eigblades = [alg.vector(np.real(eigvecs[:, i])) for i in real_indices]\n",
    "    for k, l in conjugate_pairs_indices:\n",
    "        v1 = np.real(eigvecs[:,k] + eigvecs[:,l])\n",
    "        v2 = np.imag(eigvecs[:,k] - eigvecs[:,l])\n",
    "        eigblades.append(alg.vector(v1) ^ alg.vector(v2))\n",
    "    return eigblades \n",
    "\n",
    "def terms_ratio(A, B: MultiVector):\n",
    "    valid_keys = [k for k in B.keys() if not np.isclose(B[k], 0)]\n",
    "    return np.divide([A[k] for k in valid_keys], [B[k] for k in valid_keys])\n",
    "\n",
    "eigblades = linalg_eigblades(f, alg)\n",
    "\n",
    "# right eigenblades but not left!\n",
    "for blade in eigblades:\n",
    "    print(\n",
    "        terms_ratio(outermorphism(f, blade, alg), blade), \n",
    "        terms_ratio(adjoint_outermorphism(f, blade, alg), blade)\n",
    "        )"
   ]
  },
  {
   "cell_type": "code",
   "execution_count": 52,
   "metadata": {},
   "outputs": [
    {
     "name": "stdout",
     "output_type": "stream",
     "text": [
      "[1.42000709 2.95135454 4.63326947 3.00114156] [2.38183674 2.38183674 2.38183674 2.38183674]\n",
      "[ 0.54773198 -2.05728781 -1.52309997 -2.25835544] [-1.31289598 -1.31289598 -1.31289598 -1.31289598]\n",
      "[-7.67248032e+00  1.15517564e+01  2.30323348e+04  6.04233585e+00\n",
      "  6.05296557e+00  3.67231321e+00] [5.02506712 5.02506712 5.02506712 5.02506712 5.02506712 5.02506712]\n"
     ]
    }
   ],
   "source": [
    "#3.11 reciprocal for blades\n",
    "def reciprocal(blades):\n",
    "    I = wedge(blades)\n",
    "    dualblades = []\n",
    "    for k in range(len(blades)):\n",
    "        sign = (-1) ** (blades[k].grades[0] * sum(blade.grades[0] for blade in blades[:k]))\n",
    "        dualblades.append(sign * wedge(blades[:k] + blades[k+1:]) * I.inv())\n",
    "    return dualblades\n",
    "\n",
    "dualblades = reciprocal(eigblades)\n",
    "# The reciprocal of a right eigenblade is a left eigenblade! Note that they correspond to the same eigenvalues\n",
    "for blade in dualblades:\n",
    "    print(\n",
    "        terms_ratio(outermorphism(f, blade, alg), blade), \n",
    "        terms_ratio(adjoint_outermorphism(f, blade, alg), blade)\n",
    "        )\n"
   ]
  },
  {
   "cell_type": "code",
   "execution_count": 53,
   "metadata": {},
   "outputs": [
    {
     "data": {
      "text/plain": [
       "[1.0, 5.55e-17, 1.0]"
      ]
     },
     "execution_count": 53,
     "metadata": {},
     "output_type": "execute_result"
    }
   ],
   "source": [
    "#3.12 \n",
    "[eigblades[i] | dualblades[j] for i,j in [(0,0), (0,1), (1,1)]]"
   ]
  },
  {
   "cell_type": "code",
   "execution_count": 54,
   "metadata": {},
   "outputs": [
    {
     "data": {
      "text/plain": [
       "[(5.32 𝐞₁₂₃, 5.32 𝐞₁₂₃), (-1.24 𝐞₄, -1.24 𝐞₄)]"
      ]
     },
     "execution_count": 54,
     "metadata": {},
     "output_type": "execute_result"
    }
   ],
   "source": [
    "# What transformation have a non-trivial proper blade?\n",
    "# A invariant subspace, say e123 of e1234\n",
    "# from 3.12 we know we're looking for blades equal to thier own reciprocal\n",
    "# that means orthogonal to other eigenspaces\n",
    "\n",
    "pf = lambda x: P(f(P(x, e123)), e123) + P(f(P(x, e4)), e4)\n",
    "[(outermorphism(pf, blade, alg), adjoint_outermorphism(pf, blade, alg)) for blade in [e123, e4]]"
   ]
  },
  {
   "cell_type": "code",
   "execution_count": 55,
   "metadata": {},
   "outputs": [
    {
     "name": "stdout",
     "output_type": "stream",
     "text": [
      "[1.49606267 1.49606267 1.49606267] [2.5175652  0.90774184 0.79584074]\n",
      "[] []\n",
      "[3.5533932 3.5533932 3.5533932] [7.5938814  5.23692092 2.24765873]\n",
      "[] []\n",
      "[-1.24275945] [-1.24275945]\n",
      "[] []\n"
     ]
    }
   ],
   "source": [
    "eigblades = linalg_eigblades(pf, alg)\n",
    "for E in [e123, e4]:\n",
    "    for blade in eigblades: # not just vectors\n",
    "        blade = (blade | E)*E\n",
    "        om = outermorphism(pf, blade, alg)\n",
    "        am = adjoint_outermorphism(pf, blade, alg)\n",
    "        print(\n",
    "            terms_ratio(om, blade), \n",
    "            terms_ratio(am, blade)\n",
    "            )"
   ]
  },
  {
   "cell_type": "code",
   "execution_count": 56,
   "metadata": {},
   "outputs": [
    {
     "data": {
      "text/plain": [
       "(array([[-0.11462069,  1.57141154,  0.55433424,  0.85834624],\n",
       "        [ 1.57141154, -0.66261643,  0.87152067,  1.30157094],\n",
       "        [ 0.55433424,  0.87152067, -1.3455118 ,  1.13249189],\n",
       "        [ 0.85834624,  1.30157094,  1.13249189, -1.24275945]]),\n",
       " 1.95 𝐞₁ + 1.21 𝐞₂ + 1.67 𝐞₃ + 0.672 𝐞₄,\n",
       " 1.95 𝐞₁ + 1.21 𝐞₂ + 1.67 𝐞₃ + 0.672 𝐞₄)"
      ]
     },
     "execution_count": 56,
     "metadata": {},
     "output_type": "execute_result"
    }
   ],
   "source": [
    "#4.1b A matrix from a symmetric transformation is symmetric\n",
    "fp = lambda x: (f(x) + adjoint_outermorphism(f, x, alg))/2\n",
    "trans2matrix(fp, alg), fp(x), derivative(lambda x: x | f(x)/2, x, alg, grade=1)"
   ]
  },
  {
   "cell_type": "code",
   "execution_count": 57,
   "metadata": {},
   "outputs": [
    {
     "data": {
      "text/plain": [
       "(0.207 𝐞₁₂ + 1.27 𝐞₁₃ + 0.471 𝐞₁₄ + -0.742 𝐞₂₃ + 0.069 𝐞₂₄ + -0.385 𝐞₃₄,\n",
       " 0.207 𝐞₁₂ + 1.27 𝐞₁₃ + 0.471 𝐞₁₄ + -0.742 𝐞₂₃ + 0.069 𝐞₂₄ + -0.385 𝐞₃₄)"
      ]
     },
     "execution_count": 57,
     "metadata": {},
     "output_type": "execute_result"
    }
   ],
   "source": [
    "# a curl is a part of a derivative\n",
    "derivative(f, x, alg, grade=1).grade(2), curl(f, x, alg, grade=1)"
   ]
  },
  {
   "cell_type": "code",
   "execution_count": 58,
   "metadata": {},
   "outputs": [
    {
     "data": {
      "text/plain": [
       "(array([[-6.93889390e-18, -1.03378284e-01, -6.36686931e-01,\n",
       "         -2.35540093e-01],\n",
       "        [ 1.03378284e-01, -1.11022302e-16,  3.71220457e-01,\n",
       "         -3.45114373e-02],\n",
       "        [ 6.36686931e-01, -3.71220457e-01, -1.11022302e-16,\n",
       "          1.92411351e-01],\n",
       "        [ 2.35540093e-01,  3.45114373e-02, -1.92411351e-01,\n",
       "         -2.22044605e-16]]),\n",
       " -0.33 𝐞₁ + 0.0612 𝐞₂ + 0.12 𝐞₃ + 0.114 𝐞₄,\n",
       " -0.33 𝐞₁ + 0.0612 𝐞₂ + 0.12 𝐞₃ + 0.114 𝐞₄)"
      ]
     },
     "execution_count": 58,
     "metadata": {},
     "output_type": "execute_result"
    }
   ],
   "source": [
    "#4.1c a skew transfromation leads to a skew matrix\n",
    "fm = lambda x: (f(x) - adjoint_outermorphism(f, x, alg))/2\n",
    "trans2matrix(fm, alg), fm(x), x | derivative(f, x, alg, grade=1).grade(2)/2"
   ]
  },
  {
   "cell_type": "code",
   "execution_count": 59,
   "metadata": {},
   "outputs": [
    {
     "data": {
      "text/plain": [
       "(1.86,\n",
       " 1.86,\n",
       " -2.33e-10 𝐞₁₂ + -2.33e-10 𝐞₁₃ + -1.16e-10 𝐞₁₄ + -1.16e-10 𝐞₂₃ + -1.75e-10 𝐞₂₄)"
      ]
     },
     "execution_count": 59,
     "metadata": {},
     "output_type": "execute_result"
    }
   ],
   "source": [
    "#4.2 fp curl free\n",
    "a | fp(x), x | fp(a), curl(fp, x, alg, grade=1)"
   ]
  },
  {
   "cell_type": "code",
   "execution_count": 60,
   "metadata": {},
   "outputs": [
    {
     "data": {
      "text/plain": [
       "(1.95 𝐞₁ + 1.21 𝐞₂ + 1.67 𝐞₃ + 0.672 𝐞₄,\n",
       " 1.95 𝐞₁ + 1.21 𝐞₂ + 1.67 𝐞₃ + 0.672 𝐞₄)"
      ]
     },
     "execution_count": 60,
     "metadata": {},
     "output_type": "execute_result"
    }
   ],
   "source": [
    "#4.3 spectral decomposition of the symmetric part\n",
    "matrix = trans2matrix(fp, alg)\n",
    "eigvalues, eigvecs = np.linalg.eigh(matrix)\n",
    "eigvecs = [alg.vector(v) for v in eigvecs.transpose()]\n",
    "mf = lambda x: sum(e * P(x, v) for e, v in zip(eigvalues, eigvecs))\n",
    "mf(x), fp(x)"
   ]
  },
  {
   "cell_type": "code",
   "execution_count": 61,
   "metadata": {},
   "outputs": [
    {
     "data": {
      "text/plain": [
       "[-1.21e+02 𝐞₁ + 4.14e-15 𝐞₂ + -1.14e-14 𝐞₃ + 5.38e-15 𝐞₄,\n",
       " -9.55e-16 𝐞₁ + -27.9 𝐞₂ + -1.57e-15 𝐞₃ + -3.52e-15 𝐞₄,\n",
       " 6.13e-16 𝐞₁ + 3.66e-16 𝐞₂ + -6.5 𝐞₃ + -1.25e-15 𝐞₄,\n",
       " -8.33e-17 𝐞₁ + 2.36e-16 𝐞₂ + 3.61e-16 𝐞₃ + -1.87 𝐞₄]"
      ]
     },
     "execution_count": 61,
     "metadata": {},
     "output_type": "execute_result"
    }
   ],
   "source": [
    "# QR factorization\n",
    "transframe = [fp(e) for e in alg.frame] #another basis\n",
    "gs_trans = gram_schmidt(transframe)\n",
    "gs_trans2 = gram_schmidt([fp(v / norm(v)) for v in gs_trans[::-1]])[::-1]\n",
    "gs_trans2\n"
   ]
  },
  {
   "cell_type": "code",
   "execution_count": 62,
   "metadata": {},
   "outputs": [],
   "source": [
    "# A GA version of eigenblade-solver given the eigenvalues\n",
    "def null_space(f, alg, tol=1e-5, frame=None):\n",
    "    if not frame:\n",
    "        frame = alg.frame\n",
    "    null_sp = wedge(frame)\n",
    "    images = [f(a) for a in frame]\n",
    "    for v in images:\n",
    "        contracted = v | null_sp\n",
    "        if normsq(contracted) >= tol:\n",
    "            null_sp = contracted\n",
    "    return null_sp\n",
    "\n",
    "def eigenblades_from_values(f, eigvalues, alg, frame=None):\n",
    "    eigblades = []\n",
    "    for e in eigvalues:\n",
    "        null_f = lambda x: f(x) - e*x\n",
    "        eigblades.append(null_space(null_f, alg, frame=frame))\n",
    "    return eigblades"
   ]
  },
  {
   "cell_type": "code",
   "execution_count": 63,
   "metadata": {},
   "outputs": [
    {
     "data": {
      "text/plain": [
       "[1,\n",
       " -3.37 + -2.22e-16 𝐞₁₂ + -2.22e-16 𝐞₁₃ + -2.22e-16 𝐞₂₄ + -4.44e-16 𝐞₃₄,\n",
       " -3.49 + 1.78e-15 𝐞₁₂ + 1.78e-15 𝐞₁₄ + 8.88e-16 𝐞₂₄ + 4.44e-16 𝐞₃₄ + 1.11e-16 𝐞₁₂₃₄,\n",
       " 20.1 + -2.66e-15 𝐞₁₄ + 1.78e-15 𝐞₃₄,\n",
       " -15.1]"
      ]
     },
     "execution_count": 63,
     "metadata": {},
     "output_type": "execute_result"
    }
   ],
   "source": [
    "# One thing to note for a symmetric transformation:\n",
    "# the characteristic multivectors are of scalar values\n",
    "# So all subspaces are invariant under the transfromation.\n",
    "[char_multi_linear(fp, r, alg) for r in range(5)]"
   ]
  },
  {
   "cell_type": "code",
   "execution_count": 64,
   "metadata": {},
   "outputs": [
    {
     "data": {
      "text/plain": [
       "(array([ 2.4478458 , -2.52236322, -2.16346244, -1.12752851]),\n",
       " array([-2.52236322, -2.16346244, -1.12752851,  2.4478458 ]))"
      ]
     },
     "execution_count": 64,
     "metadata": {},
     "output_type": "execute_result"
    }
   ],
   "source": [
    "np.roots(char_poly_coefs(fp, alg)), eigvalues"
   ]
  },
  {
   "cell_type": "code",
   "execution_count": 65,
   "metadata": {},
   "outputs": [
    {
     "data": {
      "text/plain": [
       "([0.0875 𝐞₁ + -0.378 𝐞₂ + -0.504 𝐞₃ + 0.772 𝐞₄,\n",
       "  0.425 𝐞₁ + -0.722 𝐞₂ + 0.544 𝐞₃ + -0.0461 𝐞₄,\n",
       "  -0.687 𝐞₁ + -0.0035 𝐞₂ + 0.571 𝐞₃ + 0.449 𝐞₄,\n",
       "  -0.582 𝐞₁ + -0.58 𝐞₂ + -0.352 𝐞₃ + -0.448 𝐞₄],\n",
       " [0.0875 𝐞₁ + -0.378 𝐞₂ + -0.504 𝐞₃ + 0.772 𝐞₄,\n",
       "  -0.425 𝐞₁ + 0.722 𝐞₂ + -0.544 𝐞₃ + 0.0461 𝐞₄,\n",
       "  0.687 𝐞₁ + 0.0035 𝐞₂ + -0.571 𝐞₃ + -0.449 𝐞₄,\n",
       "  -0.582 𝐞₁ + -0.58 𝐞₂ + -0.352 𝐞₃ + -0.448 𝐞₄])"
      ]
     },
     "execution_count": 65,
     "metadata": {},
     "output_type": "execute_result"
    }
   ],
   "source": [
    "eigblades = eigenblades_from_values(fp, eigvalues, alg)\n",
    "[e/norm(e) for e in eigblades], eigvecs"
   ]
  },
  {
   "cell_type": "code",
   "execution_count": 66,
   "metadata": {},
   "outputs": [
    {
     "name": "stdout",
     "output_type": "stream",
     "text": [
      "[-2.52236322 -2.52236322 -2.52236322 -2.52236322]\n",
      "[6.36231621 6.36231621 6.36231621 6.36231621 6.36231621 6.36231621]\n"
     ]
    }
   ],
   "source": [
    "#4.4 modify mf so to have a repeat eigenvalue (degeneracy)\n",
    "eigvalues[1] = eigvalues[0]\n",
    "mf = lambda x: sum(e * P(x, v) for e, v in zip(eigvalues, eigvecs))\n",
    "for blade in [eigvecs[0], wedge(eigvecs[:2])]:\n",
    "    of = outermorphism(mf, blade, alg)\n",
    "    print(terms_ratio(of, blade))"
   ]
  },
  {
   "cell_type": "code",
   "execution_count": 67,
   "metadata": {},
   "outputs": [
    {
     "data": {
      "text/plain": [
       "([-0.582 𝐞₁ + -0.58 𝐞₂ + -0.352 𝐞₃ + -0.448 𝐞₄,\n",
       "  -0.0976 𝐞₁₂ + -0.262 𝐞₁₃ + 0.332 𝐞₁₄ + 0.569 𝐞₂₃ + -0.574 𝐞₂₄ + 0.397 𝐞₃₄,\n",
       "  -0.687 𝐞₁ + -0.0035 𝐞₂ + 0.571 𝐞₃ + 0.449 𝐞₄],\n",
       " [-0.0976 𝐞₁₂ + -0.262 𝐞₁₃ + 0.332 𝐞₁₄ + 0.569 𝐞₂₃ + -0.574 𝐞₂₄ + 0.397 𝐞₃₄,\n",
       "  0.687 𝐞₁ + 0.0035 𝐞₂ + -0.571 𝐞₃ + -0.449 𝐞₄,\n",
       "  -0.582 𝐞₁ + -0.58 𝐞₂ + -0.352 𝐞₃ + -0.448 𝐞₄])"
      ]
     },
     "execution_count": 67,
     "metadata": {},
     "output_type": "execute_result"
    }
   ],
   "source": [
    "eigblades = eigenblades_from_values(mf, set(eigvalues), alg)\n",
    "[e/norm(e) for e in eigblades], [wedge(eigvecs[:2])] + eigvecs[2:]"
   ]
  },
  {
   "cell_type": "code",
   "execution_count": 68,
   "metadata": {},
   "outputs": [
    {
     "data": {
      "text/plain": [
       "(array([[-0.95288128,  0.18808455, -0.23791979,  0.00596964],\n",
       "        [ 0.18808455, -0.24921986, -0.94970829,  0.0238291 ],\n",
       "        [-0.23791979, -0.94970829,  0.20134483, -0.0301429 ],\n",
       "        [ 0.00596964,  0.0238291 , -0.0301429 , -0.99924369]]),\n",
       " [1.0, 9.031404096804252e-17, 3.469446951953614e-18, 1.0],\n",
       " array([-1.+0.00000000e+00j,  1.+0.00000000e+00j, -1.+3.46944695e-18j,\n",
       "        -1.-3.46944695e-18j]))"
      ]
     },
     "execution_count": 68,
     "metadata": {},
     "output_type": "execute_result"
    }
   ],
   "source": [
    "#4.6 a reflection is an orthogonal symmetric transformation \n",
    "A3 = create_r_blade(3, alg).normalized()\n",
    "matrix = trans2matrix(lambda x: (-1)**3*(A3.sw(x)), alg)\n",
    "# a symmetric matrix, orthogonal, unit eigvals\n",
    "matrix, [np.dot(matrix[i], matrix[j]) for i,j in [(1,1), (1,2), (2,3), (3,3)]], np.linalg.eigvals(matrix)"
   ]
  },
  {
   "cell_type": "code",
   "execution_count": 69,
   "metadata": {},
   "outputs": [
    {
     "data": {
      "text/plain": [
       "(-0.294 𝐞₁ + -0.208 𝐞₂ + -0.898 𝐞₃ + -0.721 𝐞₄,\n",
       " -0.294 𝐞₁ + -0.208 𝐞₂ + -0.898 𝐞₃ + -0.721 𝐞₄)"
      ]
     },
     "execution_count": 69,
     "metadata": {},
     "output_type": "execute_result"
    }
   ],
   "source": [
    "#4.6 Find blade A from an orthogonal-symmetric-transfromation?\n",
    "ot = matrix2trans(matrix, alg)\n",
    "eigvalues, eigvecs = np.linalg.eig(matrix)\n",
    "eigvecs = [alg.vector(v) for v in eigvecs.transpose()]\n",
    "A3_ = wedge([v for v, e in zip(eigvecs, eigvalues) if np.isclose(e, -1)])\n",
    "(-1)**3*(A3.sw(x)), ot(x)"
   ]
  },
  {
   "cell_type": "code",
   "execution_count": 70,
   "metadata": {},
   "outputs": [
    {
     "data": {
      "text/plain": [
       "([0.613 𝐞₁ + 0.694 𝐞₂ + 0.379 𝐞₃,\n",
       "  1.0 𝐞₄,\n",
       "  0.386 𝐞₁₂ + -0.969 𝐞₁₃ + 1.29 𝐞₂₃,\n",
       "  1 𝐞₁₂₃],\n",
       " [0.12025538803755675, 0.0, 2.6542098073788383, 0.0])"
      ]
     },
     "execution_count": 70,
     "metadata": {},
     "output_type": "execute_result"
    }
   ],
   "source": [
    "#4.7 Not true for whole space, but the proper ones\n",
    "# In matrix terms: diagonal parts commute\n",
    "eigblades = linalg_eigblades(pf, alg)\n",
    "eigblades.append(e123)\n",
    "eigblades, [max_diff(pf(blade.sw(x)), blade.sw(pf(x))) for blade in eigblades]"
   ]
  },
  {
   "cell_type": "code",
   "execution_count": 71,
   "metadata": {},
   "outputs": [
    {
     "data": {
      "text/plain": [
       "(0.0459, 0.0459)"
      ]
     },
     "execution_count": 71,
     "metadata": {},
     "output_type": "execute_result"
    }
   ],
   "source": [
    "#4.8 skew transformation -> skew bilinear form -> bivector\n",
    "fm_biform = lambda vectors: vectors[0] | fm(vectors[1])\n",
    "F = simplicial_derivative(fm_biform, np.zeros(2), alg)\n",
    "a | fm(x), a| (x | F)"
   ]
  },
  {
   "cell_type": "code",
   "execution_count": 72,
   "metadata": {},
   "outputs": [
    {
     "data": {
      "text/plain": [
       "(-0.33 𝐞₁ + 0.0612 𝐞₂ + 0.12 𝐞₃ + 0.114 𝐞₄,\n",
       " -0.33 𝐞₁ + 0.0612 𝐞₂ + 0.12 𝐞₃ + 0.114 𝐞₄,\n",
       " -1.25e-16)"
      ]
     },
     "execution_count": 72,
     "metadata": {},
     "output_type": "execute_result"
    }
   ],
   "source": [
    "#4.9 so fm(x) is always orthogonal to x\n",
    "fm(x), x|F, fm(x) | x"
   ]
  },
  {
   "cell_type": "code",
   "execution_count": 73,
   "metadata": {},
   "outputs": [
    {
     "data": {
      "text/plain": [
       "(-5.82e-11 + 0.207 𝐞₁₂ + 1.27 𝐞₁₃ + 0.471 𝐞₁₄ + -0.742 𝐞₂₃ + 0.069 𝐞₂₄ + -0.385 𝐞₃₄,\n",
       " 0.207 𝐞₁₂ + 1.27 𝐞₁₃ + 0.471 𝐞₁₄ + -0.742 𝐞₂₃ + 0.069 𝐞₂₄ + -0.385 𝐞₃₄,\n",
       " 0.207 𝐞₁₂ + 1.27 𝐞₁₃ + 0.471 𝐞₁₄ + -0.742 𝐞₂₃ + 0.069 𝐞₂₄ + -0.385 𝐞₃₄,\n",
       " 0.207 𝐞₁₂ + 1.27 𝐞₁₃ + 0.471 𝐞₁₄ + -0.742 𝐞₂₃ + 0.069 𝐞₂₄ + -0.385 𝐞₃₄)"
      ]
     },
     "execution_count": 73,
     "metadata": {},
     "output_type": "execute_result"
    }
   ],
   "source": [
    "#4.10 F is a bivector\n",
    "derivative(fm, x, alg, grade=1), curl(fm, x, alg, grade=1), curl(f, x, alg, grade=1), 2*F"
   ]
  },
  {
   "cell_type": "code",
   "execution_count": 74,
   "metadata": {},
   "outputs": [
    {
     "data": {
      "text/plain": [
       "(-1 𝐞₁₂₃₄, -1 𝐞₁₂₃₄)"
      ]
     },
     "execution_count": 74,
     "metadata": {},
     "output_type": "execute_result"
    }
   ],
   "source": [
    "#4.11 bivector split commutes, you can think about a screw motion splits into translation and rotation\n",
    "e13*e24, e24*e13"
   ]
  },
  {
   "cell_type": "code",
   "execution_count": 75,
   "metadata": {},
   "outputs": [
    {
     "data": {
      "text/plain": [
       "([1.0,\n",
       "  0.103 𝐞₁₂ + 0.637 𝐞₁₃ + 0.236 𝐞₁₄ + -0.371 𝐞₂₃ + 0.0345 𝐞₂₄ + -0.192 𝐞₃₄,\n",
       "  -0.129 𝐞₁₂₃₄],\n",
       " [-4.51e-16 + 0.207 𝐞₁₂ + 1.27 𝐞₁₃ + 0.471 𝐞₁₄ + -0.742 𝐞₂₃ + 0.069 𝐞₂₄ + -0.385 𝐞₃₄,\n",
       "  0.648 + -1.73e-18 𝐞₁₂ + -3.75e-16 𝐞₁₃ + -1.67e-16 𝐞₁₄ + 8.67e-17 𝐞₂₃ + 7.98e-17 𝐞₃₄ + -0.517 𝐞₁₂₃₄,\n",
       "  -1.7e-16 + 0.0498 𝐞₁₂ + 0.00892 𝐞₁₃ + 0.096 𝐞₁₄ + -0.0609 𝐞₂₃ + 0.165 𝐞₂₄ + -0.0267 𝐞₃₄,\n",
       "  0.0167])"
      ]
     },
     "execution_count": 75,
     "metadata": {},
     "output_type": "execute_result"
    }
   ],
   "source": [
    "#4.13 How to factor F?\n",
    "def wedge_power(A, r):\n",
    "    if r == 0:\n",
    "        return 1\n",
    "    result = A\n",
    "    for _ in range(r-1):\n",
    "        result = A ^ result\n",
    "    return result\n",
    "\n",
    "Ck = [(1/factorial(r))*wedge_power(F, r) for r in range(3)]\n",
    "Ck, [char_multi_linear(fm, r, alg) for r in range(1, 5)] # these are full story, but we just take a fraction"
   ]
  },
  {
   "cell_type": "code",
   "execution_count": 76,
   "metadata": {},
   "outputs": [
    {
     "data": {
      "text/plain": [
       "[0.103 𝐞₁₂ + 0.637 𝐞₁₃ + 0.236 𝐞₁₄ + -0.371 𝐞₂₃ + 0.0345 𝐞₂₄ + -0.192 𝐞₃₄,\n",
       " -0.0249 𝐞₁₂ + -0.00446 𝐞₁₃ + -0.048 𝐞₁₄ + 0.0305 𝐞₂₃ + -0.0823 𝐞₂₄ + 0.0134 𝐞₃₄]"
      ]
     },
     "execution_count": 76,
     "metadata": {},
     "output_type": "execute_result"
    }
   ],
   "source": [
    "[alg.ip(Ck[i-1], Ck[i]) for i in range(1, len(Ck))]"
   ]
  },
  {
   "cell_type": "code",
   "execution_count": 77,
   "metadata": {},
   "outputs": [
    {
     "data": {
      "text/plain": [
       "{0, 1, 2, 3, 4, 5, 6, 7, 8, 9, 10, 11, 12, 13, 14, 15}"
      ]
     },
     "execution_count": 77,
     "metadata": {},
     "output_type": "execute_result"
    }
   ],
   "source": [
    "set.union(*(set(ck.keys()) for ck in Ck if isinstance(ck, MultiVector)))"
   ]
  },
  {
   "cell_type": "code",
   "execution_count": 78,
   "metadata": {},
   "outputs": [
    {
     "data": {
      "text/plain": [
       "(-0.33 𝐞₁ + 0.0612 𝐞₂ + 0.12 𝐞₃ + 0.114 𝐞₄,\n",
       " -0.33 𝐞₁ + 0.0612 𝐞₂ + 0.12 𝐞₃ + 0.114 𝐞₄,\n",
       " -0.11 𝐞₁ + 0.00659 𝐞₂ + -0.211 𝐞₃ + -0.0987 𝐞₄,\n",
       " -0.11 𝐞₁ + 0.00659 𝐞₂ + -0.211 𝐞₃ + -0.0987 𝐞₄)"
      ]
     },
     "execution_count": 78,
     "metadata": {},
     "output_type": "execute_result"
    }
   ],
   "source": [
    "x|F, fm(x), x|F|F, fm(fm(x))"
   ]
  },
  {
   "cell_type": "code",
   "execution_count": 79,
   "metadata": {},
   "outputs": [
    {
     "data": {
      "text/plain": [
       "([1.0, 0.6475542487470467, 0.01671886172307832],\n",
       " [1,\n",
       "  4.510281037539698e-16,\n",
       "  0.6475542487470467,\n",
       "  1.6967763999398144e-16,\n",
       "  0.016718861723078324],\n",
       " array([-0.62061507, -0.02693918]),\n",
       " array([0.78779126, 0.1641316 ]),\n",
       " array([-9.28429128e-17+0.78779126j, -9.28429128e-17-0.78779126j,\n",
       "        -1.32671139e-16+0.1641316j , -1.32671139e-16-0.1641316j ]),\n",
       " [1,\n",
       "  1.2951084974940938,\n",
       "  0.4527642285165089,\n",
       "  0.021652739885987496,\n",
       "  0.00027952033731541367])"
      ]
     },
     "execution_count": 79,
     "metadata": {},
     "output_type": "execute_result"
    }
   ],
   "source": [
    "#4.14 4.18 Why square of eigen values? \n",
    "# The odd grade characteristic multivectors have zero scalar\n",
    "# A correction on Lasenby's paper, not square of f, but the even outermorphism f_(x, y)\n",
    "Ck2 = [(-1)**(2 - i) * alg.sp(Ck[i], Ck[i])[0] for i in range(3)]\n",
    "char_poly = char_poly_coefs(fm, alg)\n",
    "Lk = np.roots(Ck2)\n",
    "\n",
    "Ck2, char_poly, Lk, np.sqrt(-np.array(Lk)), np.roots(char_poly), char_poly_coefs(lambda x: fm(fm(x)), alg)"
   ]
  },
  {
   "cell_type": "code",
   "execution_count": 80,
   "metadata": {},
   "outputs": [
    {
     "data": {
      "text/plain": [
       "(0.103 𝐞₁₂ + 0.637 𝐞₁₃ + 0.236 𝐞₁₄ + -0.371 𝐞₂₃ + 0.0345 𝐞₂₄ + -0.192 𝐞₃₄,\n",
       " -0.0249 𝐞₁₂ + -0.00446 𝐞₁₃ + -0.048 𝐞₁₄ + 0.0305 𝐞₂₃ + -0.0823 𝐞₂₄ + 0.0134 𝐞₃₄)"
      ]
     },
     "execution_count": 80,
     "metadata": {},
     "output_type": "execute_result"
    }
   ],
   "source": [
    "Ck[1], Ck[1] | Ck[2]"
   ]
  },
  {
   "cell_type": "code",
   "execution_count": 81,
   "metadata": {},
   "outputs": [
    {
     "data": {
      "text/plain": [
       "(0.103 𝐞₁₂ + 0.637 𝐞₁₃ + 0.236 𝐞₁₄ + -0.371 𝐞₂₃ + 0.0345 𝐞₂₄ + -0.192 𝐞₃₄,\n",
       " 0.103 𝐞₁₂ + 0.637 𝐞₁₃ + 0.236 𝐞₁₄ + -0.371 𝐞₂₃ + 0.0345 𝐞₂₄ + -0.192 𝐞₃₄,\n",
       " 1.73e-18 + 1.04e-17 𝐞₁₂ + 4.34e-18 𝐞₁₃ + -1.56e-17 𝐞₁₄ + 1.19e-17 𝐞₂₃ + 6.07e-18 𝐞₂₄ + -2.08e-17 𝐞₃₄ + -0.129 𝐞₁₂₃₄,\n",
       " 1.73e-18 + -1.13e-17 𝐞₁₂ + -3.47e-18 𝐞₁₃ + 1.56e-17 𝐞₁₄ + -1.04e-17 𝐞₂₃ + -6.07e-18 𝐞₂₄ + 2.17e-17 𝐞₃₄ + -0.129 𝐞₁₂₃₄,\n",
       " -0.648 + -5.2e-18 𝐞₁₂ + -0.259 𝐞₁₂₃₄,\n",
       " -0.0269 + 1.63e-19 𝐞₁₄ + -3.47e-18 𝐞₁₂₃₄,\n",
       " -0.621 + 9.37e-17 𝐞₁₂₃₄)"
      ]
     },
     "execution_count": 81,
     "metadata": {},
     "output_type": "execute_result"
    }
   ],
   "source": [
    "#4.15\n",
    "mv_map1 = {}\n",
    "mv_map2 = {}\n",
    "ck1, ck2 = Ck[1], Ck[1] | Ck[2]\n",
    "for key in ck2.keys():\n",
    "    if np.isclose(ck1[key],0) and np.isclose(ck2[key],0):\n",
    "        continue\n",
    "    ans = np.linalg.solve(np.array([[1, 1], Lk]), [ck1[key], ck2[key]])\n",
    "    mv_map1[key], mv_map2[key] = ans\n",
    "F1 = alg.multivector(mv_map1)\n",
    "F2 = alg.multivector(mv_map2)\n",
    "F1 + F2, F, F1*F2, F2*F1, F**2, F1**2, F2**2\n"
   ]
  },
  {
   "cell_type": "code",
   "execution_count": 82,
   "metadata": {},
   "outputs": [
    {
     "data": {
      "text/plain": [
       "([-0.620615067609407, -0.02693918113763971], array([-0.62061507, -0.02693918]))"
      ]
     },
     "execution_count": 82,
     "metadata": {},
     "output_type": "execute_result"
    }
   ],
   "source": [
    "#4.16\n",
    "def normsq(A):\n",
    "    return A.reverse().sp(A)[0]\n",
    "(\n",
    "    [(-normsq(F) - np.sqrt((normsq(F)**2 - normsq(F ^ F))))/2,\n",
    "    (-normsq(F) + np.sqrt((normsq(F)**2 - normsq(F ^ F))))/2],\n",
    "    Lk\n",
    ")\n"
   ]
  },
  {
   "cell_type": "code",
   "execution_count": 83,
   "metadata": {},
   "outputs": [
    {
     "data": {
      "text/plain": [
       "(0.0372 𝐞₁₂ + -0.0214 𝐞₁₃ + 0.0702 𝐞₁₄ + -0.0345 𝐞₂₃ + 0.137 𝐞₂₄ + -0.0138 𝐞₃₄,\n",
       " 0.0372 𝐞₁₂ + -0.0214 𝐞₁₃ + 0.0702 𝐞₁₄ + -0.0345 𝐞₂₃ + 0.137 𝐞₂₄ + -0.0138 𝐞₃₄,\n",
       " 0.0662 𝐞₁₂ + 0.658 𝐞₁₃ + 0.165 𝐞₁₄ + -0.337 𝐞₂₃ + -0.103 𝐞₂₄ + -0.179 𝐞₃₄,\n",
       " 0.0662 𝐞₁₂ + 0.658 𝐞₁₃ + 0.165 𝐞₁₄ + -0.337 𝐞₂₃ + -0.103 𝐞₂₄ + -0.179 𝐞₃₄)"
      ]
     },
     "execution_count": 83,
     "metadata": {},
     "output_type": "execute_result"
    }
   ],
   "source": [
    "#4.17\n",
    "F2_ = F / (1 + (1/2/Lk[0])*(F ^ F))\n",
    "F1_ = F / (1 + (1/2/Lk[1])*(F ^ F))\n",
    "F1_, F1, F2_, F2"
   ]
  },
  {
   "cell_type": "code",
   "execution_count": 84,
   "metadata": {},
   "outputs": [],
   "source": [
    "def bivector_split(F, alg: Algebra):\n",
    "    m = alg.d // 2\n",
    "    if m <= 1:\n",
    "        return F\n",
    "    Ck = [(1/factorial(r))*wedge_power(F, r) for r in range(m+1)]\n",
    "    Ck2 = [(-1)**(2 - i) * alg.sp(Ck[i], Ck[i])[0] for i in range(m+1)]\n",
    "    Lk = np.roots(Ck2)\n",
    "    mv_map_list = [{} for _ in range(m)]\n",
    "    ck_inner_list = [alg.ip(Ck[i-1], Ck[i]) for i in range(1, len(Ck))]\n",
    "    mv_keys = set.union(*(set(ck.keys()) for ck in ck_inner_list if isinstance(ck, MultiVector)))\n",
    "    for key in mv_keys:\n",
    "        if all([np.isclose(ck[key],0) for ck in ck_inner_list]):\n",
    "            continue\n",
    "        ans = np.linalg.solve(np.array([np.ones(m), Lk]), [ck[key] for ck in ck_inner_list])\n",
    "        for i, v in enumerate(ans):\n",
    "            mv_map_list[i][key] = v\n",
    "    return [alg.multivector(mv_map) for mv_map in mv_map_list]"
   ]
  },
  {
   "cell_type": "code",
   "execution_count": 85,
   "metadata": {},
   "outputs": [
    {
     "data": {
      "text/plain": [
       "(-0.0954 + 5.79e-14 𝐞₁ + 4.28e-14 𝐞₂ + -5.45e-14 𝐞₃ + -7.11e-14 𝐞₄ + -1.28e-14 𝐞₁₂ + 8.37e-14 𝐞₁₃ + -1.31e-13 𝐞₁₄ + 1.47e-13 𝐞₂₃ + -3.24e-14 𝐞₂₄ + -1.41e-13 𝐞₃₄ + -2.92e-14 𝐞₁₂₃ + 5.93e-14 𝐞₁₂₄ + -5.66e-14 𝐞₁₃₄ + -1.18e-13 𝐞₂₃₄ + -1.06e-13 𝐞₁₂₃₄,\n",
       " [array([-1.75660800e-12, -3.15256193e-13,  6.62719172e-13,  4.64475974e-13,\n",
       "         -9.76629689e-13, -1.75352338e-13]),\n",
       "  array([1., 1., 1., 1., 1., 1.]),\n",
       "  array([5.54811826e-13, 5.54856267e-13, 5.54862483e-13, 5.54762924e-13,\n",
       "         5.54897864e-13, 5.55188814e-13]),\n",
       "  array([-0.31584271, -1.76001703,  0.83725129,  1.19438454, -0.56817632,\n",
       "         -3.16613294])])"
      ]
     },
     "execution_count": 85,
     "metadata": {},
     "output_type": "execute_result"
    }
   ],
   "source": [
    "# What if we use the above function to split a bivector that's almost a blade?\n",
    "# The result blades are R itself and its dual with a small magnitude\n",
    "# Should assert not simple before process?\n",
    "\n",
    "R = create_r_blade(2, alg) + 1e-12 * A # a blade with a small perturbation\n",
    "blades = bivector_split(R, alg)\n",
    "R**2, [terms_ratio(b, r) for r in [R, R.dual()] for b in blades]"
   ]
  },
  {
   "cell_type": "code",
   "execution_count": 86,
   "metadata": {},
   "outputs": [
    {
     "data": {
      "text/plain": [
       "5.22e-15 𝐞₁₂ + 1.42e-14 𝐞₁₃ + 6.22e-15 𝐞₁₄ + -6.66e-15 𝐞₂₃ + 7.77e-15 𝐞₂₄ + -1.78e-15 𝐞₃₄"
      ]
     },
     "execution_count": 86,
     "metadata": {},
     "output_type": "execute_result"
    }
   ],
   "source": [
    "# double skew is symmetric\n",
    "fm2 = lambda x: fm(fm(x))\n",
    "curl(fm2, x, alg, h=1e-2, grade=1)"
   ]
  },
  {
   "cell_type": "code",
   "execution_count": 87,
   "metadata": {},
   "outputs": [
    {
     "data": {
      "text/plain": [
       "(-0.00676 𝐞₁ + -0.0104 𝐞₂ + -0.000315 𝐞₃ + 0.0054 𝐞₄,\n",
       " -0.00676 𝐞₁ + -0.0104 𝐞₂ + -0.000315 𝐞₃ + 0.0054 𝐞₄ + 6.95e-19 𝐞₁₂₃ + -2.19e-20 𝐞₁₂₄ + -1.34e-18 𝐞₁₃₄ + 8.71e-19 𝐞₂₃₄)"
      ]
     },
     "execution_count": 87,
     "metadata": {},
     "output_type": "execute_result"
    }
   ],
   "source": [
    "#4.19\n",
    "v = P(e1, F1)\n",
    "fm2(v), (F1 ** 2) * v"
   ]
  },
  {
   "cell_type": "code",
   "execution_count": 88,
   "metadata": {},
   "outputs": [
    {
     "data": {
      "text/plain": [
       "(0.0372 𝐞₁₂ + -0.0214 𝐞₁₃ + 0.0702 𝐞₁₄ + -0.0345 𝐞₂₃ + 0.137 𝐞₂₄ + -0.0138 𝐞₃₄,\n",
       " 0.0372 𝐞₁₂ + -0.0214 𝐞₁₃ + 0.0702 𝐞₁₄ + -0.0345 𝐞₂₃ + 0.137 𝐞₂₄ + -0.0138 𝐞₃₄)"
      ]
     },
     "execution_count": 88,
     "metadata": {},
     "output_type": "execute_result"
    }
   ],
   "source": [
    "#4.20 \n",
    "F1_eigvecs= [v.normalized() for v in gram_schmidt(blade_split(F1, alg))]\n",
    "F1, np.sqrt(normsq(F1)) * wedge(F1_eigvecs)\n"
   ]
  },
  {
   "cell_type": "code",
   "execution_count": 89,
   "metadata": {},
   "outputs": [
    {
     "data": {
      "text/plain": [
       "(-0.589 𝐞₁ + -0.808 𝐞₃,\n",
       " -0.589 𝐞₂ + -0.808 𝐞₄,\n",
       " 0.808 𝐞₁ + -0.589 𝐞₃,\n",
       " 0.808 𝐞₂ + -0.589 𝐞₄,\n",
       " 1.0 𝐞₁₂ + 1.0 𝐞₃₄,\n",
       " 0.346 𝐞₁₂ + 0.476 𝐞₁₄ + -0.476 𝐞₂₃ + 0.654 𝐞₃₄,\n",
       " 0.654 𝐞₁₂ + -0.476 𝐞₁₄ + 0.476 𝐞₂₃ + 0.346 𝐞₃₄)"
      ]
     },
     "execution_count": 89,
     "metadata": {},
     "output_type": "execute_result"
    }
   ],
   "source": [
    "# If Lk[0] == Lk[1], the linear equation has no unique solution in 4.15\n",
    "# nonunique bivector split? We should find another split of e12 + e34. \n",
    "t = 1.1\n",
    "R = blade_exp(t*e13) * blade_exp(t*e24)\n",
    "a,b,c,d = [R.sw(v) for v in alg.frame]\n",
    "a,b,c,d, a*b+c*d, a*b, c*d"
   ]
  },
  {
   "cell_type": "code",
   "execution_count": 90,
   "metadata": {},
   "outputs": [
    {
     "data": {
      "text/plain": [
       "(1.0 𝐞₁₂ + 1.0 𝐞₃₄,\n",
       " 1.0 𝐞₁₂ + 1.0 𝐞₃₄,\n",
       " 0.346 + -0.476 𝐞₁₃ + -0.476 𝐞₂₄ + -0.654 𝐞₁₂₃₄)"
      ]
     },
     "execution_count": 90,
     "metadata": {},
     "output_type": "execute_result"
    }
   ],
   "source": [
    "R.sw(e12 + e34), (e12+e34) * (R**2), R**2"
   ]
  },
  {
   "cell_type": "code",
   "execution_count": 91,
   "metadata": {},
   "outputs": [
    {
     "data": {
      "text/plain": [
       "(0.0759 𝐞₁₂ + 0.14 𝐞₁₃ + 0.119 𝐞₁₄ + -0.0868 𝐞₂₃ + -0.0735 𝐞₂₄ + -0.0266 𝐞₃₄,\n",
       " 0.0759 𝐞₁₂ + 0.14 𝐞₁₃ + 0.119 𝐞₁₄ + -0.0868 𝐞₂₃ + -0.0735 𝐞₂₄ + -0.0266 𝐞₃₄)"
      ]
     },
     "execution_count": 91,
     "metadata": {},
     "output_type": "execute_result"
    }
   ],
   "source": [
    "#4.21\n",
    "B2 = B.grade(2)\n",
    "# fm = lambda x: f(x) - adjoint_outermorphism(f, x, alg)\n",
    "# F = curl(fm, x, alg, grade=1) / 2\n",
    "outermorphism(fm, B2, alg), (0.5 * (B2 | (F^F))) - ((B2|F) * F)"
   ]
  },
  {
   "cell_type": "code",
   "execution_count": 92,
   "metadata": {},
   "outputs": [
    {
     "data": {
      "text/plain": [
       "(0.0759 𝐞₁₂ + 0.14 𝐞₁₃ + 0.119 𝐞₁₄ + -0.0868 𝐞₂₃ + -0.0735 𝐞₂₄ + -0.0266 𝐞₃₄,\n",
       " 0.0759 𝐞₁₂ + 0.14 𝐞₁₃ + 0.119 𝐞₁₄ + -0.0868 𝐞₂₃ + -0.0735 𝐞₂₄ + -0.0266 𝐞₃₄)"
      ]
     },
     "execution_count": 92,
     "metadata": {},
     "output_type": "execute_result"
    }
   ],
   "source": [
    "# What is a symmetric bivector function?\n",
    "# I guess it means:\n",
    "outermorphism(fm, B2, alg), adjoint_outermorphism(fm, B2, alg)"
   ]
  },
  {
   "cell_type": "code",
   "execution_count": 93,
   "metadata": {},
   "outputs": [
    {
     "data": {
      "text/plain": [
       "(0.001 𝐞₁₂ + -0.000576 𝐞₁₃ + 0.00189 𝐞₁₄ + -0.000928 𝐞₂₃ + 0.00369 𝐞₂₄ + -0.000371 𝐞₃₄,\n",
       " 0.001 𝐞₁₂ + -0.000576 𝐞₁₃ + 0.00189 𝐞₁₄ + -0.000928 𝐞₂₃ + 0.00369 𝐞₂₄ + -0.000371 𝐞₃₄)"
      ]
     },
     "execution_count": 93,
     "metadata": {},
     "output_type": "execute_result"
    }
   ],
   "source": [
    "#4.23 The bivector split solves the eigenbivector problem of a skew transformation\n",
    "outermorphism(fm, F1, alg), normsq(F1)*F1"
   ]
  },
  {
   "cell_type": "code",
   "execution_count": 94,
   "metadata": {},
   "outputs": [
    {
     "data": {
      "text/plain": [
       "(0.298 𝐞₁ + -0.306 𝐞₂ + -0.162 𝐞₃ + -0.209 𝐞₄,\n",
       " -1.35 𝐞₁ + 0.798 𝐞₂ + 0.922 𝐞₃ + 0.181 𝐞₄,\n",
       " 4.94 𝐞₁ + 3.48 𝐞₂ + -0.216 𝐞₃ + 4.02 𝐞₄,\n",
       " 1.65 𝐞₁ + 5.69 𝐞₂ + 1.95 𝐞₃ + 4.8 𝐞₄)"
      ]
     },
     "execution_count": 94,
     "metadata": {},
     "output_type": "execute_result"
    }
   ],
   "source": [
    "#5.1 normal transformation\n",
    "af = lambda x: adjoint_outermorphism(f, x, alg)\n",
    "\n",
    "fp(fm(x)), fm(fp(x)), af(f(x)), f(af(x)) # not normal"
   ]
  },
  {
   "cell_type": "code",
   "execution_count": 95,
   "metadata": {},
   "outputs": [
    {
     "data": {
      "text/plain": [
       "(1.0 𝐞₁ + 2.73 𝐞₂ + -3.77 𝐞₃ + 4.29 𝐞₄, 1.0 𝐞₁ + 2.73 𝐞₂ + -3.77 𝐞₃ + 4.29 𝐞₄)"
      ]
     },
     "execution_count": 95,
     "metadata": {},
     "output_type": "execute_result"
    }
   ],
   "source": [
    "M = blade_exp(create_r_blade(2, alg))\n",
    "Mdual = blade_split(M.grade(2).dual(), alg)\n",
    "rigid = lambda x: 1.1 *  M.sw(x) - 4.4 * P(x, Mdual[0]) + 3.3 * P(x, Mdual[1])\n",
    "adrigid = lambda x: adjoint_outermorphism(rigid, x, alg)\n",
    "adrigid(rigid(x)), rigid(adrigid(x))"
   ]
  },
  {
   "cell_type": "code",
   "execution_count": 96,
   "metadata": {},
   "outputs": [
    {
     "data": {
      "text/plain": [
       "(1.0 𝐞₁ + -0.111 𝐞₂ + -2.02 𝐞₃ + 0.637 𝐞₄,\n",
       " 2.18 𝐞₁ + -1.23 𝐞₂ + -4.16 𝐞₃ + 2.16 𝐞₄ + 1.56e-17 𝐞₁₂₃ + 1.7e-16 𝐞₁₂₄ + -1.8e-16 𝐞₁₃₄ + -1.96e-18 𝐞₂₃₄)"
      ]
     },
     "execution_count": 96,
     "metadata": {},
     "output_type": "execute_result"
    }
   ],
   "source": [
    "rigid(x), 3.3 * M**2 * P(x, M.grade(2).normalized()) + 3.3 * P(x, M.grade(2).normalized().dual()) - 4.4 * P(x, Mdual[0]) + 5.5 * P(x, Mdual[1])"
   ]
  },
  {
   "cell_type": "code",
   "execution_count": 97,
   "metadata": {},
   "outputs": [
    {
     "data": {
      "text/plain": [
       "(0.103 𝐞₁₂ + 0.637 𝐞₁₃ + 0.236 𝐞₁₄ + -0.371 𝐞₂₃ + 0.0345 𝐞₂₄ + -0.192 𝐞₃₄,\n",
       " 0.103 𝐞₁₂ + 0.637 𝐞₁₃ + 0.236 𝐞₁₄ + -0.371 𝐞₂₃ + 0.0345 𝐞₂₄ + -0.192 𝐞₃₄,\n",
       " 0.00611 𝐞₁₂ + -0.00351 𝐞₁₃ + 0.0115 𝐞₁₄ + -0.00566 𝐞₂₃ + 0.0225 𝐞₂₄ + -0.00226 𝐞₃₄,\n",
       " 0.00611 𝐞₁₂ + -0.00351 𝐞₁₃ + 0.0115 𝐞₁₄ + -0.00566 𝐞₂₃ + 0.0225 𝐞₂₄ + -0.00226 𝐞₃₄)"
      ]
     },
     "execution_count": 97,
     "metadata": {},
     "output_type": "execute_result"
    }
   ],
   "source": [
    "#5.2\n",
    "def norm(A):\n",
    "    return np.sqrt(normsq(A))\n",
    "b1, b2 = norm(F1), norm(F2)\n",
    "i1, i2 = F1/b1, F2/b2\n",
    "\n",
    "F, b1*i1 + b2*i2, outermorphism(fm, i1, alg), b1**2*i1"
   ]
  },
  {
   "cell_type": "code",
   "execution_count": 98,
   "metadata": {},
   "outputs": [
    {
     "data": {
      "text/plain": [
       "array([ 3.37213203, -6.12858738, -7.39682306,  3.08525105, -1.16223581,\n",
       "       43.95772882])"
      ]
     },
     "execution_count": 98,
     "metadata": {},
     "output_type": "execute_result"
    }
   ],
   "source": [
    "# 5.3\n",
    "terms_ratio(outermorphism(fp, i1, alg), i1) # not normal"
   ]
  },
  {
   "cell_type": "code",
   "execution_count": 99,
   "metadata": {},
   "outputs": [
    {
     "data": {
      "text/plain": [
       "[array([0.27272809, 0.27272809, 0.27272809, 0.27272809, 0.27272809,\n",
       "        0.27272809])]"
      ]
     },
     "execution_count": 99,
     "metadata": {},
     "output_type": "execute_result"
    }
   ],
   "source": [
    "# 5.3\n",
    "def sym_part(f, alg):\n",
    "    return lambda x: (f(x) + adjoint_outermorphism(f, x, alg))/2\n",
    "\n",
    "def skew_part(f, alg):\n",
    "    return lambda x: (f(x) - adjoint_outermorphism(f, x, alg))/2\n",
    "\n",
    "R = curl(rigid, x, alg, grade=1)/2\n",
    "skew_blades = bivector_split(R, alg)\n",
    "skew_eigs = [norm(b) for b in skew_blades]\n",
    "skew_blades = [b / e for b,e in zip(skew_blades, skew_eigs) if e > 1e-6]\n",
    "skew_eigs = [e for e in skew_eigs if e > 1e-6]\n",
    "rigid_p = sym_part(rigid, alg)\n",
    "[terms_ratio(outermorphism(rigid_p, i, alg), i) for i in skew_blades]"
   ]
  },
  {
   "cell_type": "code",
   "execution_count": 100,
   "metadata": {},
   "outputs": [
    {
     "data": {
      "text/plain": [
       "([-0.5222337506945599], array([0.27272809]), [0.27272809041505547])"
      ]
     },
     "execution_count": 100,
     "metadata": {},
     "output_type": "execute_result"
    }
   ],
   "source": [
    "#5.4\n",
    "rand_vec = create_r_vectors(1, alg)[0]\n",
    "sym_vecs = [(rand_vec | i).normalized() for i in skew_blades]\n",
    "other_sym_space = wedge(skew_blades).dual()\n",
    "sym_eigs = [terms_ratio(rigid_p(a), a)[0] for a in sym_vecs]\n",
    "\n",
    "sym_eigs, np.square(sym_eigs), [terms_ratio(outermorphism(rigid_p, i, alg), i)[0] for i in skew_blades]\n"
   ]
  },
  {
   "cell_type": "code",
   "execution_count": 101,
   "metadata": {},
   "outputs": [
    {
     "data": {
      "text/plain": [
       "([-0.792 𝐞₁ + -0.471 𝐞₂ + -0.536 𝐞₃ + -0.27 𝐞₄],\n",
       " [-0.792 𝐞₁ + -0.471 𝐞₂ + -0.536 𝐞₃ + -0.27 𝐞₄ + 5.55e-17 𝐞₁₂₃ + 2.78e-17 𝐞₁₂₄ + 1.39e-17 𝐞₁₃₄ + 1.39e-17 𝐞₂₃₄],\n",
       " [-0.792 𝐞₁ + -0.471 𝐞₂ + -0.536 𝐞₃ + -0.27 𝐞₄ + -5.55e-17 𝐞₁₂₃ + -2.78e-17 𝐞₁₂₄ + -1.39e-17 𝐞₁₃₄ + -6.94e-18 𝐞₂₃₄])"
      ]
     },
     "execution_count": 101,
     "metadata": {},
     "output_type": "execute_result"
    }
   ],
   "source": [
    "#5.5a\n",
    "m = len(skew_blades)\n",
    "rigid_eigs = [sym_eigs[k] + skew_blades[k] * skew_eigs[k] for k in range(m)]\n",
    "[rigid(a) for a in sym_vecs], [a*l for a, l in zip(sym_vecs,rigid_eigs)], [l.reverse()*a for a, l in zip(sym_vecs,rigid_eigs)]"
   ]
  },
  {
   "cell_type": "code",
   "execution_count": 102,
   "metadata": {},
   "outputs": [
    {
     "data": {
      "text/plain": [
       "([-0.064 𝐞₁ + 1.0 𝐞₂ + 0.446 𝐞₃ + 0.0116 𝐞₄],\n",
       " [-0.064 𝐞₁ + 1.0 𝐞₂ + 0.446 𝐞₃ + 0.0116 𝐞₄ + 5.55e-17 𝐞₁₂₃ + 2.78e-17 𝐞₁₂₄ + 1.39e-17 𝐞₁₃₄ + 6.94e-18 𝐞₂₃₄],\n",
       " [-0.064 𝐞₁ + 1.0 𝐞₂ + 0.446 𝐞₃ + 0.0116 𝐞₄ + -5.55e-17 𝐞₁₂₃ + -2.78e-17 𝐞₁₂₄ + -1.39e-17 𝐞₁₃₄ + -1.39e-17 𝐞₂₃₄])"
      ]
     },
     "execution_count": 102,
     "metadata": {},
     "output_type": "execute_result"
    }
   ],
   "source": [
    "#5.5b\n",
    "[adjoint_outermorphism(rigid, a, alg) for a in sym_vecs], [l*a for a, l in zip(sym_vecs,rigid_eigs)], [a*l.reverse() for a, l in zip(sym_vecs,rigid_eigs)]"
   ]
  },
  {
   "cell_type": "code",
   "execution_count": 103,
   "metadata": {},
   "outputs": [
    {
     "data": {
      "text/plain": [
       "([1.0999999999226067], [1.0999999999226069])"
      ]
     },
     "execution_count": 103,
     "metadata": {},
     "output_type": "execute_result"
    }
   ],
   "source": [
    "[norm(l) for l in rigid_eigs], [np.sqrt(sym_eigs[k] ** 2 + skew_eigs[k] ** 2) for k in range(m)]"
   ]
  },
  {
   "cell_type": "code",
   "execution_count": 104,
   "metadata": {},
   "outputs": [
    {
     "data": {
      "text/plain": [
       "([-0.522 + -0.79 𝐞₁₂ + -0.371 𝐞₁₃ + -0.0254 𝐞₁₄ + 0.313 𝐞₂₃ + 0.254 𝐞₂₄ + 0.109 𝐞₃₄],\n",
       " [-0.522 + -0.79 𝐞₁₂ + -0.371 𝐞₁₃ + -0.0254 𝐞₁₄ + 0.313 𝐞₂₃ + 0.254 𝐞₂₄ + 0.109 𝐞₃₄])"
      ]
     },
     "execution_count": 104,
     "metadata": {},
     "output_type": "execute_result"
    }
   ],
   "source": [
    "#5.6\n",
    "rho = [norm(l) for l in rigid_eigs] # dilation\n",
    "theta = [np.arccos(sym_eigs[k] / rho[k]) for k in range(m)] # rotation angle\n",
    "\n",
    "rigid_eigs, [rho[k] * blade_exp(theta[k] * skew_blades[k]) for k in range(m)] # skew_blades gives rotation plane"
   ]
  },
  {
   "cell_type": "code",
   "execution_count": 105,
   "metadata": {},
   "outputs": [
    {
     "data": {
      "text/plain": [
       "array([ 3.09783939, -1.99783939])"
      ]
     },
     "execution_count": 105,
     "metadata": {},
     "output_type": "execute_result"
    }
   ],
   "source": [
    "# spectral decomposition of symmetric part in other_sym_space\n",
    "other_sym_frame = blade_split(other_sym_space, alg)\n",
    "other_sym_eigs = np.roots(char_poly_coefs(rigid_p, alg, other_sym_frame, reciprocal(other_sym_frame)))\n",
    "other_sym_eigs"
   ]
  },
  {
   "cell_type": "code",
   "execution_count": 106,
   "metadata": {},
   "outputs": [
    {
     "data": {
      "text/plain": [
       "(1.0 𝐞₁ + -0.111 𝐞₂ + -2.02 𝐞₃ + 0.637 𝐞₄,\n",
       " 1.0 𝐞₁ + -0.111 𝐞₂ + -2.02 𝐞₃ + 0.637 𝐞₄ + 3.47e-18 𝐞₁₂₃ + -1.73e-17 𝐞₁₂₄ + -6.94e-18 𝐞₁₃₄ + 8.67e-18 𝐞₂₃₄)"
      ]
     },
     "execution_count": 106,
     "metadata": {},
     "output_type": "execute_result"
    }
   ],
   "source": [
    "#5.9 spectral decomposition of a normal transformation\n",
    "sym_vecs_dual = [a|i for a, i in zip(sym_vecs, skew_blades)]\n",
    "other_sym_blades = eigenblades_from_values(rigid_p, other_sym_eigs, alg, other_sym_frame)\n",
    "\n",
    "rigid(x), sum([P(x, a) * l for a, l in zip(sym_vecs + sym_vecs_dual + other_sym_blades, rigid_eigs * 2 + list(other_sym_eigs))])"
   ]
  },
  {
   "cell_type": "code",
   "execution_count": 107,
   "metadata": {},
   "outputs": [
    {
     "data": {
      "text/plain": [
       "(array([-1.99783939, -0.52223375, -0.52223375,  3.09783939]),\n",
       " [0.406 𝐞₁ + 0.196 𝐞₂ + -0.362 𝐞₃ + -0.816 𝐞₄,\n",
       "  -0.401 𝐞₁ + -0.746 𝐞₂ + -0.51 𝐞₃ + -0.153 𝐞₄,\n",
       "  0.808 𝐞₁ + -0.532 𝐞₂ + 0.0703 𝐞₃ + 0.243 𝐞₄,\n",
       "  0.147 𝐞₁ + 0.349 𝐞₂ + -0.777 𝐞₃ + 0.502 𝐞₄])"
      ]
     },
     "execution_count": 107,
     "metadata": {},
     "output_type": "execute_result"
    }
   ],
   "source": [
    "#5.17\n",
    "sym_eigs, sym_vecs = np.linalg.eigh(trans2matrix(rigid_p, alg))\n",
    "sym_vecs = [alg.vector(v) for v in sym_vecs.transpose()]\n",
    "sym_eigs, sym_vecs"
   ]
  },
  {
   "cell_type": "code",
   "execution_count": 108,
   "metadata": {},
   "outputs": [
    {
     "data": {
      "text/plain": [
       "[array([3.99136222, 3.99136222, 3.99136222, 3.99136222]),\n",
       " array([1.21, 1.21, 1.21, 1.21]),\n",
       " array([1.21, 1.21, 1.21, 1.21]),\n",
       " array([9.59660887, 9.59660887, 9.59660887, 9.59660887])]"
      ]
     },
     "execution_count": 108,
     "metadata": {},
     "output_type": "execute_result"
    }
   ],
   "source": [
    "# In my case, all vectors are both eigenvectors of rigid_p and rigid_n\n",
    "rigid_n = lambda x: rigid(adjoint_outermorphism(rigid, x, alg))\n",
    "[terms_ratio(rigid_n(v), v) for v in sym_vecs]"
   ]
  },
  {
   "cell_type": "code",
   "execution_count": 109,
   "metadata": {},
   "outputs": [
    {
     "data": {
      "text/plain": [
       "(1.0 𝐞₁ + -0.111 𝐞₂ + -2.02 𝐞₃ + 0.637 𝐞₄,\n",
       " 1.0 𝐞₁ + -0.111 𝐞₂ + -2.02 𝐞₃ + 0.637 𝐞₄ + 5.18e-17 𝐞₁₂₃ + -4.02e-18 𝐞₁₂₄ + -2.25e-19 𝐞₁₃₄ + 2.56e-17 𝐞₂₃₄)"
      ]
     },
     "execution_count": 109,
     "metadata": {},
     "output_type": "execute_result"
    }
   ],
   "source": [
    "# the same spectral decomposition of the normal transformation\n",
    "beta = [v ^ rigid(v) for v in sym_vecs]\n",
    "rigid_eigs = [a + b for a,b in zip(sym_eigs, beta)]\n",
    "rigid(x), sum([P(x, a) * l for a, l in zip(sym_vecs, rigid_eigs)])"
   ]
  },
  {
   "cell_type": "code",
   "execution_count": 110,
   "metadata": {},
   "outputs": [
    {
     "data": {
      "text/plain": [
       "(0.408 + 0.451 𝐞₁ + 0.665 𝐞₂ + 0.0637 𝐞₃ + 0.405 𝐞₄ + 0.143 𝐞₁₂ + 0.631 𝐞₁₃ + 0.737 𝐞₁₄ + 0.503 𝐞₂₃ + 0.683 𝐞₂₄ + 0.599 𝐞₃₄ + 0.225 𝐞₁₂₃ + 0.387 𝐞₁₂₄ + 0.198 𝐞₁₃₄ + 0.233 𝐞₂₃₄ + 0.0946 𝐞₁₂₃₄,\n",
       " 0.408 + 1.06 𝐞₁ + 2.11 𝐞₂ + -2.83 𝐞₃ + 2.48 𝐞₄ + 0.225 𝐞₁₂ + 4.48 𝐞₁₃ + 1.9 𝐞₁₄ + 2.79 𝐞₂₃ + 1.21 𝐞₂₄ + 6.9 𝐞₃₄ + -1.3 𝐞₁₂₃ + 4.97 𝐞₁₂₄ + 3.44 𝐞₁₃₄ + 12.2 𝐞₂₃₄ + 5.31 𝐞₁₂₃₄)"
      ]
     },
     "execution_count": 110,
     "metadata": {},
     "output_type": "execute_result"
    }
   ],
   "source": [
    "#5.19 our function \"rigid\" is normal but not orthogonal\n",
    "A, outermorphism(rigid, adjoint_outermorphism(rigid, A, alg, h=1e-2), alg, h=1e-2)"
   ]
  },
  {
   "cell_type": "code",
   "execution_count": 111,
   "metadata": {},
   "outputs": [
    {
     "data": {
      "text/plain": [
       "(0.408 + 0.451 𝐞₁ + 0.665 𝐞₂ + 0.0637 𝐞₃ + 0.405 𝐞₄ + 0.143 𝐞₁₂ + 0.631 𝐞₁₃ + 0.737 𝐞₁₄ + 0.503 𝐞₂₃ + 0.683 𝐞₂₄ + 0.599 𝐞₃₄ + 0.225 𝐞₁₂₃ + 0.387 𝐞₁₂₄ + 0.198 𝐞₁₃₄ + 0.233 𝐞₂₃₄ + 0.0946 𝐞₁₂₃₄,\n",
       " 0.408 + 0.451 𝐞₁ + 0.665 𝐞₂ + 0.0637 𝐞₃ + 0.405 𝐞₄ + 0.143 𝐞₁₂ + 0.631 𝐞₁₃ + 0.737 𝐞₁₄ + 0.503 𝐞₂₃ + 0.683 𝐞₂₄ + 0.599 𝐞₃₄ + 0.225 𝐞₁₂₃ + 0.387 𝐞₁₂₄ + 0.198 𝐞₁₃₄ + 0.233 𝐞₂₃₄ + 0.0946 𝐞₁₂₃₄)"
      ]
     },
     "execution_count": 111,
     "metadata": {},
     "output_type": "execute_result"
    }
   ],
   "source": [
    "#5.19 But if we normalize each \"eigenvalues\" in the spectral decomposition\n",
    "ortho_eigs = [l.normalized() for l in rigid_eigs]\n",
    "ortho = lambda x: sum([P(x, a) * l for a, l in zip(sym_vecs, ortho_eigs)])\n",
    "A, outermorphism(ortho, adjoint_outermorphism(ortho, A, alg, h=1e-2), alg, h=1e-2)"
   ]
  },
  {
   "cell_type": "code",
   "execution_count": 112,
   "metadata": {},
   "outputs": [
    {
     "data": {
      "text/plain": [
       "(0.641 𝐞₁ + -0.558 𝐞₂ + -0.836 𝐞₃ + 0.19 𝐞₄ + 1.29e-18 𝐞₁₂₃ + -1.98e-17 𝐞₁₂₄ + 4.73e-19 𝐞₁₃₄ + 1.96e-17 𝐞₂₃₄,\n",
       " 0.641 𝐞₁ + -0.558 𝐞₂ + -0.836 𝐞₃ + 0.19 𝐞₄ + -2.91e-17 𝐞₁₂₃ + 6.97e-19 𝐞₁₂₄ + 1.12e-17 𝐞₁₃₄ + 2.02e-17 𝐞₂₃₄)"
      ]
     },
     "execution_count": 112,
     "metadata": {},
     "output_type": "execute_result"
    }
   ],
   "source": [
    "#5.20 left/right product of exponential\n",
    "ortho(x), sum([l.inv() * P(x, a) for a, l in zip(sym_vecs, ortho_eigs)])"
   ]
  },
  {
   "cell_type": "code",
   "execution_count": 113,
   "metadata": {},
   "outputs": [
    {
     "data": {
      "text/plain": [
       "([2.22e-16 + -0.224 𝐞₁₂ + -0.352 𝐞₁₃ + -0.389 𝐞₁₄ + -0.37 𝐞₂₃ + -0.639 𝐞₂₄ + -0.361 𝐞₃₄,\n",
       "  -2.84e-16 + 0.816 𝐞₁₂ + 0.384 𝐞₁₃ + 0.0262 𝐞₁₄ + -0.324 𝐞₂₃ + -0.262 𝐞₂₄ + -0.113 𝐞₃₄,\n",
       "  -4.16e-17 + 0.361 𝐞₁₂ + -0.639 𝐞₁₃ + 0.37 𝐞₁₄ + 0.389 𝐞₂₃ + -0.352 𝐞₂₄ + 0.224 𝐞₃₄],\n",
       " [-0.0555 𝐞₁₂ + -0.45 𝐞₁₃ + 0.0423 𝐞₁₄ + -0.225 𝐞₂₃ + -0.0847 𝐞₂₄ + -0.857 𝐞₃₄,\n",
       "  -0.816 𝐞₁₂ + -0.384 𝐞₁₃ + -0.0262 𝐞₁₄ + 0.324 𝐞₂₃ + 0.262 𝐞₂₄ + 0.113 𝐞₃₄,\n",
       "  -0.816 𝐞₁₂ + -0.384 𝐞₁₃ + -0.0262 𝐞₁₄ + 0.324 𝐞₂₃ + 0.262 𝐞₂₄ + 0.113 𝐞₃₄,\n",
       "  0.0207 𝐞₁₂ + 0.196 𝐞₁₃ + 0.0273 𝐞₁₄ + 0.588 𝐞₂₃ + -0.000941 𝐞₂₄ + -0.784 𝐞₃₄])"
      ]
     },
     "execution_count": 113,
     "metadata": {},
     "output_type": "execute_result"
    }
   ],
   "source": [
    "#5.21\n",
    "(\n",
    "    [sym_vecs[k-1].normalized() * sym_vecs[k].normalized() for k in range(1, 4)],\n",
    "    [e.grade(2).normalized() for e in ortho_eigs]\n",
    ")\n"
   ]
  },
  {
   "cell_type": "code",
   "execution_count": 114,
   "metadata": {},
   "outputs": [
    {
     "data": {
      "text/plain": [
       "([0.406 𝐞₁ + 0.196 𝐞₂ + -0.362 𝐞₃ + -0.816 𝐞₄,\n",
       "  -0.401 𝐞₁ + -0.746 𝐞₂ + -0.51 𝐞₃ + -0.153 𝐞₄,\n",
       "  0.808 𝐞₁ + -0.532 𝐞₂ + 0.0703 𝐞₃ + 0.243 𝐞₄,\n",
       "  0.147 𝐞₁ + 0.349 𝐞₂ + -0.777 𝐞₃ + 0.502 𝐞₄],\n",
       " [[0.406 𝐞₁ + 0.196 𝐞₂ + -0.362 𝐞₃ + -0.816 𝐞₄,\n",
       "   0.406 𝐞₁ + 0.196 𝐞₂ + -0.362 𝐞₃ + -0.816 𝐞₄,\n",
       "   0.406 𝐞₁ + 0.196 𝐞₂ + -0.362 𝐞₃ + -0.816 𝐞₄],\n",
       "  [-0.521 𝐞₁ + 0.822 𝐞₂ + 0.18 𝐞₃ + -0.141 𝐞₄,\n",
       "   -0.521 𝐞₁ + 0.822 𝐞₂ + 0.18 𝐞₃ + -0.141 𝐞₄,\n",
       "   -0.401 𝐞₁ + -0.746 𝐞₂ + -0.51 𝐞₃ + -0.153 𝐞₄],\n",
       "  [-0.736 𝐞₁ + -0.404 𝐞₂ + -0.482 𝐞₃ + -0.25 𝐞₄,\n",
       "   -0.736 𝐞₁ + -0.404 𝐞₂ + -0.482 𝐞₃ + -0.25 𝐞₄,\n",
       "   0.808 𝐞₁ + -0.532 𝐞₂ + 0.0703 𝐞₃ + 0.243 𝐞₄],\n",
       "  [0.147 𝐞₁ + 0.349 𝐞₂ + -0.777 𝐞₃ + 0.502 𝐞₄,\n",
       "   0.147 𝐞₁ + 0.349 𝐞₂ + -0.777 𝐞₃ + 0.502 𝐞₄,\n",
       "   0.147 𝐞₁ + 0.349 𝐞₂ + -0.777 𝐞₃ + 0.502 𝐞₄]])"
      ]
     },
     "execution_count": 114,
     "metadata": {},
     "output_type": "execute_result"
    }
   ],
   "source": [
    "#5.23\n",
    "def rotor_sqrt(R):\n",
    "    R_norm = norm(R+1)\n",
    "    assert R_norm >= 1e-4, \"no explicit square root for -1\"\n",
    "    return (R + 1)/R_norm\n",
    "    \n",
    "neg_eig_pairs = []\n",
    "eig_rotors = []\n",
    "for i, e in enumerate(ortho_eigs):\n",
    "    if normsq(e + 1) <= 1e-4:\n",
    "        neg_eig_pairs.append((-1, sym_vecs[i]))\n",
    "    else:\n",
    "        eig_rotors.append(rotor_sqrt(e))\n",
    "\n",
    "sym_vecs, [[e.reverse().sw(a) for e in eig_rotors] for a in sym_vecs]"
   ]
  },
  {
   "cell_type": "code",
   "execution_count": 115,
   "metadata": {},
   "outputs": [
    {
     "data": {
      "text/plain": [
       "(0.641 𝐞₁ + -0.558 𝐞₂ + -0.836 𝐞₃ + 0.19 𝐞₄ + 1.29e-18 𝐞₁₂₃ + -1.98e-17 𝐞₁₂₄ + 4.73e-19 𝐞₁₃₄ + 1.96e-17 𝐞₂₃₄,\n",
       " 0.641 𝐞₁ + -0.558 𝐞₂ + -0.836 𝐞₃ + 0.19 𝐞₄)"
      ]
     },
     "execution_count": 115,
     "metadata": {},
     "output_type": "execute_result"
    }
   ],
   "source": [
    "#5.25 I selected an example with -1 as an eigenvalue, \n",
    "# so we need an extra fix for the canonical form.\n",
    "theta = reduce(alg.gp, eig_rotors[::2])\n",
    "\n",
    "ortho(x), theta.reverse().sw(x) - (2*sum(P(x, neg_eig_pairs[i][1]) for i in range(len(neg_eig_pairs))))"
   ]
  },
  {
   "cell_type": "code",
   "execution_count": null,
   "metadata": {},
   "outputs": [],
   "source": []
  },
  {
   "cell_type": "code",
   "execution_count": null,
   "metadata": {},
   "outputs": [],
   "source": []
  }
 ],
 "metadata": {
  "kernelspec": {
   "display_name": "Python 3",
   "language": "python",
   "name": "python3"
  },
  "language_info": {
   "codemirror_mode": {
    "name": "ipython",
    "version": 3
   },
   "file_extension": ".py",
   "mimetype": "text/x-python",
   "name": "python",
   "nbconvert_exporter": "python",
   "pygments_lexer": "ipython3",
   "version": "3.10.5"
  }
 },
 "nbformat": 4,
 "nbformat_minor": 2
}
