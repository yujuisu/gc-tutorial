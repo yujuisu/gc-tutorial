{
 "cells": [
  {
   "cell_type": "markdown",
   "metadata": {},
   "source": [
    "### Linear and Multilinear Functions"
   ]
  },
  {
   "cell_type": "code",
   "execution_count": 4,
   "metadata": {},
   "outputs": [],
   "source": [
    "from kingdon import Algebra\n",
    "from gc_utils import *\n",
    "import numpy as np\n",
    "# use vanilla algebra, so we're not bother by the sign of I*I.reverse()\n",
    "alg = Algebra(4) \n",
    "locals().update(alg.blades)"
   ]
  },
  {
   "cell_type": "code",
   "execution_count": 5,
   "metadata": {},
   "outputs": [
    {
     "data": {
      "text/plain": [
       "(1.03 𝐞₁ + 4.79 𝐞₂ + 4.83 𝐞₃ + -2.36 𝐞₄,\n",
       " 1.03 𝐞₁ + 4.79 𝐞₂ + 4.83 𝐞₃ + -2.36 𝐞₄)"
      ]
     },
     "execution_count": 5,
     "metadata": {},
     "output_type": "execute_result"
    }
   ],
   "source": [
    "#1.1 linear transformation\n",
    "A = create_random_multivector(alg)\n",
    "B = create_random_multivector(alg)\n",
    "C = create_random_multivector(alg)\n",
    "D = create_random_multivector(alg)\n",
    "x = create_random_multivector(alg).grade(1)\n",
    "a = create_random_multivector(alg).grade(1)\n",
    "f = lambda x: (A*x*B+C*x*D).grade(1)\n",
    "differential(f, x, a), f(a)"
   ]
  },
  {
   "cell_type": "code",
   "execution_count": 6,
   "metadata": {},
   "outputs": [
    {
     "data": {
      "text/plain": [
       "(3.24 𝐞₁ + 0.324 𝐞₂ + -14.4 𝐞₃ + 0.134 𝐞₄,\n",
       " 3.24 𝐞₁ + 0.324 𝐞₂ + -14.4 𝐞₃ + 0.134 𝐞₄)"
      ]
     },
     "execution_count": 6,
     "metadata": {},
     "output_type": "execute_result"
    }
   ],
   "source": [
    "#1.2\n",
    "g = lambda x: (C*x*D).grade(1)\n",
    "g(f(a)), differential(g, f(a), f(a))"
   ]
  },
  {
   "cell_type": "code",
   "execution_count": 7,
   "metadata": {},
   "outputs": [],
   "source": [
    "# modify the input of the original skew_symmetrizer: a multivector Ar instead of vectors\n",
    "def skew_symmetrizer(F, Ar, alg, h=1e-6, frame=None, r_frame=None):\n",
    "    if not frame:\n",
    "        frame = alg.frame\n",
    "        r_frame = reciprocal(alg.frame)\n",
    "    drF = 0\n",
    "    r = Ar.grades[0]\n",
    "    for base_vectors, reci_vectors in zip(permutations(frame, r), permutations(r_frame, r)):\n",
    "        # if F is linear, vectors cause no difference in vectors_partial. The input is just Ar.\n",
    "        # So actually we allow Ar being any multivector\n",
    "        drF += (Ar.sp(wedge(base_vectors[::-1]))) * vectors_partial(F, np.zeros(r), reci_vectors, h=h)\n",
    "    return (1/factorial(r)) * drF"
   ]
  },
  {
   "cell_type": "code",
   "execution_count": 8,
   "metadata": {},
   "outputs": [
    {
     "data": {
      "text/plain": [
       "(2.18 𝐞₁ + 2.33 𝐞₂ + 4.44 𝐞₃ + -1.54 𝐞₄,\n",
       " 2.18 𝐞₁ + 2.33 𝐞₂ + 4.44 𝐞₃ + -1.54 𝐞₄)"
      ]
     },
     "execution_count": 8,
     "metadata": {},
     "output_type": "execute_result"
    }
   ],
   "source": [
    "#1.4 Extend a vector function to a multivector function.\n",
    "# For linear f we ignore the position where f is measured, \n",
    "# just the differential at each direction.\n",
    "def outermorphism(f, A: MultiVector, alg, h=1e-6, frame=None, r_frame=None):\n",
    "    wf = lambda vectors: wedge([f(v) for v in vectors])\n",
    "    outer = 0\n",
    "    for r in A.grades:\n",
    "        if r == 0:\n",
    "           outer += A.grade(0)\n",
    "           continue\n",
    "        outer += skew_symmetrizer(wf, A.grade(r), alg, h, frame, r_frame)\n",
    "    return outer\n",
    "\n",
    "outermorphism(f, x, alg), f(x)"
   ]
  },
  {
   "cell_type": "code",
   "execution_count": 9,
   "metadata": {},
   "outputs": [
    {
     "data": {
      "text/plain": [
       "(0.163 + -1.47 𝐞₁ + 0.904 𝐞₂ + 3.0 𝐞₃ + -3.11 𝐞₄ + 1.05 𝐞₁₂ + -13.8 𝐞₁₃ + 13.0 𝐞₁₄ + 10.6 𝐞₂₃ + -10.2 𝐞₂₄ + 2.74 𝐞₃₄,\n",
       " 0.163 + -1.47 𝐞₁ + 0.904 𝐞₂ + 3.0 𝐞₃ + -3.11 𝐞₄ + 1.05 𝐞₁₂ + -13.8 𝐞₁₃ + 13.0 𝐞₁₄ + 10.6 𝐞₂₃ + -10.2 𝐞₂₄ + 2.74 𝐞₃₄)"
      ]
     },
     "execution_count": 9,
     "metadata": {},
     "output_type": "execute_result"
    }
   ],
   "source": [
    "#1.6 A frame can be arbitrary as long as it represent the same space. \n",
    "# It's pretty handy to specify a domain.\n",
    "h = 1e-2\n",
    "A2 = e12\n",
    "A2frame = [e1, e2]\n",
    "A2r_frame = reciprocal(A2frame)\n",
    "\n",
    "outermorphism(f, P(A, A2), alg, h, frame=A2frame, r_frame=A2r_frame), outermorphism(f, A, alg, h, frame=A2frame, r_frame=A2r_frame)"
   ]
  },
  {
   "cell_type": "code",
   "execution_count": 10,
   "metadata": {},
   "outputs": [
    {
     "data": {
      "text/plain": [
       "(16.0 𝐞₁₂₃ + -9.3 𝐞₁₂₄ + -1.91 𝐞₁₃₄ + 4.94 𝐞₂₃₄,\n",
       " 16.0 𝐞₁₂₃ + -9.3 𝐞₁₂₄ + -1.91 𝐞₁₃₄ + 4.94 𝐞₂₃₄)"
      ]
     },
     "execution_count": 10,
     "metadata": {},
     "output_type": "execute_result"
    }
   ],
   "source": [
    "#1.7 An outermorphism preserves outer products\n",
    "vectors = create_r_vectors(3, alg)\n",
    "outermorphism(f, wedge(vectors), alg), wedge([f(v) for v in vectors])"
   ]
  },
  {
   "cell_type": "code",
   "execution_count": 11,
   "metadata": {},
   "outputs": [
    {
     "data": {
      "text/plain": [
       "(0.793 + 0.839 𝐞₁ + 7.59 𝐞₂ + 1.41 𝐞₃ + 0.515 𝐞₄ + -7.88 𝐞₁₂ + 0.00175 𝐞₁₃ + 0.0855 𝐞₁₄ + -14.9 𝐞₂₃ + 20.4 𝐞₂₄ + 1.4 𝐞₃₄ + 1.91e+02 𝐞₁₂₃ + -1.21e+02 𝐞₁₂₄ + -17.3 𝐞₁₃₄ + 27.8 𝐞₂₃₄ + 66.4 𝐞₁₂₃₄,\n",
       " 0.793 + 0.839 𝐞₁ + 7.59 𝐞₂ + 1.41 𝐞₃ + 0.515 𝐞₄ + -7.88 𝐞₁₂ + 0.00175 𝐞₁₃ + 0.0855 𝐞₁₄ + -14.9 𝐞₂₃ + 20.4 𝐞₂₄ + 1.4 𝐞₃₄ + 1.91e+02 𝐞₁₂₃ + -1.21e+02 𝐞₁₂₄ + -17.3 𝐞₁₃₄ + 27.8 𝐞₂₃₄ + 66.4 𝐞₁₂₃₄)"
      ]
     },
     "execution_count": 11,
     "metadata": {},
     "output_type": "execute_result"
    }
   ],
   "source": [
    "# By 1.7, splitting A into simple blades, we get an easier implement of 1.4\n",
    "# Here, the value at v replaces the slope at direction v by linearity\n",
    "def outermorphism_(f, A: MultiVector, alg):\n",
    "    outer = A.grade(0)\n",
    "    for vectors in multi_frame_vectors(alg.frame):\n",
    "        Vr = wedge(reciprocal(vectors)[::-1])\n",
    "        outer += alg.sp(Vr,A) * wedge([f(v) for v in vectors]) # frame split of A\n",
    "    return outer\n",
    "\n",
    "outermorphism_(f, D, alg), outermorphism(f, D, alg)"
   ]
  },
  {
   "cell_type": "code",
   "execution_count": 12,
   "metadata": {},
   "outputs": [
    {
     "data": {
      "text/plain": [
       "(0.163 + -1.31 𝐞₁ + 7.45 𝐞₂ + 4.21 𝐞₃ + -2.64 𝐞₄ + -23.8 𝐞₁₂ + 5.41 𝐞₁₃ + -12.8 𝐞₁₄ + 0.46 𝐞₂₃ + 4.75 𝐞₂₄ + -4.6 𝐞₃₄ + -1.32e+02 𝐞₁₂₃ + 99.1 𝐞₁₂₄ + 36.3 𝐞₁₃₄ + -19.4 𝐞₂₃₄ + 1.42e+02 𝐞₁₂₃₄,\n",
       " 0.163 + -1.31 𝐞₁ + 7.45 𝐞₂ + 4.21 𝐞₃ + -2.64 𝐞₄ + -23.8 𝐞₁₂ + 5.41 𝐞₁₃ + -12.8 𝐞₁₄ + 0.46 𝐞₂₃ + 4.75 𝐞₂₄ + -4.6 𝐞₃₄ + -1.32e+02 𝐞₁₂₃ + 99.1 𝐞₁₂₄ + 36.3 𝐞₁₃₄ + -19.4 𝐞₂₃₄ + 1.42e+02 𝐞₁₂₃₄)"
      ]
     },
     "execution_count": 12,
     "metadata": {},
     "output_type": "execute_result"
    }
   ],
   "source": [
    "#1.9 anoter outer product property\n",
    "outermorphism(f, A.reverse(), alg), outermorphism(f, A, alg).reverse()"
   ]
  },
  {
   "cell_type": "code",
   "execution_count": 13,
   "metadata": {},
   "outputs": [
    {
     "data": {
      "text/plain": [
       "(0.163 + -1.31 𝐞₁ + 7.45 𝐞₂ + 23.8 𝐞₁₂, 0.163 + -1.31 𝐞₁ + 7.45 𝐞₂ + 23.8 𝐞₁₂)"
      ]
     },
     "execution_count": 13,
     "metadata": {},
     "output_type": "execute_result"
    }
   ],
   "source": [
    "#1.10\n",
    "fA2 = lambda x: P(f(x), A2)\n",
    "outermorphism(fA2, A, alg), P(outermorphism(fA2, A, alg), A2)"
   ]
  },
  {
   "cell_type": "code",
   "execution_count": 14,
   "metadata": {},
   "outputs": [],
   "source": [
    "#1.11\n",
    "def adjoint_outermorphism(f, A, alg, h=1e-6, frame=None, r_frame=None):\n",
    "    F = lambda vectors: wedge([f(v) for v in vectors]).sp(A)\n",
    "    outer = 0\n",
    "    for r in A.grades:\n",
    "        if r == 0:\n",
    "           outer += A.grade(0)\n",
    "           continue\n",
    "        # Why np.zeros(r)? The derivative of a linear function is constant\n",
    "        outer += simplicial_derivative(F, np.zeros(r), alg, h, frame, r_frame)\n",
    "    return outer"
   ]
  },
  {
   "cell_type": "code",
   "execution_count": 15,
   "metadata": {},
   "outputs": [
    {
     "data": {
      "text/plain": [
       "(0.163 + -1.97 𝐞₁ + 2.14 𝐞₂ + 2.33 𝐞₃ + 1.49 𝐞₄ + 1.05 𝐞₁₂ + -15.9 𝐞₁₃ + -15.2 𝐞₁₄ + 18.5 𝐞₂₃ + 17.3 𝐞₂₄ + 5.97 𝐞₃₄,\n",
       " 0.163 + -1.97 𝐞₁ + 2.14 𝐞₂ + 2.33 𝐞₃ + 1.49 𝐞₄ + 1.05 𝐞₁₂ + -15.9 𝐞₁₃ + -15.2 𝐞₁₄ + 18.5 𝐞₂₃ + 17.3 𝐞₂₄ + 5.97 𝐞₃₄)"
      ]
     },
     "execution_count": 15,
     "metadata": {},
     "output_type": "execute_result"
    }
   ],
   "source": [
    "#1.12\n",
    "adjoint_outermorphism(fA2, P(A, A2), alg), adjoint_outermorphism(fA2, A, alg)"
   ]
  },
  {
   "cell_type": "code",
   "execution_count": 16,
   "metadata": {},
   "outputs": [
    {
     "data": {
      "text/plain": [
       "(0.12 + -1.36 𝐞₁ + 1.79 𝐞₂ + 1.94 𝐞₃ + 3.55 𝐞₄ + -3.57 𝐞₁₂ + -17.7 𝐞₁₃ + -23.7 𝐞₁₄ + 21.9 𝐞₂₃ + 30.2 𝐞₂₄ + 11.9 𝐞₃₄ + 45.8 𝐞₁₂₃ + 52.1 𝐞₁₂₄ + -1.42e+02 𝐞₁₃₄ + 1.31e+02 𝐞₂₃₄ + 2.29e+02 𝐞₁₂₃₄,\n",
       " 0.12 + -1.36 𝐞₁ + 1.79 𝐞₂ + 1.94 𝐞₃ + 3.55 𝐞₄ + -3.57 𝐞₁₂ + -17.7 𝐞₁₃ + -23.7 𝐞₁₄ + 21.9 𝐞₂₃ + 30.2 𝐞₂₄ + 11.9 𝐞₃₄ + 45.8 𝐞₁₂₃ + 52.1 𝐞₁₂₄ + -1.42e+02 𝐞₁₃₄ + 1.31e+02 𝐞₂₃₄ + 2.29e+02 𝐞₁₂₃₄)"
      ]
     },
     "execution_count": 16,
     "metadata": {},
     "output_type": "execute_result"
    }
   ],
   "source": [
    "#1.13\n",
    "# Exercise: implement the adjoint outermorphism by spliting A into vectors.\n",
    "adjoint_outermorphism(f, A^B, alg), adjoint_outermorphism(f, A, alg) ^ adjoint_outermorphism(f, B, alg)"
   ]
  },
  {
   "cell_type": "code",
   "execution_count": 17,
   "metadata": {},
   "outputs": [
    {
     "data": {
      "text/plain": [
       "(26.5 𝐞₁ + -10.3 𝐞₂ + 23.9 𝐞₃ + 6.62 𝐞₄,\n",
       " 2.9 𝐞₁ + 5.63 𝐞₂ + -8.88 𝐞₃ + -14.6 𝐞₄,\n",
       " 26.5 𝐞₁ + -10.3 𝐞₂ + 23.9 𝐞₃ + 6.62 𝐞₄)"
      ]
     },
     "execution_count": 17,
     "metadata": {},
     "output_type": "execute_result"
    }
   ],
   "source": [
    "#1.14a r <= s\n",
    "r, s = 2, 3\n",
    "Ar = A.grade(r)\n",
    "Bs = B.grade(s)\n",
    "(\n",
    "    Ar | adjoint_outermorphism(f, Bs, alg),\n",
    "    outermorphism(f, Ar, alg) | Bs,\n",
    "    adjoint_outermorphism(f, outermorphism(f, Ar, alg) | Bs, alg),\n",
    ")"
   ]
  },
  {
   "cell_type": "code",
   "execution_count": 18,
   "metadata": {},
   "outputs": [
    {
     "data": {
      "text/plain": [
       "(-40.6 𝐞₁ + -9.84 𝐞₂ + -53.6 𝐞₃ + 31.6 𝐞₄,\n",
       " -8.11 𝐞₁ + -18.1 𝐞₂ + -4.19 𝐞₃ + -4.51 𝐞₄,\n",
       " -40.6 𝐞₁ + -9.84 𝐞₂ + -53.6 𝐞₃ + 31.6 𝐞₄)"
      ]
     },
     "execution_count": 18,
     "metadata": {},
     "output_type": "execute_result"
    }
   ],
   "source": [
    "#1.14b r >= s\n",
    "r, s = 3, 2\n",
    "Ar = A.grade(r)\n",
    "Bs = B.grade(s)\n",
    "(\n",
    "    outermorphism(f, Ar | adjoint_outermorphism(f, Bs, alg), alg),\n",
    "    Ar | adjoint_outermorphism(f, Bs, alg),\n",
    "    outermorphism(f, Ar, alg) | Bs,\n",
    ")"
   ]
  },
  {
   "cell_type": "code",
   "execution_count": 19,
   "metadata": {},
   "outputs": [
    {
     "name": "stdout",
     "output_type": "stream",
     "text": [
      "7.62 7.62\n",
      "-12.9 -12.9\n",
      "11.4 11.4\n"
     ]
    }
   ],
   "source": [
    "#1.15 r = s\n",
    "for r,s in [(1,1), (2,2), (3,3)]:\n",
    "    Ar = A.grade(r)\n",
    "    Bs = B.grade(s)\n",
    "    print(\n",
    "        Ar | adjoint_outermorphism(f, Bs, alg),\n",
    "        outermorphism(f, Ar, alg) | Bs,\n",
    "    )"
   ]
  },
  {
   "cell_type": "code",
   "execution_count": 20,
   "metadata": {},
   "outputs": [
    {
     "data": {
      "text/plain": [
       "(26.5 𝐞₁ + -10.3 𝐞₂ + 23.9 𝐞₃ + 6.62 𝐞₄,\n",
       " 26.5 𝐞₁ + -10.3 𝐞₂ + 23.9 𝐞₃ + 6.62 𝐞₄)"
      ]
     },
     "execution_count": 20,
     "metadata": {},
     "output_type": "execute_result"
    }
   ],
   "source": [
    "# proof of 1.14a\n",
    "r, s = 2, 3\n",
    "Ar = A.grade(r)\n",
    "Bs = B.grade(s)\n",
    "frame = alg.frame\n",
    "r_frame = reciprocal(alg.frame)\n",
    "rhs = 0\n",
    "r = Ar.grades[0]\n",
    "F = lambda vectors: wedge([f(v) for v in vectors]) \n",
    "for base_vectors, reci_vectors in zip(permutations(frame, s), permutations(r_frame, s)):\n",
    "    rhs += (Ar | (wedge(base_vectors[::-1]))) * (vectors_partial(F, np.zeros(s), reci_vectors, h=h) | Bs)\n",
    "(\n",
    "    Ar | adjoint_outermorphism(f, Bs, alg),\n",
    "    rhs / factorial(s)\n",
    ")"
   ]
  },
  {
   "cell_type": "code",
   "execution_count": 21,
   "metadata": {},
   "outputs": [
    {
     "data": {
      "text/plain": [
       "(, 2.51e+02 𝐞₁₂₃₄, 2.51e+02 𝐞₁₂₃₄)"
      ]
     },
     "execution_count": 21,
     "metadata": {},
     "output_type": "execute_result"
    }
   ],
   "source": [
    "# singular, nonsingular functions\n",
    "I = alg.pseudoscalar((1,))\n",
    "# fA2 is singular\n",
    "outermorphism(fA2, I, alg), outermorphism(f, I, alg), adjoint_outermorphism(f, I, alg)"
   ]
  },
  {
   "cell_type": "code",
   "execution_count": 22,
   "metadata": {},
   "outputs": [
    {
     "data": {
      "text/plain": [
       "(2.51e+02, 2.51e+02, 2.51e+02)"
      ]
     },
     "execution_count": 22,
     "metadata": {},
     "output_type": "execute_result"
    }
   ],
   "source": [
    "#1.16 Use inverse instead of reverse for negative signatures. case I = Ip\n",
    "n = 4\n",
    "Ir = I.inv()\n",
    "F = lambda vectors: wedge([f(v) for v in vectors])\n",
    "(\n",
    "    simplicial_derivative(F, alg.frame, alg, h=1e-2), \n",
    "    Ir * outermorphism(f, I, alg), \n",
    "    adjoint_outermorphism(f, I, alg) * Ir\n",
    ")"
   ]
  },
  {
   "cell_type": "code",
   "execution_count": 23,
   "metadata": {},
   "outputs": [
    {
     "data": {
      "text/plain": [
       "(-2.87 𝐞₁₃, -2.87 𝐞₁₃, -2.87 𝐞₁₃)"
      ]
     },
     "execution_count": 23,
     "metadata": {},
     "output_type": "execute_result"
    }
   ],
   "source": [
    "#1.16 case I != Ip\n",
    "n = 2\n",
    "I = e12\n",
    "Ip = e23\n",
    "Ir = I.inv()\n",
    "Ipr = Ip.inv()\n",
    "h = 1e-2\n",
    "# a function from I to Ip\n",
    "g = lambda x: P((A*P(x, I)*B).grade(1), Ip)\n",
    "F = lambda vectors: wedge([g(v) for v in vectors])\n",
    "(\n",
    "    simplicial_derivative(F, alg.frame[:2], alg, h),\n",
    "    Ir * outermorphism(g, I, alg, h),\n",
    "    adjoint_outermorphism(g, Ip, alg, h) * Ipr\n",
    ")"
   ]
  },
  {
   "cell_type": "code",
   "execution_count": 24,
   "metadata": {},
   "outputs": [
    {
     "data": {
      "text/plain": [
       "(2.87 𝐞₂₃, 1 𝐞₂₃)"
      ]
     },
     "execution_count": 24,
     "metadata": {},
     "output_type": "execute_result"
    }
   ],
   "source": [
    "#1.17a\n",
    "outermorphism(g, I, alg, h), Ip"
   ]
  },
  {
   "cell_type": "code",
   "execution_count": 25,
   "metadata": {},
   "outputs": [
    {
     "data": {
      "text/plain": [
       "(2.87 𝐞₁₂, 1 𝐞₁₂)"
      ]
     },
     "execution_count": 25,
     "metadata": {},
     "output_type": "execute_result"
    }
   ],
   "source": [
    "#1.17b Need extra minus sign for negative signature. You can try Algebra(3,1).\n",
    "adjoint_outermorphism(g, Ip, alg, h), I"
   ]
  },
  {
   "cell_type": "code",
   "execution_count": 26,
   "metadata": {},
   "outputs": [
    {
     "data": {
      "text/plain": [
       "2.874148196910696"
      ]
     },
     "execution_count": 26,
     "metadata": {},
     "output_type": "execute_result"
    }
   ],
   "source": [
    "# The relative orientation between I and I' can be arbitrary.\n",
    "# Here we let the parent algebra determine the orientation.\n",
    "def det(f, I, Ip):\n",
    "    return (outermorphism(f, I, alg)/Ip)[0]\n",
    "\n",
    "det(g, I, Ip)"
   ]
  },
  {
   "cell_type": "code",
   "execution_count": 27,
   "metadata": {},
   "outputs": [
    {
     "data": {
      "text/plain": [
       "(0.345 + 0.325 𝐞₁ + 0.197 𝐞₂ + 0.224 𝐞₁₂,\n",
       " 0.345 + 0.325 𝐞₁ + 0.197 𝐞₂ + 0.299 𝐞₃ + 0.818 𝐞₄ + 0.224 𝐞₁₂ + 0.669 𝐞₁₃ + 0.885 𝐞₁₄ + 0.858 𝐞₂₃ + 0.641 𝐞₂₄ + 0.576 𝐞₃₄ + 0.829 𝐞₁₂₃ + 0.156 𝐞₁₂₄ + 0.349 𝐞₁₃₄ + 0.867 𝐞₂₃₄ + 0.909 𝐞₁₂₃₄)"
      ]
     },
     "execution_count": 27,
     "metadata": {},
     "output_type": "execute_result"
    }
   ],
   "source": [
    "#1.21a null part goes null\n",
    "C = create_random_multivector(alg)\n",
    "C_ = outermorphism(g, C, alg)\n",
    "(1/det(g, I, Ip)) * adjoint_outermorphism(g, C_*Ip, alg) * Ir, C"
   ]
  },
  {
   "cell_type": "code",
   "execution_count": 28,
   "metadata": {},
   "outputs": [
    {
     "data": {
      "text/plain": [
       "(0.118 + 0.371 𝐞₂ + 0.45 𝐞₃ + 0.562 𝐞₂₃,\n",
       " 0.118 + 0.89 𝐞₁ + 0.371 𝐞₂ + 0.45 𝐞₃ + 0.868 𝐞₄ + 0.195 𝐞₁₂ + 0.768 𝐞₁₃ + 0.621 𝐞₁₄ + 0.562 𝐞₂₃ + 0.167 𝐞₂₄ + 0.207 𝐞₃₄ + 0.371 𝐞₁₂₃ + 0.381 𝐞₁₂₄ + 0.111 𝐞₁₃₄ + 0.994 𝐞₂₃₄ + 0.401 𝐞₁₂₃₄)"
      ]
     },
     "execution_count": 28,
     "metadata": {},
     "output_type": "execute_result"
    }
   ],
   "source": [
    "#1.21b null part goes null\n",
    "C_ = create_random_multivector(alg)\n",
    "C = adjoint_outermorphism(g, C_, alg)\n",
    "(1/det(g, I, Ip)) * outermorphism(g, C*I, alg) * Ipr, C_"
   ]
  },
  {
   "cell_type": "code",
   "execution_count": 29,
   "metadata": {},
   "outputs": [
    {
     "data": {
      "text/plain": [
       "(-2.71 𝐞₁₂₃ + -0.429 𝐞₁₂₄ + -1.29 𝐞₁₃₄ + 2.09 𝐞₂₃₄,\n",
       " -2.71 𝐞₁₂₃ + -0.429 𝐞₁₂₄ + -1.29 𝐞₁₃₄ + 2.09 𝐞₂₃₄,\n",
       " 63.3 + 0.142 𝐞₁₂ + -42.9 𝐞₁₃ + -46.9 𝐞₁₄ + -3.13 𝐞₂₃ + -19.7 𝐞₂₄ + -71.5 𝐞₃₄,\n",
       " 63.3 + 0.142 𝐞₁₂ + -42.9 𝐞₁₃ + -46.9 𝐞₁₄ + -3.13 𝐞₂₃ + -19.7 𝐞₂₄ + -71.5 𝐞₃₄)"
      ]
     },
     "execution_count": 29,
     "metadata": {},
     "output_type": "execute_result"
    }
   ],
   "source": [
    "#2.1 Note that characteristic multivectors are of even grades\n",
    "r = 3  # try several r\n",
    "h = 1e-2\n",
    "vectors = create_r_vectors(r, alg)\n",
    "F = lambda vectors: wedge([f(v) for v in vectors])\n",
    "(\n",
    "    F(vectors),\n",
    "    outermorphism(f, wedge(vectors), alg, h),\n",
    "    simplicial_derivative(F, vectors, alg, h), # characteristic multivectors\n",
    "    derivative(lambda A: outermorphism(f, A, alg, h), wedge(vectors), alg, h, r),\n",
    ")\n"
   ]
  },
  {
   "cell_type": "code",
   "execution_count": 30,
   "metadata": {},
   "outputs": [
    {
     "data": {
      "text/plain": [
       "(-4.34 + -4.4 𝐞₁₂ + 1.71 𝐞₁₃ + -0.754 𝐞₁₄ + -1.73 𝐞₂₃ + -3.86 𝐞₂₄ + -2.12 𝐞₃₄,\n",
       " -4.34 + -7.53 𝐞₁ + 0.225 𝐞₂ + 1.86 𝐞₃ + 2.47 𝐞₄ + 2.13 𝐞₁₂ + 3.88 𝐞₁₃ + 2.63 𝐞₁₄ + 0.552 𝐞₂₃ + -3.16 𝐞₂₄ + 0.315 𝐞₃₄ + 1.36 𝐞₁₂₃ + -0.177 𝐞₁₂₄ + 0.181 𝐞₁₃₄ + 2.03 𝐞₂₃₄ + 1.5 𝐞₁₂₃₄)"
      ]
     },
     "execution_count": 30,
     "metadata": {},
     "output_type": "execute_result"
    }
   ],
   "source": [
    "#2.2\n",
    "frame = create_r_vectors(len(alg.signature), alg)\n",
    "r_frame = reciprocal(frame)\n",
    "images = [f(v) for v in frame]\n",
    "(\n",
    "    sum(vr * b for b, vr in zip(images, r_frame)),\n",
    "    derivative(f, x, alg)\n",
    ")"
   ]
  },
  {
   "cell_type": "code",
   "execution_count": 31,
   "metadata": {},
   "outputs": [
    {
     "data": {
      "text/plain": [
       "([3.47 𝐞₁ + 5.5 𝐞₂ + 4.2 𝐞₃ + -0.722 𝐞₄,\n",
       "  2.39 𝐞₁ + 6.23 𝐞₂ + 5.69 𝐞₃ + -1.5 𝐞₄,\n",
       "  2.31 𝐞₁ + 3.29 𝐞₂ + 4.57 𝐞₃ + -1.19 𝐞₄,\n",
       "  1.88 𝐞₁ + 4.87 𝐞₂ + 1.8 𝐞₃ + -0.277 𝐞₄],\n",
       " [3.47 𝐞₁ + 5.5 𝐞₂ + 4.2 𝐞₃ + -0.722 𝐞₄,\n",
       "  2.39 𝐞₁ + 6.23 𝐞₂ + 5.69 𝐞₃ + -1.5 𝐞₄,\n",
       "  2.31 𝐞₁ + 3.29 𝐞₂ + 4.57 𝐞₃ + -1.19 𝐞₄,\n",
       "  1.88 𝐞₁ + 4.87 𝐞₂ + 1.8 𝐞₃ + -0.277 𝐞₄])"
      ]
     },
     "execution_count": 31,
     "metadata": {},
     "output_type": "execute_result"
    }
   ],
   "source": [
    "#2.2 comes from linearity\n",
    "images, [differential(f, a, v) for v in frame]"
   ]
  },
  {
   "cell_type": "code",
   "execution_count": 32,
   "metadata": {},
   "outputs": [
    {
     "data": {
      "text/plain": [
       "(-4.34, -4.34, -4.34)"
      ]
     },
     "execution_count": 32,
     "metadata": {},
     "output_type": "execute_result"
    }
   ],
   "source": [
    "#2.3 trace\n",
    "def trace(f, alg):\n",
    "    return sum(vr.sp(f(v)) for v, vr in zip(alg.frame, reciprocal(alg.frame)))\n",
    "def divergence(f, alg):\n",
    "    return sum(vr | f(v) for v, vr in zip(alg.frame, reciprocal(alg.frame)))\n",
    "(\n",
    "    derivative(f, e1, alg).grade(0),\n",
    "    trace(f, alg),\n",
    "    divergence(f, alg)\n",
    ")"
   ]
  },
  {
   "cell_type": "code",
   "execution_count": 33,
   "metadata": {},
   "outputs": [
    {
     "data": {
      "text/plain": [
       "(-7.94 + 4.32 𝐞₁₂ + 18.3 𝐞₁₃ + 19.5 𝐞₁₄ + -2.4 𝐞₂₃ + 22.9 𝐞₂₄ + 14.8 𝐞₃₄ + 17.2 𝐞₁₂₃₄,\n",
       " -7.94 + 4.32 𝐞₁₂ + 18.3 𝐞₁₃ + 19.5 𝐞₁₄ + -2.4 𝐞₂₃ + 22.9 𝐞₂₄ + 14.8 𝐞₃₄ + 17.2 𝐞₁₂₃₄)"
      ]
     },
     "execution_count": 33,
     "metadata": {},
     "output_type": "execute_result"
    }
   ],
   "source": [
    "#2.4\n",
    "r = 2\n",
    "h = 1e-2\n",
    "F = lambda vectors: wedge([f(v) for v in vectors])\n",
    "def char_multi_linear(f, r, alg: Algebra, frame=None, r_frame=None):\n",
    "    if not frame:\n",
    "        frame = alg.frame\n",
    "        r_frame = reciprocal(frame)\n",
    "    r_vec_frame = r_vector_frame_vectors(frame, r)\n",
    "    r_reci_frame = r_vector_frame_vectors(r_frame, r, reverse=True)\n",
    "    sdf = 0\n",
    "    for vectors, r_vectors in zip(r_vec_frame, r_reci_frame):\n",
    "        sdf += wedge(r_vectors[::-1]) * wedge([f(v) for v in vectors])\n",
    "    return sdf\n",
    "\n",
    "(\n",
    "    char_multi_linear(f, r, alg),\n",
    "    simplicial_derivative(F, np.zeros(r), alg, h)\n",
    ")"
   ]
  },
  {
   "cell_type": "code",
   "execution_count": 34,
   "metadata": {},
   "outputs": [
    {
     "data": {
      "text/plain": [
       "(-41.25393895119303, -41.253938951193014, -41.25393895119305)"
      ]
     },
     "execution_count": 34,
     "metadata": {},
     "output_type": "execute_result"
    }
   ],
   "source": [
    "#2.6 when full rank, only scalar remains\n",
    "def trans2matrix(f, alg):\n",
    "    values = [f(a) for a in alg.frame]\n",
    "    return np.array([[ar.sp(v)[0] for v in values] for ar in reciprocal(alg.frame)])\n",
    "matrix = trans2matrix(f, alg)\n",
    "I = alg.pseudoscalar((1,))\n",
    "char_multi_linear(f, 4, alg)[0], np.linalg.det(matrix), det(f, I, I)"
   ]
  },
  {
   "cell_type": "code",
   "execution_count": 35,
   "metadata": {},
   "outputs": [
    {
     "data": {
      "text/plain": [
       "(1.63e+02 + -0.356 𝐞₁₂ + -70.3 𝐞₁₃ + -1.15e+02 𝐞₁₄ + -3.24 𝐞₂₃ + -49.5 𝐞₂₄ + -1.61e+02 𝐞₃₄,\n",
       " 1.63e+02 + -0.356 𝐞₁₂ + -70.3 𝐞₁₃ + -1.15e+02 𝐞₁₄ + -3.24 𝐞₂₃ + -49.5 𝐞₂₄ + -1.61e+02 𝐞₃₄)"
      ]
     },
     "execution_count": 35,
     "metadata": {},
     "output_type": "execute_result"
    }
   ],
   "source": [
    "#2.7 sum\n",
    "r = 3\n",
    "h = lambda x: f(x)+g(x)\n",
    "\n",
    "# Sometimes I use a random frame to check frame independence\n",
    "frame = create_r_vectors(len(alg.signature), alg)\n",
    "r_frame = reciprocal(frame)\n",
    "drF = 0\n",
    "coef = [1/(factorial(r-s)*factorial(s)) for s in range(r+1)]\n",
    "for base_vectors, reci_vectors in zip(permutations(frame, r), permutations(r_frame, r)):\n",
    "    gh = 0\n",
    "    for s in range(r+1):\n",
    "        gh += coef[s]*wedge([f(v) for v in reci_vectors[:s]]) ^ wedge([g(v) for v in reci_vectors[s:]])\n",
    "    drF += wedge(base_vectors[::-1]) * gh\n",
    "char_multi_linear(h, r, alg), drF"
   ]
  },
  {
   "cell_type": "code",
   "execution_count": 36,
   "metadata": {},
   "outputs": [
    {
     "data": {
      "text/plain": [
       "(-62.1, -62.05607735165229)"
      ]
     },
     "execution_count": 36,
     "metadata": {},
     "output_type": "execute_result"
    }
   ],
   "source": [
    "#2.8 characteristic polynomial\n",
    "def char_scalar(f, r, alg: Algebra, frame=None, r_frame=None):\n",
    "    if not frame:\n",
    "        frame = alg.frame\n",
    "        r_frame = reciprocal(frame)\n",
    "    r_vec_frame = r_vector_frame_vectors(frame, r)\n",
    "    r_reci_frame = r_vector_frame_vectors(r_frame, r, reverse=True)\n",
    "    sdf = 0\n",
    "    for vectors, r_vectors in zip(r_vec_frame, r_reci_frame):\n",
    "        sdf += alg.sp(wedge(r_vectors[::-1]), wedge([f(v) for v in vectors]))[0]\n",
    "    return sdf\n",
    "\n",
    "# This calculates n characteristic multivectors. \n",
    "# But drops the nonscalar information\n",
    "def char_poly_coefs(f, alg, frame=None, r_frame=None):\n",
    "    n = alg.d\n",
    "    if frame:\n",
    "        n = len(frame)\n",
    "    return [(-1)**(n-s) * char_scalar(f, s, alg, frame, r_frame) for s in range(n+1)]\n",
    "\n",
    "def polynomial(l, coefs):\n",
    "    return sum(l ** i * coef for i, coef in enumerate(coefs[::-1]))\n",
    "\n",
    "l = 3.3\n",
    "n = 4\n",
    "(\n",
    "    char_multi_linear(lambda x: f(x) - l*x, n, alg), \n",
    "    polynomial(l, char_poly_coefs(f, alg))\n",
    ")"
   ]
  },
  {
   "cell_type": "code",
   "execution_count": 37,
   "metadata": {},
   "outputs": [
    {
     "data": {
      "text/plain": [
       "(50.9 𝐞₁ + 33.6 𝐞₂ + 46.3 𝐞₃ + -0.475 𝐞₄,\n",
       " 50.9 𝐞₁ + 33.6 𝐞₂ + 46.3 𝐞₃ + -0.475 𝐞₄,\n",
       " 0.187 𝐞₁ + 0.86 𝐞₂ + 0.0579 𝐞₃ + 0.769 𝐞₄,\n",
       " 0.187 𝐞₁ + 0.86 𝐞₂ + 0.0579 𝐞₃ + 0.769 𝐞₄)"
      ]
     },
     "execution_count": 37,
     "metadata": {},
     "output_type": "execute_result"
    }
   ],
   "source": [
    "def r_fold(f,r,value):\n",
    "    return reduce(lambda v, _: f(v), range(r), value)\n",
    "\n",
    "r_fold(f, 3, x), f(f(f(x))), r_fold(f, 0, x), x"
   ]
  },
  {
   "cell_type": "code",
   "execution_count": 38,
   "metadata": {},
   "outputs": [
    {
     "data": {
      "text/plain": [
       "7.11e-14 𝐞₁ + -2.84e-14 𝐞₂ + -1.42e-14 𝐞₄"
      ]
     },
     "execution_count": 38,
     "metadata": {},
     "output_type": "execute_result"
    }
   ],
   "source": [
    "#2.9 Cayley Hamilton\n",
    "sum(r_fold(f, i, x) * coef for i, coef in enumerate(char_poly_coefs(f, alg)[::-1]))"
   ]
  },
  {
   "cell_type": "code",
   "execution_count": 39,
   "metadata": {},
   "outputs": [
    {
     "data": {
      "text/plain": [
       "(array([ 3.60663547+0.j        , -0.74429743+0.j        ,\n",
       "        -3.60336388+1.54393778j, -3.60336388-1.54393778j]),\n",
       " array([ 3.60663547+0.j        , -3.60336388+1.54393778j,\n",
       "        -3.60336388-1.54393778j, -0.74429743+0.j        ]))"
      ]
     },
     "execution_count": 39,
     "metadata": {},
     "output_type": "execute_result"
    }
   ],
   "source": [
    "#2.10 We can find eigenvalues like the usual many-fold method.\n",
    "# How about eigenvectors? \n",
    "# What else can we get from characteristic multivector? Some papers I should go through...\n",
    "matrix = trans2matrix(f, alg)\n",
    "eigvalues, eigvecs = np.linalg.eig(matrix)\n",
    "coefs = char_poly_coefs(f, alg)\n",
    "eigvalues, np.roots(coefs)"
   ]
  },
  {
   "cell_type": "code",
   "execution_count": 40,
   "metadata": {},
   "outputs": [
    {
     "data": {
      "text/plain": [
       "array([0.21313751, 0.21313751, 0.21313751, 0.21313751, 0.21313751,\n",
       "       0.21313751, 0.21313751, 0.21313751])"
      ]
     },
     "execution_count": 40,
     "metadata": {},
     "output_type": "execute_result"
    }
   ],
   "source": [
    "# From Lasenby's paper, we can reconstruct a rotor from characteristic multivector:\n",
    "# Note that the rotor must have non-zero scalar part\n",
    "# the paper suggest such method is pretty robust for noisy data\n",
    "R = blade_exp(create_r_blade(2, alg)) * blade_exp(create_r_blade(2, alg))\n",
    "rotor = lambda x: R.sw(x) # a screw motion\n",
    "\n",
    "terms_ratio(R.reverse(), sum(char_multi_linear(rotor, s, alg) for s in range(n+1)))"
   ]
  },
  {
   "cell_type": "code",
   "execution_count": 41,
   "metadata": {},
   "outputs": [
    {
     "data": {
      "text/plain": [
       "(3.43 𝐞₁ + 2.92 𝐞₂ + 4.42 𝐞₃ + -0.931 𝐞₄,\n",
       " 3.43 𝐞₁ + 2.92 𝐞₂ + 4.42 𝐞₃ + -0.931 𝐞₄)"
      ]
     },
     "execution_count": 41,
     "metadata": {},
     "output_type": "execute_result"
    }
   ],
   "source": [
    "# recovering matrix to transfromation\n",
    "def matrix2trans(M, alg:Algebra ):\n",
    "    d = alg.d\n",
    "    assert M.shape[0] == d, 'dimension not fit'\n",
    "    return lambda x: sum(c*e for c,e in zip(np.dot(M, x.asfullmv()[1:d+1]), alg.frame))\n",
    "    \n",
    "mf = matrix2trans(matrix, alg)\n",
    "mf(x), f(x)"
   ]
  },
  {
   "cell_type": "code",
   "execution_count": 42,
   "metadata": {},
   "outputs": [
    {
     "data": {
      "text/plain": [
       "(-7.944525415130959, -7.944525415130952)"
      ]
     },
     "execution_count": 42,
     "metadata": {},
     "output_type": "execute_result"
    }
   ],
   "source": [
    "#2.11\n",
    "s = 2\n",
    "rhs = (1/s) * sum((-1)**(r+1) * char_scalar(f, s-r, alg) * trace(lambda x: r_fold(f, r, x), alg)[0] for r in range(1,s+1))\n",
    "char_scalar(f, s, alg), rhs"
   ]
  },
  {
   "cell_type": "code",
   "execution_count": 43,
   "metadata": {},
   "outputs": [
    {
     "data": {
      "text/plain": [
       "(63.33414856061758, (63.334148560617635+0j))"
      ]
     },
     "execution_count": 43,
     "metadata": {},
     "output_type": "execute_result"
    }
   ],
   "source": [
    "#2.13\n",
    "k = 3\n",
    "char_scalar(f, k, alg), sum(np.prod(comb) for comb in combinations(eigvalues, k))"
   ]
  },
  {
   "cell_type": "code",
   "execution_count": 44,
   "metadata": {},
   "outputs": [
    {
     "data": {
      "text/plain": [
       "(4.46529747934181, (4.465297479341892+0j))"
      ]
     },
     "execution_count": 44,
     "metadata": {},
     "output_type": "execute_result"
    }
   ],
   "source": [
    "#2.14 It's easier to show the eigenvalues of f^k are {lambda^k_i} by linearity\n",
    "trace(lambda x: r_fold(f, k, x), alg)[0], sum(l**k for l in eigvalues)"
   ]
  },
  {
   "cell_type": "code",
   "execution_count": 45,
   "metadata": {},
   "outputs": [
    {
     "data": {
      "text/plain": [
       "(-41.3 𝐞₁₂₃₄, -41.3 𝐞₁₂₃₄, -41.3 𝐞₁₂₃₄)"
      ]
     },
     "execution_count": 45,
     "metadata": {},
     "output_type": "execute_result"
    }
   ],
   "source": [
    "# 3.4 A space must bound f to own an invariant subspace.\n",
    "I = alg.pseudoscalar((1,))\n",
    "outermorphism(f, I, alg), det(f, I, I)*I, adjoint_outermorphism(f, I, alg)"
   ]
  },
  {
   "cell_type": "code",
   "execution_count": 46,
   "metadata": {},
   "outputs": [
    {
     "data": {
      "text/plain": [
       "(-1.49e+02 𝐞₁₂₃₄, -1.49e+02 𝐞₁₂₃₄)"
      ]
     },
     "execution_count": 46,
     "metadata": {},
     "output_type": "execute_result"
    }
   ],
   "source": [
    "#3.6\n",
    "l = 2.2\n",
    "n = 4\n",
    "F = lambda x: f(x) - l*x\n",
    "coefs = char_poly_coefs(f, alg)\n",
    "outermorphism(F, I, alg), polynomial(l, coefs) * I"
   ]
  },
  {
   "cell_type": "code",
   "execution_count": 47,
   "metadata": {},
   "outputs": [
    {
     "data": {
      "text/plain": [
       "(8.87 𝐞₁₂, 8.87 𝐞₁₂)"
      ]
     },
     "execution_count": 47,
     "metadata": {},
     "output_type": "execute_result"
    }
   ],
   "source": [
    "#3.7\n",
    "I = e12\n",
    "frame = [e1,e2]\n",
    "g = lambda x: P((A*x.grade(1)*B).grade(1), I)\n",
    "coefs = char_poly_coefs(g, alg, frame, frame)\n",
    "F = lambda x: g(x) - l*x\n",
    "outermorphism(F, I, alg), polynomial(l, coefs) * I"
   ]
  },
  {
   "cell_type": "code",
   "execution_count": 48,
   "metadata": {},
   "outputs": [
    {
     "data": {
      "text/plain": [
       "(-26.19244359899903, -26.19244359899903)"
      ]
     },
     "execution_count": 48,
     "metadata": {},
     "output_type": "execute_result"
    }
   ],
   "source": [
    "#3.8\n",
    "I = e123\n",
    "frame2 = [e3]\n",
    "frame3 = [e1,e2,e3]\n",
    "h = lambda x: P((A*P(x, e12).grade(1)*B).grade(1), e12) + P((B*P(x, e3).grade(1)*C).grade(1), e3)\n",
    "F = lambda x: h(x) - l*x\n",
    "(\n",
    "    char_scalar(F, 2, alg, frame, frame) * char_scalar(F, 1, alg, frame2, frame2),\n",
    "    char_scalar(F, 3, alg, frame3, frame3)\n",
    ")"
   ]
  },
  {
   "cell_type": "code",
   "execution_count": 49,
   "metadata": {},
   "outputs": [
    {
     "data": {
      "text/plain": [
       "(-1.93 𝐞₁ + 1.19 𝐞₂, -1.93 𝐞₁ + 3.04 𝐞₂)"
      ]
     },
     "execution_count": 49,
     "metadata": {},
     "output_type": "execute_result"
    }
   ],
   "source": [
    "outermorphism(h, e1, alg), adjoint_outermorphism(h, e1, alg)"
   ]
  },
  {
   "cell_type": "code",
   "execution_count": 50,
   "metadata": {},
   "outputs": [
    {
     "data": {
      "text/plain": [
       "(-1.53 𝐞₃, -1.53 𝐞₃)"
      ]
     },
     "execution_count": 50,
     "metadata": {},
     "output_type": "execute_result"
    }
   ],
   "source": [
    "#3.9a\n",
    "adjoint_outermorphism(h, e123, alg) | e12, outermorphism(h, e12, alg).e12 * outermorphism(h, -e3, alg)"
   ]
  },
  {
   "cell_type": "code",
   "execution_count": 51,
   "metadata": {},
   "outputs": [
    {
     "data": {
      "text/plain": [
       "(1.53 𝐞₁₂, 1.53 𝐞₁₂)"
      ]
     },
     "execution_count": 51,
     "metadata": {},
     "output_type": "execute_result"
    }
   ],
   "source": [
    "#3.9b\n",
    "outermorphism(h, e123, alg) | e3, adjoint_outermorphism(h, e3, alg).e3 * adjoint_outermorphism(h, e12, alg)"
   ]
  },
  {
   "cell_type": "code",
   "execution_count": 52,
   "metadata": {},
   "outputs": [
    {
     "data": {
      "text/plain": [
       "(([0, 1], [(2, 3)]),\n",
       " array([ 3.60663547+0.j        , -0.74429743+0.j        ,\n",
       "        -3.60336388+1.54393778j, -3.60336388-1.54393778j]))"
      ]
     },
     "execution_count": 52,
     "metadata": {},
     "output_type": "execute_result"
    }
   ],
   "source": [
    "def separate_indices(numbers):\n",
    "    real_indices = []\n",
    "    conjugate_pairs_indices = []\n",
    "    visited = set()  # To keep track of indices already processed\n",
    "\n",
    "    for i, num in enumerate(numbers):\n",
    "        if np.isreal(num):  # Check if the number is real\n",
    "            real_indices.append(i)\n",
    "        elif i not in visited:  # Check if the index is not already processed\n",
    "            conjugate = np.conj(num)\n",
    "            for j in range(i + 1, len(numbers)):\n",
    "                if numbers[j] == conjugate:\n",
    "                    conjugate_pairs_indices.append((i, j))\n",
    "                    visited.add(i)\n",
    "                    visited.add(j)\n",
    "                    break\n",
    "\n",
    "    return real_indices, conjugate_pairs_indices\n",
    "\n",
    "separate_indices(eigvalues), eigvalues"
   ]
  },
  {
   "cell_type": "code",
   "execution_count": 53,
   "metadata": {},
   "outputs": [
    {
     "name": "stdout",
     "output_type": "stream",
     "text": [
      "[3.60663547 3.60663547 3.60663547 3.60663547] [   0.48645575    5.84294487    3.98245287 -131.91175015]\n",
      "[-0.74429743 -0.74429743 -0.74429743 -0.74429743] [ 0.9300258  37.93002006  0.11018615 -4.0444254 ]\n",
      "[15.36797515 15.36797515 15.36797515 15.36797515 15.36797515 15.36797515] [ 27.33457337  11.20685489 -11.78320951  20.21691102  27.55975988\n",
      "  38.77824838]\n"
     ]
    }
   ],
   "source": [
    "# An example of non proper blade:\n",
    "def linalg_eigblades(f, alg: Algebra):\n",
    "    matrix = trans2matrix(f, alg)\n",
    "    eigvalues, eigvecs = np.linalg.eig(matrix)\n",
    "    real_indices, conjugate_pairs_indices = separate_indices(eigvalues)\n",
    "    eigblades = [alg.vector(np.real(eigvecs[:, i])) for i in real_indices]\n",
    "    for k, l in conjugate_pairs_indices:\n",
    "        v1 = np.real(eigvecs[:,k] + eigvecs[:,l])\n",
    "        v2 = np.imag(eigvecs[:,k] - eigvecs[:,l])\n",
    "        eigblades.append(alg.vector(v1) ^ alg.vector(v2))\n",
    "    return eigblades \n",
    "\n",
    "def terms_ratio(A, B: MultiVector):\n",
    "    valid_keys = [k for k in B.keys() if not np.isclose(B[k], 0)]\n",
    "    return np.divide([A[k] for k in valid_keys], [B[k] for k in valid_keys])\n",
    "\n",
    "eigblades = linalg_eigblades(f, alg)\n",
    "\n",
    "# right eigenblades but not left!\n",
    "for blade in eigblades:\n",
    "    print(\n",
    "        terms_ratio(outermorphism(f, blade, alg), blade), \n",
    "        terms_ratio(adjoint_outermorphism(f, blade, alg), blade)\n",
    "        )"
   ]
  },
  {
   "cell_type": "code",
   "execution_count": 54,
   "metadata": {},
   "outputs": [
    {
     "name": "stdout",
     "output_type": "stream",
     "text": [
      "[23.76461122 10.19663866  4.90608813 -1.03245386] [3.60663547 3.60663547 3.60663547 3.60663547]\n",
      "[ -0.20032361 -84.30777903   4.2660401   -1.02317671] [-0.74429743 -0.74429743 -0.74429743 -0.74429743]\n",
      "[29.96770873 14.00328854 -5.10263128 21.98793665 90.20912648  5.57750521] [15.36797515 15.36797515 15.36797515 15.36797515 15.36797515 15.36797515]\n"
     ]
    }
   ],
   "source": [
    "#3.11 reciprocal for blades\n",
    "def reciprocal(blades):\n",
    "    I = wedge(blades)\n",
    "    dualblades = []\n",
    "    for k in range(len(blades)):\n",
    "        sign = (-1) ** (blades[k].grades[0] * sum(blade.grades[0] for blade in blades[:k]))\n",
    "        dualblades.append(sign * wedge(blades[:k] + blades[k+1:]) * I.inv())\n",
    "    return dualblades\n",
    "\n",
    "dualblades = reciprocal(eigblades)\n",
    "# The reciprocal of a right eigenblade is a left eigenblade! Note that they correspond to the same eigenvalues\n",
    "for blade in dualblades:\n",
    "    print(\n",
    "        terms_ratio(outermorphism(f, blade, alg), blade), \n",
    "        terms_ratio(adjoint_outermorphism(f, blade, alg), blade)\n",
    "        )\n"
   ]
  },
  {
   "cell_type": "code",
   "execution_count": 55,
   "metadata": {},
   "outputs": [
    {
     "data": {
      "text/plain": [
       "[1.0, 4.86e-17, 1.0]"
      ]
     },
     "execution_count": 55,
     "metadata": {},
     "output_type": "execute_result"
    }
   ],
   "source": [
    "#3.12 \n",
    "[eigblades[i] | dualblades[j] for i,j in [(0,0), (0,1), (1,1)]]"
   ]
  },
  {
   "cell_type": "code",
   "execution_count": 56,
   "metadata": {},
   "outputs": [
    {
     "data": {
      "text/plain": [
       "[(57.2 𝐞₁₂₃, 57.2 𝐞₁₂₃), (-1.34 𝐞₄, -1.34 𝐞₄)]"
      ]
     },
     "execution_count": 56,
     "metadata": {},
     "output_type": "execute_result"
    }
   ],
   "source": [
    "# What transformation have a non-trivial proper blade?\n",
    "# A invariant subspace, say e123 of e1234\n",
    "# from 3.12 we know we're looking for blades equal to thier own reciprocal\n",
    "# that means orthogonal to other eigenspaces\n",
    "\n",
    "pf = lambda x: P(f(P(x, e123)), e123) + P(f(P(x, e4)), e4)\n",
    "[(outermorphism(pf, blade, alg), adjoint_outermorphism(pf, blade, alg)) for blade in [e123, e4]]"
   ]
  },
  {
   "cell_type": "code",
   "execution_count": 57,
   "metadata": {},
   "outputs": [
    {
     "name": "stdout",
     "output_type": "stream",
     "text": [
      "[3.74336823 3.74336823 3.74336823] [0.46402456 5.7160344  4.05901492]\n",
      "[] []\n",
      "[15.28234934 15.28234934 15.28234934] [13.72209342 11.98669286 53.33133976]\n",
      "[] []\n",
      "[-1.34226765] [-1.34226765]\n",
      "[] []\n"
     ]
    }
   ],
   "source": [
    "eigblades = linalg_eigblades(pf, alg)\n",
    "for E in [e123, e4]:\n",
    "    for blade in eigblades: # not just vectors\n",
    "        blade = (blade | E)*E\n",
    "        om = outermorphism(pf, blade, alg)\n",
    "        am = adjoint_outermorphism(pf, blade, alg)\n",
    "        print(\n",
    "            terms_ratio(om, blade), \n",
    "            terms_ratio(am, blade)\n",
    "            )"
   ]
  },
  {
   "cell_type": "code",
   "execution_count": 58,
   "metadata": {},
   "outputs": [
    {
     "data": {
      "text/plain": [
       "(array([[-1.81931255,  2.33100255,  0.95760899, -0.54688985],\n",
       "        [ 2.33100255, -0.65888908,  3.527373  ,  2.23419691],\n",
       "        [ 0.95760899,  3.527373  , -0.52392045,  1.30686478],\n",
       "        [-0.54688985,  2.23419691,  1.30686478, -1.34226765]]),\n",
       " 1.3 𝐞₁ + 1.79 𝐞₂ + 4.19 𝐞₃ + 0.863 𝐞₄,\n",
       " 1.3 𝐞₁ + 1.79 𝐞₂ + 4.19 𝐞₃ + 0.863 𝐞₄)"
      ]
     },
     "execution_count": 58,
     "metadata": {},
     "output_type": "execute_result"
    }
   ],
   "source": [
    "#4.1b A matrix from a symmetric transformation is symmetric\n",
    "fp = lambda x: (f(x) + adjoint_outermorphism(f, x, alg))/2\n",
    "trans2matrix(fp, alg), fp(x), derivative(lambda x: x | f(x)/2, x, alg, grade=1)"
   ]
  },
  {
   "cell_type": "code",
   "execution_count": 59,
   "metadata": {},
   "outputs": [
    {
     "data": {
      "text/plain": [
       "(-4.4 𝐞₁₂ + 1.71 𝐞₁₃ + -0.754 𝐞₁₄ + -1.73 𝐞₂₃ + -3.86 𝐞₂₄ + -2.12 𝐞₃₄,\n",
       " -4.4 𝐞₁₂ + 1.71 𝐞₁₃ + -0.754 𝐞₁₄ + -1.73 𝐞₂₃ + -3.86 𝐞₂₄ + -2.12 𝐞₃₄)"
      ]
     },
     "execution_count": 59,
     "metadata": {},
     "output_type": "execute_result"
    }
   ],
   "source": [
    "# a curl is a part of a derivative\n",
    "derivative(f, x, alg, grade=1).grade(2), curl(f, x, alg, grade=1)"
   ]
  },
  {
   "cell_type": "code",
   "execution_count": 60,
   "metadata": {},
   "outputs": [
    {
     "data": {
      "text/plain": [
       "(array([[ 1.11022302e-16,  2.20122860e+00, -8.55162000e-01,\n",
       "          3.77072561e-01],\n",
       "        [-2.20122860e+00, -1.11022302e-16,  8.66388054e-01,\n",
       "          1.93151556e+00],\n",
       "        [ 8.55162000e-01, -8.66388054e-01, -5.55111512e-17,\n",
       "          1.05830612e+00],\n",
       "        [-3.77072561e-01, -1.93151556e+00, -1.05830612e+00,\n",
       "          0.00000000e+00]]),\n",
       " 2.13 𝐞₁ + 1.12 𝐞₂ + 0.229 𝐞₃ + -1.79 𝐞₄,\n",
       " 2.13 𝐞₁ + 1.12 𝐞₂ + 0.229 𝐞₃ + -1.79 𝐞₄)"
      ]
     },
     "execution_count": 60,
     "metadata": {},
     "output_type": "execute_result"
    }
   ],
   "source": [
    "#4.1c a skew transfromation leads to a skew matrix\n",
    "fm = lambda x: (f(x) - adjoint_outermorphism(f, x, alg))/2\n",
    "trans2matrix(fm, alg), fm(x), x | derivative(f, x, alg, grade=1).grade(2)/2"
   ]
  },
  {
   "cell_type": "code",
   "execution_count": 61,
   "metadata": {},
   "outputs": [
    {
     "data": {
      "text/plain": [
       "(4.53,\n",
       " 4.53,\n",
       " 8.15e-10 𝐞₁₃ + 2.33e-10 𝐞₁₄ + 1.16e-10 𝐞₂₃ + -1.16e-10 𝐞₂₄ + 4.07e-10 𝐞₃₄)"
      ]
     },
     "execution_count": 61,
     "metadata": {},
     "output_type": "execute_result"
    }
   ],
   "source": [
    "#4.2 fp curl free\n",
    "a | fp(x), x | fp(a), curl(fp, x, alg, grade=1)"
   ]
  },
  {
   "cell_type": "code",
   "execution_count": 62,
   "metadata": {},
   "outputs": [
    {
     "data": {
      "text/plain": [
       "(1.3 𝐞₁ + 1.79 𝐞₂ + 4.19 𝐞₃ + 0.863 𝐞₄, 1.3 𝐞₁ + 1.79 𝐞₂ + 4.19 𝐞₃ + 0.863 𝐞₄)"
      ]
     },
     "execution_count": 62,
     "metadata": {},
     "output_type": "execute_result"
    }
   ],
   "source": [
    "#4.3 spectral decomposition of the symmetric part\n",
    "matrix = trans2matrix(fp, alg)\n",
    "eigvalues, eigvecs = np.linalg.eigh(matrix)\n",
    "eigvecs = [alg.vector(v) for v in eigvecs.transpose()]\n",
    "mf = lambda x: sum(e * P(x, v) for e, v in zip(eigvalues, eigvecs))\n",
    "mf(x), fp(x)"
   ]
  },
  {
   "cell_type": "code",
   "execution_count": 63,
   "metadata": {},
   "outputs": [
    {
     "data": {
      "text/plain": [
       "[-1.61e+03 𝐞₁ + -1.16e-14 𝐞₂ + 4.26e-14 𝐞₃ + 2.99e-13 𝐞₄,\n",
       " 7.86e-16 𝐞₁ + -1.09e+02 𝐞₂ + -2.57e-14 𝐞₃ + -7e-14 𝐞₄,\n",
       " -1.76e-16 𝐞₁ + 1.57e-15 𝐞₂ + -6.64 𝐞₃ + -5.35e-16 𝐞₄,\n",
       " -2.57e-16 𝐞₁ + 8.88e-16 𝐞₂ + 1.11e-16 𝐞₃ + -1.38 𝐞₄]"
      ]
     },
     "execution_count": 63,
     "metadata": {},
     "output_type": "execute_result"
    }
   ],
   "source": [
    "# QR factorization\n",
    "transframe = [fp(e) for e in alg.frame] #another basis\n",
    "gs_trans = gram_schmidt(transframe)\n",
    "gs_trans2 = gram_schmidt([fp(v / norm(v)) for v in gs_trans[::-1]])[::-1]\n",
    "gs_trans2\n"
   ]
  },
  {
   "cell_type": "code",
   "execution_count": 64,
   "metadata": {},
   "outputs": [],
   "source": [
    "# A GA version of eigenblade-solver given the eigenvalues\n",
    "def null_space(f, alg, tol=1e-5, frame=None):\n",
    "    if not frame:\n",
    "        frame = alg.frame\n",
    "    null_sp = wedge(frame)\n",
    "    images = [f(a) for a in frame]\n",
    "    for v in images:\n",
    "        contracted = v | null_sp\n",
    "        if normsq(contracted) >= tol:\n",
    "            null_sp = contracted\n",
    "    return null_sp\n",
    "\n",
    "def eigenblades_from_values(f, eigvalues, alg, frame=None):\n",
    "    eigblades = []\n",
    "    for e in eigvalues:\n",
    "        null_f = lambda x: f(x) - e*x\n",
    "        eigblades.append(null_space(null_f, alg, frame=frame))\n",
    "    return eigblades"
   ]
  },
  {
   "cell_type": "code",
   "execution_count": 65,
   "metadata": {},
   "outputs": [
    {
     "data": {
      "text/plain": [
       "[1,\n",
       " -4.34 + -8.88e-16 𝐞₁₂ + -8.88e-16 𝐞₂₄ + -2.22e-16 𝐞₃₄,\n",
       " -19.3 + 2e-15 𝐞₁₂ + 3.66e-15 𝐞₁₃ + 3.55e-15 𝐞₁₄ + -1.78e-15 𝐞₂₃ + 3.55e-15 𝐞₂₄ + 3.55e-15 𝐞₃₄ + -8.88e-16 𝐞₁₂₃₄,\n",
       " 92.9 + -5.33e-15 𝐞₁₃ + -1.42e-14 𝐞₁₄ + -1.24e-14 𝐞₃₄,\n",
       " -71.3]"
      ]
     },
     "execution_count": 65,
     "metadata": {},
     "output_type": "execute_result"
    }
   ],
   "source": [
    "# One thing to note for a symmetric transformation:\n",
    "# the characteristic multivectors are of scalar values\n",
    "# So all subspaces are invariant under the transfromation.\n",
    "[char_multi_linear(fp, r, alg) for r in range(5)]"
   ]
  },
  {
   "cell_type": "code",
   "execution_count": 66,
   "metadata": {},
   "outputs": [
    {
     "data": {
      "text/plain": [
       "(array([ 4.68691586, -5.08072577, -2.92892743, -1.02165239]),\n",
       " array([-5.08072577, -2.92892743, -1.02165239,  4.68691586]))"
      ]
     },
     "execution_count": 66,
     "metadata": {},
     "output_type": "execute_result"
    }
   ],
   "source": [
    "np.roots(char_poly_coefs(fp, alg)), eigvalues"
   ]
  },
  {
   "cell_type": "code",
   "execution_count": 67,
   "metadata": {},
   "outputs": [
    {
     "data": {
      "text/plain": [
       "([0.473 𝐞₁ + -0.717 𝐞₂ + 0.347 𝐞₃ + 0.376 𝐞₄,\n",
       "  -0.451 𝐞₁ + -0.196 𝐞₂ + 0.727 𝐞₃ + -0.478 𝐞₄,\n",
       "  -0.696 𝐞₁ + -0.0776 𝐞₂ + 0.0163 𝐞₃ + 0.713 𝐞₄,\n",
       "  -0.296 𝐞₁ + -0.665 𝐞₂ + -0.591 𝐞₃ + -0.348 𝐞₄],\n",
       " [0.473 𝐞₁ + -0.717 𝐞₂ + 0.347 𝐞₃ + 0.376 𝐞₄,\n",
       "  0.451 𝐞₁ + 0.196 𝐞₂ + -0.727 𝐞₃ + 0.478 𝐞₄,\n",
       "  0.696 𝐞₁ + 0.0776 𝐞₂ + -0.0163 𝐞₃ + -0.713 𝐞₄,\n",
       "  0.296 𝐞₁ + 0.665 𝐞₂ + 0.591 𝐞₃ + 0.348 𝐞₄])"
      ]
     },
     "execution_count": 67,
     "metadata": {},
     "output_type": "execute_result"
    }
   ],
   "source": [
    "eigblades = eigenblades_from_values(fp, eigvalues, alg)\n",
    "[e/norm(e) for e in eigblades], eigvecs"
   ]
  },
  {
   "cell_type": "code",
   "execution_count": 68,
   "metadata": {},
   "outputs": [
    {
     "name": "stdout",
     "output_type": "stream",
     "text": [
      "[-5.08072577 -5.08072577 -5.08072577 -5.08072577]\n",
      "[25.81377431 25.81377431 25.81377431 25.81377431 25.81377431 25.81377431]\n"
     ]
    }
   ],
   "source": [
    "#4.4 modify mf so to have a repeat eigenvalue (degeneracy)\n",
    "eigvalues[1] = eigvalues[0]\n",
    "mf = lambda x: sum(e * P(x, v) for e, v in zip(eigvalues, eigvecs))\n",
    "for blade in [eigvecs[0], wedge(eigvecs[:2])]:\n",
    "    of = outermorphism(mf, blade, alg)\n",
    "    print(terms_ratio(of, blade))"
   ]
  },
  {
   "cell_type": "code",
   "execution_count": 69,
   "metadata": {},
   "outputs": [
    {
     "data": {
      "text/plain": [
       "([0.416 𝐞₁₂ + -0.501 𝐞₁₃ + 0.0567 𝐞₁₄ + 0.453 𝐞₂₃ + -0.417 𝐞₂₄ + 0.44 𝐞₃₄,\n",
       "  -0.296 𝐞₁ + -0.665 𝐞₂ + -0.591 𝐞₃ + -0.348 𝐞₄,\n",
       "  -0.696 𝐞₁ + -0.0776 𝐞₂ + 0.0163 𝐞₃ + 0.713 𝐞₄],\n",
       " [0.416 𝐞₁₂ + -0.501 𝐞₁₃ + 0.0567 𝐞₁₄ + 0.453 𝐞₂₃ + -0.417 𝐞₂₄ + 0.44 𝐞₃₄,\n",
       "  0.696 𝐞₁ + 0.0776 𝐞₂ + -0.0163 𝐞₃ + -0.713 𝐞₄,\n",
       "  0.296 𝐞₁ + 0.665 𝐞₂ + 0.591 𝐞₃ + 0.348 𝐞₄])"
      ]
     },
     "execution_count": 69,
     "metadata": {},
     "output_type": "execute_result"
    }
   ],
   "source": [
    "eigblades = eigenblades_from_values(mf, set(eigvalues), alg)\n",
    "[e/norm(e) for e in eigblades], [wedge(eigvecs[:2])] + eigvecs[2:]"
   ]
  },
  {
   "cell_type": "code",
   "execution_count": 70,
   "metadata": {},
   "outputs": [
    {
     "data": {
      "text/plain": [
       "(array([[-0.35029372,  0.2162544 , -0.9112839 , -0.00948656],\n",
       "        [ 0.2162544 , -0.92801983, -0.30332038, -0.0031576 ],\n",
       "        [-0.9112839 , -0.30332038,  0.27817504,  0.01330594],\n",
       "        [-0.00948656, -0.0031576 ,  0.01330594, -0.99986148]]),\n",
       " [1.0, 1.7740258047294066e-17, 0.0, 0.9999999999999998],\n",
       " array([-1.,  1., -1., -1.]))"
      ]
     },
     "execution_count": 70,
     "metadata": {},
     "output_type": "execute_result"
    }
   ],
   "source": [
    "#4.6 a reflection is an orthogonal symmetric transformation \n",
    "A3 = create_r_blade(3, alg).normalized()\n",
    "matrix = trans2matrix(lambda x: (-1)**3*(A3.sw(x)), alg)\n",
    "# a symmetric matrix, orthogonal, unit eigvals\n",
    "matrix, [np.dot(matrix[i], matrix[j]) for i,j in [(1,1), (1,2), (2,3), (3,3)]], np.linalg.eigvals(matrix)"
   ]
  },
  {
   "cell_type": "code",
   "execution_count": 71,
   "metadata": {},
   "outputs": [
    {
     "data": {
      "text/plain": [
       "(0.0605 𝐞₁ + -0.778 𝐞₂ + -0.405 𝐞₃ + -0.773 𝐞₄,\n",
       " 0.0605 𝐞₁ + -0.778 𝐞₂ + -0.405 𝐞₃ + -0.773 𝐞₄)"
      ]
     },
     "execution_count": 71,
     "metadata": {},
     "output_type": "execute_result"
    }
   ],
   "source": [
    "#4.6 Find blade A from an orthogonal-symmetric-transfromation?\n",
    "ot = matrix2trans(matrix, alg)\n",
    "eigvalues, eigvecs = np.linalg.eig(matrix)\n",
    "eigvecs = [alg.vector(v) for v in eigvecs.transpose()]\n",
    "A3_ = wedge([v for v, e in zip(eigvecs, eigvalues) if np.isclose(e, -1)])\n",
    "(-1)**3*(A3.sw(x)), ot(x)"
   ]
  },
  {
   "cell_type": "code",
   "execution_count": 72,
   "metadata": {},
   "outputs": [
    {
     "data": {
      "text/plain": [
       "([-0.512 𝐞₁ + -0.614 𝐞₂ + -0.601 𝐞₃,\n",
       "  1.0 𝐞₄,\n",
       "  1.19 𝐞₁₂ + -1.14 𝐞₁₃ + 0.414 𝐞₂₃,\n",
       "  1 𝐞₁₂₃],\n",
       " [0.9095277208554586, 0.0, 6.797924885588128, 0.0])"
      ]
     },
     "execution_count": 72,
     "metadata": {},
     "output_type": "execute_result"
    }
   ],
   "source": [
    "#4.7 Not true for whole space, but the proper ones\n",
    "# In matrix terms: diagonal parts commute\n",
    "eigblades = linalg_eigblades(pf, alg)\n",
    "eigblades.append(e123)\n",
    "eigblades, [max_diff(pf(blade.sw(x)), blade.sw(pf(x))) for blade in eigblades]"
   ]
  },
  {
   "cell_type": "code",
   "execution_count": 73,
   "metadata": {},
   "outputs": [
    {
     "data": {
      "text/plain": [
       "(0.939, 0.939)"
      ]
     },
     "execution_count": 73,
     "metadata": {},
     "output_type": "execute_result"
    }
   ],
   "source": [
    "#4.8 skew transformation -> skew bilinear form -> bivector\n",
    "fm_biform = lambda vectors: vectors[0] | fm(vectors[1])\n",
    "F = simplicial_derivative(fm_biform, np.zeros(2), alg)\n",
    "a | fm(x), a| (x | F)"
   ]
  },
  {
   "cell_type": "code",
   "execution_count": 74,
   "metadata": {},
   "outputs": [
    {
     "data": {
      "text/plain": [
       "(2.13 𝐞₁ + 1.12 𝐞₂ + 0.229 𝐞₃ + -1.79 𝐞₄,\n",
       " 2.13 𝐞₁ + 1.12 𝐞₂ + 0.229 𝐞₃ + -1.79 𝐞₄,\n",
       " )"
      ]
     },
     "execution_count": 74,
     "metadata": {},
     "output_type": "execute_result"
    }
   ],
   "source": [
    "#4.9 so fm(x) is always orthogonal to x\n",
    "fm(x), x|F, fm(x) | x"
   ]
  },
  {
   "cell_type": "code",
   "execution_count": 75,
   "metadata": {},
   "outputs": [
    {
     "data": {
      "text/plain": [
       "(-1.02e-10 + -4.4 𝐞₁₂ + 1.71 𝐞₁₃ + -0.754 𝐞₁₄ + -1.73 𝐞₂₃ + -3.86 𝐞₂₄ + -2.12 𝐞₃₄,\n",
       " -4.4 𝐞₁₂ + 1.71 𝐞₁₃ + -0.754 𝐞₁₄ + -1.73 𝐞₂₃ + -3.86 𝐞₂₄ + -2.12 𝐞₃₄,\n",
       " -4.4 𝐞₁₂ + 1.71 𝐞₁₃ + -0.754 𝐞₁₄ + -1.73 𝐞₂₃ + -3.86 𝐞₂₄ + -2.12 𝐞₃₄,\n",
       " -4.4 𝐞₁₂ + 1.71 𝐞₁₃ + -0.754 𝐞₁₄ + -1.73 𝐞₂₃ + -3.86 𝐞₂₄ + -2.12 𝐞₃₄)"
      ]
     },
     "execution_count": 75,
     "metadata": {},
     "output_type": "execute_result"
    }
   ],
   "source": [
    "#4.10 F is a bivector\n",
    "derivative(fm, x, alg, grade=1), curl(fm, x, alg, grade=1), curl(f, x, alg, grade=1), 2*F"
   ]
  },
  {
   "cell_type": "code",
   "execution_count": 76,
   "metadata": {},
   "outputs": [
    {
     "data": {
      "text/plain": [
       "(-1 𝐞₁₂₃₄, -1 𝐞₁₂₃₄)"
      ]
     },
     "execution_count": 76,
     "metadata": {},
     "output_type": "execute_result"
    }
   ],
   "source": [
    "#4.11 bivector split commutes, you can think about a screw motion splits into translation and rotation\n",
    "e13*e24, e24*e13"
   ]
  },
  {
   "cell_type": "code",
   "execution_count": 77,
   "metadata": {},
   "outputs": [
    {
     "data": {
      "text/plain": [
       "([1.0,\n",
       "  -2.2 𝐞₁₂ + 0.855 𝐞₁₃ + -0.377 𝐞₁₄ + -0.866 𝐞₂₃ + -1.93 𝐞₂₄ + -1.06 𝐞₃₄,\n",
       "  4.31 𝐞₁₂₃₄],\n",
       " [-5.55e-17 + -4.4 𝐞₁₂ + 1.71 𝐞₁₃ + -0.754 𝐞₁₄ + -1.73 𝐞₂₃ + -3.86 𝐞₂₄ + -2.12 𝐞₃₄,\n",
       "  11.3 + 3.33e-16 𝐞₁₂ + 6.66e-16 𝐞₁₃ + 4.22e-15 𝐞₁₄ + -1.33e-15 𝐞₂₃ + -4.44e-16 𝐞₃₄ + 17.2 𝐞₁₂₃₄,\n",
       "  -9.12 𝐞₁₂ + 16.6 𝐞₁₃ + -7.46 𝐞₁₄ + -3.25 𝐞₂₃ + -7.37 𝐞₂₄ + -19.0 𝐞₃₄,\n",
       "  18.6])"
      ]
     },
     "execution_count": 77,
     "metadata": {},
     "output_type": "execute_result"
    }
   ],
   "source": [
    "#4.13 How to factor F?\n",
    "def wedge_power(A, r):\n",
    "    if r == 0:\n",
    "        return 1\n",
    "    result = A\n",
    "    for _ in range(r-1):\n",
    "        result = A ^ result\n",
    "    return result\n",
    "\n",
    "Ck = [(1/factorial(r))*wedge_power(F, r) for r in range(3)]\n",
    "Ck, [char_multi_linear(fm, r, alg) for r in range(1, 5)] # these are full story, but we just take a fraction"
   ]
  },
  {
   "cell_type": "code",
   "execution_count": 78,
   "metadata": {},
   "outputs": [
    {
     "data": {
      "text/plain": [
       "[-2.2 𝐞₁₂ + 0.855 𝐞₁₃ + -0.377 𝐞₁₄ + -0.866 𝐞₂₃ + -1.93 𝐞₂₄ + -1.06 𝐞₃₄,\n",
       " 4.56 𝐞₁₂ + -8.32 𝐞₁₃ + 3.73 𝐞₁₄ + 1.62 𝐞₂₃ + 3.68 𝐞₂₄ + 9.48 𝐞₃₄]"
      ]
     },
     "execution_count": 78,
     "metadata": {},
     "output_type": "execute_result"
    }
   ],
   "source": [
    "[alg.ip(Ck[i-1], Ck[i]) for i in range(1, len(Ck))]"
   ]
  },
  {
   "cell_type": "code",
   "execution_count": 79,
   "metadata": {},
   "outputs": [
    {
     "data": {
      "text/plain": [
       "{0, 1, 2, 3, 4, 5, 6, 7, 8, 9, 10, 11, 12, 13, 14, 15}"
      ]
     },
     "execution_count": 79,
     "metadata": {},
     "output_type": "execute_result"
    }
   ],
   "source": [
    "set.union(*(set(ck.keys()) for ck in Ck if isinstance(ck, MultiVector)))"
   ]
  },
  {
   "cell_type": "code",
   "execution_count": 80,
   "metadata": {},
   "outputs": [
    {
     "data": {
      "text/plain": [
       "(2.13 𝐞₁ + 1.12 𝐞₂ + 0.229 𝐞₃ + -1.79 𝐞₄,\n",
       " 2.13 𝐞₁ + 1.12 𝐞₂ + 0.229 𝐞₃ + -1.79 𝐞₄,\n",
       " 1.6 𝐞₁ + -7.96 𝐞₂ + -1.05 𝐞₃ + -3.22 𝐞₄,\n",
       " 1.6 𝐞₁ + -7.96 𝐞₂ + -1.05 𝐞₃ + -3.22 𝐞₄)"
      ]
     },
     "execution_count": 80,
     "metadata": {},
     "output_type": "execute_result"
    }
   ],
   "source": [
    "x|F, fm(x), x|F|F, fm(fm(x))"
   ]
  },
  {
   "cell_type": "code",
   "execution_count": 81,
   "metadata": {},
   "outputs": [
    {
     "data": {
      "text/plain": [
       "([1.0, 11.320285575380566, 18.559067026721404],\n",
       " [1, 5.551115123125783e-17, 11.320285575380572, -0.0, 18.559067026721415],\n",
       " array([-9.3314027 , -1.98888287]),\n",
       " array([3.05473447, 1.41027759]),\n",
       " array([-3.52737833e-17+3.05473447j, -3.52737833e-17-3.05473447j,\n",
       "         7.51820769e-18+1.41027759j,  7.51820769e-18-1.41027759j]),\n",
       " [1,\n",
       "  22.640571150761136,\n",
       "  165.26699956161224,\n",
       "  420.18787751023126,\n",
       "  344.4389689023381])"
      ]
     },
     "execution_count": 81,
     "metadata": {},
     "output_type": "execute_result"
    }
   ],
   "source": [
    "#4.14 4.18 Why square of eigen values? \n",
    "# The odd grade characteristic multivectors have zero scalar\n",
    "# A correction on Lasenby's paper, not square of f, but the even outermorphism f_(x, y)\n",
    "Ck2 = [(-1)**(2 - i) * alg.sp(Ck[i], Ck[i])[0] for i in range(3)]\n",
    "char_poly = char_poly_coefs(fm, alg)\n",
    "Lk = np.roots(Ck2)\n",
    "\n",
    "Ck2, char_poly, Lk, np.sqrt(-np.array(Lk)), np.roots(char_poly), char_poly_coefs(lambda x: fm(fm(x)), alg)"
   ]
  },
  {
   "cell_type": "code",
   "execution_count": 82,
   "metadata": {},
   "outputs": [
    {
     "data": {
      "text/plain": [
       "(-2.2 𝐞₁₂ + 0.855 𝐞₁₃ + -0.377 𝐞₁₄ + -0.866 𝐞₂₃ + -1.93 𝐞₂₄ + -1.06 𝐞₃₄,\n",
       " 4.56 𝐞₁₂ + -8.32 𝐞₁₃ + 3.73 𝐞₁₄ + 1.62 𝐞₂₃ + 3.68 𝐞₂₄ + 9.48 𝐞₃₄)"
      ]
     },
     "execution_count": 82,
     "metadata": {},
     "output_type": "execute_result"
    }
   ],
   "source": [
    "Ck[1], Ck[1] | Ck[2]"
   ]
  },
  {
   "cell_type": "code",
   "execution_count": 83,
   "metadata": {},
   "outputs": [
    {
     "data": {
      "text/plain": [
       "(-2.2 𝐞₁₂ + 0.855 𝐞₁₃ + -0.377 𝐞₁₄ + -0.866 𝐞₂₃ + -1.93 𝐞₂₄ + -1.06 𝐞₃₄,\n",
       " -2.2 𝐞₁₂ + 0.855 𝐞₁₃ + -0.377 𝐞₁₄ + -0.866 𝐞₂₃ + -1.93 𝐞₂₄ + -1.06 𝐞₃₄,\n",
       " -1.24e-15 + -1.12e-16 𝐞₁₂ + 6.59e-17 𝐞₁₃ + 1.11e-16 𝐞₁₄ + -1.11e-16 𝐞₂₄ + 2.08e-17 𝐞₃₄ + 4.31 𝐞₁₂₃₄,\n",
       " -1.24e-15 + 1.11e-16 𝐞₁₂ + -6.59e-17 𝐞₁₃ + -1.11e-16 𝐞₁₄ + -1.03e-16 𝐞₂₃ + 6.6e-17 𝐞₂₄ + -2.08e-17 𝐞₃₄ + 4.31 𝐞₁₂₃₄,\n",
       " -11.3 + -5.55e-17 𝐞₁₃ + 8.62 𝐞₁₂₃₄,\n",
       " -1.99 + 7.81e-16 𝐞₁₂₃₄,\n",
       " -9.33 + -1.03e-16 𝐞₁₃ + 3.82e-16 𝐞₁₄ + 1.71e-15 𝐞₁₂₃₄)"
      ]
     },
     "execution_count": 83,
     "metadata": {},
     "output_type": "execute_result"
    }
   ],
   "source": [
    "#4.15\n",
    "mv_map1 = {}\n",
    "mv_map2 = {}\n",
    "ck1, ck2 = Ck[1], Ck[1] | Ck[2]\n",
    "for key in ck2.keys():\n",
    "    if np.isclose(ck1[key],0) and np.isclose(ck2[key],0):\n",
    "        continue\n",
    "    ans = np.linalg.solve(np.array([[1, 1], Lk]), [ck1[key], ck2[key]])\n",
    "    mv_map1[key], mv_map2[key] = ans\n",
    "F1 = alg.multivector(mv_map1)\n",
    "F2 = alg.multivector(mv_map2)\n",
    "F1 + F2, F, F1*F2, F2*F1, F**2, F1**2, F2**2\n"
   ]
  },
  {
   "cell_type": "code",
   "execution_count": 84,
   "metadata": {},
   "outputs": [
    {
     "data": {
      "text/plain": [
       "([-9.331402700897318, -1.9888828744832479], array([-9.3314027 , -1.98888287]))"
      ]
     },
     "execution_count": 84,
     "metadata": {},
     "output_type": "execute_result"
    }
   ],
   "source": [
    "#4.16\n",
    "def normsq(A):\n",
    "    return A.reverse().sp(A)[0]\n",
    "(\n",
    "    [(-normsq(F) - np.sqrt((normsq(F)**2 - normsq(F ^ F))))/2,\n",
    "    (-normsq(F) + np.sqrt((normsq(F)**2 - normsq(F ^ F))))/2],\n",
    "    Lk\n",
    ")\n"
   ]
  },
  {
   "cell_type": "code",
   "execution_count": 85,
   "metadata": {},
   "outputs": [
    {
     "data": {
      "text/plain": [
       "(-0.0247 𝐞₁₂ + 0.902 𝐞₁₃ + -0.406 𝐞₁₄ + 0.0134 𝐞₂₃ + 0.0215 𝐞₂₄ + -1.0 𝐞₃₄,\n",
       " -0.0247 𝐞₁₂ + 0.902 𝐞₁₃ + -0.406 𝐞₁₄ + 0.0134 𝐞₂₃ + 0.0215 𝐞₂₄ + -1.0 𝐞₃₄,\n",
       " -2.18 𝐞₁₂ + -0.0465 𝐞₁₃ + 0.0291 𝐞₁₄ + -0.88 𝐞₂₃ + -1.95 𝐞₂₄ + -0.0535 𝐞₃₄,\n",
       " -2.18 𝐞₁₂ + -0.0465 𝐞₁₃ + 0.0291 𝐞₁₄ + -0.88 𝐞₂₃ + -1.95 𝐞₂₄ + -0.0535 𝐞₃₄)"
      ]
     },
     "execution_count": 85,
     "metadata": {},
     "output_type": "execute_result"
    }
   ],
   "source": [
    "#4.17\n",
    "F2_ = F / (1 + (1/2/Lk[0])*(F ^ F))\n",
    "F1_ = F / (1 + (1/2/Lk[1])*(F ^ F))\n",
    "F1_, F1, F2_, F2"
   ]
  },
  {
   "cell_type": "code",
   "execution_count": 86,
   "metadata": {},
   "outputs": [],
   "source": [
    "def bivector_split(F, alg: Algebra):\n",
    "    m = alg.d // 2\n",
    "    if m <= 1:\n",
    "        return F\n",
    "    Ck = [(1/factorial(r))*wedge_power(F, r) for r in range(m+1)]\n",
    "    Ck2 = [(-1)**(m - i) * alg.sp(Ck[i], Ck[i])[0] for i in range(m+1)]\n",
    "    Lk = np.roots(Ck2)\n",
    "    mv_map_list = [{} for _ in range(m)]\n",
    "    ck_inner_list = [alg.ip(Ck[i-1], Ck[i]) for i in range(1, m+1)]\n",
    "    mv_keys = set.union(*(set(ck.keys()) for ck in ck_inner_list if isinstance(ck, MultiVector)))\n",
    "    linear_eq_matrix = np.array([[np.prod(Lk[i:i+k]) for i in range(m)] for k in range(m)])\n",
    "    inv_matrix = np.linalg.inv(linear_eq_matrix)\n",
    "    for key in mv_keys:\n",
    "        if all([np.isclose(ck[key],0) for ck in ck_inner_list]):\n",
    "            continue\n",
    "        ans = np.dot(inv_matrix, [ck[key] for ck in ck_inner_list])\n",
    "        for i, v in enumerate(ans):\n",
    "            mv_map_list[i][key] = v\n",
    "    return [alg.multivector(mv_map) for mv_map in mv_map_list]"
   ]
  },
  {
   "cell_type": "code",
   "execution_count": 87,
   "metadata": {},
   "outputs": [],
   "source": [
    "# From Graded Symmetry Groups: Plane and Simple, \n",
    "# instead of solving linear equations, the solutions are given algebraically\n",
    "def bivector_split_(F, alg: Algebra):  \n",
    "    # FIXME: it produce commuting bivectors but not blades\n",
    "    m = alg.d // 2\n",
    "    if m <= 1:\n",
    "        return F\n",
    "    Ck = [(1/factorial(r))*wedge_power(F, r) for r in range(m+1)]\n",
    "    Ck2 = [(-1)**(m - i) * alg.sp(Ck[i], Ck[i])[0] for i in range(m+1)]\n",
    "    Lk = np.roots(Ck2)\n",
    "    blades = []\n",
    "    for l in Lk:\n",
    "        even = sum(l ** r * c for r, c in enumerate(Ck[-1::-2]))\n",
    "        odd = sum(l ** r * c for r, c in enumerate(Ck[-2::-2]))\n",
    "        blades.append(even * odd.reverse() / normsq(odd)) # FIXME: the inverse is wrong\n",
    "    return blades"
   ]
  },
  {
   "cell_type": "code",
   "execution_count": 88,
   "metadata": {},
   "outputs": [
    {
     "data": {
      "text/plain": [
       "(-1.27 + 1.23e-12 𝐞₁ + 1.6e-12 𝐞₂ + -8.15e-13 𝐞₃ + -1.03e-12 𝐞₄ + 7.41e-13 𝐞₁₂ + -3.77e-13 𝐞₁₃ + 2.68e-13 𝐞₁₄ + -4.13e-13 𝐞₂₃ + 5.23e-13 𝐞₂₄ + -7.51e-13 𝐞₃₄ + -2.27e-14 𝐞₁₂₃ + -4.36e-13 𝐞₁₂₄ + -4.98e-13 𝐞₁₃₄ + 9.86e-14 𝐞₂₃₄ + -1.43e-12 𝐞₁₂₃₄,\n",
       " [array([ 5.50531314e-13, -4.71499383e-13,  2.49815652e-13,  1.27527697e-12,\n",
       "         -6.75683066e-13,  5.78684882e-13]),\n",
       "  array([1., 1., 1., 1., 1., 1.]),\n",
       "  array([5.6443259e-13, 5.6443259e-13, 5.6443259e-13, 5.6443259e-13,\n",
       "         5.6443259e-13, 5.6443259e-13]),\n",
       "  array([ 1.02525065, -1.19710144,  2.25939641,  0.44259608, -0.8353511 ,\n",
       "          0.97537124])])"
      ]
     },
     "execution_count": 88,
     "metadata": {},
     "output_type": "execute_result"
    }
   ],
   "source": [
    "# What if we use the above function to split a bivector that's almost a blade?\n",
    "# The result blades are R itself and its dual with a small magnitude\n",
    "# Should assert not simple before process?\n",
    "\n",
    "R = create_r_blade(2, alg) + 1e-12 * A # a blade with a small perturbation\n",
    "blades = bivector_split(R, alg)\n",
    "R**2, [terms_ratio(b, r) for r in [R, R.dual()] for b in blades]"
   ]
  },
  {
   "cell_type": "code",
   "execution_count": 89,
   "metadata": {},
   "outputs": [
    {
     "data": {
      "text/plain": [
       "1.28e-13 𝐞₁₂ + -7.11e-15 𝐞₁₃ + -4.26e-14 𝐞₁₄ + -1.85e-13 𝐞₂₃ + 5.68e-14 𝐞₂₄ + 4.97e-14 𝐞₃₄"
      ]
     },
     "execution_count": 89,
     "metadata": {},
     "output_type": "execute_result"
    }
   ],
   "source": [
    "# double skew is symmetric\n",
    "fm2 = lambda x: fm(fm(x))\n",
    "curl(fm2, x, alg, h=1e-2, grade=1)"
   ]
  },
  {
   "cell_type": "code",
   "execution_count": 90,
   "metadata": {},
   "outputs": [
    {
     "data": {
      "text/plain": [
       "(-0.979 𝐞₁ + -0.00341 𝐞₂ + -0.408 𝐞₃ + -0.907 𝐞₄,\n",
       " -0.979 𝐞₁ + -0.00341 𝐞₂ + -0.408 𝐞₃ + -0.907 𝐞₄ + 3.56e-16 𝐞₁₂₃ + -1.6e-16 𝐞₁₂₄ + 1.34e-18 𝐞₁₃₄ + -3.84e-16 𝐞₂₃₄)"
      ]
     },
     "execution_count": 90,
     "metadata": {},
     "output_type": "execute_result"
    }
   ],
   "source": [
    "#4.19\n",
    "v = P(e1, F1)\n",
    "fm2(v), (F1 ** 2) * v"
   ]
  },
  {
   "cell_type": "code",
   "execution_count": 91,
   "metadata": {},
   "outputs": [
    {
     "data": {
      "text/plain": [
       "(-0.0247 𝐞₁₂ + 0.902 𝐞₁₃ + -0.406 𝐞₁₄ + 0.0134 𝐞₂₃ + 0.0215 𝐞₂₄ + -1.0 𝐞₃₄,\n",
       " -0.0247 𝐞₁₂ + 0.902 𝐞₁₃ + -0.406 𝐞₁₄ + 0.0134 𝐞₂₃ + 0.0215 𝐞₂₄ + -1.0 𝐞₃₄)"
      ]
     },
     "execution_count": 91,
     "metadata": {},
     "output_type": "execute_result"
    }
   ],
   "source": [
    "#4.20 \n",
    "F1_eigvecs= [v.normalized() for v in gram_schmidt(blade_split(F1, alg))]\n",
    "F1, np.sqrt(normsq(F1)) * wedge(F1_eigvecs)\n"
   ]
  },
  {
   "cell_type": "code",
   "execution_count": 92,
   "metadata": {},
   "outputs": [
    {
     "data": {
      "text/plain": [
       "(-0.589 𝐞₁ + -0.808 𝐞₃,\n",
       " -0.589 𝐞₂ + -0.808 𝐞₄,\n",
       " 0.808 𝐞₁ + -0.589 𝐞₃,\n",
       " 0.808 𝐞₂ + -0.589 𝐞₄,\n",
       " 1.0 𝐞₁₂ + 1.0 𝐞₃₄,\n",
       " 0.346 𝐞₁₂ + 0.476 𝐞₁₄ + -0.476 𝐞₂₃ + 0.654 𝐞₃₄,\n",
       " 0.654 𝐞₁₂ + -0.476 𝐞₁₄ + 0.476 𝐞₂₃ + 0.346 𝐞₃₄)"
      ]
     },
     "execution_count": 92,
     "metadata": {},
     "output_type": "execute_result"
    }
   ],
   "source": [
    "# If Lk[0] == Lk[1], the linear equation has no unique solution in 4.15\n",
    "# nonunique bivector split? We should find another split of e12 + e34. \n",
    "t = 1.1\n",
    "R = blade_exp(t*e13) * blade_exp(t*e24)\n",
    "a,b,c,d = [R.sw(v) for v in alg.frame]\n",
    "a,b,c,d, a*b+c*d, a*b, c*d"
   ]
  },
  {
   "cell_type": "code",
   "execution_count": 93,
   "metadata": {},
   "outputs": [
    {
     "data": {
      "text/plain": [
       "(1.0 𝐞₁₂ + 1.0 𝐞₃₄,\n",
       " 1.0 𝐞₁₂ + 1.0 𝐞₃₄,\n",
       " 0.346 + -0.476 𝐞₁₃ + -0.476 𝐞₂₄ + -0.654 𝐞₁₂₃₄)"
      ]
     },
     "execution_count": 93,
     "metadata": {},
     "output_type": "execute_result"
    }
   ],
   "source": [
    "R.sw(e12 + e34), (e12+e34) * (R**2), R**2"
   ]
  },
  {
   "cell_type": "code",
   "execution_count": 94,
   "metadata": {},
   "outputs": [
    {
     "data": {
      "text/plain": [
       "(2.87 𝐞₁₂ + -0.0196 𝐞₁₃ + -2.39 𝐞₁₄ + -2.13 𝐞₂₃ + 7.09 𝐞₂₄ + 1.35 𝐞₃₄,\n",
       " 2.87 𝐞₁₂ + -0.0196 𝐞₁₃ + -2.39 𝐞₁₄ + -2.13 𝐞₂₃ + 7.09 𝐞₂₄ + 1.35 𝐞₃₄)"
      ]
     },
     "execution_count": 94,
     "metadata": {},
     "output_type": "execute_result"
    }
   ],
   "source": [
    "#4.21\n",
    "B2 = B.grade(2)\n",
    "# fm = lambda x: f(x) - adjoint_outermorphism(f, x, alg)\n",
    "# F = curl(fm, x, alg, grade=1) / 2\n",
    "outermorphism(fm, B2, alg), (0.5 * (B2 | (F^F))) - ((B2|F) * F)"
   ]
  },
  {
   "cell_type": "code",
   "execution_count": 95,
   "metadata": {},
   "outputs": [
    {
     "data": {
      "text/plain": [
       "(2.87 𝐞₁₂ + -0.0196 𝐞₁₃ + -2.39 𝐞₁₄ + -2.13 𝐞₂₃ + 7.09 𝐞₂₄ + 1.35 𝐞₃₄,\n",
       " 2.87 𝐞₁₂ + -0.0196 𝐞₁₃ + -2.39 𝐞₁₄ + -2.13 𝐞₂₃ + 7.09 𝐞₂₄ + 1.35 𝐞₃₄)"
      ]
     },
     "execution_count": 95,
     "metadata": {},
     "output_type": "execute_result"
    }
   ],
   "source": [
    "# What is a symmetric bivector function?\n",
    "# I guess it means:\n",
    "outermorphism(fm, B2, alg), adjoint_outermorphism(fm, B2, alg)"
   ]
  },
  {
   "cell_type": "code",
   "execution_count": 96,
   "metadata": {},
   "outputs": [
    {
     "data": {
      "text/plain": [
       "(-0.0491 𝐞₁₂ + 1.79 𝐞₁₃ + -0.808 𝐞₁₄ + 0.0267 𝐞₂₃ + 0.0427 𝐞₂₄ + -2.0 𝐞₃₄,\n",
       " -0.0491 𝐞₁₂ + 1.79 𝐞₁₃ + -0.808 𝐞₁₄ + 0.0267 𝐞₂₃ + 0.0427 𝐞₂₄ + -2.0 𝐞₃₄)"
      ]
     },
     "execution_count": 96,
     "metadata": {},
     "output_type": "execute_result"
    }
   ],
   "source": [
    "#4.23 The bivector split solves the eigenbivector problem of a skew transformation\n",
    "outermorphism(fm, F1, alg), normsq(F1)*F1"
   ]
  },
  {
   "cell_type": "code",
   "execution_count": 97,
   "metadata": {},
   "outputs": [
    {
     "data": {
      "text/plain": [
       "(-0.0606 𝐞₁ + 1.03 𝐞₂ + 3.55 𝐞₃ + 4.05 𝐞₄,\n",
       " 0.688 𝐞₁ + 2.43 𝐞₂ + 0.472 𝐞₃ + -8.38 𝐞₄,\n",
       " 3.0 𝐞₁ + 25.1 𝐞₂ + 10.6 𝐞₃ + 23.3 𝐞₄,\n",
       " 4.5 𝐞₁ + 27.9 𝐞₂ + 4.47 𝐞₃ + -1.61 𝐞₄)"
      ]
     },
     "execution_count": 97,
     "metadata": {},
     "output_type": "execute_result"
    }
   ],
   "source": [
    "#5.1 normal transformation\n",
    "af = lambda x: adjoint_outermorphism(f, x, alg)\n",
    "\n",
    "fp(fm(x)), fm(fp(x)), af(f(x)), f(af(x)) # not normal"
   ]
  },
  {
   "cell_type": "code",
   "execution_count": 98,
   "metadata": {},
   "outputs": [
    {
     "data": {
      "text/plain": [
       "(-4.48 𝐞₁ + 11.8 𝐞₂ + -4.12 𝐞₃ + 4.11 𝐞₄,\n",
       " -4.48 𝐞₁ + 11.8 𝐞₂ + -4.12 𝐞₃ + 4.11 𝐞₄)"
      ]
     },
     "execution_count": 98,
     "metadata": {},
     "output_type": "execute_result"
    }
   ],
   "source": [
    "M = blade_exp(create_r_blade(2, alg))\n",
    "Mdual = blade_split(M.grade(2).dual(), alg)\n",
    "rigid = lambda x: 1.1 *  M.sw(x) - 4.4 * P(x, Mdual[0]) + 3.3 * P(x, Mdual[1])\n",
    "adrigid = lambda x: adjoint_outermorphism(rigid, x, alg)\n",
    "adrigid(rigid(x)), rigid(adrigid(x))"
   ]
  },
  {
   "cell_type": "code",
   "execution_count": 99,
   "metadata": {},
   "outputs": [
    {
     "data": {
      "text/plain": [
       "(-1.29 𝐞₁ + 2.49 𝐞₂ + 0.635 𝐞₃ + -1.98 𝐞₄,\n",
       " -2.08 𝐞₁ + 5.29 𝐞₂ + -1.55 𝐞₃ + -2.46 𝐞₄ + -1.48e-16 𝐞₁₂₃ + 3.93e-16 𝐞₁₂₄ + 2.17e-16 𝐞₁₃₄ + 1.37e-16 𝐞₂₃₄)"
      ]
     },
     "execution_count": 99,
     "metadata": {},
     "output_type": "execute_result"
    }
   ],
   "source": [
    "rigid(x), 3.3 * M**2 * P(x, M.grade(2).normalized()) + 3.3 * P(x, M.grade(2).normalized().dual()) - 4.4 * P(x, Mdual[0]) + 5.5 * P(x, Mdual[1])"
   ]
  },
  {
   "cell_type": "code",
   "execution_count": 100,
   "metadata": {},
   "outputs": [
    {
     "data": {
      "text/plain": [
       "(-2.2 𝐞₁₂ + 0.855 𝐞₁₃ + -0.377 𝐞₁₄ + -0.866 𝐞₂₃ + -1.93 𝐞₂₄ + -1.06 𝐞₃₄,\n",
       " -2.2 𝐞₁₂ + 0.855 𝐞₁₃ + -0.377 𝐞₁₄ + -0.866 𝐞₂₃ + -1.93 𝐞₂₄ + -1.06 𝐞₃₄,\n",
       " -0.0348 𝐞₁₂ + 1.27 𝐞₁₃ + -0.573 𝐞₁₄ + 0.019 𝐞₂₃ + 0.0303 𝐞₂₄ + -1.42 𝐞₃₄,\n",
       " -0.0348 𝐞₁₂ + 1.27 𝐞₁₃ + -0.573 𝐞₁₄ + 0.019 𝐞₂₃ + 0.0303 𝐞₂₄ + -1.42 𝐞₃₄)"
      ]
     },
     "execution_count": 100,
     "metadata": {},
     "output_type": "execute_result"
    }
   ],
   "source": [
    "#5.2\n",
    "def norm(A):\n",
    "    return np.sqrt(normsq(A))\n",
    "b1, b2 = norm(F1), norm(F2)\n",
    "i1, i2 = F1/b1, F2/b2\n",
    "\n",
    "F, b1*i1 + b2*i2, outermorphism(fm, i1, alg), b1**2*i1"
   ]
  },
  {
   "cell_type": "code",
   "execution_count": 101,
   "metadata": {},
   "outputs": [
    {
     "data": {
      "text/plain": [
       "array([ 4.22436235e+02,  8.25189238e-02,  4.74747073e+00, -8.10224999e+02,\n",
       "        5.88651531e+02, -1.91514808e+00])"
      ]
     },
     "execution_count": 101,
     "metadata": {},
     "output_type": "execute_result"
    }
   ],
   "source": [
    "# 5.3\n",
    "terms_ratio(outermorphism(fp, i1, alg), i1) # not normal"
   ]
  },
  {
   "cell_type": "code",
   "execution_count": 102,
   "metadata": {},
   "outputs": [
    {
     "data": {
      "text/plain": [
       "[array([0.47922398, 0.47922397, 0.47922397, 0.47922397, 0.47922397,\n",
       "        0.47922397])]"
      ]
     },
     "execution_count": 102,
     "metadata": {},
     "output_type": "execute_result"
    }
   ],
   "source": [
    "# 5.3\n",
    "def sym_part(f, alg):\n",
    "    return lambda x: (f(x) + adjoint_outermorphism(f, x, alg))/2\n",
    "\n",
    "def skew_part(f, alg):\n",
    "    return lambda x: (f(x) - adjoint_outermorphism(f, x, alg))/2\n",
    "\n",
    "R = curl(rigid, x, alg, grade=1)/2\n",
    "skew_blades = bivector_split(R, alg)\n",
    "skew_eigs = [norm(b) for b in skew_blades]\n",
    "skew_blades = [b / e for b,e in zip(skew_blades, skew_eigs) if e > 1e-6]\n",
    "skew_eigs = [e for e in skew_eigs if e > 1e-6]\n",
    "rigid_p = sym_part(rigid, alg)\n",
    "[terms_ratio(outermorphism(rigid_p, i, alg), i) for i in skew_blades]"
   ]
  },
  {
   "cell_type": "code",
   "execution_count": 103,
   "metadata": {},
   "outputs": [
    {
     "data": {
      "text/plain": [
       "([-0.6922600476481583], array([0.47922397]), [0.47922398248691594])"
      ]
     },
     "execution_count": 103,
     "metadata": {},
     "output_type": "execute_result"
    }
   ],
   "source": [
    "#5.4\n",
    "rand_vec = create_r_vectors(1, alg)[0]\n",
    "sym_vecs = [(rand_vec | i).normalized() for i in skew_blades]\n",
    "other_sym_space = wedge(skew_blades).dual()\n",
    "sym_eigs = [terms_ratio(rigid_p(a), a)[0] for a in sym_vecs]\n",
    "\n",
    "sym_eigs, np.square(sym_eigs), [terms_ratio(outermorphism(rigid_p, i, alg), i)[0] for i in skew_blades]\n"
   ]
  },
  {
   "cell_type": "code",
   "execution_count": 104,
   "metadata": {},
   "outputs": [
    {
     "data": {
      "text/plain": [
       "([-0.959 𝐞₁ + -0.494 𝐞₂ + -0.211 𝐞₃ + -0.0293 𝐞₄],\n",
       " [-0.959 𝐞₁ + -0.494 𝐞₂ + -0.211 𝐞₃ + -0.0293 𝐞₄ + -6.94e-18 𝐞₁₂₃ + -2.78e-17 𝐞₁₂₄ + -2.78e-17 𝐞₂₃₄],\n",
       " [-0.959 𝐞₁ + -0.494 𝐞₂ + -0.211 𝐞₃ + -0.0293 𝐞₄ + 2.78e-17 𝐞₁₂₄ + -1.39e-17 𝐞₁₃₄ + 2.08e-17 𝐞₂₃₄])"
      ]
     },
     "execution_count": 104,
     "metadata": {},
     "output_type": "execute_result"
    }
   ],
   "source": [
    "#5.5a\n",
    "m = len(skew_blades)\n",
    "rigid_eigs = [sym_eigs[k] + skew_blades[k] * skew_eigs[k] for k in range(m)]\n",
    "[rigid(a) for a in sym_vecs], [a*l for a, l in zip(sym_vecs,rigid_eigs)], [l.reverse()*a for a, l in zip(sym_vecs,rigid_eigs)]"
   ]
  },
  {
   "cell_type": "code",
   "execution_count": 105,
   "metadata": {},
   "outputs": [
    {
     "data": {
      "text/plain": [
       "([0.0307 𝐞₁ + 0.0769 𝐞₂ + 0.762 𝐞₃ + 0.789 𝐞₄],\n",
       " [0.0307 𝐞₁ + 0.0769 𝐞₂ + 0.762 𝐞₃ + 0.789 𝐞₄ + -2.78e-17 𝐞₁₂₄ + 1.39e-17 𝐞₁₃₄ + -2.08e-17 𝐞₂₃₄],\n",
       " [0.0307 𝐞₁ + 0.0769 𝐞₂ + 0.762 𝐞₃ + 0.789 𝐞₄ + 6.94e-18 𝐞₁₂₃ + 2.78e-17 𝐞₁₂₄ + 2.78e-17 𝐞₂₃₄])"
      ]
     },
     "execution_count": 105,
     "metadata": {},
     "output_type": "execute_result"
    }
   ],
   "source": [
    "#5.5b\n",
    "[adjoint_outermorphism(rigid, a, alg) for a in sym_vecs], [l*a for a, l in zip(sym_vecs,rigid_eigs)], [a*l.reverse() for a, l in zip(sym_vecs,rigid_eigs)]"
   ]
  },
  {
   "cell_type": "code",
   "execution_count": 106,
   "metadata": {},
   "outputs": [
    {
     "data": {
      "text/plain": [
       "([1.1000000005681279], [1.1000000005681279])"
      ]
     },
     "execution_count": 106,
     "metadata": {},
     "output_type": "execute_result"
    }
   ],
   "source": [
    "[norm(l) for l in rigid_eigs], [np.sqrt(sym_eigs[k] ** 2 + skew_eigs[k] ** 2) for k in range(m)]"
   ]
  },
  {
   "cell_type": "code",
   "execution_count": 107,
   "metadata": {},
   "outputs": [
    {
     "data": {
      "text/plain": [
       "([-0.692 + -0.0423 𝐞₁₂ + -0.523 𝐞₁₃ + -0.546 𝐞₁₄ + -0.26 𝐞₂₃ + -0.28 𝐞₂₄ + -0.104 𝐞₃₄],\n",
       " [-0.692 + -0.0423 𝐞₁₂ + -0.523 𝐞₁₃ + -0.546 𝐞₁₄ + -0.26 𝐞₂₃ + -0.28 𝐞₂₄ + -0.104 𝐞₃₄])"
      ]
     },
     "execution_count": 107,
     "metadata": {},
     "output_type": "execute_result"
    }
   ],
   "source": [
    "#5.6\n",
    "rho = [norm(l) for l in rigid_eigs] # dilation\n",
    "theta = [np.arccos(sym_eigs[k] / rho[k]) for k in range(m)] # rotation angle\n",
    "\n",
    "rigid_eigs, [rho[k] * blade_exp(theta[k] * skew_blades[k]) for k in range(m)] # skew_blades gives rotation plane"
   ]
  },
  {
   "cell_type": "code",
   "execution_count": 108,
   "metadata": {},
   "outputs": [
    {
     "data": {
      "text/plain": [
       "0.6922600476481585"
      ]
     },
     "execution_count": 108,
     "metadata": {},
     "output_type": "execute_result"
    }
   ],
   "source": [
    "np.sqrt(1 - (skew_eigs[0]/rho[0])**2) * rho[0]"
   ]
  },
  {
   "cell_type": "code",
   "execution_count": 109,
   "metadata": {},
   "outputs": [
    {
     "data": {
      "text/plain": [
       "array([ 4.37738544, -3.27738544])"
      ]
     },
     "execution_count": 109,
     "metadata": {},
     "output_type": "execute_result"
    }
   ],
   "source": [
    "# spectral decomposition of symmetric part in other_sym_space\n",
    "other_sym_frame = blade_split(other_sym_space, alg)\n",
    "other_sym_eigs = np.roots(char_poly_coefs(rigid_p, alg, other_sym_frame, reciprocal(other_sym_frame)))\n",
    "other_sym_eigs"
   ]
  },
  {
   "cell_type": "code",
   "execution_count": 110,
   "metadata": {},
   "outputs": [
    {
     "data": {
      "text/plain": [
       "(-1.29 𝐞₁ + 2.49 𝐞₂ + 0.635 𝐞₃ + -1.98 𝐞₄,\n",
       " -1.29 𝐞₁ + 2.49 𝐞₂ + 0.635 𝐞₃ + -1.98 𝐞₄ + 1.67e-17 𝐞₁₂₃ + 2.13e-17 𝐞₁₂₄ + 2.78e-17 𝐞₁₃₄ + 2.95e-17 𝐞₂₃₄)"
      ]
     },
     "execution_count": 110,
     "metadata": {},
     "output_type": "execute_result"
    }
   ],
   "source": [
    "#5.9 spectral decomposition of a normal transformation\n",
    "sym_vecs_dual = [a|i for a, i in zip(sym_vecs, skew_blades)]\n",
    "other_sym_blades = eigenblades_from_values(rigid_p, other_sym_eigs, alg, other_sym_frame)\n",
    "\n",
    "rigid(x), sum([P(x, a) * l for a, l in zip(sym_vecs + sym_vecs_dual + other_sym_blades, rigid_eigs * 2 + list(other_sym_eigs))])"
   ]
  },
  {
   "cell_type": "code",
   "execution_count": 111,
   "metadata": {},
   "outputs": [
    {
     "data": {
      "text/plain": [
       "(array([-3.27738544, -0.69226005, -0.69226005,  4.37738544]),\n",
       " [0.109 𝐞₁ + 0.0559 𝐞₂ + -0.719 𝐞₃ + 0.684 𝐞₄,\n",
       "  0.886 𝐞₁ + 0.446 𝐞₂ + 0.0709 𝐞₃ + -0.103 𝐞₄,\n",
       "  0.000223 𝐞₁ + 0.056 𝐞₂ + 0.691 𝐞₃ + 0.721 𝐞₄,\n",
       "  0.451 𝐞₁ + -0.891 𝐞₂ + 0.0338 𝐞₃ + 0.0367 𝐞₄])"
      ]
     },
     "execution_count": 111,
     "metadata": {},
     "output_type": "execute_result"
    }
   ],
   "source": [
    "#5.17\n",
    "sym_eigs, sym_vecs = np.linalg.eigh(trans2matrix(rigid_p, alg))\n",
    "sym_vecs = [alg.vector(v) for v in sym_vecs.transpose()]\n",
    "sym_eigs, sym_vecs"
   ]
  },
  {
   "cell_type": "code",
   "execution_count": 112,
   "metadata": {},
   "outputs": [
    {
     "data": {
      "text/plain": [
       "[array([10.74125531, 10.74125531, 10.74125531, 10.74125531]),\n",
       " array([1.21, 1.21, 1.21, 1.21]),\n",
       " array([1.21, 1.21, 1.21, 1.21]),\n",
       " array([19.16150327, 19.16150327, 19.16150327, 19.16150327])]"
      ]
     },
     "execution_count": 112,
     "metadata": {},
     "output_type": "execute_result"
    }
   ],
   "source": [
    "# In my case, all vectors are both eigenvectors of rigid_p and rigid_n\n",
    "rigid_n = lambda x: rigid(adjoint_outermorphism(rigid, x, alg))\n",
    "[terms_ratio(rigid_n(v), v) for v in sym_vecs]"
   ]
  },
  {
   "cell_type": "code",
   "execution_count": 113,
   "metadata": {},
   "outputs": [
    {
     "data": {
      "text/plain": [
       "(-1.29 𝐞₁ + 2.49 𝐞₂ + 0.635 𝐞₃ + -1.98 𝐞₄,\n",
       " -1.29 𝐞₁ + 2.49 𝐞₂ + 0.635 𝐞₃ + -1.98 𝐞₄ + 7.43e-18 𝐞₁₂₃ + 9.38e-18 𝐞₁₂₄ + 3.8e-17 𝐞₁₃₄ + 5.44e-18 𝐞₂₃₄)"
      ]
     },
     "execution_count": 113,
     "metadata": {},
     "output_type": "execute_result"
    }
   ],
   "source": [
    "# the same spectral decomposition of the normal transformation\n",
    "beta = [v ^ rigid(v) for v in sym_vecs]\n",
    "rigid_eigs = [a + b for a,b in zip(sym_eigs, beta)]\n",
    "rigid(x), sum([P(x, a) * l for a, l in zip(sym_vecs, rigid_eigs)])"
   ]
  },
  {
   "cell_type": "code",
   "execution_count": 114,
   "metadata": {},
   "outputs": [
    {
     "data": {
      "text/plain": [
       "(0.163 + 0.88 𝐞₁ + 0.357 𝐞₂ + 0.64 𝐞₃ + 0.663 𝐞₄ + 0.974 𝐞₁₂ + 0.135 𝐞₁₃ + 0.247 𝐞₁₄ + 0.502 𝐞₂₃ + 0.971 𝐞₂₄ + 0.325 𝐞₃₄ + 0.352 𝐞₁₂₃ + 0.728 𝐞₁₂₄ + 0.392 𝐞₁₃₄ + 0.697 𝐞₂₃₄ + 0.568 𝐞₁₂₃₄,\n",
       " 0.163 + 2.19 𝐞₁ + -1.51 𝐞₂ + 0.103 𝐞₃ + 1.59 𝐞₄ + 19.3 𝐞₁₂ + 0.434 𝐞₁₃ + -12.4 𝐞₁₄ + -5.36 𝐞₂₃ + 28.2 𝐞₂₄ + 2.02 𝐞₃₄ + -14.0 𝐞₁₂₃ + 63.1 𝐞₁₂₄ + -51.5 𝐞₁₃₄ + 1.2e+02 𝐞₂₃₄ + 1.71e+02 𝐞₁₂₃₄)"
      ]
     },
     "execution_count": 114,
     "metadata": {},
     "output_type": "execute_result"
    }
   ],
   "source": [
    "#5.19 our function \"rigid\" is normal but not orthogonal\n",
    "A, outermorphism(rigid, adjoint_outermorphism(rigid, A, alg, h=1e-2), alg, h=1e-2)"
   ]
  },
  {
   "cell_type": "code",
   "execution_count": 115,
   "metadata": {},
   "outputs": [
    {
     "data": {
      "text/plain": [
       "(0.163 + 0.88 𝐞₁ + 0.357 𝐞₂ + 0.64 𝐞₃ + 0.663 𝐞₄ + 0.974 𝐞₁₂ + 0.135 𝐞₁₃ + 0.247 𝐞₁₄ + 0.502 𝐞₂₃ + 0.971 𝐞₂₄ + 0.325 𝐞₃₄ + 0.352 𝐞₁₂₃ + 0.728 𝐞₁₂₄ + 0.392 𝐞₁₃₄ + 0.697 𝐞₂₃₄ + 0.568 𝐞₁₂₃₄,\n",
       " 0.163 + 0.88 𝐞₁ + 0.357 𝐞₂ + 0.64 𝐞₃ + 0.663 𝐞₄ + 0.974 𝐞₁₂ + 0.135 𝐞₁₃ + 0.247 𝐞₁₄ + 0.502 𝐞₂₃ + 0.971 𝐞₂₄ + 0.325 𝐞₃₄ + 0.352 𝐞₁₂₃ + 0.728 𝐞₁₂₄ + 0.392 𝐞₁₃₄ + 0.697 𝐞₂₃₄ + 0.568 𝐞₁₂₃₄)"
      ]
     },
     "execution_count": 115,
     "metadata": {},
     "output_type": "execute_result"
    }
   ],
   "source": [
    "#5.19 But if we normalize each \"eigenvalues\" in the spectral decomposition\n",
    "ortho_eigs = [l.normalized() for l in rigid_eigs]\n",
    "ortho = lambda x: sum([P(x, a) * l for a, l in zip(sym_vecs, ortho_eigs)])\n",
    "A, outermorphism(ortho, adjoint_outermorphism(ortho, A, alg, h=1e-2), alg, h=1e-2)"
   ]
  },
  {
   "cell_type": "code",
   "execution_count": 116,
   "metadata": {},
   "outputs": [
    {
     "data": {
      "text/plain": [
       "(-0.176 𝐞₁ + 0.597 𝐞₂ + -0.144 𝐞₃ + -0.981 𝐞₄ + 8.78e-18 𝐞₁₂₃ + -6.73e-19 𝐞₁₂₄ + 7.95e-18 𝐞₁₃₄ + 1.43e-17 𝐞₂₃₄,\n",
       " -0.176 𝐞₁ + 0.597 𝐞₂ + -0.144 𝐞₃ + -0.981 𝐞₄ + 1.55e-17 𝐞₁₂₃ + -1.5e-17 𝐞₁₂₄ + -6.9e-18 𝐞₁₃₄ + -3.33e-17 𝐞₂₃₄)"
      ]
     },
     "execution_count": 116,
     "metadata": {},
     "output_type": "execute_result"
    }
   ],
   "source": [
    "#5.20 left/right product of exponential\n",
    "ortho(x), sum([l.inv() * P(x, a) for a, l in zip(sym_vecs, ortho_eigs)])"
   ]
  },
  {
   "cell_type": "code",
   "execution_count": 117,
   "metadata": {},
   "outputs": [
    {
     "data": {
      "text/plain": [
       "([9.71e-17 + -0.00101 𝐞₁₂ + 0.645 𝐞₁₃ + -0.617 𝐞₁₄ + 0.325 𝐞₂₃ + -0.311 𝐞₂₄ + 0.0254 𝐞₃₄,\n",
       "  -2.78e-17 + 0.0495 𝐞₁₂ + 0.612 𝐞₁₃ + 0.639 𝐞₁₄ + 0.304 𝐞₂₃ + 0.328 𝐞₂₄ + 0.122 𝐞₃₄,\n",
       "  2.08e-17 + -0.0254 𝐞₁₂ + -0.311 𝐞₁₃ + -0.325 𝐞₁₄ + 0.617 𝐞₂₃ + 0.645 𝐞₂₄ + 0.00101 𝐞₃₄],\n",
       " [0.0757 𝐞₁₂ + 0.238 𝐞₁₃ + -0.125 𝐞₁₄ + 0.524 𝐞₂₃ + -0.481 𝐞₂₄ + -0.645 𝐞₃₄,\n",
       "  -0.0495 𝐞₁₂ + -0.612 𝐞₁₃ + -0.639 𝐞₁₄ + -0.304 𝐞₂₃ + -0.328 𝐞₂₄ + -0.122 𝐞₃₄,\n",
       "  -0.0495 𝐞₁₂ + -0.612 𝐞₁₃ + -0.639 𝐞₁₄ + -0.304 𝐞₂₃ + -0.328 𝐞₂₄ + -0.122 𝐞₃₄,\n",
       "  -0.316 𝐞₁₃ + 0.316 𝐞₁₄ + 0.632 𝐞₂₃ + -0.632 𝐞₂₄ + 0.0488 𝐞₃₄])"
      ]
     },
     "execution_count": 117,
     "metadata": {},
     "output_type": "execute_result"
    }
   ],
   "source": [
    "#5.21\n",
    "(\n",
    "    [sym_vecs[k-1].normalized() * sym_vecs[k].normalized() for k in range(1, 4)],\n",
    "    [e.grade(2).normalized() for e in ortho_eigs]\n",
    ")\n"
   ]
  },
  {
   "cell_type": "code",
   "execution_count": 118,
   "metadata": {},
   "outputs": [
    {
     "data": {
      "text/plain": [
       "([0.109 𝐞₁ + 0.0559 𝐞₂ + -0.719 𝐞₃ + 0.684 𝐞₄,\n",
       "  0.886 𝐞₁ + 0.446 𝐞₂ + 0.0709 𝐞₃ + -0.103 𝐞₄,\n",
       "  0.000223 𝐞₁ + 0.056 𝐞₂ + 0.691 𝐞₃ + 0.721 𝐞₄,\n",
       "  0.451 𝐞₁ + -0.891 𝐞₂ + 0.0338 𝐞₃ + 0.0367 𝐞₄],\n",
       " [[0.109 𝐞₁ + 0.0559 𝐞₂ + -0.719 𝐞₃ + 0.684 𝐞₄,\n",
       "   0.109 𝐞₁ + 0.0559 𝐞₂ + -0.719 𝐞₃ + 0.684 𝐞₄,\n",
       "   0.109 𝐞₁ + 0.0559 𝐞₂ + -0.719 𝐞₃ + 0.684 𝐞₄],\n",
       "  [-0.558 𝐞₁ + -0.324 𝐞₂ + -0.581 𝐞₃ + -0.496 𝐞₄,\n",
       "   -0.558 𝐞₁ + -0.324 𝐞₂ + -0.581 𝐞₃ + -0.496 𝐞₄,\n",
       "   0.886 𝐞₁ + 0.446 𝐞₂ + 0.0709 𝐞₃ + -0.103 𝐞₄],\n",
       "  [0.688 𝐞₁ + 0.312 𝐞₂ + -0.379 𝐞₃ + -0.534 𝐞₄,\n",
       "   0.688 𝐞₁ + 0.312 𝐞₂ + -0.379 𝐞₃ + -0.534 𝐞₄,\n",
       "   0.000223 𝐞₁ + 0.056 𝐞₂ + 0.691 𝐞₃ + 0.721 𝐞₄],\n",
       "  [0.451 𝐞₁ + -0.891 𝐞₂ + 0.0338 𝐞₃ + 0.0367 𝐞₄,\n",
       "   0.451 𝐞₁ + -0.891 𝐞₂ + 0.0338 𝐞₃ + 0.0367 𝐞₄,\n",
       "   0.451 𝐞₁ + -0.891 𝐞₂ + 0.0338 𝐞₃ + 0.0367 𝐞₄]])"
      ]
     },
     "execution_count": 118,
     "metadata": {},
     "output_type": "execute_result"
    }
   ],
   "source": [
    "#5.23\n",
    "def simple_rotor_sqrt(R):\n",
    "    # for rotations only, don't use on screw motions\n",
    "    R_norm = norm(R+1)\n",
    "    assert R_norm >= 1e-4, \"no explicit square root for -1\"\n",
    "    return (R + 1)/R_norm\n",
    "    \n",
    "neg_eig_pairs = []\n",
    "eig_rotors = []\n",
    "for i, e in enumerate(ortho_eigs):\n",
    "    if normsq(e + 1) <= 1e-4:\n",
    "        neg_eig_pairs.append((-1, sym_vecs[i]))\n",
    "    else:\n",
    "        eig_rotors.append(simple_rotor_sqrt(e))\n",
    "\n",
    "sym_vecs, [[e.reverse().sw(a) for e in eig_rotors] for a in sym_vecs]"
   ]
  },
  {
   "cell_type": "code",
   "execution_count": 119,
   "metadata": {},
   "outputs": [
    {
     "data": {
      "text/plain": [
       "(-0.176 𝐞₁ + 0.597 𝐞₂ + -0.144 𝐞₃ + -0.981 𝐞₄ + 8.78e-18 𝐞₁₂₃ + -6.73e-19 𝐞₁₂₄ + 7.95e-18 𝐞₁₃₄ + 1.43e-17 𝐞₂₃₄,\n",
       " -0.176 𝐞₁ + 0.597 𝐞₂ + -0.144 𝐞₃ + -0.981 𝐞₄)"
      ]
     },
     "execution_count": 119,
     "metadata": {},
     "output_type": "execute_result"
    }
   ],
   "source": [
    "#5.25 I selected an example with -1 as an eigenvalue, \n",
    "# so we need an extra fix for the canonical form.\n",
    "theta = reduce(alg.gp, eig_rotors[::2])\n",
    "(\n",
    "    ortho(x),\n",
    "    theta.reverse().sw(x) - (2*sum(P(x, neg_eig_pairs[i][1]) for i in range(len(neg_eig_pairs))))\n",
    ")\n"
   ]
  },
  {
   "cell_type": "code",
   "execution_count": 120,
   "metadata": {},
   "outputs": [
    {
     "data": {
      "text/plain": [
       "(-0.159 + 0.00733 𝐞₁₂ + -0.629 𝐞₁₃ + 0.283 𝐞₁₄ + -0.0134 𝐞₂₃ + -0.0238 𝐞₂₄ + 0.7 𝐞₃₄ + 0.0856 𝐞₁₂₃₄,\n",
       " -0.159 + 0.00733 𝐞₁₂ + -0.629 𝐞₁₃ + 0.283 𝐞₁₄ + -0.0134 𝐞₂₃ + -0.0238 𝐞₂₄ + 0.7 𝐞₃₄ + 0.0856 𝐞₁₂₃₄)"
      ]
     },
     "execution_count": 120,
     "metadata": {},
     "output_type": "execute_result"
    }
   ],
   "source": [
    "#5.28\n",
    "blade_exp(F1) * blade_exp(F2), blade_exp(F2) * blade_exp(F1), "
   ]
  },
  {
   "cell_type": "code",
   "execution_count": 121,
   "metadata": {},
   "outputs": [
    {
     "data": {
      "text/plain": [
       "(0.16 + -0.0173 𝐞₁₂ + 0.631 𝐞₁₃ + -0.284 𝐞₁₄ + 0.00941 𝐞₂₃ + 0.015 𝐞₂₄ + -0.703 𝐞₃₄,\n",
       " 0.16 + -0.0173 𝐞₁₂ + 0.631 𝐞₁₃ + -0.284 𝐞₁₄ + 0.00941 𝐞₂₃ + 0.015 𝐞₂₄ + -0.703 𝐞₃₄)"
      ]
     },
     "execution_count": 121,
     "metadata": {},
     "output_type": "execute_result"
    }
   ],
   "source": [
    "#5.29\n",
    "blade_exp_ = blade_exp(F1)\n",
    "u1 = P(e1, F1).normalized()\n",
    "u2 = u1 | blade_exp_\n",
    "blade_exp_, u1 * u2"
   ]
  },
  {
   "cell_type": "code",
   "execution_count": 122,
   "metadata": {},
   "outputs": [
    {
     "data": {
      "text/plain": [
       "(0.0666 𝐞₁ + 0.798 𝐞₂ + 0.853 𝐞₃ + 0.0125 𝐞₄,\n",
       " 0.0666 𝐞₁ + 0.798 𝐞₂ + 0.853 𝐞₃ + 0.0125 𝐞₄)"
      ]
     },
     "execution_count": 122,
     "metadata": {},
     "output_type": "execute_result"
    }
   ],
   "source": [
    "# reflection as sandwich product\n",
    "x - 2 * P(x, neg_eig_pairs[0][1]), -neg_eig_pairs[0][1].sw(x)"
   ]
  },
  {
   "cell_type": "code",
   "execution_count": 123,
   "metadata": {},
   "outputs": [
    {
     "data": {
      "text/plain": [
       "(-0.176 𝐞₁ + 0.597 𝐞₂ + -0.144 𝐞₃ + -0.981 𝐞₄ + 8.78e-18 𝐞₁₂₃ + -6.73e-19 𝐞₁₂₄ + 7.95e-18 𝐞₁₃₄ + 1.43e-17 𝐞₂₃₄,\n",
       " -0.176 𝐞₁ + 0.597 𝐞₂ + -0.144 𝐞₃ + -0.981 𝐞₄,\n",
       " -0.176 𝐞₁ + 0.597 𝐞₂ + -0.144 𝐞₃ + -0.981 𝐞₄)"
      ]
     },
     "execution_count": 123,
     "metadata": {},
     "output_type": "execute_result"
    }
   ],
   "source": [
    "#5.30\n",
    "theta2 = theta * neg_eig_pairs[0][1]\n",
    "ortho(x), -neg_eig_pairs[0][1].sw(theta.reverse().sw(x)), -theta2.reverse().sw(x)"
   ]
  },
  {
   "cell_type": "code",
   "execution_count": 124,
   "metadata": {},
   "outputs": [
    {
     "data": {
      "text/plain": [
       "(-0.409 𝐞₁₂₃ + -0.361 𝐞₁₂₄ + -0.434 𝐞₁₃₄ + 0.717 𝐞₂₃₄,\n",
       " -0.409 𝐞₁₂₃ + -0.361 𝐞₁₂₄ + -0.434 𝐞₁₃₄ + 0.717 𝐞₂₃₄)"
      ]
     },
     "execution_count": 124,
     "metadata": {},
     "output_type": "execute_result"
    }
   ],
   "source": [
    "#5.37a\n",
    "outermorphism(ortho, A3, alg), (-1)**(3*1)*theta2.reverse().sw(A3)"
   ]
  },
  {
   "cell_type": "code",
   "execution_count": 125,
   "metadata": {},
   "outputs": [
    {
     "data": {
      "text/plain": [
       "(-0.119 𝐞₁₂ + -1.31 𝐞₁₃ + -1.81 𝐞₁₄ + 1.21 𝐞₂₃ + 1.69 𝐞₂₄ + 0.0943 𝐞₃₄,\n",
       " -0.119 𝐞₁₂ + -1.31 𝐞₁₃ + -1.81 𝐞₁₄ + 1.21 𝐞₂₃ + 1.69 𝐞₂₄ + 0.0943 𝐞₃₄)"
      ]
     },
     "execution_count": 125,
     "metadata": {},
     "output_type": "execute_result"
    }
   ],
   "source": [
    "#5.37b\n",
    "adjoint_outermorphism(ortho, F2, alg), (-1)**(2*1)*theta2.sw(F2)"
   ]
  },
  {
   "cell_type": "code",
   "execution_count": 126,
   "metadata": {},
   "outputs": [
    {
     "data": {
      "text/plain": [
       "(-0.732 𝐞₁ + 0.636 𝐞₂ + 1.21 𝐞₃ + 1.68 𝐞₄ + 0.676 𝐞₁₂₃ + -0.444 𝐞₁₂₄ + -1.66 𝐞₁₃₄ + -0.841 𝐞₂₃₄,\n",
       " -0.732 𝐞₁ + 0.636 𝐞₂ + 1.21 𝐞₃ + 1.68 𝐞₄ + 0.676 𝐞₁₂₃ + -0.444 𝐞₁₂₄ + -1.66 𝐞₁₃₄ + -0.841 𝐞₂₃₄)"
      ]
     },
     "execution_count": 126,
     "metadata": {},
     "output_type": "execute_result"
    }
   ],
   "source": [
    "#5.38\n",
    "outermorphism(ortho, A3 * F2, alg), outermorphism(ortho, A3, alg) * outermorphism(ortho, F2, alg)"
   ]
  },
  {
   "cell_type": "code",
   "execution_count": 144,
   "metadata": {},
   "outputs": [
    {
     "data": {
      "text/plain": [
       "-2.76 + 1.39e-17 𝐞₁₂ + 6.94e-18 𝐞₁₃ + 5.55e-17 𝐞₁₅ + -2.08e-17 𝐞₂₅ + 0.735 𝐞₁₂₃₄ + -0.649 𝐞₁₂₃₅ + 0.526 𝐞₁₂₄₅ + 0.586 𝐞₁₃₄₅ + -1.17 𝐞₂₃₄₅"
      ]
     },
     "execution_count": 144,
     "metadata": {},
     "output_type": "execute_result"
    }
   ],
   "source": [
    "#5.39\n",
    "from scipy.stats import ortho_group\n",
    "matrix = ortho_group.rvs(dim=5)\n",
    "alg = Algebra(5)\n",
    "ortho = matrix2trans(matrix, alg)\n",
    "x = create_r_vectors(1, alg)[0]\n",
    "ortho_curl = curl(ortho, x, alg, grade=1)\n",
    "ortho_curl ** 2"
   ]
  },
  {
   "cell_type": "code",
   "execution_count": 145,
   "metadata": {},
   "outputs": [
    {
     "data": {
      "text/plain": [
       "(0.144 𝐞₁ + 0.962 𝐞₂ + 0.543 𝐞₃ + 0.724 𝐞₄ + 0.346 𝐞₅,\n",
       " 0.144 𝐞₁ + 0.962 𝐞₂ + 0.543 𝐞₃ + 0.724 𝐞₄ + 0.346 𝐞₅)"
      ]
     },
     "execution_count": 145,
     "metadata": {},
     "output_type": "execute_result"
    }
   ],
   "source": [
    "# check orthogonality\n",
    "x, ortho(adjoint_outermorphism(ortho, x, alg, h=1e-2))"
   ]
  },
  {
   "cell_type": "code",
   "execution_count": 146,
   "metadata": {},
   "outputs": [],
   "source": [
    "# only a single vector left in the dual of skew blades, \n",
    "# so it's the remaining eigenvector for the symmetric part\n",
    "# with eigenvalue 1 or -1: identity or a reflection\n",
    "\n",
    "skew_blades = bivector_split(ortho_curl/2, alg)\n",
    "sym_vec = reduce(alg.ip, skew_blades, alg.pseudoscalar((1,)))\n",
    "sym_vec = sym_vec / norm(sym_vec)\n",
    "p = 0\n",
    "if max_diff(ortho(sym_vec), -sym_vec) < 1e-6:\n",
    "    p += 1"
   ]
  },
  {
   "cell_type": "code",
   "execution_count": 147,
   "metadata": {},
   "outputs": [
    {
     "data": {
      "text/plain": [
       "(0.481 𝐞₁ + 0.845 𝐞₂ + 0.465 𝐞₃ + 0.849 𝐞₄ + -0.0193 𝐞₅ + -1.84e-18 𝐞₁₂₃₄₅,\n",
       " 0.481 𝐞₁ + 0.845 𝐞₂ + 0.465 𝐞₃ + 0.849 𝐞₄ + -0.0193 𝐞₅)"
      ]
     },
     "execution_count": 147,
     "metadata": {},
     "output_type": "execute_result"
    }
   ],
   "source": [
    "rotors = []\n",
    "for blade in skew_blades:\n",
    "    t = P(sum(alg.frame), blade)\n",
    "    # blade_norm = norm(blade)\n",
    "    # we can't simply rely on ortho_m:\n",
    "    # angle = np.arcsin(blade_norm) has no unique solution in [0, pi].\n",
    "    # (pi - angle) generates the same sine, but differnt cosine (alpha).\n",
    "    \n",
    "    alpha = np.median(terms_ratio(ortho(t) - (t | ortho_curl)/2, t))\n",
    "    # half_blade_ortho = (angle/blade_norm/2) * blade.reverse()\n",
    "    # rotors.append(blade_exp(half_blade_ortho))\n",
    "    rotors.append(simple_rotor_sqrt(alpha + blade))\n",
    "rotor = reduce(alg.gp, rotors)\n",
    "if p == 1:\n",
    "    rotor2 = sym_vec * rotor\n",
    "else:\n",
    "    rotor2 = rotor\n",
    "(-1) ** p * rotor2.reverse().sw(x), ortho(x)"
   ]
  },
  {
   "cell_type": "code",
   "execution_count": 148,
   "metadata": {},
   "outputs": [
    {
     "data": {
      "text/plain": [
       "array([0.14474359, 0.14474359, 0.14474359, 0.14474359, 0.14474359,\n",
       "       0.14474359, 0.14474359, 0.14474359, 0.14474359, 0.14474359,\n",
       "       0.14474359, 0.14474359, 0.14474359, 0.14474359, 0.14474359,\n",
       "       0.14474359])"
      ]
     },
     "execution_count": 148,
     "metadata": {},
     "output_type": "execute_result"
    }
   ],
   "source": [
    "# On the other hand, we can solve the rotor part by Lasenby's method\n",
    "frame = [item for blade in skew_blades for item in blade_split(blade, alg)]\n",
    "r_frame = reciprocal(frame)\n",
    "lasenby_rotor = sum(char_multi_linear(ortho, s, alg, frame, r_frame) for s in range(5))\n",
    "terms_ratio(rotor, lasenby_rotor)"
   ]
  },
  {
   "cell_type": "code",
   "execution_count": 151,
   "metadata": {},
   "outputs": [
    {
     "data": {
      "text/plain": [
       "(0.481 𝐞₁ + 0.845 𝐞₂ + 0.465 𝐞₃ + 0.849 𝐞₄ + -0.0193 𝐞₅ + -1.11e-16 𝐞₁₂₃₄₅,\n",
       " 0.481 𝐞₁ + 0.845 𝐞₂ + 0.465 𝐞₃ + 0.849 𝐞₄ + -0.0193 𝐞₅)"
      ]
     },
     "execution_count": 151,
     "metadata": {},
     "output_type": "execute_result"
    }
   ],
   "source": [
    "# For orthogonal transform, we simply normalize it\n",
    "l_rotor = lasenby_rotor/norm(lasenby_rotor)\n",
    "if p == 1:\n",
    "    l_rotor2 = l_rotor * sym_vec\n",
    "else:\n",
    "    l_rotor2 = l_rotor\n",
    "(-1) ** p * l_rotor2.reverse().sw(x), ortho(x)"
   ]
  },
  {
   "cell_type": "code",
   "execution_count": 155,
   "metadata": {},
   "outputs": [
    {
     "data": {
      "text/plain": [
       "(array([0.43179804, 0.43179804, 0.43179804, 0.43179804, 0.43179804]),\n",
       " array([0.12442337, 0.12442337, 0.12442337, 0.12442337, 0.12442337]))"
      ]
     },
     "execution_count": 155,
     "metadata": {},
     "output_type": "execute_result"
    }
   ],
   "source": [
    "# Because sym_vec is orthogonal to rotor, we can extract sym_vec from l_rotor:\n",
    "terms_ratio(l_rotor2.grade(1), sym_vec), terms_ratio(l_rotor | alg.pseudoscalar((1,)), sym_vec)"
   ]
  },
  {
   "cell_type": "code",
   "execution_count": 158,
   "metadata": {},
   "outputs": [],
   "source": [
    "# From Graded Symmetry Groups: Plane and Simple, \n",
    "# instead of solving linear equations, the solutions are given algebraically\n",
    "def tangent_split(R, alg: Algebra):  \n",
    "    # FIXME: it produce nonsimple tangents\n",
    "    m = alg.d // 2\n",
    "    if m <= 1:\n",
    "        return F\n",
    "    Ck = [R.grade(2*r) for r in range(m+1)]\n",
    "    Ck2 = [(-1)**(m - i) * alg.sp(Ck[i], Ck[i])[0] for i in range(m+1)]\n",
    "    Lk = np.roots(Ck2)\n",
    "    tangents = []\n",
    "    for l in Lk:\n",
    "        even = sum(l ** r * c for r, c in enumerate(Ck[-1::-2]))\n",
    "        odd = sum(l ** r * c for r, c in enumerate(Ck[-2::-2]))\n",
    "        tangents.append(even * odd.reverse() / normsq(odd)) # FIXME: the inverse is wrong\n",
    "    return tangents"
   ]
  },
  {
   "cell_type": "code",
   "execution_count": 163,
   "metadata": {},
   "outputs": [
    {
     "data": {
      "text/plain": [
       "([0.433 + -0.000851 𝐞₁₂ + -0.534 𝐞₁₃ + 0.289 𝐞₁₄ + 0.126 𝐞₁₅ + 0.459 𝐞₂₃ + -0.162 𝐞₂₄ + -0.184 𝐞₂₅ + 0.25 𝐞₃₄ + 0.267 𝐞₃₅ + -0.153 𝐞₄₅ + 4.7e-18 𝐞₁₂₃₄ + -1.88e-18 𝐞₁₂₃₅ + -7.53e-18 𝐞₁₂₄₅ + 7.64e-18 𝐞₁₃₄₅ + 4.59e-18 𝐞₂₃₄₅,\n",
       "  0.99 + -0.00632 𝐞₁₂ + -0.00815 𝐞₁₃ + 0.025 𝐞₁₄ + -0.0213 𝐞₁₅ + 0.0279 𝐞₂₃ + 0.0695 𝐞₂₄ + -0.0713 𝐞₂₅ + 0.026 𝐞₃₄ + -0.0322 𝐞₃₅ + -0.0766 𝐞₄₅ + 1.08e-17 𝐞₁₂₃₄ + -4.3e-18 𝐞₁₂₃₅ + -1.72e-17 𝐞₁₂₄₅ + 1.75e-17 𝐞₁₃₄₅ + 1.05e-17 𝐞₂₃₄₅],\n",
       " [0.99 + -0.00642 𝐞₁₂ + 0.00304 𝐞₁₃ + 0.0193 𝐞₁₄ + -0.0244 𝐞₁₅ + 0.0187 𝐞₂₃ + 0.0742 𝐞₂₄ + -0.0687 𝐞₂₅ + 0.0212 𝐞₃₄ + -0.0385 𝐞₃₅ + -0.0748 𝐞₄₅,\n",
       "  0.436 + 0.00477 𝐞₁₂ + -0.541 𝐞₁₃ + 0.274 𝐞₁₄ + 0.149 𝐞₁₅ + 0.446 𝐞₂₃ + -0.228 𝐞₂₄ + -0.125 𝐞₂₅ + 0.233 𝐞₃₄ + 0.302 𝐞₃₅ + -0.0891 𝐞₄₅])"
      ]
     },
     "execution_count": 163,
     "metadata": {},
     "output_type": "execute_result"
    }
   ],
   "source": [
    "tangents = tangent_split(l_rotor, alg)\n",
    "rotors2 = []\n",
    "for t in tangents:\n",
    "    r = 1+t\n",
    "    rotors2.append(r/norm(r))\n",
    "rotors2, rotors "
   ]
  },
  {
   "cell_type": "code",
   "execution_count": 165,
   "metadata": {},
   "outputs": [
    {
     "data": {
      "text/plain": [
       "(0.395 + -0.00358 𝐞₁₂ + -0.533 𝐞₁₃ + 0.297 𝐞₁₄ + 0.116 𝐞₁₅ + 0.466 𝐞₂₃ + -0.13 𝐞₂₄ + -0.213 𝐞₂₅ + 0.259 𝐞₃₄ + 0.25 𝐞₃₅ + -0.185 𝐞₄₅ + 0.0537 𝐞₁₂₃₄ + -0.0475 𝐞₁₂₃₅ + 0.0384 𝐞₁₂₄₅ + 0.0428 𝐞₁₃₄₅ + -0.0858 𝐞₂₃₄₅,\n",
       " 0.432 + 0.00193 𝐞₁₂ + -0.535 𝐞₁₃ + 0.28 𝐞₁₄ + 0.137 𝐞₁₅ + 0.45 𝐞₂₃ + -0.193 𝐞₂₄ + -0.154 𝐞₂₅ + 0.24 𝐞₃₄ + 0.283 𝐞₃₅ + -0.121 𝐞₄₅ + 0.0532 𝐞₁₂₃₄ + -0.047 𝐞₁₂₃₅ + 0.038 𝐞₁₂₄₅ + 0.0424 𝐞₁₃₄₅ + -0.0849 𝐞₂₃₄₅,\n",
       " -0.813 + 1.04e-17 𝐞₁₂ + -3.47e-18 𝐞₁₄ + 6.94e-18 𝐞₁₅ + -1.39e-17 𝐞₂₅ + 0.0919 𝐞₁₂₃₄ + -0.0812 𝐞₁₂₃₅ + 0.0657 𝐞₁₂₄₅ + 0.0732 𝐞₁₃₄₅ + -0.147 𝐞₂₃₄₅)"
      ]
     },
     "execution_count": 165,
     "metadata": {},
     "output_type": "execute_result"
    }
   ],
   "source": [
    "gprod(rotors2), l_rotor, rotors2[0].grade(2) ** 2"
   ]
  },
  {
   "cell_type": "code",
   "execution_count": null,
   "metadata": {},
   "outputs": [],
   "source": []
  }
 ],
 "metadata": {
  "kernelspec": {
   "display_name": "Python 3",
   "language": "python",
   "name": "python3"
  },
  "language_info": {
   "codemirror_mode": {
    "name": "ipython",
    "version": 3
   },
   "file_extension": ".py",
   "mimetype": "text/x-python",
   "name": "python",
   "nbconvert_exporter": "python",
   "pygments_lexer": "ipython3",
   "version": "3.10.5"
  }
 },
 "nbformat": 4,
 "nbformat_minor": 2
}
