{
 "cells": [
  {
   "cell_type": "markdown",
   "metadata": {},
   "source": [
    "### Linear and Multilinear Functions"
   ]
  },
  {
   "cell_type": "code",
   "execution_count": 117,
   "metadata": {},
   "outputs": [],
   "source": [
    "from kingdon import Algebra\n",
    "from gc_utils import *\n",
    "import numpy as np\n",
    "# use vanilla algebra, so we're not bother by the sign of I*I.reverse()\n",
    "alg = Algebra(4) \n",
    "locals().update(alg.blades)"
   ]
  },
  {
   "cell_type": "code",
   "execution_count": 118,
   "metadata": {},
   "outputs": [
    {
     "data": {
      "text/plain": [
       "(1.56 𝐞₁ + 2.99 𝐞₂ + 2.8 𝐞₃ + -0.706 𝐞₄,\n",
       " 1.56 𝐞₁ + 2.99 𝐞₂ + 2.8 𝐞₃ + -0.706 𝐞₄)"
      ]
     },
     "execution_count": 118,
     "metadata": {},
     "output_type": "execute_result"
    }
   ],
   "source": [
    "#1.1 linear transformation\n",
    "A = create_random_multivector(alg)\n",
    "B = create_random_multivector(alg)\n",
    "C = create_random_multivector(alg)\n",
    "D = create_random_multivector(alg)\n",
    "x = create_random_multivector(alg).grade(1)\n",
    "a = create_random_multivector(alg).grade(1)\n",
    "f = lambda x: (A*x*B+C*x*D).grade(1)\n",
    "differential(f, x, a), f(a)"
   ]
  },
  {
   "cell_type": "code",
   "execution_count": 119,
   "metadata": {},
   "outputs": [
    {
     "data": {
      "text/plain": [
       "(11.6 𝐞₁ + -0.0601 𝐞₂ + -4.63 𝐞₃ + 2.76 𝐞₄,\n",
       " 11.6 𝐞₁ + -0.0601 𝐞₂ + -4.63 𝐞₃ + 2.76 𝐞₄)"
      ]
     },
     "execution_count": 119,
     "metadata": {},
     "output_type": "execute_result"
    }
   ],
   "source": [
    "#1.2\n",
    "g = lambda x: (C*x*D).grade(1)\n",
    "g(f(a)), differential(g, f(a), f(a))"
   ]
  },
  {
   "cell_type": "code",
   "execution_count": 120,
   "metadata": {},
   "outputs": [],
   "source": [
    "# modify the input of the original skew_symmetrizer: a multivector Ar instead of vectors\n",
    "def skew_symmetrizer(F, Ar, alg, h=1e-6, frame=None, r_frame=None):\n",
    "    if not frame:\n",
    "        frame = alg.frame\n",
    "        r_frame = reciprocal(alg.frame)\n",
    "    drF = 0\n",
    "    r = Ar.grades[0]\n",
    "    for base_vectors, reci_vectors in zip(permutations(frame, r), permutations(r_frame, r)):\n",
    "        # if F is linear, vectors cause no difference in vectors_partial. The input is just Ar.\n",
    "        # So actually we allow Ar being any multivector\n",
    "        drF += (Ar.sp(wedge(base_vectors[::-1]))) * vectors_partial(F, np.zeros(r), reci_vectors, h=h)\n",
    "    return (1/factorial(r)) * drF"
   ]
  },
  {
   "cell_type": "code",
   "execution_count": 121,
   "metadata": {},
   "outputs": [
    {
     "data": {
      "text/plain": [
       "(-1.18 𝐞₁ + 2.37 𝐞₂ + 2.3 𝐞₃ + -0.378 𝐞₄,\n",
       " -1.18 𝐞₁ + 2.37 𝐞₂ + 2.3 𝐞₃ + -0.378 𝐞₄)"
      ]
     },
     "execution_count": 121,
     "metadata": {},
     "output_type": "execute_result"
    }
   ],
   "source": [
    "#1.4 Extend a vector function to a multivector function.\n",
    "# For linear f we ignore the position where f is measured, \n",
    "# just the differential at each direction.\n",
    "def outermorphism(f, A: MultiVector, alg, h=1e-6, frame=None, r_frame=None):\n",
    "    wf = lambda vectors: wedge([f(v) for v in vectors])\n",
    "    outer = 0\n",
    "    for r in A.grades:\n",
    "        if r == 0:\n",
    "           outer += A.grade(0)\n",
    "           continue\n",
    "        outer += skew_symmetrizer(wf, A.grade(r), alg, h, frame, r_frame)\n",
    "    return outer\n",
    "\n",
    "outermorphism(f, x, alg), f(x)"
   ]
  },
  {
   "cell_type": "code",
   "execution_count": 122,
   "metadata": {},
   "outputs": [
    {
     "data": {
      "text/plain": [
       "(0.416 + 1.98 𝐞₁ + -0.65 𝐞₂ + 2.91 𝐞₃ + -1.04 𝐞₄ + -0.267 𝐞₁₂ + -0.781 𝐞₁₃ + 0.219 𝐞₁₄ + 0.649 𝐞₂₃ + -0.212 𝐞₂₄ + -0.0878 𝐞₃₄,\n",
       " 0.416 + 1.98 𝐞₁ + -0.65 𝐞₂ + 2.91 𝐞₃ + -1.04 𝐞₄ + -0.267 𝐞₁₂ + -0.781 𝐞₁₃ + 0.219 𝐞₁₄ + 0.649 𝐞₂₃ + -0.212 𝐞₂₄ + -0.0878 𝐞₃₄)"
      ]
     },
     "execution_count": 122,
     "metadata": {},
     "output_type": "execute_result"
    }
   ],
   "source": [
    "#1.6 A frame can be arbitrary as long as it represent the same space. \n",
    "# It's pretty handy to specify a domain.\n",
    "h = 1e-2\n",
    "A2 = e12\n",
    "A2frame = [e1, e2]\n",
    "A2r_frame = reciprocal(A2frame)\n",
    "\n",
    "outermorphism(f, P(A, A2), alg, h, frame=A2frame, r_frame=A2r_frame), outermorphism(f, A, alg, h, frame=A2frame, r_frame=A2r_frame)"
   ]
  },
  {
   "cell_type": "code",
   "execution_count": 123,
   "metadata": {},
   "outputs": [
    {
     "data": {
      "text/plain": [
       "(-28.2 𝐞₁₂₃ + 44.3 𝐞₁₂₄ + 23.0 𝐞₁₃₄ + -13.0 𝐞₂₃₄,\n",
       " -28.2 𝐞₁₂₃ + 44.3 𝐞₁₂₄ + 23.0 𝐞₁₃₄ + -13.0 𝐞₂₃₄)"
      ]
     },
     "execution_count": 123,
     "metadata": {},
     "output_type": "execute_result"
    }
   ],
   "source": [
    "#1.7 An outermorphism preserves outer products\n",
    "vectors = create_r_vectors(3, alg)\n",
    "outermorphism(f, wedge(vectors), alg), wedge([f(v) for v in vectors])"
   ]
  },
  {
   "cell_type": "code",
   "execution_count": 124,
   "metadata": {},
   "outputs": [
    {
     "data": {
      "text/plain": [
       "(0.547 + 2.49 𝐞₁ + 3.83 𝐞₂ + 1.32 𝐞₃ + 1.39 𝐞₄ + -3.56 𝐞₁₂ + -0.894 𝐞₁₃ + -7.24 𝐞₁₄ + -15.8 𝐞₂₃ + 7.21 𝐞₂₄ + -0.231 𝐞₃₄ + 1.43e+02 𝐞₁₂₃ + -73.5 𝐞₁₂₄ + -9.07 𝐞₁₃₄ + 32.7 𝐞₂₃₄ + -50.5 𝐞₁₂₃₄,\n",
       " 0.547 + 2.49 𝐞₁ + 3.83 𝐞₂ + 1.32 𝐞₃ + 1.39 𝐞₄ + -3.56 𝐞₁₂ + -0.894 𝐞₁₃ + -7.24 𝐞₁₄ + -15.8 𝐞₂₃ + 7.21 𝐞₂₄ + -0.231 𝐞₃₄ + 1.43e+02 𝐞₁₂₃ + -73.5 𝐞₁₂₄ + -9.07 𝐞₁₃₄ + 32.7 𝐞₂₃₄ + -50.5 𝐞₁₂₃₄)"
      ]
     },
     "execution_count": 124,
     "metadata": {},
     "output_type": "execute_result"
    }
   ],
   "source": [
    "# By 1.7, splitting A into simple blades, we get an easier implement of 1.4\n",
    "# Here, the value at v replaces the slope at direction v by linearity\n",
    "def outermorphism_(f, A: MultiVector, alg):\n",
    "    outer = A.grade(0)\n",
    "    for vectors in multi_frame_vectors(alg.frame):\n",
    "        Vr = wedge(reciprocal(vectors)[::-1])\n",
    "        outer += alg.sp(Vr,A) * wedge([f(v) for v in vectors]) # frame split of A\n",
    "    return outer\n",
    "\n",
    "outermorphism_(f, D, alg), outermorphism(f, D, alg)"
   ]
  },
  {
   "cell_type": "code",
   "execution_count": 125,
   "metadata": {},
   "outputs": [
    {
     "data": {
      "text/plain": [
       "(0.416 + 4.01 𝐞₁ + 3.2 𝐞₂ + 2.85 𝐞₃ + 0.0516 𝐞₄ + -18.9 𝐞₁₂ + 3.23 𝐞₁₃ + -3.2 𝐞₁₄ + 10.9 𝐞₂₃ + -1.4 𝐞₂₄ + -0.461 𝐞₃₄ + -63.7 𝐞₁₂₃ + 59.6 𝐞₁₂₄ + 4.52 𝐞₁₃₄ + -13.1 𝐞₂₃₄ + -2.15e+02 𝐞₁₂₃₄,\n",
       " 0.416 + 4.01 𝐞₁ + 3.2 𝐞₂ + 2.85 𝐞₃ + 0.0516 𝐞₄ + -18.9 𝐞₁₂ + 3.23 𝐞₁₃ + -3.2 𝐞₁₄ + 10.9 𝐞₂₃ + -1.4 𝐞₂₄ + -0.461 𝐞₃₄ + -63.7 𝐞₁₂₃ + 59.6 𝐞₁₂₄ + 4.52 𝐞₁₃₄ + -13.1 𝐞₂₃₄ + -2.15e+02 𝐞₁₂₃₄)"
      ]
     },
     "execution_count": 125,
     "metadata": {},
     "output_type": "execute_result"
    }
   ],
   "source": [
    "#1.9 anoter outer product property\n",
    "outermorphism(f, A.reverse(), alg), outermorphism(f, A, alg).reverse()"
   ]
  },
  {
   "cell_type": "code",
   "execution_count": 126,
   "metadata": {},
   "outputs": [
    {
     "data": {
      "text/plain": [
       "(0.416 + 4.01 𝐞₁ + 3.2 𝐞₂ + 18.9 𝐞₁₂, 0.416 + 4.01 𝐞₁ + 3.2 𝐞₂ + 18.9 𝐞₁₂)"
      ]
     },
     "execution_count": 126,
     "metadata": {},
     "output_type": "execute_result"
    }
   ],
   "source": [
    "#1.10\n",
    "fA2 = lambda x: P(f(x), A2)\n",
    "outermorphism(fA2, A, alg), P(outermorphism(fA2, A, alg), A2)"
   ]
  },
  {
   "cell_type": "code",
   "execution_count": 127,
   "metadata": {},
   "outputs": [],
   "source": [
    "#1.11\n",
    "def adjoint_outermorphism(f, A, alg, h=1e-6, frame=None, r_frame=None):\n",
    "    F = lambda vectors: wedge([f(v) for v in vectors]).sp(A)\n",
    "    outer = 0\n",
    "    for r in A.grades:\n",
    "        if r == 0:\n",
    "           outer += A.grade(0)\n",
    "           continue\n",
    "        # Why np.zeros(r)? The derivative of a linear function is constant\n",
    "        outer += simplicial_derivative(F, np.zeros(r), alg, h, frame, r_frame)\n",
    "    return outer"
   ]
  },
  {
   "cell_type": "code",
   "execution_count": 128,
   "metadata": {},
   "outputs": [
    {
     "data": {
      "text/plain": [
       "(0.416 + 0.951 𝐞₁ + 0.2 𝐞₂ + 5.32 𝐞₃ + 2.67 𝐞₄ + -0.267 𝐞₁₂ + -0.868 𝐞₁₃ + -0.304 𝐞₁₄ + 1.31 𝐞₂₃ + 0.686 𝐞₂₄ + 0.741 𝐞₃₄,\n",
       " 0.416 + 0.951 𝐞₁ + 0.2 𝐞₂ + 5.32 𝐞₃ + 2.67 𝐞₄ + -0.267 𝐞₁₂ + -0.868 𝐞₁₃ + -0.304 𝐞₁₄ + 1.31 𝐞₂₃ + 0.686 𝐞₂₄ + 0.741 𝐞₃₄)"
      ]
     },
     "execution_count": 128,
     "metadata": {},
     "output_type": "execute_result"
    }
   ],
   "source": [
    "#1.12\n",
    "adjoint_outermorphism(fA2, P(A, A2), alg), adjoint_outermorphism(fA2, A, alg)"
   ]
  },
  {
   "cell_type": "code",
   "execution_count": 129,
   "metadata": {},
   "outputs": [
    {
     "data": {
      "text/plain": [
       "(0.204 + 2.02 𝐞₁ + 1.25 𝐞₂ + 4.52 𝐞₃ + 2.14 𝐞₄ + 4.55 𝐞₁₂ + -1.86 𝐞₁₃ + -11.5 𝐞₁₄ + -7.26 𝐞₂₃ + -6.19 𝐞₂₄ + -9.11 𝐞₃₄ + 35.3 𝐞₁₂₃ + 26.6 𝐞₁₂₄ + 1.24e+02 𝐞₁₃₄ + 0.423 𝐞₂₃₄ + 1.21e+02 𝐞₁₂₃₄,\n",
       " 0.204 + 2.02 𝐞₁ + 1.25 𝐞₂ + 4.52 𝐞₃ + 2.14 𝐞₄ + 4.55 𝐞₁₂ + -1.86 𝐞₁₃ + -11.5 𝐞₁₄ + -7.26 𝐞₂₃ + -6.19 𝐞₂₄ + -9.11 𝐞₃₄ + 35.3 𝐞₁₂₃ + 26.6 𝐞₁₂₄ + 1.24e+02 𝐞₁₃₄ + 0.423 𝐞₂₃₄ + 1.21e+02 𝐞₁₂₃₄)"
      ]
     },
     "execution_count": 129,
     "metadata": {},
     "output_type": "execute_result"
    }
   ],
   "source": [
    "#1.13\n",
    "# Exercise: implement the adjoint outermorphism by spliting A into vectors.\n",
    "adjoint_outermorphism(f, A^B, alg), adjoint_outermorphism(f, A, alg) ^ adjoint_outermorphism(f, B, alg)"
   ]
  },
  {
   "cell_type": "code",
   "execution_count": 130,
   "metadata": {},
   "outputs": [
    {
     "data": {
      "text/plain": [
       "(-49.7 𝐞₁ + 24.7 𝐞₂ + 22.8 𝐞₃ + -31.4 𝐞₄,\n",
       " 7.25 𝐞₁ + -1.2 𝐞₂ + -11.5 𝐞₃ + -3.11 𝐞₄,\n",
       " -49.7 𝐞₁ + 24.7 𝐞₂ + 22.8 𝐞₃ + -31.4 𝐞₄)"
      ]
     },
     "execution_count": 130,
     "metadata": {},
     "output_type": "execute_result"
    }
   ],
   "source": [
    "#1.14a r <= s\n",
    "r, s = 2, 3\n",
    "Ar = A.grade(r)\n",
    "Bs = B.grade(s)\n",
    "(\n",
    "    Ar | adjoint_outermorphism(f, Bs, alg),\n",
    "    outermorphism(f, Ar, alg) | Bs,\n",
    "    adjoint_outermorphism(f, outermorphism(f, Ar, alg) | Bs, alg),\n",
    ")"
   ]
  },
  {
   "cell_type": "code",
   "execution_count": 131,
   "metadata": {},
   "outputs": [
    {
     "data": {
      "text/plain": [
       "(-24.4 𝐞₁ + 38.8 𝐞₂ + -27.8 𝐞₃ + 23.8 𝐞₄,\n",
       " -4.22 𝐞₁ + -12.3 𝐞₂ + 4.62 𝐞₃ + -0.386 𝐞₄,\n",
       " -24.4 𝐞₁ + 38.8 𝐞₂ + -27.8 𝐞₃ + 23.8 𝐞₄)"
      ]
     },
     "execution_count": 131,
     "metadata": {},
     "output_type": "execute_result"
    }
   ],
   "source": [
    "#1.14b r >= s\n",
    "r, s = 3, 2\n",
    "Ar = A.grade(r)\n",
    "Bs = B.grade(s)\n",
    "(\n",
    "    outermorphism(f, Ar | adjoint_outermorphism(f, Bs, alg), alg),\n",
    "    Ar | adjoint_outermorphism(f, Bs, alg),\n",
    "    outermorphism(f, Ar, alg) | Bs,\n",
    ")"
   ]
  },
  {
   "cell_type": "code",
   "execution_count": 132,
   "metadata": {},
   "outputs": [
    {
     "name": "stdout",
     "output_type": "stream",
     "text": [
      "6.99 6.99\n",
      "-0.793 -0.793\n",
      "-22.7 -22.7\n"
     ]
    }
   ],
   "source": [
    "#1.15 r = s\n",
    "for r,s in [(1,1), (2,2), (3,3)]:\n",
    "    Ar = A.grade(r)\n",
    "    Bs = B.grade(s)\n",
    "    print(\n",
    "        Ar | adjoint_outermorphism(f, Bs, alg),\n",
    "        outermorphism(f, Ar, alg) | Bs,\n",
    "    )"
   ]
  },
  {
   "cell_type": "code",
   "execution_count": 133,
   "metadata": {},
   "outputs": [
    {
     "data": {
      "text/plain": [
       "(-49.7 𝐞₁ + 24.7 𝐞₂ + 22.8 𝐞₃ + -31.4 𝐞₄,\n",
       " -49.7 𝐞₁ + 24.7 𝐞₂ + 22.8 𝐞₃ + -31.4 𝐞₄)"
      ]
     },
     "execution_count": 133,
     "metadata": {},
     "output_type": "execute_result"
    }
   ],
   "source": [
    "# proof of 1.14a\n",
    "r, s = 2, 3\n",
    "Ar = A.grade(r)\n",
    "Bs = B.grade(s)\n",
    "frame = alg.frame\n",
    "r_frame = reciprocal(alg.frame)\n",
    "rhs = 0\n",
    "r = Ar.grades[0]\n",
    "F = lambda vectors: wedge([f(v) for v in vectors]) \n",
    "for base_vectors, reci_vectors in zip(permutations(frame, s), permutations(r_frame, s)):\n",
    "    rhs += (Ar | (wedge(base_vectors[::-1]))) * (vectors_partial(F, np.zeros(s), reci_vectors, h=h) | Bs)\n",
    "(\n",
    "    Ar | adjoint_outermorphism(f, Bs, alg),\n",
    "    rhs / factorial(s)\n",
    ")"
   ]
  },
  {
   "cell_type": "code",
   "execution_count": 134,
   "metadata": {},
   "outputs": [
    {
     "data": {
      "text/plain": [
       "(, -2.49e+02 𝐞₁₂₃₄, -2.49e+02 𝐞₁₂₃₄)"
      ]
     },
     "execution_count": 134,
     "metadata": {},
     "output_type": "execute_result"
    }
   ],
   "source": [
    "# singular, nonsingular functions\n",
    "I = alg.pseudoscalar((1,))\n",
    "# fA2 is singular\n",
    "outermorphism(fA2, I, alg), outermorphism(f, I, alg), adjoint_outermorphism(f, I, alg)"
   ]
  },
  {
   "cell_type": "code",
   "execution_count": 135,
   "metadata": {},
   "outputs": [
    {
     "data": {
      "text/plain": [
       "(-2.49e+02, -2.49e+02, -2.49e+02)"
      ]
     },
     "execution_count": 135,
     "metadata": {},
     "output_type": "execute_result"
    }
   ],
   "source": [
    "#1.16 Use inverse instead of reverse for negative signatures. case I = Ip\n",
    "n = 4\n",
    "Ir = I.inv()\n",
    "F = lambda vectors: wedge([f(v) for v in vectors])\n",
    "(\n",
    "    simplicial_derivative(F, alg.frame, alg, h=1e-2), \n",
    "    Ir * outermorphism(f, I, alg), \n",
    "    adjoint_outermorphism(f, I, alg) * Ir\n",
    ")"
   ]
  },
  {
   "cell_type": "code",
   "execution_count": 136,
   "metadata": {},
   "outputs": [
    {
     "data": {
      "text/plain": [
       "(-6.65 𝐞₁₃, -6.65 𝐞₁₃, -6.65 𝐞₁₃)"
      ]
     },
     "execution_count": 136,
     "metadata": {},
     "output_type": "execute_result"
    }
   ],
   "source": [
    "#1.16 case I != Ip\n",
    "n = 2\n",
    "I = e12\n",
    "Ip = e23\n",
    "Ir = I.inv()\n",
    "Ipr = Ip.inv()\n",
    "h = 1e-2\n",
    "# a function from I to Ip\n",
    "g = lambda x: P((A*P(x, I)*B).grade(1), Ip)\n",
    "F = lambda vectors: wedge([g(v) for v in vectors])\n",
    "(\n",
    "    simplicial_derivative(F, alg.frame[:2], alg, h),\n",
    "    Ir * outermorphism(g, I, alg, h),\n",
    "    adjoint_outermorphism(g, Ip, alg, h) * Ipr\n",
    ")"
   ]
  },
  {
   "cell_type": "code",
   "execution_count": 137,
   "metadata": {},
   "outputs": [
    {
     "data": {
      "text/plain": [
       "(6.65 𝐞₂₃, 1 𝐞₂₃)"
      ]
     },
     "execution_count": 137,
     "metadata": {},
     "output_type": "execute_result"
    }
   ],
   "source": [
    "#1.17a\n",
    "outermorphism(g, I, alg, h), Ip"
   ]
  },
  {
   "cell_type": "code",
   "execution_count": 138,
   "metadata": {},
   "outputs": [
    {
     "data": {
      "text/plain": [
       "(6.65 𝐞₁₂, 1 𝐞₁₂)"
      ]
     },
     "execution_count": 138,
     "metadata": {},
     "output_type": "execute_result"
    }
   ],
   "source": [
    "#1.17b Need extra minus sign for negative signature. You can try Algebra(3,1).\n",
    "adjoint_outermorphism(g, Ip, alg, h), I"
   ]
  },
  {
   "cell_type": "code",
   "execution_count": 139,
   "metadata": {},
   "outputs": [
    {
     "data": {
      "text/plain": [
       "6.651682571651819"
      ]
     },
     "execution_count": 139,
     "metadata": {},
     "output_type": "execute_result"
    }
   ],
   "source": [
    "# The relative orientation between I and I' can be arbitrary.\n",
    "# Here we let the parent algebra determine the orientation.\n",
    "def det(f, I, Ip):\n",
    "    return (outermorphism(f, I, alg)/Ip)[0]\n",
    "\n",
    "det(g, I, Ip)"
   ]
  },
  {
   "cell_type": "code",
   "execution_count": 140,
   "metadata": {},
   "outputs": [
    {
     "data": {
      "text/plain": [
       "(0.114 + 0.948 𝐞₁ + 0.565 𝐞₂ + 0.0466 𝐞₁₂,\n",
       " 0.114 + 0.948 𝐞₁ + 0.565 𝐞₂ + 0.544 𝐞₃ + 0.55 𝐞₄ + 0.0466 𝐞₁₂ + 0.512 𝐞₁₃ + 0.48 𝐞₁₄ + 0.895 𝐞₂₃ + 0.0251 𝐞₂₄ + 0.876 𝐞₃₄ + 0.907 𝐞₁₂₃ + 0.367 𝐞₁₂₄ + 0.931 𝐞₁₃₄ + 0.909 𝐞₂₃₄ + 0.992 𝐞₁₂₃₄)"
      ]
     },
     "execution_count": 140,
     "metadata": {},
     "output_type": "execute_result"
    }
   ],
   "source": [
    "#1.21a null part goes null\n",
    "C = create_random_multivector(alg)\n",
    "C_ = outermorphism(g, C, alg)\n",
    "(1/det(g, I, Ip)) * adjoint_outermorphism(g, C_*Ip, alg) * Ir, C"
   ]
  },
  {
   "cell_type": "code",
   "execution_count": 141,
   "metadata": {},
   "outputs": [
    {
     "data": {
      "text/plain": [
       "(0.959 + 0.338 𝐞₂ + 0.193 𝐞₃ + 0.78 𝐞₂₃,\n",
       " 0.959 + 0.701 𝐞₁ + 0.338 𝐞₂ + 0.193 𝐞₃ + 0.84 𝐞₄ + 0.949 𝐞₁₂ + 0.787 𝐞₁₃ + 0.565 𝐞₁₄ + 0.78 𝐞₂₃ + 0.487 𝐞₂₄ + 0.98 𝐞₃₄ + 0.805 𝐞₁₂₃ + 0.162 𝐞₁₂₄ + 0.935 𝐞₁₃₄ + 0.245 𝐞₂₃₄ + 0.556 𝐞₁₂₃₄)"
      ]
     },
     "execution_count": 141,
     "metadata": {},
     "output_type": "execute_result"
    }
   ],
   "source": [
    "#1.21b null part goes null\n",
    "C_ = create_random_multivector(alg)\n",
    "C = adjoint_outermorphism(g, C_, alg)\n",
    "(1/det(g, I, Ip)) * outermorphism(g, C*I, alg) * Ipr, C_"
   ]
  },
  {
   "cell_type": "code",
   "execution_count": 142,
   "metadata": {},
   "outputs": [
    {
     "data": {
      "text/plain": [
       "(-10.1 𝐞₁₂₃ + 6.7 𝐞₁₂₄ + 3.95 𝐞₁₃₄ + 29.1 𝐞₂₃₄,\n",
       " -10.1 𝐞₁₂₃ + 6.7 𝐞₁₂₄ + 3.95 𝐞₁₃₄ + 29.1 𝐞₂₃₄,\n",
       " 1.84e+02 + 6.8 𝐞₁₂ + -1.3e+02 𝐞₁₃ + -1.15e+02 𝐞₁₄ + 51.7 𝐞₂₃ + 1.31e+02 𝐞₂₄ + -1.55e+02 𝐞₃₄,\n",
       " 1.84e+02 + 6.8 𝐞₁₂ + -1.3e+02 𝐞₁₃ + -1.15e+02 𝐞₁₄ + 51.7 𝐞₂₃ + 1.31e+02 𝐞₂₄ + -1.55e+02 𝐞₃₄)"
      ]
     },
     "execution_count": 142,
     "metadata": {},
     "output_type": "execute_result"
    }
   ],
   "source": [
    "#2.1 Note that characteristic multivectors are of even grades\n",
    "r = 3  # try several r\n",
    "h = 1e-2\n",
    "vectors = create_r_vectors(r, alg)\n",
    "F = lambda vectors: wedge([f(v) for v in vectors])\n",
    "(\n",
    "    F(vectors),\n",
    "    outermorphism(f, wedge(vectors), alg, h),\n",
    "    simplicial_derivative(F, vectors, alg, h), # characteristic multivectors\n",
    "    derivative(lambda A: outermorphism(f, A, alg, h), wedge(vectors), alg, h, r),\n",
    ")\n"
   ]
  },
  {
   "cell_type": "code",
   "execution_count": 143,
   "metadata": {},
   "outputs": [
    {
     "data": {
      "text/plain": [
       "(-4.69 + -4.62 𝐞₁₂ + 2.63 𝐞₁₃ + 1.91 𝐞₁₄ + -3.05 𝐞₂₃ + -2.77 𝐞₂₄ + -2.13 𝐞₃₄,\n",
       " -4.69 + -2.06 𝐞₁ + 3.53 𝐞₂ + 5.67 𝐞₃ + 5.58 𝐞₄ + 2.77 𝐞₁₂ + 6.72 𝐞₁₃ + 5.36 𝐞₁₄ + -0.519 𝐞₂₃ + -1.59 𝐞₂₄ + 2.39 𝐞₃₄ + 7.26 𝐞₁₂₃ + -2.04 𝐞₁₂₄ + 2.08 𝐞₁₃₄ + 0.265 𝐞₂₃₄ + 2.16 𝐞₁₂₃₄)"
      ]
     },
     "execution_count": 143,
     "metadata": {},
     "output_type": "execute_result"
    }
   ],
   "source": [
    "#2.2\n",
    "frame = create_r_vectors(len(alg.signature), alg)\n",
    "r_frame = reciprocal(frame)\n",
    "images = [f(v) for v in frame]\n",
    "(\n",
    "    sum(vr * b for b, vr in zip(images, r_frame)),\n",
    "    derivative(f, x, alg)\n",
    ")"
   ]
  },
  {
   "cell_type": "code",
   "execution_count": 144,
   "metadata": {},
   "outputs": [
    {
     "data": {
      "text/plain": [
       "([3.53 𝐞₁ + 5.96 𝐞₂ + 3.14 𝐞₃ + -0.54 𝐞₄,\n",
       "  -2.32 𝐞₁ + 9.02 𝐞₂ + 4.73 𝐞₃ + -4.73 𝐞₄,\n",
       "  3.0 𝐞₁ + 3.03 𝐞₂ + 7.1 𝐞₃ + -1.81 𝐞₄,\n",
       "  3.35 𝐞₁ + 5.52 𝐞₂ + 2.35 𝐞₃ + 0.493 𝐞₄],\n",
       " [3.53 𝐞₁ + 5.96 𝐞₂ + 3.14 𝐞₃ + -0.54 𝐞₄,\n",
       "  -2.32 𝐞₁ + 9.02 𝐞₂ + 4.73 𝐞₃ + -4.73 𝐞₄,\n",
       "  3.0 𝐞₁ + 3.03 𝐞₂ + 7.1 𝐞₃ + -1.81 𝐞₄,\n",
       "  3.35 𝐞₁ + 5.52 𝐞₂ + 2.35 𝐞₃ + 0.493 𝐞₄])"
      ]
     },
     "execution_count": 144,
     "metadata": {},
     "output_type": "execute_result"
    }
   ],
   "source": [
    "#2.2 comes from linearity\n",
    "images, [differential(f, a, v) for v in frame]"
   ]
  },
  {
   "cell_type": "code",
   "execution_count": 145,
   "metadata": {},
   "outputs": [
    {
     "data": {
      "text/plain": [
       "(-4.69, -4.69, -4.69)"
      ]
     },
     "execution_count": 145,
     "metadata": {},
     "output_type": "execute_result"
    }
   ],
   "source": [
    "#2.3 trace\n",
    "def trace(f, alg):\n",
    "    return sum(vr.sp(f(v)) for v, vr in zip(alg.frame, reciprocal(alg.frame)))\n",
    "def divergence(f, alg):\n",
    "    return sum(vr | f(v) for v, vr in zip(alg.frame, reciprocal(alg.frame)))\n",
    "(\n",
    "    derivative(f, e1, alg).grade(0),\n",
    "    trace(f, alg),\n",
    "    divergence(f, alg)\n",
    ")"
   ]
  },
  {
   "cell_type": "code",
   "execution_count": 146,
   "metadata": {},
   "outputs": [
    {
     "data": {
      "text/plain": [
       "(-54.1 + 6.75 𝐞₁₂ + 24.2 𝐞₁₃ + 18.7 𝐞₁₄ + -12.1 𝐞₂₃ + 31.0 𝐞₂₄ + -12.1 𝐞₃₄ + 11.3 𝐞₁₂₃₄,\n",
       " -54.1 + 6.75 𝐞₁₂ + 24.2 𝐞₁₃ + 18.7 𝐞₁₄ + -12.1 𝐞₂₃ + 31.0 𝐞₂₄ + -12.1 𝐞₃₄ + 11.3 𝐞₁₂₃₄)"
      ]
     },
     "execution_count": 146,
     "metadata": {},
     "output_type": "execute_result"
    }
   ],
   "source": [
    "#2.4\n",
    "r = 2\n",
    "h = 1e-2\n",
    "F = lambda vectors: wedge([f(v) for v in vectors])\n",
    "def char_multi_linear(f, r, alg: Algebra, frame=None, r_frame=None):\n",
    "    if not frame:\n",
    "        frame = alg.frame\n",
    "        r_frame = reciprocal(frame)\n",
    "    r_vec_frame = r_vector_frame_vectors(frame, r)\n",
    "    r_reci_frame = r_vector_frame_vectors(r_frame, r, reverse=True)\n",
    "    sdf = 0\n",
    "    for vectors, r_vectors in zip(r_vec_frame, r_reci_frame):\n",
    "        sdf += wedge(r_vectors[::-1]) * wedge([f(v) for v in vectors])\n",
    "    return sdf\n",
    "\n",
    "(\n",
    "    char_multi_linear(f, r, alg),\n",
    "    simplicial_derivative(F, np.zeros(r), alg, h)\n",
    ")"
   ]
  },
  {
   "cell_type": "code",
   "execution_count": 147,
   "metadata": {},
   "outputs": [
    {
     "data": {
      "text/plain": [
       "(891.7275633934678, 891.7275633934672, 891.7275633934682)"
      ]
     },
     "execution_count": 147,
     "metadata": {},
     "output_type": "execute_result"
    }
   ],
   "source": [
    "#2.6 when full rank, only scalar remains\n",
    "def trans2matrix(f, alg):\n",
    "    values = [f(a) for a in alg.frame]\n",
    "    return np.array([[ar.sp(v)[0] for v in values] for ar in reciprocal(alg.frame)])\n",
    "matrix = trans2matrix(f, alg)\n",
    "I = alg.pseudoscalar((1,))\n",
    "char_multi_linear(f, 4, alg)[0], np.linalg.det(matrix), det(f, I, I)"
   ]
  },
  {
   "cell_type": "code",
   "execution_count": 148,
   "metadata": {},
   "outputs": [
    {
     "data": {
      "text/plain": [
       "(4.54e+02 + 64.3 𝐞₁₂ + -1.61e+02 𝐞₁₃ + -1.67e+02 𝐞₁₄ + 61.5 𝐞₂₃ + 3.25e+02 𝐞₂₄ + -1.14e+02 𝐞₃₄,\n",
       " 4.54e+02 + 64.3 𝐞₁₂ + -1.61e+02 𝐞₁₃ + -1.67e+02 𝐞₁₄ + 61.5 𝐞₂₃ + 3.25e+02 𝐞₂₄ + -1.14e+02 𝐞₃₄)"
      ]
     },
     "execution_count": 148,
     "metadata": {},
     "output_type": "execute_result"
    }
   ],
   "source": [
    "#2.7 sum\n",
    "r = 3\n",
    "h = lambda x: f(x)+g(x)\n",
    "\n",
    "# Sometimes I use a random frame to check frame independence\n",
    "frame = create_r_vectors(len(alg.signature), alg)\n",
    "r_frame = reciprocal(frame)\n",
    "drF = 0\n",
    "coef = [1/(factorial(r-s)*factorial(s)) for s in range(r+1)]\n",
    "for base_vectors, reci_vectors in zip(permutations(frame, r), permutations(r_frame, r)):\n",
    "    gh = 0\n",
    "    for s in range(r+1):\n",
    "        gh += coef[s]*wedge([f(v) for v in reci_vectors[:s]]) ^ wedge([g(v) for v in reci_vectors[s:]])\n",
    "    drF += wedge(base_vectors[::-1]) * gh\n",
    "char_multi_linear(h, r, alg), drF"
   ]
  },
  {
   "cell_type": "code",
   "execution_count": 149,
   "metadata": {},
   "outputs": [
    {
     "data": {
      "text/plain": [
       "(-19.4, -19.448452341909174)"
      ]
     },
     "execution_count": 149,
     "metadata": {},
     "output_type": "execute_result"
    }
   ],
   "source": [
    "#2.8 characteristic polynomial\n",
    "def char_scalar(f, r, alg: Algebra, frame=None, r_frame=None):\n",
    "    if not frame:\n",
    "        frame = alg.frame\n",
    "        r_frame = reciprocal(frame)\n",
    "    r_vec_frame = r_vector_frame_vectors(frame, r)\n",
    "    r_reci_frame = r_vector_frame_vectors(r_frame, r, reverse=True)\n",
    "    sdf = 0\n",
    "    for vectors, r_vectors in zip(r_vec_frame, r_reci_frame):\n",
    "        sdf += alg.sp(wedge(r_vectors[::-1]), wedge([f(v) for v in vectors]))[0]\n",
    "    return sdf\n",
    "\n",
    "# This calculates n characteristic multivectors. \n",
    "# But drops the nonscalar information\n",
    "def char_poly_coefs(f, alg, frame=None, r_frame=None):\n",
    "    n = alg.d\n",
    "    if frame:\n",
    "        n = len(frame)\n",
    "    return [(-1)**(n-s) * char_scalar(f, s, alg, frame, r_frame) for s in range(n+1)]\n",
    "\n",
    "def polynomial(l, coefs):\n",
    "    return sum(l ** i * coef for i, coef in enumerate(coefs[::-1]))\n",
    "\n",
    "l = 3.3\n",
    "n = 4\n",
    "(\n",
    "    char_multi_linear(lambda x: f(x) - l*x, n, alg), \n",
    "    polynomial(l, char_poly_coefs(f, alg))\n",
    ")"
   ]
  },
  {
   "cell_type": "code",
   "execution_count": 150,
   "metadata": {},
   "outputs": [
    {
     "data": {
      "text/plain": [
       "(0.918 𝐞₁ + -1.93 𝐞₂ + 1.1e+02 𝐞₃ + -76.0 𝐞₄,\n",
       " 0.918 𝐞₁ + -1.93 𝐞₂ + 1.1e+02 𝐞₃ + -76.0 𝐞₄,\n",
       " 0.76 𝐞₁ + 0.00917 𝐞₂ + 0.0856 𝐞₃ + 0.0382 𝐞₄,\n",
       " 0.76 𝐞₁ + 0.00917 𝐞₂ + 0.0856 𝐞₃ + 0.0382 𝐞₄)"
      ]
     },
     "execution_count": 150,
     "metadata": {},
     "output_type": "execute_result"
    }
   ],
   "source": [
    "def r_fold(f,r,value):\n",
    "    return reduce(lambda v, _: f(v), range(r), value)\n",
    "\n",
    "r_fold(f, 3, x), f(f(f(x))), r_fold(f, 0, x), x"
   ]
  },
  {
   "cell_type": "code",
   "execution_count": 151,
   "metadata": {},
   "outputs": [
    {
     "data": {
      "text/plain": [
       "5.68e-14 𝐞₁ + 1.14e-13 𝐞₃"
      ]
     },
     "execution_count": 151,
     "metadata": {},
     "output_type": "execute_result"
    }
   ],
   "source": [
    "#2.9 Cayley Hamilton\n",
    "sum(r_fold(f, i, x) * coef for i, coef in enumerate(char_poly_coefs(f, alg)[::-1]))"
   ]
  },
  {
   "cell_type": "code",
   "execution_count": 152,
   "metadata": {},
   "outputs": [
    {
     "data": {
      "text/plain": [
       "(array([-6.79761807+1.56863125j, -6.79761807-1.56863125j,\n",
       "         3.22196665+0.j        ,  5.68677084+0.j        ]),\n",
       " array([-6.79761807+1.56863125j, -6.79761807-1.56863125j,\n",
       "         5.68677084+0.j        ,  3.22196665+0.j        ]))"
      ]
     },
     "execution_count": 152,
     "metadata": {},
     "output_type": "execute_result"
    }
   ],
   "source": [
    "#2.10 We can find eigenvalues like the usual many-fold method.\n",
    "# How about eigenvectors? \n",
    "# What else can we get from characteristic multivector? Some papers I should go through...\n",
    "matrix = trans2matrix(f, alg)\n",
    "eigvalues, eigvecs = np.linalg.eig(matrix)\n",
    "coefs = char_poly_coefs(f, alg)\n",
    "eigvalues, np.roots(coefs)"
   ]
  },
  {
   "cell_type": "code",
   "execution_count": 153,
   "metadata": {},
   "outputs": [
    {
     "data": {
      "text/plain": [
       "array([0.99566236, 0.99566236, 0.99566236, 0.99566236, 0.99566236,\n",
       "       0.99566236, 0.99566236, 0.99566236])"
      ]
     },
     "execution_count": 153,
     "metadata": {},
     "output_type": "execute_result"
    }
   ],
   "source": [
    "# From Lasenby's paper, we can reconstruct a rotor from characteristic multivector:\n",
    "# Note that the rotor must have non-zero scalar part\n",
    "# the paper suggest such method is pretty robust for noisy data\n",
    "R = blade_exp(create_r_blade(2, alg)) * blade_exp(create_r_blade(2, alg))\n",
    "rotor = lambda x: R.sw(x) # a screw motion\n",
    "\n",
    "terms_ratio(R.reverse(), sum(char_multi_linear(rotor, s, alg) for s in range(n+1)))"
   ]
  },
  {
   "cell_type": "code",
   "execution_count": 154,
   "metadata": {},
   "outputs": [
    {
     "data": {
      "text/plain": [
       "(0.957 𝐞₁ + 0.501 𝐞₂ + 2.68 𝐞₃ + -2.44 𝐞₄,\n",
       " 0.957 𝐞₁ + 0.501 𝐞₂ + 2.68 𝐞₃ + -2.44 𝐞₄)"
      ]
     },
     "execution_count": 154,
     "metadata": {},
     "output_type": "execute_result"
    }
   ],
   "source": [
    "# recovering matrix to transfromation\n",
    "def matrix2trans(M, alg:Algebra ):\n",
    "    d = alg.d\n",
    "    assert M.shape[0] == d, 'dimension not fit'\n",
    "    return lambda x: sum(c*e for c,e in zip(np.dot(M, x.asfullmv()[1:d+1]), alg.frame))\n",
    "    \n",
    "mf = matrix2trans(matrix, alg)\n",
    "mf(x), f(x)"
   ]
  },
  {
   "cell_type": "code",
   "execution_count": 155,
   "metadata": {},
   "outputs": [
    {
     "data": {
      "text/plain": [
       "(-54.12558848265338, -54.12558848265338)"
      ]
     },
     "execution_count": 155,
     "metadata": {},
     "output_type": "execute_result"
    }
   ],
   "source": [
    "#2.11\n",
    "s = 2\n",
    "rhs = (1/s) * sum((-1)**(r+1) * char_scalar(f, s-r, alg) * trace(lambda x: r_fold(f, r, x), alg)[0] for r in range(1,s+1))\n",
    "char_scalar(f, s, alg), rhs"
   ]
  },
  {
   "cell_type": "code",
   "execution_count": 156,
   "metadata": {},
   "outputs": [
    {
     "data": {
      "text/plain": [
       "(184.47247255492016, (184.47247255492016+0j))"
      ]
     },
     "execution_count": 156,
     "metadata": {},
     "output_type": "execute_result"
    }
   ],
   "source": [
    "#2.13\n",
    "k = 3\n",
    "char_scalar(f, k, alg), sum(np.prod(comb) for comb in combinations(eigvalues, k))"
   ]
  },
  {
   "cell_type": "code",
   "execution_count": 157,
   "metadata": {},
   "outputs": [
    {
     "data": {
      "text/plain": [
       "(-310.4919095342065, (-310.4919095342067+0j))"
      ]
     },
     "execution_count": 157,
     "metadata": {},
     "output_type": "execute_result"
    }
   ],
   "source": [
    "#2.14 It's easier to show the eigenvalues of f^k are {lambda^k_i} by linearity\n",
    "trace(lambda x: r_fold(f, k, x), alg)[0], sum(l**k for l in eigvalues)"
   ]
  },
  {
   "cell_type": "code",
   "execution_count": 158,
   "metadata": {},
   "outputs": [
    {
     "data": {
      "text/plain": [
       "(8.92e+02 𝐞₁₂₃₄, 8.92e+02 𝐞₁₂₃₄, 8.92e+02 𝐞₁₂₃₄)"
      ]
     },
     "execution_count": 158,
     "metadata": {},
     "output_type": "execute_result"
    }
   ],
   "source": [
    "# 3.4 A space must bound f to own an invariant subspace.\n",
    "I = alg.pseudoscalar((1,))\n",
    "outermorphism(f, I, alg), det(f, I, I)*I, adjoint_outermorphism(f, I, alg)"
   ]
  },
  {
   "cell_type": "code",
   "execution_count": 159,
   "metadata": {},
   "outputs": [
    {
     "data": {
      "text/plain": [
       "(2.97e+02 𝐞₁₂₃₄, 2.97e+02 𝐞₁₂₃₄)"
      ]
     },
     "execution_count": 159,
     "metadata": {},
     "output_type": "execute_result"
    }
   ],
   "source": [
    "#3.6\n",
    "l = 2.2\n",
    "n = 4\n",
    "F = lambda x: f(x) - l*x\n",
    "coefs = char_poly_coefs(f, alg)\n",
    "outermorphism(F, I, alg), polynomial(l, coefs) * I"
   ]
  },
  {
   "cell_type": "code",
   "execution_count": 160,
   "metadata": {},
   "outputs": [
    {
     "data": {
      "text/plain": [
       "(9.68 𝐞₁₂, 9.68 𝐞₁₂)"
      ]
     },
     "execution_count": 160,
     "metadata": {},
     "output_type": "execute_result"
    }
   ],
   "source": [
    "#3.7\n",
    "I = e12\n",
    "frame = [e1,e2]\n",
    "g = lambda x: P((A*x.grade(1)*B).grade(1), I)\n",
    "coefs = char_poly_coefs(g, alg, frame, frame)\n",
    "F = lambda x: g(x) - l*x\n",
    "outermorphism(F, I, alg), polynomial(l, coefs) * I"
   ]
  },
  {
   "cell_type": "code",
   "execution_count": 161,
   "metadata": {},
   "outputs": [
    {
     "data": {
      "text/plain": [
       "(-48.09785564173963, -48.09785564173963)"
      ]
     },
     "execution_count": 161,
     "metadata": {},
     "output_type": "execute_result"
    }
   ],
   "source": [
    "#3.8\n",
    "I = e123\n",
    "frame2 = [e3]\n",
    "frame3 = [e1,e2,e3]\n",
    "h = lambda x: P((A*P(x, e12).grade(1)*B).grade(1), e12) + P((B*P(x, e3).grade(1)*C).grade(1), e3)\n",
    "F = lambda x: h(x) - l*x\n",
    "(\n",
    "    char_scalar(F, 2, alg, frame, frame) * char_scalar(F, 1, alg, frame2, frame2),\n",
    "    char_scalar(F, 3, alg, frame3, frame3)\n",
    ")"
   ]
  },
  {
   "cell_type": "code",
   "execution_count": 162,
   "metadata": {},
   "outputs": [
    {
     "data": {
      "text/plain": [
       "(-1.04 𝐞₁ + 2.08 𝐞₂, -1.04 𝐞₁ + 1.41 𝐞₂)"
      ]
     },
     "execution_count": 162,
     "metadata": {},
     "output_type": "execute_result"
    }
   ],
   "source": [
    "outermorphism(h, e1, alg), adjoint_outermorphism(h, e1, alg)"
   ]
  },
  {
   "cell_type": "code",
   "execution_count": 163,
   "metadata": {},
   "outputs": [
    {
     "data": {
      "text/plain": [
       "(-3.24 𝐞₃, -3.24 𝐞₃)"
      ]
     },
     "execution_count": 163,
     "metadata": {},
     "output_type": "execute_result"
    }
   ],
   "source": [
    "#3.9a\n",
    "adjoint_outermorphism(h, e123, alg) | e12, outermorphism(h, e12, alg).e12 * outermorphism(h, -e3, alg)"
   ]
  },
  {
   "cell_type": "code",
   "execution_count": 164,
   "metadata": {},
   "outputs": [
    {
     "data": {
      "text/plain": [
       "(3.24 𝐞₁₂, 3.24 𝐞₁₂)"
      ]
     },
     "execution_count": 164,
     "metadata": {},
     "output_type": "execute_result"
    }
   ],
   "source": [
    "#3.9b\n",
    "outermorphism(h, e123, alg) | e3, adjoint_outermorphism(h, e3, alg).e3 * adjoint_outermorphism(h, e12, alg)"
   ]
  },
  {
   "cell_type": "code",
   "execution_count": 165,
   "metadata": {},
   "outputs": [
    {
     "data": {
      "text/plain": [
       "(([2, 3], [(0, 1)]),\n",
       " array([-6.79761807+1.56863125j, -6.79761807-1.56863125j,\n",
       "         3.22196665+0.j        ,  5.68677084+0.j        ]))"
      ]
     },
     "execution_count": 165,
     "metadata": {},
     "output_type": "execute_result"
    }
   ],
   "source": [
    "def separate_indices(numbers):\n",
    "    real_indices = []\n",
    "    conjugate_pairs_indices = []\n",
    "    visited = set()  # To keep track of indices already processed\n",
    "\n",
    "    for i, num in enumerate(numbers):\n",
    "        if np.isreal(num):  # Check if the number is real\n",
    "            real_indices.append(i)\n",
    "        elif i not in visited:  # Check if the index is not already processed\n",
    "            conjugate = np.conj(num)\n",
    "            for j in range(i + 1, len(numbers)):\n",
    "                if numbers[j] == conjugate:\n",
    "                    conjugate_pairs_indices.append((i, j))\n",
    "                    visited.add(i)\n",
    "                    visited.add(j)\n",
    "                    break\n",
    "\n",
    "    return real_indices, conjugate_pairs_indices\n",
    "\n",
    "separate_indices(eigvalues), eigvalues"
   ]
  },
  {
   "cell_type": "code",
   "execution_count": 166,
   "metadata": {},
   "outputs": [
    {
     "name": "stdout",
     "output_type": "stream",
     "text": [
      "[3.22196665 3.22196665 3.22196665 3.22196665] [  4.05318735 -19.73178326  -4.37204327   6.94782396]\n",
      "[5.68677084 5.68677084 5.68677084 5.68677084] [ 4.39002943  9.14715106  5.41454224 -9.09437198]\n",
      "[48.66821549 48.66821549 48.66821549 48.66821549 48.66821549 48.66821549] [  46.14560027   37.04789562 -307.73188877   35.70858836   42.23994445\n",
      "   93.55362039]\n"
     ]
    }
   ],
   "source": [
    "# An example of non proper blade:\n",
    "def linalg_eigblades(f, alg: Algebra):\n",
    "    matrix = trans2matrix(f, alg)\n",
    "    eigvalues, eigvecs = np.linalg.eig(matrix)\n",
    "    real_indices, conjugate_pairs_indices = separate_indices(eigvalues)\n",
    "    eigblades = [alg.vector(np.real(eigvecs[:, i])) for i in real_indices]\n",
    "    for k, l in conjugate_pairs_indices:\n",
    "        v1 = np.real(eigvecs[:,k] + eigvecs[:,l])\n",
    "        v2 = np.imag(eigvecs[:,k] - eigvecs[:,l])\n",
    "        eigblades.append(alg.vector(v1) ^ alg.vector(v2))\n",
    "    return eigblades \n",
    "\n",
    "def terms_ratio(A, B: MultiVector):\n",
    "    valid_keys = [k for k in B.keys() if not np.isclose(B[k], 0)]\n",
    "    return np.divide([A[k] for k in valid_keys], [B[k] for k in valid_keys])\n",
    "\n",
    "eigblades = linalg_eigblades(f, alg)\n",
    "\n",
    "# right eigenblades but not left!\n",
    "for blade in eigblades:\n",
    "    print(\n",
    "        terms_ratio(outermorphism(f, blade, alg), blade), \n",
    "        terms_ratio(adjoint_outermorphism(f, blade, alg), blade)\n",
    "        )"
   ]
  },
  {
   "cell_type": "code",
   "execution_count": 167,
   "metadata": {},
   "outputs": [
    {
     "name": "stdout",
     "output_type": "stream",
     "text": [
      "[ 5.55428776 21.44532212  1.76186289 -0.41471015] [3.22196665 3.22196665 3.22196665 3.22196665]\n",
      "[ 7.8187381   9.52919601  4.83573732 -0.85388133] [5.68677084 5.68677084 5.68677084 5.68677084]\n",
      "[ 85.41552258  88.35230247 -35.9408487  108.37154484  81.19309006\n",
      "  29.05338939] [48.66821549 48.66821549 48.66821549 48.66821549 48.66821549 48.66821549]\n"
     ]
    }
   ],
   "source": [
    "#3.11 reciprocal for blades\n",
    "def reciprocal(blades):\n",
    "    I = wedge(blades)\n",
    "    dualblades = []\n",
    "    for k in range(len(blades)):\n",
    "        sign = (-1) ** (blades[k].grades[0] * sum(blade.grades[0] for blade in blades[:k]))\n",
    "        dualblades.append(sign * wedge(blades[:k] + blades[k+1:]) * I.inv())\n",
    "    return dualblades\n",
    "\n",
    "dualblades = reciprocal(eigblades)\n",
    "# The reciprocal of a right eigenblade is a left eigenblade! Note that they correspond to the same eigenvalues\n",
    "for blade in dualblades:\n",
    "    print(\n",
    "        terms_ratio(outermorphism(f, blade, alg), blade), \n",
    "        terms_ratio(adjoint_outermorphism(f, blade, alg), blade)\n",
    "        )\n"
   ]
  },
  {
   "cell_type": "code",
   "execution_count": 168,
   "metadata": {},
   "outputs": [
    {
     "data": {
      "text/plain": [
       "[1.0, , 1.0]"
      ]
     },
     "execution_count": 168,
     "metadata": {},
     "output_type": "execute_result"
    }
   ],
   "source": [
    "#3.12 \n",
    "[eigblades[i] | dualblades[j] for i,j in [(0,0), (0,1), (1,1)]]"
   ]
  },
  {
   "cell_type": "code",
   "execution_count": 169,
   "metadata": {},
   "outputs": [
    {
     "data": {
      "text/plain": [
       "[(68.6 𝐞₁₂₃, 68.6 𝐞₁₂₃), (-3.64 𝐞₄, -3.64 𝐞₄)]"
      ]
     },
     "execution_count": 169,
     "metadata": {},
     "output_type": "execute_result"
    }
   ],
   "source": [
    "# What transformation have a non-trivial proper blade?\n",
    "# A invariant subspace, say e123 of e1234\n",
    "# from 3.12 we know we're looking for blades equal to thier own reciprocal\n",
    "# that means orthogonal to other eigenspaces\n",
    "\n",
    "pf = lambda x: P(f(P(x, e123)), e123) + P(f(P(x, e4)), e4)\n",
    "[(outermorphism(pf, blade, alg), adjoint_outermorphism(pf, blade, alg)) for blade in [e123, e4]]"
   ]
  },
  {
   "cell_type": "code",
   "execution_count": 170,
   "metadata": {},
   "outputs": [
    {
     "name": "stdout",
     "output_type": "stream",
     "text": [
      "[-4.17966682 -4.17966682 -4.17966682] [  4.39877569  -5.85136846 -13.96989011]\n",
      "[-2.77531212 -2.77531212 -2.77531212] [  2.84374444  -6.29751613 -20.990477  ]\n",
      "[5.91046291 5.91046291 5.91046291] [4.32611903 7.9196676  5.95944937]\n",
      "[] []\n",
      "[] []\n",
      "[] []\n",
      "[] []\n",
      "[-3.64198263] [-3.64198263]\n"
     ]
    }
   ],
   "source": [
    "eigblades = linalg_eigblades(pf, alg)\n",
    "for E in [e123, e4]:\n",
    "    for blade in eigblades: # not just vectors\n",
    "        blade = (blade | E)*E\n",
    "        om = outermorphism(pf, blade, alg)\n",
    "        am = adjoint_outermorphism(pf, blade, alg)\n",
    "        print(\n",
    "            terms_ratio(om, blade), \n",
    "            terms_ratio(am, blade)\n",
    "            )"
   ]
  },
  {
   "cell_type": "code",
   "execution_count": 171,
   "metadata": {},
   "outputs": [
    {
     "data": {
      "text/plain": [
       "(array([[ 1.36066317,  1.95233086,  2.18726487, -4.05956457],\n",
       "        [ 1.95233086, -1.01392972,  5.33307706,  3.70576847],\n",
       "        [ 2.18726487,  5.33307706, -1.39124947,  1.47555536],\n",
       "        [-4.05956457,  3.70576847,  1.47555536, -3.64198263]]),\n",
       " 1.08 𝐞₁ + 2.07 𝐞₂ + 1.65 𝐞₃ + -3.07 𝐞₄,\n",
       " 1.08 𝐞₁ + 2.07 𝐞₂ + 1.65 𝐞₃ + -3.07 𝐞₄)"
      ]
     },
     "execution_count": 171,
     "metadata": {},
     "output_type": "execute_result"
    }
   ],
   "source": [
    "#4.1b A matrix from a symmetric transformation is symmetric\n",
    "fp = lambda x: (f(x) + adjoint_outermorphism(f, x, alg))/2\n",
    "trans2matrix(fp, alg), fp(x), derivative(lambda x: x | f(x)/2, x, alg, grade=1)"
   ]
  },
  {
   "cell_type": "code",
   "execution_count": 172,
   "metadata": {},
   "outputs": [
    {
     "data": {
      "text/plain": [
       "(-4.62 𝐞₁₂ + 2.63 𝐞₁₃ + 1.91 𝐞₁₄ + -3.05 𝐞₂₃ + -2.77 𝐞₂₄ + -2.13 𝐞₃₄,\n",
       " -4.62 𝐞₁₂ + 2.63 𝐞₁₃ + 1.91 𝐞₁₄ + -3.05 𝐞₂₃ + -2.77 𝐞₂₄ + -2.13 𝐞₃₄)"
      ]
     },
     "execution_count": 172,
     "metadata": {},
     "output_type": "execute_result"
    }
   ],
   "source": [
    "# a curl is a part of a derivative\n",
    "derivative(f, x, alg, grade=1).grade(2), curl(f, x, alg, grade=1)"
   ]
  },
  {
   "cell_type": "code",
   "execution_count": 173,
   "metadata": {},
   "outputs": [
    {
     "data": {
      "text/plain": [
       "(array([[ 0.00000000e+00,  2.30932179e+00, -1.31445753e+00,\n",
       "         -9.52877658e-01],\n",
       "        [-2.30932179e+00,  1.11022302e-16,  1.52689653e+00,\n",
       "          1.38729160e+00],\n",
       "        [ 1.31445753e+00, -1.52689653e+00,  0.00000000e+00,\n",
       "          1.06539271e+00],\n",
       "        [ 9.52877658e-01, -1.38729160e+00, -1.06539271e+00,\n",
       "         -4.44089210e-16]]),\n",
       " -0.128 𝐞₁ + -1.57 𝐞₂ + 1.03 𝐞₃ + 0.621 𝐞₄,\n",
       " -0.128 𝐞₁ + -1.57 𝐞₂ + 1.03 𝐞₃ + 0.621 𝐞₄)"
      ]
     },
     "execution_count": 173,
     "metadata": {},
     "output_type": "execute_result"
    }
   ],
   "source": [
    "#4.1c a skew transfromation leads to a skew matrix\n",
    "fm = lambda x: (f(x) - adjoint_outermorphism(f, x, alg))/2\n",
    "trans2matrix(fm, alg), fm(x), x | derivative(f, x, alg, grade=1).grade(2)/2"
   ]
  },
  {
   "cell_type": "code",
   "execution_count": 174,
   "metadata": {},
   "outputs": [
    {
     "data": {
      "text/plain": [
       "(1.31,\n",
       " 1.31,\n",
       " -2.33e-10 𝐞₁₂ + 1.16e-10 𝐞₁₃ + -1.16e-10 𝐞₁₄ + 1.16e-10 𝐞₂₃ + -1.16e-10 𝐞₂₄ + 3.49e-10 𝐞₃₄)"
      ]
     },
     "execution_count": 174,
     "metadata": {},
     "output_type": "execute_result"
    }
   ],
   "source": [
    "#4.2 fp curl free\n",
    "a | fp(x), x | fp(a), curl(fp, x, alg, grade=1)"
   ]
  },
  {
   "cell_type": "code",
   "execution_count": 175,
   "metadata": {},
   "outputs": [
    {
     "data": {
      "text/plain": [
       "(1.08 𝐞₁ + 2.07 𝐞₂ + 1.65 𝐞₃ + -3.07 𝐞₄,\n",
       " 1.08 𝐞₁ + 2.07 𝐞₂ + 1.65 𝐞₃ + -3.07 𝐞₄)"
      ]
     },
     "execution_count": 175,
     "metadata": {},
     "output_type": "execute_result"
    }
   ],
   "source": [
    "#4.3 spectral decomposition of the symmetric part\n",
    "matrix = trans2matrix(fp, alg)\n",
    "eigvalues, eigvecs = np.linalg.eigh(matrix)\n",
    "eigvecs = [alg.vector(v) for v in eigvecs.transpose()]\n",
    "mf = lambda x: sum(e * P(x, v) for e, v in zip(eigvalues, eigvecs))\n",
    "mf(x), fp(x)"
   ]
  },
  {
   "cell_type": "code",
   "execution_count": 176,
   "metadata": {},
   "outputs": [
    {
     "data": {
      "text/plain": [
       "[-2.32e+05 𝐞₁ + -2.83e-12 𝐞₂ + 3.82e-11 𝐞₃ + -3.77e-12 𝐞₄,\n",
       " 7.97e-14 𝐞₁ + -6.53e+03 𝐞₂ + -1.75e-13 𝐞₃ + 2.83e-13 𝐞₄,\n",
       " -2.61e-14 𝐞₁ + 4.24e-15 𝐞₂ + -1.58e+02 𝐞₃ + -1.37e-14 𝐞₄,\n",
       " 8.33e-17 𝐞₁ + -2.22e-16 𝐞₂ + 4.44e-16 𝐞₃ + -5.12 𝐞₄]"
      ]
     },
     "execution_count": 176,
     "metadata": {},
     "output_type": "execute_result"
    }
   ],
   "source": [
    "# QR factorization\n",
    "transframe = [fp(e) for e in alg.frame] #another basis\n",
    "gs_trans = gram_schmidt(transframe)\n",
    "gs_trans2 = gram_schmidt([fp(v / norm(v)) for v in gs_trans[::-1]])[::-1]\n",
    "gs_trans2\n"
   ]
  },
  {
   "cell_type": "code",
   "execution_count": 177,
   "metadata": {},
   "outputs": [],
   "source": [
    "# A GA version of eigenblade-solver given the eigenvalues\n",
    "def null_space(f, alg, tol=1e-5, frame=None):\n",
    "    if not frame:\n",
    "        frame = alg.frame\n",
    "    null_sp = wedge(frame)\n",
    "    images = [f(a) for a in frame]\n",
    "    for v in images:\n",
    "        contracted = v | null_sp\n",
    "        if normsq(contracted) >= tol:\n",
    "            null_sp = contracted\n",
    "    return null_sp\n",
    "\n",
    "def eigenblades_from_values(f, eigvalues, alg, frame=None):\n",
    "    eigblades = []\n",
    "    for e in eigvalues:\n",
    "        null_f = lambda x: f(x) - e*x\n",
    "        eigblades.append(null_space(null_f, alg, frame=frame))\n",
    "    return eigblades"
   ]
  },
  {
   "cell_type": "code",
   "execution_count": 178,
   "metadata": {},
   "outputs": [
    {
     "data": {
      "text/plain": [
       "[1,\n",
       " -4.69 + -8.88e-16 𝐞₁₂ + 4.44e-16 𝐞₁₃ + -8.88e-16 𝐞₂₃,\n",
       " -67.5 + 4.44e-15 𝐞₁₃ + 2.66e-15 𝐞₁₄ + 7.11e-15 𝐞₂₄ + -7.11e-15 𝐞₃₄,\n",
       " 1.73e+02 + 1.6e-14 𝐞₁₂ + -1.42e-14 𝐞₁₃ + 2.84e-14 𝐞₁₄ + -2.84e-14 𝐞₂₃ + 1.42e-14 𝐞₂₄ + -4.26e-14 𝐞₃₄,\n",
       " 1.1e+03]"
      ]
     },
     "execution_count": 178,
     "metadata": {},
     "output_type": "execute_result"
    }
   ],
   "source": [
    "# One thing to note for a symmetric transformation:\n",
    "# the characteristic multivectors are of scalar values\n",
    "# So all subspaces are invariant under the transfromation.\n",
    "[char_multi_linear(fp, r, alg) for r in range(5)]"
   ]
  },
  {
   "cell_type": "code",
   "execution_count": 179,
   "metadata": {},
   "outputs": [
    {
     "data": {
      "text/plain": [
       "(array([-8.42137908, -5.96475127,  6.15264437,  3.54698731]),\n",
       " array([-8.42137908, -5.96475127,  3.54698731,  6.15264437]))"
      ]
     },
     "execution_count": 179,
     "metadata": {},
     "output_type": "execute_result"
    }
   ],
   "source": [
    "np.roots(char_poly_coefs(fp, alg)), eigvalues"
   ]
  },
  {
   "cell_type": "code",
   "execution_count": 180,
   "metadata": {},
   "outputs": [
    {
     "data": {
      "text/plain": [
       "([0.37 𝐞₁ + -0.577 𝐞₂ + 0.174 𝐞₃ + 0.708 𝐞₄,\n",
       "  -0.319 𝐞₁ + -0.424 𝐞₂ + 0.765 𝐞₃ + -0.367 𝐞₄,\n",
       "  -0.776 𝐞₁ + 0.237 𝐞₂ + 0.0854 𝐞₃ + 0.578 𝐞₄,\n",
       "  -0.399 𝐞₁ + -0.657 𝐞₂ + -0.615 𝐞₃ + -0.176 𝐞₄],\n",
       " [-0.37 𝐞₁ + 0.577 𝐞₂ + -0.174 𝐞₃ + -0.708 𝐞₄,\n",
       "  -0.319 𝐞₁ + -0.424 𝐞₂ + 0.765 𝐞₃ + -0.367 𝐞₄,\n",
       "  0.776 𝐞₁ + -0.237 𝐞₂ + -0.0854 𝐞₃ + -0.578 𝐞₄,\n",
       "  0.399 𝐞₁ + 0.657 𝐞₂ + 0.615 𝐞₃ + 0.176 𝐞₄])"
      ]
     },
     "execution_count": 180,
     "metadata": {},
     "output_type": "execute_result"
    }
   ],
   "source": [
    "eigblades = eigenblades_from_values(fp, eigvalues, alg)\n",
    "[e/norm(e) for e in eigblades], eigvecs"
   ]
  },
  {
   "cell_type": "code",
   "execution_count": 181,
   "metadata": {},
   "outputs": [
    {
     "name": "stdout",
     "output_type": "stream",
     "text": [
      "[-8.42137908 -8.42137908 -8.42137908 -8.42137908]\n",
      "[70.91962557 70.91962557 70.91962557 70.91962557 70.91962557 70.91962557]\n"
     ]
    }
   ],
   "source": [
    "#4.4 modify mf so to have a repeat eigenvalue (degeneracy)\n",
    "eigvalues[1] = eigvalues[0]\n",
    "mf = lambda x: sum(e * P(x, v) for e, v in zip(eigvalues, eigvecs))\n",
    "for blade in [eigvecs[0], wedge(eigvecs[:2])]:\n",
    "    of = outermorphism(mf, blade, alg)\n",
    "    print(terms_ratio(of, blade))"
   ]
  },
  {
   "cell_type": "code",
   "execution_count": 182,
   "metadata": {},
   "outputs": [
    {
     "data": {
      "text/plain": [
       "([0.34 𝐞₁₂ + -0.338 𝐞₁₃ + -0.0898 𝐞₁₄ + 0.367 𝐞₂₃ + -0.511 𝐞₂₄ + 0.605 𝐞₃₄,\n",
       "  -0.776 𝐞₁ + 0.237 𝐞₂ + 0.0854 𝐞₃ + 0.578 𝐞₄,\n",
       "  -0.399 𝐞₁ + -0.657 𝐞₂ + -0.615 𝐞₃ + -0.176 𝐞₄],\n",
       " [0.34 𝐞₁₂ + -0.338 𝐞₁₃ + -0.0898 𝐞₁₄ + 0.367 𝐞₂₃ + -0.511 𝐞₂₄ + 0.605 𝐞₃₄,\n",
       "  0.776 𝐞₁ + -0.237 𝐞₂ + -0.0854 𝐞₃ + -0.578 𝐞₄,\n",
       "  0.399 𝐞₁ + 0.657 𝐞₂ + 0.615 𝐞₃ + 0.176 𝐞₄])"
      ]
     },
     "execution_count": 182,
     "metadata": {},
     "output_type": "execute_result"
    }
   ],
   "source": [
    "eigblades = eigenblades_from_values(mf, set(eigvalues), alg)\n",
    "[e/norm(e) for e in eigblades], [wedge(eigvecs[:2])] + eigvecs[2:]"
   ]
  },
  {
   "cell_type": "code",
   "execution_count": 183,
   "metadata": {},
   "outputs": [
    {
     "data": {
      "text/plain": [
       "(array([[ 0.174254  ,  0.1628331 , -0.11664313, -0.96411374],\n",
       "        [ 0.1628331 , -0.97742003, -0.01617483, -0.13369308],\n",
       "        [-0.11664313, -0.01617483, -0.98841339,  0.0957691 ],\n",
       "        [-0.96411374, -0.13369308,  0.0957691 , -0.20842058]]),\n",
       " [0.9999999999999999, 0.0, -1.0408340855860843e-17, 0.9999999999999999],\n",
       " array([ 1., -1., -1., -1.]))"
      ]
     },
     "execution_count": 183,
     "metadata": {},
     "output_type": "execute_result"
    }
   ],
   "source": [
    "#4.6 a reflection is an orthogonal symmetric transformation \n",
    "A3 = create_r_blade(3, alg).normalized()\n",
    "matrix = trans2matrix(lambda x: (-1)**3*(A3.sw(x)), alg)\n",
    "# a symmetric matrix, orthogonal, unit eigvals\n",
    "matrix, [np.dot(matrix[i], matrix[j]) for i,j in [(1,1), (1,2), (2,3), (3,3)]], np.linalg.eigvals(matrix)"
   ]
  },
  {
   "cell_type": "code",
   "execution_count": 184,
   "metadata": {},
   "outputs": [
    {
     "data": {
      "text/plain": [
       "(0.0872 𝐞₁ + 0.108 𝐞₂ + -0.17 𝐞₃ + -0.734 𝐞₄,\n",
       " 0.0872 𝐞₁ + 0.108 𝐞₂ + -0.17 𝐞₃ + -0.734 𝐞₄)"
      ]
     },
     "execution_count": 184,
     "metadata": {},
     "output_type": "execute_result"
    }
   ],
   "source": [
    "#4.6 Find blade A from an orthogonal-symmetric-transfromation?\n",
    "ot = matrix2trans(matrix, alg)\n",
    "eigvalues, eigvecs = np.linalg.eig(matrix)\n",
    "eigvecs = [alg.vector(v) for v in eigvecs.transpose()]\n",
    "A3_ = wedge([v for v, e in zip(eigvecs, eigvalues) if np.isclose(e, -1)])\n",
    "(-1)**3*(A3.sw(x)), ot(x)"
   ]
  },
  {
   "cell_type": "code",
   "execution_count": 185,
   "metadata": {},
   "outputs": [
    {
     "data": {
      "text/plain": [
       "([-0.526 𝐞₁ + 0.761 𝐞₂ + -0.379 𝐞₃,\n",
       "  0.678 𝐞₁ + -0.702 𝐞₂ + 0.216 𝐞₃,\n",
       "  0.615 𝐞₁ + 0.539 𝐞₂ + 0.576 𝐞₃,\n",
       "  1.0 𝐞₄,\n",
       "  1 𝐞₁₂₃],\n",
       " [4.759695322438004, 3.6307345467071306, 0.896161509372607, 0.0, 0.0])"
      ]
     },
     "execution_count": 185,
     "metadata": {},
     "output_type": "execute_result"
    }
   ],
   "source": [
    "#4.7 Not true for whole space, but the proper ones\n",
    "# In matrix terms: diagonal parts commute\n",
    "eigblades = linalg_eigblades(pf, alg)\n",
    "eigblades.append(e123)\n",
    "eigblades, [max_diff(pf(blade.sw(x)), blade.sw(pf(x))) for blade in eigblades]"
   ]
  },
  {
   "cell_type": "code",
   "execution_count": 186,
   "metadata": {},
   "outputs": [
    {
     "data": {
      "text/plain": [
       "(-0.201, -0.201)"
      ]
     },
     "execution_count": 186,
     "metadata": {},
     "output_type": "execute_result"
    }
   ],
   "source": [
    "#4.8 skew transformation -> skew bilinear form -> bivector\n",
    "fm_biform = lambda vectors: vectors[0] | fm(vectors[1])\n",
    "F = simplicial_derivative(fm_biform, np.zeros(2), alg)\n",
    "a | fm(x), a| (x | F)"
   ]
  },
  {
   "cell_type": "code",
   "execution_count": 187,
   "metadata": {},
   "outputs": [
    {
     "data": {
      "text/plain": [
       "(-0.128 𝐞₁ + -1.57 𝐞₂ + 1.03 𝐞₃ + 0.621 𝐞₄,\n",
       " -0.128 𝐞₁ + -1.57 𝐞₂ + 1.03 𝐞₃ + 0.621 𝐞₄,\n",
       " 8.33e-17)"
      ]
     },
     "execution_count": 187,
     "metadata": {},
     "output_type": "execute_result"
    }
   ],
   "source": [
    "#4.9 so fm(x) is always orthogonal to x\n",
    "fm(x), x|F, fm(x) | x"
   ]
  },
  {
   "cell_type": "code",
   "execution_count": 188,
   "metadata": {},
   "outputs": [
    {
     "data": {
      "text/plain": [
       "(4.37e-10 + -4.62 𝐞₁₂ + 2.63 𝐞₁₃ + 1.91 𝐞₁₄ + -3.05 𝐞₂₃ + -2.77 𝐞₂₄ + -2.13 𝐞₃₄,\n",
       " -4.62 𝐞₁₂ + 2.63 𝐞₁₃ + 1.91 𝐞₁₄ + -3.05 𝐞₂₃ + -2.77 𝐞₂₄ + -2.13 𝐞₃₄,\n",
       " -4.62 𝐞₁₂ + 2.63 𝐞₁₃ + 1.91 𝐞₁₄ + -3.05 𝐞₂₃ + -2.77 𝐞₂₄ + -2.13 𝐞₃₄,\n",
       " -4.62 𝐞₁₂ + 2.63 𝐞₁₃ + 1.91 𝐞₁₄ + -3.05 𝐞₂₃ + -2.77 𝐞₂₄ + -2.13 𝐞₃₄)"
      ]
     },
     "execution_count": 188,
     "metadata": {},
     "output_type": "execute_result"
    }
   ],
   "source": [
    "#4.10 F is a bivector\n",
    "derivative(fm, x, alg, grade=1), curl(fm, x, alg, grade=1), curl(f, x, alg, grade=1), 2*F"
   ]
  },
  {
   "cell_type": "code",
   "execution_count": 189,
   "metadata": {},
   "outputs": [
    {
     "data": {
      "text/plain": [
       "(-1 𝐞₁₂₃₄, -1 𝐞₁₂₃₄)"
      ]
     },
     "execution_count": 189,
     "metadata": {},
     "output_type": "execute_result"
    }
   ],
   "source": [
    "#4.11 bivector split commutes, you can think about a screw motion splits into translation and rotation\n",
    "e13*e24, e24*e13"
   ]
  },
  {
   "cell_type": "code",
   "execution_count": 190,
   "metadata": {},
   "outputs": [
    {
     "data": {
      "text/plain": [
       "([1.0,\n",
       "  -2.31 𝐞₁₂ + 1.31 𝐞₁₃ + 0.953 𝐞₁₄ + -1.53 𝐞₂₃ + -1.39 𝐞₂₄ + -1.07 𝐞₃₄,\n",
       "  2.83 𝐞₁₂₃₄],\n",
       " [-3.33e-16 + -4.62 𝐞₁₂ + 2.63 𝐞₁₃ + 1.91 𝐞₁₄ + -3.05 𝐞₂₃ + -2.77 𝐞₂₄ + -2.13 𝐞₃₄,\n",
       "  13.4 + 6.66e-16 𝐞₁₂ + -6.66e-16 𝐞₁₃ + 6.66e-16 𝐞₁₄ + -8.88e-16 𝐞₂₄ + 4.44e-16 𝐞₃₄ + 11.3 𝐞₁₂₃₄,\n",
       "  4.44e-16 + -6.03 𝐞₁₂ + 7.85 𝐞₁₃ + -8.64 𝐞₁₄ + 5.39 𝐞₂₃ + -7.44 𝐞₂₄ + -13.1 𝐞₃₄,\n",
       "  8.0])"
      ]
     },
     "execution_count": 190,
     "metadata": {},
     "output_type": "execute_result"
    }
   ],
   "source": [
    "#4.13 How to factor F?\n",
    "def wedge_power(A, r):\n",
    "    if r == 0:\n",
    "        return 1\n",
    "    result = A\n",
    "    for _ in range(r-1):\n",
    "        result = A ^ result\n",
    "    return result\n",
    "\n",
    "Ck = [(1/factorial(r))*wedge_power(F, r) for r in range(3)]\n",
    "Ck, [char_multi_linear(fm, r, alg) for r in range(1, 5)] # these are full story, but we just take a fraction"
   ]
  },
  {
   "cell_type": "code",
   "execution_count": 191,
   "metadata": {},
   "outputs": [
    {
     "data": {
      "text/plain": [
       "[-2.31 𝐞₁₂ + 1.31 𝐞₁₃ + 0.953 𝐞₁₄ + -1.53 𝐞₂₃ + -1.39 𝐞₂₄ + -1.07 𝐞₃₄,\n",
       " 3.01 𝐞₁₂ + -3.92 𝐞₁₃ + 4.32 𝐞₁₄ + -2.7 𝐞₂₃ + 3.72 𝐞₂₄ + 6.53 𝐞₃₄]"
      ]
     },
     "execution_count": 191,
     "metadata": {},
     "output_type": "execute_result"
    }
   ],
   "source": [
    "[alg.ip(Ck[i-1], Ck[i]) for i in range(1, len(Ck))]"
   ]
  },
  {
   "cell_type": "code",
   "execution_count": 192,
   "metadata": {},
   "outputs": [
    {
     "data": {
      "text/plain": [
       "{0, 1, 2, 3, 4, 5, 6, 7, 8, 9, 10, 11, 12, 13, 14, 15}"
      ]
     },
     "execution_count": 192,
     "metadata": {},
     "output_type": "execute_result"
    }
   ],
   "source": [
    "set.union(*(set(ck.keys()) for ck in Ck if isinstance(ck, MultiVector)))"
   ]
  },
  {
   "cell_type": "code",
   "execution_count": 193,
   "metadata": {},
   "outputs": [
    {
     "data": {
      "text/plain": [
       "(-0.128 𝐞₁ + -1.57 𝐞₂ + 1.03 𝐞₃ + 0.621 𝐞₄,\n",
       " -0.128 𝐞₁ + -1.57 𝐞₂ + 1.03 𝐞₃ + 0.621 𝐞₄,\n",
       " -5.57 𝐞₁ + 2.72 𝐞₂ + 2.89 𝐞₃ + 0.966 𝐞₄,\n",
       " -5.57 𝐞₁ + 2.72 𝐞₂ + 2.89 𝐞₃ + 0.966 𝐞₄)"
      ]
     },
     "execution_count": 193,
     "metadata": {},
     "output_type": "execute_result"
    }
   ],
   "source": [
    "x|F, fm(x), x|F|F, fm(fm(x))"
   ]
  },
  {
   "cell_type": "code",
   "execution_count": 194,
   "metadata": {},
   "outputs": [
    {
     "data": {
      "text/plain": [
       "([1.0, 13.359794210044496, 8.002816172752224],\n",
       " [1,\n",
       "  3.3306690738754696e-16,\n",
       "  13.3597942100445,\n",
       "  -4.440892098500626e-16,\n",
       "  8.002816172752228],\n",
       " array([-12.73119524,  -0.62859897]),\n",
       " array([3.56808005, 0.79284233]),\n",
       " array([-1.93529922e-16+3.56808005j, -1.93529922e-16-3.56808005j,\n",
       "         1.11022302e-16+0.79284233j,  1.11022302e-16-0.79284233j]),\n",
       " [1,\n",
       "  26.719588420089003,\n",
       "  194.489733680243,\n",
       "  213.83195433757115,\n",
       "  64.04506669486476])"
      ]
     },
     "execution_count": 194,
     "metadata": {},
     "output_type": "execute_result"
    }
   ],
   "source": [
    "#4.14 4.18 Why square of eigen values? \n",
    "# The odd grade characteristic multivectors have zero scalar\n",
    "# A correction on Lasenby's paper, not square of f, but the even outermorphism f_(x, y)\n",
    "Ck2 = [(-1)**(2 - i) * alg.sp(Ck[i], Ck[i])[0] for i in range(3)]\n",
    "char_poly = char_poly_coefs(fm, alg)\n",
    "Lk = np.roots(Ck2)\n",
    "\n",
    "Ck2, char_poly, Lk, np.sqrt(-np.array(Lk)), np.roots(char_poly), char_poly_coefs(lambda x: fm(fm(x)), alg)"
   ]
  },
  {
   "cell_type": "code",
   "execution_count": 195,
   "metadata": {},
   "outputs": [
    {
     "data": {
      "text/plain": [
       "(-2.31 𝐞₁₂ + 1.31 𝐞₁₃ + 0.953 𝐞₁₄ + -1.53 𝐞₂₃ + -1.39 𝐞₂₄ + -1.07 𝐞₃₄,\n",
       " 3.01 𝐞₁₂ + -3.92 𝐞₁₃ + 4.32 𝐞₁₄ + -2.7 𝐞₂₃ + 3.72 𝐞₂₄ + 6.53 𝐞₃₄)"
      ]
     },
     "execution_count": 195,
     "metadata": {},
     "output_type": "execute_result"
    }
   ],
   "source": [
    "Ck[1], Ck[1] | Ck[2]"
   ]
  },
  {
   "cell_type": "code",
   "execution_count": 196,
   "metadata": {},
   "outputs": [
    {
     "data": {
      "text/plain": [
       "(-2.31 𝐞₁₂ + 1.31 𝐞₁₃ + 0.953 𝐞₁₄ + -1.53 𝐞₂₃ + -1.39 𝐞₂₄ + -1.07 𝐞₃₄,\n",
       " -2.31 𝐞₁₂ + 1.31 𝐞₁₃ + 0.953 𝐞₁₄ + -1.53 𝐞₂₃ + -1.39 𝐞₂₄ + -1.07 𝐞₃₄,\n",
       " 4.44e-16 + -1.11e-16 𝐞₁₂ + 1.11e-16 𝐞₂₄ + -5.55e-17 𝐞₃₄ + 2.83 𝐞₁₂₃₄,\n",
       " 4.44e-16 + 1.11e-16 𝐞₁₂ + -1.11e-16 𝐞₂₄ + 5.55e-17 𝐞₃₄ + 2.83 𝐞₁₂₃₄,\n",
       " -13.4 + -2.22e-16 𝐞₁₂ + 2.22e-16 𝐞₁₃ + 5.66 𝐞₁₂₃₄,\n",
       " -0.629 + 1.39e-17 𝐞₁₂ + -1.11e-16 𝐞₁₂₃₄,\n",
       " -12.7 + -2.22e-16 𝐞₁₂ + 1.11e-16 𝐞₁₃ + -1.78e-15 𝐞₁₂₃₄)"
      ]
     },
     "execution_count": 196,
     "metadata": {},
     "output_type": "execute_result"
    }
   ],
   "source": [
    "#4.15\n",
    "mv_map1 = {}\n",
    "mv_map2 = {}\n",
    "ck1, ck2 = Ck[1], Ck[1] | Ck[2]\n",
    "for key in ck2.keys():\n",
    "    if np.isclose(ck1[key],0) and np.isclose(ck2[key],0):\n",
    "        continue\n",
    "    ans = np.linalg.solve(np.array([[1, 1], Lk]), [ck1[key], ck2[key]])\n",
    "    mv_map1[key], mv_map2[key] = ans\n",
    "F1 = alg.multivector(mv_map1)\n",
    "F2 = alg.multivector(mv_map2)\n",
    "F1 + F2, F, F1*F2, F2*F1, F**2, F1**2, F2**2\n"
   ]
  },
  {
   "cell_type": "code",
   "execution_count": 197,
   "metadata": {},
   "outputs": [
    {
     "data": {
      "text/plain": [
       "([-12.73119524351554, -0.6285989665289557],\n",
       " array([-12.73119524,  -0.62859897]))"
      ]
     },
     "execution_count": 197,
     "metadata": {},
     "output_type": "execute_result"
    }
   ],
   "source": [
    "#4.16\n",
    "def normsq(A):\n",
    "    return A.reverse().sp(A)[0]\n",
    "(\n",
    "    [(-normsq(F) - np.sqrt((normsq(F)**2 - normsq(F ^ F))))/2,\n",
    "    (-normsq(F) + np.sqrt((normsq(F)**2 - normsq(F ^ F))))/2],\n",
    "    Lk\n",
    ")\n"
   ]
  },
  {
   "cell_type": "code",
   "execution_count": 198,
   "metadata": {},
   "outputs": [
    {
     "data": {
      "text/plain": [
       "(-0.129 𝐞₁₂ + 0.256 𝐞₁₃ + -0.406 𝐞₁₄ + 0.302 𝐞₂₃ + -0.235 𝐞₂₄ + -0.484 𝐞₃₄,\n",
       " -0.129 𝐞₁₂ + 0.256 𝐞₁₃ + -0.406 𝐞₁₄ + 0.302 𝐞₂₃ + -0.235 𝐞₂₄ + -0.484 𝐞₃₄,\n",
       " -2.18 𝐞₁₂ + 1.06 𝐞₁₃ + 1.36 𝐞₁₄ + -1.83 𝐞₂₃ + -1.15 𝐞₂₄ + -0.581 𝐞₃₄,\n",
       " -2.18 𝐞₁₂ + 1.06 𝐞₁₃ + 1.36 𝐞₁₄ + -1.83 𝐞₂₃ + -1.15 𝐞₂₄ + -0.581 𝐞₃₄)"
      ]
     },
     "execution_count": 198,
     "metadata": {},
     "output_type": "execute_result"
    }
   ],
   "source": [
    "#4.17\n",
    "F2_ = F / (1 + (1/2/Lk[0])*(F ^ F))\n",
    "F1_ = F / (1 + (1/2/Lk[1])*(F ^ F))\n",
    "F1_, F1, F2_, F2"
   ]
  },
  {
   "cell_type": "code",
   "execution_count": 199,
   "metadata": {},
   "outputs": [],
   "source": [
    "def bivector_split(F, alg: Algebra):\n",
    "    m = alg.d // 2\n",
    "    if m <= 1:\n",
    "        return F\n",
    "    Ck = [(1/factorial(r))*wedge_power(F, r) for r in range(m+1)]\n",
    "    Ck2 = [(-1)**(2 - i) * alg.sp(Ck[i], Ck[i])[0] for i in range(m+1)]\n",
    "    Lk = np.roots(Ck2)\n",
    "    mv_map_list = [{} for _ in range(m)]\n",
    "    ck_inner_list = [alg.ip(Ck[i-1], Ck[i]) for i in range(1, len(Ck))]\n",
    "    mv_keys = set.union(*(set(ck.keys()) for ck in ck_inner_list if isinstance(ck, MultiVector)))\n",
    "    for key in mv_keys:\n",
    "        if all([np.isclose(ck[key],0) for ck in ck_inner_list]):\n",
    "            continue\n",
    "        ans = np.linalg.solve(np.array([np.ones(m), Lk]), [ck[key] for ck in ck_inner_list])\n",
    "        for i, v in enumerate(ans):\n",
    "            mv_map_list[i][key] = v\n",
    "    return [alg.multivector(mv_map) for mv_map in mv_map_list]"
   ]
  },
  {
   "cell_type": "code",
   "execution_count": 200,
   "metadata": {},
   "outputs": [
    {
     "data": {
      "text/plain": [
       "(-0.0866 + -8.89e-14 𝐞₁ + -2.95e-13 𝐞₂ + 1.78e-13 𝐞₃ + 1.23e-13 𝐞₄ + -4.3e-13 𝐞₁₂ + 1.05e-13 𝐞₁₃ + 8.53e-14 𝐞₁₄ + -4.64e-14 𝐞₂₃ + -1.29e-13 𝐞₂₄ + 3.12e-13 𝐞₃₄ + 5e-14 𝐞₁₂₃ + 1.3e-13 𝐞₁₂₄ + 2.24e-13 𝐞₁₃₄ + 1.57e-13 𝐞₂₃₄ + 3.66e-14 𝐞₁₂₃₄,\n",
       " [array([-5.59305806e-13,  1.97302717e-13, -2.47683882e-12, -1.78736252e-14,\n",
       "          2.26889855e-13, -8.00185194e-14]),\n",
       "  array([1., 1., 1., 1., 1., 1.]),\n",
       "  array([-2.11468084e-13, -2.11631181e-13, -2.11498460e-13, -2.09316364e-13,\n",
       "         -2.11528305e-13, -2.11638663e-13]),\n",
       "  array([ 0.37809027, -1.07262173,  0.08539048, 11.71090712, -0.93229512,\n",
       "          2.64487102])])"
      ]
     },
     "execution_count": 200,
     "metadata": {},
     "output_type": "execute_result"
    }
   ],
   "source": [
    "# What if we use the above function to split a bivector that's almost a blade?\n",
    "# The result blades are R itself and its dual with a small magnitude\n",
    "# Should assert not simple before process?\n",
    "\n",
    "R = create_r_blade(2, alg) + 1e-12 * A # a blade with a small perturbation\n",
    "blades = bivector_split(R, alg)\n",
    "R**2, [terms_ratio(b, r) for r in [R, R.dual()] for b in blades]"
   ]
  },
  {
   "cell_type": "code",
   "execution_count": 201,
   "metadata": {},
   "outputs": [
    {
     "data": {
      "text/plain": [
       "-1.42e-13 𝐞₁₂ + -2.84e-14 𝐞₁₃ + 1.42e-14 𝐞₁₄ + 1.14e-13 𝐞₂₃ + 2.84e-14 𝐞₂₄ + -5.68e-14 𝐞₃₄"
      ]
     },
     "execution_count": 201,
     "metadata": {},
     "output_type": "execute_result"
    }
   ],
   "source": [
    "# double skew is symmetric\n",
    "fm2 = lambda x: fm(fm(x))\n",
    "curl(fm2, x, alg, h=1e-2, grade=1)"
   ]
  },
  {
   "cell_type": "code",
   "execution_count": 202,
   "metadata": {},
   "outputs": [
    {
     "data": {
      "text/plain": [
       "(-0.247 𝐞₁ + -0.173 𝐞₂ + -0.236 𝐞₃ + -0.0937 𝐞₄,\n",
       " -0.247 𝐞₁ + -0.173 𝐞₂ + -0.236 𝐞₃ + -0.0937 𝐞₄ + -1.13e-17 𝐞₁₂₃ + 4.37e-17 𝐞₁₂₄ + -3.05e-17 𝐞₁₃₄ + 4.37e-17 𝐞₂₃₄)"
      ]
     },
     "execution_count": 202,
     "metadata": {},
     "output_type": "execute_result"
    }
   ],
   "source": [
    "#4.19\n",
    "v = P(e1, F1)\n",
    "fm2(v), (F1 ** 2) * v"
   ]
  },
  {
   "cell_type": "code",
   "execution_count": 203,
   "metadata": {},
   "outputs": [
    {
     "data": {
      "text/plain": [
       "(-0.129 𝐞₁₂ + 0.256 𝐞₁₃ + -0.406 𝐞₁₄ + 0.302 𝐞₂₃ + -0.235 𝐞₂₄ + -0.484 𝐞₃₄,\n",
       " -0.129 𝐞₁₂ + 0.256 𝐞₁₃ + -0.406 𝐞₁₄ + 0.302 𝐞₂₃ + -0.235 𝐞₂₄ + -0.484 𝐞₃₄)"
      ]
     },
     "execution_count": 203,
     "metadata": {},
     "output_type": "execute_result"
    }
   ],
   "source": [
    "#4.20 \n",
    "F1_eigvecs= [v.normalized() for v in gram_schmidt(blade_split(F1, alg))]\n",
    "F1, np.sqrt(normsq(F1)) * wedge(F1_eigvecs)\n"
   ]
  },
  {
   "cell_type": "code",
   "execution_count": 204,
   "metadata": {},
   "outputs": [
    {
     "data": {
      "text/plain": [
       "(-0.589 𝐞₁ + -0.808 𝐞₃,\n",
       " -0.589 𝐞₂ + -0.808 𝐞₄,\n",
       " 0.808 𝐞₁ + -0.589 𝐞₃,\n",
       " 0.808 𝐞₂ + -0.589 𝐞₄,\n",
       " 1.0 𝐞₁₂ + 1.0 𝐞₃₄,\n",
       " 0.346 𝐞₁₂ + 0.476 𝐞₁₄ + -0.476 𝐞₂₃ + 0.654 𝐞₃₄,\n",
       " 0.654 𝐞₁₂ + -0.476 𝐞₁₄ + 0.476 𝐞₂₃ + 0.346 𝐞₃₄)"
      ]
     },
     "execution_count": 204,
     "metadata": {},
     "output_type": "execute_result"
    }
   ],
   "source": [
    "# If Lk[0] == Lk[1], the linear equation has no unique solution in 4.15\n",
    "# nonunique bivector split? We should find another split of e12 + e34. \n",
    "t = 1.1\n",
    "R = blade_exp(t*e13) * blade_exp(t*e24)\n",
    "a,b,c,d = [R.sw(v) for v in alg.frame]\n",
    "a,b,c,d, a*b+c*d, a*b, c*d"
   ]
  },
  {
   "cell_type": "code",
   "execution_count": 205,
   "metadata": {},
   "outputs": [
    {
     "data": {
      "text/plain": [
       "(1.0 𝐞₁₂ + 1.0 𝐞₃₄,\n",
       " 1.0 𝐞₁₂ + 1.0 𝐞₃₄,\n",
       " 0.346 + -0.476 𝐞₁₃ + -0.476 𝐞₂₄ + -0.654 𝐞₁₂₃₄)"
      ]
     },
     "execution_count": 205,
     "metadata": {},
     "output_type": "execute_result"
    }
   ],
   "source": [
    "R.sw(e12 + e34), (e12+e34) * (R**2), R**2"
   ]
  },
  {
   "cell_type": "code",
   "execution_count": 206,
   "metadata": {},
   "outputs": [
    {
     "data": {
      "text/plain": [
       "(1.25 𝐞₁₂ + -1.83 𝐞₁₃ + -2.93 𝐞₁₄ + 2.1 𝐞₂₃ + 4.63 𝐞₂₄ + 0.401 𝐞₃₄,\n",
       " 1.25 𝐞₁₂ + -1.83 𝐞₁₃ + -2.93 𝐞₁₄ + 2.1 𝐞₂₃ + 4.63 𝐞₂₄ + 0.401 𝐞₃₄)"
      ]
     },
     "execution_count": 206,
     "metadata": {},
     "output_type": "execute_result"
    }
   ],
   "source": [
    "#4.21\n",
    "B2 = B.grade(2)\n",
    "# fm = lambda x: f(x) - adjoint_outermorphism(f, x, alg)\n",
    "# F = curl(fm, x, alg, grade=1) / 2\n",
    "outermorphism(fm, B2, alg), (0.5 * (B2 | (F^F))) - ((B2|F) * F)"
   ]
  },
  {
   "cell_type": "code",
   "execution_count": 207,
   "metadata": {},
   "outputs": [
    {
     "data": {
      "text/plain": [
       "(1.25 𝐞₁₂ + -1.83 𝐞₁₃ + -2.93 𝐞₁₄ + 2.1 𝐞₂₃ + 4.63 𝐞₂₄ + 0.401 𝐞₃₄,\n",
       " 1.25 𝐞₁₂ + -1.83 𝐞₁₃ + -2.93 𝐞₁₄ + 2.1 𝐞₂₃ + 4.63 𝐞₂₄ + 0.401 𝐞₃₄)"
      ]
     },
     "execution_count": 207,
     "metadata": {},
     "output_type": "execute_result"
    }
   ],
   "source": [
    "# What is a symmetric bivector function?\n",
    "# I guess it means:\n",
    "outermorphism(fm, B2, alg), adjoint_outermorphism(fm, B2, alg)"
   ]
  },
  {
   "cell_type": "code",
   "execution_count": 208,
   "metadata": {},
   "outputs": [
    {
     "data": {
      "text/plain": [
       "(-0.0811 𝐞₁₂ + 0.161 𝐞₁₃ + -0.255 𝐞₁₄ + 0.19 𝐞₂₃ + -0.148 𝐞₂₄ + -0.305 𝐞₃₄,\n",
       " -0.0811 𝐞₁₂ + 0.161 𝐞₁₃ + -0.255 𝐞₁₄ + 0.19 𝐞₂₃ + -0.148 𝐞₂₄ + -0.305 𝐞₃₄)"
      ]
     },
     "execution_count": 208,
     "metadata": {},
     "output_type": "execute_result"
    }
   ],
   "source": [
    "#4.23 The bivector split solves the eigenbivector problem of a skew transformation\n",
    "outermorphism(fm, F1, alg), normsq(F1)*F1"
   ]
  },
  {
   "cell_type": "code",
   "execution_count": 209,
   "metadata": {},
   "outputs": [
    {
     "data": {
      "text/plain": [
       "(-3.52 𝐞₁ + 9.12 𝐞₂ + -9.18 𝐞₃ + -6.05 𝐞₄,\n",
       " 5.54 𝐞₁ + -4.24 𝐞₂ + -5.01 𝐞₃ + -3.6 𝐞₄,\n",
       " 18.1 𝐞₁ + 8.08 𝐞₂ + -0.454 𝐞₃ + 13.5 𝐞₄,\n",
       " 36.2 𝐞₁ + -18.6 𝐞₂ + 7.89 𝐞₃ + 18.4 𝐞₄)"
      ]
     },
     "execution_count": 209,
     "metadata": {},
     "output_type": "execute_result"
    }
   ],
   "source": [
    "#5.1 normal transformation\n",
    "af = lambda x: adjoint_outermorphism(f, x, alg)\n",
    "\n",
    "fp(fm(x)), fm(fp(x)), af(f(x)), f(af(x)) # not normal"
   ]
  },
  {
   "cell_type": "code",
   "execution_count": 210,
   "metadata": {},
   "outputs": [
    {
     "data": {
      "text/plain": [
       "(0.526 𝐞₁ + 0.218 𝐞₂ + -0.133 𝐞₃ + 0.376 𝐞₄,\n",
       " 0.526 𝐞₁ + 0.218 𝐞₂ + -0.133 𝐞₃ + 0.376 𝐞₄)"
      ]
     },
     "execution_count": 210,
     "metadata": {},
     "output_type": "execute_result"
    }
   ],
   "source": [
    "M = blade_exp(create_r_blade(2, alg))\n",
    "Mdual = blade_split(M.grade(2).dual(), alg)\n",
    "rigid = lambda x: 1.1 *  M.sw(x) - 4.4 * P(x, Mdual[0]) + 3.3 * P(x, Mdual[1])\n",
    "adrigid = lambda x: adjoint_outermorphism(rigid, x, alg)\n",
    "adrigid(rigid(x)), rigid(adrigid(x))"
   ]
  },
  {
   "cell_type": "code",
   "execution_count": 211,
   "metadata": {},
   "outputs": [
    {
     "data": {
      "text/plain": [
       "(0.162 𝐞₁ + 0.547 𝐞₂ + -0.283 𝐞₃ + 0.0127 𝐞₄,\n",
       " 2.41 𝐞₁ + 0.542 𝐞₂ + -0.723 𝐞₃ + -1.25 𝐞₄ + -1.32e-16 𝐞₁₂₃ + -1.06e-16 𝐞₁₂₄ + 1.08e-17 𝐞₁₃₄ + -2.48e-17 𝐞₂₃₄)"
      ]
     },
     "execution_count": 211,
     "metadata": {},
     "output_type": "execute_result"
    }
   ],
   "source": [
    "rigid(x), 3.3 * M**2 * P(x, M.grade(2).normalized()) + 3.3 * P(x, M.grade(2).normalized().dual()) - 4.4 * P(x, Mdual[0]) + 5.5 * P(x, Mdual[1])"
   ]
  },
  {
   "cell_type": "code",
   "execution_count": 212,
   "metadata": {},
   "outputs": [
    {
     "data": {
      "text/plain": [
       "(-2.31 𝐞₁₂ + 1.31 𝐞₁₃ + 0.953 𝐞₁₄ + -1.53 𝐞₂₃ + -1.39 𝐞₂₄ + -1.07 𝐞₃₄,\n",
       " -2.31 𝐞₁₂ + 1.31 𝐞₁₃ + 0.953 𝐞₁₄ + -1.53 𝐞₂₃ + -1.39 𝐞₂₄ + -1.07 𝐞₃₄,\n",
       " -0.102 𝐞₁₂ + 0.203 𝐞₁₃ + -0.322 𝐞₁₄ + 0.239 𝐞₂₃ + -0.186 𝐞₂₄ + -0.384 𝐞₃₄,\n",
       " -0.102 𝐞₁₂ + 0.203 𝐞₁₃ + -0.322 𝐞₁₄ + 0.239 𝐞₂₃ + -0.186 𝐞₂₄ + -0.384 𝐞₃₄)"
      ]
     },
     "execution_count": 212,
     "metadata": {},
     "output_type": "execute_result"
    }
   ],
   "source": [
    "#5.2\n",
    "def norm(A):\n",
    "    return np.sqrt(normsq(A))\n",
    "b1, b2 = norm(F1), norm(F2)\n",
    "i1, i2 = F1/b1, F2/b2\n",
    "\n",
    "F, b1*i1 + b2*i2, outermorphism(fm, i1, alg), b1**2*i1"
   ]
  },
  {
   "cell_type": "code",
   "execution_count": 213,
   "metadata": {},
   "outputs": [
    {
     "data": {
      "text/plain": [
       "array([117.51579546, -60.38952098, -18.05561243, -41.92509762,\n",
       "       -45.29080415,  -9.76478956])"
      ]
     },
     "execution_count": 213,
     "metadata": {},
     "output_type": "execute_result"
    }
   ],
   "source": [
    "# 5.3\n",
    "terms_ratio(outermorphism(fp, i1, alg), i1) # not normal"
   ]
  },
  {
   "cell_type": "code",
   "execution_count": 214,
   "metadata": {},
   "outputs": [
    {
     "data": {
      "text/plain": [
       "[array([0.37611757, 0.37611757, 0.37611757, 0.37611757, 0.37611757,\n",
       "        0.37611757])]"
      ]
     },
     "execution_count": 214,
     "metadata": {},
     "output_type": "execute_result"
    }
   ],
   "source": [
    "# 5.3\n",
    "def sym_part(f, alg):\n",
    "    return lambda x: (f(x) + adjoint_outermorphism(f, x, alg))/2\n",
    "\n",
    "def skew_part(f, alg):\n",
    "    return lambda x: (f(x) - adjoint_outermorphism(f, x, alg))/2\n",
    "\n",
    "R = curl(rigid, x, alg, grade=1)/2\n",
    "skew_blades = bivector_split(R, alg)\n",
    "skew_eigs = [norm(b) for b in skew_blades]\n",
    "skew_blades = [b / e for b,e in zip(skew_blades, skew_eigs) if e > 1e-6]\n",
    "skew_eigs = [e for e in skew_eigs if e > 1e-6]\n",
    "rigid_p = sym_part(rigid, alg)\n",
    "[terms_ratio(outermorphism(rigid_p, i, alg), i) for i in skew_blades]"
   ]
  },
  {
   "cell_type": "code",
   "execution_count": 215,
   "metadata": {},
   "outputs": [
    {
     "data": {
      "text/plain": [
       "([0.6132842458166727], array([0.37611757]), [0.3761175661489226])"
      ]
     },
     "execution_count": 215,
     "metadata": {},
     "output_type": "execute_result"
    }
   ],
   "source": [
    "#5.4\n",
    "rand_vec = create_r_vectors(1, alg)[0]\n",
    "sym_vecs = [(rand_vec | i).normalized() for i in skew_blades]\n",
    "other_sym_space = wedge(skew_blades).dual()\n",
    "sym_eigs = [terms_ratio(rigid_p(a), a)[0] for a in sym_vecs]\n",
    "\n",
    "sym_eigs, np.square(sym_eigs), [terms_ratio(outermorphism(rigid_p, i, alg), i)[0] for i in skew_blades]\n"
   ]
  },
  {
   "cell_type": "code",
   "execution_count": 216,
   "metadata": {},
   "outputs": [
    {
     "data": {
      "text/plain": [
       "([-0.438 𝐞₁ + 0.281 𝐞₂ + -0.307 𝐞₃ + -0.919 𝐞₄],\n",
       " [-0.438 𝐞₁ + 0.281 𝐞₂ + -0.307 𝐞₃ + -0.919 𝐞₄ + -1.39e-17 𝐞₁₂₃ + -5.55e-17 𝐞₁₂₄ + 1.39e-17 𝐞₂₃₄],\n",
       " [-0.438 𝐞₁ + 0.281 𝐞₂ + -0.307 𝐞₃ + -0.919 𝐞₄ + 1.39e-17 𝐞₁₂₃ + 5.55e-17 𝐞₁₂₄ + -6.94e-18 𝐞₁₃₄ + -6.94e-18 𝐞₂₃₄])"
      ]
     },
     "execution_count": 216,
     "metadata": {},
     "output_type": "execute_result"
    }
   ],
   "source": [
    "#5.5a\n",
    "m = len(skew_blades)\n",
    "rigid_eigs = [sym_eigs[k] + skew_blades[k] * skew_eigs[k] for k in range(m)]\n",
    "[rigid(a) for a in sym_vecs], [a*l for a, l in zip(sym_vecs,rigid_eigs)], [l.reverse()*a for a, l in zip(sym_vecs,rigid_eigs)]"
   ]
  },
  {
   "cell_type": "code",
   "execution_count": 217,
   "metadata": {},
   "outputs": [
    {
     "data": {
      "text/plain": [
       "([0.691 𝐞₁ + 0.763 𝐞₂ + 0.0537 𝐞₃ + 0.384 𝐞₄],\n",
       " [0.691 𝐞₁ + 0.763 𝐞₂ + 0.0537 𝐞₃ + 0.384 𝐞₄ + -1.39e-17 𝐞₁₂₃ + -5.55e-17 𝐞₁₂₄ + 6.94e-18 𝐞₁₃₄ + 6.94e-18 𝐞₂₃₄],\n",
       " [0.691 𝐞₁ + 0.763 𝐞₂ + 0.0537 𝐞₃ + 0.384 𝐞₄ + 1.39e-17 𝐞₁₂₃ + 5.55e-17 𝐞₁₂₄ + -1.39e-17 𝐞₂₃₄])"
      ]
     },
     "execution_count": 217,
     "metadata": {},
     "output_type": "execute_result"
    }
   ],
   "source": [
    "#5.5b\n",
    "[adjoint_outermorphism(rigid, a, alg) for a in sym_vecs], [l*a for a, l in zip(sym_vecs,rigid_eigs)], [a*l.reverse() for a, l in zip(sym_vecs,rigid_eigs)]"
   ]
  },
  {
   "cell_type": "code",
   "execution_count": 218,
   "metadata": {},
   "outputs": [
    {
     "data": {
      "text/plain": [
       "([1.1000000000444248], [1.1000000000444248])"
      ]
     },
     "execution_count": 218,
     "metadata": {},
     "output_type": "execute_result"
    }
   ],
   "source": [
    "[norm(l) for l in rigid_eigs], [np.sqrt(sym_eigs[k] ** 2 + skew_eigs[k] ** 2) for k in range(m)]"
   ]
  },
  {
   "cell_type": "code",
   "execution_count": 219,
   "metadata": {},
   "outputs": [
    {
     "data": {
      "text/plain": [
       "([0.613 + 0.431 𝐞₁₂ + -0.154 𝐞₁₃ + -0.381 𝐞₁₄ + -0.203 𝐞₂₃ + -0.66 𝐞₂₄ + 0.0557 𝐞₃₄],\n",
       " [0.613 + 0.431 𝐞₁₂ + -0.154 𝐞₁₃ + -0.381 𝐞₁₄ + -0.203 𝐞₂₃ + -0.66 𝐞₂₄ + 0.0557 𝐞₃₄])"
      ]
     },
     "execution_count": 219,
     "metadata": {},
     "output_type": "execute_result"
    }
   ],
   "source": [
    "#5.6\n",
    "rho = [norm(l) for l in rigid_eigs] # dilation\n",
    "theta = [np.arccos(sym_eigs[k] / rho[k]) for k in range(m)] # rotation angle\n",
    "\n",
    "rigid_eigs, [rho[k] * blade_exp(theta[k] * skew_blades[k]) for k in range(m)] # skew_blades gives rotation plane"
   ]
  },
  {
   "cell_type": "code",
   "execution_count": 220,
   "metadata": {},
   "outputs": [
    {
     "data": {
      "text/plain": [
       "0.6132842458166725"
      ]
     },
     "execution_count": 220,
     "metadata": {},
     "output_type": "execute_result"
    }
   ],
   "source": [
    "np.sqrt(1 - (skew_eigs[0]/rho[0])**2) * rho[0]"
   ]
  },
  {
   "cell_type": "code",
   "execution_count": 221,
   "metadata": {},
   "outputs": [
    {
     "data": {
      "text/plain": [
       "array([ 1.42123923, -0.32123923])"
      ]
     },
     "execution_count": 221,
     "metadata": {},
     "output_type": "execute_result"
    }
   ],
   "source": [
    "# spectral decomposition of symmetric part in other_sym_space\n",
    "other_sym_frame = blade_split(other_sym_space, alg)\n",
    "other_sym_eigs = np.roots(char_poly_coefs(rigid_p, alg, other_sym_frame, reciprocal(other_sym_frame)))\n",
    "other_sym_eigs"
   ]
  },
  {
   "cell_type": "code",
   "execution_count": 222,
   "metadata": {},
   "outputs": [
    {
     "data": {
      "text/plain": [
       "(0.162 𝐞₁ + 0.547 𝐞₂ + -0.283 𝐞₃ + 0.0127 𝐞₄,\n",
       " 0.162 𝐞₁ + 0.547 𝐞₂ + -0.283 𝐞₃ + 0.0127 𝐞₄ + 5.2e-18 𝐞₁₂₃ + 2.08e-17 𝐞₁₂₄ + 6.94e-18 𝐞₁₃₄)"
      ]
     },
     "execution_count": 222,
     "metadata": {},
     "output_type": "execute_result"
    }
   ],
   "source": [
    "#5.9 spectral decomposition of a normal transformation\n",
    "sym_vecs_dual = [a|i for a, i in zip(sym_vecs, skew_blades)]\n",
    "other_sym_blades = eigenblades_from_values(rigid_p, other_sym_eigs, alg, other_sym_frame)\n",
    "\n",
    "rigid(x), sum([P(x, a) * l for a, l in zip(sym_vecs + sym_vecs_dual + other_sym_blades, rigid_eigs * 2 + list(other_sym_eigs))])"
   ]
  },
  {
   "cell_type": "code",
   "execution_count": 223,
   "metadata": {},
   "outputs": [
    {
     "data": {
      "text/plain": [
       "(array([-0.32123923,  0.61328425,  0.61328425,  1.42123923]),\n",
       " [0.71 𝐞₁ + -0.389 𝐞₂ + 0.239 𝐞₃ + -0.536 𝐞₄,\n",
       "  -0.179 𝐞₁ + 0.554 𝐞₂ + -0.282 𝐞₃ + -0.763 𝐞₄,\n",
       "  -0.627 𝐞₁ + -0.698 𝐞₂ + -0.0465 𝐞₃ + -0.343 𝐞₄,\n",
       "  -0.268 𝐞₁ + 0.233 𝐞₂ + 0.928 𝐞₃ + -0.111 𝐞₄])"
      ]
     },
     "execution_count": 223,
     "metadata": {},
     "output_type": "execute_result"
    }
   ],
   "source": [
    "#5.17\n",
    "sym_eigs, sym_vecs = np.linalg.eigh(trans2matrix(rigid_p, alg))\n",
    "sym_vecs = [alg.vector(v) for v in sym_vecs.transpose()]\n",
    "sym_eigs, sym_vecs"
   ]
  },
  {
   "cell_type": "code",
   "execution_count": 224,
   "metadata": {},
   "outputs": [
    {
     "data": {
      "text/plain": [
       "[array([0.10319464, 0.10319464, 0.10319464, 0.10319464]),\n",
       " array([1.21, 1.21, 1.21, 1.21]),\n",
       " array([1.21, 1.21, 1.21, 1.21]),\n",
       " array([2.01992094, 2.01992094, 2.01992094, 2.01992094])]"
      ]
     },
     "execution_count": 224,
     "metadata": {},
     "output_type": "execute_result"
    }
   ],
   "source": [
    "# In my case, all vectors are both eigenvectors of rigid_p and rigid_n\n",
    "rigid_n = lambda x: rigid(adjoint_outermorphism(rigid, x, alg))\n",
    "[terms_ratio(rigid_n(v), v) for v in sym_vecs]"
   ]
  },
  {
   "cell_type": "code",
   "execution_count": 225,
   "metadata": {},
   "outputs": [
    {
     "data": {
      "text/plain": [
       "(0.162 𝐞₁ + 0.547 𝐞₂ + -0.283 𝐞₃ + 0.0127 𝐞₄,\n",
       " 0.162 𝐞₁ + 0.547 𝐞₂ + -0.283 𝐞₃ + 0.0127 𝐞₄ + -3.68e-18 𝐞₁₂₃ + -4.62e-17 𝐞₁₂₄ + 5.66e-19 𝐞₁₃₄ + 2.12e-18 𝐞₂₃₄)"
      ]
     },
     "execution_count": 225,
     "metadata": {},
     "output_type": "execute_result"
    }
   ],
   "source": [
    "# the same spectral decomposition of the normal transformation\n",
    "beta = [v ^ rigid(v) for v in sym_vecs]\n",
    "rigid_eigs = [a + b for a,b in zip(sym_eigs, beta)]\n",
    "rigid(x), sum([P(x, a) * l for a, l in zip(sym_vecs, rigid_eigs)])"
   ]
  },
  {
   "cell_type": "code",
   "execution_count": 226,
   "metadata": {},
   "outputs": [
    {
     "data": {
      "text/plain": [
       "(0.416 + 0.761 𝐞₁ + 0.917 𝐞₂ + 0.786 𝐞₃ + 0.334 𝐞₄ + 0.0626 𝐞₁₂ + 0.462 𝐞₁₃ + 0.418 𝐞₁₄ + 0.913 𝐞₂₃ + 0.653 𝐞₂₄ + 0.109 𝐞₃₄ + 0.146 𝐞₁₂₃ + 0.175 𝐞₁₂₄ + 0.14 𝐞₁₃₄ + 0.612 𝐞₂₃₄ + 0.865 𝐞₁₂₃₄,\n",
       " 0.416 + 0.618 𝐞₁ + 1.32 𝐞₂ + 1.43 𝐞₃ + 0.455 𝐞₄ + 0.149 𝐞₁₂ + 1.01 𝐞₁₃ + 0.372 𝐞₁₄ + 2.16 𝐞₂₃ + 0.807 𝐞₂₄ + 0.244 𝐞₃₄ + 0.921 𝐞₁₂₃ + 0.439 𝐞₁₂₄ + 0.677 𝐞₁₃₄ + 1.32 𝐞₂₃₄ + 0.264 𝐞₁₂₃₄)"
      ]
     },
     "execution_count": 226,
     "metadata": {},
     "output_type": "execute_result"
    }
   ],
   "source": [
    "#5.19 our function \"rigid\" is normal but not orthogonal\n",
    "A, outermorphism(rigid, adjoint_outermorphism(rigid, A, alg, h=1e-2), alg, h=1e-2)"
   ]
  },
  {
   "cell_type": "code",
   "execution_count": 227,
   "metadata": {},
   "outputs": [
    {
     "data": {
      "text/plain": [
       "(0.416 + 0.761 𝐞₁ + 0.917 𝐞₂ + 0.786 𝐞₃ + 0.334 𝐞₄ + 0.0626 𝐞₁₂ + 0.462 𝐞₁₃ + 0.418 𝐞₁₄ + 0.913 𝐞₂₃ + 0.653 𝐞₂₄ + 0.109 𝐞₃₄ + 0.146 𝐞₁₂₃ + 0.175 𝐞₁₂₄ + 0.14 𝐞₁₃₄ + 0.612 𝐞₂₃₄ + 0.865 𝐞₁₂₃₄,\n",
       " 0.416 + 0.761 𝐞₁ + 0.917 𝐞₂ + 0.786 𝐞₃ + 0.334 𝐞₄ + 0.0626 𝐞₁₂ + 0.462 𝐞₁₃ + 0.418 𝐞₁₄ + 0.913 𝐞₂₃ + 0.653 𝐞₂₄ + 0.109 𝐞₃₄ + 0.146 𝐞₁₂₃ + 0.175 𝐞₁₂₄ + 0.14 𝐞₁₃₄ + 0.612 𝐞₂₃₄ + 0.865 𝐞₁₂₃₄)"
      ]
     },
     "execution_count": 227,
     "metadata": {},
     "output_type": "execute_result"
    }
   ],
   "source": [
    "#5.19 But if we normalize each \"eigenvalues\" in the spectral decomposition\n",
    "ortho_eigs = [l.normalized() for l in rigid_eigs]\n",
    "ortho = lambda x: sum([P(x, a) * l for a, l in zip(sym_vecs, ortho_eigs)])\n",
    "A, outermorphism(ortho, adjoint_outermorphism(ortho, A, alg, h=1e-2), alg, h=1e-2)"
   ]
  },
  {
   "cell_type": "code",
   "execution_count": 228,
   "metadata": {},
   "outputs": [
    {
     "data": {
      "text/plain": [
       "(-0.132 𝐞₁ + 0.653 𝐞₂ + -0.313 𝐞₃ + 0.211 𝐞₄ + 4.24e-18 𝐞₁₂₃ + 2.09e-17 𝐞₁₂₄ + 1.09e-17 𝐞₁₃₄ + -7.46e-18 𝐞₂₃₄,\n",
       " -0.132 𝐞₁ + 0.653 𝐞₂ + -0.313 𝐞₃ + 0.211 𝐞₄ + -4.68e-18 𝐞₁₂₃ + 2.17e-17 𝐞₁₂₄ + -2.93e-18 𝐞₁₃₄ + 3.03e-18 𝐞₂₃₄)"
      ]
     },
     "execution_count": 228,
     "metadata": {},
     "output_type": "execute_result"
    }
   ],
   "source": [
    "#5.20 left/right product of exponential\n",
    "ortho(x), sum([l.inv() * P(x, a) for a, l in zip(sym_vecs, ortho_eigs)])"
   ]
  },
  {
   "cell_type": "code",
   "execution_count": 229,
   "metadata": {},
   "outputs": [
    {
     "data": {
      "text/plain": [
       "([2.22e-16 + 0.323 𝐞₁₂ + -0.157 𝐞₁₃ + -0.637 𝐞₁₄ + -0.0224 𝐞₂₃ + 0.594 𝐞₂₄ + -0.333 𝐞₃₄,\n",
       "  1.67e-16 + 0.472 𝐞₁₂ + -0.168 𝐞₁₃ + -0.417 𝐞₁₄ + -0.222 𝐞₂₃ + -0.723 𝐞₂₄ + 0.061 𝐞₃₄,\n",
       "  -2.78e-17 + -0.333 𝐞₁₂ + -0.594 𝐞₁₃ + -0.0224 𝐞₁₄ + -0.637 𝐞₂₃ + 0.157 𝐞₂₄ + 0.323 𝐞₃₄],\n",
       " [-0.409 𝐞₁₂ + 0.225 𝐞₁₃ + -0.859 𝐞₁₄ + 0.0123 𝐞₂₃ + 0.171 𝐞₂₄ + -0.12 𝐞₃₄,\n",
       "  0.472 𝐞₁₂ + -0.168 𝐞₁₃ + -0.417 𝐞₁₄ + -0.222 𝐞₂₃ + -0.723 𝐞₂₄ + 0.061 𝐞₃₄,\n",
       "  0.472 𝐞₁₂ + -0.168 𝐞₁₃ + -0.417 𝐞₁₄ + -0.222 𝐞₂₃ + -0.723 𝐞₂₄ + 0.061 𝐞₃₄,\n",
       "  0.274 𝐞₁₂ + 0.477 𝐞₁₃ + 0.142 𝐞₁₄ + 0.477 𝐞₂₃ + -0.221 𝐞₂₄ + -0.633 𝐞₃₄])"
      ]
     },
     "execution_count": 229,
     "metadata": {},
     "output_type": "execute_result"
    }
   ],
   "source": [
    "#5.21\n",
    "(\n",
    "    [sym_vecs[k-1].normalized() * sym_vecs[k].normalized() for k in range(1, 4)],\n",
    "    [e.grade(2).normalized() for e in ortho_eigs]\n",
    ")\n"
   ]
  },
  {
   "cell_type": "code",
   "execution_count": 230,
   "metadata": {},
   "outputs": [
    {
     "data": {
      "text/plain": [
       "([0.71 𝐞₁ + -0.389 𝐞₂ + 0.239 𝐞₃ + -0.536 𝐞₄,\n",
       "  -0.179 𝐞₁ + 0.554 𝐞₂ + -0.282 𝐞₃ + -0.763 𝐞₄,\n",
       "  -0.627 𝐞₁ + -0.698 𝐞₂ + -0.0465 𝐞₃ + -0.343 𝐞₄,\n",
       "  -0.268 𝐞₁ + 0.233 𝐞₂ + 0.928 𝐞₃ + -0.111 𝐞₄],\n",
       " [[0.71 𝐞₁ + -0.389 𝐞₂ + 0.239 𝐞₃ + -0.536 𝐞₄,\n",
       "   0.71 𝐞₁ + -0.389 𝐞₂ + 0.239 𝐞₃ + -0.536 𝐞₄,\n",
       "   0.71 𝐞₁ + -0.389 𝐞₂ + 0.239 𝐞₃ + -0.536 𝐞₄],\n",
       "  [-0.62 𝐞₁ + -0.271 𝐞₂ + -0.196 𝐞₃ + -0.71 𝐞₄,\n",
       "   -0.62 𝐞₁ + -0.271 𝐞₂ + -0.196 𝐞₃ + -0.71 𝐞₄,\n",
       "   -0.179 𝐞₁ + 0.554 𝐞₂ + -0.282 𝐞₃ + -0.763 𝐞₄],\n",
       "  [-0.201 𝐞₁ + -0.849 𝐞₂ + 0.208 𝐞₃ + 0.442 𝐞₄,\n",
       "   -0.201 𝐞₁ + -0.849 𝐞₂ + 0.208 𝐞₃ + 0.442 𝐞₄,\n",
       "   -0.627 𝐞₁ + -0.698 𝐞₂ + -0.0465 𝐞₃ + -0.343 𝐞₄],\n",
       "  [-0.268 𝐞₁ + 0.233 𝐞₂ + 0.928 𝐞₃ + -0.111 𝐞₄,\n",
       "   -0.268 𝐞₁ + 0.233 𝐞₂ + 0.928 𝐞₃ + -0.111 𝐞₄,\n",
       "   -0.268 𝐞₁ + 0.233 𝐞₂ + 0.928 𝐞₃ + -0.111 𝐞₄]])"
      ]
     },
     "execution_count": 230,
     "metadata": {},
     "output_type": "execute_result"
    }
   ],
   "source": [
    "#5.23\n",
    "def simple_rotor_sqrt(R):\n",
    "    # for rotations only, don't use on screw motions\n",
    "    R_norm = norm(R+1)\n",
    "    assert R_norm >= 1e-4, \"no explicit square root for -1\"\n",
    "    return (R + 1)/R_norm\n",
    "    \n",
    "neg_eig_pairs = []\n",
    "eig_rotors = []\n",
    "for i, e in enumerate(ortho_eigs):\n",
    "    if normsq(e + 1) <= 1e-4:\n",
    "        neg_eig_pairs.append((-1, sym_vecs[i]))\n",
    "    else:\n",
    "        eig_rotors.append(simple_rotor_sqrt(e))\n",
    "\n",
    "sym_vecs, [[e.reverse().sw(a) for e in eig_rotors] for a in sym_vecs]"
   ]
  },
  {
   "cell_type": "code",
   "execution_count": 231,
   "metadata": {},
   "outputs": [
    {
     "data": {
      "text/plain": [
       "(-0.132 𝐞₁ + 0.653 𝐞₂ + -0.313 𝐞₃ + 0.211 𝐞₄ + 4.24e-18 𝐞₁₂₃ + 2.09e-17 𝐞₁₂₄ + 1.09e-17 𝐞₁₃₄ + -7.46e-18 𝐞₂₃₄,\n",
       " -0.132 𝐞₁ + 0.653 𝐞₂ + -0.313 𝐞₃ + 0.211 𝐞₄)"
      ]
     },
     "execution_count": 231,
     "metadata": {},
     "output_type": "execute_result"
    }
   ],
   "source": [
    "#5.25 I selected an example with -1 as an eigenvalue, \n",
    "# so we need an extra fix for the canonical form.\n",
    "theta = reduce(alg.gp, eig_rotors[::2])\n",
    "(\n",
    "    ortho(x),\n",
    "    theta.reverse().sw(x) - (2*sum(P(x, neg_eig_pairs[i][1]) for i in range(len(neg_eig_pairs))))\n",
    ")\n"
   ]
  },
  {
   "cell_type": "code",
   "execution_count": 232,
   "metadata": {},
   "outputs": [
    {
     "data": {
      "text/plain": [
       "(-0.639 + 0.283 𝐞₁₂ + -0.296 𝐞₁₃ + 0.222 𝐞₁₄ + -0.0982 𝐞₂₃ + 0.286 𝐞₂₄ + 0.444 𝐞₃₄ + -0.295 𝐞₁₂₃₄,\n",
       " -0.639 + 0.283 𝐞₁₂ + -0.296 𝐞₁₃ + 0.222 𝐞₁₄ + -0.0982 𝐞₂₃ + 0.286 𝐞₂₄ + 0.444 𝐞₃₄ + -0.295 𝐞₁₂₃₄)"
      ]
     },
     "execution_count": 232,
     "metadata": {},
     "output_type": "execute_result"
    }
   ],
   "source": [
    "#5.28\n",
    "blade_exp(F1) * blade_exp(F2), blade_exp(F2) * blade_exp(F1), "
   ]
  },
  {
   "cell_type": "code",
   "execution_count": 233,
   "metadata": {},
   "outputs": [
    {
     "data": {
      "text/plain": [
       "(0.702 + -0.116 𝐞₁₂ + 0.23 𝐞₁₃ + -0.365 𝐞₁₄ + 0.271 𝐞₂₃ + -0.211 𝐞₂₄ + -0.435 𝐞₃₄,\n",
       " 0.702 + -0.116 𝐞₁₂ + 0.23 𝐞₁₃ + -0.365 𝐞₁₄ + 0.271 𝐞₂₃ + -0.211 𝐞₂₄ + -0.435 𝐞₃₄)"
      ]
     },
     "execution_count": 233,
     "metadata": {},
     "output_type": "execute_result"
    }
   ],
   "source": [
    "#5.29\n",
    "blade_exp_ = blade_exp(F1)\n",
    "u1 = P(e1, F1).normalized()\n",
    "u2 = u1 | blade_exp_\n",
    "blade_exp_, u1 * u2"
   ]
  },
  {
   "cell_type": "code",
   "execution_count": 234,
   "metadata": {},
   "outputs": [
    {
     "data": {
      "text/plain": [
       "(-0.000368 𝐞₁ + 0.426 𝐞₂ + -0.17 𝐞₃ + 0.613 𝐞₄,\n",
       " -0.000368 𝐞₁ + 0.426 𝐞₂ + -0.17 𝐞₃ + 0.613 𝐞₄)"
      ]
     },
     "execution_count": 234,
     "metadata": {},
     "output_type": "execute_result"
    }
   ],
   "source": [
    "# reflection as sandwich product\n",
    "x - 2 * P(x, neg_eig_pairs[0][1]), -neg_eig_pairs[0][1].sw(x)"
   ]
  },
  {
   "cell_type": "code",
   "execution_count": 235,
   "metadata": {},
   "outputs": [
    {
     "data": {
      "text/plain": [
       "(-0.132 𝐞₁ + 0.653 𝐞₂ + -0.313 𝐞₃ + 0.211 𝐞₄ + 4.24e-18 𝐞₁₂₃ + 2.09e-17 𝐞₁₂₄ + 1.09e-17 𝐞₁₃₄ + -7.46e-18 𝐞₂₃₄,\n",
       " -0.132 𝐞₁ + 0.653 𝐞₂ + -0.313 𝐞₃ + 0.211 𝐞₄,\n",
       " -0.132 𝐞₁ + 0.653 𝐞₂ + -0.313 𝐞₃ + 0.211 𝐞₄)"
      ]
     },
     "execution_count": 235,
     "metadata": {},
     "output_type": "execute_result"
    }
   ],
   "source": [
    "#5.30\n",
    "theta2 = theta * neg_eig_pairs[0][1]\n",
    "ortho(x), -neg_eig_pairs[0][1].sw(theta.reverse().sw(x)), -theta2.reverse().sw(x)"
   ]
  },
  {
   "cell_type": "code",
   "execution_count": 236,
   "metadata": {},
   "outputs": [
    {
     "data": {
      "text/plain": [
       "(-0.012 𝐞₁₂₃ + -0.517 𝐞₁₂₄ + -0.447 𝐞₁₃₄ + -0.73 𝐞₂₃₄,\n",
       " -0.012 𝐞₁₂₃ + -0.517 𝐞₁₂₄ + -0.447 𝐞₁₃₄ + -0.73 𝐞₂₃₄)"
      ]
     },
     "execution_count": 236,
     "metadata": {},
     "output_type": "execute_result"
    }
   ],
   "source": [
    "#5.37a\n",
    "outermorphism(ortho, A3, alg), (-1)**(3*1)*theta2.reverse().sw(A3)"
   ]
  },
  {
   "cell_type": "code",
   "execution_count": 237,
   "metadata": {},
   "outputs": [
    {
     "data": {
      "text/plain": [
       "(0.69 𝐞₁₂ + -2.0 𝐞₁₃ + 1.52 𝐞₁₄ + -1.96 𝐞₂₃ + 1.44 𝐞₂₄ + 0.124 𝐞₃₄,\n",
       " 0.69 𝐞₁₂ + -2.0 𝐞₁₃ + 1.52 𝐞₁₄ + -1.96 𝐞₂₃ + 1.44 𝐞₂₄ + 0.124 𝐞₃₄)"
      ]
     },
     "execution_count": 237,
     "metadata": {},
     "output_type": "execute_result"
    }
   ],
   "source": [
    "#5.37b\n",
    "adjoint_outermorphism(ortho, F2, alg), (-1)**(2*1)*theta2.sw(F2)"
   ]
  },
  {
   "cell_type": "code",
   "execution_count": 238,
   "metadata": {},
   "outputs": [
    {
     "data": {
      "text/plain": [
       "(-1.02 𝐞₁ + -1.64 𝐞₂ + 0.026 𝐞₃ + 0.458 𝐞₄ + -2.84 𝐞₁₂₃ + -0.428 𝐞₁₂₄ + -0.412 𝐞₁₃₄ + 0.602 𝐞₂₃₄,\n",
       " -1.02 𝐞₁ + -1.64 𝐞₂ + 0.026 𝐞₃ + 0.458 𝐞₄ + -2.84 𝐞₁₂₃ + -0.428 𝐞₁₂₄ + -0.412 𝐞₁₃₄ + 0.602 𝐞₂₃₄)"
      ]
     },
     "execution_count": 238,
     "metadata": {},
     "output_type": "execute_result"
    }
   ],
   "source": [
    "#5.38\n",
    "outermorphism(ortho, A3 * F2, alg), outermorphism(ortho, A3, alg) * outermorphism(ortho, F2, alg)"
   ]
  },
  {
   "cell_type": "code",
   "execution_count": 280,
   "metadata": {},
   "outputs": [
    {
     "data": {
      "text/plain": [
       "-4.65 + -5.55e-17 𝐞₁₅ + 0.125 𝐞₁₂₃₄ + -0.392 𝐞₁₂₃₅ + 0.28 𝐞₁₂₄₅ + -1.78 𝐞₁₃₄₅ + -3.88 𝐞₂₃₄₅"
      ]
     },
     "execution_count": 280,
     "metadata": {},
     "output_type": "execute_result"
    }
   ],
   "source": [
    "#5.39\n",
    "from scipy.stats import ortho_group\n",
    "matrix = ortho_group.rvs(dim=5)\n",
    "alg = Algebra(5)\n",
    "ortho = matrix2trans(matrix, alg)\n",
    "x = create_r_vectors(1, alg)[0]\n",
    "ortho_curl = curl(ortho, x, alg, grade=1)\n",
    "ortho_curl ** 2"
   ]
  },
  {
   "cell_type": "code",
   "execution_count": 343,
   "metadata": {},
   "outputs": [
    {
     "data": {
      "text/plain": [
       "(0.0258 𝐞₁ + 0.000859 𝐞₂ + 0.16 𝐞₃ + 0.458 𝐞₄ + 0.222 𝐞₅,\n",
       " 0.0258 𝐞₁ + 0.000859 𝐞₂ + 0.16 𝐞₃ + 0.458 𝐞₄ + 0.222 𝐞₅)"
      ]
     },
     "execution_count": 343,
     "metadata": {},
     "output_type": "execute_result"
    }
   ],
   "source": [
    "# check orthogonality\n",
    "x, ortho(adjoint_outermorphism(ortho, x, alg, h=1e-2))"
   ]
  },
  {
   "cell_type": "code",
   "execution_count": 303,
   "metadata": {},
   "outputs": [],
   "source": [
    "skew_blades = bivector_split(ortho_curl/2, alg)"
   ]
  },
  {
   "cell_type": "code",
   "execution_count": 345,
   "metadata": {},
   "outputs": [],
   "source": [
    "rotors = []\n",
    "for blade in skew_blades:\n",
    "    blade_norm = norm(blade)\n",
    "    half_blade_ortho = (np.arcsin(blade_norm)/blade_norm/2) * blade.reverse()\n",
    "    rotors.append(blade_exp(half_blade_ortho))\n",
    "rotor = reduce(alg.gp, rotors)"
   ]
  },
  {
   "cell_type": "code",
   "execution_count": 346,
   "metadata": {},
   "outputs": [
    {
     "data": {
      "text/plain": [
       "(-0.903 𝐞₁ + 0.414 𝐞₂ + 0.0652 𝐞₃ + 0.0913 𝐞₄ + 0.0292 𝐞₅,\n",
       " -0.903 𝐞₁ + 0.414 𝐞₂ + 0.0652 𝐞₃ + 0.0913 𝐞₄ + 0.0292 𝐞₅)"
      ]
     },
     "execution_count": 346,
     "metadata": {},
     "output_type": "execute_result"
    }
   ],
   "source": [
    "# only a single vector left in the dual of skew blades, \n",
    "# so it's the remaining eigenvector for the symmetric part\n",
    "sym_vec = (wedge(skew_blades) | alg.pseudoscalar((1,))).normalized()\n",
    "ortho(sym_vec), sym_vec"
   ]
  },
  {
   "cell_type": "code",
   "execution_count": 360,
   "metadata": {},
   "outputs": [
    {
     "data": {
      "text/plain": [
       "(-0.903 𝐞₁ + 0.414 𝐞₂ + 0.0652 𝐞₃ + 0.0913 𝐞₄ + 0.0292 𝐞₅ + 3.75e-16 𝐞₁₂₃₄₅,\n",
       " 0.903 𝐞₁ + -0.414 𝐞₂ + -0.0652 𝐞₃ + -0.0913 𝐞₄ + -0.0292 𝐞₅,\n",
       " -0.903 𝐞₁ + 0.414 𝐞₂ + 0.0652 𝐞₃ + 0.0913 𝐞₄ + 0.0292 𝐞₅)"
      ]
     },
     "execution_count": 360,
     "metadata": {},
     "output_type": "execute_result"
    }
   ],
   "source": [
    "rotor.sw(sym_vec), -sym_vec.sw(sym_vec), sym_vec"
   ]
  },
  {
   "cell_type": "code",
   "execution_count": 347,
   "metadata": {},
   "outputs": [
    {
     "data": {
      "text/plain": [
       "(-0.144 𝐞₁₂ + 0.0554 𝐞₁₃ + 0.456 𝐞₁₄ + 0.497 𝐞₁₅ + 0.0699 𝐞₂₃ + 1.01 𝐞₂₄ + 1.14 𝐞₂₅ + -0.385 𝐞₃₄ + 0.483 𝐞₃₅ + -0.616 𝐞₄₅,\n",
       " -0.144 𝐞₁₂ + 0.0554 𝐞₁₃ + 0.456 𝐞₁₄ + 0.497 𝐞₁₅ + 0.0699 𝐞₂₃ + 1.01 𝐞₂₄ + 1.14 𝐞₂₅ + -0.385 𝐞₃₄ + 0.483 𝐞₃₅ + -0.616 𝐞₄₅)"
      ]
     },
     "execution_count": 347,
     "metadata": {},
     "output_type": "execute_result"
    }
   ],
   "source": [
    "outermorphism(ortho, skew_blades[0] + 2* skew_blades[1], alg), rotor.sw(skew_blades[0] + 2* skew_blades[1])"
   ]
  },
  {
   "cell_type": "code",
   "execution_count": 354,
   "metadata": {},
   "outputs": [
    {
     "data": {
      "text/plain": [
       "(1,\n",
       " [0.949 + 0.00937 𝐞₁₂ + -0.0619 𝐞₁₃ + 0.00497 𝐞₁₄ + -0.0104 𝐞₁₅ + -0.0994 𝐞₂₃ + -0.0255 𝐞₂₄ + 0.0119 𝐞₂₅ + 0.221 𝐞₃₄ + -0.189 𝐞₃₅ + -0.022 𝐞₄₅,\n",
       "  0.85 + -0.0372 𝐞₁₂ + -0.0183 𝐞₁₃ + 0.137 𝐞₁₄ + 0.14 𝐞₁₅ + -0.0349 𝐞₂₃ + 0.283 𝐞₂₄ + 0.343 𝐞₂₅ + 0.0103 𝐞₃₄ + 0.0364 𝐞₃₅ + -0.193 𝐞₄₅])"
      ]
     },
     "execution_count": 354,
     "metadata": {},
     "output_type": "execute_result"
    }
   ],
   "source": [
    "# Somehow the orientation of rotors get messy...\n",
    "p = 0\n",
    "rotation_tests = [P(x, blade) for blade in skew_blades]\n",
    "for i, x in enumerate(rotation_tests):\n",
    "    sw = rotors[i].sw(x)\n",
    "    ans = ortho(x)\n",
    "    if max_diff(sw, ans)<1e-5:\n",
    "        continue\n",
    "    if max_diff(sw, -ans)<1e-5:\n",
    "        p+=1\n",
    "        continue\n",
    "    sw = rotors[i].reverse().sw(x)\n",
    "    if max_diff(sw, ans)<1e-5:\n",
    "        rotors[i] = rotors[i].reverse()\n",
    "        continue\n",
    "    if max_diff(sw, -ans)<1e-5:\n",
    "        rotors[i] = rotors[i].reverse()\n",
    "        p+=1\n",
    "p, rotors"
   ]
  },
  {
   "cell_type": "code",
   "execution_count": 358,
   "metadata": {},
   "outputs": [
    {
     "data": {
      "text/plain": [
       "(-0.16 𝐞₁ + -0.316 𝐞₂ + -0.00489 𝐞₃ + -0.0534 𝐞₄ + -0.281 𝐞₅ + -3.05e-17 𝐞₁₂₃₄₅,\n",
       " -0.16 𝐞₁ + -0.316 𝐞₂ + -0.00489 𝐞₃ + -0.0534 𝐞₄ + -0.281 𝐞₅)"
      ]
     },
     "execution_count": 358,
     "metadata": {},
     "output_type": "execute_result"
    }
   ],
   "source": [
    "rotor = reduce(alg.gp, rotors)\n",
    "rotor2 = sym_vec * rotor\n",
    "xd = P(x, sym_vec.dual())\n",
    "(-1)**(p+1)*(rotor2.sw(x)), ortho(x)"
   ]
  },
  {
   "cell_type": "code",
   "execution_count": null,
   "metadata": {},
   "outputs": [],
   "source": []
  }
 ],
 "metadata": {
  "kernelspec": {
   "display_name": "Python 3",
   "language": "python",
   "name": "python3"
  },
  "language_info": {
   "codemirror_mode": {
    "name": "ipython",
    "version": 3
   },
   "file_extension": ".py",
   "mimetype": "text/x-python",
   "name": "python",
   "nbconvert_exporter": "python",
   "pygments_lexer": "ipython3",
   "version": "3.10.5"
  }
 },
 "nbformat": 4,
 "nbformat_minor": 2
}
