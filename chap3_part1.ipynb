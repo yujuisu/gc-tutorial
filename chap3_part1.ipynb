{
 "cells": [
  {
   "cell_type": "markdown",
   "metadata": {},
   "source": [
    "### Linear and Multilinear Functions"
   ]
  },
  {
   "cell_type": "code",
   "execution_count": 1,
   "metadata": {},
   "outputs": [],
   "source": [
    "from gc_utils import *\n",
    "# use vanilla algebra, so we're not bother by the sign of I*I.reverse()\n",
    "alg = Algebra(4) \n",
    "locals().update(alg.blades)"
   ]
  },
  {
   "cell_type": "code",
   "execution_count": 2,
   "metadata": {},
   "outputs": [
    {
     "data": {
      "text/plain": [
       "(0.802 𝐞₁ + 1.34 𝐞₂ + 1.66 𝐞₃ + -1.17 𝐞₄,\n",
       " 0.802 𝐞₁ + 1.34 𝐞₂ + 1.66 𝐞₃ + -1.17 𝐞₄)"
      ]
     },
     "execution_count": 2,
     "metadata": {},
     "output_type": "execute_result"
    }
   ],
   "source": [
    "#1.1 linear transformation\n",
    "A = random_multivector(alg)\n",
    "B = random_multivector(alg)\n",
    "C = random_multivector(alg)\n",
    "D = random_multivector(alg)\n",
    "x = random_multivector(alg).grade(1)\n",
    "a = random_multivector(alg).grade(1)\n",
    "f = lambda x: (A*x*B+C*x*D).grade(1)\n",
    "differential(f, x, a), f(a)"
   ]
  },
  {
   "cell_type": "code",
   "execution_count": 4,
   "metadata": {},
   "outputs": [
    {
     "data": {
      "text/plain": [
       "(4.26 𝐞₁ + 2.97 𝐞₂ + -1.36 𝐞₃ + -1.12 𝐞₄,\n",
       " 4.26 𝐞₁ + 2.97 𝐞₂ + -1.36 𝐞₃ + -1.12 𝐞₄,\n",
       " 4.26 𝐞₁ + 2.97 𝐞₂ + -1.36 𝐞₃ + -1.12 𝐞₄)"
      ]
     },
     "execution_count": 4,
     "metadata": {},
     "output_type": "execute_result"
    }
   ],
   "source": [
    "#1.2\n",
    "g = lambda x: (C*x*D).grade(1)\n",
    "g(f(a)), differential(g, f(a), f(a)), differential(g, 0, f(a))"
   ]
  },
  {
   "cell_type": "code",
   "execution_count": 5,
   "metadata": {},
   "outputs": [],
   "source": [
    "# modify the input of the original skew_symmetrizer: a multivector Ar instead of vectors\n",
    "def skew_symmetrizer(F, Ar, alg, h=1e-6, frame=None, r_frame=None):\n",
    "    if not frame:\n",
    "        frame = alg.frame\n",
    "        r_frame = reciprocal(alg.frame)\n",
    "    drF = 0\n",
    "    r = Ar.grades[0]\n",
    "    for base_vectors, reci_vectors in zip(permutations(frame, r), permutations(r_frame, r)):\n",
    "        # if F is linear, vectors cause no difference in vectors_partial. The input is just Ar.\n",
    "        # So actually we allow Ar being any multivector\n",
    "        drF += (Ar.sp(wedge(base_vectors[::-1]))) * vectors_partial(F, np.zeros(r), reci_vectors, h=h)\n",
    "    return (1/factorial(r)) * drF"
   ]
  },
  {
   "cell_type": "code",
   "execution_count": 6,
   "metadata": {},
   "outputs": [
    {
     "data": {
      "text/plain": [
       "(-2.4 𝐞₁ + 5.69 𝐞₂ + 2.48 𝐞₃ + -4.61 𝐞₄,\n",
       " -2.4 𝐞₁ + 5.69 𝐞₂ + 2.48 𝐞₃ + -4.61 𝐞₄)"
      ]
     },
     "execution_count": 6,
     "metadata": {},
     "output_type": "execute_result"
    }
   ],
   "source": [
    "#1.4 Extend a vector function to a multivector function.\n",
    "# For linear f we ignore the position where f is measured, \n",
    "# just the differential at each direction.\n",
    "def outermorphism(f, A: MultiVector, alg, h=1e-6, frame=None, r_frame=None):\n",
    "    wf = lambda vectors: wedge([f(v) for v in vectors])\n",
    "    outer = 0\n",
    "    for r in A.grades:\n",
    "        if r == 0:\n",
    "            outer += A.grade(0)\n",
    "            continue\n",
    "        outer += skew_symmetrizer(wf, A.grade(r), alg, h, frame, r_frame)\n",
    "    return outer\n",
    "\n",
    "outermorphism(f, x, alg), f(x)"
   ]
  },
  {
   "cell_type": "code",
   "execution_count": 8,
   "metadata": {},
   "outputs": [
    {
     "data": {
      "text/plain": [
       "(0.203 + -2.85 𝐞₁ + 1.29 𝐞₂ + 3.17 𝐞₃ + -3.22 𝐞₄ + 3.43 𝐞₁₂ + -7.09 𝐞₁₃ + 1.95 𝐞₁₄ + 7.02 𝐞₂₃ + -4.75 𝐞₂₄ + 5.84 𝐞₃₄,\n",
       " 0.203 + -2.85 𝐞₁ + 1.29 𝐞₂ + 3.17 𝐞₃ + -3.22 𝐞₄ + 3.43 𝐞₁₂ + -7.09 𝐞₁₃ + 1.95 𝐞₁₄ + 7.02 𝐞₂₃ + -4.75 𝐞₂₄ + 5.84 𝐞₃₄,\n",
       " 0.203 + -2.85 𝐞₁ + 1.29 𝐞₂ + 3.17 𝐞₃ + -3.22 𝐞₄ + 3.43 𝐞₁₂ + -7.09 𝐞₁₃ + 1.95 𝐞₁₄ + 7.02 𝐞₂₃ + -4.75 𝐞₂₄ + 5.84 𝐞₃₄)"
      ]
     },
     "execution_count": 8,
     "metadata": {},
     "output_type": "execute_result"
    }
   ],
   "source": [
    "#1.6 A frame can be arbitrary as long as it represent the same space. \n",
    "# It's pretty handy to specify a domain.\n",
    "h = 1e-2\n",
    "A2 = e12\n",
    "A2frame = [e1, e2]\n",
    "A2r_frame = reciprocal(A2frame)\n",
    "(\n",
    "    outermorphism(f, P(A, A2), alg, h), \n",
    "    outermorphism(f, P(A, A2), alg, h, frame=A2frame, r_frame=A2r_frame), \n",
    "    outermorphism(f, A, alg, h, frame=A2frame, r_frame=A2r_frame),\n",
    ")"
   ]
  },
  {
   "cell_type": "code",
   "execution_count": 7,
   "metadata": {},
   "outputs": [
    {
     "data": {
      "text/plain": [
       "(-1.41 𝐞₁₂₃ + 0.481 𝐞₁₂₄ + 0.664 𝐞₁₃₄ + -2.19 𝐞₂₃₄,\n",
       " -1.41 𝐞₁₂₃ + 0.481 𝐞₁₂₄ + 0.664 𝐞₁₃₄ + -2.19 𝐞₂₃₄)"
      ]
     },
     "execution_count": 7,
     "metadata": {},
     "output_type": "execute_result"
    }
   ],
   "source": [
    "#1.7 An outermorphism preserves outer products\n",
    "vectors = random_r_vectors(3, alg)\n",
    "outermorphism(f, wedge(vectors), alg), wedge([f(v) for v in vectors])"
   ]
  },
  {
   "cell_type": "code",
   "execution_count": 8,
   "metadata": {},
   "outputs": [
    {
     "data": {
      "text/plain": [
       "(0.0419 + -0.29 𝐞₁ + 2.66 𝐞₂ + 6.35 𝐞₃ + -1.08 𝐞₄ + 16.6 𝐞₁₂ + -9.8 𝐞₁₃ + 13.1 𝐞₁₄ + 22.2 𝐞₂₃ + -30.1 𝐞₂₄ + 6.16 𝐞₃₄ + 40.4 𝐞₁₂₃ + -19.0 𝐞₁₂₄ + -31.0 𝐞₁₃₄ + 61.5 𝐞₂₃₄ + 73.9 𝐞₁₂₃₄,\n",
       " 0.0419 + -0.29 𝐞₁ + 2.66 𝐞₂ + 6.35 𝐞₃ + -1.08 𝐞₄ + 16.6 𝐞₁₂ + -9.8 𝐞₁₃ + 13.1 𝐞₁₄ + 22.2 𝐞₂₃ + -30.1 𝐞₂₄ + 6.16 𝐞₃₄ + 40.4 𝐞₁₂₃ + -19.0 𝐞₁₂₄ + -31.0 𝐞₁₃₄ + 61.5 𝐞₂₃₄ + 73.9 𝐞₁₂₃₄)"
      ]
     },
     "execution_count": 8,
     "metadata": {},
     "output_type": "execute_result"
    }
   ],
   "source": [
    "# By 1.7, splitting A into simple blades, we get a simpler outermorphism\n",
    "# Here, the value at v replaces the slope at direction v by linearity\n",
    "def outermorphism_(f, A: MultiVector, alg):\n",
    "    outer = A.grade(0)\n",
    "    for vectors in multi_frame_vectors(alg.frame):\n",
    "        Vr = wedge(reciprocal(vectors)[::-1])\n",
    "        outer += alg.sp(Vr,A) * wedge([f(v) for v in vectors]) # frame split of A\n",
    "    return outer\n",
    "\n",
    "outermorphism_(f, D, alg), outermorphism(f, D, alg)"
   ]
  },
  {
   "cell_type": "code",
   "execution_count": 9,
   "metadata": {},
   "outputs": [
    {
     "data": {
      "text/plain": [
       "(0.375 + 0.995 𝐞₁ + 3.55 𝐞₂ + 2.28 𝐞₃ + 2.09 𝐞₄ + -5.74 𝐞₁₂ + 10.2 𝐞₁₃ + -7.17 𝐞₁₄ + 0.911 𝐞₂₃ + 6.69 𝐞₂₄ + -17.6 𝐞₃₄ + -52.1 𝐞₁₂₃ + 20.8 𝐞₁₂₄ + 38.1 𝐞₁₃₄ + -74.8 𝐞₂₃₄ + 38.9 𝐞₁₂₃₄,\n",
       " 0.375 + 0.995 𝐞₁ + 3.55 𝐞₂ + 2.28 𝐞₃ + 2.09 𝐞₄ + -5.74 𝐞₁₂ + 10.2 𝐞₁₃ + -7.17 𝐞₁₄ + 0.911 𝐞₂₃ + 6.69 𝐞₂₄ + -17.6 𝐞₃₄ + -52.1 𝐞₁₂₃ + 20.8 𝐞₁₂₄ + 38.1 𝐞₁₃₄ + -74.8 𝐞₂₃₄ + 38.9 𝐞₁₂₃₄)"
      ]
     },
     "execution_count": 9,
     "metadata": {},
     "output_type": "execute_result"
    }
   ],
   "source": [
    "#1.9 anoter outer product property\n",
    "outermorphism(f, A.reverse(), alg), outermorphism(f, A, alg).reverse()"
   ]
  },
  {
   "cell_type": "code",
   "execution_count": 10,
   "metadata": {},
   "outputs": [
    {
     "data": {
      "text/plain": [
       "(0.375 + 0.995 𝐞₁ + 3.55 𝐞₂ + 5.74 𝐞₁₂, 0.375 + 0.995 𝐞₁ + 3.55 𝐞₂ + 5.74 𝐞₁₂)"
      ]
     },
     "execution_count": 10,
     "metadata": {},
     "output_type": "execute_result"
    }
   ],
   "source": [
    "#1.10\n",
    "fA2 = lambda x: P(f(x), A2)\n",
    "outermorphism(fA2, A, alg), P(outermorphism(fA2, A, alg), A2)"
   ]
  },
  {
   "cell_type": "code",
   "execution_count": 11,
   "metadata": {},
   "outputs": [],
   "source": [
    "#1.11\n",
    "def adjoint_outermorphism(f, A, alg, h=1e-6, frame=None, r_frame=None):\n",
    "    F = lambda vectors: wedge([f(v) for v in vectors]).sp(A)\n",
    "    outer = 0\n",
    "    for r in A.grades:\n",
    "        if r == 0:\n",
    "            outer += A.grade(0)\n",
    "            continue\n",
    "        # Why np.zeros(r)? The derivative of a linear function is constant\n",
    "        outer += simplicial_derivative(F, np.zeros(r), alg, h, frame, r_frame)\n",
    "    return outer"
   ]
  },
  {
   "cell_type": "code",
   "execution_count": 12,
   "metadata": {},
   "outputs": [
    {
     "data": {
      "text/plain": [
       "(0.375 + 0.942 𝐞₁ + 1.64 𝐞₂ + 1.62 𝐞₃ + -0.441 𝐞₄ + -5.61 𝐞₁₂ + -1.5 𝐞₁₃ + 2.7 𝐞₁₄ + 7.04 𝐞₂₃ + 2.08 𝐞₂₄ + 3.94 𝐞₃₄,\n",
       " 0.375 + 0.942 𝐞₁ + 1.64 𝐞₂ + 1.62 𝐞₃ + -0.441 𝐞₄ + -5.61 𝐞₁₂ + -1.5 𝐞₁₃ + 2.7 𝐞₁₄ + 7.04 𝐞₂₃ + 2.08 𝐞₂₄ + 3.94 𝐞₃₄)"
      ]
     },
     "execution_count": 12,
     "metadata": {},
     "output_type": "execute_result"
    }
   ],
   "source": [
    "#1.12\n",
    "adjoint_outermorphism(fA2, P(A, A2), alg), adjoint_outermorphism(fA2, A, alg)"
   ]
  },
  {
   "cell_type": "code",
   "execution_count": 13,
   "metadata": {},
   "outputs": [
    {
     "data": {
      "text/plain": [
       "(0.13 + 2.13 𝐞₁ + 2.89 𝐞₂ + -0.866 𝐞₃ + 1.33 𝐞₄ + 3.76 𝐞₁₂ + -12.4 𝐞₁₃ + 4.93 𝐞₁₄ + 2.08 𝐞₂₃ + -2.62 𝐞₂₄ + 12.0 𝐞₃₄ + 1.68e+02 𝐞₁₂₃ + -72.1 𝐞₁₂₄ + 50.8 𝐞₁₃₄ + 1.56e+02 𝐞₂₃₄ + 16.9 𝐞₁₂₃₄,\n",
       " 0.13 + 2.13 𝐞₁ + 2.89 𝐞₂ + -0.866 𝐞₃ + 1.33 𝐞₄ + 3.76 𝐞₁₂ + -12.4 𝐞₁₃ + 4.93 𝐞₁₄ + 2.08 𝐞₂₃ + -2.62 𝐞₂₄ + 12.0 𝐞₃₄ + 1.68e+02 𝐞₁₂₃ + -72.1 𝐞₁₂₄ + 50.8 𝐞₁₃₄ + 1.56e+02 𝐞₂₃₄ + 16.9 𝐞₁₂₃₄)"
      ]
     },
     "execution_count": 13,
     "metadata": {},
     "output_type": "execute_result"
    }
   ],
   "source": [
    "#1.13\n",
    "# Exercise: implement the adjoint outermorphism by spliting A into vectors.\n",
    "adjoint_outermorphism(f, A^B, alg), adjoint_outermorphism(f, A, alg) ^ adjoint_outermorphism(f, B, alg)"
   ]
  },
  {
   "cell_type": "code",
   "execution_count": 14,
   "metadata": {},
   "outputs": [
    {
     "data": {
      "text/plain": [
       "(-6.02 𝐞₁ + -3.93 𝐞₂ + -8.36 𝐞₃ + 6.98 𝐞₄,\n",
       " -14.7 𝐞₁ + -5.69 𝐞₂ + 3.34 𝐞₃ + 8.17 𝐞₄,\n",
       " -6.02 𝐞₁ + -3.93 𝐞₂ + -8.36 𝐞₃ + 6.98 𝐞₄)"
      ]
     },
     "execution_count": 14,
     "metadata": {},
     "output_type": "execute_result"
    }
   ],
   "source": [
    "#1.14a r <= s\n",
    "r, s = 2, 3\n",
    "Ar = A.grade(r)\n",
    "Bs = B.grade(s)\n",
    "(\n",
    "    Ar | adjoint_outermorphism(f, Bs, alg),\n",
    "    outermorphism(f, Ar, alg) | Bs,\n",
    "    adjoint_outermorphism(f, outermorphism(f, Ar, alg) | Bs, alg),\n",
    ")"
   ]
  },
  {
   "cell_type": "code",
   "execution_count": 15,
   "metadata": {},
   "outputs": [
    {
     "data": {
      "text/plain": [
       "(8.33 𝐞₁ + -5.46 𝐞₂ + -73.3 𝐞₃ + 37.2 𝐞₄,\n",
       " -7.0 𝐞₁ + -0.914 𝐞₂ + 6.7 𝐞₃ + -3.15 𝐞₄,\n",
       " 8.33 𝐞₁ + -5.46 𝐞₂ + -73.3 𝐞₃ + 37.2 𝐞₄)"
      ]
     },
     "execution_count": 15,
     "metadata": {},
     "output_type": "execute_result"
    }
   ],
   "source": [
    "#1.14b r >= s\n",
    "r, s = 3, 2\n",
    "Ar = A.grade(r)\n",
    "Bs = B.grade(s)\n",
    "(\n",
    "    outermorphism(f, Ar | adjoint_outermorphism(f, Bs, alg), alg),\n",
    "    Ar | adjoint_outermorphism(f, Bs, alg),\n",
    "    outermorphism(f, Ar, alg) | Bs,\n",
    ")"
   ]
  },
  {
   "cell_type": "code",
   "execution_count": 16,
   "metadata": {},
   "outputs": [
    {
     "name": "stdout",
     "output_type": "stream",
     "text": [
      "3.35 3.35\n",
      "-9.57 -9.57\n",
      "7.35 7.35\n"
     ]
    }
   ],
   "source": [
    "#1.15 r = s\n",
    "for r,s in [(1,1), (2,2), (3,3)]:\n",
    "    Ar = A.grade(r)\n",
    "    Bs = B.grade(s)\n",
    "    print(\n",
    "        Ar | adjoint_outermorphism(f, Bs, alg),\n",
    "        outermorphism(f, Ar, alg) | Bs,\n",
    "    )"
   ]
  },
  {
   "cell_type": "code",
   "execution_count": 17,
   "metadata": {},
   "outputs": [
    {
     "data": {
      "text/plain": [
       "(-6.02 𝐞₁ + -3.93 𝐞₂ + -8.36 𝐞₃ + 6.98 𝐞₄,\n",
       " -6.02 𝐞₁ + -3.93 𝐞₂ + -8.36 𝐞₃ + 6.98 𝐞₄)"
      ]
     },
     "execution_count": 17,
     "metadata": {},
     "output_type": "execute_result"
    }
   ],
   "source": [
    "# proof of 1.14a\n",
    "r, s = 2, 3\n",
    "Ar = A.grade(r)\n",
    "Bs = B.grade(s)\n",
    "frame = alg.frame\n",
    "r_frame = reciprocal(alg.frame)\n",
    "rhs = 0\n",
    "r = Ar.grades[0]\n",
    "F = lambda vectors: wedge([f(v) for v in vectors]) \n",
    "for base_vectors, reci_vectors in zip(permutations(frame, s), permutations(r_frame, s)):\n",
    "    rhs += (Ar | (wedge(base_vectors[::-1]))) * (vectors_partial(F, np.zeros(s), reci_vectors, h=h) | Bs)\n",
    "(\n",
    "    Ar | adjoint_outermorphism(f, Bs, alg),\n",
    "    rhs / factorial(s)\n",
    ")"
   ]
  },
  {
   "cell_type": "code",
   "execution_count": 18,
   "metadata": {},
   "outputs": [
    {
     "data": {
      "text/plain": [
       "(, 86.4 𝐞₁₂₃₄, 86.4 𝐞₁₂₃₄)"
      ]
     },
     "execution_count": 18,
     "metadata": {},
     "output_type": "execute_result"
    }
   ],
   "source": [
    "# singular, nonsingular functions\n",
    "I = alg.pseudoscalar((1,))\n",
    "# fA2 is singular\n",
    "outermorphism(fA2, I, alg), outermorphism(f, I, alg), adjoint_outermorphism(f, I, alg)"
   ]
  },
  {
   "cell_type": "code",
   "execution_count": 19,
   "metadata": {},
   "outputs": [
    {
     "data": {
      "text/plain": [
       "(86.4, 86.4, 86.4)"
      ]
     },
     "execution_count": 19,
     "metadata": {},
     "output_type": "execute_result"
    }
   ],
   "source": [
    "#1.16 Use inverse instead of reverse for negative signatures. case I = Ip\n",
    "n = 4\n",
    "Ir = I.inv()\n",
    "F = lambda vectors: wedge([f(v) for v in vectors])\n",
    "(\n",
    "    simplicial_derivative(F, alg.frame, alg, h=1e-2), \n",
    "    Ir * outermorphism(f, I, alg), \n",
    "    adjoint_outermorphism(f, I, alg) * Ir\n",
    ")"
   ]
  },
  {
   "cell_type": "code",
   "execution_count": 20,
   "metadata": {},
   "outputs": [
    {
     "data": {
      "text/plain": [
       "(-2.9 𝐞₁₃, -2.9 𝐞₁₃, -2.9 𝐞₁₃)"
      ]
     },
     "execution_count": 20,
     "metadata": {},
     "output_type": "execute_result"
    }
   ],
   "source": [
    "#1.16 case I != Ip\n",
    "n = 2\n",
    "I = e12\n",
    "Ip = e23\n",
    "Ir = I.inv()\n",
    "Ipr = Ip.inv()\n",
    "h = 1e-2\n",
    "# a function from I to Ip\n",
    "g = lambda x: P((A*P(x, I)*B).grade(1), Ip)\n",
    "F = lambda vectors: wedge([g(v) for v in vectors])\n",
    "(\n",
    "    simplicial_derivative(F, alg.frame[:2], alg, h),\n",
    "    Ir * outermorphism(g, I, alg, h),\n",
    "    adjoint_outermorphism(g, Ip, alg, h) * Ipr\n",
    ")"
   ]
  },
  {
   "cell_type": "code",
   "execution_count": 21,
   "metadata": {},
   "outputs": [
    {
     "data": {
      "text/plain": [
       "(2.9 𝐞₂₃, 1 𝐞₂₃)"
      ]
     },
     "execution_count": 21,
     "metadata": {},
     "output_type": "execute_result"
    }
   ],
   "source": [
    "#1.17a\n",
    "outermorphism(g, I, alg, h), Ip"
   ]
  },
  {
   "cell_type": "code",
   "execution_count": 22,
   "metadata": {},
   "outputs": [
    {
     "data": {
      "text/plain": [
       "(2.9 𝐞₁₂, 1 𝐞₁₂)"
      ]
     },
     "execution_count": 22,
     "metadata": {},
     "output_type": "execute_result"
    }
   ],
   "source": [
    "#1.17b Need extra minus sign for negative signature. You can try Algebra(3,1).\n",
    "adjoint_outermorphism(g, Ip, alg, h), I"
   ]
  },
  {
   "cell_type": "code",
   "execution_count": 23,
   "metadata": {},
   "outputs": [
    {
     "data": {
      "text/plain": [
       "2.901237247366156"
      ]
     },
     "execution_count": 23,
     "metadata": {},
     "output_type": "execute_result"
    }
   ],
   "source": [
    "# The relative orientation between I and I' can be arbitrary.\n",
    "# Here we let the parent algebra determine the orientation.\n",
    "def det(f, I, Ip):\n",
    "    return (outermorphism(f, I, alg)/Ip)[0]\n",
    "\n",
    "det(g, I, Ip)"
   ]
  },
  {
   "cell_type": "code",
   "execution_count": 24,
   "metadata": {},
   "outputs": [
    {
     "data": {
      "text/plain": [
       "(0.125 + 0.448 𝐞₁ + 0.646 𝐞₂ + 0.0231 𝐞₁₂,\n",
       " 0.125 + 0.448 𝐞₁ + 0.646 𝐞₂ + 0.579 𝐞₃ + 0.248 𝐞₄ + 0.0231 𝐞₁₂ + 0.628 𝐞₁₃ + 0.158 𝐞₁₄ + 0.0517 𝐞₂₃ + 0.0384 𝐞₂₄ + 0.594 𝐞₃₄ + 0.27 𝐞₁₂₃ + 0.161 𝐞₁₂₄ + 0.439 𝐞₁₃₄ + 0.503 𝐞₂₃₄ + 0.496 𝐞₁₂₃₄)"
      ]
     },
     "execution_count": 24,
     "metadata": {},
     "output_type": "execute_result"
    }
   ],
   "source": [
    "#1.21a null part goes null\n",
    "C = random_multivector(alg)\n",
    "C_ = outermorphism(g, C, alg)\n",
    "(1/det(g, I, Ip)) * adjoint_outermorphism(g, C_*Ip, alg) * Ir, C"
   ]
  },
  {
   "cell_type": "code",
   "execution_count": 25,
   "metadata": {},
   "outputs": [
    {
     "data": {
      "text/plain": [
       "(0.278 + 0.0417 𝐞₂ + 0.021 𝐞₃ + 0.222 𝐞₂₃,\n",
       " 0.278 + 0.263 𝐞₁ + 0.0417 𝐞₂ + 0.021 𝐞₃ + 0.289 𝐞₄ + 0.137 𝐞₁₂ + 0.0585 𝐞₁₃ + 0.592 𝐞₁₄ + 0.222 𝐞₂₃ + 0.457 𝐞₂₄ + 0.922 𝐞₃₄ + 0.381 𝐞₁₂₃ + 0.0365 𝐞₁₂₄ + 0.326 𝐞₁₃₄ + 0.976 𝐞₂₃₄ + 0.389 𝐞₁₂₃₄)"
      ]
     },
     "execution_count": 25,
     "metadata": {},
     "output_type": "execute_result"
    }
   ],
   "source": [
    "#1.21b null part goes null\n",
    "C_ = random_multivector(alg)\n",
    "C = adjoint_outermorphism(g, C_, alg)\n",
    "(1/det(g, I, Ip)) * outermorphism(g, C*I, alg) * Ipr, C_"
   ]
  },
  {
   "cell_type": "code",
   "execution_count": 26,
   "metadata": {},
   "outputs": [
    {
     "data": {
      "text/plain": [
       "(3.27 𝐞₁₂₃ + -1.65 𝐞₁₂₄ + 2.17 𝐞₁₃₄ + 3.85 𝐞₂₃₄,\n",
       " 3.27 𝐞₁₂₃ + -1.65 𝐞₁₂₄ + 2.17 𝐞₁₃₄ + 3.85 𝐞₂₃₄,\n",
       " 17.7 + 8.11 𝐞₁₂ + 6.26 𝐞₁₃ + 4.9 𝐞₁₄ + -1.48 𝐞₂₃ + 5.16 𝐞₂₄ + 3.77 𝐞₃₄,\n",
       " 17.7 + 8.11 𝐞₁₂ + 6.26 𝐞₁₃ + 4.9 𝐞₁₄ + -1.48 𝐞₂₃ + 5.16 𝐞₂₄ + 3.77 𝐞₃₄)"
      ]
     },
     "execution_count": 26,
     "metadata": {},
     "output_type": "execute_result"
    }
   ],
   "source": [
    "#2.1 Note that characteristic multivectors are of even grades\n",
    "r = 3  # try several r\n",
    "h = 1e-2\n",
    "vectors = random_r_vectors(r, alg)\n",
    "F = lambda vectors: wedge([f(v) for v in vectors])\n",
    "(\n",
    "    F(vectors),\n",
    "    outermorphism(f, wedge(vectors), alg, h),\n",
    "    simplicial_derivative(F, vectors, alg, h), # characteristic multivectors\n",
    "    derivative(lambda A: outermorphism(f, A, alg, h), wedge(vectors), alg, h, r),\n",
    ")\n"
   ]
  },
  {
   "cell_type": "code",
   "execution_count": 27,
   "metadata": {},
   "outputs": [
    {
     "data": {
      "text/plain": [
       "(-5.13 + 0.75 𝐞₁₂ + 0.965 𝐞₁₃ + 0.398 𝐞₁₄ + -0.193 𝐞₂₃ + -0.0751 𝐞₂₄ + -1.16 𝐞₃₄,\n",
       " -5.13 + -3.12 𝐞₁ + 4.71 𝐞₂ + 1.96 𝐞₃ + 1.6 𝐞₄ + 1.27 𝐞₁₂ + 2.08 𝐞₁₃ + 3.08 𝐞₁₄ + 4.14 𝐞₂₃ + -0.692 𝐞₂₄ + 2.17 𝐞₃₄ + 1.68 𝐞₁₂₃ + 0.259 𝐞₁₂₄ + 2.67 𝐞₁₃₄ + 0.977 𝐞₂₃₄ + 3.56 𝐞₁₂₃₄)"
      ]
     },
     "execution_count": 27,
     "metadata": {},
     "output_type": "execute_result"
    }
   ],
   "source": [
    "#2.2\n",
    "frame = random_r_vectors(len(alg.signature), alg)\n",
    "r_frame = reciprocal(frame)\n",
    "images = [f(v) for v in frame]\n",
    "(\n",
    "    sum(vr * b for b, vr in zip(images, r_frame)),\n",
    "    derivative(f, x, alg)\n",
    ")"
   ]
  },
  {
   "cell_type": "code",
   "execution_count": 28,
   "metadata": {},
   "outputs": [
    {
     "data": {
      "text/plain": [
       "([0.0577 𝐞₁ + 1.5 𝐞₂ + 0.853 𝐞₃ + -0.887 𝐞₄,\n",
       "  0.0398 𝐞₁ + 1.03 𝐞₂ + 0.979 𝐞₃ + -0.962 𝐞₄,\n",
       "  0.91 𝐞₁ + 0.512 𝐞₂ + 0.194 𝐞₃ + 0.786 𝐞₄,\n",
       "  0.665 𝐞₁ + 1.17 𝐞₂ + -0.619 𝐞₃ + 0.346 𝐞₄],\n",
       " [0.0577 𝐞₁ + 1.5 𝐞₂ + 0.853 𝐞₃ + -0.887 𝐞₄,\n",
       "  0.0398 𝐞₁ + 1.03 𝐞₂ + 0.979 𝐞₃ + -0.962 𝐞₄,\n",
       "  0.91 𝐞₁ + 0.512 𝐞₂ + 0.194 𝐞₃ + 0.786 𝐞₄,\n",
       "  0.665 𝐞₁ + 1.17 𝐞₂ + -0.619 𝐞₃ + 0.346 𝐞₄])"
      ]
     },
     "execution_count": 28,
     "metadata": {},
     "output_type": "execute_result"
    }
   ],
   "source": [
    "#2.2 comes from linearity\n",
    "images, [differential(f, a, v) for v in frame]"
   ]
  },
  {
   "cell_type": "code",
   "execution_count": 29,
   "metadata": {},
   "outputs": [
    {
     "data": {
      "text/plain": [
       "(-5.13, -5.13, -5.13)"
      ]
     },
     "execution_count": 29,
     "metadata": {},
     "output_type": "execute_result"
    }
   ],
   "source": [
    "#2.3 trace\n",
    "def trace(f, alg):\n",
    "    return sum(vr.sp(f(v)) for v, vr in zip(alg.frame, reciprocal(alg.frame)))\n",
    "def divergence(f, alg):\n",
    "    return sum(vr | f(v) for v, vr in zip(alg.frame, reciprocal(alg.frame)))\n",
    "(\n",
    "    derivative(f, e1, alg).grade(0),\n",
    "    trace(f, alg),\n",
    "    divergence(f, alg)\n",
    ")"
   ]
  },
  {
   "cell_type": "code",
   "execution_count": 30,
   "metadata": {},
   "outputs": [
    {
     "data": {
      "text/plain": [
       "(-1.56 + -5.41 𝐞₁₂ + -4.3 𝐞₁₃ + -2.97 𝐞₁₄ + -1.65 𝐞₂₃ + 0.358 𝐞₂₄ + -1.4 𝐞₃₄ + -0.874 𝐞₁₂₃₄,\n",
       " -1.56 + -5.41 𝐞₁₂ + -4.3 𝐞₁₃ + -2.97 𝐞₁₄ + -1.65 𝐞₂₃ + 0.358 𝐞₂₄ + -1.4 𝐞₃₄ + -0.874 𝐞₁₂₃₄)"
      ]
     },
     "execution_count": 30,
     "metadata": {},
     "output_type": "execute_result"
    }
   ],
   "source": [
    "#2.4\n",
    "r = 2\n",
    "h = 1e-2\n",
    "F = lambda vectors: wedge([f(v) for v in vectors])\n",
    "def char_multi_linear(f, r, alg: Algebra, frame=None, r_frame=None):\n",
    "    if not frame:\n",
    "        frame = alg.frame\n",
    "        r_frame = reciprocal(frame)\n",
    "    r_vec_frame = r_vector_frame_vectors(frame, r)\n",
    "    r_reci_frame = r_vector_frame_vectors(r_frame, r, reverse=True)\n",
    "    sdf = 0\n",
    "    for vectors, r_vectors in zip(r_vec_frame, r_reci_frame):\n",
    "        sdf += wedge(r_vectors[::-1]) * wedge([f(v) for v in vectors])\n",
    "    return sdf\n",
    "\n",
    "(\n",
    "    char_multi_linear(f, r, alg),\n",
    "    simplicial_derivative(F, np.zeros(r), alg, h)\n",
    ")"
   ]
  },
  {
   "cell_type": "code",
   "execution_count": 31,
   "metadata": {},
   "outputs": [
    {
     "data": {
      "text/plain": [
       "(10.316418004503989, 10.316418004503996, 10.316418004503989)"
      ]
     },
     "execution_count": 31,
     "metadata": {},
     "output_type": "execute_result"
    }
   ],
   "source": [
    "#2.6 when full rank, only scalar remains\n",
    "def trans2matrix(f, alg):\n",
    "    values = [f(a) for a in alg.frame]\n",
    "    return np.array([[ar.sp(v)[0] for v in values] for ar in reciprocal(alg.frame)])\n",
    "matrix = trans2matrix(f, alg)\n",
    "I = alg.pseudoscalar((1,))\n",
    "char_multi_linear(f, 4, alg)[0], np.linalg.det(matrix), det(f, I, I)"
   ]
  },
  {
   "cell_type": "code",
   "execution_count": 32,
   "metadata": {},
   "outputs": [
    {
     "data": {
      "text/plain": [
       "(45.6 + 30.8 𝐞₁₂ + 24.6 𝐞₁₃ + 21.5 𝐞₁₄ + -0.567 𝐞₂₃ + 27.6 𝐞₂₄ + 20.9 𝐞₃₄,\n",
       " 45.6 + 30.8 𝐞₁₂ + 24.6 𝐞₁₃ + 21.5 𝐞₁₄ + -0.567 𝐞₂₃ + 27.6 𝐞₂₄ + 20.9 𝐞₃₄)"
      ]
     },
     "execution_count": 32,
     "metadata": {},
     "output_type": "execute_result"
    }
   ],
   "source": [
    "#2.7 sum\n",
    "r = 3\n",
    "h = lambda x: f(x)+g(x)\n",
    "\n",
    "# Sometimes I use a random frame to check frame independence\n",
    "frame = random_r_vectors(len(alg.signature), alg)\n",
    "r_frame = reciprocal(frame)\n",
    "drF = 0\n",
    "coef = [1/(factorial(r-s)*factorial(s)) for s in range(r+1)]\n",
    "for base_vectors, reci_vectors in zip(permutations(frame, r), permutations(r_frame, r)):\n",
    "    gh = 0\n",
    "    for s in range(r+1):\n",
    "        gh += coef[s]*wedge([f(v) for v in reci_vectors[:s]]) ^ wedge([g(v) for v in reci_vectors[s:]])\n",
    "    drF += wedge(base_vectors[::-1]) * gh\n",
    "char_multi_linear(h, r, alg), drF"
   ]
  },
  {
   "cell_type": "code",
   "execution_count": 33,
   "metadata": {},
   "outputs": [
    {
     "data": {
      "text/plain": [
       "(2.38e+02, 237.9149929311739)"
      ]
     },
     "execution_count": 33,
     "metadata": {},
     "output_type": "execute_result"
    }
   ],
   "source": [
    "#2.8 characteristic polynomial\n",
    "def char_scalar(f, r, alg: Algebra, frame=None, r_frame=None):\n",
    "    if not frame:\n",
    "        frame = alg.frame\n",
    "        r_frame = reciprocal(frame)\n",
    "    r_vec_frame = r_vector_frame_vectors(frame, r)\n",
    "    r_reci_frame = r_vector_frame_vectors(r_frame, r, reverse=True)\n",
    "    sdf = 0\n",
    "    for vectors, r_vectors in zip(r_vec_frame, r_reci_frame):\n",
    "        sdf += alg.sp(wedge(r_vectors[::-1]), wedge([f(v) for v in vectors]))[0]\n",
    "    return sdf\n",
    "\n",
    "# This calculates n characteristic multivectors. \n",
    "# But drops the nonscalar information\n",
    "def char_poly_coefs(f, alg, frame=None, r_frame=None):\n",
    "    n = alg.d\n",
    "    if frame:\n",
    "        n = len(frame)\n",
    "    return [(-1)**(n-s) * char_scalar(f, s, alg, frame, r_frame) for s in range(n+1)]\n",
    "\n",
    "def polynomial(l, coefs):\n",
    "    return sum(l ** i * coef for i, coef in enumerate(coefs[::-1]))\n",
    "\n",
    "l = 3.3\n",
    "n = 4\n",
    "(\n",
    "    char_multi_linear(lambda x: f(x) - l*x, n, alg), \n",
    "    polynomial(l, char_poly_coefs(f, alg))\n",
    ")"
   ]
  },
  {
   "cell_type": "code",
   "execution_count": 34,
   "metadata": {},
   "outputs": [
    {
     "data": {
      "text/plain": [
       "(-4.83 𝐞₁ + 14.5 𝐞₂ + 19.0 𝐞₃ + -29.3 𝐞₄,\n",
       " -4.83 𝐞₁ + 14.5 𝐞₂ + 19.0 𝐞₃ + -29.3 𝐞₄,\n",
       " 0.982 𝐞₁ + 0.636 𝐞₂ + 0.639 𝐞₃ + 0.552 𝐞₄,\n",
       " 0.982 𝐞₁ + 0.636 𝐞₂ + 0.639 𝐞₃ + 0.552 𝐞₄)"
      ]
     },
     "execution_count": 34,
     "metadata": {},
     "output_type": "execute_result"
    }
   ],
   "source": [
    "def r_fold(f,r,value):\n",
    "    return reduce(lambda v, _: f(v), range(r), value)\n",
    "\n",
    "r_fold(f, 3, x), f(f(f(x))), r_fold(f, 0, x), x"
   ]
  },
  {
   "cell_type": "code",
   "execution_count": 35,
   "metadata": {},
   "outputs": [
    {
     "data": {
      "text/plain": [
       "-2.84e-14 𝐞₁ + -1.42e-14 𝐞₃ + -2.84e-14 𝐞₄"
      ]
     },
     "execution_count": 35,
     "metadata": {},
     "output_type": "execute_result"
    }
   ],
   "source": [
    "#2.9 Cayley Hamilton\n",
    "sum(r_fold(f, i, x) * coef for i, coef in enumerate(char_poly_coefs(f, alg)[::-1]))"
   ]
  },
  {
   "cell_type": "code",
   "execution_count": 36,
   "metadata": {},
   "outputs": [
    {
     "data": {
      "text/plain": [
       "(array([ 1.37557497,  0.63099487, -4.48429983, -2.65047795]),\n",
       " array([-4.48429983, -2.65047795,  1.37557497,  0.63099487]))"
      ]
     },
     "execution_count": 36,
     "metadata": {},
     "output_type": "execute_result"
    }
   ],
   "source": [
    "#2.10 We can find eigenvalues like the usual many-fold method.\n",
    "# How about eigenvectors? \n",
    "# What else can we get from characteristic multivector? Some papers I should go through...\n",
    "matrix = trans2matrix(f, alg)\n",
    "eigvalues, eigvecs = np.linalg.eig(matrix)\n",
    "coefs = char_poly_coefs(f, alg)\n",
    "eigvalues, np.roots(coefs)"
   ]
  },
  {
   "cell_type": "code",
   "execution_count": 37,
   "metadata": {},
   "outputs": [
    {
     "data": {
      "text/plain": [
       "array([0.07003987, 0.07003987, 0.07003987, 0.07003987, 0.07003987,\n",
       "       0.07003987, 0.07003987, 0.07003987])"
      ]
     },
     "execution_count": 37,
     "metadata": {},
     "output_type": "execute_result"
    }
   ],
   "source": [
    "# From Lasenby's paper, we can reconstruct a rotor from characteristic multivector:\n",
    "# Note that the rotor must have non-zero scalar part\n",
    "# the paper suggest such method is pretty robust for noisy data\n",
    "R = blade_exp(random_r_blade(2, alg)) * blade_exp(random_r_blade(2, alg))\n",
    "rotor = lambda x: R.sw(x) # a screw motion\n",
    "\n",
    "terms_ratio(R.reverse(), sum(char_multi_linear(rotor, s, alg) for s in range(n+1)))"
   ]
  },
  {
   "cell_type": "code",
   "execution_count": 38,
   "metadata": {},
   "outputs": [
    {
     "data": {
      "text/plain": [
       "(0.868 𝐞₁ + 1.87 𝐞₂ + 1.39 𝐞₃ + -1.14 𝐞₄,\n",
       " 0.868 𝐞₁ + 1.87 𝐞₂ + 1.39 𝐞₃ + -1.14 𝐞₄)"
      ]
     },
     "execution_count": 38,
     "metadata": {},
     "output_type": "execute_result"
    }
   ],
   "source": [
    "# recovering matrix to transfromation\n",
    "def matrix2trans(M, alg:Algebra ):\n",
    "    d = alg.d\n",
    "    assert M.shape[0] == d, 'dimension not fit'\n",
    "    return lambda x: sum(c*e for c,e in zip(np.dot(M, x.asfullmv()[1:d+1]), alg.frame))\n",
    "    \n",
    "mf = matrix2trans(matrix, alg)\n",
    "mf(x), f(x)"
   ]
  },
  {
   "cell_type": "code",
   "execution_count": 39,
   "metadata": {},
   "outputs": [
    {
     "data": {
      "text/plain": [
       "(-1.5629113383782451, -1.5629113383782425)"
      ]
     },
     "execution_count": 39,
     "metadata": {},
     "output_type": "execute_result"
    }
   ],
   "source": [
    "#2.11\n",
    "s = 2\n",
    "rhs = (1/s) * sum((-1)**(r+1) * char_scalar(f, s-r, alg) * trace(lambda x: r_fold(f, r, x), alg)[0] for r in range(1,s+1))\n",
    "char_scalar(f, s, alg), rhs"
   ]
  },
  {
   "cell_type": "code",
   "execution_count": 40,
   "metadata": {},
   "outputs": [
    {
     "data": {
      "text/plain": [
       "(17.65631192863215, 17.656311928632125)"
      ]
     },
     "execution_count": 40,
     "metadata": {},
     "output_type": "execute_result"
    }
   ],
   "source": [
    "#2.13\n",
    "k = 3\n",
    "char_scalar(f, k, alg), sum(np.prod(comb) for comb in combinations(eigvalues, k))"
   ]
  },
  {
   "cell_type": "code",
   "execution_count": 41,
   "metadata": {},
   "outputs": [
    {
     "data": {
      "text/plain": [
       "(-105.94012930773613, -105.94012930773607)"
      ]
     },
     "execution_count": 41,
     "metadata": {},
     "output_type": "execute_result"
    }
   ],
   "source": [
    "#2.14 It's easier to show the eigenvalues of f^k are {lambda^k_i} by linearity\n",
    "trace(lambda x: r_fold(f, k, x), alg)[0], sum(l**k for l in eigvalues)"
   ]
  },
  {
   "cell_type": "code",
   "execution_count": 42,
   "metadata": {},
   "outputs": [
    {
     "data": {
      "text/plain": [
       "(10.3 𝐞₁₂₃₄, 10.3 𝐞₁₂₃₄, 10.3 𝐞₁₂₃₄)"
      ]
     },
     "execution_count": 42,
     "metadata": {},
     "output_type": "execute_result"
    }
   ],
   "source": [
    "# 3.4 A space must bound f to own an invariant subspace.\n",
    "I = alg.pseudoscalar((1,))\n",
    "outermorphism(f, I, alg), det(f, I, I)*I, adjoint_outermorphism(f, I, alg)"
   ]
  },
  {
   "cell_type": "code",
   "execution_count": 43,
   "metadata": {},
   "outputs": [
    {
     "data": {
      "text/plain": [
       "(41.9 𝐞₁₂₃₄, 41.9 𝐞₁₂₃₄)"
      ]
     },
     "execution_count": 43,
     "metadata": {},
     "output_type": "execute_result"
    }
   ],
   "source": [
    "#3.6\n",
    "l = 2.2\n",
    "n = 4\n",
    "F = lambda x: f(x) - l*x\n",
    "coefs = char_poly_coefs(f, alg)\n",
    "outermorphism(F, I, alg), polynomial(l, coefs) * I"
   ]
  },
  {
   "cell_type": "code",
   "execution_count": 44,
   "metadata": {},
   "outputs": [
    {
     "data": {
      "text/plain": [
       "(4.99 𝐞₁₂, 4.99 𝐞₁₂)"
      ]
     },
     "execution_count": 44,
     "metadata": {},
     "output_type": "execute_result"
    }
   ],
   "source": [
    "#3.7\n",
    "I = e12\n",
    "frame = [e1,e2]\n",
    "g = lambda x: P((A*x.grade(1)*B).grade(1), I)\n",
    "coefs = char_poly_coefs(g, alg, frame, frame)\n",
    "F = lambda x: g(x) - l*x\n",
    "outermorphism(F, I, alg), polynomial(l, coefs) * I"
   ]
  },
  {
   "cell_type": "code",
   "execution_count": 45,
   "metadata": {},
   "outputs": [
    {
     "data": {
      "text/plain": [
       "(-13.79535830507187, -13.79535830507187)"
      ]
     },
     "execution_count": 45,
     "metadata": {},
     "output_type": "execute_result"
    }
   ],
   "source": [
    "#3.8\n",
    "I = e123\n",
    "frame2 = [e3]\n",
    "frame3 = [e1,e2,e3]\n",
    "h = lambda x: P((A*P(x, e12).grade(1)*B).grade(1), e12) + P((B*P(x, e3).grade(1)*C).grade(1), e3)\n",
    "F = lambda x: h(x) - l*x\n",
    "(\n",
    "    char_scalar(F, 2, alg, frame, frame) * char_scalar(F, 1, alg, frame2, frame2),\n",
    "    char_scalar(F, 3, alg, frame3, frame3)\n",
    ")"
   ]
  },
  {
   "cell_type": "code",
   "execution_count": 46,
   "metadata": {},
   "outputs": [
    {
     "data": {
      "text/plain": [
       "(0.763 𝐞₁ + 0.965 𝐞₂, 0.763 𝐞₁ + 0.53 𝐞₂)"
      ]
     },
     "execution_count": 46,
     "metadata": {},
     "output_type": "execute_result"
    }
   ],
   "source": [
    "outermorphism(h, e1, alg), adjoint_outermorphism(h, e1, alg)"
   ]
  },
  {
   "cell_type": "code",
   "execution_count": 47,
   "metadata": {},
   "outputs": [
    {
     "data": {
      "text/plain": [
       "(-0.99 𝐞₃, -0.99 𝐞₃)"
      ]
     },
     "execution_count": 47,
     "metadata": {},
     "output_type": "execute_result"
    }
   ],
   "source": [
    "#3.9a\n",
    "adjoint_outermorphism(h, e123, alg) | e12, outermorphism(h, e12, alg).e12 * outermorphism(h, -e3, alg)"
   ]
  },
  {
   "cell_type": "code",
   "execution_count": 48,
   "metadata": {},
   "outputs": [
    {
     "data": {
      "text/plain": [
       "(0.99 𝐞₁₂, 0.99 𝐞₁₂)"
      ]
     },
     "execution_count": 48,
     "metadata": {},
     "output_type": "execute_result"
    }
   ],
   "source": [
    "#3.9b\n",
    "outermorphism(h, e123, alg) | e3, adjoint_outermorphism(h, e3, alg).e3 * adjoint_outermorphism(h, e12, alg)"
   ]
  },
  {
   "cell_type": "code",
   "execution_count": 49,
   "metadata": {},
   "outputs": [
    {
     "data": {
      "text/plain": [
       "(([0, 1, 2, 3], []),\n",
       " array([ 1.37557497,  0.63099487, -4.48429983, -2.65047795]))"
      ]
     },
     "execution_count": 49,
     "metadata": {},
     "output_type": "execute_result"
    }
   ],
   "source": [
    "def separate_indices(numbers):\n",
    "    real_indices = []\n",
    "    conjugate_pairs_indices = []\n",
    "    visited = set()  # To keep track of indices already processed\n",
    "\n",
    "    for i, num in enumerate(numbers):\n",
    "        if np.isreal(num):  # Check if the number is real\n",
    "            real_indices.append(i)\n",
    "        elif i not in visited:  # Check if the index is not already processed\n",
    "            conjugate = np.conj(num)\n",
    "            for j in range(i + 1, len(numbers)):\n",
    "                if numbers[j] == conjugate:\n",
    "                    conjugate_pairs_indices.append((i, j))\n",
    "                    visited.add(i)\n",
    "                    visited.add(j)\n",
    "                    break\n",
    "\n",
    "    return real_indices, conjugate_pairs_indices\n",
    "\n",
    "separate_indices(eigvalues), eigvalues"
   ]
  },
  {
   "cell_type": "code",
   "execution_count": 50,
   "metadata": {},
   "outputs": [
    {
     "name": "stdout",
     "output_type": "stream",
     "text": [
      "[1.37557497 1.37557497 1.37557497 1.37557497] [ 2.67393444  0.2727106  -0.24321671  3.44810985]\n",
      "[0.63099487 0.63099487 0.63099487 0.63099487] [ 8.15228099  0.26777628 -0.11386849  2.4921132 ]\n",
      "[-4.48429983 -4.48429983 -4.48429983 -4.48429983] [-6.75705426 -4.15070262 -2.38678096 -5.40992491]\n",
      "[-2.65047795 -2.65047795 -2.65047795 -2.65047795] [-43.32338826  -2.33408478  -2.55094889  -9.41694514]\n"
     ]
    }
   ],
   "source": [
    "# An example of non proper blade:\n",
    "def linalg_eigblades(f, alg: Algebra):\n",
    "    matrix = trans2matrix(f, alg)\n",
    "    eigvalues, eigvecs = np.linalg.eig(matrix)\n",
    "    real_indices, conjugate_pairs_indices = separate_indices(eigvalues)\n",
    "    eigblades = [alg.vector(np.real(eigvecs[:, i])) for i in real_indices]\n",
    "    for k, l in conjugate_pairs_indices:\n",
    "        v1 = np.real(eigvecs[:,k] + eigvecs[:,l])\n",
    "        v2 = np.imag(eigvecs[:,k] - eigvecs[:,l])\n",
    "        eigblades.append(alg.vector(v1) ^ alg.vector(v2))\n",
    "    return eigblades \n",
    "\n",
    "def terms_ratio(A, B: MultiVector):\n",
    "    valid_keys = [k for k in B.keys() if not np.isclose(B[k], 0)]\n",
    "    return np.divide([A[k] for k in valid_keys], [B[k] for k in valid_keys])\n",
    "\n",
    "eigblades = linalg_eigblades(f, alg)\n",
    "\n",
    "# right eigenblades but not left!\n",
    "for blade in eigblades:\n",
    "    print(\n",
    "        terms_ratio(outermorphism(f, blade, alg), blade), \n",
    "        terms_ratio(adjoint_outermorphism(f, blade, alg), blade)\n",
    "        )"
   ]
  },
  {
   "cell_type": "code",
   "execution_count": 51,
   "metadata": {},
   "outputs": [
    {
     "name": "stdout",
     "output_type": "stream",
     "text": [
      "[  1.57663867 -16.58350253  -9.64556783  -0.24099676] [1.37557497 1.37557497 1.37557497 1.37557497]\n",
      "[ 1.9145999  -0.26653047  0.29975954 -0.62167964] [0.63099487 0.63099487 0.63099487 0.63099487]\n",
      "[ -4.30355291  -4.99230346 -21.1834803   -4.24743471] [-4.48429983 -4.48429983 -4.48429983 -4.48429983]\n",
      "[-6.73672753 -2.93918002 -1.99668152 -5.86693463] [-2.65047795 -2.65047795 -2.65047795 -2.65047795]\n"
     ]
    }
   ],
   "source": [
    "#3.11 reciprocal for blades\n",
    "def reciprocal(blades):\n",
    "    I = wedge(blades)\n",
    "    dualblades = []\n",
    "    for k in range(len(blades)):\n",
    "        sign = (-1) ** (blades[k].grades[0] * sum(blade.grades[0] for blade in blades[:k]))\n",
    "        dualblades.append(sign * wedge(blades[:k] + blades[k+1:]) * I.inv())\n",
    "    return dualblades\n",
    "\n",
    "dualblades = reciprocal(eigblades)\n",
    "# The reciprocal of a right eigenblade is a left eigenblade! Note that they correspond to the same eigenvalues\n",
    "for blade in dualblades:\n",
    "    print(\n",
    "        terms_ratio(outermorphism(f, blade, alg), blade), \n",
    "        terms_ratio(adjoint_outermorphism(f, blade, alg), blade)\n",
    "        )\n"
   ]
  },
  {
   "cell_type": "code",
   "execution_count": 52,
   "metadata": {},
   "outputs": [
    {
     "data": {
      "text/plain": [
       "[1.0, 5.55e-17, 1.0]"
      ]
     },
     "execution_count": 52,
     "metadata": {},
     "output_type": "execute_result"
    }
   ],
   "source": [
    "#3.12 \n",
    "[eigblades[i] | dualblades[j] for i,j in [(0,0), (0,1), (1,1)]]"
   ]
  },
  {
   "cell_type": "code",
   "execution_count": 53,
   "metadata": {},
   "outputs": [
    {
     "data": {
      "text/plain": [
       "[(3.18 𝐞₁₂₃, 3.18 𝐞₁₂₃), (-3.27 𝐞₄, -3.27 𝐞₄)]"
      ]
     },
     "execution_count": 53,
     "metadata": {},
     "output_type": "execute_result"
    }
   ],
   "source": [
    "# What transformation have a non-trivial proper blade?\n",
    "# A invariant subspace, say e123 of e1234\n",
    "# from 3.12 we know we're looking for blades equal to thier own reciprocal\n",
    "# that means orthogonal to other eigenspaces\n",
    "\n",
    "pf = lambda x: P(f(P(x, e123)), e123) + P(f(P(x, e4)), e4)\n",
    "[(outermorphism(pf, blade, alg), adjoint_outermorphism(pf, blade, alg)) for blade in [e123, e4]]"
   ]
  },
  {
   "cell_type": "code",
   "execution_count": 54,
   "metadata": {},
   "outputs": [
    {
     "name": "stdout",
     "output_type": "stream",
     "text": [
      "[1.50706754 1.50706754 1.50706754] [ 2.37800484  0.06980381 -0.3853096 ]\n",
      "[-0.83289204 -0.83289204 -0.83289204] [-7.48251265 -0.80064978 -0.20480641]\n",
      "[-2.53263644 -2.53263644 -2.53263644] [ 1.72663394 -2.24905268 -2.77163649]\n",
      "[] []\n",
      "[] []\n",
      "[] []\n",
      "[] []\n",
      "[-3.26974701] [-3.26974701]\n"
     ]
    }
   ],
   "source": [
    "eigblades = linalg_eigblades(pf, alg)\n",
    "for E in [e123, e4]:\n",
    "    for blade in eigblades: # not just vectors\n",
    "        blade = (blade | E)*E\n",
    "        om = outermorphism(pf, blade, alg)\n",
    "        am = adjoint_outermorphism(pf, blade, alg)\n",
    "        print(\n",
    "            terms_ratio(om, blade), \n",
    "            terms_ratio(am, blade)\n",
    "            )"
   ]
  },
  {
   "cell_type": "code",
   "execution_count": 55,
   "metadata": {},
   "outputs": [
    {
     "data": {
      "text/plain": [
       "(array([[ 1.25533263,  0.75996719,  0.54348343, -0.97489517],\n",
       "        [ 0.75996719, -1.24707978,  0.94412357,  1.55900642],\n",
       "        [ 0.54348343,  0.94412357, -1.86671379,  1.29370533],\n",
       "        [-0.97489517,  1.55900642,  1.29370533, -3.26974701]]),\n",
       " 1.53 𝐞₁ + 1.42 𝐞₂ + 0.655 𝐞₃ + -0.942 𝐞₄,\n",
       " 1.53 𝐞₁ + 1.42 𝐞₂ + 0.655 𝐞₃ + -0.942 𝐞₄)"
      ]
     },
     "execution_count": 55,
     "metadata": {},
     "output_type": "execute_result"
    }
   ],
   "source": [
    "#4.1b A matrix from a symmetric transformation is symmetric\n",
    "fp = lambda x: (f(x) + adjoint_outermorphism(f, x, alg))/2\n",
    "trans2matrix(fp, alg), fp(x), derivative(lambda x: x | f(x)/2, x, alg, grade=1)"
   ]
  },
  {
   "cell_type": "code",
   "execution_count": 56,
   "metadata": {},
   "outputs": [
    {
     "data": {
      "text/plain": [
       "(0.75 𝐞₁₂ + 0.965 𝐞₁₃ + 0.398 𝐞₁₄ + -0.193 𝐞₂₃ + -0.0751 𝐞₂₄ + -1.16 𝐞₃₄,\n",
       " 0.75 𝐞₁₂ + 0.965 𝐞₁₃ + 0.398 𝐞₁₄ + -0.193 𝐞₂₃ + -0.0751 𝐞₂₄ + -1.16 𝐞₃₄)"
      ]
     },
     "execution_count": 56,
     "metadata": {},
     "output_type": "execute_result"
    }
   ],
   "source": [
    "# a curl is a part of a derivative\n",
    "derivative(f, x, alg, grade=1).grade(2), curl(f, x, alg, grade=1)"
   ]
  },
  {
   "cell_type": "code",
   "execution_count": 57,
   "metadata": {},
   "outputs": [
    {
     "data": {
      "text/plain": [
       "(array([[-1.11022302e-16, -3.74882257e-01, -4.82345292e-01,\n",
       "         -1.99217107e-01],\n",
       "        [ 3.74882257e-01, -3.33066907e-16,  9.66419740e-02,\n",
       "          3.75671771e-02],\n",
       "        [ 4.82345292e-01, -9.66419740e-02, -1.11022302e-16,\n",
       "          5.80132664e-01],\n",
       "        [ 1.99217107e-01, -3.75671771e-02, -5.80132664e-01,\n",
       "          2.22044605e-16]]),\n",
       " -0.657 𝐞₁ + 0.45 𝐞₂ + 0.732 𝐞₃ + -0.199 𝐞₄,\n",
       " -0.657 𝐞₁ + 0.45 𝐞₂ + 0.732 𝐞₃ + -0.199 𝐞₄)"
      ]
     },
     "execution_count": 57,
     "metadata": {},
     "output_type": "execute_result"
    }
   ],
   "source": [
    "#4.1c a skew transfromation leads to a skew matrix\n",
    "fm = lambda x: (f(x) - adjoint_outermorphism(f, x, alg))/2\n",
    "trans2matrix(fm, alg), fm(x), x | derivative(f, x, alg, grade=1).grade(2)/2"
   ]
  },
  {
   "cell_type": "code",
   "execution_count": 58,
   "metadata": {},
   "outputs": [
    {
     "data": {
      "text/plain": [
       "(1.2,\n",
       " 1.2,\n",
       " -1.11e-10 𝐞₁₂ + 3.33e-10 𝐞₁₃ + 3.89e-10 𝐞₁₄ + 2.22e-10 𝐞₂₃ + -5.55e-11 𝐞₂₄ + 5.55e-11 𝐞₃₄)"
      ]
     },
     "execution_count": 58,
     "metadata": {},
     "output_type": "execute_result"
    }
   ],
   "source": [
    "#4.2 fp curl free\n",
    "a | fp(x), x | fp(a), curl(fp, x, alg, grade=1)"
   ]
  },
  {
   "cell_type": "code",
   "execution_count": 59,
   "metadata": {},
   "outputs": [
    {
     "data": {
      "text/plain": [
       "(1.53 𝐞₁ + 1.42 𝐞₂ + 0.655 𝐞₃ + -0.942 𝐞₄,\n",
       " 1.53 𝐞₁ + 1.42 𝐞₂ + 0.655 𝐞₃ + -0.942 𝐞₄)"
      ]
     },
     "execution_count": 59,
     "metadata": {},
     "output_type": "execute_result"
    }
   ],
   "source": [
    "#4.3 spectral decomposition of the symmetric part\n",
    "matrix = trans2matrix(fp, alg)\n",
    "eigvalues, eigvecs = np.linalg.eigh(matrix)\n",
    "eigvecs = [alg.vector(v) for v in eigvecs.transpose()]\n",
    "mf = lambda x: sum(e * P(x, v) for e, v in zip(eigvalues, eigvecs))\n",
    "mf(x), fp(x)"
   ]
  },
  {
   "cell_type": "code",
   "execution_count": 60,
   "metadata": {},
   "outputs": [
    {
     "data": {
      "text/plain": [
       "[-34.4 𝐞₁ + -4.01e-15 𝐞₂ + -3.87e-15 𝐞₃ + -2.46e-15 𝐞₄,\n",
       " 9.56e-16 𝐞₁ + -8.22 𝐞₂ + -1.94e-15 𝐞₃ + -2.57e-15 𝐞₄,\n",
       " 1.66e-16 𝐞₁ + 3.49e-16 𝐞₂ + -1.48 𝐞₃ + 2.28e-16 𝐞₄,\n",
       " 5.55e-17 𝐞₁ + 2.43e-16 𝐞₂ + -1.2e-16 𝐞₃ + -0.776 𝐞₄]"
      ]
     },
     "execution_count": 60,
     "metadata": {},
     "output_type": "execute_result"
    }
   ],
   "source": [
    "# QR factorization\n",
    "transframe = [fp(e) for e in alg.frame] #another basis\n",
    "gs_trans = gram_schmidt(transframe)\n",
    "gs_trans2 = gram_schmidt([fp(v / norm(v)) for v in gs_trans[::-1]])[::-1]\n",
    "gs_trans2\n"
   ]
  },
  {
   "cell_type": "code",
   "execution_count": 61,
   "metadata": {},
   "outputs": [],
   "source": [
    "# A GA version of eigenblade-solver given the eigenvalues\n",
    "def null_space(f, alg, tol=1e-5, frame=None):\n",
    "    if not frame:\n",
    "        frame = alg.frame\n",
    "    null_sp = wedge(frame)\n",
    "    images = [f(a) for a in frame]\n",
    "    for v in images:\n",
    "        contracted = v | null_sp\n",
    "        if normsq(contracted) >= tol:\n",
    "            null_sp = contracted\n",
    "    return null_sp\n",
    "\n",
    "def eigenblades_from_values(f, eigvalues, alg, frame=None):\n",
    "    eigblades = []\n",
    "    for e in eigvalues:\n",
    "        null_f = lambda x: f(x) - e*x\n",
    "        eigblades.append(null_space(null_f, alg, frame=frame))\n",
    "    return eigblades"
   ]
  },
  {
   "cell_type": "code",
   "execution_count": 62,
   "metadata": {},
   "outputs": [
    {
     "data": {
      "text/plain": [
       "[1,\n",
       " -5.13 + 1.11e-16 𝐞₁₃ + 2.22e-16 𝐞₂₃,\n",
       " -2.32 + -8.88e-16 𝐞₁₃ + -2.22e-16 𝐞₁₄ + -8.88e-16 𝐞₂₃ + -8.88e-16 𝐞₂₄,\n",
       " 19.5 + 8.88e-16 𝐞₁₂ + -8.88e-16 𝐞₂₃,\n",
       " 7.96]"
      ]
     },
     "execution_count": 62,
     "metadata": {},
     "output_type": "execute_result"
    }
   ],
   "source": [
    "# One thing to note for a symmetric transformation:\n",
    "# the characteristic multivectors are of scalar values\n",
    "# So all subspaces are invariant under the transfromation.\n",
    "[char_multi_linear(fp, r, alg) for r in range(5)]"
   ]
  },
  {
   "cell_type": "code",
   "execution_count": 63,
   "metadata": {},
   "outputs": [
    {
     "data": {
      "text/plain": [
       "(array([-4.6432703 , -2.54621991,  1.65396858,  0.40731369]),\n",
       " array([-4.6432703 , -2.54621991,  0.40731369,  1.65396858]))"
      ]
     },
     "execution_count": 63,
     "metadata": {},
     "output_type": "execute_result"
    }
   ],
   "source": [
    "np.roots(char_poly_coefs(fp, alg)), eigvalues"
   ]
  },
  {
   "cell_type": "code",
   "execution_count": 64,
   "metadata": {},
   "outputs": [
    {
     "data": {
      "text/plain": [
       "([0.216 𝐞₁ + -0.351 𝐞₂ + -0.32 𝐞₃ + 0.853 𝐞₄,\n",
       "  -0.0208 𝐞₁ + 0.621 𝐞₂ + -0.783 𝐞₃ + -0.0334 𝐞₄,\n",
       "  -0.289 𝐞₁ + 0.637 𝐞₂ + 0.491 𝐞₃ + 0.519 𝐞₄,\n",
       "  0.933 𝐞₁ + 0.292 𝐞₂ + 0.209 𝐞₃ + -0.0374 𝐞₄],\n",
       " [0.216 𝐞₁ + -0.351 𝐞₂ + -0.32 𝐞₃ + 0.853 𝐞₄,\n",
       "  0.0208 𝐞₁ + -0.621 𝐞₂ + 0.783 𝐞₃ + 0.0334 𝐞₄,\n",
       "  0.289 𝐞₁ + -0.637 𝐞₂ + -0.491 𝐞₃ + -0.519 𝐞₄,\n",
       "  0.933 𝐞₁ + 0.292 𝐞₂ + 0.209 𝐞₃ + -0.0374 𝐞₄])"
      ]
     },
     "execution_count": 64,
     "metadata": {},
     "output_type": "execute_result"
    }
   ],
   "source": [
    "eigblades = eigenblades_from_values(fp, eigvalues, alg)\n",
    "[e/norm(e) for e in eigblades], eigvecs"
   ]
  },
  {
   "cell_type": "code",
   "execution_count": 65,
   "metadata": {},
   "outputs": [
    {
     "name": "stdout",
     "output_type": "stream",
     "text": [
      "[-4.6432703 -4.6432703 -4.6432703 -4.6432703]\n",
      "[21.55995904 21.55995904 21.55995904 21.55995904 21.55995904 21.55995904]\n"
     ]
    }
   ],
   "source": [
    "#4.4 modify mf so to have a repeat eigenvalue (degeneracy)\n",
    "eigvalues[1] = eigvalues[0]\n",
    "mf = lambda x: sum(e * P(x, v) for e, v in zip(eigvalues, eigvecs))\n",
    "for blade in [eigvecs[0], wedge(eigvecs[:2])]:\n",
    "    of = outermorphism(mf, blade, alg)\n",
    "    print(terms_ratio(of, blade))"
   ]
  },
  {
   "cell_type": "code",
   "execution_count": 66,
   "metadata": {},
   "outputs": [
    {
     "data": {
      "text/plain": [
       "([-0.289 𝐞₁ + 0.637 𝐞₂ + 0.491 𝐞₃ + 0.519 𝐞₄,\n",
       "  0.933 𝐞₁ + 0.292 𝐞₂ + 0.209 𝐞₃ + -0.0374 𝐞₄,\n",
       "  0.127 𝐞₁₂ + -0.176 𝐞₁₃ + 0.0106 𝐞₁₄ + 0.474 𝐞₂₃ + -0.518 𝐞₂₄ + 0.678 𝐞₃₄],\n",
       " [-0.127 𝐞₁₂ + 0.176 𝐞₁₃ + -0.0106 𝐞₁₄ + -0.474 𝐞₂₃ + 0.518 𝐞₂₄ + -0.678 𝐞₃₄,\n",
       "  0.289 𝐞₁ + -0.637 𝐞₂ + -0.491 𝐞₃ + -0.519 𝐞₄,\n",
       "  0.933 𝐞₁ + 0.292 𝐞₂ + 0.209 𝐞₃ + -0.0374 𝐞₄])"
      ]
     },
     "execution_count": 66,
     "metadata": {},
     "output_type": "execute_result"
    }
   ],
   "source": [
    "eigblades = eigenblades_from_values(mf, set(eigvalues), alg)\n",
    "[e/norm(e) for e in eigblades], [wedge(eigvecs[:2])] + eigvecs[2:]"
   ]
  },
  {
   "cell_type": "code",
   "execution_count": 67,
   "metadata": {},
   "outputs": [
    {
     "data": {
      "text/plain": [
       "(array([[-0.37441358, -0.6857989 , -0.2404855 ,  0.57590022],\n",
       "        [-0.6857989 , -0.24819319,  0.26363214, -0.63133042],\n",
       "        [-0.2404855 ,  0.26363214, -0.9075535 , -0.22138532],\n",
       "        [ 0.57590022, -0.63133042, -0.22138532, -0.46983973]]),\n",
       " [1.0000000000000007, 0.0, 2.7755575615628914e-17, 1.0000000000000007],\n",
       " array([-1.+0.00000000e+00j,  1.+0.00000000e+00j, -1.+1.57009246e-16j,\n",
       "        -1.-1.57009246e-16j]))"
      ]
     },
     "execution_count": 67,
     "metadata": {},
     "output_type": "execute_result"
    }
   ],
   "source": [
    "#4.6 a reflection is an orthogonal symmetric transformation \n",
    "A3 = random_r_blade(3, alg).normalized()\n",
    "matrix = trans2matrix(lambda x: (-1)**3*(A3.sw(x)), alg)\n",
    "# a symmetric matrix, orthogonal, unit eigvals\n",
    "matrix, [np.dot(matrix[i], matrix[j]) for i,j in [(1,1), (1,2), (2,3), (3,3)]], np.linalg.eigvals(matrix)"
   ]
  },
  {
   "cell_type": "code",
   "execution_count": 68,
   "metadata": {},
   "outputs": [
    {
     "data": {
      "text/plain": [
       "(-0.64 𝐞₁ + -1.01 𝐞₂ + -0.771 𝐞₃ + -0.237 𝐞₄,\n",
       " -0.64 𝐞₁ + -1.01 𝐞₂ + -0.771 𝐞₃ + -0.237 𝐞₄)"
      ]
     },
     "execution_count": 68,
     "metadata": {},
     "output_type": "execute_result"
    }
   ],
   "source": [
    "#4.6 Find blade A from an orthogonal-symmetric-transfromation?\n",
    "ot = matrix2trans(matrix, alg)\n",
    "eigvalues, eigvecs = np.linalg.eig(matrix)\n",
    "eigvecs = [alg.vector(v) for v in eigvecs.transpose()]\n",
    "A3_ = wedge([v for v, e in zip(eigvecs, eigvalues) if np.isclose(e, -1)])\n",
    "(-1)**3*(A3.sw(x)), ot(x)"
   ]
  },
  {
   "cell_type": "code",
   "execution_count": 69,
   "metadata": {},
   "outputs": [
    {
     "data": {
      "text/plain": [
       "([0.805 𝐞₁ + 0.469 𝐞₂ + 0.363 𝐞₃,\n",
       "  0.17 𝐞₁ + -0.838 𝐞₂ + -0.519 𝐞₃,\n",
       "  0.0547 𝐞₁ + -0.657 𝐞₂ + 0.752 𝐞₃,\n",
       "  1.0 𝐞₄,\n",
       "  1 𝐞₁₂₃],\n",
       " [0.28843253507106703, 2.2344130042726107, 0.007435051305568652, 0.0, 0.0])"
      ]
     },
     "execution_count": 69,
     "metadata": {},
     "output_type": "execute_result"
    }
   ],
   "source": [
    "#4.7 Not true for whole space, but the proper ones\n",
    "# In matrix terms: diagonal parts commute\n",
    "eigblades = linalg_eigblades(pf, alg)\n",
    "eigblades.append(e123)\n",
    "eigblades, [max_diff(pf(blade.sw(x)), blade.sw(pf(x))) for blade in eigblades]"
   ]
  },
  {
   "cell_type": "code",
   "execution_count": 70,
   "metadata": {},
   "outputs": [
    {
     "data": {
      "text/plain": [
       "(-0.305, -0.305)"
      ]
     },
     "execution_count": 70,
     "metadata": {},
     "output_type": "execute_result"
    }
   ],
   "source": [
    "#4.8 skew transformation -> skew bilinear form -> bivector\n",
    "fm_biform = lambda vectors: vectors[0] | fm(vectors[1])\n",
    "F = simplicial_derivative(fm_biform, np.zeros(2), alg)\n",
    "a | fm(x), a| (x | F)"
   ]
  },
  {
   "cell_type": "code",
   "execution_count": 71,
   "metadata": {},
   "outputs": [
    {
     "data": {
      "text/plain": [
       "(-0.657 𝐞₁ + 0.45 𝐞₂ + 0.732 𝐞₃ + -0.199 𝐞₄,\n",
       " -0.657 𝐞₁ + 0.45 𝐞₂ + 0.732 𝐞₃ + -0.199 𝐞₄,\n",
       " 1.25e-16)"
      ]
     },
     "execution_count": 71,
     "metadata": {},
     "output_type": "execute_result"
    }
   ],
   "source": [
    "#4.9 so fm(x) is always orthogonal to x\n",
    "fm(x), x|F, fm(x) | x"
   ]
  },
  {
   "cell_type": "code",
   "execution_count": 72,
   "metadata": {},
   "outputs": [
    {
     "data": {
      "text/plain": [
       "(-1.67e-10 + 0.75 𝐞₁₂ + 0.965 𝐞₁₃ + 0.398 𝐞₁₄ + -0.193 𝐞₂₃ + -0.0751 𝐞₂₄ + -1.16 𝐞₃₄,\n",
       " 0.75 𝐞₁₂ + 0.965 𝐞₁₃ + 0.398 𝐞₁₄ + -0.193 𝐞₂₃ + -0.0751 𝐞₂₄ + -1.16 𝐞₃₄,\n",
       " 0.75 𝐞₁₂ + 0.965 𝐞₁₃ + 0.398 𝐞₁₄ + -0.193 𝐞₂₃ + -0.0751 𝐞₂₄ + -1.16 𝐞₃₄,\n",
       " 0.75 𝐞₁₂ + 0.965 𝐞₁₃ + 0.398 𝐞₁₄ + -0.193 𝐞₂₃ + -0.0751 𝐞₂₄ + -1.16 𝐞₃₄)"
      ]
     },
     "execution_count": 72,
     "metadata": {},
     "output_type": "execute_result"
    }
   ],
   "source": [
    "#4.10 F is a bivector\n",
    "derivative(fm, x, alg, grade=1), curl(fm, x, alg, grade=1), curl(f, x, alg, grade=1), 2*F"
   ]
  },
  {
   "cell_type": "code",
   "execution_count": 73,
   "metadata": {},
   "outputs": [
    {
     "data": {
      "text/plain": [
       "(-1 𝐞₁₂₃₄, -1 𝐞₁₂₃₄)"
      ]
     },
     "execution_count": 73,
     "metadata": {},
     "output_type": "execute_result"
    }
   ],
   "source": [
    "#4.11 bivector split commutes, think about a screw motion splits into translation and rotation\n",
    "e13*e24, e24*e13"
   ]
  },
  {
   "cell_type": "code",
   "execution_count": 74,
   "metadata": {},
   "outputs": [
    {
     "data": {
      "text/plain": [
       "([1.0,\n",
       "  0.375 𝐞₁₂ + 0.482 𝐞₁₃ + 0.199 𝐞₁₄ + -0.0966 𝐞₂₃ + -0.0376 𝐞₂₄ + -0.58 𝐞₃₄,\n",
       "  -0.219 𝐞₁₂₃₄],\n",
       " [-3.33e-16 + 0.75 𝐞₁₂ + 0.965 𝐞₁₃ + 0.398 𝐞₁₄ + -0.193 𝐞₂₃ + -0.0751 𝐞₂₄ + -1.16 𝐞₃₄,\n",
       "  0.76 + 1.58e-16 𝐞₁₂ + -5.55e-17 𝐞₁₃ + -3.33e-16 𝐞₁₄ + -1.46e-16 𝐞₂₃ + -1.25e-16 𝐞₂₄ + 4.65e-16 𝐞₃₄ + -0.874 𝐞₁₂₃₄,\n",
       "  -1.48e-16 + 0.254 𝐞₁₂ + -0.0164 𝐞₁₃ + 0.0423 𝐞₁₄ + -0.0871 𝐞₂₃ + 0.211 𝐞₂₄ + -0.164 𝐞₃₄,\n",
       "  0.0478])"
      ]
     },
     "execution_count": 74,
     "metadata": {},
     "output_type": "execute_result"
    }
   ],
   "source": [
    "#4.13 How to factor F?\n",
    "def wedge_power(A, r):\n",
    "    if r == 0:\n",
    "        return 1\n",
    "    result = A\n",
    "    for _ in range(r-1):\n",
    "        result = A ^ result\n",
    "    return result\n",
    "\n",
    "Ck = [(1/factorial(r))*wedge_power(F, r) for r in range(3)]\n",
    "Ck, [char_multi_linear(fm, r, alg) for r in range(1, 5)] # these are full story, but we just take a fraction"
   ]
  },
  {
   "cell_type": "code",
   "execution_count": 75,
   "metadata": {},
   "outputs": [
    {
     "data": {
      "text/plain": [
       "[0.375 𝐞₁₂ + 0.482 𝐞₁₃ + 0.199 𝐞₁₄ + -0.0966 𝐞₂₃ + -0.0376 𝐞₂₄ + -0.58 𝐞₃₄,\n",
       " -0.127 𝐞₁₂ + 0.00821 𝐞₁₃ + -0.0211 𝐞₁₄ + 0.0436 𝐞₂₃ + -0.105 𝐞₂₄ + 0.082 𝐞₃₄]"
      ]
     },
     "execution_count": 75,
     "metadata": {},
     "output_type": "execute_result"
    }
   ],
   "source": [
    "[alg.ip(Ck[i-1], Ck[i]) for i in range(1, len(Ck))]"
   ]
  },
  {
   "cell_type": "code",
   "execution_count": 76,
   "metadata": {},
   "outputs": [
    {
     "data": {
      "text/plain": [
       "{0, 1, 2, 3, 4, 5, 6, 7, 8, 9, 10, 11, 12, 13, 14, 15}"
      ]
     },
     "execution_count": 76,
     "metadata": {},
     "output_type": "execute_result"
    }
   ],
   "source": [
    "set.union(*(set(ck.keys()) for ck in Ck if isinstance(ck, MultiVector)))"
   ]
  },
  {
   "cell_type": "code",
   "execution_count": 77,
   "metadata": {},
   "outputs": [
    {
     "data": {
      "text/plain": [
       "(-0.657 𝐞₁ + 0.45 𝐞₂ + 0.732 𝐞₃ + -0.199 𝐞₄,\n",
       " -0.657 𝐞₁ + 0.45 𝐞₂ + 0.732 𝐞₃ + -0.199 𝐞₄,\n",
       " -0.482 𝐞₁ + -0.183 𝐞₂ + -0.476 𝐞₃ + -0.572 𝐞₄,\n",
       " -0.482 𝐞₁ + -0.183 𝐞₂ + -0.476 𝐞₃ + -0.572 𝐞₄)"
      ]
     },
     "execution_count": 77,
     "metadata": {},
     "output_type": "execute_result"
    }
   ],
   "source": [
    "x|F, fm(x), x|F|F, fm(fm(x))"
   ]
  },
  {
   "cell_type": "code",
   "execution_count": 78,
   "metadata": {},
   "outputs": [
    {
     "data": {
      "text/plain": [
       "([1.0, 0.7601860138604837, 0.047792004728342836],\n",
       " [1,\n",
       "  3.3306690738754696e-16,\n",
       "  0.7601860138604839,\n",
       "  1.478851763270228e-16,\n",
       "  0.04779200472834285],\n",
       " array([-0.69102498, -0.06916104]),\n",
       " array([0.83127912, 0.26298486]),\n",
       " array([-6.61498202e-17+0.83127912j, -6.61498202e-17-0.83127912j,\n",
       "        -1.00383634e-16+0.26298486j, -1.00383634e-16-0.26298486j]),\n",
       " [1,\n",
       "  1.5203720277209678,\n",
       "  0.6734667851257777,\n",
       "  0.07266162713768079,\n",
       "  0.0022840757159539515])"
      ]
     },
     "execution_count": 78,
     "metadata": {},
     "output_type": "execute_result"
    }
   ],
   "source": [
    "#4.14 4.18 Why square of eigen values? \n",
    "# The odd grade characteristic multivectors have zero scalar\n",
    "# A correction on Lasenby's paper, not square of f, but the even outermorphism f_(x, y)\n",
    "Ck2 = [(-1)**(2 - i) * alg.sp(Ck[i], Ck[i])[0] for i in range(3)]\n",
    "char_poly = char_poly_coefs(fm, alg)\n",
    "Lk = np.roots(Ck2)\n",
    "\n",
    "Ck2, char_poly, Lk, np.sqrt(-np.array(Lk)), np.roots(char_poly), char_poly_coefs(lambda x: fm(fm(x)), alg)"
   ]
  },
  {
   "cell_type": "code",
   "execution_count": 79,
   "metadata": {},
   "outputs": [
    {
     "data": {
      "text/plain": [
       "(0.375 𝐞₁₂ + 0.482 𝐞₁₃ + 0.199 𝐞₁₄ + -0.0966 𝐞₂₃ + -0.0376 𝐞₂₄ + -0.58 𝐞₃₄,\n",
       " -0.127 𝐞₁₂ + 0.00821 𝐞₁₃ + -0.0211 𝐞₁₄ + 0.0436 𝐞₂₃ + -0.105 𝐞₂₄ + 0.082 𝐞₃₄)"
      ]
     },
     "execution_count": 79,
     "metadata": {},
     "output_type": "execute_result"
    }
   ],
   "source": [
    "Ck[1], Ck[1] | Ck[2]"
   ]
  },
  {
   "cell_type": "code",
   "execution_count": 80,
   "metadata": {},
   "outputs": [
    {
     "data": {
      "text/plain": [
       "(0.375 𝐞₁₂ + 0.482 𝐞₁₃ + 0.199 𝐞₁₄ + -0.0966 𝐞₂₃ + -0.0376 𝐞₂₄ + -0.58 𝐞₃₄,\n",
       " 0.375 𝐞₁₂ + 0.482 𝐞₁₃ + 0.199 𝐞₁₄ + -0.0966 𝐞₂₃ + -0.0376 𝐞₂₄ + -0.58 𝐞₃₄,\n",
       " -7.63e-17 + 6.94e-18 𝐞₁₂ + 8.67e-18 𝐞₁₃ + -4.16e-17 𝐞₁₄ + 4.68e-17 𝐞₂₃ + 1.21e-17 𝐞₂₄ + -9.54e-18 𝐞₃₄ + -0.219 𝐞₁₂₃₄,\n",
       " -7.63e-17 + -5.64e-18 𝐞₁₂ + -8.67e-18 𝐞₁₃ + 4.16e-17 𝐞₁₄ + -4.16e-17 𝐞₂₃ + -1.39e-17 𝐞₂₄ + 1.04e-17 𝐞₃₄ + -0.219 𝐞₁₂₃₄,\n",
       " -0.76 + -1.73e-18 𝐞₁₂ + -0.437 𝐞₁₂₃₄,\n",
       " -0.0692 + -4.34e-19 𝐞₁₂ + -2.17e-19 𝐞₁₃ + -1.73e-18 𝐞₁₄ + -3.64e-17 𝐞₁₂₃₄,\n",
       " -0.691 + -1.25e-16 𝐞₁₂₃₄)"
      ]
     },
     "execution_count": 80,
     "metadata": {},
     "output_type": "execute_result"
    }
   ],
   "source": [
    "#4.15\n",
    "mv_map1 = {}\n",
    "mv_map2 = {}\n",
    "ck1, ck2 = Ck[1], Ck[1] | Ck[2]\n",
    "for key in ck2.keys():\n",
    "    if np.isclose(ck1[key],0) and np.isclose(ck2[key],0):\n",
    "        continue\n",
    "    ans = np.linalg.solve(np.array([[1, 1], Lk]), [ck1[key], ck2[key]])\n",
    "    mv_map1[key], mv_map2[key] = ans\n",
    "F1 = alg.multivector(mv_map1)\n",
    "F2 = alg.multivector(mv_map2)\n",
    "F1 + F2, F, F1*F2, F2*F1, F**2, F1**2, F2**2\n"
   ]
  },
  {
   "cell_type": "code",
   "execution_count": 81,
   "metadata": {},
   "outputs": [
    {
     "data": {
      "text/plain": [
       "([-0.6910249756773137, -0.06916103818316999],\n",
       " array([-0.69102498, -0.06916104]))"
      ]
     },
     "execution_count": 81,
     "metadata": {},
     "output_type": "execute_result"
    }
   ],
   "source": [
    "#4.16\n",
    "def normsq(A):\n",
    "    return A.reverse().sp(A)[0]\n",
    "(\n",
    "    [(-normsq(F) - np.sqrt((normsq(F)**2 - normsq(F ^ F))))/2,\n",
    "    (-normsq(F) + np.sqrt((normsq(F)**2 - normsq(F ^ F))))/2],\n",
    "    Lk\n",
    ")\n"
   ]
  },
  {
   "cell_type": "code",
   "execution_count": 82,
   "metadata": {},
   "outputs": [
    {
     "data": {
      "text/plain": [
       "(0.162 𝐞₁₂ + -0.0669 𝐞₁₃ + 0.0118 𝐞₁₄ + -0.0593 𝐞₂₃ + 0.174 𝐞₂₄ + -0.0673 𝐞₃₄,\n",
       " 0.162 𝐞₁₂ + -0.0669 𝐞₁₃ + 0.0118 𝐞₁₄ + -0.0593 𝐞₂₃ + 0.174 𝐞₂₄ + -0.0673 𝐞₃₄,\n",
       " 0.213 𝐞₁₂ + 0.549 𝐞₁₃ + 0.187 𝐞₁₄ + -0.0374 𝐞₂₃ + -0.211 𝐞₂₄ + -0.513 𝐞₃₄,\n",
       " 0.213 𝐞₁₂ + 0.549 𝐞₁₃ + 0.187 𝐞₁₄ + -0.0374 𝐞₂₃ + -0.211 𝐞₂₄ + -0.513 𝐞₃₄)"
      ]
     },
     "execution_count": 82,
     "metadata": {},
     "output_type": "execute_result"
    }
   ],
   "source": [
    "#4.17\n",
    "F2_ = F / (1 + (1/2/Lk[0])*(F ^ F))\n",
    "F1_ = F / (1 + (1/2/Lk[1])*(F ^ F))\n",
    "F1_, F1, F2_, F2"
   ]
  },
  {
   "cell_type": "code",
   "execution_count": 83,
   "metadata": {},
   "outputs": [],
   "source": [
    "def bivector_split(F, alg: Algebra):\n",
    "    m = alg.d // 2\n",
    "    if m <= 1:\n",
    "        return F\n",
    "    Ck = [(1/factorial(r))*wedge_power(F, r) for r in range(m+1)]\n",
    "    Ck2 = [(-1)**(m - i) * alg.sp(Ck[i], Ck[i])[0] for i in range(m+1)]\n",
    "    Lk = np.roots(Ck2)\n",
    "    mv_map_list = [{} for _ in range(m)]\n",
    "    ck_inner_list = [alg.ip(Ck[i-1], Ck[i]) for i in range(1, m+1)]\n",
    "    mv_keys = set.union(*(set(ck.keys()) for ck in ck_inner_list if isinstance(ck, MultiVector)))\n",
    "    linear_eq_matrix = np.array([[np.prod(Lk[i:i+k]) for i in range(m)] for k in range(m)])\n",
    "    inv_matrix = np.linalg.inv(linear_eq_matrix)\n",
    "    for key in mv_keys:\n",
    "        if all([np.isclose(ck[key],0) for ck in ck_inner_list]):\n",
    "            continue\n",
    "        ans = np.dot(inv_matrix, [ck[key] for ck in ck_inner_list])\n",
    "        for i, v in enumerate(ans):\n",
    "            mv_map_list[i][key] = v\n",
    "    return [alg.multivector(mv_map) for mv_map in mv_map_list]"
   ]
  },
  {
   "cell_type": "code",
   "execution_count": 84,
   "metadata": {},
   "outputs": [],
   "source": [
    "# From Graded Symmetry Groups: Plane and Simple, \n",
    "# instead of solving linear equations, the solutions are given algebraically\n",
    "# But we need an GA inverse for even algebra\n",
    "def bivector_split_(F, alg: Algebra):  \n",
    "    m = alg.d // 2\n",
    "    if m <= 1:\n",
    "        return F\n",
    "    Ck = [(1/factorial(r))*wedge_power(F, r) for r in range(m+1)]\n",
    "    Ck2 = [(-1)**(m - i) * alg.sp(Ck[i], Ck[i])[0] for i in range(m+1)]\n",
    "    Lk = np.roots(Ck2)\n",
    "    blades = []\n",
    "    for l in Lk:\n",
    "        even = sum(l ** r * c for r, c in enumerate(Ck[-1::-2]))\n",
    "        odd = sum(l ** r * c for r, c in enumerate(Ck[-2::-2]))\n",
    "        blades.append(even / odd) # FIXME: the inverse usually fails\n",
    "    return blades"
   ]
  },
  {
   "cell_type": "code",
   "execution_count": 85,
   "metadata": {},
   "outputs": [
    {
     "data": {
      "text/plain": [
       "(-2.08 + -1.85e-12 𝐞₁ + -2.65e-13 𝐞₂ + 1.8e-12 𝐞₃ + 5.39e-13 𝐞₄ + -1.05e-12 𝐞₁₂ + 6.15e-13 𝐞₁₃ + 2.01e-13 𝐞₁₄ + -3.28e-13 𝐞₂₃ + 4.44e-13 𝐞₂₄ + 1.02e-12 𝐞₃₄ + 4.11e-14 𝐞₁₂₃ + 7.36e-13 𝐞₁₂₄ + 4.05e-13 𝐞₁₃₄ + -3.06e-13 𝐞₂₃₄ + 1.1e-12 𝐞₁₂₃₄,\n",
       " [array([-3.76432384e-13,  9.40734110e-13,  1.19853776e-13,  5.85897843e-13,\n",
       "          7.46460324e-14, -1.86546302e-13]),\n",
       "  array([1., 1., 1., 1., 1., 1.]),\n",
       "  array([-2.6499447e-13, -2.6499447e-13, -2.6499447e-13, -2.6499447e-13,\n",
       "         -2.6499447e-13, -2.6499447e-13]),\n",
       "  array([ 0.703963  , -0.28168902, -2.2109814 , -0.45228784, -3.55001413,\n",
       "          1.42052921])])"
      ]
     },
     "execution_count": 85,
     "metadata": {},
     "output_type": "execute_result"
    }
   ],
   "source": [
    "# What if we use the above function to split a bivector that's almost a blade?\n",
    "# The result blades are R itself and its dual with a small magnitude\n",
    "# Should assert not simple before process?\n",
    "\n",
    "R = random_r_blade(2, alg) + 1e-12 * A # a blade with a small perturbation\n",
    "blades = bivector_split(R, alg)\n",
    "R**2, [terms_ratio(b, r) for r in [R, R.dual()] for b in blades]"
   ]
  },
  {
   "cell_type": "code",
   "execution_count": 86,
   "metadata": {},
   "outputs": [
    {
     "data": {
      "text/plain": [
       "2.78e-15 𝐞₁₂ + 2.78e-15 𝐞₁₃ + 2.5e-14 𝐞₁₄ + 1.11e-14 𝐞₂₃ + -8.33e-15 𝐞₂₄"
      ]
     },
     "execution_count": 86,
     "metadata": {},
     "output_type": "execute_result"
    }
   ],
   "source": [
    "# double skew is symmetric\n",
    "fm2 = lambda x: fm(fm(x))\n",
    "curl(fm2, x, alg, h=1e-2, grade=1)"
   ]
  },
  {
   "cell_type": "code",
   "execution_count": 87,
   "metadata": {},
   "outputs": [
    {
     "data": {
      "text/plain": [
       "(-0.0309 𝐞₁ + -0.00602 𝐞₂ + -0.00882 𝐞₃ + 0.0327 𝐞₄,\n",
       " -0.0309 𝐞₁ + -0.00602 𝐞₂ + -0.00882 𝐞₃ + 0.0327 𝐞₄ + 1.72e-17 𝐞₁₂₃ + 5e-18 𝐞₁₂₄ + -2.85e-18 𝐞₁₃₄ + 1.63e-17 𝐞₂₃₄)"
      ]
     },
     "execution_count": 87,
     "metadata": {},
     "output_type": "execute_result"
    }
   ],
   "source": [
    "#4.19\n",
    "v = P(e1, F1)\n",
    "fm2(v), (F1 ** 2) * v"
   ]
  },
  {
   "cell_type": "code",
   "execution_count": 88,
   "metadata": {},
   "outputs": [
    {
     "data": {
      "text/plain": [
       "(0.162 𝐞₁₂ + -0.0669 𝐞₁₃ + 0.0118 𝐞₁₄ + -0.0593 𝐞₂₃ + 0.174 𝐞₂₄ + -0.0673 𝐞₃₄,\n",
       " 0.162 𝐞₁₂ + -0.0669 𝐞₁₃ + 0.0118 𝐞₁₄ + -0.0593 𝐞₂₃ + 0.174 𝐞₂₄ + -0.0673 𝐞₃₄)"
      ]
     },
     "execution_count": 88,
     "metadata": {},
     "output_type": "execute_result"
    }
   ],
   "source": [
    "#4.20 \n",
    "F1_eigvecs= [v.normalized() for v in gram_schmidt(blade_split(F1, alg))]\n",
    "F1, np.sqrt(normsq(F1)) * wedge(F1_eigvecs)\n"
   ]
  },
  {
   "cell_type": "code",
   "execution_count": 89,
   "metadata": {},
   "outputs": [
    {
     "data": {
      "text/plain": [
       "(-0.589 𝐞₁ + -0.808 𝐞₃,\n",
       " -0.589 𝐞₂ + -0.808 𝐞₄,\n",
       " 0.808 𝐞₁ + -0.589 𝐞₃,\n",
       " 0.808 𝐞₂ + -0.589 𝐞₄,\n",
       " 1.0 𝐞₁₂ + 1.0 𝐞₃₄,\n",
       " 0.346 𝐞₁₂ + 0.476 𝐞₁₄ + -0.476 𝐞₂₃ + 0.654 𝐞₃₄,\n",
       " 0.654 𝐞₁₂ + -0.476 𝐞₁₄ + 0.476 𝐞₂₃ + 0.346 𝐞₃₄)"
      ]
     },
     "execution_count": 89,
     "metadata": {},
     "output_type": "execute_result"
    }
   ],
   "source": [
    "# If Lk[0] == Lk[1], the linear equation has no unique solution in 4.15\n",
    "# nonunique bivector split? We should find another split of e12 + e34. \n",
    "t = 1.1\n",
    "R = blade_exp(t*e13) * blade_exp(t*e24)\n",
    "a,b,c,d = [R.sw(v) for v in alg.frame]\n",
    "a,b,c,d, a*b+c*d, a*b, c*d"
   ]
  },
  {
   "cell_type": "code",
   "execution_count": 90,
   "metadata": {},
   "outputs": [
    {
     "data": {
      "text/plain": [
       "(1.0 𝐞₁₂ + 1.0 𝐞₃₄,\n",
       " 1.0 𝐞₁₂ + 1.0 𝐞₃₄,\n",
       " 0.346 + -0.476 𝐞₁₃ + -0.476 𝐞₂₄ + -0.654 𝐞₁₂₃₄)"
      ]
     },
     "execution_count": 90,
     "metadata": {},
     "output_type": "execute_result"
    }
   ],
   "source": [
    "R.sw(e12 + e34), (e12+e34) * (R**2), R**2"
   ]
  },
  {
   "cell_type": "code",
   "execution_count": 91,
   "metadata": {},
   "outputs": [
    {
     "data": {
      "text/plain": [
       "(0.362 𝐞₁₂ + 0.301 𝐞₁₃ + 0.191 𝐞₁₄ + 0.138 𝐞₂₃ + -0.233 𝐞₂₄ + -0.197 𝐞₃₄,\n",
       " 0.362 𝐞₁₂ + 0.301 𝐞₁₃ + 0.191 𝐞₁₄ + 0.138 𝐞₂₃ + -0.233 𝐞₂₄ + -0.197 𝐞₃₄)"
      ]
     },
     "execution_count": 91,
     "metadata": {},
     "output_type": "execute_result"
    }
   ],
   "source": [
    "#4.21\n",
    "B2 = B.grade(2)\n",
    "# fm = lambda x: f(x) - adjoint_outermorphism(f, x, alg)\n",
    "# F = curl(fm, x, alg, grade=1) / 2\n",
    "outermorphism(fm, B2, alg), (0.5 * (B2 | (F^F))) - ((B2|F) * F)"
   ]
  },
  {
   "cell_type": "code",
   "execution_count": 92,
   "metadata": {},
   "outputs": [
    {
     "data": {
      "text/plain": [
       "(0.362 𝐞₁₂ + 0.301 𝐞₁₃ + 0.191 𝐞₁₄ + 0.138 𝐞₂₃ + -0.233 𝐞₂₄ + -0.197 𝐞₃₄,\n",
       " 0.362 𝐞₁₂ + 0.301 𝐞₁₃ + 0.191 𝐞₁₄ + 0.138 𝐞₂₃ + -0.233 𝐞₂₄ + -0.197 𝐞₃₄)"
      ]
     },
     "execution_count": 92,
     "metadata": {},
     "output_type": "execute_result"
    }
   ],
   "source": [
    "# What is a symmetric bivector function?\n",
    "# I guess it means:\n",
    "outermorphism(fm, B2, alg), adjoint_outermorphism(fm, B2, alg)"
   ]
  },
  {
   "cell_type": "code",
   "execution_count": 93,
   "metadata": {},
   "outputs": [
    {
     "data": {
      "text/plain": [
       "(0.0112 𝐞₁₂ + -0.00462 𝐞₁₃ + 0.000817 𝐞₁₄ + -0.0041 𝐞₂₃ + 0.012 𝐞₂₄ + -0.00465 𝐞₃₄,\n",
       " 0.0112 𝐞₁₂ + -0.00462 𝐞₁₃ + 0.000817 𝐞₁₄ + -0.0041 𝐞₂₃ + 0.012 𝐞₂₄ + -0.00465 𝐞₃₄)"
      ]
     },
     "execution_count": 93,
     "metadata": {},
     "output_type": "execute_result"
    }
   ],
   "source": [
    "#4.23 The bivector split solves the eigenbivector problem of a skew transformation\n",
    "outermorphism(fm, F1, alg), normsq(F1)*F1"
   ]
  },
  {
   "cell_type": "code",
   "execution_count": 94,
   "metadata": {},
   "outputs": [
    {
     "data": {
      "text/plain": [
       "(0.11 𝐞₁ + -0.68 𝐞₂ + -1.56 𝐞₃ + 2.94 𝐞₄,\n",
       " -0.659 𝐞₁ + 0.6 𝐞₂ + 0.0522 𝐞₃ + -0.129 𝐞₄,\n",
       " 5.52 𝐞₁ + -2.55 𝐞₂ + -1.41 𝐞₃ + 8.29 𝐞₄,\n",
       " 3.98 𝐞₁ + 0.00511 𝐞₂ + 1.81 𝐞₃ + 2.15 𝐞₄)"
      ]
     },
     "execution_count": 94,
     "metadata": {},
     "output_type": "execute_result"
    }
   ],
   "source": [
    "#5.1 normal transformation\n",
    "af = lambda x: adjoint_outermorphism(f, x, alg)\n",
    "\n",
    "fp(fm(x)), fm(fp(x)), af(f(x)), f(af(x)) # not normal"
   ]
  },
  {
   "cell_type": "code",
   "execution_count": 95,
   "metadata": {},
   "outputs": [
    {
     "data": {
      "text/plain": [
       "(9.42 𝐞₁ + -3.1 𝐞₂ + 0.051 𝐞₃ + -0.109 𝐞₄,\n",
       " 9.42 𝐞₁ + -3.1 𝐞₂ + 0.051 𝐞₃ + -0.109 𝐞₄)"
      ]
     },
     "execution_count": 95,
     "metadata": {},
     "output_type": "execute_result"
    }
   ],
   "source": [
    "M = blade_exp(random_r_blade(2, alg))\n",
    "Mdual = blade_split(M.grade(2).dual(), alg)\n",
    "rigid = lambda x: 1.1 *  M.sw(x) - 4.4 * P(x, Mdual[0]) + 3.3 * P(x, Mdual[1])\n",
    "adrigid = lambda x: adjoint_outermorphism(rigid, x, alg)\n",
    "adrigid(rigid(x)), rigid(adrigid(x))"
   ]
  },
  {
   "cell_type": "code",
   "execution_count": 96,
   "metadata": {},
   "outputs": [
    {
     "data": {
      "text/plain": [
       "(1.97 𝐞₁ + -1.4 𝐞₂ + 0.972 𝐞₃ + 0.662 𝐞₄,\n",
       " 3.97 𝐞₁ + -3.24 𝐞₂ + 2.68 𝐞₃ + 2.59 𝐞₄ + 1.66e-18 𝐞₁₂₃ + -1.99e-18 𝐞₁₂₄ + 1.41e-16 𝐞₁₃₄ + 1.65e-16 𝐞₂₃₄)"
      ]
     },
     "execution_count": 96,
     "metadata": {},
     "output_type": "execute_result"
    }
   ],
   "source": [
    "rigid(x), 3.3 * M**2 * P(x, M.grade(2).normalized()) + 3.3 * P(x, M.grade(2).normalized().dual()) - 4.4 * P(x, Mdual[0]) + 5.5 * P(x, Mdual[1])"
   ]
  },
  {
   "cell_type": "code",
   "execution_count": 97,
   "metadata": {},
   "outputs": [
    {
     "data": {
      "text/plain": [
       "(0.375 𝐞₁₂ + 0.482 𝐞₁₃ + 0.199 𝐞₁₄ + -0.0966 𝐞₂₃ + -0.0376 𝐞₂₄ + -0.58 𝐞₃₄,\n",
       " 0.375 𝐞₁₂ + 0.482 𝐞₁₃ + 0.199 𝐞₁₄ + -0.0966 𝐞₂₃ + -0.0376 𝐞₂₄ + -0.58 𝐞₃₄,\n",
       " 0.0427 𝐞₁₂ + -0.0176 𝐞₁₃ + 0.00311 𝐞₁₄ + -0.0156 𝐞₂₃ + 0.0457 𝐞₂₄ + -0.0177 𝐞₃₄,\n",
       " 0.0427 𝐞₁₂ + -0.0176 𝐞₁₃ + 0.00311 𝐞₁₄ + -0.0156 𝐞₂₃ + 0.0457 𝐞₂₄ + -0.0177 𝐞₃₄)"
      ]
     },
     "execution_count": 97,
     "metadata": {},
     "output_type": "execute_result"
    }
   ],
   "source": [
    "#5.2\n",
    "def norm(A):\n",
    "    return np.sqrt(normsq(A))\n",
    "b1, b2 = norm(F1), norm(F2)\n",
    "i1, i2 = F1/b1, F2/b2\n",
    "\n",
    "F, b1*i1 + b2*i2, outermorphism(fm, i1, alg), b1**2*i1"
   ]
  },
  {
   "cell_type": "code",
   "execution_count": 98,
   "metadata": {},
   "outputs": [
    {
     "data": {
      "text/plain": [
       "array([ -3.54057242, -12.67784067,   7.86852222,   9.14237702,\n",
       "         3.84897466,  15.9711852 ])"
      ]
     },
     "execution_count": 98,
     "metadata": {},
     "output_type": "execute_result"
    }
   ],
   "source": [
    "# 5.3\n",
    "terms_ratio(outermorphism(fp, i1, alg), i1) # not normal"
   ]
  },
  {
   "cell_type": "code",
   "execution_count": 99,
   "metadata": {},
   "outputs": [
    {
     "data": {
      "text/plain": [
       "[array([0.23735426, 0.23735426, 0.23735426, 0.23735426, 0.23735426,\n",
       "        0.23735426])]"
      ]
     },
     "execution_count": 99,
     "metadata": {},
     "output_type": "execute_result"
    }
   ],
   "source": [
    "# 5.3\n",
    "def sym_part(f, alg):\n",
    "    return lambda x: (f(x) + adjoint_outermorphism(f, x, alg))/2\n",
    "\n",
    "def skew_part(f, alg):\n",
    "    return lambda x: (f(x) - adjoint_outermorphism(f, x, alg))/2\n",
    "\n",
    "R = curl(rigid, x, alg, grade=1)/2\n",
    "skew_blades = bivector_split(R, alg)\n",
    "skew_eigs = [norm(b) for b in skew_blades]\n",
    "skew_blades = [b / e for b,e in zip(skew_blades, skew_eigs) if e > 1e-6]\n",
    "skew_eigs = [e for e in skew_eigs if e > 1e-6]\n",
    "rigid_p = sym_part(rigid, alg)\n",
    "[terms_ratio(outermorphism(rigid_p, i, alg), i) for i in skew_blades]"
   ]
  },
  {
   "cell_type": "code",
   "execution_count": 100,
   "metadata": {},
   "outputs": [
    {
     "data": {
      "text/plain": [
       "([0.487190171817975], array([0.23735426]), [0.2373542644461067])"
      ]
     },
     "execution_count": 100,
     "metadata": {},
     "output_type": "execute_result"
    }
   ],
   "source": [
    "#5.4\n",
    "rand_vec = random_r_vectors(1, alg)[0]\n",
    "sym_vecs = [(rand_vec | i).normalized() for i in skew_blades]\n",
    "other_sym_space = wedge(skew_blades).dual()\n",
    "sym_eigs = [terms_ratio(rigid_p(a), a)[0] for a in sym_vecs]\n",
    "\n",
    "sym_eigs, np.square(sym_eigs), [terms_ratio(outermorphism(rigid_p, i, alg), i)[0] for i in skew_blades]\n"
   ]
  },
  {
   "cell_type": "code",
   "execution_count": 101,
   "metadata": {},
   "outputs": [
    {
     "data": {
      "text/plain": [
       "([-0.43 𝐞₁ + -0.722 𝐞₂ + -0.548 𝐞₃ + -0.451 𝐞₄],\n",
       " [-0.43 𝐞₁ + -0.722 𝐞₂ + -0.548 𝐞₃ + -0.451 𝐞₄ + -4.86e-17 𝐞₁₂₃ + 6.94e-18 𝐞₁₂₄ + -1.39e-17 𝐞₁₃₄],\n",
       " [-0.43 𝐞₁ + -0.722 𝐞₂ + -0.548 𝐞₃ + -0.451 𝐞₄ + 5.55e-17 𝐞₁₂₃ + 1.73e-17 𝐞₁₃₄ + 1.39e-17 𝐞₂₃₄])"
      ]
     },
     "execution_count": 101,
     "metadata": {},
     "output_type": "execute_result"
    }
   ],
   "source": [
    "#5.5a\n",
    "m = len(skew_blades)\n",
    "rigid_eigs = [sym_eigs[k] + skew_blades[k] * skew_eigs[k] for k in range(m)]\n",
    "[rigid(a) for a in sym_vecs], [a*l for a, l in zip(sym_vecs,rigid_eigs)], [l.reverse()*a for a, l in zip(sym_vecs,rigid_eigs)]"
   ]
  },
  {
   "cell_type": "code",
   "execution_count": 102,
   "metadata": {},
   "outputs": [
    {
     "data": {
      "text/plain": [
       "([0.0921 𝐞₁ + -0.103 𝐞₂ + 0.768 𝐞₃ + 0.776 𝐞₄],\n",
       " [0.0921 𝐞₁ + -0.103 𝐞₂ + 0.768 𝐞₃ + 0.776 𝐞₄ + -5.55e-17 𝐞₁₂₃ + -1.73e-17 𝐞₁₃₄ + -1.39e-17 𝐞₂₃₄],\n",
       " [0.0921 𝐞₁ + -0.103 𝐞₂ + 0.768 𝐞₃ + 0.776 𝐞₄ + 4.86e-17 𝐞₁₂₃ + -6.94e-18 𝐞₁₂₄ + 1.39e-17 𝐞₁₃₄])"
      ]
     },
     "execution_count": 102,
     "metadata": {},
     "output_type": "execute_result"
    }
   ],
   "source": [
    "#5.5b\n",
    "[adjoint_outermorphism(rigid, a, alg) for a in sym_vecs], [l*a for a, l in zip(sym_vecs,rigid_eigs)], [a*l.reverse() for a, l in zip(sym_vecs,rigid_eigs)]"
   ]
  },
  {
   "cell_type": "code",
   "execution_count": 103,
   "metadata": {},
   "outputs": [
    {
     "data": {
      "text/plain": [
       "([1.0999999999964827], [1.0999999999964827])"
      ]
     },
     "execution_count": 103,
     "metadata": {},
     "output_type": "execute_result"
    }
   ],
   "source": [
    "[norm(l) for l in rigid_eigs], [np.sqrt(sym_eigs[k] ** 2 + skew_eigs[k] ** 2) for k in range(m)]"
   ]
  },
  {
   "cell_type": "code",
   "execution_count": 104,
   "metadata": {},
   "outputs": [
    {
     "data": {
      "text/plain": [
       "([0.487 + -0.114 𝐞₁₂ + 0.287 𝐞₁₃ + 0.3 𝐞₁₄ + 0.627 𝐞₂₃ + 0.623 𝐞₂₄ + 0.0802 𝐞₃₄],\n",
       " [0.487 + -0.114 𝐞₁₂ + 0.287 𝐞₁₃ + 0.3 𝐞₁₄ + 0.627 𝐞₂₃ + 0.623 𝐞₂₄ + 0.0802 𝐞₃₄])"
      ]
     },
     "execution_count": 104,
     "metadata": {},
     "output_type": "execute_result"
    }
   ],
   "source": [
    "#5.6\n",
    "rho = [norm(l) for l in rigid_eigs] # dilation\n",
    "theta = [np.arccos(sym_eigs[k] / rho[k]) for k in range(m)] # rotation angle\n",
    "\n",
    "rigid_eigs, [rho[k] * blade_exp(theta[k] * skew_blades[k]) for k in range(m)] # skew_blades gives rotation plane"
   ]
  },
  {
   "cell_type": "code",
   "execution_count": 105,
   "metadata": {},
   "outputs": [
    {
     "data": {
      "text/plain": [
       "0.4871901718179753"
      ]
     },
     "execution_count": 105,
     "metadata": {},
     "output_type": "execute_result"
    }
   ],
   "source": [
    "np.sqrt(1 - (skew_eigs[0]/rho[0])**2) * rho[0]"
   ]
  },
  {
   "cell_type": "code",
   "execution_count": 106,
   "metadata": {},
   "outputs": [
    {
     "data": {
      "text/plain": [
       "array([ 4.35528833, -3.25528833])"
      ]
     },
     "execution_count": 106,
     "metadata": {},
     "output_type": "execute_result"
    }
   ],
   "source": [
    "# spectral decomposition of symmetric part in other_sym_space\n",
    "other_sym_frame = blade_split(other_sym_space, alg)\n",
    "other_sym_eigs = np.roots(char_poly_coefs(rigid_p, alg, other_sym_frame, reciprocal(other_sym_frame)))\n",
    "other_sym_eigs"
   ]
  },
  {
   "cell_type": "code",
   "execution_count": 107,
   "metadata": {},
   "outputs": [
    {
     "data": {
      "text/plain": [
       "(1.97 𝐞₁ + -1.4 𝐞₂ + 0.972 𝐞₃ + 0.662 𝐞₄,\n",
       " 1.97 𝐞₁ + -1.4 𝐞₂ + 0.972 𝐞₃ + 0.662 𝐞₄ + 2.08e-17 𝐞₁₂₃ + -1.39e-17 𝐞₁₂₄ + -2.08e-17 𝐞₁₃₄ + -4.16e-17 𝐞₂₃₄)"
      ]
     },
     "execution_count": 107,
     "metadata": {},
     "output_type": "execute_result"
    }
   ],
   "source": [
    "#5.9 spectral decomposition of a normal transformation\n",
    "sym_vecs_dual = [a|i for a, i in zip(sym_vecs, skew_blades)]\n",
    "other_sym_blades = eigenblades_from_values(rigid_p, other_sym_eigs, alg, other_sym_frame)\n",
    "\n",
    "rigid(x), sum([P(x, a) * l for a, l in zip(sym_vecs + sym_vecs_dual + other_sym_blades, rigid_eigs * 2 + list(other_sym_eigs))])"
   ]
  },
  {
   "cell_type": "code",
   "execution_count": 108,
   "metadata": {},
   "outputs": [
    {
     "data": {
      "text/plain": [
       "(array([-3.25528833,  0.48719017,  0.48719017,  4.35528833]),\n",
       " [0.0792 𝐞₁ + 0.0531 𝐞₂ + -0.709 𝐞₃ + 0.699 𝐞₄,\n",
       "  0.4 𝐞₁ + 0.898 𝐞₂ + -0.0599 𝐞₃ + -0.174 𝐞₄,\n",
       "  0.174 𝐞₁ + 0.102 𝐞₂ + 0.701 𝐞₃ + 0.684 𝐞₄,\n",
       "  -0.896 𝐞₁ + 0.425 𝐞₂ + 0.0468 𝐞₃ + 0.117 𝐞₄])"
      ]
     },
     "execution_count": 108,
     "metadata": {},
     "output_type": "execute_result"
    }
   ],
   "source": [
    "#5.17\n",
    "sym_eigs, sym_vecs = np.linalg.eigh(trans2matrix(rigid_p, alg))\n",
    "sym_vecs = [alg.vector(v) for v in sym_vecs.transpose()]\n",
    "sym_eigs, sym_vecs"
   ]
  },
  {
   "cell_type": "code",
   "execution_count": 109,
   "metadata": {},
   "outputs": [
    {
     "data": {
      "text/plain": [
       "[array([10.59690208, 10.59690208, 10.59690208, 10.59690208]),\n",
       " array([1.21, 1.21, 1.21, 1.21]),\n",
       " array([1.21, 1.21, 1.21, 1.21]),\n",
       " array([18.9685364, 18.9685364, 18.9685364, 18.9685364])]"
      ]
     },
     "execution_count": 109,
     "metadata": {},
     "output_type": "execute_result"
    }
   ],
   "source": [
    "# In my case, all vectors are both eigenvectors of rigid_p and rigid_n\n",
    "rigid_n = lambda x: rigid(adjoint_outermorphism(rigid, x, alg))\n",
    "[terms_ratio(rigid_n(v), v) for v in sym_vecs]"
   ]
  },
  {
   "cell_type": "code",
   "execution_count": 110,
   "metadata": {},
   "outputs": [
    {
     "data": {
      "text/plain": [
       "(1.97 𝐞₁ + -1.4 𝐞₂ + 0.972 𝐞₃ + 0.662 𝐞₄,\n",
       " 1.97 𝐞₁ + -1.4 𝐞₂ + 0.972 𝐞₃ + 0.662 𝐞₄ + 3.83e-17 𝐞₁₂₃ + 1.72e-17 𝐞₁₂₄ + 1.51e-19 𝐞₁₃₄ + -1.39e-17 𝐞₂₃₄)"
      ]
     },
     "execution_count": 110,
     "metadata": {},
     "output_type": "execute_result"
    }
   ],
   "source": [
    "# the same spectral decomposition of the normal transformation\n",
    "beta = [v ^ rigid(v) for v in sym_vecs]\n",
    "rigid_eigs = [a + b for a,b in zip(sym_eigs, beta)]\n",
    "rigid(x), sum([P(x, a) * l for a, l in zip(sym_vecs, rigid_eigs)])"
   ]
  },
  {
   "cell_type": "code",
   "execution_count": 111,
   "metadata": {},
   "outputs": [
    {
     "data": {
      "text/plain": [
       "(0.375 + 0.78 𝐞₁ + 0.427 𝐞₂ + 0.567 𝐞₃ + 0.152 𝐞₄ + 0.574 𝐞₁₂ + 0.531 𝐞₁₃ + 0.617 𝐞₁₄ + 0.686 𝐞₂₃ + 0.28 𝐞₂₄ + 0.0601 𝐞₃₄ + 0.0208 𝐞₁₂₃ + 0.596 𝐞₁₂₄ + 0.529 𝐞₁₃₄ + 0.648 𝐞₂₃₄ + 0.45 𝐞₁₂₃₄,\n",
       " 0.375 + 8.31 𝐞₁ + -3.16 𝐞₂ + 1.7 𝐞₃ + -2.19 𝐞₄ + 18.5 𝐞₁₂ + -19.4 𝐞₁₃ + 34.4 𝐞₁₄ + 13.9 𝐞₂₃ + -15.6 𝐞₂₄ + -4.63 𝐞₃₄ + -77.9 𝐞₁₂₃ + 90.1 𝐞₁₂₄ + 48.4 𝐞₁₃₄ + 5.43 𝐞₂₃₄ + 1.32e+02 𝐞₁₂₃₄)"
      ]
     },
     "execution_count": 111,
     "metadata": {},
     "output_type": "execute_result"
    }
   ],
   "source": [
    "#5.19 our function \"rigid\" is normal but not orthogonal\n",
    "A, outermorphism(rigid, adjoint_outermorphism(rigid, A, alg, h=1e-2), alg, h=1e-2)"
   ]
  },
  {
   "cell_type": "code",
   "execution_count": 112,
   "metadata": {},
   "outputs": [
    {
     "data": {
      "text/plain": [
       "(0.375 + 0.78 𝐞₁ + 0.427 𝐞₂ + 0.567 𝐞₃ + 0.152 𝐞₄ + 0.574 𝐞₁₂ + 0.531 𝐞₁₃ + 0.617 𝐞₁₄ + 0.686 𝐞₂₃ + 0.28 𝐞₂₄ + 0.0601 𝐞₃₄ + 0.0208 𝐞₁₂₃ + 0.596 𝐞₁₂₄ + 0.529 𝐞₁₃₄ + 0.648 𝐞₂₃₄ + 0.45 𝐞₁₂₃₄,\n",
       " 0.375 + 0.78 𝐞₁ + 0.427 𝐞₂ + 0.567 𝐞₃ + 0.152 𝐞₄ + 0.574 𝐞₁₂ + 0.531 𝐞₁₃ + 0.617 𝐞₁₄ + 0.686 𝐞₂₃ + 0.28 𝐞₂₄ + 0.0601 𝐞₃₄ + 0.0208 𝐞₁₂₃ + 0.596 𝐞₁₂₄ + 0.529 𝐞₁₃₄ + 0.648 𝐞₂₃₄ + 0.45 𝐞₁₂₃₄)"
      ]
     },
     "execution_count": 112,
     "metadata": {},
     "output_type": "execute_result"
    }
   ],
   "source": [
    "#5.19 But if we normalize each \"eigenvalues\" in the spectral decomposition\n",
    "ortho_eigs = [l.normalized() for l in rigid_eigs]\n",
    "ortho = lambda x: sum([P(x, a) * l for a, l in zip(sym_vecs, ortho_eigs)])\n",
    "A, outermorphism(ortho, adjoint_outermorphism(ortho, A, alg, h=1e-2), alg, h=1e-2)"
   ]
  },
  {
   "cell_type": "code",
   "execution_count": 113,
   "metadata": {},
   "outputs": [
    {
     "data": {
      "text/plain": [
       "(0.436 𝐞₁ + -0.622 𝐞₂ + 0.894 𝐞₃ + 0.84 𝐞₄ + 3.96e-17 𝐞₁₂₃ + -4.26e-17 𝐞₁₂₄ + -6.85e-18 𝐞₁₃₄ + 1.11e-16 𝐞₂₃₄,\n",
       " 0.436 𝐞₁ + -0.622 𝐞₂ + 0.894 𝐞₃ + 0.84 𝐞₄ + 2.63e-17 𝐞₁₂₃ + -6.66e-18 𝐞₁₂₄ + -6.1e-18 𝐞₁₃₄ + -1.68e-16 𝐞₂₃₄)"
      ]
     },
     "execution_count": 113,
     "metadata": {},
     "output_type": "execute_result"
    }
   ],
   "source": [
    "#5.20 left/right product of exponential\n",
    "ortho(x), sum([l.inv() * P(x, a) for a, l in zip(sym_vecs, ortho_eigs)])"
   ]
  },
  {
   "cell_type": "code",
   "execution_count": 114,
   "metadata": {},
   "outputs": [
    {
     "data": {
      "text/plain": [
       "([-1.53e-16 + 0.0499 𝐞₁₂ + 0.279 𝐞₁₃ + -0.293 𝐞₁₄ + 0.633 𝐞₂₃ + -0.637 𝐞₂₄ + 0.165 𝐞₃₄,\n",
       "  -0.115 𝐞₁₂ + 0.291 𝐞₁₃ + 0.304 𝐞₁₄ + 0.636 𝐞₂₃ + 0.632 𝐞₂₄ + 0.0813 𝐞₃₄,\n",
       "  -2.78e-17 + 0.165 𝐞₁₂ + 0.637 𝐞₁₃ + 0.633 𝐞₁₄ + -0.293 𝐞₂₃ + -0.279 𝐞₂₄ + 0.0499 𝐞₃₄],\n",
       " [-0.0857 𝐞₁₂ + 0.162 𝐞₁₃ + -0.179 𝐞₁₄ + -0.684 𝐞₂₃ + 0.655 𝐞₂₄ + 0.194 𝐞₃₄,\n",
       "  -0.115 𝐞₁₂ + 0.291 𝐞₁₃ + 0.304 𝐞₁₄ + 0.636 𝐞₂₃ + 0.632 𝐞₂₄ + 0.0813 𝐞₃₄,\n",
       "  -0.115 𝐞₁₂ + 0.291 𝐞₁₃ + 0.304 𝐞₁₄ + 0.636 𝐞₂₃ + 0.632 𝐞₂₄ + 0.0813 𝐞₃₄,\n",
       "  -0.937 𝐞₁₂ + 0.281 𝐞₁₃ + -0.047 𝐞₁₄ + -0.176 𝐞₂₃ + -0.094 𝐞₂₄ + 0.037 𝐞₃₄])"
      ]
     },
     "execution_count": 114,
     "metadata": {},
     "output_type": "execute_result"
    }
   ],
   "source": [
    "#5.21\n",
    "(\n",
    "    [sym_vecs[k-1].normalized() * sym_vecs[k].normalized() for k in range(1, 4)],\n",
    "    [e.grade(2).normalized() for e in ortho_eigs]\n",
    ")\n"
   ]
  },
  {
   "cell_type": "code",
   "execution_count": 115,
   "metadata": {},
   "outputs": [
    {
     "data": {
      "text/plain": [
       "([0.0792 𝐞₁ + 0.0531 𝐞₂ + -0.709 𝐞₃ + 0.699 𝐞₄,\n",
       "  0.4 𝐞₁ + 0.898 𝐞₂ + -0.0599 𝐞₃ + -0.174 𝐞₄,\n",
       "  0.174 𝐞₁ + 0.102 𝐞₂ + 0.701 𝐞₃ + 0.684 𝐞₄,\n",
       "  -0.896 𝐞₁ + 0.425 𝐞₂ + 0.0468 𝐞₃ + 0.117 𝐞₄],\n",
       " [[0.0792 𝐞₁ + 0.0531 𝐞₂ + -0.709 𝐞₃ + 0.699 𝐞₄,\n",
       "   0.0792 𝐞₁ + 0.0531 𝐞₂ + -0.709 𝐞₃ + 0.699 𝐞₄,\n",
       "   0.0792 𝐞₁ + 0.0531 𝐞₂ + -0.709 𝐞₃ + 0.699 𝐞₄],\n",
       "  [0.333 𝐞₁ + 0.489 𝐞₂ + 0.602 𝐞₃ + 0.536 𝐞₄,\n",
       "   0.333 𝐞₁ + 0.489 𝐞₂ + 0.602 𝐞₃ + 0.536 𝐞₄,\n",
       "   0.4 𝐞₁ + 0.898 𝐞₂ + -0.0599 𝐞₃ + -0.174 𝐞₄],\n",
       "  [-0.282 𝐞₁ + -0.76 𝐞₂ + 0.364 𝐞₃ + 0.459 𝐞₄,\n",
       "   -0.282 𝐞₁ + -0.76 𝐞₂ + 0.364 𝐞₃ + 0.459 𝐞₄,\n",
       "   0.174 𝐞₁ + 0.102 𝐞₂ + 0.701 𝐞₃ + 0.684 𝐞₄],\n",
       "  [-0.896 𝐞₁ + 0.425 𝐞₂ + 0.0468 𝐞₃ + 0.117 𝐞₄,\n",
       "   -0.896 𝐞₁ + 0.425 𝐞₂ + 0.0468 𝐞₃ + 0.117 𝐞₄,\n",
       "   -0.896 𝐞₁ + 0.425 𝐞₂ + 0.0468 𝐞₃ + 0.117 𝐞₄]])"
      ]
     },
     "execution_count": 115,
     "metadata": {},
     "output_type": "execute_result"
    }
   ],
   "source": [
    "#5.23\n",
    "def simple_rotor_sqrt(R):\n",
    "    # for rotations only, don't use on screw motions\n",
    "    R_norm = norm(R+1)\n",
    "    assert R_norm >= 1e-4, \"no explicit square root for -1\"\n",
    "    return (R + 1)/R_norm\n",
    "    \n",
    "neg_eig_pairs = []\n",
    "eig_rotors = []\n",
    "for i, e in enumerate(ortho_eigs):\n",
    "    if normsq(e + 1) <= 1e-4:\n",
    "        neg_eig_pairs.append((-1, sym_vecs[i]))\n",
    "    else:\n",
    "        eig_rotors.append(simple_rotor_sqrt(e))\n",
    "\n",
    "sym_vecs, [[e.reverse().sw(a) for e in eig_rotors] for a in sym_vecs]"
   ]
  },
  {
   "cell_type": "code",
   "execution_count": 116,
   "metadata": {},
   "outputs": [
    {
     "data": {
      "text/plain": [
       "(0.436 𝐞₁ + -0.622 𝐞₂ + 0.894 𝐞₃ + 0.84 𝐞₄ + 3.96e-17 𝐞₁₂₃ + -4.26e-17 𝐞₁₂₄ + -6.85e-18 𝐞₁₃₄ + 1.11e-16 𝐞₂₃₄,\n",
       " 0.436 𝐞₁ + -0.622 𝐞₂ + 0.894 𝐞₃ + 0.84 𝐞₄)"
      ]
     },
     "execution_count": 116,
     "metadata": {},
     "output_type": "execute_result"
    }
   ],
   "source": [
    "#5.25 I selected an example with -1 as an eigenvalue, \n",
    "# so we need an extra fix for the canonical form.\n",
    "theta = reduce(alg.gp, eig_rotors[::2])\n",
    "(\n",
    "    ortho(x),\n",
    "    theta.reverse().sw(x) - (2*sum(P(x, neg_eig_pairs[i][1]) for i in range(len(neg_eig_pairs))))\n",
    ")\n"
   ]
  },
  {
   "cell_type": "code",
   "execution_count": 117,
   "metadata": {},
   "outputs": [
    {
     "data": {
      "text/plain": [
       "(0.651 + 0.291 𝐞₁₂ + 0.427 𝐞₁₃ + 0.169 𝐞₁₄ + -0.0716 𝐞₂₃ + -0.0656 𝐞₂₄ + -0.485 𝐞₃₄ + -0.192 𝐞₁₂₃₄,\n",
       " 0.651 + 0.291 𝐞₁₂ + 0.427 𝐞₁₃ + 0.169 𝐞₁₄ + -0.0716 𝐞₂₃ + -0.0656 𝐞₂₄ + -0.485 𝐞₃₄ + -0.192 𝐞₁₂₃₄)"
      ]
     },
     "execution_count": 117,
     "metadata": {},
     "output_type": "execute_result"
    }
   ],
   "source": [
    "#5.28\n",
    "blade_exp(F1) * blade_exp(F2), blade_exp(F2) * blade_exp(F1), "
   ]
  },
  {
   "cell_type": "code",
   "execution_count": 118,
   "metadata": {},
   "outputs": [
    {
     "data": {
      "text/plain": [
       "(0.966 + 0.16 𝐞₁₂ + -0.0661 𝐞₁₃ + 0.0117 𝐞₁₄ + -0.0586 𝐞₂₃ + 0.172 𝐞₂₄ + -0.0665 𝐞₃₄,\n",
       " 0.966 + 0.16 𝐞₁₂ + -0.0661 𝐞₁₃ + 0.0117 𝐞₁₄ + -0.0586 𝐞₂₃ + 0.172 𝐞₂₄ + -0.0665 𝐞₃₄)"
      ]
     },
     "execution_count": 118,
     "metadata": {},
     "output_type": "execute_result"
    }
   ],
   "source": [
    "#5.29\n",
    "blade_exp_ = blade_exp(F1)\n",
    "u1 = P(e1, F1).normalized()\n",
    "u2 = u1 | blade_exp_\n",
    "blade_exp_, u1 * u2"
   ]
  },
  {
   "cell_type": "code",
   "execution_count": 119,
   "metadata": {},
   "outputs": [
    {
     "data": {
      "text/plain": [
       "(0.975 𝐞₁ + 0.632 𝐞₂ + 0.702 𝐞₃ + 0.49 𝐞₄,\n",
       " 0.975 𝐞₁ + 0.632 𝐞₂ + 0.702 𝐞₃ + 0.49 𝐞₄)"
      ]
     },
     "execution_count": 119,
     "metadata": {},
     "output_type": "execute_result"
    }
   ],
   "source": [
    "# reflection as sandwich product\n",
    "x - 2 * P(x, neg_eig_pairs[0][1]), -neg_eig_pairs[0][1].sw(x)"
   ]
  },
  {
   "cell_type": "code",
   "execution_count": 120,
   "metadata": {},
   "outputs": [
    {
     "data": {
      "text/plain": [
       "(0.436 𝐞₁ + -0.622 𝐞₂ + 0.894 𝐞₃ + 0.84 𝐞₄ + 3.96e-17 𝐞₁₂₃ + -4.26e-17 𝐞₁₂₄ + -6.85e-18 𝐞₁₃₄ + 1.11e-16 𝐞₂₃₄,\n",
       " 0.436 𝐞₁ + -0.622 𝐞₂ + 0.894 𝐞₃ + 0.84 𝐞₄,\n",
       " 0.436 𝐞₁ + -0.622 𝐞₂ + 0.894 𝐞₃ + 0.84 𝐞₄)"
      ]
     },
     "execution_count": 120,
     "metadata": {},
     "output_type": "execute_result"
    }
   ],
   "source": [
    "#5.30\n",
    "theta2 = theta * neg_eig_pairs[0][1]\n",
    "ortho(x), -neg_eig_pairs[0][1].sw(theta.reverse().sw(x)), -theta2.reverse().sw(x)"
   ]
  },
  {
   "cell_type": "code",
   "execution_count": 121,
   "metadata": {},
   "outputs": [
    {
     "data": {
      "text/plain": [
       "(-0.557 𝐞₁₂₃ + -0.181 𝐞₁₂₄ + -0.707 𝐞₁₃₄ + -0.396 𝐞₂₃₄,\n",
       " -0.557 𝐞₁₂₃ + -0.181 𝐞₁₂₄ + -0.707 𝐞₁₃₄ + -0.396 𝐞₂₃₄)"
      ]
     },
     "execution_count": 121,
     "metadata": {},
     "output_type": "execute_result"
    }
   ],
   "source": [
    "#5.37a\n",
    "outermorphism(ortho, A3, alg), (-1)**(3*1)*theta2.reverse().sw(A3)"
   ]
  },
  {
   "cell_type": "code",
   "execution_count": 122,
   "metadata": {},
   "outputs": [
    {
     "data": {
      "text/plain": [
       "(0.535 𝐞₁₂ + -0.191 𝐞₁₃ + 0.266 𝐞₁₄ + -0.362 𝐞₂₃ + 0.407 𝐞₂₄ + 0.034 𝐞₃₄,\n",
       " 0.535 𝐞₁₂ + -0.191 𝐞₁₃ + 0.266 𝐞₁₄ + -0.362 𝐞₂₃ + 0.407 𝐞₂₄ + 0.034 𝐞₃₄)"
      ]
     },
     "execution_count": 122,
     "metadata": {},
     "output_type": "execute_result"
    }
   ],
   "source": [
    "#5.37b\n",
    "adjoint_outermorphism(ortho, F2, alg), (-1)**(2*1)*theta2.sw(F2)"
   ]
  },
  {
   "cell_type": "code",
   "execution_count": 123,
   "metadata": {},
   "outputs": [
    {
     "data": {
      "text/plain": [
       "(0.314 𝐞₁ + 0.00641 𝐞₂ + -0.147 𝐞₃ + 0.167 𝐞₄ + 0.521 𝐞₁₂₃ + -0.244 𝐞₁₂₄ + -0.434 𝐞₁₃₄ + 0.154 𝐞₂₃₄,\n",
       " 0.314 𝐞₁ + 0.00641 𝐞₂ + -0.147 𝐞₃ + 0.167 𝐞₄ + 0.521 𝐞₁₂₃ + -0.244 𝐞₁₂₄ + -0.434 𝐞₁₃₄ + 0.154 𝐞₂₃₄)"
      ]
     },
     "execution_count": 123,
     "metadata": {},
     "output_type": "execute_result"
    }
   ],
   "source": [
    "#5.38\n",
    "outermorphism(ortho, A3 * F2, alg), outermorphism(ortho, A3, alg) * outermorphism(ortho, F2, alg)"
   ]
  },
  {
   "cell_type": "code",
   "execution_count": 124,
   "metadata": {},
   "outputs": [
    {
     "data": {
      "text/plain": [
       "-2.97 + 3.47e-18 𝐞₁₂ + 1.39e-17 𝐞₁₅ + -1.3e-18 𝐞₂₃ + -3.47e-18 𝐞₂₄ + -0.13 𝐞₁₂₃₄ + -0.615 𝐞₁₂₃₅ + -0.423 𝐞₁₂₄₅ + 0.693 𝐞₁₃₄₅ + -0.00971 𝐞₂₃₄₅"
      ]
     },
     "execution_count": 124,
     "metadata": {},
     "output_type": "execute_result"
    }
   ],
   "source": [
    "#5.39\n",
    "from scipy.stats import ortho_group\n",
    "matrix = ortho_group.rvs(dim=5)\n",
    "alg = Algebra(5)\n",
    "ortho = matrix2trans(matrix, alg)\n",
    "x = random_r_vectors(1, alg)[0]\n",
    "ortho_curl = curl(ortho, x, alg, grade=1)\n",
    "ortho_curl ** 2"
   ]
  },
  {
   "cell_type": "code",
   "execution_count": 125,
   "metadata": {},
   "outputs": [
    {
     "data": {
      "text/plain": [
       "(0.337 𝐞₁ + 0.633 𝐞₂ + 0.932 𝐞₃ + 0.974 𝐞₄ + 0.43 𝐞₅,\n",
       " 0.337 𝐞₁ + 0.633 𝐞₂ + 0.932 𝐞₃ + 0.974 𝐞₄ + 0.43 𝐞₅)"
      ]
     },
     "execution_count": 125,
     "metadata": {},
     "output_type": "execute_result"
    }
   ],
   "source": [
    "# check orthogonality\n",
    "x, ortho(adjoint_outermorphism(ortho, x, alg, h=1e-2))"
   ]
  },
  {
   "cell_type": "code",
   "execution_count": 126,
   "metadata": {},
   "outputs": [],
   "source": [
    "# only a single vector left in the dual of skew blades, \n",
    "# so it's the remaining eigenvector for the symmetric part\n",
    "# with eigenvalue 1 or -1: identity or a reflection\n",
    "\n",
    "skew_blades = bivector_split(ortho_curl/2, alg)\n",
    "sym_vec = reduce(alg.ip, skew_blades, alg.pseudoscalar((1,)))\n",
    "sym_vec = sym_vec / norm(sym_vec)\n",
    "p = 0\n",
    "if max_diff(ortho(sym_vec), -sym_vec) < 1e-6:\n",
    "    p += 1"
   ]
  },
  {
   "cell_type": "code",
   "execution_count": 127,
   "metadata": {},
   "outputs": [
    {
     "data": {
      "text/plain": [
       "(0.114 𝐞₁ + -0.287 𝐞₂ + 0.0868 𝐞₃ + -0.991 𝐞₄ + -1.2 𝐞₅ + 4.86e-16 𝐞₁₂₃₄₅,\n",
       " 0.114 𝐞₁ + -0.287 𝐞₂ + 0.0868 𝐞₃ + -0.991 𝐞₄ + -1.2 𝐞₅)"
      ]
     },
     "execution_count": 127,
     "metadata": {},
     "output_type": "execute_result"
    }
   ],
   "source": [
    "rotors = []\n",
    "for blade in skew_blades:\n",
    "    t = P(sum(alg.frame), blade)\n",
    "    # blade_norm = norm(blade)\n",
    "    # we can't simply rely on ortho_m:\n",
    "    # angle = np.arcsin(blade_norm) has no unique solution in [0, pi].\n",
    "    # (pi - angle) generates the same sine, but differnt cosine (alpha).\n",
    "    \n",
    "    alpha = np.median(terms_ratio(ortho(t) - (t | ortho_curl)/2, t))\n",
    "    # half_blade_ortho = (angle/blade_norm/2) * blade.reverse()\n",
    "    # rotors.append(blade_exp(half_blade_ortho))\n",
    "    rotors.append(simple_rotor_sqrt(alpha + blade))\n",
    "rotor = reduce(alg.gp, rotors)\n",
    "if p == 1:\n",
    "    rotor2 = sym_vec * rotor\n",
    "else:\n",
    "    rotor2 = rotor\n",
    "(-1) ** p * rotor2.reverse().sw(x), ortho(x)"
   ]
  },
  {
   "cell_type": "code",
   "execution_count": 128,
   "metadata": {},
   "outputs": [
    {
     "data": {
      "text/plain": [
       "array([0.94191318, 0.94191318, 0.94191318, 0.94191318, 0.94191318,\n",
       "       0.94191317, 0.94191317, 0.94191317, 0.94191317, 0.94191317,\n",
       "       0.94191317, 0.94191318, 0.94191318, 0.94191318, 0.94191318,\n",
       "       0.94191317])"
      ]
     },
     "execution_count": 128,
     "metadata": {},
     "output_type": "execute_result"
    }
   ],
   "source": [
    "# On the other hand, we can solve the rotor part by Lasenby's method\n",
    "frame = [item for blade in skew_blades for item in blade_split(blade, alg)]\n",
    "r_frame = reciprocal(frame)\n",
    "lasenby_rotor = sum(char_multi_linear(ortho, s, alg, frame, r_frame) for s in range(5))\n",
    "terms_ratio(rotor, lasenby_rotor)"
   ]
  },
  {
   "cell_type": "code",
   "execution_count": 129,
   "metadata": {},
   "outputs": [
    {
     "data": {
      "text/plain": [
       "(0.114 𝐞₁ + -0.287 𝐞₂ + 0.0868 𝐞₃ + -0.991 𝐞₄ + -1.2 𝐞₅ + 8.33e-17 𝐞₁₂₃₄₅,\n",
       " 0.114 𝐞₁ + -0.287 𝐞₂ + 0.0868 𝐞₃ + -0.991 𝐞₄ + -1.2 𝐞₅)"
      ]
     },
     "execution_count": 129,
     "metadata": {},
     "output_type": "execute_result"
    }
   ],
   "source": [
    "# For orthogonal transform, we simply normalize it\n",
    "l_rotor = lasenby_rotor/norm(lasenby_rotor)\n",
    "if p == 1:\n",
    "    l_rotor2 = l_rotor * sym_vec\n",
    "else:\n",
    "    l_rotor2 = l_rotor\n",
    "(-1) ** p * l_rotor2.reverse().sw(x), ortho(x)"
   ]
  },
  {
   "cell_type": "code",
   "execution_count": 130,
   "metadata": {},
   "outputs": [
    {
     "data": {
      "text/plain": [
       "(array([-0., -0., -0.,  0., -0.]),\n",
       " array([0.48335845, 0.48335845, 0.48335845, 0.48335845, 0.48335845]))"
      ]
     },
     "execution_count": 130,
     "metadata": {},
     "output_type": "execute_result"
    }
   ],
   "source": [
    "# Because sym_vec is orthogonal to rotor, we can extract sym_vec from l_rotor:\n",
    "terms_ratio(l_rotor2.grade(1), sym_vec), terms_ratio(l_rotor | alg.pseudoscalar((1,)), sym_vec)"
   ]
  },
  {
   "cell_type": "code",
   "execution_count": 131,
   "metadata": {},
   "outputs": [],
   "source": [
    "# From Graded Symmetry Groups: Plane and Simple\n",
    "def tangent_split(R, alg: Algebra):  \n",
    "    m = alg.d // 2\n",
    "    if m <= 1:\n",
    "        return F\n",
    "    Ck = [R.grade(2*r) for r in range(m+1)]\n",
    "    Ck2 = [(-1)**(m - i) * alg.sp(Ck[i], Ck[i])[0] for i in range(m+1)]\n",
    "    Lk = np.roots(Ck2)\n",
    "    tangents = []\n",
    "    for l in Lk:\n",
    "        even = sum(l ** r * c for r, c in enumerate(Ck[-1::-2]))\n",
    "        odd = sum(l ** r * c for r, c in enumerate(Ck[-2::-2]))\n",
    "        tangents.append(even / odd) # FIXME: the inverse\n",
    "    return tangents\n",
    "\n",
    "# tangents = tangent_split(l_rotor, alg)\n",
    "# rotors2 = []\n",
    "# for t in tangents:\n",
    "#     r = 1+t\n",
    "#     rotors2.append(r/norm(r))\n",
    "# rotors2, rotors "
   ]
  },
  {
   "cell_type": "code",
   "execution_count": null,
   "metadata": {},
   "outputs": [],
   "source": []
  }
 ],
 "metadata": {
  "kernelspec": {
   "display_name": "Python 3",
   "language": "python",
   "name": "python3"
  },
  "language_info": {
   "codemirror_mode": {
    "name": "ipython",
    "version": 3
   },
   "file_extension": ".py",
   "mimetype": "text/x-python",
   "name": "python",
   "nbconvert_exporter": "python",
   "pygments_lexer": "ipython3",
   "version": "3.10.5"
  }
 },
 "nbformat": 4,
 "nbformat_minor": 2
}
