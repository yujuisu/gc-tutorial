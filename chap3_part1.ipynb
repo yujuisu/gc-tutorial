{
 "cells": [
  {
   "cell_type": "markdown",
   "metadata": {},
   "source": [
    "### Linear and Multilinear Functions"
   ]
  },
  {
   "cell_type": "code",
   "execution_count": 1,
   "metadata": {},
   "outputs": [],
   "source": [
    "from kingdon import Algebra\n",
    "from gc_utils import *\n",
    "import numpy as np\n",
    "# use vanilla algebra, so we're not bother by the sign of I*I.reverse()\n",
    "alg = Algebra(4) \n",
    "locals().update(alg.blades)"
   ]
  },
  {
   "cell_type": "code",
   "execution_count": 2,
   "metadata": {},
   "outputs": [
    {
     "data": {
      "text/plain": [
       "(0.929 𝐞₁ + 0.148 𝐞₂ + 0.211 𝐞₃ + 1.45 𝐞₄,\n",
       " 0.929 𝐞₁ + 0.148 𝐞₂ + 0.211 𝐞₃ + 1.45 𝐞₄)"
      ]
     },
     "execution_count": 2,
     "metadata": {},
     "output_type": "execute_result"
    }
   ],
   "source": [
    "#1.1 linear transformation\n",
    "A = create_random_multivector(alg)\n",
    "B = create_random_multivector(alg)\n",
    "C = create_random_multivector(alg)\n",
    "D = create_random_multivector(alg)\n",
    "x = create_random_multivector(alg).grade(1)\n",
    "a = create_random_multivector(alg).grade(1)\n",
    "f = lambda x: (A*x*B+C*x*D).grade(1)\n",
    "differential(f, x, a), f(a)"
   ]
  },
  {
   "cell_type": "code",
   "execution_count": 3,
   "metadata": {},
   "outputs": [
    {
     "data": {
      "text/plain": [
       "(-5.03 𝐞₁ + 1.38 𝐞₂ + 1.43 𝐞₃ + -0.483 𝐞₄,\n",
       " -5.03 𝐞₁ + 1.38 𝐞₂ + 1.43 𝐞₃ + -0.483 𝐞₄)"
      ]
     },
     "execution_count": 3,
     "metadata": {},
     "output_type": "execute_result"
    }
   ],
   "source": [
    "#1.2\n",
    "g = lambda x: (C*x*D).grade(1)\n",
    "g(f(a)), differential(g, f(a), f(a))"
   ]
  },
  {
   "cell_type": "code",
   "execution_count": 4,
   "metadata": {},
   "outputs": [],
   "source": [
    "# modify the input of the original skew_symmetrizer: a multivector Ar instead of vectors\n",
    "def skew_symmetrizer(F, Ar, alg, h=1e-6, frame=None, r_frame=None):\n",
    "    if not frame:\n",
    "        frame = alg.frame\n",
    "        r_frame = reciprocal(alg.frame)\n",
    "    drF = 0\n",
    "    r = Ar.grades[0]\n",
    "    for base_vectors, reci_vectors in zip(permutations(frame, r), permutations(r_frame, r)):\n",
    "        # if F is linear, vectors cause no difference in vectors_partial. The input is just Ar.\n",
    "        # So actually we allow Ar being any multivector\n",
    "        drF += (Ar.sp(wedge(base_vectors[::-1]))) * vectors_partial(F, np.zeros(r), reci_vectors, h=h)\n",
    "    return (1/factorial(r)) * drF"
   ]
  },
  {
   "cell_type": "code",
   "execution_count": 5,
   "metadata": {},
   "outputs": [
    {
     "data": {
      "text/plain": [
       "(-1.64 𝐞₁ + 1.33 𝐞₂ + 1.92 𝐞₃ + 0.524 𝐞₄,\n",
       " -1.64 𝐞₁ + 1.33 𝐞₂ + 1.92 𝐞₃ + 0.524 𝐞₄)"
      ]
     },
     "execution_count": 5,
     "metadata": {},
     "output_type": "execute_result"
    }
   ],
   "source": [
    "#1.4 Extend a vector function to a multivector function.\n",
    "# For linear f we ignore the position where f is measured, \n",
    "# just the differential at each direction.\n",
    "def outermorphism(f, A: MultiVector, alg, h=1e-6, frame=None, r_frame=None):\n",
    "    wf = lambda vectors: wedge([f(v) for v in vectors])\n",
    "    outer = 0\n",
    "    for r in A.grades:\n",
    "        if r == 0:\n",
    "           outer += A.grade(0)\n",
    "           continue\n",
    "        outer += skew_symmetrizer(wf, A.grade(r), alg, h, frame, r_frame)\n",
    "    return outer\n",
    "\n",
    "outermorphism(f, x, alg), f(x)"
   ]
  },
  {
   "cell_type": "code",
   "execution_count": 6,
   "metadata": {},
   "outputs": [
    {
     "data": {
      "text/plain": [
       "(0.0862 + -0.795 𝐞₁ + -1.23 𝐞₂ + 3.6 𝐞₃ + 1.7 𝐞₄ + 0.929 𝐞₁₂ + -1.49 𝐞₁₃ + -0.852 𝐞₁₄ + 1.91 𝐞₂₃ + 0.667 𝐞₂₄ + 0.681 𝐞₃₄,\n",
       " 0.0862 + -0.795 𝐞₁ + -1.23 𝐞₂ + 3.6 𝐞₃ + 1.7 𝐞₄ + 0.929 𝐞₁₂ + -1.49 𝐞₁₃ + -0.852 𝐞₁₄ + 1.91 𝐞₂₃ + 0.667 𝐞₂₄ + 0.681 𝐞₃₄)"
      ]
     },
     "execution_count": 6,
     "metadata": {},
     "output_type": "execute_result"
    }
   ],
   "source": [
    "#1.6 A frame can be arbitrary as long as it represent the same space. \n",
    "# It's pretty handy to specify a domain.\n",
    "h = 1e-2\n",
    "A2 = e12\n",
    "A2frame = [e1, e2]\n",
    "A2r_frame = reciprocal(A2frame)\n",
    "\n",
    "outermorphism(f, P(A, A2), alg, h, frame=A2frame, r_frame=A2r_frame), outermorphism(f, A, alg, h, frame=A2frame, r_frame=A2r_frame)"
   ]
  },
  {
   "cell_type": "code",
   "execution_count": 7,
   "metadata": {},
   "outputs": [
    {
     "data": {
      "text/plain": [
       "(-4.41 𝐞₁₂₃ + -4.19 𝐞₁₂₄ + 2.83 𝐞₁₃₄ + -5.88 𝐞₂₃₄,\n",
       " -4.41 𝐞₁₂₃ + -4.19 𝐞₁₂₄ + 2.83 𝐞₁₃₄ + -5.88 𝐞₂₃₄)"
      ]
     },
     "execution_count": 7,
     "metadata": {},
     "output_type": "execute_result"
    }
   ],
   "source": [
    "#1.7 An outermorphism preserves outer products\n",
    "vectors = create_r_vectors(3, alg)\n",
    "outermorphism(f, wedge(vectors), alg), wedge([f(v) for v in vectors])"
   ]
  },
  {
   "cell_type": "code",
   "execution_count": 8,
   "metadata": {},
   "outputs": [
    {
     "data": {
      "text/plain": [
       "(0.0665 + -1.55 𝐞₁ + 0.817 𝐞₂ + 2.31 𝐞₃ + 0.723 𝐞₄ + 6.75 𝐞₁₂ + -7.03 𝐞₁₃ + -2.64 𝐞₁₄ + 6.72 𝐞₂₃ + -2.29 𝐞₂₄ + 4.66 𝐞₃₄ + 21.4 𝐞₁₂₃ + 21.4 𝐞₁₂₄ + -13.0 𝐞₁₃₄ + 28.0 𝐞₂₃₄ + -2.63 𝐞₁₂₃₄,\n",
       " 0.0665 + -1.55 𝐞₁ + 0.817 𝐞₂ + 2.31 𝐞₃ + 0.723 𝐞₄ + 6.75 𝐞₁₂ + -7.03 𝐞₁₃ + -2.64 𝐞₁₄ + 6.72 𝐞₂₃ + -2.29 𝐞₂₄ + 4.66 𝐞₃₄ + 21.4 𝐞₁₂₃ + 21.4 𝐞₁₂₄ + -13.0 𝐞₁₃₄ + 28.0 𝐞₂₃₄ + -2.63 𝐞₁₂₃₄)"
      ]
     },
     "execution_count": 8,
     "metadata": {},
     "output_type": "execute_result"
    }
   ],
   "source": [
    "# By 1.7, splitting A into simple blades, we get an easier implement of 1.4\n",
    "# Here, the value at v replaces the slope at direction v by linearity\n",
    "def outermorphism_(f, A: MultiVector, alg):\n",
    "    outer = A.grade(0)\n",
    "    for vectors in multi_frame_vectors(alg.frame):\n",
    "        Vr = wedge(reciprocal(vectors)[::-1])\n",
    "        outer += alg.sp(Vr,A) * wedge([f(v) for v in vectors]) # frame split of A\n",
    "    return outer\n",
    "\n",
    "outermorphism_(f, D, alg), outermorphism(f, D, alg)"
   ]
  },
  {
   "cell_type": "code",
   "execution_count": 9,
   "metadata": {},
   "outputs": [
    {
     "data": {
      "text/plain": [
       "(0.0862 + 1.43 𝐞₁ + -0.834 𝐞₂ + 1.87 𝐞₃ + 3.19 𝐞₄ + -1.0 𝐞₁₂ + 0.775 𝐞₁₃ + 0.264 𝐞₁₄ + -0.21 𝐞₂₃ + 1.1 𝐞₂₄ + -0.767 𝐞₃₄ + -12.4 𝐞₁₂₃ + -10.5 𝐞₁₂₄ + 5.41 𝐞₁₃₄ + -14.2 𝐞₂₃₄ + -0.854 𝐞₁₂₃₄,\n",
       " 0.0862 + 1.43 𝐞₁ + -0.834 𝐞₂ + 1.87 𝐞₃ + 3.19 𝐞₄ + -1.0 𝐞₁₂ + 0.775 𝐞₁₃ + 0.264 𝐞₁₄ + -0.21 𝐞₂₃ + 1.1 𝐞₂₄ + -0.767 𝐞₃₄ + -12.4 𝐞₁₂₃ + -10.5 𝐞₁₂₄ + 5.41 𝐞₁₃₄ + -14.2 𝐞₂₃₄ + -0.854 𝐞₁₂₃₄)"
      ]
     },
     "execution_count": 9,
     "metadata": {},
     "output_type": "execute_result"
    }
   ],
   "source": [
    "#1.9 anoter outer product property\n",
    "outermorphism(f, A.reverse(), alg), outermorphism(f, A, alg).reverse()"
   ]
  },
  {
   "cell_type": "code",
   "execution_count": 10,
   "metadata": {},
   "outputs": [
    {
     "data": {
      "text/plain": [
       "(0.0862 + 1.43 𝐞₁ + -0.834 𝐞₂ + 1.0 𝐞₁₂,\n",
       " 0.0862 + 1.43 𝐞₁ + -0.834 𝐞₂ + 1.0 𝐞₁₂)"
      ]
     },
     "execution_count": 10,
     "metadata": {},
     "output_type": "execute_result"
    }
   ],
   "source": [
    "#1.10\n",
    "fA2 = lambda x: P(f(x), A2)\n",
    "outermorphism(fA2, A, alg), P(outermorphism(fA2, A, alg), A2)"
   ]
  },
  {
   "cell_type": "code",
   "execution_count": 11,
   "metadata": {},
   "outputs": [],
   "source": [
    "#1.11\n",
    "def adjoint_outermorphism(f, A, alg, h=1e-6, frame=None, r_frame=None):\n",
    "    F = lambda vectors: wedge([f(v) for v in vectors]).sp(A)\n",
    "    outer = 0\n",
    "    for r in A.grades:\n",
    "        if r == 0:\n",
    "           outer += A.grade(0)\n",
    "           continue\n",
    "        # Why np.zeros(r)? The derivative of a linear function is constant\n",
    "        outer += simplicial_derivative(F, np.zeros(r), alg, h, frame, r_frame)\n",
    "    return outer"
   ]
  },
  {
   "cell_type": "code",
   "execution_count": 12,
   "metadata": {},
   "outputs": [
    {
     "data": {
      "text/plain": [
       "(0.0862 + 0.341 𝐞₁ + -1.82 𝐞₂ + 1.46 𝐞₃ + -0.194 𝐞₄ + 0.929 𝐞₁₂ + -0.962 𝐞₁₃ + 0.333 𝐞₁₄ + 1.15 𝐞₂₃ + -1.24 𝐞₂₄ + 0.875 𝐞₃₄,\n",
       " 0.0862 + 0.341 𝐞₁ + -1.82 𝐞₂ + 1.46 𝐞₃ + -0.194 𝐞₄ + 0.929 𝐞₁₂ + -0.962 𝐞₁₃ + 0.333 𝐞₁₄ + 1.15 𝐞₂₃ + -1.24 𝐞₂₄ + 0.875 𝐞₃₄)"
      ]
     },
     "execution_count": 12,
     "metadata": {},
     "output_type": "execute_result"
    }
   ],
   "source": [
    "#1.12\n",
    "adjoint_outermorphism(fA2, P(A, A2), alg), adjoint_outermorphism(fA2, A, alg)"
   ]
  },
  {
   "cell_type": "code",
   "execution_count": 13,
   "metadata": {},
   "outputs": [
    {
     "data": {
      "text/plain": [
       "(0.0506 + 1.34 𝐞₁ + 0.73 𝐞₂ + 0.0458 𝐞₃ + 0.0784 𝐞₄ + 3.77 𝐞₁₂ + 4.48 𝐞₁₃ + -5.86 𝐞₁₄ + 3.63 𝐞₂₃ + -4.55 𝐞₂₄ + 0.184 𝐞₃₄ + 55.2 𝐞₁₂₃ + -45.9 𝐞₁₂₄ + 27.2 𝐞₁₃₄ + 18.8 𝐞₂₃₄ + -7.53 𝐞₁₂₃₄,\n",
       " 0.0506 + 1.34 𝐞₁ + 0.73 𝐞₂ + 0.0458 𝐞₃ + 0.0784 𝐞₄ + 3.77 𝐞₁₂ + 4.48 𝐞₁₃ + -5.86 𝐞₁₄ + 3.63 𝐞₂₃ + -4.55 𝐞₂₄ + 0.184 𝐞₃₄ + 55.2 𝐞₁₂₃ + -45.9 𝐞₁₂₄ + 27.2 𝐞₁₃₄ + 18.8 𝐞₂₃₄ + -7.53 𝐞₁₂₃₄)"
      ]
     },
     "execution_count": 13,
     "metadata": {},
     "output_type": "execute_result"
    }
   ],
   "source": [
    "#1.13\n",
    "# Exercise: implement the adjoint outermorphism by spliting A into vectors.\n",
    "adjoint_outermorphism(f, A^B, alg), adjoint_outermorphism(f, A, alg) ^ adjoint_outermorphism(f, B, alg)"
   ]
  },
  {
   "cell_type": "code",
   "execution_count": 14,
   "metadata": {},
   "outputs": [
    {
     "data": {
      "text/plain": [
       "(-3.51 𝐞₁ + -1.76 𝐞₂ + 1.33 𝐞₃ + -1.37 𝐞₄,\n",
       " 0.496 𝐞₁ + -0.566 𝐞₂ + -0.625 𝐞₃ + -0.558 𝐞₄,\n",
       " -3.51 𝐞₁ + -1.76 𝐞₂ + 1.33 𝐞₃ + -1.37 𝐞₄)"
      ]
     },
     "execution_count": 14,
     "metadata": {},
     "output_type": "execute_result"
    }
   ],
   "source": [
    "#1.14a r <= s\n",
    "r, s = 2, 3\n",
    "Ar = A.grade(r)\n",
    "Bs = B.grade(s)\n",
    "(\n",
    "    Ar | adjoint_outermorphism(f, Bs, alg),\n",
    "    outermorphism(f, Ar, alg) | Bs,\n",
    "    adjoint_outermorphism(f, outermorphism(f, Ar, alg) | Bs, alg),\n",
    ")"
   ]
  },
  {
   "cell_type": "code",
   "execution_count": 15,
   "metadata": {},
   "outputs": [
    {
     "data": {
      "text/plain": [
       "(-8.23 𝐞₁ + 2.66 𝐞₂ + -8.11 𝐞₃ + -15.1 𝐞₄,\n",
       " 1.03 𝐞₁ + -8.61 𝐞₂ + -13.2 𝐞₃ + -10.2 𝐞₄,\n",
       " -8.23 𝐞₁ + 2.66 𝐞₂ + -8.11 𝐞₃ + -15.1 𝐞₄)"
      ]
     },
     "execution_count": 15,
     "metadata": {},
     "output_type": "execute_result"
    }
   ],
   "source": [
    "#1.14b r >= s\n",
    "r, s = 3, 2\n",
    "Ar = A.grade(r)\n",
    "Bs = B.grade(s)\n",
    "(\n",
    "    outermorphism(f, Ar | adjoint_outermorphism(f, Bs, alg), alg),\n",
    "    Ar | adjoint_outermorphism(f, Bs, alg),\n",
    "    outermorphism(f, Ar, alg) | Bs,\n",
    ")"
   ]
  },
  {
   "cell_type": "code",
   "execution_count": 16,
   "metadata": {},
   "outputs": [
    {
     "name": "stdout",
     "output_type": "stream",
     "text": [
      "3.15 3.15\n",
      "-0.608 -0.608\n",
      "-12.8 -12.8\n"
     ]
    }
   ],
   "source": [
    "#1.15 r = s\n",
    "for r,s in [(1,1), (2,2), (3,3)]:\n",
    "    Ar = A.grade(r)\n",
    "    Bs = B.grade(s)\n",
    "    print(\n",
    "        Ar | adjoint_outermorphism(f, Bs, alg),\n",
    "        outermorphism(f, Ar, alg) | Bs,\n",
    "    )"
   ]
  },
  {
   "cell_type": "code",
   "execution_count": 17,
   "metadata": {},
   "outputs": [
    {
     "data": {
      "text/plain": [
       "(-3.51 𝐞₁ + -1.76 𝐞₂ + 1.33 𝐞₃ + -1.37 𝐞₄,\n",
       " -3.51 𝐞₁ + -1.76 𝐞₂ + 1.33 𝐞₃ + -1.37 𝐞₄)"
      ]
     },
     "execution_count": 17,
     "metadata": {},
     "output_type": "execute_result"
    }
   ],
   "source": [
    "# proof of 1.14a\n",
    "r, s = 2, 3\n",
    "Ar = A.grade(r)\n",
    "Bs = B.grade(s)\n",
    "frame = alg.frame\n",
    "r_frame = reciprocal(alg.frame)\n",
    "rhs = 0\n",
    "r = Ar.grades[0]\n",
    "F = lambda vectors: wedge([f(v) for v in vectors]) \n",
    "for base_vectors, reci_vectors in zip(permutations(frame, s), permutations(r_frame, s)):\n",
    "    rhs += (Ar | (wedge(base_vectors[::-1]))) * (vectors_partial(F, np.zeros(s), reci_vectors, h=h) | Bs)\n",
    "(\n",
    "    Ar | adjoint_outermorphism(f, Bs, alg),\n",
    "    rhs / factorial(s)\n",
    ")"
   ]
  },
  {
   "cell_type": "code",
   "execution_count": 18,
   "metadata": {},
   "outputs": [
    {
     "data": {
      "text/plain": [
       "(, -4.26 𝐞₁₂₃₄, -4.26 𝐞₁₂₃₄)"
      ]
     },
     "execution_count": 18,
     "metadata": {},
     "output_type": "execute_result"
    }
   ],
   "source": [
    "# singular, nonsingular functions\n",
    "I = alg.pseudoscalar((1,))\n",
    "# fA2 is singular\n",
    "outermorphism(fA2, I, alg), outermorphism(f, I, alg), adjoint_outermorphism(f, I, alg)"
   ]
  },
  {
   "cell_type": "code",
   "execution_count": 19,
   "metadata": {},
   "outputs": [
    {
     "data": {
      "text/plain": [
       "(-4.26, -4.26, -4.26)"
      ]
     },
     "execution_count": 19,
     "metadata": {},
     "output_type": "execute_result"
    }
   ],
   "source": [
    "#1.16 Use inverse instead of reverse for negative signatures. case I = Ip\n",
    "n = 4\n",
    "Ir = I.inv()\n",
    "F = lambda vectors: wedge([f(v) for v in vectors])\n",
    "(\n",
    "    simplicial_derivative(F, alg.frame, alg, h=1e-2), \n",
    "    Ir * outermorphism(f, I, alg), \n",
    "    adjoint_outermorphism(f, I, alg) * Ir\n",
    ")"
   ]
  },
  {
   "cell_type": "code",
   "execution_count": 20,
   "metadata": {},
   "outputs": [
    {
     "data": {
      "text/plain": [
       "(-2.29 𝐞₁₃, -2.29 𝐞₁₃, -2.29 𝐞₁₃)"
      ]
     },
     "execution_count": 20,
     "metadata": {},
     "output_type": "execute_result"
    }
   ],
   "source": [
    "#1.16 case I != Ip\n",
    "n = 2\n",
    "I = e12\n",
    "Ip = e23\n",
    "Ir = I.inv()\n",
    "Ipr = Ip.inv()\n",
    "h = 1e-2\n",
    "# a function from I to Ip\n",
    "g = lambda x: P((A*P(x, I)*B).grade(1), Ip)\n",
    "F = lambda vectors: wedge([g(v) for v in vectors])\n",
    "(\n",
    "    simplicial_derivative(F, alg.frame[:2], alg, h),\n",
    "    Ir * outermorphism(g, I, alg, h),\n",
    "    adjoint_outermorphism(g, Ip, alg, h) * Ipr\n",
    ")"
   ]
  },
  {
   "cell_type": "code",
   "execution_count": 21,
   "metadata": {},
   "outputs": [
    {
     "data": {
      "text/plain": [
       "(2.29 𝐞₂₃, 1 𝐞₂₃)"
      ]
     },
     "execution_count": 21,
     "metadata": {},
     "output_type": "execute_result"
    }
   ],
   "source": [
    "#1.17a\n",
    "outermorphism(g, I, alg, h), Ip"
   ]
  },
  {
   "cell_type": "code",
   "execution_count": 22,
   "metadata": {},
   "outputs": [
    {
     "data": {
      "text/plain": [
       "(2.29 𝐞₁₂, 1 𝐞₁₂)"
      ]
     },
     "execution_count": 22,
     "metadata": {},
     "output_type": "execute_result"
    }
   ],
   "source": [
    "#1.17b Need extra minus sign for negative signature. You can try Algebra(3,1).\n",
    "adjoint_outermorphism(g, Ip, alg, h), I"
   ]
  },
  {
   "cell_type": "code",
   "execution_count": 23,
   "metadata": {},
   "outputs": [
    {
     "data": {
      "text/plain": [
       "2.2915279009086413"
      ]
     },
     "execution_count": 23,
     "metadata": {},
     "output_type": "execute_result"
    }
   ],
   "source": [
    "# The relative orientation between I and I' can be arbitrary.\n",
    "# Here we let the parent algebra determine the orientation.\n",
    "def det(f, I, Ip):\n",
    "    return (outermorphism(f, I, alg)/Ip)[0]\n",
    "\n",
    "det(g, I, Ip)"
   ]
  },
  {
   "cell_type": "code",
   "execution_count": 24,
   "metadata": {},
   "outputs": [
    {
     "data": {
      "text/plain": [
       "(0.183 + 0.698 𝐞₁ + 0.922 𝐞₂ + 0.406 𝐞₁₂,\n",
       " 0.183 + 0.698 𝐞₁ + 0.922 𝐞₂ + 0.521 𝐞₃ + 0.203 𝐞₄ + 0.406 𝐞₁₂ + 0.922 𝐞₁₃ + 0.163 𝐞₁₄ + 0.646 𝐞₂₃ + 0.208 𝐞₂₄ + 0.0817 𝐞₃₄ + 0.385 𝐞₁₂₃ + 0.305 𝐞₁₂₄ + 0.707 𝐞₁₃₄ + 0.637 𝐞₂₃₄ + 0.286 𝐞₁₂₃₄)"
      ]
     },
     "execution_count": 24,
     "metadata": {},
     "output_type": "execute_result"
    }
   ],
   "source": [
    "#1.21a null part goes null\n",
    "C = create_random_multivector(alg)\n",
    "C_ = outermorphism(g, C, alg)\n",
    "(1/det(g, I, Ip)) * adjoint_outermorphism(g, C_*Ip, alg) * Ir, C"
   ]
  },
  {
   "cell_type": "code",
   "execution_count": 25,
   "metadata": {},
   "outputs": [
    {
     "data": {
      "text/plain": [
       "(0.0617 + 0.37 𝐞₂ + 0.598 𝐞₃ + 0.245 𝐞₂₃,\n",
       " 0.0617 + 0.639 𝐞₁ + 0.37 𝐞₂ + 0.598 𝐞₃ + 0.664 𝐞₄ + 0.911 𝐞₁₂ + 0.301 𝐞₁₃ + 0.958 𝐞₁₄ + 0.245 𝐞₂₃ + 0.326 𝐞₂₄ + 0.127 𝐞₃₄ + 0.414 𝐞₁₂₃ + 0.992 𝐞₁₂₄ + 0.285 𝐞₁₃₄ + 0.0436 𝐞₂₃₄ + 0.231 𝐞₁₂₃₄)"
      ]
     },
     "execution_count": 25,
     "metadata": {},
     "output_type": "execute_result"
    }
   ],
   "source": [
    "#1.21b null part goes null\n",
    "C_ = create_random_multivector(alg)\n",
    "C = adjoint_outermorphism(g, C_, alg)\n",
    "(1/det(g, I, Ip)) * outermorphism(g, C*I, alg) * Ipr, C_"
   ]
  },
  {
   "cell_type": "code",
   "execution_count": 26,
   "metadata": {},
   "outputs": [
    {
     "data": {
      "text/plain": [
       "(-1.25 𝐞₁₂₃ + 0.673 𝐞₁₂₄ + -0.179 𝐞₁₃₄ + 0.038 𝐞₂₃₄,\n",
       " -1.25 𝐞₁₂₃ + 0.673 𝐞₁₂₄ + -0.179 𝐞₁₃₄ + 0.038 𝐞₂₃₄,\n",
       " 16.2 + 3.8 𝐞₁₂ + 11.8 𝐞₁₃ + -4.73 𝐞₁₄ + -5.44 𝐞₂₃ + -0.718 𝐞₂₄ + 8.26 𝐞₃₄,\n",
       " 16.2 + 3.8 𝐞₁₂ + 11.8 𝐞₁₃ + -4.73 𝐞₁₄ + -5.44 𝐞₂₃ + -0.718 𝐞₂₄ + 8.26 𝐞₃₄)"
      ]
     },
     "execution_count": 26,
     "metadata": {},
     "output_type": "execute_result"
    }
   ],
   "source": [
    "#2.1 Note that characteristic multivectors are of even grades\n",
    "r = 3  # try several r\n",
    "h = 1e-2\n",
    "vectors = create_r_vectors(r, alg)\n",
    "F = lambda vectors: wedge([f(v) for v in vectors])\n",
    "(\n",
    "    F(vectors),\n",
    "    outermorphism(f, wedge(vectors), alg, h),\n",
    "    simplicial_derivative(F, vectors, alg, h), # characteristic multivectors\n",
    "    derivative(lambda A: outermorphism(f, A, alg, h), wedge(vectors), alg, h, r),\n",
    ")\n"
   ]
  },
  {
   "cell_type": "code",
   "execution_count": 27,
   "metadata": {},
   "outputs": [
    {
     "data": {
      "text/plain": [
       "(-4.67 + 1.23 𝐞₁₂ + 0.33 𝐞₁₃ + 0.769 𝐞₁₄ + 0.602 𝐞₂₃ + -0.286 𝐞₂₄ + -2.99 𝐞₃₄,\n",
       " -4.67 + -4.72 𝐞₁ + 0.247 𝐞₂ + -0.641 𝐞₃ + 0.272 𝐞₄ + 1.62 𝐞₁₂ + 1.09 𝐞₁₃ + 3.61 𝐞₁₄ + 1.25 𝐞₂₃ + 1.77 𝐞₂₄ + 1.21 𝐞₃₄ + 0.707 𝐞₁₂₃ + 1.48 𝐞₁₂₄ + -1.33 𝐞₁₃₄ + 1.08 𝐞₂₃₄ + -1.02 𝐞₁₂₃₄)"
      ]
     },
     "execution_count": 27,
     "metadata": {},
     "output_type": "execute_result"
    }
   ],
   "source": [
    "#2.2\n",
    "frame = create_r_vectors(len(alg.signature), alg)\n",
    "r_frame = reciprocal(frame)\n",
    "images = [f(v) for v in frame]\n",
    "(\n",
    "    sum(vr * b for b, vr in zip(images, r_frame)),\n",
    "    derivative(f, x, alg)\n",
    ")"
   ]
  },
  {
   "cell_type": "code",
   "execution_count": 28,
   "metadata": {},
   "outputs": [
    {
     "data": {
      "text/plain": [
       "([0.543 𝐞₁ + 2.28 𝐞₂ + 2.04 𝐞₃ + -2.11 𝐞₄,\n",
       "  0.886 𝐞₁ + 2.24 𝐞₂ + 0.101 𝐞₃ + -1.62 𝐞₄,\n",
       "  0.825 𝐞₁ + 2.55 𝐞₂ + 1.58 𝐞₃ + -2.18 𝐞₄,\n",
       "  1.25 𝐞₁ + 1.45 𝐞₂ + 1.09 𝐞₃ + -0.696 𝐞₄],\n",
       " [0.543 𝐞₁ + 2.28 𝐞₂ + 2.04 𝐞₃ + -2.11 𝐞₄,\n",
       "  0.886 𝐞₁ + 2.24 𝐞₂ + 0.101 𝐞₃ + -1.62 𝐞₄,\n",
       "  0.825 𝐞₁ + 2.55 𝐞₂ + 1.58 𝐞₃ + -2.18 𝐞₄,\n",
       "  1.25 𝐞₁ + 1.45 𝐞₂ + 1.09 𝐞₃ + -0.696 𝐞₄])"
      ]
     },
     "execution_count": 28,
     "metadata": {},
     "output_type": "execute_result"
    }
   ],
   "source": [
    "#2.2 comes from linearity\n",
    "images, [differential(f, a, v) for v in frame]"
   ]
  },
  {
   "cell_type": "code",
   "execution_count": 29,
   "metadata": {},
   "outputs": [
    {
     "data": {
      "text/plain": [
       "(-4.67, -4.67, -4.67)"
      ]
     },
     "execution_count": 29,
     "metadata": {},
     "output_type": "execute_result"
    }
   ],
   "source": [
    "#2.3 trace\n",
    "def trace(f, alg):\n",
    "    return sum(vr.sp(f(v)) for v, vr in zip(alg.frame, reciprocal(alg.frame)))\n",
    "def divergence(f, alg):\n",
    "    return sum(vr | f(v) for v, vr in zip(alg.frame, reciprocal(alg.frame)))\n",
    "(\n",
    "    derivative(f, e1, alg).grade(0),\n",
    "    trace(f, alg),\n",
    "    divergence(f, alg)\n",
    ")"
   ]
  },
  {
   "cell_type": "code",
   "execution_count": 30,
   "metadata": {},
   "outputs": [
    {
     "data": {
      "text/plain": [
       "(2.53 + -5.84 𝐞₁₂ + -2.76 𝐞₁₃ + 0.34 𝐞₁₄ + -4.11 𝐞₂₃ + 1.94 𝐞₂₄ + 1.24 𝐞₃₄ + -3.14 𝐞₁₂₃₄,\n",
       " 2.53 + -5.84 𝐞₁₂ + -2.76 𝐞₁₃ + 0.34 𝐞₁₄ + -4.11 𝐞₂₃ + 1.94 𝐞₂₄ + 1.24 𝐞₃₄ + -3.14 𝐞₁₂₃₄)"
      ]
     },
     "execution_count": 30,
     "metadata": {},
     "output_type": "execute_result"
    }
   ],
   "source": [
    "#2.4\n",
    "r = 2\n",
    "h = 1e-2\n",
    "F = lambda vectors: wedge([f(v) for v in vectors])\n",
    "def char_multi_linear(f, r, alg: Algebra, frame=None, r_frame=None):\n",
    "    if not frame:\n",
    "        frame = alg.frame\n",
    "        r_frame = reciprocal(frame)\n",
    "    r_vec_frame = r_vector_frame_vectors(frame, r)\n",
    "    r_reci_frame = r_vector_frame_vectors(r_frame, r, reverse=True)\n",
    "    sdf = 0\n",
    "    for vectors, r_vectors in zip(r_vec_frame, r_reci_frame):\n",
    "        sdf += wedge(r_vectors[::-1]) * wedge([f(v) for v in vectors])\n",
    "    return sdf\n",
    "\n",
    "(\n",
    "    char_multi_linear(f, r, alg),\n",
    "    simplicial_derivative(F, np.zeros(r), alg, h)\n",
    ")"
   ]
  },
  {
   "cell_type": "code",
   "execution_count": 31,
   "metadata": {},
   "outputs": [
    {
     "data": {
      "text/plain": [
       "(-20.90244475689767, -20.902444756897662, -20.90244475689768)"
      ]
     },
     "execution_count": 31,
     "metadata": {},
     "output_type": "execute_result"
    }
   ],
   "source": [
    "#2.6 when full rank, only scalar remains\n",
    "def trans2matrix(f, alg):\n",
    "    values = [f(a) for a in alg.frame]\n",
    "    return np.array([[ar.sp(v)[0] for v in values] for ar in reciprocal(alg.frame)])\n",
    "matrix = trans2matrix(f, alg)\n",
    "I = alg.pseudoscalar((1,))\n",
    "char_multi_linear(f, 4, alg)[0], np.linalg.det(matrix), det(f, I, I)"
   ]
  },
  {
   "cell_type": "code",
   "execution_count": 32,
   "metadata": {},
   "outputs": [
    {
     "data": {
      "text/plain": [
       "(23.9 + 8.83 𝐞₁₂ + 37.0 𝐞₁₃ + -15.3 𝐞₁₄ + -9.34 𝐞₂₃ + -1.74 𝐞₂₄ + 19.6 𝐞₃₄,\n",
       " 23.9 + 8.83 𝐞₁₂ + 37.0 𝐞₁₃ + -15.3 𝐞₁₄ + -9.34 𝐞₂₃ + -1.74 𝐞₂₄ + 19.6 𝐞₃₄)"
      ]
     },
     "execution_count": 32,
     "metadata": {},
     "output_type": "execute_result"
    }
   ],
   "source": [
    "#2.7 sum\n",
    "r = 3\n",
    "h = lambda x: f(x)+g(x)\n",
    "\n",
    "# Sometimes I use a random frame to check frame independence\n",
    "frame = create_r_vectors(len(alg.signature), alg)\n",
    "r_frame = reciprocal(frame)\n",
    "drF = 0\n",
    "coef = [1/(factorial(r-s)*factorial(s)) for s in range(r+1)]\n",
    "for base_vectors, reci_vectors in zip(permutations(frame, r), permutations(r_frame, r)):\n",
    "    gh = 0\n",
    "    for s in range(r+1):\n",
    "        gh += coef[s]*wedge([f(v) for v in reci_vectors[:s]]) ^ wedge([g(v) for v in reci_vectors[s:]])\n",
    "    drF += wedge(base_vectors[::-1]) * gh\n",
    "char_multi_linear(h, r, alg), drF"
   ]
  },
  {
   "cell_type": "code",
   "execution_count": 33,
   "metadata": {},
   "outputs": [
    {
     "data": {
      "text/plain": [
       "(2.4e+02, 239.59130512023478)"
      ]
     },
     "execution_count": 33,
     "metadata": {},
     "output_type": "execute_result"
    }
   ],
   "source": [
    "#2.8 characteristic polynomial\n",
    "def char_scalar(f, r, alg: Algebra, frame=None, r_frame=None):\n",
    "    if not frame:\n",
    "        frame = alg.frame\n",
    "        r_frame = reciprocal(frame)\n",
    "    r_vec_frame = r_vector_frame_vectors(frame, r)\n",
    "    r_reci_frame = r_vector_frame_vectors(r_frame, r, reverse=True)\n",
    "    sdf = 0\n",
    "    for vectors, r_vectors in zip(r_vec_frame, r_reci_frame):\n",
    "        sdf += alg.sp(wedge(r_vectors[::-1]), wedge([f(v) for v in vectors]))[0]\n",
    "    return sdf\n",
    "\n",
    "# This calculates n characteristic multivectors. \n",
    "# But drops the nonscalar information\n",
    "def char_poly_coefs(f, alg, frame=None, r_frame=None):\n",
    "    n = alg.d\n",
    "    if frame:\n",
    "        n = len(frame)\n",
    "    return [(-1)**(n-s) * char_scalar(f, s, alg, frame, r_frame) for s in range(n+1)]\n",
    "\n",
    "def polynomial(l, coefs):\n",
    "    return sum(l ** i * coef for i, coef in enumerate(coefs[::-1]))\n",
    "\n",
    "l = 3.3\n",
    "n = 4\n",
    "(\n",
    "    char_multi_linear(lambda x: f(x) - l*x, n, alg), \n",
    "    polynomial(l, char_poly_coefs(f, alg))\n",
    ")"
   ]
  },
  {
   "cell_type": "code",
   "execution_count": 34,
   "metadata": {},
   "outputs": [
    {
     "data": {
      "text/plain": [
       "(-5.39 𝐞₁ + 15.9 𝐞₂ + 17.8 𝐞₃ + -14.1 𝐞₄,\n",
       " -5.39 𝐞₁ + 15.9 𝐞₂ + 17.8 𝐞₃ + -14.1 𝐞₄,\n",
       " 0.715 𝐞₁ + 0.343 𝐞₂ + 0.597 𝐞₃ + 0.542 𝐞₄,\n",
       " 0.715 𝐞₁ + 0.343 𝐞₂ + 0.597 𝐞₃ + 0.542 𝐞₄)"
      ]
     },
     "execution_count": 34,
     "metadata": {},
     "output_type": "execute_result"
    }
   ],
   "source": [
    "def r_fold(f,r,value):\n",
    "    return reduce(lambda v, _: f(v), range(r), value)\n",
    "\n",
    "r_fold(f, 3, x), f(f(f(x))), r_fold(f, 0, x), x"
   ]
  },
  {
   "cell_type": "code",
   "execution_count": 35,
   "metadata": {},
   "outputs": [
    {
     "data": {
      "text/plain": [
       "-2.13e-14 𝐞₁ + -1.07e-14 𝐞₂ + -1.42e-14 𝐞₃"
      ]
     },
     "execution_count": 35,
     "metadata": {},
     "output_type": "execute_result"
    }
   ],
   "source": [
    "#2.9 Cayley Hamilton\n",
    "sum(r_fold(f, i, x) * coef for i, coef in enumerate(char_poly_coefs(f, alg)[::-1]))"
   ]
  },
  {
   "cell_type": "code",
   "execution_count": 36,
   "metadata": {},
   "outputs": [
    {
     "data": {
      "text/plain": [
       "(array([ 1.86309835+0.j        , -1.91437555+0.j        ,\n",
       "        -2.30709094+0.73336525j, -2.30709094-0.73336525j]),\n",
       " array([ 1.86309835+0.j        , -2.30709094+0.73336525j,\n",
       "        -2.30709094-0.73336525j, -1.91437555+0.j        ]))"
      ]
     },
     "execution_count": 36,
     "metadata": {},
     "output_type": "execute_result"
    }
   ],
   "source": [
    "#2.10 We can find eigenvalues like the usual many-fold method.\n",
    "# How about eigenvectors? \n",
    "# What else can we get from characteristic multivector? Some papers I should go through...\n",
    "matrix = trans2matrix(f, alg)\n",
    "eigvalues, eigvecs = np.linalg.eig(matrix)\n",
    "coefs = char_poly_coefs(f, alg)\n",
    "eigvalues, np.roots(coefs)"
   ]
  },
  {
   "cell_type": "code",
   "execution_count": 37,
   "metadata": {},
   "outputs": [
    {
     "data": {
      "text/plain": [
       "array([0.18838056, 0.18838056, 0.18838056, 0.18838056, 0.18838056,\n",
       "       0.18838056, 0.18838056, 0.18838056])"
      ]
     },
     "execution_count": 37,
     "metadata": {},
     "output_type": "execute_result"
    }
   ],
   "source": [
    "# From Lasenby's paper, we can reconstruct a rotor from characteristic multivector:\n",
    "# Note that the rotor must have non-zero scalar part\n",
    "# the paper suggest such method is pretty robust for noisy data\n",
    "R = blade_exp(create_r_blade(2, alg)) * blade_exp(create_r_blade(2, alg))\n",
    "rotor = lambda x: R.sw(x) # a screw motion\n",
    "\n",
    "terms_ratio(R.reverse(), sum(char_multi_linear(rotor, s, alg) for s in range(n+1)))"
   ]
  },
  {
   "cell_type": "code",
   "execution_count": 38,
   "metadata": {},
   "outputs": [
    {
     "data": {
      "text/plain": [
       "(0.564 𝐞₁ + 2.46 𝐞₂ + 1.53 𝐞₃ + -1.59 𝐞₄,\n",
       " 0.564 𝐞₁ + 2.46 𝐞₂ + 1.53 𝐞₃ + -1.59 𝐞₄)"
      ]
     },
     "execution_count": 38,
     "metadata": {},
     "output_type": "execute_result"
    }
   ],
   "source": [
    "# recovering matrix to transfromation\n",
    "def matrix2trans(M, alg:Algebra ):\n",
    "    d = alg.d\n",
    "    assert M.shape[0] == d, 'dimension not fit'\n",
    "    return lambda x: sum(c*e for c,e in zip(np.dot(M, x.asfullmv()[1:d+1]), alg.frame))\n",
    "    \n",
    "mf = matrix2trans(matrix, alg)\n",
    "mf(x), f(x)"
   ]
  },
  {
   "cell_type": "code",
   "execution_count": 39,
   "metadata": {},
   "outputs": [
    {
     "data": {
      "text/plain": [
       "(2.5304256177177464, 2.5304256177177464)"
      ]
     },
     "execution_count": 39,
     "metadata": {},
     "output_type": "execute_result"
    }
   ],
   "source": [
    "#2.11\n",
    "s = 2\n",
    "rhs = (1/s) * sum((-1)**(r+1) * char_scalar(f, s-r, alg) * trace(lambda x: r_fold(f, r, x), alg)[0] for r in range(1,s+1))\n",
    "char_scalar(f, s, alg), rhs"
   ]
  },
  {
   "cell_type": "code",
   "execution_count": 40,
   "metadata": {},
   "outputs": [
    {
     "data": {
      "text/plain": [
       "(16.156754003443865, (16.156754003443872-4.440892098500626e-16j))"
      ]
     },
     "execution_count": 40,
     "metadata": {},
     "output_type": "execute_result"
    }
   ],
   "source": [
    "#2.13\n",
    "k = 3\n",
    "char_scalar(f, k, alg), sum(np.prod(comb) for comb in combinations(eigvalues, k))"
   ]
  },
  {
   "cell_type": "code",
   "execution_count": 41,
   "metadata": {},
   "outputs": [
    {
     "data": {
      "text/plain": [
       "(-17.663701094334066, (-17.663701094334037+0j))"
      ]
     },
     "execution_count": 41,
     "metadata": {},
     "output_type": "execute_result"
    }
   ],
   "source": [
    "#2.14 It's easier to show the eigenvalues of f^k are {lambda^k_i} by linearity\n",
    "trace(lambda x: r_fold(f, k, x), alg)[0], sum(l**k for l in eigvalues)"
   ]
  },
  {
   "cell_type": "code",
   "execution_count": 42,
   "metadata": {},
   "outputs": [
    {
     "data": {
      "text/plain": [
       "(-20.9 𝐞₁₂₃₄, -20.9 𝐞₁₂₃₄, -20.9 𝐞₁₂₃₄)"
      ]
     },
     "execution_count": 42,
     "metadata": {},
     "output_type": "execute_result"
    }
   ],
   "source": [
    "# 3.4 A space must bound f to own an invariant subspace.\n",
    "I = alg.pseudoscalar((1,))\n",
    "outermorphism(f, I, alg), det(f, I, I)*I, adjoint_outermorphism(f, I, alg)"
   ]
  },
  {
   "cell_type": "code",
   "execution_count": 43,
   "metadata": {},
   "outputs": [
    {
     "data": {
      "text/plain": [
       "(28.9 𝐞₁₂₃₄, 28.9 𝐞₁₂₃₄)"
      ]
     },
     "execution_count": 43,
     "metadata": {},
     "output_type": "execute_result"
    }
   ],
   "source": [
    "#3.6\n",
    "l = 2.2\n",
    "n = 4\n",
    "F = lambda x: f(x) - l*x\n",
    "coefs = char_poly_coefs(f, alg)\n",
    "outermorphism(F, I, alg), polynomial(l, coefs) * I"
   ]
  },
  {
   "cell_type": "code",
   "execution_count": 44,
   "metadata": {},
   "outputs": [
    {
     "data": {
      "text/plain": [
       "(7.64 𝐞₁₂, 7.64 𝐞₁₂)"
      ]
     },
     "execution_count": 44,
     "metadata": {},
     "output_type": "execute_result"
    }
   ],
   "source": [
    "#3.7\n",
    "I = e12\n",
    "frame = [e1,e2]\n",
    "g = lambda x: P((A*x.grade(1)*B).grade(1), I)\n",
    "coefs = char_poly_coefs(g, alg, frame, frame)\n",
    "F = lambda x: g(x) - l*x\n",
    "outermorphism(F, I, alg), polynomial(l, coefs) * I"
   ]
  },
  {
   "cell_type": "code",
   "execution_count": 45,
   "metadata": {},
   "outputs": [
    {
     "data": {
      "text/plain": [
       "(-23.278817018794324, -23.278817018794324)"
      ]
     },
     "execution_count": 45,
     "metadata": {},
     "output_type": "execute_result"
    }
   ],
   "source": [
    "#3.8\n",
    "I = e123\n",
    "frame2 = [e3]\n",
    "frame3 = [e1,e2,e3]\n",
    "h = lambda x: P((A*P(x, e12).grade(1)*B).grade(1), e12) + P((B*P(x, e3).grade(1)*C).grade(1), e3)\n",
    "F = lambda x: h(x) - l*x\n",
    "(\n",
    "    char_scalar(F, 2, alg, frame, frame) * char_scalar(F, 1, alg, frame2, frame2),\n",
    "    char_scalar(F, 3, alg, frame3, frame3)\n",
    ")"
   ]
  },
  {
   "cell_type": "code",
   "execution_count": 46,
   "metadata": {},
   "outputs": [
    {
     "data": {
      "text/plain": [
       "(-0.451 𝐞₁ + 1.2 𝐞₂, -0.451 𝐞₁ + -0.0324 𝐞₂)"
      ]
     },
     "execution_count": 46,
     "metadata": {},
     "output_type": "execute_result"
    }
   ],
   "source": [
    "outermorphism(h, e1, alg), adjoint_outermorphism(h, e1, alg)"
   ]
  },
  {
   "cell_type": "code",
   "execution_count": 47,
   "metadata": {},
   "outputs": [
    {
     "data": {
      "text/plain": [
       "(0.288 𝐞₃, 0.288 𝐞₃)"
      ]
     },
     "execution_count": 47,
     "metadata": {},
     "output_type": "execute_result"
    }
   ],
   "source": [
    "#3.9a\n",
    "adjoint_outermorphism(h, e123, alg) | e12, outermorphism(h, e12, alg).e12 * outermorphism(h, -e3, alg)"
   ]
  },
  {
   "cell_type": "code",
   "execution_count": 48,
   "metadata": {},
   "outputs": [
    {
     "data": {
      "text/plain": [
       "(-0.288 𝐞₁₂, -0.288 𝐞₁₂)"
      ]
     },
     "execution_count": 48,
     "metadata": {},
     "output_type": "execute_result"
    }
   ],
   "source": [
    "#3.9b\n",
    "outermorphism(h, e123, alg) | e3, adjoint_outermorphism(h, e3, alg).e3 * adjoint_outermorphism(h, e12, alg)"
   ]
  },
  {
   "cell_type": "code",
   "execution_count": 49,
   "metadata": {},
   "outputs": [
    {
     "data": {
      "text/plain": [
       "(([0, 1], [(2, 3)]),\n",
       " array([ 1.86309835+0.j        , -1.91437555+0.j        ,\n",
       "        -2.30709094+0.73336525j, -2.30709094-0.73336525j]))"
      ]
     },
     "execution_count": 49,
     "metadata": {},
     "output_type": "execute_result"
    }
   ],
   "source": [
    "def separate_indices(numbers):\n",
    "    real_indices = []\n",
    "    conjugate_pairs_indices = []\n",
    "    visited = set()  # To keep track of indices already processed\n",
    "\n",
    "    for i, num in enumerate(numbers):\n",
    "        if np.isreal(num):  # Check if the number is real\n",
    "            real_indices.append(i)\n",
    "        elif i not in visited:  # Check if the index is not already processed\n",
    "            conjugate = np.conj(num)\n",
    "            for j in range(i + 1, len(numbers)):\n",
    "                if numbers[j] == conjugate:\n",
    "                    conjugate_pairs_indices.append((i, j))\n",
    "                    visited.add(i)\n",
    "                    visited.add(j)\n",
    "                    break\n",
    "\n",
    "    return real_indices, conjugate_pairs_indices\n",
    "\n",
    "separate_indices(eigvalues), eigvalues"
   ]
  },
  {
   "cell_type": "code",
   "execution_count": 50,
   "metadata": {},
   "outputs": [
    {
     "name": "stdout",
     "output_type": "stream",
     "text": [
      "[1.86309835 1.86309835 1.86309835 1.86309835] [ 3.7283291   1.2659413   0.34985881 22.80467403]\n",
      "[-1.91437555 -1.91437555 -1.91437555 -1.91437555] [ -3.35039455   0.15904412  -1.53446921 -21.26335661]\n",
      "[5.8604932 5.8604932 5.8604932 5.8604932 5.8604932 5.8604932] [ 16.62103831 -30.08810242   7.94133547   7.93339231 -11.02777908\n",
      "   8.83283833]\n"
     ]
    }
   ],
   "source": [
    "# An example of non proper blade:\n",
    "def linalg_eigblades(f, alg: Algebra):\n",
    "    matrix = trans2matrix(f, alg)\n",
    "    eigvalues, eigvecs = np.linalg.eig(matrix)\n",
    "    real_indices, conjugate_pairs_indices = separate_indices(eigvalues)\n",
    "    eigblades = [alg.vector(np.real(eigvecs[:, i])) for i in real_indices]\n",
    "    for k, l in conjugate_pairs_indices:\n",
    "        v1 = np.real(eigvecs[:,k] + eigvecs[:,l])\n",
    "        v2 = np.imag(eigvecs[:,k] - eigvecs[:,l])\n",
    "        eigblades.append(alg.vector(v1) ^ alg.vector(v2))\n",
    "    return eigblades \n",
    "\n",
    "def terms_ratio(A, B: MultiVector):\n",
    "    valid_keys = [k for k in B.keys() if not np.isclose(B[k], 0)]\n",
    "    return np.divide([A[k] for k in valid_keys], [B[k] for k in valid_keys])\n",
    "\n",
    "eigblades = linalg_eigblades(f, alg)\n",
    "\n",
    "# right eigenblades but not left!\n",
    "for blade in eigblades:\n",
    "    print(\n",
    "        terms_ratio(outermorphism(f, blade, alg), blade), \n",
    "        terms_ratio(adjoint_outermorphism(f, blade, alg), blade)\n",
    "        )"
   ]
  },
  {
   "cell_type": "code",
   "execution_count": 51,
   "metadata": {},
   "outputs": [
    {
     "name": "stdout",
     "output_type": "stream",
     "text": [
      "[ 0.83794106  3.61009701  5.43724279 -0.60745579] [1.86309835 1.86309835 1.86309835 1.86309835]\n",
      "[ 0.24975789 -2.00973419 -2.88449771 13.75309682] [-1.91437555 -1.91437555 -1.91437555 -1.91437555]\n",
      "[ -8.91904834  -7.45759735  -7.25941105 -98.60866587   3.0440755\n",
      "  10.73042757] [5.8604932 5.8604932 5.8604932 5.8604932 5.8604932 5.8604932]\n"
     ]
    }
   ],
   "source": [
    "#3.11 reciprocal for blades\n",
    "def reciprocal(blades):\n",
    "    I = wedge(blades)\n",
    "    dualblades = []\n",
    "    for k in range(len(blades)):\n",
    "        sign = (-1) ** (blades[k].grades[0] * sum(blade.grades[0] for blade in blades[:k]))\n",
    "        dualblades.append(sign * wedge(blades[:k] + blades[k+1:]) * I.inv())\n",
    "    return dualblades\n",
    "\n",
    "dualblades = reciprocal(eigblades)\n",
    "# The reciprocal of a right eigenblade is a left eigenblade! Note that they correspond to the same eigenvalues\n",
    "for blade in dualblades:\n",
    "    print(\n",
    "        terms_ratio(outermorphism(f, blade, alg), blade), \n",
    "        terms_ratio(adjoint_outermorphism(f, blade, alg), blade)\n",
    "        )\n"
   ]
  },
  {
   "cell_type": "code",
   "execution_count": 52,
   "metadata": {},
   "outputs": [
    {
     "data": {
      "text/plain": [
       "[1.0, -7.04e-16, 1.0]"
      ]
     },
     "execution_count": 52,
     "metadata": {},
     "output_type": "execute_result"
    }
   ],
   "source": [
    "#3.12 \n",
    "[eigblades[i] | dualblades[j] for i,j in [(0,0), (0,1), (1,1)]]"
   ]
  },
  {
   "cell_type": "code",
   "execution_count": 53,
   "metadata": {},
   "outputs": [
    {
     "data": {
      "text/plain": [
       "[(6.49 𝐞₁₂₃, 6.49 𝐞₁₂₃), (-2.68 𝐞₄, -2.68 𝐞₄)]"
      ]
     },
     "execution_count": 53,
     "metadata": {},
     "output_type": "execute_result"
    }
   ],
   "source": [
    "# What transformation have a non-trivial proper blade?\n",
    "# A invariant subspace, say e123 of e1234\n",
    "# from 3.12 we know we're looking for blades equal to thier own reciprocal\n",
    "# that means orthogonal to other eigenspaces\n",
    "\n",
    "pf = lambda x: P(f(P(x, e123)), e123) + P(f(P(x, e4)), e4)\n",
    "[(outermorphism(pf, blade, alg), adjoint_outermorphism(pf, blade, alg)) for blade in [e123, e4]]"
   ]
  },
  {
   "cell_type": "code",
   "execution_count": 54,
   "metadata": {},
   "outputs": [
    {
     "name": "stdout",
     "output_type": "stream",
     "text": [
      "[1.81423615 1.81423615 1.81423615] [3.48734895 1.1678115  0.59948192]\n",
      "[-1.70260113 -1.70260113 -1.70260113] [-3.14129259  0.81384943 -1.82125542]\n",
      "[-2.10062082 -2.10062082 -2.10062082] [-2.96504947 38.14231471 -1.97864426]\n",
      "[] []\n",
      "[] []\n",
      "[] []\n",
      "[] []\n",
      "[-2.67647328] [-2.67647328]\n"
     ]
    }
   ],
   "source": [
    "eigblades = linalg_eigblades(pf, alg)\n",
    "for E in [e123, e4]:\n",
    "    for blade in eigblades: # not just vectors\n",
    "        blade = (blade | E)*E\n",
    "        om = outermorphism(pf, blade, alg)\n",
    "        am = adjoint_outermorphism(pf, blade, alg)\n",
    "        print(\n",
    "            terms_ratio(om, blade), \n",
    "            terms_ratio(am, blade)\n",
    "            )"
   ]
  },
  {
   "cell_type": "code",
   "execution_count": 55,
   "metadata": {},
   "outputs": [
    {
     "data": {
      "text/plain": [
       "(array([[ 0.1641324 ,  1.38808496,  1.09692552, -0.30673852],\n",
       "        [ 1.38808496, -0.5446416 ,  1.10219199,  1.21874256],\n",
       "        [ 1.09692552,  1.10219199, -1.6084766 ,  0.54624952],\n",
       "        [-0.30673852,  1.21874256,  0.54624952, -2.67647328]]),\n",
       " 1.08 𝐞₁ + 2.12 𝐞₂ + 0.498 𝐞₃ + -0.925 𝐞₄,\n",
       " 1.08 𝐞₁ + 2.12 𝐞₂ + 0.498 𝐞₃ + -0.925 𝐞₄)"
      ]
     },
     "execution_count": 55,
     "metadata": {},
     "output_type": "execute_result"
    }
   ],
   "source": [
    "#4.1b A matrix from a symmetric transformation is symmetric\n",
    "fp = lambda x: (f(x) + adjoint_outermorphism(f, x, alg))/2\n",
    "trans2matrix(fp, alg), fp(x), derivative(lambda x: x | f(x)/2, x, alg, grade=1)"
   ]
  },
  {
   "cell_type": "code",
   "execution_count": 56,
   "metadata": {},
   "outputs": [
    {
     "data": {
      "text/plain": [
       "(1.23 𝐞₁₂ + 0.33 𝐞₁₃ + 0.769 𝐞₁₄ + 0.602 𝐞₂₃ + -0.286 𝐞₂₄ + -2.99 𝐞₃₄,\n",
       " 1.23 𝐞₁₂ + 0.33 𝐞₁₃ + 0.769 𝐞₁₄ + 0.602 𝐞₂₃ + -0.286 𝐞₂₄ + -2.99 𝐞₃₄)"
      ]
     },
     "execution_count": 56,
     "metadata": {},
     "output_type": "execute_result"
    }
   ],
   "source": [
    "# a curl is a part of a derivative\n",
    "derivative(f, x, alg, grade=1).grade(2), curl(f, x, alg, grade=1)"
   ]
  },
  {
   "cell_type": "code",
   "execution_count": 57,
   "metadata": {},
   "outputs": [
    {
     "data": {
      "text/plain": [
       "(array([[ 1.11022302e-16, -6.17170096e-01, -1.64785884e-01,\n",
       "         -3.84426889e-01],\n",
       "        [ 6.17170096e-01,  5.55111512e-17, -3.01212808e-01,\n",
       "          1.42821557e-01],\n",
       "        [ 1.64785884e-01,  3.01212808e-01,  1.11022302e-16,\n",
       "          1.49666632e+00],\n",
       "        [ 3.84426889e-01, -1.42821557e-01, -1.49666632e+00,\n",
       "         -2.22044605e-16]]),\n",
       " -0.518 𝐞₁ + 0.339 𝐞₂ + 1.03 𝐞₃ + -0.667 𝐞₄,\n",
       " -0.518 𝐞₁ + 0.339 𝐞₂ + 1.03 𝐞₃ + -0.667 𝐞₄)"
      ]
     },
     "execution_count": 57,
     "metadata": {},
     "output_type": "execute_result"
    }
   ],
   "source": [
    "#4.1c a skew transfromation leads to a skew matrix\n",
    "fm = lambda x: (f(x) - adjoint_outermorphism(f, x, alg))/2\n",
    "trans2matrix(fm, alg), fm(x), x | derivative(f, x, alg, grade=1).grade(2)/2"
   ]
  },
  {
   "cell_type": "code",
   "execution_count": 58,
   "metadata": {},
   "outputs": [
    {
     "data": {
      "text/plain": [
       "(1.12,\n",
       " 1.12,\n",
       " 2.33e-10 𝐞₁₂ + 2.91e-10 𝐞₁₄ + -4.37e-10 𝐞₂₃ + -2.33e-10 𝐞₂₄ + -1.46e-10 𝐞₃₄)"
      ]
     },
     "execution_count": 58,
     "metadata": {},
     "output_type": "execute_result"
    }
   ],
   "source": [
    "#4.2 fp curl free\n",
    "a | fp(x), x | fp(a), curl(fp, x, alg, grade=1)"
   ]
  },
  {
   "cell_type": "code",
   "execution_count": 59,
   "metadata": {},
   "outputs": [
    {
     "data": {
      "text/plain": [
       "(1.08 𝐞₁ + 2.12 𝐞₂ + 0.498 𝐞₃ + -0.925 𝐞₄,\n",
       " 1.08 𝐞₁ + 2.12 𝐞₂ + 0.498 𝐞₃ + -0.925 𝐞₄)"
      ]
     },
     "execution_count": 59,
     "metadata": {},
     "output_type": "execute_result"
    }
   ],
   "source": [
    "#4.3 spectral decomposition of the symmetric part\n",
    "matrix = trans2matrix(fp, alg)\n",
    "eigvalues, eigvecs = np.linalg.eigh(matrix)\n",
    "eigvecs = [alg.vector(v) for v in eigvecs.transpose()]\n",
    "mf = lambda x: sum(e * P(x, v) for e, v in zip(eigvalues, eigvecs))\n",
    "mf(x), fp(x)"
   ]
  },
  {
   "cell_type": "code",
   "execution_count": 60,
   "metadata": {},
   "outputs": [
    {
     "data": {
      "text/plain": [
       "[-1.18e+02 𝐞₁ + -7.27e-15 𝐞₂ + -1e-14 𝐞₃ + -6.17e-15 𝐞₄,\n",
       " 1.82e-15 𝐞₁ + -29.5 𝐞₂ + -2.24e-15 𝐞₃ + 2.58e-15 𝐞₄,\n",
       " 4.93e-16 𝐞₁ + 4.4e-16 𝐞₂ + -5.8 𝐞₃ + 1.62e-15 𝐞₄,\n",
       " 8.33e-17 𝐞₁ + -1.39e-16 𝐞₂ + -4.44e-16 𝐞₃ + -1.59 𝐞₄]"
      ]
     },
     "execution_count": 60,
     "metadata": {},
     "output_type": "execute_result"
    }
   ],
   "source": [
    "# QR factorization\n",
    "transframe = [fp(e) for e in alg.frame] #another basis\n",
    "gs_trans = gram_schmidt(transframe)\n",
    "gs_trans2 = gram_schmidt([fp(v / norm(v)) for v in gs_trans[::-1]])[::-1]\n",
    "gs_trans2\n"
   ]
  },
  {
   "cell_type": "code",
   "execution_count": 61,
   "metadata": {},
   "outputs": [],
   "source": [
    "# A GA version of eigenblade-solver given the eigenvalues\n",
    "def null_space(f, alg, tol=1e-5, frame=None):\n",
    "    if not frame:\n",
    "        frame = alg.frame\n",
    "    null_sp = wedge(frame)\n",
    "    images = [f(a) for a in frame]\n",
    "    for v in images:\n",
    "        contracted = v | null_sp\n",
    "        if normsq(contracted) >= tol:\n",
    "            null_sp = contracted\n",
    "    return null_sp\n",
    "\n",
    "def eigenblades_from_values(f, eigvalues, alg, frame=None):\n",
    "    eigblades = []\n",
    "    for e in eigvalues:\n",
    "        null_f = lambda x: f(x) - e*x\n",
    "        eigblades.append(null_space(null_f, alg, frame=frame))\n",
    "    return eigblades"
   ]
  },
  {
   "cell_type": "code",
   "execution_count": 62,
   "metadata": {},
   "outputs": [
    {
     "data": {
      "text/plain": [
       "[1,\n",
       " -4.67 + -2.22e-16 𝐞₁₃ + 1.67e-16 𝐞₁₄ + -4.44e-16 𝐞₂₃ + -2.22e-16 𝐞₂₄ + 3.33e-16 𝐞₃₄,\n",
       " -0.377 + -8.88e-16 𝐞₁₂ + 8.88e-16 𝐞₁₃ + -5.55e-17 𝐞₁₄ + 1.78e-15 𝐞₂₃ + -2.22e-16 𝐞₃₄ + -2.22e-16 𝐞₁₂₃₄,\n",
       " 19.8 + 3.55e-15 𝐞₁₂ + -1.78e-15 𝐞₁₃ + 8.88e-16 𝐞₁₄ + -4.44e-16 𝐞₂₃ + 1.33e-15 𝐞₂₄ + -6.66e-16 𝐞₃₄,\n",
       " -14.6]"
      ]
     },
     "execution_count": 62,
     "metadata": {},
     "output_type": "execute_result"
    }
   ],
   "source": [
    "# One thing to note for a symmetric transformation:\n",
    "# the characteristic multivectors are of scalar values\n",
    "# So all subspaces are invariant under the transfromation.\n",
    "[char_multi_linear(fp, r, alg) for r in range(5)]"
   ]
  },
  {
   "cell_type": "code",
   "execution_count": 63,
   "metadata": {},
   "outputs": [
    {
     "data": {
      "text/plain": [
       "(array([ 2.03463272, -3.4894681 , -2.32968613, -0.88093757]),\n",
       " array([-3.4894681 , -2.32968613, -0.88093757,  2.03463272]))"
      ]
     },
     "execution_count": 63,
     "metadata": {},
     "output_type": "execute_result"
    }
   ],
   "source": [
    "np.roots(char_poly_coefs(fp, alg)), eigvalues"
   ]
  },
  {
   "cell_type": "code",
   "execution_count": 64,
   "metadata": {},
   "outputs": [
    {
     "data": {
      "text/plain": [
       "([0.28 𝐞₁ + -0.422 𝐞₂ + -0.162 𝐞₃ + 0.847 𝐞₄,\n",
       "  0.148 𝐞₁ + 0.435 𝐞₂ + -0.888 𝐞₃ + -0.0025 𝐞₄,\n",
       "  -0.678 𝐞₁ + 0.514 𝐞₂ + 0.137 𝐞₃ + 0.507 𝐞₄,\n",
       "  -0.663 𝐞₁ + -0.607 𝐞₂ + -0.407 𝐞₃ + -0.161 𝐞₄],\n",
       " [0.28 𝐞₁ + -0.422 𝐞₂ + -0.162 𝐞₃ + 0.847 𝐞₄,\n",
       "  -0.148 𝐞₁ + -0.435 𝐞₂ + 0.888 𝐞₃ + 0.0025 𝐞₄,\n",
       "  0.678 𝐞₁ + -0.514 𝐞₂ + -0.137 𝐞₃ + -0.507 𝐞₄,\n",
       "  0.663 𝐞₁ + 0.607 𝐞₂ + 0.407 𝐞₃ + 0.161 𝐞₄])"
      ]
     },
     "execution_count": 64,
     "metadata": {},
     "output_type": "execute_result"
    }
   ],
   "source": [
    "eigblades = eigenblades_from_values(fp, eigvalues, alg)\n",
    "[e/norm(e) for e in eigblades], eigvecs"
   ]
  },
  {
   "cell_type": "code",
   "execution_count": 65,
   "metadata": {},
   "outputs": [
    {
     "name": "stdout",
     "output_type": "stream",
     "text": [
      "[-3.4894681 -3.4894681 -3.4894681 -3.4894681]\n",
      "[12.17638763 12.17638763 12.17638763 12.17638763 12.17638763 12.17638763]\n"
     ]
    }
   ],
   "source": [
    "#4.4 modify mf so to have a repeat eigenvalue (degeneracy)\n",
    "eigvalues[1] = eigvalues[0]\n",
    "mf = lambda x: sum(e * P(x, v) for e, v in zip(eigvalues, eigvecs))\n",
    "for blade in [eigvecs[0], wedge(eigvecs[:2])]:\n",
    "    of = outermorphism(mf, blade, alg)\n",
    "    print(terms_ratio(of, blade))"
   ]
  },
  {
   "cell_type": "code",
   "execution_count": 66,
   "metadata": {},
   "outputs": [
    {
     "data": {
      "text/plain": [
       "([-0.678 𝐞₁ + 0.514 𝐞₂ + 0.137 𝐞₃ + 0.507 𝐞₄,\n",
       "  -0.663 𝐞₁ + -0.607 𝐞₂ + -0.407 𝐞₃ + -0.161 𝐞₄,\n",
       "  0.184 𝐞₁₂ + -0.225 𝐞₁₃ + -0.126 𝐞₁₄ + 0.445 𝐞₂₃ + -0.367 𝐞₂₄ + 0.753 𝐞₃₄],\n",
       " [-0.184 𝐞₁₂ + 0.225 𝐞₁₃ + 0.126 𝐞₁₄ + -0.445 𝐞₂₃ + 0.367 𝐞₂₄ + -0.753 𝐞₃₄,\n",
       "  0.678 𝐞₁ + -0.514 𝐞₂ + -0.137 𝐞₃ + -0.507 𝐞₄,\n",
       "  0.663 𝐞₁ + 0.607 𝐞₂ + 0.407 𝐞₃ + 0.161 𝐞₄])"
      ]
     },
     "execution_count": 66,
     "metadata": {},
     "output_type": "execute_result"
    }
   ],
   "source": [
    "eigblades = eigenblades_from_values(mf, set(eigvalues), alg)\n",
    "[e/norm(e) for e in eigblades], [wedge(eigvecs[:2])] + eigvecs[2:]"
   ]
  },
  {
   "cell_type": "code",
   "execution_count": 67,
   "metadata": {},
   "outputs": [
    {
     "data": {
      "text/plain": [
       "(array([[-0.97501058, -0.15161579,  0.15943817, -0.03076524],\n",
       "        [-0.15161579, -0.08011699, -0.96734296,  0.18665881],\n",
       "        [ 0.15943817, -0.96734296,  0.01725154, -0.19628919],\n",
       "        [-0.03076524,  0.18665881, -0.19628919, -0.96212398]]),\n",
       " [1.0000000000000007, 0.0, 0.0, 1.0000000000000007],\n",
       " array([-1.,  1., -1., -1.]))"
      ]
     },
     "execution_count": 67,
     "metadata": {},
     "output_type": "execute_result"
    }
   ],
   "source": [
    "#4.6 a reflection is an orthogonal symmetric transformation \n",
    "A3 = create_r_blade(3, alg).normalized()\n",
    "matrix = trans2matrix(lambda x: (-1)**3*(A3.sw(x)), alg)\n",
    "# a symmetric matrix, orthogonal, unit eigvals\n",
    "matrix, [np.dot(matrix[i], matrix[j]) for i,j in [(1,1), (1,2), (2,3), (3,3)]], np.linalg.eigvals(matrix)"
   ]
  },
  {
   "cell_type": "code",
   "execution_count": 68,
   "metadata": {},
   "outputs": [
    {
     "data": {
      "text/plain": [
       "(-0.671 𝐞₁ + -0.612 𝐞₂ + -0.314 𝐞₃ + -0.596 𝐞₄,\n",
       " -0.671 𝐞₁ + -0.612 𝐞₂ + -0.314 𝐞₃ + -0.596 𝐞₄)"
      ]
     },
     "execution_count": 68,
     "metadata": {},
     "output_type": "execute_result"
    }
   ],
   "source": [
    "#4.6 Find blade A from an orthogonal-symmetric-transfromation?\n",
    "ot = matrix2trans(matrix, alg)\n",
    "eigvalues, eigvecs = np.linalg.eig(matrix)\n",
    "eigvecs = [alg.vector(v) for v in eigvecs.transpose()]\n",
    "A3_ = wedge([v for v, e in zip(eigvecs, eigvalues) if np.isclose(e, -1)])\n",
    "(-1)**3*(A3.sw(x)), ot(x)"
   ]
  },
  {
   "cell_type": "code",
   "execution_count": 69,
   "metadata": {},
   "outputs": [
    {
     "data": {
      "text/plain": [
       "([-0.579 𝐞₁ + -0.657 𝐞₂ + -0.483 𝐞₃,\n",
       "  -0.54 𝐞₁ + 0.437 𝐞₂ + 0.72 𝐞₃,\n",
       "  -0.388 𝐞₁ + 0.0257 𝐞₂ + 0.921 𝐞₃,\n",
       "  1.0 𝐞₄,\n",
       "  1 𝐞₁₂₃],\n",
       " [0.2597375883159782, 1.2684960021774447, 1.21879647181827, 0.0, 0.0])"
      ]
     },
     "execution_count": 69,
     "metadata": {},
     "output_type": "execute_result"
    }
   ],
   "source": [
    "#4.7 Not true for whole space, but the proper ones\n",
    "# In matrix terms: diagonal parts commute\n",
    "eigblades = linalg_eigblades(pf, alg)\n",
    "eigblades.append(e123)\n",
    "eigblades, [max_diff(pf(blade.sw(x)), blade.sw(pf(x))) for blade in eigblades]"
   ]
  },
  {
   "cell_type": "code",
   "execution_count": 70,
   "metadata": {},
   "outputs": [
    {
     "data": {
      "text/plain": [
       "(0.746, 0.746)"
      ]
     },
     "execution_count": 70,
     "metadata": {},
     "output_type": "execute_result"
    }
   ],
   "source": [
    "#4.8 skew transformation -> skew bilinear form -> bivector\n",
    "fm_biform = lambda vectors: vectors[0] | fm(vectors[1])\n",
    "F = simplicial_derivative(fm_biform, np.zeros(2), alg)\n",
    "a | fm(x), a| (x | F)"
   ]
  },
  {
   "cell_type": "code",
   "execution_count": 71,
   "metadata": {},
   "outputs": [
    {
     "data": {
      "text/plain": [
       "(-0.518 𝐞₁ + 0.339 𝐞₂ + 1.03 𝐞₃ + -0.667 𝐞₄,\n",
       " -0.518 𝐞₁ + 0.339 𝐞₂ + 1.03 𝐞₃ + -0.667 𝐞₄,\n",
       " 2.22e-16)"
      ]
     },
     "execution_count": 71,
     "metadata": {},
     "output_type": "execute_result"
    }
   ],
   "source": [
    "#4.9 so fm(x) is always orthogonal to x\n",
    "fm(x), x|F, fm(x) | x"
   ]
  },
  {
   "cell_type": "code",
   "execution_count": 72,
   "metadata": {},
   "outputs": [
    {
     "data": {
      "text/plain": [
       "(-1.16e-10 + 1.23 𝐞₁₂ + 0.33 𝐞₁₃ + 0.769 𝐞₁₄ + 0.602 𝐞₂₃ + -0.286 𝐞₂₄ + -2.99 𝐞₃₄,\n",
       " 1.23 𝐞₁₂ + 0.33 𝐞₁₃ + 0.769 𝐞₁₄ + 0.602 𝐞₂₃ + -0.286 𝐞₂₄ + -2.99 𝐞₃₄,\n",
       " 1.23 𝐞₁₂ + 0.33 𝐞₁₃ + 0.769 𝐞₁₄ + 0.602 𝐞₂₃ + -0.286 𝐞₂₄ + -2.99 𝐞₃₄,\n",
       " 1.23 𝐞₁₂ + 0.33 𝐞₁₃ + 0.769 𝐞₁₄ + 0.602 𝐞₂₃ + -0.286 𝐞₂₄ + -2.99 𝐞₃₄)"
      ]
     },
     "execution_count": 72,
     "metadata": {},
     "output_type": "execute_result"
    }
   ],
   "source": [
    "#4.10 F is a bivector\n",
    "derivative(fm, x, alg, grade=1), curl(fm, x, alg, grade=1), curl(f, x, alg, grade=1), 2*F"
   ]
  },
  {
   "cell_type": "code",
   "execution_count": 73,
   "metadata": {},
   "outputs": [
    {
     "data": {
      "text/plain": [
       "(-1 𝐞₁₂₃₄, -1 𝐞₁₂₃₄)"
      ]
     },
     "execution_count": 73,
     "metadata": {},
     "output_type": "execute_result"
    }
   ],
   "source": [
    "#4.11 bivector split commutes, you can think about a screw motion splits into translation and rotation\n",
    "e13*e24, e24*e13"
   ]
  },
  {
   "cell_type": "code",
   "execution_count": 74,
   "metadata": {},
   "outputs": [
    {
     "data": {
      "text/plain": [
       "([1.0,\n",
       "  0.617 𝐞₁₂ + 0.165 𝐞₁₃ + 0.384 𝐞₁₄ + 0.301 𝐞₂₃ + -0.143 𝐞₂₄ + -1.5 𝐞₃₄,\n",
       "  -0.784 𝐞₁₂₃₄],\n",
       " [5.55e-17 + 1.23 𝐞₁₂ + 0.33 𝐞₁₃ + 0.769 𝐞₁₄ + 0.602 𝐞₂₃ + -0.286 𝐞₂₄ + -2.99 𝐞₃₄,\n",
       "  2.91 + -6.94e-18 𝐞₁₂ + 1.11e-16 𝐞₁₃ + 5.27e-16 𝐞₁₄ + 1.67e-16 𝐞₂₃ + -3.89e-16 𝐞₂₄ + -6.11e-16 𝐞₃₄ + -3.14 𝐞₁₂₃₄,\n",
       "  6.38e-16 + 2.35 𝐞₁₂ + -0.224 𝐞₁₃ + -0.473 𝐞₁₄ + -0.603 𝐞₂₃ + 0.259 𝐞₂₄ + -0.968 𝐞₃₄,\n",
       "  0.615])"
      ]
     },
     "execution_count": 74,
     "metadata": {},
     "output_type": "execute_result"
    }
   ],
   "source": [
    "#4.13 How to factor F?\n",
    "def wedge_power(A, r):\n",
    "    if r == 0:\n",
    "        return 1\n",
    "    result = A\n",
    "    for _ in range(r-1):\n",
    "        result = A ^ result\n",
    "    return result\n",
    "\n",
    "Ck = [(1/factorial(r))*wedge_power(F, r) for r in range(3)]\n",
    "Ck, [char_multi_linear(fm, r, alg) for r in range(1, 5)] # these are full story, but we just take a fraction"
   ]
  },
  {
   "cell_type": "code",
   "execution_count": 75,
   "metadata": {},
   "outputs": [
    {
     "data": {
      "text/plain": [
       "[0.617 𝐞₁₂ + 0.165 𝐞₁₃ + 0.384 𝐞₁₄ + 0.301 𝐞₂₃ + -0.143 𝐞₂₄ + -1.5 𝐞₃₄,\n",
       " -1.17 𝐞₁₂ + 0.112 𝐞₁₃ + 0.236 𝐞₁₄ + 0.302 𝐞₂₃ + -0.129 𝐞₂₄ + 0.484 𝐞₃₄]"
      ]
     },
     "execution_count": 75,
     "metadata": {},
     "output_type": "execute_result"
    }
   ],
   "source": [
    "[alg.ip(Ck[i-1], Ck[i]) for i in range(1, len(Ck))]"
   ]
  },
  {
   "cell_type": "code",
   "execution_count": 76,
   "metadata": {},
   "outputs": [
    {
     "data": {
      "text/plain": [
       "{0, 1, 2, 3, 4, 5, 6, 7, 8, 9, 10, 11, 12, 13, 14, 15}"
      ]
     },
     "execution_count": 76,
     "metadata": {},
     "output_type": "execute_result"
    }
   ],
   "source": [
    "set.union(*(set(ck.keys()) for ck in Ck if isinstance(ck, MultiVector)))"
   ]
  },
  {
   "cell_type": "code",
   "execution_count": 77,
   "metadata": {},
   "outputs": [
    {
     "data": {
      "text/plain": [
       "(-0.518 𝐞₁ + 0.339 𝐞₂ + 1.03 𝐞₃ + -0.667 𝐞₄,\n",
       " -0.518 𝐞₁ + 0.339 𝐞₂ + 1.03 𝐞₃ + -0.667 𝐞₄,\n",
       " -0.123 𝐞₁ + -0.726 𝐞₂ + -0.982 𝐞₃ + -1.79 𝐞₄,\n",
       " -0.123 𝐞₁ + -0.726 𝐞₂ + -0.982 𝐞₃ + -1.79 𝐞₄)"
      ]
     },
     "execution_count": 77,
     "metadata": {},
     "output_type": "execute_result"
    }
   ],
   "source": [
    "x|F, fm(x), x|F|F, fm(fm(x))"
   ]
  },
  {
   "cell_type": "code",
   "execution_count": 78,
   "metadata": {},
   "outputs": [
    {
     "data": {
      "text/plain": [
       "([1.0, 2.906974574808199, 0.6152338129913806],\n",
       " [1,\n",
       "  -5.551115123125783e-17,\n",
       "  2.906974574808199,\n",
       "  -6.38378239159465e-16,\n",
       "  0.6152338129913808],\n",
       " array([-2.67716677, -0.2298078 ]),\n",
       " array([1.63620499, 0.47938273]),\n",
       " array([-1.00060031e-16+1.63620499j, -1.00060031e-16-1.63620499j,\n",
       "         1.27815607e-16+0.47938273j,  1.27815607e-16-0.47938273j]),\n",
       " [1,\n",
       "  5.813949149616398,\n",
       "  9.680968804564072,\n",
       "  3.576938103856493,\n",
       "  0.3785126446479134])"
      ]
     },
     "execution_count": 78,
     "metadata": {},
     "output_type": "execute_result"
    }
   ],
   "source": [
    "#4.14 4.18 Why square of eigen values? \n",
    "# The odd grade characteristic multivectors have zero scalar\n",
    "# A correction on Lasenby's paper, not square of f, but the even outermorphism f_(x, y)\n",
    "Ck2 = [(-1)**(2 - i) * alg.sp(Ck[i], Ck[i])[0] for i in range(3)]\n",
    "char_poly = char_poly_coefs(fm, alg)\n",
    "Lk = np.roots(Ck2)\n",
    "\n",
    "Ck2, char_poly, Lk, np.sqrt(-np.array(Lk)), np.roots(char_poly), char_poly_coefs(lambda x: fm(fm(x)), alg)"
   ]
  },
  {
   "cell_type": "code",
   "execution_count": 79,
   "metadata": {},
   "outputs": [
    {
     "data": {
      "text/plain": [
       "(0.617 𝐞₁₂ + 0.165 𝐞₁₃ + 0.384 𝐞₁₄ + 0.301 𝐞₂₃ + -0.143 𝐞₂₄ + -1.5 𝐞₃₄,\n",
       " -1.17 𝐞₁₂ + 0.112 𝐞₁₃ + 0.236 𝐞₁₄ + 0.302 𝐞₂₃ + -0.129 𝐞₂₄ + 0.484 𝐞₃₄)"
      ]
     },
     "execution_count": 79,
     "metadata": {},
     "output_type": "execute_result"
    }
   ],
   "source": [
    "Ck[1], Ck[1] | Ck[2]"
   ]
  },
  {
   "cell_type": "code",
   "execution_count": 80,
   "metadata": {},
   "outputs": [
    {
     "data": {
      "text/plain": [
       "(0.617 𝐞₁₂ + 0.165 𝐞₁₃ + 0.384 𝐞₁₄ + 0.301 𝐞₂₃ + -0.143 𝐞₂₄ + -1.5 𝐞₃₄,\n",
       " 0.617 𝐞₁₂ + 0.165 𝐞₁₃ + 0.384 𝐞₁₄ + 0.301 𝐞₂₃ + -0.143 𝐞₂₄ + -1.5 𝐞₃₄,\n",
       " -1.39e-17 + 6.94e-18 𝐞₁₂ + 4.16e-17 𝐞₁₃ + -8.67e-18 𝐞₁₄ + 5.2e-18 𝐞₂₃ + -2.78e-17 𝐞₂₄ + 1.39e-17 𝐞₃₄ + -0.784 𝐞₁₂₃₄,\n",
       " -1.39e-17 + -6.94e-18 𝐞₁₂ + -5.55e-17 𝐞₁₃ + 1.39e-17 𝐞₁₄ + 2.78e-17 𝐞₂₄ + -1.39e-17 𝐞₃₄ + -0.784 𝐞₁₂₃₄,\n",
       " -2.91 + 2.78e-17 𝐞₁₄ + -1.57 𝐞₁₂₃₄,\n",
       " -0.23 + 8.67e-19 𝐞₁₃ + -1.3e-18 𝐞₁₄ + -1.73e-17 𝐞₁₂₃₄,\n",
       " -2.68 + 1.67e-16 𝐞₁₂₃₄)"
      ]
     },
     "execution_count": 80,
     "metadata": {},
     "output_type": "execute_result"
    }
   ],
   "source": [
    "#4.15\n",
    "mv_map1 = {}\n",
    "mv_map2 = {}\n",
    "ck1, ck2 = Ck[1], Ck[1] | Ck[2]\n",
    "for key in ck2.keys():\n",
    "    if np.isclose(ck1[key],0) and np.isclose(ck2[key],0):\n",
    "        continue\n",
    "    ans = np.linalg.solve(np.array([[1, 1], Lk]), [ck1[key], ck2[key]])\n",
    "    mv_map1[key], mv_map2[key] = ans\n",
    "F1 = alg.multivector(mv_map1)\n",
    "F2 = alg.multivector(mv_map2)\n",
    "F1 + F2, F, F1*F2, F2*F1, F**2, F1**2, F2**2\n"
   ]
  },
  {
   "cell_type": "code",
   "execution_count": 81,
   "metadata": {},
   "outputs": [
    {
     "data": {
      "text/plain": [
       "([-2.67716677225867, -0.22980780254952915], array([-2.67716677, -0.2298078 ]))"
      ]
     },
     "execution_count": 81,
     "metadata": {},
     "output_type": "execute_result"
    }
   ],
   "source": [
    "#4.16\n",
    "def normsq(A):\n",
    "    return A.reverse().sp(A)[0]\n",
    "(\n",
    "    [(-normsq(F) - np.sqrt((normsq(F)**2 - normsq(F ^ F))))/2,\n",
    "    (-normsq(F) + np.sqrt((normsq(F)**2 - normsq(F ^ F))))/2],\n",
    "    Lk\n",
    ")\n"
   ]
  },
  {
   "cell_type": "code",
   "execution_count": 82,
   "metadata": {},
   "outputs": [
    {
     "data": {
      "text/plain": [
       "(0.422 𝐞₁₂ + -0.0612 𝐞₁₃ + -0.133 𝐞₁₄ + -0.151 𝐞₂₃ + 0.0662 𝐞₂₄ + -0.0573 𝐞₃₄,\n",
       " 0.422 𝐞₁₂ + -0.0612 𝐞₁₃ + -0.133 𝐞₁₄ + -0.151 𝐞₂₃ + 0.0662 𝐞₂₄ + -0.0573 𝐞₃₄,\n",
       " 0.195 𝐞₁₂ + 0.226 𝐞₁₃ + 0.517 𝐞₁₄ + 0.453 𝐞₂₃ + -0.209 𝐞₂₄ + -1.44 𝐞₃₄,\n",
       " 0.195 𝐞₁₂ + 0.226 𝐞₁₃ + 0.517 𝐞₁₄ + 0.453 𝐞₂₃ + -0.209 𝐞₂₄ + -1.44 𝐞₃₄)"
      ]
     },
     "execution_count": 82,
     "metadata": {},
     "output_type": "execute_result"
    }
   ],
   "source": [
    "#4.17\n",
    "F2_ = F / (1 + (1/2/Lk[0])*(F ^ F))\n",
    "F1_ = F / (1 + (1/2/Lk[1])*(F ^ F))\n",
    "F1_, F1, F2_, F2"
   ]
  },
  {
   "cell_type": "code",
   "execution_count": 83,
   "metadata": {},
   "outputs": [],
   "source": [
    "def bivector_split(F, alg: Algebra):\n",
    "    m = alg.d // 2\n",
    "    if m <= 1:\n",
    "        return F\n",
    "    Ck = [(1/factorial(r))*wedge_power(F, r) for r in range(m+1)]\n",
    "    Ck2 = [(-1)**(2 - i) * alg.sp(Ck[i], Ck[i])[0] for i in range(m+1)]\n",
    "    Lk = np.roots(Ck2)\n",
    "    mv_map_list = [{} for _ in range(m)]\n",
    "    ck_inner_list = [alg.ip(Ck[i-1], Ck[i]) for i in range(1, len(Ck))]\n",
    "    mv_keys = set.union(*(set(ck.keys()) for ck in ck_inner_list if isinstance(ck, MultiVector)))\n",
    "    for key in mv_keys:\n",
    "        if all([np.isclose(ck[key],0) for ck in ck_inner_list]):\n",
    "            continue\n",
    "        ans = np.linalg.solve(np.array([np.ones(m), Lk]), [ck[key] for ck in ck_inner_list])\n",
    "        for i, v in enumerate(ans):\n",
    "            mv_map_list[i][key] = v\n",
    "    return [alg.multivector(mv_map) for mv_map in mv_map_list]"
   ]
  },
  {
   "cell_type": "code",
   "execution_count": 84,
   "metadata": {},
   "outputs": [
    {
     "data": {
      "text/plain": [
       "(-0.505 + 2.1e-13 𝐞₁ + 1.37e-12 𝐞₂ + -7.3e-13 𝐞₃ + -5.47e-13 𝐞₄ + 2.06e-13 𝐞₁₂ + -5.07e-15 𝐞₁₃ + -6.23e-14 𝐞₁₄ + 6.76e-14 𝐞₂₃ + 1.48e-13 𝐞₂₄ + -1.52e-13 𝐞₃₄ + -3.25e-13 𝐞₁₂₃ + 3.07e-14 𝐞₁₂₄ + -1.36e-13 𝐞₁₃₄ + -3.34e-13 𝐞₂₃₄ + -8.72e-14 𝐞₁₂₃₄,\n",
       " [array([ 1.90848033e-13, -3.94853032e-14,  7.01406106e-14,  1.06038413e-13,\n",
       "         -1.88792300e-13,  3.90365504e-14]),\n",
       "  array([1., 1., 1., 1., 1., 1.]),\n",
       "  array([8.63184448e-14, 8.63427724e-14, 8.62245341e-14, 8.62585006e-14,\n",
       "         8.63363664e-14, 8.63088864e-14]),\n",
       "  array([ 0.45228889, -2.18670658,  1.22930972,  0.81346465, -0.45730873,\n",
       "          2.21097626])])"
      ]
     },
     "execution_count": 84,
     "metadata": {},
     "output_type": "execute_result"
    }
   ],
   "source": [
    "# What if we use the above function to split a bivector that's almost a blade?\n",
    "# The result blades are R itself and its dual with a small magnitude\n",
    "# Should assert not simple before process?\n",
    "\n",
    "R = create_r_blade(2, alg) + 1e-12 * A # a blade with a small perturbation\n",
    "blades = bivector_split(R, alg)\n",
    "R**2, [terms_ratio(b, r) for r in [R, R.dual()] for b in blades]"
   ]
  },
  {
   "cell_type": "code",
   "execution_count": 85,
   "metadata": {},
   "outputs": [
    {
     "data": {
      "text/plain": [
       "-8.88e-16 𝐞₁₂ + 8.88e-15 𝐞₁₃ + -1.78e-14 𝐞₁₄ + -2.84e-14 𝐞₂₃ + -1.42e-14 𝐞₂₄ + -4.26e-14 𝐞₃₄"
      ]
     },
     "execution_count": 85,
     "metadata": {},
     "output_type": "execute_result"
    }
   ],
   "source": [
    "# double skew is symmetric\n",
    "fm2 = lambda x: fm(fm(x))\n",
    "curl(fm2, x, alg, h=1e-2, grade=1)"
   ]
  },
  {
   "cell_type": "code",
   "execution_count": 86,
   "metadata": {},
   "outputs": [
    {
     "data": {
      "text/plain": [
       "(-0.199 𝐞₁ + -0.000495 𝐞₂ + -0.0715 𝐞₃ + 0.0314 𝐞₄,\n",
       " -0.199 𝐞₁ + -0.000495 𝐞₂ + -0.0715 𝐞₃ + 0.0314 𝐞₄ + 2.37e-18 𝐞₁₂₃ + 5.4e-18 𝐞₁₂₄ + 2.49e-19 𝐞₁₃₄ + 1.5e-17 𝐞₂₃₄)"
      ]
     },
     "execution_count": 86,
     "metadata": {},
     "output_type": "execute_result"
    }
   ],
   "source": [
    "#4.19\n",
    "v = P(e1, F1)\n",
    "fm2(v), (F1 ** 2) * v"
   ]
  },
  {
   "cell_type": "code",
   "execution_count": 87,
   "metadata": {},
   "outputs": [
    {
     "data": {
      "text/plain": [
       "(0.422 𝐞₁₂ + -0.0612 𝐞₁₃ + -0.133 𝐞₁₄ + -0.151 𝐞₂₃ + 0.0662 𝐞₂₄ + -0.0573 𝐞₃₄,\n",
       " 0.422 𝐞₁₂ + -0.0612 𝐞₁₃ + -0.133 𝐞₁₄ + -0.151 𝐞₂₃ + 0.0662 𝐞₂₄ + -0.0573 𝐞₃₄)"
      ]
     },
     "execution_count": 87,
     "metadata": {},
     "output_type": "execute_result"
    }
   ],
   "source": [
    "#4.20 \n",
    "F1_eigvecs= [v.normalized() for v in gram_schmidt(blade_split(F1, alg))]\n",
    "F1, np.sqrt(normsq(F1)) * wedge(F1_eigvecs)\n"
   ]
  },
  {
   "cell_type": "code",
   "execution_count": 88,
   "metadata": {},
   "outputs": [
    {
     "data": {
      "text/plain": [
       "(-0.589 𝐞₁ + -0.808 𝐞₃,\n",
       " -0.589 𝐞₂ + -0.808 𝐞₄,\n",
       " 0.808 𝐞₁ + -0.589 𝐞₃,\n",
       " 0.808 𝐞₂ + -0.589 𝐞₄,\n",
       " 1.0 𝐞₁₂ + 1.0 𝐞₃₄,\n",
       " 0.346 𝐞₁₂ + 0.476 𝐞₁₄ + -0.476 𝐞₂₃ + 0.654 𝐞₃₄,\n",
       " 0.654 𝐞₁₂ + -0.476 𝐞₁₄ + 0.476 𝐞₂₃ + 0.346 𝐞₃₄)"
      ]
     },
     "execution_count": 88,
     "metadata": {},
     "output_type": "execute_result"
    }
   ],
   "source": [
    "# If Lk[0] == Lk[1], the linear equation has no unique solution in 4.15\n",
    "# nonunique bivector split? We should find another split of e12 + e34. \n",
    "t = 1.1\n",
    "R = blade_exp(t*e13) * blade_exp(t*e24)\n",
    "a,b,c,d = [R.sw(v) for v in alg.frame]\n",
    "a,b,c,d, a*b+c*d, a*b, c*d"
   ]
  },
  {
   "cell_type": "code",
   "execution_count": 89,
   "metadata": {},
   "outputs": [
    {
     "data": {
      "text/plain": [
       "(1.0 𝐞₁₂ + 1.0 𝐞₃₄,\n",
       " 1.0 𝐞₁₂ + 1.0 𝐞₃₄,\n",
       " 0.346 + -0.476 𝐞₁₃ + -0.476 𝐞₂₄ + -0.654 𝐞₁₂₃₄)"
      ]
     },
     "execution_count": 89,
     "metadata": {},
     "output_type": "execute_result"
    }
   ],
   "source": [
    "R.sw(e12 + e34), (e12+e34) * (R**2), R**2"
   ]
  },
  {
   "cell_type": "code",
   "execution_count": 90,
   "metadata": {},
   "outputs": [
    {
     "data": {
      "text/plain": [
       "(0.408 𝐞₁₂ + 0.0405 𝐞₁₃ + 0.719 𝐞₁₄ + 0.299 𝐞₂₃ + -0.212 𝐞₂₄ + -0.315 𝐞₃₄,\n",
       " 0.408 𝐞₁₂ + 0.0405 𝐞₁₃ + 0.719 𝐞₁₄ + 0.299 𝐞₂₃ + -0.212 𝐞₂₄ + -0.315 𝐞₃₄)"
      ]
     },
     "execution_count": 90,
     "metadata": {},
     "output_type": "execute_result"
    }
   ],
   "source": [
    "#4.21\n",
    "B2 = B.grade(2)\n",
    "# fm = lambda x: f(x) - adjoint_outermorphism(f, x, alg)\n",
    "# F = curl(fm, x, alg, grade=1) / 2\n",
    "outermorphism(fm, B2, alg), (0.5 * (B2 | (F^F))) - ((B2|F) * F)"
   ]
  },
  {
   "cell_type": "code",
   "execution_count": 91,
   "metadata": {},
   "outputs": [
    {
     "data": {
      "text/plain": [
       "(0.408 𝐞₁₂ + 0.0405 𝐞₁₃ + 0.719 𝐞₁₄ + 0.299 𝐞₂₃ + -0.212 𝐞₂₄ + -0.315 𝐞₃₄,\n",
       " 0.408 𝐞₁₂ + 0.0405 𝐞₁₃ + 0.719 𝐞₁₄ + 0.299 𝐞₂₃ + -0.212 𝐞₂₄ + -0.315 𝐞₃₄)"
      ]
     },
     "execution_count": 91,
     "metadata": {},
     "output_type": "execute_result"
    }
   ],
   "source": [
    "# What is a symmetric bivector function?\n",
    "# I guess it means:\n",
    "outermorphism(fm, B2, alg), adjoint_outermorphism(fm, B2, alg)"
   ]
  },
  {
   "cell_type": "code",
   "execution_count": 92,
   "metadata": {},
   "outputs": [
    {
     "data": {
      "text/plain": [
       "(0.0969 𝐞₁₂ + -0.0141 𝐞₁₃ + -0.0305 𝐞₁₄ + -0.0348 𝐞₂₃ + 0.0152 𝐞₂₄ + -0.0132 𝐞₃₄,\n",
       " 0.0969 𝐞₁₂ + -0.0141 𝐞₁₃ + -0.0305 𝐞₁₄ + -0.0348 𝐞₂₃ + 0.0152 𝐞₂₄ + -0.0132 𝐞₃₄)"
      ]
     },
     "execution_count": 92,
     "metadata": {},
     "output_type": "execute_result"
    }
   ],
   "source": [
    "#4.23 The bivector split solves the eigenbivector problem of a skew transformation\n",
    "outermorphism(fm, F1, alg), normsq(F1)*F1"
   ]
  },
  {
   "cell_type": "code",
   "execution_count": 93,
   "metadata": {},
   "outputs": [
    {
     "data": {
      "text/plain": [
       "(1.72 𝐞₁ + -0.58 𝐞₂ + -2.22 𝐞₃ + 2.92 𝐞₄,\n",
       " -1.04 𝐞₁ + 0.385 𝐞₂ + -0.567 𝐞₃ + -0.633 𝐞₄,\n",
       " 6.84 𝐞₁ + -0.473 𝐞₂ + 1.55 𝐞₃ + 10.4 𝐞₄,\n",
       " 1.32 𝐞₁ + 1.46 𝐞₂ + 4.85 𝐞₃ + 3.24 𝐞₄)"
      ]
     },
     "execution_count": 93,
     "metadata": {},
     "output_type": "execute_result"
    }
   ],
   "source": [
    "#5.1 normal transformation\n",
    "af = lambda x: adjoint_outermorphism(f, x, alg)\n",
    "\n",
    "fp(fm(x)), fm(fp(x)), af(f(x)), f(af(x)) # not normal"
   ]
  },
  {
   "cell_type": "code",
   "execution_count": 94,
   "metadata": {},
   "outputs": [
    {
     "data": {
      "text/plain": [
       "(6.99 𝐞₁ + -2.27 𝐞₂ + 1.32 𝐞₃ + 1.71 𝐞₄,\n",
       " 6.99 𝐞₁ + -2.27 𝐞₂ + 1.32 𝐞₃ + 1.71 𝐞₄)"
      ]
     },
     "execution_count": 94,
     "metadata": {},
     "output_type": "execute_result"
    }
   ],
   "source": [
    "M = blade_exp(create_r_blade(2, alg))\n",
    "Mdual = blade_split(M.grade(2).dual(), alg)\n",
    "rigid = lambda x: 1.1 *  M.sw(x) - 4.4 * P(x, Mdual[0]) + 3.3 * P(x, Mdual[1])\n",
    "adrigid = lambda x: adjoint_outermorphism(rigid, x, alg)\n",
    "adrigid(rigid(x)), rigid(adrigid(x))"
   ]
  },
  {
   "cell_type": "code",
   "execution_count": 95,
   "metadata": {},
   "outputs": [
    {
     "data": {
      "text/plain": [
       "(-1.89 𝐞₁ + -0.185 𝐞₂ + -0.894 𝐞₃ + 1.24 𝐞₄,\n",
       " -0.168 𝐞₁ + -0.352 𝐞₂ + -2.44 𝐞₃ + 2.47 𝐞₄ + -4.95e-17 𝐞₁₂₃ + -2.01e-17 𝐞₁₂₄ + 5.83e-18 𝐞₁₃₄ + -2.23e-16 𝐞₂₃₄)"
      ]
     },
     "execution_count": 95,
     "metadata": {},
     "output_type": "execute_result"
    }
   ],
   "source": [
    "rigid(x), 3.3 * M**2 * P(x, M.grade(2).normalized()) + 3.3 * P(x, M.grade(2).normalized().dual()) - 4.4 * P(x, Mdual[0]) + 5.5 * P(x, Mdual[1])"
   ]
  },
  {
   "cell_type": "code",
   "execution_count": 96,
   "metadata": {},
   "outputs": [
    {
     "data": {
      "text/plain": [
       "(0.617 𝐞₁₂ + 0.165 𝐞₁₃ + 0.384 𝐞₁₄ + 0.301 𝐞₂₃ + -0.143 𝐞₂₄ + -1.5 𝐞₃₄,\n",
       " 0.617 𝐞₁₂ + 0.165 𝐞₁₃ + 0.384 𝐞₁₄ + 0.301 𝐞₂₃ + -0.143 𝐞₂₄ + -1.5 𝐞₃₄,\n",
       " 0.202 𝐞₁₂ + -0.0294 𝐞₁₃ + -0.0636 𝐞₁₄ + -0.0726 𝐞₂₃ + 0.0317 𝐞₂₄ + -0.0275 𝐞₃₄,\n",
       " 0.202 𝐞₁₂ + -0.0294 𝐞₁₃ + -0.0636 𝐞₁₄ + -0.0726 𝐞₂₃ + 0.0317 𝐞₂₄ + -0.0275 𝐞₃₄)"
      ]
     },
     "execution_count": 96,
     "metadata": {},
     "output_type": "execute_result"
    }
   ],
   "source": [
    "#5.2\n",
    "def norm(A):\n",
    "    return np.sqrt(normsq(A))\n",
    "b1, b2 = norm(F1), norm(F2)\n",
    "i1, i2 = F1/b1, F2/b2\n",
    "\n",
    "F, b1*i1 + b2*i2, outermorphism(fm, i1, alg), b1**2*i1"
   ]
  },
  {
   "cell_type": "code",
   "execution_count": 97,
   "metadata": {},
   "outputs": [
    {
     "data": {
      "text/plain": [
       "array([-2.7703409 , -0.90528792, -2.51418724, -6.47320786, 22.23960277,\n",
       "       -3.66735242])"
      ]
     },
     "execution_count": 97,
     "metadata": {},
     "output_type": "execute_result"
    }
   ],
   "source": [
    "# 5.3\n",
    "terms_ratio(outermorphism(fp, i1, alg), i1) # not normal"
   ]
  },
  {
   "cell_type": "code",
   "execution_count": 98,
   "metadata": {},
   "outputs": [
    {
     "data": {
      "text/plain": [
       "[array([0.00791421, 0.00791421, 0.00791421, 0.00791421, 0.00791421,\n",
       "        0.00791421])]"
      ]
     },
     "execution_count": 98,
     "metadata": {},
     "output_type": "execute_result"
    }
   ],
   "source": [
    "# 5.3\n",
    "def sym_part(f, alg):\n",
    "    return lambda x: (f(x) + adjoint_outermorphism(f, x, alg))/2\n",
    "\n",
    "def skew_part(f, alg):\n",
    "    return lambda x: (f(x) - adjoint_outermorphism(f, x, alg))/2\n",
    "\n",
    "R = curl(rigid, x, alg, grade=1)/2\n",
    "skew_blades = bivector_split(R, alg)\n",
    "skew_eigs = [norm(b) for b in skew_blades]\n",
    "skew_blades = [b / e for b,e in zip(skew_blades, skew_eigs) if e > 1e-6]\n",
    "skew_eigs = [e for e in skew_eigs if e > 1e-6]\n",
    "rigid_p = sym_part(rigid, alg)\n",
    "[terms_ratio(outermorphism(rigid_p, i, alg), i) for i in skew_blades]"
   ]
  },
  {
   "cell_type": "code",
   "execution_count": 99,
   "metadata": {},
   "outputs": [
    {
     "data": {
      "text/plain": [
       "([-0.08896186524412794], array([0.00791421]), [0.007914213308357558])"
      ]
     },
     "execution_count": 99,
     "metadata": {},
     "output_type": "execute_result"
    }
   ],
   "source": [
    "#5.4\n",
    "rand_vec = create_r_vectors(1, alg)[0]\n",
    "sym_vecs = [(rand_vec | i).normalized() for i in skew_blades]\n",
    "other_sym_space = wedge(skew_blades).dual()\n",
    "sym_eigs = [terms_ratio(rigid_p(a), a)[0] for a in sym_vecs]\n",
    "\n",
    "sym_eigs, np.square(sym_eigs), [terms_ratio(outermorphism(rigid_p, i, alg), i)[0] for i in skew_blades]\n"
   ]
  },
  {
   "cell_type": "code",
   "execution_count": 100,
   "metadata": {},
   "outputs": [
    {
     "data": {
      "text/plain": [
       "([-0.102 𝐞₁ + -0.628 𝐞₂ + -0.608 𝐞₃ + -0.66 𝐞₄],\n",
       " [-0.102 𝐞₁ + -0.628 𝐞₂ + -0.608 𝐞₃ + -0.66 𝐞₄ + -6.94e-18 𝐞₁₂₃ + 3.47e-18 𝐞₁₂₄ + 2.78e-17 𝐞₁₃₄],\n",
       " [-0.102 𝐞₁ + -0.628 𝐞₂ + -0.608 𝐞₃ + -0.66 𝐞₄ + 1.39e-17 𝐞₁₂₃ + -1.73e-18 𝐞₁₂₄ + -2.78e-17 𝐞₁₃₄])"
      ]
     },
     "execution_count": 100,
     "metadata": {},
     "output_type": "execute_result"
    }
   ],
   "source": [
    "#5.5a\n",
    "m = len(skew_blades)\n",
    "rigid_eigs = [sym_eigs[k] + skew_blades[k] * skew_eigs[k] for k in range(m)]\n",
    "[rigid(a) for a in sym_vecs], [a*l for a, l in zip(sym_vecs,rigid_eigs)], [l.reverse()*a for a, l in zip(sym_vecs,rigid_eigs)]"
   ]
  },
  {
   "cell_type": "code",
   "execution_count": 101,
   "metadata": {},
   "outputs": [
    {
     "data": {
      "text/plain": [
       "([0.0773 𝐞₁ + 0.567 𝐞₂ + 0.747 𝐞₃ + 0.57 𝐞₄],\n",
       " [0.0773 𝐞₁ + 0.567 𝐞₂ + 0.747 𝐞₃ + 0.57 𝐞₄ + -1.39e-17 𝐞₁₂₃ + 1.73e-18 𝐞₁₂₄ + 2.78e-17 𝐞₁₃₄],\n",
       " [0.0773 𝐞₁ + 0.567 𝐞₂ + 0.747 𝐞₃ + 0.57 𝐞₄ + 6.94e-18 𝐞₁₂₃ + -3.47e-18 𝐞₁₂₄ + -2.78e-17 𝐞₁₃₄])"
      ]
     },
     "execution_count": 101,
     "metadata": {},
     "output_type": "execute_result"
    }
   ],
   "source": [
    "#5.5b\n",
    "[adjoint_outermorphism(rigid, a, alg) for a in sym_vecs], [l*a for a, l in zip(sym_vecs,rigid_eigs)], [a*l.reverse() for a, l in zip(sym_vecs,rigid_eigs)]"
   ]
  },
  {
   "cell_type": "code",
   "execution_count": 102,
   "metadata": {},
   "outputs": [
    {
     "data": {
      "text/plain": [
       "([1.1000000000348897], [1.1000000000348895])"
      ]
     },
     "execution_count": 102,
     "metadata": {},
     "output_type": "execute_result"
    }
   ],
   "source": [
    "[norm(l) for l in rigid_eigs], [np.sqrt(sym_eigs[k] ** 2 + skew_eigs[k] ** 2) for k in range(m)]"
   ]
  },
  {
   "cell_type": "code",
   "execution_count": 103,
   "metadata": {},
   "outputs": [
    {
     "data": {
      "text/plain": [
       "([-0.089 + -0.0522 𝐞₁₂ + -0.163 𝐞₁₃ + -0.0396 𝐞₁₄ + -0.696 𝐞₂₃ + 0.0944 𝐞₂₄ + 0.823 𝐞₃₄],\n",
       " [-0.089 + -0.0522 𝐞₁₂ + -0.163 𝐞₁₃ + -0.0396 𝐞₁₄ + -0.696 𝐞₂₃ + 0.0944 𝐞₂₄ + 0.823 𝐞₃₄])"
      ]
     },
     "execution_count": 103,
     "metadata": {},
     "output_type": "execute_result"
    }
   ],
   "source": [
    "#5.6\n",
    "rho = [norm(l) for l in rigid_eigs] # dilation\n",
    "theta = [np.arccos(sym_eigs[k] / rho[k]) for k in range(m)] # rotation angle\n",
    "\n",
    "rigid_eigs, [rho[k] * blade_exp(theta[k] * skew_blades[k]) for k in range(m)] # skew_blades gives rotation plane"
   ]
  },
  {
   "cell_type": "code",
   "execution_count": 104,
   "metadata": {},
   "outputs": [
    {
     "data": {
      "text/plain": [
       "0.08896186524413081"
      ]
     },
     "execution_count": 104,
     "metadata": {},
     "output_type": "execute_result"
    }
   ],
   "source": [
    "np.sqrt(1 - (skew_eigs[0]/rho[0])**2) * rho[0]"
   ]
  },
  {
   "cell_type": "code",
   "execution_count": 105,
   "metadata": {},
   "outputs": [
    {
     "data": {
      "text/plain": [
       "array([ 4.37231338, -3.27231338])"
      ]
     },
     "execution_count": 105,
     "metadata": {},
     "output_type": "execute_result"
    }
   ],
   "source": [
    "# spectral decomposition of symmetric part in other_sym_space\n",
    "other_sym_frame = blade_split(other_sym_space, alg)\n",
    "other_sym_eigs = np.roots(char_poly_coefs(rigid_p, alg, other_sym_frame, reciprocal(other_sym_frame)))\n",
    "other_sym_eigs"
   ]
  },
  {
   "cell_type": "code",
   "execution_count": 106,
   "metadata": {},
   "outputs": [
    {
     "data": {
      "text/plain": [
       "(-1.89 𝐞₁ + -0.185 𝐞₂ + -0.894 𝐞₃ + 1.24 𝐞₄,\n",
       " -1.89 𝐞₁ + -0.185 𝐞₂ + -0.894 𝐞₃ + 1.24 𝐞₄ + 6.72e-18 𝐞₁₂₃ + -6.83e-18 𝐞₁₂₄ + -2.73e-17 𝐞₁₃₄ + -5.38e-17 𝐞₂₃₄)"
      ]
     },
     "execution_count": 106,
     "metadata": {},
     "output_type": "execute_result"
    }
   ],
   "source": [
    "#5.9 spectral decomposition of a normal transformation\n",
    "sym_vecs_dual = [a|i for a, i in zip(sym_vecs, skew_blades)]\n",
    "other_sym_blades = eigenblades_from_values(rigid_p, other_sym_eigs, alg, other_sym_frame)\n",
    "\n",
    "rigid(x), sum([P(x, a) * l for a, l in zip(sym_vecs + sym_vecs_dual + other_sym_blades, rigid_eigs * 2 + list(other_sym_eigs))])"
   ]
  },
  {
   "cell_type": "code",
   "execution_count": 107,
   "metadata": {},
   "outputs": [
    {
     "data": {
      "text/plain": [
       "(array([-3.27231338, -0.08896186, -0.08896186,  4.37231338]),\n",
       " [-0.986 𝐞₁ + 0.0531 𝐞₂ + -0.0535 𝐞₃ + 0.151 𝐞₄,\n",
       "  -0.0584 𝐞₁ + 0.0688 𝐞₂ + 0.994 𝐞₃ + -0.0536 𝐞₄,\n",
       "  -0.15 𝐞₁ + -0.638 𝐞₂ + -0.00533 𝐞₃ + -0.755 𝐞₄,\n",
       "  0.0512 𝐞₁ + -0.765 𝐞₂ + 0.0902 𝐞₃ + 0.636 𝐞₄])"
      ]
     },
     "execution_count": 107,
     "metadata": {},
     "output_type": "execute_result"
    }
   ],
   "source": [
    "#5.17\n",
    "sym_eigs, sym_vecs = np.linalg.eigh(trans2matrix(rigid_p, alg))\n",
    "sym_vecs = [alg.vector(v) for v in sym_vecs.transpose()]\n",
    "sym_eigs, sym_vecs"
   ]
  },
  {
   "cell_type": "code",
   "execution_count": 108,
   "metadata": {},
   "outputs": [
    {
     "data": {
      "text/plain": [
       "[array([10.70803486, 10.70803486, 10.70803486, 10.70803486]),\n",
       " array([1.21, 1.21, 1.21, 1.21]),\n",
       " array([1.21, 1.21, 1.21, 1.21]),\n",
       " array([19.1171243, 19.1171243, 19.1171243, 19.1171243])]"
      ]
     },
     "execution_count": 108,
     "metadata": {},
     "output_type": "execute_result"
    }
   ],
   "source": [
    "# In my case, all vectors are both eigenvectors of rigid_p and rigid_n\n",
    "rigid_n = lambda x: rigid(adjoint_outermorphism(rigid, x, alg))\n",
    "[terms_ratio(rigid_n(v), v) for v in sym_vecs]"
   ]
  },
  {
   "cell_type": "code",
   "execution_count": 109,
   "metadata": {},
   "outputs": [
    {
     "data": {
      "text/plain": [
       "(-1.89 𝐞₁ + -0.185 𝐞₂ + -0.894 𝐞₃ + 1.24 𝐞₄,\n",
       " -1.89 𝐞₁ + -0.185 𝐞₂ + -0.894 𝐞₃ + 1.24 𝐞₄ + 1.37e-17 𝐞₁₂₃ + -1.59e-18 𝐞₁₂₄ + 3.17e-18 𝐞₁₃₄ + 5.77e-17 𝐞₂₃₄)"
      ]
     },
     "execution_count": 109,
     "metadata": {},
     "output_type": "execute_result"
    }
   ],
   "source": [
    "# the same spectral decomposition of the normal transformation\n",
    "beta = [v ^ rigid(v) for v in sym_vecs]\n",
    "rigid_eigs = [a + b for a,b in zip(sym_eigs, beta)]\n",
    "rigid(x), sum([P(x, a) * l for a, l in zip(sym_vecs, rigid_eigs)])"
   ]
  },
  {
   "cell_type": "code",
   "execution_count": 110,
   "metadata": {},
   "outputs": [
    {
     "data": {
      "text/plain": [
       "(0.0862 + 0.419 𝐞₁ + 0.81 𝐞₂ + 0.859 𝐞₃ + 0.0122 𝐞₄ + 0.182 𝐞₁₂ + 0.325 𝐞₁₃ + 0.269 𝐞₁₄ + 0.146 𝐞₂₃ + 0.314 𝐞₂₄ + 0.523 𝐞₃₄ + 0.916 𝐞₁₂₃ + 0.815 𝐞₁₂₄ + 0.0614 𝐞₁₃₄ + 0.85 𝐞₂₃₄ + 0.201 𝐞₁₂₃₄,\n",
       " 0.0862 + 3.92 𝐞₁ + 7.79 𝐞₂ + 0.422 𝐞₃ + -6.42 𝐞₄ + -4.26 𝐞₁₂ + 5.2 𝐞₁₃ + 9.13 𝐞₁₄ + 7.61 𝐞₂₃ + 5.29 𝐞₂₄ + 7.53 𝐞₃₄ + 1.31e+02 𝐞₁₂₃ + 1.99e+02 𝐞₁₂₄ + 77.6 𝐞₁₃₄ + -6.01 𝐞₂₃₄ + 60.1 𝐞₁₂₃₄)"
      ]
     },
     "execution_count": 110,
     "metadata": {},
     "output_type": "execute_result"
    }
   ],
   "source": [
    "#5.19 our function \"rigid\" is normal but not orthogonal\n",
    "A, outermorphism(rigid, adjoint_outermorphism(rigid, A, alg, h=1e-2), alg, h=1e-2)"
   ]
  },
  {
   "cell_type": "code",
   "execution_count": 111,
   "metadata": {},
   "outputs": [
    {
     "data": {
      "text/plain": [
       "(0.0862 + 0.419 𝐞₁ + 0.81 𝐞₂ + 0.859 𝐞₃ + 0.0122 𝐞₄ + 0.182 𝐞₁₂ + 0.325 𝐞₁₃ + 0.269 𝐞₁₄ + 0.146 𝐞₂₃ + 0.314 𝐞₂₄ + 0.523 𝐞₃₄ + 0.916 𝐞₁₂₃ + 0.815 𝐞₁₂₄ + 0.0614 𝐞₁₃₄ + 0.85 𝐞₂₃₄ + 0.201 𝐞₁₂₃₄,\n",
       " 0.0862 + 0.419 𝐞₁ + 0.81 𝐞₂ + 0.859 𝐞₃ + 0.0122 𝐞₄ + 0.182 𝐞₁₂ + 0.325 𝐞₁₃ + 0.269 𝐞₁₄ + 0.146 𝐞₂₃ + 0.314 𝐞₂₄ + 0.523 𝐞₃₄ + 0.916 𝐞₁₂₃ + 0.815 𝐞₁₂₄ + 0.0614 𝐞₁₃₄ + 0.85 𝐞₂₃₄ + 0.201 𝐞₁₂₃₄)"
      ]
     },
     "execution_count": 111,
     "metadata": {},
     "output_type": "execute_result"
    }
   ],
   "source": [
    "#5.19 But if we normalize each \"eigenvalues\" in the spectral decomposition\n",
    "ortho_eigs = [l.normalized() for l in rigid_eigs]\n",
    "ortho = lambda x: sum([P(x, a) * l for a, l in zip(sym_vecs, ortho_eigs)])\n",
    "A, outermorphism(ortho, adjoint_outermorphism(ortho, A, alg, h=1e-2), alg, h=1e-2)"
   ]
  },
  {
   "cell_type": "code",
   "execution_count": 112,
   "metadata": {},
   "outputs": [
    {
     "data": {
      "text/plain": [
       "(-0.501 𝐞₁ + 0.158 𝐞₂ + -0.791 𝐞₃ + 0.614 𝐞₄ + -8.94e-18 𝐞₁₂₃ + 4.57e-18 𝐞₁₂₄ + -1.56e-18 𝐞₁₃₄ + 1.36e-17 𝐞₂₃₄,\n",
       " -0.501 𝐞₁ + 0.158 𝐞₂ + -0.791 𝐞₃ + 0.614 𝐞₄ + -1.84e-17 𝐞₁₂₃ + 1.46e-18 𝐞₁₂₄ + -1.78e-17 𝐞₁₃₄ + -1.21e-16 𝐞₂₃₄)"
      ]
     },
     "execution_count": 112,
     "metadata": {},
     "output_type": "execute_result"
    }
   ],
   "source": [
    "#5.20 left/right product of exponential\n",
    "ortho(x), sum([l.inv() * P(x, a) for a, l in zip(sym_vecs, ortho_eigs)])"
   ]
  },
  {
   "cell_type": "code",
   "execution_count": 113,
   "metadata": {},
   "outputs": [
    {
     "data": {
      "text/plain": [
       "([-3.3e-17 + -0.0647 𝐞₁₂ + -0.983 𝐞₁₃ + 0.0616 𝐞₁₄ + 0.0565 𝐞₂₃ + -0.0132 𝐞₂₄ + -0.147 𝐞₃₄,\n",
       "  -1.39e-17 + 0.0476 𝐞₁₂ + 0.149 𝐞₁₃ + 0.0361 𝐞₁₄ + 0.635 𝐞₂₃ + -0.0861 𝐞₂₄ + -0.751 𝐞₃₄,\n",
       "  2.22e-16 + 0.147 𝐞₁₂ + -0.0132 𝐞₁₃ + -0.0565 𝐞₁₄ + -0.0616 𝐞₂₃ + -0.983 𝐞₂₄ + 0.0647 𝐞₃₄],\n",
       " [-0.628 𝐞₁₂ + -0.126 𝐞₁₃ + 0.753 𝐞₁₄ + 0.0449 𝐞₂₃ + -0.142 𝐞₂₄ + 0.0254 𝐞₃₄,\n",
       "  -0.0476 𝐞₁₂ + -0.149 𝐞₁₃ + -0.0361 𝐞₁₄ + -0.635 𝐞₂₃ + 0.0861 𝐞₂₄ + 0.751 𝐞₃₄,\n",
       "  -0.0476 𝐞₁₂ + -0.149 𝐞₁₃ + -0.0361 𝐞₁₄ + -0.635 𝐞₂₃ + 0.0861 𝐞₂₄ + 0.751 𝐞₃₄,\n",
       "  0.384 𝐞₁₂ + -0.0168 𝐞₁₃ + -0.256 𝐞₁₄ + -0.384 𝐞₂₃ + -0.768 𝐞₂₄ + -0.223 𝐞₃₄])"
      ]
     },
     "execution_count": 113,
     "metadata": {},
     "output_type": "execute_result"
    }
   ],
   "source": [
    "#5.21\n",
    "(\n",
    "    [sym_vecs[k-1].normalized() * sym_vecs[k].normalized() for k in range(1, 4)],\n",
    "    [e.grade(2).normalized() for e in ortho_eigs]\n",
    ")\n"
   ]
  },
  {
   "cell_type": "code",
   "execution_count": 114,
   "metadata": {},
   "outputs": [
    {
     "data": {
      "text/plain": [
       "([-0.986 𝐞₁ + 0.0531 𝐞₂ + -0.0535 𝐞₃ + 0.151 𝐞₄,\n",
       "  -0.0584 𝐞₁ + 0.0688 𝐞₂ + 0.994 𝐞₃ + -0.0536 𝐞₄,\n",
       "  -0.15 𝐞₁ + -0.638 𝐞₂ + -0.00533 𝐞₃ + -0.755 𝐞₄,\n",
       "  0.0512 𝐞₁ + -0.765 𝐞₂ + 0.0902 𝐞₃ + 0.636 𝐞₄],\n",
       " [[-0.986 𝐞₁ + 0.0531 𝐞₂ + -0.0535 𝐞₃ + 0.151 𝐞₄,\n",
       "   -0.986 𝐞₁ + 0.0531 𝐞₂ + -0.0535 𝐞₃ + 0.151 𝐞₄,\n",
       "   -0.986 𝐞₁ + 0.0531 𝐞₂ + -0.0535 𝐞₃ + 0.151 𝐞₄],\n",
       "  [0.154 𝐞₁ + 0.631 𝐞₂ + -0.0751 𝐞₃ + 0.757 𝐞₄,\n",
       "   0.154 𝐞₁ + 0.631 𝐞₂ + -0.0751 𝐞₃ + 0.757 𝐞₄,\n",
       "   -0.0584 𝐞₁ + 0.0688 𝐞₂ + 0.994 𝐞₃ + -0.0536 𝐞₄],\n",
       "  [-0.0462 𝐞₁ + 0.12 𝐞₂ + 0.992 𝐞₃ + 0.00764 𝐞₄,\n",
       "   -0.0462 𝐞₁ + 0.12 𝐞₂ + 0.992 𝐞₃ + 0.00764 𝐞₄,\n",
       "   -0.15 𝐞₁ + -0.638 𝐞₂ + -0.00533 𝐞₃ + -0.755 𝐞₄],\n",
       "  [0.0512 𝐞₁ + -0.765 𝐞₂ + 0.0902 𝐞₃ + 0.636 𝐞₄,\n",
       "   0.0512 𝐞₁ + -0.765 𝐞₂ + 0.0902 𝐞₃ + 0.636 𝐞₄,\n",
       "   0.0512 𝐞₁ + -0.765 𝐞₂ + 0.0902 𝐞₃ + 0.636 𝐞₄]])"
      ]
     },
     "execution_count": 114,
     "metadata": {},
     "output_type": "execute_result"
    }
   ],
   "source": [
    "#5.23\n",
    "def simple_rotor_sqrt(R):\n",
    "    # for rotations only, don't use on screw motions\n",
    "    R_norm = norm(R+1)\n",
    "    assert R_norm >= 1e-4, \"no explicit square root for -1\"\n",
    "    return (R + 1)/R_norm\n",
    "    \n",
    "neg_eig_pairs = []\n",
    "eig_rotors = []\n",
    "for i, e in enumerate(ortho_eigs):\n",
    "    if normsq(e + 1) <= 1e-4:\n",
    "        neg_eig_pairs.append((-1, sym_vecs[i]))\n",
    "    else:\n",
    "        eig_rotors.append(simple_rotor_sqrt(e))\n",
    "\n",
    "sym_vecs, [[e.reverse().sw(a) for e in eig_rotors] for a in sym_vecs]"
   ]
  },
  {
   "cell_type": "code",
   "execution_count": 115,
   "metadata": {},
   "outputs": [
    {
     "data": {
      "text/plain": [
       "(-0.501 𝐞₁ + 0.158 𝐞₂ + -0.791 𝐞₃ + 0.614 𝐞₄ + -8.94e-18 𝐞₁₂₃ + 4.57e-18 𝐞₁₂₄ + -1.56e-18 𝐞₁₃₄ + 1.36e-17 𝐞₂₃₄,\n",
       " -0.501 𝐞₁ + 0.158 𝐞₂ + -0.791 𝐞₃ + 0.614 𝐞₄)"
      ]
     },
     "execution_count": 115,
     "metadata": {},
     "output_type": "execute_result"
    }
   ],
   "source": [
    "#5.25 I selected an example with -1 as an eigenvalue, \n",
    "# so we need an extra fix for the canonical form.\n",
    "theta = reduce(alg.gp, eig_rotors[::2])\n",
    "(\n",
    "    ortho(x),\n",
    "    theta.reverse().sw(x) - (2*sum(P(x, neg_eig_pairs[i][1]) for i in range(len(neg_eig_pairs))))\n",
    ")\n"
   ]
  },
  {
   "cell_type": "code",
   "execution_count": 116,
   "metadata": {},
   "outputs": [
    {
     "data": {
      "text/plain": [
       "(-0.058 + 0.0792 𝐞₁₂ + 0.126 𝐞₁₃ + 0.288 𝐞₁₄ + 0.254 𝐞₂₃ + -0.117 𝐞₂₄ + -0.775 𝐞₃₄ + -0.46 𝐞₁₂₃₄,\n",
       " -0.058 + 0.0792 𝐞₁₂ + 0.126 𝐞₁₃ + 0.288 𝐞₁₄ + 0.254 𝐞₂₃ + -0.117 𝐞₂₄ + -0.775 𝐞₃₄ + -0.46 𝐞₁₂₃₄)"
      ]
     },
     "execution_count": 116,
     "metadata": {},
     "output_type": "execute_result"
    }
   ],
   "source": [
    "#5.28\n",
    "blade_exp(F1) * blade_exp(F2), blade_exp(F2) * blade_exp(F1), "
   ]
  },
  {
   "cell_type": "code",
   "execution_count": 117,
   "metadata": {},
   "outputs": [
    {
     "data": {
      "text/plain": [
       "(0.887 + 0.406 𝐞₁₂ + -0.0589 𝐞₁₃ + -0.128 𝐞₁₄ + -0.146 𝐞₂₃ + 0.0637 𝐞₂₄ + -0.0551 𝐞₃₄,\n",
       " 0.887 + 0.406 𝐞₁₂ + -0.0589 𝐞₁₃ + -0.128 𝐞₁₄ + -0.146 𝐞₂₃ + 0.0637 𝐞₂₄ + -0.0551 𝐞₃₄)"
      ]
     },
     "execution_count": 117,
     "metadata": {},
     "output_type": "execute_result"
    }
   ],
   "source": [
    "#5.29\n",
    "blade_exp_ = blade_exp(F1)\n",
    "u1 = P(e1, F1).normalized()\n",
    "u2 = u1 | blade_exp_\n",
    "blade_exp_, u1 * u2"
   ]
  },
  {
   "cell_type": "code",
   "execution_count": 118,
   "metadata": {},
   "outputs": [
    {
     "data": {
      "text/plain": [
       "(-0.54 𝐞₁ + 0.411 𝐞₂ + 0.529 𝐞₃ + 0.734 𝐞₄,\n",
       " -0.54 𝐞₁ + 0.411 𝐞₂ + 0.529 𝐞₃ + 0.734 𝐞₄)"
      ]
     },
     "execution_count": 118,
     "metadata": {},
     "output_type": "execute_result"
    }
   ],
   "source": [
    "# reflection as sandwich product\n",
    "x - 2 * P(x, neg_eig_pairs[0][1]), -neg_eig_pairs[0][1].sw(x)"
   ]
  },
  {
   "cell_type": "code",
   "execution_count": 119,
   "metadata": {},
   "outputs": [
    {
     "data": {
      "text/plain": [
       "(-0.501 𝐞₁ + 0.158 𝐞₂ + -0.791 𝐞₃ + 0.614 𝐞₄ + -8.94e-18 𝐞₁₂₃ + 4.57e-18 𝐞₁₂₄ + -1.56e-18 𝐞₁₃₄ + 1.36e-17 𝐞₂₃₄,\n",
       " -0.501 𝐞₁ + 0.158 𝐞₂ + -0.791 𝐞₃ + 0.614 𝐞₄,\n",
       " -0.501 𝐞₁ + 0.158 𝐞₂ + -0.791 𝐞₃ + 0.614 𝐞₄)"
      ]
     },
     "execution_count": 119,
     "metadata": {},
     "output_type": "execute_result"
    }
   ],
   "source": [
    "#5.30\n",
    "theta2 = theta * neg_eig_pairs[0][1]\n",
    "ortho(x), -neg_eig_pairs[0][1].sw(theta.reverse().sw(x)), -theta2.reverse().sw(x)"
   ]
  },
  {
   "cell_type": "code",
   "execution_count": 120,
   "metadata": {},
   "outputs": [
    {
     "data": {
      "text/plain": [
       "(0.856 𝐞₁₂₃ + -0.496 𝐞₁₂₄ + 0.108 𝐞₁₃₄ + 0.0982 𝐞₂₃₄,\n",
       " 0.856 𝐞₁₂₃ + -0.496 𝐞₁₂₄ + 0.108 𝐞₁₃₄ + 0.0982 𝐞₂₃₄)"
      ]
     },
     "execution_count": 120,
     "metadata": {},
     "output_type": "execute_result"
    }
   ],
   "source": [
    "#5.37a\n",
    "outermorphism(ortho, A3, alg), (-1)**(3*1)*theta2.reverse().sw(A3)"
   ]
  },
  {
   "cell_type": "code",
   "execution_count": 121,
   "metadata": {},
   "outputs": [
    {
     "data": {
      "text/plain": [
       "(0.0853 𝐞₁₂ + -0.218 𝐞₁₃ + -0.00151 𝐞₁₄ + 0.949 𝐞₂₃ + 0.484 𝐞₂₄ + -1.22 𝐞₃₄,\n",
       " 0.0853 𝐞₁₂ + -0.218 𝐞₁₃ + -0.00151 𝐞₁₄ + 0.949 𝐞₂₃ + 0.484 𝐞₂₄ + -1.22 𝐞₃₄)"
      ]
     },
     "execution_count": 121,
     "metadata": {},
     "output_type": "execute_result"
    }
   ],
   "source": [
    "#5.37b\n",
    "adjoint_outermorphism(ortho, F2, alg), (-1)**(2*1)*theta2.sw(F2)"
   ]
  },
  {
   "cell_type": "code",
   "execution_count": 122,
   "metadata": {},
   "outputs": [
    {
     "data": {
      "text/plain": [
       "(-1.04 𝐞₁ + 0.644 𝐞₂ + -0.388 𝐞₃ + 0.0242 𝐞₄ + -0.517 𝐞₁₂₃ + -0.822 𝐞₁₂₄ + 0.0601 𝐞₁₃₄ + 0.281 𝐞₂₃₄,\n",
       " -1.04 𝐞₁ + 0.644 𝐞₂ + -0.388 𝐞₃ + 0.0242 𝐞₄ + -0.517 𝐞₁₂₃ + -0.822 𝐞₁₂₄ + 0.0601 𝐞₁₃₄ + 0.281 𝐞₂₃₄)"
      ]
     },
     "execution_count": 122,
     "metadata": {},
     "output_type": "execute_result"
    }
   ],
   "source": [
    "#5.38\n",
    "outermorphism(ortho, A3 * F2, alg), outermorphism(ortho, A3, alg) * outermorphism(ortho, F2, alg)"
   ]
  },
  {
   "cell_type": "code",
   "execution_count": 123,
   "metadata": {},
   "outputs": [
    {
     "data": {
      "text/plain": [
       "-2.98 + -6.94e-18 𝐞₁₂ + -1.39e-17 𝐞₁₃ + 2.78e-17 𝐞₂₄ + -1.39e-17 𝐞₂₅ + -1.66 𝐞₁₂₃₄ + 1.27 𝐞₁₂₃₅ + 0.924 𝐞₁₂₄₅ + -0.274 𝐞₁₃₄₅ + -1.31 𝐞₂₃₄₅"
      ]
     },
     "execution_count": 123,
     "metadata": {},
     "output_type": "execute_result"
    }
   ],
   "source": [
    "#5.39\n",
    "from scipy.stats import ortho_group\n",
    "matrix = ortho_group.rvs(dim=5)\n",
    "alg = Algebra(5)\n",
    "ortho = matrix2trans(matrix, alg)\n",
    "x = create_r_vectors(1, alg)[0]\n",
    "ortho_curl = curl(ortho, x, alg, grade=1)\n",
    "ortho_curl ** 2"
   ]
  },
  {
   "cell_type": "code",
   "execution_count": 124,
   "metadata": {},
   "outputs": [
    {
     "data": {
      "text/plain": [
       "(0.653 𝐞₁ + 0.91 𝐞₂ + 0.954 𝐞₃ + 0.494 𝐞₄ + 0.243 𝐞₅,\n",
       " 0.653 𝐞₁ + 0.91 𝐞₂ + 0.954 𝐞₃ + 0.494 𝐞₄ + 0.243 𝐞₅)"
      ]
     },
     "execution_count": 124,
     "metadata": {},
     "output_type": "execute_result"
    }
   ],
   "source": [
    "# check orthogonality\n",
    "x, ortho(adjoint_outermorphism(ortho, x, alg, h=1e-2))"
   ]
  },
  {
   "cell_type": "code",
   "execution_count": 125,
   "metadata": {},
   "outputs": [
    {
     "data": {
      "text/plain": [
       "(-0.495 𝐞₁ + 0.104 𝐞₂ + 0.348 𝐞₃ + -0.478 𝐞₄ + -0.628 𝐞₅,\n",
       " -0.495 𝐞₁ + 0.104 𝐞₂ + 0.348 𝐞₃ + -0.478 𝐞₄ + -0.628 𝐞₅)"
      ]
     },
     "execution_count": 125,
     "metadata": {},
     "output_type": "execute_result"
    }
   ],
   "source": [
    "# only a single vector left in the dual of skew blades, \n",
    "# so it's the remaining eigenvector for the symmetric part\n",
    "\n",
    "skew_blades = bivector_split(ortho_curl/2, alg)\n",
    "sym_vec = reduce(alg.ip, skew_blades, alg.pseudoscalar((1,))).normalized()\n",
    "ortho(sym_vec), sym_vec"
   ]
  },
  {
   "cell_type": "code",
   "execution_count": 126,
   "metadata": {},
   "outputs": [
    {
     "data": {
      "text/plain": [
       "(-0.449 𝐞₁ + -0.563 𝐞₂ + -0.291 𝐞₃ + -1.23 𝐞₄ + 0.585 𝐞₅ + -4.86e-17 𝐞₁₂₃₄₅,\n",
       " -0.166 𝐞₁ + -0.622 𝐞₂ + -0.489 𝐞₃ + -0.961 𝐞₄ + 0.943 𝐞₅)"
      ]
     },
     "execution_count": 126,
     "metadata": {},
     "output_type": "execute_result"
    }
   ],
   "source": [
    "rotors = []\n",
    "for blade in skew_blades:\n",
    "    t = P(sum(alg.frame), blade)\n",
    "    blade_norm = norm(blade)\n",
    "    # we can't simply rely on ortho_m, \n",
    "    # e.g. angle = np.arcsin(blade_norm) has an ambiguity for rotors.\n",
    "    # Since (pi - angle) also generates the same sine/cosine square, but differnt rotors.\n",
    "    # +-angle generates the same cosine, but blade.normalized() determines the orientation\n",
    "    \n",
    "    angle = np.arccos(np.median(terms_ratio(ortho(t) - (t | ortho_curl)/2, t)))\n",
    "    half_blade_ortho = (angle/blade_norm/2) * blade.reverse()\n",
    "    rotors.append(blade_exp(half_blade_ortho))\n",
    "rotor = reduce(alg.gp, rotors)\n",
    "rotor2 = sym_vec * rotor\n",
    "xd = P(x, sym_vec.dual())\n",
    "-rotor2.sw(x), ortho(x)"
   ]
  },
  {
   "cell_type": "code",
   "execution_count": 127,
   "metadata": {},
   "outputs": [
    {
     "data": {
      "text/plain": [
       "array([0.29582615, 0.29582615, 0.29582615, 0.29582615, 0.29582615,\n",
       "       0.29582615, 0.29582615, 0.29582615, 0.29582615, 0.29582615,\n",
       "       0.29582615, 0.29582615, 0.29582615, 0.29582615, 0.29582615,\n",
       "       0.29582615])"
      ]
     },
     "execution_count": 127,
     "metadata": {},
     "output_type": "execute_result"
    }
   ],
   "source": [
    "# On the other hand, we can solve the rotor part by Lasenby's method\n",
    "frame = [item for blade in skew_blades for item in blade_split(blade, alg)]\n",
    "r_frame = reciprocal(frame)\n",
    "lasenby_rotor = sum(char_multi_linear(ortho, s, alg, frame, r_frame) for s in range(5))\n",
    "terms_ratio(rotor.reverse(), lasenby_rotor)"
   ]
  },
  {
   "cell_type": "code",
   "execution_count": 128,
   "metadata": {},
   "outputs": [
    {
     "data": {
      "text/plain": [
       "(-0.449 𝐞₁ + -0.563 𝐞₂ + -0.291 𝐞₃ + -1.23 𝐞₄ + 0.585 𝐞₅ + -2.08e-17 𝐞₁₂₃₄₅,\n",
       " -0.166 𝐞₁ + -0.622 𝐞₂ + -0.489 𝐞₃ + -0.961 𝐞₄ + 0.943 𝐞₅)"
      ]
     },
     "execution_count": 128,
     "metadata": {},
     "output_type": "execute_result"
    }
   ],
   "source": [
    "# For orthogonal transform, we simply normalize it\n",
    "l_rotor = lasenby_rotor/norm(lasenby_rotor)\n",
    "-(l_rotor * sym_vec).reverse().sw(x), ortho(x)"
   ]
  },
  {
   "cell_type": "code",
   "execution_count": null,
   "metadata": {},
   "outputs": [],
   "source": []
  }
 ],
 "metadata": {
  "kernelspec": {
   "display_name": "Python 3",
   "language": "python",
   "name": "python3"
  },
  "language_info": {
   "codemirror_mode": {
    "name": "ipython",
    "version": 3
   },
   "file_extension": ".py",
   "mimetype": "text/x-python",
   "name": "python",
   "nbconvert_exporter": "python",
   "pygments_lexer": "ipython3",
   "version": "3.10.5"
  }
 },
 "nbformat": 4,
 "nbformat_minor": 2
}
