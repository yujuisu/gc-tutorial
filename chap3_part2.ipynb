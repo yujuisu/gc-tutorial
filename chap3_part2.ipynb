{
 "cells": [
  {
   "cell_type": "code",
   "execution_count": 1,
   "metadata": {},
   "outputs": [],
   "source": [
    "from gc_utils import *\n",
    "\n",
    "alg = Algebra(5)\n",
    "ga2 = Algebra(2)\n",
    "locals().update(alg.blades)"
   ]
  },
  {
   "cell_type": "code",
   "execution_count": 2,
   "metadata": {},
   "outputs": [
    {
     "data": {
      "text/plain": [
       "0.634 𝐞₁ + 1.13 𝐞₂"
      ]
     },
     "execution_count": 2,
     "metadata": {},
     "output_type": "execute_result"
    }
   ],
   "source": [
    "# 2d general linear transform\n",
    "def random_linear_trans(alg: Algebra):\n",
    "    matrix = np.random.rand(alg.d, alg.d)\n",
    "    return matrix2trans(matrix, alg)\n",
    "\n",
    "def random_ortho_trans(alg: Algebra):\n",
    "    from scipy.stats import ortho_group\n",
    "    matrix = ortho_group.rvs(dim=alg.d)\n",
    "    return matrix2trans(matrix, alg)\n",
    "\n",
    "f = random_linear_trans(ga2)\n",
    "x = random_r_blade(1, ga2)\n",
    "f(x)"
   ]
  },
  {
   "cell_type": "code",
   "execution_count": 3,
   "metadata": {},
   "outputs": [
    {
     "data": {
      "text/plain": [
       "(0.634 𝐞₁ + 1.13 𝐞₂, 0.634 𝐞₁ + 1.13 𝐞₂)"
      ]
     },
     "execution_count": 3,
     "metadata": {},
     "output_type": "execute_result"
    }
   ],
   "source": [
    "# 2d polar decomposition\n",
    "# f = SUU\n",
    "df = derivative(f, x, ga2, grade=1)\n",
    "UU = df / norm(df)\n",
    "S = lambda x: UU * f(x)\n",
    "S(x)*UU, f(x)"
   ]
  },
  {
   "cell_type": "code",
   "execution_count": 4,
   "metadata": {},
   "outputs": [
    {
     "data": {
      "text/plain": [
       "(0.935 + 0.354 𝐞₁₂, -1.11e-10 𝐞₁₂)"
      ]
     },
     "execution_count": 4,
     "metadata": {},
     "output_type": "execute_result"
    }
   ],
   "source": [
    "# UU is rotor, S is symmetric\n",
    "UU, curl(S, x, ga2, grade=1)"
   ]
  },
  {
   "cell_type": "code",
   "execution_count": 5,
   "metadata": {},
   "outputs": [
    {
     "data": {
      "text/plain": [
       "(2.92 + 0.0106 𝐞₁₂ + 0.0739 𝐞₁₃ + 0.11 𝐞₁₄ + -0.129 𝐞₁₅ + 0.092 𝐞₂₃ + 0.126 𝐞₂₄ + -0.215 𝐞₂₅ + -0.078 𝐞₃₄ + -0.382 𝐞₃₅ + -0.705 𝐞₄₅ + 3.48e-19 𝐞₁₂₃₄ + 2.46e-17 𝐞₁₂₃₅ + 4.52e-17 𝐞₁₂₄₅ + -3.89e-18 𝐞₁₃₄₅ + 1.33e-17 𝐞₂₃₄₅,\n",
       " 2.92 + 0.0106 𝐞₁₂ + 0.0739 𝐞₁₃ + 0.11 𝐞₁₄ + -0.129 𝐞₁₅ + 0.092 𝐞₂₃ + 0.126 𝐞₂₄ + -0.215 𝐞₂₅ + -0.078 𝐞₃₄ + -0.382 𝐞₃₅ + -0.705 𝐞₄₅)"
      ]
     },
     "execution_count": 5,
     "metadata": {},
     "output_type": "execute_result"
    }
   ],
   "source": [
    "#6.3 remove the condition of 2 dimension\n",
    "a, b, x = random_r_vectors(3, alg)\n",
    "g = lambda x: x + (x|a)*b\n",
    "abframe = [a,b]\n",
    "r_frame = reciprocal(abframe)\n",
    "dg = 2 + a*b\n",
    "derivative(g, x, alg, grade=1, frame=abframe, r_frame=r_frame), dg"
   ]
  },
  {
   "cell_type": "code",
   "execution_count": 6,
   "metadata": {},
   "outputs": [
    {
     "data": {
      "text/plain": [
       "(-1.11e-10 𝐞₁₂ + 3.89e-10 𝐞₁₃ + 5e-10 𝐞₁₄ + 3.33e-10 𝐞₁₅ + 2.78e-10 𝐞₂₃ + -2.78e-11 𝐞₂₄ + -5.55e-11 𝐞₂₅ + -1.94e-10 𝐞₃₄ + -1.11e-10 𝐞₃₅ + -1.67e-10 𝐞₄₅,\n",
       " 1.02 𝐞₁ + 0.869 𝐞₂ + 0.751 𝐞₃ + 0.44 𝐞₄ + 0.242 𝐞₅ + 5.44e-19 𝐞₁₂₃₄₅,\n",
       " 1.02 𝐞₁ + 0.869 𝐞₂ + 0.751 𝐞₃ + 0.44 𝐞₄ + 0.242 𝐞₅)"
      ]
     },
     "execution_count": 6,
     "metadata": {},
     "output_type": "execute_result"
    }
   ],
   "source": [
    "#6.3\n",
    "dg_norm = norm(dg)\n",
    "UU = dg / dg_norm\n",
    "U = simple_rotor_sqrt(UU)\n",
    "S = lambda x: U.sw(g(x))\n",
    "curl(S, x, alg, grade=1), U.reverse().sw(S(x)), g(x)"
   ]
  },
  {
   "cell_type": "code",
   "execution_count": 7,
   "metadata": {},
   "outputs": [
    {
     "data": {
      "text/plain": [
       "[-1.0 𝐞₁, 1.0 𝐞₄, -1.0 𝐞₃, 1.0 𝐞₂, -1.0 𝐞₅]"
      ]
     },
     "execution_count": 7,
     "metadata": {},
     "output_type": "execute_result"
    }
   ],
   "source": [
    "#6.6\n",
    "frame = alg.frame\n",
    "i, j = 1, 3\n",
    "aij = (1/np.sqrt(2))*(frame[i] + frame[j])\n",
    "[aij.sw(x) for x in frame]"
   ]
  },
  {
   "cell_type": "code",
   "execution_count": 8,
   "metadata": {},
   "outputs": [
    {
     "data": {
      "text/plain": [
       "[1 𝐞₁, 1 𝐞₂ + 3 𝐞₄, 1 𝐞₃, 1 𝐞₄, 1 𝐞₅]"
      ]
     },
     "execution_count": 8,
     "metadata": {},
     "output_type": "execute_result"
    }
   ],
   "source": [
    "#6.7\n",
    "alpha = 3\n",
    "Sij = lambda x: x + (alpha * (x|frame[i]) * frame[j])\n",
    "[Sij(x) for x in frame]"
   ]
  },
  {
   "cell_type": "code",
   "execution_count": 9,
   "metadata": {},
   "outputs": [
    {
     "data": {
      "text/plain": [
       "(1.75 𝐞₁ + 1.98 𝐞₂ + 2.35 𝐞₃ + 1.18 𝐞₄ + 1.29 𝐞₅,\n",
       " 1.75 𝐞₁ + 1.98 𝐞₂ + 2.35 𝐞₃ + 1.18 𝐞₄ + 1.29 𝐞₅)"
      ]
     },
     "execution_count": 9,
     "metadata": {},
     "output_type": "execute_result"
    }
   ],
   "source": [
    "#7.2\n",
    "g = random_linear_trans(alg)\n",
    "g_ = lambda x, y: x | g(y)\n",
    "derivative(lambda x: g_(x, b), x, alg, grade=1), g(b)"
   ]
  },
  {
   "cell_type": "code",
   "execution_count": 10,
   "metadata": {},
   "outputs": [
    {
     "data": {
      "text/plain": [
       "-0.0227 𝐞₁₂₃₄₅"
      ]
     },
     "execution_count": 10,
     "metadata": {},
     "output_type": "execute_result"
    }
   ],
   "source": [
    "# check nonsingular\n",
    "outermorphism(g, alg.pseudoscalar((1,)), alg)"
   ]
  },
  {
   "cell_type": "code",
   "execution_count": 11,
   "metadata": {},
   "outputs": [
    {
     "data": {
      "text/plain": [
       "(-0.257, -0.257)"
      ]
     },
     "execution_count": 11,
     "metadata": {},
     "output_type": "execute_result"
    }
   ],
   "source": [
    "#7.5 orthogonal transformation is its isometry\n",
    "f = random_ortho_trans(alg)\n",
    "x | f(b), f(x) | f(f(b))"
   ]
  },
  {
   "cell_type": "code",
   "execution_count": 12,
   "metadata": {},
   "outputs": [
    {
     "data": {
      "text/plain": [
       "(0.564, 0.564)"
      ]
     },
     "execution_count": 12,
     "metadata": {},
     "output_type": "execute_result"
    }
   ],
   "source": [
    "# skew bilinear form\n",
    "gm = skew_part(g, alg)\n",
    "G = simplicial_derivative(lambda vectors: vectors[0] | gm(vectors[1]), np.zeros(2), alg)\n",
    "x | gm(b), x | (b | G)"
   ]
  },
  {
   "cell_type": "code",
   "execution_count": 13,
   "metadata": {},
   "outputs": [
    {
     "data": {
      "text/plain": [
       "(0.2 𝐞₁₂ + -0.54 𝐞₁₃ + -0.352 𝐞₁₄ + -0.0654 𝐞₁₅ + 0.0238 𝐞₂₃ + 0.0627 𝐞₂₄ + -0.000857 𝐞₂₅ + 0.116 𝐞₃₄ + -0.556 𝐞₃₅ + -0.0326 𝐞₄₅,\n",
       " 0.303 𝐞₁₂ + 0.108 𝐞₁₃ + 0.0587 𝐞₁₄ + -0.156 𝐞₁₅ + 0.411 𝐞₂₃ + -0.393 𝐞₂₄ + -0.0766 𝐞₂₅ + -0.473 𝐞₃₄ + -0.322 𝐞₃₅ + -0.0167 𝐞₄₅)"
      ]
     },
     "execution_count": 13,
     "metadata": {},
     "output_type": "execute_result"
    }
   ],
   "source": [
    "#7.6b f is not an isometry of gm\n",
    "adjoint_outermorphism(f, G, alg), G"
   ]
  },
  {
   "cell_type": "code",
   "execution_count": 14,
   "metadata": {},
   "outputs": [
    {
     "data": {
      "text/plain": [
       "(0.711 𝐞₁ + 0.523 𝐞₂ + 0.71 𝐞₃ + 0.404 𝐞₄ + -0.152 𝐞₅,\n",
       " 0.918 𝐞₁ + 0.717 𝐞₂ + 0.58 𝐞₃ + 0.0772 𝐞₄ + 0.0122 𝐞₅)"
      ]
     },
     "execution_count": 14,
     "metadata": {},
     "output_type": "execute_result"
    }
   ],
   "source": [
    "#7.8 the inverse of gm\n",
    "blades = bivector_split(G, alg)\n",
    "gm(sum(-x | blade/normsq(blade) for blade in blades)), x"
   ]
  },
  {
   "cell_type": "code",
   "execution_count": 15,
   "metadata": {},
   "outputs": [
    {
     "data": {
      "text/plain": [
       "3.66e-16 + -3.47e-18 𝐞₁₂ + -1.73e-18 𝐞₁₃ + 6.2e-17 𝐞₁₄ + 1.04e-17 𝐞₁₅ + 3.47e-18 𝐞₂₄ + 1.39e-17 𝐞₂₅ + 1.39e-17 𝐞₃₄ + -2.08e-17 𝐞₃₅ + -0.341 𝐞₁₂₃₄ + -0.68 𝐞₁₂₃₅ + 0.27 𝐞₁₂₄₅ + 0.403 𝐞₁₃₄₅ + -0.432 𝐞₂₃₄₅"
      ]
     },
     "execution_count": 15,
     "metadata": {},
     "output_type": "execute_result"
    }
   ],
   "source": [
    "#7.12 assume splitted blades are normal\n",
    "blades_norm = [norm(b) for b in blades]\n",
    "blades = [b / n for b, n in zip(blades, blades_norm)]\n",
    "gprod(blades)"
   ]
  },
  {
   "cell_type": "code",
   "execution_count": 16,
   "metadata": {},
   "outputs": [
    {
     "data": {
      "text/plain": [
       "[(0.368 𝐞₁₂ + -0.297 𝐞₁₃ + -0.00999 𝐞₁₄ + -0.691 𝐞₁₅ + -0.0469 𝐞₂₃ + -0.0274 𝐞₂₄ + 0.374 𝐞₂₅ + 0.0208 𝐞₃₄ + -0.39 𝐞₃₅ + -0.0615 𝐞₄₅,\n",
       "  0.368 𝐞₁₂ + -0.297 𝐞₁₃ + -0.0469 𝐞₂₃ + -0.00999 𝐞₁₄ + -0.0274 𝐞₂₄ + 0.0208 𝐞₃₄ + -0.691 𝐞₁₅ + 0.374 𝐞₂₅ + -0.39 𝐞₃₅ + -0.0615 𝐞₄₅),\n",
       " (0.242 𝐞₁₂ + 0.22 𝐞₁₃ + 0.0725 𝐞₁₄ + 0.0329 𝐞₁₅ + 0.5 𝐞₂₃ + -0.456 𝐞₂₄ + -0.208 𝐞₂₅ + -0.565 𝐞₃₄ + -0.258 𝐞₃₅ + -0.000319 𝐞₄₅,\n",
       "  0.242 𝐞₁₂ + 0.22 𝐞₁₃ + 0.5 𝐞₂₃ + 0.0725 𝐞₁₄ + -0.456 𝐞₂₄ + -0.565 𝐞₃₄ + 0.0329 𝐞₁₅ + -0.208 𝐞₂₅ + -0.258 𝐞₃₅ + -0.000319 𝐞₄₅),\n",
       " (0.368 𝐞₁₂ + -0.297 𝐞₁₃ + -0.00999 𝐞₁₄ + -0.691 𝐞₁₅ + -0.0469 𝐞₂₃ + -0.0274 𝐞₂₄ + 0.374 𝐞₂₅ + 0.0208 𝐞₃₄ + -0.39 𝐞₃₅ + -0.0615 𝐞₄₅,\n",
       "  0.368 𝐞₁₂ + -0.297 𝐞₁₃ + -0.0469 𝐞₂₃ + -0.00999 𝐞₁₄ + -0.0274 𝐞₂₄ + 0.0208 𝐞₃₄ + -0.691 𝐞₁₅ + 0.374 𝐞₂₅ + -0.39 𝐞₃₅ + -0.0615 𝐞₄₅),\n",
       " (0.242 𝐞₁₂ + 0.22 𝐞₁₃ + 0.0725 𝐞₁₄ + 0.0329 𝐞₁₅ + 0.5 𝐞₂₃ + -0.456 𝐞₂₄ + -0.208 𝐞₂₅ + -0.565 𝐞₃₄ + -0.258 𝐞₃₅ + -0.000319 𝐞₄₅,\n",
       "  0.242 𝐞₁₂ + 0.22 𝐞₁₃ + 0.5 𝐞₂₃ + 0.0725 𝐞₁₄ + -0.456 𝐞₂₄ + -0.565 𝐞₃₄ + 0.0329 𝐞₁₅ + -0.208 𝐞₂₅ + -0.258 𝐞₃₅ + -0.000319 𝐞₄₅)]"
      ]
     },
     "execution_count": 16,
     "metadata": {},
     "output_type": "execute_result"
    }
   ],
   "source": [
    "#7.17\n",
    "theta = np.random.rand(2)\n",
    "rotors = [blade_exp(t*blade) for t, blade in zip(theta, blades)]\n",
    "[(U.sw(G), G) for U in rotors for G in blades]"
   ]
  },
  {
   "cell_type": "code",
   "execution_count": 17,
   "metadata": {},
   "outputs": [
    {
     "data": {
      "text/plain": [
       "array([1., 1., 1., 1., 1., 1., 1., 1., 1., 1.])"
      ]
     },
     "execution_count": 17,
     "metadata": {},
     "output_type": "execute_result"
    }
   ],
   "source": [
    "#7.18\n",
    "first_vecs = [blade_split(blade, alg)[0] for blade in blades]\n",
    "first_vecs = [v/norm(v) for v in first_vecs]\n",
    "second_vecs = [v | blade for v, blade in zip(first_vecs, blades)]\n",
    "inter_plane_rotors = [simple_rotor_sqrt(a * b) for a, b in (first_vecs, second_vecs)]\n",
    "U = gprod(inter_plane_rotors)\n",
    "terms_ratio(U.sw(blades[0]), blades[1])"
   ]
  },
  {
   "cell_type": "code",
   "execution_count": 18,
   "metadata": {},
   "outputs": [
    {
     "data": {
      "text/plain": [
       "'(0.7171633963229438, 0.5799614201709699, 0.077164520130231, 0.012189256628512002)'"
      ]
     },
     "execution_count": 18,
     "metadata": {},
     "output_type": "execute_result"
    }
   ],
   "source": [
    "f\"{x[1:]}\""
   ]
  },
  {
   "cell_type": "code",
   "execution_count": 19,
   "metadata": {},
   "outputs": [
    {
     "data": {
      "text/plain": [
       "(0.61 𝐞₁₂ + -0.0765 𝐞₁₃ + 0.0625 𝐞₁₄ + -0.658 𝐞₁₅ + 0.453 𝐞₂₃ + -0.483 𝐞₂₄ + 0.166 𝐞₂₅ + -0.545 𝐞₃₄ + -0.648 𝐞₃₅ + -0.0618 𝐞₄₅,\n",
       " 0.61 𝐞₁₂ + -0.0765 𝐞₁₃ + 0.0625 𝐞₁₄ + -0.658 𝐞₁₅ + 0.453 𝐞₂₃ + -0.483 𝐞₂₄ + 0.166 𝐞₂₅ + -0.545 𝐞₃₄ + -0.648 𝐞₃₅ + -0.0618 𝐞₄₅)"
      ]
     },
     "execution_count": 19,
     "metadata": {},
     "output_type": "execute_result"
    }
   ],
   "source": [
    "G_normalized = sum(blades)\n",
    "G_normalized, U.sw(G_normalized)"
   ]
  },
  {
   "cell_type": "code",
   "execution_count": 20,
   "metadata": {},
   "outputs": [
    {
     "data": {
      "text/plain": [
       "(0.303 𝐞₁₂ + 0.108 𝐞₁₃ + 0.0587 𝐞₁₄ + -0.156 𝐞₁₅ + 0.411 𝐞₂₃ + -0.393 𝐞₂₄ + -0.0766 𝐞₂₅ + -0.473 𝐞₃₄ + -0.322 𝐞₃₅ + -0.0167 𝐞₄₅,\n",
       " 0.303 𝐞₁₂ + 0.108 𝐞₁₃ + 0.0587 𝐞₁₄ + -0.156 𝐞₁₅ + 0.411 𝐞₂₃ + -0.393 𝐞₂₄ + -0.0766 𝐞₂₅ + -0.473 𝐞₃₄ + -0.322 𝐞₃₅ + -0.0167 𝐞₄₅)"
      ]
     },
     "execution_count": 20,
     "metadata": {},
     "output_type": "execute_result"
    }
   ],
   "source": [
    "# we can recover this \"normalization\"\n",
    "sum(P(G_normalized, b) * n for b, n in zip(blades, blades_norm)), G"
   ]
  },
  {
   "cell_type": "code",
   "execution_count": 21,
   "metadata": {},
   "outputs": [
    {
     "data": {
      "text/plain": [
       "[(5.55e-17, ('f', 'f')),\n",
       " (-5.55e-17, ('f', 'fp')),\n",
       " (-1.0, ('f', 's')),\n",
       " (-2.08e-17, ('f', 'sp')),\n",
       " (8.33e-17, ('fp', 'f')),\n",
       " (-6.94e-18, ('fp', 'fp')),\n",
       " (8.33e-17, ('fp', 's')),\n",
       " (-1.0, ('fp', 'sp')),\n",
       " (1.0, ('s', 'f')),\n",
       " (-1.11e-16, ('s', 'fp')),\n",
       " (-5.55e-17, ('s', 's')),\n",
       " (-1.11e-16, ('s', 'sp')),\n",
       " (, ('sp', 'f')),\n",
       " (1.0, ('sp', 'fp')),\n",
       " (9.71e-17, ('sp', 's')),\n",
       " (1.39e-17, ('sp', 'sp'))]"
      ]
     },
     "execution_count": 21,
     "metadata": {},
     "output_type": "execute_result"
    }
   ],
   "source": [
    "#7.21 zero if not onto the decomposed blades \n",
    "sympletic_basis = first_vecs + second_vecs\n",
    "list(zip((v | (w | G_normalized) for v, w in product(sympletic_basis, repeat=2)), (product(['f', 'fp', 's', 'sp'], repeat=2))))"
   ]
  },
  {
   "cell_type": "code",
   "execution_count": 22,
   "metadata": {},
   "outputs": [
    {
     "data": {
      "text/plain": [
       "([1.04e-16 𝐞₁ + -0.44 𝐞₂ + 0.355 𝐞₃ + 0.0119 𝐞₄ + 0.825 𝐞₅,\n",
       "  -0.323 𝐞₁ + 0.668 𝐞₃ + -0.61 𝐞₄ + -0.278 𝐞₅,\n",
       "  0.837 𝐞₁ + -0.292 𝐞₂ + 0.342 𝐞₃ + 0.0702 𝐞₄ + -0.304 𝐞₅,\n",
       "  -0.0939 𝐞₁ + -0.748 𝐞₂ + -0.488 𝐞₃ + -0.401 𝐞₄ + -0.183 𝐞₅],\n",
       " [-0.837 𝐞₁ + 0.292 𝐞₂ + -0.342 𝐞₃ + -0.0702 𝐞₄ + 0.304 𝐞₅,\n",
       "  0.0939 𝐞₁ + 0.748 𝐞₂ + 0.488 𝐞₃ + 0.401 𝐞₄ + 0.183 𝐞₅,\n",
       "  -2.78e-17 𝐞₁ + -0.44 𝐞₂ + 0.355 𝐞₃ + 0.0119 𝐞₄ + 0.825 𝐞₅,\n",
       "  -0.323 𝐞₁ + 6.94e-18 𝐞₂ + 0.668 𝐞₃ + -0.61 𝐞₄ + -0.278 𝐞₅])"
      ]
     },
     "execution_count": 22,
     "metadata": {},
     "output_type": "execute_result"
    }
   ],
   "source": [
    "# Recover the normalization\n",
    "[gm(v)/n for v, n in zip(sympletic_basis, blades_norm*2)], sympletic_basis"
   ]
  },
  {
   "cell_type": "code",
   "execution_count": 23,
   "metadata": {},
   "outputs": [
    {
     "data": {
      "text/plain": [
       "(0.61 𝐞₁₂ + -0.0765 𝐞₁₃ + 0.0625 𝐞₁₄ + -0.658 𝐞₁₅ + 0.453 𝐞₂₃ + -0.483 𝐞₂₄ + 0.166 𝐞₂₅ + -0.545 𝐞₃₄ + -0.648 𝐞₃₅ + -0.0618 𝐞₄₅,\n",
       " 0.61 𝐞₁₂ + -0.0765 𝐞₁₃ + 0.0625 𝐞₁₄ + -0.658 𝐞₁₅ + 0.453 𝐞₂₃ + -0.483 𝐞₂₄ + 0.166 𝐞₂₅ + -0.545 𝐞₃₄ + -0.648 𝐞₃₅ + -0.0618 𝐞₄₅,\n",
       " 0.303 𝐞₁₂ + 0.108 𝐞₁₃ + 0.0587 𝐞₁₄ + -0.156 𝐞₁₅ + 0.411 𝐞₂₃ + -0.393 𝐞₂₄ + -0.0766 𝐞₂₅ + -0.473 𝐞₃₄ + -0.322 𝐞₃₅ + -0.0167 𝐞₄₅,\n",
       " 0.303 𝐞₁₂ + 0.108 𝐞₁₃ + 0.0587 𝐞₁₄ + -0.156 𝐞₁₅ + 0.411 𝐞₂₃ + -0.393 𝐞₂₄ + -0.0766 𝐞₂₅ + -0.473 𝐞₃₄ + -0.322 𝐞₃₅ + -0.0167 𝐞₄₅)"
      ]
     },
     "execution_count": 23,
     "metadata": {},
     "output_type": "execute_result"
    }
   ],
   "source": [
    "#7.26a symplectic transformations of gm (isometries of skew bilinear form)\n",
    "# conditions: unity and sympletic basis\n",
    "translation = lambda x: (\n",
    "    x + \n",
    "    2*(x|second_vecs[1]) * first_vecs[1] + \n",
    "    3*(x|second_vecs[0]) * first_vecs[0]\n",
    "    )\n",
    "\n",
    "outermorphism(translation, G_normalized, alg), G_normalized, outermorphism(translation, G, alg), G"
   ]
  },
  {
   "cell_type": "code",
   "execution_count": 24,
   "metadata": {},
   "outputs": [
    {
     "data": {
      "text/plain": [
       "(0.61 𝐞₁₂ + -0.0765 𝐞₁₃ + 0.0625 𝐞₁₄ + -0.658 𝐞₁₅ + 0.453 𝐞₂₃ + -0.483 𝐞₂₄ + 0.166 𝐞₂₅ + -0.545 𝐞₃₄ + -0.648 𝐞₃₅ + -0.0618 𝐞₄₅,\n",
       " 0.61 𝐞₁₂ + -0.0765 𝐞₁₃ + 0.0625 𝐞₁₄ + -0.658 𝐞₁₅ + 0.453 𝐞₂₃ + -0.483 𝐞₂₄ + 0.166 𝐞₂₅ + -0.545 𝐞₃₄ + -0.648 𝐞₃₅ + -0.0618 𝐞₄₅,\n",
       " 0.303 𝐞₁₂ + 0.108 𝐞₁₃ + 0.0587 𝐞₁₄ + -0.156 𝐞₁₅ + 0.411 𝐞₂₃ + -0.393 𝐞₂₄ + -0.0766 𝐞₂₅ + -0.473 𝐞₃₄ + -0.322 𝐞₃₅ + -0.0167 𝐞₄₅,\n",
       " 0.303 𝐞₁₂ + 0.108 𝐞₁₃ + 0.0587 𝐞₁₄ + -0.156 𝐞₁₅ + 0.411 𝐞₂₃ + -0.393 𝐞₂₄ + -0.0766 𝐞₂₅ + -0.473 𝐞₃₄ + -0.322 𝐞₃₅ + -0.0167 𝐞₄₅)"
      ]
     },
     "execution_count": 24,
     "metadata": {},
     "output_type": "execute_result"
    }
   ],
   "source": [
    "#7.26b\n",
    "rotation = lambda x: (\n",
    "    x + \n",
    "    4*((x|first_vecs[1]) * second_vecs[1] + (x|second_vecs[0]) * first_vecs[0])\n",
    "    )\n",
    "\n",
    "outermorphism(rotation, G_normalized, alg), G_normalized, outermorphism(rotation, G, alg), G"
   ]
  },
  {
   "cell_type": "code",
   "execution_count": 25,
   "metadata": {},
   "outputs": [
    {
     "data": {
      "text/plain": [
       "(0.303 𝐞₁₂ + 0.108 𝐞₁₃ + 0.0587 𝐞₁₄ + -0.156 𝐞₁₅ + 0.411 𝐞₂₃ + -0.393 𝐞₂₄ + -0.0766 𝐞₂₅ + -0.473 𝐞₃₄ + -0.322 𝐞₃₅ + -0.0167 𝐞₄₅,\n",
       " 0.303 𝐞₁₂ + 0.108 𝐞₁₃ + 0.0587 𝐞₁₄ + -0.156 𝐞₁₅ + 0.411 𝐞₂₃ + -0.393 𝐞₂₄ + -0.0766 𝐞₂₅ + -0.473 𝐞₃₄ + -0.322 𝐞₃₅ + -0.0167 𝐞₄₅)"
      ]
     },
     "execution_count": 25,
     "metadata": {},
     "output_type": "execute_result"
    }
   ],
   "source": [
    "#7.26c\n",
    "outermorphism(lambda x: rotation(translation(x)), G, alg), G"
   ]
  },
  {
   "cell_type": "code",
   "execution_count": 26,
   "metadata": {},
   "outputs": [
    {
     "data": {
      "text/plain": [
       "(3.93,\n",
       " 3.93 + -4.29e-18 𝐞₁₂₃₄ + 4.46e-18 𝐞₁₂₃₅ + -6.81e-18 𝐞₁₂₄₅ + 7.83e-18 𝐞₁₃₄₅ + -9.9e-18 𝐞₂₃₄₅,\n",
       " 3.93 + 7.57e-17 𝐞₁₂₃₄ + -8.14e-17 𝐞₁₂₃₅ + 7.47e-17 𝐞₁₂₄₅ + -6.98e-17 𝐞₁₃₄₅ + 6.79e-17 𝐞₂₃₄₅)"
      ]
     },
     "execution_count": 26,
     "metadata": {},
     "output_type": "execute_result"
    }
   ],
   "source": [
    "#7.28\n",
    "gp = sym_part(g, alg)\n",
    "matrix = trans2matrix(gp, alg)\n",
    "eigvalues, eigvecs = np.linalg.eigh(matrix)\n",
    "eigvecs = [alg.vector(v) for v in eigvecs.transpose()]\n",
    "neg_vecs, pos_vecs, null_vecs = [], [], []\n",
    "for e, v in zip(eigvalues, eigvecs):\n",
    "    if e < -1e-6:\n",
    "        neg_vecs.append(v)\n",
    "    elif e > 1e-6:\n",
    "        pos_vecs.append(v)\n",
    "    else:\n",
    "        null_vecs.append(v)\n",
    "\n",
    "neg_blade = wedge(neg_vecs)\n",
    "nv_sign = (-1) ** len(neg_vecs) \n",
    "c = lambda x: nv_sign*neg_blade.sw(x)\n",
    "h = lambda x: sum(np.sqrt(abs(e)) * P(x, v) for e, v in zip(eigvalues, eigvecs))\n",
    "\n",
    "x | gp(b), h(x)|c(h(b)), c(x)|h(h(b))"
   ]
  },
  {
   "cell_type": "code",
   "execution_count": 73,
   "metadata": {},
   "outputs": [
    {
     "data": {
      "text/plain": [
       "(3.58,\n",
       " 3.58,\n",
       " 0.918 𝐞₁ + 0.717 𝐞₂ + 0.58 𝐞₃ + 0.0772 𝐞₄ + 0.0122 𝐞₅,\n",
       " -0.826 𝐞₁ + -1.11 𝐞₂ + 3.13 𝐞₃ + -1.29 𝐞₄ + 0.0282 𝐞₅)"
      ]
     },
     "execution_count": 73,
     "metadata": {},
     "output_type": "execute_result"
    }
   ],
   "source": [
    "#7.28 If the symmetric transformation is positive definite (Euclidean metric)\n",
    "gpp = lambda x: sum(abs(e) * P(x, v) for e, v in zip(eigvalues, eigvecs))\n",
    "hinv = lambda x: sum(1/np.sqrt(abs(e)) * P(x, v) for e, v in zip(eigvalues, eigvecs))\n",
    "r = 3 # a arbitrary integer <= n\n",
    "O = normalize(random_versor(r, alg))\n",
    "f = lambda x: -hinv(O.sw(h(x)))\n",
    "x | gpp(b), f(x) | gpp(f(b)), x, f(x)"
   ]
  },
  {
   "cell_type": "code",
   "execution_count": 74,
   "metadata": {},
   "outputs": [
    {
     "data": {
      "text/plain": [
       "(3.93,\n",
       " 1.23 + -6.61e-33 𝐞₁₂ + -3.42e-33 𝐞₁₃ + -2.71e-33 𝐞₁₄ + -2.91e-33 𝐞₁₅ + 4.77e-33 𝐞₂₃ + 7.47e-33 𝐞₂₄ + 6.06e-33 𝐞₂₅ + 1.91e-33 𝐞₃₄ + 9.89e-34 𝐞₃₅ + -9.25e-34 𝐞₄₅,\n",
       " 0.826 𝐞₁ + 1.11 𝐞₂ + -3.13 𝐞₃ + 1.29 𝐞₄ + -0.0282 𝐞₅)"
      ]
     },
     "execution_count": 74,
     "metadata": {},
     "output_type": "execute_result"
    }
   ],
   "source": [
    "# But if gp is not positive definite, the orthogonal transform is not an isometry\n",
    "f = lambda x: hinv(O.sw(h(x)))\n",
    "x | gp(b), f(x) | gp(f(b)), f(x)"
   ]
  },
  {
   "cell_type": "code",
   "execution_count": 78,
   "metadata": {},
   "outputs": [
    {
     "data": {
      "text/plain": [
       "(0.488 𝐞₁₂ + 0.132 𝐞₁₃ + -0.0164 𝐞₁₄ + -0.603 𝐞₁₅ + 0.202 𝐞₂₃ + 0.327 𝐞₂₄ + -0.0223 𝐞₂₅ + 0.0951 𝐞₃₄ + 0.243 𝐞₃₅ + 0.405 𝐞₄₅,\n",
       " 1.5 + -4.49e-20 𝐞₁₂₃₄ + 2.84e-19 𝐞₁₂₃₅ + -2.14e-18 𝐞₁₂₄₅ + 2.64e-18 𝐞₁₃₄₅ + -3.39e-18 𝐞₂₃₄₅,\n",
       " 1.5)"
      ]
     },
     "execution_count": 78,
     "metadata": {},
     "output_type": "execute_result"
    }
   ],
   "source": [
    "#7.33 Signature: the inner product under metric c splits into two part, according to neg_blade\n",
    "def ortho_split(x, A):\n",
    "    xp = P(x, A)\n",
    "    return xp, x-xp\n",
    "\n",
    "xp, xo = ortho_split(x, neg_blade)\n",
    "bp, bo = ortho_split(b, neg_blade)\n",
    "neg_blade, x | c(b), (xo | bo) - (xp | bp)\n"
   ]
  },
  {
   "cell_type": "code",
   "execution_count": 83,
   "metadata": {},
   "outputs": [
    {
     "data": {
      "text/plain": [
       "(0.488 𝐞₁₂ + 0.132 𝐞₁₃ + -0.0164 𝐞₁₄ + -0.603 𝐞₁₅ + 0.202 𝐞₂₃ + 0.327 𝐞₂₄ + -0.0223 𝐞₂₅ + 0.0951 𝐞₃₄ + 0.243 𝐞₃₅ + 0.405 𝐞₄₅,\n",
       " 0.488 𝐞₁₂ + 0.132 𝐞₁₃ + -0.0164 𝐞₁₄ + -0.603 𝐞₁₅ + 0.202 𝐞₂₃ + 0.327 𝐞₂₄ + -0.0223 𝐞₂₅ + 0.0951 𝐞₃₄ + 0.243 𝐞₃₅ + 0.405 𝐞₄₅,\n",
       " 3.93,\n",
       " 3.93 + 3.49e-33 𝐞₁₂ + 1.13e-33 𝐞₁₃ + -2.49e-33 𝐞₁₄ + -6.08e-33 𝐞₁₅ + 3.14e-33 𝐞₂₃ + -1.25e-33 𝐞₂₄ + 1.07e-33 𝐞₂₅ + -2.79e-33 𝐞₃₄ + 2.48e-33 𝐞₃₅ + 2.63e-33 𝐞₄₅)"
      ]
     },
     "execution_count": 83,
     "metadata": {},
     "output_type": "execute_result"
    }
   ],
   "source": [
    "# If R is a rotor (see next section) preserves the reflected subspace (neg_blade)\n",
    "# Then R is an isometry\n",
    "R = 1\n",
    "if len(neg_vecs) >= 2:\n",
    "    R *= blade_exp(3.3 * wedge(neg_vecs[:2]))\n",
    "if len(pos_vecs) >= 2:\n",
    "    R *= blade_exp(5.5 * wedge(pos_vecs[-2:]))\n",
    "f = lambda x: hinv(R.sw(h(x)))\n",
    "\n",
    "R.sw(neg_blade), neg_blade, x | gp(b), f(x) | gp(f(b))"
   ]
  },
  {
   "cell_type": "code",
   "execution_count": 87,
   "metadata": {},
   "outputs": [
    {
     "data": {
      "text/plain": [
       "(-0.488 𝐞₁₂ + -0.132 𝐞₁₃ + 0.0164 𝐞₁₄ + 0.603 𝐞₁₅ + -0.202 𝐞₂₃ + -0.327 𝐞₂₄ + 0.0223 𝐞₂₅ + -0.0951 𝐞₃₄ + -0.243 𝐞₃₅ + -0.405 𝐞₄₅,\n",
       " 0.488 𝐞₁₂ + 0.132 𝐞₁₃ + -0.0164 𝐞₁₄ + -0.603 𝐞₁₅ + 0.202 𝐞₂₃ + 0.327 𝐞₂₄ + -0.0223 𝐞₂₅ + 0.0951 𝐞₃₄ + 0.243 𝐞₃₅ + 0.405 𝐞₄₅,\n",
       " 3.93,\n",
       " 3.93 + 2.43e-35 𝐞₁₂ + -4.27e-34 𝐞₁₃ + -8.51e-35 𝐞₁₄ + 5.52e-35 𝐞₁₅ + 1.38e-33 𝐞₂₃ + 1.21e-34 𝐞₂₄ + -9.38e-35 𝐞₂₅ + 1.86e-35 𝐞₃₄ + -4.28e-34 𝐞₃₅ + -1.14e-34 𝐞₄₅)"
      ]
     },
     "execution_count": 87,
     "metadata": {},
     "output_type": "execute_result"
    }
   ],
   "source": [
    "# If R is a spinor preserves the reflected subspace (neg_blade)\n",
    "# Then R is an isometry\n",
    "R = 1\n",
    "if len(neg_vecs) >= 2:\n",
    "    R *= blade_exp(3.3 * wedge(neg_vecs[:2]))\n",
    "if len(pos_vecs) >= 2:\n",
    "    R *= blade_exp(5.5 * wedge(pos_vecs[:2]))\n",
    "R *= pos_vecs[-1]\n",
    "R *= neg_vecs[-2]\n",
    "f = lambda x: hinv(R.sw(h(x)))\n",
    "\n",
    "R.sw(neg_blade), neg_blade, x | gp(b), f(x) | gp(f(b))"
   ]
  },
  {
   "cell_type": "code",
   "execution_count": 32,
   "metadata": {},
   "outputs": [
    {
     "data": {
      "text/plain": [
       "(3.93, 3.93, 0.124 𝐞₁ + -0.597 𝐞₂ + -0.517 𝐞₃ + -0.945 𝐞₄ + -0.41 𝐞₅)"
      ]
     },
     "execution_count": 32,
     "metadata": {},
     "output_type": "execute_result"
    }
   ],
   "source": [
    "# From the next section O(p, q) is a versor form Algebra(p, q)\n",
    "# If we choose a versor from eigenvectors\n",
    "R = wedge([eigvecs[i] for i in (0,2,3)]) # eigenvectors are orthogonal\n",
    "R = (R / norm(R))\n",
    "f = lambda x: hinv(R.sw(h(x)))\n",
    "x | gp(b), f(x) | gp(f(b)), f(x)"
   ]
  },
  {
   "cell_type": "code",
   "execution_count": 85,
   "metadata": {},
   "outputs": [
    {
     "data": {
      "text/plain": [
       "(3.93,\n",
       " 3.95 + 1.81e-34 𝐞₁₂ + 1.02e-35 𝐞₁₃ + -6.68e-35 𝐞₁₄ + -1.93e-34 𝐞₁₅ + 1.71e-34 𝐞₂₃ + 3.55e-35 𝐞₂₄ + 6.77e-35 𝐞₂₅ + -1.31e-34 𝐞₃₄ + 3.55e-34 𝐞₃₅ + -1.87e-34 𝐞₄₅,\n",
       " 3.19e-16)"
      ]
     },
     "execution_count": 85,
     "metadata": {},
     "output_type": "execute_result"
    }
   ],
   "source": [
    "# From the next section O(p, q) is a versor form Algebra(p, q)\n",
    "# If we choose a versor from eigenvectors\n",
    "# FIXME some mystery here\n",
    "B = (pos_vecs[0] ^ neg_vecs[1])\n",
    "R = blade_exp(3.3*B)\n",
    "f = lambda x: hinv(R.sw(h(x)))\n",
    "x | gp(b), f(x) | gp(f(b)), pos_vecs[0] | neg_vecs[1]"
   ]
  },
  {
   "cell_type": "code",
   "execution_count": 46,
   "metadata": {},
   "outputs": [
    {
     "data": {
      "text/plain": [
       "(3.93,\n",
       " 3.93 + 2.46e-33 𝐞₁₂ + -1.56e-34 𝐞₁₃ + -8.95e-34 𝐞₁₄ + 1.24e-35 𝐞₁₅ + 3.99e-33 𝐞₂₃ + -2.09e-33 𝐞₂₄ + -1.68e-33 𝐞₂₅ + 1.44e-33 𝐞₃₄ + 5.96e-34 𝐞₃₅ + 3.02e-34 𝐞₄₅,\n",
       " -0.0173 𝐞₁ + 0.41 𝐞₂ + 0.643 𝐞₃ + 1.02 𝐞₄ + 0.284 𝐞₅)"
      ]
     },
     "execution_count": 46,
     "metadata": {},
     "output_type": "execute_result"
    }
   ],
   "source": [
    "f = lambda x: hinv(B.sw(h(x)))\n",
    "x | gp(b), f(x) | gp(f(b)), f(x)"
   ]
  },
  {
   "cell_type": "code",
   "execution_count": 35,
   "metadata": {},
   "outputs": [
    {
     "data": {
      "text/plain": [
       "(3, 2)"
      ]
     },
     "execution_count": 35,
     "metadata": {},
     "output_type": "execute_result"
    }
   ],
   "source": [
    "signature = (len(pos_vecs), len(neg_vecs))\n",
    "pseudo = Algebra(*signature)\n",
    "O = random_versor(3, pseudo)\n",
    "O = O / norm(O)\n",
    "signature"
   ]
  },
  {
   "cell_type": "code",
   "execution_count": 47,
   "metadata": {},
   "outputs": [
    {
     "data": {
      "text/plain": [
       "[(),\n",
       " (0,),\n",
       " (1,),\n",
       " (2,),\n",
       " (3,),\n",
       " (4,),\n",
       " (0, 1),\n",
       " (0, 2),\n",
       " (0, 3),\n",
       " (0, 4),\n",
       " (1, 2),\n",
       " (1, 3),\n",
       " (1, 4),\n",
       " (2, 3),\n",
       " (2, 4),\n",
       " (3, 4),\n",
       " (0, 1, 2),\n",
       " (0, 1, 3),\n",
       " (0, 1, 4),\n",
       " (0, 2, 3),\n",
       " (0, 2, 4),\n",
       " (0, 3, 4),\n",
       " (1, 2, 3),\n",
       " (1, 2, 4),\n",
       " (1, 3, 4),\n",
       " (2, 3, 4),\n",
       " (0, 1, 2, 3),\n",
       " (0, 1, 2, 4),\n",
       " (0, 1, 3, 4),\n",
       " (0, 2, 3, 4),\n",
       " (1, 2, 3, 4),\n",
       " (0, 1, 2, 3, 4)]"
      ]
     },
     "execution_count": 47,
     "metadata": {},
     "output_type": "execute_result"
    }
   ],
   "source": [
    "blade_names = pseudo.blades.blades.keys()\n",
    "def parse_e_string(e_string):\n",
    "    # Extract the numeric part of the string and convert each character to an integer\n",
    "    return tuple(int(char) - 1 for char in e_string[1:])\n",
    "\n",
    "[parse_e_string(k) for k in blade_names]"
   ]
  },
  {
   "cell_type": "code",
   "execution_count": 48,
   "metadata": {},
   "outputs": [
    {
     "data": {
      "text/plain": [
       "(3.93,\n",
       " -1.66 + -5.76e-34 𝐞₁₂ + 9.35e-34 𝐞₁₃ + -5.01e-34 𝐞₁₄ + -5.11e-33 𝐞₁₅ + -1.23e-34 𝐞₂₃ + -1.64e-33 𝐞₂₄ + 4.32e-33 𝐞₂₅ + 2.71e-33 𝐞₃₄ + -1.66e-33 𝐞₃₅ + 3.22e-33 𝐞₄₅,\n",
       " -0.108 𝐞₁ + 1.65 𝐞₂ + -0.866 𝐞₃ + 1.88 𝐞₄ + -2.89 𝐞₅ + 5.06e-34 𝐞₁₂₃ + 4.16e-34 𝐞₁₂₄ + -3.77e-33 𝐞₁₂₅ + -1.08e-33 𝐞₁₃₄ + -6.43e-34 𝐞₁₃₅ + 1.11e-33 𝐞₁₄₅ + -1.33e-33 𝐞₂₃₄ + 1.39e-33 𝐞₂₃₅ + -1.97e-33 𝐞₂₄₅ + -1.86e-33 𝐞₃₄₅)"
      ]
     },
     "execution_count": 48,
     "metadata": {},
     "output_type": "execute_result"
    }
   ],
   "source": [
    "R = 0\n",
    "bases = pos_vecs + neg_vecs\n",
    "for key in blade_names:\n",
    "    indices = parse_e_string(key)\n",
    "    mv = wedge([bases[i] for i in indices])\n",
    "    R += O[key] * mv\n",
    "R = R / norm(R)\n",
    "f = lambda x: hinv(R.sw(h(x)))\n",
    "x | gp(b), f(x) | gp(f(b)), f(x)"
   ]
  },
  {
   "cell_type": "markdown",
   "metadata": {},
   "source": [
    "So a rotation preserves the reflected subspace is an isometry. Any other isometry? The above we split the space into pos_vecs and neg_vecs. The metric's signature encode such split. The next section we encode the metric into the algebra. So an orthogonal transform becomes an isometry of the vector space."
   ]
  },
  {
   "cell_type": "code",
   "execution_count": 37,
   "metadata": {},
   "outputs": [
    {
     "data": {
      "text/plain": [
       "[-1.0 + 9.01e-18 𝐞₁₂₃₄ + 5.43e-18 𝐞₁₂₃₅ + 3.46e-18 𝐞₁₂₄₅ + -4.47e-18 𝐞₁₃₄₅ + -7.07e-18 𝐞₂₃₄₅,\n",
       " -1.0,\n",
       " 1.0 + 1.17e-17 𝐞₁₂₃₄ + 3.69e-18 𝐞₁₂₃₅ + -4.15e-18 𝐞₁₂₄₅ + 1.51e-17 𝐞₁₃₄₅ + 6.19e-18 𝐞₂₃₄₅,\n",
       " 1.0 + 6.45e-18 𝐞₁₂₃₄ + -2.19e-17 𝐞₁₂₃₅ + -5.22e-18 𝐞₁₂₄₅ + 4.71e-18 𝐞₁₃₄₅ + -1.41e-17 𝐞₂₃₄₅,\n",
       " 1.0]"
      ]
     },
     "execution_count": 37,
     "metadata": {},
     "output_type": "execute_result"
    }
   ],
   "source": [
    "# signature\n",
    "[v | c(v) for v in eigvecs]"
   ]
  },
  {
   "cell_type": "code",
   "execution_count": 38,
   "metadata": {},
   "outputs": [
    {
     "data": {
      "text/plain": [
       "(3, 2, 0)"
      ]
     },
     "execution_count": 38,
     "metadata": {},
     "output_type": "execute_result"
    }
   ],
   "source": [
    "p, q, r = 0,0,0\n",
    "for e in eigvalues:\n",
    "    if e > 1e-6:\n",
    "        p += 1\n",
    "    elif e < -1e-6:\n",
    "        q += 1\n",
    "    else:\n",
    "        r += 1\n",
    "p, q, r"
   ]
  },
  {
   "cell_type": "code",
   "execution_count": 39,
   "metadata": {},
   "outputs": [
    {
     "data": {
      "text/plain": [
       "(0.8, 0.8)"
      ]
     },
     "execution_count": 39,
     "metadata": {},
     "output_type": "execute_result"
    }
   ],
   "source": [
    "#8.2 Say the reflected subspace is 1d\n",
    "alg = Algebra(3, 1)\n",
    "locals().update(alg.blades)\n",
    "x, y, u = random_r_vectors(3, alg)\n",
    "u = u / norm(u)\n",
    "R = lambda x: - u.sw(x)\n",
    "R(x) | R(y), x | y"
   ]
  },
  {
   "cell_type": "markdown",
   "metadata": {},
   "source": [
    "Cartan-Dieudonne theorem: An isometry is a composition of at most d reflections. Identifying invariants of isometries as elements of geometry leads to modern developments."
   ]
  },
  {
   "cell_type": "code",
   "execution_count": 40,
   "metadata": {},
   "outputs": [
    {
     "data": {
      "text/plain": [
       "(0.8 + -2.38e-17 𝐞₁₂ + 7.55e-17 𝐞₁₃ + -6.38e-17 𝐞₁₄ + 4.69e-17 𝐞₂₃ + 2.79e-17 𝐞₂₄ + 6.64e-18 𝐞₃₄,\n",
       " 0.8,\n",
       " 0.8)"
      ]
     },
     "execution_count": 40,
     "metadata": {},
     "output_type": "execute_result"
    }
   ],
   "source": [
    "#8.3 Cartan-Dieudonne theorem: An isometry is a composition of at most d reflections.\n",
    "\n",
    "k = 3 # k <= d\n",
    "vectors = random_r_vectors(k, alg)\n",
    "p = sum((v**2)[0] > 0 for v in vectors)\n",
    "U = gprod(vectors) # a versor, of either even or odd grades\n",
    "f = lambda x: (-1) ** k * U * x / U\n",
    "f_ = lambda x: (-1) ** p * U.sw(x) / normsq(U) #8.8b\n",
    "f(x) | f(y), x | y, f_(x) | f_(y)"
   ]
  },
  {
   "cell_type": "code",
   "execution_count": 41,
   "metadata": {},
   "outputs": [
    {
     "name": "stdout",
     "output_type": "stream",
     "text": [
      "1 -1.0 + 3.55e-15 𝐞₁₃ + -7.55e-15 𝐞₁₄ + -1.78e-15 𝐞₃₄ + -3.55e-15 𝐞₁₂₃₄\n",
      "0 1.0 + -2.78e-17 𝐞₁₃ + -9.71e-17 𝐞₁₄ + -5.55e-17 𝐞₂₃ + -3.47e-17 𝐞₂₄ + -5.55e-17 𝐞₃₄ + -1.11e-16 𝐞₁₂₃₄\n",
      "1 -1.0 + 1.11e-16 𝐞₁₃ + -3.33e-16 𝐞₁₄ + -4.16e-17 𝐞₂₃ + 8.88e-16 𝐞₂₄ + 1.11e-16 𝐞₃₄ + 2.22e-16 𝐞₁₂₃₄\n",
      "0 1.0 + -2.43e-17 𝐞₁₃ + 6.94e-18 𝐞₁₄ + 8.33e-17 𝐞₂₃ + -2.78e-17 𝐞₃₄ + -8.33e-17 𝐞₁₂₃₄\n",
      "0 1.0 + -2.78e-17 𝐞₁₂ + 4.34e-18 𝐞₁₃ + -1.11e-16 𝐞₁₄ + -5.2e-18 𝐞₂₃ + 6.61e-18 𝐞₃₄ + 2.36e-16 𝐞₁₂₃₄\n",
      "0 1.0 + 5.2e-18 𝐞₁₂ + -1.11e-16 𝐞₂₄ + 1.67e-16 𝐞₁₂₃₄\n",
      "0 1.0 + 4.44e-16 𝐞₃₄ + 1.78e-15 𝐞₁₂₃₄\n",
      "0 1.0 + 4.86e-17 𝐞₁₃ + -3.82e-17 𝐞₁₄ + -4.16e-17 𝐞₂₃ + -1.39e-17 𝐞₂₄ + 1.39e-17 𝐞₃₄ + -1.46e-16 𝐞₁₂₃₄\n",
      "0 1.0 + -3.47e-18 𝐞₁₂ + -1.3e-17 𝐞₁₃ + -1.56e-17 𝐞₁₄ + 8.67e-19 𝐞₂₃ + -4.99e-18 𝐞₂₄ + 3.04e-18 𝐞₁₂₃₄\n",
      "1 -1.0 + -1.25e-15 𝐞₁₃ + -6.01e-15 𝐞₁₄ + -2.66e-15 𝐞₂₄ + 1.55e-15 𝐞₃₄ + 1.47e-14 𝐞₁₂₃₄\n"
     ]
    }
   ],
   "source": [
    "#8.8\n",
    "def random_versor(r, alg):\n",
    "    return gprod(random_r_vectors(r, alg))\n",
    "\n",
    "def random_versor_(r, alg):\n",
    "    vectors = random_r_vectors(r, alg)\n",
    "    p = sum((v**2)[0] > 0 for v in vectors)\n",
    "    return gprod(vectors), p\n",
    "k = 3\n",
    "for _ in range(10):\n",
    "    U, p = random_versor_(k, alg)\n",
    "    U = U/norm(U)\n",
    "    print(k - p, U.reverse() * U)"
   ]
  },
  {
   "cell_type": "code",
   "execution_count": 42,
   "metadata": {},
   "outputs": [
    {
     "data": {
      "text/plain": [
       "(0.00737 𝐞₁ + -0.00487 𝐞₂ + -0.00378 𝐞₃ + -0.00156 𝐞₄,\n",
       " 0.00737 𝐞₁ + -0.00487 𝐞₂ + -0.00378 𝐞₃ + -0.00156 𝐞₄)"
      ]
     },
     "execution_count": 42,
     "metadata": {},
     "output_type": "execute_result"
    }
   ],
   "source": [
    "# versors (Pin) are 2:1 homomorphisc to orthogonal transformations (O)\n",
    "U = random_versor(3, alg)\n",
    "U.sw(x), (-U).sw(x)"
   ]
  },
  {
   "cell_type": "code",
   "execution_count": 43,
   "metadata": {},
   "outputs": [
    {
     "data": {
      "text/plain": [
       "(0.41 𝐞₁ + 0.159 𝐞₂ + 0.669 𝐞₃ + 0.0017 𝐞₄,\n",
       " 0.41 𝐞₁ + 0.159 𝐞₂ + 0.669 𝐞₃ + 0.0017 𝐞₄)"
      ]
     },
     "execution_count": 43,
     "metadata": {},
     "output_type": "execute_result"
    }
   ],
   "source": [
    "#8.5\n",
    "I = alg.pseudoscalar((1,))\n",
    "I.sw(x), x"
   ]
  },
  {
   "cell_type": "code",
   "execution_count": 44,
   "metadata": {},
   "outputs": [
    {
     "name": "stdout",
     "output_type": "stream",
     "text": [
      "1 -1.0 𝐞₁₂₃₄\n",
      "2 1.0 𝐞₁₂₃₄\n",
      "3 -1.0 𝐞₁₂₃₄\n",
      "4 1.0 𝐞₁₂₃₄\n"
     ]
    }
   ],
   "source": [
    "#8.7 orthogonal transformations (O) with determinant 1 (SO) correspond to even versors (Spin)\n",
    "for k in range(1,5):\n",
    "    U = gprod(random_r_vectors(k, alg)) # a versor, of either even or odd grades\n",
    "    f = lambda x: (-1) ** (k*alg.d) * U.sw(x)/normsq(U)\n",
    "    print(k, outermorphism(f, I, alg))"
   ]
  },
  {
   "cell_type": "code",
   "execution_count": 45,
   "metadata": {},
   "outputs": [
    {
     "data": {
      "text/plain": [
       "[(3, 1, 0, 0.6415),\n",
       " (1, 3, 0, 0.672),\n",
       " (4, 1, 0, 0.8055),\n",
       " (3, 0, 1, 1.0),\n",
       " (2, 2, 0, 0.492)]"
      ]
     },
     "execution_count": 45,
     "metadata": {},
     "output_type": "execute_result"
    }
   ],
   "source": [
    "#8.9 rotors (Spin+) are a part of even versors (Spin), correpond to a part of SO as rotations (SO+)\n",
    "def random_even_versor(alg):\n",
    "    d = alg.d\n",
    "    if (alg.d % 2):\n",
    "        d -= 1\n",
    "    return gprod(random_r_vectors(d, alg))\n",
    "\n",
    "\n",
    "def random_rotor(alg, max_iter=100):\n",
    "    for _ in range(max_iter):\n",
    "        S = random_even_versor(alg)\n",
    "        sign  = (S.reverse().sp(S))[0]\n",
    "        if sign > 0:\n",
    "            return S/norm(S)\n",
    "        \n",
    "\n",
    "def random_rotor_count(alg, max_iter=100):\n",
    "    count = 0\n",
    "    for _ in range(max_iter):\n",
    "        S = random_even_versor(alg)\n",
    "        sign  = (S.reverse().sp(S))[0]\n",
    "        if sign > 0:\n",
    "            count += 1\n",
    "    return count\n",
    "\n",
    "[(p, q, r, random_rotor_count(Algebra(p, q, r), 2000)/2000) for p, q, r in ((3,1,0),(1,3,0),(4,1,0),(3,0,1),(2,2,0))]"
   ]
  },
  {
   "cell_type": "markdown",
   "metadata": {},
   "source": [
    "versors (Pin) are products of {1, a, b, ab} and a rotor"
   ]
  },
  {
   "cell_type": "code",
   "execution_count": 46,
   "metadata": {},
   "outputs": [],
   "source": [
    "#8.12\n",
    "def random_simple_rotor(alg):\n",
    "    while True:\n",
    "        S = random_versor(2, alg)\n",
    "        sign  = (S.reverse().sp(S))[0]\n",
    "        if sign > 0:\n",
    "            return S/norm(S)"
   ]
  },
  {
   "cell_type": "code",
   "execution_count": 47,
   "metadata": {},
   "outputs": [
    {
     "data": {
      "text/plain": [
       "(0.598 𝐞₁ + 0.395 𝐞₂ + 1.06 𝐞₃ + 0.798 𝐞₄,\n",
       " 0.598 𝐞₁ + 0.395 𝐞₂ + 1.06 𝐞₃ + 0.798 𝐞₄ + 5.75e-17 𝐞₁₂₃ + 1.4e-16 𝐞₁₂₄ + 3.26e-17 𝐞₁₃₄ + 2.6e-18 𝐞₂₃₄,\n",
       " 1.0,\n",
       " 1.0,\n",
       " 0.02 + -0.119 𝐞₁₂ + -1.15 𝐞₁₃ + -0.63 𝐞₁₄ + -0.549 𝐞₂₃ + -0.258 𝐞₂₄ + 0.418 𝐞₃₄,\n",
       " 0.02 + -0.119 𝐞₁₂ + -1.15 𝐞₁₃ + -0.63 𝐞₁₄ + -0.549 𝐞₂₃ + -0.258 𝐞₂₄ + 0.418 𝐞₃₄ + 1.04e-16 𝐞₁₂₃₄)"
      ]
     },
     "execution_count": 47,
     "metadata": {},
     "output_type": "execute_result"
    }
   ],
   "source": [
    "#8.13\n",
    "S = random_simple_rotor(alg)\n",
    "u = x | S.grade(2)\n",
    "u = u/norm(u)\n",
    "v = S.sw(u)\n",
    "v, S ** 2 * u, v ** 2, u ** 2, v * u, S ** 2"
   ]
  },
  {
   "cell_type": "code",
   "execution_count": 48,
   "metadata": {},
   "outputs": [
    {
     "data": {
      "text/plain": [
       "(1.0 + -2.78e-17 𝐞₁₂ + -2.68e-17 𝐞₁₃ + -1.61e-18 𝐞₁₄ + -3.78e-18 𝐞₂₃ + 8.68e-18 𝐞₂₄ + -1.93e-17 𝐞₃₄ + -1.99e-16 𝐞₁₂₃₄,\n",
       " 1.0 + 5.55e-17 𝐞₁₃ + -2.78e-17 𝐞₁₄ + 1.39e-17 𝐞₂₄ + -1.04e-16 𝐞₁₂₃₄)"
      ]
     },
     "execution_count": 48,
     "metadata": {},
     "output_type": "execute_result"
    }
   ],
   "source": [
    "S ** 2 * (S ** 2).reverse(), S * S.reverse()"
   ]
  },
  {
   "cell_type": "code",
   "execution_count": 49,
   "metadata": {},
   "outputs": [
    {
     "data": {
      "text/plain": [
       "(0.02 + 0.119 𝐞₁₂ + 1.15 𝐞₁₃ + 0.63 𝐞₁₄ + 0.549 𝐞₂₃ + 0.258 𝐞₂₄ + -0.418 𝐞₃₄ + 1.04e-16 𝐞₁₂₃₄,\n",
       " 0.02 + 0.119 𝐞₁₂ + 1.15 𝐞₁₃ + 0.63 𝐞₁₄ + 0.549 𝐞₂₃ + 0.258 𝐞₂₄ + -0.418 𝐞₃₄,\n",
       " 0.02 + -0.119 𝐞₁₂ + -1.15 𝐞₁₃ + -0.63 𝐞₁₄ + -0.549 𝐞₂₃ + -0.258 𝐞₂₄ + 0.418 𝐞₃₄)"
      ]
     },
     "execution_count": 49,
     "metadata": {},
     "output_type": "execute_result"
    }
   ],
   "source": [
    "#8.15\n",
    "(S ** 2).reverse(), u * v, v * u"
   ]
  },
  {
   "cell_type": "code",
   "execution_count": 50,
   "metadata": {},
   "outputs": [
    {
     "data": {
      "text/plain": [
       "-1.0 + 2.78e-17 𝐞₁₂ + 2.01e-16 𝐞₁₂₃₄"
      ]
     },
     "execution_count": 50,
     "metadata": {},
     "output_type": "execute_result"
    }
   ],
   "source": [
    "#8.16\n",
    "S2 = S ** 2\n",
    "blade = S2.grade(2)\n",
    "bladesq = (blade ** 2)\n",
    "bladesq"
   ]
  },
  {
   "cell_type": "code",
   "execution_count": 51,
   "metadata": {},
   "outputs": [
    {
     "data": {
      "text/plain": [
       "[0.842 + 0.147 𝐞₁₂ + 0.18 𝐞₁₃ + 0.119 𝐞₁₄ + 0.623 𝐞₂₃ + 0.128 𝐞₂₄ + -0.347 𝐞₃₄,\n",
       " None,\n",
       " 1.17 + 0.999 𝐞₁₂ + -0.298 𝐞₁₃ + 1.07 𝐞₁₄ + -1.04 𝐞₂₃ + -0.164 𝐞₂₄ + 1.17 𝐞₃₄]"
      ]
     },
     "execution_count": 51,
     "metadata": {},
     "output_type": "execute_result"
    }
   ],
   "source": [
    "# 3 types of rotors (Spin+)\n",
    "def type_convert(n):\n",
    "    if n > 1e-6:\n",
    "        return 1\n",
    "    elif n < -1e-6:\n",
    "        return -1\n",
    "    else:\n",
    "        return 0\n",
    "\n",
    "# Unfortunately parabolic rotors are of measure zero, \n",
    "# so this function has zero chance generating them\n",
    "def random_simple_rotor(alg, signature=None, max_iter=100):\n",
    "    for _ in range(max_iter):\n",
    "        S = random_versor(2, alg)\n",
    "        if signature is not None:\n",
    "            if type_convert((S.grade(2) ** 2)[0]) != signature:\n",
    "                continue\n",
    "        sign  = (S.reverse().sp(S))[0]\n",
    "        if sign > 0:\n",
    "            return S/norm(S)\n",
    "        \n",
    "[random_simple_rotor(alg, signature=i) for i in range(-1, 2)]"
   ]
  },
  {
   "cell_type": "code",
   "execution_count": 52,
   "metadata": {},
   "outputs": [],
   "source": [
    "def simple_rotor_log(R: MultiVector, tol=1e-6):\n",
    "    blade = R.grade(2)\n",
    "    signature = (blade ** 2)[0]\n",
    "    if signature > tol:\n",
    "        return np.arccosh(R[0]) / norm(blade) * blade\n",
    "    if signature < -tol:\n",
    "        return np.arccos(R[0]) / norm(blade) * blade\n",
    "    else:\n",
    "        return blade"
   ]
  },
  {
   "cell_type": "code",
   "execution_count": 53,
   "metadata": {},
   "outputs": [
    {
     "data": {
      "text/plain": [
       "(0.385 + 0.604 𝐞₁₂ + -0.613 𝐞₁₃ + -0.134 𝐞₁₄ + -0.582 𝐞₂₃ + -0.38 𝐞₂₄ + 0.256 𝐞₃₄ + -3.47e-17 𝐞₁₂₃₄,\n",
       " 0.385 + 0.604 𝐞₁₂ + -0.613 𝐞₁₃ + -0.134 𝐞₁₄ + -0.582 𝐞₂₃ + -0.38 𝐞₂₄ + 0.256 𝐞₃₄,\n",
       " 0.385 + 0.604 𝐞₁₂ + -0.613 𝐞₁₃ + -0.134 𝐞₁₄ + -0.582 𝐞₂₃ + -0.38 𝐞₂₄ + 0.256 𝐞₃₄,\n",
       " 0.832 + 0.363 𝐞₁₂ + -0.368 𝐞₁₃ + -0.0806 𝐞₁₄ + -0.35 𝐞₂₃ + -0.228 𝐞₂₄ + 0.154 𝐞₃₄,\n",
       " 0.832 + 0.363 𝐞₁₂ + -0.368 𝐞₁₃ + -0.0806 𝐞₁₄ + -0.35 𝐞₂₃ + -0.228 𝐞₂₄ + 0.154 𝐞₃₄,\n",
       " 0.832 + 0.363 𝐞₁₂ + -0.368 𝐞₁₃ + -0.0806 𝐞₁₄ + -0.35 𝐞₂₃ + -0.228 𝐞₂₄ + 0.154 𝐞₃₄ + -2.08e-17 𝐞₁₂₃₄,\n",
       " 0.832 + 0.363 𝐞₁₂ + -0.368 𝐞₁₃ + -0.0806 𝐞₁₄ + -0.35 𝐞₂₃ + -0.228 𝐞₂₄ + 0.154 𝐞₃₄ + 1.25e-16 𝐞₁₂₃₄)"
      ]
     },
     "execution_count": 53,
     "metadata": {},
     "output_type": "execute_result"
    }
   ],
   "source": [
    "#8.17a elliptic rotor (rotation), run several times you can see sqrt allows a sign change\n",
    "S = random_simple_rotor(alg, signature=-1)\n",
    "S2 = S ** 2\n",
    "b = simple_rotor_log(S2)\n",
    "S2, blade_exp(b), blade_exp(b - 6*np.pi*b/norm(b)), S, blade_exp(b/2), simple_rotor_sqrt(S2), blade_exp(3.3*b).sw(S)"
   ]
  },
  {
   "cell_type": "code",
   "execution_count": 54,
   "metadata": {},
   "outputs": [
    {
     "data": {
      "text/plain": [
       "(1.12 + -0.181 𝐞₁₂ + -0.0842 𝐞₁₃ + -0.275 𝐞₁₄ + 0.399 𝐞₂₃ + -0.0216 𝐞₂₄ + -0.616 𝐞₃₄ + -6.94e-18 𝐞₁₂₃₄,\n",
       " 1.12 + -0.181 𝐞₁₂ + -0.0842 𝐞₁₃ + -0.275 𝐞₁₄ + 0.399 𝐞₂₃ + -0.0216 𝐞₂₄ + -0.616 𝐞₃₄,\n",
       " 1.03 + -0.088 𝐞₁₂ + -0.0409 𝐞₁₃ + -0.133 𝐞₁₄ + 0.194 𝐞₂₃ + -0.0105 𝐞₂₄ + -0.299 𝐞₃₄,\n",
       " 1.03 + -0.088 𝐞₁₂ + -0.0409 𝐞₁₃ + -0.133 𝐞₁₄ + 0.194 𝐞₂₃ + -0.0105 𝐞₂₄ + -0.299 𝐞₃₄,\n",
       " 1.03 + -0.088 𝐞₁₂ + -0.0409 𝐞₁₃ + -0.133 𝐞₁₄ + 0.194 𝐞₂₃ + -0.0105 𝐞₂₄ + -0.299 𝐞₃₄ + -3.37e-18 𝐞₁₂₃₄,\n",
       " 1.03 + -0.088 𝐞₁₂ + -0.0409 𝐞₁₃ + -0.133 𝐞₁₄ + 0.194 𝐞₂₃ + -0.0105 𝐞₂₄ + -0.299 𝐞₃₄ + 8.88e-16 𝐞₁₂₃₄)"
      ]
     },
     "execution_count": 54,
     "metadata": {},
     "output_type": "execute_result"
    }
   ],
   "source": [
    "#8.17b hyperbolic rotor (boost)\n",
    "S = random_simple_rotor(alg, signature=1)\n",
    "S2 = S ** 2\n",
    "b = simple_rotor_log(S2)\n",
    "S2, blade_exp(b), S, blade_exp(b/2), simple_rotor_sqrt(S2), blade_exp(3.3*b).sw(S)"
   ]
  },
  {
   "cell_type": "code",
   "execution_count": 55,
   "metadata": {},
   "outputs": [
    {
     "data": {
      "text/plain": [
       "(1 + -2 𝐞₂₃ + 2 𝐞₂₄,\n",
       " 1 + -2 𝐞₂₃ + 2 𝐞₂₄,\n",
       " 1 + -1 𝐞₂₃ + 1 𝐞₂₄,\n",
       " 1 + -1.0 𝐞₂₃ + 1.0 𝐞₂₄,\n",
       " 1.0 + -1.0 𝐞₂₃ + 1.0 𝐞₂₄,\n",
       " 1.0 + -1.0 𝐞₂₃ + 1.0 𝐞₂₄)"
      ]
     },
     "execution_count": 55,
     "metadata": {},
     "output_type": "execute_result"
    }
   ],
   "source": [
    "#8.17c 8.20 parabolic rotor (translation)\n",
    "S = (e2 + e3 - e4) * e2\n",
    "S2 = S ** 2\n",
    "b = simple_rotor_log(S2)\n",
    "S2, blade_exp(b), S, blade_exp(b/2), simple_rotor_sqrt(S2), blade_exp(3.3*b).sw(S)"
   ]
  },
  {
   "cell_type": "code",
   "execution_count": 56,
   "metadata": {},
   "outputs": [
    {
     "data": {
      "text/plain": [
       "(-0.5 𝐞₂₃ + 0.5 𝐞₂₄, 1.0 + -1.0 𝐞₂₃ + 1.0 𝐞₂₄, 1 + -1 𝐞₂₃ + 1 𝐞₂₄)"
      ]
     },
     "execution_count": 56,
     "metadata": {},
     "output_type": "execute_result"
    }
   ],
   "source": [
    "#8.21\n",
    "B = S.grade(2) / (1 + S.grade(0))\n",
    "B, (1+B)**2/(normsq(1+B)), S"
   ]
  },
  {
   "cell_type": "code",
   "execution_count": 57,
   "metadata": {},
   "outputs": [
    {
     "data": {
      "text/plain": [
       "(-2.05 + 2.84 𝐞₁₂ + 0.989 𝐞₁₃ + 3.48 𝐞₁₄ + 1.15 𝐞₂₃ + 0.525 𝐞₂₄ + -1.05 𝐞₃₄ + -0.229 𝐞₁₂₃₄,\n",
       " -2.05 + 2.84 𝐞₁₂ + 0.989 𝐞₁₃ + 3.48 𝐞₁₄ + 1.15 𝐞₂₃ + 0.525 𝐞₂₄ + -1.05 𝐞₃₄ + -0.229 𝐞₁₂₃₄,\n",
       " 1.61 𝐞₁ + 2.48 𝐞₂ + 0.92 𝐞₃ + 2.95 𝐞₄ + -2.22e-16 𝐞₁₂₃ + -2.78e-17 𝐞₁₂₄ + -2.22e-16 𝐞₁₃₄ + -2.78e-17 𝐞₂₃₄,\n",
       " 1.61 𝐞₁ + 2.48 𝐞₂ + 0.92 𝐞₃ + 2.95 𝐞₄ + 2.22e-16 𝐞₁₂₃ + 2.22e-16 𝐞₁₃₄ + 2.78e-17 𝐞₂₃₄,\n",
       " -0.96 𝐞₁ + -0.0205 𝐞₂ + -0.573 𝐞₃ + -0.131 𝐞₄ + 1.32 𝐞₁₂₃ + 0.394 𝐞₁₂₄ + -1.4 𝐞₁₃₄ + -0.0839 𝐞₂₃₄,\n",
       " -0.96 𝐞₁ + -0.0205 𝐞₂ + -0.573 𝐞₃ + -0.131 𝐞₄ + 1.32 𝐞₁₂₃ + 0.394 𝐞₁₂₄ + -1.4 𝐞₁₃₄ + -0.0839 𝐞₂₃₄)"
      ]
     },
     "execution_count": 57,
     "metadata": {},
     "output_type": "execute_result"
    }
   ],
   "source": [
    "#8.25\n",
    "R, u = random_rotor(alg), random_r_blade(1, alg)\n",
    "v = R.sw(u)\n",
    "S = simple_rotor_sqrt(v * u / normsq(u))\n",
    "U = S.reverse() * R\n",
    "R, S * U, S * u, u * S.reverse(), U * u, u * U"
   ]
  },
  {
   "cell_type": "code",
   "execution_count": 58,
   "metadata": {},
   "outputs": [
    {
     "data": {
      "text/plain": [
       "(-2.05 + 2.84 𝐞₁₂ + 0.989 𝐞₁₃ + 3.48 𝐞₁₄ + 1.15 𝐞₂₃ + 0.525 𝐞₂₄ + -1.05 𝐞₃₄ + -0.229 𝐞₁₂₃₄,\n",
       " -2.05 + 2.84 𝐞₁₂ + 0.989 𝐞₁₃ + 3.48 𝐞₁₄ + 1.15 𝐞₂₃ + 0.525 𝐞₂₄ + -1.05 𝐞₃₄ + -0.229 𝐞₁₂₃₄,\n",
       " -2.05 + 2.84 𝐞₁₂ + 0.989 𝐞₁₃ + 3.48 𝐞₁₄ + 1.15 𝐞₂₃ + 0.525 𝐞₂₄ + -1.05 𝐞₃₄ + -0.229 𝐞₁₂₃₄)"
      ]
     },
     "execution_count": 58,
     "metadata": {},
     "output_type": "execute_result"
    }
   ],
   "source": [
    "def rotor_split(R: MultiVector, alg: Algebra, tol=1e-6):\n",
    "    # FIXME: when the tangent not well defined\n",
    "    assert normsq(R.grade(2)) > tol, \"zero bivector\"\n",
    "    tangent = R.grade(2) / R[0]\n",
    "    tangents = bivector_split(tangent, alg)\n",
    "    splits = sorted([normalize(1 + t) for t in tangents], key=lambda item: abs(item[0]))\n",
    "    sign = np.round(gprod(r[0] for r in splits)/R[0])\n",
    "    splits[0] = splits[0] * sign # to keep the sign of R\n",
    "    return splits\n",
    "        \n",
    "\n",
    "R_splits = rotor_split(R, alg)\n",
    "R, gprod(R_splits), gprod([blade_exp(simple_rotor_log(r)) for r in R_splits])"
   ]
  },
  {
   "cell_type": "code",
   "execution_count": 59,
   "metadata": {},
   "outputs": [
    {
     "data": {
      "text/plain": [
       "(0.0847 + -0.0432 𝐞₁₂ + 0.00199 𝐞₁₃ + 0.107 𝐞₂₃,\n",
       " 0.713 + 0.111 𝐞₁₂ + 0.124 𝐞₁₃ + 0.25 𝐞₁₄ + -0.101 𝐞₂₃ + 0.295 𝐞₂₄ + 0.161 𝐞₃₄ + 0.133 𝐞₁₂₃₄)"
      ]
     },
     "execution_count": 59,
     "metadata": {},
     "output_type": "execute_result"
    }
   ],
   "source": [
    "#8.10 a spinor is an even versor for odd dimension (a Dirac representation);\n",
    "# a sum of an even versor and its dual for even dimension (two Weyl representations)\n",
    "def random_study_number(alg):\n",
    "    a, b = np.random.rand(2)\n",
    "    return (a + b*alg.pseudoscalar((1,)))\n",
    "\n",
    "def random_spinor(alg: Algebra):\n",
    "    if alg.d % 4:\n",
    "        return random_even_versor(alg)\n",
    "    return random_study_number(alg) * random_even_versor(alg)\n",
    "\n",
    "random_spinor(Algebra(3)), random_spinor(Algebra(4))\n"
   ]
  },
  {
   "cell_type": "code",
   "execution_count": 60,
   "metadata": {},
   "outputs": [
    {
     "data": {
      "text/plain": [
       "array([-33.57429333, -33.57429333, -33.57429333, -33.57429333])"
      ]
     },
     "execution_count": 60,
     "metadata": {},
     "output_type": "execute_result"
    }
   ],
   "source": [
    "# A pointor depends on a point\n",
    "def random_point(alg: Algebra):\n",
    "    return random_r_blade(alg.d - 1, alg)\n",
    "\n",
    "O = random_point(alg)\n",
    "\n",
    "# point reflection on the point itself is a pointor\n",
    "terms_ratio(O, O.sw(O))"
   ]
  },
  {
   "cell_type": "code",
   "execution_count": 61,
   "metadata": {},
   "outputs": [
    {
     "data": {
      "text/plain": [
       "(array([-33.57429333, -33.57429333, -33.57429333, -33.57429333]),\n",
       " array([12.90591293, 12.90591293, 12.90591293, 12.90591293]),\n",
       " array([13.36279296, 13.36279296, 13.36279296, 13.36279296]))"
      ]
     },
     "execution_count": 61,
     "metadata": {},
     "output_type": "execute_result"
    }
   ],
   "source": [
    "# versors not crossing O-subspace are pointers \n",
    "vectors = blade_split(O, alg)\n",
    "B1, B2 = wedge(vectors[:2]), wedge(vectors[1:])\n",
    "Od = O.dual()\n",
    "terms_ratio(O, Od.sw(O)), terms_ratio(B1.sw(O), O), terms_ratio(vectors[0].sw(O), O), "
   ]
  },
  {
   "cell_type": "code",
   "execution_count": 62,
   "metadata": {},
   "outputs": [
    {
     "data": {
      "text/plain": [
       "(array([-0.02978469, -0.02978469, -0.02978469, -0.02978469]),\n",
       " array([0.03264996, 0.03264996, 0.03264996, 0.03264996]))"
      ]
     },
     "execution_count": 62,
     "metadata": {},
     "output_type": "execute_result"
    }
   ],
   "source": [
    "# rotors with reflections are pointers\n",
    "R1 = blade_exp(3.3*B1)\n",
    "R2 = blade_exp(4.4*B2)\n",
    "terms_ratio((Od * R1 * R2).sw(O), O), terms_ratio((Od * vectors[2] * R1).sw(O), O)"
   ]
  },
  {
   "cell_type": "code",
   "execution_count": 63,
   "metadata": {},
   "outputs": [
    {
     "data": {
      "text/plain": [
       "array([2.31265738, 1.17541562, 1.17541562, 1.17541562])"
      ]
     },
     "execution_count": 63,
     "metadata": {},
     "output_type": "execute_result"
    }
   ],
   "source": [
    "# rotors cross O-subspace may not be pointers\n",
    "terms_ratio(blade_exp(Od ^ vectors[2]).sw(O), O)"
   ]
  },
  {
   "cell_type": "code",
   "execution_count": 64,
   "metadata": {},
   "outputs": [
    {
     "data": {
      "text/plain": [
       "0.485 + 0.228 𝐞₁ + 0.447 𝐞₂ + 0.646 𝐞₃ + 0.0591 𝐞₄ + -0.0795 𝐞₁₂ + -0.0623 𝐞₁₃ + -0.0573 𝐞₁₄ + 0.116 𝐞₂₃ + -0.032 𝐞₂₄ + -0.108 𝐞₃₄ + 0.00599 𝐞₁₂₃ + 0.0281 𝐞₁₂₄ + 0.0177 𝐞₁₃₄ + -0.0433 𝐞₂₃₄"
      ]
     },
     "execution_count": 64,
     "metadata": {},
     "output_type": "execute_result"
    }
   ],
   "source": [
    "# A general pointor suggested by \"From Invariant Decomposition to Spinors\"?\n",
    "# How do we find the point specified by a pointor?\n",
    "def random_odd_versor(alg):\n",
    "    d = alg.d\n",
    "    if not (alg.d % 2):\n",
    "        d -= 1\n",
    "    return gprod(random_r_vectors(d, alg))\n",
    "\n",
    "\n",
    "# Actually I'm not sure these generate pointors\n",
    "# def random_pointor(alg: Algebra):\n",
    "#     return random_odd_versor(alg) * random_even_versor(alg)\n",
    "    \n",
    "# def random_pointor(alg: Algebra):\n",
    "#     v = random_r_blade(1, alg)\n",
    "#     return (np.random.rand() + v) * random_even_versor(alg)\n",
    "\n",
    "# FIXME: check degree of freedom\n",
    "def random_pointor(alg: Algebra):\n",
    "    v = random_r_blade(1, alg)\n",
    "    return (np.random.rand() + v) * random_versor(2, alg)\n",
    "\n",
    "pointor = random_pointor(alg)\n",
    "pointor"
   ]
  },
  {
   "cell_type": "code",
   "execution_count": 65,
   "metadata": {},
   "outputs": [
    {
     "data": {
      "text/plain": [
       "array([0.90449692, 0.90449692, 0.90449692, 0.90449692])"
      ]
     },
     "execution_count": 65,
     "metadata": {},
     "output_type": "execute_result"
    }
   ],
   "source": [
    "# the point-grade\n",
    "O = pointor.grade(3)\n",
    "terms_ratio(pointor.sw(O), O)"
   ]
  }
 ],
 "metadata": {
  "kernelspec": {
   "display_name": "Python 3",
   "language": "python",
   "name": "python3"
  },
  "language_info": {
   "codemirror_mode": {
    "name": "ipython",
    "version": 3
   },
   "file_extension": ".py",
   "mimetype": "text/x-python",
   "name": "python",
   "nbconvert_exporter": "python",
   "pygments_lexer": "ipython3",
   "version": "3.10.5"
  }
 },
 "nbformat": 4,
 "nbformat_minor": 2
}
