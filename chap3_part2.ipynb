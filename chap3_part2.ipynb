{
 "cells": [
  {
   "cell_type": "code",
   "execution_count": 306,
   "metadata": {},
   "outputs": [],
   "source": [
    "from gc_utils import *\n",
    "\n",
    "alg = Algebra(4)\n",
    "ga2 = Algebra(2)\n",
    "locals().update(alg.blades)"
   ]
  },
  {
   "cell_type": "code",
   "execution_count": 307,
   "metadata": {},
   "outputs": [
    {
     "data": {
      "text/plain": [
       "0.808 𝐞₁ + 0.399 𝐞₂"
      ]
     },
     "execution_count": 307,
     "metadata": {},
     "output_type": "execute_result"
    }
   ],
   "source": [
    "# 2d general linear transform\n",
    "def random_linear_trans(alg: Algebra):\n",
    "    matrix = np.random.rand(alg.d, alg.d)\n",
    "    return matrix2trans(matrix, alg)\n",
    "\n",
    "def random_ortho_trans(alg: Algebra):\n",
    "    from scipy.stats import ortho_group\n",
    "    matrix = ortho_group.rvs(dim=alg.d)\n",
    "    return matrix2trans(matrix, alg)\n",
    "\n",
    "f = random_linear_trans(ga2)\n",
    "x = random_r_blade(1, ga2)\n",
    "f(x)"
   ]
  },
  {
   "cell_type": "code",
   "execution_count": 308,
   "metadata": {},
   "outputs": [
    {
     "data": {
      "text/plain": [
       "(0.808 𝐞₁ + 0.399 𝐞₂, 0.808 𝐞₁ + 0.399 𝐞₂)"
      ]
     },
     "execution_count": 308,
     "metadata": {},
     "output_type": "execute_result"
    }
   ],
   "source": [
    "# 2d polar decomposition\n",
    "# f = SUU\n",
    "df = derivative(f, x, ga2, grade=1)\n",
    "UU = df / norm(df)\n",
    "S = lambda x: UU * f(x)\n",
    "S(x)*UU, f(x)"
   ]
  },
  {
   "cell_type": "code",
   "execution_count": 309,
   "metadata": {},
   "outputs": [
    {
     "data": {
      "text/plain": [
       "(0.844 + -0.536 𝐞₁₂, 8.33e-11 𝐞₁₂)"
      ]
     },
     "execution_count": 309,
     "metadata": {},
     "output_type": "execute_result"
    }
   ],
   "source": [
    "# UU is rotor, S is symmetric\n",
    "UU, curl(S, x, ga2, grade=1)"
   ]
  },
  {
   "cell_type": "code",
   "execution_count": 310,
   "metadata": {},
   "outputs": [
    {
     "data": {
      "text/plain": [
       "(2.55 + 0.0263 𝐞₁₂ + -0.0618 𝐞₁₃ + -0.0671 𝐞₁₄ + -0.0808 𝐞₂₃ + -0.111 𝐞₂₄ + 0.0539 𝐞₃₄ + -2.67e-16 𝐞₁₂₃₄,\n",
       " 2.55 + 0.0263 𝐞₁₂ + -0.0618 𝐞₁₃ + -0.0671 𝐞₁₄ + -0.0808 𝐞₂₃ + -0.111 𝐞₂₄ + 0.0539 𝐞₃₄)"
      ]
     },
     "execution_count": 310,
     "metadata": {},
     "output_type": "execute_result"
    }
   ],
   "source": [
    "#6.3 remove the condition of 2 dimension\n",
    "a, b, x = random_r_vectors(3, alg)\n",
    "g = lambda x: x + (x|a)*b\n",
    "abframe = [a,b]\n",
    "r_frame = reciprocal(abframe)\n",
    "dg = 2 + a*b\n",
    "derivative(g, x, alg, grade=1, frame=abframe, r_frame=r_frame), dg"
   ]
  },
  {
   "cell_type": "code",
   "execution_count": 311,
   "metadata": {},
   "outputs": [
    {
     "data": {
      "text/plain": [
       "(-1.11e-10 𝐞₁₂ + 9.71e-11 𝐞₁₃ + -4.16e-10 𝐞₁₄ + 1.11e-10 𝐞₂₃ + 8.33e-11 𝐞₂₄ + -4.16e-11 𝐞₃₄,\n",
       " 1.04 𝐞₁ + 0.74 𝐞₂ + 0.122 𝐞₃ + 0.259 𝐞₄,\n",
       " 1.04 𝐞₁ + 0.74 𝐞₂ + 0.122 𝐞₃ + 0.259 𝐞₄)"
      ]
     },
     "execution_count": 311,
     "metadata": {},
     "output_type": "execute_result"
    }
   ],
   "source": [
    "#6.3\n",
    "dg_norm = norm(dg)\n",
    "UU = dg / dg_norm\n",
    "U = simple_rotor_sqrt(UU)\n",
    "S = lambda x: U.sw(g(x))\n",
    "curl(S, x, alg, grade=1), U.reverse().sw(S(x)), g(x)"
   ]
  },
  {
   "cell_type": "code",
   "execution_count": 312,
   "metadata": {},
   "outputs": [
    {
     "data": {
      "text/plain": [
       "[-1.0 𝐞₁, 1.0 𝐞₄, -1.0 𝐞₃, 1.0 𝐞₂]"
      ]
     },
     "execution_count": 312,
     "metadata": {},
     "output_type": "execute_result"
    }
   ],
   "source": [
    "#6.6\n",
    "frame = alg.frame\n",
    "i, j = 1, 3\n",
    "aij = (1/np.sqrt(2))*(frame[i] + frame[j])\n",
    "[aij.sw(x) for x in frame]"
   ]
  },
  {
   "cell_type": "code",
   "execution_count": 313,
   "metadata": {},
   "outputs": [
    {
     "data": {
      "text/plain": [
       "[1 𝐞₁, 1 𝐞₂ + 3 𝐞₄, 1 𝐞₃, 1 𝐞₄]"
      ]
     },
     "execution_count": 313,
     "metadata": {},
     "output_type": "execute_result"
    }
   ],
   "source": [
    "#6.7\n",
    "alpha = 3\n",
    "Sij = lambda x: x + (alpha * (x|frame[i]) * frame[j])\n",
    "[Sij(x) for x in frame]"
   ]
  },
  {
   "cell_type": "code",
   "execution_count": 314,
   "metadata": {},
   "outputs": [
    {
     "data": {
      "text/plain": [
       "(0.628 𝐞₁ + 0.705 𝐞₂ + 1.14 𝐞₃ + 0.255 𝐞₄,\n",
       " 0.628 𝐞₁ + 0.705 𝐞₂ + 1.14 𝐞₃ + 0.255 𝐞₄)"
      ]
     },
     "execution_count": 314,
     "metadata": {},
     "output_type": "execute_result"
    }
   ],
   "source": [
    "#7.2\n",
    "g = random_linear_trans(alg)\n",
    "g_ = lambda x, y: x | g(y)\n",
    "derivative(lambda x: g_(x, b), x, alg, grade=1), g(b)"
   ]
  },
  {
   "cell_type": "code",
   "execution_count": 315,
   "metadata": {},
   "outputs": [
    {
     "data": {
      "text/plain": [
       "-0.189 𝐞₁₂₃₄"
      ]
     },
     "execution_count": 315,
     "metadata": {},
     "output_type": "execute_result"
    }
   ],
   "source": [
    "# check nonsingular\n",
    "outermorphism(g, alg.pseudoscalar((1,)), alg)"
   ]
  },
  {
   "cell_type": "code",
   "execution_count": 316,
   "metadata": {},
   "outputs": [
    {
     "data": {
      "text/plain": [
       "(-0.211, -0.211)"
      ]
     },
     "execution_count": 316,
     "metadata": {},
     "output_type": "execute_result"
    }
   ],
   "source": [
    "#7.5 orthogonal transformation is its isometry\n",
    "f = random_ortho_trans(alg)\n",
    "x | f(b), f(x) | f(f(b))"
   ]
  },
  {
   "cell_type": "code",
   "execution_count": 317,
   "metadata": {},
   "outputs": [
    {
     "data": {
      "text/plain": [
       "(0.0157, 0.0157)"
      ]
     },
     "execution_count": 317,
     "metadata": {},
     "output_type": "execute_result"
    }
   ],
   "source": [
    "# skew bilinear form\n",
    "gm = skew_part(g, alg)\n",
    "G = simplicial_derivative(lambda vectors: vectors[0] | gm(vectors[1]), np.zeros(2), alg)\n",
    "x | gm(b), x | (b | G)"
   ]
  },
  {
   "cell_type": "code",
   "execution_count": 318,
   "metadata": {},
   "outputs": [
    {
     "data": {
      "text/plain": [
       "(0.26 𝐞₁₂ + -0.364 𝐞₁₃ + -0.135 𝐞₁₄ + -0.328 𝐞₂₃ + 0.0145 𝐞₂₄ + 0.127 𝐞₃₄,\n",
       " 0.309 𝐞₁₂ + 0.342 𝐞₁₃ + -0.269 𝐞₁₄ + -0.0283 𝐞₂₃ + -0.00432 𝐞₂₄ + 0.238 𝐞₃₄)"
      ]
     },
     "execution_count": 318,
     "metadata": {},
     "output_type": "execute_result"
    }
   ],
   "source": [
    "#7.6b f is not an isometry of gm\n",
    "adjoint_outermorphism(f, G, alg), G"
   ]
  },
  {
   "cell_type": "code",
   "execution_count": 319,
   "metadata": {},
   "outputs": [
    {
     "data": {
      "text/plain": [
       "(0.852 𝐞₁ + 0.509 𝐞₂ + 0.0745 𝐞₃ + 0.0402 𝐞₄,\n",
       " 0.852 𝐞₁ + 0.509 𝐞₂ + 0.0745 𝐞₃ + 0.0402 𝐞₄)"
      ]
     },
     "execution_count": 319,
     "metadata": {},
     "output_type": "execute_result"
    }
   ],
   "source": [
    "#7.8 the inverse of gm\n",
    "blades = bivector_split(G, alg)\n",
    "gm(sum(-x | blade/normsq(blade) for blade in blades)), x"
   ]
  },
  {
   "cell_type": "code",
   "execution_count": 320,
   "metadata": {},
   "outputs": [
    {
     "data": {
      "text/plain": [
       "3.05e-16 + 5.55e-17 𝐞₁₄ + 4.16e-17 𝐞₂₃ + 2.08e-17 𝐞₂₄ + 1.39e-17 𝐞₃₄ + 1.0 𝐞₁₂₃₄"
      ]
     },
     "execution_count": 320,
     "metadata": {},
     "output_type": "execute_result"
    }
   ],
   "source": [
    "#7.12 assume splitted blades are normal\n",
    "blades_norm = [norm(b) for b in blades]\n",
    "blades = [b / n for b, n in zip(blades, blades_norm)]\n",
    "gprod(blades)"
   ]
  },
  {
   "cell_type": "code",
   "execution_count": 321,
   "metadata": {},
   "outputs": [
    {
     "data": {
      "text/plain": [
       "[(0.299 𝐞₁₂ + -0.158 𝐞₁₃ + 0.0773 𝐞₁₄ + -0.495 𝐞₂₃ + -0.645 𝐞₂₄ + 0.468 𝐞₃₄,\n",
       "  0.299 𝐞₁₂ + -0.158 𝐞₁₃ + -0.495 𝐞₂₃ + 0.0773 𝐞₁₄ + -0.645 𝐞₂₄ + 0.468 𝐞₃₄),\n",
       " (0.468 𝐞₁₂ + 0.645 𝐞₁₃ + -0.495 𝐞₁₄ + 0.0773 𝐞₂₃ + 0.158 𝐞₂₄ + 0.299 𝐞₃₄,\n",
       "  0.468 𝐞₁₂ + 0.645 𝐞₁₃ + 0.0773 𝐞₂₃ + -0.495 𝐞₁₄ + 0.158 𝐞₂₄ + 0.299 𝐞₃₄),\n",
       " (0.299 𝐞₁₂ + -0.158 𝐞₁₃ + 0.0773 𝐞₁₄ + -0.495 𝐞₂₃ + -0.645 𝐞₂₄ + 0.468 𝐞₃₄,\n",
       "  0.299 𝐞₁₂ + -0.158 𝐞₁₃ + -0.495 𝐞₂₃ + 0.0773 𝐞₁₄ + -0.645 𝐞₂₄ + 0.468 𝐞₃₄),\n",
       " (0.468 𝐞₁₂ + 0.645 𝐞₁₃ + -0.495 𝐞₁₄ + 0.0773 𝐞₂₃ + 0.158 𝐞₂₄ + 0.299 𝐞₃₄,\n",
       "  0.468 𝐞₁₂ + 0.645 𝐞₁₃ + 0.0773 𝐞₂₃ + -0.495 𝐞₁₄ + 0.158 𝐞₂₄ + 0.299 𝐞₃₄)]"
      ]
     },
     "execution_count": 321,
     "metadata": {},
     "output_type": "execute_result"
    }
   ],
   "source": [
    "#7.17\n",
    "theta = np.random.rand(2)\n",
    "rotors = [blade_exp(t*blade) for t, blade in zip(theta, blades)]\n",
    "[(U.sw(G), G) for U in rotors for G in blades]"
   ]
  },
  {
   "cell_type": "code",
   "execution_count": 322,
   "metadata": {},
   "outputs": [
    {
     "data": {
      "text/plain": [
       "array([1., 1., 1., 1., 1., 1.])"
      ]
     },
     "execution_count": 322,
     "metadata": {},
     "output_type": "execute_result"
    }
   ],
   "source": [
    "#7.18\n",
    "first_vecs = [blade_split(blade, alg)[0] for blade in blades]\n",
    "first_vecs = [v/norm(v) for v in first_vecs]\n",
    "second_vecs = [v | blade for v, blade in zip(first_vecs, blades)]\n",
    "inter_plane_rotors = [simple_rotor_sqrt(a * b) for a, b in (first_vecs, second_vecs)]\n",
    "U = gprod(inter_plane_rotors)\n",
    "terms_ratio(U.sw(blades[0]), blades[1])"
   ]
  },
  {
   "cell_type": "code",
   "execution_count": 323,
   "metadata": {},
   "outputs": [
    {
     "data": {
      "text/plain": [
       "(0.767 𝐞₁₂ + 0.487 𝐞₁₃ + -0.418 𝐞₁₄ + -0.418 𝐞₂₃ + -0.487 𝐞₂₄ + 0.767 𝐞₃₄,\n",
       " 0.767 𝐞₁₂ + 0.487 𝐞₁₃ + -0.418 𝐞₁₄ + -0.418 𝐞₂₃ + -0.487 𝐞₂₄ + 0.767 𝐞₃₄)"
      ]
     },
     "execution_count": 323,
     "metadata": {},
     "output_type": "execute_result"
    }
   ],
   "source": [
    "G_normalized = sum(blades)\n",
    "G_normalized, U.sw(G_normalized)"
   ]
  },
  {
   "cell_type": "code",
   "execution_count": 324,
   "metadata": {},
   "outputs": [
    {
     "data": {
      "text/plain": [
       "(0.309 𝐞₁₂ + 0.342 𝐞₁₃ + -0.269 𝐞₁₄ + -0.0283 𝐞₂₃ + -0.00432 𝐞₂₄ + 0.238 𝐞₃₄,\n",
       " 0.309 𝐞₁₂ + 0.342 𝐞₁₃ + -0.269 𝐞₁₄ + -0.0283 𝐞₂₃ + -0.00432 𝐞₂₄ + 0.238 𝐞₃₄)"
      ]
     },
     "execution_count": 324,
     "metadata": {},
     "output_type": "execute_result"
    }
   ],
   "source": [
    "# we can recover this \"normalization\"\n",
    "sum(P(G_normalized, b) * n for b, n in zip(blades, blades_norm)), G"
   ]
  },
  {
   "cell_type": "code",
   "execution_count": 325,
   "metadata": {},
   "outputs": [
    {
     "data": {
      "text/plain": [
       "[(-1.11e-17, ('f', 'f')),\n",
       " (5.55e-17, ('f', 'fp')),\n",
       " (-1.0, ('f', 's')),\n",
       " (-5.55e-17, ('f', 'sp')),\n",
       " (-3.17e-17, ('fp', 'f')),\n",
       " (2.78e-17, ('fp', 'fp')),\n",
       " (1.67e-16, ('fp', 's')),\n",
       " (-1.0, ('fp', 'sp')),\n",
       " (1.0, ('s', 'f')),\n",
       " (-1.92e-16, ('s', 'fp')),\n",
       " (-2.22e-17, ('s', 's')),\n",
       " (9.91e-17, ('s', 'sp')),\n",
       " (-5.1e-17, ('sp', 'f')),\n",
       " (1.0, ('sp', 'fp')),\n",
       " (-5.55e-17, ('sp', 's')),\n",
       " (, ('sp', 'sp'))]"
      ]
     },
     "execution_count": 325,
     "metadata": {},
     "output_type": "execute_result"
    }
   ],
   "source": [
    "#7.21 zero if not onto the decomposed blades \n",
    "sympletic_basis = first_vecs + second_vecs\n",
    "list(zip((v | (w | G_normalized) for v, w in product(sympletic_basis, repeat=2)), (product(['f', 'fp', 's', 'sp'], repeat=2))))"
   ]
  },
  {
   "cell_type": "code",
   "execution_count": 326,
   "metadata": {},
   "outputs": [
    {
     "data": {
      "text/plain": [
       "([-0.0966 𝐞₁ + 0.805 𝐞₂ + -0.585 𝐞₃,\n",
       "  0.902 𝐞₁ + 0.108 𝐞₂ + -9.8e-17 𝐞₃ + -0.419 𝐞₄,\n",
       "  -0.334 𝐞₁ + -0.318 𝐞₂ + -0.383 𝐞₃ + -0.8 𝐞₄,\n",
       "  -0.258 𝐞₁ + 0.488 𝐞₂ + 0.715 𝐞₃ + -0.429 𝐞₄],\n",
       " [0.334 𝐞₁ + 0.318 𝐞₂ + 0.383 𝐞₃ + 0.8 𝐞₄,\n",
       "  0.258 𝐞₁ + -0.488 𝐞₂ + -0.715 𝐞₃ + 0.429 𝐞₄,\n",
       "  -0.0966 𝐞₁ + 0.805 𝐞₂ + -0.585 𝐞₃ + 2.78e-17 𝐞₄,\n",
       "  0.902 𝐞₁ + 0.108 𝐞₂ + -0.419 𝐞₄])"
      ]
     },
     "execution_count": 326,
     "metadata": {},
     "output_type": "execute_result"
    }
   ],
   "source": [
    "# Recover the normalization\n",
    "[gm(v)/n for v, n in zip(sympletic_basis, blades_norm*2)], sympletic_basis"
   ]
  },
  {
   "cell_type": "code",
   "execution_count": 327,
   "metadata": {},
   "outputs": [
    {
     "data": {
      "text/plain": [
       "(0.767 𝐞₁₂ + 0.487 𝐞₁₃ + -0.418 𝐞₁₄ + -0.418 𝐞₂₃ + -0.487 𝐞₂₄ + 0.767 𝐞₃₄,\n",
       " 0.767 𝐞₁₂ + 0.487 𝐞₁₃ + -0.418 𝐞₁₄ + -0.418 𝐞₂₃ + -0.487 𝐞₂₄ + 0.767 𝐞₃₄,\n",
       " 0.309 𝐞₁₂ + 0.342 𝐞₁₃ + -0.269 𝐞₁₄ + -0.0283 𝐞₂₃ + -0.00432 𝐞₂₄ + 0.238 𝐞₃₄,\n",
       " 0.309 𝐞₁₂ + 0.342 𝐞₁₃ + -0.269 𝐞₁₄ + -0.0283 𝐞₂₃ + -0.00432 𝐞₂₄ + 0.238 𝐞₃₄)"
      ]
     },
     "execution_count": 327,
     "metadata": {},
     "output_type": "execute_result"
    }
   ],
   "source": [
    "#7.26a symplectic transformations of gm (isometries of skew bilinear form)\n",
    "# conditions: unity and sympletic basis\n",
    "translation = lambda x: (\n",
    "    x + \n",
    "    2*(x|second_vecs[1]) * first_vecs[1] + \n",
    "    3*(x|second_vecs[0]) * first_vecs[0]\n",
    "    )\n",
    "\n",
    "outermorphism(translation, G_normalized, alg), G_normalized, outermorphism(translation, G, alg), G"
   ]
  },
  {
   "cell_type": "code",
   "execution_count": 328,
   "metadata": {},
   "outputs": [
    {
     "data": {
      "text/plain": [
       "(0.767 𝐞₁₂ + 0.487 𝐞₁₃ + -0.418 𝐞₁₄ + -0.418 𝐞₂₃ + -0.487 𝐞₂₄ + 0.767 𝐞₃₄,\n",
       " 0.767 𝐞₁₂ + 0.487 𝐞₁₃ + -0.418 𝐞₁₄ + -0.418 𝐞₂₃ + -0.487 𝐞₂₄ + 0.767 𝐞₃₄,\n",
       " 0.309 𝐞₁₂ + 0.342 𝐞₁₃ + -0.269 𝐞₁₄ + -0.0283 𝐞₂₃ + -0.00432 𝐞₂₄ + 0.238 𝐞₃₄,\n",
       " 0.309 𝐞₁₂ + 0.342 𝐞₁₃ + -0.269 𝐞₁₄ + -0.0283 𝐞₂₃ + -0.00432 𝐞₂₄ + 0.238 𝐞₃₄)"
      ]
     },
     "execution_count": 328,
     "metadata": {},
     "output_type": "execute_result"
    }
   ],
   "source": [
    "#7.26b\n",
    "rotation = lambda x: (\n",
    "    x + \n",
    "    4*((x|first_vecs[1]) * second_vecs[1] + (x|second_vecs[0]) * first_vecs[0])\n",
    "    )\n",
    "\n",
    "outermorphism(rotation, G_normalized, alg), G_normalized, outermorphism(rotation, G, alg), G"
   ]
  },
  {
   "cell_type": "code",
   "execution_count": 329,
   "metadata": {},
   "outputs": [
    {
     "data": {
      "text/plain": [
       "(0.309 𝐞₁₂ + 0.342 𝐞₁₃ + -0.269 𝐞₁₄ + -0.0283 𝐞₂₃ + -0.00432 𝐞₂₄ + 0.238 𝐞₃₄,\n",
       " 0.309 𝐞₁₂ + 0.342 𝐞₁₃ + -0.269 𝐞₁₄ + -0.0283 𝐞₂₃ + -0.00432 𝐞₂₄ + 0.238 𝐞₃₄)"
      ]
     },
     "execution_count": 329,
     "metadata": {},
     "output_type": "execute_result"
    }
   ],
   "source": [
    "#7.26c\n",
    "outermorphism(lambda x: rotation(translation(x)), G, alg), G"
   ]
  },
  {
   "cell_type": "code",
   "execution_count": 343,
   "metadata": {},
   "outputs": [
    {
     "data": {
      "text/plain": [
       "(0.973, 0.973, 0.973)"
      ]
     },
     "execution_count": 343,
     "metadata": {},
     "output_type": "execute_result"
    }
   ],
   "source": [
    "#7.28\n",
    "gp = sym_part(g, alg)\n",
    "matrix = trans2matrix(gp, alg)\n",
    "eigvalues, eigvecs = np.linalg.eigh(matrix)\n",
    "eigvecs = [alg.vector(v) for v in eigvecs.transpose()]\n",
    "neg_vecs, pos_vecs, null_vecs = [], [], []\n",
    "for e, v in zip(eigvalues, eigvecs):\n",
    "    if e < -1e-6:\n",
    "        neg_vecs.append(v)\n",
    "    elif e > 1e-6:\n",
    "        pos_vecs.append(v)\n",
    "    else:\n",
    "        null_vecs.append(v)\n",
    "\n",
    "neg_blade = wedge(neg_vecs)\n",
    "nv_sign = (-1) ** len(neg_vecs) \n",
    "c = lambda x: nv_sign*neg_blade.sw(x)\n",
    "h = lambda x: sum(np.sqrt(abs(e)) * P(x, v) for e, v in zip(eigvalues, eigvecs))\n",
    "\n",
    "x | gp(b), h(x)|c(h(b)), c(x)|h(h(b))"
   ]
  },
  {
   "cell_type": "code",
   "execution_count": 344,
   "metadata": {},
   "outputs": [
    {
     "data": {
      "text/plain": [
       "(0.941,\n",
       " 0.941,\n",
       " 0.852 𝐞₁ + 0.509 𝐞₂ + 0.0745 𝐞₃ + 0.0402 𝐞₄,\n",
       " 1.37 𝐞₁ + 0.632 𝐞₂ + -1.74 𝐞₃ + 1.38 𝐞₄)"
      ]
     },
     "execution_count": 344,
     "metadata": {},
     "output_type": "execute_result"
    }
   ],
   "source": [
    "#7.28 If the symmetric transformation is positive definite (Euclidean metric)\n",
    "gpp = lambda x: sum(abs(e) * P(x, v) for e, v in zip(eigvalues, eigvecs))\n",
    "hinv = lambda x: sum(1/np.sqrt(abs(e)) * P(x, v) for e, v in zip(eigvalues, eigvecs))\n",
    "r = 2 # a arbitrary integer <= n\n",
    "Q = random_r_blade(r, alg)\n",
    "Q = Q / norm(Q)\n",
    "f = lambda x: -hinv(Q.sw(h(x)))\n",
    "x | gpp(b), f(x) | gpp(f(b)), x, f(x)"
   ]
  },
  {
   "cell_type": "code",
   "execution_count": 345,
   "metadata": {},
   "outputs": [
    {
     "data": {
      "text/plain": [
       "(0.904, 0.904)"
      ]
     },
     "execution_count": 345,
     "metadata": {},
     "output_type": "execute_result"
    }
   ],
   "source": [
    "#7.33 isometry of c\n",
    "def ortho_split(x, A):\n",
    "    xp = P(x, A)\n",
    "    return xp, x-xp\n",
    "\n",
    "xp, xo = ortho_split(x, neg_blade)\n",
    "bp, bo = ortho_split(b, neg_blade)\n",
    "x | c(b), (xo | bo) - (xp | bp)\n"
   ]
  },
  {
   "cell_type": "code",
   "execution_count": 350,
   "metadata": {},
   "outputs": [
    {
     "data": {
      "text/plain": [
       "(0.144 𝐞₁₂ + 0.115 𝐞₁₃ + -0.455 𝐞₁₄ + -0.277 𝐞₂₃ + 0.79 𝐞₂₄ + -0.242 𝐞₃₄,\n",
       " 0.144 𝐞₁₂ + 0.115 𝐞₁₃ + -0.455 𝐞₁₄ + -0.277 𝐞₂₃ + 0.79 𝐞₂₄ + -0.242 𝐞₃₄)"
      ]
     },
     "execution_count": 350,
     "metadata": {},
     "output_type": "execute_result"
    }
   ],
   "source": [
    "# Let R be a rotor (see next section) preserves the reflected subspace\n",
    "R = 1\n",
    "if len(neg_vecs) >= 2:\n",
    "    R *= blade_exp(3.3 * wedge(neg_vecs[:2]))\n",
    "if len(pos_vecs) >= 2:\n",
    "    R *= blade_exp(5.5 * wedge(pos_vecs[:2]))\n",
    "R.sw(neg_blade), neg_blade"
   ]
  },
  {
   "cell_type": "code",
   "execution_count": 347,
   "metadata": {},
   "outputs": [
    {
     "data": {
      "text/plain": [
       "(0.973,\n",
       " 0.973,\n",
       " 0.852 𝐞₁ + 0.509 𝐞₂ + 0.0745 𝐞₃ + 0.0402 𝐞₄,\n",
       " -0.864 𝐞₁ + -0.48 𝐞₂ + -0.0741 𝐞₃ + -0.0665 𝐞₄)"
      ]
     },
     "execution_count": 347,
     "metadata": {},
     "output_type": "execute_result"
    }
   ],
   "source": [
    "# an isometry of a pseudoEuclidean metric\n",
    "f = lambda x: -hinv(R.sw(h(x)))\n",
    "x | gp(b), f(x) | gp(f(b)), x, f(x)"
   ]
  },
  {
   "cell_type": "markdown",
   "metadata": {},
   "source": [
    "So a rotation preserves the reflected subspace is an isometry, any other isometry? The next section encode the metric into the algebra. So an orthogonal transform becomes an isometry of the vector space."
   ]
  },
  {
   "cell_type": "code",
   "execution_count": 353,
   "metadata": {},
   "outputs": [
    {
     "data": {
      "text/plain": [
       "[-1.0, -1.0, 1.0, 1.0]"
      ]
     },
     "execution_count": 353,
     "metadata": {},
     "output_type": "execute_result"
    }
   ],
   "source": [
    "# signature\n",
    "[v | c(v) for v in eigvecs]"
   ]
  },
  {
   "cell_type": "code",
   "execution_count": 380,
   "metadata": {},
   "outputs": [
    {
     "data": {
      "text/plain": [
       "(2, 2, 0)"
      ]
     },
     "execution_count": 380,
     "metadata": {},
     "output_type": "execute_result"
    }
   ],
   "source": [
    "p, q, r = 0,0,0\n",
    "for e in eigvalues:\n",
    "    if e > 1e-6:\n",
    "        p += 1\n",
    "    elif e < -1e-6:\n",
    "        q += 1\n",
    "    else:\n",
    "        r += 1\n",
    "p, q, r"
   ]
  },
  {
   "cell_type": "code",
   "execution_count": 381,
   "metadata": {},
   "outputs": [
    {
     "data": {
      "text/plain": [
       "(0.857, 0.857)"
      ]
     },
     "execution_count": 381,
     "metadata": {},
     "output_type": "execute_result"
    }
   ],
   "source": [
    "#8.2 Say the reflected subspace is 1d\n",
    "alg = Algebra(3, 1)\n",
    "locals().update(alg.blades)\n",
    "x, y, u = random_r_vectors(3, alg)\n",
    "u = u / norm(u)\n",
    "R = lambda x: - u.sw(x)\n",
    "R(x) | R(y), x | y"
   ]
  },
  {
   "cell_type": "markdown",
   "metadata": {},
   "source": [
    "Cartan-Dieudonne theorem: An isometry is a composition of at most d reflections. Identifying invariants of isometries as elements of geometry leads to modern developments."
   ]
  },
  {
   "cell_type": "code",
   "execution_count": 382,
   "metadata": {},
   "outputs": [
    {
     "data": {
      "text/plain": [
       "(0.857 + -4.97e-16 𝐞₁₂ + -5.04e-16 𝐞₁₃ + -6.26e-16 𝐞₁₄ + -8.27e-16 𝐞₂₃ + -6.71e-17 𝐞₂₄ + 9.6e-16 𝐞₃₄,\n",
       " 0.857,\n",
       " 0.857)"
      ]
     },
     "execution_count": 382,
     "metadata": {},
     "output_type": "execute_result"
    }
   ],
   "source": [
    "#8.3 Cartan-Dieudonne theorem: An isometry is a composition of at most d reflections.\n",
    "\n",
    "k = 3 # k <= d\n",
    "vectors = random_r_vectors(k, alg)\n",
    "p = sum((v**2)[0] > 0 for v in vectors)\n",
    "U = gprod(vectors) # a versor, of either even or odd grades\n",
    "f = lambda x: (-1) ** k * U * x / U\n",
    "f_ = lambda x: (-1) ** p * U.sw(x) / normsq(U) #8.8b\n",
    "f(x) | f(y), x | y, f_(x) | f_(y)"
   ]
  },
  {
   "cell_type": "code",
   "execution_count": 383,
   "metadata": {},
   "outputs": [
    {
     "name": "stdout",
     "output_type": "stream",
     "text": [
      "1 -1.0 + 4.16e-17 𝐞₁₃ + 2.22e-16 𝐞₁₄ + 4.44e-16 𝐞₂₄ + 4.44e-16 𝐞₃₄ + 4.44e-16 𝐞₁₂₃₄\n",
      "1 -1.0 + 2.08e-17 𝐞₁₃ + 5.56e-19 𝐞₁₄ + 2.78e-17 𝐞₂₃ + 3.47e-18 𝐞₂₄ + -3.47e-18 𝐞₃₄ + 3.47e-17 𝐞₁₂₃₄\n",
      "0 1.0 + -5.55e-17 𝐞₁₃ + -4.86e-17 𝐞₁₄ + -1.11e-16 𝐞₂₄ + 4.44e-16 𝐞₁₂₃₄\n",
      "1 -1.0 + -2.66e-15 𝐞₁₄ + -2.66e-15 𝐞₂₄ + 3.55e-15 𝐞₃₄ + 1.87e-14 𝐞₁₂₃₄\n",
      "0 1.0 + -4.55e-18 𝐞₁₃ + 5.59e-17 𝐞₁₄ + -2.43e-17 𝐞₂₃ + -2.08e-17 𝐞₂₄ + -4.68e-17 𝐞₃₄ + 1.21e-16 𝐞₁₂₃₄\n",
      "1 -1.0 + 2.22e-16 𝐞₁₂ + 2.22e-16 𝐞₂₄ + 5.55e-17 𝐞₃₄\n",
      "0 1.0 + -2.78e-17 𝐞₁₃ + 1.73e-17 𝐞₁₄ + -5.2e-18 𝐞₂₃ + 3.47e-17 𝐞₂₄ + -1.39e-16 𝐞₁₂₃₄\n",
      "0 1.0 + 1.28e-17 𝐞₁₃ + 2.34e-17 𝐞₁₄ + -1.04e-17 𝐞₂₃ + 9.97e-17 𝐞₂₄ + -1.39e-17 𝐞₃₄ + 2.34e-17 𝐞₁₂₃₄\n",
      "1 -1.0 + 1.87e-14 𝐞₁₃ + -1.03e-14 𝐞₁₄ + -7.11e-15 𝐞₂₃ + -3.55e-15 𝐞₂₄ + 1.42e-14 𝐞₃₄ + -2.49e-14 𝐞₁₂₃₄\n",
      "0 1.0 + -1.11e-16 𝐞₁₃ + -6.94e-17 𝐞₁₄ + 2.22e-16 𝐞₂₄ + -2.22e-16 𝐞₁₂₃₄\n"
     ]
    }
   ],
   "source": [
    "#8.8\n",
    "def random_versor(r, alg):\n",
    "    return gprod(random_r_vectors(r, alg))\n",
    "\n",
    "def random_versor_(r, alg):\n",
    "    vectors = random_r_vectors(r, alg)\n",
    "    p = sum((v**2)[0] > 0 for v in vectors)\n",
    "    return gprod(vectors), p\n",
    "k = 3\n",
    "for _ in range(10):\n",
    "    U, p = random_versor_(k, alg)\n",
    "    U = U/norm(U)\n",
    "    print(k - p, U.reverse() * U)"
   ]
  },
  {
   "cell_type": "code",
   "execution_count": 384,
   "metadata": {},
   "outputs": [
    {
     "data": {
      "text/plain": [
       "(-0.167 𝐞₁ + -0.014 𝐞₂ + 0.198 𝐞₃ + 0.257 𝐞₄,\n",
       " -0.167 𝐞₁ + -0.014 𝐞₂ + 0.198 𝐞₃ + 0.257 𝐞₄)"
      ]
     },
     "execution_count": 384,
     "metadata": {},
     "output_type": "execute_result"
    }
   ],
   "source": [
    "# versors (Pin) are 2:1 homomorphisc to orthogonal transformations (O)\n",
    "U = random_versor(3, alg)\n",
    "U.sw(x), (-U).sw(x)"
   ]
  },
  {
   "cell_type": "code",
   "execution_count": 385,
   "metadata": {},
   "outputs": [
    {
     "data": {
      "text/plain": [
       "(0.67 𝐞₁ + 0.387 𝐞₂ + 0.642 𝐞₃ + 0.322 𝐞₄,\n",
       " 0.67 𝐞₁ + 0.387 𝐞₂ + 0.642 𝐞₃ + 0.322 𝐞₄)"
      ]
     },
     "execution_count": 385,
     "metadata": {},
     "output_type": "execute_result"
    }
   ],
   "source": [
    "#8.5\n",
    "I = alg.pseudoscalar((1,))\n",
    "I.sw(x), x"
   ]
  },
  {
   "cell_type": "code",
   "execution_count": 386,
   "metadata": {},
   "outputs": [
    {
     "name": "stdout",
     "output_type": "stream",
     "text": [
      "1 -1.0 𝐞₁₂₃₄\n",
      "2 1.0 𝐞₁₂₃₄\n",
      "3 -1.0 𝐞₁₂₃₄\n",
      "4 1.0 𝐞₁₂₃₄\n"
     ]
    }
   ],
   "source": [
    "#8.7 orthogonal transformations (O) with determinant 1 (SO) correspond to even versors (Spin)\n",
    "for k in range(1,5):\n",
    "    U = gprod(random_r_vectors(k, alg)) # a versor, of either even or odd grades\n",
    "    f = lambda x: (-1) ** (k*alg.d) * U.sw(x)/normsq(U)\n",
    "    print(k, outermorphism(f, I, alg))"
   ]
  },
  {
   "cell_type": "code",
   "execution_count": 387,
   "metadata": {},
   "outputs": [
    {
     "data": {
      "text/plain": [
       "[(3, 1, 0, 0.6445),\n",
       " (1, 3, 0, 0.645),\n",
       " (4, 1, 0, 0.7845),\n",
       " (3, 0, 1, 1.0),\n",
       " (2, 2, 0, 0.498)]"
      ]
     },
     "execution_count": 387,
     "metadata": {},
     "output_type": "execute_result"
    }
   ],
   "source": [
    "#8.9 rotors (Spin+) are a part of even versors (Spin), correpond to a part of SO as rotations (SO+)\n",
    "def random_even_versor(alg):\n",
    "    d = alg.d\n",
    "    if (alg.d % 2):\n",
    "        d -= 1\n",
    "    return gprod(random_r_vectors(d, alg))\n",
    "\n",
    "\n",
    "def random_rotor(alg, max_iter=100):\n",
    "    for _ in range(max_iter):\n",
    "        S = random_even_versor(alg)\n",
    "        sign  = (S.reverse().sp(S))[0]\n",
    "        if sign > 0:\n",
    "            return S/norm(S)\n",
    "        \n",
    "\n",
    "def random_rotor_count(alg, max_iter=100):\n",
    "    count = 0\n",
    "    for _ in range(max_iter):\n",
    "        S = random_even_versor(alg)\n",
    "        sign  = (S.reverse().sp(S))[0]\n",
    "        if sign > 0:\n",
    "            count += 1\n",
    "    return count\n",
    "\n",
    "[(p, q, r, random_rotor_count(Algebra(p, q, r), 2000)/2000) for p, q, r in ((3,1,0),(1,3,0),(4,1,0),(3,0,1),(2,2,0))]"
   ]
  },
  {
   "cell_type": "markdown",
   "metadata": {},
   "source": [
    "versors (Pin) are products of {1, a, b, ab} and a rotor"
   ]
  },
  {
   "cell_type": "code",
   "execution_count": 388,
   "metadata": {},
   "outputs": [],
   "source": [
    "#8.12\n",
    "def random_simple_rotor(alg):\n",
    "    while True:\n",
    "        S = random_versor(2, alg)\n",
    "        sign  = (S.reverse().sp(S))[0]\n",
    "        if sign > 0:\n",
    "            return S/norm(S)"
   ]
  },
  {
   "cell_type": "code",
   "execution_count": 389,
   "metadata": {},
   "outputs": [
    {
     "data": {
      "text/plain": [
       "(-0.499 𝐞₁ + -1.41 𝐞₂ + -0.443 𝐞₃ + -1.2 𝐞₄,\n",
       " -0.499 𝐞₁ + -1.41 𝐞₂ + -0.443 𝐞₃ + -1.2 𝐞₄ + 2.73e-16 𝐞₁₂₃ + 1.73e-17 𝐞₁₂₄ + 3.99e-16 𝐞₁₃₄ + -3e-17 𝐞₂₃₄,\n",
       " 1.0,\n",
       " 1.0,\n",
       " -0.9 + -0.737 𝐞₁₂ + 0.0633 𝐞₁₃ + -0.318 𝐞₁₄ + 0.835 𝐞₂₃ + 0.873 𝐞₂₄ + -0.435 𝐞₃₄,\n",
       " -0.9 + -0.737 𝐞₁₂ + 0.0633 𝐞₁₃ + -0.318 𝐞₁₄ + 0.835 𝐞₂₃ + 0.873 𝐞₂₄ + -0.435 𝐞₃₄ + 4.44e-16 𝐞₁₂₃₄)"
      ]
     },
     "execution_count": 389,
     "metadata": {},
     "output_type": "execute_result"
    }
   ],
   "source": [
    "#8.13\n",
    "S = random_simple_rotor(alg)\n",
    "u = x | S.grade(2)\n",
    "u = u/norm(u)\n",
    "v = S.sw(u)\n",
    "v, S ** 2 * u, v ** 2, u ** 2, v * u, S ** 2"
   ]
  },
  {
   "cell_type": "code",
   "execution_count": 390,
   "metadata": {},
   "outputs": [
    {
     "data": {
      "text/plain": [
       "(1.0 + -2.84e-17 𝐞₁₃ + 1.07e-16 𝐞₁₄ + 3.04e-17 𝐞₂₃ + -1.39e-16 𝐞₂₄ + 5.73e-18 𝐞₃₄ + -1.68e-15 𝐞₁₂₃₄,\n",
       " 1.0 + -1.94e-16 𝐞₁₄ + 2.22e-16 𝐞₂₄ + 1.67e-16 𝐞₃₄ + -4.44e-16 𝐞₁₂₃₄)"
      ]
     },
     "execution_count": 390,
     "metadata": {},
     "output_type": "execute_result"
    }
   ],
   "source": [
    "S ** 2 * (S ** 2).reverse(), S * S.reverse()"
   ]
  },
  {
   "cell_type": "code",
   "execution_count": 391,
   "metadata": {},
   "outputs": [
    {
     "data": {
      "text/plain": [
       "(-0.9 + 0.737 𝐞₁₂ + -0.0633 𝐞₁₃ + 0.318 𝐞₁₄ + -0.835 𝐞₂₃ + -0.873 𝐞₂₄ + 0.435 𝐞₃₄ + 4.44e-16 𝐞₁₂₃₄,\n",
       " -0.9 + 0.737 𝐞₁₂ + -0.0633 𝐞₁₃ + 0.318 𝐞₁₄ + -0.835 𝐞₂₃ + -0.873 𝐞₂₄ + 0.435 𝐞₃₄,\n",
       " -0.9 + -0.737 𝐞₁₂ + 0.0633 𝐞₁₃ + -0.318 𝐞₁₄ + 0.835 𝐞₂₃ + 0.873 𝐞₂₄ + -0.435 𝐞₃₄)"
      ]
     },
     "execution_count": 391,
     "metadata": {},
     "output_type": "execute_result"
    }
   ],
   "source": [
    "#8.15\n",
    "(S ** 2).reverse(), u * v, v * u"
   ]
  },
  {
   "cell_type": "code",
   "execution_count": 392,
   "metadata": {},
   "outputs": [
    {
     "data": {
      "text/plain": [
       "-0.19 + 2.78e-17 𝐞₁₃ + 4.16e-17 𝐞₁₄ + 8.88e-16 𝐞₁₂₃₄"
      ]
     },
     "execution_count": 392,
     "metadata": {},
     "output_type": "execute_result"
    }
   ],
   "source": [
    "#8.16\n",
    "S2 = S ** 2\n",
    "blade = S2.grade(2)\n",
    "bladesq = (blade ** 2)\n",
    "bladesq"
   ]
  },
  {
   "cell_type": "code",
   "execution_count": 460,
   "metadata": {},
   "outputs": [
    {
     "data": {
      "text/plain": [
       "[0.201 + 0.516 𝐞₁₂ + 1.11 𝐞₁₃ + 0.617 𝐞₁₄ + -0.159 𝐞₂₃ + -0.254 𝐞₂₄ + -0.358 𝐞₃₄,\n",
       " None,\n",
       " 1.52 + 0.902 𝐞₁₂ + 1.07 𝐞₁₃ + 1.69 𝐞₁₄ + 0.857 𝐞₂₃ + 0.985 𝐞₂₄ + -0.435 𝐞₃₄]"
      ]
     },
     "execution_count": 460,
     "metadata": {},
     "output_type": "execute_result"
    }
   ],
   "source": [
    "# 3 types of rotors (Spin+)\n",
    "def type_convert(n):\n",
    "    if n > 1e-6:\n",
    "        return 1\n",
    "    elif n < -1e-6:\n",
    "        return -1\n",
    "    else:\n",
    "        return 0\n",
    "\n",
    "# Unfortunately parabolic rotors are of measure zero, \n",
    "# so this function has zero chance generating them\n",
    "def random_simple_rotor(alg, signature=None, max_iter=100):\n",
    "    for _ in range(max_iter):\n",
    "        S = random_versor(2, alg)\n",
    "        if signature is not None:\n",
    "            if type_convert((S.grade(2) ** 2)[0]) != signature:\n",
    "                continue\n",
    "        sign  = (S.reverse().sp(S))[0]\n",
    "        if sign > 0:\n",
    "            return S/norm(S)\n",
    "        \n",
    "[random_simple_rotor(alg, signature=i) for i in range(-1, 2)]"
   ]
  },
  {
   "cell_type": "code",
   "execution_count": 461,
   "metadata": {},
   "outputs": [],
   "source": [
    "def simple_rotor_log(R: MultiVector, tol=1e-6):\n",
    "    blade = R.grade(2)\n",
    "    signature = (blade ** 2)[0]\n",
    "    if signature > tol:\n",
    "        return np.arccosh(R[0]) / norm(blade) * blade\n",
    "    if signature < -tol:\n",
    "        return np.arccos(R[0]) / norm(blade) * blade\n",
    "    else:\n",
    "        return blade"
   ]
  },
  {
   "cell_type": "code",
   "execution_count": 462,
   "metadata": {},
   "outputs": [
    {
     "data": {
      "text/plain": [
       "(0.638 + 1.06 𝐞₁₂ + 1.05 𝐞₁₃ + -0.17 𝐞₁₄ + 0.0318 𝐞₂₃ + -0.9 𝐞₂₄ + -0.893 𝐞₃₄ + -5.55e-17 𝐞₁₂₃₄,\n",
       " 0.638 + 1.06 𝐞₁₂ + 1.05 𝐞₁₃ + -0.17 𝐞₁₄ + 0.0318 𝐞₂₃ + -0.9 𝐞₂₄ + -0.893 𝐞₃₄,\n",
       " 0.638 + 1.06 𝐞₁₂ + 1.05 𝐞₁₃ + -0.17 𝐞₁₄ + 0.0318 𝐞₂₃ + -0.9 𝐞₂₄ + -0.893 𝐞₃₄,\n",
       " 0.905 + 0.584 𝐞₁₂ + 0.583 𝐞₁₃ + -0.0942 𝐞₁₄ + 0.0175 𝐞₂₃ + -0.497 𝐞₂₄ + -0.493 𝐞₃₄,\n",
       " 0.905 + 0.584 𝐞₁₂ + 0.583 𝐞₁₃ + -0.0942 𝐞₁₄ + 0.0175 𝐞₂₃ + -0.497 𝐞₂₄ + -0.493 𝐞₃₄,\n",
       " 0.905 + 0.584 𝐞₁₂ + 0.583 𝐞₁₃ + -0.0942 𝐞₁₄ + 0.0175 𝐞₂₃ + -0.497 𝐞₂₄ + -0.493 𝐞₃₄ + -3.07e-17 𝐞₁₂₃₄,\n",
       " 0.905 + 0.584 𝐞₁₂ + 0.583 𝐞₁₃ + -0.0942 𝐞₁₄ + 0.0175 𝐞₂₃ + -0.497 𝐞₂₄ + -0.493 𝐞₃₄ + -5.08e-17 𝐞₁₂₃₄)"
      ]
     },
     "execution_count": 462,
     "metadata": {},
     "output_type": "execute_result"
    }
   ],
   "source": [
    "#8.17a elliptic rotor (rotation), run several times you can see sqrt allows a sign change\n",
    "S = random_simple_rotor(alg, signature=-1)\n",
    "S2 = S ** 2\n",
    "b = simple_rotor_log(S2)\n",
    "S2, blade_exp(b), blade_exp(b - 6*np.pi*b/norm(b)), S, blade_exp(b/2), simple_rotor_sqrt(S2), blade_exp(3.3*b).sw(S)"
   ]
  },
  {
   "cell_type": "code",
   "execution_count": 463,
   "metadata": {},
   "outputs": [
    {
     "data": {
      "text/plain": [
       "(1.44 + -0.544 𝐞₁₂ + 1.41 𝐞₁₃ + -1.2 𝐞₁₄ + 1.28 𝐞₂₃ + -0.379 𝐞₂₄ + -1.84 𝐞₃₄ + 6.38e-16 𝐞₁₂₃₄,\n",
       " 1.44 + -0.544 𝐞₁₂ + 1.41 𝐞₁₃ + -1.2 𝐞₁₄ + 1.28 𝐞₂₃ + -0.379 𝐞₂₄ + -1.84 𝐞₃₄,\n",
       " 1.1 + -0.247 𝐞₁₂ + 0.637 𝐞₁₃ + -0.544 𝐞₁₄ + 0.579 𝐞₂₃ + -0.171 𝐞₂₄ + -0.834 𝐞₃₄,\n",
       " 1.1 + -0.247 𝐞₁₂ + 0.637 𝐞₁₃ + -0.544 𝐞₁₄ + 0.579 𝐞₂₃ + -0.171 𝐞₂₄ + -0.834 𝐞₃₄,\n",
       " 1.1 + -0.247 𝐞₁₂ + 0.637 𝐞₁₃ + -0.544 𝐞₁₄ + 0.579 𝐞₂₃ + -0.171 𝐞₂₄ + -0.834 𝐞₃₄ + 2.89e-16 𝐞₁₂₃₄,\n",
       " 1.1 + -0.247 𝐞₁₂ + 0.637 𝐞₁₃ + -0.544 𝐞₁₄ + 0.579 𝐞₂₃ + -0.171 𝐞₂₄ + -0.834 𝐞₃₄ + -2.84e-13 𝐞₁₂₃₄)"
      ]
     },
     "execution_count": 463,
     "metadata": {},
     "output_type": "execute_result"
    }
   ],
   "source": [
    "#8.17b hyperbolic rotor (boost)\n",
    "S = random_simple_rotor(alg, signature=1)\n",
    "S2 = S ** 2\n",
    "b = simple_rotor_log(S2)\n",
    "S2, blade_exp(b), S, blade_exp(b/2), simple_rotor_sqrt(S2), blade_exp(3.3*b).sw(S)"
   ]
  },
  {
   "cell_type": "code",
   "execution_count": 464,
   "metadata": {},
   "outputs": [
    {
     "data": {
      "text/plain": [
       "(1 + -2 𝐞₂₃ + 2 𝐞₂₄,\n",
       " 1 + -2 𝐞₂₃ + 2 𝐞₂₄,\n",
       " 1 + -1 𝐞₂₃ + 1 𝐞₂₄,\n",
       " 1 + -1.0 𝐞₂₃ + 1.0 𝐞₂₄,\n",
       " 1.0 + -1.0 𝐞₂₃ + 1.0 𝐞₂₄,\n",
       " 1.0 + -1.0 𝐞₂₃ + 1.0 𝐞₂₄)"
      ]
     },
     "execution_count": 464,
     "metadata": {},
     "output_type": "execute_result"
    }
   ],
   "source": [
    "#8.17c 8.20 parabolic rotor (translation)\n",
    "S = (e2 + e3 - e4) * e2\n",
    "S2 = S ** 2\n",
    "b = simple_rotor_log(S2)\n",
    "S2, blade_exp(b), S, blade_exp(b/2), simple_rotor_sqrt(S2), blade_exp(3.3*b).sw(S)"
   ]
  },
  {
   "cell_type": "code",
   "execution_count": 416,
   "metadata": {},
   "outputs": [
    {
     "data": {
      "text/plain": [
       "(-0.5 𝐞₂₃ + 0.5 𝐞₂₄, 1.0 + -1.0 𝐞₂₃ + 1.0 𝐞₂₄, 1 + -1 𝐞₂₃ + 1 𝐞₂₄)"
      ]
     },
     "execution_count": 416,
     "metadata": {},
     "output_type": "execute_result"
    }
   ],
   "source": [
    "#8.21\n",
    "B = S.grade(2) / (1 + S.grade(0))\n",
    "B, (1+B)**2/(normsq(1+B)), S"
   ]
  },
  {
   "cell_type": "code",
   "execution_count": 401,
   "metadata": {},
   "outputs": [
    {
     "data": {
      "text/plain": [
       "(0.545 + -3.75 𝐞₁₂ + 0.1 𝐞₁₃ + 0.0983 𝐞₁₄ + 2.35 𝐞₂₃ + 4.34 𝐞₂₄ + -0.0145 𝐞₃₄ + -0.273 𝐞₁₂₃₄,\n",
       " -0.545 + 3.75 𝐞₁₂ + -0.1 𝐞₁₃ + -0.0983 𝐞₁₄ + -2.35 𝐞₂₃ + -4.34 𝐞₂₄ + 0.0145 𝐞₃₄ + 0.273 𝐞₁₂₃₄,\n",
       " -8.66 𝐞₁ + 1.58 𝐞₂ + -4.02 𝐞₃ + -9.72 𝐞₄ + -8.88e-16 𝐞₁₂₄ + -1.33e-15 𝐞₁₃₄ + -4.44e-16 𝐞₂₃₄,\n",
       " -8.66 𝐞₁ + 1.58 𝐞₂ + -4.02 𝐞₃ + -9.72 𝐞₄ + 8.88e-16 𝐞₁₂₄ + 1.33e-15 𝐞₁₃₄ + 4.44e-16 𝐞₂₃₄,\n",
       " 0.638 𝐞₁ + 0.624 𝐞₂ + 0.789 𝐞₃ + 0.746 𝐞₄ + -2.79 𝐞₁₂₃ + -0.17 𝐞₁₂₄ + -0.0222 𝐞₁₃₄ + -3.08 𝐞₂₃₄,\n",
       " 0.638 𝐞₁ + 0.624 𝐞₂ + 0.789 𝐞₃ + 0.746 𝐞₄ + -2.79 𝐞₁₂₃ + -0.17 𝐞₁₂₄ + -0.0222 𝐞₁₃₄ + -3.08 𝐞₂₃₄)"
      ]
     },
     "execution_count": 401,
     "metadata": {},
     "output_type": "execute_result"
    }
   ],
   "source": [
    "#8.25\n",
    "R, u = random_rotor(alg), random_r_blade(1, alg)\n",
    "v = R.sw(u)\n",
    "S = simple_rotor_sqrt(v * u / normsq(u))\n",
    "U = S.reverse() * R\n",
    "R, S * U, S * u, u * S.reverse(), U * u, u * U"
   ]
  },
  {
   "cell_type": "code",
   "execution_count": 465,
   "metadata": {},
   "outputs": [
    {
     "data": {
      "text/plain": [
       "(1.39 + 0.0255 𝐞₁₂ + -0.0102 𝐞₁₃ + -0.111 𝐞₂₃,\n",
       " 0.349 + 0.228 𝐞₁₂ + -0.51 𝐞₁₃ + 0.234 𝐞₁₄ + 0.878 𝐞₂₃ + -0.282 𝐞₂₄ + -0.0916 𝐞₃₄ + 1.03 𝐞₁₂₃₄)"
      ]
     },
     "execution_count": 465,
     "metadata": {},
     "output_type": "execute_result"
    }
   ],
   "source": [
    "#8.10 a spinor is an even versor for odd dimension (a Dirac representation);\n",
    "# a sum of an even versor and its dual for even dimension (two Weyl representations)\n",
    "def random_study_number(alg):\n",
    "    a, b = np.random.rand(2)\n",
    "    return (a + b*alg.pseudoscalar((1,)))\n",
    "\n",
    "def random_spinor(alg: Algebra):\n",
    "    if alg.d % 4:\n",
    "        return random_even_versor(alg)\n",
    "    return random_study_number(alg) * random_even_versor(alg)\n",
    "\n",
    "random_spinor(Algebra(3)), random_spinor(Algebra(4))\n"
   ]
  },
  {
   "cell_type": "code",
   "execution_count": 491,
   "metadata": {},
   "outputs": [
    {
     "data": {
      "text/plain": [
       "array([-98.05811122, -98.05811122, -98.05811122, -98.05811122])"
      ]
     },
     "execution_count": 491,
     "metadata": {},
     "output_type": "execute_result"
    }
   ],
   "source": [
    "# A pointor depends on a point\n",
    "def random_point(alg: Algebra):\n",
    "    return random_r_blade(alg.d - 1, alg)\n",
    "\n",
    "O = random_point(alg)\n",
    "\n",
    "# point reflection on the point itself is a pointor\n",
    "terms_ratio(O, O.sw(O))"
   ]
  },
  {
   "cell_type": "code",
   "execution_count": 528,
   "metadata": {},
   "outputs": [
    {
     "data": {
      "text/plain": [
       "(array([-49.74442464, -49.74442464, -49.74442464, -49.74442464]),\n",
       " array([12.71156251, 12.71156251, 12.71156251, 12.71156251]),\n",
       " array([17.1044585, 17.1044585, 17.1044585, 17.1044585]))"
      ]
     },
     "execution_count": 528,
     "metadata": {},
     "output_type": "execute_result"
    }
   ],
   "source": [
    "# versors not crossing O-subspace are pointers \n",
    "vectors = blade_split(O, alg)\n",
    "B1, B2 = wedge(vectors[:2]), wedge(vectors[1:])\n",
    "Od = O.dual()\n",
    "terms_ratio(O, Od.sw(O)), terms_ratio(B1.sw(O), O), terms_ratio(vectors[0].sw(O), O), "
   ]
  },
  {
   "cell_type": "code",
   "execution_count": 530,
   "metadata": {},
   "outputs": [
    {
     "data": {
      "text/plain": [
       "(array([-0.02010276, -0.02010276, -0.02010276, -0.02010276]),\n",
       " array([0.02068227, 0.02068227, 0.02068227, 0.02068227]))"
      ]
     },
     "execution_count": 530,
     "metadata": {},
     "output_type": "execute_result"
    }
   ],
   "source": [
    "# rotors with reflections are pointers\n",
    "R1 = blade_exp(3.3*B1)\n",
    "R2 = blade_exp(4.4*B2)\n",
    "terms_ratio((Od * R1 * R2).sw(O), O), terms_ratio((Od * vectors[2] * R1).sw(O), O)"
   ]
  },
  {
   "cell_type": "code",
   "execution_count": 500,
   "metadata": {},
   "outputs": [
    {
     "data": {
      "text/plain": [
       "array([0.13246279, 0.97240152, 0.97240152, 0.97240152])"
      ]
     },
     "execution_count": 500,
     "metadata": {},
     "output_type": "execute_result"
    }
   ],
   "source": [
    "# rotors cross O-subspace may not be pointers\n",
    "terms_ratio(blade_exp(Od ^ vectors[2]).sw(O), O)"
   ]
  },
  {
   "cell_type": "code",
   "execution_count": 531,
   "metadata": {},
   "outputs": [
    {
     "data": {
      "text/plain": [
       "0.744 + 1.21 𝐞₁ + 0.868 𝐞₂ + 1.0 𝐞₃ + 1.45 𝐞₄ + 0.0815 𝐞₁₂ + 0.711 𝐞₁₃ + 0.741 𝐞₁₄ + 0.135 𝐞₂₃ + 0.165 𝐞₂₄ + 0.212 𝐞₃₄ + -0.5 𝐞₁₂₃ + -0.436 𝐞₁₂₄ + 0.736 𝐞₁₃₄ + 0.289 𝐞₂₃₄"
      ]
     },
     "execution_count": 531,
     "metadata": {},
     "output_type": "execute_result"
    }
   ],
   "source": [
    "# A general pointor suggested by \"From Invariant Decomposition to Spinors\"?\n",
    "# How do we find the point specified by a pointor?\n",
    "def random_odd_versor(alg):\n",
    "    d = alg.d\n",
    "    if not (alg.d % 2):\n",
    "        d -= 1\n",
    "    return gprod(random_r_vectors(d, alg))\n",
    "\n",
    "\n",
    "# Actually I'm not sure these generate pointors\n",
    "# def random_pointor(alg: Algebra):\n",
    "#     return random_odd_versor(alg) * random_even_versor(alg)\n",
    "    \n",
    "# def random_pointor(alg: Algebra):\n",
    "#     v = random_r_blade(1, alg)\n",
    "#     return (np.random.rand() + v) * random_even_versor(alg)\n",
    "\n",
    "def random_pointor(alg: Algebra):\n",
    "    v = random_r_blade(1, alg)\n",
    "    return (np.random.rand() + v) * random_versor(2, alg)\n",
    "\n",
    "P = random_pointor(alg)\n",
    "P"
   ]
  },
  {
   "cell_type": "code",
   "execution_count": 532,
   "metadata": {},
   "outputs": [
    {
     "data": {
      "text/plain": [
       "array([1.01708123, 1.01708123, 1.01708123, 1.01708123])"
      ]
     },
     "execution_count": 532,
     "metadata": {},
     "output_type": "execute_result"
    }
   ],
   "source": [
    "# the point-grade\n",
    "O = P.grade(3)\n",
    "terms_ratio(P.sw(O), O)"
   ]
  }
 ],
 "metadata": {
  "kernelspec": {
   "display_name": "Python 3",
   "language": "python",
   "name": "python3"
  },
  "language_info": {
   "codemirror_mode": {
    "name": "ipython",
    "version": 3
   },
   "file_extension": ".py",
   "mimetype": "text/x-python",
   "name": "python",
   "nbconvert_exporter": "python",
   "pygments_lexer": "ipython3",
   "version": "3.10.5"
  }
 },
 "nbformat": 4,
 "nbformat_minor": 2
}
