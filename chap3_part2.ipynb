{
 "cells": [
  {
   "cell_type": "code",
   "execution_count": 136,
   "metadata": {},
   "outputs": [],
   "source": [
    "from gc_utils import *\n",
    "\n",
    "alg = Algebra(4)\n",
    "ga2 = Algebra(2)\n",
    "locals().update(alg.blades)"
   ]
  },
  {
   "cell_type": "code",
   "execution_count": 137,
   "metadata": {},
   "outputs": [
    {
     "data": {
      "text/plain": [
       "0.0843 𝐞₁ + 0.392 𝐞₂"
      ]
     },
     "execution_count": 137,
     "metadata": {},
     "output_type": "execute_result"
    }
   ],
   "source": [
    "# 2d general linear transform\n",
    "def random_linear_trans(alg: Algebra):\n",
    "    matrix = np.random.rand(alg.d, alg.d)\n",
    "    return matrix2trans(matrix, alg)\n",
    "\n",
    "def random_ortho_trans(alg: Algebra):\n",
    "    from scipy.stats import ortho_group\n",
    "    matrix = ortho_group.rvs(dim=alg.d)\n",
    "    return matrix2trans(matrix, alg)\n",
    "\n",
    "f = random_linear_trans(ga2)\n",
    "x = random_r_blade(1, ga2)\n",
    "f(x)"
   ]
  },
  {
   "cell_type": "code",
   "execution_count": 138,
   "metadata": {},
   "outputs": [
    {
     "data": {
      "text/plain": [
       "(0.0843 𝐞₁ + 0.392 𝐞₂, 0.0843 𝐞₁ + 0.392 𝐞₂)"
      ]
     },
     "execution_count": 138,
     "metadata": {},
     "output_type": "execute_result"
    }
   ],
   "source": [
    "# 2d polar decomposition\n",
    "# f = SUU\n",
    "df = derivative(f, x, ga2, grade=1)\n",
    "UU = df / norm(df)\n",
    "S = lambda x: UU * f(x)\n",
    "S(x)*UU, f(x)"
   ]
  },
  {
   "cell_type": "code",
   "execution_count": 139,
   "metadata": {},
   "outputs": [
    {
     "data": {
      "text/plain": [
       "(0.999 + 0.0357 𝐞₁₂, 2.78e-11 𝐞₁₂)"
      ]
     },
     "execution_count": 139,
     "metadata": {},
     "output_type": "execute_result"
    }
   ],
   "source": [
    "# UU is rotor, S is symmetric\n",
    "UU, curl(S, x, ga2, grade=1)"
   ]
  },
  {
   "cell_type": "code",
   "execution_count": 140,
   "metadata": {},
   "outputs": [
    {
     "data": {
      "text/plain": [
       "(2.87 + -0.115 𝐞₁₂ + 0.527 𝐞₁₃ + 0.339 𝐞₁₄ + 0.597 𝐞₂₃ + 0.346 𝐞₂₄ + 0.181 𝐞₃₄ + 1.8e-16 𝐞₁₂₃₄,\n",
       " 2.87 + -0.115 𝐞₁₂ + 0.527 𝐞₁₃ + 0.339 𝐞₁₄ + 0.597 𝐞₂₃ + 0.346 𝐞₂₄ + 0.181 𝐞₃₄)"
      ]
     },
     "execution_count": 140,
     "metadata": {},
     "output_type": "execute_result"
    }
   ],
   "source": [
    "#6.3 remove the condition of 2 dimension\n",
    "a, b, x = random_r_vectors(3, alg)\n",
    "g = lambda x: x + (x|a)*b\n",
    "abframe = [a,b]\n",
    "r_frame = reciprocal(abframe)\n",
    "dg = 2 + a*b\n",
    "derivative(g, x, alg, grade=1, frame=abframe, r_frame=r_frame), dg"
   ]
  },
  {
   "cell_type": "code",
   "execution_count": 141,
   "metadata": {},
   "outputs": [
    {
     "data": {
      "text/plain": [
       "(-1.11e-10 𝐞₁₂ + 1.11e-10 𝐞₁₃ + -1.11e-10 𝐞₁₄ + -4.44e-10 𝐞₂₃ + -3.33e-10 𝐞₂₄ + -1.11e-10 𝐞₃₄,\n",
       " 1.02 𝐞₁ + 0.76 𝐞₂ + 2.27 𝐞₃ + 1.75 𝐞₄,\n",
       " 1.02 𝐞₁ + 0.76 𝐞₂ + 2.27 𝐞₃ + 1.75 𝐞₄)"
      ]
     },
     "execution_count": 141,
     "metadata": {},
     "output_type": "execute_result"
    }
   ],
   "source": [
    "#6.3\n",
    "dg_norm = norm(dg)\n",
    "UU = dg / dg_norm\n",
    "U = simple_rotor_sqrt(UU)\n",
    "S = lambda x: U.sw(g(x))\n",
    "curl(S, x, alg, grade=1), U.reverse().sw(S(x)), g(x)"
   ]
  },
  {
   "cell_type": "code",
   "execution_count": 142,
   "metadata": {},
   "outputs": [
    {
     "data": {
      "text/plain": [
       "[-1.0 𝐞₁, 1.0 𝐞₄, -1.0 𝐞₃, 1.0 𝐞₂]"
      ]
     },
     "execution_count": 142,
     "metadata": {},
     "output_type": "execute_result"
    }
   ],
   "source": [
    "#6.6\n",
    "frame = alg.frame\n",
    "i, j = 1, 3\n",
    "aij = (1/np.sqrt(2))*(frame[i] + frame[j])\n",
    "[aij.sw(x) for x in frame]"
   ]
  },
  {
   "cell_type": "code",
   "execution_count": 143,
   "metadata": {},
   "outputs": [
    {
     "data": {
      "text/plain": [
       "[1 𝐞₁, 1 𝐞₂ + 3 𝐞₄, 1 𝐞₃, 1 𝐞₄]"
      ]
     },
     "execution_count": 143,
     "metadata": {},
     "output_type": "execute_result"
    }
   ],
   "source": [
    "#6.7\n",
    "alpha = 3\n",
    "Sij = lambda x: x + (alpha * (x|frame[i]) * frame[j])\n",
    "[Sij(x) for x in frame]"
   ]
  },
  {
   "cell_type": "code",
   "execution_count": 144,
   "metadata": {},
   "outputs": [
    {
     "data": {
      "text/plain": [
       "(0.512 𝐞₁ + 0.978 𝐞₂ + 0.0723 𝐞₃ + 1.06 𝐞₄,\n",
       " 0.512 𝐞₁ + 0.978 𝐞₂ + 0.0723 𝐞₃ + 1.06 𝐞₄)"
      ]
     },
     "execution_count": 144,
     "metadata": {},
     "output_type": "execute_result"
    }
   ],
   "source": [
    "#7.2\n",
    "g = random_linear_trans(alg)\n",
    "g_ = lambda x, y: x | g(y)\n",
    "derivative(lambda x: g_(x, b), x, alg, grade=1), g(b)"
   ]
  },
  {
   "cell_type": "code",
   "execution_count": 145,
   "metadata": {},
   "outputs": [
    {
     "data": {
      "text/plain": [
       "0.0242 𝐞₁₂₃₄"
      ]
     },
     "execution_count": 145,
     "metadata": {},
     "output_type": "execute_result"
    }
   ],
   "source": [
    "# check nonsingular\n",
    "outermorphism(g, alg.pseudoscalar((1,)), alg)"
   ]
  },
  {
   "cell_type": "code",
   "execution_count": 146,
   "metadata": {},
   "outputs": [
    {
     "data": {
      "text/plain": [
       "(0.0582, 0.0582)"
      ]
     },
     "execution_count": 146,
     "metadata": {},
     "output_type": "execute_result"
    }
   ],
   "source": [
    "#7.5 orthogonal transformation is its isometry\n",
    "f = random_ortho_trans(alg)\n",
    "x | f(b), f(x) | f(f(b))"
   ]
  },
  {
   "cell_type": "code",
   "execution_count": 147,
   "metadata": {},
   "outputs": [
    {
     "data": {
      "text/plain": [
       "(0.36, 0.36)"
      ]
     },
     "execution_count": 147,
     "metadata": {},
     "output_type": "execute_result"
    }
   ],
   "source": [
    "# skew bilinear form\n",
    "gm = skew_part(g, alg)\n",
    "G = simplicial_derivative(lambda vectors: vectors[0] | gm(vectors[1]), np.zeros(2), alg)\n",
    "x | gm(b), x | (b | G)"
   ]
  },
  {
   "cell_type": "code",
   "execution_count": 148,
   "metadata": {},
   "outputs": [
    {
     "data": {
      "text/plain": [
       "(-0.213 𝐞₁₂ + -0.00947 𝐞₁₃ + -0.212 𝐞₁₄ + -0.237 𝐞₂₃ + 0.308 𝐞₂₄ + 0.0974 𝐞₃₄,\n",
       " -0.0977 𝐞₁₂ + 0.0408 𝐞₁₃ + 0.0174 𝐞₁₄ + -0.311 𝐞₂₃ + -0.159 𝐞₂₄ + 0.343 𝐞₃₄)"
      ]
     },
     "execution_count": 148,
     "metadata": {},
     "output_type": "execute_result"
    }
   ],
   "source": [
    "#7.6b f is not an isometry of gm\n",
    "adjoint_outermorphism(f, G, alg), G"
   ]
  },
  {
   "cell_type": "code",
   "execution_count": 149,
   "metadata": {},
   "outputs": [
    {
     "data": {
      "text/plain": [
       "(0.711 𝐞₁ + 0.748 𝐞₂ + 0.734 𝐞₃ + 0.864 𝐞₄,\n",
       " 0.711 𝐞₁ + 0.748 𝐞₂ + 0.734 𝐞₃ + 0.864 𝐞₄)"
      ]
     },
     "execution_count": 149,
     "metadata": {},
     "output_type": "execute_result"
    }
   ],
   "source": [
    "#7.8 the inverse of gm\n",
    "blades = bivector_split(G, alg)\n",
    "gm(sum(-x | blade/normsq(blade) for blade in blades)), x"
   ]
  },
  {
   "cell_type": "code",
   "execution_count": 150,
   "metadata": {},
   "outputs": [
    {
     "data": {
      "text/plain": [
       "5.55e-16 + -8.67e-18 𝐞₁₂ + 4.68e-17 𝐞₁₃ + -1.73e-18 𝐞₁₄ + -6.94e-18 𝐞₂₃ + -1.39e-17 𝐞₃₄ + -1.0 𝐞₁₂₃₄"
      ]
     },
     "execution_count": 150,
     "metadata": {},
     "output_type": "execute_result"
    }
   ],
   "source": [
    "#7.12 assume splitted blades are normal\n",
    "blades_norm = [norm(b) for b in blades]\n",
    "blades = [b / n for b, n in zip(blades, blades_norm)]\n",
    "gprod(blades)"
   ]
  },
  {
   "cell_type": "code",
   "execution_count": 151,
   "metadata": {},
   "outputs": [
    {
     "data": {
      "text/plain": [
       "[(-0.676 𝐞₁₂ + -0.337 𝐞₁₃ + 0.632 𝐞₁₄ + 0.048 𝐞₂₃ + 0.127 𝐞₂₄ + 0.108 𝐞₃₄,\n",
       "  -0.676 𝐞₁₂ + -0.337 𝐞₁₃ + 0.048 𝐞₂₃ + 0.632 𝐞₁₄ + 0.127 𝐞₂₄ + 0.108 𝐞₃₄),\n",
       " (-0.108 𝐞₁₂ + 0.127 𝐞₁₃ + -0.048 𝐞₁₄ + -0.632 𝐞₂₃ + -0.337 𝐞₂₄ + 0.676 𝐞₃₄,\n",
       "  -0.108 𝐞₁₂ + 0.127 𝐞₁₃ + -0.632 𝐞₂₃ + -0.048 𝐞₁₄ + -0.337 𝐞₂₄ + 0.676 𝐞₃₄),\n",
       " (-0.676 𝐞₁₂ + -0.337 𝐞₁₃ + 0.632 𝐞₁₄ + 0.048 𝐞₂₃ + 0.127 𝐞₂₄ + 0.108 𝐞₃₄,\n",
       "  -0.676 𝐞₁₂ + -0.337 𝐞₁₃ + 0.048 𝐞₂₃ + 0.632 𝐞₁₄ + 0.127 𝐞₂₄ + 0.108 𝐞₃₄),\n",
       " (-0.108 𝐞₁₂ + 0.127 𝐞₁₃ + -0.048 𝐞₁₄ + -0.632 𝐞₂₃ + -0.337 𝐞₂₄ + 0.676 𝐞₃₄,\n",
       "  -0.108 𝐞₁₂ + 0.127 𝐞₁₃ + -0.632 𝐞₂₃ + -0.048 𝐞₁₄ + -0.337 𝐞₂₄ + 0.676 𝐞₃₄)]"
      ]
     },
     "execution_count": 151,
     "metadata": {},
     "output_type": "execute_result"
    }
   ],
   "source": [
    "#7.17\n",
    "theta = np.random.rand(2)\n",
    "rotors = [blade_exp(t*blade) for t, blade in zip(theta, blades)]\n",
    "[(U.sw(G), G) for U in rotors for G in blades]"
   ]
  },
  {
   "cell_type": "code",
   "execution_count": 152,
   "metadata": {},
   "outputs": [
    {
     "data": {
      "text/plain": [
       "array([1., 1., 1., 1., 1., 1.])"
      ]
     },
     "execution_count": 152,
     "metadata": {},
     "output_type": "execute_result"
    }
   ],
   "source": [
    "#7.18\n",
    "first_vecs = [blade_split(blade, alg)[0] for blade in blades]\n",
    "first_vecs = [v/norm(v) for v in first_vecs]\n",
    "second_vecs = [v | blade for v, blade in zip(first_vecs, blades)]\n",
    "inter_plane_rotors = [simple_rotor_sqrt(a * b) for a, b in (first_vecs, second_vecs)]\n",
    "U = gprod(inter_plane_rotors)\n",
    "terms_ratio(U.sw(blades[0]), blades[1])"
   ]
  },
  {
   "cell_type": "code",
   "execution_count": 153,
   "metadata": {},
   "outputs": [
    {
     "data": {
      "text/plain": [
       "(-0.784 𝐞₁₂ + -0.21 𝐞₁₃ + 0.584 𝐞₁₄ + -0.584 𝐞₂₃ + -0.21 𝐞₂₄ + 0.784 𝐞₃₄,\n",
       " -0.784 𝐞₁₂ + -0.21 𝐞₁₃ + 0.584 𝐞₁₄ + -0.584 𝐞₂₃ + -0.21 𝐞₂₄ + 0.784 𝐞₃₄)"
      ]
     },
     "execution_count": 153,
     "metadata": {},
     "output_type": "execute_result"
    }
   ],
   "source": [
    "G_normalized = sum(blades)\n",
    "G_normalized, U.sw(G_normalized)"
   ]
  },
  {
   "cell_type": "code",
   "execution_count": 154,
   "metadata": {},
   "outputs": [
    {
     "data": {
      "text/plain": [
       "(-0.0977 𝐞₁₂ + 0.0408 𝐞₁₃ + 0.0174 𝐞₁₄ + -0.311 𝐞₂₃ + -0.159 𝐞₂₄ + 0.343 𝐞₃₄,\n",
       " -0.0977 𝐞₁₂ + 0.0408 𝐞₁₃ + 0.0174 𝐞₁₄ + -0.311 𝐞₂₃ + -0.159 𝐞₂₄ + 0.343 𝐞₃₄)"
      ]
     },
     "execution_count": 154,
     "metadata": {},
     "output_type": "execute_result"
    }
   ],
   "source": [
    "# we can recover this \"normalization\"\n",
    "sum(P(G_normalized, b) * n for b, n in zip(blades, blades_norm)), G"
   ]
  },
  {
   "cell_type": "code",
   "execution_count": 155,
   "metadata": {},
   "outputs": [
    {
     "data": {
      "text/plain": [
       "[(2.78e-17, ('f', 'f')),\n",
       " (7.29e-17, ('f', 'fp')),\n",
       " (-1.0, ('f', 's')),\n",
       " (, ('f', 'sp')),\n",
       " (-5.55e-17, ('fp', 'f')),\n",
       " (-3.45e-17, ('fp', 'fp')),\n",
       " (-5.55e-17, ('fp', 's')),\n",
       " (-1.0, ('fp', 'sp')),\n",
       " (1.0, ('s', 'f')),\n",
       " (5.04e-17, ('s', 'fp')),\n",
       " (-1.39e-17, ('s', 's')),\n",
       " (2.78e-17, ('s', 'sp')),\n",
       " (1.85e-18, ('sp', 'f')),\n",
       " (1.0, ('sp', 'fp')),\n",
       " (-1.74e-17, ('sp', 's')),\n",
       " (3.45e-17, ('sp', 'sp'))]"
      ]
     },
     "execution_count": 155,
     "metadata": {},
     "output_type": "execute_result"
    }
   ],
   "source": [
    "#7.21 zero if not onto the decomposed blades \n",
    "sympletic_basis = first_vecs + second_vecs\n",
    "list(zip((v | (w | G_normalized) for v, w in product(sympletic_basis, repeat=2)), (product(['f', 'fp', 's', 'sp'], repeat=2))))"
   ]
  },
  {
   "cell_type": "code",
   "execution_count": 156,
   "metadata": {},
   "outputs": [
    {
     "data": {
      "text/plain": [
       "([0.981 𝐞₁ + 0.0696 𝐞₃ + 0.183 𝐞₄,\n",
       "  -0.0635 𝐞₁ + -0.445 𝐞₂ + 0.893 𝐞₃ + -1.12e-16 𝐞₄,\n",
       "  -0.0925 𝐞₁ + -0.69 𝐞₂ + -0.35 𝐞₃ + 0.627 𝐞₄,\n",
       "  -0.161 𝐞₁ + 0.571 𝐞₂ + 0.273 𝐞₃ + 0.757 𝐞₄],\n",
       " [0.0925 𝐞₁ + 0.69 𝐞₂ + 0.35 𝐞₃ + -0.627 𝐞₄,\n",
       "  0.161 𝐞₁ + -0.571 𝐞₂ + -0.273 𝐞₃ + -0.757 𝐞₄,\n",
       "  0.981 𝐞₁ + 1.39e-17 𝐞₂ + 0.0696 𝐞₃ + 0.183 𝐞₄,\n",
       "  -0.0635 𝐞₁ + -0.445 𝐞₂ + 0.893 𝐞₃ + -2.78e-17 𝐞₄])"
      ]
     },
     "execution_count": 156,
     "metadata": {},
     "output_type": "execute_result"
    }
   ],
   "source": [
    "# Recover the normalization\n",
    "[gm(v)/n for v, n in zip(sympletic_basis, blades_norm*2)], sympletic_basis"
   ]
  },
  {
   "cell_type": "code",
   "execution_count": 157,
   "metadata": {},
   "outputs": [
    {
     "data": {
      "text/plain": [
       "(-0.784 𝐞₁₂ + -0.21 𝐞₁₃ + 0.584 𝐞₁₄ + -0.584 𝐞₂₃ + -0.21 𝐞₂₄ + 0.784 𝐞₃₄,\n",
       " -0.784 𝐞₁₂ + -0.21 𝐞₁₃ + 0.584 𝐞₁₄ + -0.584 𝐞₂₃ + -0.21 𝐞₂₄ + 0.784 𝐞₃₄,\n",
       " -0.0977 𝐞₁₂ + 0.0408 𝐞₁₃ + 0.0174 𝐞₁₄ + -0.311 𝐞₂₃ + -0.159 𝐞₂₄ + 0.343 𝐞₃₄,\n",
       " -0.0977 𝐞₁₂ + 0.0408 𝐞₁₃ + 0.0174 𝐞₁₄ + -0.311 𝐞₂₃ + -0.159 𝐞₂₄ + 0.343 𝐞₃₄)"
      ]
     },
     "execution_count": 157,
     "metadata": {},
     "output_type": "execute_result"
    }
   ],
   "source": [
    "#7.26a symplectic transformations of gm (isometries of skew bilinear form)\n",
    "# conditions: unity and sympletic basis\n",
    "translation = lambda x: (\n",
    "    x + \n",
    "    2*(x|second_vecs[1]) * first_vecs[1] + \n",
    "    3*(x|second_vecs[0]) * first_vecs[0]\n",
    "    )\n",
    "\n",
    "outermorphism(translation, G_normalized, alg), G_normalized, outermorphism(translation, G, alg), G"
   ]
  },
  {
   "cell_type": "code",
   "execution_count": 158,
   "metadata": {},
   "outputs": [
    {
     "data": {
      "text/plain": [
       "(-0.784 𝐞₁₂ + -0.21 𝐞₁₃ + 0.584 𝐞₁₄ + -0.584 𝐞₂₃ + -0.21 𝐞₂₄ + 0.784 𝐞₃₄,\n",
       " -0.784 𝐞₁₂ + -0.21 𝐞₁₃ + 0.584 𝐞₁₄ + -0.584 𝐞₂₃ + -0.21 𝐞₂₄ + 0.784 𝐞₃₄,\n",
       " -0.0977 𝐞₁₂ + 0.0408 𝐞₁₃ + 0.0174 𝐞₁₄ + -0.311 𝐞₂₃ + -0.159 𝐞₂₄ + 0.343 𝐞₃₄,\n",
       " -0.0977 𝐞₁₂ + 0.0408 𝐞₁₃ + 0.0174 𝐞₁₄ + -0.311 𝐞₂₃ + -0.159 𝐞₂₄ + 0.343 𝐞₃₄)"
      ]
     },
     "execution_count": 158,
     "metadata": {},
     "output_type": "execute_result"
    }
   ],
   "source": [
    "#7.26b\n",
    "rotation = lambda x: (\n",
    "    x + \n",
    "    4*((x|first_vecs[1]) * second_vecs[1] + (x|second_vecs[0]) * first_vecs[0])\n",
    "    )\n",
    "\n",
    "outermorphism(rotation, G_normalized, alg), G_normalized, outermorphism(rotation, G, alg), G"
   ]
  },
  {
   "cell_type": "code",
   "execution_count": 159,
   "metadata": {},
   "outputs": [
    {
     "data": {
      "text/plain": [
       "(-0.0977 𝐞₁₂ + 0.0408 𝐞₁₃ + 0.0174 𝐞₁₄ + -0.311 𝐞₂₃ + -0.159 𝐞₂₄ + 0.343 𝐞₃₄,\n",
       " -0.0977 𝐞₁₂ + 0.0408 𝐞₁₃ + 0.0174 𝐞₁₄ + -0.311 𝐞₂₃ + -0.159 𝐞₂₄ + 0.343 𝐞₃₄)"
      ]
     },
     "execution_count": 159,
     "metadata": {},
     "output_type": "execute_result"
    }
   ],
   "source": [
    "#7.26c\n",
    "outermorphism(lambda x: rotation(translation(x)), G, alg), G"
   ]
  },
  {
   "cell_type": "code",
   "execution_count": 160,
   "metadata": {},
   "outputs": [
    {
     "data": {
      "text/plain": [
       "(1.71, 1.71, 1.71)"
      ]
     },
     "execution_count": 160,
     "metadata": {},
     "output_type": "execute_result"
    }
   ],
   "source": [
    "#7.28\n",
    "gp = sym_part(g, alg)\n",
    "matrix = trans2matrix(gp, alg)\n",
    "eigvalues, eigvecs = np.linalg.eigh(matrix)\n",
    "eigvecs = [alg.vector(v) for v in eigvecs.transpose()]\n",
    "neg_vecs, pos_vecs, null_vecs = [], [], []\n",
    "for e, v in zip(eigvalues, eigvecs):\n",
    "    if e < -1e-6:\n",
    "        neg_vecs.append(v)\n",
    "    elif e > 1e-6:\n",
    "        pos_vecs.append(v)\n",
    "    else:\n",
    "        null_vecs.append(v)\n",
    "\n",
    "neg_blade = wedge(neg_vecs)\n",
    "nv_sign = (-1) ** len(neg_vecs) \n",
    "c = lambda x: nv_sign*neg_blade.sw(x)\n",
    "h = lambda x: sum(np.sqrt(abs(e)) * P(x, v) for e, v in zip(eigvalues, eigvecs))\n",
    "\n",
    "x | gp(b), h(x)|c(h(b)), c(x)|h(h(b))"
   ]
  },
  {
   "cell_type": "code",
   "execution_count": 161,
   "metadata": {},
   "outputs": [
    {
     "data": {
      "text/plain": [
       "(1.75,\n",
       " 1.75,\n",
       " 0.711 𝐞₁ + 0.748 𝐞₂ + 0.734 𝐞₃ + 0.864 𝐞₄,\n",
       " 0.712 𝐞₁ + -2.25 𝐞₂ + 2.66 𝐞₃ + 1.79 𝐞₄)"
      ]
     },
     "execution_count": 161,
     "metadata": {},
     "output_type": "execute_result"
    }
   ],
   "source": [
    "#7.28 If the symmetric transformation is positive definite (Euclidean metric)\n",
    "gpp = lambda x: sum(abs(e) * P(x, v) for e, v in zip(eigvalues, eigvecs))\n",
    "hinv = lambda x: sum(1/np.sqrt(abs(e)) * P(x, v) for e, v in zip(eigvalues, eigvecs))\n",
    "r = 2 # a arbitrary integer <= n\n",
    "Q = random_r_blade(r, alg)\n",
    "Q = Q / norm(Q)\n",
    "f = lambda x: -hinv(Q.sw(h(x)))\n",
    "x | gpp(b), f(x) | gpp(f(b)), x, f(x)"
   ]
  },
  {
   "cell_type": "code",
   "execution_count": 162,
   "metadata": {},
   "outputs": [
    {
     "data": {
      "text/plain": [
       "(0.712, 0.712)"
      ]
     },
     "execution_count": 162,
     "metadata": {},
     "output_type": "execute_result"
    }
   ],
   "source": [
    "#7.33 isometry of c\n",
    "def ortho_split(x, A):\n",
    "    xp = P(x, A)\n",
    "    return xp, x-xp\n",
    "\n",
    "xp, xo = ortho_split(x, neg_blade)\n",
    "bp, bo = ortho_split(b, neg_blade)\n",
    "x | c(b), (xo | bo) - (xp | bp)\n"
   ]
  },
  {
   "cell_type": "code",
   "execution_count": 163,
   "metadata": {},
   "outputs": [
    {
     "data": {
      "text/plain": [
       "(0.289 𝐞₁₂ + -0.671 𝐞₁₃ + 0.0576 𝐞₁₄ + -0.0215 𝐞₂₃ + 0.271 𝐞₂₄ + -0.624 𝐞₃₄,\n",
       " 0.289 𝐞₁₂ + -0.671 𝐞₁₃ + 0.0576 𝐞₁₄ + -0.0215 𝐞₂₃ + 0.271 𝐞₂₄ + -0.624 𝐞₃₄)"
      ]
     },
     "execution_count": 163,
     "metadata": {},
     "output_type": "execute_result"
    }
   ],
   "source": [
    "# Let R be a rotor (see next section) preserves the reflected subspace\n",
    "R = 1\n",
    "if len(neg_vecs) >= 2:\n",
    "    R *= blade_exp(3.3 * wedge(neg_vecs[:2]))\n",
    "if len(pos_vecs) >= 2:\n",
    "    R *= blade_exp(5.5 * wedge(pos_vecs[:2]))\n",
    "R.sw(neg_blade), neg_blade"
   ]
  },
  {
   "cell_type": "code",
   "execution_count": 164,
   "metadata": {},
   "outputs": [
    {
     "data": {
      "text/plain": [
       "(1.71,\n",
       " 1.71,\n",
       " 0.711 𝐞₁ + 0.748 𝐞₂ + 0.734 𝐞₃ + 0.864 𝐞₄,\n",
       " -1.37 𝐞₁ + 2.71 𝐞₂ + 0.596 𝐞₃ + -1.57 𝐞₄)"
      ]
     },
     "execution_count": 164,
     "metadata": {},
     "output_type": "execute_result"
    }
   ],
   "source": [
    "# an isometry of a pseudoEuclidean metric\n",
    "f = lambda x: -hinv(R.sw(h(x)))\n",
    "x | gp(b), f(x) | gp(f(b)), x, f(x)"
   ]
  },
  {
   "cell_type": "markdown",
   "metadata": {},
   "source": [
    "So a rotation preserves the reflected subspace is an isometry, any other isometry? The next section encode the metric into the algebra. So an orthogonal transform becomes an isometry of the vector space."
   ]
  },
  {
   "cell_type": "code",
   "execution_count": 165,
   "metadata": {},
   "outputs": [
    {
     "data": {
      "text/plain": [
       "[-1.0, -1.0, 1.0, 1.0]"
      ]
     },
     "execution_count": 165,
     "metadata": {},
     "output_type": "execute_result"
    }
   ],
   "source": [
    "# signature\n",
    "[v | c(v) for v in eigvecs]"
   ]
  },
  {
   "cell_type": "code",
   "execution_count": 166,
   "metadata": {},
   "outputs": [
    {
     "data": {
      "text/plain": [
       "(2, 2, 0)"
      ]
     },
     "execution_count": 166,
     "metadata": {},
     "output_type": "execute_result"
    }
   ],
   "source": [
    "p, q, r = 0,0,0\n",
    "for e in eigvalues:\n",
    "    if e > 1e-6:\n",
    "        p += 1\n",
    "    elif e < -1e-6:\n",
    "        q += 1\n",
    "    else:\n",
    "        r += 1\n",
    "p, q, r"
   ]
  },
  {
   "cell_type": "code",
   "execution_count": 167,
   "metadata": {},
   "outputs": [
    {
     "data": {
      "text/plain": [
       "(0.214, 0.214)"
      ]
     },
     "execution_count": 167,
     "metadata": {},
     "output_type": "execute_result"
    }
   ],
   "source": [
    "#8.2 Say the reflected subspace is 1d\n",
    "alg = Algebra(3, 1)\n",
    "locals().update(alg.blades)\n",
    "x, y, u = random_r_vectors(3, alg)\n",
    "u = u / norm(u)\n",
    "R = lambda x: - u.sw(x)\n",
    "R(x) | R(y), x | y"
   ]
  },
  {
   "cell_type": "markdown",
   "metadata": {},
   "source": [
    "Cartan-Dieudonne theorem: An isometry is a composition of at most d reflections. Identifying invariants of isometries as elements of geometry leads to modern developments."
   ]
  },
  {
   "cell_type": "code",
   "execution_count": 168,
   "metadata": {},
   "outputs": [
    {
     "data": {
      "text/plain": [
       "(0.214 + 5.43e-17 𝐞₁₂ + -4.55e-17 𝐞₁₃ + 5.24e-18 𝐞₁₄ + -3.58e-17 𝐞₂₃ + 2.73e-17 𝐞₂₄ + -3.12e-17 𝐞₃₄,\n",
       " 0.214,\n",
       " 0.214)"
      ]
     },
     "execution_count": 168,
     "metadata": {},
     "output_type": "execute_result"
    }
   ],
   "source": [
    "#8.3 Cartan-Dieudonne theorem: An isometry is a composition of at most d reflections.\n",
    "\n",
    "k = 3 # k <= d\n",
    "vectors = random_r_vectors(k, alg)\n",
    "p = sum((v**2)[0] > 0 for v in vectors)\n",
    "U = gprod(vectors) # a versor, of either even or odd grades\n",
    "f = lambda x: (-1) ** k * U * x / U\n",
    "f_ = lambda x: (-1) ** p * U.sw(x) / normsq(U) #8.8b\n",
    "f(x) | f(y), x | y, f_(x) | f_(y)"
   ]
  },
  {
   "cell_type": "code",
   "execution_count": 169,
   "metadata": {},
   "outputs": [
    {
     "name": "stdout",
     "output_type": "stream",
     "text": [
      "2 1.0 + -2.84e-14 𝐞₁₃ + -2.84e-14 𝐞₁₄ + -7.11e-15 𝐞₂₃ + -6.39e-14 𝐞₃₄ + 8.53e-14 𝐞₁₂₃₄\n",
      "0 1.0 + 1.25e-16 𝐞₁₄ + 4.16e-17 𝐞₂₃ + 2.22e-16 𝐞₂₄ + -3.33e-16 𝐞₁₂₃₄\n",
      "1 -1.0 + -2.22e-16 𝐞₁₂₃₄\n",
      "0 1.0 + -1.67e-15 𝐞₁₃ + -1.14e-15 𝐞₁₄ + -3.39e-15 𝐞₃₄ + 2.66e-15 𝐞₁₂₃₄\n",
      "0 1.0 + 3.99e-17 𝐞₂₄ + -3.47e-18 𝐞₁₂₃₄\n",
      "0 1.0 + 1.47e-17 𝐞₁₃ + 3.56e-17 𝐞₁₄ + -1.39e-17 𝐞₂₃ + -9.71e-17 𝐞₂₄ + 4.16e-17 𝐞₃₄ + -1.04e-17 𝐞₁₂₃₄\n",
      "0 1.0 + 2.78e-17 𝐞₁₃ + 6.94e-17 𝐞₁₄ + -5.55e-17 𝐞₂₃ + 5.55e-17 𝐞₂₄ + 9.71e-17 𝐞₃₄ + -3.33e-16 𝐞₁₂₃₄\n",
      "1 -1.0 + 2.78e-17 𝐞₁₃ + 6.94e-17 𝐞₂₄ + 1.39e-17 𝐞₃₄ + 4.16e-17 𝐞₁₂₃₄\n",
      "0 1.0 + 2.78e-17 𝐞₁₂ + 6.94e-18 𝐞₁₃ + -5.55e-17 𝐞₂₄ + -2.78e-17 𝐞₃₄ + -1.73e-18 𝐞₁₂₃₄\n",
      "0 1.0 + 1.04e-17 𝐞₁₂ + 2.26e-17 𝐞₁₃ + -3.47e-18 𝐞₁₄ + -4.08e-17 𝐞₂₃ + 1.39e-17 𝐞₂₄ + 4.86e-17 𝐞₁₂₃₄\n"
     ]
    }
   ],
   "source": [
    "#8.8\n",
    "def random_versor(r, alg):\n",
    "    return gprod(random_r_vectors(r, alg))\n",
    "\n",
    "def random_versor_(r, alg):\n",
    "    vectors = random_r_vectors(r, alg)\n",
    "    p = sum((v**2)[0] > 0 for v in vectors)\n",
    "    return gprod(vectors), p\n",
    "k = 3\n",
    "for _ in range(10):\n",
    "    U, p = random_versor_(k, alg)\n",
    "    U = U/norm(U)\n",
    "    print(k - p, U.reverse() * U)"
   ]
  },
  {
   "cell_type": "code",
   "execution_count": 170,
   "metadata": {},
   "outputs": [
    {
     "data": {
      "text/plain": [
       "(-0.517 𝐞₁ + -0.0489 𝐞₂ + 0.167 𝐞₃ + 0.486 𝐞₄,\n",
       " -0.517 𝐞₁ + -0.0489 𝐞₂ + 0.167 𝐞₃ + 0.486 𝐞₄)"
      ]
     },
     "execution_count": 170,
     "metadata": {},
     "output_type": "execute_result"
    }
   ],
   "source": [
    "# versors (Pin) are 2:1 homomorphisc to orthogonal transformations (O)\n",
    "U = random_versor(3, alg)\n",
    "U.sw(x), (-U).sw(x)"
   ]
  },
  {
   "cell_type": "code",
   "execution_count": 171,
   "metadata": {},
   "outputs": [
    {
     "data": {
      "text/plain": [
       "(0.347 𝐞₁ + 0.12 𝐞₂ + 0.741 𝐞₃ + 0.106 𝐞₄,\n",
       " 0.347 𝐞₁ + 0.12 𝐞₂ + 0.741 𝐞₃ + 0.106 𝐞₄)"
      ]
     },
     "execution_count": 171,
     "metadata": {},
     "output_type": "execute_result"
    }
   ],
   "source": [
    "#8.5\n",
    "I = alg.pseudoscalar((1,))\n",
    "I.sw(x), x"
   ]
  },
  {
   "cell_type": "code",
   "execution_count": 172,
   "metadata": {},
   "outputs": [
    {
     "name": "stdout",
     "output_type": "stream",
     "text": [
      "1 -1.0 𝐞₁₂₃₄\n",
      "2 1.0 𝐞₁₂₃₄\n",
      "3 -1.0 𝐞₁₂₃₄\n",
      "4 1.0 𝐞₁₂₃₄\n"
     ]
    }
   ],
   "source": [
    "#8.7 orthogonal transformations (O) with determinant 1 (SO) correspond to even versors (Spin)\n",
    "for k in range(1,5):\n",
    "    U = gprod(random_r_vectors(k, alg)) # a versor, of either even or odd grades\n",
    "    f = lambda x: (-1) ** (k*alg.d) * U.sw(x)/normsq(U)\n",
    "    print(k, outermorphism(f, I, alg))"
   ]
  },
  {
   "cell_type": "code",
   "execution_count": 173,
   "metadata": {},
   "outputs": [
    {
     "data": {
      "text/plain": [
       "[(3, 1, 0, 0.654),\n",
       " (1, 3, 0, 0.6605),\n",
       " (4, 1, 0, 0.806),\n",
       " (3, 0, 1, 1.0),\n",
       " (2, 2, 0, 0.499)]"
      ]
     },
     "execution_count": 173,
     "metadata": {},
     "output_type": "execute_result"
    }
   ],
   "source": [
    "#8.9 rotors (Spin+) are a part of even versors (Spin), correpond to a part of SO as rotations (SO+)\n",
    "def random_even_versor(alg):\n",
    "    d = alg.d\n",
    "    if (alg.d % 2):\n",
    "        d -= 1\n",
    "    return gprod(random_r_vectors(d, alg))\n",
    "\n",
    "\n",
    "def random_rotor(alg, max_iter=100):\n",
    "    for _ in range(max_iter):\n",
    "        S = random_even_versor(alg)\n",
    "        sign  = (S.reverse().sp(S))[0]\n",
    "        if sign > 0:\n",
    "            return S/norm(S)\n",
    "        \n",
    "\n",
    "def random_rotor_count(alg, max_iter=100):\n",
    "    count = 0\n",
    "    for _ in range(max_iter):\n",
    "        S = random_even_versor(alg)\n",
    "        sign  = (S.reverse().sp(S))[0]\n",
    "        if sign > 0:\n",
    "            count += 1\n",
    "    return count\n",
    "\n",
    "[(p, q, r, random_rotor_count(Algebra(p, q, r), 2000)/2000) for p, q, r in ((3,1,0),(1,3,0),(4,1,0),(3,0,1),(2,2,0))]"
   ]
  },
  {
   "cell_type": "markdown",
   "metadata": {},
   "source": [
    "versors (Pin) are products of {1, a, b, ab} and a rotor"
   ]
  },
  {
   "cell_type": "code",
   "execution_count": 174,
   "metadata": {},
   "outputs": [],
   "source": [
    "#8.12\n",
    "def random_simple_rotor(alg):\n",
    "    while True:\n",
    "        S = random_versor(2, alg)\n",
    "        sign  = (S.reverse().sp(S))[0]\n",
    "        if sign > 0:\n",
    "            return S/norm(S)"
   ]
  },
  {
   "cell_type": "code",
   "execution_count": 175,
   "metadata": {},
   "outputs": [
    {
     "data": {
      "text/plain": [
       "(0.888 𝐞₁ + 0.988 𝐞₂ + -0.289 𝐞₃ + 0.921 𝐞₄,\n",
       " 0.888 𝐞₁ + 0.988 𝐞₂ + -0.289 𝐞₃ + 0.921 𝐞₄ + 3.59e-16 𝐞₁₂₃ + -1.13e-16 𝐞₁₂₄ + -3.66e-16 𝐞₁₃₄ + 3.76e-16 𝐞₂₃₄,\n",
       " 1.0,\n",
       " 1.0,\n",
       " -0.993 + 0.0425 𝐞₁₂ + 0.131 𝐞₁₃ + 0.0655 𝐞₁₄ + 0.159 𝐞₂₃ + 0.0288 𝐞₂₄ + -0.157 𝐞₃₄,\n",
       " -0.993 + 0.0425 𝐞₁₂ + 0.131 𝐞₁₃ + 0.0655 𝐞₁₄ + 0.159 𝐞₂₃ + 0.0288 𝐞₂₄ + -0.157 𝐞₃₄ + 3.89e-16 𝐞₁₂₃₄)"
      ]
     },
     "execution_count": 175,
     "metadata": {},
     "output_type": "execute_result"
    }
   ],
   "source": [
    "#8.13\n",
    "S = random_simple_rotor(alg)\n",
    "u = x | S.grade(2)\n",
    "u = u/norm(u)\n",
    "v = S.sw(u)\n",
    "v, S ** 2 * u, v ** 2, u ** 2, v * u, S ** 2"
   ]
  },
  {
   "cell_type": "code",
   "execution_count": 176,
   "metadata": {},
   "outputs": [
    {
     "data": {
      "text/plain": [
       "(1.0 + 6.51e-19 𝐞₁₂ + 5.99e-18 𝐞₁₃ + 6.36e-18 𝐞₁₄ + 2.3e-18 𝐞₂₃ + -5.67e-18 𝐞₂₄ + -1.12e-17 𝐞₃₄ + -7.81e-16 𝐞₁₂₃₄,\n",
       " 1.0 + 2.78e-17 𝐞₁₂ + 2.78e-17 𝐞₃₄ + -3.89e-16 𝐞₁₂₃₄)"
      ]
     },
     "execution_count": 176,
     "metadata": {},
     "output_type": "execute_result"
    }
   ],
   "source": [
    "S ** 2 * (S ** 2).reverse(), S * S.reverse()"
   ]
  },
  {
   "cell_type": "code",
   "execution_count": 177,
   "metadata": {},
   "outputs": [
    {
     "data": {
      "text/plain": [
       "(-0.993 + -0.0425 𝐞₁₂ + -0.131 𝐞₁₃ + -0.0655 𝐞₁₄ + -0.159 𝐞₂₃ + -0.0288 𝐞₂₄ + 0.157 𝐞₃₄ + 3.89e-16 𝐞₁₂₃₄,\n",
       " -0.993 + -0.0425 𝐞₁₂ + -0.131 𝐞₁₃ + -0.0655 𝐞₁₄ + -0.159 𝐞₂₃ + -0.0288 𝐞₂₄ + 0.157 𝐞₃₄,\n",
       " -0.993 + 0.0425 𝐞₁₂ + 0.131 𝐞₁₃ + 0.0655 𝐞₁₄ + 0.159 𝐞₂₃ + 0.0288 𝐞₂₄ + -0.157 𝐞₃₄)"
      ]
     },
     "execution_count": 177,
     "metadata": {},
     "output_type": "execute_result"
    }
   ],
   "source": [
    "#8.15\n",
    "(S ** 2).reverse(), u * v, v * u"
   ]
  },
  {
   "cell_type": "code",
   "execution_count": 178,
   "metadata": {},
   "outputs": [
    {
     "data": {
      "text/plain": [
       "-0.0145 + -6.51e-19 𝐞₁₂ + 1.04e-17 𝐞₁₂₃₄"
      ]
     },
     "execution_count": 178,
     "metadata": {},
     "output_type": "execute_result"
    }
   ],
   "source": [
    "#8.16\n",
    "S2 = S ** 2\n",
    "blade = S2.grade(2)\n",
    "bladesq = (blade ** 2)\n",
    "bladesq"
   ]
  },
  {
   "cell_type": "code",
   "execution_count": 179,
   "metadata": {},
   "outputs": [
    {
     "data": {
      "text/plain": [
       "[0.877 + 0.408 𝐞₁₂ + 1.6 𝐞₁₃ + 1.57 𝐞₁₄ + -0.353 𝐞₂₃ + -0.281 𝐞₂₄ + 0.26 𝐞₃₄,\n",
       " None,\n",
       " 1.26 + 0.137 𝐞₁₂ + 0.302 𝐞₁₃ + -0.289 𝐞₁₄ + 0.26 𝐞₂₃ + -0.536 𝐞₂₄ + -0.634 𝐞₃₄]"
      ]
     },
     "execution_count": 179,
     "metadata": {},
     "output_type": "execute_result"
    }
   ],
   "source": [
    "# 3 types of rotors (Spin+)\n",
    "def type_convert(n):\n",
    "    if n > 1e-6:\n",
    "        return 1\n",
    "    elif n < -1e-6:\n",
    "        return -1\n",
    "    else:\n",
    "        return 0\n",
    "\n",
    "# Unfortunately parabolic rotors are of measure zero, \n",
    "# so this function has zero chance generating them\n",
    "def random_simple_rotor(alg, signature=None, max_iter=100):\n",
    "    for _ in range(max_iter):\n",
    "        S = random_versor(2, alg)\n",
    "        if signature is not None:\n",
    "            if type_convert((S.grade(2) ** 2)[0]) != signature:\n",
    "                continue\n",
    "        sign  = (S.reverse().sp(S))[0]\n",
    "        if sign > 0:\n",
    "            return S/norm(S)\n",
    "        \n",
    "[random_simple_rotor(alg, signature=i) for i in range(-1, 2)]"
   ]
  },
  {
   "cell_type": "code",
   "execution_count": 180,
   "metadata": {},
   "outputs": [],
   "source": [
    "def simple_rotor_log(R: MultiVector, tol=1e-6):\n",
    "    blade = R.grade(2)\n",
    "    signature = (blade ** 2)[0]\n",
    "    if signature > tol:\n",
    "        return np.arccosh(R[0]) / norm(blade) * blade\n",
    "    if signature < -tol:\n",
    "        return np.arccos(R[0]) / norm(blade) * blade\n",
    "    else:\n",
    "        return blade"
   ]
  },
  {
   "cell_type": "code",
   "execution_count": 181,
   "metadata": {},
   "outputs": [
    {
     "data": {
      "text/plain": [
       "(-0.737 + -0.693 𝐞₁₂ + 0.163 𝐞₁₃ + -0.137 𝐞₁₄ + 0.59 𝐞₂₃ + 0.563 𝐞₂₄ + -0.249 𝐞₃₄ + -5.55e-17 𝐞₁₂₃₄,\n",
       " -0.737 + -0.693 𝐞₁₂ + 0.163 𝐞₁₃ + -0.137 𝐞₁₄ + 0.59 𝐞₂₃ + 0.563 𝐞₂₄ + -0.249 𝐞₃₄,\n",
       " -0.737 + -0.693 𝐞₁₂ + 0.163 𝐞₁₃ + -0.137 𝐞₁₄ + 0.59 𝐞₂₃ + 0.563 𝐞₂₄ + -0.249 𝐞₃₄,\n",
       " 0.363 + -0.955 𝐞₁₂ + 0.225 𝐞₁₃ + -0.189 𝐞₁₄ + 0.813 𝐞₂₃ + 0.776 𝐞₂₄ + -0.344 𝐞₃₄,\n",
       " 0.363 + -0.955 𝐞₁₂ + 0.225 𝐞₁₃ + -0.189 𝐞₁₄ + 0.813 𝐞₂₃ + 0.776 𝐞₂₄ + -0.344 𝐞₃₄,\n",
       " 0.363 + -0.955 𝐞₁₂ + 0.225 𝐞₁₃ + -0.189 𝐞₁₄ + 0.813 𝐞₂₃ + 0.776 𝐞₂₄ + -0.344 𝐞₃₄ + -7.65e-17 𝐞₁₂₃₄,\n",
       " 0.363 + -0.955 𝐞₁₂ + 0.225 𝐞₁₃ + -0.189 𝐞₁₄ + 0.813 𝐞₂₃ + 0.776 𝐞₂₄ + -0.344 𝐞₃₄ + -2.78e-16 𝐞₁₂₃₄)"
      ]
     },
     "execution_count": 181,
     "metadata": {},
     "output_type": "execute_result"
    }
   ],
   "source": [
    "#8.17a elliptic rotor (rotation), run several times you can see sqrt allows a sign change\n",
    "S = random_simple_rotor(alg, signature=-1)\n",
    "S2 = S ** 2\n",
    "b = simple_rotor_log(S2)\n",
    "S2, blade_exp(b), blade_exp(b - 6*np.pi*b/norm(b)), S, blade_exp(b/2), simple_rotor_sqrt(S2), blade_exp(3.3*b).sw(S)"
   ]
  },
  {
   "cell_type": "code",
   "execution_count": 182,
   "metadata": {},
   "outputs": [
    {
     "data": {
      "text/plain": [
       "(1.29 + -0.5 𝐞₁₂ + -0.262 𝐞₁₃ + -0.0832 𝐞₁₄ + 1.59 𝐞₂₃ + 1.75 𝐞₂₄ + 0.654 𝐞₃₄ + 5.55e-17 𝐞₁₂₃₄,\n",
       " 1.29 + -0.5 𝐞₁₂ + -0.262 𝐞₁₃ + -0.0832 𝐞₁₄ + 1.59 𝐞₂₃ + 1.75 𝐞₂₄ + 0.654 𝐞₃₄,\n",
       " 1.07 + -0.234 𝐞₁₂ + -0.122 𝐞₁₃ + -0.0389 𝐞₁₄ + 0.741 𝐞₂₃ + 0.819 𝐞₂₄ + 0.305 𝐞₃₄,\n",
       " 1.07 + -0.234 𝐞₁₂ + -0.122 𝐞₁₃ + -0.0389 𝐞₁₄ + 0.741 𝐞₂₃ + 0.819 𝐞₂₄ + 0.305 𝐞₃₄,\n",
       " 1.07 + -0.234 𝐞₁₂ + -0.122 𝐞₁₃ + -0.0389 𝐞₁₄ + 0.741 𝐞₂₃ + 0.819 𝐞₂₄ + 0.305 𝐞₃₄ + 2.59e-17 𝐞₁₂₃₄,\n",
       " 1.07 + -0.234 𝐞₁₂ + -0.122 𝐞₁₃ + -0.0389 𝐞₁₄ + 0.741 𝐞₂₃ + 0.819 𝐞₂₄ + 0.305 𝐞₃₄ + -3.73e-14 𝐞₁₂₃₄)"
      ]
     },
     "execution_count": 182,
     "metadata": {},
     "output_type": "execute_result"
    }
   ],
   "source": [
    "#8.17b hyperbolic rotor (boost)\n",
    "S = random_simple_rotor(alg, signature=1)\n",
    "S2 = S ** 2\n",
    "b = simple_rotor_log(S2)\n",
    "S2, blade_exp(b), S, blade_exp(b/2), simple_rotor_sqrt(S2), blade_exp(3.3*b).sw(S)"
   ]
  },
  {
   "cell_type": "code",
   "execution_count": 183,
   "metadata": {},
   "outputs": [
    {
     "data": {
      "text/plain": [
       "(1 + -2 𝐞₂₃ + 2 𝐞₂₄,\n",
       " 1 + -2 𝐞₂₃ + 2 𝐞₂₄,\n",
       " 1 + -1 𝐞₂₃ + 1 𝐞₂₄,\n",
       " 1 + -1.0 𝐞₂₃ + 1.0 𝐞₂₄,\n",
       " 1.0 + -1.0 𝐞₂₃ + 1.0 𝐞₂₄,\n",
       " 1.0 + -1.0 𝐞₂₃ + 1.0 𝐞₂₄)"
      ]
     },
     "execution_count": 183,
     "metadata": {},
     "output_type": "execute_result"
    }
   ],
   "source": [
    "#8.17c 8.20 parabolic rotor (translation)\n",
    "S = (e2 + e3 - e4) * e2\n",
    "S2 = S ** 2\n",
    "b = simple_rotor_log(S2)\n",
    "S2, blade_exp(b), S, blade_exp(b/2), simple_rotor_sqrt(S2), blade_exp(3.3*b).sw(S)"
   ]
  },
  {
   "cell_type": "code",
   "execution_count": 184,
   "metadata": {},
   "outputs": [
    {
     "data": {
      "text/plain": [
       "(-0.5 𝐞₂₃ + 0.5 𝐞₂₄, 1.0 + -1.0 𝐞₂₃ + 1.0 𝐞₂₄, 1 + -1 𝐞₂₃ + 1 𝐞₂₄)"
      ]
     },
     "execution_count": 184,
     "metadata": {},
     "output_type": "execute_result"
    }
   ],
   "source": [
    "#8.21\n",
    "B = S.grade(2) / (1 + S.grade(0))\n",
    "B, (1+B)**2/(normsq(1+B)), S"
   ]
  },
  {
   "cell_type": "code",
   "execution_count": 185,
   "metadata": {},
   "outputs": [
    {
     "data": {
      "text/plain": [
       "(-1.81 + 3.37 𝐞₁₂ + 3.38 𝐞₁₃ + 3.49 𝐞₁₄ + -0.097 𝐞₂₃ + -2.73 𝐞₂₄ + -1.96 𝐞₃₄ + -1.27 𝐞₁₂₃₄,\n",
       " 1.81 + -3.37 𝐞₁₂ + -3.38 𝐞₁₃ + -3.49 𝐞₁₄ + 0.097 𝐞₂₃ + 2.73 𝐞₂₄ + 1.96 𝐞₃₄ + 1.27 𝐞₁₂₃₄,\n",
       " -3.72 𝐞₁ + -0.365 𝐞₂ + -2.07 𝐞₃ + -4.31 𝐞₄ + -8.33e-17 𝐞₁₂₃ + -1.11e-16 𝐞₁₃₄ + 2.22e-16 𝐞₂₃₄,\n",
       " -3.72 𝐞₁ + -0.365 𝐞₂ + -2.07 𝐞₃ + -4.31 𝐞₄ + 1.11e-16 𝐞₁₃₄ + -1.11e-16 𝐞₂₃₄,\n",
       " -0.0995 𝐞₁ + -0.282 𝐞₂ + -0.334 𝐞₃ + -0.108 𝐞₄ + 0.09 𝐞₁₂₃ + -0.493 𝐞₁₂₄ + -0.55 𝐞₁₃₄ + 0.193 𝐞₂₃₄,\n",
       " -0.0995 𝐞₁ + -0.282 𝐞₂ + -0.334 𝐞₃ + -0.108 𝐞₄ + 0.09 𝐞₁₂₃ + -0.493 𝐞₁₂₄ + -0.55 𝐞₁₃₄ + 0.193 𝐞₂₃₄)"
      ]
     },
     "execution_count": 185,
     "metadata": {},
     "output_type": "execute_result"
    }
   ],
   "source": [
    "#8.25\n",
    "R, u = random_rotor(alg), random_r_blade(1, alg)\n",
    "v = R.sw(u)\n",
    "S = simple_rotor_sqrt(v * u / normsq(u))\n",
    "U = S.reverse() * R\n",
    "R, S * U, S * u, u * S.reverse(), U * u, u * U"
   ]
  },
  {
   "cell_type": "code",
   "execution_count": 200,
   "metadata": {},
   "outputs": [
    {
     "data": {
      "text/plain": [
       "(-1.81 + 3.37 𝐞₁₂ + 3.38 𝐞₁₃ + 3.49 𝐞₁₄ + -0.097 𝐞₂₃ + -2.73 𝐞₂₄ + -1.96 𝐞₃₄ + -1.27 𝐞₁₂₃₄,\n",
       " -1.81 + 3.37 𝐞₁₂ + 3.38 𝐞₁₃ + 3.49 𝐞₁₄ + -0.097 𝐞₂₃ + -2.73 𝐞₂₄ + -1.96 𝐞₃₄ + -1.27 𝐞₁₂₃₄,\n",
       " -1.81 + 3.37 𝐞₁₂ + 3.38 𝐞₁₃ + 3.49 𝐞₁₄ + -0.097 𝐞₂₃ + -2.73 𝐞₂₄ + -1.96 𝐞₃₄ + -1.27 𝐞₁₂₃₄)"
      ]
     },
     "execution_count": 200,
     "metadata": {},
     "output_type": "execute_result"
    }
   ],
   "source": [
    "def rotor_split(R: MultiVector, alg: Algebra, tol=1e-6):\n",
    "    # FIXME: when the tangent not well defined\n",
    "    assert normsq(R.grade(2)) > tol, \"zero bivector\"\n",
    "    tangent = R.grade(2) / R[0]\n",
    "    tangents = bivector_split(tangent, alg)\n",
    "    splits = sorted([normalize(1 + t) for t in tangents], key=lambda item: abs(item[0]))\n",
    "    sign = np.round(gprod(r[0] for r in splits)/R[0])\n",
    "    splits[0] = splits[0] * sign # to keep the sign of R\n",
    "    return splits\n",
    "        \n",
    "\n",
    "R_splits = rotor_split(R, alg)\n",
    "R, gprod(R_splits), gprod([blade_exp(simple_rotor_log(r)) for r in R_splits])"
   ]
  },
  {
   "cell_type": "code",
   "execution_count": 195,
   "metadata": {},
   "outputs": [],
   "source": [
    "tangent = R.grade(2) / R[0]\n",
    "tangents = bivector_split(tangent, alg)\n",
    "splits = [normalize(1 + t) for t in tangents]\n",
    "sign = np.round(gprod(r[0] for r in splits)/R[0])"
   ]
  },
  {
   "cell_type": "code",
   "execution_count": 196,
   "metadata": {},
   "outputs": [
    {
     "data": {
      "text/plain": [
       "[-0.258 𝐞₁₂ + -1.54 𝐞₁₃ + -0.929 𝐞₂₃ + -0.846 𝐞₁₄ + -0.279 𝐞₂₄ + 1.38 𝐞₃₄,\n",
       " -1.6 𝐞₁₂ + -0.324 𝐞₁₃ + 0.982 𝐞₂₃ + -1.08 𝐞₁₄ + 1.79 𝐞₂₄ + -0.3 𝐞₃₄]"
      ]
     },
     "execution_count": 196,
     "metadata": {},
     "output_type": "execute_result"
    }
   ],
   "source": [
    "tangents"
   ]
  },
  {
   "cell_type": "code",
   "execution_count": 197,
   "metadata": {},
   "outputs": [
    {
     "data": {
      "text/plain": [
       "[0.79 + -0.204 𝐞₁₂ + -1.22 𝐞₁₃ + -0.669 𝐞₁₄ + -0.734 𝐞₂₃ + -0.221 𝐞₂₄ + 1.09 𝐞₃₄,\n",
       " 2.3 + -3.68 𝐞₁₂ + -0.745 𝐞₁₃ + -2.48 𝐞₁₄ + 2.26 𝐞₂₃ + 4.1 𝐞₂₄ + -0.688 𝐞₃₄]"
      ]
     },
     "execution_count": 197,
     "metadata": {},
     "output_type": "execute_result"
    }
   ],
   "source": [
    "splits"
   ]
  },
  {
   "cell_type": "code",
   "execution_count": 199,
   "metadata": {},
   "outputs": [
    {
     "data": {
      "text/plain": [
       "(-2.3 + 3.68 𝐞₁₂ + 0.745 𝐞₁₃ + 2.48 𝐞₁₄ + -2.26 𝐞₂₃ + -4.1 𝐞₂₄ + 0.688 𝐞₃₄ + -2.22e-16 𝐞₁₂₃₄,\n",
       " -0.79 + 0.204 𝐞₁₂ + 1.22 𝐞₁₃ + 0.669 𝐞₁₄ + 0.734 𝐞₂₃ + 0.221 𝐞₂₄ + -1.09 𝐞₃₄ + -1.78e-15 𝐞₁₂₃₄)"
      ]
     },
     "execution_count": 199,
     "metadata": {},
     "output_type": "execute_result"
    }
   ],
   "source": [
    "def inv(A: MultiVector, tol=1e-6):\n",
    "    Ar = A.reverse()\n",
    "    n = A.sp(Ar)[0]\n",
    "    assert abs(n) > tol, f\"norm {n}\"\n",
    "    return Ar / n\n",
    "\n",
    "R * inv(splits[0]), R * inv(splits[1])"
   ]
  },
  {
   "cell_type": "code",
   "execution_count": 198,
   "metadata": {},
   "outputs": [
    {
     "data": {
      "text/plain": [
       "-1.0"
      ]
     },
     "execution_count": 198,
     "metadata": {},
     "output_type": "execute_result"
    }
   ],
   "source": [
    "sign"
   ]
  },
  {
   "cell_type": "code",
   "execution_count": 193,
   "metadata": {},
   "outputs": [
    {
     "name": "stderr",
     "output_type": "stream",
     "text": [
      "/var/folders/4w/twr20pmj5p356r2dcqzxg9v00000gn/T/ipykernel_97258/1347492118.py:5: RuntimeWarning: invalid value encountered in arccosh\n",
      "  return np.arccosh(R[0]) / norm(blade) * blade\n"
     ]
    },
    {
     "data": {
      "text/plain": [
       "[0.79 + -0.204 𝐞₁₂ + -1.22 𝐞₁₃ + -0.669 𝐞₁₄ + -0.734 𝐞₂₃ + -0.221 𝐞₂₄ + 1.09 𝐞₃₄,\n",
       " None]"
      ]
     },
     "execution_count": 193,
     "metadata": {},
     "output_type": "execute_result"
    }
   ],
   "source": [
    "[blade_exp(simple_rotor_log(r)) for r in R_splits]"
   ]
  },
  {
   "cell_type": "code",
   "execution_count": 53,
   "metadata": {},
   "outputs": [
    {
     "data": {
      "text/plain": [
       "(0.343 + 0.0121 𝐞₁₂ + 0.0756 𝐞₁₃ + 0.0557 𝐞₂₃,\n",
       " 0.409 + 0.115 𝐞₁₂ + 0.327 𝐞₁₃ + 0.453 𝐞₁₄ + -0.476 𝐞₂₃ + 0.321 𝐞₂₄ + -0.11 𝐞₃₄ + 0.383 𝐞₁₂₃₄)"
      ]
     },
     "execution_count": 53,
     "metadata": {},
     "output_type": "execute_result"
    }
   ],
   "source": [
    "#8.10 a spinor is an even versor for odd dimension (a Dirac representation);\n",
    "# a sum of an even versor and its dual for even dimension (two Weyl representations)\n",
    "def random_study_number(alg):\n",
    "    a, b = np.random.rand(2)\n",
    "    return (a + b*alg.pseudoscalar((1,)))\n",
    "\n",
    "def random_spinor(alg: Algebra):\n",
    "    if alg.d % 4:\n",
    "        return random_even_versor(alg)\n",
    "    return random_study_number(alg) * random_even_versor(alg)\n",
    "\n",
    "random_spinor(Algebra(3)), random_spinor(Algebra(4))\n"
   ]
  },
  {
   "cell_type": "code",
   "execution_count": 54,
   "metadata": {},
   "outputs": [
    {
     "data": {
      "text/plain": [
       "array([-13.40003444, -13.40003444, -13.40003444, -13.40003444])"
      ]
     },
     "execution_count": 54,
     "metadata": {},
     "output_type": "execute_result"
    }
   ],
   "source": [
    "# A pointor depends on a point\n",
    "def random_point(alg: Algebra):\n",
    "    return random_r_blade(alg.d - 1, alg)\n",
    "\n",
    "O = random_point(alg)\n",
    "\n",
    "# point reflection on the point itself is a pointor\n",
    "terms_ratio(O, O.sw(O))"
   ]
  },
  {
   "cell_type": "code",
   "execution_count": 55,
   "metadata": {},
   "outputs": [
    {
     "data": {
      "text/plain": [
       "(array([-13.40003444, -13.40003444, -13.40003444, -13.40003444]),\n",
       " array([7.53618382, 7.53618382, 7.53618382, 7.53618382]),\n",
       " array([7.69296609, 7.69296609, 7.69296609, 7.69296609]))"
      ]
     },
     "execution_count": 55,
     "metadata": {},
     "output_type": "execute_result"
    }
   ],
   "source": [
    "# versors not crossing O-subspace are pointers \n",
    "vectors = blade_split(O, alg)\n",
    "B1, B2 = wedge(vectors[:2]), wedge(vectors[1:])\n",
    "Od = O.dual()\n",
    "terms_ratio(O, Od.sw(O)), terms_ratio(B1.sw(O), O), terms_ratio(vectors[0].sw(O), O), "
   ]
  },
  {
   "cell_type": "code",
   "execution_count": 56,
   "metadata": {},
   "outputs": [
    {
     "data": {
      "text/plain": [
       "(array([-0.07462667, -0.07462667, -0.07462667, -0.07462667]),\n",
       " array([0.07462854, 0.07462854, 0.07462854, 0.07462854]))"
      ]
     },
     "execution_count": 56,
     "metadata": {},
     "output_type": "execute_result"
    }
   ],
   "source": [
    "# rotors with reflections are pointers\n",
    "R1 = blade_exp(3.3*B1)\n",
    "R2 = blade_exp(4.4*B2)\n",
    "terms_ratio((Od * R1 * R2).sw(O), O), terms_ratio((Od * vectors[2] * R1).sw(O), O)"
   ]
  },
  {
   "cell_type": "code",
   "execution_count": 57,
   "metadata": {},
   "outputs": [
    {
     "data": {
      "text/plain": [
       "array([116.06883467,   1.15587383,   1.15587383,   1.15587383])"
      ]
     },
     "execution_count": 57,
     "metadata": {},
     "output_type": "execute_result"
    }
   ],
   "source": [
    "# rotors cross O-subspace may not be pointers\n",
    "terms_ratio(blade_exp(Od ^ vectors[2]).sw(O), O)"
   ]
  },
  {
   "cell_type": "code",
   "execution_count": 109,
   "metadata": {},
   "outputs": [
    {
     "data": {
      "text/plain": [
       "0.0118 + 0.136 𝐞₁ + 0.412 𝐞₂ + 0.385 𝐞₃ + 0.502 𝐞₄ + -0.0264 𝐞₁₂ + -0.031 𝐞₁₃ + -0.00605 𝐞₁₄ + -0.0271 𝐞₂₃ + 0.0781 𝐞₂₄ + 0.0977 𝐞₃₄ + -0.092 𝐞₁₂₃ + -0.0108 𝐞₁₂₄ + 0.00839 𝐞₁₃₄ + -0.283 𝐞₂₃₄"
      ]
     },
     "execution_count": 109,
     "metadata": {},
     "output_type": "execute_result"
    }
   ],
   "source": [
    "# A general pointor suggested by \"From Invariant Decomposition to Spinors\"?\n",
    "# How do we find the point specified by a pointor?\n",
    "def random_odd_versor(alg):\n",
    "    d = alg.d\n",
    "    if not (alg.d % 2):\n",
    "        d -= 1\n",
    "    return gprod(random_r_vectors(d, alg))\n",
    "\n",
    "\n",
    "# Actually I'm not sure these generate pointors\n",
    "# def random_pointor(alg: Algebra):\n",
    "#     return random_odd_versor(alg) * random_even_versor(alg)\n",
    "    \n",
    "# def random_pointor(alg: Algebra):\n",
    "#     v = random_r_blade(1, alg)\n",
    "#     return (np.random.rand() + v) * random_even_versor(alg)\n",
    "\n",
    "# FIXME: check degree of freedom\n",
    "def random_pointor(alg: Algebra):\n",
    "    v = random_r_blade(1, alg)\n",
    "    return (np.random.rand() + v) * random_versor(2, alg)\n",
    "\n",
    "pointor = random_pointor(alg)\n",
    "pointor"
   ]
  },
  {
   "cell_type": "code",
   "execution_count": 110,
   "metadata": {},
   "outputs": [
    {
     "data": {
      "text/plain": [
       "array([0.00031733, 0.00031733, 0.00031733, 0.00031733])"
      ]
     },
     "execution_count": 110,
     "metadata": {},
     "output_type": "execute_result"
    }
   ],
   "source": [
    "# the point-grade\n",
    "O = pointor.grade(3)\n",
    "terms_ratio(pointor.sw(O), O)"
   ]
  },
  {
   "cell_type": "markdown",
   "metadata": {},
   "source": [
    "### Algebraic Representation of Linear Multivector Functions\n",
    "effect of F on the structure of G -> express F in terms of algebraic operations on multivectors\n"
   ]
  },
  {
   "cell_type": "code",
   "execution_count": 89,
   "metadata": {},
   "outputs": [
    {
     "data": {
      "text/plain": [
       "(-0.995 + 0.485 𝐞₁ + -1.14 𝐞₂ + 1.27 𝐞₃ + 1.36 𝐞₄ + 0.518 𝐞₁₂ + -0.747 𝐞₁₃ + -0.796 𝐞₁₄ + -0.857 𝐞₂₃ + -0.868 𝐞₂₄ + 0.228 𝐞₃₄ + -0.0144 𝐞₁₂₃ + 0.0887 𝐞₁₂₄ + -1.15 𝐞₁₃₄ + 0.172 𝐞₂₃₄ + -0.424 𝐞₁₂₃₄,\n",
       " -0.995 + 0.485 𝐞₁ + -1.14 𝐞₂ + 1.27 𝐞₃ + 1.36 𝐞₄ + 0.518 𝐞₁₂ + -0.747 𝐞₁₃ + -0.796 𝐞₁₄ + -0.857 𝐞₂₃ + -0.868 𝐞₂₄ + 0.228 𝐞₃₄ + -0.0144 𝐞₁₂₃ + 0.0887 𝐞₁₂₄ + -1.15 𝐞₁₃₄ + 0.172 𝐞₂₃₄ + -0.424 𝐞₁₂₃₄)"
      ]
     },
     "execution_count": 89,
     "metadata": {},
     "output_type": "execute_result"
    }
   ],
   "source": [
    "#9.8\n",
    "def protraction(F, Y):\n",
    "    return curl(lambda x: F(x ^ Y), 0, alg, grade=1)\n",
    "\n",
    "def contraction(F, Y):\n",
    "    return div(lambda x: F(x ^ Y), 0, alg, grade=1)\n",
    "\n",
    "def traction(F, Y):\n",
    "    return derivative(lambda x: F(x ^ Y), 0, alg, grade=1)\n",
    "\n",
    "A, B = [random_multivector(alg) for _ in range(2)]\n",
    "F = lambda X: A * X.grade(3)\n",
    "x, Y = random_r_blade(1, alg), random_r_blade(2, alg)\n",
    "\n",
    "traction(F, Y), contraction(F, Y) + protraction(F, Y)"
   ]
  },
  {
   "cell_type": "code",
   "execution_count": 92,
   "metadata": {},
   "outputs": [
    {
     "data": {
      "text/plain": [
       "(0.0661, 0.0661, 1.38 𝐞₁₂₃ + 1.19 𝐞₁₂₄ + -0.298 𝐞₁₃₄ + 0.808 𝐞₂₃₄, )"
      ]
     },
     "execution_count": 92,
     "metadata": {},
     "output_type": "execute_result"
    }
   ],
   "source": [
    "#9.9 symmetric multiform not necessarily protractionless\n",
    "B2 = B.grade(2)\n",
    "X = random_r_blade(2, alg)\n",
    "G0 = lambda x: x|B2  # skew symmetric 1 form\n",
    "G = lambda X: outermorphism(G0, X, alg)  # symmetric multiform\n",
    "G(X) | Y, G(Y) | X, protraction(G, x), contraction(G0, x)"
   ]
  },
  {
   "cell_type": "code",
   "execution_count": 93,
   "metadata": {},
   "outputs": [
    {
     "data": {
      "text/plain": [
       "-6.94e-17 𝐞₁₂₃ + -7.63e-17 𝐞₁₂₄ + 1.73e-17 𝐞₁₃₄ + -5.55e-17 𝐞₂₃₄"
      ]
     },
     "execution_count": 93,
     "metadata": {},
     "output_type": "execute_result"
    }
   ],
   "source": [
    "# if the bivector is simple instead\n",
    "G1 = lambda X: outermorphism(lambda x: x|Y, X, alg)\n",
    "protraction(G1, x)"
   ]
  },
  {
   "cell_type": "code",
   "execution_count": 97,
   "metadata": {},
   "outputs": [
    {
     "data": {
      "text/plain": [
       "3.5 𝐞₁₂₃₄"
      ]
     },
     "execution_count": 97,
     "metadata": {},
     "output_type": "execute_result"
    }
   ],
   "source": [
    "#9.11 simplicial curl is the max grade of simplicial derivative\n",
    "simplicial_derivative(lambda vectors: G(wedge(vectors)), np.zeros(2), alg).grade(4)"
   ]
  },
  {
   "cell_type": "code",
   "execution_count": 99,
   "metadata": {},
   "outputs": [
    {
     "data": {
      "text/plain": [
       "0.0983 + -1.82e-17 𝐞₁₃ + -1.3e-18 𝐞₁₄ + -1.94e-16 𝐞₁₂₃₄"
      ]
     },
     "execution_count": 99,
     "metadata": {},
     "output_type": "execute_result"
    }
   ],
   "source": [
    "#9.12b\n",
    "simplicial_derivative(lambda vectors: G1(wedge(vectors)), np.zeros(2), alg)"
   ]
  },
  {
   "cell_type": "code",
   "execution_count": 130,
   "metadata": {},
   "outputs": [
    {
     "data": {
      "text/plain": [
       "0.1 + 2.78e-17 𝐞₁₃ + 3.5 𝐞₁₂₃₄"
      ]
     },
     "execution_count": 130,
     "metadata": {},
     "output_type": "execute_result"
    }
   ],
   "source": [
    "#9.13 contractionless\n",
    "trace = simplicial_derivative(lambda vectors: G(wedge(vectors)), np.zeros(2), alg)[0]\n",
    "G2 = lambda X: outermorphism(G0, X, alg) - trace/4 * X  # symmetric multiform\n",
    "simplicial_derivative(lambda vectors: G2(wedge(vectors)), np.zeros(2), alg)"
   ]
  },
  {
   "cell_type": "code",
   "execution_count": 135,
   "metadata": {},
   "outputs": [
    {
     "data": {
      "text/plain": [
       "(1.38 𝐞₁₂₃ + 1.19 𝐞₁₂₄ + -0.298 𝐞₁₃₄ + 0.808 𝐞₂₃₄,\n",
       " 0.0556 𝐞₁ + 0.72 𝐞₂ + -0.815 𝐞₃ + -1.06 𝐞₄,\n",
       " -5.55e-17 + 2.78e-17 𝐞₁₃ + 3.5 𝐞₁₂₃₄)"
      ]
     },
     "execution_count": 135,
     "metadata": {},
     "output_type": "execute_result"
    }
   ],
   "source": [
    "#9.13 zero simplicial divergence not necessarily contractionless\n",
    "trace = simplicial_derivative(lambda vectors: G(wedge(vectors)), np.zeros(2), alg)[0]\n",
    "G2 = lambda X: outermorphism(G0, X, alg) - trace/6 * X  # symmetric multiform\n",
    "protraction(G2, x), contraction(G2, x), simplicial_derivative(lambda vectors: G2(wedge(vectors)), np.zeros(2), alg)"
   ]
  },
  {
   "cell_type": "code",
   "execution_count": 122,
   "metadata": {},
   "outputs": [
    {
     "data": {
      "text/plain": [
       "0.0999653782692127"
      ]
     },
     "execution_count": 122,
     "metadata": {},
     "output_type": "execute_result"
    }
   ],
   "source": [
    "trace"
   ]
  },
  {
   "cell_type": "code",
   "execution_count": null,
   "metadata": {},
   "outputs": [],
   "source": [
    "B3 = B.grade(3)\n",
    "X = random_r_blade(2, alg)\n",
    "G0 = lambda x: x|B2  # skew symmetric 1 form\n",
    "G = lambda X: outermorphism(G0, X, alg)  # symmetric multiform\n",
    "G(X) | Y, G(Y) | X, protraction(G, x), contraction(G0, x)"
   ]
  }
 ],
 "metadata": {
  "kernelspec": {
   "display_name": "Python 3",
   "language": "python",
   "name": "python3"
  },
  "language_info": {
   "codemirror_mode": {
    "name": "ipython",
    "version": 3
   },
   "file_extension": ".py",
   "mimetype": "text/x-python",
   "name": "python",
   "nbconvert_exporter": "python",
   "pygments_lexer": "ipython3",
   "version": "3.10.5"
  }
 },
 "nbformat": 4,
 "nbformat_minor": 2
}
