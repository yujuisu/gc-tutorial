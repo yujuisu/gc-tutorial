{
 "cells": [
  {
   "cell_type": "markdown",
   "metadata": {},
   "source": [
    "Any metrical properties represented by using the pseudo-Euclidean axiom can be represented with the Euclidean axiom."
   ]
  },
  {
   "cell_type": "code",
   "execution_count": 154,
   "metadata": {},
   "outputs": [],
   "source": [
    "from gc_utils import *\n",
    "\n",
    "alg = Algebra(5)\n",
    "ga2 = Algebra(2)\n",
    "locals().update(alg.blades)"
   ]
  },
  {
   "cell_type": "code",
   "execution_count": 155,
   "metadata": {},
   "outputs": [
    {
     "data": {
      "text/plain": [
       "0.63 𝐞₁ + 0.81 𝐞₂"
      ]
     },
     "execution_count": 155,
     "metadata": {},
     "output_type": "execute_result"
    }
   ],
   "source": [
    "# 2d general linear transform\n",
    "def random_linear_trans(alg: Algebra):\n",
    "    matrix = np.random.rand(alg.d, alg.d)\n",
    "    return matrix2trans(matrix, alg)\n",
    "\n",
    "def random_ortho_trans(alg: Algebra):\n",
    "    from scipy.stats import ortho_group\n",
    "    matrix = ortho_group.rvs(dim=alg.d)\n",
    "    return matrix2trans(matrix, alg)\n",
    "\n",
    "f = random_linear_trans(ga2)\n",
    "x = random_r_blade(1, ga2)\n",
    "f(x)"
   ]
  },
  {
   "cell_type": "code",
   "execution_count": 156,
   "metadata": {},
   "outputs": [
    {
     "data": {
      "text/plain": [
       "(0.63 𝐞₁ + 0.81 𝐞₂, 0.63 𝐞₁ + 0.81 𝐞₂)"
      ]
     },
     "execution_count": 156,
     "metadata": {},
     "output_type": "execute_result"
    }
   ],
   "source": [
    "# 2d polar decomposition\n",
    "# f = SUU\n",
    "df = derivative(f, x, ga2, grade=1)\n",
    "UU = normalize(df)\n",
    "S = lambda x: UU * f(x)\n",
    "S(x)*UU, f(x)"
   ]
  },
  {
   "cell_type": "code",
   "execution_count": 157,
   "metadata": {},
   "outputs": [
    {
     "data": {
      "text/plain": [
       "(0.816 + 0.579 𝐞₁₂, )"
      ]
     },
     "execution_count": 157,
     "metadata": {},
     "output_type": "execute_result"
    }
   ],
   "source": [
    "# UU is rotor, S is symmetric\n",
    "UU, curl(S, x, ga2, grade=1)"
   ]
  },
  {
   "cell_type": "code",
   "execution_count": 158,
   "metadata": {},
   "outputs": [
    {
     "data": {
      "text/plain": [
       "(4.07 + -0.304 𝐞₁₂ + -0.435 𝐞₁₃ + -0.0886 𝐞₁₄ + -0.261 𝐞₁₅ + -0.354 𝐞₂₃ + 0.152 𝐞₂₄ + 0.0986 𝐞₂₅ + 0.32 𝐞₃₄ + 0.446 𝐞₃₅ + -0.102 𝐞₄₅ + -8.14e-17 𝐞₁₂₃₄ + 5.32e-17 𝐞₁₂₃₅ + 1.08e-16 𝐞₁₂₄₅ + -8.15e-17 𝐞₁₃₄₅ + -8.19e-17 𝐞₂₃₄₅,\n",
       " 4.07 + -0.304 𝐞₁₂ + -0.435 𝐞₁₃ + -0.0886 𝐞₁₄ + -0.261 𝐞₁₅ + -0.354 𝐞₂₃ + 0.152 𝐞₂₄ + 0.0986 𝐞₂₅ + 0.32 𝐞₃₄ + 0.446 𝐞₃₅ + -0.102 𝐞₄₅)"
      ]
     },
     "execution_count": 158,
     "metadata": {},
     "output_type": "execute_result"
    }
   ],
   "source": [
    "#6.3 remove the condition of 2 dimension\n",
    "a, b, x = random_r_vectors(3, alg)\n",
    "g = lambda x: x + (x|a)*b\n",
    "abframe = [a,b]\n",
    "r_frame = reciprocal(abframe)\n",
    "dg = 2 + a*b\n",
    "derivative(g, x, alg, grade=1, frame=abframe, r_frame=r_frame), dg"
   ]
  },
  {
   "cell_type": "code",
   "execution_count": 159,
   "metadata": {},
   "outputs": [
    {
     "data": {
      "text/plain": [
       "(5.55e-10 𝐞₁₃ + -4.44e-10 𝐞₁₄ + 5.55e-10 𝐞₁₅ + -3.33e-10 𝐞₂₃ + -4.44e-10 𝐞₂₅ + -2.78e-10 𝐞₃₄ + -1.11e-10 𝐞₃₅ + 5.55e-11 𝐞₄₅,\n",
       " 1.33 𝐞₁ + 1.46 𝐞₂ + 0.716 𝐞₃ + 0.985 𝐞₄ + 1.24 𝐞₅ + -1.3e-18 𝐞₁₂₃₄₅,\n",
       " 1.33 𝐞₁ + 1.46 𝐞₂ + 0.716 𝐞₃ + 0.985 𝐞₄ + 1.24 𝐞₅)"
      ]
     },
     "execution_count": 159,
     "metadata": {},
     "output_type": "execute_result"
    }
   ],
   "source": [
    "#6.3\n",
    "dg_norm = norm(dg)\n",
    "UU = dg / dg_norm\n",
    "U = simple_rotor_sqrt(UU)\n",
    "S = lambda x: U.sw(g(x))\n",
    "curl(S, x, alg, grade=1), U.reverse().sw(S(x)), g(x)"
   ]
  },
  {
   "cell_type": "code",
   "execution_count": 160,
   "metadata": {},
   "outputs": [
    {
     "data": {
      "text/plain": [
       "[-1.0 𝐞₁, 1.0 𝐞₄, -1.0 𝐞₃, 1.0 𝐞₂, -1.0 𝐞₅]"
      ]
     },
     "execution_count": 160,
     "metadata": {},
     "output_type": "execute_result"
    }
   ],
   "source": [
    "#6.6\n",
    "frame = alg.frame\n",
    "i, j = 1, 3\n",
    "aij = (1/np.sqrt(2))*(frame[i] + frame[j])\n",
    "[aij.sw(x) for x in frame]"
   ]
  },
  {
   "cell_type": "code",
   "execution_count": 161,
   "metadata": {},
   "outputs": [
    {
     "data": {
      "text/plain": [
       "[1 𝐞₁, 1 𝐞₂ + 3 𝐞₄, 1 𝐞₃, 1 𝐞₄, 1 𝐞₅]"
      ]
     },
     "execution_count": 161,
     "metadata": {},
     "output_type": "execute_result"
    }
   ],
   "source": [
    "#6.7\n",
    "alpha = 3\n",
    "Sij = lambda x: x + (alpha * (x|frame[i]) * frame[j])\n",
    "[Sij(x) for x in frame]"
   ]
  },
  {
   "cell_type": "code",
   "execution_count": 162,
   "metadata": {},
   "outputs": [
    {
     "data": {
      "text/plain": [
       "(1.34 𝐞₁ + 1.73 𝐞₂ + 2.35 𝐞₃ + 1.63 𝐞₄ + 1.87 𝐞₅,\n",
       " 1.34 𝐞₁ + 1.73 𝐞₂ + 2.35 𝐞₃ + 1.63 𝐞₄ + 1.87 𝐞₅)"
      ]
     },
     "execution_count": 162,
     "metadata": {},
     "output_type": "execute_result"
    }
   ],
   "source": [
    "#7.2\n",
    "g = random_linear_trans(alg)\n",
    "g_ = lambda x, y: x | g(y)\n",
    "derivative(lambda x: g_(x, b), x, alg, grade=1), g(b)"
   ]
  },
  {
   "cell_type": "code",
   "execution_count": 163,
   "metadata": {},
   "outputs": [
    {
     "data": {
      "text/plain": [
       "-0.255 𝐞₁₂₃₄₅"
      ]
     },
     "execution_count": 163,
     "metadata": {},
     "output_type": "execute_result"
    }
   ],
   "source": [
    "# check nonsingular\n",
    "outermorphism(g, alg.pseudoscalar((1,)), alg)"
   ]
  },
  {
   "cell_type": "code",
   "execution_count": 198,
   "metadata": {},
   "outputs": [
    {
     "data": {
      "text/plain": [
       "True"
      ]
     },
     "execution_count": 198,
     "metadata": {},
     "output_type": "execute_result"
    }
   ],
   "source": [
    "#7.5 orthogonal transformation is its isometry\n",
    "def check_isometry(f, alg, g=None, tol=1e-6):\n",
    "    x, y = random_r_vectors(2, alg)\n",
    "    if g:\n",
    "        return max_diff(f(x) | g(f(y)), x | g(y)) < tol\n",
    "    return max_diff(f(x) | f(y), x | y) < tol\n",
    "f = random_ortho_trans(alg)\n",
    "check_isometry(f, alg, f)"
   ]
  },
  {
   "cell_type": "code",
   "execution_count": 165,
   "metadata": {},
   "outputs": [
    {
     "data": {
      "text/plain": [
       "(-0.14, -0.14)"
      ]
     },
     "execution_count": 165,
     "metadata": {},
     "output_type": "execute_result"
    }
   ],
   "source": [
    "# skew bilinear form\n",
    "gm = skew_part(g, alg)\n",
    "G = simplicial_derivative(lambda vectors: vectors[0] | gm(vectors[1]), np.zeros(2), alg)\n",
    "x | gm(b), x | (b | G)"
   ]
  },
  {
   "cell_type": "code",
   "execution_count": 166,
   "metadata": {},
   "outputs": [
    {
     "data": {
      "text/plain": [
       "(0.0155 𝐞₁₂ + -0.205 𝐞₁₃ + 0.0183 𝐞₁₄ + 0.272 𝐞₁₅ + -0.243 𝐞₂₃ + -0.322 𝐞₂₄ + -0.0148 𝐞₂₅ + -0.305 𝐞₃₄ + 0.388 𝐞₃₅ + -0.311 𝐞₄₅,\n",
       " -0.172 𝐞₁₂ + 0.376 𝐞₁₃ + 0.272 𝐞₁₄ + -0.0315 𝐞₁₅ + 0.472 𝐞₂₃ + -0.271 𝐞₂₄ + 0.126 𝐞₂₅ + 0.0237 𝐞₃₄ + -0.246 𝐞₃₅ + 0.0148 𝐞₄₅)"
      ]
     },
     "execution_count": 166,
     "metadata": {},
     "output_type": "execute_result"
    }
   ],
   "source": [
    "#7.6b f is not an isometry of gm\n",
    "adjoint_outermorphism(f, G, alg), G"
   ]
  },
  {
   "cell_type": "code",
   "execution_count": 167,
   "metadata": {},
   "outputs": [
    {
     "data": {
      "text/plain": [
       "(0.659 𝐞₁ + 0.539 𝐞₂ + 0.186 𝐞₃ + 0.404 𝐞₄ + 0.324 𝐞₅,\n",
       " 0.676 𝐞₁ + 0.56 𝐞₂ + 0.194 𝐞₃ + 0.398 𝐞₄ + 0.257 𝐞₅)"
      ]
     },
     "execution_count": 167,
     "metadata": {},
     "output_type": "execute_result"
    }
   ],
   "source": [
    "#7.8 the inverse of gm\n",
    "blades = bivector_split(G, alg)\n",
    "gm(sum(-x | blade/normsq(blade) for blade in blades)), x"
   ]
  },
  {
   "cell_type": "code",
   "execution_count": 168,
   "metadata": {},
   "outputs": [
    {
     "data": {
      "text/plain": [
       "1.49e-16 + 1.15e-16 𝐞₁₂ + -3.07e-17 𝐞₁₃ + 1.65e-17 𝐞₁₄ + 6.95e-17 𝐞₁₅ + -8.67e-18 𝐞₂₃ + -9.28e-17 𝐞₂₄ + 4.55e-17 𝐞₂₅ + 2.19e-16 𝐞₃₄ + 2.6e-18 𝐞₃₅ + -2.78e-17 𝐞₄₅ + 0.918 𝐞₁₂₃₄ + -0.0807 𝐞₁₂₃₅ + -0.115 𝐞₁₂₄₅ + 0.292 𝐞₁₃₄₅ + -0.23 𝐞₂₃₄₅"
      ]
     },
     "execution_count": 168,
     "metadata": {},
     "output_type": "execute_result"
    }
   ],
   "source": [
    "#7.12 assume splitted blades are normal\n",
    "blades_norm = [norm(b) for b in blades]\n",
    "blades = [b / n for b, n in zip(blades, blades_norm)]\n",
    "gprod(blades)"
   ]
  },
  {
   "cell_type": "code",
   "execution_count": 169,
   "metadata": {},
   "outputs": [
    {
     "data": {
      "text/plain": [
       "[(0.235 𝐞₁₂ + 0.144 𝐞₁₃ + 0.723 𝐞₁₄ + 0.0291 𝐞₁₅ + 0.0281 𝐞₂₃ + -0.496 𝐞₂₄ + -0.0117 𝐞₂₅ + -0.39 𝐞₃₄ + -0.0107 𝐞₃₅ + 0.0253 𝐞₄₅,\n",
       "  0.235 𝐞₁₂ + 0.144 𝐞₁₃ + 0.0281 𝐞₂₃ + 0.723 𝐞₁₄ + -0.496 𝐞₂₄ + -0.39 𝐞₃₄ + 0.0291 𝐞₁₅ + -0.0117 𝐞₂₅ + -0.0107 𝐞₃₅ + 0.0253 𝐞₄₅),\n",
       " (-0.36 𝐞₁₂ + 0.462 𝐞₁₃ + 0.0275 𝐞₁₄ + -0.0591 𝐞₁₅ + 0.656 𝐞₂₃ + -0.138 𝐞₂₄ + 0.184 𝐞₂₅ + 0.227 𝐞₃₄ + -0.344 𝐞₃₅ + 0.00852 𝐞₄₅,\n",
       "  -0.36 𝐞₁₂ + 0.462 𝐞₁₃ + 0.656 𝐞₂₃ + 0.0275 𝐞₁₄ + -0.138 𝐞₂₄ + 0.227 𝐞₃₄ + -0.0591 𝐞₁₅ + 0.184 𝐞₂₅ + -0.344 𝐞₃₅ + 0.00852 𝐞₄₅),\n",
       " (0.235 𝐞₁₂ + 0.144 𝐞₁₃ + 0.723 𝐞₁₄ + 0.0291 𝐞₁₅ + 0.0281 𝐞₂₃ + -0.496 𝐞₂₄ + -0.0117 𝐞₂₅ + -0.39 𝐞₃₄ + -0.0107 𝐞₃₅ + 0.0253 𝐞₄₅,\n",
       "  0.235 𝐞₁₂ + 0.144 𝐞₁₃ + 0.0281 𝐞₂₃ + 0.723 𝐞₁₄ + -0.496 𝐞₂₄ + -0.39 𝐞₃₄ + 0.0291 𝐞₁₅ + -0.0117 𝐞₂₅ + -0.0107 𝐞₃₅ + 0.0253 𝐞₄₅),\n",
       " (-0.36 𝐞₁₂ + 0.462 𝐞₁₃ + 0.0275 𝐞₁₄ + -0.0591 𝐞₁₅ + 0.656 𝐞₂₃ + -0.138 𝐞₂₄ + 0.184 𝐞₂₅ + 0.227 𝐞₃₄ + -0.344 𝐞₃₅ + 0.00852 𝐞₄₅,\n",
       "  -0.36 𝐞₁₂ + 0.462 𝐞₁₃ + 0.656 𝐞₂₃ + 0.0275 𝐞₁₄ + -0.138 𝐞₂₄ + 0.227 𝐞₃₄ + -0.0591 𝐞₁₅ + 0.184 𝐞₂₅ + -0.344 𝐞₃₅ + 0.00852 𝐞₄₅)]"
      ]
     },
     "execution_count": 169,
     "metadata": {},
     "output_type": "execute_result"
    }
   ],
   "source": [
    "#7.17\n",
    "theta = np.random.rand(2)\n",
    "rotors = [blade_exp(t*blade) for t, blade in zip(theta, blades)]\n",
    "[(U.sw(G), G) for U in rotors for G in blades]"
   ]
  },
  {
   "cell_type": "code",
   "execution_count": 170,
   "metadata": {},
   "outputs": [
    {
     "data": {
      "text/plain": [
       "array([1., 1., 1., 1., 1., 1., 1., 1., 1., 1.])"
      ]
     },
     "execution_count": 170,
     "metadata": {},
     "output_type": "execute_result"
    }
   ],
   "source": [
    "#7.18\n",
    "first_vecs = [blade_split(blade, alg)[0] for blade in blades]\n",
    "first_vecs = [normalize(v) for v in first_vecs]\n",
    "second_vecs = [v | blade for v, blade in zip(first_vecs, blades)]\n",
    "inter_plane_rotors = [simple_rotor_sqrt(a * b) for a, b in (first_vecs, second_vecs)]\n",
    "U = gprod(inter_plane_rotors)\n",
    "terms_ratio(U.sw(blades[0]), blades[1])"
   ]
  },
  {
   "cell_type": "code",
   "execution_count": 171,
   "metadata": {},
   "outputs": [
    {
     "data": {
      "text/plain": [
       "'(0.5599948809267774, 0.1941611108820589, 0.39841780216681666, 0.25742784815426867)'"
      ]
     },
     "execution_count": 171,
     "metadata": {},
     "output_type": "execute_result"
    }
   ],
   "source": [
    "f\"{x[1:]}\""
   ]
  },
  {
   "cell_type": "code",
   "execution_count": 172,
   "metadata": {},
   "outputs": [
    {
     "data": {
      "text/plain": [
       "(-0.125 𝐞₁₂ + 0.606 𝐞₁₃ + 0.751 𝐞₁₄ + -0.03 𝐞₁₅ + 0.684 𝐞₂₃ + -0.634 𝐞₂₄ + 0.173 𝐞₂₅ + -0.163 𝐞₃₄ + -0.355 𝐞₃₅ + 0.0338 𝐞₄₅,\n",
       " -0.125 𝐞₁₂ + 0.606 𝐞₁₃ + 0.751 𝐞₁₄ + -0.03 𝐞₁₅ + 0.684 𝐞₂₃ + -0.634 𝐞₂₄ + 0.173 𝐞₂₅ + -0.163 𝐞₃₄ + -0.355 𝐞₃₅ + 0.0338 𝐞₄₅)"
      ]
     },
     "execution_count": 172,
     "metadata": {},
     "output_type": "execute_result"
    }
   ],
   "source": [
    "G_normalized = sum(blades)\n",
    "G_normalized, U.sw(G_normalized)"
   ]
  },
  {
   "cell_type": "code",
   "execution_count": 173,
   "metadata": {},
   "outputs": [
    {
     "data": {
      "text/plain": [
       "(-0.172 𝐞₁₂ + 0.376 𝐞₁₃ + 0.272 𝐞₁₄ + -0.0315 𝐞₁₅ + 0.472 𝐞₂₃ + -0.271 𝐞₂₄ + 0.126 𝐞₂₅ + 0.0237 𝐞₃₄ + -0.246 𝐞₃₅ + 0.0148 𝐞₄₅,\n",
       " -0.172 𝐞₁₂ + 0.376 𝐞₁₃ + 0.272 𝐞₁₄ + -0.0315 𝐞₁₅ + 0.472 𝐞₂₃ + -0.271 𝐞₂₄ + 0.126 𝐞₂₅ + 0.0237 𝐞₃₄ + -0.246 𝐞₃₅ + 0.0148 𝐞₄₅)"
      ]
     },
     "execution_count": 173,
     "metadata": {},
     "output_type": "execute_result"
    }
   ],
   "source": [
    "# we can recover this \"normalization\"\n",
    "sum(P(G_normalized, b) * n for b, n in zip(blades, blades_norm)), G"
   ]
  },
  {
   "cell_type": "code",
   "execution_count": 174,
   "metadata": {},
   "outputs": [
    {
     "data": {
      "text/plain": [
       "[(-1.79e-17, ('f', 'f')),\n",
       " (1.65e-17, ('f', 'fp')),\n",
       " (-1.0, ('f', 's')),\n",
       " (-2.34e-17, ('f', 'sp')),\n",
       " (-8.67e-18, ('fp', 'f')),\n",
       " (-8.33e-17, ('fp', 'fp')),\n",
       " (-1.08e-16, ('fp', 's')),\n",
       " (-1.0, ('fp', 'sp')),\n",
       " (1.0, ('s', 'f')),\n",
       " (1.06e-16, ('s', 'fp')),\n",
       " (-6.43e-17, ('s', 's')),\n",
       " (4.34e-17, ('s', 'sp')),\n",
       " (1.11e-16, ('sp', 'f')),\n",
       " (1.0, ('sp', 'fp')),\n",
       " (-7.03e-17, ('sp', 's')),\n",
       " (, ('sp', 'sp'))]"
      ]
     },
     "execution_count": 174,
     "metadata": {},
     "output_type": "execute_result"
    }
   ],
   "source": [
    "#7.21 zero if not onto the decomposed blades \n",
    "sympletic_basis = first_vecs + second_vecs\n",
    "list(zip((v | (w | G_normalized) for v, w in product(sympletic_basis, repeat=2)), (product(['f', 'fp', 's', 'sp'], repeat=2))))"
   ]
  },
  {
   "cell_type": "code",
   "execution_count": 175,
   "metadata": {},
   "outputs": [
    {
     "data": {
      "text/plain": [
       "([2.48e-17 𝐞₁ + 0.303 𝐞₂ + 0.186 𝐞₃ + 0.934 𝐞₄ + 0.0376 𝐞₅,\n",
       "  0.46 𝐞₁ + 7.87e-17 𝐞₂ + 0.838 𝐞₃ + -0.176 𝐞₄ + 0.235 𝐞₅,\n",
       "  -0.775 𝐞₁ + 0.459 𝐞₂ + 0.373 𝐞₃ + -0.224 𝐞₄ + 0.0181 𝐞₅,\n",
       "  -0.368 𝐞₁ + -0.783 𝐞₂ + 0.333 𝐞₃ + 0.201 𝐞₄ + -0.317 𝐞₅],\n",
       " [0.775 𝐞₁ + -0.459 𝐞₂ + -0.373 𝐞₃ + 0.224 𝐞₄ + -0.0181 𝐞₅,\n",
       "  0.368 𝐞₁ + 0.783 𝐞₂ + -0.333 𝐞₃ + -0.201 𝐞₄ + 0.317 𝐞₅,\n",
       "  -2.11e-17 𝐞₁ + 0.303 𝐞₂ + 0.186 𝐞₃ + 0.934 𝐞₄ + 0.0376 𝐞₅,\n",
       "  0.46 𝐞₁ + 0.838 𝐞₃ + -0.176 𝐞₄ + 0.235 𝐞₅])"
      ]
     },
     "execution_count": 175,
     "metadata": {},
     "output_type": "execute_result"
    }
   ],
   "source": [
    "# Recover the normalization\n",
    "[gm(v)/n for v, n in zip(sympletic_basis, blades_norm*2)], sympletic_basis"
   ]
  },
  {
   "cell_type": "code",
   "execution_count": 176,
   "metadata": {},
   "outputs": [
    {
     "data": {
      "text/plain": [
       "(-0.125 𝐞₁₂ + 0.606 𝐞₁₃ + 0.751 𝐞₁₄ + -0.03 𝐞₁₅ + 0.684 𝐞₂₃ + -0.634 𝐞₂₄ + 0.173 𝐞₂₅ + -0.163 𝐞₃₄ + -0.355 𝐞₃₅ + 0.0338 𝐞₄₅,\n",
       " -0.125 𝐞₁₂ + 0.606 𝐞₁₃ + 0.751 𝐞₁₄ + -0.03 𝐞₁₅ + 0.684 𝐞₂₃ + -0.634 𝐞₂₄ + 0.173 𝐞₂₅ + -0.163 𝐞₃₄ + -0.355 𝐞₃₅ + 0.0338 𝐞₄₅,\n",
       " -0.172 𝐞₁₂ + 0.376 𝐞₁₃ + 0.272 𝐞₁₄ + -0.0315 𝐞₁₅ + 0.472 𝐞₂₃ + -0.271 𝐞₂₄ + 0.126 𝐞₂₅ + 0.0237 𝐞₃₄ + -0.246 𝐞₃₅ + 0.0148 𝐞₄₅,\n",
       " -0.172 𝐞₁₂ + 0.376 𝐞₁₃ + 0.272 𝐞₁₄ + -0.0315 𝐞₁₅ + 0.472 𝐞₂₃ + -0.271 𝐞₂₄ + 0.126 𝐞₂₅ + 0.0237 𝐞₃₄ + -0.246 𝐞₃₅ + 0.0148 𝐞₄₅)"
      ]
     },
     "execution_count": 176,
     "metadata": {},
     "output_type": "execute_result"
    }
   ],
   "source": [
    "#7.26a symplectic transformations of gm (isometries of skew bilinear form)\n",
    "# conditions: unity and sympletic basis\n",
    "translation = lambda x: (\n",
    "    x + \n",
    "    2*(x|second_vecs[1]) * first_vecs[1] + \n",
    "    3*(x|second_vecs[0]) * first_vecs[0]\n",
    "    )\n",
    "\n",
    "outermorphism(translation, G_normalized, alg), G_normalized, outermorphism(translation, G, alg), G"
   ]
  },
  {
   "cell_type": "code",
   "execution_count": 177,
   "metadata": {},
   "outputs": [
    {
     "data": {
      "text/plain": [
       "(-0.125 𝐞₁₂ + 0.606 𝐞₁₃ + 0.751 𝐞₁₄ + -0.03 𝐞₁₅ + 0.684 𝐞₂₃ + -0.634 𝐞₂₄ + 0.173 𝐞₂₅ + -0.163 𝐞₃₄ + -0.355 𝐞₃₅ + 0.0338 𝐞₄₅,\n",
       " -0.125 𝐞₁₂ + 0.606 𝐞₁₃ + 0.751 𝐞₁₄ + -0.03 𝐞₁₅ + 0.684 𝐞₂₃ + -0.634 𝐞₂₄ + 0.173 𝐞₂₅ + -0.163 𝐞₃₄ + -0.355 𝐞₃₅ + 0.0338 𝐞₄₅,\n",
       " -0.172 𝐞₁₂ + 0.376 𝐞₁₃ + 0.272 𝐞₁₄ + -0.0315 𝐞₁₅ + 0.472 𝐞₂₃ + -0.271 𝐞₂₄ + 0.126 𝐞₂₅ + 0.0237 𝐞₃₄ + -0.246 𝐞₃₅ + 0.0148 𝐞₄₅,\n",
       " -0.172 𝐞₁₂ + 0.376 𝐞₁₃ + 0.272 𝐞₁₄ + -0.0315 𝐞₁₅ + 0.472 𝐞₂₃ + -0.271 𝐞₂₄ + 0.126 𝐞₂₅ + 0.0237 𝐞₃₄ + -0.246 𝐞₃₅ + 0.0148 𝐞₄₅)"
      ]
     },
     "execution_count": 177,
     "metadata": {},
     "output_type": "execute_result"
    }
   ],
   "source": [
    "#7.26b\n",
    "rotation = lambda x: (\n",
    "    x + \n",
    "    4*((x|first_vecs[1]) * second_vecs[1] + (x|second_vecs[0]) * first_vecs[0])\n",
    "    )\n",
    "\n",
    "outermorphism(rotation, G_normalized, alg), G_normalized, outermorphism(rotation, G, alg), G"
   ]
  },
  {
   "cell_type": "code",
   "execution_count": 178,
   "metadata": {},
   "outputs": [
    {
     "data": {
      "text/plain": [
       "(-0.172 𝐞₁₂ + 0.376 𝐞₁₃ + 0.272 𝐞₁₄ + -0.0315 𝐞₁₅ + 0.472 𝐞₂₃ + -0.271 𝐞₂₄ + 0.126 𝐞₂₅ + 0.0237 𝐞₃₄ + -0.246 𝐞₃₅ + 0.0148 𝐞₄₅,\n",
       " -0.172 𝐞₁₂ + 0.376 𝐞₁₃ + 0.272 𝐞₁₄ + -0.0315 𝐞₁₅ + 0.472 𝐞₂₃ + -0.271 𝐞₂₄ + 0.126 𝐞₂₅ + 0.0237 𝐞₃₄ + -0.246 𝐞₃₅ + 0.0148 𝐞₄₅)"
      ]
     },
     "execution_count": 178,
     "metadata": {},
     "output_type": "execute_result"
    }
   ],
   "source": [
    "#7.26c\n",
    "outermorphism(lambda x: rotation(translation(x)), G, alg), G"
   ]
  },
  {
   "cell_type": "code",
   "execution_count": 179,
   "metadata": {},
   "outputs": [
    {
     "data": {
      "text/plain": [
       "(3.6,\n",
       " 3.6 + -3.78e-18 𝐞₁₂₃₄ + 5.64e-18 𝐞₁₂₃₅ + -3.46e-18 𝐞₁₂₄₅ + 5.39e-18 𝐞₁₃₄₅ + -5.35e-18 𝐞₂₃₄₅,\n",
       " 3.6 + -3.03e-17 𝐞₁₂₃₄ + 2.67e-17 𝐞₁₂₃₅ + -2.31e-17 𝐞₁₂₄₅ + 3.1e-17 𝐞₁₃₄₅ + -2.37e-17 𝐞₂₃₄₅)"
      ]
     },
     "execution_count": 179,
     "metadata": {},
     "output_type": "execute_result"
    }
   ],
   "source": [
    "#7.28\n",
    "gp = sym_part(g, alg)\n",
    "matrix = trans2matrix(gp, alg)\n",
    "eigvalues, eigvecs = np.linalg.eigh(matrix)\n",
    "eigvecs = [alg.vector(v) for v in eigvecs.transpose()]\n",
    "neg_vecs, pos_vecs, null_vecs = [], [], []\n",
    "for e, v in zip(eigvalues, eigvecs):\n",
    "    if e < -1e-6:\n",
    "        neg_vecs.append(v)\n",
    "    elif e > 1e-6:\n",
    "        pos_vecs.append(v)\n",
    "    else:\n",
    "        null_vecs.append(v)\n",
    "\n",
    "neg_blade = wedge(neg_vecs)\n",
    "nv_sign = (-1) ** len(neg_vecs) \n",
    "c = lambda x: nv_sign*neg_blade.sw(x)\n",
    "h = lambda x: sum(np.sqrt(abs(e)) * P(x, v) for e, v in zip(eigvalues, eigvecs))\n",
    "\n",
    "x | gp(b), h(x)|c(h(b)), c(x)|h(h(b))"
   ]
  },
  {
   "cell_type": "code",
   "execution_count": 196,
   "metadata": {},
   "outputs": [
    {
     "data": {
      "text/plain": [
       "(True,\n",
       " 0.676 𝐞₁ + 0.56 𝐞₂ + 0.194 𝐞₃ + 0.398 𝐞₄ + 0.257 𝐞₅,\n",
       " 1.08 𝐞₁ + 1.2 𝐞₂ + -2.66 𝐞₃ + -1.05 𝐞₄ + 0.0712 𝐞₅ + 9.66e-35 𝐞₁₂₃ + -7.27e-34 𝐞₁₂₄ + -1.54e-33 𝐞₁₃₄ + 1.82e-34 𝐞₁₃₅ + 7.02e-34 𝐞₁₄₅ + -4.27e-34 𝐞₂₃₄ + 3.3e-33 𝐞₂₃₅ + -8.17e-34 𝐞₂₄₅ + -6.81e-34 𝐞₃₄₅)"
      ]
     },
     "execution_count": 196,
     "metadata": {},
     "output_type": "execute_result"
    }
   ],
   "source": [
    "#7.28 If the symmetric transformation is positive definite (Euclidean metric)\n",
    "gpp = lambda x: sum(abs(e) * P(x, v) for e, v in zip(eigvalues, eigvecs))\n",
    "hinv = lambda x: sum(1/np.sqrt(abs(e)) * P(x, v) for e, v in zip(eigvalues, eigvecs))\n",
    "r = 3 # a arbitrary integer <= n\n",
    "O = normalize(random_versor(r, alg))\n",
    "f = lambda x: -hinv(O.sw(h(x)))\n",
    "check_isometry(f, alg, gpp), x, f(x)"
   ]
  },
  {
   "cell_type": "code",
   "execution_count": 197,
   "metadata": {},
   "outputs": [
    {
     "data": {
      "text/plain": [
       "(False,\n",
       " -1.08 𝐞₁ + -1.2 𝐞₂ + 2.66 𝐞₃ + 1.05 𝐞₄ + -0.0712 𝐞₅ + -9.66e-35 𝐞₁₂₃ + 7.27e-34 𝐞₁₂₄ + 1.54e-33 𝐞₁₃₄ + -1.82e-34 𝐞₁₃₅ + -7.02e-34 𝐞₁₄₅ + 4.27e-34 𝐞₂₃₄ + -3.3e-33 𝐞₂₃₅ + 8.17e-34 𝐞₂₄₅ + 6.81e-34 𝐞₃₄₅)"
      ]
     },
     "execution_count": 197,
     "metadata": {},
     "output_type": "execute_result"
    }
   ],
   "source": [
    "# But if gp is not positive definite, an orthogonal transform may not be an isometry\n",
    "f = lambda x: hinv(O.sw(h(x)))\n",
    "check_isometry(f, alg, gp), f(x)"
   ]
  },
  {
   "cell_type": "code",
   "execution_count": 182,
   "metadata": {},
   "outputs": [
    {
     "data": {
      "text/plain": [
       "(-0.0974 𝐞₁₂ + 0.462 𝐞₁₃ + -0.123 𝐞₁₄ + -0.154 𝐞₁₅ + -0.694 𝐞₂₃ + 0.19 𝐞₂₄ + 0.305 𝐞₂₅ + -0.0197 𝐞₃₄ + -0.346 𝐞₃₅ + 0.0858 𝐞₄₅,\n",
       " 1.34 + -8.04e-18 𝐞₁₂₃₄ + 1.24e-17 𝐞₁₂₃₅ + -6.06e-18 𝐞₁₂₄₅ + 1.75e-17 𝐞₁₃₄₅ + -2.11e-17 𝐞₂₃₄₅,\n",
       " 1.34)"
      ]
     },
     "execution_count": 182,
     "metadata": {},
     "output_type": "execute_result"
    }
   ],
   "source": [
    "#7.33 Signature: the inner product under metric c splits into two part, according to neg_blade\n",
    "def ortho_split(x, A):\n",
    "    xp = P(x, A)\n",
    "    return xp, x-xp\n",
    "\n",
    "xp, xo = ortho_split(x, neg_blade)\n",
    "bp, bo = ortho_split(b, neg_blade)\n",
    "neg_blade, x | c(b), (xo | bo) - (xp | bp)\n"
   ]
  },
  {
   "cell_type": "code",
   "execution_count": 195,
   "metadata": {},
   "outputs": [
    {
     "data": {
      "text/plain": [
       "(-0.0974 𝐞₁₂ + 0.462 𝐞₁₃ + -0.123 𝐞₁₄ + -0.154 𝐞₁₅ + -0.694 𝐞₂₃ + 0.19 𝐞₂₄ + 0.305 𝐞₂₅ + -0.0197 𝐞₃₄ + -0.346 𝐞₃₅ + 0.0858 𝐞₄₅,\n",
       " -0.0974 𝐞₁₂ + 0.462 𝐞₁₃ + -0.123 𝐞₁₄ + -0.154 𝐞₁₅ + -0.694 𝐞₂₃ + 0.19 𝐞₂₄ + 0.305 𝐞₂₅ + -0.0197 𝐞₃₄ + -0.346 𝐞₃₅ + 0.0858 𝐞₄₅,\n",
       " True)"
      ]
     },
     "execution_count": 195,
     "metadata": {},
     "output_type": "execute_result"
    }
   ],
   "source": [
    "# If R is a rotor (see next section) preserves the reflected subspace (neg_blade)\n",
    "# Then R is an isometry\n",
    "R = 1\n",
    "if len(neg_vecs) >= 2:\n",
    "    R *= blade_exp(3.3 * wedge(neg_vecs[:2]))\n",
    "if len(pos_vecs) >= 2:\n",
    "    R *= blade_exp(5.5 * wedge(pos_vecs[-2:]))\n",
    "f = lambda x: hinv(R.sw(h(x)))\n",
    "\n",
    "R.sw(neg_blade), neg_blade, check_isometry(f, alg, gp)"
   ]
  },
  {
   "cell_type": "code",
   "execution_count": 184,
   "metadata": {},
   "outputs": [],
   "source": [
    "def random_linear_comb(vectors, normalized=True):\n",
    "    comb = sum(np.random.rand() * v for v in vectors)\n",
    "    if normalized:\n",
    "        return normalize(comb)\n",
    "    return comb"
   ]
  },
  {
   "cell_type": "code",
   "execution_count": 199,
   "metadata": {},
   "outputs": [
    {
     "data": {
      "text/plain": [
       "(0.0974 𝐞₁₂ + -0.462 𝐞₁₃ + 0.123 𝐞₁₄ + 0.154 𝐞₁₅ + 0.694 𝐞₂₃ + -0.19 𝐞₂₄ + -0.305 𝐞₂₅ + 0.0197 𝐞₃₄ + 0.346 𝐞₃₅ + -0.0858 𝐞₄₅,\n",
       " -0.0974 𝐞₁₂ + 0.462 𝐞₁₃ + -0.123 𝐞₁₄ + -0.154 𝐞₁₅ + -0.694 𝐞₂₃ + 0.19 𝐞₂₄ + 0.305 𝐞₂₅ + -0.0197 𝐞₃₄ + -0.346 𝐞₃₅ + 0.0858 𝐞₄₅,\n",
       " True)"
      ]
     },
     "execution_count": 199,
     "metadata": {},
     "output_type": "execute_result"
    }
   ],
   "source": [
    "# If R is a spinor preserves the reflected subspace (neg_blade)\n",
    "# Then R is an isometry\n",
    "R = 1\n",
    "if len(neg_vecs) >= 2:\n",
    "    R *= blade_exp(3.3 * wedge(neg_vecs[:2]))\n",
    "if len(pos_vecs) >= 2:\n",
    "    R *= blade_exp(5.5 * wedge(pos_vecs[:2]))\n",
    "R *= random_linear_comb(pos_vecs)\n",
    "R *= random_linear_comb(neg_vecs)\n",
    "f = lambda x: hinv(R.sw(h(x)))\n",
    "\n",
    "R.sw(neg_blade), neg_blade, check_isometry(f, alg, gp)"
   ]
  },
  {
   "cell_type": "code",
   "execution_count": 200,
   "metadata": {},
   "outputs": [
    {
     "data": {
      "text/plain": [
       "(-0.0974 𝐞₁₂ + 0.462 𝐞₁₃ + -0.123 𝐞₁₄ + -0.154 𝐞₁₅ + -0.694 𝐞₂₃ + 0.19 𝐞₂₄ + 0.305 𝐞₂₅ + -0.0197 𝐞₃₄ + -0.346 𝐞₃₅ + 0.0858 𝐞₄₅,\n",
       " -0.0974 𝐞₁₂ + 0.462 𝐞₁₃ + -0.123 𝐞₁₄ + -0.154 𝐞₁₅ + -0.694 𝐞₂₃ + 0.19 𝐞₂₄ + 0.305 𝐞₂₅ + -0.0197 𝐞₃₄ + -0.346 𝐞₃₅ + 0.0858 𝐞₄₅,\n",
       " True)"
      ]
     },
     "execution_count": 200,
     "metadata": {},
     "output_type": "execute_result"
    }
   ],
   "source": [
    "# Simplify the above as versors\n",
    "R = gprod(random_linear_comb(pos_vecs) for _ in range(5))\n",
    "R *= gprod(random_linear_comb(neg_vecs) for _ in range(5))\n",
    "f = lambda x: hinv(R.sw(h(x)))\n",
    "\n",
    "R.sw(neg_blade), neg_blade, check_isometry(f, alg, gp)"
   ]
  },
  {
   "cell_type": "markdown",
   "metadata": {},
   "source": [
    "A versor in G(n-k, k) is an isometry of the inner product. How does this isometry correspond to the isometry of a metric of signature (n-k, k)?"
   ]
  },
  {
   "cell_type": "code",
   "execution_count": 204,
   "metadata": {},
   "outputs": [
    {
     "data": {
      "text/plain": [
       "((3, 2), True)"
      ]
     },
     "execution_count": 204,
     "metadata": {},
     "output_type": "execute_result"
    }
   ],
   "source": [
    "signature = (len(pos_vecs), len(neg_vecs))\n",
    "pseudo = Algebra(*signature)\n",
    "locals().update(pseudo.blades)\n",
    "O = normalize(random_versor(1, pseudo))\n",
    "\n",
    "signature, check_isometry(lambda x: O.sw(x), pseudo)"
   ]
  },
  {
   "cell_type": "code",
   "execution_count": 205,
   "metadata": {},
   "outputs": [
    {
     "data": {
      "text/plain": [
       "[(),\n",
       " (0,),\n",
       " (1,),\n",
       " (2,),\n",
       " (3,),\n",
       " (4,),\n",
       " (0, 1),\n",
       " (0, 2),\n",
       " (0, 3),\n",
       " (0, 4),\n",
       " (1, 2),\n",
       " (1, 3),\n",
       " (1, 4),\n",
       " (2, 3),\n",
       " (2, 4),\n",
       " (3, 4),\n",
       " (0, 1, 2),\n",
       " (0, 1, 3),\n",
       " (0, 1, 4),\n",
       " (0, 2, 3),\n",
       " (0, 2, 4),\n",
       " (0, 3, 4),\n",
       " (1, 2, 3),\n",
       " (1, 2, 4),\n",
       " (1, 3, 4),\n",
       " (2, 3, 4),\n",
       " (0, 1, 2, 3),\n",
       " (0, 1, 2, 4),\n",
       " (0, 1, 3, 4),\n",
       " (0, 2, 3, 4),\n",
       " (1, 2, 3, 4),\n",
       " (0, 1, 2, 3, 4)]"
      ]
     },
     "execution_count": 205,
     "metadata": {},
     "output_type": "execute_result"
    }
   ],
   "source": [
    "blade_names = pseudo.blades.blades.keys()\n",
    "def parse_e_string(e_string):\n",
    "    # Extract the numeric part of the string and convert each character to an integer\n",
    "    return tuple(int(char) - 1 for char in e_string[1:])\n",
    "\n",
    "[parse_e_string(k) for k in blade_names]"
   ]
  },
  {
   "cell_type": "code",
   "execution_count": 206,
   "metadata": {},
   "outputs": [
    {
     "data": {
      "text/plain": [
       "(False, -1.55 𝐞₁ + -2.05 𝐞₂ + 0.317 𝐞₃ + 1.5 𝐞₄ + 0.253 𝐞₅)"
      ]
     },
     "execution_count": 206,
     "metadata": {},
     "output_type": "execute_result"
    }
   ],
   "source": [
    "R = 0\n",
    "bases = pos_vecs + neg_vecs\n",
    "for key in blade_names:\n",
    "    indices = parse_e_string(key)\n",
    "    mv = wedge([bases[i] for i in indices])\n",
    "    R += O[key] * mv\n",
    "R = normalize(R)\n",
    "f = lambda x: hinv(R.sw(h(x)))\n",
    "check_isometry(f, alg, gp), f(x)"
   ]
  },
  {
   "cell_type": "markdown",
   "metadata": {},
   "source": [
    "So a rotation preserves the reflected subspace is an isometry. Any other isometry? The above we split the space into pos_vecs and neg_vecs. The metric's signature encode such split. The next section we encode the metric into the algebra. So an orthogonal transform becomes an isometry of the vector space."
   ]
  },
  {
   "cell_type": "code",
   "execution_count": 208,
   "metadata": {},
   "outputs": [
    {
     "data": {
      "text/plain": [
       "(-0.126, -0.126)"
      ]
     },
     "execution_count": 208,
     "metadata": {},
     "output_type": "execute_result"
    }
   ],
   "source": [
    "#8.2 simple reflection\n",
    "x, y, u = random_r_vectors(3, pseudo)\n",
    "u = normalize(u)\n",
    "R = lambda x: - u.sw(x)\n",
    "R(x) | R(y), x | y"
   ]
  },
  {
   "cell_type": "markdown",
   "metadata": {},
   "source": [
    "Cartan-Dieudonne theorem: An isometry is a composition of at most d reflections. Identifying invariants of isometries as elements of geometry leads to modern developments."
   ]
  },
  {
   "cell_type": "code",
   "execution_count": 209,
   "metadata": {},
   "outputs": [
    {
     "data": {
      "text/plain": [
       "(-0.126,\n",
       " -0.126 + 5.4e-16 𝐞₁₂₃₄ + 3.44e-16 𝐞₁₂₃₅ + -5.6e-16 𝐞₁₂₄₅ + -2.56e-16 𝐞₁₃₄₅ + 5.7e-17 𝐞₂₃₄₅)"
      ]
     },
     "execution_count": 209,
     "metadata": {},
     "output_type": "execute_result"
    }
   ],
   "source": [
    "#8.3 Cartan-Dieudonne theorem: An isometry is a composition of at most d reflections.\n",
    "k = 3 # k <= d\n",
    "vectors = random_r_vectors(k, pseudo)\n",
    "p = sum((v**2)[0] > 0 for v in vectors)\n",
    "U = gprod(vectors) # a versor, of either even or odd grades\n",
    "# f = lambda x: (-1) ** k * U * x / U\n",
    "f = lambda x: (-1) ** p * U.sw(x) / normsq(U) #8.8b\n",
    "x | y, f(x) | f(y)"
   ]
  },
  {
   "cell_type": "code",
   "execution_count": 210,
   "metadata": {},
   "outputs": [
    {
     "name": "stdout",
     "output_type": "stream",
     "text": [
      "2 1.0 + -1.11e-16 𝐞₁₂ + -5.55e-17 𝐞₁₃ + 2.5e-16 𝐞₁₄ + -1.04e-17 𝐞₁₅ + -1.05e-16 𝐞₂₄ + -3.33e-16 𝐞₂₅ + 1.11e-16 𝐞₃₅ + -2.22e-16 𝐞₄₅ + 5.55e-17 𝐞₁₂₃₄ + -1.11e-16 𝐞₁₂₃₅ + -1.8e-16 𝐞₁₂₄₅ + -5.55e-17 𝐞₁₃₄₅\n",
      "2 1.0 + -2.22e-16 𝐞₁₂ + 5.27e-16 𝐞₁₃ + -1.61e-15 𝐞₁₄ + 1.11e-16 𝐞₁₅ + 1.11e-16 𝐞₂₄ + 5.55e-16 𝐞₂₅ + 4.44e-16 𝐞₃₄ + 8.88e-16 𝐞₃₅ + 2.22e-16 𝐞₄₅ + 1.78e-15 𝐞₁₂₃₄ + -2.08e-15 𝐞₁₂₃₅ + 3.89e-16 𝐞₁₂₄₅ + 3.11e-15 𝐞₁₃₄₅ + -2e-15 𝐞₂₃₄₅\n",
      "0 1.0 + 1.11e-16 𝐞₁₄ + 1.11e-16 𝐞₁₅ + -2.78e-17 𝐞₂₃ + 4.86e-17 𝐞₂₄ + -2.43e-17 𝐞₃₄ + -5.55e-17 𝐞₃₅ + 9.97e-17 𝐞₄₅ + -8.33e-17 𝐞₁₂₃₄ + 1.11e-16 𝐞₁₂₃₅ + 1.11e-16 𝐞₁₂₄₅ + 1.11e-16 𝐞₁₃₄₅ + 3.05e-16 𝐞₂₃₄₅\n",
      "1 -1.0 + -1.8e-16 𝐞₁₃ + -3.12e-17 𝐞₁₄ + -4.86e-17 𝐞₁₅ + -2.91e-16 𝐞₂₃ + -3.47e-17 𝐞₂₄ + -2.78e-17 𝐞₂₅ + -6.25e-17 𝐞₃₄ + -5.55e-17 𝐞₃₅ + 3.47e-17 𝐞₄₅ + -3.49e-16 𝐞₁₂₃₄ + 8.33e-17 𝐞₁₂₃₅ + 3.58e-18 𝐞₁₂₄₅ + 1.25e-16 𝐞₁₃₄₅ + 2.5e-16 𝐞₂₃₄₅\n",
      "1 -1.0 + 5.55e-17 𝐞₁₃ + 4.16e-17 𝐞₁₄ + -1.39e-17 𝐞₁₅ + -2.78e-17 𝐞₂₃ + 3.12e-17 𝐞₂₄ + -1.21e-17 𝐞₂₅ + -2.78e-17 𝐞₃₄ + 2.78e-17 𝐞₃₅ + -6.94e-18 𝐞₄₅ + -4.16e-17 𝐞₁₂₃₄ + 9.02e-17 𝐞₁₂₃₅ + 5.38e-17 𝐞₁₂₄₅ + -6.94e-17 𝐞₁₃₄₅ + -6.25e-17 𝐞₂₃₄₅\n",
      "1 -1.0 + -1.11e-16 𝐞₁₂ + -5.55e-17 𝐞₁₃ + 2.22e-16 𝐞₁₄ + 3.33e-16 𝐞₁₅ + 2.22e-16 𝐞₃₄ + -1.94e-16 𝐞₁₂₃₄ + -2.22e-16 𝐞₁₂₃₅ + -8.88e-16 𝐞₁₂₄₅ + 1.55e-15 𝐞₁₃₄₅ + -3.33e-16 𝐞₂₃₄₅\n",
      "2 1.0 + 1.73e-18 𝐞₁₂ + -1.73e-17 𝐞₁₄ + -2.08e-17 𝐞₁₅ + 7.63e-17 𝐞₂₄ + -1.08e-16 𝐞₂₅ + -2.78e-17 𝐞₃₄ + 2.08e-17 𝐞₃₅ + -1.17e-17 𝐞₄₅ + 4.16e-17 𝐞₁₂₃₄ + 7.63e-17 𝐞₁₂₃₅ + 1.53e-16 𝐞₁₂₄₅ + -8.33e-17 𝐞₁₃₄₅ + -6.94e-17 𝐞₂₃₄₅\n",
      "0 1.0 + -3.47e-18 𝐞₁₂ + 5.55e-17 𝐞₁₃ + 2.79e-17 𝐞₁₄ + 1.04e-17 𝐞₁₅ + 1.39e-17 𝐞₂₃ + -4.51e-17 𝐞₂₄ + -1.39e-17 𝐞₂₅ + -2.78e-17 𝐞₃₄ + -8.33e-17 𝐞₃₅ + 2.78e-17 𝐞₄₅ + 1.94e-16 𝐞₁₂₃₄ + -6.94e-18 𝐞₁₂₃₅ + -1.28e-16 𝐞₁₂₄₅ + 6.94e-17 𝐞₁₃₄₅ + 8.33e-17 𝐞₂₃₄₅\n",
      "1 -1.0 + 2.22e-16 𝐞₁₃ + -8.88e-16 𝐞₁₅ + -2.22e-16 𝐞₂₃ + 2.78e-16 𝐞₂₄ + -5e-16 𝐞₂₅ + -2.22e-16 𝐞₃₄ + 2.22e-16 𝐞₄₅ + 2.33e-15 𝐞₁₂₃₄ + -2.03e-15 𝐞₁₂₃₅ + -5.5e-15 𝐞₁₂₄₅ + 4.44e-16 𝐞₁₃₄₅ + -5.55e-16 𝐞₂₃₄₅\n",
      "1 -1.0 + -5.55e-17 𝐞₁₂ + 1.65e-17 𝐞₁₃ + 3.47e-17 𝐞₁₄ + -2.95e-17 𝐞₁₅ + 5.2e-18 𝐞₂₃ + -1.78e-17 𝐞₂₄ + 7.81e-18 𝐞₂₅ + -3.12e-17 𝐞₃₄ + 6.25e-17 𝐞₃₅ + -6.07e-17 𝐞₄₅ + 1.11e-16 𝐞₁₂₃₄ + -5.55e-17 𝐞₁₂₃₅ + -4.16e-17 𝐞₁₂₄₅ + 9.71e-17 𝐞₁₃₄₅ + -1.84e-16 𝐞₂₃₄₅\n"
     ]
    }
   ],
   "source": [
    "#8.8\n",
    "def random_versor(r, alg):\n",
    "    return gprod(random_r_vectors(r, alg))\n",
    "\n",
    "def random_versor_(r, alg):\n",
    "    vectors = random_r_vectors(r, alg)\n",
    "    p = sum((v**2)[0] > 0 for v in vectors)\n",
    "    return gprod(vectors), p\n",
    "k = 3\n",
    "for _ in range(10):\n",
    "    U, p = random_versor_(k, pseudo)\n",
    "    U = normalize(U)\n",
    "    print(k - p, U.reverse() * U)"
   ]
  },
  {
   "cell_type": "code",
   "execution_count": 211,
   "metadata": {},
   "outputs": [
    {
     "data": {
      "text/plain": [
       "(-0.27 𝐞₁ + -0.794 𝐞₂ + -0.214 𝐞₃ + -0.581 𝐞₄ + -0.637 𝐞₅ + 1.28e-16 𝐞₁₂₃₄₅,\n",
       " -0.27 𝐞₁ + -0.794 𝐞₂ + -0.214 𝐞₃ + -0.581 𝐞₄ + -0.637 𝐞₅ + 1.28e-16 𝐞₁₂₃₄₅)"
      ]
     },
     "execution_count": 211,
     "metadata": {},
     "output_type": "execute_result"
    }
   ],
   "source": [
    "# versors (Pin) are 2:1 homomorphisc to orthogonal transformations (O)\n",
    "U = random_versor(3, pseudo)\n",
    "U.sw(x), (-U).sw(x)"
   ]
  },
  {
   "cell_type": "code",
   "execution_count": 212,
   "metadata": {},
   "outputs": [
    {
     "data": {
      "text/plain": [
       "(0.968 𝐞₁ + 0.352 𝐞₂ + 0.0997 𝐞₃ + 0.669 𝐞₄ + 0.754 𝐞₅,\n",
       " 0.968 𝐞₁ + 0.352 𝐞₂ + 0.0997 𝐞₃ + 0.669 𝐞₄ + 0.754 𝐞₅)"
      ]
     },
     "execution_count": 212,
     "metadata": {},
     "output_type": "execute_result"
    }
   ],
   "source": [
    "#8.5\n",
    "I = pseudo.pseudoscalar((1,))\n",
    "I.sw(x), x"
   ]
  },
  {
   "cell_type": "code",
   "execution_count": 213,
   "metadata": {},
   "outputs": [
    {
     "name": "stdout",
     "output_type": "stream",
     "text": [
      "1 1.0 𝐞₁₂₃₄₅\n",
      "2 1.0 𝐞₁₂₃₄₅\n",
      "3 1.0 𝐞₁₂₃₄₅\n",
      "4 1.0 𝐞₁₂₃₄₅\n"
     ]
    }
   ],
   "source": [
    "#8.7 orthogonal transformations (O) with determinant 1 (SO) correspond to even versors (Spin)\n",
    "for k in range(1,5):\n",
    "    U = gprod(random_r_vectors(k, pseudo)) # a versor, of either even or odd grades\n",
    "    f = lambda x: (-1) ** (k*pseudo.d) * U.sw(x)/normsq(U)\n",
    "    print(k, outermorphism(f, I, pseudo))"
   ]
  },
  {
   "cell_type": "code",
   "execution_count": 273,
   "metadata": {},
   "outputs": [
    {
     "data": {
      "text/plain": [
       "[(3, 1, 0, 0.652),\n",
       " (1, 3, 0, 0.653),\n",
       " (4, 1, 0, 0.7885),\n",
       " (3, 0, 1, 1.0),\n",
       " (2, 2, 0, 0.5035)]"
      ]
     },
     "execution_count": 273,
     "metadata": {},
     "output_type": "execute_result"
    }
   ],
   "source": [
    "#8.9 rotors (Spin+) are a part of even versors (Spin), correpond to a part of SO as rotations (SO+)\n",
    "def random_even_versor(alg):\n",
    "    d = alg.d\n",
    "    if (alg.d % 2):\n",
    "        d -= 1\n",
    "    return gprod(random_r_vectors(d, alg))\n",
    "\n",
    "\n",
    "def random_rotor(alg, max_iter=100, tol=1e-6):\n",
    "    for _ in range(max_iter):\n",
    "        S = random_even_versor(alg)\n",
    "        sign  = (S.reverse().sp(S))[0]\n",
    "        if sign > 0:\n",
    "            if S[0] < (-tol):\n",
    "                S *= -1\n",
    "            return normalize(S)\n",
    "        \n",
    "\n",
    "def random_rotor_count(alg, max_iter=100):\n",
    "    count = 0\n",
    "    for _ in range(max_iter):\n",
    "        S = random_even_versor(alg)\n",
    "        sign  = (S.reverse().sp(S))[0]\n",
    "        if sign > 0:\n",
    "            count += 1\n",
    "    return count\n",
    "\n",
    "[(p, q, r, random_rotor_count(Algebra(p, q, r), 2000)/2000) for p, q, r in ((3,1,0),(1,3,0),(4,1,0),(3,0,1),(2,2,0))]"
   ]
  },
  {
   "cell_type": "markdown",
   "metadata": {},
   "source": [
    "versors (Pin) are products of {1, a, b, ab} and a rotor, so to understand the connection of an isometry of an metric tensor and an isometry of an algebra, is to find the connection between G(1,1) and G(2)"
   ]
  },
  {
   "cell_type": "code",
   "execution_count": 215,
   "metadata": {},
   "outputs": [],
   "source": [
    "#8.12\n",
    "def random_simple_rotor(alg):\n",
    "    while True:\n",
    "        S = random_versor(2, alg)\n",
    "        sign  = (S.reverse().sp(S))[0]\n",
    "        if sign > 0:\n",
    "            return S/norm(S)"
   ]
  },
  {
   "cell_type": "code",
   "execution_count": 216,
   "metadata": {},
   "outputs": [
    {
     "data": {
      "text/plain": [
       "(-2.83 𝐞₁ + -3.51 𝐞₂ + -2.92 𝐞₃ + -1.72 𝐞₄ + -4.98 𝐞₅ + 8.67e-18 𝐞₁₂₃₄₅,\n",
       " -2.83 𝐞₁ + -3.51 𝐞₂ + -2.92 𝐞₃ + -1.72 𝐞₄ + -4.98 𝐞₅ + -5.63e-17 𝐞₁₂₃ + -2.01e-17 𝐞₁₂₄ + -4.89e-16 𝐞₁₂₅ + -4.56e-17 𝐞₁₃₄ + -4.75e-17 𝐞₁₃₅ + -5.55e-17 𝐞₁₄₅ + -9.46e-17 𝐞₂₃₄ + 2.04e-16 𝐞₂₃₅ + 2e-16 𝐞₂₄₅ + -1.59e-16 𝐞₃₄₅ + -8.09e-18 𝐞₁₂₃₄₅,\n",
       " 1.0 + 8.65e-17 𝐞₁₂₃₄ + -2.98e-17 𝐞₁₂₃₅ + -5.06e-17 𝐞₁₂₄₅ + 6.08e-17 𝐞₁₃₄₅ + -4.9e-17 𝐞₂₃₄₅,\n",
       " 1.0,\n",
       " 2.02 + 0.873 𝐞₁₂ + 0.318 𝐞₁₃ + 0.152 𝐞₁₄ + -0.261 𝐞₁₅ + -0.507 𝐞₂₃ + -0.342 𝐞₂₄ + -1.86 𝐞₂₅ + -0.0364 𝐞₃₄ + -0.829 𝐞₃₅ + -0.426 𝐞₄₅ + 9.49e-18 𝐞₁₂₃₄ + -4.01e-18 𝐞₁₂₃₅ + -7e-18 𝐞₁₂₄₅ + 9.92e-18 𝐞₁₃₄₅ + -5.84e-18 𝐞₂₃₄₅,\n",
       " 2.02 + 0.873 𝐞₁₂ + 0.318 𝐞₁₃ + 0.152 𝐞₁₄ + -0.261 𝐞₁₅ + -0.507 𝐞₂₃ + -0.342 𝐞₂₄ + -1.86 𝐞₂₅ + -0.0364 𝐞₃₄ + -0.829 𝐞₃₅ + -0.426 𝐞₄₅ + 9.54e-18 𝐞₁₂₃₄ + -5.55e-17 𝐞₁₂₃₅ + -4.16e-17 𝐞₂₃₄₅)"
      ]
     },
     "execution_count": 216,
     "metadata": {},
     "output_type": "execute_result"
    }
   ],
   "source": [
    "#8.13\n",
    "S = random_simple_rotor(pseudo)\n",
    "u = normalize(x | S.grade(2))\n",
    "v = S.sw(u)\n",
    "v, S ** 2 * u, v ** 2, u ** 2, v * u, S ** 2"
   ]
  },
  {
   "cell_type": "code",
   "execution_count": 217,
   "metadata": {},
   "outputs": [
    {
     "data": {
      "text/plain": [
       "(1.0 + -1.09e-17 𝐞₁₃ + -4.65e-17 𝐞₁₄ + 1.11e-16 𝐞₁₅ + -1.59e-17 𝐞₂₃ + 3.15e-17 𝐞₂₄ + -9.49e-17 𝐞₂₅ + -1.37e-17 𝐞₃₄ + 2.92e-16 𝐞₃₅ + 1.32e-16 𝐞₄₅ + -7.96e-17 𝐞₁₂₃₄ + -2.25e-16 𝐞₁₂₃₅ + -5.22e-17 𝐞₁₂₄₅ + 5.59e-17 𝐞₁₃₄₅ + -5.03e-17 𝐞₂₃₄₅,\n",
       " 1.0 + 1.56e-17 𝐞₁₅ + 2.43e-17 𝐞₂₅ + 1.39e-17 𝐞₃₅ + -9.54e-18 𝐞₁₂₃₄ + 5.55e-17 𝐞₁₂₃₅ + 4.16e-17 𝐞₂₃₄₅)"
      ]
     },
     "execution_count": 217,
     "metadata": {},
     "output_type": "execute_result"
    }
   ],
   "source": [
    "S ** 2 * (S ** 2).reverse(), S * S.reverse()"
   ]
  },
  {
   "cell_type": "code",
   "execution_count": 218,
   "metadata": {},
   "outputs": [
    {
     "data": {
      "text/plain": [
       "(2.02 + -0.873 𝐞₁₂ + -0.318 𝐞₁₃ + -0.152 𝐞₁₄ + 0.261 𝐞₁₅ + 0.507 𝐞₂₃ + 0.342 𝐞₂₄ + 1.86 𝐞₂₅ + 0.0364 𝐞₃₄ + 0.829 𝐞₃₅ + 0.426 𝐞₄₅ + 9.54e-18 𝐞₁₂₃₄ + -5.55e-17 𝐞₁₂₃₅ + -4.16e-17 𝐞₂₃₄₅,\n",
       " 2.02 + -0.873 𝐞₁₂ + -0.318 𝐞₁₃ + -0.152 𝐞₁₄ + 0.261 𝐞₁₅ + 0.507 𝐞₂₃ + 0.342 𝐞₂₄ + 1.86 𝐞₂₅ + 0.0364 𝐞₃₄ + 0.829 𝐞₃₅ + 0.426 𝐞₄₅ + 9.49e-18 𝐞₁₂₃₄ + -4.01e-18 𝐞₁₂₃₅ + -7e-18 𝐞₁₂₄₅ + 9.92e-18 𝐞₁₃₄₅ + -5.84e-18 𝐞₂₃₄₅,\n",
       " 2.02 + 0.873 𝐞₁₂ + 0.318 𝐞₁₃ + 0.152 𝐞₁₄ + -0.261 𝐞₁₅ + -0.507 𝐞₂₃ + -0.342 𝐞₂₄ + -1.86 𝐞₂₅ + -0.0364 𝐞₃₄ + -0.829 𝐞₃₅ + -0.426 𝐞₄₅ + 9.49e-18 𝐞₁₂₃₄ + -4.01e-18 𝐞₁₂₃₅ + -7e-18 𝐞₁₂₄₅ + 9.92e-18 𝐞₁₃₄₅ + -5.84e-18 𝐞₂₃₄₅)"
      ]
     },
     "execution_count": 218,
     "metadata": {},
     "output_type": "execute_result"
    }
   ],
   "source": [
    "#8.15\n",
    "(S ** 2).reverse(), u * v, v * u"
   ]
  },
  {
   "cell_type": "code",
   "execution_count": 219,
   "metadata": {},
   "outputs": [
    {
     "data": {
      "text/plain": [
       "3.07 + 4.16e-17 𝐞₁₄ + 1.39e-16 𝐞₁₅ + 1.04e-16 𝐞₁₂₃₄ + 1.11e-16 𝐞₁₂₃₅ + 5.55e-17 𝐞₁₂₄₅ + -5.55e-17 𝐞₁₃₄₅ + -1.11e-16 𝐞₂₃₄₅"
      ]
     },
     "execution_count": 219,
     "metadata": {},
     "output_type": "execute_result"
    }
   ],
   "source": [
    "#8.16\n",
    "S2 = S ** 2\n",
    "blade = S2.grade(2)\n",
    "bladesq = (blade ** 2)\n",
    "bladesq"
   ]
  },
  {
   "cell_type": "code",
   "execution_count": 220,
   "metadata": {},
   "outputs": [
    {
     "data": {
      "text/plain": [
       "[0.712 + -0.297 𝐞₁₂ + -0.414 𝐞₁₃ + -0.138 𝐞₁₄ + 0.0208 𝐞₁₅ + -0.632 𝐞₂₃ + -0.0365 𝐞₂₄ + 0.198 𝐞₂₅ + 0.243 𝐞₃₄ + 0.232 𝐞₃₅ + 0.0896 𝐞₄₅,\n",
       " None,\n",
       " 1.9 + -0.159 𝐞₁₂ + 0.588 𝐞₁₃ + -0.696 𝐞₁₄ + -0.407 𝐞₁₅ + 0.825 𝐞₂₃ + -0.623 𝐞₂₄ + -0.322 𝐞₂₅ + -1.3 𝐞₃₄ + -0.921 𝐞₃₅ + 0.187 𝐞₄₅]"
      ]
     },
     "execution_count": 220,
     "metadata": {},
     "output_type": "execute_result"
    }
   ],
   "source": [
    "# 3 types of rotors (Spin+)\n",
    "def type_convert(n):\n",
    "    if n > 1e-6:\n",
    "        return 1\n",
    "    elif n < -1e-6:\n",
    "        return -1\n",
    "    else:\n",
    "        return 0\n",
    "\n",
    "# Unfortunately parabolic rotors are of measure zero, \n",
    "# so this function has zero chance generating them\n",
    "def random_simple_rotor(alg, signature=None, max_iter=100):\n",
    "    for _ in range(max_iter):\n",
    "        S = random_versor(2, alg)\n",
    "        if signature is not None:\n",
    "            if type_convert((S.grade(2) ** 2)[0]) != signature:\n",
    "                continue\n",
    "        sign  = (S.reverse().sp(S))[0]\n",
    "        if sign > 0:\n",
    "            return normalize(S)\n",
    "        \n",
    "[random_simple_rotor(pseudo, signature=i) for i in range(-1, 2)]"
   ]
  },
  {
   "cell_type": "code",
   "execution_count": 221,
   "metadata": {},
   "outputs": [],
   "source": [
    "def simple_rotor_log(R: MultiVector, tol=1e-6):\n",
    "    blade = R.grade(2)\n",
    "    signature = (blade ** 2)[0]\n",
    "    if signature > tol:\n",
    "        return np.arccosh(R[0]) * normalize(blade)\n",
    "    if signature < -tol:\n",
    "        return np.arccos(R[0]) * normalize(blade)\n",
    "    else:\n",
    "        return blade"
   ]
  },
  {
   "cell_type": "code",
   "execution_count": 222,
   "metadata": {},
   "outputs": [
    {
     "data": {
      "text/plain": [
       "(0.256 + 0.596 𝐞₁₂ + -0.773 𝐞₁₃ + -0.261 𝐞₁₄ + 0.362 𝐞₁₅ + -0.758 𝐞₂₃ + -0.441 𝐞₂₄ + -0.000786 𝐞₂₅ + 0.239 𝐞₃₄ + 0.463 𝐞₃₅ + 0.269 𝐞₄₅ + -2.78e-17 𝐞₁₂₃₄ + 2.78e-17 𝐞₁₂₃₅ + 2.78e-17 𝐞₁₂₄₅ + 1.39e-17 𝐞₁₃₄₅,\n",
       " 0.256 + 0.596 𝐞₁₂ + -0.773 𝐞₁₃ + -0.261 𝐞₁₄ + 0.362 𝐞₁₅ + -0.758 𝐞₂₃ + -0.441 𝐞₂₄ + -0.000786 𝐞₂₅ + 0.239 𝐞₃₄ + 0.463 𝐞₃₅ + 0.269 𝐞₄₅,\n",
       " 0.256 + 0.596 𝐞₁₂ + -0.773 𝐞₁₃ + -0.261 𝐞₁₄ + 0.362 𝐞₁₅ + -0.758 𝐞₂₃ + -0.441 𝐞₂₄ + -0.000786 𝐞₂₅ + 0.239 𝐞₃₄ + 0.463 𝐞₃₅ + 0.269 𝐞₄₅,\n",
       " 0.793 + 0.376 𝐞₁₂ + -0.488 𝐞₁₃ + -0.165 𝐞₁₄ + 0.229 𝐞₁₅ + -0.478 𝐞₂₃ + -0.278 𝐞₂₄ + -0.000496 𝐞₂₅ + 0.151 𝐞₃₄ + 0.292 𝐞₃₅ + 0.169 𝐞₄₅,\n",
       " 0.793 + 0.376 𝐞₁₂ + -0.488 𝐞₁₃ + -0.165 𝐞₁₄ + 0.229 𝐞₁₅ + -0.478 𝐞₂₃ + -0.278 𝐞₂₄ + -0.000496 𝐞₂₅ + 0.151 𝐞₃₄ + 0.292 𝐞₃₅ + 0.169 𝐞₄₅,\n",
       " 0.793 + 0.376 𝐞₁₂ + -0.488 𝐞₁₃ + -0.165 𝐞₁₄ + 0.229 𝐞₁₅ + -0.478 𝐞₂₃ + -0.278 𝐞₂₄ + -0.000496 𝐞₂₅ + 0.151 𝐞₃₄ + 0.292 𝐞₃₅ + 0.169 𝐞₄₅ + -1.75e-17 𝐞₁₂₃₄ + 1.75e-17 𝐞₁₂₃₅ + 1.75e-17 𝐞₁₂₄₅ + 8.75e-18 𝐞₁₃₄₅,\n",
       " 0.793 + 0.376 𝐞₁₂ + -0.488 𝐞₁₃ + -0.165 𝐞₁₄ + 0.229 𝐞₁₅ + -0.478 𝐞₂₃ + -0.278 𝐞₂₄ + -0.000496 𝐞₂₅ + 0.151 𝐞₃₄ + 0.292 𝐞₃₅ + 0.169 𝐞₄₅ + 3.33e-16 𝐞₁₂₃₄ + -2.22e-16 𝐞₁₂₃₅ + 2.78e-17 𝐞₁₂₄₅ + 1.11e-16 𝐞₁₃₄₅ + -1.83e-16 𝐞₂₃₄₅)"
      ]
     },
     "execution_count": 222,
     "metadata": {},
     "output_type": "execute_result"
    }
   ],
   "source": [
    "#8.17a elliptic rotor (rotation), run several times you can see sqrt allows a sign change\n",
    "S = random_simple_rotor(pseudo, signature=-1)\n",
    "S2 = S ** 2\n",
    "b = simple_rotor_log(S2)\n",
    "S2, blade_exp(b), blade_exp(b - 6*np.pi*b/norm(b)), S, blade_exp(b/2), simple_rotor_sqrt(S2), blade_exp(3.3*b).sw(S)"
   ]
  },
  {
   "cell_type": "code",
   "execution_count": 223,
   "metadata": {},
   "outputs": [
    {
     "data": {
      "text/plain": [
       "(1.68 + -0.483 𝐞₁₂ + -0.49 𝐞₁₃ + -1.23 𝐞₁₄ + -0.983 𝐞₁₅ + -0.155 𝐞₂₃ + -0.371 𝐞₂₄ + -0.0599 𝐞₂₅ + 0.0177 𝐞₃₄ + 0.254 𝐞₃₅ + 0.602 𝐞₄₅ + 2.86e-17 𝐞₁₂₃₄ + -3.47e-18 𝐞₁₂₃₅ + -5.55e-17 𝐞₁₂₄₅ + -1.73e-17 𝐞₂₃₄₅,\n",
       " 1.68 + -0.483 𝐞₁₂ + -0.49 𝐞₁₃ + -1.23 𝐞₁₄ + -0.983 𝐞₁₅ + -0.155 𝐞₂₃ + -0.371 𝐞₂₄ + -0.0599 𝐞₂₅ + 0.0177 𝐞₃₄ + 0.254 𝐞₃₅ + 0.602 𝐞₄₅,\n",
       " -1.16 + 0.209 𝐞₁₂ + 0.212 𝐞₁₃ + 0.531 𝐞₁₄ + 0.425 𝐞₁₅ + 0.067 𝐞₂₃ + 0.16 𝐞₂₄ + 0.0259 𝐞₂₅ + -0.00763 𝐞₃₄ + -0.11 𝐞₃₅ + -0.26 𝐞₄₅,\n",
       " 1.16 + -0.209 𝐞₁₂ + -0.212 𝐞₁₃ + -0.531 𝐞₁₄ + -0.425 𝐞₁₅ + -0.067 𝐞₂₃ + -0.16 𝐞₂₄ + -0.0259 𝐞₂₅ + 0.00763 𝐞₃₄ + 0.11 𝐞₃₅ + 0.26 𝐞₄₅,\n",
       " 1.16 + -0.209 𝐞₁₂ + -0.212 𝐞₁₃ + -0.531 𝐞₁₄ + -0.425 𝐞₁₅ + -0.067 𝐞₂₃ + -0.16 𝐞₂₄ + -0.0259 𝐞₂₅ + 0.00763 𝐞₃₄ + 0.11 𝐞₃₅ + 0.26 𝐞₄₅ + 1.24e-17 𝐞₁₂₃₄ + -1.5e-18 𝐞₁₂₃₅ + -2.4e-17 𝐞₁₂₄₅ + -7.49e-18 𝐞₂₃₄₅,\n",
       " -1.16 + 0.209 𝐞₁₂ + 0.212 𝐞₁₃ + 0.531 𝐞₁₄ + 0.425 𝐞₁₅ + 0.067 𝐞₂₃ + 0.16 𝐞₂₄ + 0.0259 𝐞₂₅ + -0.00763 𝐞₃₄ + -0.11 𝐞₃₅ + -0.26 𝐞₄₅ + 4.26e-14 𝐞₁₂₃₄ + -1.42e-14 𝐞₁₂₃₅ + -1.14e-13 𝐞₁₂₄₅ + -5.33e-15 𝐞₁₃₄₅ + -2.2e-14 𝐞₂₃₄₅)"
      ]
     },
     "execution_count": 223,
     "metadata": {},
     "output_type": "execute_result"
    }
   ],
   "source": [
    "#8.17b hyperbolic rotor (boost)\n",
    "S = random_simple_rotor(pseudo, signature=1)\n",
    "S2 = S ** 2\n",
    "b = simple_rotor_log(S2)\n",
    "S2, blade_exp(b), S, blade_exp(b/2), simple_rotor_sqrt(S2), blade_exp(3.3*b).sw(S)"
   ]
  },
  {
   "cell_type": "code",
   "execution_count": 224,
   "metadata": {},
   "outputs": [
    {
     "data": {
      "text/plain": [
       "(1 + -2 𝐞₂₃ + 2 𝐞₂₄,\n",
       " 1 + -2 𝐞₂₃ + 2 𝐞₂₄,\n",
       " 1 + -1 𝐞₂₃ + 1 𝐞₂₄,\n",
       " 1 + -1.0 𝐞₂₃ + 1.0 𝐞₂₄,\n",
       " 1.0 + -1.0 𝐞₂₃ + 1.0 𝐞₂₄,\n",
       " 1.0 + -1.0 𝐞₂₃ + 1.0 𝐞₂₄)"
      ]
     },
     "execution_count": 224,
     "metadata": {},
     "output_type": "execute_result"
    }
   ],
   "source": [
    "#8.17c 8.20 parabolic rotor (translation)\n",
    "S = (e2 + e3 - e4) * e2\n",
    "S2 = S ** 2\n",
    "b = simple_rotor_log(S2)\n",
    "S2, blade_exp(b), S, blade_exp(b/2), simple_rotor_sqrt(S2), blade_exp(3.3*b).sw(S)"
   ]
  },
  {
   "cell_type": "code",
   "execution_count": 225,
   "metadata": {},
   "outputs": [
    {
     "data": {
      "text/plain": [
       "(-0.5 𝐞₂₃ + 0.5 𝐞₂₄, 1.0 + -1.0 𝐞₂₃ + 1.0 𝐞₂₄, 1 + -1 𝐞₂₃ + 1 𝐞₂₄)"
      ]
     },
     "execution_count": 225,
     "metadata": {},
     "output_type": "execute_result"
    }
   ],
   "source": [
    "#8.21\n",
    "B = S.grade(2) / (1 + S.grade(0))\n",
    "B, (1+B)**2/(normsq(1+B)), S"
   ]
  },
  {
   "cell_type": "code",
   "execution_count": 274,
   "metadata": {},
   "outputs": [
    {
     "data": {
      "text/plain": [
       "(1.61 + -1.12 𝐞₁₂ + -0.623 𝐞₁₃ + -1.89 𝐞₁₄ + -1.51 𝐞₁₅ + 0.724 𝐞₂₃ + -0.624 𝐞₂₄ + 1.15 𝐞₂₅ + -1.13 𝐞₃₄ + 0.17 𝐞₃₅ + 2.23 𝐞₄₅ + -0.308 𝐞₁₂₃₄ + -0.352 𝐞₁₂₃₅ + 0.392 𝐞₁₂₄₅ + 0.398 𝐞₁₃₄₅ + 0.261 𝐞₂₃₄₅,\n",
       " 1.61 + -1.12 𝐞₁₂ + -0.623 𝐞₁₃ + -1.89 𝐞₁₄ + -1.51 𝐞₁₅ + 0.724 𝐞₂₃ + -0.624 𝐞₂₄ + 1.15 𝐞₂₅ + -1.13 𝐞₃₄ + 0.17 𝐞₃₅ + 2.23 𝐞₄₅ + -0.308 𝐞₁₂₃₄ + -0.352 𝐞₁₂₃₅ + 0.392 𝐞₁₂₄₅ + 0.398 𝐞₁₃₄₅ + 0.261 𝐞₂₃₄₅,\n",
       " 1.85 𝐞₁ + 0.477 𝐞₂ + 0.84 𝐞₃ + 0.257 𝐞₄ + 1.97 𝐞₅ + -5.55e-17 𝐞₁₂₃ + -5.55e-17 𝐞₁₂₅ + -3.08e-33 𝐞₁₃₄ + -2.22e-16 𝐞₁₃₅ + -6.94e-18 𝐞₁₄₅ + 6.94e-18 𝐞₂₃₄ + 1.54e-33 𝐞₂₃₅ + 6.94e-18 𝐞₂₄₅ + 4.16e-17 𝐞₃₄₅ + -7.46e-17 𝐞₁₂₃₄₅,\n",
       " 1.85 𝐞₁ + 0.477 𝐞₂ + 0.84 𝐞₃ + 0.257 𝐞₄ + 1.97 𝐞₅ + 5.55e-17 𝐞₁₂₃ + -1.07e-18 𝐞₁₂₄ + 5.55e-17 𝐞₁₂₅ + 3.76e-18 𝐞₁₃₄ + 2.22e-16 𝐞₁₃₅ + 6.07e-18 𝐞₁₄₅ + -1.63e-18 𝐞₂₃₄ + 4.16e-17 𝐞₂₃₅ + -6.94e-18 𝐞₂₄₅ + -4.16e-17 𝐞₃₄₅ + -7.46e-17 𝐞₁₂₃₄₅,\n",
       " 0.558 𝐞₁ + 0.211 𝐞₂ + 0.593 𝐞₃ + 0.0758 𝐞₄ + 0.503 𝐞₅ + -0.0796 𝐞₁₂₃ + -0.0215 𝐞₁₂₄ + 0.248 𝐞₁₂₅ + 0.276 𝐞₁₃₄ + 0.421 𝐞₁₃₅ + 0.254 𝐞₁₄₅ + 0.116 𝐞₂₃₄ + -0.177 𝐞₂₃₅ + 0.0426 𝐞₂₄₅ + 0.461 𝐞₃₄₅ + 0.103 𝐞₁₂₃₄₅,\n",
       " 0.558 𝐞₁ + 0.211 𝐞₂ + 0.593 𝐞₃ + 0.0758 𝐞₄ + 0.503 𝐞₅ + -0.0796 𝐞₁₂₃ + -0.0215 𝐞₁₂₄ + 0.248 𝐞₁₂₅ + 0.276 𝐞₁₃₄ + 0.421 𝐞₁₃₅ + 0.254 𝐞₁₄₅ + 0.116 𝐞₂₃₄ + -0.177 𝐞₂₃₅ + 0.0426 𝐞₂₄₅ + 0.461 𝐞₃₄₅ + 0.103 𝐞₁₂₃₄₅)"
      ]
     },
     "execution_count": 274,
     "metadata": {},
     "output_type": "execute_result"
    }
   ],
   "source": [
    "#8.25\n",
    "R, u = random_rotor(pseudo), random_r_blade(1, pseudo)\n",
    "v = R.sw(u)\n",
    "S = simple_rotor_sqrt(v * u / normsq(u))\n",
    "U = S.reverse() * R\n",
    "R, S * U, S * u, u * S.reverse(), U * u, u * U"
   ]
  },
  {
   "cell_type": "code",
   "execution_count": 276,
   "metadata": {},
   "outputs": [
    {
     "data": {
      "text/plain": [
       "(1.61 + -1.12 𝐞₁₂ + -0.623 𝐞₁₃ + -1.89 𝐞₁₄ + -1.51 𝐞₁₅ + 0.724 𝐞₂₃ + -0.624 𝐞₂₄ + 1.15 𝐞₂₅ + -1.13 𝐞₃₄ + 0.17 𝐞₃₅ + 2.23 𝐞₄₅ + -0.308 𝐞₁₂₃₄ + -0.352 𝐞₁₂₃₅ + 0.392 𝐞₁₂₄₅ + 0.398 𝐞₁₃₄₅ + 0.261 𝐞₂₃₄₅,\n",
       " 1.61 + -1.12 𝐞₁₂ + -0.623 𝐞₁₃ + -1.89 𝐞₁₄ + -1.51 𝐞₁₅ + 0.724 𝐞₂₃ + -0.624 𝐞₂₄ + 1.15 𝐞₂₅ + -1.13 𝐞₃₄ + 0.17 𝐞₃₅ + 2.23 𝐞₄₅ + -0.308 𝐞₁₂₃₄ + -0.352 𝐞₁₂₃₅ + 0.392 𝐞₁₂₄₅ + 0.398 𝐞₁₃₄₅ + 0.261 𝐞₂₃₄₅,\n",
       " 1.61 + -1.12 𝐞₁₂ + -0.623 𝐞₁₃ + -1.89 𝐞₁₄ + -1.51 𝐞₁₅ + 0.724 𝐞₂₃ + -0.624 𝐞₂₄ + 1.15 𝐞₂₅ + -1.13 𝐞₃₄ + 0.17 𝐞₃₅ + 2.23 𝐞₄₅ + -0.308 𝐞₁₂₃₄ + -0.352 𝐞₁₂₃₅ + 0.392 𝐞₁₂₄₅ + 0.398 𝐞₁₃₄₅ + 0.261 𝐞₂₃₄₅)"
      ]
     },
     "execution_count": 276,
     "metadata": {},
     "output_type": "execute_result"
    }
   ],
   "source": [
    "def gprod(vectors) -> MultiVector:\n",
    "    return reduce(lambda a, b: a * b, vectors, 1)\n",
    "\n",
    "def rotor_split(R: MultiVector, alg: Algebra, tol=1e-6):\n",
    "    # FIXME: when the tangent not well defined\n",
    "    assert normsq(R.grade(2)) > tol, \"zero bivector\"\n",
    "    tangent = R.grade(2) / R[0]\n",
    "    tangents = bivector_split(tangent, alg)\n",
    "    splits = sorted([normalize(1 + t) for t in tangents], key=lambda item: abs(item[0]))\n",
    "    sign = np.round(gprod(r[0] for r in splits)/R[0])\n",
    "    splits[0] = splits[0] * sign # to keep the sign of R\n",
    "    return splits\n",
    "        \n",
    "\n",
    "R_splits = rotor_split(R, pseudo)\n",
    "R, gprod(R_splits), gprod([blade_exp(simple_rotor_log(r)) for r in R_splits])"
   ]
  },
  {
   "cell_type": "code",
   "execution_count": 277,
   "metadata": {},
   "outputs": [
    {
     "data": {
      "text/plain": [
       "(0.732 + 0.0932 𝐞₁₂ + 0.0372 𝐞₁₃ + -0.0678 𝐞₂₃,\n",
       " 0.0905 + -0.502 𝐞₁₂ + 0.118 𝐞₁₃ + -0.0126 𝐞₁₄ + 0.0833 𝐞₂₃ + 0.0975 𝐞₂₄ + 0.34 𝐞₃₄ + -0.0176 𝐞₁₂₃₄)"
      ]
     },
     "execution_count": 277,
     "metadata": {},
     "output_type": "execute_result"
    }
   ],
   "source": [
    "#8.10 a spinor is an even versor for odd dimension (a Dirac representation);\n",
    "# a sum of an even versor and its dual for even dimension (two Weyl representations)\n",
    "def random_study_number(alg):\n",
    "    a, b = np.random.rand(2)\n",
    "    return (a + alg.pseudoscalar((b,)))\n",
    "\n",
    "def random_spinor(alg: Algebra):\n",
    "    if alg.d % 4:\n",
    "        return random_even_versor(alg)\n",
    "    return random_study_number(alg) * random_even_versor(alg)\n",
    "\n",
    "random_spinor(Algebra(3)), random_spinor(Algebra(4))\n"
   ]
  },
  {
   "cell_type": "code",
   "execution_count": 60,
   "metadata": {},
   "outputs": [
    {
     "data": {
      "text/plain": [
       "array([-33.57429333, -33.57429333, -33.57429333, -33.57429333])"
      ]
     },
     "execution_count": 60,
     "metadata": {},
     "output_type": "execute_result"
    }
   ],
   "source": [
    "# A pointor depends on a point\n",
    "def random_point(alg: Algebra):\n",
    "    return random_r_blade(alg.d - 1, alg)\n",
    "\n",
    "O = random_point(alg)\n",
    "\n",
    "# point reflection on the point itself is a pointor\n",
    "terms_ratio(O, O.sw(O))"
   ]
  },
  {
   "cell_type": "code",
   "execution_count": 61,
   "metadata": {},
   "outputs": [
    {
     "data": {
      "text/plain": [
       "(array([-33.57429333, -33.57429333, -33.57429333, -33.57429333]),\n",
       " array([12.90591293, 12.90591293, 12.90591293, 12.90591293]),\n",
       " array([13.36279296, 13.36279296, 13.36279296, 13.36279296]))"
      ]
     },
     "execution_count": 61,
     "metadata": {},
     "output_type": "execute_result"
    }
   ],
   "source": [
    "# versors not crossing O-subspace are pointers \n",
    "vectors = blade_split(O, alg)\n",
    "B1, B2 = wedge(vectors[:2]), wedge(vectors[1:])\n",
    "Od = O.dual()\n",
    "terms_ratio(O, Od.sw(O)), terms_ratio(B1.sw(O), O), terms_ratio(vectors[0].sw(O), O), "
   ]
  },
  {
   "cell_type": "code",
   "execution_count": 62,
   "metadata": {},
   "outputs": [
    {
     "data": {
      "text/plain": [
       "(array([-0.02978469, -0.02978469, -0.02978469, -0.02978469]),\n",
       " array([0.03264996, 0.03264996, 0.03264996, 0.03264996]))"
      ]
     },
     "execution_count": 62,
     "metadata": {},
     "output_type": "execute_result"
    }
   ],
   "source": [
    "# rotors with reflections are pointers\n",
    "R1 = blade_exp(3.3*B1)\n",
    "R2 = blade_exp(4.4*B2)\n",
    "terms_ratio((Od * R1 * R2).sw(O), O), terms_ratio((Od * vectors[2] * R1).sw(O), O)"
   ]
  },
  {
   "cell_type": "code",
   "execution_count": 63,
   "metadata": {},
   "outputs": [
    {
     "data": {
      "text/plain": [
       "array([2.31265738, 1.17541562, 1.17541562, 1.17541562])"
      ]
     },
     "execution_count": 63,
     "metadata": {},
     "output_type": "execute_result"
    }
   ],
   "source": [
    "# rotors cross O-subspace may not be pointers\n",
    "terms_ratio(blade_exp(Od ^ vectors[2]).sw(O), O)"
   ]
  },
  {
   "cell_type": "code",
   "execution_count": 64,
   "metadata": {},
   "outputs": [
    {
     "data": {
      "text/plain": [
       "0.485 + 0.228 𝐞₁ + 0.447 𝐞₂ + 0.646 𝐞₃ + 0.0591 𝐞₄ + -0.0795 𝐞₁₂ + -0.0623 𝐞₁₃ + -0.0573 𝐞₁₄ + 0.116 𝐞₂₃ + -0.032 𝐞₂₄ + -0.108 𝐞₃₄ + 0.00599 𝐞₁₂₃ + 0.0281 𝐞₁₂₄ + 0.0177 𝐞₁₃₄ + -0.0433 𝐞₂₃₄"
      ]
     },
     "execution_count": 64,
     "metadata": {},
     "output_type": "execute_result"
    }
   ],
   "source": [
    "# A general pointor suggested by \"From Invariant Decomposition to Spinors\"?\n",
    "# How do we find the point specified by a pointor?\n",
    "def random_odd_versor(alg):\n",
    "    d = alg.d\n",
    "    if not (alg.d % 2):\n",
    "        d -= 1\n",
    "    return gprod(random_r_vectors(d, alg))\n",
    "\n",
    "\n",
    "# Actually I'm not sure these generate pointors\n",
    "# def random_pointor(alg: Algebra):\n",
    "#     return random_odd_versor(alg) * random_even_versor(alg)\n",
    "    \n",
    "# def random_pointor(alg: Algebra):\n",
    "#     v = random_r_blade(1, alg)\n",
    "#     return (np.random.rand() + v) * random_even_versor(alg)\n",
    "\n",
    "# FIXME: check degree of freedom\n",
    "def random_pointor(alg: Algebra):\n",
    "    v = random_r_blade(1, alg)\n",
    "    return (np.random.rand() + v) * random_versor(2, alg)\n",
    "\n",
    "pointor = random_pointor(alg)\n",
    "pointor"
   ]
  },
  {
   "cell_type": "code",
   "execution_count": 65,
   "metadata": {},
   "outputs": [
    {
     "data": {
      "text/plain": [
       "array([0.90449692, 0.90449692, 0.90449692, 0.90449692])"
      ]
     },
     "execution_count": 65,
     "metadata": {},
     "output_type": "execute_result"
    }
   ],
   "source": [
    "# the point-grade\n",
    "O = pointor.grade(3)\n",
    "terms_ratio(pointor.sw(O), O)"
   ]
  }
 ],
 "metadata": {
  "kernelspec": {
   "display_name": "3.10.5",
   "language": "python",
   "name": "python3"
  },
  "language_info": {
   "codemirror_mode": {
    "name": "ipython",
    "version": 3
   },
   "file_extension": ".py",
   "mimetype": "text/x-python",
   "name": "python",
   "nbconvert_exporter": "python",
   "pygments_lexer": "ipython3",
   "version": "3.10.5"
  }
 },
 "nbformat": 4,
 "nbformat_minor": 2
}
