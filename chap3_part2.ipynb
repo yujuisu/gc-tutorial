{
 "cells": [
  {
   "cell_type": "code",
   "execution_count": 1,
   "metadata": {},
   "outputs": [],
   "source": [
    "from gc_utils import *\n",
    "\n",
    "alg = Algebra(4)\n",
    "ga2 = Algebra(2)\n",
    "locals().update(alg.blades)"
   ]
  },
  {
   "cell_type": "code",
   "execution_count": 2,
   "metadata": {},
   "outputs": [
    {
     "data": {
      "text/plain": [
       "0.141 𝐞₁ + 0.151 𝐞₂"
      ]
     },
     "execution_count": 2,
     "metadata": {},
     "output_type": "execute_result"
    }
   ],
   "source": [
    "# 2d general linear transform\n",
    "def random_linear_trans(alg: Algebra):\n",
    "    matrix = np.random.rand(alg.d, alg.d)\n",
    "    return matrix2trans(matrix, alg)\n",
    "\n",
    "def random_ortho_trans(alg: Algebra):\n",
    "    from scipy.stats import ortho_group\n",
    "    matrix = ortho_group.rvs(dim=alg.d)\n",
    "    return matrix2trans(matrix, alg)\n",
    "\n",
    "f = random_linear_trans(ga2)\n",
    "x = random_r_blade(1, ga2)\n",
    "f(x)"
   ]
  },
  {
   "cell_type": "code",
   "execution_count": 3,
   "metadata": {},
   "outputs": [
    {
     "data": {
      "text/plain": [
       "(0.141 𝐞₁ + 0.151 𝐞₂, 0.141 𝐞₁ + 0.151 𝐞₂)"
      ]
     },
     "execution_count": 3,
     "metadata": {},
     "output_type": "execute_result"
    }
   ],
   "source": [
    "# 2d polar decomposition\n",
    "# f = SUU\n",
    "df = derivative(f, x, ga2, grade=1)\n",
    "UU = df / norm(df)\n",
    "S = lambda x: UU * f(x)\n",
    "S(x)*UU, f(x)"
   ]
  },
  {
   "cell_type": "code",
   "execution_count": 4,
   "metadata": {},
   "outputs": [
    {
     "data": {
      "text/plain": [
       "(0.999 + -0.0479 𝐞₁₂, -1.39e-11 𝐞₁₂)"
      ]
     },
     "execution_count": 4,
     "metadata": {},
     "output_type": "execute_result"
    }
   ],
   "source": [
    "# UU is rotor, S is symmetric\n",
    "UU, curl(S, x, ga2, grade=1)"
   ]
  },
  {
   "cell_type": "code",
   "execution_count": 5,
   "metadata": {},
   "outputs": [
    {
     "data": {
      "text/plain": [
       "(2.96 + -0.0134 𝐞₁₂ + 0.0289 𝐞₁₃ + 0.0175 𝐞₁₄ + 0.0966 𝐞₂₃ + 0.0641 𝐞₂₄ + -0.0118 𝐞₃₄ + -1.09e-16 𝐞₁₂₃₄,\n",
       " 2.96 + -0.0134 𝐞₁₂ + 0.0289 𝐞₁₃ + 0.0175 𝐞₁₄ + 0.0966 𝐞₂₃ + 0.0641 𝐞₂₄ + -0.0118 𝐞₃₄)"
      ]
     },
     "execution_count": 5,
     "metadata": {},
     "output_type": "execute_result"
    }
   ],
   "source": [
    "#6.3 remove the condition of 2 dimension\n",
    "a, b, x = random_r_vectors(3, alg)\n",
    "g = lambda x: x + (x|a)*b\n",
    "abframe = [a,b]\n",
    "r_frame = reciprocal(abframe)\n",
    "dg = 2 + a*b\n",
    "derivative(g, x, alg, grade=1, frame=abframe, r_frame=r_frame), dg"
   ]
  },
  {
   "cell_type": "code",
   "execution_count": 6,
   "metadata": {},
   "outputs": [
    {
     "data": {
      "text/plain": [
       "(2.78e-10 𝐞₁₂ + -2.22e-10 𝐞₁₃ + -6.94e-11 𝐞₁₄ + 5e-10 𝐞₂₃ + 1.39e-11 𝐞₂₄ + -1.94e-10 𝐞₃₄,\n",
       " 0.543 𝐞₁ + 0.49 𝐞₂ + 1.13 𝐞₃ + 0.199 𝐞₄,\n",
       " 0.543 𝐞₁ + 0.49 𝐞₂ + 1.13 𝐞₃ + 0.199 𝐞₄)"
      ]
     },
     "execution_count": 6,
     "metadata": {},
     "output_type": "execute_result"
    }
   ],
   "source": [
    "#6.3\n",
    "dg_norm = norm(dg)\n",
    "UU = dg / dg_norm\n",
    "U = simple_rotor_sqrt(UU)\n",
    "S = lambda x: U.sw(g(x))\n",
    "curl(S, x, alg, grade=1), U.reverse().sw(S(x)), g(x)"
   ]
  },
  {
   "cell_type": "code",
   "execution_count": 7,
   "metadata": {},
   "outputs": [
    {
     "data": {
      "text/plain": [
       "[-1.0 𝐞₁, 1.0 𝐞₄, -1.0 𝐞₃, 1.0 𝐞₂]"
      ]
     },
     "execution_count": 7,
     "metadata": {},
     "output_type": "execute_result"
    }
   ],
   "source": [
    "#6.6\n",
    "frame = alg.frame\n",
    "i, j = 1, 3\n",
    "aij = (1/np.sqrt(2))*(frame[i] + frame[j])\n",
    "[aij.sw(x) for x in frame]"
   ]
  },
  {
   "cell_type": "code",
   "execution_count": 8,
   "metadata": {},
   "outputs": [
    {
     "data": {
      "text/plain": [
       "[1 𝐞₁, 1 𝐞₂ + 3 𝐞₄, 1 𝐞₃, 1 𝐞₄]"
      ]
     },
     "execution_count": 8,
     "metadata": {},
     "output_type": "execute_result"
    }
   ],
   "source": [
    "#6.7\n",
    "alpha = 3\n",
    "Sij = lambda x: x + (alpha * (x|frame[i]) * frame[j])\n",
    "[Sij(x) for x in frame]"
   ]
  },
  {
   "cell_type": "code",
   "execution_count": 9,
   "metadata": {},
   "outputs": [
    {
     "data": {
      "text/plain": [
       "(0.713 𝐞₁ + 1.34 𝐞₂ + 0.979 𝐞₃ + 1.07 𝐞₄,\n",
       " 0.713 𝐞₁ + 1.34 𝐞₂ + 0.979 𝐞₃ + 1.07 𝐞₄)"
      ]
     },
     "execution_count": 9,
     "metadata": {},
     "output_type": "execute_result"
    }
   ],
   "source": [
    "#7.2\n",
    "g = random_linear_trans(alg)\n",
    "g_ = lambda x, y: x | g(y)\n",
    "derivative(lambda x: g_(x, b), x, alg, grade=1), g(b)"
   ]
  },
  {
   "cell_type": "code",
   "execution_count": 10,
   "metadata": {},
   "outputs": [
    {
     "data": {
      "text/plain": [
       "0.0887 𝐞₁₂₃₄"
      ]
     },
     "execution_count": 10,
     "metadata": {},
     "output_type": "execute_result"
    }
   ],
   "source": [
    "# check nonsingular\n",
    "outermorphism(g, alg.pseudoscalar((1,)), alg)"
   ]
  },
  {
   "cell_type": "code",
   "execution_count": 11,
   "metadata": {},
   "outputs": [
    {
     "data": {
      "text/plain": [
       "(0.162, 0.162)"
      ]
     },
     "execution_count": 11,
     "metadata": {},
     "output_type": "execute_result"
    }
   ],
   "source": [
    "#7.5 orthogonal transformation is its isometry\n",
    "f = random_ortho_trans(alg)\n",
    "x | f(b), f(x) | f(f(b))"
   ]
  },
  {
   "cell_type": "code",
   "execution_count": 12,
   "metadata": {},
   "outputs": [
    {
     "data": {
      "text/plain": [
       "(-0.307, -0.307)"
      ]
     },
     "execution_count": 12,
     "metadata": {},
     "output_type": "execute_result"
    }
   ],
   "source": [
    "# skew bilinear form\n",
    "gm = skew_part(g, alg)\n",
    "G = simplicial_derivative(lambda vectors: vectors[0] | gm(vectors[1]), np.zeros(2), alg)\n",
    "x | gm(b), x | (b | G)"
   ]
  },
  {
   "cell_type": "code",
   "execution_count": 13,
   "metadata": {},
   "outputs": [
    {
     "data": {
      "text/plain": [
       "(-0.155 𝐞₁₂ + -0.197 𝐞₁₃ + 0.125 𝐞₁₄ + 0.125 𝐞₂₃ + 0.0825 𝐞₂₄ + -0.4 𝐞₃₄,\n",
       " 0.338 𝐞₁₂ + -0.301 𝐞₁₃ + 0.0352 𝐞₁₄ + -0.0745 𝐞₂₃ + 0.0988 𝐞₂₄ + 0.197 𝐞₃₄)"
      ]
     },
     "execution_count": 13,
     "metadata": {},
     "output_type": "execute_result"
    }
   ],
   "source": [
    "#7.6b f is not an isometry of gm\n",
    "adjoint_outermorphism(f, G, alg), G"
   ]
  },
  {
   "cell_type": "code",
   "execution_count": 14,
   "metadata": {},
   "outputs": [
    {
     "data": {
      "text/plain": [
       "(0.404 𝐞₁ + 0.108 𝐞₂ + 0.948 𝐞₃ + 0.0318 𝐞₄,\n",
       " 0.404 𝐞₁ + 0.108 𝐞₂ + 0.948 𝐞₃ + 0.0318 𝐞₄)"
      ]
     },
     "execution_count": 14,
     "metadata": {},
     "output_type": "execute_result"
    }
   ],
   "source": [
    "#7.8 the inverse of gm\n",
    "blades = bivector_split(G, alg)\n",
    "gm(sum(-x | blade/normsq(blade) for blade in blades)), x"
   ]
  },
  {
   "cell_type": "code",
   "execution_count": 15,
   "metadata": {},
   "outputs": [
    {
     "data": {
      "text/plain": [
       "-1.67e-16 + 2.78e-17 𝐞₁₃ + 1.67e-16 𝐞₁₄ + 6.25e-17 𝐞₂₃ + 5.55e-17 𝐞₂₄ + -2.78e-17 𝐞₃₄ + 1.0 𝐞₁₂₃₄"
      ]
     },
     "execution_count": 15,
     "metadata": {},
     "output_type": "execute_result"
    }
   ],
   "source": [
    "#7.12 assume splitted blades are normal\n",
    "blades_norm = [norm(b) for b in blades]\n",
    "blades = [b / n for b, n in zip(blades, blades_norm)]\n",
    "gprod(blades)"
   ]
  },
  {
   "cell_type": "code",
   "execution_count": 16,
   "metadata": {},
   "outputs": [
    {
     "data": {
      "text/plain": [
       "[(0.139 𝐞₁₂ + 0.0761 𝐞₁₃ + -0.233 𝐞₁₄ + 0.174 𝐞₂₃ + 0.674 𝐞₂₄ + 0.661 𝐞₃₄,\n",
       "  0.139 𝐞₁₂ + 0.0761 𝐞₁₃ + 0.174 𝐞₂₃ + -0.233 𝐞₁₄ + 0.674 𝐞₂₄ + 0.661 𝐞₃₄),\n",
       " (0.661 𝐞₁₂ + -0.674 𝐞₁₃ + 0.174 𝐞₁₄ + -0.233 𝐞₂₃ + -0.0761 𝐞₂₄ + 0.139 𝐞₃₄,\n",
       "  0.661 𝐞₁₂ + -0.674 𝐞₁₃ + -0.233 𝐞₂₃ + 0.174 𝐞₁₄ + -0.0761 𝐞₂₄ + 0.139 𝐞₃₄),\n",
       " (0.139 𝐞₁₂ + 0.0761 𝐞₁₃ + -0.233 𝐞₁₄ + 0.174 𝐞₂₃ + 0.674 𝐞₂₄ + 0.661 𝐞₃₄,\n",
       "  0.139 𝐞₁₂ + 0.0761 𝐞₁₃ + 0.174 𝐞₂₃ + -0.233 𝐞₁₄ + 0.674 𝐞₂₄ + 0.661 𝐞₃₄),\n",
       " (0.661 𝐞₁₂ + -0.674 𝐞₁₃ + 0.174 𝐞₁₄ + -0.233 𝐞₂₃ + -0.0761 𝐞₂₄ + 0.139 𝐞₃₄,\n",
       "  0.661 𝐞₁₂ + -0.674 𝐞₁₃ + -0.233 𝐞₂₃ + 0.174 𝐞₁₄ + -0.0761 𝐞₂₄ + 0.139 𝐞₃₄)]"
      ]
     },
     "execution_count": 16,
     "metadata": {},
     "output_type": "execute_result"
    }
   ],
   "source": [
    "#7.17\n",
    "theta = np.random.rand(2)\n",
    "rotors = [blade_exp(t*blade) for t, blade in zip(theta, blades)]\n",
    "[(U.sw(G), G) for U in rotors for G in blades]"
   ]
  },
  {
   "cell_type": "code",
   "execution_count": 17,
   "metadata": {},
   "outputs": [
    {
     "data": {
      "text/plain": [
       "array([1., 1., 1., 1., 1., 1.])"
      ]
     },
     "execution_count": 17,
     "metadata": {},
     "output_type": "execute_result"
    }
   ],
   "source": [
    "#7.18\n",
    "first_vecs = [blade_split(blade, alg)[0] for blade in blades]\n",
    "first_vecs = [v/norm(v) for v in first_vecs]\n",
    "second_vecs = [v | blade for v, blade in zip(first_vecs, blades)]\n",
    "inter_plane_rotors = [simple_rotor_sqrt(a * b) for a, b in (first_vecs, second_vecs)]\n",
    "U = gprod(inter_plane_rotors)\n",
    "terms_ratio(U.sw(blades[0]), blades[1])"
   ]
  },
  {
   "cell_type": "code",
   "execution_count": 18,
   "metadata": {},
   "outputs": [
    {
     "data": {
      "text/plain": [
       "(0.799 𝐞₁₂ + -0.598 𝐞₁₃ + -0.0587 𝐞₁₄ + -0.0587 𝐞₂₃ + 0.598 𝐞₂₄ + 0.799 𝐞₃₄,\n",
       " 0.799 𝐞₁₂ + -0.598 𝐞₁₃ + -0.0587 𝐞₁₄ + -0.0587 𝐞₂₃ + 0.598 𝐞₂₄ + 0.799 𝐞₃₄)"
      ]
     },
     "execution_count": 18,
     "metadata": {},
     "output_type": "execute_result"
    }
   ],
   "source": [
    "G_normalized = sum(blades)\n",
    "G_normalized, U.sw(G_normalized)"
   ]
  },
  {
   "cell_type": "code",
   "execution_count": 19,
   "metadata": {},
   "outputs": [
    {
     "data": {
      "text/plain": [
       "(0.338 𝐞₁₂ + -0.301 𝐞₁₃ + 0.0352 𝐞₁₄ + -0.0745 𝐞₂₃ + 0.0988 𝐞₂₄ + 0.197 𝐞₃₄,\n",
       " 0.338 𝐞₁₂ + -0.301 𝐞₁₃ + 0.0352 𝐞₁₄ + -0.0745 𝐞₂₃ + 0.0988 𝐞₂₄ + 0.197 𝐞₃₄)"
      ]
     },
     "execution_count": 19,
     "metadata": {},
     "output_type": "execute_result"
    }
   ],
   "source": [
    "# we can recover this \"normalization\"\n",
    "sum(P(G_normalized, b) * n for b, n in zip(blades, blades_norm)), G"
   ]
  },
  {
   "cell_type": "code",
   "execution_count": 20,
   "metadata": {},
   "outputs": [
    {
     "data": {
      "text/plain": [
       "[(, ('f', 'f')),\n",
       " (2.78e-17, ('f', 'fp')),\n",
       " (-1.0, ('f', 's')),\n",
       " (1.73e-17, ('f', 'sp')),\n",
       " (-5.55e-17, ('fp', 'f')),\n",
       " (1.04e-17, ('fp', 'fp')),\n",
       " (-2.71e-16, ('fp', 's')),\n",
       " (-1.0, ('fp', 'sp')),\n",
       " (1.0, ('s', 'f')),\n",
       " (2.5e-16, ('s', 'fp')),\n",
       " (, ('s', 's')),\n",
       " (-2.78e-17, ('s', 'sp')),\n",
       " (1.39e-16, ('sp', 'f')),\n",
       " (1.0, ('sp', 'fp')),\n",
       " (4.16e-17, ('sp', 's')),\n",
       " (-6.94e-18, ('sp', 'sp'))]"
      ]
     },
     "execution_count": 20,
     "metadata": {},
     "output_type": "execute_result"
    }
   ],
   "source": [
    "#7.21 zero if not onto the decomposed blades \n",
    "sympletic_basis = first_vecs + second_vecs\n",
    "list(zip((v | (w | G_normalized) for v, w in product(sympletic_basis, repeat=2)), (product(['f', 'fp', 's', 'sp'], repeat=2))))"
   ]
  },
  {
   "cell_type": "code",
   "execution_count": 21,
   "metadata": {},
   "outputs": [
    {
     "data": {
      "text/plain": [
       "([-0.196 𝐞₁ + 2.78e-16 𝐞₂ + 0.245 𝐞₃ + 0.95 𝐞₄,\n",
       "  0.928 𝐞₁ + 0.32 𝐞₂ + 5.91e-17 𝐞₃ + 0.191 𝐞₄,\n",
       "  0.202 𝐞₁ + -0.71 𝐞₂ + -0.642 𝐞₃ + 0.207 𝐞₄,\n",
       "  -0.245 𝐞₁ + 0.627 𝐞₂ + -0.726 𝐞₃ + 0.137 𝐞₄],\n",
       " [-0.202 𝐞₁ + 0.71 𝐞₂ + 0.642 𝐞₃ + -0.207 𝐞₄,\n",
       "  0.245 𝐞₁ + -0.627 𝐞₂ + 0.726 𝐞₃ + -0.137 𝐞₄,\n",
       "  -0.196 𝐞₁ + 0.245 𝐞₃ + 0.95 𝐞₄,\n",
       "  0.928 𝐞₁ + 0.32 𝐞₂ + 1.04e-17 𝐞₃ + 0.191 𝐞₄])"
      ]
     },
     "execution_count": 21,
     "metadata": {},
     "output_type": "execute_result"
    }
   ],
   "source": [
    "# Recover the normalization\n",
    "[gm(v)/n for v, n in zip(sympletic_basis, blades_norm*2)], sympletic_basis"
   ]
  },
  {
   "cell_type": "code",
   "execution_count": 22,
   "metadata": {},
   "outputs": [
    {
     "data": {
      "text/plain": [
       "(0.799 𝐞₁₂ + -0.598 𝐞₁₃ + -0.0587 𝐞₁₄ + -0.0587 𝐞₂₃ + 0.598 𝐞₂₄ + 0.799 𝐞₃₄,\n",
       " 0.799 𝐞₁₂ + -0.598 𝐞₁₃ + -0.0587 𝐞₁₄ + -0.0587 𝐞₂₃ + 0.598 𝐞₂₄ + 0.799 𝐞₃₄,\n",
       " 0.338 𝐞₁₂ + -0.301 𝐞₁₃ + 0.0352 𝐞₁₄ + -0.0745 𝐞₂₃ + 0.0988 𝐞₂₄ + 0.197 𝐞₃₄,\n",
       " 0.338 𝐞₁₂ + -0.301 𝐞₁₃ + 0.0352 𝐞₁₄ + -0.0745 𝐞₂₃ + 0.0988 𝐞₂₄ + 0.197 𝐞₃₄)"
      ]
     },
     "execution_count": 22,
     "metadata": {},
     "output_type": "execute_result"
    }
   ],
   "source": [
    "#7.26a symplectic transformations of gm (isometries of skew bilinear form)\n",
    "# conditions: unity and sympletic basis\n",
    "translation = lambda x: (\n",
    "    x + \n",
    "    2*(x|second_vecs[1]) * first_vecs[1] + \n",
    "    3*(x|second_vecs[0]) * first_vecs[0]\n",
    "    )\n",
    "\n",
    "outermorphism(translation, G_normalized, alg), G_normalized, outermorphism(translation, G, alg), G"
   ]
  },
  {
   "cell_type": "code",
   "execution_count": 23,
   "metadata": {},
   "outputs": [
    {
     "data": {
      "text/plain": [
       "(0.799 𝐞₁₂ + -0.598 𝐞₁₃ + -0.0587 𝐞₁₄ + -0.0587 𝐞₂₃ + 0.598 𝐞₂₄ + 0.799 𝐞₃₄,\n",
       " 0.799 𝐞₁₂ + -0.598 𝐞₁₃ + -0.0587 𝐞₁₄ + -0.0587 𝐞₂₃ + 0.598 𝐞₂₄ + 0.799 𝐞₃₄,\n",
       " 0.338 𝐞₁₂ + -0.301 𝐞₁₃ + 0.0352 𝐞₁₄ + -0.0745 𝐞₂₃ + 0.0988 𝐞₂₄ + 0.197 𝐞₃₄,\n",
       " 0.338 𝐞₁₂ + -0.301 𝐞₁₃ + 0.0352 𝐞₁₄ + -0.0745 𝐞₂₃ + 0.0988 𝐞₂₄ + 0.197 𝐞₃₄)"
      ]
     },
     "execution_count": 23,
     "metadata": {},
     "output_type": "execute_result"
    }
   ],
   "source": [
    "#7.26b\n",
    "rotation = lambda x: (\n",
    "    x + \n",
    "    4*((x|first_vecs[1]) * second_vecs[1] + (x|second_vecs[0]) * first_vecs[0])\n",
    "    )\n",
    "\n",
    "outermorphism(rotation, G_normalized, alg), G_normalized, outermorphism(rotation, G, alg), G"
   ]
  },
  {
   "cell_type": "code",
   "execution_count": 24,
   "metadata": {},
   "outputs": [
    {
     "data": {
      "text/plain": [
       "(0.338 𝐞₁₂ + -0.301 𝐞₁₃ + 0.0352 𝐞₁₄ + -0.0745 𝐞₂₃ + 0.0988 𝐞₂₄ + 0.197 𝐞₃₄,\n",
       " 0.338 𝐞₁₂ + -0.301 𝐞₁₃ + 0.0352 𝐞₁₄ + -0.0745 𝐞₂₃ + 0.0988 𝐞₂₄ + 0.197 𝐞₃₄)"
      ]
     },
     "execution_count": 24,
     "metadata": {},
     "output_type": "execute_result"
    }
   ],
   "source": [
    "#7.26c\n",
    "outermorphism(lambda x: rotation(translation(x)), G, alg), G"
   ]
  },
  {
   "cell_type": "code",
   "execution_count": 25,
   "metadata": {},
   "outputs": [
    {
     "data": {
      "text/plain": [
       "(1.7, 1.7, 1.7)"
      ]
     },
     "execution_count": 25,
     "metadata": {},
     "output_type": "execute_result"
    }
   ],
   "source": [
    "#7.28\n",
    "gp = sym_part(g, alg)\n",
    "matrix = trans2matrix(gp, alg)\n",
    "eigvalues, eigvecs = np.linalg.eigh(matrix)\n",
    "eigvecs = [alg.vector(v) for v in eigvecs.transpose()]\n",
    "neg_vecs = [v for e, v in zip(eigvalues, eigvecs) if e < 0]\n",
    "neg_blade = wedge(neg_vecs)\n",
    "nv_sign = (-1) ** len(neg_vecs) \n",
    "c = lambda x: nv_sign*neg_blade.sw(x)\n",
    "h = lambda x: sum(np.sqrt(abs(e)) * P(x, v) for e, v in zip(eigvalues, eigvecs))\n",
    "\n",
    "x | gp(b), h(x)|c(h(b)), c(x)|h(h(b))"
   ]
  },
  {
   "cell_type": "code",
   "execution_count": 26,
   "metadata": {},
   "outputs": [
    {
     "data": {
      "text/plain": [
       "(1.56, 1.56)"
      ]
     },
     "execution_count": 26,
     "metadata": {},
     "output_type": "execute_result"
    }
   ],
   "source": [
    "#7.28 If the symmetric transformation is positive definite (Euclidean metric)\n",
    "gpp = lambda x: sum(abs(e) * P(x, v) for e, v in zip(eigvalues, eigvecs))\n",
    "hinv = lambda x: sum(1/np.sqrt(abs(e)) * P(x, v) for e, v in zip(eigvalues, eigvecs))\n",
    "Q = random_r_blade(3, alg)\n",
    "Q = Q / norm(Q)\n",
    "f = lambda x: -hinv(Q.sw(h(x)))\n",
    "x | gpp(b), f(x) | gpp(f(b))"
   ]
  },
  {
   "cell_type": "code",
   "execution_count": 59,
   "metadata": {},
   "outputs": [
    {
     "data": {
      "text/plain": [
       "(0.456, 0.456)"
      ]
     },
     "execution_count": 59,
     "metadata": {},
     "output_type": "execute_result"
    }
   ],
   "source": [
    "#8.2\n",
    "alg = Algebra(3, 1)\n",
    "locals().update(alg.blades)\n",
    "x, y, u = random_r_vectors(3, alg)\n",
    "u = u / norm(u)\n",
    "R = lambda x: - u.sw(x)\n",
    "R(x) | R(y), x | y"
   ]
  },
  {
   "cell_type": "code",
   "execution_count": 60,
   "metadata": {},
   "outputs": [
    {
     "data": {
      "text/plain": [
       "-1.0 + 4.1e-18 𝐞₁₃ + -8.21e-18 𝐞₁₄ + 3.28e-17 𝐞₂₄ + 6.57e-17 𝐞₃₄ + -2.46e-17 𝐞₁₂₃₄"
      ]
     },
     "execution_count": 60,
     "metadata": {},
     "output_type": "execute_result"
    }
   ],
   "source": [
    "#8.3 a general isometry of vector(3,1)\n",
    "r = 3\n",
    "U = gprod(random_r_vectors(r, alg)) # a versor, of either even or odd grades\n",
    "f = lambda x: (-1) ** r * U.sw(x)/normsq(U)\n",
    "U * U.reverse()/normsq(U) # invertible"
   ]
  },
  {
   "cell_type": "code",
   "execution_count": 61,
   "metadata": {},
   "outputs": [
    {
     "data": {
      "text/plain": [
       "(0.456, 0.456)"
      ]
     },
     "execution_count": 61,
     "metadata": {},
     "output_type": "execute_result"
    }
   ],
   "source": [
    "#8.1\n",
    "f(x) | f(y), x|y"
   ]
  },
  {
   "cell_type": "code",
   "execution_count": 62,
   "metadata": {},
   "outputs": [
    {
     "data": {
      "text/plain": [
       "(0.326 𝐞₁ + 0.0994 𝐞₂ + 0.901 𝐞₃ + 0.188 𝐞₄,\n",
       " 0.326 𝐞₁ + 0.0994 𝐞₂ + 0.901 𝐞₃ + 0.188 𝐞₄)"
      ]
     },
     "execution_count": 62,
     "metadata": {},
     "output_type": "execute_result"
    }
   ],
   "source": [
    "#8.5\n",
    "I = alg.pseudoscalar((1,))\n",
    "I.sw(x), x"
   ]
  },
  {
   "cell_type": "code",
   "execution_count": 63,
   "metadata": {},
   "outputs": [
    {
     "data": {
      "text/plain": [
       "(-1.0 𝐞₁₂₃₄, -1.61e-16 + -1.0 𝐞₁₂₃₄)"
      ]
     },
     "execution_count": 63,
     "metadata": {},
     "output_type": "execute_result"
    }
   ],
   "source": [
    "#8.7\n",
    "r = 3\n",
    "U = gprod(random_r_vectors(r, alg)) # a versor, of either even or odd grades\n",
    "f = lambda x: (-1) ** r * U.sw(x)/normsq(U)\n",
    "outermorphism(f, I, alg), U.sw(I)/normsq(U)"
   ]
  },
  {
   "cell_type": "code",
   "execution_count": 64,
   "metadata": {},
   "outputs": [
    {
     "name": "stdout",
     "output_type": "stream",
     "text": [
      "1.0 + 1.11e-16 𝐞₁₃ + -2.91e-16 𝐞₁₄ + 1.53e-16 𝐞₂₃ + -2.78e-16 𝐞₂₄ + -2.57e-16 𝐞₃₄ + 7.77e-16 𝐞₁₂₃₄\n",
      "1.0 + -2.22e-16 𝐞₁₃ + -2.78e-16 𝐞₁₄ + 2.22e-16 𝐞₂₄ + -1.11e-16 𝐞₃₄ + -4.44e-16 𝐞₁₂₃₄\n",
      "1.0 + 4.16e-17 𝐞₁₄ + -1.39e-17 𝐞₂₃ + 5.55e-17 𝐞₃₄ + 1.67e-16 𝐞₁₂₃₄\n",
      "1.0 + 3.47e-18 𝐞₁₂ + 1.84e-18 𝐞₁₃ + 2.17e-18 𝐞₁₄ + 1.04e-17 𝐞₂₃ + 4.51e-17 𝐞₂₄ + -5.2e-18 𝐞₃₄ + -3.92e-17 𝐞₁₂₃₄\n",
      "1.0 + -1.67e-16 𝐞₁₄ + 1.67e-16 𝐞₂₄ + 6.94e-16 𝐞₁₂₃₄\n",
      "1.0 + -3.47e-18 𝐞₁₂ + -2.78e-17 𝐞₁₃ + -3.47e-18 𝐞₁₄ + -3.3e-17 𝐞₂₃ + -3.47e-18 𝐞₁₂₃₄\n",
      "-1.0 + 1.39e-17 𝐞₂₃ + 2.78e-17 𝐞₂₄ + 2.78e-17 𝐞₃₄ + -1.11e-16 𝐞₁₂₃₄\n",
      "1.0 + 8.67e-19 𝐞₁₂ + -2.47e-17 𝐞₁₃ + -1.84e-18 𝐞₁₄ + 3.47e-18 𝐞₂₃ + -1.04e-17 𝐞₃₄ + 3.47e-17 𝐞₁₂₃₄\n",
      "1.0 + -1.14e-16 𝐞₁₄ + 5.55e-17 𝐞₂₃ + -6.94e-18 𝐞₂₄ + 2.78e-17 𝐞₃₄ + 1.39e-16 𝐞₁₂₃₄\n",
      "1.0 + -4.34e-18 𝐞₁₂ + 2.3e-17 𝐞₁₃ + 1.73e-18 𝐞₁₄ + 1.99e-17 𝐞₂₃ + 1.73e-17 𝐞₁₂₃₄\n"
     ]
    }
   ],
   "source": [
    "#8.8\n",
    "def random_versor(r, alg):\n",
    "    return gprod(random_r_vectors(r, alg))\n",
    "r=3\n",
    "for _ in range(10):\n",
    "    U = random_versor(r, alg)\n",
    "    U = U/norm(U)\n",
    "    print(U.reverse() * U)"
   ]
  },
  {
   "cell_type": "code",
   "execution_count": 65,
   "metadata": {},
   "outputs": [
    {
     "data": {
      "text/plain": [
       "0.377 + 1.64 𝐞₁₂ + -2.99 𝐞₁₃ + 1.36 𝐞₁₄ + 5.96 𝐞₂₃ + -4.91 𝐞₂₄ + 3.29 𝐞₃₄ + -3.08 𝐞₁₂₃₄"
      ]
     },
     "execution_count": 65,
     "metadata": {},
     "output_type": "execute_result"
    }
   ],
   "source": [
    "#8.9\n",
    "def random_even_versor(alg):\n",
    "    d = alg.d\n",
    "    if (alg.d % 2):\n",
    "        d -= 1\n",
    "    return gprod(random_r_vectors(d, alg))\n",
    "\n",
    "\n",
    "def random_rotor(alg):\n",
    "    while True:\n",
    "        S = random_even_versor(alg)\n",
    "        sign  = (S.reverse().sp(S))[0]\n",
    "        if sign > 0:\n",
    "            return S/norm(S)\n",
    "\n",
    "random_rotor(alg)"
   ]
  },
  {
   "cell_type": "code",
   "execution_count": 66,
   "metadata": {},
   "outputs": [
    {
     "data": {
      "text/plain": [
       "(1.31 + 0.104 𝐞₁₂ + 0.0982 𝐞₁₃ + -0.0738 𝐞₂₃,\n",
       " 1.25 + 1.1 𝐞₁₂ + 0.011 𝐞₁₃ + -0.216 𝐞₁₄ + 0.0766 𝐞₂₃ + 1.2 𝐞₂₄ + -0.885 𝐞₃₄ + 3.51 𝐞₁₂₃₄)"
      ]
     },
     "execution_count": 66,
     "metadata": {},
     "output_type": "execute_result"
    }
   ],
   "source": [
    "#8.10 a spinor not a versor\n",
    "def random_study_number(alg):\n",
    "    a, b = np.random.rand(2)\n",
    "    return (a + b*alg.pseudoscalar((1,)))\n",
    "\n",
    "def random_spinor(alg: Algebra):\n",
    "    if alg.d % 4:\n",
    "        return random_even_versor(alg)\n",
    "    return random_study_number(alg) * random_even_versor(alg)\n",
    "\n",
    "random_spinor(Algebra(3)), random_spinor(Algebra(4))\n"
   ]
  },
  {
   "cell_type": "code",
   "execution_count": null,
   "metadata": {},
   "outputs": [],
   "source": [
    "a, b = random_r_vectors"
   ]
  }
 ],
 "metadata": {
  "kernelspec": {
   "display_name": "Python 3",
   "language": "python",
   "name": "python3"
  },
  "language_info": {
   "codemirror_mode": {
    "name": "ipython",
    "version": 3
   },
   "file_extension": ".py",
   "mimetype": "text/x-python",
   "name": "python",
   "nbconvert_exporter": "python",
   "pygments_lexer": "ipython3",
   "version": "3.10.5"
  }
 },
 "nbformat": 4,
 "nbformat_minor": 2
}
