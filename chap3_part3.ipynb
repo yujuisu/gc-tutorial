{
 "cells": [
  {
   "cell_type": "markdown",
   "metadata": {},
   "source": [
    "### Algebraic Representation of Linear Multivector Functions\n",
    "effect of a function on the structure of a space -> express the function in terms of algebraic operations on multivectors\n"
   ]
  },
  {
   "cell_type": "code",
   "execution_count": 1,
   "metadata": {},
   "outputs": [],
   "source": [
    "from gc_utils import *\n",
    "\n",
    "alg = Algebra(5)"
   ]
  },
  {
   "cell_type": "code",
   "execution_count": 2,
   "metadata": {},
   "outputs": [
    {
     "data": {
      "text/plain": [
       "(-4.69 + 2.81 𝐞₁ + 9.2 𝐞₂ + 9.86 𝐞₃ + -10.1 𝐞₄ + -13.1 𝐞₅ + -14.9 𝐞₁₂ + -1.01 𝐞₁₃ + 5.43 𝐞₁₄ + 20.0 𝐞₁₅ + -9.25 𝐞₂₃ + -9.81 𝐞₂₄ + -0.34 𝐞₂₅ + 15.2 𝐞₃₄ + 8.35 𝐞₃₅ + -5.8 𝐞₄₅ + -1.84 𝐞₁₂₃ + 6.56 𝐞₁₂₄ + -5.21 𝐞₁₂₅ + -6.93 𝐞₁₃₄ + 13.5 𝐞₁₃₅ + -4.37 𝐞₁₄₅ + 4.5 𝐞₂₃₄ + -10.2 𝐞₂₃₅ + -4.67 𝐞₂₄₅ + 2.88 𝐞₃₄₅ + -10.9 𝐞₁₂₃₄ + 11.6 𝐞₁₂₃₅ + 6.08 𝐞₁₂₄₅ + -3.36 𝐞₁₃₄₅ + 9.84 𝐞₂₃₄₅ + -17.7 𝐞₁₂₃₄₅,\n",
       " -4.69 + 2.81 𝐞₁ + 9.2 𝐞₂ + 9.86 𝐞₃ + -10.1 𝐞₄ + -13.1 𝐞₅ + -14.9 𝐞₁₂ + -1.01 𝐞₁₃ + 5.43 𝐞₁₄ + 20.0 𝐞₁₅ + -9.25 𝐞₂₃ + -9.81 𝐞₂₄ + -0.34 𝐞₂₅ + 15.2 𝐞₃₄ + 8.35 𝐞₃₅ + -5.8 𝐞₄₅ + -1.84 𝐞₁₂₃ + 6.56 𝐞₁₂₄ + -5.21 𝐞₁₂₅ + -6.93 𝐞₁₃₄ + 13.5 𝐞₁₃₅ + -4.37 𝐞₁₄₅ + 4.5 𝐞₂₃₄ + -10.2 𝐞₂₃₅ + -4.67 𝐞₂₄₅ + 2.88 𝐞₃₄₅ + -10.9 𝐞₁₂₃₄ + 11.6 𝐞₁₂₃₅ + 6.08 𝐞₁₂₄₅ + -3.36 𝐞₁₃₄₅ + 9.84 𝐞₂₃₄₅ + -17.7 𝐞₁₂₃₄₅)"
      ]
     },
     "execution_count": 2,
     "metadata": {},
     "output_type": "execute_result"
    }
   ],
   "source": [
    "#9.8\n",
    "def protraction(F, Y):\n",
    "    return curl(lambda x: F(x ^ Y), 0, alg, grade=1)\n",
    "\n",
    "def contraction(F, Y):\n",
    "    return div(lambda x: F(x ^ Y), 0, alg, grade=1)\n",
    "\n",
    "def traction(F, Y):\n",
    "    return derivative(lambda x: F(x ^ Y), 0, alg, grade=1)\n",
    "\n",
    "A, B, C, D = [random_multivector(alg) for _ in range(4)]\n",
    "F = lambda X: A * X * B + C * X * D\n",
    "x = random_r_blade(1, alg)\n",
    "X, Y = (random_multivector(alg).grade(2) for _ in range(2))\n",
    "\n",
    "traction(F, Y), contraction(F, Y) + protraction(F, Y)"
   ]
  },
  {
   "cell_type": "code",
   "execution_count": 3,
   "metadata": {},
   "outputs": [
    {
     "data": {
      "text/plain": [
       "(-4.43,\n",
       " -4.43,\n",
       " -0.173 𝐞₁₂₃ + 0.271 𝐞₁₂₄ + -0.238 𝐞₁₂₅ + -0.152 𝐞₁₃₄ + 0.32 𝐞₁₃₅ + -0.293 𝐞₁₄₅ + -0.118 𝐞₂₃₄ + 0.564 𝐞₂₃₅ + -0.725 𝐞₂₄₅ + 0.278 𝐞₃₄₅,\n",
       " -0.101 𝐞₁ + 0.847 𝐞₂ + 1.4 𝐞₃ + 1.38 𝐞₄ + 0.22 𝐞₅)"
      ]
     },
     "execution_count": 3,
     "metadata": {},
     "output_type": "execute_result"
    }
   ],
   "source": [
    "#9.9 symmetric multiform not necessarily protractionless\n",
    "B2 = B.grade(2)\n",
    "G0 = lambda x: x|B2  # skew symmetric 1 form\n",
    "G = lambda X: outermorphism(G0, X, alg)  # symmetric multiform\n",
    "G(X) | Y, G(Y) | X, protraction(G, x), contraction(G, x)"
   ]
  },
  {
   "cell_type": "code",
   "execution_count": 4,
   "metadata": {},
   "outputs": [
    {
     "data": {
      "text/plain": [
       "2.78e-17 𝐞₁₂₃ + -1.11e-16 𝐞₁₂₅ + 1.04e-17 𝐞₁₃₄ + 1.39e-17 𝐞₁₃₅ + -2.78e-17 𝐞₂₃₄ + -5.55e-17 𝐞₂₄₅ + -2.78e-17 𝐞₃₄₅"
      ]
     },
     "execution_count": 4,
     "metadata": {},
     "output_type": "execute_result"
    }
   ],
   "source": [
    "# if the bivector is simple instead\n",
    "blade2 = random_r_blade(2, alg)\n",
    "G1 = lambda X: outermorphism(lambda x: x|blade2, X, alg)\n",
    "protraction(G1, x)"
   ]
  },
  {
   "cell_type": "code",
   "execution_count": 5,
   "metadata": {},
   "outputs": [
    {
     "data": {
      "text/plain": [
       "0.639 𝐞₁₂₃₄ + -0.526 𝐞₁₂₃₅ + -0.0558 𝐞₁₂₄₅ + 0.722 𝐞₁₃₄₅ + 1.73 𝐞₂₃₄₅"
      ]
     },
     "execution_count": 5,
     "metadata": {},
     "output_type": "execute_result"
    }
   ],
   "source": [
    "#9.11 simplicial curl is the max grade of simplicial derivative\n",
    "simplicial_derivative(lambda vectors: G(wedge(vectors)), np.zeros(2), alg).grade(4)"
   ]
  },
  {
   "cell_type": "code",
   "execution_count": 6,
   "metadata": {},
   "outputs": [
    {
     "data": {
      "text/plain": [
       "1.36 + -1.39e-17 𝐞₁₃ + -1.39e-17 𝐞₁₅ + -1.39e-17 𝐞₂₄ + -6.94e-17 𝐞₂₅ + 6.94e-18 𝐞₃₅ + 3.47e-18 𝐞₄₅ + -6.25e-17 𝐞₁₂₃₄ + -2.22e-16 𝐞₁₂₄₅ + -1.39e-17 𝐞₁₃₄₅"
      ]
     },
     "execution_count": 6,
     "metadata": {},
     "output_type": "execute_result"
    }
   ],
   "source": [
    "#9.12b protractionliss implies zero simplicial curl\n",
    "simplicial_derivative(lambda vectors: G1(wedge(vectors)), np.zeros(2), alg)"
   ]
  },
  {
   "cell_type": "code",
   "execution_count": 7,
   "metadata": {},
   "outputs": [],
   "source": [
    "#9.13 contractionless implies zero simplicial divergence"
   ]
  },
  {
   "cell_type": "code",
   "execution_count": 8,
   "metadata": {},
   "outputs": [
    {
     "data": {
      "text/plain": [
       "(-0.173 𝐞₁₂₃ + 0.271 𝐞₁₂₄ + -0.238 𝐞₁₂₅ + -0.152 𝐞₁₃₄ + 0.32 𝐞₁₃₅ + -0.293 𝐞₁₄₅ + -0.118 𝐞₂₃₄ + 0.564 𝐞₂₃₅ + -0.725 𝐞₂₄₅ + 0.278 𝐞₃₄₅,\n",
       " -0.573 𝐞₁ + 0.775 𝐞₂ + 0.718 𝐞₃ + 0.687 𝐞₄ + -0.0686 𝐞₅,\n",
       " 1.25e-16 + 1.39e-17 𝐞₁₄ + -1.39e-17 𝐞₂₃ + -4.16e-17 𝐞₂₅ + -1.39e-17 𝐞₄₅ + 0.639 𝐞₁₂₃₄ + -0.526 𝐞₁₂₃₅ + -0.0558 𝐞₁₂₄₅ + 0.722 𝐞₁₃₄₅ + 1.73 𝐞₂₃₄₅)"
      ]
     },
     "execution_count": 8,
     "metadata": {},
     "output_type": "execute_result"
    }
   ],
   "source": [
    "#9.13 other side: zero simplicial divergence not necessarily contractionless, why (alg.d * (alg.d-1)/2)?\n",
    "trace = simplicial_derivative(lambda vectors: G(wedge(vectors)), np.zeros(2), alg)[0]\n",
    "G2 = lambda X: outermorphism(G0, X, alg) - trace/(alg.d * (alg.d-1)/2) * X  # symmetric multiform\n",
    "protraction(G2, x), contraction(G2, x), simplicial_derivative(lambda vectors: G2(wedge(vectors)), np.zeros(2), alg)"
   ]
  },
  {
   "cell_type": "code",
   "execution_count": 9,
   "metadata": {},
   "outputs": [
    {
     "data": {
      "text/plain": [
       "(1.58 𝐞₁₂₃ + 2.57 𝐞₁₂₄ + 2.38 𝐞₁₂₅ + 1.12 𝐞₁₃₄ + 1.85 𝐞₁₃₅ + 2.28 𝐞₁₄₅ + 3.0 𝐞₂₃₄ + 0.696 𝐞₂₃₅ + 2.23 𝐞₂₄₅ + 2.75 𝐞₃₄₅,\n",
       " 1.58 𝐞₁₂₃ + 2.57 𝐞₁₂₄ + 2.38 𝐞₁₂₅ + 1.12 𝐞₁₃₄ + 1.85 𝐞₁₃₅ + 2.28 𝐞₁₄₅ + 3.0 𝐞₂₃₄ + 0.696 𝐞₂₃₅ + 2.23 𝐞₂₄₅ + 2.75 𝐞₃₄₅,\n",
       " 1.58 𝐞₁₂₃ + 2.57 𝐞₁₂₄ + 2.38 𝐞₁₂₅ + 1.12 𝐞₁₃₄ + 1.85 𝐞₁₃₅ + 2.28 𝐞₁₄₅ + 3.0 𝐞₂₃₄ + 0.696 𝐞₂₃₅ + 2.23 𝐞₂₄₅ + 2.75 𝐞₃₄₅)"
      ]
     },
     "execution_count": 9,
     "metadata": {},
     "output_type": "execute_result"
    }
   ],
   "source": [
    "#9.15a Not scalar product, so not adjoint nor differential!\n",
    "k = 3\n",
    "K = random_multivector(alg).grade(k)\n",
    "derivative(lambda a: a | K, 0, alg, grade=1), k*K, sum((K | r) * v for v, r in zip(alg.frame, reciprocal(alg.frame)))"
   ]
  },
  {
   "cell_type": "code",
   "execution_count": 10,
   "metadata": {},
   "outputs": [
    {
     "data": {
      "text/plain": [
       "(1.05 𝐞₁₂₃ + 1.71 𝐞₁₂₄ + 1.59 𝐞₁₂₅ + 0.744 𝐞₁₃₄ + 1.23 𝐞₁₃₅ + 1.52 𝐞₁₄₅ + 2.0 𝐞₂₃₄ + 0.464 𝐞₂₃₅ + 1.48 𝐞₂₄₅ + 1.83 𝐞₃₄₅,\n",
       " 1.05 𝐞₁₂₃ + 1.71 𝐞₁₂₄ + 1.59 𝐞₁₂₅ + 0.744 𝐞₁₃₄ + 1.23 𝐞₁₃₅ + 1.52 𝐞₁₄₅ + 2.0 𝐞₂₃₄ + 0.464 𝐞₂₃₅ + 1.48 𝐞₂₄₅ + 1.83 𝐞₃₄₅,\n",
       " 1.05 𝐞₁₂₃ + 1.71 𝐞₁₂₄ + 1.59 𝐞₁₂₅ + 0.744 𝐞₁₃₄ + 1.23 𝐞₁₃₅ + 1.52 𝐞₁₄₅ + 2.0 𝐞₂₃₄ + 0.464 𝐞₂₃₅ + 1.48 𝐞₂₄₅ + 1.83 𝐞₃₄₅)"
      ]
     },
     "execution_count": 10,
     "metadata": {},
     "output_type": "execute_result"
    }
   ],
   "source": [
    "#9.15b\n",
    "derivative(lambda a: a ^ K, 0, alg, grade=1), (alg.d - k)*K, sum((K ^ r) * v for v, r in zip(alg.frame, reciprocal(alg.frame)))"
   ]
  },
  {
   "cell_type": "code",
   "execution_count": 11,
   "metadata": {},
   "outputs": [
    {
     "data": {
      "text/plain": [
       "(40.6 + -3.03 𝐞₁₂ + -3.8 𝐞₁₃ + -1.96 𝐞₁₄ + -4.56 𝐞₁₅ + 1.29 𝐞₂₃ + -0.754 𝐞₂₄ + -0.0601 𝐞₂₅ + 1.22 𝐞₃₄ + 1.61 𝐞₃₅ + -4.81 𝐞₄₅ + 8.56 𝐞₁₂₃₄ + 1.8 𝐞₁₂₃₅ + 11.8 𝐞₁₂₄₅ + 0.501 𝐞₁₃₄₅ + 5.81 𝐞₂₃₄₅,\n",
       " 40.6 + -3.03 𝐞₁₂ + -3.8 𝐞₁₃ + -1.96 𝐞₁₄ + -4.56 𝐞₁₅ + 1.29 𝐞₂₃ + -0.754 𝐞₂₄ + -0.0601 𝐞₂₅ + 1.22 𝐞₃₄ + 1.61 𝐞₃₅ + -4.81 𝐞₄₅ + 8.56 𝐞₁₂₃₄ + 1.8 𝐞₁₂₃₅ + 11.8 𝐞₁₂₄₅ + 0.501 𝐞₁₃₄₅ + 5.81 𝐞₂₃₄₅)"
      ]
     },
     "execution_count": 11,
     "metadata": {},
     "output_type": "execute_result"
    }
   ],
   "source": [
    "#9.16 9.17 the bivector derivative of a biform\n",
    "biform = lambda X: F(X).grade(2)\n",
    "derivative(biform, 0, alg, grade=2), simplicial_derivative(lambda vectors: biform(wedge(vectors)), np.zeros(2), alg)"
   ]
  },
  {
   "cell_type": "code",
   "execution_count": 12,
   "metadata": {},
   "outputs": [
    {
     "data": {
      "text/plain": [
       "(1.58 𝐞₁₂₃ + 2.57 𝐞₁₂₄ + 2.38 𝐞₁₂₅ + 1.12 𝐞₁₃₄ + 1.85 𝐞₁₃₅ + 2.28 𝐞₁₄₅ + 3.0 𝐞₂₃₄ + 0.696 𝐞₂₃₅ + 2.23 𝐞₂₄₅ + 2.75 𝐞₃₄₅,\n",
       " 1.58 𝐞₁₂₃ + 2.57 𝐞₁₂₄ + 2.38 𝐞₁₂₅ + 1.12 𝐞₁₃₄ + 1.85 𝐞₁₃₅ + 2.28 𝐞₁₄₅ + 3.0 𝐞₂₃₄ + 0.696 𝐞₂₃₅ + 2.23 𝐞₂₄₅ + 2.75 𝐞₃₄₅,\n",
       " 1.58 𝐞₁₂₃ + 2.57 𝐞₁₂₄ + 2.38 𝐞₁₂₅ + 1.12 𝐞₁₃₄ + 1.85 𝐞₁₃₅ + 2.28 𝐞₁₄₅ + 3.0 𝐞₂₃₄ + 0.696 𝐞₂₃₅ + 2.23 𝐞₂₄₅ + 2.75 𝐞₃₄₅)"
      ]
     },
     "execution_count": 12,
     "metadata": {},
     "output_type": "execute_result"
    }
   ],
   "source": [
    "#9.18a\n",
    "frame2 = r_vector_frame(alg.frame, 2)\n",
    "rframe2 = r_vector_frame(reciprocal(alg.frame), 2, reverse=True)\n",
    "(\n",
    "    derivative(lambda X: X | K, 0, alg, grade=2), \n",
    "    k * (k-1)/2*K, \n",
    "    sum((K | r) * v for v, r in zip(frame2, rframe2)),\n",
    ")"
   ]
  },
  {
   "cell_type": "code",
   "execution_count": 13,
   "metadata": {},
   "outputs": [
    {
     "data": {
      "text/plain": [
       "(3.16 𝐞₁₂₃ + 5.14 𝐞₁₂₄ + 4.76 𝐞₁₂₅ + 2.23 𝐞₁₃₄ + 3.69 𝐞₁₃₅ + 4.55 𝐞₁₄₅ + 6.0 𝐞₂₃₄ + 1.39 𝐞₂₃₅ + 4.45 𝐞₂₄₅ + 5.5 𝐞₃₄₅,\n",
       " 3.16 𝐞₁₂₃ + 5.14 𝐞₁₂₄ + 4.76 𝐞₁₂₅ + 2.23 𝐞₁₃₄ + 3.69 𝐞₁₃₅ + 4.55 𝐞₁₄₅ + 6.0 𝐞₂₃₄ + 1.39 𝐞₂₃₅ + 4.45 𝐞₂₄₅ + 5.5 𝐞₃₄₅,\n",
       " 3.16 𝐞₁₂₃ + 5.14 𝐞₁₂₄ + 4.76 𝐞₁₂₅ + 2.23 𝐞₁₃₄ + 3.69 𝐞₁₃₅ + 4.55 𝐞₁₄₅ + 6.0 𝐞₂₃₄ + 1.39 𝐞₂₃₅ + 4.45 𝐞₂₄₅ + 5.5 𝐞₃₄₅)"
      ]
     },
     "execution_count": 13,
     "metadata": {},
     "output_type": "execute_result"
    }
   ],
   "source": [
    "#9.18b\n",
    "(\n",
    "    derivative(lambda X: alg.cp(X,K), 0, alg, grade=2), \n",
    "    k * (alg.d - k)*K, \n",
    "    sum(alg.cp(K, r) * v for v, r in zip(frame2, rframe2))\n",
    ")"
   ]
  },
  {
   "cell_type": "code",
   "execution_count": 14,
   "metadata": {},
   "outputs": [
    {
     "data": {
      "text/plain": [
       "(0.527 𝐞₁₂₃ + 0.857 𝐞₁₂₄ + 0.793 𝐞₁₂₅ + 0.372 𝐞₁₃₄ + 0.615 𝐞₁₃₅ + 0.759 𝐞₁₄₅ + 0.999 𝐞₂₃₄ + 0.232 𝐞₂₃₅ + 0.742 𝐞₂₄₅ + 0.917 𝐞₃₄₅,\n",
       " 0.527 𝐞₁₂₃ + 0.857 𝐞₁₂₄ + 0.793 𝐞₁₂₅ + 0.372 𝐞₁₃₄ + 0.615 𝐞₁₃₅ + 0.759 𝐞₁₄₅ + 0.999 𝐞₂₃₄ + 0.232 𝐞₂₃₅ + 0.742 𝐞₂₄₅ + 0.917 𝐞₃₄₅,\n",
       " 0.527 𝐞₁₂₃ + 0.857 𝐞₁₂₄ + 0.793 𝐞₁₂₅ + 0.372 𝐞₁₃₄ + 0.615 𝐞₁₃₅ + 0.759 𝐞₁₄₅ + 0.999 𝐞₂₃₄ + 0.232 𝐞₂₃₅ + 0.742 𝐞₂₄₅ + 0.917 𝐞₃₄₅)"
      ]
     },
     "execution_count": 14,
     "metadata": {},
     "output_type": "execute_result"
    }
   ],
   "source": [
    "#9.18c\n",
    "n = alg.d\n",
    "(\n",
    "    derivative(lambda X: X ^ K, 0, alg, grade=2), \n",
    "    (n-k) * (n-k-1)/2*K, \n",
    "    sum((K ^ r) * v for v, r in zip(frame2, rframe2))\n",
    ")"
   ]
  },
  {
   "cell_type": "code",
   "execution_count": 15,
   "metadata": {},
   "outputs": [
    {
     "data": {
      "text/plain": [
       "(3.76 𝐞₁ + 2.44 𝐞₂ + 3.27 𝐞₃ + 0.928 𝐞₄ + 0.981 𝐞₅,\n",
       " 3.76 𝐞₁ + 2.44 𝐞₂ + 3.27 𝐞₃ + 0.928 𝐞₄ + 0.981 𝐞₅,\n",
       " 3.76 𝐞₁ + 2.44 𝐞₂ + 3.27 𝐞₃ + 0.928 𝐞₄ + 0.981 𝐞₅)"
      ]
     },
     "execution_count": 15,
     "metadata": {},
     "output_type": "execute_result"
    }
   ],
   "source": [
    "#9.19 case k = 1\n",
    "a = random_r_blade(1, alg)\n",
    "(\n",
    "    derivative(lambda X: X | a, 0, alg, grade=2), \n",
    "    (alg.d - 1)*a, \n",
    "    sum((a | r) * v for v, r in zip(frame2, rframe2))\n",
    ")"
   ]
  },
  {
   "cell_type": "code",
   "execution_count": 16,
   "metadata": {},
   "outputs": [
    {
     "data": {
      "text/plain": [
       "(-4.83 𝐞₁₂ + -0.702 𝐞₁₃ + 1.73 𝐞₁₄ + 2.46 𝐞₁₅ + -9.77 𝐞₂₃ + -6.3 𝐞₂₄ + -2.54 𝐞₂₅ + -7.22 𝐞₃₄ + 3.23 𝐞₃₅ + 1.69 𝐞₄₅,\n",
       " 0.645 𝐞₁₂ + 0.372 𝐞₁₃ + 1.4 𝐞₁₄ + 0.925 𝐞₁₅ + 0.515 𝐞₂₃ + 0.848 𝐞₂₄ + 3.3 𝐞₂₅ + 1.6 𝐞₃₄ + 2.45 𝐞₃₅ + 3.97 𝐞₄₅,\n",
       " -0.74 𝐞₁₂ + -0.621 𝐞₁₃ + -0.207 𝐞₁₄ + 0.858 𝐞₁₅ + -0.261 𝐞₂₃ + 0.46 𝐞₂₄ + -0.135 𝐞₂₅ + 0.618 𝐞₃₄ + -0.413 𝐞₃₅ + 0.106 𝐞₄₅,\n",
       " -2.67 𝐞₁₂ + 0.461 𝐞₁₃ + 1.47 𝐞₁₄ + -0.482 𝐞₁₅ + -1.51 𝐞₂₃ + 0.267 𝐞₂₄ + 0.327 𝐞₂₅ + -1.03 𝐞₃₄ + 0.183 𝐞₃₅ + -0.443 𝐞₄₅)"
      ]
     },
     "execution_count": 16,
     "metadata": {},
     "output_type": "execute_result"
    }
   ],
   "source": [
    "#9.22 biform decomposition\n",
    "# biform = T + sum_0^4 F_i, first the 0, 2, 4 are known:\n",
    "F0 = lambda X: 2/(n*(n-1)) * X * div(biform, X, alg, grade=2)\n",
    "F2 = lambda X: (0.5/(n-2)) * X.cp(derivative(biform, 0, alg, grade=2, operator=alg.cp))\n",
    "F4 = lambda X: (1/6) * X | curl(biform, 0, alg, grade=2)\n",
    "biform(X), F0(X), F2(X), F4(X)"
   ]
  },
  {
   "cell_type": "code",
   "execution_count": 17,
   "metadata": {},
   "outputs": [
    {
     "data": {
      "text/plain": [
       "[40.6 + -3.03 𝐞₁₂ + -3.8 𝐞₁₃ + -1.96 𝐞₁₄ + -4.56 𝐞₁₅ + 1.29 𝐞₂₃ + -0.754 𝐞₂₄ + -0.0601 𝐞₂₅ + 1.22 𝐞₃₄ + 1.61 𝐞₃₅ + -4.81 𝐞₄₅ + 8.56 𝐞₁₂₃₄ + 1.8 𝐞₁₂₃₅ + 11.8 𝐞₁₂₄₅ + 0.501 𝐞₁₃₄₅ + 5.81 𝐞₂₃₄₅,\n",
       " 40.6,\n",
       " -3.03 𝐞₁₂ + -3.8 𝐞₁₃ + -1.96 𝐞₁₄ + -4.56 𝐞₁₅ + 1.29 𝐞₂₃ + -0.754 𝐞₂₄ + -0.0601 𝐞₂₅ + 1.22 𝐞₃₄ + 1.61 𝐞₃₅ + -4.81 𝐞₄₅,\n",
       " 8.56 𝐞₁₂₃₄ + 1.8 𝐞₁₂₃₅ + 11.8 𝐞₁₂₄₅ + 0.501 𝐞₁₃₄₅ + 5.81 𝐞₂₃₄₅]"
      ]
     },
     "execution_count": 17,
     "metadata": {},
     "output_type": "execute_result"
    }
   ],
   "source": [
    "#9.23\n",
    "[derivative(biform, 0, alg, grade=2) for biform in (biform, F0, F2, F4)]"
   ]
  },
  {
   "cell_type": "code",
   "execution_count": 36,
   "metadata": {},
   "outputs": [
    {
     "data": {
      "text/plain": [
       "(-15.0 𝐞₁ + 1.19 𝐞₂ + -10.3 𝐞₃ + -3.72 𝐞₄ + -13.1 𝐞₅,\n",
       " -8.88e-15 + 1.9e-15 𝐞₁₂ + 3.55e-15 𝐞₁₃ + 1.78e-15 𝐞₁₄ + -1.78e-15 𝐞₁₅ + -8.33e-16 𝐞₂₃ + -1.89e-15 𝐞₂₄ + 3.76e-15 𝐞₂₅ + -1.55e-15 𝐞₃₄ + -8.88e-16 𝐞₄₅)"
      ]
     },
     "execution_count": 36,
     "metadata": {},
     "output_type": "execute_result"
    }
   ],
   "source": [
    "#9.24a\n",
    "tr = div(biform, 0, alg, grade=2)\n",
    "cr = derivative(biform, 0, alg, grade=2, operator=alg.cp)\n",
    "f1 = lambda x: contraction(biform, x) - (2/n * tr * x) - (x | cr/2)\n",
    "f1(x), derivative(f1, 0, alg, grade=1)\n"
   ]
  },
  {
   "cell_type": "code",
   "execution_count": 37,
   "metadata": {},
   "outputs": [
    {
     "data": {
      "text/plain": [
       "(-2.58 𝐞₁ + 1.51 𝐞₂ + 1.18 𝐞₃ + 10.4 𝐞₄ + -10.1 𝐞₅,\n",
       " -2.58 𝐞₁ + 1.51 𝐞₂ + 1.18 𝐞₃ + 10.4 𝐞₄ + -10.1 𝐞₅,\n",
       " 3.28 𝐞₁ + -1.06 𝐞₂ + -1.8 𝐞₃ + 0.744 𝐞₄ + -2.62 𝐞₅,\n",
       " 3.28 𝐞₁ + -1.06 𝐞₂ + -1.8 𝐞₃ + 0.744 𝐞₄ + -2.62 𝐞₅)"
      ]
     },
     "execution_count": 37,
     "metadata": {},
     "output_type": "execute_result"
    }
   ],
   "source": [
    "#9.24b\n",
    "f = lambda x: contraction(biform, x)\n",
    "fp = sym_part(f, alg)\n",
    "fm = skew_part(f, alg)\n",
    "f(x), fp(x) + fm(x), fm(x), (x | cr/2)"
   ]
  },
  {
   "cell_type": "code",
   "execution_count": 28,
   "metadata": {},
   "outputs": [
    {
     "data": {
      "text/plain": [
       "(-2.94 𝐞₁₂₃ + -4.55 𝐞₁₂₄ + -0.0214 𝐞₁₂₅ + -1.59 𝐞₁₃₄ + 2.03 𝐞₁₃₅ + 3.97 𝐞₁₄₅ + 3.45 𝐞₂₃₄ + -2.94 𝐞₂₃₅ + 2.0 𝐞₂₄₅ + -2.79 𝐞₃₄₅,\n",
       " 1.83e-15 𝐞₁₂ + 2.78e-15 𝐞₁₃ + 1.28e-15 𝐞₁₄ + -2.05e-15 𝐞₁₅ + -4.44e-16 𝐞₂₃ + -1.89e-15 𝐞₂₄ + 3.55e-15 𝐞₂₅ + -8.88e-16 𝐞₃₄ + -2.22e-16 𝐞₃₅ + -1.33e-15 𝐞₄₅ + -2.66e-15 𝐞₁₂₃₄ + -8.88e-16 𝐞₁₂₃₅ + 1.15e-14 𝐞₁₂₄₅ + 5e-15 𝐞₁₃₄₅ + 5e-16 𝐞₂₃₄₅)"
      ]
     },
     "execution_count": 28,
     "metadata": {},
     "output_type": "execute_result"
    }
   ],
   "source": [
    "#9.25a\n",
    "cu = curl(biform, 0, alg, grade=2)\n",
    "f3 = lambda x: protraction(biform, x) - (x | cu/2) - (x ^ cr/(n-2))\n",
    "f3(x), derivative(f3, 0, alg, grade=1)"
   ]
  },
  {
   "cell_type": "code",
   "execution_count": 42,
   "metadata": {},
   "outputs": [
    {
     "data": {
      "text/plain": [
       "(0.405 𝐞₁₂ + 3.24 𝐞₁₃ + -1.29 𝐞₁₄ + -4.71 𝐞₁₅ + 1.52 𝐞₂₃ + -0.434 𝐞₂₄ + -1.92 𝐞₂₅ + 1.37 𝐞₃₄ + 2.4 𝐞₃₅ + 1.05 𝐞₄₅,\n",
       " -0.405 𝐞₁₂ + -3.24 𝐞₁₃ + 1.29 𝐞₁₄ + 4.71 𝐞₁₅ + -1.52 𝐞₂₃ + 0.434 𝐞₂₄ + 1.92 𝐞₂₅ + -1.37 𝐞₃₄ + -2.4 𝐞₃₅ + -1.05 𝐞₄₅,\n",
       " -3.09 𝐞₁₂ + 4.02 𝐞₁₃ + 7.64 𝐞₁₄ + -2.38 𝐞₁₅ + -0.619 𝐞₂₃ + -1.72 𝐞₂₄ + 1.4 𝐞₂₅ + 1.41 𝐞₃₄ + -1.6 𝐞₃₅ + -1.19 𝐞₄₅,\n",
       " -6.84 𝐞₁₂ + -0.725 𝐞₁₃ + 2.8 𝐞₁₄ + -3.27 𝐞₁₅ + -2.46 𝐞₂₃ + -4.04 𝐞₂₄ + 4.31 𝐞₂₅ + -3.04 𝐞₃₄ + 5.48 𝐞₃₅ + -3.66 𝐞₄₅)"
      ]
     },
     "execution_count": 42,
     "metadata": {},
     "output_type": "execute_result"
    }
   ],
   "source": [
    "#9.25b FIXME: skew, sym part of a trivector-valued  function?\n",
    "# the skew part is skew, yet the sym part is not sym\n",
    "f = lambda x: protraction(biform, x)\n",
    "fp = lambda x: protraction(biform, x) - (x | cu/2)\n",
    "fm = lambda x: (x | cu/2)\n",
    "y = random_r_blade(1, alg)\n",
    "y | fm(x), fm(y) | x, y | fp(x), fp(y) | x, "
   ]
  },
  {
   "cell_type": "code",
   "execution_count": null,
   "metadata": {},
   "outputs": [],
   "source": []
  }
 ],
 "metadata": {
  "kernelspec": {
   "display_name": "Python 3",
   "language": "python",
   "name": "python3"
  },
  "language_info": {
   "codemirror_mode": {
    "name": "ipython",
    "version": 3
   },
   "file_extension": ".py",
   "mimetype": "text/x-python",
   "name": "python",
   "nbconvert_exporter": "python",
   "pygments_lexer": "ipython3",
   "version": "3.10.5"
  }
 },
 "nbformat": 4,
 "nbformat_minor": 2
}
