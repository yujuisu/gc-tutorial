{
 "cells": [
  {
   "cell_type": "markdown",
   "metadata": {},
   "source": [
    "### Algebraic Representation of Linear Multivector Functions\n",
    "effect of F on the structure of G -> express F in terms of algebraic operations on multivectors\n"
   ]
  },
  {
   "cell_type": "code",
   "execution_count": 2,
   "metadata": {},
   "outputs": [],
   "source": [
    "from gc_utils import *\n",
    "\n",
    "alg = Algebra(5)"
   ]
  },
  {
   "cell_type": "code",
   "execution_count": 3,
   "metadata": {},
   "outputs": [
    {
     "data": {
      "text/plain": [
       "(0.396 + -0.323 𝐞₁ + -0.318 𝐞₂ + 0.559 𝐞₃ + -0.423 𝐞₄ + 0.305 𝐞₅ + 0.351 𝐞₁₂ + -0.699 𝐞₁₃ + 0.356 𝐞₁₄ + -0.511 𝐞₁₅ + -0.364 𝐞₂₃ + 0.193 𝐞₂₄ + -0.00204 𝐞₂₅ + 0.366 𝐞₃₄ + -0.152 𝐞₃₅ + -0.186 𝐞₄₅ + 0.172 𝐞₁₂₃ + 0.105 𝐞₁₂₄ + -0.636 𝐞₁₂₅ + 0.26 𝐞₁₃₄ + -0.374 𝐞₁₃₅ + 0.385 𝐞₁₄₅ + -0.0745 𝐞₂₃₄ + -0.0959 𝐞₂₃₅ + -0.22 𝐞₂₄₅ + -0.739 𝐞₃₄₅ + -0.868 𝐞₁₂₃₄ + 0.854 𝐞₁₂₃₅ + -0.521 𝐞₁₂₄₅ + 0.454 𝐞₁₃₄₅ + -1.31 𝐞₂₃₄₅ + 0.36 𝐞₁₂₃₄₅,\n",
       " 0.396 + -0.323 𝐞₁ + -0.318 𝐞₂ + 0.559 𝐞₃ + -0.423 𝐞₄ + 0.305 𝐞₅ + 0.351 𝐞₁₂ + -0.699 𝐞₁₃ + 0.356 𝐞₁₄ + -0.511 𝐞₁₅ + -0.364 𝐞₂₃ + 0.193 𝐞₂₄ + -0.00204 𝐞₂₅ + 0.366 𝐞₃₄ + -0.152 𝐞₃₅ + -0.186 𝐞₄₅ + 0.172 𝐞₁₂₃ + 0.105 𝐞₁₂₄ + -0.636 𝐞₁₂₅ + 0.26 𝐞₁₃₄ + -0.374 𝐞₁₃₅ + 0.385 𝐞₁₄₅ + -0.0745 𝐞₂₃₄ + -0.0959 𝐞₂₃₅ + -0.22 𝐞₂₄₅ + -0.739 𝐞₃₄₅ + -0.868 𝐞₁₂₃₄ + 0.854 𝐞₁₂₃₅ + -0.521 𝐞₁₂₄₅ + 0.454 𝐞₁₃₄₅ + -1.31 𝐞₂₃₄₅ + 0.36 𝐞₁₂₃₄₅)"
      ]
     },
     "execution_count": 3,
     "metadata": {},
     "output_type": "execute_result"
    }
   ],
   "source": [
    "#9.8\n",
    "def protraction(F, Y):\n",
    "    return curl(lambda x: F(x ^ Y), 0, alg, grade=1)\n",
    "\n",
    "def contraction(F, Y):\n",
    "    return div(lambda x: F(x ^ Y), 0, alg, grade=1)\n",
    "\n",
    "def traction(F, Y):\n",
    "    return derivative(lambda x: F(x ^ Y), 0, alg, grade=1)\n",
    "\n",
    "A, B = [random_multivector(alg) for _ in range(2)]\n",
    "F = lambda X: A * X.grade(3)\n",
    "x, Y = random_r_blade(1, alg), random_r_blade(2, alg)\n",
    "\n",
    "traction(F, Y), contraction(F, Y) + protraction(F, Y)"
   ]
  },
  {
   "cell_type": "code",
   "execution_count": 4,
   "metadata": {},
   "outputs": [
    {
     "data": {
      "text/plain": [
       "(0.273,\n",
       " 0.273,\n",
       " 0.896 𝐞₁₂₃ + -1.15 𝐞₁₂₄ + -0.489 𝐞₁₂₅ + -1.19 𝐞₁₃₄ + 0.662 𝐞₁₃₅ + -1.5 𝐞₁₄₅ + -0.328 𝐞₂₃₄ + -0.343 𝐞₂₃₅ + 0.261 𝐞₂₄₅ + 0.698 𝐞₃₄₅,\n",
       " )"
      ]
     },
     "execution_count": 4,
     "metadata": {},
     "output_type": "execute_result"
    }
   ],
   "source": [
    "#9.9 symmetric multiform not necessarily protractionless\n",
    "B2 = B.grade(2)\n",
    "X = random_r_blade(2, alg)\n",
    "G0 = lambda x: x|B2  # skew symmetric 1 form\n",
    "G = lambda X: outermorphism(G0, X, alg)  # symmetric multiform\n",
    "G(X) | Y, G(Y) | X, protraction(G, x), contraction(G0, x)"
   ]
  },
  {
   "cell_type": "code",
   "execution_count": 5,
   "metadata": {},
   "outputs": [
    {
     "data": {
      "text/plain": [
       "6.94e-18 𝐞₁₂₃ + -2.08e-17 𝐞₁₂₄ + 1.73e-18 𝐞₁₂₅ + 3.47e-18 𝐞₁₃₅ + -5.2e-18 𝐞₁₄₅ + 3.47e-18 𝐞₂₃₄ + -1.04e-17 𝐞₂₃₅ + 1.99e-17 𝐞₂₄₅"
      ]
     },
     "execution_count": 5,
     "metadata": {},
     "output_type": "execute_result"
    }
   ],
   "source": [
    "# if the bivector is simple instead\n",
    "G1 = lambda X: outermorphism(lambda x: x|Y, X, alg)\n",
    "protraction(G1, x)"
   ]
  },
  {
   "cell_type": "code",
   "execution_count": 6,
   "metadata": {},
   "outputs": [
    {
     "data": {
      "text/plain": [
       "-1.81 𝐞₁₂₃₄ + -1.37 𝐞₁₂₃₅ + 0.777 𝐞₁₂₄₅ + 3.16 𝐞₁₃₄₅ + -0.188 𝐞₂₃₄₅"
      ]
     },
     "execution_count": 6,
     "metadata": {},
     "output_type": "execute_result"
    }
   ],
   "source": [
    "#9.11 simplicial curl is the max grade of simplicial derivative\n",
    "simplicial_derivative(lambda vectors: G(wedge(vectors)), np.zeros(2), alg).grade(4)"
   ]
  },
  {
   "cell_type": "code",
   "execution_count": 7,
   "metadata": {},
   "outputs": [
    {
     "data": {
      "text/plain": [
       "0.123 + -1.73e-18 𝐞₁₄ + -8.67e-19 𝐞₁₅ + -8.67e-19 𝐞₂₃ + 1.73e-18 𝐞₂₄ + 4.34e-19 𝐞₂₅ + 5.42e-20 𝐞₃₄ + 1.08e-19 𝐞₄₅ + -2.08e-17 𝐞₁₂₃₄ + -1.76e-17 𝐞₁₂₃₅ + 2.26e-17 𝐞₁₂₄₅ + -6.94e-18 𝐞₁₃₄₅ + -2.08e-17 𝐞₂₃₄₅"
      ]
     },
     "execution_count": 7,
     "metadata": {},
     "output_type": "execute_result"
    }
   ],
   "source": [
    "#9.12b\n",
    "simplicial_derivative(lambda vectors: G1(wedge(vectors)), np.zeros(2), alg)"
   ]
  },
  {
   "cell_type": "code",
   "execution_count": 8,
   "metadata": {},
   "outputs": [
    {
     "data": {
      "text/plain": [
       "-2.94 + -2.78e-17 𝐞₁₂ + 1.11e-16 𝐞₁₅ + -5.55e-17 𝐞₂₃ + 5.55e-17 𝐞₃₄ + 5.55e-17 𝐞₄₅ + -1.81 𝐞₁₂₃₄ + -1.37 𝐞₁₂₃₅ + 0.777 𝐞₁₂₄₅ + 3.16 𝐞₁₃₄₅ + -0.188 𝐞₂₃₄₅"
      ]
     },
     "execution_count": 8,
     "metadata": {},
     "output_type": "execute_result"
    }
   ],
   "source": [
    "#9.13 contractionless\n",
    "trace = simplicial_derivative(lambda vectors: G(wedge(vectors)), np.zeros(2), alg)[0]\n",
    "G2 = lambda X: outermorphism(G0, X, alg) - trace/6 * X  # symmetric multiform\n",
    "simplicial_derivative(lambda vectors: G2(wedge(vectors)), np.zeros(2), alg)"
   ]
  },
  {
   "cell_type": "code",
   "execution_count": 9,
   "metadata": {},
   "outputs": [
    {
     "data": {
      "text/plain": [
       "(0.896 𝐞₁₂₃ + -1.15 𝐞₁₂₄ + -0.489 𝐞₁₂₅ + -1.19 𝐞₁₃₄ + 0.662 𝐞₁₃₅ + -1.5 𝐞₁₄₅ + -0.328 𝐞₂₃₄ + -0.343 𝐞₂₃₅ + 0.261 𝐞₂₄₅ + 0.698 𝐞₃₄₅,\n",
       " -0.988 𝐞₁ + 0.507 𝐞₂ + 0.191 𝐞₃ + 2.16 𝐞₄ + -0.705 𝐞₅,\n",
       " -2.94 + -2.78e-17 𝐞₁₂ + 1.11e-16 𝐞₁₅ + -5.55e-17 𝐞₂₃ + 5.55e-17 𝐞₃₄ + 5.55e-17 𝐞₄₅ + -1.81 𝐞₁₂₃₄ + -1.37 𝐞₁₂₃₅ + 0.777 𝐞₁₂₄₅ + 3.16 𝐞₁₃₄₅ + -0.188 𝐞₂₃₄₅)"
      ]
     },
     "execution_count": 9,
     "metadata": {},
     "output_type": "execute_result"
    }
   ],
   "source": [
    "#9.13 zero simplicial divergence not necessarily contractionless\n",
    "trace = simplicial_derivative(lambda vectors: G(wedge(vectors)), np.zeros(2), alg)[0]\n",
    "G2 = lambda X: outermorphism(G0, X, alg) - trace/6 * X  # symmetric multiform\n",
    "protraction(G2, x), contraction(G2, x), simplicial_derivative(lambda vectors: G2(wedge(vectors)), np.zeros(2), alg)"
   ]
  },
  {
   "cell_type": "code",
   "execution_count": 10,
   "metadata": {},
   "outputs": [
    {
     "data": {
      "text/plain": [
       "4.404577210993025"
      ]
     },
     "execution_count": 10,
     "metadata": {},
     "output_type": "execute_result"
    }
   ],
   "source": [
    "trace"
   ]
  },
  {
   "cell_type": "code",
   "execution_count": 11,
   "metadata": {},
   "outputs": [
    {
     "data": {
      "text/plain": [
       "(0.0893,\n",
       " 0.0893,\n",
       " 0.896 𝐞₁₂₃ + -1.15 𝐞₁₂₄ + -0.489 𝐞₁₂₅ + -1.19 𝐞₁₃₄ + 0.662 𝐞₁₃₅ + -1.5 𝐞₁₄₅ + -0.328 𝐞₂₃₄ + -0.343 𝐞₂₃₅ + 0.261 𝐞₂₄₅ + 0.698 𝐞₃₄₅,\n",
       " )"
      ]
     },
     "execution_count": 11,
     "metadata": {},
     "output_type": "execute_result"
    }
   ],
   "source": [
    "B3 = B.grade(3)\n",
    "X = random_r_blade(2, alg)\n",
    "G0 = lambda x: x|B2  # skew symmetric 1 form\n",
    "G = lambda X: outermorphism(G0, X, alg)  # symmetric multiform\n",
    "G(X) | Y, G(Y) | X, protraction(G, x), contraction(G0, x)"
   ]
  },
  {
   "cell_type": "code",
   "execution_count": null,
   "metadata": {},
   "outputs": [],
   "source": []
  }
 ],
 "metadata": {
  "kernelspec": {
   "display_name": "Python 3",
   "language": "python",
   "name": "python3"
  },
  "language_info": {
   "codemirror_mode": {
    "name": "ipython",
    "version": 3
   },
   "file_extension": ".py",
   "mimetype": "text/x-python",
   "name": "python",
   "nbconvert_exporter": "python",
   "pygments_lexer": "ipython3",
   "version": "3.10.5"
  }
 },
 "nbformat": 4,
 "nbformat_minor": 2
}
