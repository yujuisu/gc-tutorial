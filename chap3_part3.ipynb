{
 "cells": [
  {
   "cell_type": "markdown",
   "metadata": {},
   "source": [
    "### Algebraic Representation of Linear Multivector Functions\n",
    "effect of a function on the structure of a space -> express the function in terms of algebraic operations on multivectors\n"
   ]
  },
  {
   "cell_type": "code",
   "execution_count": 1,
   "metadata": {},
   "outputs": [],
   "source": [
    "from gc_utils import *\n",
    "\n",
    "alg = Algebra(4)"
   ]
  },
  {
   "cell_type": "code",
   "execution_count": 2,
   "metadata": {},
   "outputs": [
    {
     "data": {
      "text/plain": [
       "(-12.1 + 6.56 𝐞₁ + -4.42 𝐞₂ + 1.47 𝐞₃ + -12.0 𝐞₄ + 3.11 𝐞₁₂ + -5.98 𝐞₁₃ + 6.22 𝐞₁₄ + 8.22 𝐞₂₃ + -7.13 𝐞₂₄ + -1.65 𝐞₃₄ + 0.86 𝐞₁₂₃ + -5.63 𝐞₁₂₄ + -7.37 𝐞₁₃₄ + -1.9 𝐞₂₃₄ + 6.41 𝐞₁₂₃₄,\n",
       " -12.1 + 6.56 𝐞₁ + -4.42 𝐞₂ + 1.47 𝐞₃ + -12.0 𝐞₄ + 3.11 𝐞₁₂ + -5.98 𝐞₁₃ + 6.22 𝐞₁₄ + 8.22 𝐞₂₃ + -7.13 𝐞₂₄ + -1.65 𝐞₃₄ + 0.86 𝐞₁₂₃ + -5.63 𝐞₁₂₄ + -7.37 𝐞₁₃₄ + -1.9 𝐞₂₃₄ + 6.41 𝐞₁₂₃₄)"
      ]
     },
     "execution_count": 2,
     "metadata": {},
     "output_type": "execute_result"
    }
   ],
   "source": [
    "#9.8\n",
    "def protraction(F, Y):\n",
    "    return curl(lambda x: F(x ^ Y), 0, alg, grade=1)\n",
    "\n",
    "def contraction(F, Y):\n",
    "    return div(lambda x: F(x ^ Y), 0, alg, grade=1)\n",
    "\n",
    "def traction(F, Y):\n",
    "    return derivative(lambda x: F(x ^ Y), 0, alg, grade=1)\n",
    "\n",
    "A, B, C, D = [random_multivector(alg) for _ in range(4)]\n",
    "F = lambda X: A * X * B + C * X * D\n",
    "x = random_r_blade(1, alg)\n",
    "X, Y = (random_multivector(alg).grade(2) for _ in range(2))\n",
    "\n",
    "traction(F, Y), contraction(F, Y) + protraction(F, Y)"
   ]
  },
  {
   "cell_type": "code",
   "execution_count": 3,
   "metadata": {},
   "outputs": [
    {
     "data": {
      "text/plain": [
       "(True,\n",
       " -0.276 𝐞₁₂₃ + 0.251 𝐞₁₂₄ + -0.874 𝐞₁₃₄ + 0.763 𝐞₂₃₄,\n",
       " 1.72 𝐞₁ + 1.83 𝐞₂ + 1.82 𝐞₃ + -0.514 𝐞₄)"
      ]
     },
     "execution_count": 3,
     "metadata": {},
     "output_type": "execute_result"
    }
   ],
   "source": [
    "#9.9 symmetric multiform not necessarily protractionless\n",
    "B2 = B.grade(2)\n",
    "G0 = lambda x: x|B2  # skew symmetric 1 form\n",
    "G = lambda X: outermorphism(G0, X, alg)  # symmetric multiform\n",
    "check_symmetry(G, alg, grade=2), protraction(G, x), contraction(G, x)"
   ]
  },
  {
   "cell_type": "code",
   "execution_count": 4,
   "metadata": {},
   "outputs": [
    {
     "data": {
      "text/plain": [
       "(5.55e-17 𝐞₁₂₄ + -2.78e-17 𝐞₁₃₄, 0.592 𝐞₁ + 0.445 𝐞₂ + 0.27 𝐞₃ + 0.359 𝐞₄)"
      ]
     },
     "execution_count": 4,
     "metadata": {},
     "output_type": "execute_result"
    }
   ],
   "source": [
    "# if the bivector is simple instead\n",
    "blade2 = random_r_blade(2, alg)\n",
    "G1 = lambda X: outermorphism(lambda x: x|blade2, X, alg)\n",
    "protraction(G1, x), contraction(G1, x)"
   ]
  },
  {
   "cell_type": "code",
   "execution_count": 5,
   "metadata": {},
   "outputs": [
    {
     "data": {
      "text/plain": [
       "1.77 𝐞₁₂₃₄"
      ]
     },
     "execution_count": 5,
     "metadata": {},
     "output_type": "execute_result"
    }
   ],
   "source": [
    "#9.11 simplicial curl is the max grade of simplicial derivative\n",
    "simplicial_derivative(lambda vectors: G(wedge(vectors)), np.zeros(2), alg).grade(4)"
   ]
  },
  {
   "cell_type": "code",
   "execution_count": 6,
   "metadata": {},
   "outputs": [
    {
     "data": {
      "text/plain": [
       "0.66 + -6.94e-18 𝐞₁₂ + 2.78e-17 𝐞₁₃ + 6.94e-18 𝐞₂₄ + -6.94e-18 𝐞₃₄ + -1.39e-17 𝐞₁₂₃₄"
      ]
     },
     "execution_count": 6,
     "metadata": {},
     "output_type": "execute_result"
    }
   ],
   "source": [
    "#9.12b protractionless implies zero simplicial curl\n",
    "simplicial_derivative(lambda vectors: G1(wedge(vectors)), np.zeros(2), alg)"
   ]
  },
  {
   "cell_type": "code",
   "execution_count": 7,
   "metadata": {},
   "outputs": [
    {
     "data": {
      "text/plain": [
       "1.77 𝐞₁₂₃₄"
      ]
     },
     "execution_count": 7,
     "metadata": {},
     "output_type": "execute_result"
    }
   ],
   "source": [
    "#9.12 other side: zeor simplicial curl but not protractionless\n",
    "simplicial_derivative(lambda vectors: G(wedge(vectors)), np.zeros(2), alg).grade(4)"
   ]
  },
  {
   "cell_type": "code",
   "execution_count": 8,
   "metadata": {},
   "outputs": [
    {
     "data": {
      "text/plain": [
       "(True, 0.163 𝐞₁₂₃ + -0.148 𝐞₁₂₄ + 0.514 𝐞₁₃₄ + -0.449 𝐞₂₃₄, , -1.04 𝐞₁₂₃₄)"
      ]
     },
     "execution_count": 8,
     "metadata": {},
     "output_type": "execute_result"
    }
   ],
   "source": [
    "#9.13 contractionless implies zero simplicial divergence\n",
    "blade4 = random_r_blade(4, alg)\n",
    "G3 = lambda X: X | blade4\n",
    "check_symmetry(G3, alg, grade=2), protraction(G3, x), contraction(G3, x), simplicial_derivative(lambda vectors: G3(wedge(vectors)), np.zeros(2), alg)"
   ]
  },
  {
   "cell_type": "code",
   "execution_count": 9,
   "metadata": {},
   "outputs": [
    {
     "data": {
      "text/plain": [
       "(True,\n",
       " -0.276 𝐞₁₂₃ + 0.251 𝐞₁₂₄ + -0.874 𝐞₁₃₄ + 0.763 𝐞₂₃₄,\n",
       " 0.512 𝐞₁ + 0.442 𝐞₂ + 1.42 𝐞₃ + -0.952 𝐞₄,\n",
       " -4.44e-16 + 5.55e-17 𝐞₁₂ + 1.77 𝐞₁₂₃₄)"
      ]
     },
     "execution_count": 9,
     "metadata": {},
     "output_type": "execute_result"
    }
   ],
   "source": [
    "#9.13 other side: zero simplicial divergence not necessarily contractionless, why (alg.d * (alg.d-1)/2)?\n",
    "trace = simplicial_derivative(lambda vectors: G(wedge(vectors)), np.zeros(2), alg)[0]\n",
    "G2 = lambda X: G(X) - trace/(alg.d * (alg.d-1)/2) * X  # symmetric multiform\n",
    "check_symmetry(G2, alg, grade=2), protraction(G2, x), contraction(G2, x), simplicial_derivative(lambda vectors: G2(wedge(vectors)), np.zeros(2), alg)"
   ]
  },
  {
   "cell_type": "code",
   "execution_count": 10,
   "metadata": {},
   "outputs": [
    {
     "data": {
      "text/plain": [
       "(1.63 𝐞₁₂₃ + 1.22 𝐞₁₂₄ + 2.76 𝐞₁₃₄ + 0.685 𝐞₂₃₄,\n",
       " 1.63 𝐞₁₂₃ + 1.22 𝐞₁₂₄ + 2.76 𝐞₁₃₄ + 0.685 𝐞₂₃₄,\n",
       " 1.63 𝐞₁₂₃ + 1.22 𝐞₁₂₄ + 2.76 𝐞₁₃₄ + 0.685 𝐞₂₃₄)"
      ]
     },
     "execution_count": 10,
     "metadata": {},
     "output_type": "execute_result"
    }
   ],
   "source": [
    "#9.15a Not scalar product, so not adjoint nor differential!\n",
    "k = 3\n",
    "K = random_multivector(alg).grade(k)\n",
    "derivative(lambda a: a | K, 0, alg, grade=1), k*K, sum((K | r) * v for v, r in zip(alg.frame, reciprocal(alg.frame)))"
   ]
  },
  {
   "cell_type": "code",
   "execution_count": 11,
   "metadata": {},
   "outputs": [
    {
     "data": {
      "text/plain": [
       "(0.544 𝐞₁₂₃ + 0.405 𝐞₁₂₄ + 0.92 𝐞₁₃₄ + 0.228 𝐞₂₃₄,\n",
       " 0.544 𝐞₁₂₃ + 0.405 𝐞₁₂₄ + 0.92 𝐞₁₃₄ + 0.228 𝐞₂₃₄,\n",
       " 0.544 𝐞₁₂₃ + 0.405 𝐞₁₂₄ + 0.92 𝐞₁₃₄ + 0.228 𝐞₂₃₄)"
      ]
     },
     "execution_count": 11,
     "metadata": {},
     "output_type": "execute_result"
    }
   ],
   "source": [
    "#9.15b\n",
    "derivative(lambda a: a ^ K, 0, alg, grade=1), (alg.d - k)*K, sum((K ^ r) * v for v, r in zip(alg.frame, reciprocal(alg.frame)))"
   ]
  },
  {
   "cell_type": "code",
   "execution_count": 12,
   "metadata": {},
   "outputs": [
    {
     "data": {
      "text/plain": [
       "(13.2 + -6.47 𝐞₁₂ + 5.57 𝐞₁₃ + -2.98 𝐞₁₄ + -6.45 𝐞₂₃ + 3.9 𝐞₂₄ + -0.832 𝐞₃₄ + 2.89 𝐞₁₂₃₄,\n",
       " 13.2 + -6.47 𝐞₁₂ + 5.57 𝐞₁₃ + -2.98 𝐞₁₄ + -6.45 𝐞₂₃ + 3.9 𝐞₂₄ + -0.832 𝐞₃₄ + 2.89 𝐞₁₂₃₄)"
      ]
     },
     "execution_count": 12,
     "metadata": {},
     "output_type": "execute_result"
    }
   ],
   "source": [
    "#9.16 9.17 the bivector derivative of a biform\n",
    "biform = lambda X: F(X).grade(2)\n",
    "derivative(biform, 0, alg, grade=2), simplicial_derivative(lambda vectors: biform(wedge(vectors)), np.zeros(2), alg)"
   ]
  },
  {
   "cell_type": "code",
   "execution_count": 13,
   "metadata": {},
   "outputs": [
    {
     "data": {
      "text/plain": [
       "(1.63 𝐞₁₂₃ + 1.22 𝐞₁₂₄ + 2.76 𝐞₁₃₄ + 0.685 𝐞₂₃₄,\n",
       " 1.63 𝐞₁₂₃ + 1.22 𝐞₁₂₄ + 2.76 𝐞₁₃₄ + 0.685 𝐞₂₃₄,\n",
       " 1.63 𝐞₁₂₃ + 1.22 𝐞₁₂₄ + 2.76 𝐞₁₃₄ + 0.685 𝐞₂₃₄)"
      ]
     },
     "execution_count": 13,
     "metadata": {},
     "output_type": "execute_result"
    }
   ],
   "source": [
    "#9.18a\n",
    "frame2 = r_vector_frame(alg.frame, 2)\n",
    "rframe2 = r_vector_frame(reciprocal(alg.frame), 2, reverse=True)\n",
    "(\n",
    "    derivative(lambda X: X | K, 0, alg, grade=2), \n",
    "    k * (k-1)/2*K, \n",
    "    sum((K | r) * v for v, r in zip(frame2, rframe2)),\n",
    ")"
   ]
  },
  {
   "cell_type": "code",
   "execution_count": 14,
   "metadata": {},
   "outputs": [
    {
     "data": {
      "text/plain": [
       "(1.63 𝐞₁₂₃ + 1.22 𝐞₁₂₄ + 2.76 𝐞₁₃₄ + 0.685 𝐞₂₃₄,\n",
       " 1.63 𝐞₁₂₃ + 1.22 𝐞₁₂₄ + 2.76 𝐞₁₃₄ + 0.685 𝐞₂₃₄,\n",
       " 1.63 𝐞₁₂₃ + 1.22 𝐞₁₂₄ + 2.76 𝐞₁₃₄ + 0.685 𝐞₂₃₄)"
      ]
     },
     "execution_count": 14,
     "metadata": {},
     "output_type": "execute_result"
    }
   ],
   "source": [
    "#9.18b\n",
    "(\n",
    "    derivative(lambda X: alg.cp(X,K), 0, alg, grade=2), \n",
    "    k * (alg.d - k)*K, \n",
    "    sum(alg.cp(K, r) * v for v, r in zip(frame2, rframe2))\n",
    ")"
   ]
  },
  {
   "cell_type": "code",
   "execution_count": 15,
   "metadata": {},
   "outputs": [
    {
     "data": {
      "text/plain": [
       "(, , )"
      ]
     },
     "execution_count": 15,
     "metadata": {},
     "output_type": "execute_result"
    }
   ],
   "source": [
    "#9.18c\n",
    "n = alg.d\n",
    "(\n",
    "    derivative(lambda X: X ^ K, 0, alg, grade=2), \n",
    "    (n-k) * (n-k-1)/2*K, \n",
    "    sum((K ^ r) * v for v, r in zip(frame2, rframe2))\n",
    ")"
   ]
  },
  {
   "cell_type": "code",
   "execution_count": 16,
   "metadata": {},
   "outputs": [
    {
     "data": {
      "text/plain": [
       "(1.06 𝐞₁ + 1.18 𝐞₂ + 2.26 𝐞₃ + 1.79 𝐞₄,\n",
       " 1.06 𝐞₁ + 1.18 𝐞₂ + 2.26 𝐞₃ + 1.79 𝐞₄,\n",
       " 1.06 𝐞₁ + 1.18 𝐞₂ + 2.26 𝐞₃ + 1.79 𝐞₄)"
      ]
     },
     "execution_count": 16,
     "metadata": {},
     "output_type": "execute_result"
    }
   ],
   "source": [
    "#9.19 case k = 1\n",
    "a = random_r_blade(1, alg)\n",
    "(\n",
    "    derivative(lambda X: X | a, 0, alg, grade=2), \n",
    "    (alg.d - 1)*a, \n",
    "    sum((a | r) * v for v, r in zip(frame2, rframe2))\n",
    ")"
   ]
  },
  {
   "cell_type": "code",
   "execution_count": 17,
   "metadata": {},
   "outputs": [
    {
     "data": {
      "text/plain": [
       "(-5.17 𝐞₁₂ + -2.53 𝐞₁₃ + -2.63 𝐞₁₄ + -5.61 𝐞₂₃ + -6.57 𝐞₂₄ + -1.21 𝐞₃₄,\n",
       " 0.0846 𝐞₁₂ + 1.19 𝐞₁₃ + 2.01 𝐞₁₄ + 1.05 𝐞₂₃ + 0.165 𝐞₂₄ + 1.08 𝐞₃₄,\n",
       " 0.59 𝐞₁₂ + 0.532 𝐞₁₃ + -0.635 𝐞₁₄ + -0.436 𝐞₂₃ + -0.755 𝐞₂₄ + 1.09 𝐞₃₄,\n",
       " -0.236 𝐞₁₂ + 0.0362 𝐞₁₃ + -0.23 𝐞₁₄ + -0.44 𝐞₂₃ + 0.261 𝐞₂₄ + -0.0185 𝐞₃₄)"
      ]
     },
     "execution_count": 17,
     "metadata": {},
     "output_type": "execute_result"
    }
   ],
   "source": [
    "#9.22 biform decomposition\n",
    "# biform = T + sum_0^4 F_i, first the 0, 2, 4 are known:\n",
    "F0 = lambda X: 2/(n*(n-1)) * X * div(biform, X, alg, grade=2)\n",
    "F2 = lambda X: (0.5/(n-2)) * X.cp(derivative(biform, 0, alg, grade=2, operator=alg.cp))\n",
    "F4 = lambda X: (1/6) * X | curl(biform, 0, alg, grade=2)\n",
    "biform(X), F0(X), F2(X), F4(X)"
   ]
  },
  {
   "cell_type": "code",
   "execution_count": 18,
   "metadata": {},
   "outputs": [
    {
     "data": {
      "text/plain": [
       "[13.2 + -6.47 𝐞₁₂ + 5.57 𝐞₁₃ + -2.98 𝐞₁₄ + -6.45 𝐞₂₃ + 3.9 𝐞₂₄ + -0.832 𝐞₃₄ + 2.89 𝐞₁₂₃₄,\n",
       " 13.2,\n",
       " -6.47 𝐞₁₂ + 5.57 𝐞₁₃ + -2.98 𝐞₁₄ + -6.45 𝐞₂₃ + 3.9 𝐞₂₄ + -0.832 𝐞₃₄,\n",
       " 2.89 𝐞₁₂₃₄]"
      ]
     },
     "execution_count": 18,
     "metadata": {},
     "output_type": "execute_result"
    }
   ],
   "source": [
    "#9.23\n",
    "[derivative(biform, 0, alg, grade=2) for biform in (biform, F0, F2, F4)]"
   ]
  },
  {
   "cell_type": "code",
   "execution_count": 43,
   "metadata": {},
   "outputs": [
    {
     "data": {
      "text/plain": [
       "(-4.65 𝐞₁ + -5.47 𝐞₂ + -5.58 𝐞₃ + 0.0525 𝐞₄,\n",
       " 5.77e-15 + -2.66e-15 𝐞₁₂ + 4.44e-16 𝐞₁₃ + -8.88e-16 𝐞₁₄ + -8.88e-16 𝐞₂₃ + 4.44e-16 𝐞₂₄)"
      ]
     },
     "execution_count": 43,
     "metadata": {},
     "output_type": "execute_result"
    }
   ],
   "source": [
    "#9.24a\n",
    "tr = div(biform, 0, alg, grade=2)\n",
    "cr = derivative(biform, 0, alg, grade=2, operator=alg.cp)\n",
    "f1 = lambda x: contraction(biform, x) - (2/n * tr * x) - (x | cr/2)\n",
    "f1(x), derivative(f1, 0, alg, grade=1)"
   ]
  },
  {
   "cell_type": "code",
   "execution_count": 44,
   "metadata": {},
   "outputs": [
    {
     "data": {
      "text/plain": [
       "(True, True)"
      ]
     },
     "execution_count": 44,
     "metadata": {},
     "output_type": "execute_result"
    }
   ],
   "source": [
    "check_symmetry(f1, alg, grade=1), check_symmetry(lambda x: 2/n * tr * x, alg, grade=1)"
   ]
  },
  {
   "cell_type": "code",
   "execution_count": 49,
   "metadata": {},
   "outputs": [
    {
     "data": {
      "text/plain": [
       "(3.91 𝐞₁ + -1.44 𝐞₂ + -4.36 𝐞₃ + 2.63 𝐞₄,\n",
       " 3.91 𝐞₁ + -1.44 𝐞₂ + -4.36 𝐞₃ + 2.63 𝐞₄,\n",
       " 2.87 𝐞₁ + -2.48 𝐞₂ + -0.654 𝐞₃ + 0.523 𝐞₄,\n",
       " 2.87 𝐞₁ + -2.48 𝐞₂ + -0.654 𝐞₃ + 0.523 𝐞₄)"
      ]
     },
     "execution_count": 49,
     "metadata": {},
     "output_type": "execute_result"
    }
   ],
   "source": [
    "#9.24b\n",
    "f = lambda x: contraction(biform, x)\n",
    "fp = sym_part(f, alg)\n",
    "fm = skew_part(f, alg)\n",
    "f(x), fp(x) + fm(x), fm(x), (x | cr/2)"
   ]
  },
  {
   "cell_type": "code",
   "execution_count": 50,
   "metadata": {},
   "outputs": [
    {
     "data": {
      "text/plain": [
       "(0.0139 𝐞₁₂₃ + -1.79 𝐞₁₂₄ + 3.36 𝐞₁₃₄ + -2.26 𝐞₂₃₄,\n",
       " -2e-15 𝐞₁₂ + -4.44e-16 𝐞₁₄ + -8.88e-16 𝐞₂₃ + 4.44e-16 𝐞₂₄ + -1.33e-15 𝐞₃₄ + 8.88e-16 𝐞₁₂₃₄)"
      ]
     },
     "execution_count": 50,
     "metadata": {},
     "output_type": "execute_result"
    }
   ],
   "source": [
    "#9.25\n",
    "cu = curl(biform, 0, alg, grade=2)\n",
    "f3 = lambda x: protraction(biform, x) - (x | cu/2) - (x ^ cr/(n-2))\n",
    "f3(x), derivative(f3, 0, alg, grade=1)"
   ]
  },
  {
   "cell_type": "code",
   "execution_count": 51,
   "metadata": {},
   "outputs": [
    {
     "data": {
      "text/plain": [
       "(False, False)"
      ]
     },
     "execution_count": 51,
     "metadata": {},
     "output_type": "execute_result"
    }
   ],
   "source": [
    "# Unlike the contraction, f3 is neither skew nor symmetry\n",
    "check_skew(f3, alg, grade=1), check_symmetry(f3, alg, grade=1) "
   ]
  },
  {
   "cell_type": "code",
   "execution_count": 54,
   "metadata": {},
   "outputs": [
    {
     "data": {
      "text/plain": [
       "-4.33e-15 𝐞₁ + 6.66e-16 𝐞₂ + -2.66e-15 𝐞₃ + 2.12e-16 𝐞₄ + 4.44e-16 𝐞₁₂₄ + 1.78e-15 𝐞₁₃₄ + -1.78e-15 𝐞₂₃₄"
      ]
     },
     "execution_count": 54,
     "metadata": {},
     "output_type": "execute_result"
    }
   ],
   "source": [
    "# Note f1, f3 take grade 1 inputs\n",
    "frame = alg.frame\n",
    "rframe = reciprocal(frame)\n",
    "F1 = lambda X: (1/(n-2))*sum((X | r) * differential(f1, 0, v) for v, r in zip(frame, rframe))\n",
    "F3 = lambda X: 0.5*sum((X | r) | differential(f3, 0, v) for v, r in zip(frame, rframe))\n",
    "T = lambda X: biform(X) - F0(X) - F1(X) - F2(X) - F3(X) - F4(X)\n",
    "traction(T, x)"
   ]
  },
  {
   "cell_type": "code",
   "execution_count": 55,
   "metadata": {},
   "outputs": [
    {
     "data": {
      "text/plain": [
       "[3.91 𝐞₁ + -1.44 𝐞₂ + -4.36 𝐞₃ + 2.63 𝐞₄,\n",
       " 5.69 𝐞₁ + 6.52 𝐞₂ + 1.87 𝐞₃ + 2.06 𝐞₄,\n",
       " -4.65 𝐞₁ + -5.47 𝐞₂ + -5.58 𝐞₃ + 0.0525 𝐞₄,\n",
       " 2.87 𝐞₁ + -2.48 𝐞₂ + -0.654 𝐞₃ + 0.523 𝐞₄,\n",
       " 1.11e-15 𝐞₁ + -8.88e-16 𝐞₂ + -2.78e-16 𝐞₃ + -1.11e-16 𝐞₄,\n",
       " ]"
      ]
     },
     "execution_count": 55,
     "metadata": {},
     "output_type": "execute_result"
    }
   ],
   "source": [
    "# F4 is contractionless\n",
    "[contraction(biform, x) for biform in (biform, F0, F1, F2, F3, F4)]"
   ]
  },
  {
   "cell_type": "code",
   "execution_count": 56,
   "metadata": {},
   "outputs": [
    {
     "data": {
      "text/plain": [
       "[-6.88 𝐞₁₂₃ + 0.759 𝐞₁₂₄ + 2.87 𝐞₁₃₄ + -2.99 𝐞₂₃₄,\n",
       " ,\n",
       " 1.27e-15 𝐞₁ + -1.01e-15 𝐞₂ + -4.24e-16 𝐞₃ + -2.12e-16 𝐞₄ + -8.88e-16 𝐞₁₂₃ + -4.44e-16 𝐞₂₃₄,\n",
       " -6.44 𝐞₁₂₃ + 2.14 𝐞₁₂₄ + 0.932 𝐞₁₃₄ + -1.97 𝐞₂₃₄,\n",
       " 0.0139 𝐞₁₂₃ + -1.79 𝐞₁₂₄ + 3.36 𝐞₁₃₄ + -2.26 𝐞₂₃₄,\n",
       " -0.451 𝐞₁₂₃ + 0.411 𝐞₁₂₄ + -1.43 𝐞₁₃₄ + 1.25 𝐞₂₃₄]"
      ]
     },
     "execution_count": 56,
     "metadata": {},
     "output_type": "execute_result"
    }
   ],
   "source": [
    "# F0, F1 are protractionless\n",
    "[protraction(biform, x) for biform in (biform, F0, F1, F2, F3, F4)]"
   ]
  },
  {
   "cell_type": "code",
   "execution_count": 57,
   "metadata": {},
   "outputs": [
    {
     "data": {
      "text/plain": [
       "[True, True, True, False, False, True]"
      ]
     },
     "execution_count": 57,
     "metadata": {},
     "output_type": "execute_result"
    }
   ],
   "source": [
    "#9.27a\n",
    "[check_symmetry(f, alg, grade=2) for f in [T, F0, F1, F2, F3, F4]]"
   ]
  },
  {
   "cell_type": "code",
   "execution_count": 58,
   "metadata": {},
   "outputs": [
    {
     "data": {
      "text/plain": [
       "[False, False, False, True, True, False]"
      ]
     },
     "execution_count": 58,
     "metadata": {},
     "output_type": "execute_result"
    }
   ],
   "source": [
    "#9.27b\n",
    "[check_skew(f, alg, grade=2) for f in [T, F0, F1, F2, F3, F4]]"
   ]
  },
  {
   "cell_type": "code",
   "execution_count": 59,
   "metadata": {},
   "outputs": [
    {
     "data": {
      "text/plain": [
       "19.2 + 6.98e-16 𝐞₁₂ + 6.48e-16 𝐞₁₃ + 8.06e-16 𝐞₁₄ + 7.91e-16 𝐞₂₃ + 2.59e-16 𝐞₂₄ + 8.13e-16 𝐞₃₄"
      ]
     },
     "execution_count": 59,
     "metadata": {},
     "output_type": "execute_result"
    }
   ],
   "source": [
    "A.grade(2) | sum((B.grade(2) | r) * differential(f1, 0, v) for v, r in zip(frame, rframe))"
   ]
  },
  {
   "cell_type": "code",
   "execution_count": 60,
   "metadata": {},
   "outputs": [
    {
     "data": {
      "text/plain": [
       "19.2"
      ]
     },
     "execution_count": 60,
     "metadata": {},
     "output_type": "execute_result"
    }
   ],
   "source": [
    "A.grade(2) | sum((B.grade(2) | r) ^ differential(f1, 0, v) for v, r in zip(frame, rframe))"
   ]
  },
  {
   "cell_type": "code",
   "execution_count": 61,
   "metadata": {},
   "outputs": [
    {
     "data": {
      "text/plain": [
       "19.2"
      ]
     },
     "execution_count": 61,
     "metadata": {},
     "output_type": "execute_result"
    }
   ],
   "source": [
    "sum((A.grade(2) | (B.grade(2) | r)) | differential(f1, 0, v) for v, r in zip(frame, rframe))"
   ]
  },
  {
   "cell_type": "code",
   "execution_count": 65,
   "metadata": {},
   "outputs": [
    {
     "data": {
      "text/plain": [
       "(0.00396 + -1.82 𝐞₁ + -3.61 𝐞₂ + -0.38 𝐞₃ + 0.868 𝐞₄ + -5.17 𝐞₁₂ + -2.53 𝐞₁₃ + -2.63 𝐞₁₄ + -5.61 𝐞₂₃ + -6.57 𝐞₂₄ + -1.21 𝐞₃₄ + -6.02 𝐞₁₂₃ + -9.6 𝐞₁₂₄ + -0.793 𝐞₁₃₄ + 0.603 𝐞₂₃₄ + -0.432 𝐞₁₂₃₄,\n",
       " 0.00396 + -1.82 𝐞₁ + -3.61 𝐞₂ + -0.38 𝐞₃ + 0.868 𝐞₄ + -5.17 𝐞₁₂ + -2.53 𝐞₁₃ + -2.63 𝐞₁₄ + -5.61 𝐞₂₃ + -6.57 𝐞₂₄ + -1.21 𝐞₃₄ + -6.02 𝐞₁₂₃ + -9.6 𝐞₁₂₄ + -0.793 𝐞₁₃₄ + 0.603 𝐞₂₃₄ + -0.432 𝐞₁₂₃₄)"
      ]
     },
     "execution_count": 65,
     "metadata": {},
     "output_type": "execute_result"
    }
   ],
   "source": [
    "#9.29a\n",
    "frame = multi_frame(alg.frame)\n",
    "rframe = reci_frame(alg.frame)\n",
    "F(X), sum(v * alg.sp(r,F(X)) for v,r in zip(frame, rframe))"
   ]
  },
  {
   "cell_type": "code",
   "execution_count": 66,
   "metadata": {},
   "outputs": [
    {
     "data": {
      "text/plain": [
       "0.00396 + -1.82 𝐞₁ + -3.61 𝐞₂ + -0.38 𝐞₃ + 0.868 𝐞₄ + -5.17 𝐞₁₂ + -2.53 𝐞₁₃ + -2.63 𝐞₁₄ + -5.61 𝐞₂₃ + -6.57 𝐞₂₄ + -1.21 𝐞₃₄ + -6.02 𝐞₁₂₃ + -9.6 𝐞₁₂₄ + -0.793 𝐞₁₃₄ + 0.603 𝐞₂₃₄ + -0.432 𝐞₁₂₃₄"
      ]
     },
     "execution_count": 66,
     "metadata": {},
     "output_type": "execute_result"
    }
   ],
   "source": [
    "#9.29b\n",
    "bframe = [adjoint(F, 0, r, alg) for r in rframe]\n",
    "sum(v * alg.sp(b,X) for v,b in zip(frame, bframe))"
   ]
  },
  {
   "cell_type": "code",
   "execution_count": 67,
   "metadata": {},
   "outputs": [
    {
     "data": {
      "text/plain": [
       "0.00396 + -1.82 𝐞₁ + -3.61 𝐞₂ + -0.38 𝐞₃ + 0.868 𝐞₄ + -5.17 𝐞₁₂ + -2.53 𝐞₁₃ + -2.63 𝐞₁₄ + -5.61 𝐞₂₃ + -6.57 𝐞₂₄ + -1.21 𝐞₃₄ + -6.02 𝐞₁₂₃ + -9.6 𝐞₁₂₄ + -0.793 𝐞₁₃₄ + 0.603 𝐞₂₃₄ + -0.432 𝐞₁₂₃₄"
      ]
     },
     "execution_count": 67,
     "metadata": {},
     "output_type": "execute_result"
    }
   ],
   "source": [
    "#9.29c \n",
    "# Actually a version of 9.30 by expanding the scalar product into geometric product\n",
    "cframe = [sum(v * alg.sp(b,a) for v,b in zip(frame, bframe)) for a in rframe]\n",
    "sum(c * alg.sp(v,X) for v,c in zip(frame, cframe))"
   ]
  },
  {
   "cell_type": "code",
   "execution_count": 69,
   "metadata": {},
   "outputs": [
    {
     "data": {
      "text/plain": [
       "((16, 6),\n",
       " 0.00396 + -1.82 𝐞₁ + -3.61 𝐞₂ + -0.38 𝐞₃ + 0.868 𝐞₄ + -5.17 𝐞₁₂ + -2.53 𝐞₁₃ + -2.63 𝐞₁₄ + -5.61 𝐞₂₃ + -6.57 𝐞₂₄ + -1.21 𝐞₃₄ + -6.02 𝐞₁₂₃ + -9.6 𝐞₁₂₄ + -0.793 𝐞₁₃₄ + 0.603 𝐞₂₃₄ + -0.432 𝐞₁₂₃₄,\n",
       " 0.00396 + -1.82 𝐞₁ + -3.61 𝐞₂ + -0.38 𝐞₃ + 0.868 𝐞₄ + -5.17 𝐞₁₂ + -2.53 𝐞₁₃ + -2.63 𝐞₁₄ + -5.61 𝐞₂₃ + -6.57 𝐞₂₄ + -1.21 𝐞₃₄ + -6.02 𝐞₁₂₃ + -9.6 𝐞₁₂₄ + -0.793 𝐞₁₃₄ + 0.603 𝐞₂₃₄ + -0.432 𝐞₁₂₃₄)"
      ]
     },
     "execution_count": 69,
     "metadata": {},
     "output_type": "execute_result"
    }
   ],
   "source": [
    "#9.31 Write 9.29 in a matrix, I choose to use reciprocal frame\n",
    "# LHS has 16*6 degree of freedom; RHS has 16*16 degree of freedom\n",
    "# No unique expansion of 9.30, so we ask for the simplest version of 9.30\n",
    "def multi2matrix(f, alg: Algebra, degree=None, grade=None):\n",
    "    if degree or (degree == 0):\n",
    "        frame = r_vector_frame(alg.frame, degree)\n",
    "    else:\n",
    "        frame = multi_frame(alg.frame)\n",
    "    if grade or (grade == 0):\n",
    "        r_frame = r_vector_frame(reciprocal(alg.frame), grade, reverse=True)\n",
    "    else:\n",
    "        r_frame = reci_frame(alg.frame)\n",
    "    values = [f(a) for a in frame]\n",
    "    return np.array([[alg.sp(ar, v)[0] for v in values] for ar in r_frame])\n",
    "\n",
    "matrix = multi2matrix(F, alg, degree=2)\n",
    "matrix.shape, alg.multivector(np.dot(matrix, X[:])), F(X)"
   ]
  },
  {
   "cell_type": "code",
   "execution_count": 70,
   "metadata": {},
   "outputs": [
    {
     "data": {
      "text/plain": [
       "((6, 6),\n",
       " -5.17 𝐞₁₂ + -2.53 𝐞₁₃ + -2.63 𝐞₁₄ + -5.61 𝐞₂₃ + -6.57 𝐞₂₄ + -1.21 𝐞₃₄,\n",
       " -5.17 𝐞₁₂ + -2.53 𝐞₁₃ + -2.63 𝐞₁₄ + -5.61 𝐞₂₃ + -6.57 𝐞₂₄ + -1.21 𝐞₃₄)"
      ]
     },
     "execution_count": 70,
     "metadata": {},
     "output_type": "execute_result"
    }
   ],
   "source": [
    "# if F is a biform\n",
    "matrix2 = multi2matrix(F, alg, degree=2, grade=2)\n",
    "matrix2.shape, alg.bivector(np.dot(matrix2, X[:])), F(X).grade(2)"
   ]
  },
  {
   "cell_type": "code",
   "execution_count": 39,
   "metadata": {},
   "outputs": [
    {
     "data": {
      "text/plain": [
       "[1 𝐞₁₂, 1 𝐞₁₃, 1 𝐞₁₄, 1 𝐞₂₃, 1 𝐞₂₄, 1 𝐞₃₄]"
      ]
     },
     "execution_count": 39,
     "metadata": {},
     "output_type": "execute_result"
    }
   ],
   "source": [
    "# bivector space spanned by 6: \n",
    "full_bivectors = r_vector_frame(alg.frame, 2)\n",
    "full_bivectors"
   ]
  },
  {
   "cell_type": "code",
   "execution_count": 40,
   "metadata": {},
   "outputs": [
    {
     "data": {
      "text/plain": [
       "[(1 𝐞₁₂, -1 𝐞₃₄), (1 𝐞₁₃, 1 𝐞₂₄), (1 𝐞₁₄, -1 𝐞₂₃)]"
      ]
     },
     "execution_count": 40,
     "metadata": {},
     "output_type": "execute_result"
    }
   ],
   "source": [
    "# Or 3 over complex scalar (study number a + bI)\n",
    "I = alg.pseudoscalar((1,))\n",
    "bivectors = full_bivectors[:3]\n",
    "[(b, b*I) for b in bivectors]"
   ]
  },
  {
   "cell_type": "code",
   "execution_count": 121,
   "metadata": {},
   "outputs": [
    {
     "data": {
      "text/plain": [
       "(-1.11e-16 + -1.41 𝐞₁₂ + -1.95 𝐞₁₃ + 0.363 𝐞₁₄ + -0.904 𝐞₂₃ + -2.27 𝐞₂₄ + -0.838 𝐞₃₄ + -4.16e-17 𝐞₁₂₃₄,\n",
       " -1.1 + -1.11e-16 𝐞₁₂ + 1.11e-16 𝐞₂₃ + 1.11e-16 𝐞₃₄ + 0.00787 𝐞₁₂₃₄)"
      ]
     },
     "execution_count": 121,
     "metadata": {},
     "output_type": "execute_result"
    }
   ],
   "source": [
    "# to be a bivector, beta_jk must be symmetric\n",
    "b = random_r_blade(1, alg)\n",
    "a * X * b + b * X * a, a * X * b - b * X * a"
   ]
  },
  {
   "cell_type": "code",
   "execution_count": 136,
   "metadata": {},
   "outputs": [
    {
     "data": {
      "text/plain": [
       "(-1.83 𝐞₁₂ + -0.752 𝐞₁₃ + -0.281 𝐞₁₄ + 0.36 𝐞₂₃ + 1.85 𝐞₂₄ + 0.553 𝐞₃₄,\n",
       " -1.83 𝐞₁₂ + -0.752 𝐞₁₃ + -0.281 𝐞₁₄ + 0.36 𝐞₂₃ + 1.85 𝐞₂₄ + 0.553 𝐞₃₄,\n",
       " True)"
      ]
     },
     "execution_count": 136,
     "metadata": {},
     "output_type": "execute_result"
    }
   ],
   "source": [
    "#9.40a\n",
    "def random_sym_matrix(n):\n",
    "    m = np.random.rand(n,n)\n",
    "    return (m + m.T)/2\n",
    "\n",
    "def random_skew_matrix(n):\n",
    "    m = np.random.rand(n,n)\n",
    "    return (m - m.T)/2\n",
    "\n",
    "sym3 = random_sym_matrix(3)\n",
    "sym3I = random_sym_matrix(3)\n",
    "sym4 = random_sym_matrix(4)\n",
    "sym4I = random_sym_matrix(4)\n",
    "Gp = lambda X: sum(bivectors[j]*X*bivectors[k]*(sym3[j,k] + sym3I[j,k]*I) for j, k in product([0,1,2], repeat=2))\n",
    "Gp(I*X), I*Gp(X), check_symmetry(Gp, alg, grade=2)"
   ]
  },
  {
   "cell_type": "code",
   "execution_count": 137,
   "metadata": {},
   "outputs": [
    {
     "data": {
      "text/plain": [
       "(-0.121 𝐞₁₂ + 0.205 𝐞₁₃ + -0.281 𝐞₁₄ + -0.126 𝐞₂₃ + -0.561 𝐞₂₄ + 0.514 𝐞₃₄,\n",
       " -0.121 𝐞₁₂ + 0.205 𝐞₁₃ + -0.281 𝐞₁₄ + -0.126 𝐞₂₃ + -0.561 𝐞₂₄ + 0.514 𝐞₃₄,\n",
       " True)"
      ]
     },
     "execution_count": 137,
     "metadata": {},
     "output_type": "execute_result"
    }
   ],
   "source": [
    "#9.40a\n",
    "Gm = lambda X: X.cp(B.grade(2))\n",
    "Gm(I*X), I*Gm(X), check_skew(Gm, alg, grade=2)"
   ]
  },
  {
   "cell_type": "code",
   "execution_count": 165,
   "metadata": {},
   "outputs": [
    {
     "data": {
      "text/plain": [
       "(-1.67e-16 + 0.682 𝐞₁₂ + 2.95 𝐞₁₃ + 1.35 𝐞₁₄ + -1.18 𝐞₂₃ + 2.88 𝐞₂₄ + -0.759 𝐞₃₄ + -1.11e-16 𝐞₁₂₃₄,\n",
       " 1.67e-16 + -0.682 𝐞₁₂ + -2.95 𝐞₁₃ + -1.35 𝐞₁₄ + 1.18 𝐞₂₃ + -2.88 𝐞₂₄ + 0.759 𝐞₃₄ + 1.11e-16 𝐞₁₂₃₄,\n",
       " False)"
      ]
     },
     "execution_count": 165,
     "metadata": {},
     "output_type": "execute_result"
    }
   ],
   "source": [
    "#9.40b\n",
    "H = lambda X: sum(alg.frame[j]*X*alg.frame[k]*(sym4[j,k] + sym4I[j,k]*I) for j, k in product([0,1,2,3], repeat=2))\n",
    "H(I*X), I*H(X), check_symmetry(H, alg, grade=2)"
   ]
  },
  {
   "cell_type": "code",
   "execution_count": 166,
   "metadata": {},
   "outputs": [
    {
     "data": {
      "text/plain": [
       "(2.08e-17 + -0.15 𝐞₁₂ + 2.3 𝐞₁₃ + -0.283 𝐞₁₄ + -0.711 𝐞₂₃ + 1.52 𝐞₂₄ + -1.55 𝐞₃₄,\n",
       " -2.08e-17 + 0.15 𝐞₁₂ + -2.3 𝐞₁₃ + 0.283 𝐞₁₄ + 0.711 𝐞₂₃ + -1.52 𝐞₂₄ + 1.55 𝐞₃₄,\n",
       " True)"
      ]
     },
     "execution_count": 166,
     "metadata": {},
     "output_type": "execute_result"
    }
   ],
   "source": [
    "#9.40b splitting beta we get the symmetric part\n",
    "H1 = lambda X: sum(alg.frame[j]*X*alg.frame[k]*(sym4[j,k]) for j, k in product([0,1,2,3], repeat=2))\n",
    "H1(I*X), I*H1(X), check_symmetry(H1, alg, grade=2)"
   ]
  },
  {
   "cell_type": "code",
   "execution_count": 168,
   "metadata": {},
   "outputs": [
    {
     "data": {
      "text/plain": [
       "(-1.11e-16 + 0.832 𝐞₁₂ + 0.65 𝐞₁₃ + 1.63 𝐞₁₄ + -0.472 𝐞₂₃ + 1.36 𝐞₂₄ + 0.791 𝐞₃₄ + 3.12e-17 𝐞₁₂₃₄,\n",
       " 1.11e-16 + -0.832 𝐞₁₂ + -0.65 𝐞₁₃ + -1.63 𝐞₁₄ + 0.472 𝐞₂₃ + -1.36 𝐞₂₄ + -0.791 𝐞₃₄ + -3.12e-17 𝐞₁₂₃₄,\n",
       " True)"
      ]
     },
     "execution_count": 168,
     "metadata": {},
     "output_type": "execute_result"
    }
   ],
   "source": [
    "#9.40b and the skew part\n",
    "H2 = lambda X: sum(alg.frame[j]*X*alg.frame[k]*(sym4I[j,k]*I) for j, k in product([0,1,2,3], repeat=2))\n",
    "H2(I*X), I*H2(X), check_skew(H2, alg, grade=2)"
   ]
  },
  {
   "cell_type": "code",
   "execution_count": 139,
   "metadata": {},
   "outputs": [
    {
     "data": {
      "text/plain": [
       "(-0.255 𝐞₁ + -1.2 𝐞₂ + -1.13 𝐞₃ + -0.148 𝐞₄,\n",
       " -0.255 𝐞₁ + -1.2 𝐞₂ + -1.13 𝐞₃ + -0.148 𝐞₄)"
      ]
     },
     "execution_count": 139,
     "metadata": {},
     "output_type": "execute_result"
    }
   ],
   "source": [
    "derivative(lambda a: B.grade(1)*a, 0, alg, grade=1), -2*B.grade(1)"
   ]
  },
  {
   "cell_type": "code",
   "execution_count": 140,
   "metadata": {},
   "outputs": [
    {
     "data": {
      "text/plain": []
     },
     "execution_count": 140,
     "metadata": {},
     "output_type": "execute_result"
    }
   ],
   "source": [
    "derivative(lambda a: B.grade(2)*a, 0, alg, grade=1)"
   ]
  },
  {
   "cell_type": "code",
   "execution_count": 141,
   "metadata": {},
   "outputs": [
    {
     "data": {
      "text/plain": [
       "(1.1 + -0.829 𝐞₁ + -0.487 𝐞₂ + 1.27 𝐞₃ + 1.53 𝐞₄ + 0.989 𝐞₁₂ + -0.677 𝐞₁₃ + -0.953 𝐞₁₄ + 0.196 𝐞₂₃ + -0.327 𝐞₂₄ + 0.709 𝐞₃₄ + -0.0849 𝐞₁₂₃ + -0.307 𝐞₁₂₄ + -0.44 𝐞₁₃₄ + 0.316 𝐞₂₃₄ + 0.789 𝐞₁₂₃₄,\n",
       " 1.1 + -0.829 𝐞₁ + -0.487 𝐞₂ + 1.27 𝐞₃ + 1.53 𝐞₄ + 0.989 𝐞₁₂ + -0.677 𝐞₁₃ + -0.953 𝐞₁₄ + 0.196 𝐞₂₃ + -0.327 𝐞₂₄ + 0.709 𝐞₃₄ + -0.0849 𝐞₁₂₃ + -0.307 𝐞₁₂₄ + -0.44 𝐞₁₃₄ + 0.316 𝐞₂₃₄ + 0.789 𝐞₁₂₃₄)"
      ]
     },
     "execution_count": 141,
     "metadata": {},
     "output_type": "execute_result"
    }
   ],
   "source": [
    "# a|b scalar\n",
    "derivative(lambda a: B*(a|b), 0, alg, grade=1), b*B"
   ]
  },
  {
   "cell_type": "code",
   "execution_count": 142,
   "metadata": {},
   "outputs": [
    {
     "data": {
      "text/plain": [
       "(-0.941 𝐞₁ + -0.768 𝐞₂ + 0.938 𝐞₃ + 1.52 𝐞₄,\n",
       " -0.941 𝐞₁ + -0.768 𝐞₂ + 0.938 𝐞₃ + 1.52 𝐞₄,\n",
       " -0.941 𝐞₁ + -0.768 𝐞₂ + 0.938 𝐞₃ + 1.52 𝐞₄)"
      ]
     },
     "execution_count": 142,
     "metadata": {},
     "output_type": "execute_result"
    }
   ],
   "source": [
    "differential(lambda a: a | B.grade(2), 0, b), b | B.grade(2), differential(lambda a: a, 0, b|B.grade(2))"
   ]
  },
  {
   "cell_type": "code",
   "execution_count": 143,
   "metadata": {},
   "outputs": [
    {
     "data": {
      "text/plain": [
       "[1 𝐞₁, 1 𝐞₂, 1 𝐞₃, 1 𝐞₄]"
      ]
     },
     "execution_count": 143,
     "metadata": {},
     "output_type": "execute_result"
    }
   ],
   "source": [
    "alg.frame"
   ]
  },
  {
   "cell_type": "code",
   "execution_count": 153,
   "metadata": {},
   "outputs": [
    {
     "data": {
      "text/plain": [
       "(2.58 + 6.94e-11 𝐞₁₂ + 1.39e-11 𝐞₁₃ + 5.55e-11 𝐞₂₃ + 2.78e-11 𝐞₂₄ + -2.84e-10 𝐞₃₄ + 2.05 𝐞₁₂₃₄,\n",
       " 0.432 𝐞₁ + 1.09 𝐞₂ + 1.27 𝐞₃ + 0.0317 𝐞₄ + 0.0253 𝐞₁₂₃ + -1.01 𝐞₁₂₄ + 0.864 𝐞₁₃₄ + -0.344 𝐞₂₃₄,\n",
       " 0.432 𝐞₁ + 1.09 𝐞₂ + 1.27 𝐞₃ + 0.0317 𝐞₄ + -0.0253 𝐞₁₂₃ + 1.01 𝐞₁₂₄ + -0.864 𝐞₁₃₄ + 0.344 𝐞₂₃₄)"
      ]
     },
     "execution_count": 153,
     "metadata": {},
     "output_type": "execute_result"
    }
   ],
   "source": [
    "#9.43 I ** 2\n",
    "trace = derivative(Gp, X, alg, grade=2)\n",
    "trace, trace * b/2, traction(Gp, b)"
   ]
  },
  {
   "cell_type": "code",
   "execution_count": 180,
   "metadata": {},
   "outputs": [
    {
     "data": {
      "text/plain": [
       "(2.58 + 2.05 𝐞₁₂₃₄,\n",
       " 2.58 + 7.86e-11 𝐞₁₂ + 4.63e-12 𝐞₁₃ + 3.24e-11 𝐞₂₃ + 1.62e-11 𝐞₂₄ + -2.61e-10 𝐞₃₄ + 2.05 𝐞₁₂₃₄,\n",
       " 2.58 + 6.94e-11 𝐞₁₂ + 1.39e-11 𝐞₁₃ + 5.55e-11 𝐞₂₃ + 2.78e-11 𝐞₂₄ + -2.84e-10 𝐞₃₄ + 2.05 𝐞₁₂₃₄)"
      ]
     },
     "execution_count": 180,
     "metadata": {},
     "output_type": "execute_result"
    }
   ],
   "source": [
    "# F0\n",
    "F0 = lambda X: sum(bivectors[j]*X*bivectors[k]*(sym3[j,k] + sym3I[j,k]*I) for j, k in zip([0,1,2], [0,1,2]))\n",
    "derivative(F0, X, alg, grade=2), derivative(lambda X: (2/4/3) * X * trace, X, alg, grade=2), trace"
   ]
  },
  {
   "cell_type": "code",
   "execution_count": 181,
   "metadata": {},
   "outputs": [
    {
     "data": {
      "text/plain": [
       "(8.33e-11 𝐞₁₂ + -4.16e-11 𝐞₁₃ + -1.11e-10 𝐞₁₄ + 1.11e-10 𝐞₂₃ + -1.94e-10 𝐞₂₄ + -5.55e-11 𝐞₃₄,\n",
       " 4.34e-18 𝐞₂ + -1.11e-16 𝐞₃ + -1.39e-17 𝐞₄ + -1.61e-16 𝐞₁₂₃)"
      ]
     },
     "execution_count": 181,
     "metadata": {},
     "output_type": "execute_result"
    }
   ],
   "source": [
    "#9.47 T = Gp - F0\n",
    "Gp0 = lambda X: sum(bivectors[j]*X*bivectors[k]*(sym3[j,k] + sym3I[j,k]*I) for j, k in product([0,1,2], repeat=2) if j!=k)\n",
    "# or Gp0 = lambda X: Gp(X) - (1/6)*X*trace\n",
    "derivative(Gp0, X, alg, grade=2), traction(Gp0, b)"
   ]
  },
  {
   "cell_type": "code",
   "execution_count": 172,
   "metadata": {},
   "outputs": [
    {
     "data": {
      "text/plain": [
       "(-2.35 + -0.74 𝐞₁₂ + -0.906 𝐞₁₃ + 0.253 𝐞₁₄ + -0.0977 𝐞₂₃ + 0.689 𝐞₂₄ + 0.81 𝐞₃₄,\n",
       " -2.35 + -0.74 𝐞₁₂ + -0.906 𝐞₁₃ + 0.253 𝐞₁₄ + -0.0977 𝐞₂₃ + 0.689 𝐞₂₄ + 0.81 𝐞₃₄)"
      ]
     },
     "execution_count": 172,
     "metadata": {},
     "output_type": "execute_result"
    }
   ],
   "source": [
    "c = random_r_blade(1, alg)\n",
    "derivative(lambda a: c * (a ^ b), 0, alg, grade=1), b * c - (4 * (c | b))"
   ]
  },
  {
   "cell_type": "code",
   "execution_count": 173,
   "metadata": {},
   "outputs": [
    {
     "data": {
      "text/plain": [
       "(-3.44 𝐞₁ + -3.84 𝐞₂ + -3.56 𝐞₃ + -5.15 𝐞₄ + 4.03 𝐞₁₂₃ + -1.53 𝐞₁₂₄ + 2.19 𝐞₁₃₄ + -2.93 𝐞₂₃₄,\n",
       " 0.837 𝐞₁ + 2.1 𝐞₂ + 2.46 𝐞₃ + 0.0614 𝐞₄ + -0.0331 𝐞₁₂₃ + 1.33 𝐞₁₂₄ + -1.13 𝐞₁₃₄ + 0.451 𝐞₂₃₄,\n",
       " -4.27 𝐞₁ + -5.95 𝐞₂ + -6.02 𝐞₃ + -5.21 𝐞₄ + 4.06 𝐞₁₂₃ + -2.86 𝐞₁₂₄ + 3.33 𝐞₁₃₄ + -3.38 𝐞₂₃₄,\n",
       " -3.44 𝐞₁ + -3.84 𝐞₂ + -3.56 𝐞₃ + -5.15 𝐞₄ + 4.03 𝐞₁₂₃ + -1.53 𝐞₁₂₄ + 2.19 𝐞₁₃₄ + -2.93 𝐞₂₃₄)"
      ]
     },
     "execution_count": 173,
     "metadata": {},
     "output_type": "execute_result"
    }
   ],
   "source": [
    "#9.44 The coefficient of the second part is -4, not -2\n",
    "H_traction = traction(H, b)\n",
    "first_part = b * sum(alg.frame[j]*alg.frame[k]*(sym4[j,k] + sym4I[j,k]*I) for j, k in product([0,1,2,3], repeat=2))\n",
    "second_part = (-4) * sum((alg.frame[j] | b) * alg.frame[k]*(sym4[j,k] + sym4I[j,k]*I) for j, k in product([0,1,2,3], repeat=2))\n",
    "H_traction, first_part, second_part, first_part + second_part"
   ]
  },
  {
   "cell_type": "code",
   "execution_count": 174,
   "metadata": {},
   "outputs": [
    {
     "data": {
      "text/plain": [
       "(-3.44 𝐞₁ + -3.84 𝐞₂ + -3.56 𝐞₃ + -5.15 𝐞₄ + 4.03 𝐞₁₂₃ + -1.53 𝐞₁₂₄ + 2.19 𝐞₁₃₄ + -2.93 𝐞₂₃₄,\n",
       " 0.837 𝐞₁ + 2.1 𝐞₂ + 2.46 𝐞₃ + 0.0614 𝐞₄ + -0.0331 𝐞₁₂₃ + 1.33 𝐞₁₂₄ + -1.13 𝐞₁₃₄ + 0.451 𝐞₂₃₄,\n",
       " -4.27 𝐞₁ + -5.95 𝐞₂ + -6.02 𝐞₃ + -5.21 𝐞₄ + 4.06 𝐞₁₂₃ + -2.86 𝐞₁₂₄ + 3.33 𝐞₁₃₄ + -3.38 𝐞₂₃₄,\n",
       " -3.44 𝐞₁ + -3.84 𝐞₂ + -3.56 𝐞₃ + -5.15 𝐞₄ + 4.03 𝐞₁₂₃ + -1.53 𝐞₁₂₄ + 2.19 𝐞₁₃₄ + -2.93 𝐞₂₃₄)"
      ]
     },
     "execution_count": 174,
     "metadata": {},
     "output_type": "execute_result"
    }
   ],
   "source": [
    "#9.44 The coefficient of the second part is -4, not -2\n",
    "H_traction = traction(H, b)\n",
    "first_part = lambda b: b * sum(alg.frame[j]*alg.frame[k]*(sym4[j,k] + sym4I[j,k]*I) for j, k in product([0,1,2,3], repeat=2))\n",
    "second_part = lambda b: (-4) * sum((alg.frame[j] | b) * alg.frame[k]*(sym4[j,k] + sym4I[j,k]*I) for j, k in product([0,1,2,3], repeat=2))\n",
    "H_traction, first_part(b), second_part(b), first_part(b) + second_part(b)"
   ]
  },
  {
   "cell_type": "code",
   "execution_count": 158,
   "metadata": {},
   "outputs": [
    {
     "data": {
      "text/plain": [
       "5.55e-11 + 5.55e-10 𝐞₁₂ + 3.05e-10 𝐞₁₃ + -1.39e-10 𝐞₁₄ + -8.33e-11 𝐞₂₃ + -1.67e-10 𝐞₂₄ + 4.44e-10 𝐞₃₄ + -1.67e-10 𝐞₁₂₃₄"
      ]
     },
     "execution_count": 158,
     "metadata": {},
     "output_type": "execute_result"
    }
   ],
   "source": [
    "#9.45 derivative(H) is zero?! The coefficient the second part of 9.44 is wrong. So it's indeed zero.\n",
    "# And H = F1 + F3\n",
    "# So F0 is indeed given by Gp\n",
    "derivative(H, X, alg, grade=2)"
   ]
  },
  {
   "cell_type": "code",
   "execution_count": 179,
   "metadata": {},
   "outputs": [
    {
     "data": {
      "text/plain": [
       "(-3.44 𝐞₁ + -3.84 𝐞₂ + -3.56 𝐞₃ + -5.15 𝐞₄,\n",
       " -3.44 𝐞₁ + -3.84 𝐞₂ + -3.56 𝐞₃ + -5.15 𝐞₄,\n",
       " 4.03 𝐞₁₂₃ + -1.53 𝐞₁₂₄ + 2.19 𝐞₁₃₄ + -2.93 𝐞₂₃₄,\n",
       " 4.03 𝐞₁₂₃ + -1.53 𝐞₁₂₄ + 2.19 𝐞₁₃₄ + -2.93 𝐞₂₃₄)"
      ]
     },
     "execution_count": 179,
     "metadata": {},
     "output_type": "execute_result"
    }
   ],
   "source": [
    "#9.46 with corrections on the RHS\n",
    "H_traction = traction(H, b)\n",
    "first_part1 = lambda b: b * sum(alg.frame[j]*alg.frame[k]*(sym4[j,k]) for j, k in product([0,1,2,3], repeat=2))\n",
    "second_part1 = lambda b: (-4) * sum((alg.frame[j] | b) * alg.frame[k]*(sym4[j,k]) for j, k in product([0,1,2,3], repeat=2))\n",
    "first_part3 = lambda b: b * sum(alg.frame[j]*alg.frame[k]*(sym4I[j,k]*I) for j, k in product([0,1,2,3], repeat=2))\n",
    "second_part3 = lambda b: (-4) * sum((alg.frame[j] | b) * alg.frame[k]*(sym4I[j,k]*I) for j, k in product([0,1,2,3], repeat=2))\n",
    "H_traction.grade(1), first_part1(b) + second_part1(b), H_traction.grade(3), first_part3(b) + second_part3(b)"
   ]
  },
  {
   "cell_type": "code",
   "execution_count": null,
   "metadata": {},
   "outputs": [],
   "source": [
    "Gp"
   ]
  }
 ],
 "metadata": {
  "kernelspec": {
   "display_name": "Python 3",
   "language": "python",
   "name": "python3"
  },
  "language_info": {
   "codemirror_mode": {
    "name": "ipython",
    "version": 3
   },
   "file_extension": ".py",
   "mimetype": "text/x-python",
   "name": "python",
   "nbconvert_exporter": "python",
   "pygments_lexer": "ipython3",
   "version": "3.10.5"
  }
 },
 "nbformat": 4,
 "nbformat_minor": 2
}
