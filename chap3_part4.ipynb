{
 "cells": [
  {
   "cell_type": "markdown",
   "metadata": {},
   "source": []
  },
  {
   "cell_type": "code",
   "execution_count": 89,
   "metadata": {},
   "outputs": [
    {
     "data": {
      "text/plain": [
       "(2.1166487025287273, 2.1166487025287273)"
      ]
     },
     "execution_count": 89,
     "metadata": {},
     "output_type": "execute_result"
    }
   ],
   "source": [
    "#10.1\n",
    "from gc_utils import *\n",
    "\n",
    "alg = Algebra(4)\n",
    "A, B, C, D = [random_multivector(alg) for _ in range(4)]\n",
    "a,b,c,d = random_r_vectors(4, alg)\n",
    "tau = lambda a,d, b,c: ((b^c)|(A*a*B*d*C))[0]\n",
    "T22_ = lambda a, d: simplicial_derivative(lambda vectors: tau(a, d, *vectors), np.zeros(2), alg)\n",
    "tau(a,d, b,c), ((b^c)|T22_(a, d))[0]"
   ]
  },
  {
   "cell_type": "code",
   "execution_count": 90,
   "metadata": {},
   "outputs": [
    {
     "data": {
      "text/plain": [
       "(-5.56 𝐞₁₂ + 2.15 𝐞₁₃ + -5.55 𝐞₁₄ + 9.09 𝐞₂₃ + -6.18 𝐞₂₄ + -2.51 𝐞₃₄,\n",
       " -5.56 𝐞₁₂ + 2.15 𝐞₁₃ + -5.55 𝐞₁₄ + 9.09 𝐞₂₃ + -6.18 𝐞₂₄ + -2.51 𝐞₃₄)"
      ]
     },
     "execution_count": 90,
     "metadata": {},
     "output_type": "execute_result"
    }
   ],
   "source": [
    "T22 = lambda vectors: (A*vectors[0]*B*vectors[1]*C).grade(2)\n",
    "T22_(a,d), T22([a,d])"
   ]
  },
  {
   "cell_type": "code",
   "execution_count": 117,
   "metadata": {},
   "outputs": [
    {
     "data": {
      "text/plain": [
       "(-8.71 𝐞₁₂ + -4.29 𝐞₁₃ + -11.2 𝐞₁₄ + -1.35 𝐞₂₃ + -4.59 𝐞₂₄ + -5.72 𝐞₃₄,\n",
       " -8.72 𝐞₁₂ + -4.29 𝐞₁₃ + -11.2 𝐞₁₄ + -1.35 𝐞₂₃ + -4.59 𝐞₂₄ + -5.72 𝐞₃₄)"
      ]
     },
     "execution_count": 117,
     "metadata": {},
     "output_type": "execute_result"
    }
   ],
   "source": [
    "#10.4\n",
    "frame = alg.frame\n",
    "r_frame = reciprocal(alg.frame)\n",
    "drF = 0\n",
    "vectors = [a,d]\n",
    "r = len(vectors)\n",
    "for base_vectors, reci_vectors in zip(\n",
    "    # many zeros for the inner products of orthogonal frame\n",
    "    product(frame, repeat=2), product(r_frame, repeat=2) \n",
    "):\n",
    "    drF += alg.ip(*base_vectors[::-1]) * vectors_partial(\n",
    "        T22, vectors, reci_vectors\n",
    "    )\n",
    "drF, sum(differential(lambda a: T22([r, a]), 0, v) for v, r in zip(frame, r_frame))"
   ]
  },
  {
   "cell_type": "code",
   "execution_count": 120,
   "metadata": {},
   "outputs": [
    {
     "data": {
      "text/plain": [
       "3.75 𝐞₁ + -3.21 𝐞₂ + 3.29 𝐞₃ + -10.3 𝐞₄ + -3.09 𝐞₁₂₃ + -2.45 𝐞₁₂₄ + -10.6 𝐞₁₃₄ + 10.6 𝐞₂₃₄"
      ]
     },
     "execution_count": 120,
     "metadata": {},
     "output_type": "execute_result"
    }
   ],
   "source": [
    "#10.5\n",
    "derivative(lambda b: T22([a, b]), 0, alg, grade=1)"
   ]
  },
  {
   "cell_type": "code",
   "execution_count": 119,
   "metadata": {},
   "outputs": [
    {
     "data": {
      "text/plain": [
       "3.75 𝐞₁ + -3.21 𝐞₂ + 3.29 𝐞₃ + -10.3 𝐞₄"
      ]
     },
     "execution_count": 119,
     "metadata": {},
     "output_type": "execute_result"
    }
   ],
   "source": [
    "#10.6\n",
    "div(lambda b: T22([a, b]), d, alg, grade=1)"
   ]
  },
  {
   "cell_type": "code",
   "execution_count": 157,
   "metadata": {},
   "outputs": [
    {
     "data": {
      "text/plain": [
       "(3.04 𝐞₁ + -6.45 𝐞₂ + 0.78 𝐞₃ + 3.39 𝐞₄,\n",
       " 3.04 𝐞₁ + -6.45 𝐞₂ + 0.78 𝐞₃ + 3.39 𝐞₄,\n",
       " 3.04 𝐞₁ + -6.45 𝐞₂ + 0.78 𝐞₃ + 3.39 𝐞₄,\n",
       " 3.04 𝐞₁ + -6.45 𝐞₂ + 0.78 𝐞₃ + 3.39 𝐞₄)"
      ]
     },
     "execution_count": 157,
     "metadata": {},
     "output_type": "execute_result"
    }
   ],
   "source": [
    "#10.9\n",
    "t = lambda a,b: (A*a*b*B).grade(0)\n",
    "s = lambda a,b: (C*a*D*b).grade(0)\n",
    "p = lambda a,b: sum(differential(lambda x: t(a, r)*s(x, b), 0, v) for v, r in zip(frame, r_frame))\n",
    "R = lambda a: derivative(lambda b: p(a,b), 0, alg, grade=1)\n",
    "S = lambda a: derivative(lambda b: s(a,b), 0, alg, grade=1)\n",
    "T = lambda a: derivative(lambda b: t(a,b), 0, alg, grade=1)\n",
    "(   \n",
    "    R(a), \n",
    "    sum(differential(lambda x: t(a, r)*S(x), 0, v) for v, r in zip(frame, r_frame)),\n",
    "    differential(S, 0, T(a)),\n",
    "    S(T(a))\n",
    "    )"
   ]
  },
  {
   "cell_type": "code",
   "execution_count": 156,
   "metadata": {},
   "outputs": [
    {
     "data": {
      "text/plain": [
       "(-12.7 𝐞₁ + -17.9 𝐞₂ + -11.3 𝐞₃ + -33.1 𝐞₄ + 9.97 𝐞₁₂₃ + -3.71 𝐞₁₂₄ + 31.0 𝐞₁₃₄ + 9.55 𝐞₂₃₄,\n",
       " -12.7 𝐞₁ + -17.9 𝐞₂ + -11.3 𝐞₃ + -33.1 𝐞₄ + 9.97 𝐞₁₂₃ + -3.71 𝐞₁₂₄ + 31.0 𝐞₁₃₄ + 9.55 𝐞₂₃₄,\n",
       " -12.7 𝐞₁ + -17.9 𝐞₂ + -11.3 𝐞₃ + -33.1 𝐞₄ + 9.97 𝐞₁₂₃ + -3.71 𝐞₁₂₄ + 31.0 𝐞₁₃₄ + 9.55 𝐞₂₃₄,\n",
       " -12.7 𝐞₁ + -17.9 𝐞₂ + -11.3 𝐞₃ + -33.1 𝐞₄ + 9.97 𝐞₁₂₃ + -3.71 𝐞₁₂₄ + 31.0 𝐞₁₃₄ + 9.55 𝐞₂₃₄,\n",
       " -12.7 𝐞₁ + -17.9 𝐞₂ + -11.3 𝐞₃ + -33.1 𝐞₄ + 9.97 𝐞₁₂₃ + -3.71 𝐞₁₂₄ + 31.0 𝐞₁₃₄ + 9.55 𝐞₂₃₄)"
      ]
     },
     "execution_count": 156,
     "metadata": {},
     "output_type": "execute_result"
    }
   ],
   "source": [
    "#10.9b variation for biform\n",
    "t = lambda a,b: (A*a*b*B).grade(2)\n",
    "s = lambda a,b: (C*a*D*b).grade(2)\n",
    "p = lambda a,b: sum(differential(lambda x: t(a, r)*s(x, b), 0, v) for v, r in zip(frame, r_frame))\n",
    "R = lambda a: derivative(lambda b: p(b,a), 0, alg, grade=1)\n",
    "S = lambda a: derivative(lambda b: s(b,a), 0, alg, grade=1)\n",
    "T = lambda a: derivative(lambda b: t(b,a), 0, alg, grade=1)\n",
    "(\n",
    "    R(a), \n",
    "    sum(differential(lambda x: T(r)*s(x,a), 0, v) for v, r in zip(frame, r_frame)),\n",
    "    sum(differential(lambda x: T(x)*s(r,a), 0, v) for v, r in zip(frame, r_frame)),\n",
    "    sum(differential(lambda x: T(x), 0, v)*s(r,a) for v, r in zip(frame, r_frame)),\n",
    "    sum(T(v)*s(r,a) for v, r in zip(frame, r_frame)),\n",
    "    )"
   ]
  },
  {
   "cell_type": "code",
   "execution_count": 159,
   "metadata": {},
   "outputs": [
    {
     "data": {
      "text/plain": [
       "(-2.94, -2.94)"
      ]
     },
     "execution_count": 159,
     "metadata": {},
     "output_type": "execute_result"
    }
   ],
   "source": [
    "#10.11\n",
    "t = lambda a,b: (A*a*b*B).grade(0)\n",
    "\n",
    "t(a,b), sum((a|v)*(b|w)*t(vr, wr) for v,vr in zip(frame, r_frame) for w,wr in zip(frame, r_frame))"
   ]
  },
  {
   "cell_type": "code",
   "execution_count": 160,
   "metadata": {},
   "outputs": [
    {
     "data": {
      "text/plain": [
       "(-3.25, -3.25, -3.25)"
      ]
     },
     "execution_count": 160,
     "metadata": {},
     "output_type": "execute_result"
    }
   ],
   "source": [
    "#10.12\n",
    "t = lambda a,b,c: (A*a*b*B*c).grade(0)\n",
    "# contraction of t in the 1,2 position\n",
    "t12 = lambda c: sum(differential(lambda a: t(a, r, c), 0, v) for v, r in zip(frame, r_frame))\n",
    "t21 = lambda c: sum(differential(lambda b: t(r, b, c), 0, v) for v, r in zip(frame, r_frame))\n",
    "t12_ = lambda c: sum(t(v, r, c) for v, r in zip(frame, r_frame))\n",
    "t12(c), t21(c), t12_(c)"
   ]
  },
  {
   "cell_type": "code",
   "execution_count": 164,
   "metadata": {},
   "outputs": [
    {
     "data": {
      "text/plain": [
       "([0.584 𝐞₁ + -0.282 𝐞₂ + 2.9 𝐞₃ + -2.48 𝐞₄,\n",
       "  1.7 𝐞₁ + -3.02 𝐞₂ + 0.718 𝐞₃ + -0.557 𝐞₄,\n",
       "  3.18 𝐞₁ + 1.22 𝐞₂ + 0.795 𝐞₃ + 0.571 𝐞₄,\n",
       "  -0.988 𝐞₁ + 2.45 𝐞₂ + 0.879 𝐞₃ + -2.56 𝐞₄],\n",
       " [0.584 𝐞₁ + -0.282 𝐞₂ + 2.9 𝐞₃ + -2.48 𝐞₄,\n",
       "  1.7 𝐞₁ + -3.02 𝐞₂ + 0.718 𝐞₃ + -0.557 𝐞₄,\n",
       "  3.18 𝐞₁ + 1.22 𝐞₂ + 0.795 𝐞₃ + 0.571 𝐞₄,\n",
       "  -0.988 𝐞₁ + 2.45 𝐞₂ + 0.879 𝐞₃ + -2.56 𝐞₄])"
      ]
     },
     "execution_count": 164,
     "metadata": {},
     "output_type": "execute_result"
    }
   ],
   "source": [
    "#10.14a\n",
    "f = lambda x: (A*x*B).grade(1)\n",
    "f_matrix = trans2matrix(f, alg)\n",
    "frame2 = [f(v) for v in frame]\n",
    "frame2, [sum(f_matrix[j, k] * frame[j] for j in range(alg.d)) for k in range(alg.d)]"
   ]
  },
  {
   "cell_type": "code",
   "execution_count": 165,
   "metadata": {},
   "outputs": [
    {
     "data": {
      "text/plain": [
       "([1.0 𝐞₁, 1.0 𝐞₂, 1.0 𝐞₃, 1.0 𝐞₄],\n",
       " [1.0 𝐞₁ + 1.67e-16 𝐞₂ + 1.67e-16 𝐞₃ + 1.11e-16 𝐞₄,\n",
       "  -1.11e-16 𝐞₁ + 1.0 𝐞₂ + 2.22e-16 𝐞₃,\n",
       "  -5.55e-17 𝐞₁ + 6.94e-17 𝐞₂ + 1.0 𝐞₃ + 1.11e-16 𝐞₄,\n",
       "  -1.11e-16 𝐞₁ + -4.44e-16 𝐞₃ + 1.0 𝐞₄])"
      ]
     },
     "execution_count": 165,
     "metadata": {},
     "output_type": "execute_result"
    }
   ],
   "source": [
    "#10.14b\n",
    "r_frame2 = reciprocal(frame2)\n",
    "r_frame, [sum(f_matrix[j, k] * r_frame2[k] for k in range(alg.d)) for j in range(alg.d)]"
   ]
  },
  {
   "cell_type": "code",
   "execution_count": 203,
   "metadata": {},
   "outputs": [
    {
     "data": {
      "text/plain": [
       "(-2.98, -2.98, -2.98, -2.98, -2.98)"
      ]
     },
     "execution_count": 203,
     "metadata": {},
     "output_type": "execute_result"
    }
   ],
   "source": [
    "#10.16 tensor...alot of summation\n",
    "t = lambda a,b: (A*a*b*B).grade(0)\n",
    "(\n",
    "    t(a,f(b)),\n",
    "    sum((a|vr)*(f(b)|wr)*t(v, w) for v,vr in zip(frame, r_frame) for w,wr in zip(frame, r_frame)),\n",
    "    sum((a|vr)*(b|wr)*t(v, f(w)) for v,vr in zip(frame, r_frame) for w,wr in zip(frame, r_frame)),\n",
    "    sum((a|vr)*(b|wr)*t(v, w) for v,vr in zip(frame, r_frame) for w,wr in zip(frame2, r_frame)),\n",
    "    sum(f_matrix[j, k]*(a|vr)*(b|r_frame2[k])*t(v, w) for v,vr in zip(frame, r_frame) for w, j in zip(frame2,range(alg.d)) for k in range(alg.d)),\n",
    "    )"
   ]
  },
  {
   "cell_type": "code",
   "execution_count": 212,
   "metadata": {},
   "outputs": [
    {
     "data": {
      "text/plain": [
       "(-1.46, 1.46)"
      ]
     },
     "execution_count": 212,
     "metadata": {},
     "output_type": "execute_result"
    }
   ],
   "source": [
    "#skew-symmetrizer\n",
    "t_ = lambda vectors: t(*vectors)\n",
    "skew_symmetrizer(t_, a^b, alg), skew_symmetrizer(t_, b^a, alg)"
   ]
  },
  {
   "cell_type": "code",
   "execution_count": 209,
   "metadata": {},
   "outputs": [
    {
     "data": {
      "text/plain": [
       "(-2.95, -2.95, -2.94, -0.011)"
      ]
     },
     "execution_count": 209,
     "metadata": {},
     "output_type": "execute_result"
    }
   ],
   "source": [
    "#10.19 symmetrizer\n",
    "S = lambda a,b: differential(lambda b: differential(lambda a: t(a,a), b, a), 0, b)\n",
    "S(a,b), S(b,a), t(a,b), t(b,a)"
   ]
  },
  {
   "cell_type": "code",
   "execution_count": null,
   "metadata": {},
   "outputs": [],
   "source": []
  }
 ],
 "metadata": {
  "kernelspec": {
   "display_name": "3.10.5",
   "language": "python",
   "name": "python3"
  },
  "language_info": {
   "codemirror_mode": {
    "name": "ipython",
    "version": 3
   },
   "file_extension": ".py",
   "mimetype": "text/x-python",
   "name": "python",
   "nbconvert_exporter": "python",
   "pygments_lexer": "ipython3",
   "version": "3.10.5"
  }
 },
 "nbformat": 4,
 "nbformat_minor": 2
}
