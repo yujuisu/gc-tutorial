{
 "cells": [
  {
   "cell_type": "code",
   "execution_count": 27,
   "metadata": {},
   "outputs": [
    {
     "data": {
      "text/plain": [
       "(3.64 𝐞₁₃ + 2.08 𝐞₂₃, 7.11e-15 𝐞₁₂₃)"
      ]
     },
     "execution_count": 27,
     "metadata": {},
     "output_type": "execute_result"
    }
   ],
   "source": [
    "#1.3 cylinder\n",
    "# Let M be a elliptic cylinder in R3, (ax)^2 + (by)^2 = 1\n",
    "# x = 1/a*cos(p)*e1 + 1/b*sin(p)*e2 + z*e3, p, z in R\n",
    "\n",
    "from gc_utils import *\n",
    "alg = Algebra(3)\n",
    "locals().update(alg.blades)\n",
    "\n",
    "c2e = lambda p, z: 4*np.cos(p)*e1 + 5*np.sin(p)*e2 + z*e3\n",
    "e_p = lambda p: -4*np.sin(p)*e1 + 5*np.cos(p)*e2\n",
    "def Ix(x):\n",
    "    p = np.arctan((4/5)*x.e2/x.e1)\n",
    "    return e_p(p) ^ e3\n",
    "\n",
    "p, t = 2, 3\n",
    "x = c2e(p, t)\n",
    "I = Ix(x)\n",
    "\n",
    "I, I ^ (3*e3 + 5*e_p(p))"
   ]
  },
  {
   "cell_type": "code",
   "execution_count": 1,
   "metadata": {},
   "outputs": [
    {
     "data": {
      "text/plain": [
       "(2.79 𝐞₁₂ + -0.067 𝐞₁₃ + -0.0538 𝐞₂₃, 3.69e-15 𝐞₁₂₃)"
      ]
     },
     "execution_count": 1,
     "metadata": {},
     "output_type": "execute_result"
    }
   ],
   "source": [
    "#1.3 ellipsoid\n",
    "# Let M be an ellipsoid in R3, (ax)^{2}+(by)^{2}+z^{2}=d\n",
    "# x = 1/a*cos(p)*sin(t)*e1 + 1/b*sin(p)*sin(t)*e2 + cos(t)*e3, t, p in R\n",
    "\n",
    "from gc_utils import *\n",
    "alg = Algebra(3)\n",
    "locals().update(alg.blades)\n",
    "\n",
    "c2e = lambda p, t: 4*np.cos(p)*np.sin(t)*e1 + 5*np.sin(p)*np.sin(t)*e2 + np.cos(t)*e3\n",
    "e_p = lambda p, t: -4*np.sin(p)*np.sin(t)*e1 + 5*np.cos(p)*np.sin(t)*e2\n",
    "e_t = lambda p, t: (4*np.cos(p)*np.cos(t)*e1) + (5*np.sin(p)*np.cos(t)*e2) - (np.sin(t)*e3)\n",
    "def Ix(x):\n",
    "    p = np.arctan((4/5)*x.e2/x.e1)\n",
    "    t = np.arccos(x.e3)\n",
    "    return e_p(p, t) ^ e_t(p, t)\n",
    "\n",
    "# |p| < pi/2, 0 < t < pi for unique arctan & arccos\n",
    "p, t = -1, 3\n",
    "x = c2e(p, t)\n",
    "I = Ix(x)\n",
    "\n",
    "I, I ^ (3*e_t(p,t) + 5*e_p(p,t))"
   ]
  },
  {
   "cell_type": "code",
   "execution_count": 2,
   "metadata": {},
   "outputs": [
    {
     "data": {
      "text/plain": [
       "(0.398 + 0.573 𝐞₁ + 0.946 𝐞₂ + 0.279 𝐞₃ + 0.848 𝐞₁₂ + 0.221 𝐞₁₃ + 0.2 𝐞₂₃ + 0.505 𝐞₁₂₃,\n",
       " 0.398 + 0.579 𝐞₁ + 0.939 𝐞₂ + -0.0114 𝐞₃ + 0.838 𝐞₁₂ + -0.0201 𝐞₁₃ + -0.0161 𝐞₂₃,\n",
       " 0.33 𝐞₁ + 0.543 𝐞₂ + 0.947 𝐞₃,\n",
       " 0.348 𝐞₁ + 0.521 𝐞₂ + -0.00578 𝐞₃)"
      ]
     },
     "execution_count": 2,
     "metadata": {},
     "output_type": "execute_result"
    }
   ],
   "source": [
    "#1.4\n",
    "A, B, C, D = [random_multivector(alg) for _ in range(4)]\n",
    "a, b, c, d = random_r_vectors(4, alg)\n",
    "A, P(A, I), a, P(a, I)"
   ]
  },
  {
   "cell_type": "code",
   "execution_count": 3,
   "metadata": {},
   "outputs": [
    {
     "data": {
      "text/plain": [
       "(-3.2 + -3.12 𝐞₁ + -3.49 𝐞₂ + -1.52 𝐞₃ + -3.97 𝐞₁₂ + -1.14 𝐞₁₃ + -2.18 𝐞₂₃ + -2.66 𝐞₁₂₃,\n",
       " -3.2 + -3.12 𝐞₁ + -3.49 𝐞₂ + -1.52 𝐞₃ + -3.97 𝐞₁₂ + -1.14 𝐞₁₃ + -2.18 𝐞₂₃ + -2.66 𝐞₁₂₃)"
      ]
     },
     "execution_count": 3,
     "metadata": {},
     "output_type": "execute_result"
    }
   ],
   "source": [
    "#1.5\n",
    "xt = lambda t: x + (C*t*D).grade(1)\n",
    "a = differential(xt, 0, 1)\n",
    "F = lambda x: A * x * x * B\n",
    "differential(F, x, a), differential(lambda t: F(xt(t)), 0, 1)"
   ]
  },
  {
   "cell_type": "code",
   "execution_count": 4,
   "metadata": {},
   "outputs": [
    {
     "data": {
      "text/plain": [
       "(-0.103 + 0.678 𝐞₁ + 2.35 𝐞₂ + -0.826 𝐞₃ + 2.38 𝐞₁₂ + -0.165 𝐞₁₃ + 1.57 𝐞₂₃ + 1.57 𝐞₁₂₃,\n",
       " -0.103 + 0.678 𝐞₁ + 2.35 𝐞₂ + -0.827 𝐞₃ + 2.38 𝐞₁₂ + -0.165 𝐞₁₃ + 1.57 𝐞₂₃ + 1.57 𝐞₁₂₃,\n",
       " -0.0891 + 0.692 𝐞₁ + 2.36 𝐞₂ + -0.82 𝐞₃ + 2.4 𝐞₁₂ + -0.16 𝐞₁₃ + 1.58 𝐞₂₃ + 1.58 𝐞₁₂₃)"
      ]
     },
     "execution_count": 4,
     "metadata": {},
     "output_type": "execute_result"
    }
   ],
   "source": [
    "#1.5\n",
    "y = c2e(p+0.003, t-0.003)\n",
    "a = (y - x) / norm(y - x)\n",
    "pa = P(a, Ix(x))\n",
    "F = lambda x: A * x * x * B + C * x * D\n",
    "differential(F, x, pa), differential(F, x, a), (F(y) - F(x))/norm(y-x)"
   ]
  },
  {
   "cell_type": "code",
   "execution_count": 5,
   "metadata": {},
   "outputs": [
    {
     "data": {
      "text/plain": [
       "(-1.18 + 2.39 𝐞₁ + 2.72 𝐞₂ + -0.491 𝐞₃ + 2.42 𝐞₁₂ + 1.48 𝐞₁₃ + 3.03 𝐞₂₃ + 0.936 𝐞₁₂₃,\n",
       " [-0.00129 𝐞₁ + -2.8 𝐞₂ + 0.067 𝐞₃, 1.0 𝐞₁ + 0.000461 𝐞₂ + 0.0192 𝐞₃],\n",
       " [-0.00129 𝐞₁ + -2.8 𝐞₂ + 0.067 𝐞₃, 1.0 𝐞₁ + 0.000461 𝐞₂ + 0.0192 𝐞₃])"
      ]
     },
     "execution_count": 5,
     "metadata": {},
     "output_type": "execute_result"
    }
   ],
   "source": [
    "#1.7 a local frame at x\n",
    "frame = blade_split(I, alg)\n",
    "r_frame = reciprocal(frame)\n",
    "derivative(F, x, alg, frame=frame, r_frame=r_frame), frame, [P(v, I) for v in frame]"
   ]
  },
  {
   "cell_type": "code",
   "execution_count": 6,
   "metadata": {},
   "outputs": [
    {
     "data": {
      "text/plain": [
       "(1.8 + -1.2 𝐞₁ + -3.19 𝐞₂ + 1.83 𝐞₃ + -1.97 𝐞₁₂ + -0.676 𝐞₁₃ + -3.19 𝐞₂₃ + -1.15 𝐞₁₂₃,\n",
       " 1.8 + -1.2 𝐞₁ + -3.19 𝐞₂ + 1.83 𝐞₃ + -1.97 𝐞₁₂ + -0.676 𝐞₁₃ + -3.19 𝐞₂₃ + -1.15 𝐞₁₂₃)"
      ]
     },
     "execution_count": 6,
     "metadata": {},
     "output_type": "execute_result"
    }
   ],
   "source": [
    "#1.9 linear in Ak, so the chain rule coefficients are 1\n",
    "# And both T and Ak are dependent of x, \n",
    "# so it looks like the product rule.\n",
    "G = lambda x: C*x*x*D\n",
    "T = lambda a, F, G: F*a*G\n",
    "dF = differential(F, x, pa)\n",
    "dG = differential(G, x, pa)\n",
    "dTa = differential(lambda a: T(a, F(a), G(a)), x, pa)\n",
    " \n",
    "differential(lambda a: T(a, F(x), G(x)), x, pa), dTa - T(x, dF, G(x)) - T(x, F(x), dG)"
   ]
  },
  {
   "cell_type": "code",
   "execution_count": 7,
   "metadata": {},
   "outputs": [
    {
     "data": {
      "text/plain": [
       "(4.41 + 4.29 𝐞₁ + 4.81 𝐞₂ + 2.09 𝐞₃ + 5.46 𝐞₁₂ + 1.57 𝐞₁₃ + 2.99 𝐞₂₃ + 3.66 𝐞₁₂₃,\n",
       " 4.41 + 4.29 𝐞₁ + 4.81 𝐞₂ + 2.09 𝐞₃ + 5.46 𝐞₁₂ + 1.57 𝐞₁₃ + 2.99 𝐞₂₃ + 3.66 𝐞₁₂₃,\n",
       " 2.68 + 4.59 𝐞₁ + 5.57 𝐞₂ + -0.399 𝐞₃ + 6.05 𝐞₁₂ + 0.573 𝐞₁₃ + 3.25 𝐞₂₃ + 3.65 𝐞₁₂₃,\n",
       " 4.41 + 4.29 𝐞₁ + 4.81 𝐞₂ + 2.09 𝐞₃ + 5.46 𝐞₁₂ + 1.57 𝐞₁₃ + 2.99 𝐞₂₃ + 3.66 𝐞₁₂₃)"
      ]
     },
     "execution_count": 7,
     "metadata": {},
     "output_type": "execute_result"
    }
   ],
   "source": [
    "#1.10 F satisfies the previous integrability condition Fab = Fba\n",
    "ax = lambda x: P(x-c, Ix(x))\n",
    "a = ax(x)\n",
    "bx = lambda x: P(x-d, Ix(x))\n",
    "b = bx(x)\n",
    "(\n",
    "    differential(lambda x: differential(F, x, a), x, b, h=1e-2),\n",
    "    differential(lambda x: differential(F, x, b), x, a, h=1e-2),\n",
    "    differential(lambda x: differential(F, x, ax(x)), x, b, h=1e-2),\n",
    "    differential(lambda x: differential(F, x, ax(x)), x, b, h=1e-2) - differential(F, x, differential(ax, x, b), h=1e-2),\n",
    "    )\n"
   ]
  },
  {
   "cell_type": "code",
   "execution_count": 8,
   "metadata": {},
   "outputs": [
    {
     "data": {
      "text/plain": [
       "-4.99e-18 + -2.3e-17 𝐞₁ + -7.37e-18 𝐞₂ + -9.76e-19 𝐞₃ + 1.9e-17 𝐞₁₂ + -3.97e-17 𝐞₁₃ + -5.96e-18 𝐞₂₃ + 3.7e-17 𝐞₁₂₃"
      ]
     },
     "execution_count": 8,
     "metadata": {},
     "output_type": "execute_result"
    }
   ],
   "source": [
    "#1.11 If the derivatives are independent, the sum of asymmetrics is zero\n",
    "grade = 1\n",
    "sum((v1 ^ v2) * differential(lambda x: differential(F, x, r2), x, r1) for (v1, v2), (r1, r2) in product(zip(frame, r_frame), repeat=2))"
   ]
  },
  {
   "cell_type": "code",
   "execution_count": 9,
   "metadata": {},
   "outputs": [
    {
     "data": {
      "text/plain": [
       "(0.00877 + 0.0787 𝐞₁ + 0.163 𝐞₂ + 0.0366 𝐞₃ + -0.065 𝐞₁₂ + 0.12 𝐞₁₃ + 0.158 𝐞₂₃ + -0.137 𝐞₁₂₃,\n",
       " 2.38e-07 + -2.98e-07 𝐞₁ + 3.67e-07 𝐞₂ + -7.27e-08 𝐞₃ + -6.16e-07 𝐞₁₂ + -3.08e-07 𝐞₁₃ + -1.56e-08 𝐞₂₃ + -2.94e-07 𝐞₁₂₃)"
      ]
     },
     "execution_count": 9,
     "metadata": {},
     "output_type": "execute_result"
    }
   ],
   "source": [
    "#1.11 To be nontrivial, the second derivative must act on the first\n",
    "def frame_gen(x, alg, Ix=Ix):\n",
    "    frame = blade_split(Ix(x), alg)\n",
    "    r_frame = reciprocal(frame)\n",
    "    return zip(frame, r_frame)\n",
    "\n",
    "def derivative_gen(x, alg: Algebra, Ix, h=1e-6):\n",
    "    Ix_frame = lambda x: frame_gen(x, alg, Ix=Ix)\n",
    "    for v, r in Ix_frame(x):\n",
    "        yield (r, lambda F: differential(F, x, v, h))\n",
    "(\n",
    "    sum(o1(lambda x: sum((r1^r)* o(F) for r, o in derivative_gen(x, alg, Ix=Ix))) for r1, o1 in derivative_gen(x, alg, Ix=Ix, h=1e-3)),\n",
    "    sum(o1(lambda x: sum(P(r1^r, I)* o(F) for r, o in derivative_gen(x, alg, Ix=Ix))) for r1, o1 in derivative_gen(x, alg, Ix=Ix, h=1e-3)),\n",
    ")"
   ]
  },
  {
   "cell_type": "code",
   "execution_count": 10,
   "metadata": {},
   "outputs": [
    {
     "data": {
      "text/plain": [
       "(0.241 + -0.0203 𝐞₁ + 0.0241 𝐞₂ + 0.327 𝐞₃ + 0.0628 𝐞₁₂ + 0.144 𝐞₁₃ + 0.0538 𝐞₂₃ + 0.109 𝐞₁₂₃,\n",
       " 0.241 + -0.0202 𝐞₁ + 0.0241 𝐞₂ + 0.327 𝐞₃ + 0.0628 𝐞₁₂ + 0.144 𝐞₁₃ + 0.054 𝐞₂₃ + 0.11 𝐞₁₂₃)"
      ]
     },
     "execution_count": 10,
     "metadata": {},
     "output_type": "execute_result"
    }
   ],
   "source": [
    "#1.12\n",
    "def lie_bracket(ax, bx):\n",
    "    return lambda x: differential(bx, x, ax(x)) - differential(ax, x, bx(x))\n",
    "\n",
    "diff_a = lambda F: lambda x: differential(F, x, ax(x))\n",
    "diff_b = lambda F: lambda x: differential(F, x, bx(x))\n",
    "def operator_cp(f, g):\n",
    "    return lambda A: lambda x: f(g(A))(x) - g(f(A))(x)\n",
    "\n",
    "lie = lie_bracket(ax, bx)\n",
    "(\n",
    "    operator_cp(diff_a, diff_b)(F)(x),\n",
    "    differential(F, x, lie(x))\n",
    "    )"
   ]
  },
  {
   "cell_type": "code",
   "execution_count": 11,
   "metadata": {},
   "outputs": [
    {
     "data": {
      "text/plain": [
       "(-0.506 𝐞₁ + -1.16 𝐞₂ + 0.114 𝐞₃,\n",
       " -0.649 𝐞₁ + -1.32 𝐞₂ + 0.115 𝐞₃,\n",
       " 0.143 𝐞₁ + 0.151 𝐞₂ + -0.000876 𝐞₃)"
      ]
     },
     "execution_count": 11,
     "metadata": {},
     "output_type": "execute_result"
    }
   ],
   "source": [
    "# lie_bracket\n",
    "(    \n",
    "    differential(bx, x, a),\n",
    "    differential(ax, x, b),\n",
    "    lie(x),\n",
    "    )"
   ]
  },
  {
   "cell_type": "code",
   "execution_count": 12,
   "metadata": {},
   "outputs": [
    {
     "data": {
      "text/plain": [
       "(-5.6e-08 + -3.34e-08 𝐞₁ + -2.82e-08 𝐞₂ + -2.71e-08 𝐞₃ + -2.24e-08 𝐞₁₂ + 3.05e-09 𝐞₁₃ + -2.93e-08 𝐞₂₃ + 5.36e-09 𝐞₁₂₃,)"
      ]
     },
     "execution_count": 12,
     "metadata": {},
     "output_type": "execute_result"
    }
   ],
   "source": [
    "#1.15\n",
    "(\n",
    "    sum(o1(lambda x: sum((a^b|(r1^r))* o(F) for r, o in derivative_gen(x, alg, Ix=Ix))) for r1, o1 in derivative_gen(x, alg, Ix=Ix, h=1e-3)),\n",
    ")"
   ]
  },
  {
   "cell_type": "code",
   "execution_count": 13,
   "metadata": {},
   "outputs": [
    {
     "data": {
      "text/plain": [
       "(-0.625 + 1.23 𝐞₁ + 1.84 𝐞₂ + -1.89 𝐞₃ + 1.75 𝐞₁₂ + -0.619 𝐞₁₃ + 0.969 𝐞₂₃ + 0.772 𝐞₁₂₃,\n",
       " -1.45 + 0.431 𝐞₁ + 0.945 𝐞₂ + -2.28 𝐞₃ + 0.736 𝐞₁₂ + -0.912 𝐞₁₃ + 0.41 𝐞₂₃ + 0.0895 𝐞₁₂₃,\n",
       " -1.18 + 2.39 𝐞₁ + 2.72 𝐞₂ + -0.491 𝐞₃ + 2.42 𝐞₁₂ + 1.48 𝐞₁₃ + 3.03 𝐞₂₃ + 0.936 𝐞₁₂₃,\n",
       " -1.18 + 2.39 𝐞₁ + 2.72 𝐞₂ + -0.491 𝐞₃ + 2.42 𝐞₁₂ + 1.48 𝐞₁₃ + 3.03 𝐞₂₃ + 0.936 𝐞₁₂₃,\n",
       " -1.18 + 2.39 𝐞₁ + 2.72 𝐞₂ + -0.491 𝐞₃ + 2.42 𝐞₁₂ + 1.48 𝐞₁₃ + 3.03 𝐞₂₃ + 0.936 𝐞₁₂₃)"
      ]
     },
     "execution_count": 13,
     "metadata": {},
     "output_type": "execute_result"
    }
   ],
   "source": [
    "#1.17 d = P(d), F is not linear, but the derivative behaves like\n",
    "(\n",
    "    F(a), differential(F, x, a),\n",
    "    derivative(F, x, alg, frame=frame, r_frame=r_frame), \n",
    "    derivative(lambda a: differential(F, x, a), 0, alg, frame=frame, r_frame=r_frame),\n",
    "    derivative(lambda a: differential(F, x, P(a, I)), 0, alg, grade=1),\n",
    "    )"
   ]
  },
  {
   "cell_type": "code",
   "execution_count": 14,
   "metadata": {},
   "outputs": [
    {
     "data": {
      "text/plain": [
       "(-4.47 + 2.16 𝐞₁ + -4.52 𝐞₂ + -2.42 𝐞₃ + 1.2 𝐞₁₂ + 1.66 𝐞₁₃ + -2.56 𝐞₂₃ + 0.123 𝐞₁₂₃,\n",
       " -4.47 + 2.16 𝐞₁ + -4.52 𝐞₂ + -2.42 𝐞₃ + 1.2 𝐞₁₂ + 1.66 𝐞₁₃ + -2.56 𝐞₂₃ + 0.123 𝐞₁₂₃,\n",
       " -4.36 + 2.11 𝐞₁ + -4.53 𝐞₂ + -2.34 𝐞₃ + 1.23 𝐞₁₂ + 1.67 𝐞₁₃ + -2.54 𝐞₂₃ + 0.125 𝐞₁₂₃)"
      ]
     },
     "execution_count": 14,
     "metadata": {},
     "output_type": "execute_result"
    }
   ],
   "source": [
    "#1.18 I think the text book made a mistake here: \n",
    "# dy does not depend on x, because the dependence of x shifts to P,\n",
    "# so PdF != PdF_\n",
    "\n",
    "def dF(x):\n",
    "    frame = blade_split(Ix(x), alg)\n",
    "    r_frame = reciprocal(frame)\n",
    "    return derivative(F, x, alg, frame=frame, r_frame=r_frame)\n",
    "\n",
    "pb_frame = [differential(lambda x: P(v, Ix(x)), x, b) for v in alg.frame]\n",
    "pb_frame2 = [differential(lambda x: P(v, Ix(x)), x, b) for v in frame]\n",
    "p_frame = [P(v, Ix(x)) for v in alg.frame]\n",
    "Fab = lambda a: differential(lambda x: differential(F, x, a), x, b, h=1e-2)\n",
    "PdF = derivative(F, x, alg, frame=pb_frame, r_frame=reciprocal(alg.frame))\n",
    "dFab = derivative(Fab, x, alg, frame=p_frame, r_frame=reciprocal(alg.frame), h=1e-2)\n",
    "PdF_ = derivative(F, x, alg, frame=pb_frame2, r_frame=r_frame)\n",
    "dFab_ = derivative(Fab, x, alg, frame=frame, r_frame=r_frame, h=1e-2)\n",
    "(\n",
    "    differential(dF, x, b, h=1e-2),\n",
    "    PdF + dFab, \n",
    "    PdF_ + dFab_,\n",
    "    )"
   ]
  },
  {
   "cell_type": "code",
   "execution_count": 15,
   "metadata": {},
   "outputs": [
    {
     "data": {
      "text/plain": [
       "(0.0202 + 0.0814 𝐞₁ + 0.139 𝐞₂ + -0.0134 𝐞₃ + -0.0457 𝐞₁₂ + 0.0113 𝐞₁₃ + 0.0359 𝐞₂₃ + 0.0307 𝐞₁₂₃,\n",
       " 0.135 + 0.0307 𝐞₁ + 0.134 𝐞₂ + 0.0667 𝐞₃ + -0.02 𝐞₁₂ + 0.0201 𝐞₁₃ + 0.047 𝐞₂₃ + 0.0332 𝐞₁₂₃,\n",
       " -4.49 + 2.08 𝐞₁ + -4.66 𝐞₂ + -2.41 𝐞₃ + 1.25 𝐞₁₂ + 1.65 𝐞₁₃ + -2.59 𝐞₂₃ + 0.0921 𝐞₁₂₃,\n",
       " -4.49 + 2.08 𝐞₁ + -4.66 𝐞₂ + -2.41 𝐞₃ + 1.25 𝐞₁₂ + 1.65 𝐞₁₃ + -2.59 𝐞₂₃ + 0.0921 𝐞₁₂₃)"
      ]
     },
     "execution_count": 15,
     "metadata": {},
     "output_type": "execute_result"
    }
   ],
   "source": [
    "PdF, PdF_, dFab, dFab_"
   ]
  },
  {
   "cell_type": "code",
   "execution_count": 16,
   "metadata": {},
   "outputs": [
    {
     "data": {
      "text/plain": [
       "(1.08 + -0.161 𝐞₁ + 0.332 𝐞₂ + 1.55 𝐞₃ + 0.603 𝐞₁₂ + 0.724 𝐞₁₃ + 0.408 𝐞₂₃ + 0.803 𝐞₁₂₃,\n",
       " 1.28 + -0.00703 𝐞₁ + 0.48 𝐞₂ + 1.63 𝐞₃ + 0.693 𝐞₁₂ + 0.747 𝐞₁₃ + 0.524 𝐞₂₃ + 0.823 𝐞₁₂₃)"
      ]
     },
     "execution_count": 16,
     "metadata": {},
     "output_type": "execute_result"
    }
   ],
   "source": [
    "# The assumption F_y = F_P(y) not hold here, because F extends to the embedding space\n",
    "# F_y = F_P(y) only under the differential within I(x), and if so, contradicts the independence of x\n",
    "differential(F, x, c), differential(F, x, P(c, I))"
   ]
  },
  {
   "cell_type": "code",
   "execution_count": null,
   "metadata": {},
   "outputs": [
    {
     "data": {
      "text/plain": [
       "3.76 + 4.7 𝐞₁ + -2.89 𝐞₂ + 4.33 𝐞₃ + -5.08 𝐞₁₂ + 6.5 𝐞₁₃ + -2.56 𝐞₂₃ + -3.73 𝐞₁₂₃"
      ]
     },
     "execution_count": 17,
     "metadata": {},
     "output_type": "execute_result"
    }
   ],
   "source": [
    "#1.19a T could be more than an extensor, \n",
    "# just make sure that Q is an extensor.\n",
    "T = lambda x, B, A: C * A * x *B * D + C * A * x + B * D\n",
    "def Q(x, A):\n",
    "    vec_frame = blade_split(Ix(x), alg)\n",
    "    frame = multi_frame(vec_frame)\n",
    "    r_frame = reci_frame(vec_frame)\n",
    "    return derivative(lambda B: T(x, B, A) , B, alg, frame=frame, r_frame=r_frame)   \n",
    "\n",
    "Q(x, A)"
   ]
  },
  {
   "cell_type": "code",
   "execution_count": 18,
   "metadata": {},
   "outputs": [
    {
     "data": {
      "text/plain": [
       "(-3.06 + -1.12 𝐞₁ + -9.72 𝐞₂ + -4.54 𝐞₃ + -7.94 𝐞₁₂ + -0.709 𝐞₁₃ + -7.24 𝐞₂₃ + -6.57 𝐞₁₂₃,\n",
       " 2.13e-10 + -5.83e-11 𝐞₁ + 7.21e-11 𝐞₂ + 2.09e-10 𝐞₃ + -2.8e-10 𝐞₁₂ + -1.11e-11 𝐞₁₃ + 8.52e-11 𝐞₂₃ + -2.13e-10 𝐞₁₂₃,\n",
       " -3.06 + -1.12 𝐞₁ + -9.72 𝐞₂ + -4.54 𝐞₃ + -7.94 𝐞₁₂ + -0.709 𝐞₁₃ + -7.24 𝐞₂₃ + -6.57 𝐞₁₂₃)"
      ]
     },
     "execution_count": 18,
     "metadata": {},
     "output_type": "execute_result"
    }
   ],
   "source": [
    "#1.19b Why is PdT zero?\n",
    "frame = multi_frame(alg.frame)\n",
    "r_frame = reci_frame(alg.frame)\n",
    "pb_frame = [differential(lambda x: P(v, Ix(x)), x, b) for v in frame]\n",
    "p_frame = [P(v, Ix(x)) for v in frame]\n",
    "Tb = lambda B: differential(lambda x: T(x, B, A), x, b, h=1e-3)\n",
    "PdT = derivative(lambda B: T(x, B, A), B, alg, r_frame=pb_frame, frame=r_frame)\n",
    "dBTb = derivative(Tb, B, alg, frame=p_frame, r_frame=r_frame, h=1e-3)\n",
    "\n",
    "differential(lambda x: Q(x, A), x, b), PdT, dBTb, "
   ]
  },
  {
   "cell_type": "code",
   "execution_count": 19,
   "metadata": {},
   "outputs": [
    {
     "data": {
      "text/plain": [
       "1.46e-10 + 4e-10 𝐞₁ + -7.37e-13 𝐞₂ + 1.98e-10 𝐞₃ + 7.87e-10 𝐞₁₂ + 2.67e-11 𝐞₁₃ + -1.3e-10 𝐞₂₃ + 6.01e-10 𝐞₁₂₃"
      ]
     },
     "execution_count": 19,
     "metadata": {},
     "output_type": "execute_result"
    }
   ],
   "source": [
    "# The Pb-derivative in my example of 1.19b is a zero operator\n",
    "derivative(F, B, alg, r_frame=pb_frame, frame=r_frame)"
   ]
  },
  {
   "cell_type": "code",
   "execution_count": 20,
   "metadata": {},
   "outputs": [
    {
     "data": {
      "text/plain": [
       "(0.7 + 0.949 𝐞₁ + 0.407 𝐞₂ + 0.856 𝐞₃ + 0.91 𝐞₁₂ + 1.22 𝐞₁₃ + -0.729 𝐞₂₃ + 0.11 𝐞₁₂₃,\n",
       " 0.7 + 0.949 𝐞₁ + 0.407 𝐞₂ + 0.856 𝐞₃ + 0.91 𝐞₁₂ + 1.22 𝐞₁₃ + -0.729 𝐞₂₃ + 0.11 𝐞₁₂₃)"
      ]
     },
     "execution_count": 20,
     "metadata": {},
     "output_type": "execute_result"
    }
   ],
   "source": [
    "#1.20\n",
    "T = lambda x, A: x ** 2 * A * C + B*A*x\n",
    "frame = blade_split(Ix(x), alg)\n",
    "r_frame = reciprocal(frame)\n",
    "(\n",
    "    sum(differential(lambda x: T(x, alg.ip(B,r)), x, v) for v, r in zip(frame, r_frame)), \n",
    "    sum(differential(lambda x: T(x, alg.ip(B,r)), x, v) for v, r in zip(r_frame, frame))\n",
    "    )"
   ]
  },
  {
   "cell_type": "code",
   "execution_count": 21,
   "metadata": {},
   "outputs": [
    {
     "data": {
      "text/plain": [
       "(-3.49 + 7.19 𝐞₁ + 1.54 𝐞₂ + -3.32 𝐞₃ + -3.47 𝐞₁₂ + 8.59 𝐞₁₃ + 5.51 𝐞₂₃ + -7.2 𝐞₁₂₃,\n",
       " -3.49 + 7.19 𝐞₁ + 1.54 𝐞₂ + -3.32 𝐞₃ + -3.47 𝐞₁₂ + 8.59 𝐞₁₃ + 5.51 𝐞₂₃ + -7.2 𝐞₁₂₃)"
      ]
     },
     "execution_count": 21,
     "metadata": {},
     "output_type": "execute_result"
    }
   ],
   "source": [
    "#1.20 It's a new differential, so let's check! \n",
    "# Run several times to see frame independence\n",
    "vecs = random_r_vectors(3, alg)\n",
    "frame = multi_frame(vecs)\n",
    "r_frame = reci_frame(vecs)\n",
    "(\n",
    "    sum(differential(lambda x: T(x, alg.ip(B,r)), x, v) for v, r in zip(frame, r_frame)), \n",
    "    sum(differential(lambda x: T(x, alg.ip(B,r)), x, v) for v, r in zip(r_frame, frame))\n",
    "    )"
   ]
  },
  {
   "cell_type": "code",
   "execution_count": 22,
   "metadata": {},
   "outputs": [
    {
     "data": {
      "text/plain": [
       "(0.12 + 0.0448 𝐞₁ + -0.139 𝐞₂ + 1.22 𝐞₃ + 0.774 𝐞₁₂ + 0.99 𝐞₁₃ + 0.98 𝐞₂₃ + 1.16 𝐞₁₂₃,\n",
       " 0.12 + 0.0448 𝐞₁ + -0.139 𝐞₂ + 1.22 𝐞₃ + 0.774 𝐞₁₂ + 0.99 𝐞₁₃ + 0.98 𝐞₂₃ + 1.16 𝐞₁₂₃,\n",
       " 0.118 + 0.158 𝐞₁ + 0.0716 𝐞₂ + 0.0628 𝐞₃ + -0.103 𝐞₁₂ + 0.067 𝐞₁₃ + 0.105 𝐞₂₃ + -0.154 𝐞₁₂₃,\n",
       " 0.118 + 0.158 𝐞₁ + 0.0716 𝐞₂ + 0.0628 𝐞₃ + -0.103 𝐞₁₂ + 0.067 𝐞₁₃ + 0.105 𝐞₂₃ + -0.154 𝐞₁₂₃)"
      ]
     },
     "execution_count": 22,
     "metadata": {},
     "output_type": "execute_result"
    }
   ],
   "source": [
    "#1.23\n",
    "def d(T, x, B, alg, Ix, h=1e-6):\n",
    "    return sum(o(lambda x: T(x, inner(B,r))) for r, o in derivative_gen(x, alg, Ix=Ix, h=h))\n",
    "\n",
    "(\n",
    "    d(T, x, a, alg, Ix), \n",
    "    differential(lambda x: T(x, 1), x, a),\n",
    "    d(T, x, a^b, alg, Ix), \n",
    "    differential(lambda x: T(x, a), x, b) - differential(lambda x: T(x, b), x, a)\n",
    "    )"
   ]
  },
  {
   "cell_type": "code",
   "execution_count": 23,
   "metadata": {},
   "outputs": [
    {
     "data": {
      "text/plain": [
       "(0.777 + 0.189 𝐞₁ + 0.871 𝐞₂ + 0.199 𝐞₃ + 1.1 𝐞₁₂ + -1.03 𝐞₁₃ + 0.234 𝐞₂₃ + 1.34 𝐞₁₂₃,\n",
       " -0.0054 + -0.0103 𝐞₁ + -0.00313 𝐞₂ + 0.000903 𝐞₃ + 0.00291 𝐞₁₂ + 0.00806 𝐞₁₃ + 0.00348 𝐞₂₃ + -0.00485 𝐞₁₂₃,\n",
       " -0.0054 + -0.0103 𝐞₁ + -0.00313 𝐞₂ + 0.000903 𝐞₃ + 0.00291 𝐞₁₂ + 0.00806 𝐞₁₃ + 0.00348 𝐞₂₃ + -0.00485 𝐞₁₂₃,\n",
       " -0.0054 + -0.0103 𝐞₁ + -0.00313 𝐞₂ + 0.000903 𝐞₃ + 0.00291 𝐞₁₂ + 0.00806 𝐞₁₃ + 0.00348 𝐞₂₃ + -0.00485 𝐞₁₂₃,\n",
       " -0.0711 + -0.049 𝐞₁ + -0.0178 𝐞₂ + -0.0977 𝐞₃ + -0.0591 𝐞₁₂ + -0.0613 𝐞₁₃ + 0.000391 𝐞₂₃ + -0.0348 𝐞₁₂₃)"
      ]
     },
     "execution_count": 23,
     "metadata": {},
     "output_type": "execute_result"
    }
   ],
   "source": [
    "#1.24\n",
    "# The last equality doesn't hold for random multivector\n",
    "d_ = lambda T: lambda x, B: d(T, x, B, alg, Ix, h=1e-3)\n",
    "(\n",
    "    T(x, B),\n",
    "    d(lambda x, B: d(T, x, B, alg, Ix, h=1e-3), x, B, alg, Ix, h=1e-3),\n",
    "    d_(d_(T))(x, B),\n",
    "    sum(o1(lambda b: sum(o(lambda a: T(a, inner(inner(B,r1),r))) for r, o in derivative_gen(b, alg, Ix))) for r1, o1 in derivative_gen(x, alg, Ix=Ix, h=1e-3)),\n",
    "    sum(o1(lambda b: sum(o(lambda a: T(a, inner(B,r1^r))) for r, o in derivative_gen(b, alg, Ix))) for r1, o1 in derivative_gen(x, alg, Ix=Ix, h=1e-3)),\n",
    ")"
   ]
  },
  {
   "cell_type": "code",
   "execution_count": 24,
   "metadata": {},
   "outputs": [
    {
     "data": {
      "text/plain": [
       "(-0.856 + 0.0085 𝐞₁ + 0.304 𝐞₂ + -0.57 𝐞₃ + 0.501 𝐞₁₂ + 0.127 𝐞₁₃ + 0.646 𝐞₂₃ + 0.14 𝐞₁₂₃,\n",
       " 0.0178 + 0.0166 𝐞₁ + 0.0106 𝐞₂ + 0.0123 𝐞₃ + -0.0221 𝐞₁₂ + 0.016 𝐞₁₃ + 0.0235 𝐞₂₃ + -0.0361 𝐞₁₂₃,\n",
       " 0.0178 + 0.0166 𝐞₁ + 0.0106 𝐞₂ + 0.0123 𝐞₃ + -0.0221 𝐞₁₂ + 0.016 𝐞₁₃ + 0.0235 𝐞₂₃ + -0.0361 𝐞₁₂₃,\n",
       " 0.0178 + 0.0166 𝐞₁ + 0.0106 𝐞₂ + 0.0123 𝐞₃ + -0.0221 𝐞₁₂ + 0.016 𝐞₁₃ + 0.0235 𝐞₂₃ + -0.0361 𝐞₁₂₃)"
      ]
     },
     "execution_count": 24,
     "metadata": {},
     "output_type": "execute_result"
    }
   ],
   "source": [
    "#1.24 But for grades >= 2\n",
    "d_ = lambda T: lambda x, B: d(T, x, B, alg, Ix, h=1e-3)\n",
    "blade = random_r_blade(2, alg) + random_r_blade(3, alg)\n",
    "(\n",
    "    T(x, blade),\n",
    "    d_(d_(T))(x, blade),\n",
    "    sum(o1(lambda b: sum(o(lambda a: T(a, inner(inner(blade,r1),r))) for r, o in derivative_gen(b, alg, Ix))) for r1, o1 in derivative_gen(x, alg, Ix=Ix, h=1e-3)),\n",
    "    sum(o1(lambda b: sum(o(lambda a: T(a, inner(blade,r1^r))) for r, o in derivative_gen(b, alg, Ix))) for r1, o1 in derivative_gen(x, alg, Ix=Ix, h=1e-3)),\n",
    ")"
   ]
  },
  {
   "cell_type": "code",
   "execution_count": 25,
   "metadata": {},
   "outputs": [
    {
     "data": {
      "text/plain": [
       "(0.05 + 0.0578 𝐞₁ + 0.0298 𝐞₂ + 0.0228 𝐞₃ + -0.0558 𝐞₁₂ + 0.0163 𝐞₁₃ + 0.0424 𝐞₂₃ + -0.071 𝐞₁₂₃,\n",
       " 0.05 + 0.0578 𝐞₁ + 0.0298 𝐞₂ + 0.0228 𝐞₃ + -0.0558 𝐞₁₂ + 0.0163 𝐞₁₃ + 0.0424 𝐞₂₃ + -0.071 𝐞₁₂₃,\n",
       " 0.05 + 0.0578 𝐞₁ + 0.0298 𝐞₂ + 0.0228 𝐞₃ + -0.0558 𝐞₁₂ + 0.0163 𝐞₁₃ + 0.0424 𝐞₂₃ + -0.071 𝐞₁₂₃)"
      ]
     },
     "execution_count": 25,
     "metadata": {},
     "output_type": "execute_result"
    }
   ],
   "source": [
    "#1.24\n",
    "d_ = lambda T: lambda x, B: d(T, x, B, alg, Ix, h=1e-3)\n",
    "blade = random_r_blade(3, alg)\n",
    "(\n",
    "    d_(d_(T))(x, blade),\n",
    "    sum(o1(lambda b: sum(o(lambda a: T(a, alg.ip(alg.ip(blade,r1),r))) for r, o in derivative_gen(b, alg, Ix))) for r1, o1 in derivative_gen(x, alg, Ix=Ix, h=1e-3)),\n",
    "    sum(o1(lambda b: sum(o(lambda a: T(a, alg.ip(blade,r1^r))) for r, o in derivative_gen(b, alg, Ix))) for r1, o1 in derivative_gen(x, alg, Ix=Ix, h=1e-3)),\n",
    ")"
   ]
  },
  {
   "cell_type": "code",
   "execution_count": 26,
   "metadata": {},
   "outputs": [
    {
     "data": {
      "text/plain": [
       "(0.0212 + 0.0385 𝐞₁ + 0.0141 𝐞₂ + -0.0108 𝐞₃ + -0.0211 𝐞₁₂ + -0.0326 𝐞₁₃ + -0.0152 𝐞₂₃ + -0.00078 𝐞₁₂₃,\n",
       " 1.12e-07 + 1.13e-07 𝐞₁ + 1.67e-07 𝐞₂ + 1.06e-07 𝐞₃ + 1.4e-07 𝐞₁₂ + 8.88e-08 𝐞₁₃ + -5.14e-08 𝐞₂₃ + 1.91e-07 𝐞₁₂₃,\n",
       " 3.47e-18 + -1.93e-18 𝐞₁ + -8.41e-19 𝐞₂ + 3.66e-18 𝐞₃ + 3.91e-18 𝐞₁₂ + -2.26e-18 𝐞₁₃ + -4.09e-18 𝐞₂₃ + 2.9e-18 𝐞₁₂₃,\n",
       " 4.01e-18 + -2.37e-18 𝐞₁ + -2.49e-19 𝐞₂ + 3.71e-18 𝐞₃ + 3.48e-18 𝐞₁₂ + -2.88e-18 𝐞₁₃ + -3.43e-18 𝐞₂₃ + 2.54e-18 𝐞₁₂₃,\n",
       " 0.0352 + 0.0293 𝐞₁ + 0.0227 𝐞₂ + 0.0183 𝐞₃ + -0.0545 𝐞₁₂ + 0.0342 𝐞₁₃ + 0.0478 𝐞₂₃ + -0.0956 𝐞₁₂₃,\n",
       " 1.72e-07 + 1.73e-07 𝐞₁ + 2.55e-07 𝐞₂ + 1.63e-07 𝐞₃ + 2.15e-07 𝐞₁₂ + 1.36e-07 𝐞₁₃ + -7.89e-08 𝐞₂₃ + 2.93e-07 𝐞₁₂₃)"
      ]
     },
     "execution_count": 26,
     "metadata": {},
     "output_type": "execute_result"
    }
   ],
   "source": [
    "#1.25\n",
    "blade = random_r_blade(2, alg)\n",
    "(\n",
    "    d_(d_(T))(x, blade),\n",
    "    d_(d_(T))(x, P(blade, I)),\n",
    "    d_(d_(T))(x, c), # (c | d) | d is zero\n",
    "    d_(d_(T))(x, P(c, I)),\n",
    "    d_(d_(T))(x, C),\n",
    "    d_(d_(T))(x, P(C, I)),\n",
    ")\n"
   ]
  },
  {
   "cell_type": "code",
   "execution_count": 29,
   "metadata": {},
   "outputs": [
    {
     "data": {
      "text/plain": [
       "(-10.9, -10.9)"
      ]
     },
     "execution_count": 29,
     "metadata": {},
     "output_type": "execute_result"
    }
   ],
   "source": [
    "#1.26a\n",
    "T = lambda x, A: (x ** 2 * A * C + B*A*x).grade(0)\n",
    "K = lambda x: simplicial_derivative(lambda vectors: T(x, wedge(vectors)), [b, c], alg, h=1e-2)\n",
    "T(x, b^c), b^c | K(x)"
   ]
  },
  {
   "cell_type": "code",
   "execution_count": 28,
   "metadata": {},
   "outputs": [
    {
     "data": {
      "text/plain": [
       "(-2.39, -2.39)"
      ]
     },
     "execution_count": 28,
     "metadata": {},
     "output_type": "execute_result"
    }
   ],
   "source": [
    "#1.26b\n",
    "K1 = lambda x: simplicial_derivative(lambda vectors: T(x, wedge(vectors)), [b], alg, h=1e-2)\n",
    "T(x, b), b | K1(x)"
   ]
  },
  {
   "cell_type": "code",
   "execution_count": 29,
   "metadata": {},
   "outputs": [
    {
     "data": {
      "text/plain": [
       "(-0.081, -0.081, -0.081)"
      ]
     },
     "execution_count": 29,
     "metadata": {},
     "output_type": "execute_result"
    }
   ],
   "source": [
    "#1.27a I think B must be a blade\n",
    "frame = blade_split(Ix(x), alg)\n",
    "r_frame = reciprocal(frame)\n",
    "blade = a^b^c\n",
    "(\n",
    "    d(T, x, blade, alg, Ix), \n",
    "    derivative(K, x, alg, frame=frame, r_frame=r_frame, operator=lambda a, b: (blade|a)*b).grade(0),\n",
    "    blade | curl(K, x, alg, frame=frame, r_frame=r_frame)\n",
    ")    "
   ]
  },
  {
   "cell_type": "code",
   "execution_count": 30,
   "metadata": {},
   "outputs": [
    {
     "data": {
      "text/plain": [
       "(0.382, 0.382, 0.382)"
      ]
     },
     "execution_count": 30,
     "metadata": {},
     "output_type": "execute_result"
    }
   ],
   "source": [
    "#1.27b\n",
    "blade = b^c\n",
    "(\n",
    "    d(T, x, blade, alg, Ix), \n",
    "    derivative(K1, x, alg, frame=frame, r_frame=r_frame, operator=lambda a, b: (blade|a)*b).grade(0),\n",
    "    blade | curl(K1, x, alg, frame=frame, r_frame=r_frame)\n",
    ")    "
   ]
  },
  {
   "cell_type": "code",
   "execution_count": 31,
   "metadata": {},
   "outputs": [
    {
     "data": {
      "text/plain": [
       "(-2.13, -2.13, -2.13)"
      ]
     },
     "execution_count": 31,
     "metadata": {},
     "output_type": "execute_result"
    }
   ],
   "source": [
    "#1.28\n",
    "def tensor_div(T, x, B, Ix, h=1e-6):\n",
    "    frame = blade_split(Ix(x), alg)\n",
    "    r_frame = reciprocal(frame)\n",
    "    return sum(differential(lambda x: T(x, alg.op(B,r)), x, v, h=h) for v, r in zip(frame, r_frame))\n",
    "\n",
    "blade = b\n",
    "(\n",
    "    tensor_div(T, x, blade, Ix), \n",
    "    derivative(K, x, alg, frame=frame, r_frame=r_frame, operator=lambda a, b: (blade^a)*b).grade(0),\n",
    "    blade | div(K, x, alg, frame=frame, r_frame=r_frame)\n",
    ")  "
   ]
  },
  {
   "cell_type": "code",
   "execution_count": 32,
   "metadata": {},
   "outputs": [
    {
     "data": {
      "text/plain": [
       "(1.5, 1.5, 1.5 + -2.9e-18 𝐞₁₂ + 1.92e-18 𝐞₁₃ + 3.42e-18 𝐞₂₃)"
      ]
     },
     "execution_count": 32,
     "metadata": {},
     "output_type": "execute_result"
    }
   ],
   "source": [
    "#1.28b\n",
    "K3 = lambda x: simplicial_derivative(lambda vectors: T(x, wedge(vectors)), [a,b,c], alg, h=1e-2)\n",
    "blade = b^c\n",
    "(\n",
    "    tensor_div(T, x, blade, Ix), \n",
    "    derivative(K3, x, alg, frame=frame, r_frame=r_frame, operator=lambda a, b: (blade^a)*b).grade(0),\n",
    "    blade | div(K3, x, alg, frame=frame, r_frame=r_frame)\n",
    ")  "
   ]
  },
  {
   "cell_type": "code",
   "execution_count": 33,
   "metadata": {},
   "outputs": [],
   "source": [
    "def derivative(F, X, alg: Algebra, h=1e-6, grade=None, frame=None, r_frame=None, Ix=None, operator=None):\n",
    "    if not operator:\n",
    "        operator = alg.gp\n",
    "    if not frame:\n",
    "        if grade or (grade == 0):\n",
    "            frame = r_vector_frame(alg.frame, grade)\n",
    "            r_frame = r_vector_frame(reciprocal(alg.frame), grade, reverse=True)\n",
    "        elif Ix:\n",
    "            frame = blade_split(Ix(X), alg)\n",
    "            r_frame = reciprocal(frame)\n",
    "        else:\n",
    "            frame = multi_frame(alg.frame)\n",
    "            r_frame = reci_frame(alg.frame)\n",
    "    return sum(operator(r, differential(F, X, v, h)) for v, r in zip(frame, r_frame))"
   ]
  },
  {
   "cell_type": "code",
   "execution_count": 34,
   "metadata": {},
   "outputs": [
    {
     "data": {
      "text/plain": [
       "(0.787 𝐞₁ + 0.00941 𝐞₂ + 0.0149 𝐞₃ + 2.73e-18 𝐞₁₂₃,\n",
       " 0.787 𝐞₁ + 0.00941 𝐞₂ + 0.0149 𝐞₃)"
      ]
     },
     "execution_count": 34,
     "metadata": {},
     "output_type": "execute_result"
    }
   ],
   "source": [
    "#2.1 Should we define a differential in this way?\n",
    "# No, to extend the differential to the embedding space, \n",
    "# just do the projection first!\n",
    "(\n",
    "    derivative(lambda x: x, x, alg, operator=lambda a, b: (c|a)*b, Ix=Ix),\n",
    "    P(c, I)\n",
    "    )"
   ]
  },
  {
   "cell_type": "code",
   "execution_count": 35,
   "metadata": {},
   "outputs": [
    {
     "data": {
      "text/plain": [
       "(-0.638 + -0.624 𝐞₁ + -0.39 𝐞₂ + -0.0795 𝐞₃ + -1.22 𝐞₁₂ + 0.04 𝐞₁₃ + 0.0144 𝐞₂₃,\n",
       " -0.638 + -0.624 𝐞₁ + -0.39 𝐞₂ + -0.0795 𝐞₃ + -1.22 𝐞₁₂ + 0.04 𝐞₁₃ + 0.0144 𝐞₂₃)"
      ]
     },
     "execution_count": 35,
     "metadata": {},
     "output_type": "execute_result"
    }
   ],
   "source": [
    "#2.2 Not just the chain rule! see (1.9 extensor)\n",
    "# P and Ax are both dependent of x,\n",
    "# P is linear of Ax, so the product rule applies.\n",
    "\n",
    "Ax = lambda x: B*x**2 + C*x*D\n",
    "(\n",
    "    differential(lambda x: P(Ax(x), Ix(x)), x, b),\n",
    "    differential(lambda a: P(Ax(x), Ix(a)), x, b) + \n",
    "    differential(lambda a: P(Ax(a), Ix(x)), x, b)\n",
    "    )"
   ]
  },
  {
   "cell_type": "code",
   "execution_count": 36,
   "metadata": {},
   "outputs": [
    {
     "data": {
      "text/plain": [
       "(1.62 𝐞₁ + -1.4 𝐞₂ + 0.0648 𝐞₃, 1.62 𝐞₁ + -1.4 𝐞₂ + 0.0648 𝐞₃ + 8.67e-19 𝐞₁₂₃)"
      ]
     },
     "execution_count": 36,
     "metadata": {},
     "output_type": "execute_result"
    }
   ],
   "source": [
    "nI = normalize(I)\n",
    "a|I, (a*I - I*a)/2"
   ]
  },
  {
   "cell_type": "code",
   "execution_count": 37,
   "metadata": {},
   "outputs": [
    {
     "data": {
      "text/plain": [
       "(-0.502 𝐞₁ + -0.579 𝐞₂ + 0.00423 𝐞₃,\n",
       " -0.502 𝐞₁ + -0.579 𝐞₂ + 0.00423 𝐞₃ + -1.73e-18 𝐞₁₂₃)"
      ]
     },
     "execution_count": 37,
     "metadata": {},
     "output_type": "execute_result"
    }
   ],
   "source": [
    "P(a, I), (a - I*a*inv(I))/2"
   ]
  },
  {
   "cell_type": "code",
   "execution_count": 38,
   "metadata": {},
   "outputs": [
    {
     "data": {
      "text/plain": [
       "(-0.0628 𝐞₁ + -0.0814 𝐞₂ + -0.156 𝐞₃ + 0.00656 𝐞₁₂ + -0.00775 𝐞₁₃ + 0.00631 𝐞₂₃,\n",
       " -7.63e-12 + -0.0628 𝐞₁ + -0.0814 𝐞₂ + -0.156 𝐞₃ + 0.00656 𝐞₁₂ + -0.00775 𝐞₁₃ + 0.00631 𝐞₂₃)"
      ]
     },
     "execution_count": 38,
     "metadata": {},
     "output_type": "execute_result"
    }
   ],
   "source": [
    "#2.3 projection differential\n",
    "Pb = lambda A: differential(lambda x: P(A, Ix(x)), x, b)\n",
    "Pb(1.1*A + 2.2*B), 1.1*Pb(A) + 2.2*Pb(B)"
   ]
  },
  {
   "cell_type": "code",
   "execution_count": 39,
   "metadata": {},
   "outputs": [
    {
     "data": {
      "text/plain": [
       "(,\n",
       " 0.00387 𝐞₁₂ + -0.00453 𝐞₁₃ + 0.00369 𝐞₂₃,\n",
       " 0.00387 𝐞₁₂ + -0.00453 𝐞₁₃ + 0.00369 𝐞₂₃)"
      ]
     },
     "execution_count": 39,
     "metadata": {},
     "output_type": "execute_result"
    }
   ],
   "source": [
    "#2.4\n",
    "Pb(A.grade(0)), Pb(A.grade(2)), Pb(A).grade(2)"
   ]
  },
  {
   "cell_type": "code",
   "execution_count": 40,
   "metadata": {},
   "outputs": [
    {
     "data": {
      "text/plain": [
       "(-0.0425, -0.0425)"
      ]
     },
     "execution_count": 40,
     "metadata": {},
     "output_type": "execute_result"
    }
   ],
   "source": [
    "#2.5\n",
    "B.sp(Pb(A)), A.sp(Pb(B))"
   ]
  },
  {
   "cell_type": "code",
   "execution_count": 41,
   "metadata": {},
   "outputs": [
    {
     "data": {
      "text/plain": [
       "(-5.2e-12 + -0.0114 𝐞₁ + -0.0149 𝐞₂ + -0.031 𝐞₃ + -0.0259 𝐞₁₂ + -0.0306 𝐞₁₃ + 0.0269 𝐞₂₃,\n",
       " -1.84e-12 + -0.0114 𝐞₁ + -0.0149 𝐞₂ + -0.031 𝐞₃ + -0.0259 𝐞₁₂ + -0.0306 𝐞₁₃ + 0.0269 𝐞₂₃ + -1.28e-14 𝐞₁₂₃)"
      ]
     },
     "execution_count": 41,
     "metadata": {},
     "output_type": "execute_result"
    }
   ],
   "source": [
    "#2.6\n",
    "Pb(A^B), (Pb(A) ^ P(B, I)) + (P(A, I) ^ Pb(B))"
   ]
  },
  {
   "cell_type": "code",
   "execution_count": 42,
   "metadata": {},
   "outputs": [
    {
     "data": {
      "text/plain": [
       "(-0.0175 𝐞₁ + -0.0221 𝐞₂ + -0.0309 𝐞₃ + 0.00387 𝐞₁₂ + -0.00453 𝐞₁₃ + 0.00369 𝐞₂₃,\n",
       " -0.0175 𝐞₁ + -0.0221 𝐞₂ + -0.0309 𝐞₃ + 0.00387 𝐞₁₂ + -0.00453 𝐞₁₃ + 0.00369 𝐞₂₃)"
      ]
     },
     "execution_count": 42,
     "metadata": {},
     "output_type": "execute_result"
    }
   ],
   "source": [
    "#2.7\n",
    "(\n",
    "    Pb(A),\n",
    "    Pb(P(A, I)) + P(Pb(A), I)\n",
    ")"
   ]
  },
  {
   "cell_type": "code",
   "execution_count": 43,
   "metadata": {},
   "outputs": [
    {
     "data": {
      "text/plain": [
       "(0.405 𝐞₁ + -0.476 𝐞₂ + 0.624 𝐞₃ + -0.659 𝐞₁₂ + -0.0863 𝐞₁₃ + -0.074 𝐞₂₃,\n",
       " 5.55e-11 + 0.0224 𝐞₁ + 0.000896 𝐞₂ + 0.037 𝐞₃ + -0.0208 𝐞₁₂ + 0.0005 𝐞₁₃ + -0.00441 𝐞₂₃)"
      ]
     },
     "execution_count": 43,
     "metadata": {},
     "output_type": "execute_result"
    }
   ],
   "source": [
    "#2.8 These are different as the differential operator is defined in the embedding space\n",
    "# Recall the comment of 2.1\n",
    "(\n",
    "    differential(lambda x: P(A, Ix(x)), x, c),\n",
    "    differential(lambda x: P(A, Ix(x)), x, P(c, I))\n",
    "    )"
   ]
  },
  {
   "cell_type": "code",
   "execution_count": 44,
   "metadata": {},
   "outputs": [
    {
     "data": {
      "text/plain": [
       "(-0.000232 𝐞₁ + 0.000289 𝐞₂ + 0.0121 𝐞₃,\n",
       " -0.000232 𝐞₁ + 0.000289 𝐞₂ + 0.0121 𝐞₃)"
      ]
     },
     "execution_count": 44,
     "metadata": {},
     "output_type": "execute_result"
    }
   ],
   "source": [
    "#2.9 So the differential here has aready done the projection on a and b\n",
    "a, b = random_r_vectors(2, alg)\n",
    "Pb = lambda A: differential(lambda x: P(A, Ix(x)), x, P(b, I))\n",
    "Pa = lambda A: differential(lambda x: P(A, Ix(x)), x, P(a, I))\n",
    "Pa(P(b, I)), Pb(P(a, I))"
   ]
  },
  {
   "cell_type": "markdown",
   "metadata": {},
   "source": [
    "So only the tangent part of b contributes to the projection differential. \n",
    "\n",
    "How about A? We split A into tangent/rejected parts.\n",
    "\n",
    "Pb interchanges the tangent part and the rejected part."
   ]
  },
  {
   "cell_type": "code",
   "execution_count": 45,
   "metadata": {},
   "outputs": [
    {
     "data": {
      "text/plain": [
       "(-5.55e-11 + -0.000199 𝐞₁ + 0.000248 𝐞₂ + 0.0103 𝐞₃ + 1.19e-05 𝐞₁₂ + 0.0015 𝐞₁₃ + -0.00125 𝐞₂₃,\n",
       " -5.55e-11 + -6.62e-11 𝐞₁ + -6.59e-12 𝐞₂ + -1.12e-12 𝐞₃ + -1.55e-11 𝐞₁₂ + 3.72e-13 𝐞₁₃ + 2.98e-13 𝐞₂₃,\n",
       " 0.00602 𝐞₁ + 0.00721 𝐞₂ + -5.71e-05 𝐞₃ + -0.00124 𝐞₁₂ + 2.96e-05 𝐞₁₃ + 2.38e-05 𝐞₂₃,\n",
       " 0.00602 𝐞₁ + 0.00721 𝐞₂ + -5.71e-05 𝐞₃ + -0.00124 𝐞₁₂ + 2.96e-05 𝐞₁₃ + 2.38e-05 𝐞₂₃)"
      ]
     },
     "execution_count": 45,
     "metadata": {},
     "output_type": "execute_result"
    }
   ],
   "source": [
    "#2.11\n",
    "Ap = P(A, I)\n",
    "Ar = A - Ap\n",
    "Pb(Ap), P(Pb(Ap), I), Pb(Ar), P(Pb(Ar), I)\n"
   ]
  },
  {
   "cell_type": "code",
   "execution_count": 46,
   "metadata": {},
   "outputs": [
    {
     "data": {
      "text/plain": [
       "(-1.73e-12 + -0.000202 𝐞₁ + 0.000251 𝐞₂ + 0.0105 𝐞₃ + 8.35e-05 𝐞₁₂ + 0.0105 𝐞₁₃ + -0.00879 𝐞₂₃,\n",
       " -4.68e-12 + -0.000202 𝐞₁ + 0.000251 𝐞₂ + 0.0105 𝐞₃ + 8.35e-05 𝐞₁₂ + 0.0105 𝐞₁₃ + -0.00879 𝐞₂₃ + 1.93e-14 𝐞₁₂₃)"
      ]
     },
     "execution_count": 46,
     "metadata": {},
     "output_type": "execute_result"
    }
   ],
   "source": [
    "#2.12a\n",
    "Bp = P(B,I)\n",
    "Br = B - Bp\n",
    "Pb(Ap^Bp), (Pb(Ap)^Bp) + (Ap ^Pb(Bp))"
   ]
  },
  {
   "cell_type": "code",
   "execution_count": 47,
   "metadata": {},
   "outputs": [
    {
     "data": {
      "text/plain": [
       "(0.000308 𝐞₁ + 0.000369 𝐞₂ + -2.93e-06 𝐞₃ + 0.00304 𝐞₁₂ + -7.3e-05 𝐞₁₃ + -5.86e-05 𝐞₂₃,\n",
       " 0.000308 𝐞₁ + 0.000369 𝐞₂ + -2.93e-06 𝐞₃ + 0.00304 𝐞₁₂ + -7.3e-05 𝐞₁₃ + -5.86e-05 𝐞₂₃ + -4.51e-17 𝐞₁₂₃)"
      ]
     },
     "execution_count": 47,
     "metadata": {},
     "output_type": "execute_result"
    }
   ],
   "source": [
    "#2.12b\n",
    "Pb(Ar ^ Bp), Pb(Ar) ^ Bp"
   ]
  },
  {
   "cell_type": "code",
   "execution_count": 48,
   "metadata": {},
   "outputs": [
    {
     "data": {
      "text/plain": [
       "4.17e-20 𝐞₁ + 5e-20 𝐞₂ + -3.96e-22 𝐞₃ + 7.94e-19 𝐞₁₂ + -1.92e-20 𝐞₁₃ + -1.51e-20 𝐞₂₃"
      ]
     },
     "execution_count": 48,
     "metadata": {},
     "output_type": "execute_result"
    }
   ],
   "source": [
    "#2.12c\n",
    "Pb(Ar ^ Br)"
   ]
  },
  {
   "cell_type": "code",
   "execution_count": 49,
   "metadata": {},
   "outputs": [
    {
     "data": {
      "text/plain": [
       "(-0.00115 𝐞₁₂ + 2.76e-05 𝐞₁₃ + 2.21e-05 𝐞₂₃,\n",
       " -0.00115 𝐞₁₂ + 2.76e-05 𝐞₁₃ + 2.21e-05 𝐞₂₃)"
      ]
     },
     "execution_count": 49,
     "metadata": {},
     "output_type": "execute_result"
    }
   ],
   "source": [
    "#2.13 How such factorization is done? What is ar? \n",
    "# See 2.20, ar is the spur\n",
    "blade = random_r_blade(2, alg)\n",
    "Ar = blade - P(blade, I)\n",
    "N = sum(o(lambda x: P(r, Ix(x))) for r, o in derivative_gen(x, alg, Ix=Ix))\n",
    "Bp = inv(N) * Ar\n",
    "Pb(Ar), Pb(N) ^ Bp"
   ]
  },
  {
   "cell_type": "markdown",
   "metadata": {},
   "source": [
    "### The Shape Operator"
   ]
  },
  {
   "cell_type": "code",
   "execution_count": 50,
   "metadata": {},
   "outputs": [
    {
     "data": {
      "text/plain": [
       "(0.0483 + -0.0111 𝐞₁ + -0.0264 𝐞₂ + 0.000419 𝐞₃ + 0.00115 𝐞₁₂ + 0.0464 𝐞₁₃ + 0.00181 𝐞₂₃ + -0.01 𝐞₁₂₃,\n",
       " 0.0483 + -0.0111 𝐞₁ + -0.0264 𝐞₂ + 0.000419 𝐞₃ + 0.00115 𝐞₁₂ + 0.0464 𝐞₁₃ + 0.00181 𝐞₂₃ + -0.01 𝐞₁₂₃)"
      ]
     },
     "execution_count": 50,
     "metadata": {},
     "output_type": "execute_result"
    }
   ],
   "source": [
    "#2.14\n",
    "S = lambda A: derivative(lambda x: P(A, Ix(x)), x, alg, Ix=Ix)\n",
    "S1 = lambda A: derivative(lambda b: differential(lambda x: P(A, Ix(x)), x, b), x, alg, Ix=Ix, h=1e-3)\n",
    "S(A), S1(A)"
   ]
  },
  {
   "cell_type": "code",
   "execution_count": 51,
   "metadata": {},
   "outputs": [
    {
     "data": {
      "text/plain": [
       "(0.176 + -0.0749 𝐞₁ + -0.147 𝐞₂ + 0.00207 𝐞₃ + 0.00396 𝐞₁₂ + 0.0972 𝐞₁₃ + 0.0845 𝐞₂₃ + -0.0172 𝐞₁₂₃,\n",
       " 0.176 + -0.0749 𝐞₁ + -0.147 𝐞₂ + 0.00207 𝐞₃ + 0.00396 𝐞₁₂ + 0.0972 𝐞₁₃ + 0.0845 𝐞₂₃ + -0.0172 𝐞₁₂₃)"
      ]
     },
     "execution_count": 51,
     "metadata": {},
     "output_type": "execute_result"
    }
   ],
   "source": [
    "#2.15\n",
    "S(1.1*A + 2.2*B), S(1.1*A) + S(2.2*B)"
   ]
  },
  {
   "cell_type": "code",
   "execution_count": 52,
   "metadata": {},
   "outputs": [
    {
     "data": {
      "text/plain": [
       "(6.16e-12 + 0.000995 𝐞₁₂ + 0.0287 𝐞₁₃ + 0.0159 𝐞₂₃,\n",
       " 0.000995 𝐞₁₂ + 0.0287 𝐞₁₃ + 0.0159 𝐞₂₃)"
      ]
     },
     "execution_count": 52,
     "metadata": {},
     "output_type": "execute_result"
    }
   ],
   "source": [
    "#2.16a\n",
    "ap = P(a, I)\n",
    "ar = a - ap\n",
    "S(ap), derivative(lambda x: P(a, Ix(x)), x, alg, Ix=Ix, operator=alg.op)"
   ]
  },
  {
   "cell_type": "code",
   "execution_count": 53,
   "metadata": {},
   "outputs": [
    {
     "data": {
      "text/plain": [
       "(0.0152 + -1.66e-12 𝐞₁₂ + 3.92e-14 𝐞₁₃ + 3.41e-14 𝐞₂₃,\n",
       " 0.0152 + -1.66e-12 𝐞₁₂ + 3.97e-14 𝐞₁₃ + 3.19e-14 𝐞₂₃,\n",
       " 0.0152 + -4.12e-11 𝐞₁₂ + 9.88e-13 𝐞₁₃ + 7.93e-13 𝐞₂₃,\n",
       " 0.0152 + 1e-19 𝐞₁₂ + -2.18e-21 𝐞₁₃ + 3.01e-20 𝐞₂₃)"
      ]
     },
     "execution_count": 53,
     "metadata": {},
     "output_type": "execute_result"
    }
   ],
   "source": [
    "#2.16b\n",
    "(\n",
    "    S(ar),\n",
    "    P(S(ar), I),\n",
    "    P(S(a), I),\n",
    "    derivative(lambda x: P(a, Ix(x)), x, alg, Ix=Ix, operator=alg.ip)\n",
    "    )"
   ]
  },
  {
   "cell_type": "code",
   "execution_count": 54,
   "metadata": {},
   "outputs": [
    {
     "data": {
      "text/plain": [
       "(-1.66e-12 𝐞₁₂ + 3.92e-14 𝐞₁₃ + 3.41e-14 𝐞₂₃,\n",
       " 6.16e-12 + 9.97e-20 𝐞₁₂ + -2.39e-21 𝐞₁₃ + -1.92e-21 𝐞₂₃,\n",
       " 1.53e-06 𝐞₁₂ + -0.142 𝐞₁₃ + 0.177 𝐞₂₃,\n",
       " -0.0333)"
      ]
     },
     "execution_count": 54,
     "metadata": {},
     "output_type": "execute_result"
    }
   ],
   "source": [
    "#2.17\n",
    "(\n",
    "    derivative(lambda x: P(ar, Ix(x)), x, alg, Ix=Ix, operator=alg.op),\n",
    "    derivative(lambda x: P(ap, Ix(x)), x, alg, Ix=Ix, operator=alg.ip),\n",
    "    derivative(lambda x: P(ar, Ix(x)), x, alg, grade=1, operator=alg.op),\n",
    "    derivative(lambda x: P(ap, Ix(x)), x, alg, grade=1, operator=alg.ip)\n",
    ")"
   ]
  },
  {
   "cell_type": "markdown",
   "metadata": {},
   "source": [
    "Alot of synonym here... But just a split of the argument into tangent/rejected parts"
   ]
  },
  {
   "cell_type": "code",
   "execution_count": 55,
   "metadata": {},
   "outputs": [
    {
     "data": {
      "text/plain": [
       "(0.0152 + 0.000995 𝐞₁₂ + 0.0287 𝐞₁₃ + 0.0159 𝐞₂₃,\n",
       " 0.0152 + -1.66e-12 𝐞₁₂ + 3.92e-14 𝐞₁₃ + 3.41e-14 𝐞₂₃,\n",
       " 6.16e-12 + 0.000995 𝐞₁₂ + 0.0287 𝐞₁₃ + 0.0159 𝐞₂₃)"
      ]
     },
     "execution_count": 55,
     "metadata": {},
     "output_type": "execute_result"
    }
   ],
   "source": [
    "#2.18\n",
    "S(a), S(ar), S(ap)"
   ]
  },
  {
   "cell_type": "code",
   "execution_count": 56,
   "metadata": {},
   "outputs": [
    {
     "data": {
      "text/plain": [
       "(6.16e-12 + 0.000995 𝐞₁₂ + 0.0287 𝐞₁₃ + 0.0159 𝐞₂₃,\n",
       " 0.000995 𝐞₁₂ + 0.0287 𝐞₁₃ + 0.0159 𝐞₂₃)"
      ]
     },
     "execution_count": 56,
     "metadata": {},
     "output_type": "execute_result"
    }
   ],
   "source": [
    "#2.19 the tangent part of the argument\n",
    "# the curl of the manifold\n",
    "def shape(Ix, alg):\n",
    "    return lambda x: lambda A: derivative(lambda x: P(A, Ix(x)), x, alg, Ix=Ix)\n",
    "def manifold_curl(Ix, alg):\n",
    "    return lambda x: lambda A: curl(lambda x: P(A, Ix(x)), x, alg, Ix=Ix)\n",
    "\n",
    "Sa = manifold_curl(Ix, alg)(x)(a)\n",
    "S(ap), Sa"
   ]
  },
  {
   "cell_type": "code",
   "execution_count": 57,
   "metadata": {},
   "outputs": [
    {
     "data": {
      "text/plain": [
       "(0.0152 + -1.66e-12 𝐞₁₂ + 3.92e-14 𝐞₁₃ + 3.41e-14 𝐞₂₃,\n",
       " 0.0152 + 1e-19 𝐞₁₂ + -2.18e-21 𝐞₁₃ + 3.01e-20 𝐞₂₃,\n",
       " 0.0152)"
      ]
     },
     "execution_count": 57,
     "metadata": {},
     "output_type": "execute_result"
    }
   ],
   "source": [
    "#2.21 the rejected part of the argument\n",
    "\n",
    "def manifold_spur(Ix, alg):\n",
    "    return lambda x: sum(o(lambda x: P(r, Ix(x))) for r, o in derivative_gen(x, alg, Ix=Ix))\n",
    "\n",
    "N = manifold_spur(Ix, alg)\n",
    "(\n",
    "    S(ar),\n",
    "    div(lambda x: P(a, Ix(x)), x, alg, Ix=Ix),\n",
    "    N(x) | a\n",
    ")"
   ]
  },
  {
   "cell_type": "code",
   "execution_count": 58,
   "metadata": {},
   "outputs": [
    {
     "data": {
      "text/plain": [
       "(-0.00201 𝐞₁ + 0.0025 𝐞₂ + 0.104 𝐞₃,\n",
       " -0.00201 𝐞₁ + 0.0025 𝐞₂ + 0.104 𝐞₃,\n",
       " -0.00201 𝐞₁ + 0.0025 𝐞₂ + 0.104 𝐞₃ + -3.81e-08 𝐞₁₂₃,\n",
       " 0.0237 𝐞₁ + 0.00996 𝐞₂ + 0.0626 𝐞₃ + 0.00697 𝐞₁₂₃)"
      ]
     },
     "execution_count": 58,
     "metadata": {},
     "output_type": "execute_result"
    }
   ],
   "source": [
    "#2.20 manifold spur\n",
    "# The manifold curl takes inputs from the embedding space,\n",
    "# so does its derivative.\n",
    "Sa = manifold_curl(Ix, alg)(x)\n",
    "(\n",
    "    N(x),\n",
    "    div(Sa, a, alg, grade=1, h=1e-3), \n",
    "    derivative(Sa, a, alg, grade=1, h=1e-3), # right\n",
    "    derivative(Sa, a, alg, Ix=Ix, h=1e-3) # wrong\n",
    "    )"
   ]
  },
  {
   "cell_type": "code",
   "execution_count": 59,
   "metadata": {},
   "outputs": [
    {
     "data": {
      "text/plain": [
       "(-0.00201 𝐞₁ + 0.0025 𝐞₂ + 0.104 𝐞₃, -0.00201 𝐞₁ + 0.0025 𝐞₂ + 0.104 𝐞₃)"
      ]
     },
     "execution_count": 59,
     "metadata": {},
     "output_type": "execute_result"
    }
   ],
   "source": [
    "# the tensor spur of the projection differential\n",
    "frame_gen_ = frame_gen(x, alg, Ix)\n",
    "projection_differential = lambda A, b: differential(lambda x: P(A, Ix(x)), x, b)\n",
    "dp = 0\n",
    "for (v, vr), (w, wr) in product(frame_gen_, repeat=2):\n",
    "    dp += (v | w) * projection_differential(vr, wr)\n",
    "N(x), dp"
   ]
  },
  {
   "cell_type": "code",
   "execution_count": 60,
   "metadata": {},
   "outputs": [
    {
     "data": {
      "text/plain": [
       "-1.56e-10 𝐞₁ + 3.5e-10 𝐞₂ + -1.14e-11 𝐞₃"
      ]
     },
     "execution_count": 60,
     "metadata": {},
     "output_type": "execute_result"
    }
   ],
   "source": [
    "#2.22\n",
    "N(x) | I"
   ]
  },
  {
   "cell_type": "code",
   "execution_count": 61,
   "metadata": {},
   "outputs": [
    {
     "data": {
      "text/plain": [
       "-2.51e-05"
      ]
     },
     "execution_count": 61,
     "metadata": {},
     "output_type": "execute_result"
    }
   ],
   "source": [
    "# Pb() is divergence free\n",
    "div(Pb, a, alg, grade=1)"
   ]
  },
  {
   "cell_type": "code",
   "execution_count": 62,
   "metadata": {},
   "outputs": [
    {
     "data": {
      "text/plain": [
       "-7.57e-06 𝐞₁₂₃"
      ]
     },
     "execution_count": 62,
     "metadata": {},
     "output_type": "execute_result"
    }
   ],
   "source": [
    "#2.23\n",
    "curl(Sa, a, alg, grade=1)"
   ]
  },
  {
   "cell_type": "code",
   "execution_count": 63,
   "metadata": {},
   "outputs": [
    {
     "data": {
      "text/plain": [
       "(0.0414 𝐞₁ + -0.039 𝐞₂ + 0.0239 𝐞₃, 0.00671 𝐞₁ + 0.00432 𝐞₂ + 0.0178 𝐞₃)"
      ]
     },
     "execution_count": 63,
     "metadata": {},
     "output_type": "execute_result"
    }
   ],
   "source": [
    "#2.27 not hold for a in the embedding space\n",
    "b = random_r_blade(1, alg)\n",
    "Pa = lambda A: differential(lambda x: P(A, Ix(x)), x, a)\n",
    "Pa(b), (P(b, I) | Sa(a)) - P(b | Sa(a), I)"
   ]
  },
  {
   "cell_type": "code",
   "execution_count": 64,
   "metadata": {},
   "outputs": [
    {
     "data": {
      "text/plain": [
       "(0.0143 𝐞₁ + 0.0088 𝐞₂ + 0.0258 𝐞₃, 0.0143 𝐞₁ + 0.0088 𝐞₂ + 0.0258 𝐞₃)"
      ]
     },
     "execution_count": 64,
     "metadata": {},
     "output_type": "execute_result"
    }
   ],
   "source": [
    "#2.27 but for a in the tangent space\n",
    "b = random_r_blade(1, alg)\n",
    "Pa = lambda A: differential(lambda x: P(A, Ix(x)), x, ap)\n",
    "Pa(b), (P(b, I) | Sa(ap)) - P(b | Sa(ap), I)"
   ]
  },
  {
   "cell_type": "code",
   "execution_count": 65,
   "metadata": {},
   "outputs": [
    {
     "data": {
      "text/plain": [
       "(-0.00016 𝐞₁ + 0.000199 𝐞₂ + 0.00829 𝐞₃,\n",
       " -0.00016 𝐞₁ + 0.000199 𝐞₂ + 0.00829 𝐞₃)"
      ]
     },
     "execution_count": 65,
     "metadata": {},
     "output_type": "execute_result"
    }
   ],
   "source": [
    "#2.28 holds for a, b in the embedding space\n",
    "a, b = random_r_vectors(2, alg)\n",
    "P(b, I) | Sa(a), P(a, I) | Sa(b)"
   ]
  },
  {
   "cell_type": "code",
   "execution_count": 66,
   "metadata": {},
   "outputs": [
    {
     "data": {
      "text/plain": [
       "-2.89e-11 𝐞₁₂ + 6.94e-13 𝐞₁₃ + 5.57e-13 𝐞₂₃"
      ]
     },
     "execution_count": 66,
     "metadata": {},
     "output_type": "execute_result"
    }
   ],
   "source": [
    "#2.30\n",
    "P(Sa(a), I)"
   ]
  },
  {
   "cell_type": "code",
   "execution_count": null,
   "metadata": {},
   "outputs": [
    {
     "data": {
      "text/plain": [
       "(0.0712 𝐞₁ + -0.0508 𝐞₂ + -5.55e-11 𝐞₃ + 0.00222 𝐞₁₃ + -0.0589 𝐞₂₃,\n",
       " 0.0712 𝐞₁ + -0.0508 𝐞₂ + 0.00222 𝐞₁₃ + -0.0589 𝐞₂₃)"
      ]
     },
     "execution_count": 76,
     "metadata": {},
     "output_type": "execute_result"
    }
   ],
   "source": [
    "#2.33 Pb is completely determined by Sb\n",
    "# Not for general vector b (by definition of a differential)\n",
    "Sb = Sa(b)\n",
    "Pb = lambda A: differential(lambda x: P(A, Ix(x)), x, pb)\n",
    "Pb(A), P(A, I).cp(Sb) - P(A.cp(Sb), I)"
   ]
  },
  {
   "cell_type": "code",
   "execution_count": 77,
   "metadata": {},
   "outputs": [
    {
     "data": {
      "text/plain": [
       "(0.0712 𝐞₁ + -0.0508 𝐞₂ + -5.55e-11 𝐞₃ + 0.00222 𝐞₁₃ + -0.0589 𝐞₂₃,\n",
       " 0.0712 𝐞₁ + -0.0508 𝐞₂ + 0.00222 𝐞₁₃ + -0.0589 𝐞₂₃)"
      ]
     },
     "execution_count": 77,
     "metadata": {},
     "output_type": "execute_result"
    }
   ],
   "source": [
    "#2.33 but for b in tangent space\n",
    "bp = P(b, I)\n",
    "Sb = Sa(bp)\n",
    "Pb = lambda A: differential(lambda x: P(A, Ix(x)), x, bp)\n",
    "Pb(A), P(A, I).cp(Sb) - P(A.cp(Sb), I)"
   ]
  },
  {
   "cell_type": "code",
   "execution_count": 70,
   "metadata": {},
   "outputs": [
    {
     "data": {
      "text/plain": [
       "(0.0562 𝐞₁ + -0.0387 𝐞₂ + 8.67e-13 𝐞₃ + -9.76e-05 𝐞₁₃ + 0.000257 𝐞₂₃,\n",
       " -9.92e-05 𝐞₁ + 0.000124 𝐞₂ + 0.00515 𝐞₃ + 6.27e-05 𝐞₁₂ + 0.00299 𝐞₁₃ + -0.000463 𝐞₂₃,\n",
       " -0.00124 𝐞₁ + -0.000469 𝐞₂ + 0.00181 𝐞₁₃ + -0.0457 𝐞₂₃,\n",
       " 0.00789 𝐞₁ + 0.00451 𝐞₂ + -0.00545 𝐞₃ + -0.00221 𝐞₁₃ + -0.00127 𝐞₂₃)"
      ]
     },
     "execution_count": 70,
     "metadata": {},
     "output_type": "execute_result"
    }
   ],
   "source": [
    "#2.34 the commutator product anticommutes\n",
    "Ar = A - Ap\n",
    "Pb(Ap), Ap.cp(Sb), Pb(Ar), P(Sb.cp(A), I)"
   ]
  },
  {
   "cell_type": "code",
   "execution_count": 426,
   "metadata": {},
   "outputs": [
    {
     "data": {
      "text/plain": [
       "(5.67e-12 + 1.91e-11 𝐞₁ + 2.05e-12 𝐞₂ + -6.52e-12 𝐞₃ + 0.000169 𝐞₁₂ + 0.00481 𝐞₁₃ + 0.00279 𝐞₂₃ + -0.0755 𝐞₁₂₃,\n",
       " 5.55e-11 𝐞₁ + 1.98e-11 𝐞₂ + 5.93e-13 𝐞₃ + 0.000169 𝐞₁₂ + 0.00481 𝐞₁₃ + 0.00279 𝐞₂₃ + -0.0755 𝐞₁₂₃,\n",
       " -1.1e-11 𝐞₁₂ + 2.34e-13 𝐞₁₃ + 2.34e-13 𝐞₂₃ + -8.85e-15 𝐞₁₂₃)"
      ]
     },
     "execution_count": 426,
     "metadata": {},
     "output_type": "execute_result"
    }
   ],
   "source": [
    "#2.35a\n",
    "S(Ap), curl(lambda x: P(A, Ix(x)), x, alg, Ix=Ix), curl(lambda x: P(Ar, Ix(x)), x, alg, Ix=Ix)"
   ]
  },
  {
   "cell_type": "code",
   "execution_count": 427,
   "metadata": {},
   "outputs": [
    {
     "data": {
      "text/plain": [
       "(0.104 + -0.0169 𝐞₁ + -0.011 𝐞₂ + -6.2e-05 𝐞₃ + -1.1e-11 𝐞₁₂ + 2.34e-13 𝐞₁₃ + 2.34e-13 𝐞₂₃ + -8.85e-15 𝐞₁₂₃,\n",
       " 0.104 + -0.0169 𝐞₁ + -0.011 𝐞₂ + -6.2e-05 𝐞₃ + -8.77e-12 𝐞₁₂ + 2.1e-13 𝐞₁₃ + 1.69e-13 𝐞₂₃,\n",
       " 0.104 + -0.0169 𝐞₁ + -0.011 𝐞₂ + -6.2e-05 𝐞₃ + 2.09e-20 𝐞₁₂ + 1.04e-21 𝐞₁₃ + 2.19e-19 𝐞₂₃,\n",
       " 5.67e-12 + -3.65e-11 𝐞₁ + -1.78e-11 𝐞₂ + -7.12e-12 𝐞₃ + 1.67e-20 𝐞₁₂ + -4.01e-22 𝐞₁₃ + -3.22e-22 𝐞₂₃)"
      ]
     },
     "execution_count": 427,
     "metadata": {},
     "output_type": "execute_result"
    }
   ],
   "source": [
    "#2.35b\n",
    "S(Ar), P(S(A), I), div(lambda x: P(A, Ix(x)), x, alg, Ix=Ix), div(lambda x: P(Ap, Ix(x)), x, alg, Ix=Ix)"
   ]
  },
  {
   "cell_type": "code",
   "execution_count": 428,
   "metadata": {},
   "outputs": [
    {
     "data": {
      "text/plain": [
       "(0.104 + -0.0169 𝐞₁ + -0.011 𝐞₂ + -6.2e-05 𝐞₃ + 0.000169 𝐞₁₂ + 0.00481 𝐞₁₃ + 0.00279 𝐞₂₃ + -0.0755 𝐞₁₂₃,\n",
       " -3.65e-11 𝐞₁ + -1.78e-11 𝐞₂ + -7.12e-12 𝐞₃ + -0.0755 𝐞₁₂₃,\n",
       " -0.0169 𝐞₁ + -0.011 𝐞₂ + -6.2e-05 𝐞₃)"
      ]
     },
     "execution_count": 428,
     "metadata": {},
     "output_type": "execute_result"
    }
   ],
   "source": [
    "#2.36\n",
    "S(A), S(Ap.grade(2)), P(S(A.grade(2)), I)"
   ]
  },
  {
   "cell_type": "code",
   "execution_count": 429,
   "metadata": {},
   "outputs": [
    {
     "data": {
      "text/plain": [
       "(9.704598422657416, 2.795476648867301)"
      ]
     },
     "execution_count": 429,
     "metadata": {},
     "output_type": "execute_result"
    }
   ],
   "source": [
    "# Ix expands and shrinks, so 2.42 fails\n",
    "norm(Ix(c2e(0.5, 1))), norm(I)"
   ]
  },
  {
   "cell_type": "code",
   "execution_count": 430,
   "metadata": {},
   "outputs": [
    {
     "data": {
      "text/plain": [
       "(1.64 𝐞₁₂ + -0.0425 𝐞₁₃ + -0.139 𝐞₂₃, 1.65 𝐞₁₂ + -0.0395 𝐞₁₃ + -0.0317 𝐞₂₃)"
      ]
     },
     "execution_count": 430,
     "metadata": {},
     "output_type": "execute_result"
    }
   ],
   "source": [
    "#2.42 doesn't hold?\n",
    "dI = differential(Ix, x, a)\n",
    "dI, P(dI, I)"
   ]
  },
  {
   "cell_type": "code",
   "execution_count": 431,
   "metadata": {},
   "outputs": [
    {
     "data": {
      "text/plain": [
       "(-0.000762 𝐞₁₂ + -0.00108 𝐞₁₃ + -0.0382 𝐞₂₃,\n",
       " -3.28e-11 𝐞₁₂ + 7.88e-13 𝐞₁₃ + 6.32e-13 𝐞₂₃)"
      ]
     },
     "execution_count": 431,
     "metadata": {},
     "output_type": "execute_result"
    }
   ],
   "source": [
    "#2.42 holds if Ix is normalized,\n",
    "# So the result comes from differentiating (I**2 = constant),\n",
    "# but not from (I*inv(I) = constant)\n",
    "nIx = lambda x: normalize(Ix(x))\n",
    "dI = differential(nIx, x, a)\n",
    "dI, P(dI, I)"
   ]
  },
  {
   "cell_type": "code",
   "execution_count": 432,
   "metadata": {},
   "outputs": [
    {
     "data": {
      "text/plain": [
       "-0.000762 𝐞₁₂ + -0.00108 𝐞₁₃ + -0.0382 𝐞₂₃"
      ]
     },
     "execution_count": 432,
     "metadata": {},
     "output_type": "execute_result"
    }
   ],
   "source": [
    "#2.43\n",
    "Pa = lambda A: differential(lambda x: P(A, (nIx(x))), x, a)\n",
    "I = nIx(x)\n",
    "Pa(I)"
   ]
  },
  {
   "cell_type": "code",
   "execution_count": 433,
   "metadata": {},
   "outputs": [
    {
     "data": {
      "text/plain": [
       "(-6.71e-12 𝐞₁ + 8.98e-12 𝐞₂ + -1.02e-11 𝐞₃ + -0.104 𝐞₁₂₃,\n",
       " -2.65e-11 𝐞₁ + 1.76e-10 𝐞₂ + -1.84e-11 𝐞₃ + -0.104 𝐞₁₂₃)"
      ]
     },
     "execution_count": 433,
     "metadata": {},
     "output_type": "execute_result"
    }
   ],
   "source": [
    "#2.44\n",
    "derivative(nIx, x, alg, Ix=Ix), S(I)"
   ]
  },
  {
   "cell_type": "code",
   "execution_count": 434,
   "metadata": {},
   "outputs": [
    {
     "data": {
      "text/plain": [
       "(5.67e-12 + -7.74e-13 𝐞₁ + 5.76e-11 𝐞₂ + -8.57e-12 𝐞₃ + 0.000169 𝐞₁₂ + 0.00481 𝐞₁₃ + 0.00279 𝐞₂₃ + -0.0755 𝐞₁₂₃,\n",
       " 5.67e-12 + -9.12e-13 𝐞₁ + 5.77e-11 𝐞₂ + -1.4e-12 𝐞₃ + 2.64e-13 𝐞₁₂ + -6.33e-15 𝐞₁₃ + -5.08e-15 𝐞₂₃)"
      ]
     },
     "execution_count": 434,
     "metadata": {},
     "output_type": "execute_result"
    }
   ],
   "source": [
    "#2.45\n",
    "S(P(A, I)), P(S(P(A, I)), I)"
   ]
  },
  {
   "cell_type": "code",
   "execution_count": 435,
   "metadata": {},
   "outputs": [
    {
     "data": {
      "text/plain": [
       "(-8.29e-13 + -0.000198 𝐞₁ + -0.000179 𝐞₂ + 4.73e-07 𝐞₃ + 6.03e-14 𝐞₁₂ + -8.62e-14 𝐞₁₃ + 2.36e-12 𝐞₂₃ + -2.77e-14 𝐞₁₂₃,\n",
       " -8.29e-13 + -0.000198 𝐞₁ + -0.000179 𝐞₂ + 4.73e-07 𝐞₃ + 1.68e-14 𝐞₁₂ + -4.04e-16 𝐞₁₃ + -3.24e-16 𝐞₂₃,\n",
       " -4.59e-13 + 1.39e-11 𝐞₁ + 2.48e-12 𝐞₂ + 2.08e-13 𝐞₃ + -3.41e-05 𝐞₁₂ + -0.00107 𝐞₁₃ + -0.000441 𝐞₂₃ + 1.15e-12 𝐞₁₂₃,\n",
       " -4.61e-19 𝐞₁ + 5.69e-19 𝐞₂ + 2.4e-17 𝐞₃ + -3.41e-05 𝐞₁₂ + -0.00107 𝐞₁₃ + -0.000441 𝐞₂₃ + 9.16e-13 𝐞₁₂₃,\n",
       " -9.56e-13 + 3.44e-23 𝐞₁ + 4.96e-12 𝐞₂ + -1.19e-13 𝐞₃ + -3.41e-05 𝐞₁₂ + -0.00107 𝐞₁₃ + -0.000441 𝐞₂₃ + 9.16e-13 𝐞₁₂₃)"
      ]
     },
     "execution_count": 435,
     "metadata": {},
     "output_type": "execute_result"
    }
   ],
   "source": [
    "#2.46\n",
    "Pr = lambda X, A: X - P(X, A)\n",
    "S(S(P(A, I))), P(S(S(P(A, I))), I), S(S(Ar)), Pr(S(S(A)), I), S(P(S(A), I))"
   ]
  },
  {
   "cell_type": "code",
   "execution_count": null,
   "metadata": {},
   "outputs": [],
   "source": []
  }
 ],
 "metadata": {
  "kernelspec": {
   "display_name": "3.10.5",
   "language": "python",
   "name": "python3"
  },
  "language_info": {
   "codemirror_mode": {
    "name": "ipython",
    "version": 3
   },
   "file_extension": ".py",
   "mimetype": "text/x-python",
   "name": "python",
   "nbconvert_exporter": "python",
   "pygments_lexer": "ipython3",
   "version": "3.10.5"
  }
 },
 "nbformat": 4,
 "nbformat_minor": 2
}
