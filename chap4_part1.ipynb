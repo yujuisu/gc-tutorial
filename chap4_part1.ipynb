{
 "cells": [
  {
   "cell_type": "code",
   "execution_count": 1,
   "metadata": {},
   "outputs": [
    {
     "data": {
      "text/plain": [
       "(3.64 𝐞₁₃ + 2.08 𝐞₂₃, 7.11e-15 𝐞₁₂₃)"
      ]
     },
     "execution_count": 1,
     "metadata": {},
     "output_type": "execute_result"
    }
   ],
   "source": [
    "#1.3 cylinder\n",
    "# Let M be a elliptic cylinder in R3, (ax)^2 + (by)^2 = 1\n",
    "# x = 1/a*cos(p)*e1 + 1/b*sin(p)*e2 + z*e3, p, z in R\n",
    "\n",
    "from gc_utils import *\n",
    "alg = Algebra(3)\n",
    "locals().update(alg.blades)\n",
    "\n",
    "c2e = lambda p, z: 4*np.cos(p)*e1 + 5*np.sin(p)*e2 + z*e3\n",
    "e_p = lambda p: -4*np.sin(p)*e1 + 5*np.cos(p)*e2\n",
    "def Ix(x):\n",
    "    p = np.arctan((4/5)*x.e2/x.e1)\n",
    "    return e_p(p) ^ e3\n",
    "\n",
    "p, t = 2, 3\n",
    "x = c2e(p, t)\n",
    "I = Ix(x)\n",
    "\n",
    "I, I ^ (3*e3 + 5*e_p(p))"
   ]
  },
  {
   "cell_type": "code",
   "execution_count": 2,
   "metadata": {},
   "outputs": [
    {
     "data": {
      "text/plain": [
       "(2.79 𝐞₁₂ + -0.067 𝐞₁₃ + -0.0538 𝐞₂₃, 3.69e-15 𝐞₁₂₃)"
      ]
     },
     "execution_count": 2,
     "metadata": {},
     "output_type": "execute_result"
    }
   ],
   "source": [
    "#1.3 ellipsoid\n",
    "# Let M be an ellipsoid in R3, (ax)^{2}+(by)^{2}+z^{2}=d\n",
    "# x = 1/a*cos(p)*sin(t)*e1 + 1/b*sin(p)*sin(t)*e2 + cos(t)*e3, t, p in R\n",
    "\n",
    "from gc_utils import *\n",
    "alg = Algebra(3)\n",
    "locals().update(alg.blades)\n",
    "\n",
    "c2e = lambda p, t: 4*np.cos(p)*np.sin(t)*e1 + 5*np.sin(p)*np.sin(t)*e2 + np.cos(t)*e3\n",
    "e_p = lambda p, t: -4*np.sin(p)*np.sin(t)*e1 + 5*np.cos(p)*np.sin(t)*e2\n",
    "e_t = lambda p, t: (4*np.cos(p)*np.cos(t)*e1) + (5*np.sin(p)*np.cos(t)*e2) - (np.sin(t)*e3)\n",
    "def Ix(x):\n",
    "    p = np.arctan((4/5)*x.e2/x.e1)\n",
    "    t = np.arccos(x.e3)\n",
    "    return e_p(p, t) ^ e_t(p, t)\n",
    "\n",
    "# |p| < pi/2, 0 < t < pi for unique arctan & arccos\n",
    "p, t = -1, 3\n",
    "x = c2e(p, t)\n",
    "I = Ix(x)\n",
    "\n",
    "I, I ^ (3*e_t(p,t) + 5*e_p(p,t))"
   ]
  },
  {
   "cell_type": "code",
   "execution_count": 3,
   "metadata": {},
   "outputs": [
    {
     "data": {
      "text/plain": [
       "(0.811 + 0.202 𝐞₁ + 0.075 𝐞₂ + 0.366 𝐞₃ + 0.776 𝐞₁₂ + 0.42 𝐞₁₃ + 0.237 𝐞₂₃ + 0.658 𝐞₁₂₃,\n",
       " 0.811 + 0.209 𝐞₁ + 0.0663 𝐞₂ + 0.00244 𝐞₃ + 0.761 𝐞₁₂ + -0.0182 𝐞₁₃ + -0.0146 𝐞₂₃,\n",
       " 0.527 𝐞₁ + 0.317 𝐞₂ + 0.979 𝐞₃,\n",
       " 0.546 𝐞₁ + 0.294 𝐞₂ + 0.00347 𝐞₃)"
      ]
     },
     "execution_count": 3,
     "metadata": {},
     "output_type": "execute_result"
    }
   ],
   "source": [
    "#1.4\n",
    "A, B, C, D = [random_multivector(alg) for _ in range(4)]\n",
    "a, b, c, d = random_r_vectors(4, alg)\n",
    "A, P(A, I), a, P(a, I)"
   ]
  },
  {
   "cell_type": "code",
   "execution_count": 4,
   "metadata": {},
   "outputs": [
    {
     "data": {
      "text/plain": [
       "(0.406 + -0.0184 𝐞₁ + -0.166 𝐞₂ + 0.452 𝐞₃ + -0.953 𝐞₁₂ + -0.502 𝐞₁₃ + -1.3 𝐞₂₃ + -1.29 𝐞₁₂₃,\n",
       " 0.406 + -0.0184 𝐞₁ + -0.166 𝐞₂ + 0.452 𝐞₃ + -0.953 𝐞₁₂ + -0.502 𝐞₁₃ + -1.3 𝐞₂₃ + -1.29 𝐞₁₂₃)"
      ]
     },
     "execution_count": 4,
     "metadata": {},
     "output_type": "execute_result"
    }
   ],
   "source": [
    "#1.5\n",
    "xt = lambda t: x + (C*t*D).grade(1)\n",
    "a = differential(xt, 0, 1)\n",
    "F = lambda x: A * x * x * B\n",
    "differential(F, x, a), differential(lambda t: F(xt(t)), 0, 1)"
   ]
  },
  {
   "cell_type": "code",
   "execution_count": 5,
   "metadata": {},
   "outputs": [
    {
     "data": {
      "text/plain": [
       "(-0.741 + -0.317 𝐞₁ + 0.706 𝐞₂ + -1.13 𝐞₃ + 2.03 𝐞₁₂ + -0.209 𝐞₁₃ + 1.53 𝐞₂₃ + 2.39 𝐞₁₂₃,\n",
       " -0.741 + -0.317 𝐞₁ + 0.706 𝐞₂ + -1.13 𝐞₃ + 2.03 𝐞₁₂ + -0.21 𝐞₁₃ + 1.53 𝐞₂₃ + 2.39 𝐞₁₂₃,\n",
       " -0.746 + -0.316 𝐞₁ + 0.709 𝐞₂ + -1.14 𝐞₃ + 2.04 𝐞₁₂ + -0.203 𝐞₁₃ + 1.55 𝐞₂₃ + 2.41 𝐞₁₂₃)"
      ]
     },
     "execution_count": 5,
     "metadata": {},
     "output_type": "execute_result"
    }
   ],
   "source": [
    "#1.5\n",
    "y = c2e(p+0.003, t-0.003)\n",
    "a = (y - x) / norm(y - x)\n",
    "pa = P(a, Ix(x))\n",
    "F = lambda x: A * x * x * B + C * x * D\n",
    "differential(F, x, pa), differential(F, x, a), (F(y) - F(x))/norm(y-x)"
   ]
  },
  {
   "cell_type": "code",
   "execution_count": 6,
   "metadata": {},
   "outputs": [
    {
     "data": {
      "text/plain": [
       "(0.114 + 2.1 𝐞₁ + 2.99 𝐞₂ + -1.13 𝐞₃ + 0.751 𝐞₁₂ + 2.23 𝐞₁₃ + 3.03 𝐞₂₃ + 0.692 𝐞₁₂₃,\n",
       " [-0.000165 𝐞₁ + -0.357 𝐞₂ + 0.00857 𝐞₃, 1.0 𝐞₁ + 0.000461 𝐞₂ + 0.0192 𝐞₃],\n",
       " [-0.000165 𝐞₁ + -0.357 𝐞₂ + 0.00857 𝐞₃, 1.0 𝐞₁ + 0.000461 𝐞₂ + 0.0192 𝐞₃])"
      ]
     },
     "execution_count": 6,
     "metadata": {},
     "output_type": "execute_result"
    }
   ],
   "source": [
    "#1.7 a local frame at x\n",
    "frame = blade_split(I, alg)\n",
    "r_frame = reciprocal(frame)\n",
    "derivative(F, x, alg, frame=frame, r_frame=r_frame), frame, [P(v, I) for v in frame]"
   ]
  },
  {
   "cell_type": "code",
   "execution_count": 7,
   "metadata": {},
   "outputs": [
    {
     "data": {
      "text/plain": [
       "(-2.29 + -1.7 𝐞₁ + 0.168 𝐞₂ + -1.21 𝐞₃ + 0.376 𝐞₁₂ + 0.136 𝐞₁₃ + -0.581 𝐞₂₃ + -0.0632 𝐞₁₂₃,\n",
       " -2.29 + -1.7 𝐞₁ + 0.168 𝐞₂ + -1.21 𝐞₃ + 0.376 𝐞₁₂ + 0.136 𝐞₁₃ + -0.581 𝐞₂₃ + -0.0632 𝐞₁₂₃)"
      ]
     },
     "execution_count": 7,
     "metadata": {},
     "output_type": "execute_result"
    }
   ],
   "source": [
    "#1.9\n",
    "G = lambda x: C*x*x*D\n",
    "T = lambda a, F, G: F*a*G\n",
    "dF = differential(F, x, pa)\n",
    "dG = differential(G, x, pa)\n",
    "dTa = differential(lambda a: T(a, F(a), G(a)), x, pa)\n",
    " \n",
    "differential(lambda a: T(a, F(x), G(x)), x, pa), dTa - T(x, dF, G(x)) - T(x, F(x), dG)"
   ]
  },
  {
   "cell_type": "code",
   "execution_count": 8,
   "metadata": {},
   "outputs": [
    {
     "data": {
      "text/plain": [
       "(-0.906 + 0.041 𝐞₁ + 0.37 𝐞₂ + -1.01 𝐞₃ + 2.13 𝐞₁₂ + 1.12 𝐞₁₃ + 2.91 𝐞₂₃ + 2.88 𝐞₁₂₃,\n",
       " -0.906 + 0.041 𝐞₁ + 0.37 𝐞₂ + -1.01 𝐞₃ + 2.13 𝐞₁₂ + 1.12 𝐞₁₃ + 2.91 𝐞₂₃ + 2.88 𝐞₁₂₃,\n",
       " -2.62 + -0.552 𝐞₁ + 0.0964 𝐞₂ + -2.81 𝐞₃ + 3.12 𝐞₁₂ + 0.666 𝐞₁₃ + 3.9 𝐞₂₃ + 4.51 𝐞₁₂₃,\n",
       " -0.906 + 0.041 𝐞₁ + 0.37 𝐞₂ + -1.01 𝐞₃ + 2.13 𝐞₁₂ + 1.12 𝐞₁₃ + 2.91 𝐞₂₃ + 2.88 𝐞₁₂₃)"
      ]
     },
     "execution_count": 8,
     "metadata": {},
     "output_type": "execute_result"
    }
   ],
   "source": [
    "#1.10 F satisfies the previous integrability condition Fab = Fba\n",
    "ax = lambda x: P(x-c, Ix(x))\n",
    "a = ax(x)\n",
    "bx = lambda x: P(x-d, Ix(x))\n",
    "b = bx(x)\n",
    "(\n",
    "    differential(lambda x: differential(F, x, a), x, b, h=1e-2),\n",
    "    differential(lambda x: differential(F, x, b), x, a, h=1e-2),\n",
    "    differential(lambda x: differential(F, x, ax(x)), x, b, h=1e-2),\n",
    "    differential(lambda x: differential(F, x, ax(x)), x, b, h=1e-2) - differential(F, x, differential(ax, x, b), h=1e-2),\n",
    "    )\n"
   ]
  },
  {
   "cell_type": "code",
   "execution_count": 9,
   "metadata": {},
   "outputs": [
    {
     "data": {
      "text/plain": [
       "(5.53e-18 + 4.55e-18 𝐞₁ + -2.35e-17 𝐞₂ + -4.34e-19 𝐞₃ + 2.38e-17 𝐞₁₂ + 4.34e-18 𝐞₁₃ + -1.76e-17 𝐞₂₃ + 2.93e-18 𝐞₁₂₃,\n",
       " -6.51e-19 + 1.63e-19 𝐞₁ + -2.03e-20 𝐞₂ + -8.67e-19 𝐞₃ + -2.71e-19 𝐞₁₂ + 8.67e-19 𝐞₁₃ + -3.25e-19 𝐞₂₃ + -2.71e-19 𝐞₁₂₃)"
      ]
     },
     "execution_count": 9,
     "metadata": {},
     "output_type": "execute_result"
    }
   ],
   "source": [
    "#1.11 this is trivial\n",
    "grade = 1\n",
    "(\n",
    "    sum((v1 ^ v2) * differential(lambda x: differential(F, x, r2), x, r1) for (v1, v2), (r1, r2) in product(zip(frame, r_frame), repeat=2)),\n",
    "    sum(P(v1 ^ v2, I) * differential(lambda x: differential(F, x, r2), x, r1) for (v1, v2), (r1, r2) in product(zip(frame, r_frame), repeat=2)),\n",
    "    )"
   ]
  },
  {
   "cell_type": "code",
   "execution_count": 10,
   "metadata": {},
   "outputs": [
    {
     "data": {
      "text/plain": [
       "(0.0427 + 0.0997 𝐞₁ + 0.158 𝐞₂ + -0.00995 𝐞₃ + -0.0454 𝐞₁₂ + 0.103 𝐞₁₃ + 0.161 𝐞₂₃ + -0.0529 𝐞₁₂₃,\n",
       " 2.81e-07 + 4.19e-07 𝐞₁ + -5.71e-08 𝐞₂ + -5.73e-08 𝐞₃ + 8.1e-07 𝐞₁₂ + 6.7e-07 𝐞₁₃ + -3.71e-07 𝐞₂₃ + 4.52e-07 𝐞₁₂₃)"
      ]
     },
     "execution_count": 10,
     "metadata": {},
     "output_type": "execute_result"
    }
   ],
   "source": [
    "# instead, the second derivative also acts on the first\n",
    "def frame_gen(x, alg, Ix):\n",
    "    frame = blade_split(Ix(x), alg)\n",
    "    r_frame = reciprocal(frame)\n",
    "    return zip(frame, r_frame)\n",
    "\n",
    "def derivative_gen(x, alg: Algebra, Ix, h=1e-6):\n",
    "    Ix_frame = lambda x: frame_gen(x, alg, Ix)\n",
    "    for v, r in Ix_frame(x):\n",
    "        yield (r, lambda F: differential(F, x, v, h))\n",
    "(\n",
    "    sum(o1(lambda x: sum((r1^r)* o(F) for r, o in derivative_gen(x, alg, Ix))) for r1, o1 in derivative_gen(x, alg, Ix, h=1e-3)),\n",
    "    sum(o1(lambda x: sum(P(r1^r, I)* o(F) for r, o in derivative_gen(x, alg, Ix))) for r1, o1 in derivative_gen(x, alg, Ix, h=1e-3)),\n",
    ")"
   ]
  },
  {
   "cell_type": "code",
   "execution_count": 12,
   "metadata": {},
   "outputs": [
    {
     "data": {
      "text/plain": [
       "(-2.62 + -0.552 𝐞₁ + 0.0964 𝐞₂ + -2.81 𝐞₃ + 3.12 𝐞₁₂ + 0.666 𝐞₁₃ + 3.9 𝐞₂₃ + 4.51 𝐞₁₂₃,\n",
       " -2.27 + -0.441 𝐞₁ + 0.269 𝐞₂ + -2.5 𝐞₃ + 3.14 𝐞₁₂ + 0.732 𝐞₁₃ + 3.84 𝐞₂₃ + 4.42 𝐞₁₂₃,\n",
       " 0.346 + 0.11 𝐞₁ + 0.173 𝐞₂ + 0.31 𝐞₃ + 0.0221 𝐞₁₂ + 0.0661 𝐞₁₃ + -0.055 𝐞₂₃ + -0.092 𝐞₁₂₃,\n",
       " 0.346 + 0.111 𝐞₁ + 0.173 𝐞₂ + 0.31 𝐞₃ + 0.0219 𝐞₁₂ + 0.066 𝐞₁₃ + -0.055 𝐞₂₃ + -0.0919 𝐞₁₂₃)"
      ]
     },
     "execution_count": 12,
     "metadata": {},
     "output_type": "execute_result"
    }
   ],
   "source": [
    "#1.12\n",
    "def lie_bracket(ax, bx):\n",
    "    return lambda x: differential(bx, x, ax(x)) - differential(ax, x, bx(x))\n",
    "\n",
    "lie = lie_bracket(ax, bx)\n",
    "(\n",
    "    differential(lambda x: differential(F, x, ax(x)), x, b),\n",
    "    differential(lambda x: differential(F, x, bx(x)), x, a),\n",
    "    differential(lambda x: differential(F, x, bx(x)), x, a) - differential(lambda x: differential(F, x, ax(x)), x, b),\n",
    "    differential(F, x, lie(x))\n",
    "    )"
   ]
  },
  {
   "cell_type": "code",
   "execution_count": 13,
   "metadata": {},
   "outputs": [
    {
     "data": {
      "text/plain": [
       "(-0.104 𝐞₁ + -0.93 𝐞₂ + 0.0682 𝐞₃,\n",
       " -0.254 𝐞₁ + -1.09 𝐞₂ + 0.0693 𝐞₃,\n",
       " 0.15 𝐞₁ + 0.164 𝐞₂ + -0.00103 𝐞₃)"
      ]
     },
     "execution_count": 13,
     "metadata": {},
     "output_type": "execute_result"
    }
   ],
   "source": [
    "# lie_bracket\n",
    "(    \n",
    "    differential(bx, x, a),\n",
    "    differential(ax, x, b),\n",
    "    lie(x),\n",
    "    )"
   ]
  },
  {
   "cell_type": "code",
   "execution_count": 13,
   "metadata": {},
   "outputs": [
    {
     "data": {
      "text/plain": [
       "(3.12e-09 + -2.53e-09 𝐞₁ + -3.98e-10 𝐞₂ + 4.86e-09 𝐞₃ + -7.48e-09 𝐞₁₂ + -4.43e-09 𝐞₁₃ + -3.33e-09 𝐞₂₃ + -1.13e-08 𝐞₁₂₃,)"
      ]
     },
     "execution_count": 13,
     "metadata": {},
     "output_type": "execute_result"
    }
   ],
   "source": [
    "#1.15\n",
    "sum(o1(lambda x: sum(((a^b)|(r1^r))* o(F) for r, o in derivative_gen(x, alg, Ix))) for r1, o1 in derivative_gen(x, alg, Ix, h=1e-3)),"
   ]
  },
  {
   "cell_type": "code",
   "execution_count": 14,
   "metadata": {},
   "outputs": [
    {
     "data": {
      "text/plain": [
       "(-1.28 + -1.44 𝐞₁ + 4.35 𝐞₂ + -1.05 𝐞₃ + 3.18 𝐞₁₂ + -1.66 𝐞₁₃ + 2.43 𝐞₂₃ + -0.957 𝐞₁₂₃,\n",
       " -1.15 + -1.47 𝐞₁ + 2.57 𝐞₂ + -1.38 𝐞₃ + 1.78 𝐞₁₂ + -1.93 𝐞₁₃ + 1.33 𝐞₂₃ + -1.09 𝐞₁₂₃,\n",
       " -2.51 + 1.05 𝐞₁ + 3.08 𝐞₂ + -0.687 𝐞₃ + 1.93 𝐞₁₂ + -0.343 𝐞₁₃ + 1.78 𝐞₂₃ + 0.611 𝐞₁₂₃,\n",
       " -2.52 + 1.05 𝐞₁ + 3.08 𝐞₂ + -0.687 𝐞₃ + 1.93 𝐞₁₂ + -0.343 𝐞₁₃ + 1.78 𝐞₂₃ + 0.611 𝐞₁₂₃,\n",
       " -2.51 + 1.05 𝐞₁ + 3.08 𝐞₂ + -0.687 𝐞₃ + 1.93 𝐞₁₂ + -0.343 𝐞₁₃ + 1.78 𝐞₂₃ + 0.611 𝐞₁₂₃)"
      ]
     },
     "execution_count": 14,
     "metadata": {},
     "output_type": "execute_result"
    }
   ],
   "source": [
    "#1.17 d = P(d), F is not linear, but the derivative behaves like\n",
    "(\n",
    "    F(a), differential(F, x, a),\n",
    "    derivative(F, x, alg, frame=frame, r_frame=r_frame), \n",
    "    derivative(lambda a: differential(F, x, a), 0, alg, frame=frame, r_frame=r_frame),\n",
    "    derivative(lambda a: differential(F, x, P(a, I)), 0, alg, grade=1),\n",
    "    )"
   ]
  },
  {
   "cell_type": "code",
   "execution_count": 15,
   "metadata": {},
   "outputs": [
    {
     "data": {
      "text/plain": [
       "(-5.32 + 4.34 𝐞₁ + -1.3 𝐞₂ + -3.6 𝐞₃ + -1.9 𝐞₁₂ + 0.169 𝐞₁₃ + -1.32 𝐞₂₃ + -0.265 𝐞₁₂₃,\n",
       " -5.32 + 4.34 𝐞₁ + -1.3 𝐞₂ + -3.6 𝐞₃ + -1.9 𝐞₁₂ + 0.169 𝐞₁₃ + -1.32 𝐞₂₃ + -0.265 𝐞₁₂₃,\n",
       " -5.26 + 4.26 𝐞₁ + -1.26 𝐞₂ + -3.57 𝐞₃ + -1.85 𝐞₁₂ + 0.103 𝐞₁₃ + -1.25 𝐞₂₃ + -0.317 𝐞₁₂₃)"
      ]
     },
     "execution_count": 15,
     "metadata": {},
     "output_type": "execute_result"
    }
   ],
   "source": [
    "#1.18 I think the text book made a mistake here: \n",
    "# dy does not depend on x, because the dependence of x shifts to P,\n",
    "# so PdF != PdF_\n",
    "\n",
    "def dF(x):\n",
    "    frame = blade_split(Ix(x), alg)\n",
    "    r_frame = reciprocal(frame)\n",
    "    return derivative(F, x, alg, frame=frame, r_frame=r_frame)\n",
    "\n",
    "pb_frame = [differential(lambda x: P(v, Ix(x)), x, b) for v in alg.frame]\n",
    "pb_frame2 = [differential(lambda x: P(v, Ix(x)), x, b) for v in frame]\n",
    "p_frame = [P(v, Ix(x)) for v in alg.frame]\n",
    "Fab = lambda a: differential(lambda x: differential(F, x, a), x, b, h=1e-2)\n",
    "PdF = derivative(F, x, alg, frame=pb_frame, r_frame=reciprocal(alg.frame))\n",
    "dFab = derivative(Fab, x, alg, frame=p_frame, r_frame=reciprocal(alg.frame), h=1e-2)\n",
    "PdF_ = derivative(F, x, alg, frame=pb_frame2, r_frame=r_frame)\n",
    "dFab_ = derivative(Fab, x, alg, frame=frame, r_frame=r_frame, h=1e-2)\n",
    "(\n",
    "    differential(dF, x, b, h=1e-2),\n",
    "    PdF + dFab, \n",
    "    PdF_ + dFab_,\n",
    "    )"
   ]
  },
  {
   "cell_type": "code",
   "execution_count": 16,
   "metadata": {},
   "outputs": [
    {
     "data": {
      "text/plain": [
       "(0.153 + -0.0672 𝐞₁ + 0.0153 𝐞₂ + 0.0719 𝐞₃ + 0.0863 𝐞₁₂ + 0.14 𝐞₁₃ + -0.0781 𝐞₂₃ + 0.137 𝐞₁₂₃,\n",
       " 0.205 + -0.153 𝐞₁ + 0.053 𝐞₂ + 0.104 𝐞₃ + 0.139 𝐞₁₂ + 0.074 𝐞₁₃ + -0.00612 𝐞₂₃ + 0.0857 𝐞₁₂₃,\n",
       " -5.47 + 4.41 𝐞₁ + -1.32 𝐞₂ + -3.67 𝐞₃ + -1.99 𝐞₁₂ + 0.0289 𝐞₁₃ + -1.24 𝐞₂₃ + -0.403 𝐞₁₂₃,\n",
       " -5.47 + 4.41 𝐞₁ + -1.32 𝐞₂ + -3.67 𝐞₃ + -1.99 𝐞₁₂ + 0.0289 𝐞₁₃ + -1.24 𝐞₂₃ + -0.403 𝐞₁₂₃)"
      ]
     },
     "execution_count": 16,
     "metadata": {},
     "output_type": "execute_result"
    }
   ],
   "source": [
    "PdF, PdF_, dFab, dFab_"
   ]
  },
  {
   "cell_type": "code",
   "execution_count": 17,
   "metadata": {},
   "outputs": [
    {
     "data": {
      "text/plain": [
       "(0.219 + 1.15 𝐞₁ + -0.601 𝐞₂ + 0.774 𝐞₃ + -0.415 𝐞₁₂ + 1.65 𝐞₁₃ + -0.263 𝐞₂₃ + 1.25 𝐞₁₂₃,\n",
       " 0.145 + 1.11 𝐞₁ + -0.044 𝐞₂ + 0.842 𝐞₃ + -0.0594 𝐞₁₂ + 1.6 𝐞₁₃ + 0.0384 𝐞₂₃ + 1.1 𝐞₁₂₃)"
      ]
     },
     "execution_count": 17,
     "metadata": {},
     "output_type": "execute_result"
    }
   ],
   "source": [
    "# The assumption F_y = F_P(y) not hold here, because F extends to the embedding space\n",
    "# F_y = F_P(y) only under the differential within I(x), and if so, contradicts the independence of x\n",
    "differential(F, x, c), differential(F, x, P(c, I))"
   ]
  },
  {
   "cell_type": "code",
   "execution_count": 18,
   "metadata": {},
   "outputs": [
    {
     "data": {
      "text/plain": [
       "1.35 + 1.49 𝐞₁ + 3.31 𝐞₂ + 4.44 𝐞₃ + 2.31 𝐞₁₂ + 2.17 𝐞₁₃ + 5.82 𝐞₂₃ + 1.37 𝐞₁₂₃"
      ]
     },
     "execution_count": 18,
     "metadata": {},
     "output_type": "execute_result"
    }
   ],
   "source": [
    "#1.19a\n",
    "T = lambda x, B, A: C * A * x *B * D + C * A * x + B * D\n",
    "def Q(x, A):\n",
    "    vec_frame = blade_split(Ix(x), alg)\n",
    "    frame = multi_frame(vec_frame)\n",
    "    r_frame = reci_frame(vec_frame)\n",
    "    return derivative(lambda B: T(x, B, A) , B, alg, frame=frame, r_frame=r_frame)   \n",
    "\n",
    "Q(x, A)"
   ]
  },
  {
   "cell_type": "code",
   "execution_count": 19,
   "metadata": {},
   "outputs": [
    {
     "data": {
      "text/plain": [
       "(-1.82 + -3.84 𝐞₁ + -2.14 𝐞₂ + -5.08 𝐞₃ + -0.255 𝐞₁₂ + -3.4 𝐞₁₃ + -4.74 𝐞₂₃ + -0.697 𝐞₁₂₃,\n",
       " -2.03e-11 + 1.25e-11 𝐞₁ + 1.28e-10 𝐞₂ + 6.37e-11 𝐞₃ + 1.06e-10 𝐞₁₂ + 7.35e-11 𝐞₁₃ + 1.41e-10 𝐞₂₃ + 1.02e-10 𝐞₁₂₃,\n",
       " -1.82 + -3.84 𝐞₁ + -2.14 𝐞₂ + -5.08 𝐞₃ + -0.255 𝐞₁₂ + -3.4 𝐞₁₃ + -4.74 𝐞₂₃ + -0.697 𝐞₁₂₃)"
      ]
     },
     "execution_count": 19,
     "metadata": {},
     "output_type": "execute_result"
    }
   ],
   "source": [
    "#1.19b Why is PdT zero?\n",
    "frame = multi_frame(alg.frame)\n",
    "r_frame = reci_frame(alg.frame)\n",
    "pb_frame = [differential(lambda x: P(v, Ix(x)), x, b) for v in frame]\n",
    "p_frame = [P(v, Ix(x)) for v in frame]\n",
    "Tb = lambda B: differential(lambda x: T(x, B, A), x, b, h=1e-3)\n",
    "PdT = derivative(lambda B: T(x, B, A), B, alg, r_frame=pb_frame, frame=r_frame)\n",
    "dBTb = derivative(Tb, B, alg, frame=p_frame, r_frame=r_frame, h=1e-3)\n",
    "\n",
    "differential(lambda x: Q(x, A), x, b), PdT, dBTb, "
   ]
  },
  {
   "cell_type": "code",
   "execution_count": 20,
   "metadata": {},
   "outputs": [
    {
     "data": {
      "text/plain": [
       "-5.78e-11 + 6.42e-11 𝐞₁ + 4.87e-11 𝐞₂ + 1.32e-10 𝐞₃ + -3.89e-11 𝐞₁₂ + -1.69e-11 𝐞₁₃ + 7.87e-11 𝐞₂₃ + -3.73e-11 𝐞₁₂₃"
      ]
     },
     "execution_count": 20,
     "metadata": {},
     "output_type": "execute_result"
    }
   ],
   "source": [
    "# The Pb-derivative in my example of 1.19b is a zero operator\n",
    "derivative(F, B, alg, r_frame=pb_frame, frame=r_frame)"
   ]
  },
  {
   "cell_type": "code",
   "execution_count": 21,
   "metadata": {},
   "outputs": [
    {
     "data": {
      "text/plain": [
       "(-3.17 + -0.646 𝐞₁ + 2.88 𝐞₂ + -1.8 𝐞₃ + 1.31 𝐞₁₂ + -0.587 𝐞₁₃ + 1.12 𝐞₂₃ + 0.323 𝐞₁₂₃,\n",
       " -3.17 + -0.646 𝐞₁ + 2.88 𝐞₂ + -1.8 𝐞₃ + 1.31 𝐞₁₂ + -0.587 𝐞₁₃ + 1.12 𝐞₂₃ + 0.323 𝐞₁₂₃)"
      ]
     },
     "execution_count": 21,
     "metadata": {},
     "output_type": "execute_result"
    }
   ],
   "source": [
    "#1.20\n",
    "T = lambda x, A: x ** 2 * A * C + B*A*x\n",
    "frame = blade_split(Ix(x), alg)\n",
    "r_frame = reciprocal(frame)\n",
    "(\n",
    "    sum(differential(lambda x: T(x, alg.ip(B,r)), x, v) for v, r in zip(frame, r_frame)), \n",
    "    sum(differential(lambda x: T(x, alg.ip(B,r)), x, v) for v, r in zip(r_frame, frame))\n",
    "    )"
   ]
  },
  {
   "cell_type": "code",
   "execution_count": 22,
   "metadata": {},
   "outputs": [
    {
     "data": {
      "text/plain": [
       "(-9.41 + -1.14 𝐞₁ + 20.1 𝐞₂ + -2.35 𝐞₃ + 3.68 𝐞₁₂ + -3.62 𝐞₁₃ + 13.9 𝐞₂₃ + -2.56 𝐞₁₂₃,\n",
       " -9.41 + -1.14 𝐞₁ + 20.1 𝐞₂ + -2.35 𝐞₃ + 3.68 𝐞₁₂ + -3.62 𝐞₁₃ + 13.9 𝐞₂₃ + -2.56 𝐞₁₂₃)"
      ]
     },
     "execution_count": 22,
     "metadata": {},
     "output_type": "execute_result"
    }
   ],
   "source": [
    "#1.20 It's a new differential, so let's check! \n",
    "# Run several times to see frame independence\n",
    "vecs = random_r_vectors(3, alg)\n",
    "frame = multi_frame(vecs)\n",
    "r_frame = reci_frame(vecs)\n",
    "(\n",
    "    sum(differential(lambda x: T(x, alg.ip(B,r)), x, v) for v, r in zip(frame, r_frame)), \n",
    "    sum(differential(lambda x: T(x, alg.ip(B,r)), x, v) for v, r in zip(r_frame, frame))\n",
    "    )"
   ]
  },
  {
   "cell_type": "code",
   "execution_count": 23,
   "metadata": {},
   "outputs": [
    {
     "data": {
      "text/plain": [
       "(-0.309 + 0.115 𝐞₁ + 0.025 𝐞₂ + 1.1 𝐞₃ + 0.758 𝐞₁₂ + 2.4 𝐞₁₃ + 0.236 𝐞₂₃ + 1.77 𝐞₁₂₃,\n",
       " -0.309 + 0.115 𝐞₁ + 0.025 𝐞₂ + 1.1 𝐞₃ + 0.758 𝐞₁₂ + 2.4 𝐞₁₃ + 0.236 𝐞₂₃ + 1.77 𝐞₁₂₃,\n",
       " -0.0136 + -0.014 𝐞₁ + -0.00547 𝐞₂ + -0.0264 𝐞₃ + 0.00723 𝐞₁₂ + -0.00433 𝐞₁₃ + 0.0116 𝐞₂₃ + 0.0138 𝐞₁₂₃,\n",
       " -0.0136 + -0.014 𝐞₁ + -0.00547 𝐞₂ + -0.0264 𝐞₃ + 0.00723 𝐞₁₂ + -0.00433 𝐞₁₃ + 0.0116 𝐞₂₃ + 0.0138 𝐞₁₂₃)"
      ]
     },
     "execution_count": 23,
     "metadata": {},
     "output_type": "execute_result"
    }
   ],
   "source": [
    "#1.23\n",
    "def d(T, x, B, alg, Ix, h=1e-6):\n",
    "    return sum(o(lambda x: T(x, inner(B,r))) for r, o in derivative_gen(x, alg, Ix, h))\n",
    "\n",
    "(\n",
    "    d(T, x, a, alg, Ix), \n",
    "    differential(lambda x: T(x, 1), x, a),\n",
    "    d(T, x, a^b, alg, Ix), \n",
    "    differential(lambda x: T(x, a), x, b) - differential(lambda x: T(x, b), x, a)\n",
    "    )"
   ]
  },
  {
   "cell_type": "code",
   "execution_count": 24,
   "metadata": {},
   "outputs": [
    {
     "data": {
      "text/plain": [
       "(-2.2 + -0.802 𝐞₁ + 2.0 𝐞₂ + 0.326 𝐞₃ + 0.665 𝐞₁₂ + 0.0297 𝐞₁₃ + -0.772 𝐞₂₃ + -0.692 𝐞₁₂₃,\n",
       " 0.024 + 0.0136 𝐞₁ + 0.0305 𝐞₂ + 0.151 𝐞₃ + -0.0151 𝐞₁₂ + 0.0222 𝐞₁₃ + -0.0972 𝐞₂₃ + -0.0799 𝐞₁₂₃,\n",
       " 0.024 + 0.0136 𝐞₁ + 0.0305 𝐞₂ + 0.151 𝐞₃ + -0.0151 𝐞₁₂ + 0.0222 𝐞₁₃ + -0.0972 𝐞₂₃ + -0.0799 𝐞₁₂₃,\n",
       " 0.024 + 0.0136 𝐞₁ + 0.0305 𝐞₂ + 0.151 𝐞₃ + -0.0151 𝐞₁₂ + 0.0222 𝐞₁₃ + -0.0972 𝐞₂₃ + -0.0799 𝐞₁₂₃,\n",
       " 0.0134 + 0.0307 𝐞₁ + 0.00491 𝐞₂ + 0.0887 𝐞₃ + -0.0362 𝐞₁₂ + -0.0366 𝐞₁₃ + -0.108 𝐞₂₃ + -0.147 𝐞₁₂₃)"
      ]
     },
     "execution_count": 24,
     "metadata": {},
     "output_type": "execute_result"
    }
   ],
   "source": [
    "#1.24\n",
    "# The last equality doesn't hold for random multivector\n",
    "d_ = lambda T: lambda x, B: d(T, x, B, alg, Ix, h=1e-3)\n",
    "(\n",
    "    T(x, B),\n",
    "    d(lambda x, B: d(T, x, B, alg, Ix, h=1e-3), x, B, alg, Ix, h=1e-3),\n",
    "    d_(d_(T))(x, B),\n",
    "    sum(o1(lambda b: sum(o(lambda a: T(a, inner(inner(B,r1),r))) for r, o in derivative_gen(b, alg, Ix))) for r1, o1 in derivative_gen(x, alg, Ix, h=1e-3)),\n",
    "    sum(o1(lambda b: sum(o(lambda a: T(a, inner(B,r1^r))) for r, o in derivative_gen(b, alg, Ix))) for r1, o1 in derivative_gen(x, alg, Ix, h=1e-3)),\n",
    ")"
   ]
  },
  {
   "cell_type": "code",
   "execution_count": 25,
   "metadata": {},
   "outputs": [
    {
     "data": {
      "text/plain": [
       "(-0.974 + -0.303 𝐞₁ + 1.79 𝐞₂ + -0.0117 𝐞₃ + 0.394 𝐞₁₂ + -0.282 𝐞₁₃ + 1.11 𝐞₂₃ + 0.415 𝐞₁₂₃,\n",
       " 0.0222 + 0.0238 𝐞₁ + 0.0128 𝐞₂ + 0.0726 𝐞₃ + -0.0103 𝐞₁₂ + 0.029 𝐞₁₃ + -0.033 𝐞₂₃ + -0.0221 𝐞₁₂₃,\n",
       " 0.0222 + 0.0238 𝐞₁ + 0.0128 𝐞₂ + 0.0726 𝐞₃ + -0.0103 𝐞₁₂ + 0.029 𝐞₁₃ + -0.033 𝐞₂₃ + -0.0221 𝐞₁₂₃,\n",
       " 0.0222 + 0.0238 𝐞₁ + 0.0128 𝐞₂ + 0.0726 𝐞₃ + -0.0103 𝐞₁₂ + 0.029 𝐞₁₃ + -0.033 𝐞₂₃ + -0.0221 𝐞₁₂₃)"
      ]
     },
     "execution_count": 25,
     "metadata": {},
     "output_type": "execute_result"
    }
   ],
   "source": [
    "#1.24 But for grades >= 2\n",
    "d_ = lambda T: lambda x, B: d(T, x, B, alg, Ix, h=1e-3)\n",
    "blade = random_r_blade(2, alg) + random_r_blade(3, alg)\n",
    "(\n",
    "    T(x, blade),\n",
    "    d_(d_(T))(x, blade),\n",
    "    sum(o1(lambda b: sum(o(lambda a: T(a, inner(inner(blade,r1),r))) for r, o in derivative_gen(b, alg, Ix))) for r1, o1 in derivative_gen(x, alg, Ix, h=1e-3)),\n",
    "    sum(o1(lambda b: sum(o(lambda a: T(a, inner(blade,r1^r))) for r, o in derivative_gen(b, alg, Ix))) for r1, o1 in derivative_gen(x, alg, Ix, h=1e-3)),\n",
    ")"
   ]
  },
  {
   "cell_type": "code",
   "execution_count": 26,
   "metadata": {},
   "outputs": [
    {
     "data": {
      "text/plain": [
       "(-0.00257 + -0.00251 𝐞₁ + -0.000993 𝐞₂ + -0.00499 𝐞₃ + 0.00176 𝐞₁₂ + -0.000627 𝐞₁₃ + 0.00253 𝐞₂₃ + 0.0031 𝐞₁₂₃,\n",
       " -0.00257 + -0.00251 𝐞₁ + -0.000993 𝐞₂ + -0.00499 𝐞₃ + 0.00176 𝐞₁₂ + -0.000627 𝐞₁₃ + 0.00253 𝐞₂₃ + 0.0031 𝐞₁₂₃,\n",
       " -0.00257 + -0.00251 𝐞₁ + -0.000993 𝐞₂ + -0.00499 𝐞₃ + 0.00176 𝐞₁₂ + -0.000627 𝐞₁₃ + 0.00253 𝐞₂₃ + 0.0031 𝐞₁₂₃)"
      ]
     },
     "execution_count": 26,
     "metadata": {},
     "output_type": "execute_result"
    }
   ],
   "source": [
    "#1.24\n",
    "d_ = lambda T: lambda x, B: d(T, x, B, alg, Ix, h=1e-3)\n",
    "blade = random_r_blade(3, alg)\n",
    "(\n",
    "    d_(d_(T))(x, blade),\n",
    "    sum(o1(lambda b: sum(o(lambda a: T(a, alg.ip(alg.ip(blade,r1),r))) for r, o in derivative_gen(b, alg, Ix))) for r1, o1 in derivative_gen(x, alg, Ix, h=1e-3)),\n",
    "    sum(o1(lambda b: sum(o(lambda a: T(a, alg.ip(blade,r1^r))) for r, o in derivative_gen(b, alg, Ix))) for r1, o1 in derivative_gen(x, alg, Ix, h=1e-3)),\n",
    ")"
   ]
  },
  {
   "cell_type": "code",
   "execution_count": 27,
   "metadata": {},
   "outputs": [
    {
     "data": {
      "text/plain": [
       "(0.00327 + 0.00162 𝐞₁ + -0.000742 𝐞₂ + -0.00863 𝐞₃ + -0.00515 𝐞₁₂ + -0.013 𝐞₁₃ + 0.00149 𝐞₂₃ + -0.00815 𝐞₁₂₃,\n",
       " -2.93e-09 + -1.01e-09 𝐞₁ + -1.69e-09 𝐞₂ + -1.51e-09 𝐞₃ + -1.61e-09 𝐞₁₂ + -9.5e-09 𝐞₁₃ + 3.2e-09 𝐞₂₃ + -3.95e-09 𝐞₁₂₃,\n",
       " -6.56e-19 + 3.96e-18 𝐞₁ + 4.7e-19 𝐞₂ + -1.07e-18 𝐞₃ + -1.59e-18 𝐞₁₂ + 2.51e-18 𝐞₁₃ + 1.18e-18 𝐞₂₃ + -1.9e-18 𝐞₁₂₃,\n",
       " -1.02e-18 + 3.65e-18 𝐞₁ + 1.06e-19 𝐞₂ + -1.66e-18 𝐞₃ + -1.76e-18 𝐞₁₂ + 2.32e-18 𝐞₁₃ + 8.69e-19 𝐞₂₃ + -1.92e-18 𝐞₁₂₃,\n",
       " 0.00534 + -0.00644 𝐞₁ + 0.0225 𝐞₂ + 0.107 𝐞₃ + -0.00474 𝐞₁₂ + 0.00649 𝐞₁₃ + -0.0781 𝐞₂₃ + -0.0635 𝐞₁₂₃,\n",
       " -1.72e-08 + -5.95e-09 𝐞₁ + -9.77e-09 𝐞₂ + -8.82e-09 𝐞₃ + -9.68e-09 𝐞₁₂ + -5.51e-08 𝐞₁₃ + 1.86e-08 𝐞₂₃ + -2.29e-08 𝐞₁₂₃)"
      ]
     },
     "execution_count": 27,
     "metadata": {},
     "output_type": "execute_result"
    }
   ],
   "source": [
    "#1.25\n",
    "blade = random_r_blade(2, alg)\n",
    "(\n",
    "    d_(d_(T))(x, blade),\n",
    "    d_(d_(T))(x, P(blade, I)),\n",
    "    d_(d_(T))(x, c), # (c | d) | d is zero\n",
    "    d_(d_(T))(x, P(c, I)),\n",
    "    d_(d_(T))(x, C),\n",
    "    d_(d_(T))(x, P(C, I)),\n",
    ")\n"
   ]
  },
  {
   "cell_type": "code",
   "execution_count": 28,
   "metadata": {},
   "outputs": [
    {
     "data": {
      "text/plain": [
       "(0.12, 0.12)"
      ]
     },
     "execution_count": 28,
     "metadata": {},
     "output_type": "execute_result"
    }
   ],
   "source": [
    "#1.26a\n",
    "T = lambda x, A: (x ** 2 * A * C + B*A*x).grade(0)\n",
    "K = lambda x: simplicial_derivative(lambda vectors: T(x, wedge(vectors)), [b, c], alg, h=1e-2)\n",
    "T(x, b^c), b^c | K(x)"
   ]
  },
  {
   "cell_type": "code",
   "execution_count": 29,
   "metadata": {},
   "outputs": [
    {
     "data": {
      "text/plain": [
       "(-1.56, -1.56)"
      ]
     },
     "execution_count": 29,
     "metadata": {},
     "output_type": "execute_result"
    }
   ],
   "source": [
    "#1.26b\n",
    "K1 = lambda x: simplicial_derivative(lambda vectors: T(x, wedge(vectors)), [b], alg, h=1e-2)\n",
    "T(x, b), b | K1(x)"
   ]
  },
  {
   "cell_type": "code",
   "execution_count": 30,
   "metadata": {},
   "outputs": [
    {
     "data": {
      "text/plain": [
       "(-0.00365, -0.00365, -0.00365)"
      ]
     },
     "execution_count": 30,
     "metadata": {},
     "output_type": "execute_result"
    }
   ],
   "source": [
    "#1.27a I think B must be a blade\n",
    "frame = blade_split(Ix(x), alg)\n",
    "r_frame = reciprocal(frame)\n",
    "blade = a^b^c\n",
    "(\n",
    "    d(T, x, blade, alg, Ix), \n",
    "    derivative(K, x, alg, frame=frame, r_frame=r_frame, operator=lambda a, b: (blade|a)*b).grade(0),\n",
    "    blade | curl(K, x, alg, frame=frame, r_frame=r_frame)\n",
    ")    "
   ]
  },
  {
   "cell_type": "code",
   "execution_count": 31,
   "metadata": {},
   "outputs": [
    {
     "data": {
      "text/plain": [
       "(-0.856, -0.856, -0.856)"
      ]
     },
     "execution_count": 31,
     "metadata": {},
     "output_type": "execute_result"
    }
   ],
   "source": [
    "#1.27b\n",
    "blade = b^c\n",
    "(\n",
    "    d(T, x, blade, alg, Ix), \n",
    "    derivative(K1, x, alg, frame=frame, r_frame=r_frame, operator=lambda a, b: (blade|a)*b).grade(0),\n",
    "    blade | curl(K1, x, alg, frame=frame, r_frame=r_frame)\n",
    ")    "
   ]
  },
  {
   "cell_type": "code",
   "execution_count": 32,
   "metadata": {},
   "outputs": [
    {
     "data": {
      "text/plain": [
       "(-1.55, -1.55, -1.55)"
      ]
     },
     "execution_count": 32,
     "metadata": {},
     "output_type": "execute_result"
    }
   ],
   "source": [
    "#1.28\n",
    "def tensor_div(T, x, B, Ix, h=1e-6):\n",
    "    frame = blade_split(Ix(x), alg)\n",
    "    r_frame = reciprocal(frame)\n",
    "    return sum(differential(lambda x: T(x, alg.op(B,r)), x, v, h=h) for v, r in zip(frame, r_frame))\n",
    "\n",
    "blade = b\n",
    "(\n",
    "    tensor_div(T, x, blade, Ix), \n",
    "    derivative(K, x, alg, frame=frame, r_frame=r_frame, operator=lambda a, b: (blade^a)*b).grade(0),\n",
    "    blade | div(K, x, alg, frame=frame, r_frame=r_frame)\n",
    ")  "
   ]
  },
  {
   "cell_type": "code",
   "execution_count": 33,
   "metadata": {},
   "outputs": [
    {
     "data": {
      "text/plain": [
       "(0.189, 0.189, 0.189 + 2.46e-18 𝐞₁₂ + -3.19e-19 𝐞₁₃ + -7.2e-19 𝐞₂₃)"
      ]
     },
     "execution_count": 33,
     "metadata": {},
     "output_type": "execute_result"
    }
   ],
   "source": [
    "#1.28b\n",
    "K3 = lambda x: simplicial_derivative(lambda vectors: T(x, wedge(vectors)), [a,b,c], alg, h=1e-2)\n",
    "blade = b^c\n",
    "(\n",
    "    tensor_div(T, x, blade, Ix), \n",
    "    derivative(K3, x, alg, frame=frame, r_frame=r_frame, operator=lambda a, b: (blade^a)*b).grade(0),\n",
    "    blade | div(K3, x, alg, frame=frame, r_frame=r_frame)\n",
    ")  "
   ]
  },
  {
   "cell_type": "code",
   "execution_count": 34,
   "metadata": {},
   "outputs": [],
   "source": [
    "def derivative(F, X, alg: Algebra, h=1e-6, grade=None, frame=None, r_frame=None, Ix=None, operator=None):\n",
    "    if not operator:\n",
    "        operator = alg.gp\n",
    "    if not frame:\n",
    "        if grade or (grade == 0):\n",
    "            frame = r_vector_frame(alg.frame, grade)\n",
    "            r_frame = r_vector_frame(reciprocal(alg.frame), grade, reverse=True)\n",
    "        elif Ix:\n",
    "            frame = blade_split(Ix(X), alg)\n",
    "            r_frame = reciprocal(frame)\n",
    "        else:\n",
    "            frame = multi_frame(alg.frame)\n",
    "            r_frame = reci_frame(alg.frame)\n",
    "    return sum(operator(r, differential(F, X, v, h)) for v, r in zip(frame, r_frame))"
   ]
  },
  {
   "cell_type": "code",
   "execution_count": 35,
   "metadata": {},
   "outputs": [
    {
     "data": {
      "text/plain": [
       "(0.811 𝐞₁ + 0.774 𝐞₂ + -0.00295 𝐞₃ + 1.92e-18 𝐞₁₂₃,\n",
       " 0.811 𝐞₁ + 0.774 𝐞₂ + -0.00295 𝐞₃)"
      ]
     },
     "execution_count": 35,
     "metadata": {},
     "output_type": "execute_result"
    }
   ],
   "source": [
    "#2.1 Should we define a differential in this way?\n",
    "# No, to extend the differential to the embedding space, \n",
    "# just do the projection first!\n",
    "(\n",
    "    derivative(lambda x: x, x, alg, operator=lambda a, b: (c|a)*b, Ix=Ix),\n",
    "    P(c, I)\n",
    "    )"
   ]
  },
  {
   "cell_type": "code",
   "execution_count": 36,
   "metadata": {},
   "outputs": [
    {
     "data": {
      "text/plain": [
       "(2.22e-10 + -0.0302 𝐞₁ + -0.0607 𝐞₂ + -0.164 𝐞₃ + -0.106 𝐞₁₂ + -0.0581 𝐞₁₃ + 0.0378 𝐞₂₃,\n",
       " -0.0302 𝐞₁ + -0.0607 𝐞₂ + -0.164 𝐞₃ + -0.106 𝐞₁₂ + -0.0581 𝐞₁₃ + 0.0378 𝐞₂₃)"
      ]
     },
     "execution_count": 36,
     "metadata": {},
     "output_type": "execute_result"
    }
   ],
   "source": [
    "#2.3\n",
    "Pb = lambda A: differential(lambda x: P(A, Ix(x)), x, b)\n",
    "Pb(1.1*A + 2.2*B), 1.1*Pb(A) + 2.2*Pb(B)"
   ]
  },
  {
   "cell_type": "code",
   "execution_count": 37,
   "metadata": {},
   "outputs": [
    {
     "data": {
      "text/plain": [
       "(5.55e-11,\n",
       " -0.00781 𝐞₁₂ + -0.024 𝐞₁₃ + 0.0144 𝐞₂₃,\n",
       " -0.00781 𝐞₁₂ + -0.024 𝐞₁₃ + 0.0144 𝐞₂₃)"
      ]
     },
     "execution_count": 37,
     "metadata": {},
     "output_type": "execute_result"
    }
   ],
   "source": [
    "#2.4\n",
    "Pb(A.grade(0)), Pb(A.grade(2)), Pb(A).grade(2)"
   ]
  },
  {
   "cell_type": "code",
   "execution_count": 38,
   "metadata": {},
   "outputs": [
    {
     "data": {
      "text/plain": [
       "(-0.0139, -0.0139)"
      ]
     },
     "execution_count": 38,
     "metadata": {},
     "output_type": "execute_result"
    }
   ],
   "source": [
    "#2.5\n",
    "B.sp(Pb(A)), A.sp(Pb(B))"
   ]
  },
  {
   "cell_type": "code",
   "execution_count": 39,
   "metadata": {},
   "outputs": [
    {
     "data": {
      "text/plain": [
       "(-0.0108 𝐞₁ + -0.0215 𝐞₂ + -0.0538 𝐞₃ + -0.0499 𝐞₁₂ + -0.0415 𝐞₁₃ + 0.0261 𝐞₂₃,\n",
       " -3.78e-12 + -0.0108 𝐞₁ + -0.0215 𝐞₂ + -0.0538 𝐞₃ + -0.0499 𝐞₁₂ + -0.0415 𝐞₁₃ + 0.0261 𝐞₂₃ + 9.26e-13 𝐞₁₂₃)"
      ]
     },
     "execution_count": 39,
     "metadata": {},
     "output_type": "execute_result"
    }
   ],
   "source": [
    "#2.6\n",
    "Pb(A^B), (Pb(A) ^ P(B, I)) + (P(A, I) ^ Pb(B))"
   ]
  },
  {
   "cell_type": "code",
   "execution_count": 40,
   "metadata": {},
   "outputs": [
    {
     "data": {
      "text/plain": [
       "(5.55e-11 + -0.000281 𝐞₁ + -0.0047 𝐞₂ + -0.0745 𝐞₃ + -0.00781 𝐞₁₂ + -0.024 𝐞₁₃ + 0.0144 𝐞₂₃,\n",
       " 1.11e-10 + -0.000281 𝐞₁ + -0.0047 𝐞₂ + -0.0745 𝐞₃ + -0.00781 𝐞₁₂ + -0.024 𝐞₁₃ + 0.0144 𝐞₂₃)"
      ]
     },
     "execution_count": 40,
     "metadata": {},
     "output_type": "execute_result"
    }
   ],
   "source": [
    "#2.7\n",
    "(\n",
    "    Pb(A),\n",
    "    Pb(P(A, I)) + P(Pb(A), I)\n",
    ")"
   ]
  },
  {
   "cell_type": "code",
   "execution_count": 49,
   "metadata": {},
   "outputs": [
    {
     "data": {
      "text/plain": [
       "(0.00898 𝐞₁ + -0.00597 𝐞₂ + 0.0662 𝐞₃ + -0.221 𝐞₁₂ + -0.0574 𝐞₁₃ + -0.0808 𝐞₂₃,\n",
       " 0.00135 𝐞₁ + 0.00354 𝐞₂ + 0.0757 𝐞₃ + -0.0199 𝐞₁₂ + 0.0148 𝐞₁₃ + -0.0229 𝐞₂₃)"
      ]
     },
     "execution_count": 49,
     "metadata": {},
     "output_type": "execute_result"
    }
   ],
   "source": [
    "#2.8 This is different as the differential operator is defined in the embedding space\n",
    "# Recall the comment of 2.1\n",
    "(\n",
    "    differential(lambda x: P(A, Ix(x)), x, c),\n",
    "    differential(lambda x: P(A, Ix(x)), x, P(c, I))\n",
    "    )"
   ]
  },
  {
   "cell_type": "code",
   "execution_count": 53,
   "metadata": {},
   "outputs": [
    {
     "data": {
      "text/plain": [
       "(-0.000165 𝐞₁ + 0.000205 𝐞₂ + 0.00857 𝐞₃,\n",
       " -0.000165 𝐞₁ + 0.000205 𝐞₂ + 0.00857 𝐞₃)"
      ]
     },
     "execution_count": 53,
     "metadata": {},
     "output_type": "execute_result"
    }
   ],
   "source": [
    "#2.9 So the differential here has aready done the projection on a and b\n",
    "a, b = random_r_vectors(2, alg)\n",
    "Pb = lambda A: differential(lambda x: P(A, Ix(x)), x, P(b, I))\n",
    "Pa = lambda A: differential(lambda x: P(A, Ix(x)), x, P(a, I))\n",
    "Pa(P(b, I)), Pb(P(a, I))"
   ]
  },
  {
   "cell_type": "code",
   "execution_count": 54,
   "metadata": {},
   "outputs": [
    {
     "data": {
      "text/plain": [
       "(-5.55e-11 + -0.00061 𝐞₁ + 0.00076 𝐞₂ + 0.0317 𝐞₃ + 3.68e-05 𝐞₁₂ + 0.00798 𝐞₁₃ + -0.00803 𝐞₂₃,\n",
       " -5.55e-11 + -2.09e-10 𝐞₁ + -8.74e-11 𝐞₂ + -1.93e-12 𝐞₃ + -1e-10 𝐞₁₂ + 2.4e-12 𝐞₁₃ + 1.93e-12 𝐞₂₃,\n",
       " 0.000968 𝐞₁ + 0.000962 𝐞₂ + -4.43e-06 𝐞₃ + -0.00295 𝐞₁₂ + 7.08e-05 𝐞₁₃ + 5.68e-05 𝐞₂₃,\n",
       " 0.000968 𝐞₁ + 0.000962 𝐞₂ + -4.43e-06 𝐞₃ + -0.00295 𝐞₁₂ + 7.08e-05 𝐞₁₃ + 5.68e-05 𝐞₂₃)"
      ]
     },
     "execution_count": 54,
     "metadata": {},
     "output_type": "execute_result"
    }
   ],
   "source": [
    "#2.11\n",
    "Ap = P(A, I)\n",
    "Ar = A - Ap\n",
    "Pb(Ap), P(Pb(Ap), I), Pb(Ar), P(Pb(Ar), I)\n"
   ]
  },
  {
   "cell_type": "code",
   "execution_count": 55,
   "metadata": {},
   "outputs": [
    {
     "data": {
      "text/plain": [
       "(-2.78e-11 + -0.000409 𝐞₁ + 0.00051 𝐞₂ + 0.0213 𝐞₃ + 6.49e-05 𝐞₁₂ + 0.0141 𝐞₁₃ + -0.0142 𝐞₂₃,\n",
       " 3.78e-12 + -0.000409 𝐞₁ + 0.00051 𝐞₂ + 0.0213 𝐞₃ + 6.49e-05 𝐞₁₂ + 0.0141 𝐞₁₃ + -0.0142 𝐞₂₃ + -6.67e-14 𝐞₁₂₃)"
      ]
     },
     "execution_count": 55,
     "metadata": {},
     "output_type": "execute_result"
    }
   ],
   "source": [
    "#2.12a\n",
    "Bp = P(B,I)\n",
    "Br = B - Bp\n",
    "Pb(Ap^Bp), (Pb(Ap)^Bp) + (Ap ^Pb(Bp))"
   ]
  },
  {
   "cell_type": "code",
   "execution_count": 56,
   "metadata": {},
   "outputs": [
    {
     "data": {
      "text/plain": [
       "(0.000316 𝐞₁ + 0.000314 𝐞₂ + -1.45e-06 𝐞₃ + -0.000562 𝐞₁₂ + 1.35e-05 𝐞₁₃ + 1.08e-05 𝐞₂₃,\n",
       " 0.000316 𝐞₁ + 0.000314 𝐞₂ + -1.45e-06 𝐞₃ + -0.000562 𝐞₁₂ + 1.35e-05 𝐞₁₃ + 1.08e-05 𝐞₂₃ + -3.62e-15 𝐞₁₂₃)"
      ]
     },
     "execution_count": 56,
     "metadata": {},
     "output_type": "execute_result"
    }
   ],
   "source": [
    "#2.12b\n",
    "Pb(Ar ^ Bp), Pb(Ar) ^ Bp"
   ]
  },
  {
   "cell_type": "code",
   "execution_count": 57,
   "metadata": {},
   "outputs": [
    {
     "data": {
      "text/plain": [
       "-1.23e-29 𝐞₁ + -3.85e-31 𝐞₃ + 2.5e-19 𝐞₁₂ + -6.01e-21 𝐞₁₃ + -4.81e-21 𝐞₂₃"
      ]
     },
     "execution_count": 57,
     "metadata": {},
     "output_type": "execute_result"
    }
   ],
   "source": [
    "#2.12c\n",
    "Pb(Ar ^ Br)"
   ]
  },
  {
   "cell_type": "code",
   "execution_count": 61,
   "metadata": {},
   "outputs": [
    {
     "data": {
      "text/plain": [
       "(-0.00581 𝐞₁₂ + 0.000139 𝐞₁₃ + 0.000112 𝐞₂₃,\n",
       " -0.00581 𝐞₁₂ + 0.000139 𝐞₁₃ + 0.000112 𝐞₂₃)"
      ]
     },
     "execution_count": 61,
     "metadata": {},
     "output_type": "execute_result"
    }
   ],
   "source": [
    "#2.13 How such factorization is done? What is ar? \n",
    "# See 2.20, ar is the spur\n",
    "blade = random_r_blade(2, alg)\n",
    "Ar = blade - P(blade, I)\n",
    "N = sum(o(lambda x: P(r, Ix(x))) for r, o in derivative_gen(x, alg, Ix))\n",
    "Bp = inv(N) * Ar\n",
    "Pb(Ar), Pb(N) ^ Bp"
   ]
  },
  {
   "cell_type": "code",
   "execution_count": 62,
   "metadata": {},
   "outputs": [
    {
     "data": {
      "text/plain": [
       "(0.00573 + -0.024 𝐞₁ + -0.0474 𝐞₂ + 0.000673 𝐞₃ + 0.00211 𝐞₁₂ + 0.061 𝐞₁₃ + 0.0337 𝐞₂₃ + -0.0476 𝐞₁₂₃,\n",
       " -0.0654 + 0.53 𝐞₁ + 0.397 𝐞₂ + 0.000678 𝐞₃ + 0.00211 𝐞₁₂ + 0.00749 𝐞₁₃ + 0.1 𝐞₂₃ + -1.47 𝐞₁₂₃,\n",
       " -0.0654 + 0.53 𝐞₁ + 0.397 𝐞₂ + 0.000733 𝐞₃ + 0.00208 𝐞₁₂ + 0.00746 𝐞₁₃ + 0.101 𝐞₂₃ + -1.47 𝐞₁₂₃,\n",
       " 0.00604 + -0.0242 𝐞₁ + -0.0474 𝐞₂ + 0.000713 𝐞₃ + 0.00201 𝐞₁₂ + 0.061 𝐞₁₃ + 0.0338 𝐞₂₃ + -0.0477 𝐞₁₂₃)"
      ]
     },
     "execution_count": 62,
     "metadata": {},
     "output_type": "execute_result"
    }
   ],
   "source": [
    "#2.14\n",
    "S = lambda A: derivative(lambda x: P(A, Ix(x)), x, alg, Ix=Ix)\n",
    "S1 = lambda A: derivative(lambda x: P(A, Ix(x)), x, alg, grade=1)\n",
    "S2 = lambda A: derivative(lambda b: differential(lambda x: P(A, Ix(x)), x, b), x, alg, grade=1)\n",
    "S3 = lambda A: derivative(lambda b: differential(lambda x: P(A, Ix(x)), x, b), x, alg, Ix=Ix)\n",
    "S(A), S1(A), S2(A), S3(A)"
   ]
  },
  {
   "cell_type": "code",
   "execution_count": 63,
   "metadata": {},
   "outputs": [
    {
     "data": {
      "text/plain": [
       "(0.112 + -0.112 𝐞₁ + -0.0796 𝐞₂ + -0.000243 𝐞₃ + 0.00398 𝐞₁₂ + 0.0927 𝐞₁₃ + 0.091 𝐞₂₃ + -0.119 𝐞₁₂₃,\n",
       " 0.112 + -0.112 𝐞₁ + -0.0796 𝐞₂ + -0.000243 𝐞₃ + 0.00398 𝐞₁₂ + 0.0927 𝐞₁₃ + 0.091 𝐞₂₃ + -0.119 𝐞₁₂₃)"
      ]
     },
     "execution_count": 63,
     "metadata": {},
     "output_type": "execute_result"
    }
   ],
   "source": [
    "#2.15\n",
    "S(1.1*A + 2.2*B), S(1.1*A) + S(2.2*B)"
   ]
  },
  {
   "cell_type": "code",
   "execution_count": 64,
   "metadata": {},
   "outputs": [
    {
     "data": {
      "text/plain": [
       "(-5.68e-11 + 0.00045 𝐞₁₂ + 0.00587 𝐞₁₃ + 0.0161 𝐞₂₃,\n",
       " 0.00045 𝐞₁₂ + 0.00587 𝐞₁₃ + 0.0161 𝐞₂₃)"
      ]
     },
     "execution_count": 64,
     "metadata": {},
     "output_type": "execute_result"
    }
   ],
   "source": [
    "#2.16a\n",
    "ap = P(a, I)\n",
    "ar = a - ap\n",
    "S(ap), derivative(lambda x: P(a, Ix(x)), x, alg, Ix=Ix, operator=alg.op)"
   ]
  },
  {
   "cell_type": "code",
   "execution_count": 65,
   "metadata": {},
   "outputs": [
    {
     "data": {
      "text/plain": [
       "(0.0701 + -2.59e-11 𝐞₁₂ + 6.2e-13 𝐞₁₃ + 5e-13 𝐞₂₃,\n",
       " 0.0701 + -2.59e-11 𝐞₁₂ + 6.22e-13 𝐞₁₃ + 4.99e-13 𝐞₂₃,\n",
       " 0.0701 + 1.4e-11 𝐞₁₂ + -3.36e-13 𝐞₁₃ + -2.7e-13 𝐞₂₃,\n",
       " 0.0701 + 3.82e-20 𝐞₁₂ + -6.91e-20 𝐞₁₃ + -1.46e-21 𝐞₂₃)"
      ]
     },
     "execution_count": 65,
     "metadata": {},
     "output_type": "execute_result"
    }
   ],
   "source": [
    "#2.16b\n",
    "(\n",
    "    S(ar),\n",
    "    P(S(ar), I),\n",
    "    P(S(a), I),\n",
    "    derivative(lambda x: P(a, Ix(x)), x, alg, Ix=Ix, operator=alg.ip)\n",
    "    )"
   ]
  },
  {
   "cell_type": "code",
   "execution_count": 66,
   "metadata": {},
   "outputs": [
    {
     "data": {
      "text/plain": [
       "(-2.59e-11 𝐞₁₂ + 6.2e-13 𝐞₁₃ + 5e-13 𝐞₂₃,\n",
       " -5.68e-11 + 3.98e-20 𝐞₁₂ + -9.55e-22 𝐞₁₃ + -7.67e-22 𝐞₂₃,\n",
       " 7.04e-06 𝐞₁₂ + -0.655 𝐞₁₃ + 0.816 𝐞₂₃,\n",
       " -0.385)"
      ]
     },
     "execution_count": 66,
     "metadata": {},
     "output_type": "execute_result"
    }
   ],
   "source": [
    "#2.17\n",
    "(\n",
    "    derivative(lambda x: P(ar, Ix(x)), x, alg, Ix=Ix, operator=alg.op),\n",
    "    derivative(lambda x: P(ap, Ix(x)), x, alg, Ix=Ix, operator=alg.ip),\n",
    "    derivative(lambda x: P(ar, Ix(x)), x, alg, grade=1, operator=alg.op),\n",
    "    derivative(lambda x: P(ap, Ix(x)), x, alg, grade=1, operator=alg.ip)\n",
    ")"
   ]
  },
  {
   "cell_type": "code",
   "execution_count": 68,
   "metadata": {},
   "outputs": [
    {
     "data": {
      "text/plain": [
       "(0.0701 + -2.59e-11 𝐞₁₂ + 6.2e-13 𝐞₁₃ + 5e-13 𝐞₂₃,\n",
       " 0.0701,\n",
       " -0.00201 𝐞₁ + 0.0025 𝐞₂ + 0.104 𝐞₃,\n",
       " -0.00201 𝐞₁ + 0.0025 𝐞₂ + 0.104 𝐞₃,\n",
       " -0.00201 𝐞₁ + 0.0025 𝐞₂ + 0.104 𝐞₃ + -5.02e-10 𝐞₁₂₃,\n",
       " 0.00328 𝐞₁ + 0.01 𝐞₂ + 0.102 𝐞₃ + 0.000354 𝐞₁₂₃)"
      ]
     },
     "execution_count": 68,
     "metadata": {},
     "output_type": "execute_result"
    }
   ],
   "source": [
    "#2.20 curl tensor/ spur\n",
    "# The derivative is sometimes taken on the embedding space and sometimes on the manifold\n",
    "Sa = lambda a, x: derivative(lambda x: P(a, Ix(x)), x, alg, Ix=Ix, operator=alg.op)\n",
    "N = lambda x: sum(o(lambda x: P(r, Ix(x))) for r, o in derivative_gen(x, alg, Ix))\n",
    "\n",
    "(\n",
    "    S(ar), \n",
    "    N(x) | a, \n",
    "    N(x),\n",
    "    div(lambda a: Sa(a, x), a, alg, grade=1, h=1e-2), \n",
    "    derivative(lambda a: Sa(a, x), a, alg, grade=1, h=1e-2), # this is right\n",
    "    derivative(lambda a: Sa(a, x), a, alg, Ix=Ix, h=1e-2) # this is wrong\n",
    "    )"
   ]
  },
  {
   "cell_type": "code",
   "execution_count": 69,
   "metadata": {},
   "outputs": [
    {
     "data": {
      "text/plain": [
       "(-0.00201 𝐞₁ + 0.0025 𝐞₂ + 0.104 𝐞₃, -0.00201 𝐞₁ + 0.0025 𝐞₂ + 0.104 𝐞₃)"
      ]
     },
     "execution_count": 69,
     "metadata": {},
     "output_type": "execute_result"
    }
   ],
   "source": [
    "#2.20b\n",
    "frame = blade_split(Ix(x), alg)\n",
    "r_frame = reciprocal(frame)\n",
    "pb = lambda A, b: differential(lambda x: P(A, Ix(x)), x, b)\n",
    "dp = 0\n",
    "for a, ar in zip(frame, r_frame):\n",
    "    for b, br in zip(frame, r_frame):\n",
    "        dp += (a | b) * pb(ar, br)\n",
    "N(x), dp"
   ]
  },
  {
   "cell_type": "code",
   "execution_count": 70,
   "metadata": {},
   "outputs": [
    {
     "data": {
      "text/plain": [
       "(0.0406 + 1.83e-20 𝐞₁₂ + -3.99e-20 𝐞₁₃ + -7.75e-22 𝐞₂₃, 0.0406)"
      ]
     },
     "execution_count": 70,
     "metadata": {},
     "output_type": "execute_result"
    }
   ],
   "source": [
    "#2.21\n",
    "a = random_r_blade(1, alg)\n",
    "derivative(lambda x: P(a, Ix(x)), x, alg, Ix=Ix, operator=alg.ip), a | N(x)"
   ]
  },
  {
   "cell_type": "code",
   "execution_count": 71,
   "metadata": {},
   "outputs": [
    {
     "data": {
      "text/plain": [
       "(-5.64e-11,\n",
       " array([0.26843779, 0.26843777, 0.26843781]),\n",
       " 1.01e-09 𝐞₁ + 5.05e-10 𝐞₂ + 7.26e-12 𝐞₃)"
      ]
     },
     "execution_count": 71,
     "metadata": {},
     "output_type": "execute_result"
    }
   ],
   "source": [
    "#2.22\n",
    "ap = P(a, I)\n",
    "ar = a - ap\n",
    "\n",
    "N(x) | ap, terms_ratio(N(x), ar), N(x) | I"
   ]
  },
  {
   "cell_type": "code",
   "execution_count": 72,
   "metadata": {},
   "outputs": [
    {
     "data": {
      "text/plain": [
       "-5.1e-06"
      ]
     },
     "execution_count": 72,
     "metadata": {},
     "output_type": "execute_result"
    }
   ],
   "source": [
    "# Pb() is divergence free\n",
    "div(Pb, a, alg, grade=1)"
   ]
  },
  {
   "cell_type": "code",
   "execution_count": 73,
   "metadata": {},
   "outputs": [
    {
     "data": {
      "text/plain": [
       "-6.74e-06 𝐞₁₂₃"
      ]
     },
     "execution_count": 73,
     "metadata": {},
     "output_type": "execute_result"
    }
   ],
   "source": [
    "#2.23\n",
    "curl(lambda a: Sa(a, x), a, alg, grade=1)"
   ]
  },
  {
   "cell_type": "code",
   "execution_count": 74,
   "metadata": {},
   "outputs": [
    {
     "data": {
      "text/plain": [
       "(0.288 𝐞₁ + -0.349 𝐞₂ + 0.105 𝐞₃, 0.00312 𝐞₁ + 0.00601 𝐞₂ + 0.00502 𝐞₃)"
      ]
     },
     "execution_count": 74,
     "metadata": {},
     "output_type": "execute_result"
    }
   ],
   "source": [
    "#2.27 not hold for a in the embedding space\n",
    "b = random_r_blade(1, alg)\n",
    "Pa = lambda A: differential(lambda x: P(A, Ix(x)), x, a)\n",
    "Pa(b), (P(b, I) | Sa(a, x)) - P(b | Sa(a,x), I)"
   ]
  },
  {
   "cell_type": "code",
   "execution_count": 75,
   "metadata": {},
   "outputs": [
    {
     "data": {
      "text/plain": [
       "(0.00271 𝐞₁ + 0.00511 𝐞₂ + 0.00268 𝐞₃, 0.00271 𝐞₁ + 0.00511 𝐞₂ + 0.00268 𝐞₃)"
      ]
     },
     "execution_count": 75,
     "metadata": {},
     "output_type": "execute_result"
    }
   ],
   "source": [
    "#2.27 but for a in the tangent space\n",
    "b = random_r_blade(1, alg)\n",
    "Pa = lambda A: differential(lambda x: P(A, Ix(x)), x, ap)\n",
    "Pa(b), (P(b, I) | Sa(ap, x)) - P(b | Sa(ap,x), I)"
   ]
  },
  {
   "cell_type": "code",
   "execution_count": 76,
   "metadata": {},
   "outputs": [
    {
     "data": {
      "text/plain": [
       "(-0.000641 𝐞₁ + 0.000799 𝐞₂ + 0.0333 𝐞₃,\n",
       " -0.000641 𝐞₁ + 0.000799 𝐞₂ + 0.0333 𝐞₃)"
      ]
     },
     "execution_count": 76,
     "metadata": {},
     "output_type": "execute_result"
    }
   ],
   "source": [
    "#2.28 holds for a, b in the embedding space\n",
    "a, b = random_r_vectors(2, alg)\n",
    "P(b, I) | Sa(a, x), P(a, I) | Sa(b, x)"
   ]
  },
  {
   "cell_type": "code",
   "execution_count": 77,
   "metadata": {},
   "outputs": [
    {
     "data": {
      "text/plain": [
       "1.01e-10 𝐞₁₂ + -2.41e-12 𝐞₁₃ + -1.94e-12 𝐞₂₃"
      ]
     },
     "execution_count": 77,
     "metadata": {},
     "output_type": "execute_result"
    }
   ],
   "source": [
    "#2.30\n",
    "P(Sa(a,x), I)"
   ]
  },
  {
   "cell_type": "code",
   "execution_count": 78,
   "metadata": {},
   "outputs": [
    {
     "data": {
      "text/plain": [
       "(5.55e-11 + 0.00576 𝐞₁ + -0.00479 𝐞₂ + 0.0283 𝐞₃ + -0.145 𝐞₁₂ + -0.0419 𝐞₁₃ + -0.0495 𝐞₂₃,\n",
       " 4.91e-05 𝐞₁ + 0.00233 𝐞₂ + 0.0354 𝐞₃ + 0.00593 𝐞₁₂ + 0.0122 𝐞₁₃ + -0.00618 𝐞₂₃)"
      ]
     },
     "execution_count": 78,
     "metadata": {},
     "output_type": "execute_result"
    }
   ],
   "source": [
    "#2.33 not for general b\n",
    "Sb = Sa(b, x)\n",
    "Pb = lambda A: differential(lambda x: P(A, Ix(x)), x, b)\n",
    "Pb(A), P(A, I).cp(Sb) - P(A.cp(Sb), I)"
   ]
  },
  {
   "cell_type": "code",
   "execution_count": 79,
   "metadata": {},
   "outputs": [
    {
     "data": {
      "text/plain": [
       "(-1.11e-10 + 4.91e-05 𝐞₁ + 0.00233 𝐞₂ + 0.0354 𝐞₃ + 0.00593 𝐞₁₂ + 0.0122 𝐞₁₃ + -0.00618 𝐞₂₃,\n",
       " 4.91e-05 𝐞₁ + 0.00233 𝐞₂ + 0.0354 𝐞₃ + 0.00593 𝐞₁₂ + 0.0122 𝐞₁₃ + -0.00618 𝐞₂₃)"
      ]
     },
     "execution_count": 79,
     "metadata": {},
     "output_type": "execute_result"
    }
   ],
   "source": [
    "#2.33 but for b in tangent space\n",
    "bp = P(b, I)\n",
    "Sb = Sa(bp, x)\n",
    "Pb = lambda A: differential(lambda x: P(A, Ix(x)), x, bp)\n",
    "Pb(A), P(A, I).cp(Sb) - P(A.cp(Sb), I)"
   ]
  },
  {
   "cell_type": "code",
   "execution_count": 80,
   "metadata": {},
   "outputs": [
    {
     "data": {
      "text/plain": [
       "(-1.11e-10 + -0.000683 𝐞₁ + 0.000851 𝐞₂ + 0.0355 𝐞₃ + 0.000179 𝐞₁₂ + 0.0123 𝐞₁₃ + -0.00607 𝐞₂₃,\n",
       " -0.000683 𝐞₁ + 0.000851 𝐞₂ + 0.0355 𝐞₃ + 0.000179 𝐞₁₂ + 0.0123 𝐞₁₃ + -0.00607 𝐞₂₃,\n",
       " 0.000732 𝐞₁ + 0.00148 𝐞₂ + -2.15e-05 𝐞₃ + 0.00576 𝐞₁₂ + -0.000138 𝐞₁₃ + -0.000111 𝐞₂₃,\n",
       " 0.000732 𝐞₁ + 0.00148 𝐞₂ + -2.15e-05 𝐞₃ + 0.00576 𝐞₁₂ + -0.000138 𝐞₁₃ + -0.000111 𝐞₂₃)"
      ]
     },
     "execution_count": 80,
     "metadata": {},
     "output_type": "execute_result"
    }
   ],
   "source": [
    "#2.34 the commutator product anticommutes\n",
    "Ar = A - Ap\n",
    "Pb(Ap), Ap.cp(Sb), Pb(Ar), P(Sb.cp(A), I)"
   ]
  },
  {
   "cell_type": "code",
   "execution_count": 81,
   "metadata": {},
   "outputs": [
    {
     "data": {
      "text/plain": [
       "(8.55e-11 + 1.02e-10 𝐞₁ + -1.96e-10 𝐞₂ + -1.18e-11 𝐞₃ + 0.00211 𝐞₁₂ + 0.061 𝐞₁₃ + 0.0337 𝐞₂₃ + -0.0476 𝐞₁₂₃,\n",
       " 1.11e-10 𝐞₁ + -1.55e-10 𝐞₂ + 5.86e-12 𝐞₃ + 0.00211 𝐞₁₂ + 0.061 𝐞₁₃ + 0.0337 𝐞₂₃ + -0.0476 𝐞₁₂₃,\n",
       " -2.49e-13 𝐞₁₂ + 1.89e-14 𝐞₁₃ + 1.16e-14 𝐞₂₃ + -4.37e-15 𝐞₁₂₃)"
      ]
     },
     "execution_count": 81,
     "metadata": {},
     "output_type": "execute_result"
    }
   ],
   "source": [
    "#2.35a\n",
    "S(Ap), curl(lambda x: P(A, Ix(x)), x, alg, Ix=Ix), curl(lambda x: P(Ar, Ix(x)), x, alg, Ix=Ix)"
   ]
  },
  {
   "cell_type": "code",
   "execution_count": 82,
   "metadata": {},
   "outputs": [
    {
     "data": {
      "text/plain": [
       "(0.00573 + -0.024 𝐞₁ + -0.0474 𝐞₂ + 0.000673 𝐞₃ + -2.49e-13 𝐞₁₂ + 1.89e-14 𝐞₁₃ + 1.16e-14 𝐞₂₃ + -4.37e-15 𝐞₁₂₃,\n",
       " 0.00573 + -0.024 𝐞₁ + -0.0474 𝐞₂ + 0.000673 𝐞₃ + 3.83e-10 𝐞₁₂ + -9.19e-12 𝐞₁₃ + -7.38e-12 𝐞₂₃,\n",
       " 0.00573 + -0.024 𝐞₁ + -0.0474 𝐞₂ + 0.000673 𝐞₃ + 8.36e-20 𝐞₁₂ + -7.58e-21 𝐞₁₃ + -1.67e-21 𝐞₂₃,\n",
       " 8.55e-11 + -9.19e-12 𝐞₁ + -4.12e-11 𝐞₂ + -1.76e-11 𝐞₃ + 8.37e-20 𝐞₁₂ + -2.01e-21 𝐞₁₃ + -1.61e-21 𝐞₂₃)"
      ]
     },
     "execution_count": 82,
     "metadata": {},
     "output_type": "execute_result"
    }
   ],
   "source": [
    "#2.35b\n",
    "S(Ar), P(S(A), I), div(lambda x: P(A, Ix(x)), x, alg, Ix=Ix), div(lambda x: P(Ap, Ix(x)), x, alg, Ix=Ix)"
   ]
  },
  {
   "cell_type": "code",
   "execution_count": 83,
   "metadata": {},
   "outputs": [
    {
     "data": {
      "text/plain": [
       "(0.00573 + -0.024 𝐞₁ + -0.0474 𝐞₂ + 0.000673 𝐞₃ + 0.00211 𝐞₁₂ + 0.061 𝐞₁₃ + 0.0337 𝐞₂₃ + -0.0476 𝐞₁₂₃,\n",
       " -9.19e-12 𝐞₁ + -4.12e-11 𝐞₂ + -1.76e-11 𝐞₃ + -0.0476 𝐞₁₂₃,\n",
       " -0.024 𝐞₁ + -0.0474 𝐞₂ + 0.000673 𝐞₃)"
      ]
     },
     "execution_count": 83,
     "metadata": {},
     "output_type": "execute_result"
    }
   ],
   "source": [
    "#2.36\n",
    "S(A), S(Ap.grade(2)), P(S(A.grade(2)), I)"
   ]
  },
  {
   "cell_type": "code",
   "execution_count": 84,
   "metadata": {},
   "outputs": [
    {
     "data": {
      "text/plain": [
       "(9.704598422657416, 2.795476648867301)"
      ]
     },
     "execution_count": 84,
     "metadata": {},
     "output_type": "execute_result"
    }
   ],
   "source": [
    "# Ix expands and shrinks, so 2.42 fails\n",
    "norm(Ix(c2e(0.5, 1))), norm(I)"
   ]
  },
  {
   "cell_type": "code",
   "execution_count": 85,
   "metadata": {},
   "outputs": [
    {
     "data": {
      "text/plain": [
       "(89.7 𝐞₁₂ + -4.31 𝐞₁₃ + -3.68 𝐞₂₃, 89.8 𝐞₁₂ + -2.15 𝐞₁₃ + -1.73 𝐞₂₃)"
      ]
     },
     "execution_count": 85,
     "metadata": {},
     "output_type": "execute_result"
    }
   ],
   "source": [
    "#2.42\n",
    "dI = differential(Ix, x, a)\n",
    "dI, P(dI, I)"
   ]
  },
  {
   "cell_type": "code",
   "execution_count": 86,
   "metadata": {},
   "outputs": [
    {
     "data": {
      "text/plain": [
       "(-0.032 𝐞₁₂ + -0.772 𝐞₁₃ + -0.698 𝐞₂₃,\n",
       " -5.16e-11 𝐞₁₂ + 1.24e-12 𝐞₁₃ + 9.94e-13 𝐞₂₃)"
      ]
     },
     "execution_count": 86,
     "metadata": {},
     "output_type": "execute_result"
    }
   ],
   "source": [
    "#2.42 holds if Ix is normalized,\n",
    "# So the result comes from differentiating (I**2 = constant),\n",
    "# but not from (I*inv(I) = constant)\n",
    "nIx = lambda x: normalize(Ix(x))\n",
    "dI = differential(nIx, x, a)\n",
    "dI, P(dI, I)"
   ]
  },
  {
   "cell_type": "code",
   "execution_count": 87,
   "metadata": {},
   "outputs": [
    {
     "data": {
      "text/plain": [
       "-0.032 𝐞₁₂ + -0.772 𝐞₁₃ + -0.698 𝐞₂₃"
      ]
     },
     "execution_count": 87,
     "metadata": {},
     "output_type": "execute_result"
    }
   ],
   "source": [
    "#2.43\n",
    "Pa = lambda A: differential(lambda x: P(A, (nIx(x))), x, a)\n",
    "I = nIx(x)\n",
    "Pa(I)"
   ]
  },
  {
   "cell_type": "code",
   "execution_count": 88,
   "metadata": {},
   "outputs": [
    {
     "data": {
      "text/plain": [
       "(1.62e-10 𝐞₁ + 8.47e-12 𝐞₂ + -3.16e-11 𝐞₃ + -0.104 𝐞₁₂₃,\n",
       " -1.48e-10 𝐞₁ + 1.75e-10 𝐞₂ + -4.33e-11 𝐞₃ + -0.104 𝐞₁₂₃)"
      ]
     },
     "execution_count": 88,
     "metadata": {},
     "output_type": "execute_result"
    }
   ],
   "source": [
    "#2.44\n",
    "derivative(nIx, x, alg, Ix=Ix), S(I)"
   ]
  },
  {
   "cell_type": "code",
   "execution_count": 89,
   "metadata": {},
   "outputs": [
    {
     "data": {
      "text/plain": [
       "(8.55e-11 + 1.02e-10 𝐞₁ + -1.96e-10 𝐞₂ + -1.18e-11 𝐞₃ + 0.00211 𝐞₁₂ + 0.061 𝐞₁₃ + 0.0337 𝐞₂₃ + -0.0476 𝐞₁₂₃,\n",
       " 8.55e-11 + 1.01e-10 𝐞₁ + -1.96e-10 𝐞₂ + 6.66e-12 𝐞₃ + -2.47e-10 𝐞₁₂ + 5.93e-12 𝐞₁₃ + 4.76e-12 𝐞₂₃)"
      ]
     },
     "execution_count": 89,
     "metadata": {},
     "output_type": "execute_result"
    }
   ],
   "source": [
    "#2.45\n",
    "S(P(A, I)), P(S(P(A, I)), I)"
   ]
  },
  {
   "cell_type": "code",
   "execution_count": 90,
   "metadata": {},
   "outputs": [
    {
     "data": {
      "text/plain": [
       "(-1.91e-12 + -0.00251 𝐞₁ + -0.00217 𝐞₂ + 3.62e-06 𝐞₃ + -1.07e-13 𝐞₁₂ + 6.53e-12 𝐞₁₃ + -8.07e-12 𝐞₂₃ + 2.58e-11 𝐞₁₂₃,\n",
       " -1.91e-12 + -0.00251 𝐞₁ + -0.00217 𝐞₂ + 3.62e-06 𝐞₃ + -1.08e-13 𝐞₁₂ + 2.59e-15 𝐞₁₃ + 2.08e-15 𝐞₂₃,\n",
       " -2.88e-12 + 4.33e-13 𝐞₁ + -3.64e-12 𝐞₂ + 9.56e-14 𝐞₃ + -7.32e-05 𝐞₁₂ + -0.0015 𝐞₁₃ + -0.00193 𝐞₂₃ + 2.6e-14 𝐞₁₂₃,\n",
       " -4.04e-28 + 1.73e-18 𝐞₁ + -2.17e-18 𝐞₂ + -7.69e-17 𝐞₃ + -7.32e-05 𝐞₁₂ + -0.0015 𝐞₁₃ + -0.00193 𝐞₂₃ + -4e-11 𝐞₁₂₃,\n",
       " 1.87e-11 + 8.67e-13 𝐞₁ + -1.22e-20 𝐞₂ + 1.67e-14 𝐞₃ + -7.32e-05 𝐞₁₂ + -0.0015 𝐞₁₃ + -0.00193 𝐞₂₃ + -4e-11 𝐞₁₂₃)"
      ]
     },
     "execution_count": 90,
     "metadata": {},
     "output_type": "execute_result"
    }
   ],
   "source": [
    "#2.46\n",
    "Pr = lambda X, A: X - P(X, A)\n",
    "S(S(P(A, I))), P(S(S(P(A, I))), I), S(S(Ar)), Pr(S(S(A)), I), S(P(S(A), I))"
   ]
  },
  {
   "cell_type": "code",
   "execution_count": null,
   "metadata": {},
   "outputs": [],
   "source": []
  }
 ],
 "metadata": {
  "kernelspec": {
   "display_name": "Python 3",
   "language": "python",
   "name": "python3"
  },
  "language_info": {
   "codemirror_mode": {
    "name": "ipython",
    "version": 3
   },
   "file_extension": ".py",
   "mimetype": "text/x-python",
   "name": "python",
   "nbconvert_exporter": "python",
   "pygments_lexer": "ipython3",
   "version": "3.10.5"
  }
 },
 "nbformat": 4,
 "nbformat_minor": 2
}
