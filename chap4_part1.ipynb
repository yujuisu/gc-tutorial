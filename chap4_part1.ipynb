{
 "cells": [
  {
   "cell_type": "code",
   "execution_count": 1,
   "metadata": {},
   "outputs": [
    {
     "data": {
      "text/plain": [
       "(0.909 𝐞₁₃ + 0.416 𝐞₂₃, -4.21 𝐞₁₂₃, -6.66e-16 𝐞₁₂₃)"
      ]
     },
     "execution_count": 1,
     "metadata": {},
     "output_type": "execute_result"
    }
   ],
   "source": [
    "#1.3\n",
    "# Let M be a cylinder in R3, x^2 + y^2 = 1\n",
    "# x = cos(p)*e1 + sin(p)*e2 + z*e3, p, z in R\n",
    "\n",
    "from gc_utils import *\n",
    "alg = Algebra(3)\n",
    "locals().update(alg.blades)\n",
    "\n",
    "c2e = lambda p, z: np.cos(p)*e1 + np.sin(p)*e2 + z*e3\n",
    "e_p = lambda p: -np.sin(p)*e1 + np.cos(p)*e2\n",
    "def Ix(x):\n",
    "    p = np.arctan(x.e2/x.e1)\n",
    "    return e_p(p) ^ e3\n",
    "x = c2e(2, 3)\n",
    "I = Ix(x)\n",
    "\n",
    "I, I ^ (3*e3 + 5* e_p(1)), I ^ (3*e3 + 5* e_p(2))"
   ]
  },
  {
   "cell_type": "code",
   "execution_count": 2,
   "metadata": {},
   "outputs": [
    {
     "data": {
      "text/plain": [
       "(0.228 + 0.848 𝐞₁ + 0.178 𝐞₂ + 0.457 𝐞₃ + 0.741 𝐞₁₂ + 0.216 𝐞₁₃ + 0.266 𝐞₂₃ + 0.831 𝐞₁₂₃,\n",
       " 0.228 + 0.768 𝐞₁ + 0.352 𝐞₂ + 0.457 𝐞₃ + 0.28 𝐞₁₃ + 0.128 𝐞₂₃,\n",
       " 0.101 𝐞₁ + 0.997 𝐞₂ + 0.186 𝐞₃,\n",
       " 0.461 𝐞₁ + 0.211 𝐞₂ + 0.186 𝐞₃)"
      ]
     },
     "execution_count": 2,
     "metadata": {},
     "output_type": "execute_result"
    }
   ],
   "source": [
    "#1.4\n",
    "A, B, C, D = [random_multivector(alg) for _ in range(4)]\n",
    "a, b, c, d = random_r_vectors(4, alg)\n",
    "A, P(A, I), a, P(a, I)"
   ]
  },
  {
   "cell_type": "code",
   "execution_count": 3,
   "metadata": {},
   "outputs": [
    {
     "data": {
      "text/plain": [
       "(1.14 + -0.802 𝐞₁ + 1.69 𝐞₂ + 2.91 𝐞₃ + 4.51 𝐞₁₂ + 3.0 𝐞₁₃ + 1.22 𝐞₂₃ + 5.6 𝐞₁₂₃,\n",
       " 1.14 + -0.802 𝐞₁ + 1.69 𝐞₂ + 2.91 𝐞₃ + 4.51 𝐞₁₂ + 3.0 𝐞₁₃ + 1.22 𝐞₂₃ + 5.6 𝐞₁₂₃)"
      ]
     },
     "execution_count": 3,
     "metadata": {},
     "output_type": "execute_result"
    }
   ],
   "source": [
    "#1.5\n",
    "x = c2e(2, 3)\n",
    "xt = lambda t: x + (C*t*D).grade(1)\n",
    "a = differential(xt, 0, 1)\n",
    "F = lambda x: A * x * x * B\n",
    "differential(F, x, a), differential(lambda t: F(xt(t)), 0, 1)"
   ]
  },
  {
   "cell_type": "code",
   "execution_count": 4,
   "metadata": {},
   "outputs": [
    {
     "data": {
      "text/plain": [
       "(-1.16 + 1.35 𝐞₁ + -3.27 𝐞₂ + -1.93 𝐞₃ + -4.46 𝐞₁₂ + -2.26 𝐞₁₃ + -2.66 𝐞₂₃ + -4.62 𝐞₁₂₃,\n",
       " -1.18 + 1.36 𝐞₁ + -3.27 𝐞₂ + -1.95 𝐞₃ + -4.47 𝐞₁₂ + -2.27 𝐞₁₃ + -2.67 𝐞₂₃ + -4.65 𝐞₁₂₃,\n",
       " -0.0275 + 0.0319 𝐞₁ + -0.0768 𝐞₂ + -0.0456 𝐞₃ + -0.105 𝐞₁₂ + -0.0531 𝐞₁₃ + -0.0626 𝐞₂₃ + -0.109 𝐞₁₂₃)"
      ]
     },
     "execution_count": 4,
     "metadata": {},
     "output_type": "execute_result"
    }
   ],
   "source": [
    "#1.5\n",
    "y = c2e(2.02, 2.99)\n",
    "a = (y - x) / norm(y - x)\n",
    "pa = P(a, Ix(x))\n",
    "F = lambda x: A * x * x * B + C * x * D\n",
    "differential(F, x, pa), differential(F, x, a), (F(y) - F(x))/norm(d)"
   ]
  },
  {
   "cell_type": "code",
   "execution_count": 5,
   "metadata": {},
   "outputs": [
    {
     "data": {
      "text/plain": [
       "(4.78 + -5.51 𝐞₁ + -2.63 𝐞₂ + 3.75 𝐞₃ + 12.8 𝐞₁₂ + 1.08 𝐞₁₃ + -4.91 𝐞₂₃ + 10.6 𝐞₁₂₃,\n",
       " [0.752 𝐞₁ + 0.344 𝐞₂, 1.0 𝐞₃],\n",
       " [0.752 𝐞₁ + 0.344 𝐞₂, 1.0 𝐞₃])"
      ]
     },
     "execution_count": 5,
     "metadata": {},
     "output_type": "execute_result"
    }
   ],
   "source": [
    "#1.7 a local frame at x\n",
    "frame = blade_split(I, alg)\n",
    "r_frame = reciprocal(frame)\n",
    "derivative(F, x, alg, frame=frame, r_frame=r_frame), frame, [P(v, I) for v in frame]"
   ]
  },
  {
   "cell_type": "code",
   "execution_count": 20,
   "metadata": {},
   "outputs": [
    {
     "data": {
      "text/plain": [
       "(5.54e+02 + 21.0 𝐞₁ + -2.14e+02 𝐞₂ + 7.57e+02 𝐞₃ + -5.24e+02 𝐞₁₂ + 5.31e+02 𝐞₁₃ + -2.09e+02 𝐞₂₃ + -5.8e+02 𝐞₁₂₃,\n",
       " 5.54e+02 + 21.0 𝐞₁ + -2.14e+02 𝐞₂ + 7.57e+02 𝐞₃ + -5.24e+02 𝐞₁₂ + 5.31e+02 𝐞₁₃ + -2.09e+02 𝐞₂₃ + -5.8e+02 𝐞₁₂₃)"
      ]
     },
     "execution_count": 20,
     "metadata": {},
     "output_type": "execute_result"
    }
   ],
   "source": [
    "#1.9\n",
    "G = lambda x: C*x*x*D\n",
    "T = lambda a, F, G: F*a*G\n",
    "dF = differential(F, x, pa)\n",
    "dG = differential(G, x, pa)\n",
    "dTa = differential(lambda a: T(a, F(a), G(a)), x, pa)\n",
    " \n",
    "differential(lambda a: T(a, F(x), G(x)), x, pa), dTa - T(x, dF, G(x)) - T(x, F(x), dG)"
   ]
  },
  {
   "cell_type": "code",
   "execution_count": 7,
   "metadata": {},
   "outputs": [
    {
     "data": {
      "text/plain": [
       "(3.48 + -2.45 𝐞₁ + 5.16 𝐞₂ + 8.86 𝐞₃ + 13.7 𝐞₁₂ + 9.16 𝐞₁₃ + 3.72 𝐞₂₃ + 17.1 𝐞₁₂₃,\n",
       " 3.48 + -2.45 𝐞₁ + 5.16 𝐞₂ + 8.86 𝐞₃ + 13.7 𝐞₁₂ + 9.16 𝐞₁₃ + 3.72 𝐞₂₃ + 17.1 𝐞₁₂₃,\n",
       " 9.94 + -4.41 𝐞₁ + 14.3 𝐞₂ + 18.8 𝐞₃ + 33.5 𝐞₁₂ + 19.8 𝐞₁₃ + 9.28 𝐞₂₃ + 40.6 𝐞₁₂₃,\n",
       " 3.48 + -2.45 𝐞₁ + 5.16 𝐞₂ + 8.86 𝐞₃ + 13.7 𝐞₁₂ + 9.16 𝐞₁₃ + 3.72 𝐞₂₃ + 17.1 𝐞₁₂₃)"
      ]
     },
     "execution_count": 7,
     "metadata": {},
     "output_type": "execute_result"
    }
   ],
   "source": [
    "#1.10\n",
    "ax = lambda x: P(x-c, Ix(x))\n",
    "a = ax(x)\n",
    "bx = lambda x: P(x-d, Ix(x))\n",
    "b = bx(x)\n",
    "(\n",
    "    differential(lambda x: differential(F, x, a), x, b, h=1e-2),\n",
    "    differential(lambda x: differential(F, x, b), x, a, h=1e-2),\n",
    "    differential(lambda x: differential(F, x, ax(x)), x, b, h=1e-2),\n",
    "    differential(lambda x: differential(F, x, ax(x)), x, b, h=1e-2) - differential(F, x, differential(ax, x, b), h=1e-2),\n",
    "    )\n"
   ]
  },
  {
   "cell_type": "code",
   "execution_count": 8,
   "metadata": {},
   "outputs": [
    {
     "data": {
      "text/plain": [
       "(-0.742 𝐞₁ + -0.339 𝐞₂ + 2.17 𝐞₃, -0.515 𝐞₁ + -0.236 𝐞₂ + 2.24 𝐞₃)"
      ]
     },
     "execution_count": 8,
     "metadata": {},
     "output_type": "execute_result"
    }
   ],
   "source": [
    "a, b"
   ]
  },
  {
   "cell_type": "code",
   "execution_count": 9,
   "metadata": {},
   "outputs": [
    {
     "data": {
      "text/plain": []
     },
     "execution_count": 9,
     "metadata": {},
     "output_type": "execute_result"
    }
   ],
   "source": [
    "#1.11\n",
    "grade = 1\n",
    "sum(P(v1 ^ v2, I) * differential(lambda x: differential(F, x, r2), x, r1) for (v1, v2), (r1, r2) in zip(permutations(frame, r=2), permutations(r_frame, r=2)))"
   ]
  },
  {
   "cell_type": "code",
   "execution_count": 10,
   "metadata": {},
   "outputs": [
    {
     "data": {
      "text/plain": [
       "(9.94 + -4.41 𝐞₁ + 14.3 𝐞₂ + 18.8 𝐞₃ + 33.5 𝐞₁₂ + 19.8 𝐞₁₃ + 9.28 𝐞₂₃ + 40.6 𝐞₁₂₃,\n",
       " 9.59 + -4.7 𝐞₁ + 14.6 𝐞₂ + 18.3 𝐞₃ + 33.0 𝐞₁₂ + 19.4 𝐞₁₃ + 9.72 𝐞₂₃ + 39.6 𝐞₁₂₃,\n",
       " 0.343 + 0.293 𝐞₁ + -0.296 𝐞₂ + 0.511 𝐞₃ + 0.497 𝐞₁₂ + 0.385 𝐞₁₃ + -0.446 𝐞₂₃ + 0.979 𝐞₁₂₃,\n",
       " 0.343 + 0.293 𝐞₁ + -0.296 𝐞₂ + 0.511 𝐞₃ + 0.495 𝐞₁₂ + 0.384 𝐞₁₃ + -0.445 𝐞₂₃ + 0.976 𝐞₁₂₃)"
      ]
     },
     "execution_count": 10,
     "metadata": {},
     "output_type": "execute_result"
    }
   ],
   "source": [
    "#1.12\n",
    "def lie_bracket(ax, bx):\n",
    "    return lambda x: differential(ax, x, bx(x)) - differential(bx, x, ax(x))\n",
    "\n",
    "lie = lie_bracket(ax, bx)\n",
    "(\n",
    "    differential(lambda x: differential(F, x, ax(x)), x, b),\n",
    "    differential(lambda x: differential(F, x, bx(x)), x, a),\n",
    "    differential(lambda x: differential(F, x, ax(x)), x, b) - differential(lambda x: differential(F, x, bx(x)), x, a),\n",
    "    differential(F, x, lie(x))\n",
    "    )"
   ]
  },
  {
   "cell_type": "code",
   "execution_count": 11,
   "metadata": {},
   "outputs": [
    {
     "data": {
      "text/plain": [
       "(0.264 𝐞₁ + -0.387 𝐞₂ + 2.17 𝐞₃,\n",
       " -0.126 𝐞₁ + -0.566 𝐞₂ + 2.24 𝐞₃,\n",
       " -0.389 𝐞₁ + -0.178 𝐞₂ + 0.073 𝐞₃)"
      ]
     },
     "execution_count": 11,
     "metadata": {},
     "output_type": "execute_result"
    }
   ],
   "source": [
    "# lie_bracket\n",
    "(    \n",
    "    differential(bx, x, a),\n",
    "    differential(ax, x, b),\n",
    "    lie(x),\n",
    "    )"
   ]
  },
  {
   "cell_type": "code",
   "execution_count": 12,
   "metadata": {},
   "outputs": [
    {
     "data": {
      "text/plain": [
       "(4.78 + -5.51 𝐞₁ + -2.63 𝐞₂ + 3.75 𝐞₃ + 12.8 𝐞₁₂ + 1.08 𝐞₁₃ + -4.91 𝐞₂₃ + 10.6 𝐞₁₂₃,\n",
       " 4.78 + -5.52 𝐞₁ + -2.62 𝐞₂ + 3.75 𝐞₃ + 12.8 𝐞₁₂ + 1.08 𝐞₁₃ + -4.91 𝐞₂₃ + 10.6 𝐞₁₂₃)"
      ]
     },
     "execution_count": 12,
     "metadata": {},
     "output_type": "execute_result"
    }
   ],
   "source": [
    "#1.17\n",
    "(\n",
    "    derivative(F, x, alg, frame=frame, r_frame=r_frame), \n",
    "    derivative(lambda a: differential(F, x, a), 0, alg, frame=frame, r_frame=r_frame),\n",
    "    )"
   ]
  },
  {
   "cell_type": "code",
   "execution_count": 13,
   "metadata": {},
   "outputs": [
    {
     "data": {
      "text/plain": [
       "(5.78 + -7.47 𝐞₁ + -1.93 𝐞₂ + 3.72 𝐞₃ + 13.5 𝐞₁₂ + -3.15 𝐞₁₃ + -3.49 𝐞₂₃ + 8.51 𝐞₁₂₃,\n",
       " 4.78 + -5.51 𝐞₁ + -2.63 𝐞₂ + 3.75 𝐞₃ + 12.8 𝐞₁₂ + 1.08 𝐞₁₃ + -4.91 𝐞₂₃ + 10.6 𝐞₁₂₃,\n",
       " 4.78 + -5.51 𝐞₁ + -2.63 𝐞₂ + 3.75 𝐞₃ + 12.8 𝐞₁₂ + 1.08 𝐞₁₃ + -4.91 𝐞₂₃ + 10.6 𝐞₁₂₃)"
      ]
     },
     "execution_count": 13,
     "metadata": {},
     "output_type": "execute_result"
    }
   ],
   "source": [
    "p_frame = [P(v, Ix(x)) for v in alg.frame]\n",
    "(\n",
    "    derivative(F, x, alg, grade=1), \n",
    "    derivative(F, x, alg, frame=frame, r_frame=r_frame), \n",
    "    derivative(F, x, alg, frame=p_frame, r_frame=reciprocal(alg.frame))\n",
    "    )"
   ]
  },
  {
   "cell_type": "code",
   "execution_count": 14,
   "metadata": {},
   "outputs": [
    {
     "data": {
      "text/plain": [
       "(4.29 + -3.33 𝐞₁ + -2.17 𝐞₂ + 2.37 𝐞₃ + 7.26 𝐞₁₂ + 2.01 𝐞₁₃ + -1.9 𝐞₂₃ + 5.46 𝐞₁₂₃,\n",
       " 4.29 + -3.33 𝐞₁ + -2.17 𝐞₂ + 2.37 𝐞₃ + 7.26 𝐞₁₂ + 2.01 𝐞₁₃ + -1.9 𝐞₂₃ + 5.46 𝐞₁₂₃,\n",
       " 3.34 + -3.19 𝐞₁ + -1.93 𝐞₂ + 1.57 𝐞₃ + 7.14 𝐞₁₂ + 1.73 𝐞₁₃ + -1.81 𝐞₂₃ + 5.81 𝐞₁₂₃,\n",
       " 0.558 + 0.248 𝐞₁ + 0.877 𝐞₂ + 1.95 𝐞₃ + 0.689 𝐞₁₂ + 1.09 𝐞₁₃ + 2.31 𝐞₂₃ + -0.364 𝐞₁₂₃,\n",
       " 3.74 + -3.58 𝐞₁ + -3.05 𝐞₂ + 0.415 𝐞₃ + 6.57 𝐞₁₂ + 0.927 𝐞₁₃ + -4.21 𝐞₂₃ + 5.83 𝐞₁₂₃,\n",
       " -0.397 + 0.394 𝐞₁ + 1.11 𝐞₂ + 1.16 𝐞₃ + 0.569 𝐞₁₂ + 0.807 𝐞₁₃ + 2.39 𝐞₂₃ + -0.0171 𝐞₁₂₃,\n",
       " 3.74 + -3.58 𝐞₁ + -3.04 𝐞₂ + 0.416 𝐞₃ + 6.57 𝐞₁₂ + 0.927 𝐞₁₃ + -4.21 𝐞₂₃ + 5.83 𝐞₁₂₃)"
      ]
     },
     "execution_count": 14,
     "metadata": {},
     "output_type": "execute_result"
    }
   ],
   "source": [
    "#1.18 dy is independent of x, so the dependence of x shifts to P; PbdFa does not equal to PbdFy, \n",
    "\n",
    "def dF(x):\n",
    "    frame = blade_split(Ix(x), alg)\n",
    "    r_frame = reciprocal(frame)\n",
    "    return derivative(F, x, alg, frame=frame, r_frame=r_frame)\n",
    "\n",
    "pb_frame = [differential(lambda x: P(v, Ix(x)), x, b) for v in alg.frame]\n",
    "pba_frame = [differential(lambda x: P(v, Ix(x)), x, b) for v in frame]\n",
    "p_frame = [P(v, Ix(x)) for v in alg.frame]\n",
    "Fab = lambda a: differential(lambda x: differential(F, x, a), x, b, h=1e-3)\n",
    "PbdFy = derivative(F, x, alg, frame=pb_frame, r_frame=reciprocal(alg.frame))\n",
    "dyFab = derivative(Fab, x, alg, frame=p_frame, r_frame=reciprocal(alg.frame), h=1e-3)\n",
    "PbdFa = derivative(F, x, alg, frame=pba_frame, r_frame=r_frame)\n",
    "daFab = derivative(Fab, x, alg, frame=frame, r_frame=r_frame, h=1e-3)\n",
    "(\n",
    "    differential(dF, x, b, h=1e-3),\n",
    "    PbdFy + dyFab, \n",
    "    PbdFa + daFab,\n",
    "    PbdFy, dyFab, PbdFa, daFab\n",
    "    )"
   ]
  },
  {
   "cell_type": "code",
   "execution_count": 15,
   "metadata": {},
   "outputs": [
    {
     "data": {
      "text/plain": [
       "(3.27 + -2.4 𝐞₁ + 5.22 𝐞₂ + 5.74 𝐞₃ + 8.83 𝐞₁₂ + 5.36 𝐞₁₃ + 4.15 𝐞₂₃ + 10.9 𝐞₁₂₃,\n",
       " 2.38 + -1.75 𝐞₁ + 4.84 𝐞₂ + 3.86 𝐞₃ + 7.91 𝐞₁₂ + 4.2 𝐞₁₃ + 3.64 𝐞₂₃ + 8.88 𝐞₁₂₃)"
      ]
     },
     "execution_count": 15,
     "metadata": {},
     "output_type": "execute_result"
    }
   ],
   "source": [
    "# The assumption F_y = F_P(y) not hold here, because F extends to the embedding space\n",
    "# F_y = F_P(y) only under the differential within I(x), and if so, contradicts the independence of x\n",
    "differential(F, x, c), differential(F, x, P(c, I))"
   ]
  },
  {
   "cell_type": "code",
   "execution_count": 47,
   "metadata": {},
   "outputs": [
    {
     "data": {
      "text/plain": [
       "-3.34 + -0.389 𝐞₁ + 1.49 𝐞₂ + -4.17 𝐞₃ + 9.12 𝐞₁₂ + -5.73 𝐞₁₃ + 1.59 𝐞₂₃ + 4.64 𝐞₁₂₃"
      ]
     },
     "execution_count": 47,
     "metadata": {},
     "output_type": "execute_result"
    }
   ],
   "source": [
    "#1.19a\n",
    "T = lambda x, A, B: C * A * x *B * D + C * A * x + B * D\n",
    "def Q(x, A):\n",
    "    vec_frame = blade_split(Ix(x), alg)\n",
    "    frame = multi_frame(vec_frame)\n",
    "    r_frame = reci_frame(vec_frame)\n",
    "    return derivative(lambda B: T(x, A, B) , B, alg, frame=frame, r_frame=r_frame)   \n",
    "\n",
    "Q(x, A)"
   ]
  },
  {
   "cell_type": "code",
   "execution_count": 48,
   "metadata": {},
   "outputs": [
    {
     "data": {
      "text/plain": [
       "(-3.92 + -1.35 𝐞₁ + -4.9 𝐞₂ + -7.73 𝐞₃ + -3.64 𝐞₁₂ + -1.21 𝐞₁₃ + -0.347 𝐞₂₃ + -2.89 𝐞₁₂₃,\n",
       " 1.13e-09 + -1.04e-09 𝐞₁ + 2.08e-10 𝐞₂ + -8.38e-10 𝐞₃ + -9.84e-10 𝐞₁₂ + -4.5e-10 𝐞₁₃ + -4.32e-10 𝐞₂₃ + -3.94e-10 𝐞₁₂₃,\n",
       " -20.2 + 7.84 𝐞₁ + -13.7 𝐞₂ + -1.61 𝐞₃ + 16.5 𝐞₁₂ + 3.3 𝐞₁₃ + -11.7 𝐞₂₃ + 10.6 𝐞₁₂₃)"
      ]
     },
     "execution_count": 48,
     "metadata": {},
     "output_type": "execute_result"
    }
   ],
   "source": [
    "#1.19b FIXME PbdTB goes zero\n",
    "frame = multi_frame(alg.frame)\n",
    "r_frame = reci_frame(alg.frame)\n",
    "pb_frame = [differential(lambda x: P(v, Ix(x)), x, b) for v in frame]\n",
    "p_frame = [P(v, Ix(x)) for v in frame]\n",
    "Tb = lambda B: differential(lambda x: T(x, B, A), x, b, h=1e-3)\n",
    "PbdTB = derivative(lambda B: T(x, A, B), B, alg, r_frame=pb_frame, frame=r_frame)\n",
    "dBTb = derivative(Tb, B, alg, frame=p_frame, r_frame=r_frame, h=1e-3)\n",
    "# vec_frame = blade_split(Ix(x), alg)\n",
    "# frame = multi_frame(vec_frame)\n",
    "# r_frame = reci_frame(vec_frame)\n",
    "# dBTb2 = derivative(Tb, B, alg, frame=frame, r_frame=r_frame, h=1e-3)\n",
    "\n",
    "differential(lambda x: Q(x, A), x, b), PbdTB, dBTb, "
   ]
  },
  {
   "cell_type": "code",
   "execution_count": 46,
   "metadata": {},
   "outputs": [
    {
     "data": {
      "text/plain": [
       "(6.23 + 3.76 𝐞₁ + 5.55 𝐞₂ + 12.4 𝐞₃ + 7.87 𝐞₁₂ + 4.3 𝐞₁₃ + 7.08 𝐞₂₃ + 5.32 𝐞₁₂₃,\n",
       " 6.23 + 3.76 𝐞₁ + 5.55 𝐞₂ + 12.4 𝐞₃ + 7.87 𝐞₁₂ + 4.3 𝐞₁₃ + 7.08 𝐞₂₃ + 5.32 𝐞₁₂₃)"
      ]
     },
     "execution_count": 46,
     "metadata": {},
     "output_type": "execute_result"
    }
   ],
   "source": [
    "#1.20\n",
    "T = lambda x, A: x ** 2 * A * C + B*A*x\n",
    "frame = blade_split(Ix(x), alg)\n",
    "r_frame = reciprocal(frame)\n",
    "sum(differential(lambda x: T(x, alg.ip(B,r)), x, v) for v, r in zip(frame, r_frame)), sum(differential(lambda x: T(x, alg.ip(B,r)), x, v) for v, r in zip(r_frame, frame))"
   ]
  },
  {
   "cell_type": "code",
   "execution_count": 55,
   "metadata": {},
   "outputs": [
    {
     "data": {
      "text/plain": [
       "(21.5 + -8.64 𝐞₁ + -6.43 𝐞₂ + 9.72 𝐞₃ + 13.6 𝐞₁₂ + 13.5 𝐞₁₃ + -2.47 𝐞₂₃ + 9.62 𝐞₁₂₃,\n",
       " 21.5 + -8.64 𝐞₁ + -6.43 𝐞₂ + 9.72 𝐞₃ + 13.6 𝐞₁₂ + 13.5 𝐞₁₃ + -2.47 𝐞₂₃ + 9.62 𝐞₁₂₃)"
      ]
     },
     "execution_count": 55,
     "metadata": {},
     "output_type": "execute_result"
    }
   ],
   "source": [
    "#1.20 run several times to see it's independent of frame\n",
    "T = lambda x, A: x ** 2 * A * C + B*A*x\n",
    "vecs = random_r_vectors(3, alg)\n",
    "frame = multi_frame(vecs)\n",
    "r_frame = reci_frame(vecs)\n",
    "sum(differential(lambda x: T(x, alg.ip(B,r)), x, v) for v, r in zip(frame, r_frame)), sum(differential(lambda x: T(x, alg.ip(B,r)), x, v) for v, r in zip(r_frame, frame))"
   ]
  },
  {
   "cell_type": "code",
   "execution_count": 89,
   "metadata": {},
   "outputs": [
    {
     "data": {
      "text/plain": [
       "(13.0 + 2.58 𝐞₁ + 9.8 𝐞₂ + 5.37 𝐞₃ + 0.658 𝐞₁₂ + 12.4 𝐞₁₃ + 10.4 𝐞₂₃ + 9.47 𝐞₁₂₃,\n",
       " 13.0 + 2.58 𝐞₁ + 9.8 𝐞₂ + 5.37 𝐞₃ + 0.658 𝐞₁₂ + 12.4 𝐞₁₃ + 10.4 𝐞₂₃ + 9.47 𝐞₁₂₃,\n",
       " 0.249 + -2.15 𝐞₁ + -1.35 𝐞₂ + -4.58 𝐞₃ + -2.3 𝐞₁₂ + -0.358 𝐞₁₃ + -2.84 𝐞₂₃ + -1.29 𝐞₁₂₃,\n",
       " 0.249 + -2.15 𝐞₁ + -1.35 𝐞₂ + -4.58 𝐞₃ + -2.3 𝐞₁₂ + -0.358 𝐞₁₃ + -2.84 𝐞₂₃ + -1.29 𝐞₁₂₃)"
      ]
     },
     "execution_count": 89,
     "metadata": {},
     "output_type": "execute_result"
    }
   ],
   "source": [
    "#1.23\n",
    "def d(T, x, B, Ix, h=1e-6):\n",
    "    frame = blade_split(Ix(x), alg)\n",
    "    r_frame = reciprocal(frame)\n",
    "    return sum(differential(lambda x: T(x, alg.ip(B,r)), x, v, h=h) for v, r in zip(frame, r_frame))\n",
    "\n",
    "(   \n",
    "    d(T, x, a, Ix), \n",
    "    differential(lambda x: T(x, 1), x, a),\n",
    "    d(T, x, a^b, Ix), \n",
    "    differential(lambda x: T(x, a), x, b) - differential(lambda x: T(x, b), x, a)\n",
    "    )"
   ]
  },
  {
   "cell_type": "code",
   "execution_count": 90,
   "metadata": {},
   "outputs": [
    {
     "data": {
      "text/plain": [
       "2.74 + 0.323 𝐞₁ + 0.385 𝐞₂ + 0.682 𝐞₃ + -0.452 𝐞₁₂ + 1.01 𝐞₁₃ + 1.69 𝐞₂₃ + 2.44 𝐞₁₂₃"
      ]
     },
     "execution_count": 90,
     "metadata": {},
     "output_type": "execute_result"
    }
   ],
   "source": [
    "#1.24\n",
    "d(lambda x, B: d(T, x, B, Ix), x, C, Ix)"
   ]
  },
  {
   "cell_type": "code",
   "execution_count": 92,
   "metadata": {},
   "outputs": [
    {
     "data": {
      "text/plain": [
       "(0.0861 + 0.0606 𝐞₁ + 0.00973 𝐞₂ + -0.145 𝐞₃ + 0.0028 𝐞₁₂ + -0.0892 𝐞₁₃ + -0.00898 𝐞₂₃ + 0.0326 𝐞₁₂₃,\n",
       " -2.22e-08 + -1.11e-08 𝐞₁ + 2.22e-08 𝐞₂ + -1.11e-08 𝐞₃ + 8.67e-17 𝐞₁₂ + -2.22e-08 𝐞₁₃,\n",
       " 0.426 + -1.32 𝐞₁ + -1.24 𝐞₂ + 1.54 𝐞₃ + 1.2 𝐞₁₂ + -0.113 𝐞₁₃ + -1.05 𝐞₂₃ + 0.0206 𝐞₁₂₃,\n",
       " 0.426 + -1.32 𝐞₁ + -1.24 𝐞₂ + 1.54 𝐞₃ + 1.2 𝐞₁₂ + -0.113 𝐞₁₃ + -1.05 𝐞₂₃ + 0.0206 𝐞₁₂₃,\n",
       " 2.75 + 0.323 𝐞₁ + 0.386 𝐞₂ + 0.682 𝐞₃ + -0.453 𝐞₁₂ + 1.01 𝐞₁₃ + 1.69 𝐞₂₃ + 2.44 𝐞₁₂₃,\n",
       " 1.88 + -0.209 𝐞₁ + 0.332 𝐞₂ + 1.2 𝐞₃ + -0.261 𝐞₁₂ + 1.38 𝐞₁₃ + 1.75 𝐞₂₃ + 2.45 𝐞₁₂₃)"
      ]
     },
     "execution_count": 92,
     "metadata": {},
     "output_type": "execute_result"
    }
   ],
   "source": [
    "#1.25 Doesn't hold for random multivector, but for blade (with grade >= 2) only!\n",
    "blade = random_r_blade(2, alg)\n",
    "(\n",
    "    d(lambda x, B: d(T, x, B, Ix), x, blade, Ix, h=1e-2), \n",
    "    d(lambda x, B: d(T, x, B, Ix), x, P(blade, I), Ix, h=1e-2),\n",
    "    d(lambda x, B: d(T, x, B, Ix), x, c, Ix, h=1e-2), # (c | d) | d is zero itself, not well defined!\n",
    "    d(lambda x, B: d(T, x, B, Ix), x, P(c, I), Ix, h=1e-2),\n",
    "    d(lambda x, B: d(T, x, B, Ix), x, C, Ix, h=1e-2), \n",
    "    d(lambda x, B: d(T, x, B, Ix), x, P(C, I), Ix, h=1e-2)\n",
    ")\n"
   ]
  },
  {
   "cell_type": "code",
   "execution_count": 145,
   "metadata": {},
   "outputs": [
    {
     "data": {
      "text/plain": [
       "(24.4, 24.4)"
      ]
     },
     "execution_count": 145,
     "metadata": {},
     "output_type": "execute_result"
    }
   ],
   "source": [
    "#1.26a\n",
    "T = lambda x, A: (x ** 2 * A * C + B*A*x).grade(0)\n",
    "K = lambda x: simplicial_derivative(lambda vectors: T(x, wedge(vectors)), [b, c], alg, h=1e-2)\n",
    "T(x, b^c), b^c | K(x)"
   ]
  },
  {
   "cell_type": "code",
   "execution_count": 138,
   "metadata": {},
   "outputs": [
    {
     "data": {
      "text/plain": [
       "(9.88, 9.88)"
      ]
     },
     "execution_count": 138,
     "metadata": {},
     "output_type": "execute_result"
    }
   ],
   "source": [
    "#1.26b\n",
    "K1 = lambda x: simplicial_derivative(lambda vectors: T(x, wedge(vectors)), [b], alg, h=1e-2)\n",
    "T(x, b), b | K1(x)"
   ]
  },
  {
   "cell_type": "code",
   "execution_count": 149,
   "metadata": {},
   "outputs": [
    {
     "data": {
      "text/plain": [
       "(-0.203, -0.203, -0.203)"
      ]
     },
     "execution_count": 149,
     "metadata": {},
     "output_type": "execute_result"
    }
   ],
   "source": [
    "#1.27a I think B must be a blade\n",
    "frame = blade_split(Ix(x), alg)\n",
    "r_frame = reciprocal(frame)\n",
    "blade = a^b^c\n",
    "(\n",
    "    d(T, x, blade, Ix), \n",
    "    derivative(K, x, alg, frame=frame, r_frame=r_frame, operator=lambda a, b: (blade|a)*b).grade(0),\n",
    "    blade | curl(K, x, alg, frame=frame, r_frame=r_frame)\n",
    ")    "
   ]
  },
  {
   "cell_type": "code",
   "execution_count": 151,
   "metadata": {},
   "outputs": [
    {
     "data": {
      "text/plain": [
       "(-3.19, -3.19, -3.19)"
      ]
     },
     "execution_count": 151,
     "metadata": {},
     "output_type": "execute_result"
    }
   ],
   "source": [
    "#1.27b\n",
    "blade = b^c\n",
    "(\n",
    "    d(T, x, blade, Ix), \n",
    "    derivative(K1, x, alg, frame=frame, r_frame=r_frame, operator=lambda a, b: (blade|a)*b).grade(0),\n",
    "    blade | curl(K1, x, alg, frame=frame, r_frame=r_frame)\n",
    ")    "
   ]
  },
  {
   "cell_type": "code",
   "execution_count": 153,
   "metadata": {},
   "outputs": [
    {
     "data": {
      "text/plain": [
       "(4.68, 4.68, 4.68)"
      ]
     },
     "execution_count": 153,
     "metadata": {},
     "output_type": "execute_result"
    }
   ],
   "source": [
    "#1.28\n",
    "def tensor_div(T, x, B, Ix, h=1e-6):\n",
    "    frame = blade_split(Ix(x), alg)\n",
    "    r_frame = reciprocal(frame)\n",
    "    return sum(differential(lambda x: T(x, alg.op(B,r)), x, v, h=h) for v, r in zip(frame, r_frame))\n",
    "\n",
    "blade = b\n",
    "(\n",
    "    tensor_div(T, x, blade, Ix), \n",
    "    derivative(K, x, alg, frame=frame, r_frame=r_frame, operator=lambda a, b: (blade^a)*b).grade(0),\n",
    "    blade | div(K, x, alg, frame=frame, r_frame=r_frame)\n",
    ")  "
   ]
  },
  {
   "cell_type": "code",
   "execution_count": 154,
   "metadata": {},
   "outputs": [
    {
     "data": {
      "text/plain": [
       "(1.93, 1.93, 1.93 + 8.66e-17 𝐞₁₂ + 3.75e-16 𝐞₁₃ + 5.49e-16 𝐞₂₃)"
      ]
     },
     "execution_count": 154,
     "metadata": {},
     "output_type": "execute_result"
    }
   ],
   "source": [
    "#1.28b\n",
    "K3 = lambda x: simplicial_derivative(lambda vectors: T(x, wedge(vectors)), [a,b,c], alg, h=1e-2)\n",
    "blade = b^c\n",
    "(\n",
    "    tensor_div(T, x, blade, Ix), \n",
    "    derivative(K3, x, alg, frame=frame, r_frame=r_frame, operator=lambda a, b: (blade^a)*b).grade(0),\n",
    "    blade | div(K3, x, alg, frame=frame, r_frame=r_frame)\n",
    ")  "
   ]
  },
  {
   "cell_type": "code",
   "execution_count": null,
   "metadata": {},
   "outputs": [],
   "source": []
  }
 ],
 "metadata": {
  "kernelspec": {
   "display_name": "Python 3",
   "language": "python",
   "name": "python3"
  },
  "language_info": {
   "codemirror_mode": {
    "name": "ipython",
    "version": 3
   },
   "file_extension": ".py",
   "mimetype": "text/x-python",
   "name": "python",
   "nbconvert_exporter": "python",
   "pygments_lexer": "ipython3",
   "version": "3.10.5"
  }
 },
 "nbformat": 4,
 "nbformat_minor": 2
}
