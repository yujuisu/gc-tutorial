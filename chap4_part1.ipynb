{
 "cells": [
  {
   "cell_type": "code",
   "execution_count": 352,
   "metadata": {},
   "outputs": [
    {
     "data": {
      "text/plain": [
       "(3.64 𝐞₁₃ + 2.08 𝐞₂₃, 7.11e-15 𝐞₁₂₃)"
      ]
     },
     "execution_count": 352,
     "metadata": {},
     "output_type": "execute_result"
    }
   ],
   "source": [
    "#1.3 cylinder\n",
    "# Let M be a elliptic cylinder in R3, (ax)^2 + (by)^2 = 1\n",
    "# x = 1/a*cos(p)*e1 + 1/b*sin(p)*e2 + z*e3, p, z in R\n",
    "\n",
    "from gc_utils import *\n",
    "alg = Algebra(3)\n",
    "locals().update(alg.blades)\n",
    "\n",
    "c2e = lambda p, z: 4*np.cos(p)*e1 + 5*np.sin(p)*e2 + z*e3\n",
    "e_p = lambda p: -4*np.sin(p)*e1 + 5*np.cos(p)*e2\n",
    "def Ix(x):\n",
    "    p = np.arctan((4/5)*x.e2/x.e1)\n",
    "    return e_p(p) ^ e3\n",
    "\n",
    "p, t = 2, 3\n",
    "x = c2e(p, t)\n",
    "I = Ix(x)\n",
    "\n",
    "I, I ^ (3*e3 + 5*e_p(p))"
   ]
  },
  {
   "cell_type": "code",
   "execution_count": 353,
   "metadata": {},
   "outputs": [
    {
     "data": {
      "text/plain": [
       "(2.79 𝐞₁₂ + -0.067 𝐞₁₃ + -0.0538 𝐞₂₃, 3.69e-15 𝐞₁₂₃)"
      ]
     },
     "execution_count": 353,
     "metadata": {},
     "output_type": "execute_result"
    }
   ],
   "source": [
    "#1.3 ellipsoid\n",
    "# Let M be an ellipsoid in R3, (ax)^{2}+(by)^{2}+z^{2}=d\n",
    "# x = 1/a*cos(p)*sin(t)*e1 + 1/b*sin(p)*sin(t)*e2 + cos(t)*e3, t, p in R\n",
    "\n",
    "from gc_utils import *\n",
    "alg = Algebra(3)\n",
    "locals().update(alg.blades)\n",
    "\n",
    "c2e = lambda p, t: 4*np.cos(p)*np.sin(t)*e1 + 5*np.sin(p)*np.sin(t)*e2 + np.cos(t)*e3\n",
    "e_p = lambda p, t: -4*np.sin(p)*np.sin(t)*e1 + 5*np.cos(p)*np.sin(t)*e2\n",
    "e_t = lambda p, t: (4*np.cos(p)*np.cos(t)*e1) + (5*np.sin(p)*np.cos(t)*e2) - (np.sin(t)*e3)\n",
    "def Ix(x):\n",
    "    p = np.arctan((4/5)*x.e2/x.e1)\n",
    "    t = np.arccos(x.e3)\n",
    "    return e_p(p, t) ^ e_t(p, t)\n",
    "\n",
    "# |p| < pi/2, 0 < t < pi for unique arctan & arccos\n",
    "p, t = -1, 3\n",
    "x = c2e(p, t)\n",
    "I = Ix(x)\n",
    "\n",
    "I, I ^ (3*e_t(p,t) + 5*e_p(p,t))"
   ]
  },
  {
   "cell_type": "code",
   "execution_count": 354,
   "metadata": {},
   "outputs": [
    {
     "data": {
      "text/plain": [
       "(0.505 + 0.0572 𝐞₁ + 0.0927 𝐞₂ + 0.994 𝐞₃ + 0.736 𝐞₁₂ + 0.393 𝐞₁₃ + 0.156 𝐞₂₃ + 0.295 𝐞₁₂₃,\n",
       " 0.505 + 0.0764 𝐞₁ + 0.0689 𝐞₂ + -0.000182 𝐞₃ + 0.723 𝐞₁₂ + -0.0173 𝐞₁₃ + -0.0139 𝐞₂₃,\n",
       " 0.0473 𝐞₁ + 0.824 𝐞₂ + 0.668 𝐞₃,\n",
       " 0.0605 𝐞₁ + 0.808 𝐞₂ + -0.0182 𝐞₃)"
      ]
     },
     "execution_count": 354,
     "metadata": {},
     "output_type": "execute_result"
    }
   ],
   "source": [
    "#1.4\n",
    "A, B, C, D = [random_multivector(alg) for _ in range(4)]\n",
    "a, b, c, d = random_r_vectors(4, alg)\n",
    "A, P(A, I), a, P(a, I)"
   ]
  },
  {
   "cell_type": "code",
   "execution_count": 355,
   "metadata": {},
   "outputs": [
    {
     "data": {
      "text/plain": [
       "(1.03 + -0.198 𝐞₁ + -0.408 𝐞₂ + 0.777 𝐞₃ + -3.26 𝐞₁₂ + 0.643 𝐞₁₃ + 0.0131 𝐞₂₃ + -2.75 𝐞₁₂₃,\n",
       " 1.03 + -0.198 𝐞₁ + -0.408 𝐞₂ + 0.777 𝐞₃ + -3.26 𝐞₁₂ + 0.643 𝐞₁₃ + 0.0131 𝐞₂₃ + -2.75 𝐞₁₂₃)"
      ]
     },
     "execution_count": 355,
     "metadata": {},
     "output_type": "execute_result"
    }
   ],
   "source": [
    "#1.5\n",
    "xt = lambda t: x + (C*t*D).grade(1)\n",
    "a = differential(xt, 0, 1)\n",
    "F = lambda x: A * x * x * B\n",
    "differential(F, x, a), differential(lambda t: F(xt(t)), 0, 1)"
   ]
  },
  {
   "cell_type": "code",
   "execution_count": 356,
   "metadata": {},
   "outputs": [
    {
     "data": {
      "text/plain": [
       "(-0.926 + -1.37 𝐞₁ + 0.934 𝐞₂ + -0.99 𝐞₃ + 3.66 𝐞₁₂ + -2.22 𝐞₁₃ + 0.464 𝐞₂₃ + 2.03 𝐞₁₂₃,\n",
       " -0.926 + -1.37 𝐞₁ + 0.935 𝐞₂ + -0.99 𝐞₃ + 3.66 𝐞₁₂ + -2.22 𝐞₁₃ + 0.464 𝐞₂₃ + 2.03 𝐞₁₂₃,\n",
       " -0.934 + -1.36 𝐞₁ + 0.938 𝐞₂ + -0.995 𝐞₃ + 3.68 𝐞₁₂ + -2.22 𝐞₁₃ + 0.464 𝐞₂₃ + 2.05 𝐞₁₂₃)"
      ]
     },
     "execution_count": 356,
     "metadata": {},
     "output_type": "execute_result"
    }
   ],
   "source": [
    "#1.5\n",
    "y = c2e(p+0.003, t-0.003)\n",
    "a = (y - x) / norm(y - x)\n",
    "pa = P(a, Ix(x))\n",
    "F = lambda x: A * x * x * B + C * x * D\n",
    "differential(F, x, pa), differential(F, x, a), (F(y) - F(x))/norm(y-x)"
   ]
  },
  {
   "cell_type": "code",
   "execution_count": 357,
   "metadata": {},
   "outputs": [
    {
     "data": {
      "text/plain": [
       "(-0.758 + 2.74 𝐞₁ + 4.25 𝐞₂ + 0.0548 𝐞₃ + -0.882 𝐞₁₂ + 1.29 𝐞₁₃ + 3.43 𝐞₂₃ + -2.31 𝐞₁₂₃,\n",
       " [-0.00129 𝐞₁ + -2.8 𝐞₂ + 0.067 𝐞₃, 1.0 𝐞₁ + 0.000461 𝐞₂ + 0.0192 𝐞₃],\n",
       " [-0.00129 𝐞₁ + -2.8 𝐞₂ + 0.067 𝐞₃, 1.0 𝐞₁ + 0.000461 𝐞₂ + 0.0192 𝐞₃])"
      ]
     },
     "execution_count": 357,
     "metadata": {},
     "output_type": "execute_result"
    }
   ],
   "source": [
    "#1.7 a local frame at x\n",
    "frame = blade_split(I, alg)\n",
    "r_frame = reciprocal(frame)\n",
    "derivative(F, x, alg, frame=frame, r_frame=r_frame), frame, [P(v, I) for v in frame]"
   ]
  },
  {
   "cell_type": "code",
   "execution_count": 358,
   "metadata": {},
   "outputs": [
    {
     "data": {
      "text/plain": [
       "(5.85 + 4.08 𝐞₁ + 0.327 𝐞₂ + 1.14 𝐞₃ + -4.5 𝐞₁₂ + 2.73 𝐞₁₃ + -2.52 𝐞₂₃ + 1.29 𝐞₁₂₃,\n",
       " 5.85 + 4.08 𝐞₁ + 0.327 𝐞₂ + 1.14 𝐞₃ + -4.5 𝐞₁₂ + 2.73 𝐞₁₃ + -2.52 𝐞₂₃ + 1.29 𝐞₁₂₃)"
      ]
     },
     "execution_count": 358,
     "metadata": {},
     "output_type": "execute_result"
    }
   ],
   "source": [
    "#1.9 linear in Ak, so the chain rule coefficients are 1\n",
    "# And both T and Ak are dependent of x, \n",
    "# so it looks like the product rule.\n",
    "G = lambda x: C*x*x*D\n",
    "T = lambda a, F, G: F*a*G\n",
    "dF = differential(F, x, pa)\n",
    "dG = differential(G, x, pa)\n",
    "dTa = differential(lambda a: T(a, F(a), G(a)), x, pa)\n",
    " \n",
    "differential(lambda a: T(a, F(x), G(x)), x, pa), dTa - T(x, dF, G(x)) - T(x, F(x), dG)"
   ]
  },
  {
   "cell_type": "code",
   "execution_count": 359,
   "metadata": {},
   "outputs": [
    {
     "data": {
      "text/plain": [
       "(-1.41 + 0.271 𝐞₁ + 0.558 𝐞₂ + -1.06 𝐞₃ + 4.45 𝐞₁₂ + -0.878 𝐞₁₃ + -0.0179 𝐞₂₃ + 3.76 𝐞₁₂₃,\n",
       " -1.41 + 0.271 𝐞₁ + 0.558 𝐞₂ + -1.06 𝐞₃ + 4.45 𝐞₁₂ + -0.878 𝐞₁₃ + -0.0179 𝐞₂₃ + 3.76 𝐞₁₂₃,\n",
       " -2.7 + -1.17 𝐞₁ + 0.955 𝐞₂ + -2.33 𝐞₃ + 5.23 𝐞₁₂ + -3.56 𝐞₁₃ + 0.0992 𝐞₂₃ + 3.67 𝐞₁₂₃,\n",
       " -1.41 + 0.271 𝐞₁ + 0.558 𝐞₂ + -1.06 𝐞₃ + 4.45 𝐞₁₂ + -0.878 𝐞₁₃ + -0.0179 𝐞₂₃ + 3.76 𝐞₁₂₃)"
      ]
     },
     "execution_count": 359,
     "metadata": {},
     "output_type": "execute_result"
    }
   ],
   "source": [
    "#1.10 F satisfies the previous integrability condition Fab = Fba\n",
    "ax = lambda x: P(x-c, Ix(x))\n",
    "a = ax(x)\n",
    "bx = lambda x: P(x-d, Ix(x))\n",
    "b = bx(x)\n",
    "(\n",
    "    differential(lambda x: differential(F, x, a), x, b, h=1e-2),\n",
    "    differential(lambda x: differential(F, x, b), x, a, h=1e-2),\n",
    "    differential(lambda x: differential(F, x, ax(x)), x, b, h=1e-2),\n",
    "    differential(lambda x: differential(F, x, ax(x)), x, b, h=1e-2) - differential(F, x, differential(ax, x, b), h=1e-2),\n",
    "    )\n"
   ]
  },
  {
   "cell_type": "code",
   "execution_count": 360,
   "metadata": {},
   "outputs": [
    {
     "data": {
      "text/plain": [
       "-6.72e-18 + -1.72e-17 𝐞₁ + -3.4e-17 𝐞₂ + -1.52e-18 𝐞₃ + -6.07e-18 𝐞₁₂ + -1.93e-17 𝐞₁₃ + -4.11e-17 𝐞₂₃ + 5.75e-18 𝐞₁₂₃"
      ]
     },
     "execution_count": 360,
     "metadata": {},
     "output_type": "execute_result"
    }
   ],
   "source": [
    "#1.11 If the derivatives are independent, the sum of asymmetrics is zero\n",
    "grade = 1\n",
    "sum((v1 ^ v2) * differential(lambda x: differential(F, x, r2), x, r1) for (v1, v2), (r1, r2) in product(zip(frame, r_frame), repeat=2))"
   ]
  },
  {
   "cell_type": "code",
   "execution_count": 361,
   "metadata": {},
   "outputs": [
    {
     "data": {
      "text/plain": [
       "(-0.0113 + 0.0571 𝐞₁ + 0.188 𝐞₂ + 0.0299 𝐞₃ + 0.0897 𝐞₁₂ + 0.117 𝐞₁₃ + 0.239 𝐞₂₃ + 0.0247 𝐞₁₂₃,\n",
       " 8.68e-07 + 3.78e-07 𝐞₁ + 5.87e-08 𝐞₂ + 6.72e-07 𝐞₃ + -4.46e-08 𝐞₁₂ + 6.58e-07 𝐞₁₃ + -2.15e-07 𝐞₂₃ + 2.2e-07 𝐞₁₂₃)"
      ]
     },
     "execution_count": 361,
     "metadata": {},
     "output_type": "execute_result"
    }
   ],
   "source": [
    "#1.11 To be nontrivial, the second derivative must act on the first\n",
    "def frame_gen(x, alg, Ix=Ix):\n",
    "    frame = blade_split(Ix(x), alg)\n",
    "    r_frame = reciprocal(frame)\n",
    "    return zip(frame, r_frame)\n",
    "\n",
    "def derivative_gen(x, alg: Algebra, Ix, h=1e-6):\n",
    "    Ix_frame = lambda x: frame_gen(x, alg, Ix=Ix)\n",
    "    for v, r in Ix_frame(x):\n",
    "        yield (r, lambda F: differential(F, x, v, h))\n",
    "(\n",
    "    sum(o1(lambda x: sum((r1^r)* o(F) for r, o in derivative_gen(x, alg, Ix=Ix))) for r1, o1 in derivative_gen(x, alg, Ix=Ix, h=1e-3)),\n",
    "    sum(o1(lambda x: sum(P(r1^r, I)* o(F) for r, o in derivative_gen(x, alg, Ix=Ix))) for r1, o1 in derivative_gen(x, alg, Ix=Ix, h=1e-3)),\n",
    ")"
   ]
  },
  {
   "cell_type": "code",
   "execution_count": 362,
   "metadata": {},
   "outputs": [
    {
     "data": {
      "text/plain": [
       "(-0.309 + -0.507 𝐞₁ + 0.419 𝐞₂ + -0.337 𝐞₃ + 1.68 𝐞₁₂ + -0.777 𝐞₁₃ + 0.225 𝐞₂₃ + 0.985 𝐞₁₂₃,\n",
       " -0.308 + -0.507 𝐞₁ + 0.419 𝐞₂ + -0.337 𝐞₃ + 1.68 𝐞₁₂ + -0.777 𝐞₁₃ + 0.225 𝐞₂₃ + 0.985 𝐞₁₂₃)"
      ]
     },
     "execution_count": 362,
     "metadata": {},
     "output_type": "execute_result"
    }
   ],
   "source": [
    "#1.12\n",
    "def lie_bracket(ax, bx):\n",
    "    return lambda x: differential(bx, x, ax(x)) - differential(ax, x, bx(x))\n",
    "\n",
    "diff_a = lambda F: lambda x: differential(F, x, ax(x))\n",
    "diff_b = lambda F: lambda x: differential(F, x, bx(x))\n",
    "def operator_cp(f, g):\n",
    "    return lambda A: lambda x: f(g(A))(x) - g(f(A))(x)\n",
    "\n",
    "lie = lie_bracket(ax, bx)\n",
    "(\n",
    "    operator_cp(diff_a, diff_b)(F)(x),\n",
    "    differential(F, x, lie(x))\n",
    "    )"
   ]
  },
  {
   "cell_type": "code",
   "execution_count": 363,
   "metadata": {},
   "outputs": [
    {
     "data": {
      "text/plain": [
       "(-0.0941 𝐞₁ + -1.2 𝐞₂ + 0.079 𝐞₃,\n",
       " -0.417 𝐞₁ + -0.897 𝐞₂ + 0.0655 𝐞₃,\n",
       " 0.323 𝐞₁ + -0.301 𝐞₂ + 0.0134 𝐞₃)"
      ]
     },
     "execution_count": 363,
     "metadata": {},
     "output_type": "execute_result"
    }
   ],
   "source": [
    "# lie_bracket\n",
    "(    \n",
    "    differential(bx, x, a),\n",
    "    differential(ax, x, b),\n",
    "    lie(x),\n",
    "    )"
   ]
  },
  {
   "cell_type": "code",
   "execution_count": 364,
   "metadata": {},
   "outputs": [
    {
     "data": {
      "text/plain": [
       "(-2.69e-08 + -2.24e-08 𝐞₁ + 1.9e-07 𝐞₂ + 1e-07 𝐞₃ + -4.07e-07 𝐞₁₂ + 1.13e-07 𝐞₁₃ + 3.23e-07 𝐞₂₃ + -3.19e-07 𝐞₁₂₃,)"
      ]
     },
     "execution_count": 364,
     "metadata": {},
     "output_type": "execute_result"
    }
   ],
   "source": [
    "#1.15\n",
    "(\n",
    "    sum(o1(lambda x: sum((a^b|(r1^r))* o(F) for r, o in derivative_gen(x, alg, Ix=Ix))) for r1, o1 in derivative_gen(x, alg, Ix=Ix, h=1e-3)),\n",
    ")"
   ]
  },
  {
   "cell_type": "code",
   "execution_count": 365,
   "metadata": {},
   "outputs": [
    {
     "data": {
      "text/plain": [
       "(-1.85 + -2.04 𝐞₁ + 0.842 𝐞₂ + -1.87 𝐞₃ + 3.21 𝐞₁₂ + -3.84 𝐞₁₃ + 0.239 𝐞₂₃ + 1.46 𝐞₁₂₃,\n",
       " -1.71 + -2.07 𝐞₁ + 0.787 𝐞₂ + -1.77 𝐞₃ + 2.77 𝐞₁₂ + -3.76 𝐞₁₃ + 0.241 𝐞₂₃ + 1.09 𝐞₁₂₃,\n",
       " -0.758 + 2.74 𝐞₁ + 4.25 𝐞₂ + 0.0548 𝐞₃ + -0.882 𝐞₁₂ + 1.29 𝐞₁₃ + 3.43 𝐞₂₃ + -2.31 𝐞₁₂₃,\n",
       " -0.758 + 2.74 𝐞₁ + 4.25 𝐞₂ + 0.0545 𝐞₃ + -0.882 𝐞₁₂ + 1.29 𝐞₁₃ + 3.43 𝐞₂₃ + -2.31 𝐞₁₂₃,\n",
       " -0.758 + 2.74 𝐞₁ + 4.25 𝐞₂ + 0.0546 𝐞₃ + -0.882 𝐞₁₂ + 1.29 𝐞₁₃ + 3.43 𝐞₂₃ + -2.31 𝐞₁₂₃)"
      ]
     },
     "execution_count": 365,
     "metadata": {},
     "output_type": "execute_result"
    }
   ],
   "source": [
    "#1.17 d = P(d), F is not linear, but the derivative behaves like\n",
    "(\n",
    "    F(a), differential(F, x, a),\n",
    "    derivative(F, x, alg, frame=frame, r_frame=r_frame), \n",
    "    derivative(lambda a: differential(F, x, a), 0, alg, frame=frame, r_frame=r_frame),\n",
    "    derivative(lambda a: differential(F, x, P(a, I)), 0, alg, grade=1),\n",
    "    )"
   ]
  },
  {
   "cell_type": "code",
   "execution_count": 366,
   "metadata": {},
   "outputs": [
    {
     "data": {
      "text/plain": [
       "(-0.639 + 3.87 𝐞₁ + -0.45 𝐞₂ + 0.138 𝐞₃ + -0.0204 𝐞₁₂ + 3.15 𝐞₁₃ + -0.531 𝐞₂₃ + -0.611 𝐞₁₂₃,\n",
       " -0.639 + 3.87 𝐞₁ + -0.45 𝐞₂ + 0.138 𝐞₃ + -0.0204 𝐞₁₂ + 3.15 𝐞₁₃ + -0.531 𝐞₂₃ + -0.611 𝐞₁₂₃,\n",
       " -0.582 + 3.75 𝐞₁ + -0.453 𝐞₂ + 0.194 𝐞₃ + -0.00194 𝐞₁₂ + 3.08 𝐞₁₃ + -0.523 𝐞₂₃ + -0.624 𝐞₁₂₃)"
      ]
     },
     "execution_count": 366,
     "metadata": {},
     "output_type": "execute_result"
    }
   ],
   "source": [
    "#1.18 I think the text book made a mistake here: \n",
    "# dy does not depend on x, because the dependence of x shifts to P,\n",
    "# so PdF != PdF_\n",
    "\n",
    "def dF(x):\n",
    "    frame = blade_split(Ix(x), alg)\n",
    "    r_frame = reciprocal(frame)\n",
    "    return derivative(F, x, alg, frame=frame, r_frame=r_frame)\n",
    "\n",
    "pb_frame = [differential(lambda x: P(v, Ix(x)), x, b) for v in alg.frame]\n",
    "pb_frame2 = [differential(lambda x: P(v, Ix(x)), x, b) for v in frame]\n",
    "p_frame = [P(v, Ix(x)) for v in alg.frame]\n",
    "Fab = lambda a: differential(lambda x: differential(F, x, a), x, b, h=1e-2)\n",
    "PdF = derivative(F, x, alg, frame=pb_frame, r_frame=reciprocal(alg.frame))\n",
    "dFab = derivative(Fab, x, alg, frame=p_frame, r_frame=reciprocal(alg.frame), h=1e-2)\n",
    "PdF_ = derivative(F, x, alg, frame=pb_frame2, r_frame=r_frame)\n",
    "dFab_ = derivative(Fab, x, alg, frame=frame, r_frame=r_frame, h=1e-2)\n",
    "(\n",
    "    differential(dF, x, b, h=1e-2),\n",
    "    PdF + dFab, \n",
    "    PdF_ + dFab_,\n",
    "    )"
   ]
  },
  {
   "cell_type": "code",
   "execution_count": 367,
   "metadata": {},
   "outputs": [
    {
     "data": {
      "text/plain": [
       "(-0.11 + 0.000404 𝐞₁ + 0.0854 𝐞₂ + -0.175 𝐞₃ + -0.066 𝐞₁₂ + -0.0625 𝐞₁₃ + 0.0258 𝐞₂₃ + -0.00556 𝐞₁₂₃,\n",
       " -0.0524 + -0.121 𝐞₁ + 0.082 𝐞₂ + -0.119 𝐞₃ + -0.0476 𝐞₁₂ + -0.125 𝐞₁₃ + 0.0336 𝐞₂₃ + -0.018 𝐞₁₂₃,\n",
       " -0.529 + 3.87 𝐞₁ + -0.535 𝐞₂ + 0.313 𝐞₃ + 0.0456 𝐞₁₂ + 3.21 𝐞₁₃ + -0.556 𝐞₂₃ + -0.606 𝐞₁₂₃,\n",
       " -0.529 + 3.87 𝐞₁ + -0.535 𝐞₂ + 0.313 𝐞₃ + 0.0456 𝐞₁₂ + 3.21 𝐞₁₃ + -0.556 𝐞₂₃ + -0.606 𝐞₁₂₃)"
      ]
     },
     "execution_count": 367,
     "metadata": {},
     "output_type": "execute_result"
    }
   ],
   "source": [
    "PdF, PdF_, dFab, dFab_"
   ]
  },
  {
   "cell_type": "code",
   "execution_count": 368,
   "metadata": {},
   "outputs": [
    {
     "data": {
      "text/plain": [
       "(1.06 + 1.1 𝐞₁ + 0.0624 𝐞₂ + 1.24 𝐞₃ + -1.14 𝐞₁₂ + 2.41 𝐞₁₃ + 0.444 𝐞₂₃ + -0.385 𝐞₁₂₃,\n",
       " 1.04 + 1.13 𝐞₁ + -0.213 𝐞₂ + 1.06 𝐞₃ + -0.562 𝐞₁₂ + 2.19 𝐞₁₃ + 0.0275 𝐞₂₃ + 0.0898 𝐞₁₂₃)"
      ]
     },
     "execution_count": 368,
     "metadata": {},
     "output_type": "execute_result"
    }
   ],
   "source": [
    "# The assumption F_y = F_P(y) not hold here, because F extends to the embedding space\n",
    "# F_y = F_P(y) only under the differential within I(x), and if so, contradicts the independence of x\n",
    "differential(F, x, c), differential(F, x, P(c, I))"
   ]
  },
  {
   "cell_type": "code",
   "execution_count": 369,
   "metadata": {},
   "outputs": [
    {
     "data": {
      "text/plain": [
       "0.626 + 0.763 𝐞₁ + -2.51 𝐞₂ + -0.154 𝐞₃ + -2.69 𝐞₁₂ + -0.902 𝐞₁₃ + -2.84 𝐞₂₃ + -1.63 𝐞₁₂₃"
      ]
     },
     "execution_count": 369,
     "metadata": {},
     "output_type": "execute_result"
    }
   ],
   "source": [
    "#1.19a\n",
    "T = lambda x, B, A: C * A * x *B * D + C * A * x + B * D\n",
    "def Q(x, A):\n",
    "    vec_frame = blade_split(Ix(x), alg)\n",
    "    frame = multi_frame(vec_frame)\n",
    "    r_frame = reci_frame(vec_frame)\n",
    "    return derivative(lambda B: T(x, B, A) , B, alg, frame=frame, r_frame=r_frame)   \n",
    "\n",
    "Q(x, A)"
   ]
  },
  {
   "cell_type": "code",
   "execution_count": 370,
   "metadata": {},
   "outputs": [
    {
     "data": {
      "text/plain": [
       "(-1.82 + -3.42 𝐞₁ + -0.658 𝐞₂ + -3.93 𝐞₃ + -1.86 𝐞₁₂ + -4.23 𝐞₁₃ + -3.27 𝐞₂₃ + -2.14 𝐞₁₂₃,\n",
       " 8.11e-11 + -7.91e-11 𝐞₁ + -4.71e-11 𝐞₂ + 9.06e-11 𝐞₃ + 2.54e-11 𝐞₁₂ + -4.35e-11 𝐞₁₃ + -2.85e-11 𝐞₂₃ + -5.08e-11 𝐞₁₂₃,\n",
       " -1.82 + -3.42 𝐞₁ + -0.657 𝐞₂ + -3.93 𝐞₃ + -1.86 𝐞₁₂ + -4.23 𝐞₁₃ + -3.27 𝐞₂₃ + -2.14 𝐞₁₂₃)"
      ]
     },
     "execution_count": 370,
     "metadata": {},
     "output_type": "execute_result"
    }
   ],
   "source": [
    "#1.19b Why is PdT zero?\n",
    "frame = multi_frame(alg.frame)\n",
    "r_frame = reci_frame(alg.frame)\n",
    "pb_frame = [differential(lambda x: P(v, Ix(x)), x, b) for v in frame]\n",
    "p_frame = [P(v, Ix(x)) for v in frame]\n",
    "Tb = lambda B: differential(lambda x: T(x, B, A), x, b, h=1e-3)\n",
    "PdT = derivative(lambda B: T(x, B, A), B, alg, r_frame=pb_frame, frame=r_frame)\n",
    "dBTb = derivative(Tb, B, alg, frame=p_frame, r_frame=r_frame, h=1e-3)\n",
    "\n",
    "differential(lambda x: Q(x, A), x, b), PdT, dBTb, "
   ]
  },
  {
   "cell_type": "code",
   "execution_count": 371,
   "metadata": {},
   "outputs": [
    {
     "data": {
      "text/plain": [
       "-1.59e-10 + 2.6e-11 𝐞₁ + 5.82e-11 𝐞₂ + -1.39e-10 𝐞₃ + 3.63e-11 𝐞₁₂ + -6.81e-11 𝐞₁₃ + 8.87e-11 𝐞₂₃ + 7.9e-11 𝐞₁₂₃"
      ]
     },
     "execution_count": 371,
     "metadata": {},
     "output_type": "execute_result"
    }
   ],
   "source": [
    "# The Pb-derivative in my example of 1.19b is a zero operator\n",
    "derivative(F, B, alg, r_frame=pb_frame, frame=r_frame)"
   ]
  },
  {
   "cell_type": "code",
   "execution_count": 372,
   "metadata": {},
   "outputs": [
    {
     "data": {
      "text/plain": [
       "(-3.5 + 1.93 𝐞₁ + 2.06 𝐞₂ + -5.11 𝐞₃ + 2.67 𝐞₁₂ + -1.67 𝐞₁₃ + 1.73 𝐞₂₃ + 1.9 𝐞₁₂₃,\n",
       " -3.5 + 1.93 𝐞₁ + 2.06 𝐞₂ + -5.11 𝐞₃ + 2.67 𝐞₁₂ + -1.67 𝐞₁₃ + 1.73 𝐞₂₃ + 1.9 𝐞₁₂₃)"
      ]
     },
     "execution_count": 372,
     "metadata": {},
     "output_type": "execute_result"
    }
   ],
   "source": [
    "#1.20\n",
    "T = lambda x, A: x ** 2 * A * C + B*A*x\n",
    "frame = blade_split(Ix(x), alg)\n",
    "r_frame = reciprocal(frame)\n",
    "(\n",
    "    sum(differential(lambda x: T(x, alg.ip(B,r)), x, v) for v, r in zip(frame, r_frame)), \n",
    "    sum(differential(lambda x: T(x, alg.ip(B,r)), x, v) for v, r in zip(r_frame, frame))\n",
    "    )"
   ]
  },
  {
   "cell_type": "code",
   "execution_count": 373,
   "metadata": {},
   "outputs": [
    {
     "data": {
      "text/plain": [
       "(-3.4 + 8.32 𝐞₁ + 21.8 𝐞₂ + -13.2 𝐞₃ + 4.76 𝐞₁₂ + 1.21 𝐞₁₃ + 10.4 𝐞₂₃ + 1.42 𝐞₁₂₃,\n",
       " -3.4 + 8.32 𝐞₁ + 21.8 𝐞₂ + -13.2 𝐞₃ + 4.76 𝐞₁₂ + 1.21 𝐞₁₃ + 10.4 𝐞₂₃ + 1.42 𝐞₁₂₃)"
      ]
     },
     "execution_count": 373,
     "metadata": {},
     "output_type": "execute_result"
    }
   ],
   "source": [
    "#1.20 It's a new differential, so let's check! \n",
    "# Run several times to see frame independence\n",
    "vecs = random_r_vectors(3, alg)\n",
    "frame = multi_frame(vecs)\n",
    "r_frame = reci_frame(vecs)\n",
    "(\n",
    "    sum(differential(lambda x: T(x, alg.ip(B,r)), x, v) for v, r in zip(frame, r_frame)), \n",
    "    sum(differential(lambda x: T(x, alg.ip(B,r)), x, v) for v, r in zip(r_frame, frame))\n",
    "    )"
   ]
  },
  {
   "cell_type": "code",
   "execution_count": 374,
   "metadata": {},
   "outputs": [
    {
     "data": {
      "text/plain": [
       "(-0.65 + -0.0132 𝐞₁ + -0.02 𝐞₂ + 1.47 𝐞₃ + 0.702 𝐞₁₂ + 1.26 𝐞₁₃ + 1.02 𝐞₂₃ + 0.628 𝐞₁₂₃,\n",
       " -0.65 + -0.0132 𝐞₁ + -0.02 𝐞₂ + 1.47 𝐞₃ + 0.702 𝐞₁₂ + 1.26 𝐞₁₃ + 1.02 𝐞₂₃ + 0.628 𝐞₁₂₃,\n",
       " 1.51 + 0.237 𝐞₁ + 0.00445 𝐞₂ + 1.06 𝐞₃ + -0.596 𝐞₁₂ + 0.642 𝐞₁₃ + -0.109 𝐞₂₃ + 0.197 𝐞₁₂₃,\n",
       " 1.51 + 0.237 𝐞₁ + 0.00445 𝐞₂ + 1.06 𝐞₃ + -0.596 𝐞₁₂ + 0.642 𝐞₁₃ + -0.109 𝐞₂₃ + 0.197 𝐞₁₂₃)"
      ]
     },
     "execution_count": 374,
     "metadata": {},
     "output_type": "execute_result"
    }
   ],
   "source": [
    "#1.23\n",
    "def d(T, x, B, alg, Ix, h=1e-6):\n",
    "    return sum(o(lambda x: T(x, inner(B,r))) for r, o in derivative_gen(x, alg, Ix=Ix, h=h))\n",
    "\n",
    "(\n",
    "    d(T, x, a, alg, Ix), \n",
    "    differential(lambda x: T(x, 1), x, a),\n",
    "    d(T, x, a^b, alg, Ix), \n",
    "    differential(lambda x: T(x, a), x, b) - differential(lambda x: T(x, b), x, a)\n",
    "    )"
   ]
  },
  {
   "cell_type": "code",
   "execution_count": 375,
   "metadata": {},
   "outputs": [
    {
     "data": {
      "text/plain": [
       "(0.37 + -0.245 𝐞₁ + -0.787 𝐞₂ + 0.982 𝐞₃ + -0.39 𝐞₁₂ + 1.26 𝐞₁₃ + 0.865 𝐞₂₃ + 0.566 𝐞₁₂₃,\n",
       " 0.109 + -0.0149 𝐞₁ + 0.00691 𝐞₂ + 0.104 𝐞₃ + -0.0605 𝐞₁₂ + 0.0578 𝐞₁₃ + -0.0298 𝐞₂₃ + 0.00735 𝐞₁₂₃,\n",
       " 0.109 + -0.0149 𝐞₁ + 0.00691 𝐞₂ + 0.104 𝐞₃ + -0.0605 𝐞₁₂ + 0.0578 𝐞₁₃ + -0.0298 𝐞₂₃ + 0.00735 𝐞₁₂₃,\n",
       " 0.109 + -0.0149 𝐞₁ + 0.00691 𝐞₂ + 0.104 𝐞₃ + -0.0605 𝐞₁₂ + 0.0578 𝐞₁₃ + -0.0298 𝐞₂₃ + 0.00735 𝐞₁₂₃,\n",
       " 0.115 + -0.00644 𝐞₁ + -0.0311 𝐞₂ + 0.0739 𝐞₃ + -0.0818 𝐞₁₂ + 0.00658 𝐞₁₃ + -0.0059 𝐞₂₃ + -0.0044 𝐞₁₂₃)"
      ]
     },
     "execution_count": 375,
     "metadata": {},
     "output_type": "execute_result"
    }
   ],
   "source": [
    "#1.24\n",
    "# The last equality doesn't hold for random multivector\n",
    "d_ = lambda T: lambda x, B: d(T, x, B, alg, Ix, h=1e-3)\n",
    "(\n",
    "    T(x, B),\n",
    "    d(lambda x, B: d(T, x, B, alg, Ix, h=1e-3), x, B, alg, Ix, h=1e-3),\n",
    "    d_(d_(T))(x, B),\n",
    "    sum(o1(lambda b: sum(o(lambda a: T(a, inner(inner(B,r1),r))) for r, o in derivative_gen(b, alg, Ix))) for r1, o1 in derivative_gen(x, alg, Ix=Ix, h=1e-3)),\n",
    "    sum(o1(lambda b: sum(o(lambda a: T(a, inner(B,r1^r))) for r, o in derivative_gen(b, alg, Ix))) for r1, o1 in derivative_gen(x, alg, Ix=Ix, h=1e-3)),\n",
    ")"
   ]
  },
  {
   "cell_type": "code",
   "execution_count": 376,
   "metadata": {},
   "outputs": [
    {
     "data": {
      "text/plain": [
       "(1.29 + -0.125 𝐞₁ + -0.513 𝐞₂ + 0.793 𝐞₃ + 0.317 𝐞₁₂ + -0.278 𝐞₁₃ + -0.262 𝐞₂₃ + 0.0844 𝐞₁₂₃,\n",
       " 0.0197 + 0.0467 𝐞₁ + -0.0251 𝐞₂ + -0.00718 𝐞₃ + 0.00332 𝐞₁₂ + -0.00968 𝐞₁₃ + 0.0451 𝐞₂₃ + 0.00728 𝐞₁₂₃,\n",
       " 0.0197 + 0.0467 𝐞₁ + -0.0251 𝐞₂ + -0.00718 𝐞₃ + 0.00332 𝐞₁₂ + -0.00968 𝐞₁₃ + 0.0451 𝐞₂₃ + 0.00728 𝐞₁₂₃,\n",
       " 0.0197 + 0.0467 𝐞₁ + -0.0251 𝐞₂ + -0.00718 𝐞₃ + 0.00332 𝐞₁₂ + -0.00968 𝐞₁₃ + 0.0451 𝐞₂₃ + 0.00728 𝐞₁₂₃)"
      ]
     },
     "execution_count": 376,
     "metadata": {},
     "output_type": "execute_result"
    }
   ],
   "source": [
    "#1.24 But for grades >= 2\n",
    "d_ = lambda T: lambda x, B: d(T, x, B, alg, Ix, h=1e-3)\n",
    "blade = random_r_blade(2, alg) + random_r_blade(3, alg)\n",
    "(\n",
    "    T(x, blade),\n",
    "    d_(d_(T))(x, blade),\n",
    "    sum(o1(lambda b: sum(o(lambda a: T(a, inner(inner(blade,r1),r))) for r, o in derivative_gen(b, alg, Ix))) for r1, o1 in derivative_gen(x, alg, Ix=Ix, h=1e-3)),\n",
    "    sum(o1(lambda b: sum(o(lambda a: T(a, inner(blade,r1^r))) for r, o in derivative_gen(b, alg, Ix))) for r1, o1 in derivative_gen(x, alg, Ix=Ix, h=1e-3)),\n",
    ")"
   ]
  },
  {
   "cell_type": "code",
   "execution_count": 377,
   "metadata": {},
   "outputs": [
    {
     "data": {
      "text/plain": [
       "(0.00937 + 0.0011 𝐞₁ + -0.000668 𝐞₂ + 0.00705 𝐞₃ + -0.00463 𝐞₁₂ + 0.00353 𝐞₁₃ + -0.000414 𝐞₂₃ + 0.000713 𝐞₁₂₃,\n",
       " 0.00937 + 0.0011 𝐞₁ + -0.000668 𝐞₂ + 0.00705 𝐞₃ + -0.00463 𝐞₁₂ + 0.00353 𝐞₁₃ + -0.000414 𝐞₂₃ + 0.000713 𝐞₁₂₃,\n",
       " 0.00937 + 0.0011 𝐞₁ + -0.000668 𝐞₂ + 0.00705 𝐞₃ + -0.00463 𝐞₁₂ + 0.00353 𝐞₁₃ + -0.000414 𝐞₂₃ + 0.000713 𝐞₁₂₃)"
      ]
     },
     "execution_count": 377,
     "metadata": {},
     "output_type": "execute_result"
    }
   ],
   "source": [
    "#1.24\n",
    "d_ = lambda T: lambda x, B: d(T, x, B, alg, Ix, h=1e-3)\n",
    "blade = random_r_blade(3, alg)\n",
    "(\n",
    "    d_(d_(T))(x, blade),\n",
    "    sum(o1(lambda b: sum(o(lambda a: T(a, alg.ip(alg.ip(blade,r1),r))) for r, o in derivative_gen(b, alg, Ix))) for r1, o1 in derivative_gen(x, alg, Ix=Ix, h=1e-3)),\n",
    "    sum(o1(lambda b: sum(o(lambda a: T(a, alg.ip(blade,r1^r))) for r, o in derivative_gen(b, alg, Ix))) for r1, o1 in derivative_gen(x, alg, Ix=Ix, h=1e-3)),\n",
    ")"
   ]
  },
  {
   "cell_type": "code",
   "execution_count": 378,
   "metadata": {},
   "outputs": [
    {
     "data": {
      "text/plain": [
       "(0.0101 + -0.00426 𝐞₁ + 0.00282 𝐞₂ + -0.0284 𝐞₃ + -0.0136 𝐞₁₂ + -0.0238 𝐞₁₃ + -0.0241 𝐞₂₃ + -0.013 𝐞₁₂₃,\n",
       " -9.35e-10 + 6e-08 𝐞₁ + 3.53e-08 𝐞₂ + 4.31e-08 𝐞₃ + 4.81e-08 𝐞₁₂ + -1.41e-08 𝐞₁₃ + 3.5e-08 𝐞₂₃ + -3.25e-08 𝐞₁₂₃,\n",
       " 3.26e-18 + 5.12e-19 𝐞₁ + -3.3e-18 𝐞₂ + -4.38e-19 𝐞₃ + 1.2e-18 𝐞₁₂ + -4.18e-18 𝐞₁₃ + -3.36e-18 𝐞₂₃ + 4.51e-18 𝐞₁₂₃,\n",
       " 3.86e-18 + -7.08e-19 𝐞₁ + -3.23e-18 𝐞₂ + 3.79e-19 𝐞₃ + 1.06e-19 𝐞₁₂ + -4.22e-18 𝐞₁₃ + -2.29e-18 𝐞₂₃ + 4.35e-18 𝐞₁₂₃,\n",
       " -0.00479 + -0.00698 𝐞₁ + 0.00309 𝐞₂ + 0.0412 𝐞₃ + 0.00804 𝐞₁₂ + 0.0325 𝐞₁₃ + 0.0129 𝐞₂₃ + 0.0128 𝐞₁₂₃,\n",
       " -6.06e-09 + 3.9e-07 𝐞₁ + 2.29e-07 𝐞₂ + 2.8e-07 𝐞₃ + 3.13e-07 𝐞₁₂ + -9.17e-08 𝐞₁₃ + 2.28e-07 𝐞₂₃ + -2.11e-07 𝐞₁₂₃)"
      ]
     },
     "execution_count": 378,
     "metadata": {},
     "output_type": "execute_result"
    }
   ],
   "source": [
    "#1.25\n",
    "blade = random_r_blade(2, alg)\n",
    "(\n",
    "    d_(d_(T))(x, blade),\n",
    "    d_(d_(T))(x, P(blade, I)),\n",
    "    d_(d_(T))(x, c), # (c | d) | d is zero\n",
    "    d_(d_(T))(x, P(c, I)),\n",
    "    d_(d_(T))(x, C),\n",
    "    d_(d_(T))(x, P(C, I)),\n",
    ")\n"
   ]
  },
  {
   "cell_type": "code",
   "execution_count": 379,
   "metadata": {},
   "outputs": [
    {
     "data": {
      "text/plain": [
       "(0.352, 0.352)"
      ]
     },
     "execution_count": 379,
     "metadata": {},
     "output_type": "execute_result"
    }
   ],
   "source": [
    "#1.26a\n",
    "T = lambda x, A: (x ** 2 * A * C + B*A*x).grade(0)\n",
    "K = lambda x: simplicial_derivative(lambda vectors: T(x, wedge(vectors)), [b, c], alg, h=1e-2)\n",
    "T(x, b^c), b^c | K(x)"
   ]
  },
  {
   "cell_type": "code",
   "execution_count": 380,
   "metadata": {},
   "outputs": [
    {
     "data": {
      "text/plain": [
       "(-1.85, -1.85)"
      ]
     },
     "execution_count": 380,
     "metadata": {},
     "output_type": "execute_result"
    }
   ],
   "source": [
    "#1.26b\n",
    "K1 = lambda x: simplicial_derivative(lambda vectors: T(x, wedge(vectors)), [b], alg, h=1e-2)\n",
    "T(x, b), b | K1(x)"
   ]
  },
  {
   "cell_type": "code",
   "execution_count": 381,
   "metadata": {},
   "outputs": [
    {
     "data": {
      "text/plain": [
       "(0.197, 0.197, 0.197)"
      ]
     },
     "execution_count": 381,
     "metadata": {},
     "output_type": "execute_result"
    }
   ],
   "source": [
    "#1.27a I think B must be a blade\n",
    "frame = blade_split(Ix(x), alg)\n",
    "r_frame = reciprocal(frame)\n",
    "blade = a^b^c\n",
    "(\n",
    "    d(T, x, blade, alg, Ix), \n",
    "    derivative(K, x, alg, frame=frame, r_frame=r_frame, operator=lambda a, b: (blade|a)*b).grade(0),\n",
    "    blade | curl(K, x, alg, frame=frame, r_frame=r_frame)\n",
    ")    "
   ]
  },
  {
   "cell_type": "code",
   "execution_count": 382,
   "metadata": {},
   "outputs": [
    {
     "data": {
      "text/plain": [
       "(-0.205, -0.205, -0.205)"
      ]
     },
     "execution_count": 382,
     "metadata": {},
     "output_type": "execute_result"
    }
   ],
   "source": [
    "#1.27b\n",
    "blade = b^c\n",
    "(\n",
    "    d(T, x, blade, alg, Ix), \n",
    "    derivative(K1, x, alg, frame=frame, r_frame=r_frame, operator=lambda a, b: (blade|a)*b).grade(0),\n",
    "    blade | curl(K1, x, alg, frame=frame, r_frame=r_frame)\n",
    ")    "
   ]
  },
  {
   "cell_type": "code",
   "execution_count": 383,
   "metadata": {},
   "outputs": [
    {
     "data": {
      "text/plain": [
       "(-1.76, -1.76, -1.76)"
      ]
     },
     "execution_count": 383,
     "metadata": {},
     "output_type": "execute_result"
    }
   ],
   "source": [
    "#1.28\n",
    "def tensor_div(T, x, B, Ix, h=1e-6):\n",
    "    frame = blade_split(Ix(x), alg)\n",
    "    r_frame = reciprocal(frame)\n",
    "    return sum(differential(lambda x: T(x, alg.op(B,r)), x, v, h=h) for v, r in zip(frame, r_frame))\n",
    "\n",
    "blade = b\n",
    "(\n",
    "    tensor_div(T, x, blade, Ix), \n",
    "    derivative(K, x, alg, frame=frame, r_frame=r_frame, operator=lambda a, b: (blade^a)*b).grade(0),\n",
    "    blade | div(K, x, alg, frame=frame, r_frame=r_frame)\n",
    ")  "
   ]
  },
  {
   "cell_type": "code",
   "execution_count": 384,
   "metadata": {},
   "outputs": [
    {
     "data": {
      "text/plain": [
       "(0.0879, 0.0879, 0.0879 + -3.64e-20 𝐞₁₂ + 7.5e-20 𝐞₁₃ + 1.56e-19 𝐞₂₃)"
      ]
     },
     "execution_count": 384,
     "metadata": {},
     "output_type": "execute_result"
    }
   ],
   "source": [
    "#1.28b\n",
    "K3 = lambda x: simplicial_derivative(lambda vectors: T(x, wedge(vectors)), [a,b,c], alg, h=1e-2)\n",
    "blade = b^c\n",
    "(\n",
    "    tensor_div(T, x, blade, Ix), \n",
    "    derivative(K3, x, alg, frame=frame, r_frame=r_frame, operator=lambda a, b: (blade^a)*b).grade(0),\n",
    "    blade | div(K3, x, alg, frame=frame, r_frame=r_frame)\n",
    ")  "
   ]
  },
  {
   "cell_type": "code",
   "execution_count": 385,
   "metadata": {},
   "outputs": [],
   "source": [
    "def derivative(F, X, alg: Algebra, h=1e-6, grade=None, frame=None, r_frame=None, Ix=None, operator=None):\n",
    "    if not operator:\n",
    "        operator = alg.gp\n",
    "    if not frame:\n",
    "        if grade or (grade == 0):\n",
    "            frame = r_vector_frame(alg.frame, grade)\n",
    "            r_frame = r_vector_frame(reciprocal(alg.frame), grade, reverse=True)\n",
    "        elif Ix:\n",
    "            frame = blade_split(Ix(X), alg)\n",
    "            r_frame = reciprocal(frame)\n",
    "        else:\n",
    "            frame = multi_frame(alg.frame)\n",
    "            r_frame = reci_frame(alg.frame)\n",
    "    return sum(operator(r, differential(F, X, v, h)) for v, r in zip(frame, r_frame))"
   ]
  },
  {
   "cell_type": "code",
   "execution_count": 386,
   "metadata": {},
   "outputs": [
    {
     "data": {
      "text/plain": [
       "(0.388 𝐞₁ + 0.709 𝐞₂ + -0.00954 𝐞₃ + 1.35e-18 𝐞₁₂₃,\n",
       " 0.388 𝐞₁ + 0.709 𝐞₂ + -0.00954 𝐞₃)"
      ]
     },
     "execution_count": 386,
     "metadata": {},
     "output_type": "execute_result"
    }
   ],
   "source": [
    "#2.1 Should we define a differential in this way?\n",
    "# No, to extend the differential to the embedding space, \n",
    "# just do the projection first!\n",
    "(\n",
    "    derivative(lambda x: x, x, alg, operator=lambda a, b: (c|a)*b, Ix=Ix),\n",
    "    P(c, I)\n",
    "    )"
   ]
  },
  {
   "cell_type": "code",
   "execution_count": 387,
   "metadata": {},
   "outputs": [
    {
     "data": {
      "text/plain": [
       "(-0.362 + -1.13 𝐞₁ + 0.605 𝐞₂ + 0.00279 𝐞₃ + 0.304 𝐞₁₂ + -0.0705 𝐞₁₃ + 0.0403 𝐞₂₃,\n",
       " -0.362 + -1.13 𝐞₁ + 0.605 𝐞₂ + 0.00279 𝐞₃ + 0.304 𝐞₁₂ + -0.0705 𝐞₁₃ + 0.0403 𝐞₂₃)"
      ]
     },
     "execution_count": 387,
     "metadata": {},
     "output_type": "execute_result"
    }
   ],
   "source": [
    "#2.2 Not just the chain rule! see (1.9 extensor)\n",
    "# P and Ax are both dependent of x,\n",
    "# P is linear of Ax, so the product rule applies.\n",
    "\n",
    "Ax = lambda x: B*x**2 + C*x*D\n",
    "(\n",
    "    differential(lambda x: P(Ax(x), Ix(x)), x, b),\n",
    "    differential(lambda a: P(Ax(x), Ix(a)), x, b) + \n",
    "    differential(lambda a: P(Ax(a), Ix(x)), x, b)\n",
    "    )"
   ]
  },
  {
   "cell_type": "code",
   "execution_count": 388,
   "metadata": {},
   "outputs": [
    {
     "data": {
      "text/plain": [
       "(3.57 𝐞₁ + -0.284 𝐞₂ + 0.0756 𝐞₃,\n",
       " 3.57 𝐞₁ + -0.284 𝐞₂ + 0.0756 𝐞₃ + -1.3e-18 𝐞₁₂₃)"
      ]
     },
     "execution_count": 388,
     "metadata": {},
     "output_type": "execute_result"
    }
   ],
   "source": [
    "nI = normalize(I)\n",
    "a|I, (a*I - I*a)/2"
   ]
  },
  {
   "cell_type": "code",
   "execution_count": 389,
   "metadata": {},
   "outputs": [
    {
     "data": {
      "text/plain": [
       "(-0.102 𝐞₁ + -1.28 𝐞₂ + 0.0287 𝐞₃, -0.102 𝐞₁ + -1.28 𝐞₂ + 0.0287 𝐞₃)"
      ]
     },
     "execution_count": 389,
     "metadata": {},
     "output_type": "execute_result"
    }
   ],
   "source": [
    "P(a, I), (a - I*a*inv(I))/2"
   ]
  },
  {
   "cell_type": "code",
   "execution_count": 390,
   "metadata": {},
   "outputs": [
    {
     "data": {
      "text/plain": [
       "(-0.0376 𝐞₁ + -0.0556 𝐞₂ + -0.0844 𝐞₃ + -0.0355 𝐞₁₂ + -0.108 𝐞₁₃ + 0.0802 𝐞₂₃,\n",
       " -1.22e-10 + -0.0376 𝐞₁ + -0.0556 𝐞₂ + -0.0844 𝐞₃ + -0.0355 𝐞₁₂ + -0.108 𝐞₁₃ + 0.0802 𝐞₂₃)"
      ]
     },
     "execution_count": 390,
     "metadata": {},
     "output_type": "execute_result"
    }
   ],
   "source": [
    "#2.3 projection differential\n",
    "Pb = lambda A: differential(lambda x: P(A, Ix(x)), x, b)\n",
    "Pb(1.1*A + 2.2*B), 1.1*Pb(A) + 2.2*Pb(B)"
   ]
  },
  {
   "cell_type": "code",
   "execution_count": 391,
   "metadata": {},
   "outputs": [
    {
     "data": {
      "text/plain": [
       "(,\n",
       " -0.0113 𝐞₁₂ + -0.0275 𝐞₁₃ + 0.0206 𝐞₂₃,\n",
       " -0.0113 𝐞₁₂ + -0.0275 𝐞₁₃ + 0.0206 𝐞₂₃)"
      ]
     },
     "execution_count": 391,
     "metadata": {},
     "output_type": "execute_result"
    }
   ],
   "source": [
    "#2.4\n",
    "Pb(A.grade(0)), Pb(A.grade(2)), Pb(A).grade(2)"
   ]
  },
  {
   "cell_type": "code",
   "execution_count": 392,
   "metadata": {},
   "outputs": [
    {
     "data": {
      "text/plain": [
       "(-0.0192, -0.0192)"
      ]
     },
     "execution_count": 392,
     "metadata": {},
     "output_type": "execute_result"
    }
   ],
   "source": [
    "#2.5\n",
    "B.sp(Pb(A)), A.sp(Pb(B))"
   ]
  },
  {
   "cell_type": "code",
   "execution_count": 393,
   "metadata": {},
   "outputs": [
    {
     "data": {
      "text/plain": [
       "(2.78e-11 + -0.02 𝐞₁ + -0.0284 𝐞₂ + -0.0212 𝐞₃ + -0.00499 𝐞₁₂ + -0.0362 𝐞₁₃ + 0.0266 𝐞₂₃,\n",
       " -2.8e-11 + -0.02 𝐞₁ + -0.0284 𝐞₂ + -0.0212 𝐞₃ + -0.00499 𝐞₁₂ + -0.0362 𝐞₁₃ + 0.0266 𝐞₂₃ + -5.02e-13 𝐞₁₂₃)"
      ]
     },
     "execution_count": 393,
     "metadata": {},
     "output_type": "execute_result"
    }
   ],
   "source": [
    "#2.6\n",
    "Pb(A^B), (Pb(A) ^ P(B, I)) + (P(A, I) ^ Pb(B))"
   ]
  },
  {
   "cell_type": "code",
   "execution_count": 394,
   "metadata": {},
   "outputs": [
    {
     "data": {
      "text/plain": [
       "(-0.0279 𝐞₁ + -0.0384 𝐞₂ + -0.00442 𝐞₃ + -0.0113 𝐞₁₂ + -0.0275 𝐞₁₃ + 0.0206 𝐞₂₃,\n",
       " -0.0279 𝐞₁ + -0.0384 𝐞₂ + -0.00442 𝐞₃ + -0.0113 𝐞₁₂ + -0.0275 𝐞₁₃ + 0.0206 𝐞₂₃)"
      ]
     },
     "execution_count": 394,
     "metadata": {},
     "output_type": "execute_result"
    }
   ],
   "source": [
    "#2.7\n",
    "(\n",
    "    Pb(A),\n",
    "    Pb(P(A, I)) + P(Pb(A), I)\n",
    ")"
   ]
  },
  {
   "cell_type": "code",
   "execution_count": 395,
   "metadata": {},
   "outputs": [
    {
     "data": {
      "text/plain": [
       "(0.206 𝐞₁ + -0.197 𝐞₂ + 0.0108 𝐞₃ + -0.123 𝐞₁₂ + -0.141 𝐞₁₃ + -0.147 𝐞₂₃,\n",
       " 0.0241 𝐞₁ + 0.0288 𝐞₂ + 0.00362 𝐞₃ + 0.00788 𝐞₁₂ + 0.0207 𝐞₁₃ + -0.0177 𝐞₂₃)"
      ]
     },
     "execution_count": 395,
     "metadata": {},
     "output_type": "execute_result"
    }
   ],
   "source": [
    "#2.8 These are different as the differential operator is defined in the embedding space\n",
    "# Recall the comment of 2.1\n",
    "(\n",
    "    differential(lambda x: P(A, Ix(x)), x, c),\n",
    "    differential(lambda x: P(A, Ix(x)), x, P(c, I))\n",
    "    )"
   ]
  },
  {
   "cell_type": "code",
   "execution_count": 396,
   "metadata": {},
   "outputs": [
    {
     "data": {
      "text/plain": [
       "(-0.00011 𝐞₁ + 0.000138 𝐞₂ + 0.00573 𝐞₃,\n",
       " -0.00011 𝐞₁ + 0.000138 𝐞₂ + 0.00573 𝐞₃)"
      ]
     },
     "execution_count": 396,
     "metadata": {},
     "output_type": "execute_result"
    }
   ],
   "source": [
    "#2.9 So the differential here has aready done the projection on a and b\n",
    "a, b = random_r_vectors(2, alg)\n",
    "Pb = lambda A: differential(lambda x: P(A, Ix(x)), x, P(b, I))\n",
    "Pa = lambda A: differential(lambda x: P(A, Ix(x)), x, P(a, I))\n",
    "Pa(P(b, I)), Pb(P(a, I))"
   ]
  },
  {
   "cell_type": "markdown",
   "metadata": {},
   "source": [
    "So only the tangent part of b contributes to the projection differential. \n",
    "\n",
    "How about A? We split A into tangent/rejected parts.\n",
    "\n",
    "Pb interchanges the tangent part and the rejected part."
   ]
  },
  {
   "cell_type": "code",
   "execution_count": 397,
   "metadata": {},
   "outputs": [
    {
     "data": {
      "text/plain": [
       "(-0.000126 𝐞₁ + 0.000157 𝐞₂ + 0.00653 𝐞₃ + -0.000283 𝐞₁₂ + 0.0219 𝐞₁₃ + -0.042 𝐞₂₃,\n",
       " 1.97e-12 𝐞₁ + -6.18e-13 𝐞₂ + 5.27e-14 𝐞₃ + 6.12e-11 𝐞₁₂ + -1.47e-12 𝐞₁₃ + -1.18e-12 𝐞₂₃,\n",
       " 0.0578 𝐞₁ + 0.0302 𝐞₂ + 0.000389 𝐞₃ + 0.00257 𝐞₁₂ + -6.18e-05 𝐞₁₃ + -4.96e-05 𝐞₂₃,\n",
       " 0.0578 𝐞₁ + 0.0302 𝐞₂ + 0.000389 𝐞₃ + 0.00257 𝐞₁₂ + -6.18e-05 𝐞₁₃ + -4.96e-05 𝐞₂₃)"
      ]
     },
     "execution_count": 397,
     "metadata": {},
     "output_type": "execute_result"
    }
   ],
   "source": [
    "#2.11\n",
    "Ap = P(A, I)\n",
    "Ar = A - Ap\n",
    "Pb(Ap), P(Pb(Ap), I), Pb(Ar), P(Pb(Ar), I)\n"
   ]
  },
  {
   "cell_type": "code",
   "execution_count": 398,
   "metadata": {},
   "outputs": [
    {
     "data": {
      "text/plain": [
       "(5.55e-11 + -0.000565 𝐞₁ + 0.000704 𝐞₂ + 0.0294 𝐞₃ + -0.000369 𝐞₁₂ + 0.0286 𝐞₁₃ + -0.0548 𝐞₂₃,\n",
       " -0.000565 𝐞₁ + 0.000704 𝐞₂ + 0.0294 𝐞₃ + -0.000369 𝐞₁₂ + 0.0286 𝐞₁₃ + -0.0548 𝐞₂₃ + -9.52e-13 𝐞₁₂₃)"
      ]
     },
     "execution_count": 398,
     "metadata": {},
     "output_type": "execute_result"
    }
   ],
   "source": [
    "#2.12a\n",
    "Bp = P(B,I)\n",
    "Br = B - Bp\n",
    "Pb(Ap^Bp), (Pb(Ap)^Bp) + (Ap ^Pb(Bp))"
   ]
  },
  {
   "cell_type": "code",
   "execution_count": 399,
   "metadata": {},
   "outputs": [
    {
     "data": {
      "text/plain": [
       "(0.0382 𝐞₁ + 0.0199 𝐞₂ + 0.000257 𝐞₃ + 0.0139 𝐞₁₂ + -0.000333 𝐞₁₃ + -0.000267 𝐞₂₃,\n",
       " 0.0382 𝐞₁ + 0.0199 𝐞₂ + 0.000257 𝐞₃ + 0.0139 𝐞₁₂ + -0.000333 𝐞₁₃ + -0.000267 𝐞₂₃ + 2.71e-15 𝐞₁₂₃)"
      ]
     },
     "execution_count": 399,
     "metadata": {},
     "output_type": "execute_result"
    }
   ],
   "source": [
    "#2.12b\n",
    "Pb(Ar ^ Bp), Pb(Ar) ^ Bp"
   ]
  },
  {
   "cell_type": "code",
   "execution_count": 400,
   "metadata": {},
   "outputs": [
    {
     "data": {
      "text/plain": [
       "6.42e-18 𝐞₁ + 3.35e-18 𝐞₂ + 4.32e-20 𝐞₃ + -5.87e-19 𝐞₁₂ + 1.41e-20 𝐞₁₃ + 1.13e-20 𝐞₂₃"
      ]
     },
     "execution_count": 400,
     "metadata": {},
     "output_type": "execute_result"
    }
   ],
   "source": [
    "#2.12c\n",
    "Pb(Ar ^ Br)"
   ]
  },
  {
   "cell_type": "code",
   "execution_count": 401,
   "metadata": {},
   "outputs": [
    {
     "data": {
      "text/plain": [
       "(0.00275 𝐞₁₂ + -6.6e-05 𝐞₁₃ + -5.3e-05 𝐞₂₃,\n",
       " 0.00275 𝐞₁₂ + -6.6e-05 𝐞₁₃ + -5.3e-05 𝐞₂₃)"
      ]
     },
     "execution_count": 401,
     "metadata": {},
     "output_type": "execute_result"
    }
   ],
   "source": [
    "#2.13 How such factorization is done? What is ar? \n",
    "# See 2.20, ar is the spur\n",
    "blade = random_r_blade(2, alg)\n",
    "Ar = blade - P(blade, I)\n",
    "N = sum(o(lambda x: P(r, Ix(x))) for r, o in derivative_gen(x, alg, Ix=Ix))\n",
    "Bp = inv(N) * Ar\n",
    "Pb(Ar), Pb(N) ^ Bp"
   ]
  },
  {
   "cell_type": "markdown",
   "metadata": {},
   "source": [
    "### The Shape Operator"
   ]
  },
  {
   "cell_type": "code",
   "execution_count": 402,
   "metadata": {},
   "outputs": [
    {
     "data": {
      "text/plain": [
       "(0.104 + -0.0169 𝐞₁ + -0.011 𝐞₂ + -6.2e-05 𝐞₃ + 0.000169 𝐞₁₂ + 0.00481 𝐞₁₃ + 0.00279 𝐞₂₃ + -0.0755 𝐞₁₂₃,\n",
       " 0.104 + -0.0169 𝐞₁ + -0.011 𝐞₂ + -6.2e-05 𝐞₃ + 0.000169 𝐞₁₂ + 0.00481 𝐞₁₃ + 0.00279 𝐞₂₃ + -0.0755 𝐞₁₂₃)"
      ]
     },
     "execution_count": 402,
     "metadata": {},
     "output_type": "execute_result"
    }
   ],
   "source": [
    "#2.14\n",
    "S = lambda A: derivative(lambda x: P(A, Ix(x)), x, alg, Ix=Ix)\n",
    "S1 = lambda A: derivative(lambda b: differential(lambda x: P(A, Ix(x)), x, b), x, alg, Ix=Ix, h=1e-3)\n",
    "S(A), S1(A)"
   ]
  },
  {
   "cell_type": "code",
   "execution_count": 403,
   "metadata": {},
   "outputs": [
    {
     "data": {
      "text/plain": [
       "(0.145 + -0.056 𝐞₁ + -0.041 𝐞₂ + -9.52e-05 𝐞₃ + 0.00301 𝐞₁₂ + 0.0863 𝐞₁₃ + 0.0489 𝐞₂₃ + -0.295 𝐞₁₂₃,\n",
       " 0.145 + -0.056 𝐞₁ + -0.041 𝐞₂ + -9.52e-05 𝐞₃ + 0.00301 𝐞₁₂ + 0.0863 𝐞₁₃ + 0.0489 𝐞₂₃ + -0.295 𝐞₁₂₃)"
      ]
     },
     "execution_count": 403,
     "metadata": {},
     "output_type": "execute_result"
    }
   ],
   "source": [
    "#2.15\n",
    "S(1.1*A + 2.2*B), S(1.1*A) + S(2.2*B)"
   ]
  },
  {
   "cell_type": "code",
   "execution_count": 404,
   "metadata": {},
   "outputs": [
    {
     "data": {
      "text/plain": [
       "(7.89e-12 + 0.000148 𝐞₁₂ + 0.00338 𝐞₁₃ + 0.00348 𝐞₂₃,\n",
       " 0.000148 𝐞₁₂ + 0.00338 𝐞₁₃ + 0.00348 𝐞₂₃)"
      ]
     },
     "execution_count": 404,
     "metadata": {},
     "output_type": "execute_result"
    }
   ],
   "source": [
    "#2.16a\n",
    "ap = P(a, I)\n",
    "ar = a - ap\n",
    "S(ap), derivative(lambda x: P(a, Ix(x)), x, alg, Ix=Ix, operator=alg.op)"
   ]
  },
  {
   "cell_type": "code",
   "execution_count": 405,
   "metadata": {},
   "outputs": [
    {
     "data": {
      "text/plain": [
       "(0.0757 + -7.99e-12 𝐞₁₂ + 1.89e-13 𝐞₁₃ + 1.65e-13 𝐞₂₃,\n",
       " 0.0757 + -7.99e-12 𝐞₁₂ + 1.92e-13 𝐞₁₃ + 1.54e-13 𝐞₂₃,\n",
       " 0.0757 + -1.17e-11 𝐞₁₂ + 2.8e-13 𝐞₁₃ + 2.25e-13 𝐞₂₃,\n",
       " 0.0757 + 1.48e-20 𝐞₁₂ + 7.69e-22 𝐞₁₃ + 1.59e-19 𝐞₂₃)"
      ]
     },
     "execution_count": 405,
     "metadata": {},
     "output_type": "execute_result"
    }
   ],
   "source": [
    "#2.16b\n",
    "(\n",
    "    S(ar),\n",
    "    P(S(ar), I),\n",
    "    P(S(a), I),\n",
    "    derivative(lambda x: P(a, Ix(x)), x, alg, Ix=Ix, operator=alg.ip)\n",
    "    )"
   ]
  },
  {
   "cell_type": "code",
   "execution_count": 406,
   "metadata": {},
   "outputs": [
    {
     "data": {
      "text/plain": [
       "(-7.99e-12 𝐞₁₂ + 1.89e-13 𝐞₁₃ + 1.65e-13 𝐞₂₃,\n",
       " 7.89e-12 + 1.17e-20 𝐞₁₂ + -2.82e-22 𝐞₁₃ + -2.26e-22 𝐞₂₃,\n",
       " 7.6e-06 𝐞₁₂ + -0.707 𝐞₁₃ + 0.881 𝐞₂₃,\n",
       " -0.0516)"
      ]
     },
     "execution_count": 406,
     "metadata": {},
     "output_type": "execute_result"
    }
   ],
   "source": [
    "#2.17\n",
    "(\n",
    "    derivative(lambda x: P(ar, Ix(x)), x, alg, Ix=Ix, operator=alg.op),\n",
    "    derivative(lambda x: P(ap, Ix(x)), x, alg, Ix=Ix, operator=alg.ip),\n",
    "    derivative(lambda x: P(ar, Ix(x)), x, alg, grade=1, operator=alg.op),\n",
    "    derivative(lambda x: P(ap, Ix(x)), x, alg, grade=1, operator=alg.ip)\n",
    ")"
   ]
  },
  {
   "cell_type": "markdown",
   "metadata": {},
   "source": [
    "Alot of synonym here... But just a split of the argument into tangent/rejected parts"
   ]
  },
  {
   "cell_type": "code",
   "execution_count": 407,
   "metadata": {},
   "outputs": [
    {
     "data": {
      "text/plain": [
       "(0.0757 + 0.000148 𝐞₁₂ + 0.00338 𝐞₁₃ + 0.00348 𝐞₂₃,\n",
       " 0.0757 + -7.99e-12 𝐞₁₂ + 1.89e-13 𝐞₁₃ + 1.65e-13 𝐞₂₃,\n",
       " 7.89e-12 + 0.000148 𝐞₁₂ + 0.00338 𝐞₁₃ + 0.00348 𝐞₂₃)"
      ]
     },
     "execution_count": 407,
     "metadata": {},
     "output_type": "execute_result"
    }
   ],
   "source": [
    "#2.18\n",
    "S(a), S(ar), S(ap)"
   ]
  },
  {
   "cell_type": "code",
   "execution_count": 408,
   "metadata": {},
   "outputs": [
    {
     "data": {
      "text/plain": [
       "(7.89e-12 + 0.000148 𝐞₁₂ + 0.00338 𝐞₁₃ + 0.00348 𝐞₂₃,\n",
       " 0.000148 𝐞₁₂ + 0.00338 𝐞₁₃ + 0.00348 𝐞₂₃)"
      ]
     },
     "execution_count": 408,
     "metadata": {},
     "output_type": "execute_result"
    }
   ],
   "source": [
    "#2.19 the tangent part of the argument\n",
    "# the curl of the manifold\n",
    "def shape(Ix, alg):\n",
    "    return lambda x: lambda A: derivative(lambda x: P(A, Ix(x)), x, alg, Ix=Ix)\n",
    "def manifold_curl(Ix, alg):\n",
    "    return lambda x: lambda A: curl(lambda x: P(A, Ix(x)), x, alg, Ix=Ix)\n",
    "\n",
    "Sa = manifold_curl(Ix, alg)(x)(a)\n",
    "S(ap), Sa"
   ]
  },
  {
   "cell_type": "code",
   "execution_count": 409,
   "metadata": {},
   "outputs": [
    {
     "data": {
      "text/plain": [
       "(0.0757 + -7.99e-12 𝐞₁₂ + 1.89e-13 𝐞₁₃ + 1.65e-13 𝐞₂₃,\n",
       " 0.0757 + 1.48e-20 𝐞₁₂ + 7.69e-22 𝐞₁₃ + 1.59e-19 𝐞₂₃,\n",
       " 0.0757)"
      ]
     },
     "execution_count": 409,
     "metadata": {},
     "output_type": "execute_result"
    }
   ],
   "source": [
    "#2.21 the rejected part of the argument\n",
    "\n",
    "def manifold_spur(Ix, alg):\n",
    "    return lambda x: sum(o(lambda x: P(r, Ix(x))) for r, o in derivative_gen(x, alg, Ix=Ix))\n",
    "\n",
    "N = manifold_spur(Ix, alg)\n",
    "(\n",
    "    S(ar),\n",
    "    div(lambda x: P(a, Ix(x)), x, alg, Ix=Ix),\n",
    "    N(x) | a\n",
    ")"
   ]
  },
  {
   "cell_type": "code",
   "execution_count": 410,
   "metadata": {},
   "outputs": [
    {
     "data": {
      "text/plain": [
       "(-0.00201 𝐞₁ + 0.0025 𝐞₂ + 0.104 𝐞₃,\n",
       " -0.00201 𝐞₁ + 0.0025 𝐞₂ + 0.104 𝐞₃,\n",
       " -0.00201 𝐞₁ + 0.0025 𝐞₂ + 0.104 𝐞₃ + 1.75e-09 𝐞₁₂₃,\n",
       " 0.0055 𝐞₁ + 0.00823 𝐞₂ + 0.103 𝐞₃ + 0.000391 𝐞₁₂₃)"
      ]
     },
     "execution_count": 410,
     "metadata": {},
     "output_type": "execute_result"
    }
   ],
   "source": [
    "#2.20 manifold spur\n",
    "# The manifold curl takes inputs from the embedding space,\n",
    "# so does its derivative.\n",
    "Sa = manifold_curl(Ix, alg)(x)\n",
    "(\n",
    "    N(x),\n",
    "    div(Sa, a, alg, grade=1, h=1e-3), \n",
    "    derivative(Sa, a, alg, grade=1, h=1e-3), # right\n",
    "    derivative(Sa, a, alg, Ix=Ix, h=1e-3) # wrong\n",
    "    )"
   ]
  },
  {
   "cell_type": "code",
   "execution_count": null,
   "metadata": {},
   "outputs": [
    {
     "data": {
      "text/plain": [
       "(-0.00201 𝐞₁ + 0.0025 𝐞₂ + 0.104 𝐞₃, -0.00201 𝐞₁ + 0.0025 𝐞₂ + 0.104 𝐞₃)"
      ]
     },
     "execution_count": 267,
     "metadata": {},
     "output_type": "execute_result"
    }
   ],
   "source": [
    "# the tensor spur of the projection differential\n",
    "frame_gen_ = frame_gen(x, alg, Ix)\n",
    "projection_differential = lambda A, b: differential(lambda x: P(A, Ix(x)), x, b)\n",
    "dp = 0\n",
    "for (v, vr), (w, wr) in product(frame_gen_, repeat=2):\n",
    "    dp += (v | w) * projection_differential(vr, wr)\n",
    "N(x), dp"
   ]
  },
  {
   "cell_type": "code",
   "execution_count": 268,
   "metadata": {},
   "outputs": [
    {
     "data": {
      "text/plain": [
       "-1.56e-10 𝐞₁ + 3.5e-10 𝐞₂ + -1.14e-11 𝐞₃"
      ]
     },
     "execution_count": 268,
     "metadata": {},
     "output_type": "execute_result"
    }
   ],
   "source": [
    "#2.22\n",
    "N(x) | I"
   ]
  },
  {
   "cell_type": "code",
   "execution_count": 269,
   "metadata": {},
   "outputs": [
    {
     "data": {
      "text/plain": [
       "5.42e-05"
      ]
     },
     "execution_count": 269,
     "metadata": {},
     "output_type": "execute_result"
    }
   ],
   "source": [
    "# Pb() is divergence free\n",
    "div(Pb, a, alg, grade=1)"
   ]
  },
  {
   "cell_type": "code",
   "execution_count": 272,
   "metadata": {},
   "outputs": [
    {
     "data": {
      "text/plain": [
       "-2.08e-06 𝐞₁₂₃"
      ]
     },
     "execution_count": 272,
     "metadata": {},
     "output_type": "execute_result"
    }
   ],
   "source": [
    "#2.23\n",
    "curl(Sa, a, alg, grade=1)"
   ]
  },
  {
   "cell_type": "code",
   "execution_count": 273,
   "metadata": {},
   "outputs": [
    {
     "data": {
      "text/plain": [
       "(0.139 𝐞₁ + -0.161 𝐞₂ + 0.291 𝐞₃, 0.00177 𝐞₁ + 0.00995 𝐞₂ + 0.00901 𝐞₃)"
      ]
     },
     "execution_count": 273,
     "metadata": {},
     "output_type": "execute_result"
    }
   ],
   "source": [
    "#2.27 not hold for a in the embedding space\n",
    "b = random_r_blade(1, alg)\n",
    "Pa = lambda A: differential(lambda x: P(A, Ix(x)), x, a)\n",
    "Pa(b), (P(b, I) | Sa(a)) - P(b | Sa(a), I)"
   ]
  },
  {
   "cell_type": "code",
   "execution_count": 274,
   "metadata": {},
   "outputs": [
    {
     "data": {
      "text/plain": [
       "(0.00228 𝐞₁ + 0.0138 𝐞₂ + 0.0201 𝐞₃, 0.00228 𝐞₁ + 0.0138 𝐞₂ + 0.0201 𝐞₃)"
      ]
     },
     "execution_count": 274,
     "metadata": {},
     "output_type": "execute_result"
    }
   ],
   "source": [
    "#2.27 but for a in the tangent space\n",
    "b = random_r_blade(1, alg)\n",
    "Pa = lambda A: differential(lambda x: P(A, Ix(x)), x, ap)\n",
    "Pa(b), (P(b, I) | Sa(ap)) - P(b | Sa(ap), I)"
   ]
  },
  {
   "cell_type": "code",
   "execution_count": 275,
   "metadata": {},
   "outputs": [
    {
     "data": {
      "text/plain": [
       "(-0.00028 𝐞₁ + 0.000348 𝐞₂ + 0.0145 𝐞₃, -0.00028 𝐞₁ + 0.000348 𝐞₂ + 0.0145 𝐞₃)"
      ]
     },
     "execution_count": 275,
     "metadata": {},
     "output_type": "execute_result"
    }
   ],
   "source": [
    "#2.28 holds for a, b in the embedding space\n",
    "a, b = random_r_vectors(2, alg)\n",
    "P(b, I) | Sa(a), P(a, I) | Sa(b)"
   ]
  },
  {
   "cell_type": "code",
   "execution_count": 276,
   "metadata": {},
   "outputs": [
    {
     "data": {
      "text/plain": [
       "1.54e-10 𝐞₁₂ + -3.7e-12 𝐞₁₃ + -2.97e-12 𝐞₂₃"
      ]
     },
     "execution_count": 276,
     "metadata": {},
     "output_type": "execute_result"
    }
   ],
   "source": [
    "#2.30\n",
    "P(Sa(a), I)"
   ]
  },
  {
   "cell_type": "code",
   "execution_count": 78,
   "metadata": {},
   "outputs": [
    {
     "data": {
      "text/plain": [
       "(5.55e-11 + 0.00576 𝐞₁ + -0.00479 𝐞₂ + 0.0283 𝐞₃ + -0.145 𝐞₁₂ + -0.0419 𝐞₁₃ + -0.0495 𝐞₂₃,\n",
       " 4.91e-05 𝐞₁ + 0.00233 𝐞₂ + 0.0354 𝐞₃ + 0.00593 𝐞₁₂ + 0.0122 𝐞₁₃ + -0.00618 𝐞₂₃)"
      ]
     },
     "execution_count": 78,
     "metadata": {},
     "output_type": "execute_result"
    }
   ],
   "source": [
    "#2.33 Pb is completely determined by Sb\n",
    "Sb = Sa(b, x)\n",
    "Pb = lambda A: differential(lambda x: P(A, Ix(x)), x, b)\n",
    "Pb(A), P(A, I).cp(Sb) - P(A.cp(Sb), I)"
   ]
  },
  {
   "cell_type": "code",
   "execution_count": 79,
   "metadata": {},
   "outputs": [
    {
     "data": {
      "text/plain": [
       "(-1.11e-10 + 4.91e-05 𝐞₁ + 0.00233 𝐞₂ + 0.0354 𝐞₃ + 0.00593 𝐞₁₂ + 0.0122 𝐞₁₃ + -0.00618 𝐞₂₃,\n",
       " 4.91e-05 𝐞₁ + 0.00233 𝐞₂ + 0.0354 𝐞₃ + 0.00593 𝐞₁₂ + 0.0122 𝐞₁₃ + -0.00618 𝐞₂₃)"
      ]
     },
     "execution_count": 79,
     "metadata": {},
     "output_type": "execute_result"
    }
   ],
   "source": [
    "#2.33 but for b in tangent space\n",
    "bp = P(b, I)\n",
    "Sb = Sa(bp, x)\n",
    "Pb = lambda A: differential(lambda x: P(A, Ix(x)), x, bp)\n",
    "Pb(A), P(A, I).cp(Sb) - P(A.cp(Sb), I)"
   ]
  },
  {
   "cell_type": "code",
   "execution_count": 80,
   "metadata": {},
   "outputs": [
    {
     "data": {
      "text/plain": [
       "(-1.11e-10 + -0.000683 𝐞₁ + 0.000851 𝐞₂ + 0.0355 𝐞₃ + 0.000179 𝐞₁₂ + 0.0123 𝐞₁₃ + -0.00607 𝐞₂₃,\n",
       " -0.000683 𝐞₁ + 0.000851 𝐞₂ + 0.0355 𝐞₃ + 0.000179 𝐞₁₂ + 0.0123 𝐞₁₃ + -0.00607 𝐞₂₃,\n",
       " 0.000732 𝐞₁ + 0.00148 𝐞₂ + -2.15e-05 𝐞₃ + 0.00576 𝐞₁₂ + -0.000138 𝐞₁₃ + -0.000111 𝐞₂₃,\n",
       " 0.000732 𝐞₁ + 0.00148 𝐞₂ + -2.15e-05 𝐞₃ + 0.00576 𝐞₁₂ + -0.000138 𝐞₁₃ + -0.000111 𝐞₂₃)"
      ]
     },
     "execution_count": 80,
     "metadata": {},
     "output_type": "execute_result"
    }
   ],
   "source": [
    "#2.34 the commutator product anticommutes\n",
    "Ar = A - Ap\n",
    "Pb(Ap), Ap.cp(Sb), Pb(Ar), P(Sb.cp(A), I)"
   ]
  },
  {
   "cell_type": "code",
   "execution_count": 81,
   "metadata": {},
   "outputs": [
    {
     "data": {
      "text/plain": [
       "(8.55e-11 + 1.02e-10 𝐞₁ + -1.96e-10 𝐞₂ + -1.18e-11 𝐞₃ + 0.00211 𝐞₁₂ + 0.061 𝐞₁₃ + 0.0337 𝐞₂₃ + -0.0476 𝐞₁₂₃,\n",
       " 1.11e-10 𝐞₁ + -1.55e-10 𝐞₂ + 5.86e-12 𝐞₃ + 0.00211 𝐞₁₂ + 0.061 𝐞₁₃ + 0.0337 𝐞₂₃ + -0.0476 𝐞₁₂₃,\n",
       " -2.49e-13 𝐞₁₂ + 1.89e-14 𝐞₁₃ + 1.16e-14 𝐞₂₃ + -4.37e-15 𝐞₁₂₃)"
      ]
     },
     "execution_count": 81,
     "metadata": {},
     "output_type": "execute_result"
    }
   ],
   "source": [
    "#2.35a\n",
    "S(Ap), curl(lambda x: P(A, Ix(x)), x, alg, Ix=Ix), curl(lambda x: P(Ar, Ix(x)), x, alg, Ix=Ix)"
   ]
  },
  {
   "cell_type": "code",
   "execution_count": 82,
   "metadata": {},
   "outputs": [
    {
     "data": {
      "text/plain": [
       "(0.00573 + -0.024 𝐞₁ + -0.0474 𝐞₂ + 0.000673 𝐞₃ + -2.49e-13 𝐞₁₂ + 1.89e-14 𝐞₁₃ + 1.16e-14 𝐞₂₃ + -4.37e-15 𝐞₁₂₃,\n",
       " 0.00573 + -0.024 𝐞₁ + -0.0474 𝐞₂ + 0.000673 𝐞₃ + 3.83e-10 𝐞₁₂ + -9.19e-12 𝐞₁₃ + -7.38e-12 𝐞₂₃,\n",
       " 0.00573 + -0.024 𝐞₁ + -0.0474 𝐞₂ + 0.000673 𝐞₃ + 8.36e-20 𝐞₁₂ + -7.58e-21 𝐞₁₃ + -1.67e-21 𝐞₂₃,\n",
       " 8.55e-11 + -9.19e-12 𝐞₁ + -4.12e-11 𝐞₂ + -1.76e-11 𝐞₃ + 8.37e-20 𝐞₁₂ + -2.01e-21 𝐞₁₃ + -1.61e-21 𝐞₂₃)"
      ]
     },
     "execution_count": 82,
     "metadata": {},
     "output_type": "execute_result"
    }
   ],
   "source": [
    "#2.35b\n",
    "S(Ar), P(S(A), I), div(lambda x: P(A, Ix(x)), x, alg, Ix=Ix), div(lambda x: P(Ap, Ix(x)), x, alg, Ix=Ix)"
   ]
  },
  {
   "cell_type": "code",
   "execution_count": 83,
   "metadata": {},
   "outputs": [
    {
     "data": {
      "text/plain": [
       "(0.00573 + -0.024 𝐞₁ + -0.0474 𝐞₂ + 0.000673 𝐞₃ + 0.00211 𝐞₁₂ + 0.061 𝐞₁₃ + 0.0337 𝐞₂₃ + -0.0476 𝐞₁₂₃,\n",
       " -9.19e-12 𝐞₁ + -4.12e-11 𝐞₂ + -1.76e-11 𝐞₃ + -0.0476 𝐞₁₂₃,\n",
       " -0.024 𝐞₁ + -0.0474 𝐞₂ + 0.000673 𝐞₃)"
      ]
     },
     "execution_count": 83,
     "metadata": {},
     "output_type": "execute_result"
    }
   ],
   "source": [
    "#2.36\n",
    "S(A), S(Ap.grade(2)), P(S(A.grade(2)), I)"
   ]
  },
  {
   "cell_type": "code",
   "execution_count": 84,
   "metadata": {},
   "outputs": [
    {
     "data": {
      "text/plain": [
       "(9.704598422657416, 2.795476648867301)"
      ]
     },
     "execution_count": 84,
     "metadata": {},
     "output_type": "execute_result"
    }
   ],
   "source": [
    "# Ix expands and shrinks, so 2.42 fails\n",
    "norm(Ix(c2e(0.5, 1))), norm(I)"
   ]
  },
  {
   "cell_type": "code",
   "execution_count": 85,
   "metadata": {},
   "outputs": [
    {
     "data": {
      "text/plain": [
       "(89.7 𝐞₁₂ + -4.31 𝐞₁₃ + -3.68 𝐞₂₃, 89.8 𝐞₁₂ + -2.15 𝐞₁₃ + -1.73 𝐞₂₃)"
      ]
     },
     "execution_count": 85,
     "metadata": {},
     "output_type": "execute_result"
    }
   ],
   "source": [
    "#2.42 doesn't hold?\n",
    "dI = differential(Ix, x, a)\n",
    "dI, P(dI, I)"
   ]
  },
  {
   "cell_type": "code",
   "execution_count": 86,
   "metadata": {},
   "outputs": [
    {
     "data": {
      "text/plain": [
       "(-0.032 𝐞₁₂ + -0.772 𝐞₁₃ + -0.698 𝐞₂₃,\n",
       " -5.16e-11 𝐞₁₂ + 1.24e-12 𝐞₁₃ + 9.94e-13 𝐞₂₃)"
      ]
     },
     "execution_count": 86,
     "metadata": {},
     "output_type": "execute_result"
    }
   ],
   "source": [
    "#2.42 holds if Ix is normalized,\n",
    "# So the result comes from differentiating (I**2 = constant),\n",
    "# but not from (I*inv(I) = constant)\n",
    "nIx = lambda x: normalize(Ix(x))\n",
    "dI = differential(nIx, x, a)\n",
    "dI, P(dI, I)"
   ]
  },
  {
   "cell_type": "code",
   "execution_count": 87,
   "metadata": {},
   "outputs": [
    {
     "data": {
      "text/plain": [
       "-0.032 𝐞₁₂ + -0.772 𝐞₁₃ + -0.698 𝐞₂₃"
      ]
     },
     "execution_count": 87,
     "metadata": {},
     "output_type": "execute_result"
    }
   ],
   "source": [
    "#2.43\n",
    "Pa = lambda A: differential(lambda x: P(A, (nIx(x))), x, a)\n",
    "I = nIx(x)\n",
    "Pa(I)"
   ]
  },
  {
   "cell_type": "code",
   "execution_count": 88,
   "metadata": {},
   "outputs": [
    {
     "data": {
      "text/plain": [
       "(1.62e-10 𝐞₁ + 8.47e-12 𝐞₂ + -3.16e-11 𝐞₃ + -0.104 𝐞₁₂₃,\n",
       " -1.48e-10 𝐞₁ + 1.75e-10 𝐞₂ + -4.33e-11 𝐞₃ + -0.104 𝐞₁₂₃)"
      ]
     },
     "execution_count": 88,
     "metadata": {},
     "output_type": "execute_result"
    }
   ],
   "source": [
    "#2.44\n",
    "derivative(nIx, x, alg, Ix=Ix), S(I)"
   ]
  },
  {
   "cell_type": "code",
   "execution_count": 89,
   "metadata": {},
   "outputs": [
    {
     "data": {
      "text/plain": [
       "(8.55e-11 + 1.02e-10 𝐞₁ + -1.96e-10 𝐞₂ + -1.18e-11 𝐞₃ + 0.00211 𝐞₁₂ + 0.061 𝐞₁₃ + 0.0337 𝐞₂₃ + -0.0476 𝐞₁₂₃,\n",
       " 8.55e-11 + 1.01e-10 𝐞₁ + -1.96e-10 𝐞₂ + 6.66e-12 𝐞₃ + -2.47e-10 𝐞₁₂ + 5.93e-12 𝐞₁₃ + 4.76e-12 𝐞₂₃)"
      ]
     },
     "execution_count": 89,
     "metadata": {},
     "output_type": "execute_result"
    }
   ],
   "source": [
    "#2.45\n",
    "S(P(A, I)), P(S(P(A, I)), I)"
   ]
  },
  {
   "cell_type": "code",
   "execution_count": 90,
   "metadata": {},
   "outputs": [
    {
     "data": {
      "text/plain": [
       "(-1.91e-12 + -0.00251 𝐞₁ + -0.00217 𝐞₂ + 3.62e-06 𝐞₃ + -1.07e-13 𝐞₁₂ + 6.53e-12 𝐞₁₃ + -8.07e-12 𝐞₂₃ + 2.58e-11 𝐞₁₂₃,\n",
       " -1.91e-12 + -0.00251 𝐞₁ + -0.00217 𝐞₂ + 3.62e-06 𝐞₃ + -1.08e-13 𝐞₁₂ + 2.59e-15 𝐞₁₃ + 2.08e-15 𝐞₂₃,\n",
       " -2.88e-12 + 4.33e-13 𝐞₁ + -3.64e-12 𝐞₂ + 9.56e-14 𝐞₃ + -7.32e-05 𝐞₁₂ + -0.0015 𝐞₁₃ + -0.00193 𝐞₂₃ + 2.6e-14 𝐞₁₂₃,\n",
       " -4.04e-28 + 1.73e-18 𝐞₁ + -2.17e-18 𝐞₂ + -7.69e-17 𝐞₃ + -7.32e-05 𝐞₁₂ + -0.0015 𝐞₁₃ + -0.00193 𝐞₂₃ + -4e-11 𝐞₁₂₃,\n",
       " 1.87e-11 + 8.67e-13 𝐞₁ + -1.22e-20 𝐞₂ + 1.67e-14 𝐞₃ + -7.32e-05 𝐞₁₂ + -0.0015 𝐞₁₃ + -0.00193 𝐞₂₃ + -4e-11 𝐞₁₂₃)"
      ]
     },
     "execution_count": 90,
     "metadata": {},
     "output_type": "execute_result"
    }
   ],
   "source": [
    "#2.46\n",
    "Pr = lambda X, A: X - P(X, A)\n",
    "S(S(P(A, I))), P(S(S(P(A, I))), I), S(S(Ar)), Pr(S(S(A)), I), S(P(S(A), I))"
   ]
  },
  {
   "cell_type": "code",
   "execution_count": null,
   "metadata": {},
   "outputs": [],
   "source": []
  }
 ],
 "metadata": {
  "kernelspec": {
   "display_name": "3.10.5",
   "language": "python",
   "name": "python3"
  },
  "language_info": {
   "codemirror_mode": {
    "name": "ipython",
    "version": 3
   },
   "file_extension": ".py",
   "mimetype": "text/x-python",
   "name": "python",
   "nbconvert_exporter": "python",
   "pygments_lexer": "ipython3",
   "version": "3.10.5"
  }
 },
 "nbformat": 4,
 "nbformat_minor": 2
}
