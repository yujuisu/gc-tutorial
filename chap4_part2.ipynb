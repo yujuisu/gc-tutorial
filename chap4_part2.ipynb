{
 "cells": [
  {
   "cell_type": "code",
   "execution_count": 71,
   "metadata": {},
   "outputs": [
    {
     "data": {
      "text/plain": [
       "(2.79 𝐞₁₂ + -0.067 𝐞₁₃ + -0.0538 𝐞₂₃, 3.69e-15 𝐞₁₂₃)"
      ]
     },
     "execution_count": 71,
     "metadata": {},
     "output_type": "execute_result"
    }
   ],
   "source": [
    "#1.3 ellipsoid\n",
    "# Let M be an ellipsoid in R3, (ax)^{2}+(by)^{2}+z^{2}=d\n",
    "# x = 1/a*cos(p)*sin(t)*e1 + 1/b*sin(p)*sin(t)*e2 + cos(t)*e3, t, p in R\n",
    "\n",
    "from gc_utils import *\n",
    "alg = Algebra(3)\n",
    "locals().update(alg.blades)\n",
    "\n",
    "c2e = lambda p, t: 4*np.cos(p)*np.sin(t)*e1 + 5*np.sin(p)*np.sin(t)*e2 + np.cos(t)*e3\n",
    "e_p = lambda p, t: -4*np.sin(p)*np.sin(t)*e1 + 5*np.cos(p)*np.sin(t)*e2\n",
    "e_t = lambda p, t: (4*np.cos(p)*np.cos(t)*e1) + (5*np.sin(p)*np.cos(t)*e2) - (np.sin(t)*e3)\n",
    "def Ix(x):\n",
    "    p = np.arctan((4/5)*x.e2/x.e1)\n",
    "    t = np.arccos(x.e3)\n",
    "    return e_p(p, t) ^ e_t(p, t)\n",
    "\n",
    "# |p| < pi/2, 0 < t < pi for unique arctan & arccos\n",
    "p, t = -1, 3\n",
    "x = c2e(p, t)\n",
    "I = Ix(x)\n",
    "\n",
    "I, I ^ (3*e_t(p,t) + 5*e_p(p,t))"
   ]
  },
  {
   "cell_type": "code",
   "execution_count": 72,
   "metadata": {},
   "outputs": [
    {
     "data": {
      "text/plain": [
       "(0.651 + 0.128 𝐞₁ + -0.249 𝐞₂ + 0.00844 𝐞₃ + -0.0975 𝐞₁₂ + 0.00234 𝐞₁₃ + 0.00188 𝐞₂₃,\n",
       " 0.651 + 0.12 𝐞₁ + -0.266 𝐞₂ + 0.00871 𝐞₃ + -0.101 𝐞₁₂ + 0.00243 𝐞₁₃ + 0.00195 𝐞₂₃,\n",
       " 0.651 + 0.12 𝐞₁ + -0.266 𝐞₂ + 0.0282 𝐞₃ + -0.102 𝐞₁₂ + 0.00114 𝐞₁₃ + 0.00256 𝐞₂₃,\n",
       " -0.0518 + -0.798 𝐞₁ + -0.126 𝐞₂ + 0.103 𝐞₃ + -0.122 𝐞₁₂ + 0.0308 𝐞₁₃ + 0.0263 𝐞₂₃)"
      ]
     },
     "execution_count": 72,
     "metadata": {},
     "output_type": "execute_result"
    }
   ],
   "source": [
    "#3.1\n",
    "B, C, D = [random_multivector(alg) for _ in range(3)]\n",
    "a, b, c = random_r_vectors(3, alg)\n",
    "A = lambda x: B*x**2 + C*x*D\n",
    "PA = lambda x: P(A(x), Ix(x))\n",
    "def codiff(F, x, a, Ix, h=1e-6):\n",
    "    return P(differential(F, x, P(a, Ix(x)), h), Ix(x))\n",
    "\n",
    "codiff(A, x, a, Ix), codiff(PA, x, a, Ix), differential(PA, x, P(a,I)), differential(PA, x, a)"
   ]
  },
  {
   "cell_type": "code",
   "execution_count": 73,
   "metadata": {},
   "outputs": [
    {
     "data": {
      "text/plain": [
       "(-0.173 + 2.12 𝐞₁ + 1.98 𝐞₂ + -0.00681 𝐞₃ + 0.996 𝐞₁₂ + -0.0239 𝐞₁₃ + -0.0192 𝐞₂₃,\n",
       " -0.172 + 2.12 𝐞₁ + 1.98 𝐞₂ + -0.0068 𝐞₃ + 0.996 𝐞₁₂ + -0.0239 𝐞₁₃ + -0.0192 𝐞₂₃ + -4.26e-12 𝐞₁₂₃)"
      ]
     },
     "execution_count": 73,
     "metadata": {},
     "output_type": "execute_result"
    }
   ],
   "source": [
    "#3.2\n",
    "def coderivative(A, x, alg, Ix, h=1e-6):\n",
    "    return P(derivative(A, x, alg, Ix=Ix, h=h), Ix(x))\n",
    "\n",
    "(\n",
    "    coderivative(A, x, alg, Ix=Ix), \n",
    "    derivative(lambda a: codiff(A, x, a, Ix), x, alg, Ix=Ix)\n",
    "    )"
   ]
  },
  {
   "cell_type": "code",
   "execution_count": 74,
   "metadata": {},
   "outputs": [
    {
     "data": {
      "text/plain": [
       "(5.76 + 1.47 𝐞₁ + -0.227 𝐞₂ + 0.0337 𝐞₃ + 1.02 𝐞₁₂ + -0.0245 𝐞₁₃ + -0.0197 𝐞₂₃,\n",
       " 5.76 + 1.47 𝐞₁ + -0.227 𝐞₂ + 0.0337 𝐞₃ + 1.02 𝐞₁₂ + -0.0245 𝐞₁₃ + -0.0197 𝐞₂₃)"
      ]
     },
     "execution_count": 74,
     "metadata": {},
     "output_type": "execute_result"
    }
   ],
   "source": [
    "# linearity\n",
    "codiff(A, x, 2.2*a+3.3*b, Ix), 2.2*codiff(A, x, a, Ix) + 3.3*codiff(A, x, b, Ix)"
   ]
  },
  {
   "cell_type": "code",
   "execution_count": 75,
   "metadata": {},
   "outputs": [
    {
     "data": {
      "text/plain": [
       "(-2.81 + -1.34 𝐞₁ + -1.83 𝐞₂ + -0.498 𝐞₃ + 0.16 𝐞₁₂ + -1.5 𝐞₁₃ + -1.63 𝐞₂₃ + -0.306 𝐞₁₂₃,\n",
       " -2.81 + -1.34 𝐞₁ + -1.83 𝐞₂ + -0.498 𝐞₃ + 0.16 𝐞₁₂ + -1.5 𝐞₁₃ + -1.63 𝐞₂₃ + -0.306 𝐞₁₂₃)"
      ]
     },
     "execution_count": 75,
     "metadata": {},
     "output_type": "execute_result"
    }
   ],
   "source": [
    "#3.3 The equality holds for differential\n",
    "T = lambda x, A: x ** 2 * A * C + B*A*x\n",
    "dA = differential(A, x, a)\n",
    "(\n",
    "    differential(lambda a: T(a, A(x)), x, a), \n",
    "    differential(lambda x: T(x, A(x)), x, a) - T(x, dA)\n",
    "    )"
   ]
  },
  {
   "cell_type": "code",
   "execution_count": 76,
   "metadata": {},
   "outputs": [
    {
     "data": {
      "text/plain": [
       "(-1.03 + -0.548 𝐞₁ + -0.245 𝐞₂ + -0.00469 𝐞₃ + 0.439 𝐞₁₂ + -0.0105 𝐞₁₃ + -0.00845 𝐞₂₃,\n",
       " -0.43 + -1.1 𝐞₁ + -1.11 𝐞₂ + -0.483 𝐞₃ + -0.0775 𝐞₁₂ + -0.382 𝐞₁₃ + -0.068 𝐞₂₃ + -0.831 𝐞₁₂₃)"
      ]
     },
     "execution_count": 76,
     "metadata": {},
     "output_type": "execute_result"
    }
   ],
   "source": [
    "#3.3 But not for codifferential\n",
    "dA = codiff(A, x, a, Ix)\n",
    "(\n",
    "    codiff(lambda a: T(a, A(x)), x, a, Ix), \n",
    "    codiff(lambda x: T(x, A(x)), x, a, Ix) - T(x, dA)\n",
    "    )"
   ]
  },
  {
   "cell_type": "code",
   "execution_count": 77,
   "metadata": {},
   "outputs": [
    {
     "data": {
      "text/plain": [
       "-1.03 + -0.548 𝐞₁ + -0.245 𝐞₂ + -0.00469 𝐞₃ + 0.439 𝐞₁₂ + -0.0105 𝐞₁₃ + -0.00845 𝐞₂₃"
      ]
     },
     "execution_count": 77,
     "metadata": {},
     "output_type": "execute_result"
    }
   ],
   "source": [
    "#3.3 Instead:\n",
    "ap = P(a, I)\n",
    "dA = differential(A, x, ap)\n",
    "codiff(lambda x: T(x, A(x)), x, a, Ix) - P(T(x, dA), I)"
   ]
  },
  {
   "cell_type": "code",
   "execution_count": 78,
   "metadata": {},
   "outputs": [
    {
     "data": {
      "text/plain": [
       "(-0.719 + -0.305 𝐞₁ + -0.329 𝐞₂ + 0.00201 𝐞₃ + 0.175 𝐞₁₂ + -0.00419 𝐞₁₃ + -0.00337 𝐞₂₃,\n",
       " -0.719 + -0.305 𝐞₁ + -0.329 𝐞₂ + 0.00201 𝐞₃ + 0.175 𝐞₁₂ + -0.00419 𝐞₁₃ + -0.00337 𝐞₂₃)"
      ]
     },
     "execution_count": 78,
     "metadata": {},
     "output_type": "execute_result"
    }
   ],
   "source": [
    "#3.3 Actually the T above fails to be an extensor. \n",
    "# An extensor field restricts both input and output\n",
    "T = lambda x, A: P(x ** 2 * P(A,Ix(x)) * C + B*P(A,Ix(x))*x, Ix(x))\n",
    "dA = codiff(A, x, a, Ix)\n",
    "(\n",
    "    codiff(lambda a: T(a, A(x)), x, a, Ix), \n",
    "    codiff(lambda x: T(x, A(x)), x, a, Ix) - T(x, dA)\n",
    "    )"
   ]
  },
  {
   "cell_type": "code",
   "execution_count": 79,
   "metadata": {},
   "outputs": [
    {
     "data": {
      "text/plain": [
       "(-1.16 + 0.211 𝐞₁ + -0.105 𝐞₂ + 0.126 𝐞₃ + 1.44 𝐞₁₂ + -0.0374 𝐞₁₃ + -0.0768 𝐞₂₃,\n",
       " -1.16 + 0.213 𝐞₁ + -0.108 𝐞₂ + 0.0067 𝐞₃ + 1.45 𝐞₁₂ + -0.0347 𝐞₁₃ + -0.0278 𝐞₂₃)"
      ]
     },
     "execution_count": 79,
     "metadata": {},
     "output_type": "execute_result"
    }
   ],
   "source": [
    "#3.4\n",
    "dT = d(T, x, B, alg, Ix)\n",
    "dT, P(dT, I)"
   ]
  },
  {
   "cell_type": "code",
   "execution_count": 80,
   "metadata": {},
   "outputs": [
    {
     "data": {
      "text/plain": [
       "(1.54 𝐞₁ + 0.657 𝐞₂ + 0.0139 𝐞₃ + 1.63e-18 𝐞₁₂₃,\n",
       " 1.54 𝐞₁ + 0.657 𝐞₂ + 0.0139 𝐞₃)"
      ]
     },
     "execution_count": 80,
     "metadata": {},
     "output_type": "execute_result"
    }
   ],
   "source": [
    "# scalar field\n",
    "dA = derivative(lambda x: A(x).grade(0), x, alg, Ix=Ix)\n",
    "dA, P(dA, I)"
   ]
  },
  {
   "cell_type": "code",
   "execution_count": 81,
   "metadata": {},
   "outputs": [
    {
     "data": {
      "text/plain": [
       "(-0.251 + 2.12 𝐞₁ + 1.98 𝐞₂ + -0.00654 𝐞₃ + 0.998 𝐞₁₂ + 0.0266 𝐞₁₃ + -0.000772 𝐞₂₃ + 0.00576 𝐞₁₂₃,\n",
       " -0.251 + 2.12 𝐞₁ + 1.98 𝐞₂ + -0.00654 𝐞₃ + 0.998 𝐞₁₂ + 0.0266 𝐞₁₃ + -0.000772 𝐞₂₃ + 0.00576 𝐞₁₂₃,\n",
       " 7e-11 + 1.03e-10 𝐞₁ + -3.21e-10 𝐞₂ + 1.17e-11 𝐞₃ + 0.00156 𝐞₁₂ + 0.0505 𝐞₁₃ + 0.0184 𝐞₂₃ + 0.00576 𝐞₁₂₃)"
      ]
     },
     "execution_count": 81,
     "metadata": {},
     "output_type": "execute_result"
    }
   ],
   "source": [
    "#3.6, 3.7\n",
    "S = shape(Ix, alg)\n",
    "dPA = derivative(PA, x, alg, Ix=Ix)\n",
    "dPA, P(dPA, I) + S(x, PA(x)), S(x, PA(x))"
   ]
  },
  {
   "cell_type": "code",
   "execution_count": 82,
   "metadata": {},
   "outputs": [
    {
     "data": {
      "text/plain": [
       "(1.54 𝐞₁ + 0.657 𝐞₂ + 0.0139 𝐞₃ + 0.998 𝐞₁₂ + 0.0266 𝐞₁₃ + -0.000772 𝐞₂₃ + 0.00576 𝐞₁₂₃,\n",
       " 7e-11 + 1.54 𝐞₁ + 0.657 𝐞₂ + 0.0139 𝐞₃ + 0.998 𝐞₁₂ + 0.0266 𝐞₁₃ + -0.000772 𝐞₂₃ + 0.00576 𝐞₁₂₃)"
      ]
     },
     "execution_count": 82,
     "metadata": {},
     "output_type": "execute_result"
    }
   ],
   "source": [
    "#3.7b\n",
    "def cocurl(A, x, alg, Ix, h=1e-6):\n",
    "    return P(curl(A, x, alg, Ix=Ix, h=h), Ix(x))\n",
    "\n",
    "def codiv(A, x, alg, Ix, h=1e-6):\n",
    "    return P(div(A, x, alg, Ix=Ix, h=h), Ix(x))\n",
    "\n",
    "curl(PA, x, alg, Ix=Ix), cocurl(A, x, alg, Ix=Ix) + S(x, PA(x))"
   ]
  },
  {
   "cell_type": "code",
   "execution_count": 83,
   "metadata": {},
   "outputs": [
    {
     "data": {
      "text/plain": [
       "(1.54 𝐞₁ + 0.657 𝐞₂ + 0.0139 𝐞₃ + 0.996 𝐞₁₂ + -0.0239 𝐞₁₃ + -0.0192 𝐞₂₃,\n",
       " 1.54 𝐞₁ + 0.657 𝐞₂ + 0.0139 𝐞₃ + 0.996 𝐞₁₂ + -0.0239 𝐞₁₃ + -0.0192 𝐞₂₃)"
      ]
     },
     "execution_count": 83,
     "metadata": {},
     "output_type": "execute_result"
    }
   ],
   "source": [
    "#3.8\n",
    "cocurl(PA, x, alg, Ix=Ix), cocurl(A, x, alg, Ix=Ix)"
   ]
  },
  {
   "cell_type": "code",
   "execution_count": 84,
   "metadata": {},
   "outputs": [
    {
     "data": {
      "text/plain": [
       "(-0.251 + 0.58 𝐞₁ + 1.32 𝐞₂ + -0.0205 𝐞₃ + 4.57e-20 𝐞₁₂ + -1.1e-21 𝐞₁₃ + -8.8e-22 𝐞₂₃,\n",
       " -0.251 + 0.58 𝐞₁ + 1.32 𝐞₂ + -0.0205 𝐞₃ + 1.36e-20 𝐞₁₂ + 8.67e-19 𝐞₁₃ + -6.94e-18 𝐞₁₂₃)"
      ]
     },
     "execution_count": 84,
     "metadata": {},
     "output_type": "execute_result"
    }
   ],
   "source": [
    "#3.9 the expansion of Ix contributes to the curl, \n",
    "# so we need a normalized version\n",
    "nIx = lambda x: normalize(Ix(x))\n",
    "nI = nIx(x)\n",
    "codiv(PA, x, alg, Ix=Ix), cocurl(lambda x: PA(x)*nIx(x), x, alg, Ix=Ix) * inv(nI)"
   ]
  },
  {
   "cell_type": "code",
   "execution_count": 85,
   "metadata": {},
   "outputs": [
    {
     "data": {
      "text/plain": [
       "(0.000354 𝐞₁₂ + 0.0235 𝐞₁₃ + -0.011 𝐞₂₃,\n",
       " 0.000354 𝐞₁₂ + 0.0235 𝐞₁₃ + -0.011 𝐞₂₃)"
      ]
     },
     "execution_count": 85,
     "metadata": {},
     "output_type": "execute_result"
    }
   ],
   "source": [
    "# the dropped term\n",
    "differential(lambda a: P(nIx(x), nIx(a)), x, ap), differential(nIx, x, ap)"
   ]
  },
  {
   "cell_type": "code",
   "execution_count": 86,
   "metadata": {},
   "outputs": [
    {
     "data": {
      "text/plain": [
       "(-7.52e-31 𝐞₁ + -9.7e-12 𝐞₂ + 2.33e-13 𝐞₃ + -7.29e-05 𝐞₁₂ + -0.0294 𝐞₁₃ + 0.0329 𝐞₂₃ + -0.0952 𝐞₁₂₃,\n",
       " -1.5e-30 𝐞₁ + -1.94e-11 𝐞₂ + 4.66e-13 𝐞₃ + -7.29e-05 𝐞₁₂ + -0.0294 𝐞₁₃ + 0.0329 𝐞₂₃ + -0.0952 𝐞₁₂₃)"
      ]
     },
     "execution_count": 86,
     "metadata": {},
     "output_type": "execute_result"
    }
   ],
   "source": [
    "# the dropped term\n",
    "curl(lambda a: PA(x)*P(nIx(x), nIx(a)), x, alg, Ix=Ix), curl(lambda a: PA(x)*nIx(a), x, alg, Ix=Ix)"
   ]
  },
  {
   "cell_type": "code",
   "execution_count": 87,
   "metadata": {},
   "outputs": [
    {
     "data": {
      "text/plain": [
       "(3.64e-07 + -8.93e-09 𝐞₁ + 2.99e-07 𝐞₂ + -1.24e-07 𝐞₃ + -7.01e-08 𝐞₁₂ + -3.16e-07 𝐞₁₃ + 7.87e-07 𝐞₂₃ + 4.72e-07 𝐞₁₂₃,\n",
       " 0.00291 + 0.0832 𝐞₁ + 0.122 𝐞₂ + -0.00679 𝐞₃ + -0.0793 𝐞₁₂ + 0.124 𝐞₁₃ + 0.112 𝐞₂₃ + -0.0648 𝐞₁₂₃,\n",
       " 0.00291 + 0.0832 𝐞₁ + 0.122 𝐞₂ + -0.00679 𝐞₃ + -0.0793 𝐞₁₂ + 0.124 𝐞₁₃ + 0.112 𝐞₂₃ + -0.0648 𝐞₁₂₃,\n",
       " 0.00291 + 0.0832 𝐞₁ + 0.122 𝐞₂ + -0.00679 𝐞₃ + -0.0793 𝐞₁₂ + 0.124 𝐞₁₃ + 0.112 𝐞₂₃ + -0.0648 𝐞₁₂₃)"
      ]
     },
     "execution_count": 87,
     "metadata": {},
     "output_type": "execute_result"
    }
   ],
   "source": [
    "#3.10 The first derivative only acts on the second derivative is enough?\n",
    "# Why leading to the same result?\n",
    "# Answer: exactly what 3.10 tells us!\n",
    "frame = blade_split(I, alg)\n",
    "r_frame = reciprocal(frame)\n",
    "(\n",
    "    sum((ar ^ br) * differential(lambda x: differential(A, x, b), x, a, h=1e-3) for (a,ar), (b,br) in product(zip(frame, r_frame), repeat=2)),\n",
    "    sum(o1(lambda x: sum((r1 ^ r) * o(A) for r, o in derivative_gen(x, alg, Ix))) for r1, o1 in derivative_gen(x, alg, Ix, h=1e-3)),\n",
    "    sum(curl(lambda x: P(r, Ix(x)), x, alg, Ix=Ix) * differential(A, x, v) for v, r in zip(frame, r_frame)),\n",
    "    sum(S(x, r) * differential(A, x, v) for v, r in zip(frame, r_frame))\n",
    "    )\n"
   ]
  },
  {
   "cell_type": "code",
   "execution_count": 88,
   "metadata": {},
   "outputs": [
    {
     "data": {
      "text/plain": [
       "(2.04 + 1.98 𝐞₁ + 2.5 𝐞₂ + 0.347 𝐞₃ + 2.4 𝐞₁₂ + 3.82 𝐞₁₃ + 2.47 𝐞₂₃ + 1.25 𝐞₁₂₃,\n",
       " 2.04 + 1.98 𝐞₁ + 2.5 𝐞₂ + 0.347 𝐞₃ + 2.4 𝐞₁₂ + 3.82 𝐞₁₃ + 2.47 𝐞₂₃ + 1.25 𝐞₁₂₃,\n",
       " 2.21 + 2.04 𝐞₁ + 2.44 𝐞₂ + 0.333 𝐞₃ + 2.49 𝐞₁₂ + 3.83 𝐞₁₃ + 2.37 𝐞₂₃ + 1.26 𝐞₁₂₃,\n",
       " 2.21 + 2.04 𝐞₁ + 2.44 𝐞₂ + 0.333 𝐞₃ + 2.49 𝐞₁₂ + 3.83 𝐞₁₃ + 2.37 𝐞₂₃ + 1.26 𝐞₁₂₃,\n",
       " 0.00291 + 0.0832 𝐞₁ + 0.122 𝐞₂ + -0.00679 𝐞₃ + -0.0793 𝐞₁₂ + 0.124 𝐞₁₃ + 0.112 𝐞₂₃ + -0.0648 𝐞₁₂₃)"
      ]
     },
     "execution_count": 88,
     "metadata": {},
     "output_type": "execute_result"
    }
   ],
   "source": [
    "# A single representation may indicates several operations\n",
    "# Use overdots to specify\n",
    "# see 1.24 \n",
    "deriv_ = lambda A: lambda x: derivative(A, x, alg, Ix=Ix, h=1e-3)\n",
    "(\n",
    "    deriv_(deriv_(A))(x),\n",
    "    sum(o1(lambda x: sum((r1 * r) * o(A) for r, o in derivative_gen(x, alg, Ix))) for r1, o1 in derivative_gen(x, alg, Ix, h=1e-3)),\n",
    "    sum((ar * br) * differential(lambda x: differential(A, x, b), x, a, h=1e-3) for (a,ar), (b,br) in product(zip(frame, r_frame), repeat=2)),\n",
    "    sum((ar | br) * differential(lambda x: differential(A, x, b), x, a, h=1e-3) for (a,ar), (b,br) in product(zip(frame, r_frame), repeat=2)),\n",
    "    sum(derivative(lambda x: P(r, Ix(x)), x, alg, Ix=Ix) * differential(A, x, v) for v, r in zip(frame, r_frame)),\n",
    "    )\n"
   ]
  },
  {
   "cell_type": "code",
   "execution_count": 89,
   "metadata": {},
   "outputs": [
    {
     "data": {
      "text/plain": [
       "(0.00284 𝐞₁₂ + 0.0975 𝐞₁₃ + 0.0262 𝐞₂₃ + -0.0648 𝐞₁₂₃,\n",
       " -2.22e-19 𝐞₁ + -3.47e-21 𝐞₃ + 1.03e-07 𝐞₁₂ + -2.46e-09 𝐞₁₃ + -1.98e-09 𝐞₂₃,\n",
       " 1.03e-07 𝐞₁₂ + -2.46e-09 𝐞₁₃ + -1.98e-09 𝐞₂₃)"
      ]
     },
     "execution_count": 89,
     "metadata": {},
     "output_type": "execute_result"
    }
   ],
   "source": [
    "#3.11\n",
    "curl_ = lambda A: lambda x: curl(A, x, alg, Ix=Ix, h=1e-3)\n",
    "cocurl_ = lambda A: lambda x: cocurl(A, x, alg, Ix, h=1e-3)\n",
    "cc = curl_(curl_(A))(x)\n",
    "cc, P(cc, I), cocurl_(cocurl_(A))(x)"
   ]
  },
  {
   "cell_type": "code",
   "execution_count": 90,
   "metadata": {},
   "outputs": [
    {
     "data": {
      "text/plain": [
       "(0.00291 + 0.0176 𝐞₁ + 0.0715 𝐞₂ + -0.00138 𝐞₃ + 2.93e-18 𝐞₁₂ + -1.63e-19 𝐞₁₃ + -2.99e-18 𝐞₂₃,\n",
       " 9.41e-08 + 2.44e-16 𝐞₁ + 3.24e-17 𝐞₂ + -3.25e-15 𝐞₃ + 7.15e-20 𝐞₁₂ + -1.99e-19 𝐞₁₃ + -2.97e-18 𝐞₂₃,\n",
       " -0.0335 + 1.04e-14 𝐞₁ + -2.48e-15 𝐞₂ + 2.6e-16 𝐞₃ + 1.34e-19 𝐞₁₂ + -3.22e-21 𝐞₁₃ + -2.58e-21 𝐞₂₃,\n",
       " 9.95e-08 + 1.81e-16 𝐞₁ + 1.1e-16 𝐞₂ + 8.37e-19 𝐞₃ + 1.33e-19 𝐞₁₂ + -3.2e-21 𝐞₁₃ + -2.57e-21 𝐞₂₃)"
      ]
     },
     "execution_count": 90,
     "metadata": {},
     "output_type": "execute_result"
    }
   ],
   "source": [
    "#3.12\n",
    "div_ = lambda A: lambda x: div(A, x, alg, Ix=Ix, h=1e-3)\n",
    "codiv_ = lambda A: lambda x: codiv(A, x, alg, Ix, h=1e-3)\n",
    "div_(div_(A))(x), div_(div_(PA))(x), codiv_(codiv_(A))(x), codiv_(codiv_(PA))(x)"
   ]
  },
  {
   "cell_type": "code",
   "execution_count": 91,
   "metadata": {},
   "outputs": [
    {
     "data": {
      "text/plain": [
       "(2.01 + 1.93 𝐞₁ + 2.34 𝐞₂ + -0.0189 𝐞₃ + 2.26 𝐞₁₂ + -0.0542 𝐞₁₃ + -0.0435 𝐞₂₃,\n",
       " 2.01 + 1.93 𝐞₁ + 2.34 𝐞₂ + -0.0189 𝐞₃ + 2.26 𝐞₁₂ + -0.0542 𝐞₁₃ + -0.0435 𝐞₂₃ + 6.34e-18 𝐞₁₂₃,\n",
       " 2.01 + 1.93 𝐞₁ + 2.34 𝐞₂ + -0.0189 𝐞₃ + 2.26 𝐞₁₂ + -0.0542 𝐞₁₃ + -0.0435 𝐞₂₃ + 6.33e-18 𝐞₁₂₃,\n",
       " 2.01 + 1.93 𝐞₁ + 2.34 𝐞₂ + -0.0189 𝐞₃ + 2.26 𝐞₁₂ + -0.0542 𝐞₁₃ + -0.0435 𝐞₂₃,\n",
       " 2.04 + 1.93 𝐞₁ + 2.34 𝐞₂ + -0.0189 𝐞₃ + 2.26 𝐞₁₂ + -0.0542 𝐞₁₃ + -0.0435 𝐞₂₃)"
      ]
     },
     "execution_count": 91,
     "metadata": {},
     "output_type": "execute_result"
    }
   ],
   "source": [
    "#3.13\n",
    "coderiv_ = lambda A: lambda x: coderivative(A, x, alg, Ix, h=1e-3)\n",
    "dd = sum(ar * br * codiff(lambda x: codiff(A, x, b, Ix), x, a, Ix, h=1e-3) for (a,ar), (b,br) in product(zip(frame, r_frame), repeat=2))\n",
    "cd = sum((ar ^ br) * codiff(lambda x: codiff(A, x, b, Ix), x, a, Ix, h=1e-3) for (a,ar), (b,br) in product(zip(frame, r_frame), repeat=2))\n",
    "id = sum((ar | br) * codiff(lambda x: codiff(A, x, b, Ix), x, a, Ix, h=1e-3) for (a,ar), (b,br) in product(zip(frame, r_frame), repeat=2))\n",
    "(\n",
    "    coderiv_(coderiv_(A))(x),\n",
    "    dd,\n",
    "    cd + id,\n",
    "    cocurl_(coderiv_(A))(x) + codiv_(coderiv_(A))(x),\n",
    "    cocurl_(codiv_(A))(x) + codiv_(cocurl_(A))(x),\n",
    ")"
   ]
  },
  {
   "cell_type": "code",
   "execution_count": 92,
   "metadata": {},
   "outputs": [
    {
     "data": {
      "text/plain": [
       "(2.21 + 2.04 𝐞₁ + 2.44 𝐞₂ + 0.333 𝐞₃ + 2.49 𝐞₁₂ + 3.83 𝐞₁₃ + 2.37 𝐞₂₃ + 1.26 𝐞₁₂₃,\n",
       " 2.04 + 1.98 𝐞₁ + 2.5 𝐞₂ + 0.347 𝐞₃ + 2.4 𝐞₁₂ + 3.82 𝐞₁₃ + 2.47 𝐞₂₃ + 1.25 𝐞₁₂₃,\n",
       " 3.64e-07 + -8.93e-09 𝐞₁ + 2.99e-07 𝐞₂ + -1.24e-07 𝐞₃ + -7.01e-08 𝐞₁₂ + -3.16e-07 𝐞₁₃ + 7.87e-07 𝐞₂₃ + 4.72e-07 𝐞₁₂₃,\n",
       " 0.00291 + 0.0832 𝐞₁ + 0.122 𝐞₂ + -0.00679 𝐞₃ + -0.0793 𝐞₁₂ + 0.124 𝐞₁₃ + 0.112 𝐞₂₃ + -0.0648 𝐞₁₂₃,\n",
       " 2.21 + 2.04 𝐞₁ + 2.44 𝐞₂ + 0.333 𝐞₃ + 2.49 𝐞₁₂ + 3.83 𝐞₁₃ + 2.37 𝐞₂₃ + 1.26 𝐞₁₂₃,\n",
       " 2.04 + 1.9 𝐞₁ + 2.38 𝐞₂ + 0.354 𝐞₃ + 2.48 𝐞₁₂ + 3.7 𝐞₁₃ + 2.36 𝐞₂₃ + 1.31 𝐞₁₂₃)"
      ]
     },
     "execution_count": 92,
     "metadata": {},
     "output_type": "execute_result"
    }
   ],
   "source": [
    "# These are not identical for derivatives\n",
    "(\n",
    "    sum(ar * br * differential(lambda x: differential(A, x, b), x, a, h=1e-3) for (a,ar), (b,br) in product(zip(frame, r_frame), repeat=2)),\n",
    "    sum(o1(lambda x: sum((r1*r)* o(A) for r, o in derivative_gen(x, alg, Ix))) for r1, o1 in derivative_gen(x, alg, Ix, h=1e-3)),\n",
    "    sum((ar ^ br) * differential(lambda x: differential(A, x, b), x, a, h=1e-3) for (a,ar), (b,br) in product(zip(frame, r_frame), repeat=2)),\n",
    "    sum(o1(lambda x: sum((r1^r)* o(A) for r, o in derivative_gen(x, alg, Ix))) for r1, o1 in derivative_gen(x, alg, Ix, h=1e-3)),\n",
    "    sum((ar | br) * differential(lambda x: differential(A, x, b), x, a, h=1e-3) for (a,ar), (b,br) in product(zip(frame, r_frame), repeat=2)),\n",
    "    sum(o1(lambda x: sum((r1|r)* o(A) for r, o in derivative_gen(x, alg, Ix))) for r1, o1 in derivative_gen(x, alg, Ix, h=1e-3))\n",
    ")"
   ]
  },
  {
   "cell_type": "code",
   "execution_count": 93,
   "metadata": {},
   "outputs": [
    {
     "data": {
      "text/plain": [
       "(2.01 + 1.93 𝐞₁ + 2.34 𝐞₂ + -0.0189 𝐞₃ + 2.26 𝐞₁₂ + -0.0542 𝐞₁₃ + -0.0435 𝐞₂₃ + 6.34e-18 𝐞₁₂₃,\n",
       " 2.01 + 1.93 𝐞₁ + 2.34 𝐞₂ + -0.0189 𝐞₃ + 2.26 𝐞₁₂ + -0.0542 𝐞₁₃ + -0.0435 𝐞₂₃,\n",
       " -0.0335 + -0.0432 𝐞₁ + -0.0797 𝐞₂ + 0.00108 𝐞₃ + 2.33e-07 𝐞₁₂ + -5.59e-09 𝐞₁₃ + -4.48e-09 𝐞₂₃ + -3.39e-20 𝐞₁₂₃,\n",
       " -0.0335 + -0.0432 𝐞₁ + -0.0797 𝐞₂ + 0.00108 𝐞₃ + -3.88e-07 𝐞₁₂ + 9.3e-09 𝐞₁₃ + 7.46e-09 𝐞₂₃,\n",
       " 2.04 + 1.97 𝐞₁ + 2.42 𝐞₂ + -0.02 𝐞₃ + 2.26 𝐞₁₂ + -0.0542 𝐞₁₃ + -0.0435 𝐞₂₃ + 6.36e-18 𝐞₁₂₃,\n",
       " 2.04 + 1.97 𝐞₁ + 2.42 𝐞₂ + -0.02 𝐞₃ + 2.26 𝐞₁₂ + -0.0542 𝐞₁₃ + -0.0435 𝐞₂₃)"
      ]
     },
     "execution_count": 93,
     "metadata": {},
     "output_type": "execute_result"
    }
   ],
   "source": [
    "# But for coderivatives:\n",
    "def coderivative_gen(x, alg, Ix: Algebra, h=1e-6):\n",
    "    for v, r in frame_gen(x, alg, Ix):\n",
    "        yield (r, lambda F: codiff(F, x, v, Ix, h))\n",
    "\n",
    "(\n",
    "    dd,\n",
    "    sum(o1(lambda x: sum((r1*r)* o(A) for r, o in coderivative_gen(x, alg, Ix))) for r1, o1 in coderivative_gen(x, alg, Ix, h=1e-3)),\n",
    "    cd,\n",
    "    sum(o1(lambda x: sum((r1^r)* o(A) for r, o in coderivative_gen(x, alg, Ix))) for r1, o1 in coderivative_gen(x, alg, Ix, h=1e-3)),\n",
    "    id,\n",
    "    sum(o1(lambda x: sum((r1|r)* o(A) for r, o in coderivative_gen(x, alg, Ix))) for r1, o1 in coderivative_gen(x, alg, Ix, h=1e-3))\n",
    ")"
   ]
  },
  {
   "cell_type": "code",
   "execution_count": 94,
   "metadata": {},
   "outputs": [
    {
     "data": {
      "text/plain": [
       "1.9339062822254505e-06"
      ]
     },
     "execution_count": 94,
     "metadata": {},
     "output_type": "execute_result"
    }
   ],
   "source": [
    "max_diff(dd, sum(o1(lambda x: sum((r1*r)* o(A) for r, o in coderivative_gen(x, alg, Ix))) for r1, o1 in coderivative_gen(x, alg, Ix, h=1e-3)))"
   ]
  },
  {
   "cell_type": "code",
   "execution_count": 95,
   "metadata": {},
   "outputs": [
    {
     "data": {
      "text/plain": [
       "(-0.0335 + -0.0432 𝐞₁ + -0.0797 𝐞₂ + 0.00108 𝐞₃ + 2.33e-07 𝐞₁₂ + -5.59e-09 𝐞₁₃ + -4.48e-09 𝐞₂₃ + -3.39e-20 𝐞₁₂₃,\n",
       " 2.04 + 1.97 𝐞₁ + 2.42 𝐞₂ + -0.02 𝐞₃ + 2.26 𝐞₁₂ + -0.0542 𝐞₁₃ + -0.0435 𝐞₂₃ + 6.36e-18 𝐞₁₂₃,\n",
       " 1.1 𝐞₁ + 1.37 𝐞₂ + -0.0117 𝐞₃ + 2.18 𝐞₁₂ + -0.0522 𝐞₁₃ + -0.0419 𝐞₂₃,\n",
       " 2.04 + 0.926 𝐞₁ + 1.1 𝐞₂ + -0.00848 𝐞₃ + 1.98e-19 𝐞₁₂ + -4.76e-21 𝐞₁₃ + -3.82e-21 𝐞₂₃)"
      ]
     },
     "execution_count": 95,
     "metadata": {},
     "output_type": "execute_result"
    }
   ],
   "source": [
    "#3.13 And indeed these are \"two\" ways to expand the colaplacian\n",
    "cd, id, cocurl_(coderiv_(PA))(x), codiv_(coderiv_(PA))(x)"
   ]
  },
  {
   "cell_type": "code",
   "execution_count": 96,
   "metadata": {},
   "outputs": [
    {
     "data": {
      "text/plain": [
       "(2.04 + 2.03 𝐞₁ + 2.47 𝐞₂ + -0.0202 𝐞₃ + 2.18 𝐞₁₂ + -0.0522 𝐞₁₃ + -0.0419 𝐞₂₃,\n",
       " 2.04 + 2.03 𝐞₁ + 2.47 𝐞₂ + -0.0202 𝐞₃ + 2.18 𝐞₁₂ + -0.0522 𝐞₁₃ + -0.0419 𝐞₂₃)"
      ]
     },
     "execution_count": 96,
     "metadata": {},
     "output_type": "execute_result"
    }
   ],
   "source": [
    "# drop the middle projection?\n",
    "deriv_ = lambda A: lambda x: derivative(A, x, alg, Ix=Ix, h=1e-3)\n",
    "P(deriv_(deriv_(PA))(x), I), coderiv_(coderiv_(PA))(x)"
   ]
  },
  {
   "cell_type": "code",
   "execution_count": 97,
   "metadata": {},
   "outputs": [
    {
     "data": {
      "text/plain": [
       "[2.04 + 1.03e-07 𝐞₁₂ + -2.47e-09 𝐞₁₃ + -1.98e-09 𝐞₂₃,\n",
       " 2.03 𝐞₁ + 2.47 𝐞₂ + -0.0202 𝐞₃,\n",
       " 9.95e-08 + 2.18 𝐞₁₂ + -0.0522 𝐞₁₃ + -0.0419 𝐞₂₃]"
      ]
     },
     "execution_count": 97,
     "metadata": {},
     "output_type": "execute_result"
    }
   ],
   "source": [
    "#3.14 grade preserving\n",
    "[coderiv_(coderiv_(lambda x: PA(x).grade(k)))(x) for k in range(3)]"
   ]
  },
  {
   "cell_type": "code",
   "execution_count": 98,
   "metadata": {},
   "outputs": [
    {
     "data": {
      "text/plain": [
       "[-4.63e-07 𝐞₁₂ + 1.11e-08 𝐞₁₃ + 8.92e-09 𝐞₂₃,\n",
       " -0.00207 𝐞₁ + -0.00119 𝐞₂ + -1.14e-05 𝐞₃,\n",
       " -8.06e-08 + -2.36e-09 𝐞₁₂ + 5.65e-11 𝐞₁₃ + 4.54e-11 𝐞₂₃]"
      ]
     },
     "execution_count": 98,
     "metadata": {},
     "output_type": "execute_result"
    }
   ],
   "source": [
    "#3.14a\n",
    "cd = lambda A: sum(o1(lambda x: sum((r1^r)* o(A) for r, o in coderivative_gen(x, alg, Ix))) for r1, o1 in coderivative_gen(x, alg, Ix, h=1e-3))\n",
    "# cd = lambda A: sum((ar ^ br) * codiff(lambda x: codiff(A, x, b, Ix), x, a, Ix, h=1e-3) for (a,ar), (b,br) in product(zip(frame, r_frame), repeat=2))\n",
    "[cd(lambda x: PA(x).grade(k)) for k in range(3)]"
   ]
  },
  {
   "cell_type": "code",
   "execution_count": 99,
   "metadata": {},
   "outputs": [
    {
     "data": {
      "text/plain": [
       "4.632198183149137e-07"
      ]
     },
     "execution_count": 99,
     "metadata": {},
     "output_type": "execute_result"
    }
   ],
   "source": [
    "#3.14b\n",
    "max_diff(\n",
    "    sum(o1(lambda x: sum((r1^r)* o(PA) for r, o in coderivative_gen(x, alg, Ix))) for r1, o1 in coderivative_gen(x, alg, Ix, h=1e-3)),\n",
    "    sum(o1(lambda x: sum((r1^r).cp(o(PA)) for r, o in coderivative_gen(x, alg, Ix))) for r1, o1 in coderivative_gen(x, alg, Ix, h=1e-3)),\n",
    ")"
   ]
  },
  {
   "cell_type": "code",
   "execution_count": 100,
   "metadata": {},
   "outputs": [
    {
     "data": {
      "text/plain": [
       "(0.998 𝐞₁₂ + 0.0266 𝐞₁₃ + -0.000772 𝐞₂₃,\n",
       " 7e-11 + 0.998 𝐞₁₂ + 0.0266 𝐞₁₃ + -0.000772 𝐞₂₃)"
      ]
     },
     "execution_count": 100,
     "metadata": {},
     "output_type": "execute_result"
    }
   ],
   "source": [
    "#3.15\n",
    "a = lambda x: PA(x).grade(1)\n",
    "(\n",
    "    curl(a, x, alg, Ix=Ix),\n",
    "    cocurl(a, x, alg, Ix) + S(x, a(x))\n",
    "    )\n"
   ]
  },
  {
   "cell_type": "code",
   "execution_count": 101,
   "metadata": {},
   "outputs": [
    {
     "data": {
      "text/plain": [
       "(0.532 𝐞₁ + 0.483 𝐞₂ + 0.0585 𝐞₃, 0.532 𝐞₁ + 0.483 𝐞₂ + 0.0585 𝐞₃)"
      ]
     },
     "execution_count": 101,
     "metadata": {},
     "output_type": "execute_result"
    }
   ],
   "source": [
    "#3.16\n",
    "b = P(c, I)\n",
    "differential(a, x, b), codiff(a, x, b, Ix) + (b | S(x, a(x)))"
   ]
  },
  {
   "cell_type": "code",
   "execution_count": 102,
   "metadata": {},
   "outputs": [],
   "source": [
    "def lie_bracket(ax, bx, Ix=None, h=1e-6):\n",
    "    if Ix:\n",
    "        return lambda x: differential(bx, x, P(ax(x), Ix(x)), h=h) - differential(ax, x, P(bx(x), Ix(x)), h=h)\n",
    "    return lambda x: differential(bx, x, ax(x), h=h) - differential(ax, x, bx(x), h=h)"
   ]
  },
  {
   "cell_type": "code",
   "execution_count": 103,
   "metadata": {},
   "outputs": [
    {
     "data": {
      "text/plain": [
       "(-1.65 𝐞₁ + -1.07 𝐞₂ + -0.00608 𝐞₃, -1.65 𝐞₁ + -1.07 𝐞₂ + -0.00608 𝐞₃)"
      ]
     },
     "execution_count": 103,
     "metadata": {},
     "output_type": "execute_result"
    }
   ],
   "source": [
    "#3.17\n",
    "b = lambda x: P((B*x**2 + c + x*B).grade(1), Ix(x))\n",
    "\n",
    "lie_bracket(a, b)(x), codiff(b, x, a(x), Ix) - codiff(a, x, b(x), Ix)"
   ]
  },
  {
   "cell_type": "code",
   "execution_count": 104,
   "metadata": {},
   "outputs": [
    {
     "data": {
      "text/plain": [
       "(-1.69 𝐞₁ + -1.23 𝐞₂ + -4.71 𝐞₃,\n",
       " -1.78 𝐞₁ + -1.12 𝐞₂ + -0.00734 𝐞₃,\n",
       " -1.65 𝐞₁ + -1.07 𝐞₂ + -0.00608 𝐞₃,\n",
       " -1.65 𝐞₁ + -1.07 𝐞₂ + -0.00608 𝐞₃)"
      ]
     },
     "execution_count": 104,
     "metadata": {},
     "output_type": "execute_result"
    }
   ],
   "source": [
    "#3.18\n",
    "P_ = lambda A: lambda x: P(A(x), Ix(x))\n",
    "a = lambda x: A(x).grade(1)\n",
    "b = lambda x: (B*x**2 + c + x*B).grade(1)\n",
    "(\n",
    "    lie_bracket(a, b, Ix)(x),\n",
    "    P(lie_bracket(a, b, Ix, h=1e-3)(x), I),\n",
    "    lie_bracket(P_(a), P_(b), Ix)(x),\n",
    "    P(lie_bracket(P_(a), P_(b), Ix, h=1e-3)(x), I),\n",
    "    )"
   ]
  },
  {
   "cell_type": "code",
   "execution_count": 105,
   "metadata": {},
   "outputs": [
    {
     "data": {
      "text/plain": [
       "(-1.69 𝐞₁ + -1.23 𝐞₂ + -4.71 𝐞₃,\n",
       " -1.69 𝐞₁ + -1.23 𝐞₂ + -4.71 𝐞₃ + 1.03e-18 𝐞₁₂₃)"
      ]
     },
     "execution_count": 105,
     "metadata": {},
     "output_type": "execute_result"
    }
   ],
   "source": [
    "#3.19a\n",
    "div_ = lambda A: lambda x: div(A, x, alg, Ix=Ix, h=1e-3)\n",
    "(\n",
    "    lie_bracket(a, b, Ix)(x),\n",
    "    (div_(lambda x: a(x)^b(x))(x)) - (b(x)*div_(a)(x)) + (a(x)*div_(b)(x))\n",
    ")"
   ]
  },
  {
   "cell_type": "code",
   "execution_count": 106,
   "metadata": {},
   "outputs": [
    {
     "data": {
      "text/plain": [
       "(-1.65 𝐞₁ + -1.07 𝐞₂ + -0.00608 𝐞₃,\n",
       " -1.65 𝐞₁ + -1.07 𝐞₂ + -0.00608 𝐞₃ + -5.64e-37 𝐞₁₂₃)"
      ]
     },
     "execution_count": 106,
     "metadata": {},
     "output_type": "execute_result"
    }
   ],
   "source": [
    "#3.19b\n",
    "pa = lambda x: P(a(x), Ix(x))\n",
    "pb = lambda x: P(b(x), Ix(x))\n",
    "(\n",
    "    lie_bracket(pa, pb, Ix)(x),\n",
    "    codiv_(lambda x: pa(x)^pb(x))(x) - (pb(x)*codiv_(pa)(x)) + (pa(x)*codiv_(pb)(x))\n",
    ")"
   ]
  },
  {
   "cell_type": "code",
   "execution_count": 107,
   "metadata": {},
   "outputs": [
    {
     "data": {
      "text/plain": [
       "(-1.65 𝐞₁ + -1.07 𝐞₂ + -0.00608 𝐞₃ + 9.7e-19 𝐞₁₂₃,\n",
       " -1.69 𝐞₁ + -1.23 𝐞₂ + -4.71 𝐞₃ + 1.03e-18 𝐞₁₂₃)"
      ]
     },
     "execution_count": 107,
     "metadata": {},
     "output_type": "execute_result"
    }
   ],
   "source": [
    "#3.20\n",
    "def lie_bracket(A, B, alg, Ix, h=1e-6):\n",
    "    return lambda x: sum((inner(A(x),r)^o(B)) - (o(A)^inner(r,B(x))) for r, o in derivative_gen(x, alg, Ix, h))\n",
    "\n",
    "lie_bracket(pa, pb, alg, Ix)(x), lie_bracket(a, b, alg, Ix)(x)"
   ]
  },
  {
   "cell_type": "code",
   "execution_count": 108,
   "metadata": {},
   "outputs": [
    {
     "data": {
      "text/plain": [
       "(-0.137 + 5.3 𝐞₁ + -0.843 𝐞₂ + -6.04 𝐞₃ + -2.16 𝐞₁₂ + 0.336 𝐞₁₃ + 4.57 𝐞₂₃ + 6.09 𝐞₁₂₃,\n",
       " -0.137 + 5.3 𝐞₁ + -0.843 𝐞₂ + -6.04 𝐞₃ + -2.16 𝐞₁₂ + 0.336 𝐞₁₃ + 4.57 𝐞₂₃ + 6.09 𝐞₁₂₃)"
      ]
     },
     "execution_count": 108,
     "metadata": {},
     "output_type": "execute_result"
    }
   ],
   "source": [
    "#3.21\n",
    "E, F, G, H = [random_multivector(alg) for _ in range(4)]\n",
    "lie_bracket_ = lambda A, B: lie_bracket(A, B, alg, Ix)(x)\n",
    "A = lambda x: G*x*x*H + E*x*F\n",
    "B = lambda x: E*x*x*F + H*x*G\n",
    "C = lambda x: F*x*x*G + E*x*H\n",
    "lie_bracket_(A, lambda x: B(x)+C(x)), lie_bracket_(A, B) + lie_bracket_(A, C)"
   ]
  },
  {
   "cell_type": "code",
   "execution_count": 109,
   "metadata": {},
   "outputs": [
    {
     "data": {
      "text/plain": [
       "(7.88e-19 𝐞₁₂ + 2.52e-18 𝐞₁₃ + -6.05e-18 𝐞₂₃,\n",
       " -7.88e-19 𝐞₁₂ + -2.52e-18 𝐞₁₃ + 6.05e-18 𝐞₂₃,\n",
       " -7.88e-19 𝐞₁₂ + -2.52e-18 𝐞₁₃ + 6.05e-18 𝐞₂₃)"
      ]
     },
     "execution_count": 109,
     "metadata": {},
     "output_type": "execute_result"
    }
   ],
   "source": [
    "#3.22a\n",
    "Ar = lambda x: A(x).grade(2)\n",
    "Bs = lambda x: B(x).grade(3)\n",
    "rev = lambda A: lambda x: A(x).reverse()\n",
    "lie_bracket_(Ar, Bs), lie_bracket_(rev(Bs), rev(Ar)), lie_bracket_(Bs, Ar)"
   ]
  },
  {
   "cell_type": "code",
   "execution_count": 110,
   "metadata": {},
   "outputs": [
    {
     "data": {
      "text/plain": [
       "(-0.598 + 1.13 𝐞₁ + 1.3 𝐞₂ + -1.2 𝐞₃ + -1.66 𝐞₁₂ + 0.433 𝐞₁₃ + 2.47 𝐞₂₃ + -1.79 𝐞₁₂₃,\n",
       " 0.598 + -1.13 𝐞₁ + -1.3 𝐞₂ + 1.2 𝐞₃ + 1.66 𝐞₁₂ + -0.433 𝐞₁₃ + -2.47 𝐞₂₃ + 1.79 𝐞₁₂₃)"
      ]
     },
     "execution_count": 110,
     "metadata": {},
     "output_type": "execute_result"
    }
   ],
   "source": [
    "#3.22b\n",
    "lie_bracket_(a, B), lie_bracket_(B, a)"
   ]
  },
  {
   "cell_type": "code",
   "execution_count": 111,
   "metadata": {},
   "outputs": [
    {
     "data": {
      "text/plain": [
       "(-5.04e-18 + -0.526 𝐞₁ + 0.475 𝐞₂ + -0.709 𝐞₃ + -2.58 𝐞₁₂ + 1.14 𝐞₁₃ + -2.31 𝐞₂₃ + -3.19 𝐞₁₂₃,\n",
       " 0.526 𝐞₁ + -0.475 𝐞₂ + 0.709 𝐞₃ + 2.58 𝐞₁₂ + -1.14 𝐞₁₃ + 2.31 𝐞₂₃ + 3.19 𝐞₁₂₃)"
      ]
     },
     "execution_count": 111,
     "metadata": {},
     "output_type": "execute_result"
    }
   ],
   "source": [
    "#3.23\n",
    "(\n",
    "    div_(lambda x: Ar(x)^B(x))(x) - (div_(Ar)(x)^B(x)) - (Ar(x)^div_(B)(x)),\n",
    "    lie_bracket_(Ar, B)\n",
    "    )"
   ]
  },
  {
   "cell_type": "code",
   "execution_count": 112,
   "metadata": {},
   "outputs": [
    {
     "data": {
      "text/plain": [
       "(0.151 + 3.13 𝐞₁ + 0.912 𝐞₂ + 0.0384 𝐞₃ + 0.713 𝐞₁₂ + -0.0171 𝐞₁₃ + -0.0137 𝐞₂₃ + -2.35e-11 𝐞₁₂₃,\n",
       " 0.151 + 3.09 𝐞₁ + 0.928 𝐞₂ + 0.0372 𝐞₃ + 0.846 𝐞₁₂ + -0.0203 𝐞₁₃ + -0.0163 𝐞₂₃)"
      ]
     },
     "execution_count": 112,
     "metadata": {},
     "output_type": "execute_result"
    }
   ],
   "source": [
    "#3.24 Wrong!\n",
    "P_ = lambda A: lambda x: P(A(x), Ix(x))\n",
    "lie_bracket_(P_(A), P_(B)), P(lie_bracket_(A, B), I)"
   ]
  },
  {
   "cell_type": "code",
   "execution_count": 113,
   "metadata": {},
   "outputs": [
    {
     "data": {
      "text/plain": [
       "(0.151 + 3.13 𝐞₁ + 0.912 𝐞₂ + 0.0384 𝐞₃ + 0.713 𝐞₁₂ + -0.0171 𝐞₁₃ + -0.0137 𝐞₂₃ + -2.35e-11 𝐞₁₂₃,\n",
       " 0.151 + 3.13 𝐞₁ + 0.912 𝐞₂ + 0.0384 𝐞₃ + 0.713 𝐞₁₂ + -0.0171 𝐞₁₃ + -0.0137 𝐞₂₃)"
      ]
     },
     "execution_count": 113,
     "metadata": {},
     "output_type": "execute_result"
    }
   ],
   "source": [
    "#3.24 Instead, preserve tangency means:\n",
    "lie = lie_bracket_(P_(A), P_(B))\n",
    "lie, P(lie, I)"
   ]
  },
  {
   "cell_type": "code",
   "execution_count": 114,
   "metadata": {},
   "outputs": [
    {
     "data": {
      "text/plain": [
       "(1.52 + 1.91 𝐞₁ + 1.13 𝐞₂ + 0.00965 𝐞₃ + -2.05e-09 𝐞₁₂ + -1.04e-07 𝐞₁₃ + 2.34e-08 𝐞₂₃,\n",
       " 1.52 + 1.91 𝐞₁ + 1.13 𝐞₂ + 0.00965 𝐞₃ + -6.01e-07 𝐞₁₂ + -5.42e-09 𝐞₁₃ + -1.14e-07 𝐞₂₃ + -1.3e-13 𝐞₁₂₃)"
      ]
     },
     "execution_count": 114,
     "metadata": {},
     "output_type": "execute_result"
    }
   ],
   "source": [
    "#3.25\n",
    "PAr = P_(Ar)\n",
    "PB = P_(B)\n",
    "(\n",
    "    div_(lie_bracket(PAr, PB, alg, Ix))(x),\n",
    "    lie_bracket_(div_(PAr), PB) - lie_bracket_(PAr, div_(PB))\n",
    "    )"
   ]
  },
  {
   "cell_type": "code",
   "execution_count": 115,
   "metadata": {},
   "outputs": [
    {
     "data": {
      "text/plain": [
       "(1.52 + 1.91 𝐞₁ + 1.13 𝐞₂ + 0.00965 𝐞₃ + -5.05e-20 𝐞₁₂ + 1.21e-21 𝐞₁₃ + 9.73e-22 𝐞₂₃,\n",
       " 1.52 + 1.91 𝐞₁ + 1.13 𝐞₂ + 0.00965 𝐞₃ + -6e-07 𝐞₁₂ + 1.44e-08 𝐞₁₃ + 1.15e-08 𝐞₂₃ + -8.8e-18 𝐞₁₂₃)"
      ]
     },
     "execution_count": 115,
     "metadata": {},
     "output_type": "execute_result"
    }
   ],
   "source": [
    "#3.25\n",
    "(\n",
    "    codiv_(lie_bracket(PAr, PB, alg, Ix))(x),\n",
    "    lie_bracket_(codiv_(PAr), PB) - lie_bracket_(PAr, codiv_(PB))\n",
    "    )"
   ]
  },
  {
   "cell_type": "code",
   "execution_count": 116,
   "metadata": {},
   "outputs": [
    {
     "data": {
      "text/plain": [
       "(-1.14e-19 𝐞₁₂ + -3.63e-19 𝐞₁₃ + 8.73e-19 𝐞₂₃,\n",
       " -1.14e-19 𝐞₁₂ + -3.63e-19 𝐞₁₃ + 8.73e-19 𝐞₂₃ + 5.91e-18 𝐞₁₂₃)"
      ]
     },
     "execution_count": 116,
     "metadata": {},
     "output_type": "execute_result"
    }
   ],
   "source": [
    "#3.26\n",
    "(\n",
    "    lie_bracket_(Ar, lambda x: Bs(x)^C(x)),\n",
    "    (lie_bracket_(Ar, Bs)^C(x)) - (Bs(x)^lie_bracket_(Ar, C))\n",
    "    )"
   ]
  },
  {
   "cell_type": "code",
   "execution_count": 117,
   "metadata": {},
   "outputs": [
    {
     "data": {
      "text/plain": [
       "(0.151 + 3.11 𝐞₁ + 0.899 𝐞₂ + -1.17 𝐞₃ + 1.03 𝐞₁₂ + 2.96 𝐞₁₃ + 5.96 𝐞₂₃ + 4.61 𝐞₁₂₃,\n",
       " 0.151 + 3.11 𝐞₁ + 0.899 𝐞₂ + -1.17 𝐞₃ + 1.03 𝐞₁₂ + 2.96 𝐞₁₃ + 5.96 𝐞₂₃ + 4.61 𝐞₁₂₃,\n",
       " 1.25 + 3.24 𝐞₁ + -2.97 𝐞₂ + 2.78 𝐞₃ + -7.66 𝐞₁₂ + 5.66 𝐞₁₃ + -8.97 𝐞₂₃ + -11.7 𝐞₁₂₃,\n",
       " -1.43 + -0.272 𝐞₁ + -3.53 𝐞₂ + -1.08 𝐞₃ + -6.59 𝐞₁₂ + -2.1 𝐞₁₃ + -8.76 𝐞₂₃ + -8.62 𝐞₁₂₃,\n",
       " -1.97 + -3.2 𝐞₁ + -4.88 𝐞₂ + -0.909 𝐞₃ + -4.2 𝐞₁₂ + 1.52 𝐞₁₃ + -6.6 𝐞₂₃ + -9.85 𝐞₁₂₃,\n",
       " -1.97 + -3.2 𝐞₁ + -4.88 𝐞₂ + -0.909 𝐞₃ + -4.2 𝐞₁₂ + 1.52 𝐞₁₃ + -6.6 𝐞₂₃ + -9.85 𝐞₁₂₃)"
      ]
     },
     "execution_count": 117,
     "metadata": {},
     "output_type": "execute_result"
    }
   ],
   "source": [
    "#3.28 Pseudoscalar's size matters!?\n",
    "# But what pseudoscalr/dual?\n",
    "# For fields on the manifold, the dual should be just on the manifold\n",
    "# For fields in the embedding space, the dual should be in the embedding space\n",
    "\n",
    "def dual_bracket(A, B, alg, nIx, h=1e-6):\n",
    "    # nIx: normalized pseudoscalar\n",
    "    return lambda x: lie_bracket(A, lambda x: B(x)*nIx(x), alg, nIx, h)(x) * inv(nIx(x))\n",
    "\n",
    "def dual_bracket_emb(A, B, alg: Algebra, Ix, h=1e-6):\n",
    "    return lambda x: lie_bracket(A, lambda x: B(x).dual(), alg, Ix, h)(x).undual()\n",
    "\n",
    "(\n",
    "    lie_bracket(A, B, alg, Ix)(x), \n",
    "    lie_bracket(A, B, alg, nIx)(x),\n",
    "    dual_bracket(A, B, alg, Ix)(x), \n",
    "    dual_bracket(A, B, alg, nIx)(x),\n",
    "    dual_bracket_emb(A, B, alg, Ix)(x), \n",
    "    dual_bracket_emb(A, B, alg, nIx)(x)\n",
    "    )"
   ]
  },
  {
   "cell_type": "code",
   "execution_count": 118,
   "metadata": {},
   "outputs": [
    {
     "data": {
      "text/plain": [
       "(-0.463 + 3.38 𝐞₁ + -10.0 𝐞₂ + -2.63 𝐞₃ + -13.0 𝐞₁₂ + 0.949 𝐞₁₃ + -18.4 𝐞₂₃ + -10.6 𝐞₁₂₃,\n",
       " -0.463 + 3.38 𝐞₁ + -10.0 𝐞₂ + -2.63 𝐞₃ + -13.0 𝐞₁₂ + 0.949 𝐞₁₃ + -18.4 𝐞₂₃ + -10.6 𝐞₁₂₃)"
      ]
     },
     "execution_count": 118,
     "metadata": {},
     "output_type": "execute_result"
    }
   ],
   "source": [
    "#3.29\n",
    "dual_bracket_ = lambda A, B: dual_bracket(A, B, alg, nIx)(x)\n",
    "dual_bracket_(A, lambda x: B(x)+C(x)), dual_bracket_(A, B) + dual_bracket_(A, C)"
   ]
  },
  {
   "cell_type": "code",
   "execution_count": 119,
   "metadata": {},
   "outputs": [
    {
     "data": {
      "text/plain": [
       "(-0.325 + 1.59 𝐞₁ + -14.6 𝐞₂ + -0.0219 𝐞₃ + -9.33 𝐞₁₂ + 5.18 𝐞₁₃ + -12.9 𝐞₂₃ + -14.5 𝐞₁₂₃,\n",
       " -0.325 + 1.59 𝐞₁ + -14.6 𝐞₂ + -0.0219 𝐞₃ + -9.33 𝐞₁₂ + 5.18 𝐞₁₃ + -12.9 𝐞₂₃ + -14.5 𝐞₁₂₃)"
      ]
     },
     "execution_count": 119,
     "metadata": {},
     "output_type": "execute_result"
    }
   ],
   "source": [
    "#3.29\n",
    "dual_bracket_ = lambda A, B: dual_bracket_emb(A, B, alg, nIx)(x)\n",
    "dual_bracket_(A, lambda x: B(x)+C(x)), dual_bracket_(A, B) + dual_bracket_(A, C)"
   ]
  },
  {
   "cell_type": "code",
   "execution_count": 120,
   "metadata": {},
   "outputs": [
    {
     "data": {
      "text/plain": [
       "(-1.83 + -0.353 𝐞₁ + -3.68 𝐞₂ + 0.0815 𝐞₃ + -6.36 𝐞₁₂ + 0.153 𝐞₁₃ + 0.123 𝐞₂₃ + -6.37e-11 𝐞₁₂₃,\n",
       " -1.83 + -0.353 𝐞₁ + -3.68 𝐞₂ + 0.0815 𝐞₃ + -6.36 𝐞₁₂ + 0.153 𝐞₁₃ + 0.123 𝐞₂₃,\n",
       " -1.43 + -0.294 𝐞₁ + -3.5 𝐞₂ + 0.0784 𝐞₃ + -6.36 𝐞₁₂ + 0.153 𝐞₁₃ + 0.123 𝐞₂₃)"
      ]
     },
     "execution_count": 120,
     "metadata": {},
     "output_type": "execute_result"
    }
   ],
   "source": [
    "#3.30 The same mistake as 3.24, \n",
    "# you need to be tangent at first place to preserve tangency:\n",
    "dual_bracket_ = lambda A, B: dual_bracket(A, B, alg, nIx)(x)\n",
    "dual_bracket_(P_(A), P_(B)), P(dual_bracket_(P_(A), P_(B)), I), P(dual_bracket_(A, B), I)"
   ]
  },
  {
   "cell_type": "code",
   "execution_count": 121,
   "metadata": {},
   "outputs": [
    {
     "data": {
      "text/plain": [
       "(-1.83 + -0.356 𝐞₁ + -3.67 𝐞₂ + 0.246 𝐞₃ + -6.36 𝐞₁₂ + 0.169 𝐞₁₃ + 0.176 𝐞₂₃ + -8.95e-19 𝐞₁₂₃,\n",
       " -1.83 + -0.353 𝐞₁ + -3.68 𝐞₂ + 0.0815 𝐞₃ + -6.36 𝐞₁₂ + 0.153 𝐞₁₃ + 0.123 𝐞₂₃,\n",
       " -1.97 + -3.22 𝐞₁ + -4.85 𝐞₂ + 0.0544 𝐞₃ + -4.11 𝐞₁₂ + 0.0986 𝐞₁₃ + 0.0791 𝐞₂₃)"
      ]
     },
     "execution_count": 121,
     "metadata": {},
     "output_type": "execute_result"
    }
   ],
   "source": [
    "#3.30 The embedded version fails, we see that which \"dual\" matters\n",
    "dual_bracket_ = lambda A, B: dual_bracket_emb(A, B, alg, nIx)(x)\n",
    "dual_bracket_(P_(A), P_(B)), P(dual_bracket_(P_(A), P_(B)), I), P(dual_bracket_(A, B), I)"
   ]
  },
  {
   "cell_type": "code",
   "execution_count": 122,
   "metadata": {},
   "outputs": [
    {
     "data": {
      "text/plain": [
       "(-0.279 + -0.119 𝐞₁₂ + -2.51 𝐞₁₃ + -3.07 𝐞₂₃, 1.62)"
      ]
     },
     "execution_count": 122,
     "metadata": {},
     "output_type": "execute_result"
    }
   ],
   "source": [
    "#3.31\n",
    "# For arbitrary field the \"single grade\" is achieved by the embedded version\n",
    "dual_bracket_ = lambda A, B: dual_bracket(A, B, alg, nIx)(x)\n",
    "dual_bracket_emb_ = lambda A, B: dual_bracket_emb(A, B, alg, nIx)(x)\n",
    "\n",
    "Ar = lambda x: A(x).grade(2)\n",
    "Bs = lambda x: B(x).grade(1)\n",
    "dual_bracket_(Ar, Bs), dual_bracket_emb_(Ar, Bs)"
   ]
  },
  {
   "cell_type": "code",
   "execution_count": 123,
   "metadata": {},
   "outputs": [
    {
     "data": {
      "text/plain": [
       "(-0.346 + 9.14e-13 𝐞₁₂ + 3.15e-11 𝐞₁₃ + 8.24e-12 𝐞₂₃, -0.346)"
      ]
     },
     "execution_count": 123,
     "metadata": {},
     "output_type": "execute_result"
    }
   ],
   "source": [
    "#3.31 For tangent field either works:\n",
    "Ar = lambda x: PA(x).grade(2)\n",
    "Bs = lambda x: PB(x).grade(1)\n",
    "dual_bracket_(Ar, Bs), dual_bracket_emb_(Ar, Bs)"
   ]
  },
  {
   "cell_type": "code",
   "execution_count": 124,
   "metadata": {},
   "outputs": [
    {
     "data": {
      "text/plain": [
       "(0.852 + 3.23 𝐞₁ + -3.21 𝐞₂ + 0.139 𝐞₃ + -7.61 𝐞₁₂ + 0.183 𝐞₁₃ + 0.147 𝐞₂₃ + 7.17e-11 𝐞₁₂₃,\n",
       " -1.83 + -0.353 𝐞₁ + -3.68 𝐞₂ + 0.0815 𝐞₃ + -6.36 𝐞₁₂ + 0.153 𝐞₁₃ + 0.123 𝐞₂₃ + -6.37e-11 𝐞₁₂₃)"
      ]
     },
     "execution_count": 124,
     "metadata": {},
     "output_type": "execute_result"
    }
   ],
   "source": [
    "# So the tangency decides which \"dual\" we should take. \n",
    "# For the version on the tangent field, the pseudoscalar's size matters! \n",
    "# It contributes to the differential of the bracket.\n",
    "(\n",
    "    dual_bracket(PA, PB, alg, Ix)(x),\n",
    "    dual_bracket(PA, PB, alg, nIx)(x),\n",
    "    )"
   ]
  },
  {
   "cell_type": "code",
   "execution_count": 125,
   "metadata": {},
   "outputs": [
    {
     "data": {
      "text/plain": [
       "(1.23 𝐞₁ + 2.96 𝐞₂ + -0.0472 𝐞₃,\n",
       " 1.23 𝐞₁ + 2.96 𝐞₂ + -0.0472 𝐞₃ + 8.02e-18 𝐞₁₂₃)"
      ]
     },
     "execution_count": 125,
     "metadata": {},
     "output_type": "execute_result"
    }
   ],
   "source": [
    "#3.32 A typo here, switch r and s\n",
    "Ar = lambda x: PA(x).grade(1)\n",
    "Bs = lambda x: PB(x).grade(2)\n",
    "Ct = lambda x: P(C(x), Ix(x)).grade(1)\n",
    "(\n",
    "    Ct(x) | dual_bracket_(Ar, Bs), \n",
    "    dual_bracket_(lambda x: Ct(x) ^ Ar(x), Bs) - (dual_bracket_(Ct, Bs) | Ar(x))\n",
    "    )"
   ]
  },
  {
   "cell_type": "code",
   "execution_count": 126,
   "metadata": {},
   "outputs": [
    {
     "data": {
      "text/plain": [
       "(1.68 𝐞₁ + 4.76 𝐞₂ + -3.8 𝐞₃, 1.68 𝐞₁ + 4.76 𝐞₂ + -3.8 𝐞₃)"
      ]
     },
     "execution_count": 126,
     "metadata": {},
     "output_type": "execute_result"
    }
   ],
   "source": [
    "#3.32 Embed version\n",
    "Ar = lambda x: A(x).grade(1)\n",
    "Bs = lambda x: B(x).grade(2)\n",
    "Ct = lambda x: C(x).grade(1)\n",
    "(\n",
    "    Ct(x) | dual_bracket_emb_(Ar, Bs), \n",
    "    dual_bracket_emb_(lambda x: Ct(x) ^ Ar(x), Bs) - (dual_bracket_emb_(Ct, Bs) | Ar(x))\n",
    "    )"
   ]
  },
  {
   "cell_type": "code",
   "execution_count": 127,
   "metadata": {},
   "outputs": [
    {
     "data": {
      "text/plain": [
       "(-1.48 + -0.99 𝐞₁ + -4.73 𝐞₂ + 0.0943 𝐞₃ + -2.54 𝐞₁₂ + 0.228 𝐞₁₃ + -0.219 𝐞₂₃ + -0.718 𝐞₁₂₃,\n",
       " -0.0542 + 2.28 𝐞₁ + -3.86 𝐞₂ + 0.136 𝐞₃ + -3.79 𝐞₁₂ + 0.258 𝐞₁₃ + -0.195 𝐞₂₃ + -0.718 𝐞₁₂₃)"
      ]
     },
     "execution_count": 127,
     "metadata": {},
     "output_type": "execute_result"
    }
   ],
   "source": [
    "dual_bracket(Ar, PB, alg, nIx)(x), dual_bracket(Ar, PB, alg, Ix)(x)"
   ]
  },
  {
   "cell_type": "code",
   "execution_count": 128,
   "metadata": {},
   "outputs": [
    {
     "data": {
      "text/plain": [
       "(2.15 𝐞₁ + 1.79 𝐞₂ + -0.00147 𝐞₃ + -1.94 𝐞₁₂ + 0.0466 𝐞₁₃ + 0.0374 𝐞₂₃,\n",
       " -2.04e-07 + 2.15 𝐞₁ + 1.79 𝐞₂ + -0.00147 𝐞₃ + -1.94 𝐞₁₂ + 0.0466 𝐞₁₃ + 0.0374 𝐞₂₃ + 8.21e-12 𝐞₁₂₃)"
      ]
     },
     "execution_count": 128,
     "metadata": {},
     "output_type": "execute_result"
    }
   ],
   "source": [
    "#3.33\n",
    "Ar = lambda x: PA(x).grade(2)\n",
    "(\n",
    "    cocurl_(dual_bracket(Ar, PB, alg, nIx))(x),\n",
    "    dual_bracket_(codiv_(Ar), PB) - dual_bracket_(Ar, cocurl_(PB))\n",
    "    )"
   ]
  },
  {
   "cell_type": "code",
   "execution_count": 129,
   "metadata": {},
   "outputs": [
    {
     "data": {
      "text/plain": [
       "(-0.107 𝐞₁ + 1.64 𝐞₂ + -0.0413 𝐞₃ + 3.47e-18 𝐞₁₂₃,\n",
       " -0.107 𝐞₁ + 1.64 𝐞₂ + -0.0413 𝐞₃)"
      ]
     },
     "execution_count": 129,
     "metadata": {},
     "output_type": "execute_result"
    }
   ],
   "source": [
    "#3.34 use Kingdon inner product, the scalar cases are not excluded:\n",
    "r = 0\n",
    "s = 0\n",
    "Ar = lambda x: PA(x).grade(r)\n",
    "Bs = lambda x: PB(x).grade(s)\n",
    "(\n",
    "    dual_bracket(Ar, Bs, alg, nIx)(x),\n",
    "    (-1)**(r+1)*cocurl_(lambda x: Ar(x)|Bs(x))(x) + (-1)**(r)*(codiv_(Ar)(x)|Bs(x)) + (Ar(x)|cocurl_(Bs)(x))\n",
    ")"
   ]
  },
  {
   "cell_type": "code",
   "execution_count": 202,
   "metadata": {},
   "outputs": [
    {
     "data": {
      "text/plain": [
       "(0.000354 𝐞₁₂ + 0.0235 𝐞₁₃ + -0.011 𝐞₂₃,\n",
       " 0.000354 𝐞₁₂ + 0.0235 𝐞₁₃ + -0.011 𝐞₂₃,\n",
       " 0.000354 𝐞₁₂ + 0.0235 𝐞₁₃ + -0.011 𝐞₂₃)"
      ]
     },
     "execution_count": 202,
     "metadata": {},
     "output_type": "execute_result"
    }
   ],
   "source": [
    "#4.2\n",
    "Sa = lambda a, x: curl(lambda x: P(a, Ix(x)), x, alg, Ix=Ix)\n",
    "N = lambda x: sum(o(lambda x: P(r, Ix(x))) for r, o in derivative_gen(x, alg, Ix))\n",
    "Pa = lambda A: differential(lambda x: P(A, Ix(x)), x, ap)\n",
    "Sa_ = Sa(ap, x)\n",
    "differential(nIx, x, ap), Pa(nI), nI.cp(Sa_)"
   ]
  },
  {
   "cell_type": "code",
   "execution_count": 203,
   "metadata": {},
   "outputs": [
    {
     "data": {
      "text/plain": [
       "(-3.24e-10, )"
      ]
     },
     "execution_count": 203,
     "metadata": {},
     "output_type": "execute_result"
    }
   ],
   "source": [
    "#4.3\n",
    "Sa_ | I, Sa_ ^ I"
   ]
  },
  {
   "cell_type": "code",
   "execution_count": 204,
   "metadata": {},
   "outputs": [
    {
     "data": {
      "text/plain": [
       "(-3.24e-10 + 0.000989 𝐞₁₂ + 0.0658 𝐞₁₃ + -0.0306 𝐞₂₃,\n",
       " 0.000989 𝐞₁₂ + 0.0658 𝐞₁₃ + -0.0306 𝐞₂₃,\n",
       " 3.24e-10 + 0.000989 𝐞₁₂ + 0.0658 𝐞₁₃ + -0.0306 𝐞₂₃)"
      ]
     },
     "execution_count": 204,
     "metadata": {},
     "output_type": "execute_result"
    }
   ],
   "source": [
    "#4.4\n",
    "I*Sa_, I.cp(Sa_), -Sa_*I"
   ]
  },
  {
   "cell_type": "code",
   "execution_count": 205,
   "metadata": {},
   "outputs": [
    {
     "data": {
      "text/plain": [
       "(0.000715 𝐞₁₂ + 0.0109 𝐞₁₃ + 0.0235 𝐞₂₃,\n",
       " -1.15e-11 + 0.000715 𝐞₁₂ + 0.0109 𝐞₁₃ + 0.0235 𝐞₂₃)"
      ]
     },
     "execution_count": 205,
     "metadata": {},
     "output_type": "execute_result"
    }
   ],
   "source": [
    "#4.5\n",
    "Sa_, inv(I) * Pa(I)"
   ]
  },
  {
   "cell_type": "code",
   "execution_count": 206,
   "metadata": {},
   "outputs": [
    {
     "data": {
      "text/plain": [
       "(-0.00201 𝐞₁ + 0.0025 𝐞₂ + 0.104 𝐞₃,\n",
       " -0.00201 𝐞₁ + 0.0025 𝐞₂ + 0.104 𝐞₃ + -4.95e-09 𝐞₁₂₃,\n",
       " -0.00201 𝐞₁ + 0.0025 𝐞₂ + 0.104 𝐞₃ + -6.58e-08 𝐞₁₂₃)"
      ]
     },
     "execution_count": 206,
     "metadata": {},
     "output_type": "execute_result"
    }
   ],
   "source": [
    "#4.6\n",
    "(\n",
    "    N(x), \n",
    "    derivative(lambda a: Sa(a, x), ap, alg, grade=1, h=1e-2), \n",
    "    -(deriv_(nIx)(x))*inv(nI)\n",
    "    )"
   ]
  },
  {
   "cell_type": "code",
   "execution_count": 207,
   "metadata": {},
   "outputs": [
    {
     "data": {
      "text/plain": [
       "(1.39e-09 𝐞₁ + 2.91e-10 𝐞₂ + -6.58e-08 𝐞₃ + -0.104 𝐞₁₂₃,\n",
       " -3.6e-10 𝐞₁ + -1.81e-10 𝐞₂ + -2.6e-12 𝐞₃ + -0.104 𝐞₁₂₃)"
      ]
     },
     "execution_count": 207,
     "metadata": {},
     "output_type": "execute_result"
    }
   ],
   "source": [
    "#4.7\n",
    "deriv_(nIx)(x), -N(x)*nI"
   ]
  },
  {
   "cell_type": "code",
   "execution_count": 208,
   "metadata": {},
   "outputs": [
    {
     "data": {
      "text/plain": [
       "(1.39e-09 𝐞₁ + 2.91e-10 𝐞₂ + -6.58e-08 𝐞₃,\n",
       " 3.6e-10 𝐞₁ + 1.81e-10 𝐞₂ + 2.6e-12 𝐞₃)"
      ]
     },
     "execution_count": 208,
     "metadata": {},
     "output_type": "execute_result"
    }
   ],
   "source": [
    "#4.8\n",
    "div_(nIx)(x), N(x)|nI"
   ]
  },
  {
   "cell_type": "code",
   "execution_count": 209,
   "metadata": {},
   "outputs": [
    {
     "data": {
      "text/plain": [
       "(0.0109, 0.010898318549800154)"
      ]
     },
     "execution_count": 209,
     "metadata": {},
     "output_type": "execute_result"
    }
   ],
   "source": [
    "#4.9\n",
    "N(x)**2, normsq(deriv_(nIx)(x))"
   ]
  },
  {
   "cell_type": "code",
   "execution_count": 210,
   "metadata": {},
   "outputs": [
    {
     "data": {
      "text/plain": [
       "(1.07e-08 + -0.000186 𝐞₁₂ + -0.00434 𝐞₁₃ + -0.00423 𝐞₂₃,\n",
       " -7.81e-09 + -0.000185 𝐞₁₂ + -0.00434 𝐞₁₃ + -0.00423 𝐞₂₃)"
      ]
     },
     "execution_count": 210,
     "metadata": {},
     "output_type": "execute_result"
    }
   ],
   "source": [
    "#4.10\n",
    "deriv_(deriv_(nIx))(x), -(N(x)**2 + deriv_(N)(x))*nI"
   ]
  },
  {
   "cell_type": "code",
   "execution_count": 211,
   "metadata": {},
   "outputs": [
    {
     "data": {
      "text/plain": [
       "(1.79e-05 𝐞₁₂ + 0.00423 𝐞₁₃ + -0.00434 𝐞₂₃, 2.18e-08)"
      ]
     },
     "execution_count": 211,
     "metadata": {},
     "output_type": "execute_result"
    }
   ],
   "source": [
    "#4.12\n",
    "curl_N = curl(N, x, alg, Ix=Ix, h=1e-3) \n",
    "curl_N, curl_N | I"
   ]
  },
  {
   "cell_type": "code",
   "execution_count": 212,
   "metadata": {},
   "outputs": [
    {
     "data": {
      "text/plain": [
       "(1.07e-08 + -0.000186 𝐞₁₂ + -0.00434 𝐞₁₃ + -0.00423 𝐞₂₃,\n",
       " -1.08e-20 + -0.000185 𝐞₁₂ + -0.00434 𝐞₁₃ + -0.00423 𝐞₂₃)"
      ]
     },
     "execution_count": 212,
     "metadata": {},
     "output_type": "execute_result"
    }
   ],
   "source": [
    "#4.13\n",
    "deriv_(deriv_(nIx))(x), -(N(x)**2 + div_(N)(x))*nI + nI.cp(curl_N)"
   ]
  },
  {
   "cell_type": "code",
   "execution_count": 213,
   "metadata": {},
   "outputs": [
    {
     "data": {
      "text/plain": [
       "(-1.08e-20 + 1.71e-07 𝐞₁₂ + -4.1e-09 𝐞₁₃ + -3.29e-09 𝐞₂₃,\n",
       " -0.000186 𝐞₁₂ + -0.00434 𝐞₁₃ + -0.00423 𝐞₂₃)"
      ]
     },
     "execution_count": 213,
     "metadata": {},
     "output_type": "execute_result"
    }
   ],
   "source": [
    "# FIXME the first part is zero\n",
    "-(N(x)**2 + div_(N)(x))*nI, nI.cp(curl_N)"
   ]
  },
  {
   "cell_type": "code",
   "execution_count": 214,
   "metadata": {},
   "outputs": [
    {
     "data": {
      "text/plain": [
       "(2.78e-17 + -0.391 𝐞₁₂ + -0.318 𝐞₁₃ + -0.483 𝐞₂₃,\n",
       " -1.39e-17 + -0.391 𝐞₁₂ + -0.318 𝐞₁₃ + -0.483 𝐞₂₃,\n",
       " -3.33e-16 + -7.29e-18 𝐞₁₂ + 1.61e-17 𝐞₁₃ + -4.71e-18 𝐞₂₃)"
      ]
     },
     "execution_count": 214,
     "metadata": {},
     "output_type": "execute_result"
    }
   ],
   "source": [
    "# The second part vanishes because it's perpendicular to the mirror\n",
    "A_ = A(x).grade(2)\n",
    "B_ = B(x).grade(2)\n",
    "inv(A_) * (A_.cp(B_)), (B_ - inv(A_) * B_ * A_)/2, A_ | (B_ - inv(A_) * B_ * A_)/2"
   ]
  },
  {
   "cell_type": "code",
   "execution_count": 225,
   "metadata": {},
   "outputs": [
    {
     "data": {
      "text/plain": [
       "(-0.0124 𝐞₁₂ + -0.148 𝐞₁₃ + -0.0192 𝐞₂₃,\n",
       " -0.0124 𝐞₁₂ + -0.148 𝐞₁₃ + -0.0192 𝐞₂₃,\n",
       " 1.6e-08 + -0.0124 𝐞₁₂ + -0.148 𝐞₁₃ + -0.0192 𝐞₂₃)"
      ]
     },
     "execution_count": 225,
     "metadata": {},
     "output_type": "execute_result"
    }
   ],
   "source": [
    "#4.15a\n",
    "pb = lambda x: P(B(x).grade(1), Ix(x))\n",
    "Pa_ = lambda A: lambda x: differential(lambda a: P(A(x), Ix(a)), x, pa(x))\n",
    "Pb_ = lambda A: lambda x: differential(lambda a: P(A(x), Ix(a)), x, pb(x))\n",
    "Sa = lambda x: curl(lambda a: P(pa(x), Ix(a)), x, alg, Ix=Ix)\n",
    "Sb = lambda x: curl(lambda a: P(pb(x), Ix(a)), x, alg, Ix=Ix)\n",
    "diff_a = lambda A: lambda x: differential(A, x, pa(x), h=1e-3)\n",
    "diff_b = lambda A: lambda x: differential(A, x, pb(x), h=1e-3)\n",
    "(\n",
    "    diff_b(Pa_(nIx))(x), \n",
    "    diff_b(diff_a(nIx))(x), \n",
    "    nI*(diff_b(Sa)(x) + Sb(x)*Sa(x))\n",
    "    )"
   ]
  },
  {
   "cell_type": "code",
   "execution_count": 270,
   "metadata": {},
   "outputs": [
    {
     "data": {
      "text/plain": [
       "(-0.00248 𝐞₁₂ + 0.154 𝐞₁₃ + 0.118 𝐞₂₃,\n",
       " -0.00248 𝐞₁₂ + 0.154 𝐞₁₃ + 0.118 𝐞₂₃,\n",
       " -0.00866 𝐞₁₂ + -0.00264 𝐞₁₃ + -0.00793 𝐞₂₃,\n",
       " 2.47e-07 + -0.00866 𝐞₁₂ + -0.00264 𝐞₁₃ + -0.00793 𝐞₂₃)"
      ]
     },
     "execution_count": 270,
     "metadata": {},
     "output_type": "execute_result"
    }
   ],
   "source": [
    "# FIXME: differential on the manifold or not?\n",
    "Pab = lambda A: lambda x: differential(lambda b: differential(lambda a: P(A(x), Ix(a)), b, pa(x)), x, pb(x), h=1e-3)\n",
    "Sab = lambda x: differential(lambda b: curl(lambda a: P(pa(x), Ix(a)), b, alg, Ix=Ix), x, pb(x), h=1e-3)\n",
    "\n",
    "(\n",
    "    Pab(nIx)(x) + Pa_(Pb_(nIx))(x),\n",
    "    diff_b(diff_a(nIx))(x) - differential(nIx, x, diff_b(pa)(x)),\n",
    "    diff_b(diff_a(nIx))(x) - differential(nIx, x, P(diff_b(pa)(x), I)),\n",
    "    nI*(Sab(x) + Sb(x)*Sa(x))\n",
    "    )"
   ]
  },
  {
   "cell_type": "code",
   "execution_count": 272,
   "metadata": {},
   "outputs": [
    {
     "data": {
      "text/plain": [
       "(-0.00404 𝐞₁₂ + 0.00819 𝐞₁₃ + -0.00277 𝐞₂₃,\n",
       " -0.00404 𝐞₁₂ + 0.00819 𝐞₁₃ + -0.00277 𝐞₂₃)"
      ]
     },
     "execution_count": 272,
     "metadata": {},
     "output_type": "execute_result"
    }
   ],
   "source": [
    "da = diff_b(pa)\n",
    "Sda = lambda x: curl(lambda a: P(da(x), Ix(a)), x, alg, Ix=Ix)\n",
    "Sab(x), diff_b(Sa)(x) - Sda(x)"
   ]
  },
  {
   "cell_type": "code",
   "execution_count": 286,
   "metadata": {},
   "outputs": [
    {
     "data": {
      "text/plain": [
       "(-0.0124 𝐞₁₂ + -0.148 𝐞₁₃ + -0.0192 𝐞₂₃,\n",
       " -0.0124 𝐞₁₂ + -0.148 𝐞₁₃ + -0.0192 𝐞₂₃)"
      ]
     },
     "execution_count": 286,
     "metadata": {},
     "output_type": "execute_result"
    }
   ],
   "source": [
    "(\n",
    "    Pab(nIx)(x) +  Pa_(Pb_(nIx))(x) + differential(lambda b: differential(lambda a: P(nI, Ix(a)), x, pa(b)), x, pb(x), h=1e-3),\n",
    "    diff_b(Pa_(nIx))(x)\n",
    "    )"
   ]
  },
  {
   "cell_type": "code",
   "execution_count": 284,
   "metadata": {},
   "outputs": [
    {
     "data": {
      "text/plain": [
       "(-0.00987 𝐞₁₂ + -0.302 𝐞₁₃ + -0.137 𝐞₂₃,\n",
       " -0.00987 𝐞₁₂ + -0.302 𝐞₁₃ + -0.137 𝐞₂₃,\n",
       " -0.00987 𝐞₁₂ + -0.302 𝐞₁₃ + -0.137 𝐞₂₃,\n",
       " -0.0037 𝐞₁₂ + -0.145 𝐞₁₃ + -0.0113 𝐞₂₃,\n",
       " -0.0037 𝐞₁₂ + -0.145 𝐞₁₃ + -0.0113 𝐞₂₃)"
      ]
     },
     "execution_count": 284,
     "metadata": {},
     "output_type": "execute_result"
    }
   ],
   "source": [
    "# da or P(da)\n",
    "# If Ix is only defined on the manifold,\n",
    "# P(da) seems making more sense\n",
    "# But surprise! If we extend Ix to the embedding space (How?),\n",
    "# and differentiate in da-direction. It matches the double differential on the manifold.\n",
    "# Am I lucky to pick an extension satisfying these?\n",
    "(\n",
    "    differential(nIx, x, da(x), h=1e-3), \n",
    "    differential(lambda a: P(nI, Ix(a)), x, da(x), h=1e-3),\n",
    "    differential(lambda b: differential(lambda a: P(nI, Ix(a)), x, pa(b)), x, pb(x), h=1e-3),\n",
    "    differential(nIx, x, P(da(x), I)), \n",
    "    differential(lambda a: P(nI, Ix(a)), x, P(da(x),I))\n",
    "    )"
   ]
  },
  {
   "cell_type": "markdown",
   "metadata": {},
   "source": [
    "The above computation (line 2 and 3) shows that $$b \\cdot \\dot{\\partial} P_{\\dot{a}} \\ne P_{b \\cdot \\partial a}$$ so the first equality of 4.15 fails."
   ]
  },
  {
   "cell_type": "code",
   "execution_count": 279,
   "metadata": {},
   "outputs": [
    {
     "data": {
      "text/plain": [
       "(1.41e-10 + -0.0037 𝐞₁₂ + -0.145 𝐞₁₃ + -0.0113 𝐞₂₃,\n",
       " -0.0037 𝐞₁₂ + -0.145 𝐞₁₃ + -0.0113 𝐞₂₃)"
      ]
     },
     "execution_count": 279,
     "metadata": {},
     "output_type": "execute_result"
    }
   ],
   "source": [
    "nI*Sda(x), differential(nIx, x, P(da(x),I))"
   ]
  },
  {
   "cell_type": "code",
   "execution_count": 285,
   "metadata": {},
   "outputs": [
    {
     "data": {
      "text/plain": [
       "(0.00843 𝐞₁₂ + -0.000202 𝐞₁₃ + -0.000162 𝐞₂₃,\n",
       " 0.00843 𝐞₁₂ + -0.000202 𝐞₁₃ + -0.000162 𝐞₂₃,\n",
       " -0.0109 𝐞₁₂ + 0.154 𝐞₁₃ + 0.118 𝐞₂₃,\n",
       " -0.0109 𝐞₁₂ + 0.154 𝐞₁₃ + 0.118 𝐞₂₃)"
      ]
     },
     "execution_count": 285,
     "metadata": {},
     "output_type": "execute_result"
    }
   ],
   "source": [
    "#4.16\n",
    "Pba = lambda A: lambda x: differential(lambda b: differential(lambda a: P(A(x), Ix(a)), b, pb(x)), x, pa(x), h=1e-3)\n",
    "Pa_(Pb_(nIx))(x), Pb_(Pa_(nIx))(x), Pab(nIx)(x), Pba(nIx)(x)"
   ]
  },
  {
   "cell_type": "code",
   "execution_count": 288,
   "metadata": {},
   "outputs": [
    {
     "data": {
      "text/plain": [
       "(-0.00835 𝐞₁₂ + 0.0002 𝐞₁₃ + 0.000161 𝐞₂₃,\n",
       " -0.00835 𝐞₁₂ + 0.0002 𝐞₁₃ + 0.000161 𝐞₂₃)"
      ]
     },
     "execution_count": 288,
     "metadata": {},
     "output_type": "execute_result"
    }
   ],
   "source": [
    "#4.17\n",
    "Sba = lambda x: differential(lambda b: curl(lambda a: P(pb(x), Ix(a)), b, alg, Ix=Ix), x, pa(x), h=1e-3)\n",
    "\n",
    "Sab(x) - Sba(x), 2 * Sa(x).cp(Sb(x))"
   ]
  },
  {
   "cell_type": "code",
   "execution_count": null,
   "metadata": {},
   "outputs": [],
   "source": []
  }
 ],
 "metadata": {
  "kernelspec": {
   "display_name": "3.10.5",
   "language": "python",
   "name": "python3"
  },
  "language_info": {
   "codemirror_mode": {
    "name": "ipython",
    "version": 3
   },
   "file_extension": ".py",
   "mimetype": "text/x-python",
   "name": "python",
   "nbconvert_exporter": "python",
   "pygments_lexer": "ipython3",
   "version": "3.10.5"
  }
 },
 "nbformat": 4,
 "nbformat_minor": 2
}
