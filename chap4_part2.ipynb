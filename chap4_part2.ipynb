{
 "cells": [
  {
   "cell_type": "code",
   "execution_count": 1,
   "metadata": {},
   "outputs": [
    {
     "data": {
      "text/plain": [
       "(2.79 𝐞₁₂ + -0.067 𝐞₁₃ + -0.0538 𝐞₂₃, 3.69e-15 𝐞₁₂₃)"
      ]
     },
     "execution_count": 1,
     "metadata": {},
     "output_type": "execute_result"
    }
   ],
   "source": [
    "#1.3 ellipsoid\n",
    "# Let M be an ellipsoid in R3, (ax)^{2}+(by)^{2}+z^{2}=d\n",
    "# x = 1/a*cos(p)*sin(t)*e1 + 1/b*sin(p)*sin(t)*e2 + cos(t)*e3, t, p in R\n",
    "\n",
    "from gc_utils import *\n",
    "alg = Algebra(3)\n",
    "locals().update(alg.blades)\n",
    "\n",
    "c2e = lambda p, t: 4*np.cos(p)*np.sin(t)*e1 + 5*np.sin(p)*np.sin(t)*e2 + np.cos(t)*e3\n",
    "e_p = lambda p, t: -4*np.sin(p)*np.sin(t)*e1 + 5*np.cos(p)*np.sin(t)*e2\n",
    "e_t = lambda p, t: (4*np.cos(p)*np.cos(t)*e1) + (5*np.sin(p)*np.cos(t)*e2) - (np.sin(t)*e3)\n",
    "def Ix(x):\n",
    "    p = np.arctan((4/5)*x.e2/x.e1)\n",
    "    t = np.arccos(x.e3)\n",
    "    return e_p(p, t) ^ e_t(p, t)\n",
    "\n",
    "# |p| < pi/2, 0 < t < pi for unique arctan & arccos\n",
    "p, t = -1, 3\n",
    "x = c2e(p, t)\n",
    "I = Ix(x)\n",
    "\n",
    "I, I ^ (3*e_t(p,t) + 5*e_p(p,t))"
   ]
  },
  {
   "cell_type": "code",
   "execution_count": 2,
   "metadata": {},
   "outputs": [
    {
     "data": {
      "text/plain": [
       "(0.158 + 0.466 𝐞₁ + 0.262 𝐞₂ + 0.00269 𝐞₃ + 0.0125 𝐞₁₂ + -0.000299 𝐞₁₃ + -0.00024 𝐞₂₃,\n",
       " 0.158 + 0.497 𝐞₁ + 0.267 𝐞₂ + 0.00315 𝐞₃ + -0.00147 𝐞₁₂ + 3.52e-05 𝐞₁₃ + 2.83e-05 𝐞₂₃,\n",
       " 0.158 + 0.497 𝐞₁ + 0.267 𝐞₂ + -0.0115 𝐞₃ + -0.0012 𝐞₁₂ + -0.00312 𝐞₁₃ + 0.0177 𝐞₂₃,\n",
       " 0.415 + 0.454 𝐞₁ + -0.444 𝐞₂ + 0.58 𝐞₃ + -0.149 𝐞₁₂ + 0.429 𝐞₁₃ + 0.364 𝐞₂₃)"
      ]
     },
     "execution_count": 2,
     "metadata": {},
     "output_type": "execute_result"
    }
   ],
   "source": [
    "#3.1\n",
    "B, C, D = [random_multivector(alg) for _ in range(3)]\n",
    "a, b, c = random_r_vectors(3, alg)\n",
    "A = lambda x: B*x**2 + C*x*D\n",
    "PA = lambda x: P(A(x), Ix(x))\n",
    "def codiff(F, x, a, Ix, h=1e-6):\n",
    "    return P(differential(F, x, P(a, Ix(x)), h), Ix(x))\n",
    "\n",
    "codiff(A, x, a, Ix), codiff(PA, x, a, Ix), differential(PA, x, P(a,I)), differential(PA, x, a)"
   ]
  },
  {
   "cell_type": "code",
   "execution_count": 3,
   "metadata": {},
   "outputs": [
    {
     "data": {
      "text/plain": [
       "(-0.0925 + 0.406 𝐞₁ + 0.976 𝐞₂ + -0.0156 𝐞₃ + -0.607 𝐞₁₂ + 0.0146 𝐞₁₃ + 0.0117 𝐞₂₃,\n",
       " -0.0929 + 0.406 𝐞₁ + 0.976 𝐞₂ + -0.0156 𝐞₃ + -0.607 𝐞₁₂ + 0.0146 𝐞₁₃ + 0.0117 𝐞₂₃ + -5.99e-14 𝐞₁₂₃)"
      ]
     },
     "execution_count": 3,
     "metadata": {},
     "output_type": "execute_result"
    }
   ],
   "source": [
    "#3.2\n",
    "def coderivative(A, x, alg, Ix, h=1e-6):\n",
    "    return P(derivative(A, x, alg, Ix=Ix, h=h), Ix(x))\n",
    "\n",
    "(\n",
    "    coderivative(A, x, alg, Ix=Ix), \n",
    "    derivative(lambda a: codiff(A, x, a, Ix), x, alg, Ix=Ix)\n",
    "    )"
   ]
  },
  {
   "cell_type": "code",
   "execution_count": 4,
   "metadata": {},
   "outputs": [
    {
     "data": {
      "text/plain": [
       "(3.19 + 5.86 𝐞₁ + -0.372 𝐞₂ + 0.122 𝐞₃ + -0.96 𝐞₁₂ + 0.023 𝐞₁₃ + 0.0185 𝐞₂₃,\n",
       " 3.19 + 5.86 𝐞₁ + -0.372 𝐞₂ + 0.122 𝐞₃ + -0.96 𝐞₁₂ + 0.023 𝐞₁₃ + 0.0185 𝐞₂₃)"
      ]
     },
     "execution_count": 4,
     "metadata": {},
     "output_type": "execute_result"
    }
   ],
   "source": [
    "# linearity\n",
    "codiff(A, x, 2.2*a+3.3*b, Ix), 2.2*codiff(A, x, a, Ix) + 3.3*codiff(A, x, b, Ix)"
   ]
  },
  {
   "cell_type": "code",
   "execution_count": 5,
   "metadata": {},
   "outputs": [
    {
     "data": {
      "text/plain": [
       "(-0.469 + 1.68 𝐞₁ + 1.42 𝐞₂ + 1.8 𝐞₃ + -0.112 𝐞₁₂ + 2.1 𝐞₁₃ + 1.28 𝐞₂₃ + -0.959 𝐞₁₂₃,\n",
       " -0.469 + 1.68 𝐞₁ + 1.42 𝐞₂ + 1.8 𝐞₃ + -0.112 𝐞₁₂ + 2.1 𝐞₁₃ + 1.28 𝐞₂₃ + -0.959 𝐞₁₂₃)"
      ]
     },
     "execution_count": 5,
     "metadata": {},
     "output_type": "execute_result"
    }
   ],
   "source": [
    "#3.3 The equality holds for differential\n",
    "T = lambda x, A: x ** 2 * A * C + B*A*x\n",
    "dA = differential(A, x, a)\n",
    "(\n",
    "    differential(lambda a: T(a, A(x)), x, a), \n",
    "    differential(lambda x: T(x, A(x)), x, a) - T(x, dA)\n",
    "    )"
   ]
  },
  {
   "cell_type": "code",
   "execution_count": 6,
   "metadata": {},
   "outputs": [
    {
     "data": {
      "text/plain": [
       "(-1.0 + -0.92 𝐞₁ + -0.386 𝐞₂ + -0.00845 𝐞₃ + 0.21 𝐞₁₂ + -0.00503 𝐞₁₃ + -0.00404 𝐞₂₃,\n",
       " -2.01 + -2.07 𝐞₁ + 0.625 𝐞₂ + -0.691 𝐞₃ + 1.66 𝐞₁₂ + -0.67 𝐞₁₃ + -0.581 𝐞₂₃ + -0.41 𝐞₁₂₃)"
      ]
     },
     "execution_count": 6,
     "metadata": {},
     "output_type": "execute_result"
    }
   ],
   "source": [
    "#3.3 But not for codifferential\n",
    "dA = codiff(A, x, a, Ix)\n",
    "(\n",
    "    codiff(lambda a: T(a, A(x)), x, a, Ix), \n",
    "    codiff(lambda x: T(x, A(x)), x, a, Ix) - T(x, dA)\n",
    "    )"
   ]
  },
  {
   "cell_type": "code",
   "execution_count": 7,
   "metadata": {},
   "outputs": [
    {
     "data": {
      "text/plain": [
       "-1.0 + -0.92 𝐞₁ + -0.386 𝐞₂ + -0.00845 𝐞₃ + 0.21 𝐞₁₂ + -0.00503 𝐞₁₃ + -0.00404 𝐞₂₃"
      ]
     },
     "execution_count": 7,
     "metadata": {},
     "output_type": "execute_result"
    }
   ],
   "source": [
    "#3.3 Instead:\n",
    "ap = P(a, I)\n",
    "dA = differential(A, x, ap)\n",
    "codiff(lambda x: T(x, A(x)), x, a, Ix) - P(T(x, dA), I)"
   ]
  },
  {
   "cell_type": "code",
   "execution_count": 8,
   "metadata": {},
   "outputs": [
    {
     "data": {
      "text/plain": [
       "(-0.557 + -0.685 𝐞₁ + 0.254 𝐞₂ + -0.0193 𝐞₃ + 0.549 𝐞₁₂ + -0.0132 𝐞₁₃ + -0.0106 𝐞₂₃,\n",
       " -0.557 + -0.685 𝐞₁ + 0.254 𝐞₂ + -0.0193 𝐞₃ + 0.549 𝐞₁₂ + -0.0132 𝐞₁₃ + -0.0106 𝐞₂₃)"
      ]
     },
     "execution_count": 8,
     "metadata": {},
     "output_type": "execute_result"
    }
   ],
   "source": [
    "#3.3 Actually the T above fails to be an extensor. \n",
    "# An extensor field restricts both input and output\n",
    "T = lambda x, A: P(x ** 2 * P(A,Ix(x)) * C + B*P(A,Ix(x))*x, Ix(x))\n",
    "dA = codiff(A, x, a, Ix)\n",
    "(\n",
    "    codiff(lambda a: T(a, A(x)), x, a, Ix), \n",
    "    codiff(lambda x: T(x, A(x)), x, a, Ix) - T(x, dA)\n",
    "    )"
   ]
  },
  {
   "cell_type": "code",
   "execution_count": 9,
   "metadata": {},
   "outputs": [
    {
     "data": {
      "text/plain": [
       "(-0.197 + -0.363 𝐞₁ + -0.356 𝐞₂ + 0.0541 𝐞₃ + -0.438 𝐞₁₂ + 0.0105 𝐞₁₃ + -0.0238 𝐞₂₃,\n",
       " -0.197 + -0.362 𝐞₁ + -0.357 𝐞₂ + 0.00159 𝐞₃ + -0.437 𝐞₁₂ + 0.0105 𝐞₁₃ + 0.00842 𝐞₂₃)"
      ]
     },
     "execution_count": 9,
     "metadata": {},
     "output_type": "execute_result"
    }
   ],
   "source": [
    "#3.4\n",
    "dT = d(T, x, B, alg, Ix)\n",
    "dT, P(dT, I)"
   ]
  },
  {
   "cell_type": "code",
   "execution_count": 10,
   "metadata": {},
   "outputs": [
    {
     "data": {
      "text/plain": [
       "(0.046 𝐞₁ + 0.849 𝐞₂ + -0.0195 𝐞₃ + 2.11e-18 𝐞₁₂₃,\n",
       " 0.046 𝐞₁ + 0.849 𝐞₂ + -0.0195 𝐞₃)"
      ]
     },
     "execution_count": 10,
     "metadata": {},
     "output_type": "execute_result"
    }
   ],
   "source": [
    "# scalar field\n",
    "dA = derivative(lambda x: A(x).grade(0), x, alg, Ix=Ix)\n",
    "dA, P(dA, I)"
   ]
  },
  {
   "cell_type": "code",
   "execution_count": 11,
   "metadata": {},
   "outputs": [
    {
     "data": {
      "text/plain": [
       "(0.000564 + 0.412 𝐞₁ + 0.952 𝐞₂ + -0.0149 𝐞₃ + -0.608 𝐞₁₂ + -0.00184 𝐞₁₃ + -0.025 𝐞₂₃ + 0.0534 𝐞₁₂₃,\n",
       " 0.000564 + 0.412 𝐞₁ + 0.952 𝐞₂ + -0.0149 𝐞₃ + -0.608 𝐞₁₂ + -0.00184 𝐞₁₃ + -0.025 𝐞₂₃ + 0.0534 𝐞₁₂₃,\n",
       " 1.97e-10 + -7.25e-11 𝐞₁ + -3.6e-11 𝐞₂ + 1.8e-11 𝐞₃ + -0.0011 𝐞₁₂ + -0.0164 𝐞₁₃ + -0.0367 𝐞₂₃ + 0.0534 𝐞₁₂₃)"
      ]
     },
     "execution_count": 11,
     "metadata": {},
     "output_type": "execute_result"
    }
   ],
   "source": [
    "#3.6, 3.7\n",
    "S = shape(Ix, alg)\n",
    "dPA = derivative(PA, x, alg, Ix=Ix)\n",
    "dPA, P(dPA, I) + S(x, PA(x)), S(x, PA(x))"
   ]
  },
  {
   "cell_type": "code",
   "execution_count": 12,
   "metadata": {},
   "outputs": [
    {
     "data": {
      "text/plain": [
       "(0.046 𝐞₁ + 0.849 𝐞₂ + -0.0195 𝐞₃ + -0.608 𝐞₁₂ + -0.00184 𝐞₁₃ + -0.025 𝐞₂₃ + 0.0534 𝐞₁₂₃,\n",
       " 1.97e-10 + 0.046 𝐞₁ + 0.849 𝐞₂ + -0.0195 𝐞₃ + -0.608 𝐞₁₂ + -0.00184 𝐞₁₃ + -0.025 𝐞₂₃ + 0.0534 𝐞₁₂₃)"
      ]
     },
     "execution_count": 12,
     "metadata": {},
     "output_type": "execute_result"
    }
   ],
   "source": [
    "#3.7b\n",
    "def cocurl(A, x, alg, Ix, h=1e-6):\n",
    "    return P(curl(A, x, alg, Ix=Ix, h=h), Ix(x))\n",
    "\n",
    "def codiv(A, x, alg, Ix, h=1e-6):\n",
    "    return P(div(A, x, alg, Ix=Ix, h=h), Ix(x))\n",
    "\n",
    "curl(PA, x, alg, Ix=Ix), cocurl(A, x, alg, Ix=Ix) + S(x, PA(x))"
   ]
  },
  {
   "cell_type": "code",
   "execution_count": 13,
   "metadata": {},
   "outputs": [
    {
     "data": {
      "text/plain": [
       "(0.046 𝐞₁ + 0.849 𝐞₂ + -0.0195 𝐞₃ + -0.607 𝐞₁₂ + 0.0146 𝐞₁₃ + 0.0117 𝐞₂₃,\n",
       " 0.046 𝐞₁ + 0.849 𝐞₂ + -0.0195 𝐞₃ + -0.607 𝐞₁₂ + 0.0146 𝐞₁₃ + 0.0117 𝐞₂₃)"
      ]
     },
     "execution_count": 13,
     "metadata": {},
     "output_type": "execute_result"
    }
   ],
   "source": [
    "#3.8\n",
    "cocurl(PA, x, alg, Ix=Ix), cocurl(A, x, alg, Ix=Ix)"
   ]
  },
  {
   "cell_type": "code",
   "execution_count": 14,
   "metadata": {},
   "outputs": [
    {
     "data": {
      "text/plain": [
       "(0.000564 + 0.366 𝐞₁ + 0.102 𝐞₂ + 0.00459 𝐞₃ + -9.1e-20 𝐞₁₂ + 2.18e-21 𝐞₁₃ + 1.75e-21 𝐞₂₃,\n",
       " 0.000564 + 0.366 𝐞₁ + 0.102 𝐞₂ + 0.00459 𝐞₃ + -1.69e-21 𝐞₂₃)"
      ]
     },
     "execution_count": 14,
     "metadata": {},
     "output_type": "execute_result"
    }
   ],
   "source": [
    "#3.9 the expansion of Ix contributes to the curl, \n",
    "# so we need a normalized version\n",
    "nIx = lambda x: normalize(Ix(x))\n",
    "nI = nIx(x)\n",
    "codiv(PA, x, alg, Ix=Ix), cocurl(lambda x: PA(x)*nIx(x), x, alg, Ix=Ix) * inv(nI)"
   ]
  },
  {
   "cell_type": "code",
   "execution_count": 15,
   "metadata": {},
   "outputs": [
    {
     "data": {
      "text/plain": [
       "(-0.000518 𝐞₁₂ + 0.00618 𝐞₁₃ + -0.0346 𝐞₂₃,\n",
       " -0.000518 𝐞₁₂ + 0.00618 𝐞₁₃ + -0.0346 𝐞₂₃)"
      ]
     },
     "execution_count": 15,
     "metadata": {},
     "output_type": "execute_result"
    }
   ],
   "source": [
    "# the dropped term\n",
    "differential(lambda a: P(nIx(x), nIx(a)), x, ap), differential(nIx, x, ap)"
   ]
  },
  {
   "cell_type": "code",
   "execution_count": 16,
   "metadata": {},
   "outputs": [
    {
     "data": {
      "text/plain": [
       "(0.00115 𝐞₁₂ + 0.0572 𝐞₁₃ + -0.0112 𝐞₂₃ + 0.116 𝐞₁₂₃,\n",
       " -1.2e-29 𝐞₁ + -1.55e-10 𝐞₂ + 3.72e-12 𝐞₃ + 0.00115 𝐞₁₂ + 0.0572 𝐞₁₃ + -0.0112 𝐞₂₃ + 0.116 𝐞₁₂₃)"
      ]
     },
     "execution_count": 16,
     "metadata": {},
     "output_type": "execute_result"
    }
   ],
   "source": [
    "# the dropped term\n",
    "curl(lambda a: PA(x)*P(nIx(x), nIx(a)), x, alg, Ix=Ix), curl(lambda a: PA(x)*nIx(a), x, alg, Ix=Ix)"
   ]
  },
  {
   "cell_type": "code",
   "execution_count": 17,
   "metadata": {},
   "outputs": [
    {
     "data": {
      "text/plain": [
       "(-3.19e-07 + -4.52e-07 𝐞₁ + -7.12e-07 𝐞₂ + -6.13e-07 𝐞₃ + -1.6e-07 𝐞₁₂ + -3.01e-07 𝐞₁₃ + 1.12e-07 𝐞₂₃ + -1.02e-07 𝐞₁₂₃,\n",
       " 0.0618 + 0.0681 𝐞₁ + 0.107 𝐞₂ + -0.00774 𝐞₃ + -0.0386 𝐞₁₂ + 0.0183 𝐞₁₃ + 0.0437 𝐞₂₃ + 0.00979 𝐞₁₂₃,\n",
       " 0.0618 + 0.0681 𝐞₁ + 0.107 𝐞₂ + -0.00774 𝐞₃ + -0.0386 𝐞₁₂ + 0.0183 𝐞₁₃ + 0.0437 𝐞₂₃ + 0.00979 𝐞₁₂₃,\n",
       " 0.0618 + 0.0681 𝐞₁ + 0.107 𝐞₂ + -0.00774 𝐞₃ + -0.0386 𝐞₁₂ + 0.0183 𝐞₁₃ + 0.0437 𝐞₂₃ + 0.00979 𝐞₁₂₃)"
      ]
     },
     "execution_count": 17,
     "metadata": {},
     "output_type": "execute_result"
    }
   ],
   "source": [
    "#3.10 The first derivative only acts on the second derivative is enough?\n",
    "# Why leading to the same result?\n",
    "# Answer: exactly what 3.10 tells us!\n",
    "frame = blade_split(I, alg)\n",
    "r_frame = reciprocal(frame)\n",
    "(\n",
    "    sum((ar ^ br) * differential(lambda x: differential(A, x, b), x, a, h=1e-3) for (a,ar), (b,br) in product(zip(frame, r_frame), repeat=2)),\n",
    "    sum(o1(lambda x: sum((r1 ^ r) * o(A) for r, o in derivative_gen(x, alg, Ix))) for r1, o1 in derivative_gen(x, alg, Ix, h=1e-3)),\n",
    "    sum(curl(lambda x: P(r, Ix(x)), x, alg, Ix=Ix) * differential(A, x, v) for v, r in zip(frame, r_frame)),\n",
    "    sum(S(x, r) * differential(A, x, v) for v, r in zip(frame, r_frame))\n",
    "    )\n"
   ]
  },
  {
   "cell_type": "code",
   "execution_count": 18,
   "metadata": {},
   "outputs": [
    {
     "data": {
      "text/plain": [
       "(0.845 + 1.66 𝐞₁ + 4.05 𝐞₂ + 2.07 𝐞₃ + 2.27 𝐞₁₂ + 0.124 𝐞₁₃ + 3.44 𝐞₂₃ + 2.19 𝐞₁₂₃,\n",
       " 0.845 + 1.66 𝐞₁ + 4.05 𝐞₂ + 2.07 𝐞₃ + 2.27 𝐞₁₂ + 0.124 𝐞₁₃ + 3.44 𝐞₂₃ + 2.19 𝐞₁₂₃,\n",
       " 0.744 + 1.68 𝐞₁ + 3.95 𝐞₂ + 2.24 𝐞₃ + 2.32 𝐞₁₂ + 0.182 𝐞₁₃ + 3.47 𝐞₂₃ + 2.25 𝐞₁₂₃,\n",
       " 0.744 + 1.68 𝐞₁ + 3.95 𝐞₂ + 2.24 𝐞₃ + 2.32 𝐞₁₂ + 0.182 𝐞₁₃ + 3.47 𝐞₂₃ + 2.25 𝐞₁₂₃,\n",
       " 0.0618 + 0.0681 𝐞₁ + 0.107 𝐞₂ + -0.00774 𝐞₃ + -0.0386 𝐞₁₂ + 0.0183 𝐞₁₃ + 0.0437 𝐞₂₃ + 0.00979 𝐞₁₂₃)"
      ]
     },
     "execution_count": 18,
     "metadata": {},
     "output_type": "execute_result"
    }
   ],
   "source": [
    "# A single representation may indicates several operations\n",
    "# Use overdots to specify\n",
    "# see 1.24 \n",
    "deriv_ = lambda A: lambda x: derivative(A, x, alg, Ix=Ix, h=1e-3)\n",
    "(\n",
    "    deriv_(deriv_(A))(x),\n",
    "    sum(o1(lambda x: sum((r1 * r) * o(A) for r, o in derivative_gen(x, alg, Ix))) for r1, o1 in derivative_gen(x, alg, Ix, h=1e-3)),\n",
    "    sum((ar * br) * differential(lambda x: differential(A, x, b), x, a, h=1e-3) for (a,ar), (b,br) in product(zip(frame, r_frame), repeat=2)),\n",
    "    sum((ar | br) * differential(lambda x: differential(A, x, b), x, a, h=1e-3) for (a,ar), (b,br) in product(zip(frame, r_frame), repeat=2)),\n",
    "    sum(derivative(lambda x: P(r, Ix(x)), x, alg, Ix=Ix) * differential(A, x, v) for v, r in zip(frame, r_frame)),\n",
    "    )\n"
   ]
  },
  {
   "cell_type": "code",
   "execution_count": 19,
   "metadata": {},
   "outputs": [
    {
     "data": {
      "text/plain": [
       "(0.00073 𝐞₁₂ + 0.00252 𝐞₁₃ + 0.0348 𝐞₂₃ + 0.00979 𝐞₁₂₃,\n",
       " 8.67e-22 𝐞₃ + -2.39e-08 𝐞₁₂ + 5.74e-10 𝐞₁₃ + 4.6e-10 𝐞₂₃,\n",
       " -2.39e-08 𝐞₁₂ + 5.74e-10 𝐞₁₃ + 4.6e-10 𝐞₂₃)"
      ]
     },
     "execution_count": 19,
     "metadata": {},
     "output_type": "execute_result"
    }
   ],
   "source": [
    "#3.11\n",
    "curl_ = lambda A: lambda x: curl(A, x, alg, Ix=Ix, h=1e-3)\n",
    "cocurl_ = lambda A: lambda x: cocurl(A, x, alg, Ix, h=1e-3)\n",
    "cc = curl_(curl_(A))(x)\n",
    "cc, P(cc, I), cocurl_(cocurl_(A))(x)"
   ]
  },
  {
   "cell_type": "code",
   "execution_count": 20,
   "metadata": {},
   "outputs": [
    {
     "data": {
      "text/plain": [
       "(0.0618 + 0.0544 𝐞₁ + 0.113 𝐞₂ + -0.00167 𝐞₃ + 4.23e-18 𝐞₁₂ + -1.95e-19 𝐞₁₃ + -2.99e-18 𝐞₂₃,\n",
       " 5.3e-08 + 2.4e-17 𝐞₁ + -4.44e-17 𝐞₂ + 1.25e-15 𝐞₃ + -5.08e-20 𝐞₁₂ + -1.03e-19 𝐞₁₃ + -3.03e-18 𝐞₂₃,\n",
       " -0.071 + -2.31e-17 𝐞₁ + -1.24e-14 𝐞₂ + 2.98e-16 𝐞₃ + 1.24e-20 𝐞₁₂ + -2.98e-22 𝐞₁₃ + -2.39e-22 𝐞₂₃,\n",
       " 5.68e-08 + 4.79e-17 𝐞₁ + -7.41e-17 𝐞₂ + 2.7e-18 𝐞₃ + 9.99e-21 𝐞₁₂ + -2.4e-22 𝐞₁₃ + -1.92e-22 𝐞₂₃)"
      ]
     },
     "execution_count": 20,
     "metadata": {},
     "output_type": "execute_result"
    }
   ],
   "source": [
    "#3.12\n",
    "div_ = lambda A: lambda x: div(A, x, alg, Ix=Ix, h=1e-3)\n",
    "codiv_ = lambda A: lambda x: codiv(A, x, alg, Ix, h=1e-3)\n",
    "div_(div_(A))(x), div_(div_(PA))(x), codiv_(codiv_(A))(x), codiv_(codiv_(PA))(x)"
   ]
  },
  {
   "cell_type": "code",
   "execution_count": 21,
   "metadata": {},
   "outputs": [
    {
     "data": {
      "text/plain": [
       "(0.712 + 1.64 𝐞₁ + 3.9 𝐞₂ + -0.062 𝐞₃ + 2.2 𝐞₁₂ + -0.0528 𝐞₁₃ + -0.0424 𝐞₂₃,\n",
       " 0.712 + 1.64 𝐞₁ + 3.9 𝐞₂ + -0.062 𝐞₃ + 2.2 𝐞₁₂ + -0.0528 𝐞₁₃ + -0.0424 𝐞₂₃ + 9.68e-18 𝐞₁₂₃,\n",
       " 0.712 + 1.64 𝐞₁ + 3.9 𝐞₂ + -0.062 𝐞₃ + 2.2 𝐞₁₂ + -0.0528 𝐞₁₃ + -0.0424 𝐞₂₃ + 9.66e-18 𝐞₁₂₃,\n",
       " 0.712 + 1.64 𝐞₁ + 3.9 𝐞₂ + -0.062 𝐞₃ + 2.2 𝐞₁₂ + -0.0528 𝐞₁₃ + -0.0424 𝐞₂₃,\n",
       " 0.783 + 1.64 𝐞₁ + 3.9 𝐞₂ + -0.062 𝐞₃ + 2.2 𝐞₁₂ + -0.0528 𝐞₁₃ + -0.0424 𝐞₂₃)"
      ]
     },
     "execution_count": 21,
     "metadata": {},
     "output_type": "execute_result"
    }
   ],
   "source": [
    "#3.13\n",
    "coderiv_ = lambda A: lambda x: coderivative(A, x, alg, Ix, h=1e-3)\n",
    "dd = sum(ar * br * codiff(lambda x: codiff(A, x, b, Ix), x, a, Ix, h=1e-3) for (a,ar), (b,br) in product(zip(frame, r_frame), repeat=2))\n",
    "cd = sum((ar ^ br) * codiff(lambda x: codiff(A, x, b, Ix), x, a, Ix, h=1e-3) for (a,ar), (b,br) in product(zip(frame, r_frame), repeat=2))\n",
    "id = sum((ar | br) * codiff(lambda x: codiff(A, x, b, Ix), x, a, Ix, h=1e-3) for (a,ar), (b,br) in product(zip(frame, r_frame), repeat=2))\n",
    "(\n",
    "    coderiv_(coderiv_(A))(x),\n",
    "    dd,\n",
    "    cd + id,\n",
    "    cocurl_(coderiv_(A))(x) + codiv_(coderiv_(A))(x),\n",
    "    cocurl_(codiv_(A))(x) + codiv_(cocurl_(A))(x),\n",
    ")"
   ]
  },
  {
   "cell_type": "code",
   "execution_count": 22,
   "metadata": {},
   "outputs": [
    {
     "data": {
      "text/plain": [
       "(0.744 + 1.68 𝐞₁ + 3.95 𝐞₂ + 2.24 𝐞₃ + 2.32 𝐞₁₂ + 0.182 𝐞₁₃ + 3.47 𝐞₂₃ + 2.25 𝐞₁₂₃,\n",
       " 0.845 + 1.66 𝐞₁ + 4.05 𝐞₂ + 2.07 𝐞₃ + 2.27 𝐞₁₂ + 0.124 𝐞₁₃ + 3.44 𝐞₂₃ + 2.19 𝐞₁₂₃,\n",
       " -3.19e-07 + -4.52e-07 𝐞₁ + -7.12e-07 𝐞₂ + -6.13e-07 𝐞₃ + -1.6e-07 𝐞₁₂ + -3.01e-07 𝐞₁₃ + 1.12e-07 𝐞₂₃ + -1.02e-07 𝐞₁₂₃,\n",
       " 0.0618 + 0.0681 𝐞₁ + 0.107 𝐞₂ + -0.00774 𝐞₃ + -0.0386 𝐞₁₂ + 0.0183 𝐞₁₃ + 0.0437 𝐞₂₃ + 0.00979 𝐞₁₂₃,\n",
       " 0.744 + 1.68 𝐞₁ + 3.95 𝐞₂ + 2.24 𝐞₃ + 2.32 𝐞₁₂ + 0.182 𝐞₁₃ + 3.47 𝐞₂₃ + 2.25 𝐞₁₂₃,\n",
       " 0.783 + 1.59 𝐞₁ + 3.95 𝐞₂ + 2.08 𝐞₃ + 2.31 𝐞₁₂ + 0.105 𝐞₁₃ + 3.4 𝐞₂₃ + 2.18 𝐞₁₂₃)"
      ]
     },
     "execution_count": 22,
     "metadata": {},
     "output_type": "execute_result"
    }
   ],
   "source": [
    "# These are not identical for derivatives\n",
    "(\n",
    "    sum(ar * br * differential(lambda x: differential(A, x, b), x, a, h=1e-3) for (a,ar), (b,br) in product(zip(frame, r_frame), repeat=2)),\n",
    "    sum(o1(lambda x: sum((r1*r)* o(A) for r, o in derivative_gen(x, alg, Ix))) for r1, o1 in derivative_gen(x, alg, Ix, h=1e-3)),\n",
    "    sum((ar ^ br) * differential(lambda x: differential(A, x, b), x, a, h=1e-3) for (a,ar), (b,br) in product(zip(frame, r_frame), repeat=2)),\n",
    "    sum(o1(lambda x: sum((r1^r)* o(A) for r, o in derivative_gen(x, alg, Ix))) for r1, o1 in derivative_gen(x, alg, Ix, h=1e-3)),\n",
    "    sum((ar | br) * differential(lambda x: differential(A, x, b), x, a, h=1e-3) for (a,ar), (b,br) in product(zip(frame, r_frame), repeat=2)),\n",
    "    sum(o1(lambda x: sum((r1|r)* o(A) for r, o in derivative_gen(x, alg, Ix))) for r1, o1 in derivative_gen(x, alg, Ix, h=1e-3))\n",
    ")"
   ]
  },
  {
   "cell_type": "code",
   "execution_count": 23,
   "metadata": {},
   "outputs": [
    {
     "data": {
      "text/plain": [
       "(0.712 + 1.64 𝐞₁ + 3.9 𝐞₂ + -0.062 𝐞₃ + 2.2 𝐞₁₂ + -0.0528 𝐞₁₃ + -0.0424 𝐞₂₃ + 9.68e-18 𝐞₁₂₃,\n",
       " 0.712 + 1.64 𝐞₁ + 3.9 𝐞₂ + -0.062 𝐞₃ + 2.2 𝐞₁₂ + -0.0528 𝐞₁₃ + -0.0424 𝐞₂₃,\n",
       " -0.071 + -0.00863 𝐞₁ + 0.00913 𝐞₂ + -0.000385 𝐞₃ + 9.7e-15 𝐞₁₂ + -2.33e-16 𝐞₁₃ + -1.87e-16 𝐞₂₃ + 4.74e-20 𝐞₁₂₃,\n",
       " -0.071 + -0.00863 𝐞₁ + 0.00913 𝐞₂ + -0.000385 𝐞₃ + 8.02e-08 𝐞₁₂ + -1.92e-09 𝐞₁₃ + -1.54e-09 𝐞₂₃,\n",
       " 0.783 + 1.65 𝐞₁ + 3.89 𝐞₂ + -0.0616 𝐞₃ + 2.2 𝐞₁₂ + -0.0528 𝐞₁₃ + -0.0424 𝐞₂₃ + 9.61e-18 𝐞₁₂₃,\n",
       " 0.783 + 1.65 𝐞₁ + 3.89 𝐞₂ + -0.0616 𝐞₃ + 2.2 𝐞₁₂ + -0.0528 𝐞₁₃ + -0.0424 𝐞₂₃)"
      ]
     },
     "execution_count": 23,
     "metadata": {},
     "output_type": "execute_result"
    }
   ],
   "source": [
    "# But for coderivatives:\n",
    "def coderivative_gen(x, alg, Ix: Algebra, h=1e-6):\n",
    "    for v, r in frame_gen(x, alg, Ix):\n",
    "        yield (r, lambda F: codiff(F, x, v, Ix, h))\n",
    "\n",
    "(\n",
    "    dd,\n",
    "    sum(o1(lambda x: sum((r1*r)* o(A) for r, o in coderivative_gen(x, alg, Ix))) for r1, o1 in coderivative_gen(x, alg, Ix, h=1e-3)),\n",
    "    cd,\n",
    "    sum(o1(lambda x: sum((r1^r)* o(A) for r, o in coderivative_gen(x, alg, Ix))) for r1, o1 in coderivative_gen(x, alg, Ix, h=1e-3)),\n",
    "    id,\n",
    "    sum(o1(lambda x: sum((r1|r)* o(A) for r, o in coderivative_gen(x, alg, Ix))) for r1, o1 in coderivative_gen(x, alg, Ix, h=1e-3))\n",
    ")"
   ]
  },
  {
   "cell_type": "code",
   "execution_count": 24,
   "metadata": {},
   "outputs": [
    {
     "data": {
      "text/plain": [
       "1.8656366986835593e-06"
      ]
     },
     "execution_count": 24,
     "metadata": {},
     "output_type": "execute_result"
    }
   ],
   "source": [
    "max_diff(dd, sum(o1(lambda x: sum((r1*r)* o(A) for r, o in coderivative_gen(x, alg, Ix))) for r1, o1 in coderivative_gen(x, alg, Ix, h=1e-3)))"
   ]
  },
  {
   "cell_type": "code",
   "execution_count": 25,
   "metadata": {},
   "outputs": [
    {
     "data": {
      "text/plain": [
       "(-0.071 + -0.00863 𝐞₁ + 0.00913 𝐞₂ + -0.000385 𝐞₃ + 9.7e-15 𝐞₁₂ + -2.33e-16 𝐞₁₃ + -1.87e-16 𝐞₂₃ + 4.74e-20 𝐞₁₂₃,\n",
       " 0.783 + 1.65 𝐞₁ + 3.89 𝐞₂ + -0.0616 𝐞₃ + 2.2 𝐞₁₂ + -0.0528 𝐞₁₃ + -0.0424 𝐞₂₃ + 9.61e-18 𝐞₁₂₃,\n",
       " 0.847 𝐞₁ + 1.93 𝐞₂ + -0.0299 𝐞₃ + 2.16 𝐞₁₂ + -0.0519 𝐞₁₃ + -0.0417 𝐞₂₃,\n",
       " 0.783 + 0.818 𝐞₁ + 1.96 𝐞₂ + -0.0312 𝐞₃ + 9.62e-20 𝐞₁₂ + -2.31e-21 𝐞₁₃ + -1.85e-21 𝐞₂₃)"
      ]
     },
     "execution_count": 25,
     "metadata": {},
     "output_type": "execute_result"
    }
   ],
   "source": [
    "#3.13 And indeed these are \"two\" ways to expand the colaplacian\n",
    "cd, id, cocurl_(coderiv_(PA))(x), codiv_(coderiv_(PA))(x)"
   ]
  },
  {
   "cell_type": "code",
   "execution_count": 26,
   "metadata": {},
   "outputs": [
    {
     "data": {
      "text/plain": [
       "(0.783 + 1.66 𝐞₁ + 3.88 𝐞₂ + -0.061 𝐞₃ + 2.16 𝐞₁₂ + -0.0519 𝐞₁₃ + -0.0417 𝐞₂₃,\n",
       " 0.783 + 1.66 𝐞₁ + 3.88 𝐞₂ + -0.0611 𝐞₃ + 2.16 𝐞₁₂ + -0.0519 𝐞₁₃ + -0.0417 𝐞₂₃)"
      ]
     },
     "execution_count": 26,
     "metadata": {},
     "output_type": "execute_result"
    }
   ],
   "source": [
    "# drop the middle projection?\n",
    "deriv_ = lambda A: lambda x: derivative(A, x, alg, Ix=Ix, h=1e-3)\n",
    "P(deriv_(deriv_(PA))(x), I), coderiv_(coderiv_(PA))(x)"
   ]
  },
  {
   "cell_type": "code",
   "execution_count": 27,
   "metadata": {},
   "outputs": [
    {
     "data": {
      "text/plain": [
       "[0.783 + -2.36e-08 𝐞₁₂ + 5.66e-10 𝐞₁₃ + 4.54e-10 𝐞₂₃,\n",
       " 1.66 𝐞₁ + 3.88 𝐞₂ + -0.0611 𝐞₃,\n",
       " 5.68e-08 + 2.16 𝐞₁₂ + -0.0519 𝐞₁₃ + -0.0417 𝐞₂₃]"
      ]
     },
     "execution_count": 27,
     "metadata": {},
     "output_type": "execute_result"
    }
   ],
   "source": [
    "#3.14 grade preserving\n",
    "[coderiv_(coderiv_(lambda x: PA(x).grade(k)))(x) for k in range(3)]"
   ]
  },
  {
   "cell_type": "code",
   "execution_count": 28,
   "metadata": {},
   "outputs": [
    {
     "data": {
      "text/plain": [
       "[2.32e-07 𝐞₁₂ + -5.57e-09 𝐞₁₃ + -4.47e-09 𝐞₂₃,\n",
       " 0.000689 𝐞₁ + 0.00233 𝐞₂ + -4.28e-05 𝐞₃,\n",
       " -6.46e-07 + 2.69e-09 𝐞₁₂ + -6.46e-11 𝐞₁₃ + -5.19e-11 𝐞₂₃]"
      ]
     },
     "execution_count": 28,
     "metadata": {},
     "output_type": "execute_result"
    }
   ],
   "source": [
    "#3.14a\n",
    "cd = lambda A: sum(o1(lambda x: sum((r1^r)* o(A) for r, o in coderivative_gen(x, alg, Ix))) for r1, o1 in coderivative_gen(x, alg, Ix, h=1e-3))\n",
    "# cd = lambda A: sum((ar ^ br) * codiff(lambda x: codiff(A, x, b, Ix), x, a, Ix, h=1e-3) for (a,ar), (b,br) in product(zip(frame, r_frame), repeat=2))\n",
    "[cd(lambda x: PA(x).grade(k)) for k in range(3)]"
   ]
  },
  {
   "cell_type": "code",
   "execution_count": 29,
   "metadata": {},
   "outputs": [
    {
     "data": {
      "text/plain": [
       "6.460016965664783e-07"
      ]
     },
     "execution_count": 29,
     "metadata": {},
     "output_type": "execute_result"
    }
   ],
   "source": [
    "#3.14b\n",
    "max_diff(\n",
    "    sum(o1(lambda x: sum((r1^r)* o(PA) for r, o in coderivative_gen(x, alg, Ix))) for r1, o1 in coderivative_gen(x, alg, Ix, h=1e-3)),\n",
    "    sum(o1(lambda x: sum((r1^r).cp(o(PA)) for r, o in coderivative_gen(x, alg, Ix))) for r1, o1 in coderivative_gen(x, alg, Ix, h=1e-3)),\n",
    ")"
   ]
  },
  {
   "cell_type": "code",
   "execution_count": 30,
   "metadata": {},
   "outputs": [
    {
     "data": {
      "text/plain": [
       "(-0.608 𝐞₁₂ + -0.00184 𝐞₁₃ + -0.025 𝐞₂₃,\n",
       " 1.97e-10 + -0.608 𝐞₁₂ + -0.00184 𝐞₁₃ + -0.025 𝐞₂₃)"
      ]
     },
     "execution_count": 30,
     "metadata": {},
     "output_type": "execute_result"
    }
   ],
   "source": [
    "#3.15\n",
    "a = lambda x: PA(x).grade(1)\n",
    "(\n",
    "    curl(a, x, alg, Ix=Ix),\n",
    "    cocurl(a, x, alg, Ix) + S(x, a(x))\n",
    "    )\n"
   ]
  },
  {
   "cell_type": "code",
   "execution_count": 31,
   "metadata": {},
   "outputs": [
    {
     "data": {
      "text/plain": [
       "(1.65 𝐞₁ + -0.0416 𝐞₂ + -0.0157 𝐞₃, 1.65 𝐞₁ + -0.0416 𝐞₂ + -0.0157 𝐞₃)"
      ]
     },
     "execution_count": 31,
     "metadata": {},
     "output_type": "execute_result"
    }
   ],
   "source": [
    "#3.16\n",
    "b = P(c, I)\n",
    "differential(a, x, b), codiff(a, x, b, Ix) + (b | S(x, a(x)))"
   ]
  },
  {
   "cell_type": "code",
   "execution_count": 32,
   "metadata": {},
   "outputs": [],
   "source": [
    "def lie_bracket(ax, bx, Ix=None, h=1e-6):\n",
    "    if Ix:\n",
    "        return lambda x: differential(bx, x, P(ax(x), Ix(x)), h=h) - differential(ax, x, P(bx(x), Ix(x)), h=h)\n",
    "    return lambda x: differential(bx, x, ax(x), h=h) - differential(ax, x, bx(x), h=h)"
   ]
  },
  {
   "cell_type": "code",
   "execution_count": 33,
   "metadata": {},
   "outputs": [
    {
     "data": {
      "text/plain": [
       "(-4.32 𝐞₁ + 1.15 𝐞₂ + -0.111 𝐞₃, -4.32 𝐞₁ + 1.15 𝐞₂ + -0.111 𝐞₃)"
      ]
     },
     "execution_count": 33,
     "metadata": {},
     "output_type": "execute_result"
    }
   ],
   "source": [
    "#3.17\n",
    "b = lambda x: P((B*x**2 + c + x*B).grade(1), Ix(x))\n",
    "\n",
    "lie_bracket(a, b)(x), codiff(b, x, a(x), Ix) - codiff(a, x, b(x), Ix)"
   ]
  },
  {
   "cell_type": "code",
   "execution_count": 34,
   "metadata": {},
   "outputs": [
    {
     "data": {
      "text/plain": [
       "(-4.21 𝐞₁ + 1.29 𝐞₂ + -0.32 𝐞₃,\n",
       " -4.21 𝐞₁ + 1.29 𝐞₂ + -0.112 𝐞₃,\n",
       " -4.32 𝐞₁ + 1.15 𝐞₂ + -0.111 𝐞₃,\n",
       " -4.32 𝐞₁ + 1.15 𝐞₂ + -0.111 𝐞₃)"
      ]
     },
     "execution_count": 34,
     "metadata": {},
     "output_type": "execute_result"
    }
   ],
   "source": [
    "#3.18\n",
    "P_ = lambda A: lambda x: P(A(x), Ix(x))\n",
    "a = lambda x: A(x).grade(1)\n",
    "b = lambda x: (B*x**2 + c + x*B).grade(1)\n",
    "(\n",
    "    lie_bracket(a, b, Ix)(x),\n",
    "    P(lie_bracket(a, b, Ix, h=1e-3)(x), I),\n",
    "    lie_bracket(P_(a), P_(b), Ix)(x),\n",
    "    P(lie_bracket(P_(a), P_(b), Ix, h=1e-3)(x), I),\n",
    "    )"
   ]
  },
  {
   "cell_type": "code",
   "execution_count": 35,
   "metadata": {},
   "outputs": [
    {
     "data": {
      "text/plain": [
       "(-4.21 𝐞₁ + 1.29 𝐞₂ + -0.32 𝐞₃, -4.21 𝐞₁ + 1.29 𝐞₂ + -0.32 𝐞₃ + 2.65e-18 𝐞₁₂₃)"
      ]
     },
     "execution_count": 35,
     "metadata": {},
     "output_type": "execute_result"
    }
   ],
   "source": [
    "#3.19a\n",
    "div_ = lambda A: lambda x: div(A, x, alg, Ix=Ix, h=1e-3)\n",
    "(\n",
    "    lie_bracket(a, b, Ix)(x),\n",
    "    (div_(lambda x: a(x)^b(x))(x)) - (b(x)*div_(a)(x)) + (a(x)*div_(b)(x))\n",
    ")"
   ]
  },
  {
   "cell_type": "code",
   "execution_count": 36,
   "metadata": {},
   "outputs": [
    {
     "data": {
      "text/plain": [
       "(-4.32 𝐞₁ + 1.15 𝐞₂ + -0.111 𝐞₃,\n",
       " -4.32 𝐞₁ + 1.15 𝐞₂ + -0.111 𝐞₃ + -7.52e-37 𝐞₁₂₃)"
      ]
     },
     "execution_count": 36,
     "metadata": {},
     "output_type": "execute_result"
    }
   ],
   "source": [
    "#3.19b\n",
    "pa = lambda x: P(a(x), Ix(x))\n",
    "pb = lambda x: P(b(x), Ix(x))\n",
    "(\n",
    "    lie_bracket(pa, pb, Ix)(x),\n",
    "    codiv_(lambda x: pa(x)^pb(x))(x) - (pb(x)*codiv_(pa)(x)) + (pa(x)*codiv_(pb)(x))\n",
    ")"
   ]
  },
  {
   "cell_type": "code",
   "execution_count": 37,
   "metadata": {},
   "outputs": [
    {
     "data": {
      "text/plain": [
       "(-4.32 𝐞₁ + 1.15 𝐞₂ + -0.111 𝐞₃ + 1.54e-18 𝐞₁₂₃,\n",
       " -4.21 𝐞₁ + 1.29 𝐞₂ + -0.32 𝐞₃ + 2.65e-18 𝐞₁₂₃)"
      ]
     },
     "execution_count": 37,
     "metadata": {},
     "output_type": "execute_result"
    }
   ],
   "source": [
    "#3.20\n",
    "def lie_bracket(A, B, alg, Ix, h=1e-6):\n",
    "    return lambda x: sum((inner(A(x),r)^o(B)) - (o(A)^inner(r,B(x))) for r, o in derivative_gen(x, alg, Ix, h))\n",
    "\n",
    "lie_bracket(pa, pb, alg, Ix)(x), lie_bracket(a, b, alg, Ix)(x)"
   ]
  },
  {
   "cell_type": "code",
   "execution_count": 38,
   "metadata": {},
   "outputs": [
    {
     "data": {
      "text/plain": [
       "(-9.23 + -3.82 𝐞₁ + -8.1 𝐞₂ + -6.04 𝐞₃ + -1.43 𝐞₁₂ + -8.01 𝐞₁₃ + 0.258 𝐞₂₃ + 4.08 𝐞₁₂₃,\n",
       " -9.23 + -3.82 𝐞₁ + -8.1 𝐞₂ + -6.04 𝐞₃ + -1.43 𝐞₁₂ + -8.01 𝐞₁₃ + 0.258 𝐞₂₃ + 4.08 𝐞₁₂₃)"
      ]
     },
     "execution_count": 38,
     "metadata": {},
     "output_type": "execute_result"
    }
   ],
   "source": [
    "#3.21\n",
    "E, F, G, H = [random_multivector(alg) for _ in range(4)]\n",
    "lie_bracket_ = lambda A, B: lie_bracket(A, B, alg, Ix)(x)\n",
    "A = lambda x: G*x*x*H + E*x*F\n",
    "B = lambda x: E*x*x*F + H*x*G\n",
    "C = lambda x: F*x*x*G + E*x*H\n",
    "lie_bracket_(A, lambda x: B(x)+C(x)), lie_bracket_(A, B) + lie_bracket_(A, C)"
   ]
  },
  {
   "cell_type": "code",
   "execution_count": 39,
   "metadata": {},
   "outputs": [
    {
     "data": {
      "text/plain": [
       "(-2.65e-18 𝐞₁₂ + 5.19e-18 𝐞₁₃ + -6.54e-18 𝐞₂₃,\n",
       " 2.65e-18 𝐞₁₂ + -5.19e-18 𝐞₁₃ + 6.54e-18 𝐞₂₃,\n",
       " 2.65e-18 𝐞₁₂ + -5.19e-18 𝐞₁₃ + 6.54e-18 𝐞₂₃)"
      ]
     },
     "execution_count": 39,
     "metadata": {},
     "output_type": "execute_result"
    }
   ],
   "source": [
    "#3.22a\n",
    "Ar = lambda x: A(x).grade(2)\n",
    "Bs = lambda x: B(x).grade(3)\n",
    "rev = lambda A: lambda x: A(x).reverse()\n",
    "lie_bracket_(Ar, Bs), lie_bracket_(rev(Bs), rev(Ar)), lie_bracket_(Bs, Ar)"
   ]
  },
  {
   "cell_type": "code",
   "execution_count": 40,
   "metadata": {},
   "outputs": [
    {
     "data": {
      "text/plain": [
       "(-1.0 + -3.72 𝐞₁ + 0.0517 𝐞₂ + -3.04 𝐞₃ + -1.83 𝐞₁₂ + -1.61 𝐞₁₃ + 4.6 𝐞₂₃ + -1.94 𝐞₁₂₃,\n",
       " 1.0 + 3.72 𝐞₁ + -0.0517 𝐞₂ + 3.04 𝐞₃ + 1.83 𝐞₁₂ + 1.61 𝐞₁₃ + -4.6 𝐞₂₃ + 1.94 𝐞₁₂₃)"
      ]
     },
     "execution_count": 40,
     "metadata": {},
     "output_type": "execute_result"
    }
   ],
   "source": [
    "#3.22b\n",
    "lie_bracket_(a, B), lie_bracket_(B, a)"
   ]
  },
  {
   "cell_type": "code",
   "execution_count": 41,
   "metadata": {},
   "outputs": [
    {
     "data": {
      "text/plain": [
       "(9.37e-18 + -0.332 𝐞₁ + -0.387 𝐞₂ + -1.12 𝐞₃ + -3.3 𝐞₁₂ + 3.84 𝐞₁₃ + -2.82 𝐞₂₃ + -2.68 𝐞₁₂₃,\n",
       " 0.332 𝐞₁ + 0.387 𝐞₂ + 1.12 𝐞₃ + 3.3 𝐞₁₂ + -3.84 𝐞₁₃ + 2.82 𝐞₂₃ + 2.68 𝐞₁₂₃)"
      ]
     },
     "execution_count": 41,
     "metadata": {},
     "output_type": "execute_result"
    }
   ],
   "source": [
    "#3.23\n",
    "(\n",
    "    div_(lambda x: Ar(x)^B(x))(x) - (div_(Ar)(x)^B(x)) - (Ar(x)^div_(B)(x)),\n",
    "    lie_bracket_(Ar, B)\n",
    "    )"
   ]
  },
  {
   "cell_type": "code",
   "execution_count": 42,
   "metadata": {},
   "outputs": [
    {
     "data": {
      "text/plain": [
       "(-3.84 + -1.25 𝐞₁ + -3.41 𝐞₂ + 0.0578 𝐞₃ + 1.37 𝐞₁₂ + -0.033 𝐞₁₃ + -0.0265 𝐞₂₃ + 4.72e-11 𝐞₁₂₃,\n",
       " -3.84 + -1.25 𝐞₁ + -3.34 𝐞₂ + 0.056 𝐞₃ + 1.46 𝐞₁₂ + -0.0351 𝐞₁₃ + -0.0282 𝐞₂₃)"
      ]
     },
     "execution_count": 42,
     "metadata": {},
     "output_type": "execute_result"
    }
   ],
   "source": [
    "#3.24 Wrong!\n",
    "P_ = lambda A: lambda x: P(A(x), Ix(x))\n",
    "lie_bracket_(P_(A), P_(B)), P(lie_bracket_(A, B), I)"
   ]
  },
  {
   "cell_type": "code",
   "execution_count": 43,
   "metadata": {},
   "outputs": [
    {
     "data": {
      "text/plain": [
       "(-3.84 + -1.25 𝐞₁ + -3.41 𝐞₂ + 0.0578 𝐞₃ + 1.37 𝐞₁₂ + -0.033 𝐞₁₃ + -0.0265 𝐞₂₃ + 4.72e-11 𝐞₁₂₃,\n",
       " -3.84 + -1.25 𝐞₁ + -3.41 𝐞₂ + 0.0578 𝐞₃ + 1.37 𝐞₁₂ + -0.033 𝐞₁₃ + -0.0265 𝐞₂₃)"
      ]
     },
     "execution_count": 43,
     "metadata": {},
     "output_type": "execute_result"
    }
   ],
   "source": [
    "#3.24 Instead, preserve tangency means:\n",
    "lie = lie_bracket_(P_(A), P_(B))\n",
    "lie, P(lie, I)"
   ]
  },
  {
   "cell_type": "code",
   "execution_count": 44,
   "metadata": {},
   "outputs": [
    {
     "data": {
      "text/plain": [
       "(-1.25 + 5.99 𝐞₁ + -2.97 𝐞₂ + 0.187 𝐞₃ + 3.85e-09 𝐞₁₂ + 1.97e-07 𝐞₁₃ + -4.6e-08 𝐞₂₃,\n",
       " -1.25 + 5.99 𝐞₁ + -2.97 𝐞₂ + 0.187 𝐞₃ + 1.07e-06 𝐞₁₂ + -2.57e-07 𝐞₁₃ + -5.48e-07 𝐞₂₃ + 1.37e-12 𝐞₁₂₃)"
      ]
     },
     "execution_count": 44,
     "metadata": {},
     "output_type": "execute_result"
    }
   ],
   "source": [
    "#3.25\n",
    "PAr = P_(Ar)\n",
    "PB = P_(B)\n",
    "(\n",
    "    div_(lie_bracket(PAr, PB, alg, Ix))(x),\n",
    "    lie_bracket_(div_(PAr), PB) - lie_bracket_(PAr, div_(PB))\n",
    "    )"
   ]
  },
  {
   "cell_type": "code",
   "execution_count": 45,
   "metadata": {},
   "outputs": [
    {
     "data": {
      "text/plain": [
       "(-1.25 + 5.99 𝐞₁ + -2.97 𝐞₂ + 0.187 𝐞₃ + 3.62e-20 𝐞₁₂ + -8.69e-22 𝐞₁₃ + -6.98e-22 𝐞₂₃,\n",
       " -1.25 + 5.99 𝐞₁ + -2.97 𝐞₂ + 0.187 𝐞₃ + 1.06e-06 𝐞₁₂ + -2.55e-08 𝐞₁₃ + -2.06e-08 𝐞₂₃ + -1.19e-17 𝐞₁₂₃)"
      ]
     },
     "execution_count": 45,
     "metadata": {},
     "output_type": "execute_result"
    }
   ],
   "source": [
    "#3.25\n",
    "(\n",
    "    codiv_(lie_bracket(PAr, PB, alg, Ix))(x),\n",
    "    lie_bracket_(codiv_(PAr), PB) - lie_bracket_(PAr, codiv_(PB))\n",
    "    )"
   ]
  },
  {
   "cell_type": "code",
   "execution_count": 46,
   "metadata": {},
   "outputs": [
    {
     "data": {
      "text/plain": [
       "(-2.42e-18 𝐞₁₂ + 4.74e-18 𝐞₁₃ + -5.97e-18 𝐞₂₃,\n",
       " -2.42e-18 𝐞₁₂ + 4.74e-18 𝐞₁₃ + -5.97e-18 𝐞₂₃ + -1.38e-17 𝐞₁₂₃)"
      ]
     },
     "execution_count": 46,
     "metadata": {},
     "output_type": "execute_result"
    }
   ],
   "source": [
    "#3.26\n",
    "(\n",
    "    lie_bracket_(Ar, lambda x: Bs(x)^C(x)),\n",
    "    (lie_bracket_(Ar, Bs)^C(x)) - (Bs(x)^lie_bracket_(Ar, C))\n",
    "    )"
   ]
  },
  {
   "cell_type": "code",
   "execution_count": 47,
   "metadata": {},
   "outputs": [
    {
     "data": {
      "text/plain": [
       "(-3.84 + -1.25 𝐞₁ + -3.34 𝐞₂ + 0.0702 𝐞₃ + 1.47 𝐞₁₂ + -3.26 𝐞₁₃ + 4.32 𝐞₂₃ + 4.84 𝐞₁₂₃,\n",
       " -3.84 + -1.25 𝐞₁ + -3.34 𝐞₂ + 0.0702 𝐞₃ + 1.47 𝐞₁₂ + -3.26 𝐞₁₃ + 4.32 𝐞₂₃ + 4.84 𝐞₁₂₃,\n",
       " 4.34 + 2.32 𝐞₁ + -7.96 𝐞₂ + 5.46 𝐞₃ + -9.79 𝐞₁₂ + 8.14 𝐞₁₃ + -7.04 𝐞₂₃ + -6.76 𝐞₁₂₃,\n",
       " 5.06 + 2.63 𝐞₁ + -5.8 𝐞₂ + 4.66 𝐞₃ + -7.93 𝐞₁₂ + 7.18 𝐞₁₃ + -3.46 𝐞₂₃ + -7.47 𝐞₁₂₃,\n",
       " 4.51 + 3.23 𝐞₁ + -7.94 𝐞₂ + 1.61 𝐞₃ + -9.25 𝐞₁₂ + 1.62 𝐞₁₃ + -4.0 𝐞₂₃ + -5.84 𝐞₁₂₃,\n",
       " 4.51 + 3.23 𝐞₁ + -7.94 𝐞₂ + 1.61 𝐞₃ + -9.25 𝐞₁₂ + 1.62 𝐞₁₃ + -4.0 𝐞₂₃ + -5.84 𝐞₁₂₃)"
      ]
     },
     "execution_count": 47,
     "metadata": {},
     "output_type": "execute_result"
    }
   ],
   "source": [
    "#3.28 Pseudoscalar's size matters!?\n",
    "# But what pseudoscalr/dual?\n",
    "# For fields on the manifold, the dual should be just on the manifold\n",
    "# For fields in the embedding space, the dual should be in the embedding space\n",
    "\n",
    "def dual_bracket(A, B, alg, nIx, h=1e-6):\n",
    "    # nIx: normalized pseudoscalar\n",
    "    return lambda x: lie_bracket(A, lambda x: B(x)*nIx(x), alg, nIx, h)(x) * inv(nIx(x))\n",
    "\n",
    "def dual_bracket_emb(A, B, alg: Algebra, Ix, h=1e-6):\n",
    "    return lambda x: lie_bracket(A, lambda x: B(x).dual(), alg, Ix, h)(x).undual()\n",
    "\n",
    "(\n",
    "    lie_bracket(A, B, alg, Ix)(x), \n",
    "    lie_bracket(A, B, alg, nIx)(x),\n",
    "    dual_bracket(A, B, alg, Ix)(x), \n",
    "    dual_bracket(A, B, alg, nIx)(x),\n",
    "    dual_bracket_emb(A, B, alg, Ix)(x), \n",
    "    dual_bracket_emb(A, B, alg, nIx)(x)\n",
    "    )"
   ]
  },
  {
   "cell_type": "code",
   "execution_count": 48,
   "metadata": {},
   "outputs": [
    {
     "data": {
      "text/plain": [
       "(8.07 + 3.31 𝐞₁ + -6.78 𝐞₂ + 13.3 𝐞₃ + -10.0 𝐞₁₂ + 18.1 𝐞₁₃ + -4.48 𝐞₂₃ + -13.4 𝐞₁₂₃,\n",
       " 8.07 + 3.31 𝐞₁ + -6.78 𝐞₂ + 13.3 𝐞₃ + -10.0 𝐞₁₂ + 18.1 𝐞₁₃ + -4.48 𝐞₂₃ + -13.4 𝐞₁₂₃)"
      ]
     },
     "execution_count": 48,
     "metadata": {},
     "output_type": "execute_result"
    }
   ],
   "source": [
    "#3.29\n",
    "dual_bracket_ = lambda A, B: dual_bracket(A, B, alg, nIx)(x)\n",
    "dual_bracket_(A, lambda x: B(x)+C(x)), dual_bracket_(A, B) + dual_bracket_(A, C)"
   ]
  },
  {
   "cell_type": "code",
   "execution_count": 49,
   "metadata": {},
   "outputs": [
    {
     "data": {
      "text/plain": [
       "(12.8 + 6.85 𝐞₁ + -10.7 𝐞₂ + 7.76 𝐞₃ + -12.6 𝐞₁₂ + 7.88 𝐞₁₃ + -7.01 𝐞₂₃ + -13.1 𝐞₁₂₃,\n",
       " 12.8 + 6.85 𝐞₁ + -10.7 𝐞₂ + 7.76 𝐞₃ + -12.6 𝐞₁₂ + 7.88 𝐞₁₃ + -7.01 𝐞₂₃ + -13.1 𝐞₁₂₃)"
      ]
     },
     "execution_count": 49,
     "metadata": {},
     "output_type": "execute_result"
    }
   ],
   "source": [
    "#3.29\n",
    "dual_bracket_ = lambda A, B: dual_bracket_emb(A, B, alg, nIx)(x)\n",
    "dual_bracket_(A, lambda x: B(x)+C(x)), dual_bracket_(A, B) + dual_bracket_(A, C)"
   ]
  },
  {
   "cell_type": "code",
   "execution_count": 50,
   "metadata": {},
   "outputs": [
    {
     "data": {
      "text/plain": [
       "(4.75 + 2.7 𝐞₁ + -6.1 𝐞₂ + 0.198 𝐞₃ + -8.02 𝐞₁₂ + 0.192 𝐞₁₃ + 0.154 𝐞₂₃ + -2.9e-11 𝐞₁₂₃,\n",
       " 4.75 + 2.7 𝐞₁ + -6.1 𝐞₂ + 0.198 𝐞₃ + -8.02 𝐞₁₂ + 0.192 𝐞₁₃ + 0.154 𝐞₂₃,\n",
       " 5.06 + 2.71 𝐞₁ + -5.9 𝐞₂ + 0.194 𝐞₃ + -8.02 𝐞₁₂ + 0.192 𝐞₁₃ + 0.154 𝐞₂₃)"
      ]
     },
     "execution_count": 50,
     "metadata": {},
     "output_type": "execute_result"
    }
   ],
   "source": [
    "#3.30 The same mistake as 3.24, \n",
    "# you need to be tangent at first place to preserve tangency:\n",
    "dual_bracket_ = lambda A, B: dual_bracket(A, B, alg, nIx)(x)\n",
    "dual_bracket_(P_(A), P_(B)), P(dual_bracket_(P_(A), P_(B)), I), P(dual_bracket_(A, B), I)"
   ]
  },
  {
   "cell_type": "code",
   "execution_count": 51,
   "metadata": {},
   "outputs": [
    {
     "data": {
      "text/plain": [
       "(4.75 + 2.7 𝐞₁ + -6.1 𝐞₂ + 0.177 𝐞₃ + -8.02 𝐞₁₂ + 0.212 𝐞₁₃ + 0.242 𝐞₂₃ + -1.15e-17 𝐞₁₂₃,\n",
       " 4.75 + 2.7 𝐞₁ + -6.1 𝐞₂ + 0.198 𝐞₃ + -8.02 𝐞₁₂ + 0.192 𝐞₁₃ + 0.154 𝐞₂₃,\n",
       " 4.51 + 3.26 𝐞₁ + -7.97 𝐞₂ + 0.254 𝐞₃ + -9.2 𝐞₁₂ + 0.221 𝐞₁₃ + 0.177 𝐞₂₃)"
      ]
     },
     "execution_count": 51,
     "metadata": {},
     "output_type": "execute_result"
    }
   ],
   "source": [
    "#3.30 The embedded version fails, we see that which \"dual\" matters\n",
    "dual_bracket_ = lambda A, B: dual_bracket_emb(A, B, alg, nIx)(x)\n",
    "dual_bracket_(P_(A), P_(B)), P(dual_bracket_(P_(A), P_(B)), I), P(dual_bracket_(A, B), I)"
   ]
  },
  {
   "cell_type": "code",
   "execution_count": 52,
   "metadata": {},
   "outputs": [
    {
     "data": {
      "text/plain": [
       "(6.38 + 0.0667 𝐞₁₂ + 4.16 𝐞₁₃ + -1.72 𝐞₂₃, 5.56)"
      ]
     },
     "execution_count": 52,
     "metadata": {},
     "output_type": "execute_result"
    }
   ],
   "source": [
    "#3.31\n",
    "# For arbitrary field the \"single grade\" is achieved by the embedded version\n",
    "dual_bracket_ = lambda A, B: dual_bracket(A, B, alg, nIx)(x)\n",
    "dual_bracket_emb_ = lambda A, B: dual_bracket_emb(A, B, alg, nIx)(x)\n",
    "\n",
    "Ar = lambda x: A(x).grade(2)\n",
    "Bs = lambda x: B(x).grade(1)\n",
    "dual_bracket_(Ar, Bs), dual_bracket_emb_(Ar, Bs)"
   ]
  },
  {
   "cell_type": "code",
   "execution_count": 53,
   "metadata": {},
   "outputs": [
    {
     "data": {
      "text/plain": [
       "(6.21 + 5.25e-13 𝐞₁₂ + -3.59e-12 𝐞₁₃ + 3.17e-11 𝐞₂₃, 6.21)"
      ]
     },
     "execution_count": 53,
     "metadata": {},
     "output_type": "execute_result"
    }
   ],
   "source": [
    "#3.31 For tangent field either works:\n",
    "Ar = lambda x: PA(x).grade(2)\n",
    "Bs = lambda x: PB(x).grade(1)\n",
    "dual_bracket_(Ar, Bs), dual_bracket_emb_(Ar, Bs)"
   ]
  },
  {
   "cell_type": "code",
   "execution_count": 54,
   "metadata": {},
   "outputs": [
    {
     "data": {
      "text/plain": [
       "(4.03 + 2.41 𝐞₁ + -8.28 𝐞₂ + 0.245 𝐞₃ + -9.84 𝐞₁₂ + 0.236 𝐞₁₃ + 0.189 𝐞₂₃ + 3.46e-11 𝐞₁₂₃,\n",
       " 4.75 + 2.7 𝐞₁ + -6.1 𝐞₂ + 0.198 𝐞₃ + -8.02 𝐞₁₂ + 0.192 𝐞₁₃ + 0.154 𝐞₂₃ + -2.9e-11 𝐞₁₂₃)"
      ]
     },
     "execution_count": 54,
     "metadata": {},
     "output_type": "execute_result"
    }
   ],
   "source": [
    "# So the tangency decides which \"dual\" we should take. \n",
    "# For the version on the tangent field, the pseudoscalar's size matters! \n",
    "# It contributes to the differential of the bracket.\n",
    "(\n",
    "    dual_bracket(PA, PB, alg, Ix)(x),\n",
    "    dual_bracket(PA, PB, alg, nIx)(x),\n",
    "    )"
   ]
  },
  {
   "cell_type": "code",
   "execution_count": 55,
   "metadata": {},
   "outputs": [
    {
     "data": {
      "text/plain": [
       "(1.89 𝐞₁ + -1.77 𝐞₂ + 0.0789 𝐞₃,\n",
       " 1.89 𝐞₁ + -1.77 𝐞₂ + 0.0789 𝐞₃ + -1.39e-17 𝐞₁₂₃)"
      ]
     },
     "execution_count": 55,
     "metadata": {},
     "output_type": "execute_result"
    }
   ],
   "source": [
    "#3.32 A typo here, switch r and s\n",
    "Ar = lambda x: PA(x).grade(1)\n",
    "Bs = lambda x: PB(x).grade(2)\n",
    "Ct = lambda x: P(C(x), Ix(x)).grade(1)\n",
    "(\n",
    "    Ct(x) | dual_bracket_(Ar, Bs), \n",
    "    dual_bracket_(lambda x: Ct(x) ^ Ar(x), Bs) - (dual_bracket_(Ct, Bs) | Ar(x))\n",
    "    )"
   ]
  },
  {
   "cell_type": "code",
   "execution_count": 56,
   "metadata": {},
   "outputs": [
    {
     "data": {
      "text/plain": [
       "(7.05 𝐞₁ + -7.41 𝐞₂ + -2.21 𝐞₃, 7.05 𝐞₁ + -7.41 𝐞₂ + -2.21 𝐞₃)"
      ]
     },
     "execution_count": 56,
     "metadata": {},
     "output_type": "execute_result"
    }
   ],
   "source": [
    "#3.32 Embed version\n",
    "Ar = lambda x: A(x).grade(1)\n",
    "Bs = lambda x: B(x).grade(2)\n",
    "Ct = lambda x: C(x).grade(1)\n",
    "(\n",
    "    Ct(x) | dual_bracket_emb_(Ar, Bs), \n",
    "    dual_bracket_emb_(lambda x: Ct(x) ^ Ar(x), Bs) - (dual_bracket_emb_(Ct, Bs) | Ar(x))\n",
    "    )"
   ]
  },
  {
   "cell_type": "code",
   "execution_count": 57,
   "metadata": {},
   "outputs": [
    {
     "data": {
      "text/plain": [
       "(-1.35 + 6.48 𝐞₁ + -4.78 𝐞₂ + 0.239 𝐞₃ + -1.36 𝐞₁₂ + 1.79 𝐞₁₃ + 1.82 𝐞₂₃ + -3.64 𝐞₁₂₃,\n",
       " -2.92 + 6.8 𝐞₁ + -7.72 𝐞₂ + 0.316 𝐞₃ + -3.17 𝐞₁₂ + 1.83 𝐞₁₃ + 1.86 𝐞₂₃ + -3.64 𝐞₁₂₃)"
      ]
     },
     "execution_count": 57,
     "metadata": {},
     "output_type": "execute_result"
    }
   ],
   "source": [
    "dual_bracket(Ar, PB, alg, nIx)(x), dual_bracket(Ar, PB, alg, Ix)(x)"
   ]
  },
  {
   "cell_type": "code",
   "execution_count": 58,
   "metadata": {},
   "outputs": [
    {
     "data": {
      "text/plain": [
       "(5.15 𝐞₁ + -2.35 𝐞₂ + 0.156 𝐞₃ + -2.86 𝐞₁₂ + 0.0687 𝐞₁₃ + 0.0551 𝐞₂₃,\n",
       " 8.61e-07 + 5.15 𝐞₁ + -2.35 𝐞₂ + 0.156 𝐞₃ + -2.86 𝐞₁₂ + 0.0687 𝐞₁₃ + 0.0551 𝐞₂₃ + -1.65e-10 𝐞₁₂₃)"
      ]
     },
     "execution_count": 58,
     "metadata": {},
     "output_type": "execute_result"
    }
   ],
   "source": [
    "#3.33\n",
    "Ar = lambda x: PA(x).grade(2)\n",
    "(\n",
    "    cocurl_(dual_bracket(Ar, PB, alg, nIx))(x),\n",
    "    dual_bracket_(codiv_(Ar), PB) - dual_bracket_(Ar, cocurl_(PB))\n",
    "    )"
   ]
  },
  {
   "cell_type": "code",
   "execution_count": 59,
   "metadata": {},
   "outputs": [
    {
     "data": {
      "text/plain": [
       "(-3.33 𝐞₁ + -1.89 𝐞₂ + -0.0188 𝐞₃ + -1.39e-17 𝐞₁₂₃,\n",
       " -3.33 𝐞₁ + -1.89 𝐞₂ + -0.0188 𝐞₃)"
      ]
     },
     "execution_count": 59,
     "metadata": {},
     "output_type": "execute_result"
    }
   ],
   "source": [
    "#3.34 use Kingdon inner product, the scalar cases are not excluded:\n",
    "r = 0\n",
    "s = 0\n",
    "Ar = lambda x: PA(x).grade(r)\n",
    "Bs = lambda x: PB(x).grade(s)\n",
    "(\n",
    "    dual_bracket(Ar, Bs, alg, nIx)(x),\n",
    "    (-1)**(r+1)*cocurl_(lambda x: Ar(x)|Bs(x))(x) + (-1)**(r)*(codiv_(Ar)(x)|Bs(x)) + (Ar(x)|cocurl_(Bs)(x))\n",
    ")"
   ]
  },
  {
   "cell_type": "code",
   "execution_count": 60,
   "metadata": {},
   "outputs": [
    {
     "data": {
      "text/plain": [
       "(-0.000518 𝐞₁₂ + 0.00618 𝐞₁₃ + -0.0346 𝐞₂₃,\n",
       " -0.000518 𝐞₁₂ + 0.00618 𝐞₁₃ + -0.0346 𝐞₂₃,\n",
       " -0.000518 𝐞₁₂ + 0.00618 𝐞₁₃ + -0.0346 𝐞₂₃)"
      ]
     },
     "execution_count": 60,
     "metadata": {},
     "output_type": "execute_result"
    }
   ],
   "source": [
    "#4.2\n",
    "Sa = lambda a, x: curl(lambda x: P(a, Ix(x)), x, alg, Ix=Ix)\n",
    "N = lambda x: sum(o(lambda x: P(r, Ix(x))) for r, o in derivative_gen(x, alg, Ix))\n",
    "Pa = lambda A: differential(lambda x: P(A, Ix(x)), x, ap)\n",
    "Sa_ = Sa(ap, x)\n",
    "differential(nIx, x, ap), Pa(nI), nI.cp(Sa_)"
   ]
  },
  {
   "cell_type": "code",
   "execution_count": 61,
   "metadata": {},
   "outputs": [
    {
     "data": {
      "text/plain": [
       "(4.65e-10, )"
      ]
     },
     "execution_count": 61,
     "metadata": {},
     "output_type": "execute_result"
    }
   ],
   "source": [
    "#4.3\n",
    "Sa_ | I, Sa_ ^ I"
   ]
  },
  {
   "cell_type": "code",
   "execution_count": 62,
   "metadata": {},
   "outputs": [
    {
     "data": {
      "text/plain": [
       "(4.65e-10 + -0.00145 𝐞₁₂ + 0.0173 𝐞₁₃ + -0.0966 𝐞₂₃,\n",
       " -0.00145 𝐞₁₂ + 0.0173 𝐞₁₃ + -0.0966 𝐞₂₃,\n",
       " -4.65e-10 + -0.00145 𝐞₁₂ + 0.0173 𝐞₁₃ + -0.0966 𝐞₂₃)"
      ]
     },
     "execution_count": 62,
     "metadata": {},
     "output_type": "execute_result"
    }
   ],
   "source": [
    "#4.4\n",
    "I*Sa_, I.cp(Sa_), -Sa_*I"
   ]
  },
  {
   "cell_type": "code",
   "execution_count": 63,
   "metadata": {},
   "outputs": [
    {
     "data": {
      "text/plain": [
       "(0.000948 𝐞₁₂ + 0.0346 𝐞₁₃ + 0.00616 𝐞₂₃,\n",
       " 6.42e-12 + 0.000948 𝐞₁₂ + 0.0346 𝐞₁₃ + 0.00616 𝐞₂₃)"
      ]
     },
     "execution_count": 63,
     "metadata": {},
     "output_type": "execute_result"
    }
   ],
   "source": [
    "#4.5\n",
    "Sa_, inv(I) * Pa(I)"
   ]
  },
  {
   "cell_type": "code",
   "execution_count": 64,
   "metadata": {},
   "outputs": [
    {
     "data": {
      "text/plain": [
       "(-0.00201 𝐞₁ + 0.0025 𝐞₂ + 0.104 𝐞₃,\n",
       " -0.00201 𝐞₁ + 0.0025 𝐞₂ + 0.104 𝐞₃ + -1.05e-08 𝐞₁₂₃,\n",
       " -0.00201 𝐞₁ + 0.0025 𝐞₂ + 0.104 𝐞₃ + -6.58e-08 𝐞₁₂₃)"
      ]
     },
     "execution_count": 64,
     "metadata": {},
     "output_type": "execute_result"
    }
   ],
   "source": [
    "#4.6\n",
    "(\n",
    "    N(x), \n",
    "    derivative(lambda a: Sa(a, x), ap, alg, grade=1, h=1e-2), \n",
    "    -(deriv_(nIx)(x))*inv(nI)\n",
    "    )"
   ]
  },
  {
   "cell_type": "code",
   "execution_count": 65,
   "metadata": {},
   "outputs": [
    {
     "data": {
      "text/plain": [
       "(1.39e-09 𝐞₁ + 2.91e-10 𝐞₂ + -6.58e-08 𝐞₃ + -0.104 𝐞₁₂₃,\n",
       " -3.6e-10 𝐞₁ + -1.81e-10 𝐞₂ + -2.6e-12 𝐞₃ + -0.104 𝐞₁₂₃)"
      ]
     },
     "execution_count": 65,
     "metadata": {},
     "output_type": "execute_result"
    }
   ],
   "source": [
    "#4.7\n",
    "deriv_(nIx)(x), -N(x)*nI"
   ]
  },
  {
   "cell_type": "code",
   "execution_count": 66,
   "metadata": {},
   "outputs": [
    {
     "data": {
      "text/plain": [
       "(1.39e-09 𝐞₁ + 2.91e-10 𝐞₂ + -6.58e-08 𝐞₃,\n",
       " 3.6e-10 𝐞₁ + 1.81e-10 𝐞₂ + 2.6e-12 𝐞₃)"
      ]
     },
     "execution_count": 66,
     "metadata": {},
     "output_type": "execute_result"
    }
   ],
   "source": [
    "#4.8\n",
    "div_(nIx)(x), N(x)|nI"
   ]
  },
  {
   "cell_type": "code",
   "execution_count": 67,
   "metadata": {},
   "outputs": [
    {
     "data": {
      "text/plain": [
       "(0.0109, 0.010898318549800154)"
      ]
     },
     "execution_count": 67,
     "metadata": {},
     "output_type": "execute_result"
    }
   ],
   "source": [
    "#4.9\n",
    "N(x)**2, normsq(deriv_(nIx)(x))"
   ]
  },
  {
   "cell_type": "code",
   "execution_count": 68,
   "metadata": {},
   "outputs": [
    {
     "data": {
      "text/plain": [
       "(1.07e-08 + -0.000186 𝐞₁₂ + -0.00434 𝐞₁₃ + -0.00423 𝐞₂₃,\n",
       " -7.81e-09 + -0.000185 𝐞₁₂ + -0.00434 𝐞₁₃ + -0.00423 𝐞₂₃)"
      ]
     },
     "execution_count": 68,
     "metadata": {},
     "output_type": "execute_result"
    }
   ],
   "source": [
    "#4.10\n",
    "deriv_(deriv_(nIx))(x), -(N(x)**2 + deriv_(N)(x))*nI"
   ]
  },
  {
   "cell_type": "code",
   "execution_count": 69,
   "metadata": {},
   "outputs": [
    {
     "data": {
      "text/plain": [
       "(1.79e-05 𝐞₁₂ + 0.00423 𝐞₁₃ + -0.00434 𝐞₂₃, 2.18e-08)"
      ]
     },
     "execution_count": 69,
     "metadata": {},
     "output_type": "execute_result"
    }
   ],
   "source": [
    "#4.12\n",
    "curl_N = curl(N, x, alg, Ix=Ix, h=1e-3) \n",
    "curl_N, curl_N | I"
   ]
  },
  {
   "cell_type": "code",
   "execution_count": 70,
   "metadata": {},
   "outputs": [
    {
     "data": {
      "text/plain": [
       "(1.07e-08 + -0.000186 𝐞₁₂ + -0.00434 𝐞₁₃ + -0.00423 𝐞₂₃,\n",
       " -1.08e-20 + -0.000185 𝐞₁₂ + -0.00434 𝐞₁₃ + -0.00423 𝐞₂₃)"
      ]
     },
     "execution_count": 70,
     "metadata": {},
     "output_type": "execute_result"
    }
   ],
   "source": [
    "#4.13\n",
    "deriv_(deriv_(nIx))(x), -(N(x)**2 + div_(N)(x))*nI + nI.cp(curl_N)"
   ]
  },
  {
   "cell_type": "code",
   "execution_count": 71,
   "metadata": {},
   "outputs": [
    {
     "data": {
      "text/plain": [
       "(-1.08e-20 + 1.71e-07 𝐞₁₂ + -4.1e-09 𝐞₁₃ + -3.29e-09 𝐞₂₃,\n",
       " -0.000186 𝐞₁₂ + -0.00434 𝐞₁₃ + -0.00423 𝐞₂₃)"
      ]
     },
     "execution_count": 71,
     "metadata": {},
     "output_type": "execute_result"
    }
   ],
   "source": [
    "# FIXME the first part is zero\n",
    "-(N(x)**2 + div_(N)(x))*nI, nI.cp(curl_N)"
   ]
  },
  {
   "cell_type": "code",
   "execution_count": 72,
   "metadata": {},
   "outputs": [
    {
     "data": {
      "text/plain": [
       "(2.22e-16 + 1.94 𝐞₁₂ + -1.33 𝐞₁₃ + 0.417 𝐞₂₃,\n",
       " 5.55e-17 + 1.94 𝐞₁₂ + -1.33 𝐞₁₃ + 0.417 𝐞₂₃,\n",
       " -1.11e-16 + -2.05e-17 𝐞₁₂ + -1.3e-17 𝐞₁₃ + 5.36e-17 𝐞₂₃)"
      ]
     },
     "execution_count": 72,
     "metadata": {},
     "output_type": "execute_result"
    }
   ],
   "source": [
    "# The second part vanishes because it's perpendicular to the mirror\n",
    "A_ = A(x).grade(2)\n",
    "B_ = B(x).grade(2)\n",
    "inv(A_) * (A_.cp(B_)), (B_ - inv(A_) * B_ * A_)/2, A_ | (B_ - inv(A_) * B_ * A_)/2"
   ]
  },
  {
   "cell_type": "code",
   "execution_count": 73,
   "metadata": {},
   "outputs": [
    {
     "data": {
      "text/plain": [
       "(-0.00925 𝐞₁₂ + -0.0959 𝐞₁₃ + -0.24 𝐞₂₃,\n",
       " -0.00925 𝐞₁₂ + -0.0959 𝐞₁₃ + -0.24 𝐞₂₃,\n",
       " 5.74e-08 + -0.00925 𝐞₁₂ + -0.0959 𝐞₁₃ + -0.24 𝐞₂₃)"
      ]
     },
     "execution_count": 73,
     "metadata": {},
     "output_type": "execute_result"
    }
   ],
   "source": [
    "#4.15a\n",
    "pb = lambda x: P(B(x).grade(1), Ix(x))\n",
    "Pa_ = lambda A: lambda x: differential(lambda a: P(A(x), Ix(a)), x, pa(x))\n",
    "Pb_ = lambda A: lambda x: differential(lambda a: P(A(x), Ix(a)), x, pb(x))\n",
    "Sa = lambda x: curl(lambda a: P(pa(x), Ix(a)), x, alg, Ix=Ix)\n",
    "Sb = lambda x: curl(lambda a: P(pb(x), Ix(a)), x, alg, Ix=Ix)\n",
    "diff_a = lambda A: lambda x: differential(A, x, pa(x), h=1e-3)\n",
    "diff_b = lambda A: lambda x: differential(A, x, pb(x), h=1e-3)\n",
    "(\n",
    "    diff_b(Pa_(nIx))(x), \n",
    "    diff_b(diff_a(nIx))(x), \n",
    "    nI*(diff_b(Sa)(x) + Sb(x)*Sa(x))\n",
    "    )"
   ]
  },
  {
   "cell_type": "code",
   "execution_count": 74,
   "metadata": {},
   "outputs": [
    {
     "data": {
      "text/plain": [
       "(-0.000284 𝐞₁₂ + 0.0524 𝐞₁₃ + 0.0405 𝐞₂₃,\n",
       " -0.000284 𝐞₁₂ + 0.0523 𝐞₁₃ + 0.0405 𝐞₂₃,\n",
       " -0.00251 𝐞₁₂ + -0.00416 𝐞₁₃ + -0.00479 𝐞₂₃,\n",
       " 1.15e-07 + -0.00251 𝐞₁₂ + -0.00416 𝐞₁₃ + -0.0048 𝐞₂₃)"
      ]
     },
     "execution_count": 74,
     "metadata": {},
     "output_type": "execute_result"
    }
   ],
   "source": [
    "# FIXME: differential on the manifold or not?\n",
    "Pab = lambda A: lambda x: differential(lambda b: differential(lambda a: P(A(x), Ix(a)), b, pa(x)), x, pb(x), h=1e-3)\n",
    "Sab = lambda x: differential(lambda b: curl(lambda a: P(pa(x), Ix(a)), b, alg, Ix=Ix), x, pb(x), h=1e-3)\n",
    "\n",
    "(\n",
    "    Pab(nIx)(x) + Pa_(Pb_(nIx))(x),\n",
    "    diff_b(diff_a(nIx))(x) - differential(nIx, x, diff_b(pa)(x)),\n",
    "    diff_b(diff_a(nIx))(x) - differential(nIx, x, P(diff_b(pa)(x), I)),\n",
    "    nI*(Sab(x) + Sb(x)*Sa(x))\n",
    "    )"
   ]
  },
  {
   "cell_type": "code",
   "execution_count": 75,
   "metadata": {},
   "outputs": [
    {
     "data": {
      "text/plain": [
       "(0.0056 𝐞₁₂ + 0.00471 𝐞₁₃ + -0.00432 𝐞₂₃,\n",
       " 0.0056 𝐞₁₂ + 0.00471 𝐞₁₃ + -0.00432 𝐞₂₃)"
      ]
     },
     "execution_count": 75,
     "metadata": {},
     "output_type": "execute_result"
    }
   ],
   "source": [
    "da = diff_b(pa)\n",
    "Sda = lambda x: curl(lambda a: P(da(x), Ix(a)), x, alg, Ix=Ix)\n",
    "Sab(x), diff_b(Sa)(x) - Sda(x)"
   ]
  },
  {
   "cell_type": "code",
   "execution_count": 76,
   "metadata": {},
   "outputs": [
    {
     "data": {
      "text/plain": [
       "(-0.00925 𝐞₁₂ + -0.0959 𝐞₁₃ + -0.24 𝐞₂₃,\n",
       " -0.00925 𝐞₁₂ + -0.0959 𝐞₁₃ + -0.24 𝐞₂₃)"
      ]
     },
     "execution_count": 76,
     "metadata": {},
     "output_type": "execute_result"
    }
   ],
   "source": [
    "(\n",
    "    Pab(nIx)(x) +  Pa_(Pb_(nIx))(x) + differential(lambda b: differential(lambda a: P(nI, Ix(a)), x, pa(b)), x, pb(x), h=1e-3),\n",
    "    diff_b(Pa_(nIx))(x)\n",
    "    )"
   ]
  },
  {
   "cell_type": "code",
   "execution_count": 77,
   "metadata": {},
   "outputs": [
    {
     "data": {
      "text/plain": [
       "(-0.00897 𝐞₁₂ + -0.148 𝐞₁₃ + -0.281 𝐞₂₃,\n",
       " -0.00897 𝐞₁₂ + -0.148 𝐞₁₃ + -0.281 𝐞₂₃,\n",
       " -0.00897 𝐞₁₂ + -0.148 𝐞₁₃ + -0.281 𝐞₂₃,\n",
       " -0.00674 𝐞₁₂ + -0.0918 𝐞₁₃ + -0.236 𝐞₂₃,\n",
       " -0.00674 𝐞₁₂ + -0.0918 𝐞₁₃ + -0.236 𝐞₂₃)"
      ]
     },
     "execution_count": 77,
     "metadata": {},
     "output_type": "execute_result"
    }
   ],
   "source": [
    "# da or P(da)\n",
    "# If Ix is only defined on the manifold,\n",
    "# P(da) seems making more sense\n",
    "# But surprise! If we extend Ix to the embedding space (How?),\n",
    "# and differentiate in da-direction. It matches the double differential on the manifold.\n",
    "# Am I lucky to pick an extension satisfying these?\n",
    "(\n",
    "    differential(nIx, x, da(x), h=1e-3), \n",
    "    differential(lambda a: P(nI, Ix(a)), x, da(x), h=1e-3),\n",
    "    differential(lambda b: differential(lambda a: P(nI, Ix(a)), x, pa(b)), x, pb(x), h=1e-3),\n",
    "    differential(nIx, x, P(da(x), I)), \n",
    "    differential(lambda a: P(nI, Ix(a)), x, P(da(x),I))\n",
    "    )"
   ]
  },
  {
   "cell_type": "markdown",
   "metadata": {},
   "source": [
    "The above computation shows that $$b \\cdot \\dot{\\partial} P_{\\dot{a}} \\ne P_{b \\cdot \\partial a}$$ unless we extend Ix, so the first equality of 4.15 fails."
   ]
  },
  {
   "cell_type": "code",
   "execution_count": 78,
   "metadata": {},
   "outputs": [
    {
     "data": {
      "text/plain": [
       "(4.18e-10 + -0.00674 𝐞₁₂ + -0.0918 𝐞₁₃ + -0.236 𝐞₂₃,\n",
       " -0.00674 𝐞₁₂ + -0.0918 𝐞₁₃ + -0.236 𝐞₂₃)"
      ]
     },
     "execution_count": 78,
     "metadata": {},
     "output_type": "execute_result"
    }
   ],
   "source": [
    "nI*Sda(x), differential(nIx, x, P(da(x),I))"
   ]
  },
  {
   "cell_type": "code",
   "execution_count": 79,
   "metadata": {},
   "outputs": [
    {
     "data": {
      "text/plain": [
       "(0.00232 𝐞₁₂ + -5.56e-05 𝐞₁₃ + -4.46e-05 𝐞₂₃,\n",
       " 0.00232 𝐞₁₂ + -5.56e-05 𝐞₁₃ + -4.46e-05 𝐞₂₃,\n",
       " -0.0026 𝐞₁₂ + 0.0524 𝐞₁₃ + 0.0406 𝐞₂₃,\n",
       " -0.0026 𝐞₁₂ + 0.0524 𝐞₁₃ + 0.0406 𝐞₂₃,\n",
       " -0.00251 𝐞₁₂ + -0.00416 𝐞₁₃ + -0.00479 𝐞₂₃,\n",
       " -0.00251 𝐞₁₂ + -0.00416 𝐞₁₃ + -0.0048 𝐞₂₃)"
      ]
     },
     "execution_count": 79,
     "metadata": {},
     "output_type": "execute_result"
    }
   ],
   "source": [
    "#4.16\n",
    "db = diff_a(pb)\n",
    "Pba = lambda A: lambda x: differential(lambda b: differential(lambda a: P(A(x), Ix(a)), b, pb(x)), x, pa(x), h=1e-3)\n",
    "(\n",
    "    Pa_(Pb_(nIx))(x), \n",
    "    Pb_(Pa_(nIx))(x), \n",
    "    Pab(nIx)(x), \n",
    "    Pba(nIx)(x), \n",
    "    diff_b(diff_a(nIx))(x) - differential(nIx, x, P(da(x), I)),\n",
    "    diff_a(diff_b(nIx))(x) - differential(nIx, x, P(db(x), I)),\n",
    ")"
   ]
  },
  {
   "cell_type": "code",
   "execution_count": 80,
   "metadata": {},
   "outputs": [
    {
     "data": {
      "text/plain": [
       "(0.0111 𝐞₁₂ + -0.000266 𝐞₁₃ + -0.000213 𝐞₂₃,\n",
       " 0.0111 𝐞₁₂ + -0.000267 𝐞₁₃ + -0.000214 𝐞₂₃)"
      ]
     },
     "execution_count": 80,
     "metadata": {},
     "output_type": "execute_result"
    }
   ],
   "source": [
    "#4.17\n",
    "Sba = lambda x: differential(lambda b: curl(lambda a: P(pb(x), Ix(a)), b, alg, Ix=Ix), x, pa(x), h=1e-3)\n",
    "\n",
    "Sab(x) - Sba(x), 2 * Sa(x).cp(Sb(x))"
   ]
  }
 ],
 "metadata": {
  "kernelspec": {
   "display_name": "3.10.5",
   "language": "python",
   "name": "python3"
  },
  "language_info": {
   "codemirror_mode": {
    "name": "ipython",
    "version": 3
   },
   "file_extension": ".py",
   "mimetype": "text/x-python",
   "name": "python",
   "nbconvert_exporter": "python",
   "pygments_lexer": "ipython3",
   "version": "3.10.5"
  }
 },
 "nbformat": 4,
 "nbformat_minor": 2
}
