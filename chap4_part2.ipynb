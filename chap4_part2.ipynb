{
 "cells": [
  {
   "cell_type": "code",
   "execution_count": 184,
   "metadata": {},
   "outputs": [
    {
     "data": {
      "text/plain": [
       "(2.79 𝐞₁₂ + -0.067 𝐞₁₃ + -0.0538 𝐞₂₃, 3.69e-15 𝐞₁₂₃)"
      ]
     },
     "execution_count": 184,
     "metadata": {},
     "output_type": "execute_result"
    }
   ],
   "source": [
    "#1.3 ellipsoid\n",
    "# Let M be an ellipsoid in R3, (ax)^{2}+(by)^{2}+z^{2}=d\n",
    "# x = 1/a*cos(p)*sin(t)*e1 + 1/b*sin(p)*sin(t)*e2 + cos(t)*e3, t, p in R\n",
    "\n",
    "from gc_utils import *\n",
    "alg = Algebra(3)\n",
    "locals().update(alg.blades)\n",
    "\n",
    "c2e = lambda p, t: 4*np.cos(p)*np.sin(t)*e1 + 5*np.sin(p)*np.sin(t)*e2 + np.cos(t)*e3\n",
    "e_p = lambda p, t: -4*np.sin(p)*np.sin(t)*e1 + 5*np.cos(p)*np.sin(t)*e2\n",
    "e_t = lambda p, t: (4*np.cos(p)*np.cos(t)*e1) + (5*np.sin(p)*np.cos(t)*e2) - (np.sin(t)*e3)\n",
    "def Ix(x):\n",
    "    p = np.arctan((4/5)*x.e2/x.e1)\n",
    "    t = np.arccos(x.e3)\n",
    "    return e_p(p, t) ^ e_t(p, t)\n",
    "\n",
    "# |p| < pi/2, 0 < t < pi for unique arctan & arccos\n",
    "p, t = -1, 3\n",
    "x = c2e(p, t)\n",
    "I = Ix(x)\n",
    "\n",
    "I, I ^ (3*e_t(p,t) + 5*e_p(p,t))"
   ]
  },
  {
   "cell_type": "code",
   "execution_count": 185,
   "metadata": {},
   "outputs": [
    {
     "data": {
      "text/plain": [
       "(0.464 + 0.103 𝐞₁ + 0.361 𝐞₂ + -0.00668 𝐞₃ + 0.813 𝐞₁₂ + -0.0195 𝐞₁₃ + -0.0156 𝐞₂₃,\n",
       " 0.464 + 0.108 𝐞₁ + 0.362 𝐞₂ + -0.00659 𝐞₃ + 0.789 𝐞₁₂ + -0.0189 𝐞₁₃ + -0.0152 𝐞₂₃,\n",
       " 0.464 + 0.109 𝐞₁ + 0.361 𝐞₂ + -0.037 𝐞₃ + 0.789 𝐞₁₂ + -0.0186 𝐞₁₃ + -0.0182 𝐞₂₃,\n",
       " 0.158 + 0.229 𝐞₁ + 0.339 𝐞₂ + -0.47 𝐞₃ + 0.935 𝐞₁₂ + -0.0498 𝐞₁₃ + -0.0432 𝐞₂₃)"
      ]
     },
     "execution_count": 185,
     "metadata": {},
     "output_type": "execute_result"
    }
   ],
   "source": [
    "#3.1\n",
    "B, C, D = [random_multivector(alg) for _ in range(3)]\n",
    "a, b, c = random_r_vectors(3, alg)\n",
    "A = lambda x: B*x**2 + C*x*D\n",
    "PA = lambda x: P(A(x), Ix(x))\n",
    "def codiff(F, x, a, Ix, h=1e-6):\n",
    "    return P(differential(F, x, P(a, Ix(x)), h), Ix(x))\n",
    "\n",
    "codiff(A, x, a, Ix), codiff(PA, x, a, Ix), differential(PA, x, P(a,I)), differential(PA, x, a)"
   ]
  },
  {
   "cell_type": "code",
   "execution_count": 186,
   "metadata": {},
   "outputs": [
    {
     "data": {
      "text/plain": [
       "(-1.56 + 1.84 𝐞₁ + 3.85 𝐞₂ + -0.0569 𝐞₃ + -0.383 𝐞₁₂ + 0.00918 𝐞₁₃ + 0.00737 𝐞₂₃,\n",
       " -1.56 + 1.84 𝐞₁ + 3.85 𝐞₂ + -0.0569 𝐞₃ + -0.383 𝐞₁₂ + 0.00918 𝐞₁₃ + 0.00737 𝐞₂₃ + -6.29e-12 𝐞₁₂₃)"
      ]
     },
     "execution_count": 186,
     "metadata": {},
     "output_type": "execute_result"
    }
   ],
   "source": [
    "#3.2\n",
    "def coderivative(A, x, alg, Ix, h=1e-6):\n",
    "    return P(derivative(A, x, alg, Ix=Ix, h=h), Ix(x))\n",
    "\n",
    "(\n",
    "    coderivative(A, x, alg, Ix=Ix), \n",
    "    derivative(lambda a: codiff(A, x, a, Ix), x, alg, Ix=Ix)\n",
    "    )"
   ]
  },
  {
   "cell_type": "code",
   "execution_count": 187,
   "metadata": {},
   "outputs": [
    {
     "data": {
      "text/plain": [
       "(3.41 + 0.625 𝐞₁ + 2.94 𝐞₂ + -0.0585 𝐞₃ + 6.35 𝐞₁₂ + -0.152 𝐞₁₃ + -0.122 𝐞₂₃,\n",
       " 3.41 + 0.625 𝐞₁ + 2.94 𝐞₂ + -0.0585 𝐞₃ + 6.35 𝐞₁₂ + -0.152 𝐞₁₃ + -0.122 𝐞₂₃)"
      ]
     },
     "execution_count": 187,
     "metadata": {},
     "output_type": "execute_result"
    }
   ],
   "source": [
    "# linearity\n",
    "codiff(A, x, 2.2*a+3.3*b, Ix), 2.2*codiff(A, x, a, Ix) + 3.3*codiff(A, x, b, Ix)"
   ]
  },
  {
   "cell_type": "code",
   "execution_count": 188,
   "metadata": {},
   "outputs": [
    {
     "data": {
      "text/plain": [
       "(-0.0399 + 0.574 𝐞₁ + 0.105 𝐞₂ + -0.0178 𝐞₃ + -0.289 𝐞₁₂ + 0.378 𝐞₁₃ + -0.32 𝐞₂₃ + -0.048 𝐞₁₂₃,\n",
       " -0.0399 + 0.574 𝐞₁ + 0.105 𝐞₂ + -0.0178 𝐞₃ + -0.289 𝐞₁₂ + 0.378 𝐞₁₃ + -0.32 𝐞₂₃ + -0.048 𝐞₁₂₃)"
      ]
     },
     "execution_count": 188,
     "metadata": {},
     "output_type": "execute_result"
    }
   ],
   "source": [
    "#3.3 The equality holds for differential\n",
    "T = lambda x, A: x ** 2 * A * C + B*A*x\n",
    "dA = differential(A, x, a)\n",
    "(\n",
    "    differential(lambda a: T(a, A(x)), x, a), \n",
    "    differential(lambda x: T(x, A(x)), x, a) - T(x, dA)\n",
    "    )"
   ]
  },
  {
   "cell_type": "code",
   "execution_count": 189,
   "metadata": {},
   "outputs": [
    {
     "data": {
      "text/plain": [
       "(-0.257 + -0.331 𝐞₁ + 0.244 𝐞₂ + -0.0122 𝐞₃ + -0.16 𝐞₁₂ + 0.00383 𝐞₁₃ + 0.00307 𝐞₂₃,\n",
       " -2.0 + -1.96 𝐞₁ + 1.62 𝐞₂ + -0.0231 𝐞₃ + 1.6 𝐞₁₂ + -0.621 𝐞₁₃ + 0.0251 𝐞₂₃ + -1.01 𝐞₁₂₃)"
      ]
     },
     "execution_count": 189,
     "metadata": {},
     "output_type": "execute_result"
    }
   ],
   "source": [
    "#3.3 But not for codifferential\n",
    "dA = codiff(A, x, a, Ix)\n",
    "(\n",
    "    codiff(lambda a: T(a, A(x)), x, a, Ix), \n",
    "    codiff(lambda x: T(x, A(x)), x, a, Ix) - T(x, dA)\n",
    "    )"
   ]
  },
  {
   "cell_type": "code",
   "execution_count": 190,
   "metadata": {},
   "outputs": [
    {
     "data": {
      "text/plain": [
       "-0.257 + -0.331 𝐞₁ + 0.244 𝐞₂ + -0.0122 𝐞₃ + -0.16 𝐞₁₂ + 0.00383 𝐞₁₃ + 0.00307 𝐞₂₃"
      ]
     },
     "execution_count": 190,
     "metadata": {},
     "output_type": "execute_result"
    }
   ],
   "source": [
    "#3.3 Instead:\n",
    "ap = P(a, I)\n",
    "dA = differential(A, x, ap)\n",
    "codiff(lambda x: T(x, A(x)), x, a, Ix) - P(T(x, dA), I)"
   ]
  },
  {
   "cell_type": "code",
   "execution_count": 191,
   "metadata": {},
   "outputs": [
    {
     "data": {
      "text/plain": [
       "(-0.339 + -0.0534 𝐞₁ + 0.0135 𝐞₂ + -0.00135 𝐞₃ + -0.429 𝐞₁₂ + 0.0103 𝐞₁₃ + 0.00826 𝐞₂₃,\n",
       " -0.339 + -0.0534 𝐞₁ + 0.0135 𝐞₂ + -0.00135 𝐞₃ + -0.429 𝐞₁₂ + 0.0103 𝐞₁₃ + 0.00826 𝐞₂₃)"
      ]
     },
     "execution_count": 191,
     "metadata": {},
     "output_type": "execute_result"
    }
   ],
   "source": [
    "#3.3 Actually the T above fails to be an extensor. \n",
    "# An extensor field restricts both input and output\n",
    "T = lambda x, A: P(x ** 2 * P(A,Ix(x)) * C + B*P(A,Ix(x))*x, Ix(x))\n",
    "dA = codiff(A, x, a, Ix)\n",
    "(\n",
    "    codiff(lambda a: T(a, A(x)), x, a, Ix), \n",
    "    codiff(lambda x: T(x, A(x)), x, a, Ix) - T(x, dA)\n",
    "    )"
   ]
  },
  {
   "cell_type": "code",
   "execution_count": 192,
   "metadata": {},
   "outputs": [
    {
     "data": {
      "text/plain": [
       "(0.622 + 0.299 𝐞₁ + -0.303 𝐞₂ + 0.0951 𝐞₃ + 0.659 𝐞₁₂ + -0.0341 𝐞₁₃ + -0.00141 𝐞₂₃,\n",
       " 0.622 + 0.3 𝐞₁ + -0.305 𝐞₂ + 0.0131 𝐞₃ + 0.659 𝐞₁₂ + -0.0158 𝐞₁₃ + -0.0127 𝐞₂₃)"
      ]
     },
     "execution_count": 192,
     "metadata": {},
     "output_type": "execute_result"
    }
   ],
   "source": [
    "#3.4\n",
    "dT = d(T, x, B, alg, Ix)\n",
    "dT, P(dT, I)"
   ]
  },
  {
   "cell_type": "code",
   "execution_count": 193,
   "metadata": {},
   "outputs": [
    {
     "data": {
      "text/plain": [
       "(0.957 𝐞₁ + 1.56 𝐞₂ + -0.019 𝐞₃ + 3.87e-18 𝐞₁₂₃,\n",
       " 0.957 𝐞₁ + 1.56 𝐞₂ + -0.019 𝐞₃)"
      ]
     },
     "execution_count": 193,
     "metadata": {},
     "output_type": "execute_result"
    }
   ],
   "source": [
    "# scalar field\n",
    "dA = derivative(lambda x: A(x).grade(0), x, alg, Ix=Ix)\n",
    "dA, P(dA, I)"
   ]
  },
  {
   "cell_type": "code",
   "execution_count": 194,
   "metadata": {},
   "outputs": [
    {
     "data": {
      "text/plain": [
       "(-1.53 + 1.87 𝐞₁ + 3.79 𝐞₂ + -0.0551 𝐞₃ + -0.384 𝐞₁₂ + -0.0772 𝐞₁₃ + 0.0438 𝐞₂₃ + -0.013 𝐞₁₂₃,\n",
       " -1.53 + 1.87 𝐞₁ + 3.79 𝐞₂ + -0.0551 𝐞₃ + -0.384 𝐞₁₂ + -0.0772 𝐞₁₃ + 0.0438 𝐞₂₃ + -0.013 𝐞₁₂₃,\n",
       " -2.81e-11 + 4.61e-11 𝐞₁ + 4.58e-11 𝐞₂ + -4.9e-12 𝐞₃ + -0.00137 𝐞₁₂ + -0.0864 𝐞₁₃ + 0.0365 𝐞₂₃ + -0.013 𝐞₁₂₃)"
      ]
     },
     "execution_count": 194,
     "metadata": {},
     "output_type": "execute_result"
    }
   ],
   "source": [
    "#3.6, 3.7\n",
    "S = shape(Ix, alg)\n",
    "dPA = derivative(PA, x, alg, Ix=Ix)\n",
    "dPA, P(dPA, I) + S(x, PA(x)), S(x, PA(x))"
   ]
  },
  {
   "cell_type": "code",
   "execution_count": 195,
   "metadata": {},
   "outputs": [
    {
     "data": {
      "text/plain": [
       "(0.957 𝐞₁ + 1.56 𝐞₂ + -0.019 𝐞₃ + -0.384 𝐞₁₂ + -0.0772 𝐞₁₃ + 0.0438 𝐞₂₃ + -0.013 𝐞₁₂₃,\n",
       " -2.81e-11 + 0.957 𝐞₁ + 1.56 𝐞₂ + -0.019 𝐞₃ + -0.384 𝐞₁₂ + -0.0772 𝐞₁₃ + 0.0438 𝐞₂₃ + -0.013 𝐞₁₂₃)"
      ]
     },
     "execution_count": 195,
     "metadata": {},
     "output_type": "execute_result"
    }
   ],
   "source": [
    "#3.7b\n",
    "def cocurl(A, x, alg, Ix, h=1e-6):\n",
    "    return P(curl(A, x, alg, Ix=Ix, h=h), Ix(x))\n",
    "\n",
    "def codiv(A, x, alg, Ix, h=1e-6):\n",
    "    return P(div(A, x, alg, Ix=Ix, h=h), Ix(x))\n",
    "\n",
    "curl(PA, x, alg, Ix=Ix), cocurl(A, x, alg, Ix=Ix) + S(x, PA(x))"
   ]
  },
  {
   "cell_type": "code",
   "execution_count": 196,
   "metadata": {},
   "outputs": [
    {
     "data": {
      "text/plain": [
       "(0.957 𝐞₁ + 1.56 𝐞₂ + -0.019 𝐞₃ + -0.383 𝐞₁₂ + 0.00918 𝐞₁₃ + 0.00737 𝐞₂₃,\n",
       " 0.957 𝐞₁ + 1.56 𝐞₂ + -0.019 𝐞₃ + -0.383 𝐞₁₂ + 0.00918 𝐞₁₃ + 0.00737 𝐞₂₃)"
      ]
     },
     "execution_count": 196,
     "metadata": {},
     "output_type": "execute_result"
    }
   ],
   "source": [
    "#3.8\n",
    "cocurl(PA, x, alg, Ix=Ix), cocurl(A, x, alg, Ix=Ix)"
   ]
  },
  {
   "cell_type": "code",
   "execution_count": 197,
   "metadata": {},
   "outputs": [
    {
     "data": {
      "text/plain": [
       "(-1.53 + 0.91 𝐞₁ + 2.23 𝐞₂ + -0.0361 𝐞₃ + 9.03e-20 𝐞₁₂ + -2.17e-21 𝐞₁₃ + -1.74e-21 𝐞₂₃,\n",
       " -1.53 + 0.91 𝐞₁ + 2.23 𝐞₂ + -0.0361 𝐞₃ + 6.94e-18 𝐞₁₃ + -6.94e-18 𝐞₂₃ + 1.39e-17 𝐞₁₂₃)"
      ]
     },
     "execution_count": 197,
     "metadata": {},
     "output_type": "execute_result"
    }
   ],
   "source": [
    "#3.9 the expansion of Ix contributes to the curl, \n",
    "# so we need a normalized version\n",
    "nIx = lambda x: normalize(Ix(x))\n",
    "nI = nIx(x)\n",
    "codiv(PA, x, alg, Ix=Ix), cocurl(lambda x: PA(x)*nIx(x), x, alg, Ix=Ix) * inv(nI)"
   ]
  },
  {
   "cell_type": "code",
   "execution_count": 198,
   "metadata": {},
   "outputs": [
    {
     "data": {
      "text/plain": [
       "(-0.000404 𝐞₁₂ + 0.00247 𝐞₁₃ + -0.0241 𝐞₂₃,\n",
       " -0.000404 𝐞₁₂ + 0.00247 𝐞₁₃ + -0.0241 𝐞₂₃)"
      ]
     },
     "execution_count": 198,
     "metadata": {},
     "output_type": "execute_result"
    }
   ],
   "source": [
    "# the dropped term\n",
    "differential(lambda a: P(nIx(x), nIx(a)), x, ap), differential(nIx, x, ap)"
   ]
  },
  {
   "cell_type": "code",
   "execution_count": 199,
   "metadata": {},
   "outputs": [
    {
     "data": {
      "text/plain": [
       "(6.94e-12 𝐞₁ + 3.76e-31 𝐞₂ + 1.34e-13 𝐞₃ + -0.00238 𝐞₁₂ + -0.0549 𝐞₁₃ + -0.0551 𝐞₂₃ + -0.0251 𝐞₁₂₃,\n",
       " 1.5e-30 𝐞₁ + 1.94e-11 𝐞₂ + -4.66e-13 𝐞₃ + -0.00238 𝐞₁₂ + -0.0549 𝐞₁₃ + -0.0551 𝐞₂₃ + -0.0251 𝐞₁₂₃)"
      ]
     },
     "execution_count": 199,
     "metadata": {},
     "output_type": "execute_result"
    }
   ],
   "source": [
    "# the dropped term\n",
    "curl(lambda a: PA(x)*P(nIx(x), nIx(a)), x, alg, Ix=Ix), curl(lambda a: PA(x)*nIx(a), x, alg, Ix=Ix)"
   ]
  },
  {
   "cell_type": "code",
   "execution_count": 200,
   "metadata": {},
   "outputs": [
    {
     "data": {
      "text/plain": [
       "(1.15e-07 + 7.79e-08 𝐞₁ + 1.54e-07 𝐞₂ + -4.1e-08 𝐞₃ + 1.49e-09 𝐞₁₂ + -2.24e-09 𝐞₁₃ + 8.04e-08 𝐞₂₃ + 2.43e-08 𝐞₁₂₃,\n",
       " 0.0225 + 0.115 𝐞₁ + 0.231 𝐞₂ + 0.0617 𝐞₃ + -0.0895 𝐞₁₂ + 0.0995 𝐞₁₃ + 0.211 𝐞₂₃ + -0.0124 𝐞₁₂₃,\n",
       " 0.0225 + 0.115 𝐞₁ + 0.231 𝐞₂ + 0.0617 𝐞₃ + -0.0895 𝐞₁₂ + 0.0995 𝐞₁₃ + 0.211 𝐞₂₃ + -0.0124 𝐞₁₂₃,\n",
       " 0.0225 + 0.115 𝐞₁ + 0.231 𝐞₂ + 0.0617 𝐞₃ + -0.0895 𝐞₁₂ + 0.0995 𝐞₁₃ + 0.211 𝐞₂₃ + -0.0124 𝐞₁₂₃)"
      ]
     },
     "execution_count": 200,
     "metadata": {},
     "output_type": "execute_result"
    }
   ],
   "source": [
    "#3.10 The first derivative only acts on the second derivative is enough?\n",
    "# Why leading to the same result?\n",
    "# Answer: exactly what 3.10 tells us!\n",
    "frame = blade_split(I, alg)\n",
    "r_frame = reciprocal(frame)\n",
    "(\n",
    "    sum((ar ^ br) * differential(lambda x: differential(A, x, b), x, a, h=1e-3) for (a,ar), (b,br) in product(zip(frame, r_frame), repeat=2)),\n",
    "    sum(o1(lambda x: sum((r1 ^ r) * o(A) for r, o in derivative_gen(x, alg, Ix))) for r1, o1 in derivative_gen(x, alg, Ix, h=1e-3)),\n",
    "    sum(curl(lambda x: P(r, Ix(x)), x, alg, Ix=Ix) * differential(A, x, v) for v, r in zip(frame, r_frame)),\n",
    "    sum(S(x, r) * differential(A, x, v) for v, r in zip(frame, r_frame))\n",
    "    )\n"
   ]
  },
  {
   "cell_type": "code",
   "execution_count": 201,
   "metadata": {},
   "outputs": [
    {
     "data": {
      "text/plain": [
       "(2.19 + 0.285 𝐞₁ + 0.684 𝐞₂ + 1.14 𝐞₃ + 0.278 𝐞₁₂ + 1.95 𝐞₁₃ + 2.0 𝐞₂₃ + 0.829 𝐞₁₂₃,\n",
       " 2.19 + 0.285 𝐞₁ + 0.684 𝐞₂ + 1.14 𝐞₃ + 0.278 𝐞₁₂ + 1.95 𝐞₁₃ + 2.0 𝐞₂₃ + 0.829 𝐞₁₂₃,\n",
       " 2.34 + 0.126 𝐞₁ + 0.433 𝐞₂ + 1.19 𝐞₃ + 0.269 𝐞₁₂ + 1.88 𝐞₁₃ + 1.8 𝐞₂₃ + 0.725 𝐞₁₂₃,\n",
       " 2.34 + 0.126 𝐞₁ + 0.433 𝐞₂ + 1.19 𝐞₃ + 0.269 𝐞₁₂ + 1.88 𝐞₁₃ + 1.8 𝐞₂₃ + 0.725 𝐞₁₂₃,\n",
       " 0.0225 + 0.115 𝐞₁ + 0.231 𝐞₂ + 0.0617 𝐞₃ + -0.0895 𝐞₁₂ + 0.0995 𝐞₁₃ + 0.211 𝐞₂₃ + -0.0124 𝐞₁₂₃)"
      ]
     },
     "execution_count": 201,
     "metadata": {},
     "output_type": "execute_result"
    }
   ],
   "source": [
    "# A single representation may indicates several operations\n",
    "# Use overdots to specify\n",
    "# see 1.24 \n",
    "deriv_ = lambda A: lambda x: derivative(A, x, alg, Ix=Ix, h=1e-3)\n",
    "(\n",
    "    deriv_(deriv_(A))(x),\n",
    "    sum(o1(lambda x: sum((r1 * r) * o(A) for r, o in derivative_gen(x, alg, Ix))) for r1, o1 in derivative_gen(x, alg, Ix, h=1e-3)),\n",
    "    sum((ar * br) * differential(lambda x: differential(A, x, b), x, a, h=1e-3) for (a,ar), (b,br) in product(zip(frame, r_frame), repeat=2)),\n",
    "    sum((ar | br) * differential(lambda x: differential(A, x, b), x, a, h=1e-3) for (a,ar), (b,br) in product(zip(frame, r_frame), repeat=2)),\n",
    "    sum(derivative(lambda x: P(r, Ix(x)), x, alg, Ix=Ix) * differential(A, x, v) for v, r in zip(frame, r_frame)),\n",
    "    )\n"
   ]
  },
  {
   "cell_type": "code",
   "execution_count": 202,
   "metadata": {},
   "outputs": [
    {
     "data": {
      "text/plain": [
       "(0.00266 𝐞₁₂ + 0.06 𝐞₁₃ + 0.0635 𝐞₂₃ + -0.0124 𝐞₁₂₃,\n",
       " 2.77e-20 𝐞₂ + 1.08e-07 𝐞₁₂ + -2.6e-09 𝐞₁₃ + -2.09e-09 𝐞₂₃,\n",
       " 1.08e-07 𝐞₁₂ + -2.6e-09 𝐞₁₃ + -2.09e-09 𝐞₂₃)"
      ]
     },
     "execution_count": 202,
     "metadata": {},
     "output_type": "execute_result"
    }
   ],
   "source": [
    "#3.11\n",
    "curl_ = lambda A: lambda x: curl(A, x, alg, Ix=Ix, h=1e-3)\n",
    "cocurl_ = lambda A: lambda x: cocurl(A, x, alg, Ix, h=1e-3)\n",
    "cc = curl_(curl_(A))(x)\n",
    "cc, P(cc, I), cocurl_(cocurl_(A))(x)"
   ]
  },
  {
   "cell_type": "code",
   "execution_count": 203,
   "metadata": {},
   "outputs": [
    {
     "data": {
      "text/plain": [
       "(0.0225 + 0.0408 𝐞₁ + 0.169 𝐞₂ + -0.00327 𝐞₃ + 2.22e-18 𝐞₁₂ + -2.13e-19 𝐞₁₃ + -4.44e-19 𝐞₂₃,\n",
       " 2.6e-07 + -6.47e-16 𝐞₁ + 2.17e-17 𝐞₂ + 5.28e-15 𝐞₃ + 2.09e-19 𝐞₁₂ + -3.21e-19 𝐞₁₃ + -4.76e-19 𝐞₂₃,\n",
       " -0.0704 + -9.31e-18 𝐞₁ + 4.97e-15 𝐞₂ + -1.19e-16 𝐞₃ + 2.32e-19 𝐞₁₂ + -5.56e-21 𝐞₁₃ + -4.46e-21 𝐞₂₃,\n",
       " 2.68e-07 + -5.46e-16 𝐞₁ + -1.05e-16 𝐞₂ + -7.99e-18 𝐞₃ + 2.26e-19 𝐞₁₂ + -5.42e-21 𝐞₁₃ + -4.35e-21 𝐞₂₃)"
      ]
     },
     "execution_count": 203,
     "metadata": {},
     "output_type": "execute_result"
    }
   ],
   "source": [
    "#3.12\n",
    "div_ = lambda A: lambda x: div(A, x, alg, Ix=Ix, h=1e-3)\n",
    "codiv_ = lambda A: lambda x: codiv(A, x, alg, Ix, h=1e-3)\n",
    "div_(div_(A))(x), div_(div_(PA))(x), codiv_(codiv_(A))(x), codiv_(codiv_(PA))(x)"
   ]
  },
  {
   "cell_type": "code",
   "execution_count": 204,
   "metadata": {},
   "outputs": [
    {
     "data": {
      "text/plain": [
       "(2.1 + 0.216 𝐞₁ + 0.392 𝐞₂ + -0.00525 𝐞₃ + 0.193 𝐞₁₂ + -0.00462 𝐞₁₃ + -0.00371 𝐞₂₃,\n",
       " 2.1 + 0.216 𝐞₁ + 0.392 𝐞₂ + -0.00525 𝐞₃ + 0.193 𝐞₁₂ + -0.00462 𝐞₁₃ + -0.00371 𝐞₂₃ + 1.77e-18 𝐞₁₂₃,\n",
       " 2.1 + 0.216 𝐞₁ + 0.392 𝐞₂ + -0.00525 𝐞₃ + 0.193 𝐞₁₂ + -0.00462 𝐞₁₃ + -0.00371 𝐞₂₃ + 1.79e-18 𝐞₁₂₃,\n",
       " 2.1 + 0.216 𝐞₁ + 0.392 𝐞₂ + -0.00525 𝐞₃ + 0.193 𝐞₁₂ + -0.00462 𝐞₁₃ + -0.00371 𝐞₂₃,\n",
       " 2.17 + 0.216 𝐞₁ + 0.392 𝐞₂ + -0.00525 𝐞₃ + 0.193 𝐞₁₂ + -0.00462 𝐞₁₃ + -0.00371 𝐞₂₃)"
      ]
     },
     "execution_count": 204,
     "metadata": {},
     "output_type": "execute_result"
    }
   ],
   "source": [
    "#3.13\n",
    "coderiv_ = lambda A: lambda x: coderivative(A, x, alg, Ix, h=1e-3)\n",
    "dd = sum(ar * br * codiff(lambda x: codiff(A, x, b, Ix), x, a, Ix, h=1e-3) for (a,ar), (b,br) in product(zip(frame, r_frame), repeat=2))\n",
    "cd = sum((ar ^ br) * codiff(lambda x: codiff(A, x, b, Ix), x, a, Ix, h=1e-3) for (a,ar), (b,br) in product(zip(frame, r_frame), repeat=2))\n",
    "id = sum((ar | br) * codiff(lambda x: codiff(A, x, b, Ix), x, a, Ix, h=1e-3) for (a,ar), (b,br) in product(zip(frame, r_frame), repeat=2))\n",
    "(\n",
    "    coderiv_(coderiv_(A))(x),\n",
    "    dd,\n",
    "    cd + id,\n",
    "    cocurl_(coderiv_(A))(x) + codiv_(coderiv_(A))(x),\n",
    "    cocurl_(codiv_(A))(x) + codiv_(cocurl_(A))(x),\n",
    ")"
   ]
  },
  {
   "cell_type": "code",
   "execution_count": 205,
   "metadata": {},
   "outputs": [
    {
     "data": {
      "text/plain": [
       "(2.34 + 0.126 𝐞₁ + 0.433 𝐞₂ + 1.19 𝐞₃ + 0.269 𝐞₁₂ + 1.88 𝐞₁₃ + 1.8 𝐞₂₃ + 0.725 𝐞₁₂₃,\n",
       " 2.19 + 0.285 𝐞₁ + 0.684 𝐞₂ + 1.14 𝐞₃ + 0.278 𝐞₁₂ + 1.95 𝐞₁₃ + 2.0 𝐞₂₃ + 0.829 𝐞₁₂₃,\n",
       " 1.15e-07 + 7.79e-08 𝐞₁ + 1.54e-07 𝐞₂ + -4.1e-08 𝐞₃ + 1.49e-09 𝐞₁₂ + -2.24e-09 𝐞₁₃ + 8.04e-08 𝐞₂₃ + 2.43e-08 𝐞₁₂₃,\n",
       " 0.0225 + 0.115 𝐞₁ + 0.231 𝐞₂ + 0.0617 𝐞₃ + -0.0895 𝐞₁₂ + 0.0995 𝐞₁₃ + 0.211 𝐞₂₃ + -0.0124 𝐞₁₂₃,\n",
       " 2.34 + 0.126 𝐞₁ + 0.433 𝐞₂ + 1.19 𝐞₃ + 0.269 𝐞₁₂ + 1.88 𝐞₁₃ + 1.8 𝐞₂₃ + 0.725 𝐞₁₂₃,\n",
       " 2.17 + 0.169 𝐞₁ + 0.452 𝐞₂ + 1.08 𝐞₃ + 0.368 𝐞₁₂ + 1.85 𝐞₁₃ + 1.79 𝐞₂₃ + 0.841 𝐞₁₂₃)"
      ]
     },
     "execution_count": 205,
     "metadata": {},
     "output_type": "execute_result"
    }
   ],
   "source": [
    "# These are not identical for derivatives\n",
    "(\n",
    "    sum(ar * br * differential(lambda x: differential(A, x, b), x, a, h=1e-3) for (a,ar), (b,br) in product(zip(frame, r_frame), repeat=2)),\n",
    "    sum(o1(lambda x: sum((r1*r)* o(A) for r, o in derivative_gen(x, alg, Ix))) for r1, o1 in derivative_gen(x, alg, Ix, h=1e-3)),\n",
    "    sum((ar ^ br) * differential(lambda x: differential(A, x, b), x, a, h=1e-3) for (a,ar), (b,br) in product(zip(frame, r_frame), repeat=2)),\n",
    "    sum(o1(lambda x: sum((r1^r)* o(A) for r, o in derivative_gen(x, alg, Ix))) for r1, o1 in derivative_gen(x, alg, Ix, h=1e-3)),\n",
    "    sum((ar | br) * differential(lambda x: differential(A, x, b), x, a, h=1e-3) for (a,ar), (b,br) in product(zip(frame, r_frame), repeat=2)),\n",
    "    sum(o1(lambda x: sum((r1|r)* o(A) for r, o in derivative_gen(x, alg, Ix))) for r1, o1 in derivative_gen(x, alg, Ix, h=1e-3))\n",
    ")"
   ]
  },
  {
   "cell_type": "code",
   "execution_count": 206,
   "metadata": {},
   "outputs": [
    {
     "data": {
      "text/plain": [
       "(2.1 + 0.216 𝐞₁ + 0.392 𝐞₂ + -0.00525 𝐞₃ + 0.193 𝐞₁₂ + -0.00462 𝐞₁₃ + -0.00371 𝐞₂₃ + 1.77e-18 𝐞₁₂₃,\n",
       " 2.1 + 0.216 𝐞₁ + 0.392 𝐞₂ + -0.00525 𝐞₃ + 0.193 𝐞₁₂ + -0.00462 𝐞₁₃ + -0.00371 𝐞₂₃,\n",
       " -0.0704 + -0.0499 𝐞₁ + -0.0949 𝐞₂ + 0.00131 𝐞₃ + 6.99e-07 𝐞₁₂ + -1.68e-08 𝐞₁₃ + -1.35e-08 𝐞₂₃ + 2.08e-19 𝐞₁₂₃,\n",
       " -0.0704 + -0.0499 𝐞₁ + -0.0949 𝐞₂ + 0.00131 𝐞₃ + 3.14e-07 𝐞₁₂ + -7.54e-09 𝐞₁₃ + -6.05e-09 𝐞₂₃,\n",
       " 2.17 + 0.266 𝐞₁ + 0.487 𝐞₂ + -0.00656 𝐞₃ + 0.193 𝐞₁₂ + -0.00462 𝐞₁₃ + -0.00371 𝐞₂₃ + 1.58e-18 𝐞₁₂₃,\n",
       " 2.17 + 0.266 𝐞₁ + 0.487 𝐞₂ + -0.00656 𝐞₃ + 0.193 𝐞₁₂ + -0.00462 𝐞₁₃ + -0.00371 𝐞₂₃)"
      ]
     },
     "execution_count": 206,
     "metadata": {},
     "output_type": "execute_result"
    }
   ],
   "source": [
    "# But for coderivatives:\n",
    "def coderivative_gen(x, alg, Ix: Algebra, h=1e-6):\n",
    "    for v, r in frame_gen(x, alg, Ix):\n",
    "        yield (r, lambda F: codiff(F, x, v, Ix, h))\n",
    "\n",
    "(\n",
    "    dd,\n",
    "    sum(o1(lambda x: sum((r1*r)* o(A) for r, o in coderivative_gen(x, alg, Ix))) for r1, o1 in coderivative_gen(x, alg, Ix, h=1e-3)),\n",
    "    cd,\n",
    "    sum(o1(lambda x: sum((r1^r)* o(A) for r, o in coderivative_gen(x, alg, Ix))) for r1, o1 in coderivative_gen(x, alg, Ix, h=1e-3)),\n",
    "    id,\n",
    "    sum(o1(lambda x: sum((r1|r)* o(A) for r, o in coderivative_gen(x, alg, Ix))) for r1, o1 in coderivative_gen(x, alg, Ix, h=1e-3))\n",
    ")"
   ]
  },
  {
   "cell_type": "code",
   "execution_count": 207,
   "metadata": {},
   "outputs": [
    {
     "data": {
      "text/plain": [
       "1.4826112968435723e-06"
      ]
     },
     "execution_count": 207,
     "metadata": {},
     "output_type": "execute_result"
    }
   ],
   "source": [
    "max_diff(dd, sum(o1(lambda x: sum((r1*r)* o(A) for r, o in coderivative_gen(x, alg, Ix))) for r1, o1 in coderivative_gen(x, alg, Ix, h=1e-3)))"
   ]
  },
  {
   "cell_type": "code",
   "execution_count": 208,
   "metadata": {},
   "outputs": [
    {
     "data": {
      "text/plain": [
       "(-0.0704 + -0.0499 𝐞₁ + -0.0949 𝐞₂ + 0.00131 𝐞₃ + 6.99e-07 𝐞₁₂ + -1.68e-08 𝐞₁₃ + -1.35e-08 𝐞₂₃ + 2.08e-19 𝐞₁₂₃,\n",
       " 2.17 + 0.266 𝐞₁ + 0.487 𝐞₂ + -0.00656 𝐞₃ + 0.193 𝐞₁₂ + -0.00462 𝐞₁₃ + -0.00371 𝐞₂₃ + 1.58e-18 𝐞₁₂₃,\n",
       " 0.311 𝐞₁ + 0.421 𝐞₂ + -0.00413 𝐞₃ + 0.0949 𝐞₁₂ + -0.00228 𝐞₁₃ + -0.00183 𝐞₂₃,\n",
       " 2.17 + 0.0409 𝐞₁ + 0.121 𝐞₂ + -0.00211 𝐞₃ + 3.83e-19 𝐞₁₂ + -9.19e-21 𝐞₁₃ + -7.38e-21 𝐞₂₃)"
      ]
     },
     "execution_count": 208,
     "metadata": {},
     "output_type": "execute_result"
    }
   ],
   "source": [
    "#3.13 And indeed these are \"two\" ways to expand the colaplacian\n",
    "cd, id, cocurl_(coderiv_(PA))(x), codiv_(coderiv_(PA))(x)"
   ]
  },
  {
   "cell_type": "code",
   "execution_count": 209,
   "metadata": {},
   "outputs": [
    {
     "data": {
      "text/plain": [
       "(2.17 + 0.348 𝐞₁ + 0.545 𝐞₂ + -0.00637 𝐞₃ + 0.0949 𝐞₁₂ + -0.00228 𝐞₁₃ + -0.00183 𝐞₂₃,\n",
       " 2.17 + 0.351 𝐞₁ + 0.542 𝐞₂ + -0.00624 𝐞₃ + 0.0949 𝐞₁₂ + -0.00228 𝐞₁₃ + -0.00183 𝐞₂₃)"
      ]
     },
     "execution_count": 209,
     "metadata": {},
     "output_type": "execute_result"
    }
   ],
   "source": [
    "# drop the middle projection?\n",
    "deriv_ = lambda A: lambda x: derivative(A, x, alg, Ix=Ix, h=1e-3)\n",
    "P(deriv_(deriv_(PA))(x), I), coderiv_(coderiv_(PA))(x)"
   ]
  },
  {
   "cell_type": "code",
   "execution_count": 210,
   "metadata": {},
   "outputs": [
    {
     "data": {
      "text/plain": [
       "[2.17 + 1.08e-07 𝐞₁₂ + -2.6e-09 𝐞₁₃ + -2.09e-09 𝐞₂₃,\n",
       " 0.351 𝐞₁ + 0.542 𝐞₂ + -0.00624 𝐞₃,\n",
       " 2.68e-07 + 0.0949 𝐞₁₂ + -0.00228 𝐞₁₃ + -0.00183 𝐞₂₃]"
      ]
     },
     "execution_count": 210,
     "metadata": {},
     "output_type": "execute_result"
    }
   ],
   "source": [
    "#3.14 grade preserving\n",
    "[coderiv_(coderiv_(lambda x: PA(x).grade(k)))(x) for k in range(3)]"
   ]
  },
  {
   "cell_type": "code",
   "execution_count": 211,
   "metadata": {},
   "outputs": [
    {
     "data": {
      "text/plain": [
       "[3.06e-07 𝐞₁₂ + -7.34e-09 𝐞₁₃ + -5.89e-09 𝐞₂₃,\n",
       " 0.00352 𝐞₁ + -0.00227 𝐞₂ + 0.000122 𝐞₃,\n",
       " 2.79e-07 + -1.13e-08 𝐞₁₂ + 2.7e-10 𝐞₁₃ + 2.17e-10 𝐞₂₃]"
      ]
     },
     "execution_count": 211,
     "metadata": {},
     "output_type": "execute_result"
    }
   ],
   "source": [
    "#3.14a\n",
    "cd = lambda A: sum(o1(lambda x: sum((r1^r)* o(A) for r, o in coderivative_gen(x, alg, Ix))) for r1, o1 in coderivative_gen(x, alg, Ix, h=1e-3))\n",
    "# cd = lambda A: sum((ar ^ br) * codiff(lambda x: codiff(A, x, b, Ix), x, a, Ix, h=1e-3) for (a,ar), (b,br) in product(zip(frame, r_frame), repeat=2))\n",
    "[cd(lambda x: PA(x).grade(k)) for k in range(3)]"
   ]
  },
  {
   "cell_type": "code",
   "execution_count": 212,
   "metadata": {},
   "outputs": [
    {
     "data": {
      "text/plain": [
       "3.059186235946521e-07"
      ]
     },
     "execution_count": 212,
     "metadata": {},
     "output_type": "execute_result"
    }
   ],
   "source": [
    "#3.14b\n",
    "max_diff(\n",
    "    sum(o1(lambda x: sum((r1^r)* o(PA) for r, o in coderivative_gen(x, alg, Ix))) for r1, o1 in coderivative_gen(x, alg, Ix, h=1e-3)),\n",
    "    sum(o1(lambda x: sum((r1^r).cp(o(PA)) for r, o in coderivative_gen(x, alg, Ix))) for r1, o1 in coderivative_gen(x, alg, Ix, h=1e-3)),\n",
    ")"
   ]
  },
  {
   "cell_type": "code",
   "execution_count": 213,
   "metadata": {},
   "outputs": [
    {
     "data": {
      "text/plain": [
       "(-0.384 𝐞₁₂ + -0.0772 𝐞₁₃ + 0.0438 𝐞₂₃,\n",
       " -2.81e-11 + -0.384 𝐞₁₂ + -0.0772 𝐞₁₃ + 0.0438 𝐞₂₃)"
      ]
     },
     "execution_count": 213,
     "metadata": {},
     "output_type": "execute_result"
    }
   ],
   "source": [
    "#3.15\n",
    "a = lambda x: PA(x).grade(1)\n",
    "(\n",
    "    curl(a, x, alg, Ix=Ix),\n",
    "    cocurl(a, x, alg, Ix) + S(x, a(x))\n",
    "    )\n"
   ]
  },
  {
   "cell_type": "code",
   "execution_count": 214,
   "metadata": {},
   "outputs": [
    {
     "data": {
      "text/plain": [
       "(1.46 𝐞₁ + -1.38 𝐞₂ + 0.0917 𝐞₃, 1.46 𝐞₁ + -1.38 𝐞₂ + 0.0917 𝐞₃)"
      ]
     },
     "execution_count": 214,
     "metadata": {},
     "output_type": "execute_result"
    }
   ],
   "source": [
    "#3.16\n",
    "b = P(c, I)\n",
    "differential(a, x, b), codiff(a, x, b, Ix) + (b | S(x, a(x)))"
   ]
  },
  {
   "cell_type": "code",
   "execution_count": 215,
   "metadata": {},
   "outputs": [],
   "source": [
    "def lie_bracket(ax, bx, Ix=None, h=1e-6):\n",
    "    if Ix:\n",
    "        return lambda x: differential(bx, x, P(ax(x), Ix(x)), h=h) - differential(ax, x, P(bx(x), Ix(x)), h=h)\n",
    "    return lambda x: differential(bx, x, ax(x), h=h) - differential(ax, x, bx(x), h=h)"
   ]
  },
  {
   "cell_type": "code",
   "execution_count": 216,
   "metadata": {},
   "outputs": [
    {
     "data": {
      "text/plain": [
       "(-2.83 𝐞₁ + 1.2 𝐞₂ + -0.0834 𝐞₃, -2.83 𝐞₁ + 1.2 𝐞₂ + -0.0834 𝐞₃)"
      ]
     },
     "execution_count": 216,
     "metadata": {},
     "output_type": "execute_result"
    }
   ],
   "source": [
    "#3.17\n",
    "b = lambda x: P((B*x**2 + c + x*B).grade(1), Ix(x))\n",
    "\n",
    "lie_bracket(a, b)(x), codiff(b, x, a(x), Ix) - codiff(a, x, b(x), Ix)"
   ]
  },
  {
   "cell_type": "code",
   "execution_count": 217,
   "metadata": {},
   "outputs": [
    {
     "data": {
      "text/plain": [
       "(-2.75 𝐞₁ + 1.13 𝐞₂ + -3.55 𝐞₃,\n",
       " -2.81 𝐞₁ + 1.21 𝐞₂ + -0.0832 𝐞₃,\n",
       " -2.83 𝐞₁ + 1.2 𝐞₂ + -0.0834 𝐞₃,\n",
       " -2.83 𝐞₁ + 1.2 𝐞₂ + -0.0834 𝐞₃)"
      ]
     },
     "execution_count": 217,
     "metadata": {},
     "output_type": "execute_result"
    }
   ],
   "source": [
    "#3.18\n",
    "P_ = lambda A: lambda x: P(A(x), Ix(x))\n",
    "a = lambda x: A(x).grade(1)\n",
    "b = lambda x: (B*x**2 + c + x*B).grade(1)\n",
    "(\n",
    "    lie_bracket(a, b, Ix)(x),\n",
    "    P(lie_bracket(a, b, Ix, h=1e-3)(x), I),\n",
    "    lie_bracket(P_(a), P_(b), Ix)(x),\n",
    "    P(lie_bracket(P_(a), P_(b), Ix, h=1e-3)(x), I),\n",
    "    )"
   ]
  },
  {
   "cell_type": "code",
   "execution_count": 218,
   "metadata": {},
   "outputs": [
    {
     "data": {
      "text/plain": [
       "(-2.75 𝐞₁ + 1.13 𝐞₂ + -3.55 𝐞₃, -2.75 𝐞₁ + 1.13 𝐞₂ + -3.55 𝐞₃ + 2.64e-18 𝐞₁₂₃)"
      ]
     },
     "execution_count": 218,
     "metadata": {},
     "output_type": "execute_result"
    }
   ],
   "source": [
    "#3.19a\n",
    "div_ = lambda A: lambda x: div(A, x, alg, Ix=Ix, h=1e-3)\n",
    "(\n",
    "    lie_bracket(a, b, Ix)(x),\n",
    "    (div_(lambda x: a(x)^b(x))(x)) - (b(x)*div_(a)(x)) + (a(x)*div_(b)(x))\n",
    ")"
   ]
  },
  {
   "cell_type": "code",
   "execution_count": 219,
   "metadata": {},
   "outputs": [
    {
     "data": {
      "text/plain": [
       "(-2.83 𝐞₁ + 1.2 𝐞₂ + -0.0834 𝐞₃,\n",
       " -2.83 𝐞₁ + 1.2 𝐞₂ + -0.0834 𝐞₃ + -1.13e-36 𝐞₁₂₃)"
      ]
     },
     "execution_count": 219,
     "metadata": {},
     "output_type": "execute_result"
    }
   ],
   "source": [
    "#3.19b\n",
    "pa = lambda x: P(a(x), Ix(x))\n",
    "pb = lambda x: P(b(x), Ix(x))\n",
    "(\n",
    "    lie_bracket(pa, pb, Ix)(x),\n",
    "    codiv_(lambda x: pa(x)^pb(x))(x) - (pb(x)*codiv_(pa)(x)) + (pa(x)*codiv_(pb)(x))\n",
    ")"
   ]
  },
  {
   "cell_type": "code",
   "execution_count": 220,
   "metadata": {},
   "outputs": [
    {
     "data": {
      "text/plain": [
       "(-2.83 𝐞₁ + 1.2 𝐞₂ + -0.0834 𝐞₃ + 2.92e-18 𝐞₁₂₃,\n",
       " -2.75 𝐞₁ + 1.13 𝐞₂ + -3.55 𝐞₃ + 2.64e-18 𝐞₁₂₃)"
      ]
     },
     "execution_count": 220,
     "metadata": {},
     "output_type": "execute_result"
    }
   ],
   "source": [
    "#3.20\n",
    "def lie_bracket(A, B, alg, Ix, h=1e-6):\n",
    "    return lambda x: sum((inner(A(x),r)^o(B)) - (o(A)^inner(r,B(x))) for r, o in derivative_gen(x, alg, Ix, h))\n",
    "\n",
    "lie_bracket(pa, pb, alg, Ix)(x), lie_bracket(a, b, alg, Ix)(x)"
   ]
  },
  {
   "cell_type": "code",
   "execution_count": 221,
   "metadata": {},
   "outputs": [
    {
     "data": {
      "text/plain": [
       "(-0.533 + 2.98 𝐞₁ + 3.67 𝐞₂ + -4.47 𝐞₃ + 4.44 𝐞₁₂ + -7.52 𝐞₁₃ + -3.44 𝐞₂₃ + 5.7 𝐞₁₂₃,\n",
       " -0.533 + 2.98 𝐞₁ + 3.67 𝐞₂ + -4.47 𝐞₃ + 4.44 𝐞₁₂ + -7.52 𝐞₁₃ + -3.44 𝐞₂₃ + 5.7 𝐞₁₂₃)"
      ]
     },
     "execution_count": 221,
     "metadata": {},
     "output_type": "execute_result"
    }
   ],
   "source": [
    "#3.21\n",
    "E, F, G, H = [random_multivector(alg) for _ in range(4)]\n",
    "lie_bracket_ = lambda A, B: lie_bracket(A, B, alg, Ix)(x)\n",
    "A = lambda x: G*x*x*H + E*x*F\n",
    "B = lambda x: E*x*x*F + H*x*G\n",
    "C = lambda x: F*x*x*G + E*x*H\n",
    "lie_bracket_(A, lambda x: B(x)+C(x)), lie_bracket_(A, B) + lie_bracket_(A, C)"
   ]
  },
  {
   "cell_type": "code",
   "execution_count": 222,
   "metadata": {},
   "outputs": [
    {
     "data": {
      "text/plain": [
       "(-7.59e-19 𝐞₁₂ + 2.56e-18 𝐞₁₃ + -2.03e-18 𝐞₂₃,\n",
       " 7.59e-19 𝐞₁₂ + -2.56e-18 𝐞₁₃ + 2.03e-18 𝐞₂₃,\n",
       " 7.59e-19 𝐞₁₂ + -2.56e-18 𝐞₁₃ + 2.03e-18 𝐞₂₃)"
      ]
     },
     "execution_count": 222,
     "metadata": {},
     "output_type": "execute_result"
    }
   ],
   "source": [
    "#3.22a\n",
    "Ar = lambda x: A(x).grade(2)\n",
    "Bs = lambda x: B(x).grade(3)\n",
    "rev = lambda A: lambda x: A(x).reverse()\n",
    "lie_bracket_(Ar, Bs), lie_bracket_(rev(Bs), rev(Ar)), lie_bracket_(Bs, Ar)"
   ]
  },
  {
   "cell_type": "code",
   "execution_count": 223,
   "metadata": {},
   "outputs": [
    {
     "data": {
      "text/plain": [
       "(0.826 + 2.17 𝐞₁ + 3.5 𝐞₂ + -0.0483 𝐞₃ + 0.728 𝐞₁₂ + 1.26 𝐞₁₃ + 0.695 𝐞₂₃ + 1.18 𝐞₁₂₃,\n",
       " -0.826 + -2.17 𝐞₁ + -3.5 𝐞₂ + 0.0483 𝐞₃ + -0.728 𝐞₁₂ + -1.26 𝐞₁₃ + -0.695 𝐞₂₃ + -1.18 𝐞₁₂₃)"
      ]
     },
     "execution_count": 223,
     "metadata": {},
     "output_type": "execute_result"
    }
   ],
   "source": [
    "#3.22b\n",
    "lie_bracket_(a, B), lie_bracket_(B, a)"
   ]
  },
  {
   "cell_type": "code",
   "execution_count": 224,
   "metadata": {},
   "outputs": [
    {
     "data": {
      "text/plain": [
       "(-3.98e-18 + -0.795 𝐞₁ + -0.0571 𝐞₂ + 2.24 𝐞₃ + -2.33 𝐞₁₂ + -2.34 𝐞₁₃ + -0.087 𝐞₂₃ + -1.97 𝐞₁₂₃,\n",
       " 0.795 𝐞₁ + 0.0571 𝐞₂ + -2.24 𝐞₃ + 2.33 𝐞₁₂ + 2.34 𝐞₁₃ + 0.087 𝐞₂₃ + 1.97 𝐞₁₂₃)"
      ]
     },
     "execution_count": 224,
     "metadata": {},
     "output_type": "execute_result"
    }
   ],
   "source": [
    "#3.23\n",
    "(\n",
    "    div_(lambda x: Ar(x)^B(x))(x) - (div_(Ar)(x)^B(x)) - (Ar(x)^div_(B)(x)),\n",
    "    lie_bracket_(Ar, B)\n",
    "    )"
   ]
  },
  {
   "cell_type": "code",
   "execution_count": 225,
   "metadata": {},
   "outputs": [
    {
     "data": {
      "text/plain": [
       "(0.0641 + 2.82 𝐞₁ + 3.61 𝐞₂ + -0.0324 𝐞₃ + 2.85 𝐞₁₂ + -0.0683 𝐞₁₃ + -0.0548 𝐞₂₃ + 4.26e-12 𝐞₁₂₃,\n",
       " 0.0641 + 2.84 𝐞₁ + 3.59 𝐞₂ + -0.0314 𝐞₃ + 2.96 𝐞₁₂ + -0.071 𝐞₁₃ + -0.057 𝐞₂₃)"
      ]
     },
     "execution_count": 225,
     "metadata": {},
     "output_type": "execute_result"
    }
   ],
   "source": [
    "#3.24 Wrong!\n",
    "P_ = lambda A: lambda x: P(A(x), Ix(x))\n",
    "lie_bracket_(P_(A), P_(B)), P(lie_bracket_(A, B), I)"
   ]
  },
  {
   "cell_type": "code",
   "execution_count": 226,
   "metadata": {},
   "outputs": [
    {
     "data": {
      "text/plain": [
       "(0.0641 + 2.82 𝐞₁ + 3.61 𝐞₂ + -0.0324 𝐞₃ + 2.85 𝐞₁₂ + -0.0683 𝐞₁₃ + -0.0548 𝐞₂₃ + 4.26e-12 𝐞₁₂₃,\n",
       " 0.0641 + 2.82 𝐞₁ + 3.61 𝐞₂ + -0.0324 𝐞₃ + 2.85 𝐞₁₂ + -0.0683 𝐞₁₃ + -0.0548 𝐞₂₃)"
      ]
     },
     "execution_count": 226,
     "metadata": {},
     "output_type": "execute_result"
    }
   ],
   "source": [
    "#3.24 Instead, preserve tangency means:\n",
    "lie = lie_bracket_(P_(A), P_(B))\n",
    "lie, P(lie, I)"
   ]
  },
  {
   "cell_type": "code",
   "execution_count": 227,
   "metadata": {},
   "outputs": [
    {
     "data": {
      "text/plain": [
       "(1.71 + 1.96 𝐞₁ + -0.73 𝐞₂ + 0.0553 𝐞₃ + 4.09e-10 𝐞₁₂ + 2.04e-08 𝐞₁₃ + -4.15e-09 𝐞₂₃,\n",
       " 1.71 + 1.96 𝐞₁ + -0.73 𝐞₂ + 0.0553 𝐞₃ + 6.34e-08 𝐞₁₂ + -1.26e-08 𝐞₁₃ + -6.71e-08 𝐞₂₃ + -3.5e-12 𝐞₁₂₃)"
      ]
     },
     "execution_count": 227,
     "metadata": {},
     "output_type": "execute_result"
    }
   ],
   "source": [
    "#3.25\n",
    "PAr = P_(Ar)\n",
    "PB = P_(B)\n",
    "(\n",
    "    div_(lie_bracket(PAr, PB, alg, Ix))(x),\n",
    "    lie_bracket_(div_(PAr), PB) - lie_bracket_(PAr, div_(PB))\n",
    "    )"
   ]
  },
  {
   "cell_type": "code",
   "execution_count": 228,
   "metadata": {},
   "outputs": [
    {
     "data": {
      "text/plain": [
       "(1.71 + 1.96 𝐞₁ + -0.73 𝐞₂ + 0.0553 𝐞₃ + 1.05e-20 𝐞₁₂ + -2.51e-22 𝐞₁₃ + -2.01e-22 𝐞₂₃,\n",
       " 1.71 + 1.96 𝐞₁ + -0.73 𝐞₂ + 0.0553 𝐞₃ + 6.21e-08 𝐞₁₂ + -1.48e-09 𝐞₁₃ + -1.21e-09 𝐞₂₃ + -5.97e-18 𝐞₁₂₃)"
      ]
     },
     "execution_count": 228,
     "metadata": {},
     "output_type": "execute_result"
    }
   ],
   "source": [
    "#3.25\n",
    "(\n",
    "    codiv_(lie_bracket(PAr, PB, alg, Ix))(x),\n",
    "    lie_bracket_(codiv_(PAr), PB) - lie_bracket_(PAr, codiv_(PB))\n",
    "    )"
   ]
  },
  {
   "cell_type": "code",
   "execution_count": 229,
   "metadata": {},
   "outputs": [
    {
     "data": {
      "text/plain": [
       "(-3.5e-19 𝐞₁₂ + 1.18e-18 𝐞₁₃ + -9.38e-19 𝐞₂₃,\n",
       " -3.5e-19 𝐞₁₂ + 1.18e-18 𝐞₁₃ + -9.38e-19 𝐞₂₃ + -7.53e-18 𝐞₁₂₃)"
      ]
     },
     "execution_count": 229,
     "metadata": {},
     "output_type": "execute_result"
    }
   ],
   "source": [
    "#3.26\n",
    "(\n",
    "    lie_bracket_(Ar, lambda x: Bs(x)^C(x)),\n",
    "    (lie_bracket_(Ar, Bs)^C(x)) - (Bs(x)^lie_bracket_(Ar, C))\n",
    "    )"
   ]
  },
  {
   "cell_type": "code",
   "execution_count": 230,
   "metadata": {},
   "outputs": [
    {
     "data": {
      "text/plain": [
       "(0.0641 + 2.89 𝐞₁ + 3.53 𝐞₂ + -2.5 𝐞₃ + 3.02 𝐞₁₂ + 2.12 𝐞₁₃ + 0.578 𝐞₂₃ + 6.42 𝐞₁₂₃,\n",
       " 0.0641 + 2.89 𝐞₁ + 3.53 𝐞₂ + -2.5 𝐞₃ + 3.02 𝐞₁₂ + 2.12 𝐞₁₃ + 0.578 𝐞₂₃ + 6.42 𝐞₁₂₃,\n",
       " 0.806 + 0.108 𝐞₁ + -1.11 𝐞₂ + -0.616 𝐞₃ + -0.473 𝐞₁₂ + 4.9 𝐞₁₃ + -13.5 𝐞₂₃ + -1.26 𝐞₁₂₃,\n",
       " -0.268 + -0.423 𝐞₁ + -0.918 𝐞₂ + 0.813 𝐞₃ + -0.595 𝐞₁₂ + -0.851 𝐞₁₃ + -10.8 𝐞₂₃ + -0.763 𝐞₁₂₃,\n",
       " -0.442 + -2.41 𝐞₁ + -4.41 𝐞₂ + 0.957 𝐞₃ + 0.974 𝐞₁₂ + 0.841 𝐞₁₃ + -1.14 𝐞₂₃ + 0.184 𝐞₁₂₃,\n",
       " -0.442 + -2.41 𝐞₁ + -4.41 𝐞₂ + 0.957 𝐞₃ + 0.974 𝐞₁₂ + 0.841 𝐞₁₃ + -1.14 𝐞₂₃ + 0.184 𝐞₁₂₃)"
      ]
     },
     "execution_count": 230,
     "metadata": {},
     "output_type": "execute_result"
    }
   ],
   "source": [
    "#3.28 Pseudoscalar's size matters!?\n",
    "# But what pseudoscalr/dual?\n",
    "# For fields on the manifold, the dual should be just on the manifold\n",
    "# For fields in the embedding space, the dual should be in the embedding space\n",
    "\n",
    "def dual_bracket(A, B, alg, Ix, h=1e-6):\n",
    "    return lambda x: lie_bracket(A, lambda x: B(x)*Ix(x), alg, Ix, h)(x) * inv(Ix(x))\n",
    "\n",
    "def dual_bracket_emb(A, B, alg: Algebra, Ix, h=1e-6):\n",
    "    return lambda x: lie_bracket(A, lambda x: B(x).dual(), alg, Ix, h)(x).undual()\n",
    "\n",
    "(\n",
    "    lie_bracket(A, B, alg, Ix)(x), \n",
    "    lie_bracket(A, B, alg, nIx)(x),\n",
    "    dual_bracket(A, B, alg, Ix)(x), \n",
    "    dual_bracket(A, B, alg, nIx)(x),\n",
    "    dual_bracket_emb(A, B, alg, Ix)(x), \n",
    "    dual_bracket_emb(A, B, alg, nIx)(x)\n",
    "    )"
   ]
  },
  {
   "cell_type": "code",
   "execution_count": 231,
   "metadata": {},
   "outputs": [
    {
     "data": {
      "text/plain": [
       "(2.43 + 6.58 𝐞₁ + -1.25 𝐞₂ + 3.72 𝐞₃ + 1.53 𝐞₁₂ + 1.88 𝐞₁₃ + -11.2 𝐞₂₃ + 5.59 𝐞₁₂₃,\n",
       " 2.43 + 6.58 𝐞₁ + -1.25 𝐞₂ + 3.72 𝐞₃ + 1.53 𝐞₁₂ + 1.88 𝐞₁₃ + -11.2 𝐞₂₃ + 5.59 𝐞₁₂₃)"
      ]
     },
     "execution_count": 231,
     "metadata": {},
     "output_type": "execute_result"
    }
   ],
   "source": [
    "#3.29\n",
    "dual_bracket_ = lambda A, B: dual_bracket(A, B, alg, nIx)(x)\n",
    "dual_bracket_(A, lambda x: B(x)+C(x)), dual_bracket_(A, B) + dual_bracket_(A, C)"
   ]
  },
  {
   "cell_type": "code",
   "execution_count": 232,
   "metadata": {},
   "outputs": [
    {
     "data": {
      "text/plain": [
       "(-0.85 + 5.15 𝐞₁ + -6.27 𝐞₂ + 2.32 𝐞₃ + 6.55 𝐞₁₂ + 3.78 𝐞₁₃ + -1.94 𝐞₂₃ + 0.894 𝐞₁₂₃,\n",
       " -0.85 + 5.15 𝐞₁ + -6.27 𝐞₂ + 2.32 𝐞₃ + 6.55 𝐞₁₂ + 3.78 𝐞₁₃ + -1.94 𝐞₂₃ + 0.894 𝐞₁₂₃)"
      ]
     },
     "execution_count": 232,
     "metadata": {},
     "output_type": "execute_result"
    }
   ],
   "source": [
    "#3.29\n",
    "dual_bracket_ = lambda A, B: dual_bracket_emb(A, B, alg, nIx)(x)\n",
    "dual_bracket_(A, lambda x: B(x)+C(x)), dual_bracket_(A, B) + dual_bracket_(A, C)"
   ]
  },
  {
   "cell_type": "code",
   "execution_count": 233,
   "metadata": {},
   "outputs": [
    {
     "data": {
      "text/plain": [
       "(-0.49 + -0.444 𝐞₁ + -0.908 𝐞₂ + 0.0132 𝐞₃ + -0.366 𝐞₁₂ + 0.00877 𝐞₁₃ + 0.00704 𝐞₂₃ + 1.1e-11 𝐞₁₂₃,\n",
       " -0.49 + -0.444 𝐞₁ + -0.908 𝐞₂ + 0.0132 𝐞₃ + -0.366 𝐞₁₂ + 0.00877 𝐞₁₃ + 0.00704 𝐞₂₃,\n",
       " -0.268 + -0.408 𝐞₁ + -0.937 𝐞₂ + 0.0146 𝐞₃ + -0.366 𝐞₁₂ + 0.00877 𝐞₁₃ + 0.00704 𝐞₂₃)"
      ]
     },
     "execution_count": 233,
     "metadata": {},
     "output_type": "execute_result"
    }
   ],
   "source": [
    "#3.30 The same mistake as 3.24, \n",
    "# you need to be tangent at first place to preserve tangency:\n",
    "dual_bracket_ = lambda A, B: dual_bracket(A, B, alg, nIx)(x)\n",
    "dual_bracket_(P_(A), P_(B)), P(dual_bracket_(P_(A), P_(B)), I), P(dual_bracket_(A, B), I)"
   ]
  },
  {
   "cell_type": "code",
   "execution_count": 234,
   "metadata": {},
   "outputs": [
    {
     "data": {
      "text/plain": [
       "(-0.49 + -0.444 𝐞₁ + -0.909 𝐞₂ + -0.0246 𝐞₃ + -0.366 𝐞₁₂ + 0.00582 𝐞₁₃ + 0.0103 𝐞₂₃ + -1.12e-19 𝐞₁₂₃,\n",
       " -0.49 + -0.444 𝐞₁ + -0.908 𝐞₂ + 0.0132 𝐞₃ + -0.366 𝐞₁₂ + 0.00877 𝐞₁₃ + 0.00704 𝐞₂₃,\n",
       " -0.442 + -2.39 𝐞₁ + -4.43 𝐞₂ + 0.0604 𝐞₃ + 0.975 𝐞₁₂ + -0.0234 𝐞₁₃ + -0.0188 𝐞₂₃)"
      ]
     },
     "execution_count": 234,
     "metadata": {},
     "output_type": "execute_result"
    }
   ],
   "source": [
    "#3.30 The embedded version fails, we see that which \"dual\" matters\n",
    "dual_bracket_ = lambda A, B: dual_bracket_emb(A, B, alg, nIx)(x)\n",
    "dual_bracket_(P_(A), P_(B)), P(dual_bracket_(P_(A), P_(B)), I), P(dual_bracket_(A, B), I)"
   ]
  },
  {
   "cell_type": "code",
   "execution_count": 235,
   "metadata": {},
   "outputs": [
    {
     "data": {
      "text/plain": [
       "(0.312 + -0.151 𝐞₁₂ + 0.0511 𝐞₁₃ + -7.93 𝐞₂₃, -0.114)"
      ]
     },
     "execution_count": 235,
     "metadata": {},
     "output_type": "execute_result"
    }
   ],
   "source": [
    "#3.31\n",
    "# For arbitrary field the \"single grade\" is achieved by the embedded version\n",
    "dual_bracket_ = lambda A, B: dual_bracket(A, B, alg, nIx)(x)\n",
    "dual_bracket_emb_ = lambda A, B: dual_bracket_emb(A, B, alg, nIx)(x)\n",
    "\n",
    "Ar = lambda x: A(x).grade(2)\n",
    "Bs = lambda x: B(x).grade(1)\n",
    "dual_bracket_(Ar, Bs), dual_bracket_emb_(Ar, Bs)"
   ]
  },
  {
   "cell_type": "code",
   "execution_count": 236,
   "metadata": {},
   "outputs": [
    {
     "data": {
      "text/plain": [
       "(0.145 + 4.32e-13 𝐞₁₂ + 2.95e-11 𝐞₁₃ + -1.43e-11 𝐞₂₃, 0.145)"
      ]
     },
     "execution_count": 236,
     "metadata": {},
     "output_type": "execute_result"
    }
   ],
   "source": [
    "#3.31 For tangent field either works:\n",
    "Ar = lambda x: PA(x).grade(2)\n",
    "Bs = lambda x: PB(x).grade(1)\n",
    "dual_bracket_(Ar, Bs), dual_bracket_emb_(Ar, Bs)"
   ]
  },
  {
   "cell_type": "code",
   "execution_count": null,
   "metadata": {},
   "outputs": [],
   "source": []
  }
 ],
 "metadata": {
  "kernelspec": {
   "display_name": "3.10.5",
   "language": "python",
   "name": "python3"
  },
  "language_info": {
   "codemirror_mode": {
    "name": "ipython",
    "version": 3
   },
   "file_extension": ".py",
   "mimetype": "text/x-python",
   "name": "python",
   "nbconvert_exporter": "python",
   "pygments_lexer": "ipython3",
   "version": "3.10.5"
  }
 },
 "nbformat": 4,
 "nbformat_minor": 2
}
