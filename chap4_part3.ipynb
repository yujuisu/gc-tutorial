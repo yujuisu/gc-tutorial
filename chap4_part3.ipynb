{
 "cells": [
  {
   "cell_type": "code",
   "execution_count": 1,
   "metadata": {},
   "outputs": [
    {
     "data": {
      "text/plain": [
       "(1.0 𝐞₁₂ + -0.024 𝐞₁₃ + -0.0192 𝐞₂₃, 1.29e-15 𝐞₁₂₃)"
      ]
     },
     "execution_count": 1,
     "metadata": {},
     "output_type": "execute_result"
    }
   ],
   "source": [
    "#1.3 ellipsoid\n",
    "# Let M be an ellipsoid in R3, (ax)^{2}+(by)^{2}+z^{2}=d\n",
    "# x = 1/a*cos(p)*sin(t)*e1 + 1/b*sin(p)*sin(t)*e2 + cos(t)*e3, t, p in R\n",
    "\n",
    "from gc_utils import *\n",
    "alg = Algebra(3)\n",
    "locals().update(alg.blades)\n",
    "\n",
    "c2e = lambda p, t: 4*np.cos(p)*np.sin(t)*e1 + 5*np.sin(p)*np.sin(t)*e2 + np.cos(t)*e3\n",
    "e_p = lambda p, t: -4*np.sin(p)*np.sin(t)*e1 + 5*np.cos(p)*np.sin(t)*e2\n",
    "e_t = lambda p, t: (4*np.cos(p)*np.cos(t)*e1) + (5*np.sin(p)*np.cos(t)*e2) - (np.sin(t)*e3)\n",
    "def Ix(x):\n",
    "    p = np.arctan((4/5)*x.e2/x.e1)\n",
    "    t = np.arccos(x.e3)\n",
    "    return e_p(p, t) ^ e_t(p, t)\n",
    "\n",
    "# |p| < pi/2, 0 < t < pi for unique arctan & arccos\n",
    "p, t = -1, 3\n",
    "x = c2e(p, t)\n",
    "I = Ix(x)\n",
    "nIx = lambda x: normalize(Ix(x))\n",
    "nI = nIx(x)\n",
    "\n",
    "nI, nI ^ (3*e_t(p,t) + 5*e_p(p,t))"
   ]
  },
  {
   "cell_type": "code",
   "execution_count": 2,
   "metadata": {},
   "outputs": [
    {
     "data": {
      "text/plain": [
       "(0.305 𝐞₁ + -0.594 𝐞₂ + -0.99 𝐞₃,\n",
       " 0.359 𝐞₁ + -2.56 𝐞₂ + -1.14 𝐞₃,\n",
       " -0.183 𝐞₁ + -0.323 𝐞₂ + 0.00421 𝐞₃,\n",
       " -0.0976 𝐞₁ + -0.949 𝐞₂ + 0.507 𝐞₃)"
      ]
     },
     "execution_count": 2,
     "metadata": {},
     "output_type": "execute_result"
    }
   ],
   "source": [
    "#5.1\n",
    "C, D, E = [random_multivector(alg) for _ in range(3)]\n",
    "V1, V2 = [random_versor(2, alg) for _ in range(2)]\n",
    "f = lambda x: V1.sw(inv(x)) + V2.sw(x**3)\n",
    "A = lambda x: E*x**2 + C*x*D\n",
    "a = lambda x: A(x).grade(1)\n",
    "PA = lambda x: P(A(x), Ix(x))\n",
    "pa = lambda x: P(a(x), Ix(x))\n",
    "f_ = lambda a: lambda x: differential(f, x, a)\n",
    "\n",
    "x, f(x), pa(x), f_(pa(x))(x)"
   ]
  },
  {
   "cell_type": "code",
   "execution_count": 3,
   "metadata": {},
   "outputs": [
    {
     "data": {
      "text/plain": [
       "(-0.434 + -0.0435 𝐞₁ + -2.51 𝐞₂ + -0.313 𝐞₃ + 9.01 𝐞₁₂ + 5.61 𝐞₁₃ + -3.07 𝐞₂₃ + 12.0 𝐞₁₂₃,\n",
       " -0.434 + -0.0976 𝐞₁ + -0.949 𝐞₂ + 0.507 𝐞₃ + -0.798 𝐞₁₂ + 0.366 𝐞₁₃ + -0.593 𝐞₂₃ + -4.62e-18 𝐞₁₂₃,\n",
       " -0.434 + -0.0977 𝐞₁ + -0.949 𝐞₂ + 0.507 𝐞₃ + -0.798 𝐞₁₂ + 0.366 𝐞₁₃ + -0.593 𝐞₂₃,\n",
       " -0.434 + -0.0976 𝐞₁ + -0.949 𝐞₂ + 0.507 𝐞₃ + -0.798 𝐞₁₂ + 0.366 𝐞₁₃ + -0.593 𝐞₂₃ + -4.62e-18 𝐞₁₂₃)"
      ]
     },
     "execution_count": 3,
     "metadata": {},
     "output_type": "execute_result"
    }
   ],
   "source": [
    "#5.2 For tangent fields, the outermorphism can be computed in the embedded space\n",
    "# the scalar product in the skew_symmetrizer acts as a projection into the tangent space\n",
    "def outermorphism(f, field, alg, h=1e-6, frame=None, r_frame=None, Ix=None):\n",
    "    def f_outer(x):\n",
    "        nonlocal frame, r_frame\n",
    "        if Ix:\n",
    "            frame = blade_split(Ix(x), alg)\n",
    "            r_frame = reciprocal(frame)\n",
    "        A = field(x)\n",
    "        wf = lambda vectors: wedge([f(v)(x) for v in vectors])\n",
    "        outer = 0\n",
    "        for r in A.grades:\n",
    "            if r == 0:\n",
    "                outer += A.grade(0)\n",
    "                continue\n",
    "            outer += skew_symmetrizer(wf, A.grade(r), alg, h, frame, r_frame)\n",
    "        return outer\n",
    "    return f_outer\n",
    "\n",
    "outermorphism(f_, A, alg)(x), outermorphism(f_, A, alg, Ix=Ix)(x), outermorphism(f_, PA, alg)(x), outermorphism(f_, PA, alg, Ix=Ix)(x)"
   ]
  },
  {
   "cell_type": "code",
   "execution_count": 4,
   "metadata": {},
   "outputs": [
    {
     "data": {
      "text/plain": [
       "(9.401843494779426, 9.401843494779426)"
      ]
     },
     "execution_count": 4,
     "metadata": {},
     "output_type": "execute_result"
    }
   ],
   "source": [
    "#5.3\n",
    "f_vec = lambda a: lambda x: differential(f, x, a)\n",
    "f_ = lambda A: outermorphism(f_vec, A, alg, Ix=Ix)\n",
    "I1 = f_(Ix)(x)\n",
    "fnI = f_(nIx)(x)\n",
    "norm(I1)/norm(I), norm(fnI)"
   ]
  },
  {
   "cell_type": "code",
   "execution_count": 5,
   "metadata": {},
   "outputs": [],
   "source": [
    "# Jacobian\n",
    "Jf = lambda x: norm(f_(nIx)(x))"
   ]
  },
  {
   "cell_type": "code",
   "execution_count": 6,
   "metadata": {},
   "outputs": [
    {
     "data": {
      "text/plain": [
       "-0.434 + 0.314 𝐞₁ + -0.713 𝐞₂ + 0.0232 𝐞₃ + -5.06 𝐞₁₂ + 0.121 𝐞₁₃ + 0.0973 𝐞₂₃"
      ]
     },
     "execution_count": 6,
     "metadata": {},
     "output_type": "execute_result"
    }
   ],
   "source": [
    "#5.4\n",
    "def adjoint_outermorphism(f, field, alg, h=1e-6, frame=None, r_frame=None, Ix=None):\n",
    "    def f_outer(x):\n",
    "        A = field(x)\n",
    "        nonlocal frame, r_frame\n",
    "        if Ix:\n",
    "            frame = blade_split(Ix(x), alg)\n",
    "            r_frame = reciprocal(frame)\n",
    "        F = lambda vectors: wedge([f(v)(x) for v in vectors]).sp(A)\n",
    "        outer = 0\n",
    "        for r in A.grades:\n",
    "            if r == 0:\n",
    "                outer += A.grade(0)\n",
    "                continue\n",
    "            # Why np.zeros(r)? The derivative of a linear function is constant\n",
    "            outer += simplicial_derivative(F, np.zeros(r), alg, h, frame, r_frame)\n",
    "        return outer\n",
    "    return f_outer\n",
    "\n",
    "def adjoint_outermorphism_(f, A, alg, h=1e-6, frame=None, r_frame=None, Ix=None):\n",
    "    def f_outer(x):\n",
    "        nonlocal frame, r_frame\n",
    "        if Ix:\n",
    "            frame = blade_split(Ix(x), alg)\n",
    "            r_frame = reciprocal(frame)\n",
    "        F = lambda vectors: wedge([f(v)(x) for v in vectors]).sp(A)\n",
    "        outer = 0\n",
    "        for r in A.grades:\n",
    "            if r == 0:\n",
    "                outer += A.grade(0)\n",
    "                continue\n",
    "            # Why np.zeros(r)? The derivative of a linear function is constant\n",
    "            outer += simplicial_derivative(F, np.zeros(r), alg, h, frame, r_frame)\n",
    "        return outer\n",
    "    return f_outer\n",
    "\n",
    "adjoint_outermorphism(f_vec, A, alg, Ix=Ix)(x)"
   ]
  },
  {
   "cell_type": "code",
   "execution_count": 7,
   "metadata": {},
   "outputs": [
    {
     "data": {
      "text/plain": [
       "(8.219178082191782, 2.598448050479924, 6.5)"
      ]
     },
     "execution_count": 7,
     "metadata": {},
     "output_type": "execute_result"
    }
   ],
   "source": [
    "240/(2*10*200/1000*7.3), 100/ (np.pi*49/4), 130/100*5"
   ]
  },
  {
   "cell_type": "code",
   "execution_count": 8,
   "metadata": {},
   "outputs": [
    {
     "data": {
      "text/plain": [
       "(-0.434 + -0.0976 𝐞₁ + -0.949 𝐞₂ + 0.507 𝐞₃ + -0.798 𝐞₁₂ + 0.366 𝐞₁₃ + -0.593 𝐞₂₃ + -4.62e-18 𝐞₁₂₃,\n",
       " -0.434 + -0.0976 𝐞₁ + -0.949 𝐞₂ + 0.507 𝐞₃ + -0.798 𝐞₁₂ + 0.366 𝐞₁₃ + -0.593 𝐞₂₃ + -4.62e-18 𝐞₁₂₃,\n",
       " -0.434 + -0.0976 𝐞₁ + -0.949 𝐞₂ + 0.507 𝐞₃ + -0.798 𝐞₁₂ + 0.366 𝐞₁₃ + -0.593 𝐞₂₃)"
      ]
     },
     "execution_count": 8,
     "metadata": {},
     "output_type": "execute_result"
    }
   ],
   "source": [
    "#5.10a\n",
    "f_(A)(x), f_(PA)(x), P(f_(A)(x), I1)"
   ]
  },
  {
   "cell_type": "code",
   "execution_count": 9,
   "metadata": {},
   "outputs": [
    {
     "data": {
      "text/plain": [
       "(-0.434 + 0.314 𝐞₁ + -0.713 𝐞₂ + 0.0232 𝐞₃ + -5.06 𝐞₁₂ + 0.121 𝐞₁₃ + 0.0973 𝐞₂₃,\n",
       " -0.434 + 0.314 𝐞₁ + -0.713 𝐞₂ + 0.0232 𝐞₃ + -5.06 𝐞₁₂ + 0.121 𝐞₁₃ + 0.0973 𝐞₂₃,\n",
       " -0.434 + 0.314 𝐞₁ + -0.713 𝐞₂ + 0.0232 𝐞₃ + -5.06 𝐞₁₂ + 0.121 𝐞₁₃ + 0.0973 𝐞₂₃)"
      ]
     },
     "execution_count": 9,
     "metadata": {},
     "output_type": "execute_result"
    }
   ],
   "source": [
    "#5.10b\n",
    "P_ = lambda A: lambda x: P(A(x), I)\n",
    "P__ = lambda A: lambda x: P(A(x), I1)\n",
    "fa = lambda A: adjoint_outermorphism(f_vec, A, alg, Ix=Ix)\n",
    "fa(A)(x), fa(P__(A))(x), P_(fa(A))(x)"
   ]
  },
  {
   "cell_type": "code",
   "execution_count": 10,
   "metadata": {},
   "outputs": [
    {
     "data": {
      "text/plain": [
       "(2.33 + -0.0953 𝐞₁ + -0.925 𝐞₂ + 0.495 𝐞₃ + 0.247 𝐞₁₂ + 0.463 𝐞₁₃ + -0.0476 𝐞₂₃ + 0.599 𝐞₁₂₃,\n",
       " 2.33 + -0.0953 𝐞₁ + -0.925 𝐞₂ + 0.495 𝐞₃ + 0.248 𝐞₁₂ + 0.463 𝐞₁₃ + -0.0476 𝐞₂₃ + 0.599 𝐞₁₂₃)"
      ]
     },
     "execution_count": 10,
     "metadata": {},
     "output_type": "execute_result"
    }
   ],
   "source": [
    "#5.12 outermorphism push forward tangent vectors\n",
    "G = lambda x: (x+D)**2\n",
    "F = lambda x: G(f(x))\n",
    "differential(F, x, pa(x)), differential(G, f(x), f_(pa)(x))"
   ]
  },
  {
   "cell_type": "code",
   "execution_count": 12,
   "metadata": {},
   "outputs": [
    {
     "data": {
      "text/plain": [
       "(2.33 + -0.0953 𝐞₁ + -0.925 𝐞₂ + 0.495 𝐞₃ + 0.247 𝐞₁₂ + 0.463 𝐞₁₃ + -0.0476 𝐞₂₃ + 0.599 𝐞₁₂₃,\n",
       " 2.33 + -0.0953 𝐞₁ + -0.925 𝐞₂ + 0.495 𝐞₃ + 0.248 𝐞₁₂ + 0.463 𝐞₁₃ + -0.0476 𝐞₂₃ + 0.599 𝐞₁₂₃)"
      ]
     },
     "execution_count": 12,
     "metadata": {},
     "output_type": "execute_result"
    }
   ],
   "source": [
    "#5.12c adjoint-outermorphism is the pullback/chain rule of derivatives\n",
    "# without explicit define the inverse of f, we push forward the frame\n",
    "\n",
    "def f_derivative_gen(x, f, alg, Ix, h=1e-6):\n",
    "    f_vec = lambda a: lambda x: differential(f, x, a)\n",
    "    f_ = lambda A: outermorphism(f_vec, A, alg, Ix=Ix)\n",
    "    for v, r in frame_gen(x, alg, Ix=f_(Ix)):\n",
    "        yield (r, lambda F: differential(F, f(x), v, h))\n",
    "\n",
    "# Say f: M -> N\n",
    "# \"back\" as the derivative acts on a field G on N\n",
    "# Yet mimicking the derivative of G(f(x)) on M\n",
    "def back_derivative_gen(x, f, alg, Ix, h=1e-6):\n",
    "    f_vec = lambda a: lambda x: differential(f, x, a)\n",
    "    f_ = lambda A: outermorphism(f_vec, A, alg, Ix=Ix)\n",
    "    fa_ = lambda A: adjoint_outermorphism_(f_vec, A, alg, Ix=Ix)\n",
    "    for v, r in frame_gen(x, alg, Ix=f_(Ix)):\n",
    "        yield (fa_(r)(x), lambda F: differential(F, f(x), v, h))\n",
    "\n",
    "\n",
    "fa_ = lambda A: adjoint_outermorphism_(f_vec, A, alg, Ix=Ix)\n",
    "differential(F, x, pa(x)), sum((pa(x)|r) * o(G) for r, o in back_derivative_gen(x, f, alg, Ix))"
   ]
  },
  {
   "cell_type": "code",
   "execution_count": 13,
   "metadata": {},
   "outputs": [
    {
     "data": {
      "text/plain": [
       "(5.67 + 7.96 𝐞₁ + -12.2 𝐞₂ + 0.426 𝐞₃ + 0.121 𝐞₁₂ + 2.02 𝐞₁₃ + 1.81 𝐞₂₃ + 2.84 𝐞₁₂₃,\n",
       " 5.67 + 7.96 𝐞₁ + -12.2 𝐞₂ + 0.426 𝐞₃ + 0.121 𝐞₁₂ + 2.02 𝐞₁₃ + 1.81 𝐞₂₃ + 2.84 𝐞₁₂₃)"
      ]
     },
     "execution_count": 13,
     "metadata": {},
     "output_type": "execute_result"
    }
   ],
   "source": [
    "#5.13\n",
    "(\n",
    "    derivative(F, x, alg, Ix=Ix), \n",
    "    sum(r * o(G) for r, o in back_derivative_gen(x, f, alg, Ix))\n",
    "    )"
   ]
  },
  {
   "cell_type": "code",
   "execution_count": 14,
   "metadata": {},
   "outputs": [],
   "source": [
    "def outermorphism_(f, A, alg, h=1e-6, frame=None, r_frame=None, Ix=None):\n",
    "    def f_outer(x):\n",
    "        nonlocal frame, r_frame\n",
    "        if Ix:\n",
    "            frame = blade_split(Ix(x), alg)\n",
    "            r_frame = reciprocal(frame)\n",
    "        wf = lambda vectors: wedge([f(v)(x) for v in vectors])\n",
    "        outer = 0\n",
    "        for r in A.grades:\n",
    "            if r == 0:\n",
    "                outer += A.grade(0)\n",
    "                continue\n",
    "            outer += skew_symmetrizer(wf, A.grade(r), alg, h, frame, r_frame)\n",
    "        return outer\n",
    "    return f_outer"
   ]
  },
  {
   "cell_type": "code",
   "execution_count": 16,
   "metadata": {},
   "outputs": [
    {
     "data": {
      "text/plain": [
       "(1.95 + 1.97 𝐞₁ + -2.76 𝐞₂ + -0.198 𝐞₃ + -0.15 𝐞₁₂ + 0.782 𝐞₁₃ + 0.685 𝐞₂₃ + 0.975 𝐞₁₂₃,\n",
       " 1.95 + 1.97 𝐞₁ + -2.76 𝐞₂ + -0.198 𝐞₃ + -0.15 𝐞₁₂ + 0.782 𝐞₁₃ + 0.685 𝐞₂₃ + 0.975 𝐞₁₂₃,\n",
       " 1.95 + 1.97 𝐞₁ + -2.76 𝐞₂ + -0.198 𝐞₃ + -0.15 𝐞₁₂ + 0.782 𝐞₁₃ + 0.685 𝐞₂₃ + 0.975 𝐞₁₂₃)"
      ]
     },
     "execution_count": 16,
     "metadata": {},
     "output_type": "execute_result"
    }
   ],
   "source": [
    "#5.14 \"forward\" as the derivative acts on a field F on M\n",
    "# Yet mimicking the derivative of F(inv(f)(x)) on N\n",
    "def forward_derivative_gen(x, f, alg, Ix, h=1e-6):\n",
    "    f_vec = lambda a: lambda x: differential(f, x, a)\n",
    "    f__ = lambda A: outermorphism_(f_vec, A, alg, Ix=Ix)\n",
    "    nIx = lambda x: normalize(Ix(x))\n",
    "    nI = nIx(x)\n",
    "    iI1 = inv(f_(nIx)(x))\n",
    "    for v, r in frame_gen(x, alg, Ix=Ix):\n",
    "        yield iI1 * f__(nI*r)(x), lambda F: differential(F, x, v, h)\n",
    "\n",
    "iI1 = inv(f_(nIx)(x))\n",
    "f__ = lambda A: outermorphism_(f_vec, A, alg, Ix=Ix)\n",
    "(\n",
    "    sum(r * o(G) for r, o in f_derivative_gen(x, f, alg, Ix)),\n",
    "    sum(r * o(F) for r, o in forward_derivative_gen(x, f, alg, Ix)),\n",
    "    sum(iI1 * f__(nI*r)(x) * o(F) for r, o in derivative_gen(x, alg, Ix=Ix))\n",
    "    )"
   ]
  },
  {
   "cell_type": "code",
   "execution_count": 17,
   "metadata": {},
   "outputs": [
    {
     "data": {
      "text/plain": [
       "(-0.124 𝐞₁ + 1.33 𝐞₂ + -0.17 𝐞₃ + 0.959 𝐞₁₂ + -0.202 𝐞₁₃ + 0.161 𝐞₂₃ + -7.81e-16 𝐞₁₂₃,\n",
       " 5.7e-17 + -0.123 𝐞₁ + 1.32 𝐞₂ + -0.175 𝐞₃ + 0.953 𝐞₁₂ + -0.206 𝐞₁₃ + 0.163 𝐞₂₃ + -7.86e-16 𝐞₁₂₃)"
      ]
     },
     "execution_count": 17,
     "metadata": {},
     "output_type": "execute_result"
    }
   ],
   "source": [
    "#5.15a Without the inverse of f\n",
    "# Pushing forward a differential is an extra linear transformation\n",
    "b = random_r_blade(1, alg)\n",
    "pb = P(b, I)\n",
    "pb1 = f__(pb)(x)\n",
    "differential(f__(PA(x)), x, pb, h=1e-2), sum((pb1 | r) * o(f__(PA(x))) for r, o in forward_derivative_gen(x, f, alg, Ix, h=1e-2))"
   ]
  },
  {
   "cell_type": "code",
   "execution_count": 18,
   "metadata": {},
   "outputs": [
    {
     "data": {
      "text/plain": [
       "(0.427 𝐞₁ + 1.02 𝐞₂ + -0.0449 𝐞₃ + 0.959 𝐞₁₂ + -0.0438 𝐞₁₃ + 0.0105 𝐞₂₃,\n",
       " 1.81e-17 + 0.422 𝐞₁ + 1.02 𝐞₂ + -0.0448 𝐞₃ + 0.954 𝐞₁₂ + -0.0436 𝐞₁₃ + 0.0106 𝐞₂₃ + 8.99e-17 𝐞₁₂₃)"
      ]
     },
     "execution_count": 18,
     "metadata": {},
     "output_type": "execute_result"
    }
   ],
   "source": [
    "#5.15b\n",
    "differential(fa_(PA(x)), x, pb, h=1e-2), sum((pb1 | r) * o(fa_(PA(x))) for r, o in forward_derivative_gen(x, f, alg, Ix, h=1e-2))"
   ]
  },
  {
   "cell_type": "code",
   "execution_count": 19,
   "metadata": {},
   "outputs": [
    {
     "data": {
      "text/plain": [
       "(0.513 𝐞₁ + -4.88 𝐞₂ + 0.712 𝐞₃ + -8.94 𝐞₁₂ + 1.75 𝐞₁₃ + -1.46 𝐞₂₃ + -2.26e-14 𝐞₁₂₃,\n",
       " 0.513 𝐞₁ + -4.88 𝐞₂ + 0.712 𝐞₃ + -8.94 𝐞₁₂ + 1.75 𝐞₁₃ + -1.46 𝐞₂₃ + -0.000276 𝐞₁₂₃,\n",
       " -1.94 𝐞₁ + -3.75 𝐞₂ + 0.111 𝐞₃ + -9.56 𝐞₁₂ + 0.524 𝐞₁₃ + -0.227 𝐞₂₃,\n",
       " -1.94 𝐞₁ + -3.75 𝐞₂ + 0.111 𝐞₃ + -9.56 𝐞₁₂ + 0.524 𝐞₁₃ + -0.227 𝐞₂₃ + 9.45e-06 𝐞₁₂₃)"
      ]
     },
     "execution_count": 19,
     "metadata": {},
     "output_type": "execute_result"
    }
   ],
   "source": [
    "#5.16\n",
    "(\n",
    "    differential(f__(C^D), x, pb, h=1e-3), \n",
    "    (differential(f__(C), x, pb, h=1e-3)^f__(D)(x)) + (f__(C)(x)^differential(f__(D), x, pb, h=1e-3)),\n",
    "    differential(fa_(C^D), x, pb, h=1e-3), \n",
    "    (differential(fa_(C), x, pb, h=1e-3)^fa_(D)(x)) + (fa_(C)(x)^differential(fa_(D), x, pb, h=1e-3)),\n",
    "    )"
   ]
  },
  {
   "cell_type": "code",
   "execution_count": 20,
   "metadata": {},
   "outputs": [
    {
     "data": {
      "text/plain": [
       "(0.339 𝐞₁ + -3.55 𝐞₂ + 0.364 𝐞₃ + -7.49 𝐞₁₂ + 1.61 𝐞₁₃ + -1.33 𝐞₂₃ + 2.27e-15 𝐞₁₂₃,\n",
       " 0.34 𝐞₁ + -3.55 𝐞₂ + 0.364 𝐞₃ + -7.48 𝐞₁₂ + 1.61 𝐞₁₃ + -1.33 𝐞₂₃,\n",
       " -1.11e-14 + 0.339 𝐞₁ + -3.55 𝐞₂ + 0.364 𝐞₃ + -7.49 𝐞₁₂ + 1.61 𝐞₁₃ + -1.33 𝐞₂₃ + 2.27e-15 𝐞₁₂₃)"
      ]
     },
     "execution_count": 20,
     "metadata": {},
     "output_type": "execute_result"
    }
   ],
   "source": [
    "#5.17a\n",
    "Pb_ = lambda A: lambda x: differential(lambda a: P(A(x), Ix(a)), x, pb, h=1e-2)\n",
    "Pb_1 = lambda A: lambda x: differential(lambda a: P(A(x), f_(Ix)(a)), x, pb, h=1e-2)\n",
    "fb = lambda C: differential(f__(C), x, pb, h=1e-2)\n",
    "C_ = lambda x: C\n",
    "(\n",
    "    fb(C),\n",
    "    Pb_1(f__(C))(x)+ P(fb(C), I1),\n",
    "    fb(P(C, I)) + f_(Pb_(C_))(x)\n",
    "    )"
   ]
  },
  {
   "cell_type": "code",
   "execution_count": 21,
   "metadata": {},
   "outputs": [
    {
     "data": {
      "text/plain": [
       "(-1.27 𝐞₁ + -2.42 𝐞₂ + 0.0967 𝐞₃ + -7.98 𝐞₁₂ + 0.427 𝐞₁₃ + -0.175 𝐞₂₃,\n",
       " -1.11e-14 + -1.27 𝐞₁ + -2.42 𝐞₂ + 0.0966 𝐞₃ + -7.98 𝐞₁₂ + 0.427 𝐞₁₃ + -0.175 𝐞₂₃,\n",
       " -1.27 𝐞₁ + -2.42 𝐞₂ + 0.0966 𝐞₃ + -7.98 𝐞₁₂ + 0.427 𝐞₁₃ + -0.175 𝐞₂₃)"
      ]
     },
     "execution_count": 21,
     "metadata": {},
     "output_type": "execute_result"
    }
   ],
   "source": [
    "#5.17b\n",
    "fb = lambda C: differential(fa_(C), x, pb, h=1e-2)\n",
    "\n",
    "(\n",
    "    fb(C),\n",
    "    Pb_(fa_(C))(x)+ P(fb(C), I),\n",
    "    fb(P(C, I1)) + fa_(Pb_1(C_)(x))(x)\n",
    "    )"
   ]
  },
  {
   "cell_type": "code",
   "execution_count": 22,
   "metadata": {},
   "outputs": [
    {
     "data": {
      "text/plain": [
       "(0.344 𝐞₁ + 3.28 𝐞₂ + -0.265 𝐞₃, 0.344 𝐞₁ + 3.28 𝐞₂ + -0.265 𝐞₃)"
      ]
     },
     "execution_count": 22,
     "metadata": {},
     "output_type": "execute_result"
    }
   ],
   "source": [
    "#5.18\n",
    "differential(lambda y: differential(f, y, a(x)), x, b), differential(lambda y: differential(f, y, b), x, a(x))"
   ]
  },
  {
   "cell_type": "code",
   "execution_count": 23,
   "metadata": {},
   "outputs": [
    {
     "data": {
      "text/plain": [
       "(2.78e-15 + 0.935 𝐞₁ + 3.62 𝐞₂ + -0.161 𝐞₃ + 8.29 𝐞₁₂ + -0.459 𝐞₁₃ + 0.203 𝐞₂₃ + 8.99e-18 𝐞₁₂₃,\n",
       " 0.935 𝐞₁ + 3.62 𝐞₂ + -0.161 𝐞₃ + 8.29 𝐞₁₂ + -0.459 𝐞₁₃ + 0.203 𝐞₂₃)"
      ]
     },
     "execution_count": 23,
     "metadata": {},
     "output_type": "execute_result"
    }
   ],
   "source": [
    "#5.19\n",
    "tangents = blade_split(I, alg)\n",
    "frame = multi_frame(tangents)\n",
    "r_frame = reci_frame(tangents)\n",
    "# pb_frame = [differential(lambda x: P(v, Ix(x)), x, b) for v in frame]\n",
    "A1 = f_(PA)(x)\n",
    "fb = lambda C: differential(fa_(C), x, pb, h=1e-2)\n",
    "fb_A1 = lambda C: differential(f__(C), x, pb, h=1e-2).sp(A1)\n",
    "\n",
    "(\n",
    "    derivative(fb_A1, x, alg, frame=frame, r_frame=r_frame, h=1e-2) +\n",
    "    Pb_(fa_(A1))(x),\n",
    "    fb(A1)\n",
    "    )"
   ]
  },
  {
   "cell_type": "code",
   "execution_count": 24,
   "metadata": {},
   "outputs": [
    {
     "data": {
      "text/plain": [
       "(0.933 𝐞₁ + 3.62 𝐞₂ + -0.069 𝐞₃ + 8.29 𝐞₁₂ + -0.199 𝐞₁₃ + -0.16 𝐞₂₃ + 8.99e-18 𝐞₁₂₃,\n",
       " 2.78e-15 + 1.39e-07 𝐞₁ + 4.27e-07 𝐞₂ + -7.57e-09 𝐞₃ + -1.58e-07 𝐞₁₂ + 3.79e-09 𝐞₁₃ + 3.05e-09 𝐞₂₃,\n",
       " 0.933 𝐞₁ + 3.62 𝐞₂ + -0.069 𝐞₃ + 8.29 𝐞₁₂ + -0.199 𝐞₁₃ + -0.16 𝐞₂₃)"
      ]
     },
     "execution_count": 24,
     "metadata": {},
     "output_type": "execute_result"
    }
   ],
   "source": [
    "#5.20\n",
    "(\n",
    "    derivative(fb_A1, x, alg, frame=frame, r_frame=r_frame, h=1e-2),\n",
    "    P(Pb_(fa_(A1))(x), I),\n",
    "    P(fb(A1), I)\n",
    "    )"
   ]
  },
  {
   "cell_type": "code",
   "execution_count": 25,
   "metadata": {},
   "outputs": [
    {
     "data": {
      "text/plain": [
       "(-3.83, -3.83)"
      ]
     },
     "execution_count": 25,
     "metadata": {},
     "output_type": "execute_result"
    }
   ],
   "source": [
    "#5.21\n",
    "C.sp(fb(A1)), fb_A1(C)"
   ]
  },
  {
   "cell_type": "code",
   "execution_count": 26,
   "metadata": {},
   "outputs": [
    {
     "data": {
      "text/plain": [
       "-5.55e-20 𝐞₃ + 6.11e-05 𝐞₁₂ + -1.47e-06 𝐞₁₃ + -1.18e-06 𝐞₂₃"
      ]
     },
     "execution_count": 26,
     "metadata": {},
     "output_type": "execute_result"
    }
   ],
   "source": [
    "#5.22 quadriple differential, so the truncations...\n",
    "f_vec = lambda a: lambda x: differential(f, x, a, h=1e-3)\n",
    "fa_ = lambda A: adjoint_outermorphism_(f_vec, A, alg, Ix=Ix, h=1e-3)\n",
    "fb = lambda b: differential(fa_(A1), x, b, h=1e-3)\n",
    "P(curl(fb, x, alg, Ix=Ix, h=1e-2), I)"
   ]
  },
  {
   "cell_type": "code",
   "execution_count": 27,
   "metadata": {},
   "outputs": [
    {
     "data": {
      "text/plain": [
       "(-0.434 + -0.0976 𝐞₁ + -0.949 𝐞₂ + 0.507 𝐞₃ + -0.798 𝐞₁₂ + 0.366 𝐞₁₃ + -0.593 𝐞₂₃ + -4.62e-18 𝐞₁₂₃,\n",
       " -0.434 + -0.0976 𝐞₁ + -0.949 𝐞₂ + 0.507 𝐞₃ + -0.798 𝐞₁₂ + 0.366 𝐞₁₃ + -0.593 𝐞₂₃ + -4.62e-18 𝐞₁₂₃)"
      ]
     },
     "execution_count": 27,
     "metadata": {},
     "output_type": "execute_result"
    }
   ],
   "source": [
    "# Even though these two are the same\n",
    "f__(PA(x))(x), f__(A(x))(x)"
   ]
  },
  {
   "cell_type": "code",
   "execution_count": 28,
   "metadata": {},
   "outputs": [
    {
     "data": {
      "text/plain": [
       "(-0.122 𝐞₁ + 0.102 𝐞₂ + 0.0441 𝐞₃ + -0.263 𝐞₁₂ + 0.121 𝐞₁₃ + -0.196 𝐞₂₃ + -8.77e-16 𝐞₁₂₃,\n",
       " -1.39e-06 𝐞₁ + -2.77e-06 𝐞₂ + -3.67e-06 𝐞₃ + 2.31e-19 𝐞₁₂ + -1.06e-19 𝐞₁₃ + 1.71e-19 𝐞₂₃ + -8.76e-16 𝐞₁₂₃)"
      ]
     },
     "execution_count": 28,
     "metadata": {},
     "output_type": "execute_result"
    }
   ],
   "source": [
    "#5.23 The non-tangent part of A contributes to the exterior derivative\n",
    "\n",
    "f__ = lambda A: outermorphism_(f_vec, A, alg, Ix=Ix, h=1e-3)\n",
    "d(lambda x, A: f__(A)(x), x, A(x), alg, Ix, h=1e-2), d(lambda x, A: f__(A)(x), x, PA(x), alg, Ix, h=1e-2)"
   ]
  },
  {
   "cell_type": "code",
   "execution_count": 29,
   "metadata": {},
   "outputs": [
    {
     "data": {
      "text/plain": [
       "(1.33e-17 𝐞₁₂ + -5.86e-18 𝐞₁₃ + 7.67e-18 𝐞₂₃,\n",
       " 2.31e-19 𝐞₁₂ + -1.06e-19 𝐞₁₃ + 1.71e-19 𝐞₂₃)"
      ]
     },
     "execution_count": 29,
     "metadata": {},
     "output_type": "execute_result"
    }
   ],
   "source": [
    "#5.23 How? The vector part contributes nothing\n",
    "\n",
    "f__ = lambda A: outermorphism_(f_vec, A, alg, Ix=Ix, h=1e-3)\n",
    "d(lambda x, A: f__(A)(x), x, a(x), alg, Ix, h=1e-2), d(lambda x, A: f__(A)(x), x, pa(x), alg, Ix, h=1e-2)"
   ]
  },
  {
   "cell_type": "code",
   "execution_count": 30,
   "metadata": {},
   "outputs": [
    {
     "data": {
      "text/plain": [
       "(-0.00415 𝐞₁ + 0.0485 𝐞₂ + -0.0192 𝐞₃ + 4.43e-16 𝐞₁₂₃,\n",
       " 7.04e-07 𝐞₁ + 1.4e-06 𝐞₂ + 1.86e-06 𝐞₃ + 4.43e-16 𝐞₁₂₃)"
      ]
     },
     "execution_count": 30,
     "metadata": {},
     "output_type": "execute_result"
    }
   ],
   "source": [
    "#5.23 The bivector part contributes\n",
    "blade = random_r_blade(2, alg)\n",
    "pblade = P(blade, I)\n",
    "\n",
    "f__ = lambda A: outermorphism_(f_vec, A, alg, Ix=Ix, h=1e-3)\n",
    "d(lambda x, A: f__(A)(x), x, blade, alg, Ix, h=1e-2), d(lambda x, A: f__(A)(x), x, pblade, alg, Ix, h=1e-2)"
   ]
  },
  {
   "cell_type": "code",
   "execution_count": 31,
   "metadata": {},
   "outputs": [
    {
     "data": {
      "text/plain": [
       "[(-0.0498 𝐞₁ + -0.00896 𝐞₂ + -0.373 𝐞₃,\n",
       "  -0.131 𝐞₁ + 0.0577 𝐞₂ + 0.0712 𝐞₃ + -3.77e-22 𝐞₁₂₃,\n",
       "  -0.122 𝐞₁ + 0.0743 𝐞₂ + 0.0065 𝐞₃ + -8.08e-19 𝐞₁₂₃),\n",
       " (-0.00154 𝐞₁ + -0.0551 𝐞₂ + 0.08 𝐞₃,\n",
       "  0.0573 𝐞₁ + -0.2 𝐞₂ + 0.0493 𝐞₃ + -8.16e-19 𝐞₁₂₃,\n",
       "  0.118 𝐞₁ + -0.0258 𝐞₂ + -0.0257 𝐞₃ + -4.09e-16 𝐞₁₂₃)]"
      ]
     },
     "execution_count": 31,
     "metadata": {},
     "output_type": "execute_result"
    }
   ],
   "source": [
    "T = lambda x, A: f__(A)(x)\n",
    "list((inner(blade, r), T(x, inner(blade, r)), o(lambda x: T(x, inner(blade, r)))) for r, o in derivative_gen(x, alg, Ix=nIx, h=1e-3))\n"
   ]
  },
  {
   "cell_type": "code",
   "execution_count": 32,
   "metadata": {},
   "outputs": [
    {
     "data": {
      "text/plain": [
       "[-0.107 𝐞₁ + 0.0206 𝐞₂ + 0.0195 𝐞₃ + -9.13e-19 𝐞₁₂₃,\n",
       " 0.107 𝐞₁ + -0.0206 𝐞₂ + -0.0195 𝐞₃ + -4.08e-16 𝐞₁₂₃]"
      ]
     },
     "execution_count": 32,
     "metadata": {},
     "output_type": "execute_result"
    }
   ],
   "source": [
    "T = lambda x, A: f__(A)(x)\n",
    "list(o(lambda x: T(x, inner(pblade, r))) for r, o in derivative_gen(x, alg, Ix=nIx, h=1e-3))\n"
   ]
  },
  {
   "cell_type": "code",
   "execution_count": 33,
   "metadata": {},
   "outputs": [
    {
     "data": {
      "text/plain": [
       "-1.39e-11 + 1.4e-12 𝐞₁ + 6.93e-12 𝐞₂ + -4.77e-12 𝐞₃ + 3.26e-20 𝐞₁₂ + -7.81e-22 𝐞₁₃ + -6.27e-22 𝐞₂₃"
      ]
     },
     "execution_count": 33,
     "metadata": {},
     "output_type": "execute_result"
    }
   ],
   "source": [
    "#5.24\n",
    "d(lambda x, A: P(A, Ix(x)), x, PA(x), alg, Ix)"
   ]
  },
  {
   "cell_type": "code",
   "execution_count": 34,
   "metadata": {},
   "outputs": [
    {
     "data": {
      "text/plain": [
       "(-1.26 𝐞₁ + -2.42 𝐞₂ + 0.0969 𝐞₃ + -7.96 𝐞₁₂ + 0.427 𝐞₁₃ + -0.176 𝐞₂₃,\n",
       " -1.26 𝐞₁ + -2.42 𝐞₂ + 0.0969 𝐞₃ + -7.96 𝐞₁₂ + 0.427 𝐞₁₃ + -0.176 𝐞₂₃,\n",
       " -1.26 𝐞₁ + -2.42 𝐞₂ + 0.0969 𝐞₃ + -7.96 𝐞₁₂ + 0.427 𝐞₁₃ + -0.176 𝐞₂₃)"
      ]
     },
     "execution_count": 34,
     "metadata": {},
     "output_type": "execute_result"
    }
   ],
   "source": [
    "#5.25\n",
    "fb = lambda C: differential(fa_(C), x, pb, h=1e-3)\n",
    "Pb_ = lambda A: lambda x: differential(lambda a: P(A(x), Ix(a)), x, pb, h=1e-3)\n",
    "Pb_1 = lambda A: lambda x: differential(lambda a: P(A(x), f_(Ix)(a)), x, pb, h=1e-3)\n",
    "P1C = P(C, I1)\n",
    "C_ = lambda x: C - P1C\n",
    "(\n",
    "    fb(C),\n",
    "    Pb_(fa_(C))(x)+ P(fb(C), I),\n",
    "    fb(P1C) + fa_(Pb_1(C_)(x))(x)\n",
    "    )"
   ]
  },
  {
   "cell_type": "code",
   "execution_count": 35,
   "metadata": {},
   "outputs": [
    {
     "data": {
      "text/plain": [
       "(0.00194 𝐞₁₂ + 0.00828 𝐞₁₃ + 0.0902 𝐞₂₃ + -0.944 𝐞₁₂₃,\n",
       " 5.55e-11 𝐞₁ + 1.55e-10 𝐞₂ + -2.66e-12 𝐞₃ + 0.00194 𝐞₁₂ + 0.00829 𝐞₁₃ + 0.0903 𝐞₂₃ + -0.944 𝐞₁₂₃,\n",
       " -5.55e-20 𝐞₃ + 3.95e-06 𝐞₁₂ + -9.49e-08 𝐞₁₃ + -7.61e-08 𝐞₂₃)"
      ]
     },
     "execution_count": 35,
     "metadata": {},
     "output_type": "execute_result"
    }
   ],
   "source": [
    "#5.25b\n",
    "fb = lambda b: differential(fa_(C), x, b, h=1e-3)\n",
    "Pb = lambda b: differential(lambda a: P(fa_(C)(x), Ix(a)), x, b, h=1e-3)\n",
    "(\n",
    "    curl(fb, x, alg, Ix=Ix, h=1e-3), \n",
    "    curl(Pb, x, alg, Ix=Ix, h=1e-3), \n",
    "    P(curl(fb, x, alg, Ix=Ix, h=1e-3), I)\n",
    "    )\n"
   ]
  },
  {
   "cell_type": "code",
   "execution_count": 36,
   "metadata": {},
   "outputs": [
    {
     "data": {
      "text/plain": [
       "(0.00194 𝐞₁₂ + 0.00828 𝐞₁₃ + 0.0902 𝐞₂₃ + -0.943 𝐞₁₂₃,\n",
       " 3.04e-26 𝐞₁ + 6.59e-23 𝐞₂ + -1.58e-24 𝐞₃ + -0.379 𝐞₁₂ + 0.00908 𝐞₁₃ + 0.00729 𝐞₂₃)"
      ]
     },
     "execution_count": 36,
     "metadata": {},
     "output_type": "execute_result"
    }
   ],
   "source": [
    "#5.25c\n",
    "fb = lambda b: differential(fa_(P1C), x, b, h=1e-3)\n",
    "Pb_1 = lambda b: differential(lambda a: P(C_(x), f_(Ix)(a)), x, b, h=1e-3)\n",
    "fa_ = lambda A: adjoint_outermorphism_(f_vec, A, alg, Ix=Ix, h=1e-3)\n",
    "(\n",
    "    curl(fb, x, alg, Ix=Ix, h=1e-3), \n",
    "    fa_(sum(r^o(Pb_1) for r, o in forward_derivative_gen(x, f, alg, Ix, h=1e-3)))(x),\n",
    "    )\n"
   ]
  },
  {
   "cell_type": "code",
   "execution_count": 37,
   "metadata": {},
   "outputs": [
    {
     "data": {
      "text/plain": [
       "(-1.67e-13 𝐞₁ + -1.55e-13 𝐞₂ + 5.18e-16 𝐞₃ + 0.00194 𝐞₁₂ + 0.00853 𝐞₁₃ + 0.0901 𝐞₂₃ + -0.943 𝐞₁₂₃,\n",
       " -1.67e-13 𝐞₁ + -1.55e-13 𝐞₂ + 5.18e-16 𝐞₃ + 0.00194 𝐞₁₂ + 0.00853 𝐞₁₃ + 0.0901 𝐞₂₃ + -0.943 𝐞₁₂₃,\n",
       " 5.55e-11 𝐞₁ + 1.55e-10 𝐞₂ + -2.66e-12 𝐞₃ + 0.00194 𝐞₁₂ + 0.00829 𝐞₁₃ + 0.0903 𝐞₂₃ + -0.944 𝐞₁₂₃,\n",
       " 0.00194 𝐞₁₂ + 0.00828 𝐞₁₃ + 0.0902 𝐞₂₃ + -0.943 𝐞₁₂₃,\n",
       " 0.00194 𝐞₁₂ + 0.00828 𝐞₁₃ + 0.0902 𝐞₂₃ + -0.944 𝐞₁₂₃)"
      ]
     },
     "execution_count": 37,
     "metadata": {},
     "output_type": "execute_result"
    }
   ],
   "source": [
    "#5.26\n",
    "S = lambda A: curl(lambda x: P(A, Ix(x)), x, alg, Ix=Ix, h=1e-3)\n",
    "Pb = lambda b: differential(lambda a: P(fa_(C)(x), Ix(a)), x, b, h=1e-3)\n",
    "fb = lambda C: lambda b: differential(fa_(C), x, b, h=1e-3)\n",
    "(\n",
    "    S(fa_(C)(x)), \n",
    "    curl(lambda a: P(fa_(C)(x), Ix(a)), x, alg, Ix=Ix, h=1e-3), \n",
    "    curl(Pb, x, alg, Ix=Ix, h=1e-3), \n",
    "    curl(fb(P1C), x, alg, Ix=Ix, h=1e-3), \n",
    "    curl(fb(C), x, alg, Ix=Ix, h=1e-3),\n",
    "    )"
   ]
  },
  {
   "cell_type": "code",
   "execution_count": 38,
   "metadata": {},
   "outputs": [
    {
     "data": {
      "text/plain": [
       "(1.11e-16 + 0.428 𝐞₁ + 0.264 𝐞₂ + 0.576 𝐞₃ + 0.164 𝐞₁₂ + 0.678 𝐞₁₃ + 0.198 𝐞₂₃ + 0.474 𝐞₁₂₃,\n",
       " -1.98e-06 𝐞₁₂ + -2.32e-06 𝐞₁₃ + 3.66e-05 𝐞₂₃ + -7.18e-05 𝐞₁₂₃)"
      ]
     },
     "execution_count": 38,
     "metadata": {},
     "output_type": "execute_result"
    }
   ],
   "source": [
    "#5.27\n",
    "C - P1C, curl(fb(C - P1C), x, alg, Ix=Ix, h=1e-3)"
   ]
  },
  {
   "cell_type": "code",
   "execution_count": 39,
   "metadata": {},
   "outputs": [
    {
     "data": {
      "text/plain": [
       "(-0.373 𝐞₁ + 0.613 𝐞₂ + -0.0219 𝐞₃ + 5.77 𝐞₁₂ + -0.118 𝐞₁₃ + -0.14 𝐞₂₃ + 0.528 𝐞₁₂₃,\n",
       " -0.373 𝐞₁ + 0.613 𝐞₂ + -0.0219 𝐞₃ + 5.77 𝐞₁₂ + -0.118 𝐞₁₃ + -0.14 𝐞₂₃ + 0.528 𝐞₁₂₃)"
      ]
     },
     "execution_count": 39,
     "metadata": {},
     "output_type": "execute_result"
    }
   ],
   "source": [
    "#5.29 f: M -> N\n",
    "# Let A be a field on M, also a field on N with a hidden inverse f\n",
    "\n",
    "def forward_curl(F, x, f, alg, Ix, h=1e-6):\n",
    "    return sum(r ^ o(F) for r, o in forward_derivative_gen(x, f, alg, Ix, h))\n",
    "\n",
    "(\n",
    "    curl(fa(A), x, alg, Ix=Ix, h=1e-3),\n",
    "    S(fa(A)(x)) +\n",
    "    fa_(forward_curl(A, x, f, alg, Ix, h=1e-3))(x)\n",
    "    )"
   ]
  },
  {
   "cell_type": "code",
   "execution_count": 40,
   "metadata": {},
   "outputs": [
    {
     "data": {
      "text/plain": [
       "(-0.373 𝐞₁ + 0.613 𝐞₂ + -0.0219 𝐞₃ + 5.77 𝐞₁₂ + -0.138 𝐞₁₃ + -0.111 𝐞₂₃,\n",
       " -0.373 𝐞₁ + 0.613 𝐞₂ + -0.0219 𝐞₃ + 5.77 𝐞₁₂ + -0.138 𝐞₁₃ + -0.111 𝐞₂₃,\n",
       " -0.373 𝐞₁ + 0.613 𝐞₂ + -0.0219 𝐞₃ + 5.77 𝐞₁₂ + -0.138 𝐞₁₃ + -0.111 𝐞₂₃,\n",
       " -0.373 𝐞₁ + 0.613 𝐞₂ + -0.0219 𝐞₃ + 5.77 𝐞₁₂ + -0.118 𝐞₁₃ + -0.14 𝐞₂₃ + 0.528 𝐞₁₂₃)"
      ]
     },
     "execution_count": 40,
     "metadata": {},
     "output_type": "execute_result"
    }
   ],
   "source": [
    "#5.30 cocurl \"commutes\" with adjoint with a pushforward\n",
    "fA = fa(A)\n",
    "(\n",
    "    P(curl(fa(A), x, alg, Ix=Ix, h=1e-3), I), \n",
    "    fa_(forward_curl(A, x, f, alg, Ix, h=1e-3))(x), \n",
    "    sum(fa_(r)(x) ^ P(o(fA), I) for r, o in forward_derivative_gen(x, f, alg, Ix, h=1e-3)),\n",
    "    sum(fa_(r)(x) ^ o(fA) for r, o in forward_derivative_gen(x, f, alg, Ix, h=1e-3)), # Wrong! Need a projection to keep it intrinsic\n",
    "    )"
   ]
  },
  {
   "cell_type": "code",
   "execution_count": 41,
   "metadata": {},
   "outputs": [
    {
     "data": {
      "text/plain": [
       "(1.06 + 3.03 𝐞₁ + -1.72 𝐞₂ + 0.0997 𝐞₃ + -4.08 𝐞₁₂ + 0.0978 𝐞₁₃ + 0.0785 𝐞₂₃,\n",
       " 1.06 + 3.03 𝐞₁ + -1.72 𝐞₂ + 0.0997 𝐞₃ + -4.08 𝐞₁₂ + 0.0978 𝐞₁₃ + 0.0785 𝐞₂₃ + -6.94e-18 𝐞₁₂₃)"
      ]
     },
     "execution_count": 41,
     "metadata": {},
     "output_type": "execute_result"
    }
   ],
   "source": [
    "#5.31\n",
    "nI1 = normalize(I1)\n",
    "Jf = lambda x: norm(f_(nIx)(x))\n",
    "fa_(f_(A)(x) * nI1)(x), Jf(x) * PA(x) * nI"
   ]
  },
  {
   "cell_type": "code",
   "execution_count": 42,
   "metadata": {},
   "outputs": [
    {
     "data": {
      "text/plain": [
       "(0.786 + -2.55 𝐞₁ + 6.02 𝐞₂ + -0.869 𝐞₃ + 3.01e-05 𝐞₁₂ + 4.19e-05 𝐞₁₃ + -1.52e-05 𝐞₂₃,\n",
       " 0.786 + -2.55 𝐞₁ + 6.02 𝐞₂ + -0.868 𝐞₃ + -2.31e-19 𝐞₁₂ + 1.06e-19 𝐞₁₃ + -1.71e-19 𝐞₂₃ + 2.28e-17 𝐞₁₂₃,\n",
       " 0.786 + -2.55 𝐞₁ + 6.02 𝐞₂ + -0.868 𝐞₃ + -2.31e-19 𝐞₁₂ + 1.06e-19 𝐞₁₃ + -1.71e-19 𝐞₂₃ + 2.28e-17 𝐞₁₂₃)"
      ]
     },
     "execution_count": 42,
     "metadata": {},
     "output_type": "execute_result"
    }
   ],
   "source": [
    "#5.32a\n",
    "codiv_ = lambda A: codiv(A, x, alg, Ix=Ix, h=1e-3)\n",
    "cocurl_ = lambda A: cocurl(A, x, alg, Ix=Ix, h=1e-3)\n",
    "(\n",
    "    sum(inner(r, o(f_(PA))) for r, o in forward_derivative_gen(x, f, alg, Ix, h=1e-2)),\n",
    "    f__(codiv_(lambda x: Jf(x)*PA(x))/Jf(x))(x),\n",
    "    f__(codiv_(PA) + inner(cocurl_(lambda x: np.log(Jf(x))),PA(x)))(x)\n",
    "    )"
   ]
  },
  {
   "cell_type": "code",
   "execution_count": 43,
   "metadata": {},
   "outputs": [
    {
     "data": {
      "text/plain": [
       "(0.786 + -2.55 𝐞₁ + 6.02 𝐞₂ + -0.869 𝐞₃ + 3.01e-05 𝐞₁₂ + 4.19e-05 𝐞₁₃ + -1.52e-05 𝐞₂₃,\n",
       " 0.786 + -2.55 𝐞₁ + 6.02 𝐞₂ + -0.868 𝐞₃ + -2.31e-19 𝐞₁₂ + 1.06e-19 𝐞₁₃ + -1.71e-19 𝐞₂₃ + 2.28e-17 𝐞₁₂₃,\n",
       " 0.786 + -2.55 𝐞₁ + 6.02 𝐞₂ + -0.868 𝐞₃ + -2.31e-19 𝐞₁₂ + 1.06e-19 𝐞₁₃ + -1.71e-19 𝐞₂₃ + 2.28e-17 𝐞₁₂₃)"
      ]
     },
     "execution_count": 43,
     "metadata": {},
     "output_type": "execute_result"
    }
   ],
   "source": [
    "#5.32b\n",
    "div_ = lambda A: div(A, x, alg, Ix=Ix, h=1e-3)\n",
    "curl_ = lambda A: curl(A, x, alg, Ix=Ix, h=1e-3)\n",
    "(\n",
    "    sum(inner(r, o(f_(PA))) for r, o in forward_derivative_gen(x, f, alg, Ix, h=1e-2)),\n",
    "    f__(div_(lambda x: Jf(x)*PA(x))/Jf(x))(x),\n",
    "    f__(div_(PA) + inner(curl_(lambda x: np.log(Jf(x))),PA(x)))(x)\n",
    "    )"
   ]
  },
  {
   "cell_type": "code",
   "execution_count": 44,
   "metadata": {},
   "outputs": [
    {
     "data": {
      "text/plain": [
       "(-0.512 + 0.404 𝐞₁ + -0.268 𝐞₂ + -0.177 𝐞₃ + -1.47e-18 𝐞₁₂ + 3.01e-18 𝐞₁₃ + -2.64e-18 𝐞₂₃,\n",
       " -0.512 + 0.404 𝐞₁ + -0.268 𝐞₂ + -0.177 𝐞₃ + -1.07e-17 𝐞₁₂ + 4.93e-18 𝐞₁₃ + -7.98e-18 𝐞₂₃ + -4.22e-19 𝐞₁₂₃)"
      ]
     },
     "execution_count": 44,
     "metadata": {},
     "output_type": "execute_result"
    }
   ],
   "source": [
    "#5.33\n",
    "inner(b, f_(A)(x)), f__(inner(fa_(b)(x), A(x)))(x)"
   ]
  },
  {
   "cell_type": "code",
   "execution_count": 45,
   "metadata": {},
   "outputs": [
    {
     "data": {
      "text/plain": [
       "(0.296 + -2.0 𝐞₁ + 6.05 𝐞₂ + -1.29 𝐞₃ + 2.33e-05 𝐞₁₂ + 1.71e-05 𝐞₁₃ + -2.09e-05 𝐞₂₃,\n",
       " 0.296 + -2.0 𝐞₁ + 6.05 𝐞₂ + -1.29 𝐞₃ + 3.52e-17 𝐞₁₂ + -1.61e-17 𝐞₁₃ + 2.61e-17 𝐞₂₃ + 2.41e-17 𝐞₁₂₃)"
      ]
     },
     "execution_count": 45,
     "metadata": {},
     "output_type": "execute_result"
    }
   ],
   "source": [
    "#5.34 codiv \"commutes\" with outermorphism also with a pushforward but on the LHS\n",
    "(\n",
    "    sum(inner(r, f__(o(A))(x)) for r, o in forward_derivative_gen(x, f, alg, Ix)),\n",
    "    f__(codiv_(A))(x)\n",
    "    )"
   ]
  },
  {
   "cell_type": "code",
   "execution_count": 46,
   "metadata": {},
   "outputs": [
    {
     "data": {
      "text/plain": [
       "(0.523 + -0.455 𝐞₁ + -0.145 𝐞₂ + 0.405 𝐞₃ + 6.87e-06 𝐞₁₂ + 2.56e-05 𝐞₁₃ + 5.93e-06 𝐞₂₃,\n",
       " 0.523 + -0.455 𝐞₁ + -0.145 𝐞₂ + 0.405 𝐞₃ + -2.58e-17 𝐞₁₂ + 1.18e-17 𝐞₁₃ + -1.92e-17 𝐞₂₃ + -1.61e-18 𝐞₁₂₃,\n",
       " 0.523 + -0.455 𝐞₁ + -0.145 𝐞₂ + 0.405 𝐞₃ + 1.77e-05 𝐞₁₂ + 3.3e-05 𝐞₁₃ + -3.4e-06 𝐞₂₃)"
      ]
     },
     "execution_count": 46,
     "metadata": {},
     "output_type": "execute_result"
    }
   ],
   "source": [
    "#5.35\n",
    "def forward_curl(F, x, f, alg, Ix, h=1e-3):\n",
    "    return sum(r ^ o(F) for r, o in forward_derivative_gen(x, f, alg, Ix, h=h))\n",
    "\n",
    "def forward_div(F, x, f, alg, Ix, h=1e-3):\n",
    "    return sum(inner(r, o(F)) for r, o in forward_derivative_gen(x, f, alg, Ix, h=1e-3))\n",
    "(\n",
    "    forward_div(f__(PA(x)), x, f, alg, Ix),\n",
    "    f__(inner(curl_(lambda x: np.log(Jf(x))), A(x)))(x),\n",
    "    inner(forward_curl(lambda x: np.log(Jf(x)), x, f, alg, Ix), f_(A)(x)),\n",
    ")"
   ]
  },
  {
   "cell_type": "code",
   "execution_count": 47,
   "metadata": {},
   "outputs": [
    {
     "data": {
      "text/plain": [
       "(2.92 + -0.282 𝐞₁ + 0.687 𝐞₂ + 1.48 𝐞₃ + -0.779 𝐞₁₂ + 0.624 𝐞₁₃ + -1.16 𝐞₂₃ + 2.04 𝐞₁₂₃,\n",
       " 2.33 + -0.0953 𝐞₁ + -0.925 𝐞₂ + 0.495 𝐞₃ + 0.247 𝐞₁₂ + 0.463 𝐞₁₃ + -0.0476 𝐞₂₃ + 0.599 𝐞₁₂₃,\n",
       " 2.33 + -0.0953 𝐞₁ + -0.925 𝐞₂ + 0.495 𝐞₃ + 0.247 𝐞₁₂ + 0.463 𝐞₁₃ + -0.0476 𝐞₂₃ + 0.599 𝐞₁₂₃,\n",
       " 2.33 + 2.62 𝐞₁ + 1.12 𝐞₂ + -1.09 𝐞₃ + -2.02 𝐞₁₂ + 0.541 𝐞₁₃ + -0.635 𝐞₂₃ + 0.599 𝐞₁₂₃)"
      ]
     },
     "execution_count": 47,
     "metadata": {},
     "output_type": "execute_result"
    }
   ],
   "source": [
    "#5.36 simplify to differential only when A is a vector\n",
    "(   \n",
    "    differential(G, f(x), f_(A)(x), h=1e-3), \n",
    "    differential(G, f(x), f_(a)(x), h=1e-3), \n",
    "    sum(f__(alg.sp(r, a(x)))(x) * o(F) for r, o in derivative_gen(x, alg, Ix=Ix, h=1e-3)),\n",
    "    sum(f__(inner(A(x), r))(x) * o(F) for r, o in derivative_gen(x, alg, Ix=Ix, h=1e-3))\n",
    "    )"
   ]
  },
  {
   "cell_type": "code",
   "execution_count": 48,
   "metadata": {},
   "outputs": [
    {
     "data": {
      "text/plain": [
       "(2.33 + 2.62 𝐞₁ + 1.12 𝐞₂ + -1.09 𝐞₃ + -2.02 𝐞₁₂ + 0.541 𝐞₁₃ + -0.635 𝐞₂₃ + 0.599 𝐞₁₂₃,\n",
       " 2.33 + 2.62 𝐞₁ + 1.12 𝐞₂ + -1.09 𝐞₃ + -2.02 𝐞₁₂ + 0.541 𝐞₁₃ + -0.635 𝐞₂₃ + 0.599 𝐞₁₂₃,\n",
       " 2.33 + 2.62 𝐞₁ + 1.12 𝐞₂ + -1.09 𝐞₃ + -2.02 𝐞₁₂ + 0.541 𝐞₁₃ + -0.635 𝐞₂₃ + 0.599 𝐞₁₂₃)"
      ]
     },
     "execution_count": 48,
     "metadata": {},
     "output_type": "execute_result"
    }
   ],
   "source": [
    "#5.36\n",
    "(\n",
    "    sum(inner(f__(A(x))(x), r) * o(G) for r, o in f_derivative_gen(x, f, alg, Ix, h=1e-3)),\n",
    "    sum(inner(f__(A(x))(x), r) * o(F) for r, o in forward_derivative_gen(x, f, alg, Ix, h=1e-3)),\n",
    "    sum(f__(inner(A(x), r))(x) * o(F) for r, o in derivative_gen(x, alg, Ix=Ix, h=1e-3))\n",
    "    )"
   ]
  },
  {
   "cell_type": "code",
   "execution_count": 49,
   "metadata": {},
   "outputs": [
    {
     "data": {
      "text/plain": [
       "(0.441 + 0.921 𝐞₁ + 0.256 𝐞₂ + -0.802 𝐞₃ + 3.04 𝐞₁₂ + -1.39 𝐞₁₃ + 2.26 𝐞₂₃ + 3.08e-18 𝐞₁₂₃,\n",
       " 0.441 + 0.926 𝐞₁ + 0.271 𝐞₂ + -0.812 𝐞₃ + 3.1 𝐞₁₂ + -1.42 𝐞₁₃ + 2.3 𝐞₂₃ + 0.000112 𝐞₁₂₃,\n",
       " 0.441 + 0.926 𝐞₁ + 0.271 𝐞₂ + -0.812 𝐞₃ + 3.1 𝐞₁₂ + -1.42 𝐞₁₃ + 2.3 𝐞₂₃ + 3.16e-18 𝐞₁₂₃,\n",
       " 0.441 + 0.926 𝐞₁ + 0.271 𝐞₂ + -0.812 𝐞₃ + 3.1 𝐞₁₂ + -1.42 𝐞₁₃ + 2.3 𝐞₂₃ + 0.000112 𝐞₁₂₃)"
      ]
     },
     "execution_count": 49,
     "metadata": {},
     "output_type": "execute_result"
    }
   ],
   "source": [
    "#5.37 holds for tangent fields\n",
    "B = lambda x: (C*x+D)**2\n",
    "def forward_lie_bracket(A, B, f, alg, Ix, h=1e-6):\n",
    "    return lambda x: sum((inner(A(x),r)^o(B)) - (o(A)^inner(r,B(x))) for r, o in forward_derivative_gen(x, f, alg, Ix, h))\n",
    "\n",
    "PB = lambda x: P(B(x), Ix(x))\n",
    "\n",
    "(\n",
    "    f_(lie_bracket(A, B, alg, Ix))(x), \n",
    "    forward_lie_bracket(f_(A), f_(B), f, alg, Ix, h=1e-3)(x), \n",
    "    f_(lie_bracket(PA, PB, alg, Ix))(x), \n",
    "    forward_lie_bracket(f_(PA), f_(PB), f, alg, Ix, h=1e-3)(x)\n",
    "    )"
   ]
  },
  {
   "cell_type": "code",
   "execution_count": 50,
   "metadata": {},
   "outputs": [
    {
     "data": {
      "text/plain": [
       "(1.16e-07 + 5.47 𝐞₁₂ + -0.131 𝐞₁₃ + -0.105 𝐞₂₃,\n",
       " 1.49e-17 + 5.44 𝐞₁₂ + -0.131 𝐞₁₃ + -0.105 𝐞₂₃)"
      ]
     },
     "execution_count": 50,
     "metadata": {},
     "output_type": "execute_result"
    }
   ],
   "source": [
    "#5.39\n",
    "r = 1\n",
    "s = 2\n",
    "P1B = lambda x: P(B(x), f_(Ix)(x))\n",
    "Ar = lambda x: PA(x).grade(r)\n",
    "Bs = lambda x: P1B(x).grade(s)\n",
    "\n",
    "def forward_dual_bracket(A, B, f, alg, nIx, h=1e-6):\n",
    "    # nIx: normalized pseudoscalar\n",
    "    f_vec = lambda a: lambda x: differential(f, x, a)\n",
    "    f_ = lambda A: outermorphism(f_vec, A, alg, Ix=Ix)\n",
    "    nIx = lambda x: normalize(Ix(x))\n",
    "    return lambda x: forward_lie_bracket(A, lambda x: B(x)*f_(nIx)(x), f, alg, nIx, h)(x) * inv(f_(nIx)(x))\n",
    "(\n",
    "    fa(forward_dual_bracket(f_(Ar), Bs, f, alg, nIx, h=1e-3))(x),\n",
    "    dual_bracket(Ar, fa(Bs), alg, nIx, h=1e-3)(x) -\n",
    "    inner(inner(Ar(x), cocurl_(lambda x: np.log(Jf(x)))), fa(Bs)(x))\n",
    ")"
   ]
  },
  {
   "cell_type": "code",
   "execution_count": 51,
   "metadata": {},
   "outputs": [
    {
     "data": {
      "text/plain": [
       "(-0.2716784730617152,\n",
       " array([-3.68082163, -3.68082163, -3.68082163]),\n",
       " array([ 8.57262354, -0.22564944,  0.26457783]))"
      ]
     },
     "execution_count": 51,
     "metadata": {},
     "output_type": "execute_result"
    }
   ],
   "source": [
    "#6.1\n",
    "s = lambda x: ((C + D*x) ** 2)[0]\n",
    "f = lambda x: s(x)*x\n",
    "s(x), terms_ratio(x, f(x)), terms_ratio(Ix(x), f_(Ix)(x))"
   ]
  },
  {
   "cell_type": "code",
   "execution_count": 52,
   "metadata": {},
   "outputs": [
    {
     "data": {
      "text/plain": [
       "(-0.0131 𝐞₁₂ + -0.012 𝐞₁₃ + 0.0082 𝐞₂₃,\n",
       " -0.0131 𝐞₁₂ + -0.012 𝐞₁₃ + 0.0082 𝐞₂₃,\n",
       " -0.0131 𝐞₁₂ + -0.012 𝐞₁₃ + 0.0082 𝐞₂₃)"
      ]
     },
     "execution_count": 52,
     "metadata": {},
     "output_type": "execute_result"
    }
   ],
   "source": [
    "#6.2\n",
    "r = 2\n",
    "Ar = lambda x: A(x).grade(r)\n",
    "PAr = P(Ar(x), I)\n",
    "(\n",
    "    f_(Ar)(x), \n",
    "    (s(x) ** r * PAr) + (s(x)**(r-1) * sum((PAr|r) * o(s) for r, o in derivative_gen(x, alg, Ix=Ix)) ^ x),\n",
    "    s(x)** r * (PAr + (sum((PAr|r) * o(lambda x: np.log(abs(s(x)))) for r, o in derivative_gen(x, alg, Ix=Ix)) ^ x))\n",
    "    )"
   ]
  },
  {
   "cell_type": "code",
   "execution_count": 53,
   "metadata": {},
   "outputs": [
    {
     "data": {
      "text/plain": [
       "(0.326 𝐞₁₂ + 0.297 𝐞₁₃ + -0.203 𝐞₂₃,\n",
       " 0.326 𝐞₁₂ + 0.297 𝐞₁₃ + -0.203 𝐞₂₃,\n",
       " 0.206 𝐞₁₂ + -0.00495 𝐞₁₃ + -0.00397 𝐞₂₃,\n",
       " 0.12 𝐞₁₂ + 0.302 𝐞₁₃ + -0.199 𝐞₂₃)"
      ]
     },
     "execution_count": 53,
     "metadata": {},
     "output_type": "execute_result"
    }
   ],
   "source": [
    "#6.2 on Ix\n",
    "(\n",
    "    f_(Ix)(x), \n",
    "    (s(x) ** r * I) + (s(x)**(r-1) * sum((I|r) * o(s) for r, o in derivative_gen(x, alg, Ix=Ix)) ^ x),\n",
    "    (s(x) ** r * I), (s(x)**(r-1) * sum((I|r) * o(s) for r, o in derivative_gen(x, alg, Ix=Ix)) ^ x),\n",
    "    )"
   ]
  },
  {
   "cell_type": "code",
   "execution_count": 54,
   "metadata": {},
   "outputs": [
    {
     "data": {
      "text/plain": [
       "(0.0926 𝐞₁₂ + -0.00222 𝐞₁₃ + -0.00178 𝐞₂₃,\n",
       " 0.0926 𝐞₁₂ + -0.00222 𝐞₁₃ + -0.00178 𝐞₂₃)"
      ]
     },
     "execution_count": 54,
     "metadata": {},
     "output_type": "execute_result"
    }
   ],
   "source": [
    "#6.3\n",
    "(\n",
    "    fa(Ar)(x), \n",
    "    (s(x) ** r * PAr) + (s(x)**(r-1) * derivative(s, x, alg, Ix=Ix) ^ P(x|Ar(x), I)),\n",
    "    )"
   ]
  },
  {
   "cell_type": "code",
   "execution_count": 55,
   "metadata": {},
   "outputs": [
    {
     "data": {
      "text/plain": [
       "(1.0 𝐞₁₂ + -0.024 𝐞₁₃ + -0.0192 𝐞₂₃,\n",
       " 1.0 𝐞₁₂ + -0.024 𝐞₁₃ + -0.0192 𝐞₂₃,\n",
       " 1.0 𝐞₁₂ + -0.024 𝐞₁₃ + -0.0192 𝐞₂₃)"
      ]
     },
     "execution_count": 55,
     "metadata": {},
     "output_type": "execute_result"
    }
   ],
   "source": [
    "#6.4 central projection (normalization)\n",
    "s = lambda x: 1/norm(x) # so f(x) = normalize(x)\n",
    "I1x = lambda x: f(x) * e123\n",
    "n = lambda x: -e123 * nIx(x)\n",
    "nI, n(x) * e123, e123*n(x)"
   ]
  },
  {
   "cell_type": "code",
   "execution_count": 56,
   "metadata": {},
   "outputs": [
    {
     "data": {
      "text/plain": [
       "(0.492 𝐞₁₂ + -0.295 𝐞₁₃ + -0.152 𝐞₂₃,\n",
       " -0.492 𝐞₁₂ + 0.295 𝐞₁₃ + 0.152 𝐞₂₃,\n",
       " 0.492 𝐞₁₂ + -0.295 𝐞₁₃ + -0.152 𝐞₂₃)"
      ]
     },
     "execution_count": 56,
     "metadata": {},
     "output_type": "execute_result"
    }
   ],
   "source": [
    "#6.5a The Jf in our example indicates an opposite orientation\n",
    "f_(nIx)(x), Jf(x)*I1x(x), (s(x) ** 2 * nI ) + ((s(x)*nI*derivative(s, x, alg, Ix=Ix)) ^ x)"
   ]
  },
  {
   "cell_type": "code",
   "execution_count": 57,
   "metadata": {},
   "outputs": [
    {
     "data": {
      "text/plain": [
       "(-0.152 𝐞₁ + 0.295 𝐞₂ + 0.492 𝐞₃,\n",
       " 0.152 𝐞₁ + -0.295 𝐞₂ + -0.492 𝐞₃,\n",
       " -0.152 𝐞₁ + 0.295 𝐞₂ + 0.492 𝐞₃)"
      ]
     },
     "execution_count": 57,
     "metadata": {},
     "output_type": "execute_result"
    }
   ],
   "source": [
    "#6.5b\n",
    "f_(nIx)(x)*e123.reverse(), Jf(x)*normalize(x), (s(x) ** 2 * n(x) ) + ((s(x)*n(x)^derivative(s, x, alg, Ix=Ix)) | x)"
   ]
  },
  {
   "cell_type": "code",
   "execution_count": 58,
   "metadata": {},
   "outputs": [
    {
     "data": {
      "text/plain": [
       "(-0.0324 𝐞₁ + 0.0404 𝐞₂ + 1.69 𝐞₃, 0.0324 𝐞₁ + -0.0404 𝐞₂ + -1.69 𝐞₃)"
      ]
     },
     "execution_count": 58,
     "metadata": {},
     "output_type": "execute_result"
    }
   ],
   "source": [
    "#6.6 The f-inverse from S to M is just x -> x/s(x)\n",
    "x_ = f(x)\n",
    "\n",
    "n(x)/Jf(x), (s(x) ** (-2) * x_ ) + ((x_^forward_curl(lambda x: 1/s(x), x, f, alg, Ix=Ix)) | x_)/s(x)"
   ]
  },
  {
   "cell_type": "code",
   "execution_count": 59,
   "metadata": {},
   "outputs": [
    {
     "data": {
      "text/plain": [
       "(0.5931313988825759, 0.5931269175909278, -0.593)"
      ]
     },
     "execution_count": 59,
     "metadata": {},
     "output_type": "execute_result"
    }
   ],
   "source": [
    "#6.7 terms in the RHS of 6.6 are perpendicular, so square and sum\n",
    "fc = forward_curl(lambda x: 1/s(x), x, f, alg, Ix=Ix)\n",
    "Jf(x), 1/np.sqrt(((s(x) ** (-4)) + (s(x)**(-2)*fc**2))[0]), s(x) ** 2 * n(x) | x_"
   ]
  },
  {
   "cell_type": "code",
   "execution_count": 60,
   "metadata": {},
   "outputs": [
    {
     "data": {
      "text/plain": [
       "(-0.0223 𝐞₁₂ + 0.0453 𝐞₁₃ + 0.0229 𝐞₂₃,\n",
       " -0.0238 𝐞₁₂ + 0.000572 𝐞₁₃ + 0.000459 𝐞₂₃)"
      ]
     },
     "execution_count": 60,
     "metadata": {},
     "output_type": "execute_result"
    }
   ],
   "source": [
    "#6.9 inversion\n",
    "s = lambda x: 1/(x**2)[0]\n",
    "Ar = lambda x: PA(x).grade(r)\n",
    "f_(Ar)(x), fa(Ar)(x) # not equal for all manifolds"
   ]
  },
  {
   "cell_type": "code",
   "execution_count": 61,
   "metadata": {},
   "outputs": [
    {
     "data": {
      "text/plain": [
       "(-0.236 𝐞₁₂ + -0.186 𝐞₁₃ + 0.272 𝐞₂₃, -0.236 𝐞₁₂ + -0.186 𝐞₁₃ + 0.272 𝐞₂₃)"
      ]
     },
     "execution_count": 61,
     "metadata": {},
     "output_type": "execute_result"
    }
   ],
   "source": [
    "# But on Euclidean space\n",
    "Ix = lambda x: e123\n",
    "f_(Ar)(x), fa(Ar)(x)"
   ]
  },
  {
   "cell_type": "code",
   "execution_count": 62,
   "metadata": {},
   "outputs": [
    {
     "data": {
      "text/plain": [
       "1.39e-11 𝐞₁₂ + -1.39e-11 𝐞₁₃ + 5.55e-11 𝐞₂₃"
      ]
     },
     "execution_count": 62,
     "metadata": {},
     "output_type": "execute_result"
    }
   ],
   "source": [
    "# inversion is curl free\n",
    "curl(f, x, alg, grade=1)"
   ]
  },
  {
   "cell_type": "code",
   "execution_count": 63,
   "metadata": {},
   "outputs": [
    {
     "data": {
      "text/plain": [
       "(0.684 + 0.524 𝐞₁ + 0.771 𝐞₂ + -0.202 𝐞₃ + 0.474 𝐞₁₂ + 0.273 𝐞₁₃ + 0.834 𝐞₂₃ + 0.342 𝐞₁₂₃,\n",
       " 0.684 + 0.524 𝐞₁ + 0.771 𝐞₂ + -0.202 𝐞₃ + 0.474 𝐞₁₂ + 0.273 𝐞₁₃ + 0.834 𝐞₂₃ + 0.342 𝐞₁₂₃,\n",
       " 2.93 + 0.807 𝐞₁ + 0.983 𝐞₂ + -0.481 𝐞₃ + 0.571 𝐞₁₂ + 0.451 𝐞₁₃ + 1.22 𝐞₂₃ + 1.46 𝐞₁₂₃,\n",
       " 2.93 + 0.806 𝐞₁ + 0.982 𝐞₂ + -0.481 𝐞₃ + 0.571 𝐞₁₂ + 0.451 𝐞₁₃ + 1.22 𝐞₂₃ + 1.46 𝐞₁₂₃)"
      ]
     },
     "execution_count": 63,
     "metadata": {},
     "output_type": "execute_result"
    }
   ],
   "source": [
    "#6.10\n",
    "def forward_derivative(F, x, f, alg, Ix, h=1e-3):\n",
    "    return sum(r * o(F) for r, o in forward_derivative_gen(x, f, alg, Ix, h=1e-3))\n",
    "\n",
    "(\n",
    "    derivative(F, x, alg, grade=1), \n",
    "    sum(-x.sw(r)/(x**4)[0] * o(F) for r, o in forward_derivative_gen(x, f, alg, Ix, h=1e-3)),\n",
    "    forward_derivative(F, x, f, alg, Ix),\n",
    "    sum(-x.sw(r) * o(F) for r, o in derivative_gen(x, alg, Ix=Ix, h=1e-3))\n",
    "    )"
   ]
  },
  {
   "cell_type": "code",
   "execution_count": 64,
   "metadata": {},
   "outputs": [
    {
     "data": {
      "text/plain": [
       "(2.82 + -0.293 𝐞₁ + 0.57 𝐞₂ + 0.95 𝐞₃ + 0.475 𝐞₁₂ + -0.285 𝐞₁₃ + -0.146 𝐞₂₃ + -0.0736 𝐞₁₂₃,\n",
       " 1.58 + 1.7 𝐞₁ + -0.401 𝐞₂ + -3.47 𝐞₃ + -0.637 𝐞₁₂ + 1.53 𝐞₁₃ + 1.71 𝐞₂₃ + 0.0958 𝐞₁₂₃,\n",
       " 2.94 + 0.157 𝐞₁ + -0.117 𝐞₂ + -0.184 𝐞₃ + 0.0248 𝐞₁₂ + 0.111 𝐞₁₃ + 0.123 𝐞₂₃ + 0.0475 𝐞₁₂₃,\n",
       " 2.8 + -0.336 𝐞₁ + 0.479 𝐞₂ + 1.04 𝐞₃ + 0.504 𝐞₁₂ + -0.351 𝐞₁₃ + -0.243 𝐞₂₃ + -0.0261 𝐞₁₂₃)"
      ]
     },
     "execution_count": 64,
     "metadata": {},
     "output_type": "execute_result"
    }
   ],
   "source": [
    "#6.11 It's wrong because the derivative measures several nearby points around x, \n",
    "# but not directly on x, so no direct cancellation of x\n",
    "deriv_ = lambda F: lambda x: derivative(F, x, alg, Ix=Ix, h=1e-3)\n",
    "f_deriv_ = lambda F: lambda x: sum(r/(x**4)[0] * o(F) for r, o in forward_derivative_gen(x, f, alg, Ix, h=1e-3))\n",
    "forward_deriv_ = lambda F: lambda x: sum(r * o(F) for r, o in forward_derivative_gen(x, f, alg, Ix, h=1e-3))\n",
    "ff_deriv_ = lambda F: lambda x: sum(-x.sw(r)/(x**4)[0] * o(F) for r, o in forward_derivative_gen(x, f, alg, Ix, h=1e-3))\n",
    "\n",
    "(\n",
    "    deriv_(deriv_(F))(x), \n",
    "    f_deriv_(f_deriv_(F))(x), \n",
    "    forward_deriv_(forward_deriv_(F))(x)/(x**4)[0], \n",
    "    ff_deriv_(ff_deriv_(F))(x)\n",
    "    )"
   ]
  },
  {
   "cell_type": "code",
   "execution_count": 65,
   "metadata": {},
   "outputs": [
    {
     "data": {
      "text/plain": [
       "(0.34512491747611357, -0.345, -0.34512494149178446)"
      ]
     },
     "execution_count": 65,
     "metadata": {},
     "output_type": "execute_result"
    }
   ],
   "source": [
    "#6.12\n",
    "Jf(x), -e123*f__(e123)(x), -1/(x**6)[0]"
   ]
  },
  {
   "cell_type": "code",
   "execution_count": 66,
   "metadata": {},
   "outputs": [],
   "source": [
    "def Ix(x):\n",
    "    p = np.arctan((4/5)*x.e2/x.e1)\n",
    "    t = np.arccos(x.e3)\n",
    "    return e_p(p, t) ^ e_t(p, t)"
   ]
  },
  {
   "cell_type": "code",
   "execution_count": 67,
   "metadata": {},
   "outputs": [
    {
     "data": {
      "text/plain": [
       "(-0.434 + -0.204 𝐞₁ + -0.491 𝐞₂ + -0.0396 𝐞₃ + -0.159 𝐞₁₂ + -0.00831 𝐞₁₃ + 0.0109 𝐞₂₃ + -8.01e-19 𝐞₁₂₃,\n",
       " -0.434 + -0.204 𝐞₁ + -0.491 𝐞₂ + -0.0396 𝐞₃ + -0.159 𝐞₁₂ + -0.00831 𝐞₁₃ + 0.0109 𝐞₂₃ + -3.26e-19 𝐞₁₂₃)"
      ]
     },
     "execution_count": 67,
     "metadata": {},
     "output_type": "execute_result"
    }
   ],
   "source": [
    "#6.14\n",
    "n = normalize(random_r_blade(1, alg))\n",
    "s = lambda x: ((C + D*x) ** 2)[0]\n",
    "f = lambda x: x + n*s(x)\n",
    "ds = derivative(s, x, alg, Ix=Ix)\n",
    "f_(A)(x), PA(x) + (inner(PA(x),ds) ^ n)"
   ]
  },
  {
   "cell_type": "code",
   "execution_count": 68,
   "metadata": {},
   "outputs": [
    {
     "data": {
      "text/plain": [
       "(-0.434 + -0.29 𝐞₁ + -0.488 𝐞₂ + 0.00612 𝐞₃ + -0.0549 𝐞₁₂ + 0.00132 𝐞₁₃ + 0.00106 𝐞₂₃,\n",
       " -0.434 + -0.29 𝐞₁ + -0.488 𝐞₂ + 0.00612 𝐞₃ + -0.0549 𝐞₁₂ + 0.00132 𝐞₁₃ + 0.00106 𝐞₂₃)"
      ]
     },
     "execution_count": 68,
     "metadata": {},
     "output_type": "execute_result"
    }
   ],
   "source": [
    "#6.15\n",
    "fa(A)(x), P(A(x) + (ds ^ inner(n, A(x))), I)"
   ]
  },
  {
   "cell_type": "code",
   "execution_count": 69,
   "metadata": {},
   "outputs": [
    {
     "data": {
      "text/plain": [
       "(1.41 + 0.00374 𝐞₁₂ + 0.0695 𝐞₁₃ + 0.108 𝐞₂₃,\n",
       " 1.41 + 0.00374 𝐞₁₂ + 0.0695 𝐞₁₃ + 0.108 𝐞₂₃)"
      ]
     },
     "execution_count": 69,
     "metadata": {},
     "output_type": "execute_result"
    }
   ],
   "source": [
    "#6.16 because s is scalar, ds is tangent\n",
    "Pn = P(n,I)\n",
    "Kf = nI.reverse() * f__(nI)(x)\n",
    "Kf, 1 + differential(s, x, Pn) + (ds^(n - Pn))\n"
   ]
  },
  {
   "cell_type": "code",
   "execution_count": 70,
   "metadata": {},
   "outputs": [
    {
     "data": {
      "text/plain": [
       "(2.009547859150122,\n",
       " 2.009547793220037,\n",
       " 2.01 + -6.62e-22 𝐞₁₂ + -6.04e-20 𝐞₁₃ + 3.44e-20 𝐞₂₃)"
      ]
     },
     "execution_count": 70,
     "metadata": {},
     "output_type": "execute_result"
    }
   ],
   "source": [
    "#6.17 Kf**2 = (Ir * f_(I))r * Ir * f_(I) = f_(I)r * f_(I) = Jf**2\n",
    "normsq(Kf), Jf(x) ** 2, (1 + differential(s, x, Pn))**2 + ds**2 * normsq(nI ^n)"
   ]
  },
  {
   "cell_type": "code",
   "execution_count": 71,
   "metadata": {},
   "outputs": [
    {
     "data": {
      "text/plain": [
       "(2.35 + 0.826 𝐞₁ + 0.132 𝐞₂ + -0.0826 𝐞₃ + 0.23 𝐞₁₂ + 0.585 𝐞₁₃ + 1.3 𝐞₂₃ + 1.18 𝐞₁₂₃,\n",
       " 2.35 + 0.826 𝐞₁ + 0.132 𝐞₂ + -0.0826 𝐞₃ + 0.23 𝐞₁₂ + 0.585 𝐞₁₃ + 1.3 𝐞₂₃ + 1.18 𝐞₁₂₃,\n",
       " 2.35 + 0.826 𝐞₁ + 0.132 𝐞₂ + -0.0826 𝐞₃ + 0.23 𝐞₁₂ + 0.585 𝐞₁₃ + 1.3 𝐞₂₃ + 1.18 𝐞₁₂₃)"
      ]
     },
     "execution_count": 71,
     "metadata": {},
     "output_type": "execute_result"
    }
   ],
   "source": [
    "#6.18\n",
    "(\n",
    "    deriv_(F)(x), \n",
    "    sum(fa_(r)(x) * o(F) for r, o in forward_derivative_gen(x, f, alg, Ix, h=1e-3)),\n",
    "    sum(P(r + ds * (n|r), I) * o(F) for r, o in forward_derivative_gen(x, f, alg, Ix, h=1e-3)),\n",
    "    )"
   ]
  },
  {
   "cell_type": "code",
   "execution_count": 72,
   "metadata": {},
   "outputs": [
    {
     "data": {
      "text/plain": [
       "(, )"
      ]
     },
     "execution_count": 72,
     "metadata": {},
     "output_type": "execute_result"
    }
   ],
   "source": [
    "#6.19\n",
    "Ix = lambda x: n * e123\n",
    "I = Ix(x)\n",
    "v = random_r_blade(1, alg)\n",
    "x = v - P(v, n)\n",
    "x|n, P(n, I)"
   ]
  },
  {
   "cell_type": "code",
   "execution_count": 73,
   "metadata": {},
   "outputs": [
    {
     "data": {
      "text/plain": [
       "(0.893 𝐞₁₂ + -0.395 𝐞₁₃ + -0.217 𝐞₂₃, 0.893 𝐞₁₂ + -0.395 𝐞₁₃ + -0.217 𝐞₂₃)"
      ]
     },
     "execution_count": 73,
     "metadata": {},
     "output_type": "execute_result"
    }
   ],
   "source": [
    "#6.20b\n",
    "I1 = f_(Ix)(x)\n",
    "nI = nIx(x)\n",
    "nI1 = normalize(I1)\n",
    "n1 = -nI1 * e123\n",
    "nI1, n1*e123"
   ]
  },
  {
   "cell_type": "code",
   "execution_count": 74,
   "metadata": {},
   "outputs": [
    {
     "data": {
      "text/plain": [
       "(0.27 + -0.243 𝐞₁ + 0.273 𝐞₂ + -0.18 𝐞₃ + 0.704 𝐞₁₂ + -0.311 𝐞₁₃ + -0.171 𝐞₂₃ + 8.12e-18 𝐞₁₂₃,\n",
       " 0.27 + -0.243 𝐞₁ + 0.273 𝐞₂ + -0.18 𝐞₃ + 0.704 𝐞₁₂ + -0.311 𝐞₁₃ + -0.171 𝐞₂₃ + 1.44e-34 𝐞₁₂₃,\n",
       " 0.27 + -0.243 𝐞₁ + 0.273 𝐞₂ + -0.18 𝐞₃ + 0.704 𝐞₁₂ + -0.311 𝐞₁₃ + -0.171 𝐞₂₃ + 1.44e-34 𝐞₁₂₃)"
      ]
     },
     "execution_count": 74,
     "metadata": {},
     "output_type": "execute_result"
    }
   ],
   "source": [
    "#6.21\n",
    "ds = derivative(s, x, alg, Ix=Ix)\n",
    "f_(A)(x), PA(x) + (inner(PA(x),ds) ^ n), PA(x) + (inner(PA(x),ds) * n)"
   ]
  },
  {
   "cell_type": "code",
   "execution_count": 75,
   "metadata": {},
   "outputs": [
    {
     "data": {
      "text/plain": [
       "(0.25 𝐞₁₂ + -0.961 𝐞₁₃ + 0.121 𝐞₂₃,\n",
       " 1.55 𝐞₁₂ + -0.685 𝐞₁₃ + -0.377 𝐞₂₃,\n",
       " -5.55e-17 + 1.55 𝐞₁₂ + -0.685 𝐞₁₃ + -0.377 𝐞₂₃,\n",
       " 1.55 𝐞₁₂ + -0.685 𝐞₁₃ + -0.377 𝐞₂₃)"
      ]
     },
     "execution_count": 75,
     "metadata": {},
     "output_type": "execute_result"
    }
   ],
   "source": [
    "nIx(x), f_(nIx)(x), nI * (1 + (ds ^ n)), Jf(x)*nI1"
   ]
  },
  {
   "cell_type": "code",
   "execution_count": 76,
   "metadata": {},
   "outputs": [
    {
     "data": {
      "text/plain": [
       "(1.0 + 0.445 𝐞₁₂ + 0.281 𝐞₁₃ + 1.32 𝐞₂₃,\n",
       " 1.0 + 0.445 𝐞₁₂ + 0.281 𝐞₁₃ + 1.32 𝐞₂₃,\n",
       " 1.0 + 0.445 𝐞₁₂ + 0.281 𝐞₁₃ + 1.32 𝐞₂₃)"
      ]
     },
     "execution_count": 76,
     "metadata": {},
     "output_type": "execute_result"
    }
   ],
   "source": [
    "#6.22\n",
    "-nI * f_(nIx)(x), Jf(x) * n * n1, 1 + ds*n"
   ]
  },
  {
   "cell_type": "code",
   "execution_count": 77,
   "metadata": {},
   "outputs": [
    {
     "data": {
      "text/plain": [
       "(-0.217 𝐞₁ + 0.395 𝐞₂ + 0.893 𝐞₃,\n",
       " -0.217 𝐞₁ + 0.395 𝐞₂ + 0.893 𝐞₃ + 5.46e-18 𝐞₁₂₃)"
      ]
     },
     "execution_count": 77,
     "metadata": {},
     "output_type": "execute_result"
    }
   ],
   "source": [
    "#6.23\n",
    "n1, (n - ds)/Jf(x)"
   ]
  },
  {
   "cell_type": "code",
   "execution_count": 78,
   "metadata": {},
   "outputs": [
    {
     "data": {
      "text/plain": [
       "(1.735448691590876, 1.7354488877717207)"
      ]
     },
     "execution_count": 78,
     "metadata": {},
     "output_type": "execute_result"
    }
   ],
   "source": [
    "#6.24\n",
    "Jf(x), norm(n - ds)"
   ]
  },
  {
   "cell_type": "code",
   "execution_count": 79,
   "metadata": {},
   "outputs": [
    {
     "data": {
      "text/plain": [
       "(1.95 + -0.0748 𝐞₁ + -0.0165 𝐞₂ + 0.0994 𝐞₃ + 1.23 𝐞₁₂ + 0.628 𝐞₁₃ + 2.45 𝐞₂₃ + 0.975 𝐞₁₂₃,\n",
       " 1.95 + -0.0747 𝐞₁ + -0.0164 𝐞₂ + 0.0997 𝐞₃ + 1.23 𝐞₁₂ + 0.628 𝐞₁₃ + 2.45 𝐞₂₃ + 0.975 𝐞₁₂₃)"
      ]
     },
     "execution_count": 79,
     "metadata": {},
     "output_type": "execute_result"
    }
   ],
   "source": [
    "#6.25\n",
    "derivative(F, x, alg, Ix=Ix), sum((P(r, I)+ds*(n|r))*o(F) for r, o in forward_derivative_gen(x, f, alg, Ix))"
   ]
  },
  {
   "cell_type": "code",
   "execution_count": 80,
   "metadata": {},
   "outputs": [
    {
     "data": {
      "text/plain": [
       "(-0.4670186621038733, -0.467)"
      ]
     },
     "execution_count": 80,
     "metadata": {},
     "output_type": "execute_result"
    }
   ],
   "source": [
    "#6.26\n",
    "s(x), n | f(x)"
   ]
  },
  {
   "cell_type": "code",
   "execution_count": 81,
   "metadata": {},
   "outputs": [
    {
     "data": {
      "text/plain": [
       "(-0.109 𝐞₁ + -0.614 𝐞₂ + 0.543 𝐞₃, -0.109 𝐞₁ + -0.614 𝐞₂ + 0.543 𝐞₃)"
      ]
     },
     "execution_count": 81,
     "metadata": {},
     "output_type": "execute_result"
    }
   ],
   "source": [
    "#6.27\n",
    "x1 = f(x)\n",
    "f(P(x1, I)), x1"
   ]
  },
  {
   "cell_type": "code",
   "execution_count": 82,
   "metadata": {},
   "outputs": [
    {
     "data": {
      "text/plain": [
       "(0.27 + -0.229 𝐞₁ + 0.112 𝐞₂ + -0.321 𝐞₃ + 0.107 𝐞₁₂ + -0.412 𝐞₁₃ + 0.0519 𝐞₂₃,\n",
       " 0.27 + -0.229 𝐞₁ + 0.112 𝐞₂ + -0.321 𝐞₃ + 0.107 𝐞₁₂ + -0.412 𝐞₁₃ + 0.0519 𝐞₂₃)"
      ]
     },
     "execution_count": 82,
     "metadata": {},
     "output_type": "execute_result"
    }
   ],
   "source": [
    "#6.28\n",
    "g = lambda x: P(x, I)\n",
    "g_vec = lambda a: lambda x: differential(g, x, a)\n",
    "g_ = lambda A: outermorphism(g_vec, A, alg, Ix=f_(Ix))\n",
    "P1A = lambda x: P(A(x), I1)\n",
    "g_(P1A)(x), P(P1A(x), I)"
   ]
  },
  {
   "cell_type": "code",
   "execution_count": 83,
   "metadata": {},
   "outputs": [
    {
     "data": {
      "text/plain": [
       "(0.27 + -0.289 𝐞₁ + 0.135 𝐞₂ + -0.13 𝐞₃ + 0.234 𝐞₁₂ + -0.103 𝐞₁₃ + -0.0569 𝐞₂₃,\n",
       " 0.27 + -0.289 𝐞₁ + 0.135 𝐞₂ + -0.13 𝐞₃ + 0.234 𝐞₁₂ + -0.103 𝐞₁₃ + -0.0569 𝐞₂₃)"
      ]
     },
     "execution_count": 83,
     "metadata": {},
     "output_type": "execute_result"
    }
   ],
   "source": [
    "#6.29\n",
    "ga = lambda A: adjoint_outermorphism(g_vec, A, alg, Ix=f_(Ix))\n",
    "ga(A)(x), P(PA(x), I1)"
   ]
  },
  {
   "cell_type": "code",
   "execution_count": 84,
   "metadata": {},
   "outputs": [
    {
     "data": {
      "text/plain": [
       "(1.95 + 0.589 𝐞₁ + -0.193 𝐞₂ + 0.229 𝐞₃ + 0.512 𝐞₁₂ + 0.477 𝐞₁₃ + 1.23 𝐞₂₃ + 0.975 𝐞₁₂₃,\n",
       " 1.95 + 0.589 𝐞₁ + -0.193 𝐞₂ + 0.228 𝐞₃ + 0.512 𝐞₁₂ + 0.478 𝐞₁₃ + 1.24 𝐞₂₃ + 0.975 𝐞₁₂₃)"
      ]
     },
     "execution_count": 84,
     "metadata": {},
     "output_type": "execute_result"
    }
   ],
   "source": [
    "#6.30\n",
    "forward_deriv_(F)(x), sum(P(r, I1)*o(F) for r, o in derivative_gen(x, alg, Ix=Ix))"
   ]
  },
  {
   "cell_type": "code",
   "execution_count": 85,
   "metadata": {},
   "outputs": [
    {
     "data": {
      "text/plain": [
       "(-0.116 𝐞₁ + -0.576 𝐞₂ + 0.809 𝐞₃, -0.116 𝐞₁ + -0.576 𝐞₂ + 0.809 𝐞₃)"
      ]
     },
     "execution_count": 85,
     "metadata": {},
     "output_type": "execute_result"
    }
   ],
   "source": [
    "#6.31\n",
    "Ix = lambda x: n * e123\n",
    "l = lambda x: 0.5 * normsq(x-n)\n",
    "f = lambda x: n + ((x-n)/l(x))\n",
    "f(x), -(x-n).sw(n)/normsq(x-n)"
   ]
  },
  {
   "cell_type": "code",
   "execution_count": 86,
   "metadata": {},
   "outputs": [
    {
     "data": {
      "text/plain": [
       "(-0.411 𝐞₁ + -0.19 𝐞₂ + -0.195 𝐞₃ + 1.11e-17 𝐞₁₂₃,\n",
       " -0.411 𝐞₁ + -0.19 𝐞₂ + -0.195 𝐞₃)"
      ]
     },
     "execution_count": 86,
     "metadata": {},
     "output_type": "execute_result"
    }
   ],
   "source": [
    "#6.34\n",
    "f_(pa)(x), -(x-n).sw(pa(x))/normsq(x-n)/l(x)"
   ]
  },
  {
   "cell_type": "code",
   "execution_count": 87,
   "metadata": {},
   "outputs": [
    {
     "data": {
      "text/plain": [
       "(-0.305 + 0.119 𝐞₁₂ + 0.0844 𝐞₁₃ + -0.0171 𝐞₂₃,\n",
       " -0.305 + 0.119 𝐞₁₂ + 0.0844 𝐞₁₃ + -0.0171 𝐞₂₃)"
      ]
     },
     "execution_count": 87,
     "metadata": {},
     "output_type": "execute_result"
    }
   ],
   "source": [
    "#6.35\n",
    "pb = P(b, I)\n",
    "f_(pa)(x) * f__(pb)(x), (x-n).sw(pa(x)*pb)/normsq(x-n)/l(x)**2"
   ]
  },
  {
   "cell_type": "code",
   "execution_count": 88,
   "metadata": {},
   "outputs": [
    {
     "data": {
      "text/plain": [
       "-0.305"
      ]
     },
     "execution_count": 88,
     "metadata": {},
     "output_type": "execute_result"
    }
   ],
   "source": [
    "#6.36\n",
    "pa(x) | pb / l(x)**2"
   ]
  },
  {
   "cell_type": "code",
   "execution_count": 89,
   "metadata": {},
   "outputs": [
    {
     "data": {
      "text/plain": [
       "0.119 𝐞₁₂ + 0.0844 𝐞₁₃ + -0.0171 𝐞₂₃"
      ]
     },
     "execution_count": 89,
     "metadata": {},
     "output_type": "execute_result"
    }
   ],
   "source": [
    "#6.37\n",
    "f__(pa(x) ^ pb)(x)"
   ]
  },
  {
   "cell_type": "code",
   "execution_count": 90,
   "metadata": {},
   "outputs": [
    {
     "data": {
      "text/plain": [
       "(-0.685 𝐞₁₂ + -0.487 𝐞₁₃ + 0.0986 𝐞₂₃, -0.685 𝐞₁₂ + -0.487 𝐞₁₃ + 0.0986 𝐞₂₃)"
      ]
     },
     "execution_count": 90,
     "metadata": {},
     "output_type": "execute_result"
    }
   ],
   "source": [
    "#6.38\n",
    "r=2\n",
    "f_(Ar)(x), (x-n).sw(Ar(x))/normsq(x-n)/(-l(x))**r"
   ]
  },
  {
   "cell_type": "code",
   "execution_count": 91,
   "metadata": {},
   "outputs": [
    {
     "data": {
      "text/plain": [
       "(0.0827 𝐞₁ + -1.98 𝐞₂ + -1.39 𝐞₃ + -1.11e-16 𝐞₁₂₃,\n",
       " 0.0827 𝐞₁ + -1.98 𝐞₂ + -1.39 𝐞₃)"
      ]
     },
     "execution_count": 91,
     "metadata": {},
     "output_type": "execute_result"
    }
   ],
   "source": [
    "#6.39\n",
    "s = 1\n",
    "PB = lambda x: P(B(x), Ix(x))\n",
    "Bs = lambda x: PB(x).grade(s)\n",
    "f_(Ar)(x) * f_(Bs)(x), (x-n).sw(Ar(x)*Bs(x))/normsq(x-n)/(-l(x))**(r+s)"
   ]
  },
  {
   "cell_type": "code",
   "execution_count": 92,
   "metadata": {},
   "outputs": [
    {
     "data": {
      "text/plain": [
       "(0.394 𝐞₁₂ + -1.52 𝐞₁₃ + 0.191 𝐞₂₃,\n",
       " 0.394 𝐞₁₂ + -1.52 𝐞₁₃ + 0.191 𝐞₂₃,\n",
       " -0.466 𝐞₁₂ + -0.331 𝐞₁₃ + 0.067 𝐞₂₃)"
      ]
     },
     "execution_count": 92,
     "metadata": {},
     "output_type": "execute_result"
    }
   ],
   "source": [
    "#6.41\n",
    "A1r = f_(Ar)\n",
    "fa(A1r)(x), (x-n).sw(A1r(x))/normsq(x-n)/(-l(x))**r, f_(A1r)(x),"
   ]
  },
  {
   "cell_type": "code",
   "execution_count": null,
   "metadata": {},
   "outputs": [],
   "source": []
  }
 ],
 "metadata": {
  "kernelspec": {
   "display_name": "3.10.5",
   "language": "python",
   "name": "python3"
  },
  "language_info": {
   "codemirror_mode": {
    "name": "ipython",
    "version": 3
   },
   "file_extension": ".py",
   "mimetype": "text/x-python",
   "name": "python",
   "nbconvert_exporter": "python",
   "pygments_lexer": "ipython3",
   "version": "3.10.5"
  }
 },
 "nbformat": 4,
 "nbformat_minor": 2
}
