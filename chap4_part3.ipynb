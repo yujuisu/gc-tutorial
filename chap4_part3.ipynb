{
 "cells": [
  {
   "cell_type": "code",
   "execution_count": 128,
   "metadata": {
    "tags": [
     "manifold ellipsoid"
    ]
   },
   "outputs": [
    {
     "data": {
      "text/plain": [
       "(1.0 𝐞₁₂ + -0.024 𝐞₁₃ + -0.0192 𝐞₂₃, 1.29e-15 𝐞₁₂₃)"
      ]
     },
     "execution_count": 128,
     "metadata": {},
     "output_type": "execute_result"
    }
   ],
   "source": [
    "#1.3 ellipsoid\n",
    "# Let M be an ellipsoid in R3, (ax)^{2}+(by)^{2}+z^{2}=d\n",
    "# x = 1/a*cos(p)*sin(t)*e1 + 1/b*sin(p)*sin(t)*e2 + cos(t)*e3, t, p in R\n",
    "\n",
    "from gc_utils import *\n",
    "alg = Algebra(3)\n",
    "locals().update(alg.blades)\n",
    "\n",
    "c2e = lambda p, t: 4*np.cos(p)*np.sin(t)*e1 + 5*np.sin(p)*np.sin(t)*e2 + np.cos(t)*e3\n",
    "e_p = lambda p, t: -4*np.sin(p)*np.sin(t)*e1 + 5*np.cos(p)*np.sin(t)*e2\n",
    "e_t = lambda p, t: (4*np.cos(p)*np.cos(t)*e1) + (5*np.sin(p)*np.cos(t)*e2) - (np.sin(t)*e3)\n",
    "def Ix(x):\n",
    "    p = np.arctan((4/5)*x.e2/x.e1)\n",
    "    t = np.arccos(x.e3)\n",
    "    return e_p(p, t) ^ e_t(p, t)\n",
    "\n",
    "# |p| < pi/2, 0 < t < pi for unique arctan & arccos\n",
    "p, t = -1, 3\n",
    "x = c2e(p, t)\n",
    "I = Ix(x)\n",
    "nIx = lambda x: normalize(Ix(x))\n",
    "nI = nIx(x)\n",
    "\n",
    "nI, nI ^ (3*e_t(p,t) + 5*e_p(p,t))"
   ]
  },
  {
   "cell_type": "code",
   "execution_count": 129,
   "metadata": {},
   "outputs": [
    {
     "data": {
      "text/plain": [
       "(0.305 𝐞₁ + -0.594 𝐞₂ + -0.99 𝐞₃,\n",
       " -0.36 𝐞₁ + 0.0326 𝐞₂ + -1.7 𝐞₃,\n",
       " 0.0418 𝐞₁ + 0.0452 𝐞₂ + -0.000279 𝐞₃,\n",
       " 0.0858 𝐞₁ + 0.0447 𝐞₂ + 0.0329 𝐞₃)"
      ]
     },
     "execution_count": 129,
     "metadata": {},
     "output_type": "execute_result"
    }
   ],
   "source": [
    "#5.1\n",
    "C, D, E = [random_multivector(alg) for _ in range(3)]\n",
    "V1, V2 = [random_versor(2, alg) for _ in range(2)]\n",
    "f = lambda x: V1.sw(inv(x)) + V2.sw(x**3)\n",
    "A = lambda x: E*x**2 + C*x*D\n",
    "a = lambda x: A(x).grade(1)\n",
    "PA = lambda x: P(A(x), Ix(x))\n",
    "pa = lambda x: P(a(x), Ix(x))\n",
    "f_ = lambda a: lambda x: differential(f, x, a)\n",
    "\n",
    "x, f(x), pa(x), f_(pa(x))(x)"
   ]
  },
  {
   "cell_type": "code",
   "execution_count": 130,
   "metadata": {},
   "outputs": [
    {
     "data": {
      "text/plain": [
       "(0.162 + 0.241 𝐞₁ + -0.0937 𝐞₂ + 0.569 𝐞₃ + -6.97 𝐞₁₂ + 2.39 𝐞₁₃ + 9.14 𝐞₂₃ + -3.14 𝐞₁₂₃,\n",
       " 0.162 + 0.0858 𝐞₁ + 0.0447 𝐞₂ + 0.033 𝐞₃ + -2.05 𝐞₁₂ + -4.6 𝐞₁₃ + -1.61 𝐞₂₃ + 5.54e-19 𝐞₁₂₃,\n",
       " 0.162 + 0.0858 𝐞₁ + 0.0447 𝐞₂ + 0.0329 𝐞₃ + -2.04 𝐞₁₂ + -4.59 𝐞₁₃ + -1.61 𝐞₂₃,\n",
       " 0.162 + 0.0858 𝐞₁ + 0.0447 𝐞₂ + 0.033 𝐞₃ + -2.05 𝐞₁₂ + -4.6 𝐞₁₃ + -1.61 𝐞₂₃ + 5.54e-19 𝐞₁₂₃)"
      ]
     },
     "execution_count": 130,
     "metadata": {},
     "output_type": "execute_result"
    }
   ],
   "source": [
    "#5.2 For tangent fields, the outermorphism can be computed in the embedded space\n",
    "# the scalar product in the skew_symmetrizer acts as a projection into the tangent space\n",
    "def outermorphism(f, field, alg, h=1e-6, frame=None, r_frame=None, Ix=None):\n",
    "    def f_outer(x):\n",
    "        nonlocal frame, r_frame\n",
    "        if Ix:\n",
    "            frame = blade_split(Ix(x), alg)\n",
    "            r_frame = reciprocal(frame)\n",
    "        A = field(x)\n",
    "        wf = lambda vectors: wedge([f(v)(x) for v in vectors])\n",
    "        outer = 0\n",
    "        for r in A.grades:\n",
    "            if r == 0:\n",
    "                outer += A.grade(0)\n",
    "                continue\n",
    "            outer += skew_symmetrizer(wf, A.grade(r), alg, h, frame, r_frame)\n",
    "        return outer\n",
    "    return f_outer\n",
    "\n",
    "outermorphism(f_, A, alg)(x), outermorphism(f_, A, alg, Ix=Ix)(x), outermorphism(f_, PA, alg)(x), outermorphism(f_, PA, alg, Ix=Ix)(x)"
   ]
  },
  {
   "cell_type": "code",
   "execution_count": 131,
   "metadata": {},
   "outputs": [
    {
     "data": {
      "text/plain": [
       "(3.7812362482047757, 3.7812362482047766)"
      ]
     },
     "execution_count": 131,
     "metadata": {},
     "output_type": "execute_result"
    }
   ],
   "source": [
    "#5.3\n",
    "f_vec = lambda a: lambda x: differential(f, x, a)\n",
    "f_ = lambda A: outermorphism(f_vec, A, alg, Ix=Ix)\n",
    "I1 = f_(Ix)(x)\n",
    "fnI = f_(nIx)(x)\n",
    "norm(I1)/norm(I), norm(fnI)"
   ]
  },
  {
   "cell_type": "code",
   "execution_count": null,
   "metadata": {},
   "outputs": [],
   "source": [
    "# Jacobian\n",
    "Jf = lambda x: norm(f_(nIx)(x))"
   ]
  },
  {
   "cell_type": "code",
   "execution_count": 133,
   "metadata": {},
   "outputs": [
    {
     "data": {
      "text/plain": [
       "0.162 + -0.164 𝐞₁ + 0.386 𝐞₂ + -0.0124 𝐞₃ + 3.69 𝐞₁₂ + -0.0884 𝐞₁₃ + -0.071 𝐞₂₃"
      ]
     },
     "execution_count": 133,
     "metadata": {},
     "output_type": "execute_result"
    }
   ],
   "source": [
    "#5.4\n",
    "def adjoint_outermorphism(f, field, alg, h=1e-6, frame=None, r_frame=None, Ix=None):\n",
    "    def f_outer(x):\n",
    "        A = field(x)\n",
    "        nonlocal frame, r_frame\n",
    "        if Ix:\n",
    "            frame = blade_split(Ix(x), alg)\n",
    "            r_frame = reciprocal(frame)\n",
    "        F = lambda vectors: wedge([f(v)(x) for v in vectors]).sp(A)\n",
    "        outer = 0\n",
    "        for r in A.grades:\n",
    "            if r == 0:\n",
    "                outer += A.grade(0)\n",
    "                continue\n",
    "            # Why np.zeros(r)? The derivative of a linear function is constant\n",
    "            outer += simplicial_derivative(F, np.zeros(r), alg, h, frame, r_frame)\n",
    "        return outer\n",
    "    return f_outer\n",
    "\n",
    "def adjoint_outermorphism_(f, A, alg, h=1e-6, frame=None, r_frame=None, Ix=None):\n",
    "    def f_outer(x):\n",
    "        nonlocal frame, r_frame\n",
    "        if Ix:\n",
    "            frame = blade_split(Ix(x), alg)\n",
    "            r_frame = reciprocal(frame)\n",
    "        F = lambda vectors: wedge([f(v)(x) for v in vectors]).sp(A)\n",
    "        outer = 0\n",
    "        for r in A.grades:\n",
    "            if r == 0:\n",
    "                outer += A.grade(0)\n",
    "                continue\n",
    "            # Why np.zeros(r)? The derivative of a linear function is constant\n",
    "            outer += simplicial_derivative(F, np.zeros(r), alg, h, frame, r_frame)\n",
    "        return outer\n",
    "    return f_outer\n",
    "\n",
    "adjoint_outermorphism(f_vec, A, alg, Ix=Ix)(x)"
   ]
  },
  {
   "cell_type": "code",
   "execution_count": 134,
   "metadata": {},
   "outputs": [
    {
     "data": {
      "text/plain": [
       "(8.219178082191782, 2.598448050479924, 6.5)"
      ]
     },
     "execution_count": 134,
     "metadata": {},
     "output_type": "execute_result"
    }
   ],
   "source": [
    "240/(2*10*200/1000*7.3), 100/ (np.pi*49/4), 130/100*5"
   ]
  },
  {
   "cell_type": "code",
   "execution_count": 135,
   "metadata": {},
   "outputs": [
    {
     "data": {
      "text/plain": [
       "(0.162 + 0.0858 𝐞₁ + 0.0447 𝐞₂ + 0.033 𝐞₃ + -2.05 𝐞₁₂ + -4.6 𝐞₁₃ + -1.61 𝐞₂₃ + 5.54e-19 𝐞₁₂₃,\n",
       " 0.162 + 0.0858 𝐞₁ + 0.0447 𝐞₂ + 0.033 𝐞₃ + -2.05 𝐞₁₂ + -4.6 𝐞₁₃ + -1.61 𝐞₂₃ + 5.54e-19 𝐞₁₂₃,\n",
       " 0.162 + 0.0858 𝐞₁ + 0.0447 𝐞₂ + 0.033 𝐞₃ + -2.05 𝐞₁₂ + -4.6 𝐞₁₃ + -1.61 𝐞₂₃)"
      ]
     },
     "execution_count": 135,
     "metadata": {},
     "output_type": "execute_result"
    }
   ],
   "source": [
    "#5.10a\n",
    "f_(A)(x), f_(PA)(x), P(f_(A)(x), I1)"
   ]
  },
  {
   "cell_type": "code",
   "execution_count": 136,
   "metadata": {},
   "outputs": [
    {
     "data": {
      "text/plain": [
       "(0.162 + -0.164 𝐞₁ + 0.386 𝐞₂ + -0.0124 𝐞₃ + 3.69 𝐞₁₂ + -0.0884 𝐞₁₃ + -0.071 𝐞₂₃,\n",
       " 0.162 + -0.164 𝐞₁ + 0.386 𝐞₂ + -0.0124 𝐞₃ + 3.69 𝐞₁₂ + -0.0884 𝐞₁₃ + -0.071 𝐞₂₃,\n",
       " 0.162 + -0.164 𝐞₁ + 0.386 𝐞₂ + -0.0124 𝐞₃ + 3.69 𝐞₁₂ + -0.0884 𝐞₁₃ + -0.071 𝐞₂₃)"
      ]
     },
     "execution_count": 136,
     "metadata": {},
     "output_type": "execute_result"
    }
   ],
   "source": [
    "#5.10b\n",
    "P_ = lambda A: lambda x: P(A(x), I)\n",
    "P__ = lambda A: lambda x: P(A(x), I1)\n",
    "fa = lambda A: adjoint_outermorphism(f_vec, A, alg, Ix=Ix)\n",
    "fa(A)(x), fa(P__(A))(x), P_(fa(A))(x)"
   ]
  },
  {
   "cell_type": "code",
   "execution_count": 137,
   "metadata": {},
   "outputs": [
    {
     "data": {
      "text/plain": [
       "(-0.0382 + 0.167 𝐞₁ + 0.0872 𝐞₂ + 0.0642 𝐞₃ + 0.0406 𝐞₁₂ + -0.0552 𝐞₁₃ + 0.106 𝐞₂₃ + 0.0313 𝐞₁₂₃,\n",
       " -0.0383 + 0.167 𝐞₁ + 0.0872 𝐞₂ + 0.0643 𝐞₃ + 0.0407 𝐞₁₂ + -0.0552 𝐞₁₃ + 0.106 𝐞₂₃ + 0.0314 𝐞₁₂₃)"
      ]
     },
     "execution_count": 137,
     "metadata": {},
     "output_type": "execute_result"
    }
   ],
   "source": [
    "#5.12 outermorphism push forward tangent vectors\n",
    "G = lambda x: (x+D)**2\n",
    "F = lambda x: G(f(x))\n",
    "differential(F, x, pa(x)), differential(G, f(x), f_(pa)(x))"
   ]
  },
  {
   "cell_type": "code",
   "execution_count": 138,
   "metadata": {},
   "outputs": [
    {
     "data": {
      "text/plain": [
       "(-0.0382 + 0.167 𝐞₁ + 0.0872 𝐞₂ + 0.0642 𝐞₃ + 0.0406 𝐞₁₂ + -0.0552 𝐞₁₃ + 0.106 𝐞₂₃ + 0.0313 𝐞₁₂₃,\n",
       " -0.0383 + 0.167 𝐞₁ + 0.0872 𝐞₂ + 0.0643 𝐞₃ + 0.0407 𝐞₁₂ + -0.0552 𝐞₁₃ + 0.106 𝐞₂₃ + 0.0314 𝐞₁₂₃)"
      ]
     },
     "execution_count": 138,
     "metadata": {},
     "output_type": "execute_result"
    }
   ],
   "source": [
    "#5.12c adjoint-outermorphism is the pullback/chain rule of derivatives\n",
    "# without explicit define the inverse of f, we push forward the frame\n",
    "\n",
    "def f_derivative_gen(x, f, alg, Ix, h=1e-6):\n",
    "    f_vec = lambda a: lambda x: differential(f, x, a)\n",
    "    f_ = lambda A: outermorphism(f_vec, A, alg, Ix=Ix)\n",
    "    for v, r in frame_gen(x, alg, Ix=f_(Ix)):\n",
    "        yield (r, lambda F: differential(F, f(x), v, h))\n",
    "\n",
    "# Say f: M -> N\n",
    "# \"back\" as the derivative acts on a field G on N\n",
    "# Yet mimicking the derivative of G(f(x)) on M\n",
    "def back_derivative_gen(x, f, alg, Ix, h=1e-6):\n",
    "    f_vec = lambda a: lambda x: differential(f, x, a)\n",
    "    f_ = lambda A: outermorphism(f_vec, A, alg, Ix=Ix)\n",
    "    fa_ = lambda A: adjoint_outermorphism_(f_vec, A, alg, Ix=Ix)\n",
    "    for v, r in frame_gen(x, alg, Ix=f_(Ix)):\n",
    "        yield (fa_(r)(x), lambda F: differential(F, f(x), v, h))\n",
    "\n",
    "\n",
    "fa_ = lambda A: adjoint_outermorphism_(f_vec, A, alg, Ix=Ix)\n",
    "differential(F, x, pa(x)), sum((pa(x)|r) * o(G) for r, o in back_derivative_gen(x, f, alg, Ix))"
   ]
  },
  {
   "cell_type": "code",
   "execution_count": 139,
   "metadata": {},
   "outputs": [
    {
     "data": {
      "text/plain": [
       "(4.33 + 0.864 𝐞₁ + -5.48 𝐞₂ + 1.42 𝐞₃ + -2.03 𝐞₁₂ + -3.49 𝐞₁₃ + 3.53 𝐞₂₃ + 2.74 𝐞₁₂₃,\n",
       " 4.33 + 0.863 𝐞₁ + -5.49 𝐞₂ + 1.42 𝐞₃ + -2.03 𝐞₁₂ + -3.49 𝐞₁₃ + 3.53 𝐞₂₃ + 2.74 𝐞₁₂₃)"
      ]
     },
     "execution_count": 139,
     "metadata": {},
     "output_type": "execute_result"
    }
   ],
   "source": [
    "#5.13\n",
    "(\n",
    "    derivative(F, x, alg, Ix=Ix), \n",
    "    sum(r * o(G) for r, o in back_derivative_gen(x, f, alg, Ix))\n",
    "    )"
   ]
  },
  {
   "cell_type": "code",
   "execution_count": 140,
   "metadata": {},
   "outputs": [],
   "source": [
    "def outermorphism_(f, field, alg, h=1e-6, frame=None, r_frame=None, Ix=None):\n",
    "    def f_outer(x):\n",
    "        nonlocal frame, r_frame\n",
    "        if Ix:\n",
    "            frame = blade_split(Ix(x), alg)\n",
    "            r_frame = reciprocal(frame)\n",
    "        wf = lambda vectors: wedge([f(v)(x) for v in vectors])\n",
    "        outer = 0\n",
    "        A = field if isinstance(field, MultiVector) else field(x)\n",
    "        for r in A.grades:\n",
    "            if r == 0:\n",
    "                outer += A.grade(0)\n",
    "                continue\n",
    "            outer += skew_symmetrizer(wf, A.grade(r), alg, h, frame, r_frame)\n",
    "        return outer\n",
    "    return f_outer"
   ]
  },
  {
   "cell_type": "code",
   "execution_count": 141,
   "metadata": {},
   "outputs": [
    {
     "data": {
      "text/plain": [
       "(3.9 + 0.615 𝐞₁ + -0.633 𝐞₂ + -1.91 𝐞₃ + 0.321 𝐞₁₂ + -0.193 𝐞₁₃ + 0.142 𝐞₂₃ + 2.47 𝐞₁₂₃,\n",
       " 3.9 + 0.616 𝐞₁ + -0.633 𝐞₂ + -1.91 𝐞₃ + 0.321 𝐞₁₂ + -0.193 𝐞₁₃ + 0.141 𝐞₂₃ + 2.47 𝐞₁₂₃,\n",
       " 3.9 + 0.616 𝐞₁ + -0.633 𝐞₂ + -1.91 𝐞₃ + 0.321 𝐞₁₂ + -0.193 𝐞₁₃ + 0.141 𝐞₂₃ + 2.47 𝐞₁₂₃)"
      ]
     },
     "execution_count": 141,
     "metadata": {},
     "output_type": "execute_result"
    }
   ],
   "source": [
    "#5.14 \"forward\" as the derivative acts on a field F on M\n",
    "# Yet mimicking the derivative of F(inv(f)(x)) on N\n",
    "\n",
    "def forward_derivative_gen(x, f, alg, Ix, h=1e-6):\n",
    "    f_vec = lambda a: lambda x: differential(f, x, a)\n",
    "    f_ = lambda A: outermorphism_(f_vec, A, alg, Ix=Ix)\n",
    "    nIx = lambda x: normalize(Ix(x))\n",
    "    nI = nIx(x)\n",
    "    iI1 = inv(f_(nIx)(x))\n",
    "    for v, r in frame_gen(x, alg, Ix=Ix):\n",
    "        yield iI1 * f_(nI*r)(x), lambda F: differential(F, x, v, h)\n",
    "\n",
    "iI1 = inv(f_(nIx)(x))\n",
    "f__ = lambda A: outermorphism_(f_vec, A, alg, Ix=Ix)\n",
    "(\n",
    "    sum(r * o(G) for r, o in f_derivative_gen(x, f, alg, Ix)),\n",
    "    sum(r * o(F) for r, o in forward_derivative_gen(x, f, alg, Ix)),\n",
    "    sum(iI1 * f__(nI*r)(x) * o(F) for r, o in derivative_gen(x, alg, Ix=Ix))\n",
    "    )"
   ]
  },
  {
   "cell_type": "code",
   "execution_count": 142,
   "metadata": {},
   "outputs": [
    {
     "data": {
      "text/plain": [
       "(-0.0714 𝐞₁ + -0.0224 𝐞₂ + -0.115 𝐞₃ + 2.49 𝐞₁₂ + 4.75 𝐞₁₃ + -1.36 𝐞₂₃ + 6.29e-17 𝐞₁₂₃,\n",
       " -1.18e-16 + -0.0708 𝐞₁ + -0.0209 𝐞₂ + -0.115 𝐞₃ + 2.44 𝐞₁₂ + 4.65 𝐞₁₃ + -1.46 𝐞₂₃ + 1.84e-18 𝐞₁₂₃)"
      ]
     },
     "execution_count": 142,
     "metadata": {},
     "output_type": "execute_result"
    }
   ],
   "source": [
    "#5.15a Without the inverse of f\n",
    "# Pushing forward a differential is another linear transformation\n",
    "b = random_r_blade(1, alg)\n",
    "pb = P(b, I)\n",
    "pb1 = f__(pb)(x)\n",
    "differential(f__(PA(x)), x, pb, h=1e-2), sum((pb1 | r) * o(f__(PA(x))) for r, o in forward_derivative_gen(x, f, alg, Ix, h=1e-2))"
   ]
  },
  {
   "cell_type": "code",
   "execution_count": 143,
   "metadata": {},
   "outputs": [
    {
     "data": {
      "text/plain": [
       "(0.00608 𝐞₁ + -0.0934 𝐞₂ + 0.0061 𝐞₃ + 2.4 𝐞₁₂ + -0.109 𝐞₁₃ + 0.0205 𝐞₂₃,\n",
       " -9.81e-17 + 0.00615 𝐞₁ + -0.0914 𝐞₂ + 0.00606 𝐞₃ + 2.36 𝐞₁₂ + -0.108 𝐞₁₃ + 0.0212 𝐞₂₃ + -2.7e-18 𝐞₁₂₃)"
      ]
     },
     "execution_count": 143,
     "metadata": {},
     "output_type": "execute_result"
    }
   ],
   "source": [
    "#5.15b\n",
    "differential(fa_(PA(x)), x, pb, h=1e-2), sum((pb1 | r) * o(fa_(PA(x))) for r, o in forward_derivative_gen(x, f, alg, Ix, h=1e-2))"
   ]
  },
  {
   "cell_type": "code",
   "execution_count": 144,
   "metadata": {},
   "outputs": [
    {
     "data": {
      "text/plain": [
       "(-1.68 𝐞₁ + -1.22 𝐞₂ + -1.75 𝐞₃ + -1.74 𝐞₁₂ + -2.26 𝐞₁₃ + 0.434 𝐞₂₃ + -2.56e-15 𝐞₁₂₃,\n",
       " -1.68 𝐞₁ + -1.22 𝐞₂ + -1.75 𝐞₃ + -1.74 𝐞₁₂ + -2.26 𝐞₁₃ + 0.434 𝐞₂₃ + 0.000347 𝐞₁₂₃,\n",
       " -0.0416 𝐞₁ + -2.28 𝐞₂ + 0.112 𝐞₃ + -5.43 𝐞₁₂ + 0.299 𝐞₁₃ + -0.115 𝐞₂₃,\n",
       " -0.0416 𝐞₁ + -2.28 𝐞₂ + 0.112 𝐞₃ + -5.43 𝐞₁₂ + 0.299 𝐞₁₃ + -0.115 𝐞₂₃ + 3.27e-05 𝐞₁₂₃)"
      ]
     },
     "execution_count": 144,
     "metadata": {},
     "output_type": "execute_result"
    }
   ],
   "source": [
    "#5.16\n",
    "(\n",
    "    differential(f__(C^D), x, pb, h=1e-3), \n",
    "    (differential(f__(C), x, pb, h=1e-3)^f__(D)(x)) + (f__(C)(x)^differential(f__(D), x, pb, h=1e-3)),\n",
    "    differential(fa_(C^D), x, pb, h=1e-3), \n",
    "    (differential(fa_(C), x, pb, h=1e-3)^fa_(D)(x)) + (fa_(C)(x)^differential(fa_(D), x, pb, h=1e-3)),\n",
    "    )"
   ]
  },
  {
   "cell_type": "code",
   "execution_count": 145,
   "metadata": {},
   "outputs": [
    {
     "data": {
      "text/plain": [
       "(-0.817 𝐞₁ + -0.406 𝐞₂ + -1.16 𝐞₃ + -0.652 𝐞₁₂ + -1.23 𝐞₁₃ + 0.388 𝐞₂₃ + 8.09e-16 𝐞₁₂₃,\n",
       " 1.11e-14 + -0.818 𝐞₁ + -0.405 𝐞₂ + -1.16 𝐞₃ + -0.652 𝐞₁₂ + -1.24 𝐞₁₃ + 0.388 𝐞₂₃,\n",
       " -0.817 𝐞₁ + -0.406 𝐞₂ + -1.16 𝐞₃ + -0.652 𝐞₁₂ + -1.23 𝐞₁₃ + 0.388 𝐞₂₃ + 8.09e-16 𝐞₁₂₃)"
      ]
     },
     "execution_count": 145,
     "metadata": {},
     "output_type": "execute_result"
    }
   ],
   "source": [
    "#5.17a\n",
    "Pb_ = lambda A: lambda x: differential(lambda a: P(A(x), Ix(a)), x, pb, h=1e-2)\n",
    "Pb_1 = lambda A: lambda x: differential(lambda a: P(A(x), f_(Ix)(a)), x, pb, h=1e-2)\n",
    "fb = lambda C: differential(f__(C), x, pb, h=1e-2)\n",
    "C_ = lambda x: C\n",
    "(\n",
    "    fb(C),\n",
    "    Pb_1(f__(C))(x)+ P(fb(C), I1),\n",
    "    fb(P(C, I)) + f_(Pb_(C_))(x)\n",
    "    )"
   ]
  },
  {
   "cell_type": "code",
   "execution_count": 146,
   "metadata": {},
   "outputs": [
    {
     "data": {
      "text/plain": [
       "(-0.0517 𝐞₁ + -1.15 𝐞₂ + 0.0548 𝐞₃ + -2.89 𝐞₁₂ + 0.144 𝐞₁₃ + -0.0405 𝐞₂₃,\n",
       " -0.0517 𝐞₁ + -1.15 𝐞₂ + 0.0548 𝐞₃ + -2.89 𝐞₁₂ + 0.144 𝐞₁₃ + -0.0406 𝐞₂₃,\n",
       " 1.11e-14 + -0.0518 𝐞₁ + -1.15 𝐞₂ + 0.0548 𝐞₃ + -2.89 𝐞₁₂ + 0.144 𝐞₁₃ + -0.0405 𝐞₂₃)"
      ]
     },
     "execution_count": 146,
     "metadata": {},
     "output_type": "execute_result"
    }
   ],
   "source": [
    "#5.17b\n",
    "fb = lambda C: differential(fa_(C), x, pb, h=1e-2)\n",
    "\n",
    "(\n",
    "    fb(C),\n",
    "    Pb_(fa_(C))(x)+ P(fb(C), I),\n",
    "    fb(P(C, I1)) + fa_(Pb_1(C_)(x))(x)\n",
    "    )"
   ]
  },
  {
   "cell_type": "code",
   "execution_count": 147,
   "metadata": {},
   "outputs": [
    {
     "data": {
      "text/plain": [
       "(-0.349 𝐞₁ + -0.1 𝐞₂ + -0.262 𝐞₃, -0.349 𝐞₁ + -0.1 𝐞₂ + -0.262 𝐞₃)"
      ]
     },
     "execution_count": 147,
     "metadata": {},
     "output_type": "execute_result"
    }
   ],
   "source": [
    "#5.18\n",
    "differential(lambda y: differential(f, y, a(x)), x, b), differential(lambda y: differential(f, y, b), x, a(x))"
   ]
  },
  {
   "cell_type": "code",
   "execution_count": 148,
   "metadata": {},
   "outputs": [
    {
     "data": {
      "text/plain": [
       "(-0.0352 𝐞₁ + -0.209 𝐞₂ + 0.011 𝐞₃ + 17.7 𝐞₁₂ + -0.964 𝐞₁₃ + 0.358 𝐞₂₃ + -1.22e-19 𝐞₁₂₃,\n",
       " -0.000129 𝐞₁ + 0.000161 𝐞₂ + 0.00671 𝐞₃ + 0.000526 𝐞₁₂ + -0.539 𝐞₁₃ + 0.699 𝐞₂₃,\n",
       " -0.0352 𝐞₁ + -0.209 𝐞₂ + 0.011 𝐞₃ + 17.7 𝐞₁₂ + -0.963 𝐞₁₃ + 0.358 𝐞₂₃)"
      ]
     },
     "execution_count": 148,
     "metadata": {},
     "output_type": "execute_result"
    }
   ],
   "source": [
    "#5.19\n",
    "tangents = blade_split(I, alg)\n",
    "frame = multi_frame(tangents)\n",
    "r_frame = reci_frame(tangents)\n",
    "# pb_frame = [differential(lambda x: P(v, Ix(x)), x, b) for v in frame]\n",
    "A1 = f_(PA)(x)\n",
    "fb = lambda C: differential(fa_(C), x, pb, h=1e-2)\n",
    "fb_A1 = lambda C: differential(f__(C), x, pb, h=1e-2).sp(A1)\n",
    "dfb_A1 = derivative(fb_A1, x, alg, frame=frame, r_frame=r_frame, h=1e-2)\n",
    "\n",
    "(\n",
    "    dfb_A1 + Pb_(fa_(A1))(x),\n",
    "    Pb_(fa_(A1))(x),\n",
    "    fb(A1)\n",
    "    )"
   ]
  },
  {
   "cell_type": "code",
   "execution_count": 149,
   "metadata": {},
   "outputs": [
    {
     "data": {
      "text/plain": [
       "(-0.035 𝐞₁ + -0.209 𝐞₂ + 0.00434 𝐞₃ + 17.7 𝐞₁₂ + -0.424 𝐞₁₃ + -0.341 𝐞₂₃ + -1.22e-19 𝐞₁₂₃,\n",
       " -0.035 𝐞₁ + -0.209 𝐞₂ + 0.00434 𝐞₃ + 17.7 𝐞₁₂ + -0.424 𝐞₁₃ + -0.341 𝐞₂₃,\n",
       " 5.02e-10 𝐞₁ + -2.39e-08 𝐞₂ + 5.82e-10 𝐞₃ + -1.4e-07 𝐞₁₂ + 3.36e-09 𝐞₁₃ + 2.69e-09 𝐞₂₃,\n",
       " -0.035 𝐞₁ + -0.209 𝐞₂ + 0.00434 𝐞₃ + 17.7 𝐞₁₂ + -0.424 𝐞₁₃ + -0.341 𝐞₂₃)"
      ]
     },
     "execution_count": 149,
     "metadata": {},
     "output_type": "execute_result"
    }
   ],
   "source": [
    "#5.20\n",
    "(\n",
    "    dfb_A1,\n",
    "    P(dfb_A1, I),\n",
    "    P(Pb_(fa_(A1))(x), I),\n",
    "    P(fb(A1), I)\n",
    "    )"
   ]
  },
  {
   "cell_type": "code",
   "execution_count": 150,
   "metadata": {},
   "outputs": [
    {
     "data": {
      "text/plain": [
       "(-6.51, -6.51)"
      ]
     },
     "execution_count": 150,
     "metadata": {},
     "output_type": "execute_result"
    }
   ],
   "source": [
    "#5.21\n",
    "C.sp(fb(A1)), fb_A1(C)"
   ]
  },
  {
   "cell_type": "code",
   "execution_count": 151,
   "metadata": {},
   "outputs": [
    {
     "data": {
      "text/plain": [
       "-7.1e-18 𝐞₂ + 1.11e-19 𝐞₃ + -6.13e-06 𝐞₁₂ + 1.47e-07 𝐞₁₃ + 1.18e-07 𝐞₂₃"
      ]
     },
     "execution_count": 151,
     "metadata": {},
     "output_type": "execute_result"
    }
   ],
   "source": [
    "#5.22 quadriple differential, so the truncations...\n",
    "f_vec = lambda a: lambda x: differential(f, x, a, h=1e-3)\n",
    "fa_ = lambda A: adjoint_outermorphism_(f_vec, A, alg, Ix=Ix, h=1e-3)\n",
    "fb = lambda b: differential(fa_(A1), x, b, h=1e-3)\n",
    "P(curl(fb, x, alg, Ix=Ix, h=1e-2), I)"
   ]
  },
  {
   "cell_type": "code",
   "execution_count": 152,
   "metadata": {},
   "outputs": [
    {
     "data": {
      "text/plain": [
       "(0.162 + 0.0858 𝐞₁ + 0.0447 𝐞₂ + 0.0329 𝐞₃ + -2.04 𝐞₁₂ + -4.59 𝐞₁₃ + -1.61 𝐞₂₃ + 5.54e-19 𝐞₁₂₃,\n",
       " 0.162 + 0.0858 𝐞₁ + 0.0447 𝐞₂ + 0.0329 𝐞₃ + -2.04 𝐞₁₂ + -4.59 𝐞₁₃ + -1.61 𝐞₂₃ + 5.54e-19 𝐞₁₂₃)"
      ]
     },
     "execution_count": 152,
     "metadata": {},
     "output_type": "execute_result"
    }
   ],
   "source": [
    "# Even though these two are the same\n",
    "f__(PA(x))(x), f__(A(x))(x)"
   ]
  },
  {
   "cell_type": "code",
   "execution_count": 153,
   "metadata": {},
   "outputs": [
    {
     "data": {
      "text/plain": [
       "(-0.139 𝐞₁ + -0.0914 𝐞₂ + -0.0952 𝐞₃ + 0.0523 𝐞₁₂ + 0.117 𝐞₁₃ + 0.0411 𝐞₂₃ + -1e-15 𝐞₁₂₃,\n",
       " 1.91e-05 𝐞₁ + -3.58e-05 𝐞₂ + 0.000127 𝐞₃ + -1.34e-20 𝐞₁₂ + -3e-20 𝐞₁₃ + -1.05e-20 𝐞₂₃ + -9.99e-16 𝐞₁₂₃)"
      ]
     },
     "execution_count": 153,
     "metadata": {},
     "output_type": "execute_result"
    }
   ],
   "source": [
    "#5.23 The non-tangent part of A contributes to the exterior derivative\n",
    "\n",
    "f__ = lambda A: outermorphism_(f_vec, A, alg, Ix=Ix, h=1e-3)\n",
    "d(lambda x, A: f__(A)(x), x, A(x), alg, Ix, h=1e-2), d(lambda x, A: f__(A)(x), x, PA(x), alg, Ix, h=1e-2)"
   ]
  },
  {
   "cell_type": "code",
   "execution_count": 154,
   "metadata": {},
   "outputs": [
    {
     "data": {
      "text/plain": [
       "(6.61e-19 𝐞₁₂ + 1.59e-18 𝐞₁₃ + 1.85e-18 𝐞₂₃,\n",
       " -1.34e-20 𝐞₁₂ + -3e-20 𝐞₁₃ + -1.05e-20 𝐞₂₃)"
      ]
     },
     "execution_count": 154,
     "metadata": {},
     "output_type": "execute_result"
    }
   ],
   "source": [
    "#5.23 How? The vector part contributes nothing\n",
    "\n",
    "f__ = lambda A: outermorphism_(f_vec, A, alg, Ix=Ix, h=1e-3)\n",
    "d(lambda x, A: f__(A)(x), x, a(x), alg, Ix, h=1e-2), d(lambda x, A: f__(A)(x), x, pa(x), alg, Ix, h=1e-2)"
   ]
  },
  {
   "cell_type": "code",
   "execution_count": 155,
   "metadata": {},
   "outputs": [
    {
     "data": {
      "text/plain": [
       "(-0.00883 𝐞₁ + -0.0258 𝐞₂ + -0.0509 𝐞₃ + -3.16e-16 𝐞₁₂₃,\n",
       " 6.02e-06 𝐞₁ + -1.13e-05 𝐞₂ + 4e-05 𝐞₃ + -3.16e-16 𝐞₁₂₃)"
      ]
     },
     "execution_count": 155,
     "metadata": {},
     "output_type": "execute_result"
    }
   ],
   "source": [
    "#5.23 The bivector part contributes\n",
    "blade = random_r_blade(2, alg)\n",
    "pblade = P(blade, I)\n",
    "\n",
    "f__ = lambda A: outermorphism_(f_vec, A, alg, Ix=Ix, h=1e-3)\n",
    "d(lambda x, A: f__(A)(x), x, blade, alg, Ix, h=1e-2), d(lambda x, A: f__(A)(x), x, pblade, alg, Ix, h=1e-2)"
   ]
  },
  {
   "cell_type": "code",
   "execution_count": 156,
   "metadata": {},
   "outputs": [
    {
     "data": {
      "text/plain": [
       "[(0.431 𝐞₁ + 0.0125 𝐞₂ + 0.522 𝐞₃,\n",
       "  0.501 𝐞₁ + -0.079 𝐞₂ + -0.571 𝐞₃ + 5.84e-18 𝐞₁₂₃,\n",
       "  0.328 𝐞₁ + -0.311 𝐞₂ + -0.393 𝐞₃ + 2.92e-15 𝐞₁₂₃),\n",
       " (-0.00214 𝐞₁ + 0.444 𝐞₂ + 0.111 𝐞₃,\n",
       "  0.374 𝐞₁ + 0.51 𝐞₂ + 0.851 𝐞₃ + 2.7e-21 𝐞₁₂₃,\n",
       "  -0.337 𝐞₁ + 0.286 𝐞₂ + 0.342 𝐞₃ + 4.09e-15 𝐞₁₂₃)]"
      ]
     },
     "execution_count": 156,
     "metadata": {},
     "output_type": "execute_result"
    }
   ],
   "source": [
    "T = lambda x, A: f__(A)(x)\n",
    "list((inner(blade, r), T(x, inner(blade, r)), o(lambda x: T(x, inner(blade, r)))) for r, o in derivative_gen(x, alg, Ix=nIx, h=1e-3))\n"
   ]
  },
  {
   "cell_type": "code",
   "execution_count": 157,
   "metadata": {},
   "outputs": [
    {
     "data": {
      "text/plain": [
       "[0.346 𝐞₁ + -0.287 𝐞₂ + -0.352 𝐞₃ + 2.92e-15 𝐞₁₂₃,\n",
       " -0.346 𝐞₁ + 0.287 𝐞₂ + 0.352 𝐞₃ + 4.09e-15 𝐞₁₂₃]"
      ]
     },
     "execution_count": 157,
     "metadata": {},
     "output_type": "execute_result"
    }
   ],
   "source": [
    "T = lambda x, A: f__(A)(x)\n",
    "list(o(lambda x: T(x, inner(pblade, r))) for r, o in derivative_gen(x, alg, Ix=nIx, h=1e-3))\n"
   ]
  },
  {
   "cell_type": "code",
   "execution_count": 158,
   "metadata": {},
   "outputs": [
    {
     "data": {
      "text/plain": [
       "-1.73e-12 + -2.95e-11 𝐞₁ + 1.09e-10 𝐞₂ + -2.43e-11 𝐞₃ + -9.13e-21 𝐞₁₂ + 2.19e-22 𝐞₁₃ + 1.76e-22 𝐞₂₃"
      ]
     },
     "execution_count": 158,
     "metadata": {},
     "output_type": "execute_result"
    }
   ],
   "source": [
    "#5.24\n",
    "d(lambda x, A: P(A, Ix(x)), x, PA(x), alg, Ix)"
   ]
  },
  {
   "cell_type": "markdown",
   "metadata": {},
   "source": [
    "f_ and $fb$ are generalizations of $P$ and $Pb$\n",
    "\n",
    "Can we generalize the shape operator?\n",
    "\n",
    "    def shape(Ix, alg):\n",
    "        return lambda x: lambda A: derivative(lambda x: P(A, Ix(x)), x, alg, Ix=Ix)\n",
    "\n",
    "A generalization may be:\n",
    "\n",
    "    def shape_f(f_, Ix, alg):\n",
    "        return lambda x: lambda A: derivative(f_(A), x, alg, Ix=Ix)\n",
    "\n",
    "Note that f_(A) is a function of position $x$"
   ]
  },
  {
   "cell_type": "code",
   "execution_count": null,
   "metadata": {},
   "outputs": [
    {
     "data": {
      "text/plain": [
       "(-0.0578 𝐞₁ + -1.14 𝐞₂ + 0.0544 𝐞₃ + -2.85 𝐞₁₂ + 0.143 𝐞₁₃ + -0.0413 𝐞₂₃,\n",
       " -0.0578 𝐞₁ + -1.14 𝐞₂ + 0.0544 𝐞₃ + -2.85 𝐞₁₂ + 0.143 𝐞₁₃ + -0.0413 𝐞₂₃,\n",
       " -0.0578 𝐞₁ + -1.14 𝐞₂ + 0.0544 𝐞₃ + -2.85 𝐞₁₂ + 0.143 𝐞₁₃ + -0.0413 𝐞₂₃)"
      ]
     },
     "execution_count": 159,
     "metadata": {},
     "output_type": "execute_result"
    }
   ],
   "source": [
    "#5.25 Here A' -> C, Ap -> fa_(C), A'p -> P1C, A'r -> C_\n",
    "fb = lambda C: differential(fa_(C), x, pb, h=1e-3)\n",
    "Pb_ = lambda A: lambda x: differential(lambda a: P(A(x), Ix(a)), x, pb, h=1e-3)\n",
    "Pb_1 = lambda A: lambda x: differential(lambda a: P(A(x), f_(Ix)(a)), x, pb, h=1e-3)\n",
    "P1C = P(C, I1)\n",
    "C_ = lambda x: C - P1C\n",
    "(\n",
    "    fb(C),\n",
    "    Pb_(fa_(C))(x)+ P(fb(C), I),\n",
    "    fb(P1C) + fa_(Pb_1(C_)(x))(x)\n",
    "    )"
   ]
  },
  {
   "cell_type": "code",
   "execution_count": 160,
   "metadata": {},
   "outputs": [
    {
     "data": {
      "text/plain": [
       "(0.000585 𝐞₁₂ + -0.0133 𝐞₁₃ + 0.0534 𝐞₂₃ + -0.287 𝐞₁₂₃,\n",
       " -5.55e-11 𝐞₁ + 1.98e-11 𝐞₂ + -1.54e-12 𝐞₃ + 0.000711 𝐞₁₂ + -0.0133 𝐞₁₃ + 0.0535 𝐞₂₃ + -0.287 𝐞₁₂₃,\n",
       " -8.88e-19 𝐞₁ + -0.000124 𝐞₁₂ + 2.97e-06 𝐞₁₃ + 2.39e-06 𝐞₂₃)"
      ]
     },
     "execution_count": 160,
     "metadata": {},
     "output_type": "execute_result"
    }
   ],
   "source": [
    "#5.25b\n",
    "fb = lambda b: differential(fa_(C), x, b, h=1e-3)\n",
    "Pb = lambda b: differential(lambda a: P(fa_(C)(x), Ix(a)), x, b, h=1e-3)\n",
    "(\n",
    "    curl(fb, x, alg, Ix=Ix, h=1e-3), \n",
    "    curl(Pb, x, alg, Ix=Ix, h=1e-3), \n",
    "    P(curl(fb, x, alg, Ix=Ix, h=1e-3), I)\n",
    "    )\n"
   ]
  },
  {
   "cell_type": "code",
   "execution_count": 161,
   "metadata": {},
   "outputs": [
    {
     "data": {
      "text/plain": [
       "(0.000567 𝐞₁₂ + -0.0133 𝐞₁₃ + 0.0535 𝐞₂₃ + -0.287 𝐞₁₂₃,\n",
       " 6.03e-22 𝐞₁ + 2.78e-25 𝐞₂ + 1.16e-23 𝐞₃ + 0.0166 𝐞₁₂ + -0.000397 𝐞₁₃ + -0.000319 𝐞₂₃)"
      ]
     },
     "execution_count": 161,
     "metadata": {},
     "output_type": "execute_result"
    }
   ],
   "source": [
    "#5.25c\n",
    "fb = lambda b: differential(fa_(P1C), x, b, h=1e-3)\n",
    "Pb_1 = lambda b: differential(lambda a: P(C_(x), f_(Ix)(a)), x, b, h=1e-3)\n",
    "fa_ = lambda A: adjoint_outermorphism_(f_vec, A, alg, Ix=Ix, h=1e-3)\n",
    "(\n",
    "    curl(fb, x, alg, Ix=Ix, h=1e-3), \n",
    "    fa_(sum(r^o(Pb_1) for r, o in forward_derivative_gen(x, f, alg, Ix, h=1e-3)))(x),\n",
    "    )\n"
   ]
  },
  {
   "cell_type": "code",
   "execution_count": 164,
   "metadata": {},
   "outputs": [
    {
     "data": {
      "text/plain": [
       "(-2.38e-11 + -3.22e-11 𝐞₁ + 3.13e-10 𝐞₂ + -3.83e-11 𝐞₃ + 0.000711 𝐞₁₂ + -0.0132 𝐞₁₃ + 0.0534 𝐞₂₃ + -0.287 𝐞₁₂₃,\n",
       " -1.11e-13 𝐞₁ + -1.98e-14 𝐞₂ + -1.66e-15 𝐞₃ + 0.000711 𝐞₁₂ + -0.0132 𝐞₁₃ + 0.0534 𝐞₂₃ + -0.287 𝐞₁₂₃,\n",
       " -5.55e-11 𝐞₁ + 1.98e-11 𝐞₂ + -1.54e-12 𝐞₃ + 0.000711 𝐞₁₂ + -0.0133 𝐞₁₃ + 0.0535 𝐞₂₃ + -0.287 𝐞₁₂₃,\n",
       " 0.000567 𝐞₁₂ + -0.0133 𝐞₁₃ + 0.0535 𝐞₂₃ + -0.287 𝐞₁₂₃,\n",
       " 0.000585 𝐞₁₂ + -0.0133 𝐞₁₃ + 0.0534 𝐞₂₃ + -0.287 𝐞₁₂₃)"
      ]
     },
     "execution_count": 164,
     "metadata": {},
     "output_type": "execute_result"
    }
   ],
   "source": [
    "#5.26\n",
    "# S = lambda A: curl(lambda x: P(A, Ix(x)), x, alg, Ix=Ix, h=1e-3)\n",
    "S = shape(Ix, alg)(x)\n",
    "Pb = lambda b: differential(lambda a: P(fa_(C)(x), Ix(a)), x, b, h=1e-3)\n",
    "fb = lambda C: lambda b: differential(fa_(C), x, b, h=1e-3)\n",
    "(\n",
    "    S(fa_(C)(x)), \n",
    "    curl(lambda a: P(fa_(C)(x), Ix(a)), x, alg, Ix=Ix, h=1e-3), \n",
    "    curl(Pb, x, alg, Ix=Ix, h=1e-3), \n",
    "    curl(fb(P1C), x, alg, Ix=Ix, h=1e-3), \n",
    "    curl(fb(C), x, alg, Ix=Ix, h=1e-3),\n",
    "    )"
   ]
  },
  {
   "cell_type": "code",
   "execution_count": 37,
   "metadata": {},
   "outputs": [
    {
     "data": {
      "text/plain": [
       "(6.94e-18 + -0.0308 𝐞₁ + -0.121 𝐞₂ + 0.159 𝐞₃ + -0.0785 𝐞₁₂ + 0.297 𝐞₁₃ + 0.758 𝐞₂₃ + 0.962 𝐞₁₂₃,\n",
       " -2.59e-05 𝐞₁₂ + 7.18e-07 𝐞₁₃ + 1.74e-06 𝐞₂₃ + -4.26e-06 𝐞₁₂₃)"
      ]
     },
     "execution_count": 37,
     "metadata": {},
     "output_type": "execute_result"
    }
   ],
   "source": [
    "#5.27\n",
    "C - P1C, curl(fb(C - P1C), x, alg, Ix=Ix, h=1e-3)"
   ]
  },
  {
   "cell_type": "code",
   "execution_count": 38,
   "metadata": {},
   "outputs": [
    {
     "data": {
      "text/plain": [
       "(-0.274 𝐞₁ + 1.64 𝐞₂ + -0.0447 𝐞₃ + 0.917 𝐞₁₂ + -0.103 𝐞₁₃ + 0.0571 𝐞₂₃ + 0.145 𝐞₁₂₃,\n",
       " -0.274 𝐞₁ + 1.64 𝐞₂ + -0.0447 𝐞₃ + 0.917 𝐞₁₂ + -0.103 𝐞₁₃ + 0.0571 𝐞₂₃ + 0.145 𝐞₁₂₃)"
      ]
     },
     "execution_count": 38,
     "metadata": {},
     "output_type": "execute_result"
    }
   ],
   "source": [
    "#5.29 f: M -> N\n",
    "# Let A be a field on M, also a field on N with a hidden inverse f\n",
    "\n",
    "def forward_curl(F, x, f, alg, Ix, h=1e-6):\n",
    "    return sum(r ^ o(F) for r, o in forward_derivative_gen(x, f, alg, Ix, h))\n",
    "\n",
    "(\n",
    "    curl(fa(A), x, alg, Ix=Ix, h=1e-3),\n",
    "    S(fa(A)(x)) +\n",
    "    fa_(forward_curl(A, x, f, alg, Ix, h=1e-3))(x)\n",
    "    )"
   ]
  },
  {
   "cell_type": "code",
   "execution_count": 39,
   "metadata": {},
   "outputs": [
    {
     "data": {
      "text/plain": [
       "(-0.274 𝐞₁ + 1.64 𝐞₂ + -0.0447 𝐞₃ + 0.918 𝐞₁₂ + -0.022 𝐞₁₃ + -0.0177 𝐞₂₃,\n",
       " -0.274 𝐞₁ + 1.64 𝐞₂ + -0.0447 𝐞₃ + 0.918 𝐞₁₂ + -0.022 𝐞₁₃ + -0.0177 𝐞₂₃,\n",
       " -0.274 𝐞₁ + 1.64 𝐞₂ + -0.0447 𝐞₃ + 0.918 𝐞₁₂ + -0.022 𝐞₁₃ + -0.0177 𝐞₂₃ + 2.78e-17 𝐞₁₂₃,\n",
       " -0.274 𝐞₁ + 1.64 𝐞₂ + -0.0447 𝐞₃ + 0.918 𝐞₁₂ + -0.103 𝐞₁₃ + 0.0571 𝐞₂₃ + 0.145 𝐞₁₂₃)"
      ]
     },
     "execution_count": 39,
     "metadata": {},
     "output_type": "execute_result"
    }
   ],
   "source": [
    "#5.30 cocurl \"commutes\" with adjoint with a pushforward\n",
    "fA = fa(A)\n",
    "(\n",
    "    P(curl(fa(A), x, alg, Ix=Ix, h=1e-3), I), \n",
    "    fa_(forward_curl(A, x, f, alg, Ix, h=1e-3))(x), \n",
    "    sum(fa_(r)(x) ^ P(o(fA), I) for r, o in forward_derivative_gen(x, f, alg, Ix, h=1e-3)),\n",
    "    sum(fa_(r)(x) ^ o(fA) for r, o in forward_derivative_gen(x, f, alg, Ix, h=1e-3)), # Wrong! Need a projection to keep it intrinsic\n",
    "    )"
   ]
  },
  {
   "cell_type": "code",
   "execution_count": 40,
   "metadata": {},
   "outputs": [
    {
     "data": {
      "text/plain": [
       "(0.785 + 1.6 𝐞₁ + -0.487 𝐞₂ + 0.0424 𝐞₃ + 0.352 𝐞₁₂ + -0.00845 𝐞₁₃ + -0.00678 𝐞₂₃,\n",
       " 0.785 + 1.6 𝐞₁ + -0.487 𝐞₂ + 0.0424 𝐞₃ + 0.352 𝐞₁₂ + -0.00845 𝐞₁₃ + -0.00678 𝐞₂₃ + -6.94e-18 𝐞₁₂₃)"
      ]
     },
     "execution_count": 40,
     "metadata": {},
     "output_type": "execute_result"
    }
   ],
   "source": [
    "#5.31\n",
    "nI1 = normalize(I1)\n",
    "Jf = lambda x: norm(f_(nIx)(x))\n",
    "fa_(f_(A)(x) * nI1)(x), Jf(x) * PA(x) * nI"
   ]
  },
  {
   "cell_type": "code",
   "execution_count": 41,
   "metadata": {},
   "outputs": [
    {
     "data": {
      "text/plain": [
       "(3.99 + 0.533 𝐞₁ + -1.31 𝐞₂ + -0.891 𝐞₃ + 6.11e-17 𝐞₁₂ + -7.77e-17 𝐞₁₃ + -4.6e-16 𝐞₂₃,\n",
       " 3.99 + 0.533 𝐞₁ + -1.31 𝐞₂ + -0.891 𝐞₃ + -8.26e-20 𝐞₁₂ + -6.28e-20 𝐞₁₃ + 1.6e-20 𝐞₂₃ + -1.22e-17 𝐞₁₂₃,\n",
       " 3.99 + 0.533 𝐞₁ + -1.31 𝐞₂ + -0.891 𝐞₃ + -8.26e-20 𝐞₁₂ + -6.28e-20 𝐞₁₃ + 1.6e-20 𝐞₂₃ + -1.22e-17 𝐞₁₂₃)"
      ]
     },
     "execution_count": 41,
     "metadata": {},
     "output_type": "execute_result"
    }
   ],
   "source": [
    "#5.32a\n",
    "codiv_ = lambda A: codiv(A, x, alg, Ix=Ix, h=1e-3)\n",
    "cocurl_ = lambda A: cocurl(A, x, alg, Ix=Ix, h=1e-3)\n",
    "(\n",
    "    sum(inner(r, o(f_(PA))) for r, o in forward_derivative_gen(x, f, alg, Ix, h=1e-2)),\n",
    "    f__(codiv_(lambda x: Jf(x)*PA(x))/Jf(x))(x),\n",
    "    f__(codiv_(PA) + inner(cocurl_(lambda x: np.log(Jf(x))),PA(x)))(x)\n",
    "    )"
   ]
  },
  {
   "cell_type": "code",
   "execution_count": 42,
   "metadata": {},
   "outputs": [
    {
     "data": {
      "text/plain": [
       "(3.99 + 0.533 𝐞₁ + -1.31 𝐞₂ + -0.891 𝐞₃ + 6.11e-17 𝐞₁₂ + -7.77e-17 𝐞₁₃ + -4.6e-16 𝐞₂₃,\n",
       " 3.99 + 0.533 𝐞₁ + -1.31 𝐞₂ + -0.891 𝐞₃ + -8.26e-20 𝐞₁₂ + -6.28e-20 𝐞₁₃ + 1.6e-20 𝐞₂₃ + -1.22e-17 𝐞₁₂₃,\n",
       " 3.99 + 0.533 𝐞₁ + -1.31 𝐞₂ + -0.891 𝐞₃ + -8.26e-20 𝐞₁₂ + -6.28e-20 𝐞₁₃ + 1.6e-20 𝐞₂₃ + -1.22e-17 𝐞₁₂₃)"
      ]
     },
     "execution_count": 42,
     "metadata": {},
     "output_type": "execute_result"
    }
   ],
   "source": [
    "#5.32b\n",
    "div_ = lambda A: div(A, x, alg, Ix=Ix, h=1e-3)\n",
    "curl_ = lambda A: curl(A, x, alg, Ix=Ix, h=1e-3)\n",
    "(\n",
    "    sum(inner(r, o(f_(PA))) for r, o in forward_derivative_gen(x, f, alg, Ix, h=1e-2)),\n",
    "    f__(div_(lambda x: Jf(x)*PA(x))/Jf(x))(x),\n",
    "    f__(div_(PA) + inner(curl_(lambda x: np.log(Jf(x))),PA(x)))(x)\n",
    "    )"
   ]
  },
  {
   "cell_type": "code",
   "execution_count": 43,
   "metadata": {},
   "outputs": [
    {
     "data": {
      "text/plain": [
       "(2.13 + 0.826 𝐞₁ + -0.33 𝐞₂ + -0.0909 𝐞₃ + -3.38e-18 𝐞₁₂ + 2.85e-18 𝐞₁₃ + -1.51e-18 𝐞₂₃,\n",
       " 2.13 + 0.826 𝐞₁ + -0.33 𝐞₂ + -0.0909 𝐞₃ + -1.3e-18 𝐞₁₂ + -9.88e-19 𝐞₁₃ + 2.52e-19 𝐞₂₃ + -7.12e-18 𝐞₁₂₃)"
      ]
     },
     "execution_count": 43,
     "metadata": {},
     "output_type": "execute_result"
    }
   ],
   "source": [
    "#5.33\n",
    "inner(b, f_(A)(x)), f__(inner(fa_(b)(x), A(x)))(x)"
   ]
  },
  {
   "cell_type": "code",
   "execution_count": 44,
   "metadata": {},
   "outputs": [
    {
     "data": {
      "text/plain": [
       "(-0.553 + -0.96 𝐞₁ + -0.516 𝐞₂ + -0.578 𝐞₃ + 1.44e-16 𝐞₁₂ + -2.04e-16 𝐞₁₃ + -5.74e-17 𝐞₂₃,\n",
       " -0.553 + -0.96 𝐞₁ + -0.516 𝐞₂ + -0.578 𝐞₃ + -5.2e-18 𝐞₁₂ + -3.95e-18 𝐞₁₃ + 1.01e-18 𝐞₂₃ + 2.01e-18 𝐞₁₂₃)"
      ]
     },
     "execution_count": 44,
     "metadata": {},
     "output_type": "execute_result"
    }
   ],
   "source": [
    "#5.34 codiv \"commutes\" with outermorphism also with a pushforward but on the LHS\n",
    "(\n",
    "    sum(inner(r, f__(o(A))(x)) for r, o in forward_derivative_gen(x, f, alg, Ix)),\n",
    "    f__(codiv_(A))(x)\n",
    "    )"
   ]
  },
  {
   "cell_type": "code",
   "execution_count": 45,
   "metadata": {},
   "outputs": [
    {
     "data": {
      "text/plain": [
       "(4.55 + 1.55 𝐞₁ + -0.813 𝐞₂ + -0.318 𝐞₃ + -3.88e-15 𝐞₁₂ + 9.71e-15 𝐞₁₃ + 1.76e-14 𝐞₂₃,\n",
       " 4.55 + 1.55 𝐞₁ + -0.814 𝐞₂ + -0.318 𝐞₃ + -1.47e-17 𝐞₁₂₃,\n",
       " 4.55 + 1.55 𝐞₁ + -0.813 𝐞₂ + -0.318 𝐞₃ + -3.62e-16 𝐞₁₂ + 3.19e-16 𝐞₁₃ + -6.21e-16 𝐞₂₃)"
      ]
     },
     "execution_count": 45,
     "metadata": {},
     "output_type": "execute_result"
    }
   ],
   "source": [
    "#5.35\n",
    "def forward_curl(F, x, f, alg, Ix, h=1e-3):\n",
    "    return sum(r ^ o(F) for r, o in forward_derivative_gen(x, f, alg, Ix, h=h))\n",
    "\n",
    "def forward_div(F, x, f, alg, Ix, h=1e-3):\n",
    "    return sum(inner(r, o(F)) for r, o in forward_derivative_gen(x, f, alg, Ix, h=1e-3))\n",
    "(\n",
    "    forward_div(f__(PA(x)), x, f, alg, Ix),\n",
    "    f__(inner(curl_(lambda x: np.log(Jf(x))), A(x)))(x),\n",
    "    inner(forward_curl(lambda x: np.log(Jf(x)), x, f, alg, Ix), f_(A)(x)),\n",
    ")"
   ]
  },
  {
   "cell_type": "code",
   "execution_count": 46,
   "metadata": {},
   "outputs": [
    {
     "data": {
      "text/plain": [
       "(6.39 + 3.03 𝐞₁ + 1.76 𝐞₂ + 3.0 𝐞₃ + 1.45 𝐞₁₂ + -1.38 𝐞₁₃ + 3.55 𝐞₂₃ + 4.97 𝐞₁₂₃,\n",
       " 4.04 + 2.79 𝐞₁ + 1.41 𝐞₂ + 1.61 𝐞₃ + 1.42 𝐞₁₂ + -1.25 𝐞₁₃ + 2.46 𝐞₂₃ + 3.85 𝐞₁₂₃,\n",
       " 4.04 + 2.79 𝐞₁ + 1.41 𝐞₂ + 1.61 𝐞₃ + 1.42 𝐞₁₂ + -1.25 𝐞₁₃ + 2.46 𝐞₂₃ + 3.85 𝐞₁₂₃,\n",
       " 4.04 + 0.829 𝐞₁ + 0.695 𝐞₂ + 3.48 𝐞₃ + 0.391 𝐞₁₂ + -4.01 𝐞₁₃ + 2.67 𝐞₂₃ + 3.85 𝐞₁₂₃)"
      ]
     },
     "execution_count": 46,
     "metadata": {},
     "output_type": "execute_result"
    }
   ],
   "source": [
    "#5.36 simplify to differential only when A is a vector\n",
    "(   \n",
    "    differential(G, f(x), f_(A)(x), h=1e-3), \n",
    "    differential(G, f(x), f_(a)(x), h=1e-3), \n",
    "    sum(f__(alg.sp(r, a(x)))(x) * o(F) for r, o in derivative_gen(x, alg, Ix=Ix, h=1e-3)),\n",
    "    sum(f__(inner(A(x), r))(x) * o(F) for r, o in derivative_gen(x, alg, Ix=Ix, h=1e-3))\n",
    "    )"
   ]
  },
  {
   "cell_type": "code",
   "execution_count": 47,
   "metadata": {},
   "outputs": [
    {
     "data": {
      "text/plain": [
       "(4.04 + 0.829 𝐞₁ + 0.695 𝐞₂ + 3.48 𝐞₃ + 0.391 𝐞₁₂ + -4.01 𝐞₁₃ + 2.67 𝐞₂₃ + 3.85 𝐞₁₂₃,\n",
       " 4.04 + 0.829 𝐞₁ + 0.694 𝐞₂ + 3.48 𝐞₃ + 0.39 𝐞₁₂ + -4.0 𝐞₁₃ + 2.67 𝐞₂₃ + 3.85 𝐞₁₂₃,\n",
       " 4.04 + 0.829 𝐞₁ + 0.695 𝐞₂ + 3.48 𝐞₃ + 0.391 𝐞₁₂ + -4.01 𝐞₁₃ + 2.67 𝐞₂₃ + 3.85 𝐞₁₂₃)"
      ]
     },
     "execution_count": 47,
     "metadata": {},
     "output_type": "execute_result"
    }
   ],
   "source": [
    "#5.36\n",
    "(\n",
    "    sum(inner(f__(A(x))(x), r) * o(G) for r, o in f_derivative_gen(x, f, alg, Ix, h=1e-3)),\n",
    "    sum(inner(f__(A(x))(x), r) * o(F) for r, o in forward_derivative_gen(x, f, alg, Ix, h=1e-3)),\n",
    "    sum(f__(inner(A(x), r))(x) * o(F) for r, o in derivative_gen(x, alg, Ix=Ix, h=1e-3))\n",
    "    )"
   ]
  },
  {
   "cell_type": "code",
   "execution_count": 48,
   "metadata": {},
   "outputs": [
    {
     "data": {
      "text/plain": [
       "(-1.5 + -2.91 𝐞₁ + -2.37 𝐞₂ + -2.37 𝐞₃ + 8.29 𝐞₁₂ + 6.29 𝐞₁₃ + -1.6 𝐞₂₃ + 4.47e-19 𝐞₁₂₃,\n",
       " -1.49 + -2.89 𝐞₁ + -2.36 𝐞₂ + -2.35 𝐞₃ + 8.24 𝐞₁₂ + 6.26 𝐞₁₃ + -1.59 𝐞₂₃ + 3.75e-05 𝐞₁₂₃,\n",
       " -1.5 + -2.89 𝐞₁ + -2.37 𝐞₂ + -2.36 𝐞₃ + 8.24 𝐞₁₂ + 6.26 𝐞₁₃ + -1.59 𝐞₂₃ + 3.67e-19 𝐞₁₂₃,\n",
       " -1.49 + -2.89 𝐞₁ + -2.36 𝐞₂ + -2.35 𝐞₃ + 8.24 𝐞₁₂ + 6.26 𝐞₁₃ + -1.59 𝐞₂₃ + 3.75e-05 𝐞₁₂₃)"
      ]
     },
     "execution_count": 48,
     "metadata": {},
     "output_type": "execute_result"
    }
   ],
   "source": [
    "#5.37 holds for tangent fields\n",
    "B = lambda x: (C*x+D)**2\n",
    "def forward_lie_bracket(A, B, f, alg, Ix, h=1e-6):\n",
    "    return lambda x: sum((inner(A(x),r)^o(B)) - (o(A)^inner(r,B(x))) for r, o in forward_derivative_gen(x, f, alg, Ix, h))\n",
    "\n",
    "PB = lambda x: P(B(x), Ix(x))\n",
    "\n",
    "(\n",
    "    f_(lie_bracket(A, B, alg, Ix))(x), \n",
    "    forward_lie_bracket(f_(A), f_(B), f, alg, Ix, h=1e-3)(x), \n",
    "    f_(lie_bracket(PA, PB, alg, Ix))(x), \n",
    "    forward_lie_bracket(f_(PA), f_(PB), f, alg, Ix, h=1e-3)(x)\n",
    "    )"
   ]
  },
  {
   "cell_type": "code",
   "execution_count": 49,
   "metadata": {},
   "outputs": [
    {
     "data": {
      "text/plain": [
       "(-0.000152 + 5.04 𝐞₁₂ + -0.121 𝐞₁₃ + -0.0971 𝐞₂₃,\n",
       " 4.99e-17 + 5.67 𝐞₁₂ + -0.136 𝐞₁₃ + -0.109 𝐞₂₃)"
      ]
     },
     "execution_count": 49,
     "metadata": {},
     "output_type": "execute_result"
    }
   ],
   "source": [
    "#5.39\n",
    "r = 1\n",
    "s = 2\n",
    "P1B = lambda x: P(B(x), f_(Ix)(x))\n",
    "Ar = lambda x: PA(x).grade(r)\n",
    "Bs = lambda x: P1B(x).grade(s)\n",
    "\n",
    "def forward_dual_bracket(A, B, f, alg, nIx, h=1e-6):\n",
    "    # nIx: normalized pseudoscalar\n",
    "    f_vec = lambda a: lambda x: differential(f, x, a)\n",
    "    f_ = lambda A: outermorphism(f_vec, A, alg, Ix=Ix)\n",
    "    nIx = lambda x: normalize(Ix(x))\n",
    "    return lambda x: forward_lie_bracket(A, lambda x: B(x)*f_(nIx)(x), f, alg, nIx, h)(x) * inv(f_(nIx)(x))\n",
    "(\n",
    "    fa(forward_dual_bracket(f_(Ar), Bs, f, alg, nIx, h=1e-3))(x),\n",
    "    dual_bracket(Ar, fa(Bs), alg, nIx, h=1e-3)(x) -\n",
    "    inner(inner(Ar(x), cocurl_(lambda x: np.log(Jf(x)))), fa(Bs)(x))\n",
    ")"
   ]
  },
  {
   "cell_type": "code",
   "execution_count": 50,
   "metadata": {},
   "outputs": [
    {
     "data": {
      "text/plain": [
       "(-0.9674202003069668,\n",
       " array([-1.03367699, -1.03367699, -1.03367699]),\n",
       " array([ 0.97743069,  0.13460986, -0.03388521]))"
      ]
     },
     "execution_count": 50,
     "metadata": {},
     "output_type": "execute_result"
    }
   ],
   "source": [
    "#6.1\n",
    "s = lambda x: ((C + D*x) ** 2)[0]\n",
    "f = lambda x: s(x)*x\n",
    "s(x), terms_ratio(x, f(x)), terms_ratio(Ix(x), f_(Ix)(x))"
   ]
  },
  {
   "cell_type": "code",
   "execution_count": 51,
   "metadata": {},
   "outputs": [
    {
     "data": {
      "text/plain": [
       "(-1.21 𝐞₁₂ + 0.21 𝐞₁₃ + -0.669 𝐞₂₃,\n",
       " -1.21 𝐞₁₂ + 0.21 𝐞₁₃ + -0.669 𝐞₂₃,\n",
       " -1.21 𝐞₁₂ + 0.21 𝐞₁₃ + -0.669 𝐞₂₃)"
      ]
     },
     "execution_count": 51,
     "metadata": {},
     "output_type": "execute_result"
    }
   ],
   "source": [
    "#6.2\n",
    "r = 2\n",
    "Ar = lambda x: A(x).grade(r)\n",
    "PAr = P(Ar(x), I)\n",
    "(\n",
    "    f_(Ar)(x), \n",
    "    (s(x) ** r * PAr) + (s(x)**(r-1) * sum((PAr|r) * o(s) for r, o in derivative_gen(x, alg, Ix=Ix)) ^ x),\n",
    "    s(x)** r * (PAr + (sum((PAr|r) * o(lambda x: np.log(abs(s(x)))) for r, o in derivative_gen(x, alg, Ix=Ix)) ^ x))\n",
    "    )"
   ]
  },
  {
   "cell_type": "code",
   "execution_count": 52,
   "metadata": {},
   "outputs": [
    {
     "data": {
      "text/plain": [
       "(2.86 𝐞₁₂ + -0.498 𝐞₁₃ + 1.59 𝐞₂₃,\n",
       " 2.86 𝐞₁₂ + -0.498 𝐞₁₃ + 1.59 𝐞₂₃,\n",
       " 2.62 𝐞₁₂ + -0.0627 𝐞₁₃ + -0.0504 𝐞₂₃,\n",
       " 0.244 𝐞₁₂ + -0.435 𝐞₁₃ + 1.64 𝐞₂₃)"
      ]
     },
     "execution_count": 52,
     "metadata": {},
     "output_type": "execute_result"
    }
   ],
   "source": [
    "#6.2 on Ix\n",
    "(\n",
    "    f_(Ix)(x), \n",
    "    (s(x) ** r * I) + (s(x)**(r-1) * sum((I|r) * o(s) for r, o in derivative_gen(x, alg, Ix=Ix)) ^ x),\n",
    "    (s(x) ** r * I), (s(x)**(r-1) * sum((I|r) * o(s) for r, o in derivative_gen(x, alg, Ix=Ix)) ^ x),\n",
    "    )"
   ]
  },
  {
   "cell_type": "code",
   "execution_count": 53,
   "metadata": {},
   "outputs": [
    {
     "data": {
      "text/plain": [
       "(-1.39 𝐞₁₂ + 0.0333 𝐞₁₃ + 0.0267 𝐞₂₃, -1.39 𝐞₁₂ + 0.0333 𝐞₁₃ + 0.0267 𝐞₂₃)"
      ]
     },
     "execution_count": 53,
     "metadata": {},
     "output_type": "execute_result"
    }
   ],
   "source": [
    "#6.3\n",
    "(\n",
    "    fa(Ar)(x), \n",
    "    (s(x) ** r * PAr) + (s(x)**(r-1) * derivative(s, x, alg, Ix=Ix) ^ P(x|Ar(x), I)),\n",
    "    )"
   ]
  },
  {
   "cell_type": "code",
   "execution_count": 54,
   "metadata": {},
   "outputs": [
    {
     "data": {
      "text/plain": [
       "(1.0 𝐞₁₂ + -0.024 𝐞₁₃ + -0.0192 𝐞₂₃,\n",
       " 1.0 𝐞₁₂ + -0.024 𝐞₁₃ + -0.0192 𝐞₂₃,\n",
       " 1.0 𝐞₁₂ + -0.024 𝐞₁₃ + -0.0192 𝐞₂₃)"
      ]
     },
     "execution_count": 54,
     "metadata": {},
     "output_type": "execute_result"
    }
   ],
   "source": [
    "#6.4 central projection (normalization)\n",
    "s = lambda x: 1/norm(x) # so f(x) = normalize(x)\n",
    "I1x = lambda x: f(x) * e123\n",
    "n = lambda x: -e123 * nIx(x)\n",
    "nI, n(x) * e123, e123*n(x)"
   ]
  },
  {
   "cell_type": "code",
   "execution_count": 55,
   "metadata": {},
   "outputs": [
    {
     "data": {
      "text/plain": [
       "(0.492 𝐞₁₂ + -0.295 𝐞₁₃ + -0.152 𝐞₂₃,\n",
       " -0.492 𝐞₁₂ + 0.295 𝐞₁₃ + 0.152 𝐞₂₃,\n",
       " 0.492 𝐞₁₂ + -0.295 𝐞₁₃ + -0.152 𝐞₂₃)"
      ]
     },
     "execution_count": 55,
     "metadata": {},
     "output_type": "execute_result"
    }
   ],
   "source": [
    "#6.5a The Jf in our example indicates an opposite orientation\n",
    "f_(nIx)(x), Jf(x)*I1x(x), (s(x) ** 2 * nI ) + ((s(x)*nI*derivative(s, x, alg, Ix=Ix)) ^ x)"
   ]
  },
  {
   "cell_type": "code",
   "execution_count": 56,
   "metadata": {},
   "outputs": [
    {
     "data": {
      "text/plain": [
       "(-0.152 𝐞₁ + 0.295 𝐞₂ + 0.492 𝐞₃,\n",
       " 0.152 𝐞₁ + -0.295 𝐞₂ + -0.492 𝐞₃,\n",
       " -0.152 𝐞₁ + 0.295 𝐞₂ + 0.492 𝐞₃)"
      ]
     },
     "execution_count": 56,
     "metadata": {},
     "output_type": "execute_result"
    }
   ],
   "source": [
    "#6.5b\n",
    "f_(nIx)(x)*e123.reverse(), Jf(x)*normalize(x), (s(x) ** 2 * n(x) ) + ((s(x)*n(x)^derivative(s, x, alg, Ix=Ix)) | x)"
   ]
  },
  {
   "cell_type": "code",
   "execution_count": 57,
   "metadata": {},
   "outputs": [
    {
     "data": {
      "text/plain": [
       "(-0.0324 𝐞₁ + 0.0404 𝐞₂ + 1.69 𝐞₃, 0.0324 𝐞₁ + -0.0405 𝐞₂ + -1.69 𝐞₃)"
      ]
     },
     "execution_count": 57,
     "metadata": {},
     "output_type": "execute_result"
    }
   ],
   "source": [
    "#6.6 The f-inverse from S to M is just x -> x/s(x)\n",
    "x_ = f(x)\n",
    "\n",
    "n(x)/Jf(x), (s(x) ** (-2) * x_ ) + ((x_^forward_curl(lambda x: 1/s(x), x, f, alg, Ix=Ix)) | x_)/s(x)"
   ]
  },
  {
   "cell_type": "code",
   "execution_count": 58,
   "metadata": {},
   "outputs": [
    {
     "data": {
      "text/plain": [
       "(0.5931314802712396, 0.593153293723961, -0.593)"
      ]
     },
     "execution_count": 58,
     "metadata": {},
     "output_type": "execute_result"
    }
   ],
   "source": [
    "#6.7 terms in the RHS of 6.6 are perpendicular, so square and sum\n",
    "fc = forward_curl(lambda x: 1/s(x), x, f, alg, Ix=Ix)\n",
    "Jf(x), 1/np.sqrt(((s(x) ** (-4)) + (s(x)**(-2)*fc**2))[0]), s(x) ** 2 * n(x) | x_"
   ]
  },
  {
   "cell_type": "code",
   "execution_count": 59,
   "metadata": {},
   "outputs": [
    {
     "data": {
      "text/plain": [
       "(-0.234 𝐞₁₂ + 0.474 𝐞₁₃ + 0.239 𝐞₂₃, -0.249 𝐞₁₂ + 0.00598 𝐞₁₃ + 0.0048 𝐞₂₃)"
      ]
     },
     "execution_count": 59,
     "metadata": {},
     "output_type": "execute_result"
    }
   ],
   "source": [
    "#6.9 inversion\n",
    "s = lambda x: 1/(x**2)[0]\n",
    "Ar = lambda x: PA(x).grade(r)\n",
    "f_(Ar)(x), fa(Ar)(x) # not equal for all manifolds"
   ]
  },
  {
   "cell_type": "code",
   "execution_count": 60,
   "metadata": {},
   "outputs": [
    {
     "data": {
      "text/plain": [
       "(0.787 𝐞₁₂ + 0.914 𝐞₁₃ + 0.364 𝐞₂₃, 0.787 𝐞₁₂ + 0.914 𝐞₁₃ + 0.364 𝐞₂₃)"
      ]
     },
     "execution_count": 60,
     "metadata": {},
     "output_type": "execute_result"
    }
   ],
   "source": [
    "# But on Euclidean space\n",
    "Ix = lambda x: e123\n",
    "f_(Ar)(x), fa(Ar)(x)"
   ]
  },
  {
   "cell_type": "code",
   "execution_count": 61,
   "metadata": {},
   "outputs": [
    {
     "data": {
      "text/plain": [
       "1.39e-11 𝐞₁₂ + -1.39e-11 𝐞₁₃ + 5.55e-11 𝐞₂₃"
      ]
     },
     "execution_count": 61,
     "metadata": {},
     "output_type": "execute_result"
    }
   ],
   "source": [
    "# inversion is curl free\n",
    "curl(f, x, alg, grade=1)"
   ]
  },
  {
   "cell_type": "code",
   "execution_count": 62,
   "metadata": {},
   "outputs": [
    {
     "data": {
      "text/plain": [
       "(1.11 + 0.122 𝐞₁ + 0.314 𝐞₂ + 0.384 𝐞₃ + 0.673 𝐞₁₂ + 1.21 𝐞₁₃ + 1.38 𝐞₂₃ + 0.983 𝐞₁₂₃,\n",
       " 1.11 + 0.122 𝐞₁ + 0.314 𝐞₂ + 0.384 𝐞₃ + 0.673 𝐞₁₂ + 1.21 𝐞₁₃ + 1.38 𝐞₂₃ + 0.983 𝐞₁₂₃,\n",
       " 4.77 + 0.497 𝐞₁ + -0.181 𝐞₂ + -0.501 𝐞₃ + 1.9 𝐞₁₂ + 1.16 𝐞₁₃ + 1.68 𝐞₂₃ + 4.21 𝐞₁₂₃,\n",
       " 4.77 + 0.497 𝐞₁ + -0.181 𝐞₂ + -0.501 𝐞₃ + 1.9 𝐞₁₂ + 1.16 𝐞₁₃ + 1.68 𝐞₂₃ + 4.21 𝐞₁₂₃)"
      ]
     },
     "execution_count": 62,
     "metadata": {},
     "output_type": "execute_result"
    }
   ],
   "source": [
    "#6.10\n",
    "def forward_derivative(F, x, f, alg, Ix, h=1e-3):\n",
    "    return sum(r * o(F) for r, o in forward_derivative_gen(x, f, alg, Ix, h=1e-3))\n",
    "\n",
    "(\n",
    "    derivative(F, x, alg, grade=1), \n",
    "    sum(-x.sw(r)/(x**4)[0] * o(F) for r, o in forward_derivative_gen(x, f, alg, Ix, h=1e-3)),\n",
    "    forward_derivative(F, x, f, alg, Ix),\n",
    "    sum(-x.sw(r) * o(F) for r, o in derivative_gen(x, alg, Ix=Ix, h=1e-3))\n",
    "    )"
   ]
  },
  {
   "cell_type": "code",
   "execution_count": 63,
   "metadata": {},
   "outputs": [
    {
     "data": {
      "text/plain": [
       "(2.21 + -0.477 𝐞₁ + 0.928 𝐞₂ + 1.55 𝐞₃ + 1.37 𝐞₁₂ + -0.819 𝐞₁₃ + -0.421 𝐞₂₃ + 0.664 𝐞₁₂₃,\n",
       " 2.28 + 3.73 𝐞₁ + -0.633 𝐞₂ + -5.19 𝐞₃ + -3.8 𝐞₁₂ + 2.79 𝐞₁₃ + 1.44 𝐞₂₃ + -0.788 𝐞₁₂₃,\n",
       " 3.14 + 0.25 𝐞₁ + -0.138 𝐞₂ + 0.0156 𝐞₃ + -0.00545 𝐞₁₂ + 0.0943 𝐞₁₃ + 0.162 𝐞₂₃ + -0.275 𝐞₁₂₃,\n",
       " 2.31 + -0.718 𝐞₁ + 1.01 𝐞₂ + 1.35 𝐞₃ + 1.23 𝐞₁₂ + -0.876 𝐞₁₃ + -0.581 𝐞₂₃ + 0.484 𝐞₁₂₃)"
      ]
     },
     "execution_count": 63,
     "metadata": {},
     "output_type": "execute_result"
    }
   ],
   "source": [
    "#6.11 It's wrong because the derivative measures several nearby points around x, \n",
    "# but not directly on x, so no direct cancellation of x\n",
    "deriv_ = lambda F: lambda x: derivative(F, x, alg, Ix=Ix, h=1e-3)\n",
    "f_deriv_ = lambda F: lambda x: sum(r/(x**4)[0] * o(F) for r, o in forward_derivative_gen(x, f, alg, Ix, h=1e-3))\n",
    "forward_deriv_ = lambda F: lambda x: sum(r * o(F) for r, o in forward_derivative_gen(x, f, alg, Ix, h=1e-3))\n",
    "ff_deriv_ = lambda F: lambda x: sum(-x.sw(r)/(x**4)[0] * o(F) for r, o in forward_derivative_gen(x, f, alg, Ix, h=1e-3))\n",
    "\n",
    "(\n",
    "    deriv_(deriv_(F))(x), \n",
    "    f_deriv_(f_deriv_(F))(x), \n",
    "    forward_deriv_(forward_deriv_(F))(x)/(x**4)[0], \n",
    "    ff_deriv_(ff_deriv_(F))(x)\n",
    "    )"
   ]
  },
  {
   "cell_type": "code",
   "execution_count": 64,
   "metadata": {},
   "outputs": [
    {
     "data": {
      "text/plain": [
       "(0.34512491747611357, -0.345, -0.34512494149178446)"
      ]
     },
     "execution_count": 64,
     "metadata": {},
     "output_type": "execute_result"
    }
   ],
   "source": [
    "#6.12\n",
    "Jf(x), -e123*f__(e123)(x), -1/(x**6)[0]"
   ]
  },
  {
   "cell_type": "code",
   "execution_count": 65,
   "metadata": {},
   "outputs": [],
   "source": [
    "def Ix(x):\n",
    "    p = np.arctan((4/5)*x.e2/x.e1)\n",
    "    t = np.arccos(x.e3)\n",
    "    return e_p(p, t) ^ e_t(p, t)"
   ]
  },
  {
   "cell_type": "code",
   "execution_count": 66,
   "metadata": {},
   "outputs": [
    {
     "data": {
      "text/plain": [
       "(0.529 + -0.188 𝐞₁ + -1.8 𝐞₂ + 0.164 𝐞₃ + -0.57 𝐞₁₂ + 0.0419 𝐞₁₃ + -0.0969 𝐞₂₃ + -2.54e-18 𝐞₁₂₃,\n",
       " 0.529 + -0.188 𝐞₁ + -1.8 𝐞₂ + 0.164 𝐞₃ + -0.57 𝐞₁₂ + 0.0419 𝐞₁₃ + -0.0969 𝐞₂₃ + 4.66e-18 𝐞₁₂₃)"
      ]
     },
     "execution_count": 66,
     "metadata": {},
     "output_type": "execute_result"
    }
   ],
   "source": [
    "#6.14\n",
    "n = normalize(random_r_blade(1, alg))\n",
    "s = lambda x: ((C + D*x) ** 2)[0]\n",
    "f = lambda x: x + n*s(x)\n",
    "ds = derivative(s, x, alg, Ix=Ix)\n",
    "f_(A)(x), PA(x) + (inner(PA(x),ds) ^ n)"
   ]
  },
  {
   "cell_type": "code",
   "execution_count": 67,
   "metadata": {},
   "outputs": [
    {
     "data": {
      "text/plain": [
       "(0.529 + 0.615 𝐞₁ + -2.04 𝐞₂ + 0.0609 𝐞₃ + -0.598 𝐞₁₂ + 0.0144 𝐞₁₃ + 0.0115 𝐞₂₃,\n",
       " 0.529 + 0.615 𝐞₁ + -2.04 𝐞₂ + 0.0609 𝐞₃ + -0.598 𝐞₁₂ + 0.0144 𝐞₁₃ + 0.0115 𝐞₂₃)"
      ]
     },
     "execution_count": 67,
     "metadata": {},
     "output_type": "execute_result"
    }
   ],
   "source": [
    "#6.15\n",
    "fa(A)(x), P(A(x) + (ds ^ inner(n, A(x))), I)"
   ]
  },
  {
   "cell_type": "code",
   "execution_count": 68,
   "metadata": {},
   "outputs": [
    {
     "data": {
      "text/plain": [
       "(0.483 + -0.00265 𝐞₁₂ + -0.0915 𝐞₁₃ + -0.0239 𝐞₂₃,\n",
       " 0.483 + -0.00265 𝐞₁₂ + -0.0915 𝐞₁₃ + -0.0239 𝐞₂₃)"
      ]
     },
     "execution_count": 68,
     "metadata": {},
     "output_type": "execute_result"
    }
   ],
   "source": [
    "#6.16 because s is scalar, ds is tangent\n",
    "Pn = P(n,I)\n",
    "Kf = nI.reverse() * f__(nI)(x)\n",
    "Kf, 1 + differential(s, x, Pn) + (ds^(n - Pn))\n"
   ]
  },
  {
   "cell_type": "code",
   "execution_count": 69,
   "metadata": {},
   "outputs": [
    {
     "data": {
      "text/plain": [
       "(0.2421327289029572,\n",
       " 0.24213217590918257,\n",
       " 0.242 + 7.53e-22 𝐞₁₂ + -7.6e-21 𝐞₁₃ + 5.91e-20 𝐞₂₃)"
      ]
     },
     "execution_count": 69,
     "metadata": {},
     "output_type": "execute_result"
    }
   ],
   "source": [
    "#6.17 Kf**2 = (Ir * f_(I))r * Ir * f_(I) = f_(I)r * f_(I) = Jf**2\n",
    "normsq(Kf), Jf(x) ** 2, (1 + differential(s, x, Pn))**2 + ds**2 * normsq(nI ^n)"
   ]
  },
  {
   "cell_type": "code",
   "execution_count": 70,
   "metadata": {},
   "outputs": [
    {
     "data": {
      "text/plain": [
       "(2.36 + 0.611 𝐞₁ + -1.71 𝐞₂ + 0.519 𝐞₃ + -0.474 𝐞₁₂ + 1.16 𝐞₁₃ + 1.36 𝐞₂₃ + 2.08 𝐞₁₂₃,\n",
       " 2.36 + 0.611 𝐞₁ + -1.71 𝐞₂ + 0.52 𝐞₃ + -0.475 𝐞₁₂ + 1.16 𝐞₁₃ + 1.36 𝐞₂₃ + 2.08 𝐞₁₂₃,\n",
       " 2.36 + 0.611 𝐞₁ + -1.71 𝐞₂ + 0.52 𝐞₃ + -0.475 𝐞₁₂ + 1.16 𝐞₁₃ + 1.36 𝐞₂₃ + 2.08 𝐞₁₂₃)"
      ]
     },
     "execution_count": 70,
     "metadata": {},
     "output_type": "execute_result"
    }
   ],
   "source": [
    "#6.18\n",
    "(\n",
    "    deriv_(F)(x), \n",
    "    sum(fa_(r)(x) * o(F) for r, o in forward_derivative_gen(x, f, alg, Ix, h=1e-3)),\n",
    "    sum(P(r + ds * (n|r), I) * o(F) for r, o in forward_derivative_gen(x, f, alg, Ix, h=1e-3)),\n",
    "    )"
   ]
  },
  {
   "cell_type": "code",
   "execution_count": 71,
   "metadata": {},
   "outputs": [
    {
     "data": {
      "text/plain": [
       "(3.82e-17, )"
      ]
     },
     "execution_count": 71,
     "metadata": {},
     "output_type": "execute_result"
    }
   ],
   "source": [
    "#6.19\n",
    "Ix = lambda x: n * e123\n",
    "I = Ix(x)\n",
    "v = random_r_blade(1, alg)\n",
    "x = v - P(v, n)\n",
    "x|n, P(n, I)"
   ]
  },
  {
   "cell_type": "code",
   "execution_count": 72,
   "metadata": {},
   "outputs": [
    {
     "data": {
      "text/plain": [
       "(-0.0372 𝐞₁₂ + 0.483 𝐞₁₃ + 0.875 𝐞₂₃, -0.0372 𝐞₁₂ + 0.483 𝐞₁₃ + 0.875 𝐞₂₃)"
      ]
     },
     "execution_count": 72,
     "metadata": {},
     "output_type": "execute_result"
    }
   ],
   "source": [
    "#6.20b\n",
    "I1 = f_(Ix)(x)\n",
    "nI = nIx(x)\n",
    "nI1 = normalize(I1)\n",
    "n1 = -nI1 * e123\n",
    "nI1, n1*e123"
   ]
  },
  {
   "cell_type": "code",
   "execution_count": 73,
   "metadata": {},
   "outputs": [
    {
     "data": {
      "text/plain": [
       "(0.269 + -0.474 𝐞₁ + -0.877 𝐞₂ + 0.233 𝐞₃ + 0.0579 𝐞₁₂ + -0.751 𝐞₁₃ + -1.36 𝐞₂₃ + 2.56e-17 𝐞₁₂₃,\n",
       " 0.269 + -0.474 𝐞₁ + -0.877 𝐞₂ + 0.233 𝐞₃ + 0.0579 𝐞₁₂ + -0.751 𝐞₁₃ + -1.36 𝐞₂₃,\n",
       " 0.269 + -0.474 𝐞₁ + -0.877 𝐞₂ + 0.233 𝐞₃ + 0.0579 𝐞₁₂ + -0.751 𝐞₁₃ + -1.36 𝐞₂₃)"
      ]
     },
     "execution_count": 73,
     "metadata": {},
     "output_type": "execute_result"
    }
   ],
   "source": [
    "#6.21\n",
    "ds = derivative(s, x, alg, Ix=Ix)\n",
    "f_(A)(x), PA(x) + (inner(PA(x),ds) ^ n), PA(x) + (inner(PA(x),ds) * n)"
   ]
  },
  {
   "cell_type": "code",
   "execution_count": 74,
   "metadata": {},
   "outputs": [
    {
     "data": {
      "text/plain": [
       "(0.147 𝐞₁₂ + -0.731 𝐞₁₃ + 0.666 𝐞₂₃,\n",
       " -0.165 𝐞₁₂ + 2.15 𝐞₁₃ + 3.89 𝐞₂₃,\n",
       " -2.78e-17 + -0.165 𝐞₁₂ + 2.15 𝐞₁₃ + 3.89 𝐞₂₃,\n",
       " -0.165 𝐞₁₂ + 2.15 𝐞₁₃ + 3.89 𝐞₂₃)"
      ]
     },
     "execution_count": 74,
     "metadata": {},
     "output_type": "execute_result"
    }
   ],
   "source": [
    "nIx(x), f_(nIx)(x), nI * (1 + (ds ^ n)), Jf(x)*nI1"
   ]
  },
  {
   "cell_type": "code",
   "execution_count": 75,
   "metadata": {},
   "outputs": [
    {
     "data": {
      "text/plain": [
       "(1.0 + -4.27 𝐞₁₂ + -0.684 𝐞₁₃ + 0.195 𝐞₂₃,\n",
       " 1.0 + -4.27 𝐞₁₂ + -0.684 𝐞₁₃ + 0.195 𝐞₂₃,\n",
       " 1.0 + -4.27 𝐞₁₂ + -0.684 𝐞₁₃ + 0.195 𝐞₂₃)"
      ]
     },
     "execution_count": 75,
     "metadata": {},
     "output_type": "execute_result"
    }
   ],
   "source": [
    "#6.22\n",
    "-nI * f_(nIx)(x), Jf(x) * n * n1, 1 + ds*n"
   ]
  },
  {
   "cell_type": "code",
   "execution_count": 76,
   "metadata": {},
   "outputs": [
    {
     "data": {
      "text/plain": [
       "(0.875 𝐞₁ + -0.483 𝐞₂ + -0.0372 𝐞₃,\n",
       " 0.875 𝐞₁ + -0.483 𝐞₂ + -0.0372 𝐞₃ + -4.88e-18 𝐞₁₂₃)"
      ]
     },
     "execution_count": 76,
     "metadata": {},
     "output_type": "execute_result"
    }
   ],
   "source": [
    "#6.23\n",
    "n1, (n - ds)/Jf(x)"
   ]
  },
  {
   "cell_type": "code",
   "execution_count": 77,
   "metadata": {},
   "outputs": [
    {
     "data": {
      "text/plain": [
       "(4.44465318579657, 4.444653106457838)"
      ]
     },
     "execution_count": 77,
     "metadata": {},
     "output_type": "execute_result"
    }
   ],
   "source": [
    "#6.24\n",
    "Jf(x), norm(n - ds)"
   ]
  },
  {
   "cell_type": "code",
   "execution_count": 78,
   "metadata": {},
   "outputs": [
    {
     "data": {
      "text/plain": [
       "(3.18 + 1.64 𝐞₁ + -2.82 𝐞₂ + 6.58 𝐞₃ + -4.8 𝐞₁₂ + -1.12 𝐞₁₃ + -0.164 𝐞₂₃ + 2.8 𝐞₁₂₃,\n",
       " 3.18 + 1.64 𝐞₁ + -2.82 𝐞₂ + 6.58 𝐞₃ + -4.8 𝐞₁₂ + -1.12 𝐞₁₃ + -0.164 𝐞₂₃ + 2.8 𝐞₁₂₃)"
      ]
     },
     "execution_count": 78,
     "metadata": {},
     "output_type": "execute_result"
    }
   ],
   "source": [
    "#6.25\n",
    "derivative(F, x, alg, Ix=Ix), sum((P(r, I)+ds*(n|r))*o(F) for r, o in forward_derivative_gen(x, f, alg, Ix))"
   ]
  },
  {
   "cell_type": "code",
   "execution_count": 79,
   "metadata": {},
   "outputs": [
    {
     "data": {
      "text/plain": [
       "(-0.7230207086740077, -0.723)"
      ]
     },
     "execution_count": 79,
     "metadata": {},
     "output_type": "execute_result"
    }
   ],
   "source": [
    "#6.26\n",
    "s(x), n | f(x)"
   ]
  },
  {
   "cell_type": "code",
   "execution_count": 80,
   "metadata": {},
   "outputs": [
    {
     "data": {
      "text/plain": [
       "(-0.619 𝐞₁ + -0.408 𝐞₂ + -0.0848 𝐞₃, -0.619 𝐞₁ + -0.408 𝐞₂ + -0.0848 𝐞₃)"
      ]
     },
     "execution_count": 80,
     "metadata": {},
     "output_type": "execute_result"
    }
   ],
   "source": [
    "#6.27\n",
    "x1 = f(x)\n",
    "f(P(x1, I)), x1"
   ]
  },
  {
   "cell_type": "code",
   "execution_count": 81,
   "metadata": {},
   "outputs": [
    {
     "data": {
      "text/plain": [
       "(0.269 + -0.0498 𝐞₁ + -0.0327 𝐞₂ + 0.387 𝐞₃ + 0.00376 𝐞₁₂ + -0.0186 𝐞₁₃ + 0.017 𝐞₂₃,\n",
       " 0.269 + -0.0498 𝐞₁ + -0.0327 𝐞₂ + 0.387 𝐞₃ + 0.00376 𝐞₁₂ + -0.0186 𝐞₁₃ + 0.017 𝐞₂₃)"
      ]
     },
     "execution_count": 81,
     "metadata": {},
     "output_type": "execute_result"
    }
   ],
   "source": [
    "#6.28\n",
    "g = lambda x: P(x, I)\n",
    "g_vec = lambda a: lambda x: differential(g, x, a)\n",
    "g_ = lambda A: outermorphism(g_vec, A, alg, Ix=f_(Ix))\n",
    "P1A = lambda x: P(A(x), I1)\n",
    "g_(P1A)(x), P(P1A(x), I)"
   ]
  },
  {
   "cell_type": "code",
   "execution_count": 82,
   "metadata": {},
   "outputs": [
    {
     "data": {
      "text/plain": [
       "(0.269 + -0.0407 𝐞₁ + -0.103 𝐞₂ + 0.376 𝐞₃ + 0.00293 𝐞₁₂ + -0.038 𝐞₁₃ + -0.0689 𝐞₂₃,\n",
       " 0.269 + -0.0407 𝐞₁ + -0.103 𝐞₂ + 0.376 𝐞₃ + 0.00293 𝐞₁₂ + -0.038 𝐞₁₃ + -0.0689 𝐞₂₃)"
      ]
     },
     "execution_count": 82,
     "metadata": {},
     "output_type": "execute_result"
    }
   ],
   "source": [
    "#6.29\n",
    "ga = lambda A: adjoint_outermorphism(g_vec, A, alg, Ix=f_(Ix))\n",
    "ga(A)(x), P(PA(x), I1)"
   ]
  },
  {
   "cell_type": "code",
   "execution_count": 83,
   "metadata": {},
   "outputs": [
    {
     "data": {
      "text/plain": [
       "(3.18 + -0.319 𝐞₁ + -0.632 𝐞₂ + 0.682 𝐞₃ + 1.97 𝐞₁₂ + 0.212 𝐞₁₃ + -0.0333 𝐞₂₃ + 2.8 𝐞₁₂₃,\n",
       " 3.18 + -0.32 𝐞₁ + -0.632 𝐞₂ + 0.682 𝐞₃ + 1.97 𝐞₁₂ + 0.212 𝐞₁₃ + -0.0331 𝐞₂₃ + 2.8 𝐞₁₂₃)"
      ]
     },
     "execution_count": 83,
     "metadata": {},
     "output_type": "execute_result"
    }
   ],
   "source": [
    "#6.30\n",
    "forward_deriv_(F)(x), sum(P(r, I1)*o(F) for r, o in derivative_gen(x, alg, Ix=Ix))"
   ]
  },
  {
   "cell_type": "code",
   "execution_count": 84,
   "metadata": {},
   "outputs": [
    {
     "data": {
      "text/plain": [
       "(-0.888 𝐞₁ + -0.449 𝐞₂ + -0.0956 𝐞₃, -0.888 𝐞₁ + -0.449 𝐞₂ + -0.0956 𝐞₃)"
      ]
     },
     "execution_count": 84,
     "metadata": {},
     "output_type": "execute_result"
    }
   ],
   "source": [
    "#6.31\n",
    "Ix = lambda x: n * e123\n",
    "l = lambda x: 0.5 * normsq(x-n)\n",
    "f = lambda x: n + ((x-n)/l(x))\n",
    "f(x), -(x-n).sw(n)/normsq(x-n)"
   ]
  },
  {
   "cell_type": "code",
   "execution_count": 85,
   "metadata": {},
   "outputs": [
    {
     "data": {
      "text/plain": [
       "(0.165 𝐞₁ + -0.474 𝐞₂ + 0.696 𝐞₃ + 4.95e-17 𝐞₁₂₃,\n",
       " 0.165 𝐞₁ + -0.474 𝐞₂ + 0.696 𝐞₃)"
      ]
     },
     "execution_count": 85,
     "metadata": {},
     "output_type": "execute_result"
    }
   ],
   "source": [
    "#6.34\n",
    "f_(pa)(x), -(x-n).sw(pa(x))/normsq(x-n)/l(x)"
   ]
  },
  {
   "cell_type": "code",
   "execution_count": 86,
   "metadata": {},
   "outputs": [
    {
     "data": {
      "text/plain": [
       "(0.815 + -0.0879 𝐞₁₂ + 0.413 𝐞₁₃ + -0.816 𝐞₂₃,\n",
       " 0.815 + -0.0879 𝐞₁₂ + 0.413 𝐞₁₃ + -0.816 𝐞₂₃)"
      ]
     },
     "execution_count": 86,
     "metadata": {},
     "output_type": "execute_result"
    }
   ],
   "source": [
    "#6.35\n",
    "pb = P(b, I)\n",
    "f_(pa)(x) * f__(pb)(x), (x-n).sw(pa(x)*pb)/normsq(x-n)/l(x)**2"
   ]
  },
  {
   "cell_type": "code",
   "execution_count": 87,
   "metadata": {},
   "outputs": [
    {
     "data": {
      "text/plain": [
       "0.815"
      ]
     },
     "execution_count": 87,
     "metadata": {},
     "output_type": "execute_result"
    }
   ],
   "source": [
    "#6.36\n",
    "pa(x) | pb / l(x)**2"
   ]
  },
  {
   "cell_type": "code",
   "execution_count": 88,
   "metadata": {},
   "outputs": [
    {
     "data": {
      "text/plain": [
       "-0.0879 𝐞₁₂ + 0.413 𝐞₁₃ + -0.816 𝐞₂₃"
      ]
     },
     "execution_count": 88,
     "metadata": {},
     "output_type": "execute_result"
    }
   ],
   "source": [
    "#6.37\n",
    "f__(pa(x) ^ pb)(x)"
   ]
  },
  {
   "cell_type": "code",
   "execution_count": 89,
   "metadata": {},
   "outputs": [
    {
     "data": {
      "text/plain": [
       "(-0.125 𝐞₁₂ + 0.589 𝐞₁₃ + -1.16 𝐞₂₃, -0.125 𝐞₁₂ + 0.589 𝐞₁₃ + -1.16 𝐞₂₃)"
      ]
     },
     "execution_count": 89,
     "metadata": {},
     "output_type": "execute_result"
    }
   ],
   "source": [
    "#6.38\n",
    "r=2\n",
    "f_(Ar)(x), (x-n).sw(Ar(x))/normsq(x-n)/(-l(x))**r"
   ]
  },
  {
   "cell_type": "code",
   "execution_count": 90,
   "metadata": {},
   "outputs": [
    {
     "data": {
      "text/plain": [
       "(-0.676 𝐞₁ + 0.672 𝐞₂ + 3.13 𝐞₃ + 2.22e-16 𝐞₁₂₃,\n",
       " -0.676 𝐞₁ + 0.672 𝐞₂ + 3.13 𝐞₃ + 2.01e-16 𝐞₁₂₃)"
      ]
     },
     "execution_count": 90,
     "metadata": {},
     "output_type": "execute_result"
    }
   ],
   "source": [
    "#6.39\n",
    "s = 1\n",
    "PB = lambda x: P(B(x), Ix(x))\n",
    "Bs = lambda x: PB(x).grade(s)\n",
    "f_(Ar)(x) * f_(Bs)(x), (x-n).sw(Ar(x)*Bs(x))/normsq(x-n)/(-l(x))**(r+s)"
   ]
  },
  {
   "cell_type": "code",
   "execution_count": 91,
   "metadata": {},
   "outputs": [
    {
     "data": {
      "text/plain": [
       "(-0.723 𝐞₁₂ + 3.58 𝐞₁₃ + -3.27 𝐞₂₃,\n",
       " -0.723 𝐞₁₂ + 3.58 𝐞₁₃ + -3.27 𝐞₂₃,\n",
       " -0.438 𝐞₁₂ + 2.06 𝐞₁₃ + -4.07 𝐞₂₃)"
      ]
     },
     "execution_count": 91,
     "metadata": {},
     "output_type": "execute_result"
    }
   ],
   "source": [
    "#6.41\n",
    "A1r = f_(Ar)\n",
    "fa(A1r)(x), (x-n).sw(A1r(x))/normsq(x-n)/(-l(x))**r, f_(A1r)(x),"
   ]
  },
  {
   "cell_type": "code",
   "execution_count": null,
   "metadata": {},
   "outputs": [],
   "source": []
  }
 ],
 "metadata": {
  "kernelspec": {
   "display_name": "3.10.5",
   "language": "python",
   "name": "python3"
  },
  "language_info": {
   "codemirror_mode": {
    "name": "ipython",
    "version": 3
   },
   "file_extension": ".py",
   "mimetype": "text/x-python",
   "name": "python",
   "nbconvert_exporter": "python",
   "pygments_lexer": "ipython3",
   "version": "3.10.5"
  }
 },
 "nbformat": 4,
 "nbformat_minor": 2
}
