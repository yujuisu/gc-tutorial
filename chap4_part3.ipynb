{
 "cells": [
  {
   "cell_type": "code",
   "execution_count": 1,
   "metadata": {},
   "outputs": [
    {
     "data": {
      "text/plain": [
       "(1.0 𝐞₁₂ + -0.024 𝐞₁₃ + -0.0192 𝐞₂₃, 1.29e-15 𝐞₁₂₃)"
      ]
     },
     "execution_count": 1,
     "metadata": {},
     "output_type": "execute_result"
    }
   ],
   "source": [
    "#1.3 ellipsoid\n",
    "# Let M be an ellipsoid in R3, (ax)^{2}+(by)^{2}+z^{2}=d\n",
    "# x = 1/a*cos(p)*sin(t)*e1 + 1/b*sin(p)*sin(t)*e2 + cos(t)*e3, t, p in R\n",
    "\n",
    "from gc_utils import *\n",
    "alg = Algebra(3)\n",
    "locals().update(alg.blades)\n",
    "\n",
    "c2e = lambda p, t: 4*np.cos(p)*np.sin(t)*e1 + 5*np.sin(p)*np.sin(t)*e2 + np.cos(t)*e3\n",
    "e_p = lambda p, t: -4*np.sin(p)*np.sin(t)*e1 + 5*np.cos(p)*np.sin(t)*e2\n",
    "e_t = lambda p, t: (4*np.cos(p)*np.cos(t)*e1) + (5*np.sin(p)*np.cos(t)*e2) - (np.sin(t)*e3)\n",
    "def Ix(x):\n",
    "    p = np.arctan((4/5)*x.e2/x.e1)\n",
    "    t = np.arccos(x.e3)\n",
    "    return e_p(p, t) ^ e_t(p, t)\n",
    "\n",
    "# |p| < pi/2, 0 < t < pi for unique arctan & arccos\n",
    "p, t = -1, 3\n",
    "x = c2e(p, t)\n",
    "I = Ix(x)\n",
    "nIx = lambda x: normalize(Ix(x))\n",
    "nI = nIx(x)\n",
    "\n",
    "nI, nI ^ (3*e_t(p,t) + 5*e_p(p,t))"
   ]
  },
  {
   "cell_type": "code",
   "execution_count": 2,
   "metadata": {},
   "outputs": [
    {
     "data": {
      "text/plain": [
       "(0.305 𝐞₁ + -0.594 𝐞₂ + -0.99 𝐞₃,\n",
       " -1.42 𝐞₁ + 0.453 𝐞₂ + -4.25 𝐞₃,\n",
       " 0.0808 𝐞₁ + -1.27 𝐞₂ + 0.0319 𝐞₃,\n",
       " -2.1 𝐞₁ + -3.5 𝐞₂ + -5.1 𝐞₃)"
      ]
     },
     "execution_count": 2,
     "metadata": {},
     "output_type": "execute_result"
    }
   ],
   "source": [
    "#5.1\n",
    "C, D, E = [random_multivector(alg) for _ in range(3)]\n",
    "V1, V2 = [random_versor(2, alg) for _ in range(2)]\n",
    "f = lambda x: V1.sw(inv(x)) + V2.sw(x**3)\n",
    "A = lambda x: E*x**2 + C*x*D\n",
    "a = lambda x: A(x).grade(1)\n",
    "PA = lambda x: P(A(x), Ix(x))\n",
    "pa = lambda x: P(a(x), Ix(x))\n",
    "f_ = lambda a: lambda x: differential(f, x, a)\n",
    "\n",
    "x, f(x), pa(x), f_(pa(x))(x)"
   ]
  },
  {
   "cell_type": "code",
   "execution_count": 3,
   "metadata": {},
   "outputs": [
    {
     "data": {
      "text/plain": [
       "(0.258 + -1.73 𝐞₁ + -1.33 𝐞₂ + -10.9 𝐞₃ + 5.98 𝐞₁₂ + -19.0 𝐞₁₃ + -20.2 𝐞₂₃ + -76.6 𝐞₁₂₃,\n",
       " 0.258 + -2.1 𝐞₁ + -3.5 𝐞₂ + -5.1 𝐞₃ + 0.0727 𝐞₁₂ + 0.114 𝐞₁₃ + 0.0125 𝐞₂₃ + -2.29e-17 𝐞₁₂₃,\n",
       " 0.258 + -2.1 𝐞₁ + -3.5 𝐞₂ + -5.1 𝐞₃ + 0.0727 𝐞₁₂ + 0.114 𝐞₁₃ + 0.0125 𝐞₂₃,\n",
       " 0.258 + -2.1 𝐞₁ + -3.5 𝐞₂ + -5.1 𝐞₃ + 0.0727 𝐞₁₂ + 0.114 𝐞₁₃ + 0.0125 𝐞₂₃ + -2.29e-17 𝐞₁₂₃)"
      ]
     },
     "execution_count": 3,
     "metadata": {},
     "output_type": "execute_result"
    }
   ],
   "source": [
    "#5.2 For tangent fields, the outermorphism can be computed in the embedded space\n",
    "def outermorphism(f, field, alg, h=1e-6, frame=None, r_frame=None, Ix=None):\n",
    "    def f_outer(x):\n",
    "        nonlocal frame, r_frame\n",
    "        if Ix:\n",
    "            frame = blade_split(Ix(x), alg)\n",
    "            r_frame = reciprocal(frame)\n",
    "        A = field(x)\n",
    "        wf = lambda vectors: wedge([f(v)(x) for v in vectors])\n",
    "        outer = 0\n",
    "        for r in A.grades:\n",
    "            if r == 0:\n",
    "                outer += A.grade(0)\n",
    "                continue\n",
    "            outer += skew_symmetrizer(wf, A.grade(r), alg, h, frame, r_frame)\n",
    "        return outer\n",
    "    return f_outer\n",
    "\n",
    "outermorphism(f_, A, alg)(x), outermorphism(f_, A, alg, Ix=Ix)(x), outermorphism(f_, PA, alg)(x), outermorphism(f_, PA, alg, Ix=Ix)(x)"
   ]
  },
  {
   "cell_type": "code",
   "execution_count": 4,
   "metadata": {},
   "outputs": [
    {
     "data": {
      "text/plain": [
       "(21.09431527887049, 21.094315278870496)"
      ]
     },
     "execution_count": 4,
     "metadata": {},
     "output_type": "execute_result"
    }
   ],
   "source": [
    "#5.3\n",
    "f_vec = lambda a: lambda x: differential(f, x, a)\n",
    "f_ = lambda A: outermorphism(f_vec, A, alg, Ix=Ix)\n",
    "I1 = f_(Ix)(x)\n",
    "nI1 = f_(nIx)(x)\n",
    "norm(I1)/norm(I), norm(nI1)"
   ]
  },
  {
   "cell_type": "code",
   "execution_count": 5,
   "metadata": {},
   "outputs": [],
   "source": [
    "# Jacobian\n",
    "Jf = lambda x: norm(f_(nIx)(x))"
   ]
  },
  {
   "cell_type": "code",
   "execution_count": 6,
   "metadata": {},
   "outputs": [
    {
     "data": {
      "text/plain": [
       "0.258 + 5.04 𝐞₁ + -6.11 𝐞₂ + 0.244 𝐞₃ + -6.75 𝐞₁₂ + 0.162 𝐞₁₃ + 0.13 𝐞₂₃"
      ]
     },
     "execution_count": 6,
     "metadata": {},
     "output_type": "execute_result"
    }
   ],
   "source": [
    "#5.4\n",
    "def adjoint_outermorphism(f, field, alg, h=1e-6, frame=None, r_frame=None, Ix=None):\n",
    "    def f_outer(x):\n",
    "        A = field(x)\n",
    "        nonlocal frame, r_frame\n",
    "        if Ix:\n",
    "            frame = blade_split(Ix(x), alg)\n",
    "            r_frame = reciprocal(frame)\n",
    "        F = lambda vectors: wedge([f(v)(x) for v in vectors]).sp(A)\n",
    "        outer = 0\n",
    "        for r in A.grades:\n",
    "            if r == 0:\n",
    "                outer += A.grade(0)\n",
    "                continue\n",
    "            # Why np.zeros(r)? The derivative of a linear function is constant\n",
    "            outer += simplicial_derivative(F, np.zeros(r), alg, h, frame, r_frame)\n",
    "        return outer\n",
    "    return f_outer\n",
    "\n",
    "def adjoint_outermorphism_(f, A, alg, h=1e-6, frame=None, r_frame=None, Ix=None):\n",
    "    def f_outer(x):\n",
    "        nonlocal frame, r_frame\n",
    "        if Ix:\n",
    "            frame = blade_split(Ix(x), alg)\n",
    "            r_frame = reciprocal(frame)\n",
    "        F = lambda vectors: wedge([f(v)(x) for v in vectors]).sp(A)\n",
    "        outer = 0\n",
    "        for r in A.grades:\n",
    "            if r == 0:\n",
    "                outer += A.grade(0)\n",
    "                continue\n",
    "            # Why np.zeros(r)? The derivative of a linear function is constant\n",
    "            outer += simplicial_derivative(F, np.zeros(r), alg, h, frame, r_frame)\n",
    "        return outer\n",
    "    return f_outer\n",
    "\n",
    "adjoint_outermorphism(f_vec, A, alg, Ix=Ix)(x)"
   ]
  },
  {
   "cell_type": "code",
   "execution_count": 7,
   "metadata": {},
   "outputs": [
    {
     "data": {
      "text/plain": [
       "(0.258 + -2.1 𝐞₁ + -3.5 𝐞₂ + -5.1 𝐞₃ + 0.0727 𝐞₁₂ + 0.114 𝐞₁₃ + 0.0125 𝐞₂₃ + -2.29e-17 𝐞₁₂₃,\n",
       " 0.258 + -2.1 𝐞₁ + -3.5 𝐞₂ + -5.1 𝐞₃ + 0.0727 𝐞₁₂ + 0.114 𝐞₁₃ + 0.0125 𝐞₂₃ + -2.29e-17 𝐞₁₂₃,\n",
       " 0.258 + -2.1 𝐞₁ + -3.5 𝐞₂ + -5.1 𝐞₃ + 0.0727 𝐞₁₂ + 0.114 𝐞₁₃ + 0.0125 𝐞₂₃)"
      ]
     },
     "execution_count": 7,
     "metadata": {},
     "output_type": "execute_result"
    }
   ],
   "source": [
    "#5.10a\n",
    "f_(A)(x), f_(PA)(x), P(f_(A)(x), I1)"
   ]
  },
  {
   "cell_type": "code",
   "execution_count": 8,
   "metadata": {},
   "outputs": [
    {
     "data": {
      "text/plain": [
       "(0.258 + 5.04 𝐞₁ + -6.11 𝐞₂ + 0.244 𝐞₃ + -6.75 𝐞₁₂ + 0.162 𝐞₁₃ + 0.13 𝐞₂₃,\n",
       " 0.258 + 5.04 𝐞₁ + -6.11 𝐞₂ + 0.244 𝐞₃ + -6.75 𝐞₁₂ + 0.162 𝐞₁₃ + 0.13 𝐞₂₃,\n",
       " 0.258 + 5.04 𝐞₁ + -6.11 𝐞₂ + 0.244 𝐞₃ + -6.75 𝐞₁₂ + 0.162 𝐞₁₃ + 0.13 𝐞₂₃)"
      ]
     },
     "execution_count": 8,
     "metadata": {},
     "output_type": "execute_result"
    }
   ],
   "source": [
    "#5.10b\n",
    "P_ = lambda A: lambda x: P(A(x), I)\n",
    "P__ = lambda A: lambda x: P(A(x), I1)\n",
    "fa = lambda A: adjoint_outermorphism(f_vec, A, alg, Ix=Ix)\n",
    "fa(A)(x), fa(P__(A))(x), P_(fa(A))(x)"
   ]
  },
  {
   "cell_type": "code",
   "execution_count": 9,
   "metadata": {},
   "outputs": [
    {
     "data": {
      "text/plain": [
       "(38.0 + -3.8 𝐞₁ + -6.35 𝐞₂ + -9.25 𝐞₃ + -3.82 𝐞₁₂ + 2.62 𝐞₁₃ + -1.57 𝐞₂₃ + -4.43 𝐞₁₂₃,\n",
       " 38.0 + -3.8 𝐞₁ + -6.35 𝐞₂ + -9.25 𝐞₃ + -3.82 𝐞₁₂ + 2.62 𝐞₁₃ + -1.57 𝐞₂₃ + -4.43 𝐞₁₂₃)"
      ]
     },
     "execution_count": 9,
     "metadata": {},
     "output_type": "execute_result"
    }
   ],
   "source": [
    "#5.12\n",
    "G = lambda x: (x+D)**2\n",
    "F = lambda x: G(f(x))\n",
    "differential(F, x, pa(x)), differential(G, f(x), f_(pa)(x))"
   ]
  },
  {
   "cell_type": "code",
   "execution_count": 10,
   "metadata": {},
   "outputs": [
    {
     "data": {
      "text/plain": [
       "38.0 + -3.8 𝐞₁ + -6.35 𝐞₂ + -9.25 𝐞₃ + -3.82 𝐞₁₂ + 2.62 𝐞₁₃ + -1.57 𝐞₂₃ + -4.43 𝐞₁₂₃"
      ]
     },
     "execution_count": 10,
     "metadata": {},
     "output_type": "execute_result"
    }
   ],
   "source": [
    "#5.12c\n",
    "# without explicit define the inverse of f, we push forward the derivative\n",
    "def forward_derivative_gen(x, f, alg, Ix, h=1e-6):\n",
    "    f_vec = lambda a: lambda x: differential(f, x, a)\n",
    "    f_ = lambda A: outermorphism(f_vec, A, alg, Ix=Ix)\n",
    "    for v, r in frame_gen(x, alg, f_(Ix)):\n",
    "        yield (r, lambda F: differential(F, f(x), v, h))\n",
    "\n",
    "fa_ = lambda A: adjoint_outermorphism_(f_vec, A, alg, Ix=Ix)\n",
    "sum((pa(x)|fa_(r)(x)) * o(G) for r, o in forward_derivative_gen(x, f, alg, Ix))"
   ]
  },
  {
   "cell_type": "code",
   "execution_count": 11,
   "metadata": {},
   "outputs": [
    {
     "data": {
      "text/plain": [
       "(10.0 + 12.7 𝐞₁ + -31.5 𝐞₂ + 3.7 𝐞₃ + -6.63 𝐞₁₂ + -9.54 𝐞₁₃ + 7.99 𝐞₂₃ + 4.14 𝐞₁₂₃,\n",
       " 10.0 + 12.6 𝐞₁ + -31.5 𝐞₂ + 3.7 𝐞₃ + -6.63 𝐞₁₂ + -9.54 𝐞₁₃ + 7.99 𝐞₂₃ + 4.14 𝐞₁₂₃)"
      ]
     },
     "execution_count": 11,
     "metadata": {},
     "output_type": "execute_result"
    }
   ],
   "source": [
    "#5.13\n",
    "(\n",
    "    derivative(F, x, alg, Ix=Ix), \n",
    "    sum(fa_(r)(x) * o(G) for r, o in forward_derivative_gen(x, f, alg, Ix))\n",
    "    )"
   ]
  },
  {
   "cell_type": "code",
   "execution_count": 12,
   "metadata": {},
   "outputs": [],
   "source": [
    "def outermorphism_(f, A, alg, h=1e-6, frame=None, r_frame=None, Ix=None):\n",
    "    def f_outer(x):\n",
    "        nonlocal frame, r_frame\n",
    "        if Ix:\n",
    "            frame = blade_split(Ix(x), alg)\n",
    "            r_frame = reciprocal(frame)\n",
    "        wf = lambda vectors: wedge([f(v)(x) for v in vectors])\n",
    "        outer = 0\n",
    "        for r in A.grades:\n",
    "            if r == 0:\n",
    "                outer += A.grade(0)\n",
    "                continue\n",
    "            outer += skew_symmetrizer(wf, A.grade(r), alg, h, frame, r_frame)\n",
    "        return outer\n",
    "    return f_outer"
   ]
  },
  {
   "cell_type": "code",
   "execution_count": 13,
   "metadata": {},
   "outputs": [
    {
     "data": {
      "text/plain": [
       "(3.63 + -1.68 𝐞₁ + -3.14 𝐞₂ + -4.61 𝐞₃ + 0.326 𝐞₁₂ + -0.3 𝐞₁₃ + 0.821 𝐞₂₃ + 1.5 𝐞₁₂₃,\n",
       " 3.63 + -1.68 𝐞₁ + -3.14 𝐞₂ + -4.61 𝐞₃ + 0.326 𝐞₁₂ + -0.3 𝐞₁₃ + 0.821 𝐞₂₃ + 1.5 𝐞₁₂₃)"
      ]
     },
     "execution_count": 13,
     "metadata": {},
     "output_type": "execute_result"
    }
   ],
   "source": [
    "#5.14\n",
    "f__ = lambda A: outermorphism_(f_vec, A, alg, Ix=Ix)\n",
    "(\n",
    "    sum(r * o(G) for r, o in forward_derivative_gen(x, f, alg, Ix)),\n",
    "    sum(inv(f_(nIx)(x)) * f__(nI*r)(x) * o(F) for r, o in derivative_gen(x, alg, Ix))\n",
    "    )"
   ]
  },
  {
   "cell_type": "code",
   "execution_count": 67,
   "metadata": {},
   "outputs": [
    {
     "data": {
      "text/plain": [
       "(2.25 𝐞₁ + 0.633 𝐞₂ + 5.33 𝐞₃ + -0.0144 𝐞₁₂ + -0.0726 𝐞₁₃ + 0.078 𝐞₂₃ + 2.04e-16 𝐞₁₂₃,\n",
       " 5.62e-18 + 2.24 𝐞₁ + 0.655 𝐞₂ + 5.28 𝐞₃ + -0.0147 𝐞₁₂ + -0.0717 𝐞₁₃ + 0.0771 𝐞₂₃ + -2.11e-15 𝐞₁₂₃)"
      ]
     },
     "execution_count": 67,
     "metadata": {},
     "output_type": "execute_result"
    }
   ],
   "source": [
    "#5.15a Without the inverse of f\n",
    "# Pushing forward a differential is an extra linear transformation\n",
    "b = random_r_blade(1, alg)\n",
    "pb = P(b, I)\n",
    "pb1 = f__(pb)(x)\n",
    "differential(f__(PA(x)), x, pb, h=1e-2), sum((pb1 | (inv(f_(nIx)(x)) * f__(nI*r)(x))) * o(f__(PA(x))) for r, o in derivative_gen(x, alg, Ix, h=1e-2))"
   ]
  },
  {
   "cell_type": "code",
   "execution_count": 68,
   "metadata": {},
   "outputs": [
    {
     "data": {
      "text/plain": [
       "(-0.466 𝐞₁ + 0.326 𝐞₂ + -0.0098 𝐞₃ + -0.0142 𝐞₁₂ + 0.0022 𝐞₁₃ + -0.00235 𝐞₂₃,\n",
       " -2.1e-19 + -0.469 𝐞₁ + 0.349 𝐞₂ + -0.0104 𝐞₃ + -0.0145 𝐞₁₂ + 0.00221 𝐞₁₃ + -0.00234 𝐞₂₃ + 3.07e-17 𝐞₁₂₃)"
      ]
     },
     "execution_count": 68,
     "metadata": {},
     "output_type": "execute_result"
    }
   ],
   "source": [
    "#5.15b\n",
    "differential(fa_(PA(x)), x, pb, h=1e-2), sum((pb1 | (inv(f_(nIx)(x)) * f__(nI*r)(x))) * o(fa_(PA(x))) for r, o in derivative_gen(x, alg, Ix, h=1e-2))"
   ]
  },
  {
   "cell_type": "code",
   "execution_count": 92,
   "metadata": {},
   "outputs": [
    {
     "data": {
      "text/plain": [
       "(-0.143 𝐞₁ + -0.0663 𝐞₂ + -4.39 𝐞₃ + -3.02 𝐞₁₂ + -17.9 𝐞₁₃ + 13.9 𝐞₂₃ + 4.62e-14 𝐞₁₂₃,\n",
       " -0.143 𝐞₁ + -0.0663 𝐞₂ + -4.39 𝐞₃ + -3.02 𝐞₁₂ + -17.9 𝐞₁₃ + 13.9 𝐞₂₃ + -0.000897 𝐞₁₂₃,\n",
       " 0.431 𝐞₁ + -5.15 𝐞₂ + 0.287 𝐞₃ + -13.7 𝐞₁₂ + 1.52 𝐞₁₃ + -1.4 𝐞₂₃,\n",
       " 0.431 𝐞₁ + -5.15 𝐞₂ + 0.287 𝐞₃ + -13.7 𝐞₁₂ + 1.51 𝐞₁₃ + -1.4 𝐞₂₃ + -0.000672 𝐞₁₂₃)"
      ]
     },
     "execution_count": 92,
     "metadata": {},
     "output_type": "execute_result"
    }
   ],
   "source": [
    "#5.16\n",
    "(\n",
    "    differential(f__(C^D), x, pb, h=1e-3), \n",
    "    (differential(f__(C), x, pb, h=1e-3)^f__(D)(x)) + (f__(C)(x)^differential(f__(D), x, pb, h=1e-3)),\n",
    "    differential(fa_(C^D), x, pb, h=1e-3), \n",
    "    (differential(fa_(C), x, pb, h=1e-3)^fa_(D)(x)) + (fa_(C)(x)^differential(fa_(D), x, pb, h=1e-3)),\n",
    "    )"
   ]
  },
  {
   "cell_type": "code",
   "execution_count": 123,
   "metadata": {},
   "outputs": [
    {
     "data": {
      "text/plain": [
       "(0.0504 𝐞₁ + 0.07 𝐞₂ + -3.64 𝐞₃ + -1.73 𝐞₁₂ + -9.01 𝐞₁₃ + 9.84 𝐞₂₃ + 2.02e-15 𝐞₁₂₃,\n",
       " 5.55e-15 + 0.0505 𝐞₁ + 0.0696 𝐞₂ + -3.64 𝐞₃ + -1.73 𝐞₁₂ + -9.01 𝐞₁₃ + 9.84 𝐞₂₃,\n",
       " -1.67e-14 + 0.0503 𝐞₁ + 0.07 𝐞₂ + -3.64 𝐞₃ + -1.73 𝐞₁₂ + -9.01 𝐞₁₃ + 9.84 𝐞₂₃ + 2.03e-15 𝐞₁₂₃)"
      ]
     },
     "execution_count": 123,
     "metadata": {},
     "output_type": "execute_result"
    }
   ],
   "source": [
    "#5.17a\n",
    "Pb_ = lambda A: lambda x: differential(lambda a: P(A(x), Ix(a)), x, pb, h=1e-2)\n",
    "Pb_1 = lambda A: lambda x: differential(lambda a: P(A(x), f_(Ix)(a)), x, pb, h=1e-2)\n",
    "fb = lambda C: differential(f__(C), x, pb, h=1e-2)\n",
    "C_ = lambda x: C\n",
    "(\n",
    "    fb(C),\n",
    "    Pb_1(f__(C))(x)+ P(fb(C), I1),\n",
    "    fb(P(C, I)) + f_(Pb_(C_))(x)\n",
    "    )"
   ]
  },
  {
   "cell_type": "code",
   "execution_count": 136,
   "metadata": {},
   "outputs": [
    {
     "data": {
      "text/plain": [
       "(0.556 𝐞₁ + -2.92 𝐞₂ + 0.207 𝐞₃ + -6.19 𝐞₁₂ + 0.762 𝐞₁₃ + -0.743 𝐞₂₃,\n",
       " -1.67e-14 + 0.556 𝐞₁ + -2.92 𝐞₂ + 0.207 𝐞₃ + -6.19 𝐞₁₂ + 0.762 𝐞₁₃ + -0.743 𝐞₂₃,\n",
       " 5.55e-15 + 0.556 𝐞₁ + -2.92 𝐞₂ + 0.207 𝐞₃ + -6.19 𝐞₁₂ + 0.762 𝐞₁₃ + -0.743 𝐞₂₃)"
      ]
     },
     "execution_count": 136,
     "metadata": {},
     "output_type": "execute_result"
    }
   ],
   "source": [
    "#5.17b\n",
    "fb = lambda C: differential(fa_(C), x, pb, h=1e-2)\n",
    "\n",
    "(\n",
    "    fb(C),\n",
    "    Pb_(fa_(C))(x)+ P(fb(C), I),\n",
    "    fb(P(C, I1)) + fa_(Pb_1(C_)(x))(x)\n",
    "    )"
   ]
  },
  {
   "cell_type": "code",
   "execution_count": 140,
   "metadata": {},
   "outputs": [
    {
     "data": {
      "text/plain": [
       "(9.15 𝐞₁ + -1.4 𝐞₂ + 20.7 𝐞₃, 9.15 𝐞₁ + -1.4 𝐞₂ + 20.7 𝐞₃)"
      ]
     },
     "execution_count": 140,
     "metadata": {},
     "output_type": "execute_result"
    }
   ],
   "source": [
    "#5.18\n",
    "differential(lambda y: differential(f, y, a(x)), x, b), differential(lambda y: differential(f, y, b), x, a(x))"
   ]
  },
  {
   "cell_type": "code",
   "execution_count": 159,
   "metadata": {},
   "outputs": [
    {
     "data": {
      "text/plain": [
       "(5.11 𝐞₁ + 27.2 𝐞₂ + -0.805 𝐞₃ + -1.29 𝐞₁₂ + 0.107 𝐞₁₃ + -0.0823 𝐞₂₃ + 6.76e-17 𝐞₁₂₃,\n",
       " 5.11 𝐞₁ + 27.2 𝐞₂ + -0.805 𝐞₃ + -1.29 𝐞₁₂ + 0.107 𝐞₁₃ + -0.0823 𝐞₂₃)"
      ]
     },
     "execution_count": 159,
     "metadata": {},
     "output_type": "execute_result"
    }
   ],
   "source": [
    "#5.19\n",
    "tangents = blade_split(I, alg)\n",
    "frame = multi_frame(tangents)\n",
    "r_frame = reci_frame(tangents)\n",
    "# pb_frame = [differential(lambda x: P(v, Ix(x)), x, b) for v in frame]\n",
    "A1 = f_(PA)(x)\n",
    "fb = lambda C: differential(fa_(C), x, pb, h=1e-2)\n",
    "fb_A1 = lambda C: differential(f__(C), x, pb, h=1e-2).sp(A1)\n",
    "\n",
    "(\n",
    "    derivative(fb_A1, x, alg, frame=frame, r_frame=r_frame, h=1e-2) +\n",
    "    Pb_(fa_(A1))(x),\n",
    "    fb(A1)\n",
    "    )"
   ]
  },
  {
   "cell_type": "code",
   "execution_count": 161,
   "metadata": {},
   "outputs": [
    {
     "data": {
      "text/plain": [
       "(5.11 𝐞₁ + 27.2 𝐞₂ + -0.555 𝐞₃ + -1.29 𝐞₁₂ + 0.031 𝐞₁₃ + 0.0249 𝐞₂₃ + 6.76e-17 𝐞₁₂₃,\n",
       " 3.63e-06 𝐞₁ + 3.52e-06 𝐞₂ + -1.46e-08 𝐞₃ + 5.18e-08 𝐞₁₂ + -1.24e-09 𝐞₁₃ + -9.97e-10 𝐞₂₃,\n",
       " 5.11 𝐞₁ + 27.2 𝐞₂ + -0.555 𝐞₃ + -1.29 𝐞₁₂ + 0.031 𝐞₁₃ + 0.0249 𝐞₂₃)"
      ]
     },
     "execution_count": 161,
     "metadata": {},
     "output_type": "execute_result"
    }
   ],
   "source": [
    "#5.20\n",
    "(\n",
    "    derivative(fb_A1, x, alg, frame=frame, r_frame=r_frame, h=1e-2),\n",
    "    P(Pb_(fa_(A1))(x), I),\n",
    "    P(fb(A1), I)\n",
    "    )"
   ]
  },
  {
   "cell_type": "code",
   "execution_count": 162,
   "metadata": {},
   "outputs": [
    {
     "data": {
      "text/plain": [
       "(19.2, 19.2)"
      ]
     },
     "execution_count": 162,
     "metadata": {},
     "output_type": "execute_result"
    }
   ],
   "source": [
    "#5.21\n",
    "C.sp(fb(A1)), fb_A1(C)"
   ]
  },
  {
   "cell_type": "code",
   "execution_count": 198,
   "metadata": {},
   "outputs": [
    {
     "data": {
      "text/plain": [
       "-8.88e-19 𝐞₂ + 0.000509 𝐞₁₂ + -1.22e-05 𝐞₁₃ + -9.8e-06 𝐞₂₃"
      ]
     },
     "execution_count": 198,
     "metadata": {},
     "output_type": "execute_result"
    }
   ],
   "source": [
    "#5.22 quadriple differential, so the truncations...\n",
    "f_vec = lambda a: lambda x: differential(f, x, a, h=1e-3)\n",
    "fa_ = lambda A: adjoint_outermorphism_(f_vec, A, alg, Ix=Ix, h=1e-3)\n",
    "fb = lambda b: differential(fa_(A1), x, b, h=1e-3)\n",
    "P(curl(fb, x, alg, Ix=Ix, h=1e-2), I)"
   ]
  },
  {
   "cell_type": "code",
   "execution_count": 199,
   "metadata": {},
   "outputs": [
    {
     "data": {
      "text/plain": [
       "6.36e-07 𝐞₁ + -6.6e-07 𝐞₂ + 3.23e-07 𝐞₃ + 1.46e-18 𝐞₁₂ + 2.28e-18 𝐞₁₃ + 2.51e-19 𝐞₂₃ + 6.28e-17 𝐞₁₂₃"
      ]
     },
     "execution_count": 199,
     "metadata": {},
     "output_type": "execute_result"
    }
   ],
   "source": [
    "#5.23\n",
    "f__ = lambda A: outermorphism_(f_vec, A, alg, Ix=Ix, h=1e-3)\n",
    "d(lambda x, A: f__(A)(x), x, PA(x), alg, Ix, h=1e-2)"
   ]
  },
  {
   "cell_type": "code",
   "execution_count": null,
   "metadata": {},
   "outputs": [],
   "source": [
    "#"
   ]
  }
 ],
 "metadata": {
  "kernelspec": {
   "display_name": "3.10.5",
   "language": "python",
   "name": "python3"
  },
  "language_info": {
   "codemirror_mode": {
    "name": "ipython",
    "version": 3
   },
   "file_extension": ".py",
   "mimetype": "text/x-python",
   "name": "python",
   "nbconvert_exporter": "python",
   "pygments_lexer": "ipython3",
   "version": "3.10.5"
  }
 },
 "nbformat": 4,
 "nbformat_minor": 2
}
