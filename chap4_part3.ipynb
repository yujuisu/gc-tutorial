{
 "cells": [
  {
   "cell_type": "code",
   "execution_count": 1,
   "metadata": {},
   "outputs": [
    {
     "data": {
      "text/plain": [
       "(1.0 𝐞₁₂ + -0.024 𝐞₁₃ + -0.0192 𝐞₂₃, 1.29e-15 𝐞₁₂₃)"
      ]
     },
     "execution_count": 1,
     "metadata": {},
     "output_type": "execute_result"
    }
   ],
   "source": [
    "#1.3 ellipsoid\n",
    "# Let M be an ellipsoid in R3, (ax)^{2}+(by)^{2}+z^{2}=d\n",
    "# x = 1/a*cos(p)*sin(t)*e1 + 1/b*sin(p)*sin(t)*e2 + cos(t)*e3, t, p in R\n",
    "\n",
    "from gc_utils import *\n",
    "alg = Algebra(3)\n",
    "locals().update(alg.blades)\n",
    "\n",
    "c2e = lambda p, t: 4*np.cos(p)*np.sin(t)*e1 + 5*np.sin(p)*np.sin(t)*e2 + np.cos(t)*e3\n",
    "e_p = lambda p, t: -4*np.sin(p)*np.sin(t)*e1 + 5*np.cos(p)*np.sin(t)*e2\n",
    "e_t = lambda p, t: (4*np.cos(p)*np.cos(t)*e1) + (5*np.sin(p)*np.cos(t)*e2) - (np.sin(t)*e3)\n",
    "def Ix(x):\n",
    "    p = np.arctan((4/5)*x.e2/x.e1)\n",
    "    t = np.arccos(x.e3)\n",
    "    return e_p(p, t) ^ e_t(p, t)\n",
    "\n",
    "# |p| < pi/2, 0 < t < pi for unique arctan & arccos\n",
    "p, t = -1, 3\n",
    "x = c2e(p, t)\n",
    "I = Ix(x)\n",
    "nIx = lambda x: normalize(Ix(x))\n",
    "nI = nIx(x)\n",
    "\n",
    "nI, nI ^ (3*e_t(p,t) + 5*e_p(p,t))"
   ]
  },
  {
   "cell_type": "code",
   "execution_count": 2,
   "metadata": {},
   "outputs": [
    {
     "data": {
      "text/plain": [
       "(0.305 𝐞₁ + -0.594 𝐞₂ + -0.99 𝐞₃,\n",
       " 2.11 𝐞₁ + -1.77 𝐞₂ + 0.0853 𝐞₃,\n",
       " 0.57 𝐞₁ + 0.584 𝐞₂ + -0.00304 𝐞₃,\n",
       " 0.139 𝐞₁ + 0.945 𝐞₂ + -1.4 𝐞₃)"
      ]
     },
     "execution_count": 2,
     "metadata": {},
     "output_type": "execute_result"
    }
   ],
   "source": [
    "#5.1\n",
    "C, D, E = [random_multivector(alg) for _ in range(3)]\n",
    "V1, V2 = [random_versor(2, alg) for _ in range(2)]\n",
    "f = lambda x: V1.sw(inv(x)) + V2.sw(x**3)\n",
    "A = lambda x: E*x**2 + C*x*D\n",
    "a = lambda x: A(x).grade(1)\n",
    "PA = lambda x: P(A(x), Ix(x))\n",
    "pa = lambda x: P(a(x), Ix(x))\n",
    "f_ = lambda a: lambda x: differential(f, x, a)\n",
    "\n",
    "x, f(x), pa(x), f_(pa(x))(x)"
   ]
  },
  {
   "cell_type": "code",
   "execution_count": 3,
   "metadata": {},
   "outputs": [
    {
     "data": {
      "text/plain": [
       "(0.603 + 0.257 𝐞₁ + 0.859 𝐞₂ + -1.47 𝐞₃ + 0.41 𝐞₁₂ + -5.78 𝐞₁₃ + 6.02 𝐞₂₃ + 7.59 𝐞₁₂₃,\n",
       " 0.603 + 0.139 𝐞₁ + 0.945 𝐞₂ + -1.4 𝐞₃ + -0.646 𝐞₁₂ + 1.01 𝐞₁₃ + 0.376 𝐞₂₃ + 4.06e-18 𝐞₁₂₃,\n",
       " 0.603 + 0.139 𝐞₁ + 0.945 𝐞₂ + -1.4 𝐞₃ + -0.646 𝐞₁₂ + 1.01 𝐞₁₃ + 0.376 𝐞₂₃,\n",
       " 0.603 + 0.139 𝐞₁ + 0.945 𝐞₂ + -1.4 𝐞₃ + -0.646 𝐞₁₂ + 1.01 𝐞₁₃ + 0.376 𝐞₂₃ + 4.06e-18 𝐞₁₂₃)"
      ]
     },
     "execution_count": 3,
     "metadata": {},
     "output_type": "execute_result"
    }
   ],
   "source": [
    "#5.2 For tangent fields, the outermorphism can be computed in the embedded space\n",
    "# the scalar product in the skew_symmetrizer acts as a projection into the tangent space\n",
    "def outermorphism(f, field, alg, h=1e-6, frame=None, r_frame=None, Ix=None):\n",
    "    def f_outer(x):\n",
    "        nonlocal frame, r_frame\n",
    "        if Ix:\n",
    "            frame = blade_split(Ix(x), alg)\n",
    "            r_frame = reciprocal(frame)\n",
    "        A = field(x)\n",
    "        wf = lambda vectors: wedge([f(v)(x) for v in vectors])\n",
    "        outer = 0\n",
    "        for r in A.grades:\n",
    "            if r == 0:\n",
    "                outer += A.grade(0)\n",
    "                continue\n",
    "            outer += skew_symmetrizer(wf, A.grade(r), alg, h, frame, r_frame)\n",
    "        return outer\n",
    "    return f_outer\n",
    "\n",
    "outermorphism(f_, A, alg)(x), outermorphism(f_, A, alg, Ix=Ix)(x), outermorphism(f_, PA, alg)(x), outermorphism(f_, PA, alg, Ix=Ix)(x)"
   ]
  },
  {
   "cell_type": "code",
   "execution_count": 4,
   "metadata": {},
   "outputs": [
    {
     "data": {
      "text/plain": [
       "(6.024958532921703, 6.024958532921705)"
      ]
     },
     "execution_count": 4,
     "metadata": {},
     "output_type": "execute_result"
    }
   ],
   "source": [
    "#5.3\n",
    "f_vec = lambda a: lambda x: differential(f, x, a)\n",
    "f_ = lambda A: outermorphism(f_vec, A, alg, Ix=Ix)\n",
    "I1 = f_(Ix)(x)\n",
    "nI1 = f_(nIx)(x)\n",
    "norm(I1)/norm(I), norm(nI1)"
   ]
  },
  {
   "cell_type": "code",
   "execution_count": 5,
   "metadata": {},
   "outputs": [],
   "source": [
    "# Jacobian\n",
    "Jf = lambda x: norm(f_(nIx)(x))"
   ]
  },
  {
   "cell_type": "code",
   "execution_count": 6,
   "metadata": {},
   "outputs": [
    {
     "data": {
      "text/plain": [
       "0.603 + 1.95 𝐞₁ + -0.684 𝐞₂ + 0.054 𝐞₃ + -5.64 𝐞₁₂ + 0.135 𝐞₁₃ + 0.109 𝐞₂₃"
      ]
     },
     "execution_count": 6,
     "metadata": {},
     "output_type": "execute_result"
    }
   ],
   "source": [
    "#5.4\n",
    "def adjoint_outermorphism(f, field, alg, h=1e-6, frame=None, r_frame=None, Ix=None):\n",
    "    def f_outer(x):\n",
    "        A = field(x)\n",
    "        nonlocal frame, r_frame\n",
    "        if Ix:\n",
    "            frame = blade_split(Ix(x), alg)\n",
    "            r_frame = reciprocal(frame)\n",
    "        F = lambda vectors: wedge([f(v)(x) for v in vectors]).sp(A)\n",
    "        outer = 0\n",
    "        for r in A.grades:\n",
    "            if r == 0:\n",
    "                outer += A.grade(0)\n",
    "                continue\n",
    "            # Why np.zeros(r)? The derivative of a linear function is constant\n",
    "            outer += simplicial_derivative(F, np.zeros(r), alg, h, frame, r_frame)\n",
    "        return outer\n",
    "    return f_outer\n",
    "\n",
    "def adjoint_outermorphism_(f, A, alg, h=1e-6, frame=None, r_frame=None, Ix=None):\n",
    "    def f_outer(x):\n",
    "        nonlocal frame, r_frame\n",
    "        if Ix:\n",
    "            frame = blade_split(Ix(x), alg)\n",
    "            r_frame = reciprocal(frame)\n",
    "        F = lambda vectors: wedge([f(v)(x) for v in vectors]).sp(A)\n",
    "        outer = 0\n",
    "        for r in A.grades:\n",
    "            if r == 0:\n",
    "                outer += A.grade(0)\n",
    "                continue\n",
    "            # Why np.zeros(r)? The derivative of a linear function is constant\n",
    "            outer += simplicial_derivative(F, np.zeros(r), alg, h, frame, r_frame)\n",
    "        return outer\n",
    "    return f_outer\n",
    "\n",
    "adjoint_outermorphism(f_vec, A, alg, Ix=Ix)(x)"
   ]
  },
  {
   "cell_type": "code",
   "execution_count": 7,
   "metadata": {},
   "outputs": [
    {
     "data": {
      "text/plain": [
       "(8.219178082191782, 2.598448050479924, 6.5)"
      ]
     },
     "execution_count": 7,
     "metadata": {},
     "output_type": "execute_result"
    }
   ],
   "source": [
    "240/(2*10*200/1000*7.3), 100/ (np.pi*49/4), 130/100*5"
   ]
  },
  {
   "cell_type": "code",
   "execution_count": 8,
   "metadata": {},
   "outputs": [
    {
     "data": {
      "text/plain": [
       "(0.603 + 0.139 𝐞₁ + 0.945 𝐞₂ + -1.4 𝐞₃ + -0.646 𝐞₁₂ + 1.01 𝐞₁₃ + 0.376 𝐞₂₃ + 4.06e-18 𝐞₁₂₃,\n",
       " 0.603 + 0.139 𝐞₁ + 0.945 𝐞₂ + -1.4 𝐞₃ + -0.646 𝐞₁₂ + 1.01 𝐞₁₃ + 0.376 𝐞₂₃ + 4.06e-18 𝐞₁₂₃,\n",
       " 0.603 + 0.139 𝐞₁ + 0.945 𝐞₂ + -1.4 𝐞₃ + -0.646 𝐞₁₂ + 1.01 𝐞₁₃ + 0.376 𝐞₂₃)"
      ]
     },
     "execution_count": 8,
     "metadata": {},
     "output_type": "execute_result"
    }
   ],
   "source": [
    "#5.10a\n",
    "f_(A)(x), f_(PA)(x), P(f_(A)(x), I1)"
   ]
  },
  {
   "cell_type": "code",
   "execution_count": 9,
   "metadata": {},
   "outputs": [
    {
     "data": {
      "text/plain": [
       "(0.603 + 1.95 𝐞₁ + -0.684 𝐞₂ + 0.054 𝐞₃ + -5.64 𝐞₁₂ + 0.135 𝐞₁₃ + 0.109 𝐞₂₃,\n",
       " 0.603 + 1.95 𝐞₁ + -0.684 𝐞₂ + 0.054 𝐞₃ + -5.64 𝐞₁₂ + 0.135 𝐞₁₃ + 0.109 𝐞₂₃,\n",
       " 0.603 + 1.95 𝐞₁ + -0.684 𝐞₂ + 0.054 𝐞₃ + -5.64 𝐞₁₂ + 0.135 𝐞₁₃ + 0.109 𝐞₂₃)"
      ]
     },
     "execution_count": 9,
     "metadata": {},
     "output_type": "execute_result"
    }
   ],
   "source": [
    "#5.10b\n",
    "P_ = lambda A: lambda x: P(A(x), I)\n",
    "P__ = lambda A: lambda x: P(A(x), I1)\n",
    "fa = lambda A: adjoint_outermorphism(f_vec, A, alg, Ix=Ix)\n",
    "fa(A)(x), fa(P__(A))(x), P_(fa(A))(x)"
   ]
  },
  {
   "cell_type": "code",
   "execution_count": 10,
   "metadata": {},
   "outputs": [
    {
     "data": {
      "text/plain": [
       "(-3.16 + 0.119 𝐞₁ + 0.807 𝐞₂ + -1.19 𝐞₃ + -2.54 𝐞₁₂ + -1.72 𝐞₁₃ + 0.252 𝐞₂₃ + -3.17 𝐞₁₂₃,\n",
       " -3.17 + 0.119 𝐞₁ + 0.807 𝐞₂ + -1.19 𝐞₃ + -2.54 𝐞₁₂ + -1.72 𝐞₁₃ + 0.252 𝐞₂₃ + -3.17 𝐞₁₂₃)"
      ]
     },
     "execution_count": 10,
     "metadata": {},
     "output_type": "execute_result"
    }
   ],
   "source": [
    "#5.12 outermorphism push forward tangent vectors\n",
    "G = lambda x: (x+D)**2\n",
    "F = lambda x: G(f(x))\n",
    "differential(F, x, pa(x)), differential(G, f(x), f_(pa)(x))"
   ]
  },
  {
   "cell_type": "code",
   "execution_count": 43,
   "metadata": {},
   "outputs": [
    {
     "data": {
      "text/plain": [
       "(-3.16 + 0.119 𝐞₁ + 0.807 𝐞₂ + -1.19 𝐞₃ + -2.54 𝐞₁₂ + -1.72 𝐞₁₃ + 0.252 𝐞₂₃ + -3.17 𝐞₁₂₃,\n",
       " -3.17 + 0.119 𝐞₁ + 0.807 𝐞₂ + -1.19 𝐞₃ + -2.54 𝐞₁₂ + -1.72 𝐞₁₃ + 0.252 𝐞₂₃ + -3.17 𝐞₁₂₃)"
      ]
     },
     "execution_count": 43,
     "metadata": {},
     "output_type": "execute_result"
    }
   ],
   "source": [
    "#5.12c adjoint-outermorphism is the pullback/chain rule of derivatives\n",
    "# without explicit define the inverse of f, we push forward the frame\n",
    "\n",
    "def f_derivative_gen(x, f, alg, Ix, h=1e-6):\n",
    "    f_vec = lambda a: lambda x: differential(f, x, a)\n",
    "    f_ = lambda A: outermorphism(f_vec, A, alg, Ix=Ix)\n",
    "    for v, r in frame_gen(x, alg, f_(Ix)):\n",
    "        yield (r, lambda F: differential(F, f(x), v, h))\n",
    "\n",
    "# Say f: M -> N\n",
    "# \"back\" as the derivative acts on a field G on N\n",
    "# Yet mimicking the derivative of G(f(x)) on M\n",
    "def back_derivative_gen(x, f, alg, Ix, h=1e-6):\n",
    "    f_vec = lambda a: lambda x: differential(f, x, a)\n",
    "    f_ = lambda A: outermorphism(f_vec, A, alg, Ix=Ix)\n",
    "    fa_ = lambda A: adjoint_outermorphism_(f_vec, A, alg, Ix=Ix)\n",
    "    for v, r in frame_gen(x, alg, f_(Ix)):\n",
    "        yield (fa_(r)(x), lambda F: differential(F, f(x), v, h))\n",
    "\n",
    "\n",
    "fa_ = lambda A: adjoint_outermorphism_(f_vec, A, alg, Ix=Ix)\n",
    "differential(F, x, pa(x)), sum((pa(x)|r) * o(G) for r, o in back_derivative_gen(x, f, alg, Ix))"
   ]
  },
  {
   "cell_type": "code",
   "execution_count": 45,
   "metadata": {},
   "outputs": [
    {
     "data": {
      "text/plain": [
       "(2.17 + 8.82 𝐞₁ + -12.4 𝐞₂ + -5.12 𝐞₃ + 2.68 𝐞₁₂ + 3.92 𝐞₁₃ + -2.33 𝐞₂₃ + 4.62 𝐞₁₂₃,\n",
       " 2.17 + 8.82 𝐞₁ + -12.4 𝐞₂ + -5.12 𝐞₃ + 2.68 𝐞₁₂ + 3.92 𝐞₁₃ + -2.34 𝐞₂₃ + 4.62 𝐞₁₂₃)"
      ]
     },
     "execution_count": 45,
     "metadata": {},
     "output_type": "execute_result"
    }
   ],
   "source": [
    "#5.13\n",
    "(\n",
    "    derivative(F, x, alg, Ix=Ix), \n",
    "    sum(r * o(G) for r, o in back_derivative_gen(x, f, alg, Ix))\n",
    "    )"
   ]
  },
  {
   "cell_type": "code",
   "execution_count": 13,
   "metadata": {},
   "outputs": [],
   "source": [
    "def outermorphism_(f, A, alg, h=1e-6, frame=None, r_frame=None, Ix=None):\n",
    "    def f_outer(x):\n",
    "        nonlocal frame, r_frame\n",
    "        if Ix:\n",
    "            frame = blade_split(Ix(x), alg)\n",
    "            r_frame = reciprocal(frame)\n",
    "        wf = lambda vectors: wedge([f(v)(x) for v in vectors])\n",
    "        outer = 0\n",
    "        for r in A.grades:\n",
    "            if r == 0:\n",
    "                outer += A.grade(0)\n",
    "                continue\n",
    "            outer += skew_symmetrizer(wf, A.grade(r), alg, h, frame, r_frame)\n",
    "        return outer\n",
    "    return f_outer"
   ]
  },
  {
   "cell_type": "code",
   "execution_count": 42,
   "metadata": {},
   "outputs": [
    {
     "data": {
      "text/plain": [
       "(1.71 + 3.67 𝐞₁ + -0.218 𝐞₂ + 2.48 𝐞₃ + 1.75 𝐞₁₂ + 0.866 𝐞₁₃ + 0.679 𝐞₂₃ + 3.63 𝐞₁₂₃,\n",
       " 1.71 + 3.67 𝐞₁ + -0.218 𝐞₂ + 2.48 𝐞₃ + 1.75 𝐞₁₂ + 0.866 𝐞₁₃ + 0.679 𝐞₂₃ + 3.63 𝐞₁₂₃,\n",
       " 1.71 + 3.67 𝐞₁ + -0.218 𝐞₂ + 2.48 𝐞₃ + 1.75 𝐞₁₂ + 0.866 𝐞₁₃ + 0.679 𝐞₂₃ + 3.63 𝐞₁₂₃)"
      ]
     },
     "execution_count": 42,
     "metadata": {},
     "output_type": "execute_result"
    }
   ],
   "source": [
    "#5.14 \"forward\" as the derivative acts on a field F on M\n",
    "# Yet mimicking the derivative of F(inv(f)(x)) on N\n",
    "def forward_derivative_gen(x, f, alg, Ix, h=1e-6):\n",
    "    f_vec = lambda a: lambda x: differential(f, x, a)\n",
    "    f_ = lambda A: outermorphism(f_vec, A, alg, Ix=Ix)\n",
    "    nIx = lambda x: normalize(Ix(x))\n",
    "    nI = nIx(x)\n",
    "    iI1 = inv(f_(nIx)(x))\n",
    "    for v, r in frame_gen(x, alg, Ix):\n",
    "        yield iI1 * f__(nI*r)(x), lambda F: differential(F, x, v, h)\n",
    "\n",
    "iI1 = inv(f_(nIx)(x))\n",
    "f__ = lambda A: outermorphism_(f_vec, A, alg, Ix=Ix)\n",
    "(\n",
    "    sum(r * o(G) for r, o in f_derivative_gen(x, f, alg, Ix)),\n",
    "    sum(r * o(F) for r, o in forward_derivative_gen(x, f, alg, Ix)),\n",
    "    sum(iI1 * f__(nI*r)(x) * o(F) for r, o in derivative_gen(x, alg, Ix))\n",
    "    )"
   ]
  },
  {
   "cell_type": "code",
   "execution_count": 15,
   "metadata": {},
   "outputs": [
    {
     "data": {
      "text/plain": [
       "(0.623 𝐞₁ + -0.319 𝐞₂ + -0.224 𝐞₃ + 0.443 𝐞₁₂ + 0.122 𝐞₁₃ + 0.243 𝐞₂₃ + -2.04e-16 𝐞₁₂₃,\n",
       " -4.71e-17 + 0.632 𝐞₁ + -0.304 𝐞₂ + -0.225 𝐞₃ + 0.427 𝐞₁₂ + 0.135 𝐞₁₃ + 0.249 𝐞₂₃ + 9.87e-16 𝐞₁₂₃)"
      ]
     },
     "execution_count": 15,
     "metadata": {},
     "output_type": "execute_result"
    }
   ],
   "source": [
    "#5.15a Without the inverse of f\n",
    "# Pushing forward a differential is an extra linear transformation\n",
    "b = random_r_blade(1, alg)\n",
    "pb = P(b, I)\n",
    "pb1 = f__(pb)(x)\n",
    "differential(f__(PA(x)), x, pb, h=1e-2), sum((pb1 | r) * o(f__(PA(x))) for r, o in forward_derivative_gen(x, f, alg, Ix, h=1e-2))"
   ]
  },
  {
   "cell_type": "code",
   "execution_count": 16,
   "metadata": {},
   "outputs": [
    {
     "data": {
      "text/plain": [
       "(0.352 𝐞₁ + -0.0536 𝐞₂ + 0.0409 𝐞₃ + 0.435 𝐞₁₂ + -0.0252 𝐞₁₃ + 0.00926 𝐞₂₃,\n",
       " -5.69e-17 + 0.377 𝐞₁ + -0.0541 𝐞₂ + 0.0414 𝐞₃ + 0.419 𝐞₁₂ + -0.0248 𝐞₁₃ + 0.00957 𝐞₂₃ + -4.21e-18 𝐞₁₂₃)"
      ]
     },
     "execution_count": 16,
     "metadata": {},
     "output_type": "execute_result"
    }
   ],
   "source": [
    "#5.15b\n",
    "differential(fa_(PA(x)), x, pb, h=1e-2), sum((pb1 | r) * o(fa_(PA(x))) for r, o in forward_derivative_gen(x, f, alg, Ix, h=1e-2))"
   ]
  },
  {
   "cell_type": "code",
   "execution_count": 17,
   "metadata": {},
   "outputs": [
    {
     "data": {
      "text/plain": [
       "(0.114 𝐞₁ + -0.098 𝐞₂ + -0.0229 𝐞₃ + 0.029 𝐞₁₂ + 0.0094 𝐞₁₃ + 0.0162 𝐞₂₃ + -2.21e-16 𝐞₁₂₃,\n",
       " 0.114 𝐞₁ + -0.098 𝐞₂ + -0.0229 𝐞₃ + 0.029 𝐞₁₂ + 0.00941 𝐞₁₃ + 0.0162 𝐞₂₃ + 2.74e-05 𝐞₁₂₃,\n",
       " 0.00715 𝐞₁ + -0.1 𝐞₂ + 0.003 𝐞₃ + -0.274 𝐞₁₂ + -0.0219 𝐞₁₃ + 0.0393 𝐞₂₃,\n",
       " 0.00715 𝐞₁ + -0.1 𝐞₂ + 0.003 𝐞₃ + -0.274 𝐞₁₂ + -0.0219 𝐞₁₃ + 0.0393 𝐞₂₃ + 4.54e-06 𝐞₁₂₃)"
      ]
     },
     "execution_count": 17,
     "metadata": {},
     "output_type": "execute_result"
    }
   ],
   "source": [
    "#5.16\n",
    "(\n",
    "    differential(f__(C^D), x, pb, h=1e-3), \n",
    "    (differential(f__(C), x, pb, h=1e-3)^f__(D)(x)) + (f__(C)(x)^differential(f__(D), x, pb, h=1e-3)),\n",
    "    differential(fa_(C^D), x, pb, h=1e-3), \n",
    "    (differential(fa_(C), x, pb, h=1e-3)^fa_(D)(x)) + (fa_(C)(x)^differential(fa_(D), x, pb, h=1e-3)),\n",
    "    )"
   ]
  },
  {
   "cell_type": "code",
   "execution_count": 18,
   "metadata": {},
   "outputs": [
    {
     "data": {
      "text/plain": [
       "(0.242 𝐞₁ + -0.248 𝐞₂ + -0.0312 𝐞₃ + -0.155 𝐞₁₂ + -0.0578 𝐞₁₃ + -0.0944 𝐞₂₃ + -1.01e-16 𝐞₁₂₃,\n",
       " -6.94e-16 + 0.242 𝐞₁ + -0.248 𝐞₂ + -0.0311 𝐞₃ + -0.155 𝐞₁₂ + -0.0578 𝐞₁₃ + -0.0944 𝐞₂₃,\n",
       " 0.242 𝐞₁ + -0.248 𝐞₂ + -0.0312 𝐞₃ + -0.155 𝐞₁₂ + -0.0578 𝐞₁₃ + -0.0944 𝐞₂₃ + -1.01e-16 𝐞₁₂₃)"
      ]
     },
     "execution_count": 18,
     "metadata": {},
     "output_type": "execute_result"
    }
   ],
   "source": [
    "#5.17a\n",
    "Pb_ = lambda A: lambda x: differential(lambda a: P(A(x), Ix(a)), x, pb, h=1e-2)\n",
    "Pb_1 = lambda A: lambda x: differential(lambda a: P(A(x), f_(Ix)(a)), x, pb, h=1e-2)\n",
    "fb = lambda C: differential(f__(C), x, pb, h=1e-2)\n",
    "C_ = lambda x: C\n",
    "(\n",
    "    fb(C),\n",
    "    Pb_1(f__(C))(x)+ P(fb(C), I1),\n",
    "    fb(P(C, I)) + f_(Pb_(C_))(x)\n",
    "    )"
   ]
  },
  {
   "cell_type": "code",
   "execution_count": 19,
   "metadata": {},
   "outputs": [
    {
     "data": {
      "text/plain": [
       "(0.0391 𝐞₁ + -0.273 𝐞₂ + 0.00836 𝐞₃ + -0.83 𝐞₁₂ + -0.0361 𝐞₁₃ + 0.0829 𝐞₂₃,\n",
       " 0.0391 𝐞₁ + -0.273 𝐞₂ + 0.00837 𝐞₃ + -0.83 𝐞₁₂ + -0.0361 𝐞₁₃ + 0.0829 𝐞₂₃,\n",
       " -6.94e-16 + 0.0391 𝐞₁ + -0.273 𝐞₂ + 0.00837 𝐞₃ + -0.83 𝐞₁₂ + -0.0361 𝐞₁₃ + 0.0829 𝐞₂₃)"
      ]
     },
     "execution_count": 19,
     "metadata": {},
     "output_type": "execute_result"
    }
   ],
   "source": [
    "#5.17b\n",
    "fb = lambda C: differential(fa_(C), x, pb, h=1e-2)\n",
    "\n",
    "(\n",
    "    fb(C),\n",
    "    Pb_(fa_(C))(x)+ P(fb(C), I),\n",
    "    fb(P(C, I1)) + fa_(Pb_1(C_)(x))(x)\n",
    "    )"
   ]
  },
  {
   "cell_type": "code",
   "execution_count": 20,
   "metadata": {},
   "outputs": [
    {
     "data": {
      "text/plain": [
       "(0.742 𝐞₁ + -0.963 𝐞₂ + -0.29 𝐞₃, 0.742 𝐞₁ + -0.963 𝐞₂ + -0.29 𝐞₃)"
      ]
     },
     "execution_count": 20,
     "metadata": {},
     "output_type": "execute_result"
    }
   ],
   "source": [
    "#5.18\n",
    "differential(lambda y: differential(f, y, a(x)), x, b), differential(lambda y: differential(f, y, b), x, a(x))"
   ]
  },
  {
   "cell_type": "code",
   "execution_count": 21,
   "metadata": {},
   "outputs": [
    {
     "data": {
      "text/plain": [
       "(5.55e-15 + 0.83 𝐞₁ + -0.641 𝐞₂ + 0.15 𝐞₃ + 0.34 𝐞₁₂ + -0.173 𝐞₁₃ + 0.191 𝐞₂₃ + -1.6e-18 𝐞₁₂₃,\n",
       " 0.83 𝐞₁ + -0.641 𝐞₂ + 0.15 𝐞₃ + 0.34 𝐞₁₂ + -0.173 𝐞₁₃ + 0.191 𝐞₂₃)"
      ]
     },
     "execution_count": 21,
     "metadata": {},
     "output_type": "execute_result"
    }
   ],
   "source": [
    "#5.19\n",
    "tangents = blade_split(I, alg)\n",
    "frame = multi_frame(tangents)\n",
    "r_frame = reci_frame(tangents)\n",
    "# pb_frame = [differential(lambda x: P(v, Ix(x)), x, b) for v in frame]\n",
    "A1 = f_(PA)(x)\n",
    "fb = lambda C: differential(fa_(C), x, pb, h=1e-2)\n",
    "fb_A1 = lambda C: differential(f__(C), x, pb, h=1e-2).sp(A1)\n",
    "\n",
    "(\n",
    "    derivative(fb_A1, x, alg, frame=frame, r_frame=r_frame, h=1e-2) +\n",
    "    Pb_(fa_(A1))(x),\n",
    "    fb(A1)\n",
    "    )"
   ]
  },
  {
   "cell_type": "code",
   "execution_count": 22,
   "metadata": {},
   "outputs": [
    {
     "data": {
      "text/plain": [
       "(0.832 𝐞₁ + -0.644 𝐞₂ + 0.0315 𝐞₃ + 0.341 𝐞₁₂ + -0.00817 𝐞₁₃ + -0.00656 𝐞₂₃ + -1.6e-18 𝐞₁₂₃,\n",
       " 5.55e-15 + 1.1e-07 𝐞₁ + -1.74e-07 𝐞₂ + 6.27e-09 𝐞₃ + 9.21e-09 𝐞₁₂ + -2.21e-10 𝐞₁₃ + -1.77e-10 𝐞₂₃,\n",
       " 0.832 𝐞₁ + -0.644 𝐞₂ + 0.0315 𝐞₃ + 0.341 𝐞₁₂ + -0.00817 𝐞₁₃ + -0.00656 𝐞₂₃)"
      ]
     },
     "execution_count": 22,
     "metadata": {},
     "output_type": "execute_result"
    }
   ],
   "source": [
    "#5.20\n",
    "(\n",
    "    derivative(fb_A1, x, alg, frame=frame, r_frame=r_frame, h=1e-2),\n",
    "    P(Pb_(fa_(A1))(x), I),\n",
    "    P(fb(A1), I)\n",
    "    )"
   ]
  },
  {
   "cell_type": "code",
   "execution_count": 23,
   "metadata": {},
   "outputs": [
    {
     "data": {
      "text/plain": [
       "(-0.164, -0.164)"
      ]
     },
     "execution_count": 23,
     "metadata": {},
     "output_type": "execute_result"
    }
   ],
   "source": [
    "#5.21\n",
    "C.sp(fb(A1)), fb_A1(C)"
   ]
  },
  {
   "cell_type": "code",
   "execution_count": 24,
   "metadata": {},
   "outputs": [
    {
     "data": {
      "text/plain": [
       "5.55e-20 𝐞₃ + -7.02e-05 𝐞₁₂ + 1.68e-06 𝐞₁₃ + 1.35e-06 𝐞₂₃"
      ]
     },
     "execution_count": 24,
     "metadata": {},
     "output_type": "execute_result"
    }
   ],
   "source": [
    "#5.22 quadriple differential, so the truncations...\n",
    "f_vec = lambda a: lambda x: differential(f, x, a, h=1e-3)\n",
    "fa_ = lambda A: adjoint_outermorphism_(f_vec, A, alg, Ix=Ix, h=1e-3)\n",
    "fb = lambda b: differential(fa_(A1), x, b, h=1e-3)\n",
    "P(curl(fb, x, alg, Ix=Ix, h=1e-2), I)"
   ]
  },
  {
   "cell_type": "code",
   "execution_count": 25,
   "metadata": {},
   "outputs": [
    {
     "data": {
      "text/plain": [
       "(0.603 + 0.139 𝐞₁ + 0.945 𝐞₂ + -1.4 𝐞₃ + -0.646 𝐞₁₂ + 1.01 𝐞₁₃ + 0.376 𝐞₂₃ + 4.06e-18 𝐞₁₂₃,\n",
       " 0.603 + 0.139 𝐞₁ + 0.945 𝐞₂ + -1.4 𝐞₃ + -0.646 𝐞₁₂ + 1.01 𝐞₁₃ + 0.376 𝐞₂₃ + 4.06e-18 𝐞₁₂₃)"
      ]
     },
     "execution_count": 25,
     "metadata": {},
     "output_type": "execute_result"
    }
   ],
   "source": [
    "# Even though these two are the same\n",
    "f__(PA(x))(x), f__(A(x))(x)"
   ]
  },
  {
   "cell_type": "code",
   "execution_count": 26,
   "metadata": {},
   "outputs": [
    {
     "data": {
      "text/plain": [
       "(0.0149 𝐞₁ + -0.0664 𝐞₂ + 0.113 𝐞₃ + -0.158 𝐞₁₂ + 0.247 𝐞₁₃ + 0.0919 𝐞₂₃ + -7.89e-16 𝐞₁₂₃,\n",
       " -8.87e-07 𝐞₁ + -2.56e-05 𝐞₂ + 1.03e-06 𝐞₃ + -1.82e-19 𝐞₁₂ + 2.85e-19 𝐞₁₃ + 1.06e-19 𝐞₂₃ + -7.88e-16 𝐞₁₂₃)"
      ]
     },
     "execution_count": 26,
     "metadata": {},
     "output_type": "execute_result"
    }
   ],
   "source": [
    "#5.23 The non-tangent part of A contributes to the exterior derivative\n",
    "\n",
    "f__ = lambda A: outermorphism_(f_vec, A, alg, Ix=Ix, h=1e-3)\n",
    "d(lambda x, A: f__(A)(x), x, A(x), alg, Ix, h=1e-2), d(lambda x, A: f__(A)(x), x, PA(x), alg, Ix, h=1e-2)"
   ]
  },
  {
   "cell_type": "code",
   "execution_count": 27,
   "metadata": {},
   "outputs": [
    {
     "data": {
      "text/plain": [
       "(6.52e-19 𝐞₁₂ + 2.52e-20 𝐞₁₃ + 1.8e-19 𝐞₂₃,\n",
       " -1.82e-19 𝐞₁₂ + 2.85e-19 𝐞₁₃ + 1.06e-19 𝐞₂₃)"
      ]
     },
     "execution_count": 27,
     "metadata": {},
     "output_type": "execute_result"
    }
   ],
   "source": [
    "#5.23 How? The vector part contributes nothing\n",
    "\n",
    "f__ = lambda A: outermorphism_(f_vec, A, alg, Ix=Ix, h=1e-3)\n",
    "d(lambda x, A: f__(A)(x), x, a(x), alg, Ix, h=1e-2), d(lambda x, A: f__(A)(x), x, pa(x), alg, Ix, h=1e-2)"
   ]
  },
  {
   "cell_type": "code",
   "execution_count": 28,
   "metadata": {},
   "outputs": [
    {
     "data": {
      "text/plain": [
       "(-0.0399 𝐞₁ + -0.0313 𝐞₂ + 0.0259 𝐞₃ + 1.49e-15 𝐞₁₂₃,\n",
       " 1.68e-06 𝐞₁ + 4.86e-05 𝐞₂ + -1.96e-06 𝐞₃ + 1.49e-15 𝐞₁₂₃)"
      ]
     },
     "execution_count": 28,
     "metadata": {},
     "output_type": "execute_result"
    }
   ],
   "source": [
    "#5.23 The bivector part contributes\n",
    "blade = random_r_blade(2, alg)\n",
    "pblade = P(blade, I)\n",
    "\n",
    "f__ = lambda A: outermorphism_(f_vec, A, alg, Ix=Ix, h=1e-3)\n",
    "d(lambda x, A: f__(A)(x), x, blade, alg, Ix, h=1e-2), d(lambda x, A: f__(A)(x), x, pblade, alg, Ix, h=1e-2)"
   ]
  },
  {
   "cell_type": "code",
   "execution_count": 29,
   "metadata": {},
   "outputs": [
    {
     "data": {
      "text/plain": [
       "[(-0.399 𝐞₁ + 0.0031 𝐞₂ + 0.129 𝐞₃,\n",
       "  -0.83 𝐞₁ + -0.485 𝐞₂ + 0.277 𝐞₃ + -1.27e-21 𝐞₁₂₃,\n",
       "  -0.202 𝐞₁ + 0.0322 𝐞₂ + -0.271 𝐞₃ + -4.76e-18 𝐞₁₂₃),\n",
       " (0.00703 𝐞₁ + -0.405 𝐞₂ + -0.365 𝐞₃,\n",
       "  0.715 𝐞₁ + -0.168 𝐞₂ + 0.678 𝐞₃ + -2.75e-18 𝐞₁₂₃,\n",
       "  0.162 𝐞₁ + -0.0636 𝐞₂ + 0.296 𝐞₃ + -1.38e-15 𝐞₁₂₃)]"
      ]
     },
     "execution_count": 29,
     "metadata": {},
     "output_type": "execute_result"
    }
   ],
   "source": [
    "T = lambda x, A: f__(A)(x)\n",
    "list((inner(blade, r), T(x, inner(blade, r)), o(lambda x: T(x, inner(blade, r)))) for r, o in derivative_gen(x, alg, nIx, h=1e-3))\n"
   ]
  },
  {
   "cell_type": "code",
   "execution_count": 30,
   "metadata": {},
   "outputs": [
    {
     "data": {
      "text/plain": [
       "[-0.212 𝐞₁ + 0.0345 𝐞₂ + -0.28 𝐞₃ + -4.74e-18 𝐞₁₂₃,\n",
       " 0.212 𝐞₁ + -0.0345 𝐞₂ + 0.28 𝐞₃ + -1.38e-15 𝐞₁₂₃]"
      ]
     },
     "execution_count": 30,
     "metadata": {},
     "output_type": "execute_result"
    }
   ],
   "source": [
    "T = lambda x, A: f__(A)(x)\n",
    "list(o(lambda x: T(x, inner(pblade, r))) for r, o in derivative_gen(x, alg, nIx, h=1e-3))\n"
   ]
  },
  {
   "cell_type": "code",
   "execution_count": 31,
   "metadata": {},
   "outputs": [
    {
     "data": {
      "text/plain": [
       "1.11e-10 + -4.92e-11 𝐞₁ + 2.09e-11 𝐞₂ + -6.51e-12 𝐞₃ + -5.87e-20 𝐞₁₂ + 1.41e-21 𝐞₁₃ + 1.13e-21 𝐞₂₃"
      ]
     },
     "execution_count": 31,
     "metadata": {},
     "output_type": "execute_result"
    }
   ],
   "source": [
    "#5.24\n",
    "d(lambda x, A: P(A, Ix(x)), x, PA(x), alg, Ix)"
   ]
  },
  {
   "cell_type": "code",
   "execution_count": 32,
   "metadata": {},
   "outputs": [
    {
     "data": {
      "text/plain": [
       "(0.0374 𝐞₁ + -0.275 𝐞₂ + 0.00838 𝐞₃ + -0.853 𝐞₁₂ + -0.0355 𝐞₁₃ + 0.0833 𝐞₂₃,\n",
       " 0.0374 𝐞₁ + -0.275 𝐞₂ + 0.00838 𝐞₃ + -0.853 𝐞₁₂ + -0.0355 𝐞₁₃ + 0.0833 𝐞₂₃,\n",
       " 0.0375 𝐞₁ + -0.275 𝐞₂ + 0.00838 𝐞₃ + -0.853 𝐞₁₂ + -0.0355 𝐞₁₃ + 0.0833 𝐞₂₃)"
      ]
     },
     "execution_count": 32,
     "metadata": {},
     "output_type": "execute_result"
    }
   ],
   "source": [
    "#5.25\n",
    "fb = lambda C: differential(fa_(C), x, pb, h=1e-3)\n",
    "Pb_ = lambda A: lambda x: differential(lambda a: P(A(x), Ix(a)), x, pb, h=1e-3)\n",
    "Pb_1 = lambda A: lambda x: differential(lambda a: P(A(x), f_(Ix)(a)), x, pb, h=1e-3)\n",
    "P1C = P(C, I1)\n",
    "C_ = lambda x: C - P1C\n",
    "(\n",
    "    fb(C),\n",
    "    Pb_(fa_(C))(x)+ P(fb(C), I),\n",
    "    fb(P1C) + fa_(Pb_1(C_)(x))(x)\n",
    "    )"
   ]
  },
  {
   "cell_type": "code",
   "execution_count": 33,
   "metadata": {},
   "outputs": [
    {
     "data": {
      "text/plain": [
       "(0.000165 𝐞₁₂ + 0.0145 𝐞₁₃ + -0.00924 𝐞₂₃ + 0.268 𝐞₁₂₃,\n",
       " 6.94e-12 𝐞₁ + -9.7e-12 𝐞₂ + 3.66e-13 𝐞₃ + 0.00017 𝐞₁₂ + 0.0145 𝐞₁₃ + -0.00924 𝐞₂₃ + 0.269 𝐞₁₂₃,\n",
       " 8.88e-19 𝐞₂ + -3.79e-06 𝐞₁₂ + 9.1e-08 𝐞₁₃ + 7.31e-08 𝐞₂₃)"
      ]
     },
     "execution_count": 33,
     "metadata": {},
     "output_type": "execute_result"
    }
   ],
   "source": [
    "#5.25b\n",
    "fb = lambda b: differential(fa_(C), x, b, h=1e-3)\n",
    "Pb = lambda b: differential(lambda a: P(fa_(C)(x), Ix(a)), x, b, h=1e-3)\n",
    "(\n",
    "    curl(fb, x, alg, Ix=Ix, h=1e-3), \n",
    "    curl(Pb, x, alg, Ix=Ix, h=1e-3), \n",
    "    P(curl(fb, x, alg, Ix=Ix, h=1e-3), I)\n",
    "    )\n"
   ]
  },
  {
   "cell_type": "code",
   "execution_count": 34,
   "metadata": {},
   "outputs": [
    {
     "data": {
      "text/plain": [
       "(0.000203 𝐞₁₂ + 0.0145 𝐞₁₃ + -0.00923 𝐞₂₃ + 0.268 𝐞₁₂₃,\n",
       " -3.39e-26 𝐞₁ + -7.35e-23 𝐞₂ + 1.76e-24 𝐞₃ + -0.101 𝐞₁₂ + 0.00243 𝐞₁₃ + 0.00195 𝐞₂₃)"
      ]
     },
     "execution_count": 34,
     "metadata": {},
     "output_type": "execute_result"
    }
   ],
   "source": [
    "#5.25c\n",
    "fb = lambda b: differential(fa_(P1C), x, b, h=1e-3)\n",
    "Pb_1 = lambda b: differential(lambda a: P(C_(x), f_(Ix)(a)), x, b, h=1e-3)\n",
    "fa_ = lambda A: adjoint_outermorphism_(f_vec, A, alg, Ix=Ix, h=1e-3)\n",
    "(\n",
    "    curl(fb, x, alg, Ix=Ix, h=1e-3), \n",
    "    fa_(sum(r^o(Pb_1) for r, o in forward_derivative_gen(x, f, alg, Ix, h=1e-3)))(x),\n",
    "    )\n"
   ]
  },
  {
   "cell_type": "code",
   "execution_count": 35,
   "metadata": {},
   "outputs": [
    {
     "data": {
      "text/plain": [
       "(-6.94e-15 𝐞₁ + -1.94e-14 𝐞₂ + 3.32e-16 𝐞₃ + 0.00017 𝐞₁₂ + 0.0145 𝐞₁₃ + -0.00919 𝐞₂₃ + 0.268 𝐞₁₂₃,\n",
       " -6.94e-15 𝐞₁ + -1.94e-14 𝐞₂ + 3.32e-16 𝐞₃ + 0.00017 𝐞₁₂ + 0.0145 𝐞₁₃ + -0.00919 𝐞₂₃ + 0.268 𝐞₁₂₃,\n",
       " 6.94e-12 𝐞₁ + -9.7e-12 𝐞₂ + 3.66e-13 𝐞₃ + 0.00017 𝐞₁₂ + 0.0145 𝐞₁₃ + -0.00924 𝐞₂₃ + 0.269 𝐞₁₂₃,\n",
       " 0.000203 𝐞₁₂ + 0.0145 𝐞₁₃ + -0.00923 𝐞₂₃ + 0.268 𝐞₁₂₃,\n",
       " 0.000165 𝐞₁₂ + 0.0145 𝐞₁₃ + -0.00924 𝐞₂₃ + 0.268 𝐞₁₂₃)"
      ]
     },
     "execution_count": 35,
     "metadata": {},
     "output_type": "execute_result"
    }
   ],
   "source": [
    "#5.26\n",
    "S = lambda A: curl(lambda x: P(A, Ix(x)), x, alg, Ix=Ix, h=1e-3)\n",
    "Pb = lambda b: differential(lambda a: P(fa_(C)(x), Ix(a)), x, b, h=1e-3)\n",
    "fb = lambda C: lambda b: differential(fa_(C), x, b, h=1e-3)\n",
    "(\n",
    "    S(fa_(C)(x)), \n",
    "    curl(lambda a: P(fa_(C)(x), Ix(a)), x, alg, Ix=Ix, h=1e-3), \n",
    "    curl(Pb, x, alg, Ix=Ix, h=1e-3), \n",
    "    curl(fb(P1C), x, alg, Ix=Ix, h=1e-3), \n",
    "    curl(fb(C), x, alg, Ix=Ix, h=1e-3),\n",
    "    )"
   ]
  },
  {
   "cell_type": "code",
   "execution_count": 36,
   "metadata": {},
   "outputs": [
    {
     "data": {
      "text/plain": [
       "(-0.101 𝐞₁ + 0.273 𝐞₂ + 0.174 𝐞₃ + 0.313 𝐞₁₂ + 0.136 𝐞₁₃ + 0.173 𝐞₂₃ + 0.723 𝐞₁₂₃,\n",
       " -3.71e-05 𝐞₁₂ + -1.48e-05 𝐞₁₃ + -1.15e-05 𝐞₂₃ + 6.92e-05 𝐞₁₂₃)"
      ]
     },
     "execution_count": 36,
     "metadata": {},
     "output_type": "execute_result"
    }
   ],
   "source": [
    "#5.27\n",
    "C - P1C, curl(fb(C - P1C), x, alg, Ix=Ix, h=1e-3)"
   ]
  },
  {
   "cell_type": "code",
   "execution_count": 37,
   "metadata": {},
   "outputs": [
    {
     "data": {
      "text/plain": [
       "(0.0657 + 0.00233 𝐞₁ + 0.295 𝐞₂ + 0.2 𝐞₃ + 0.0943 𝐞₁₂ + 0.479 𝐞₁₃ + 0.3 𝐞₂₃ + 0.723 𝐞₁₂₃,\n",
       " 0.0657 + 0.226 𝐞₁ + -0.222 𝐞₂ + 0.00968 𝐞₃ + -2.57 𝐞₁₂ + 0.0616 𝐞₁₃ + 0.0495 𝐞₂₃,\n",
       " 0.0657 + -0.51 𝐞₁ + 0.13 𝐞₂ + -0.501 𝐞₃ + 0.238 𝐞₁₂ + -0.373 𝐞₁₃ + -0.139 𝐞₂₃ + 2.02e-18 𝐞₁₂₃,\n",
       " 0.0657 + -0.558 𝐞₁ + 1.83 𝐞₂ + -0.0547 𝐞₃ + 2.79 𝐞₁₂ + -0.067 𝐞₁₃ + -0.0538 𝐞₂₃)"
      ]
     },
     "execution_count": 37,
     "metadata": {},
     "output_type": "execute_result"
    }
   ],
   "source": [
    "C, fa_(C)(x), f__(C)(x), fa(f__(C))(x)"
   ]
  },
  {
   "cell_type": "code",
   "execution_count": 38,
   "metadata": {},
   "outputs": [
    {
     "data": {
      "text/plain": [
       "(0.0657 + 0.104 𝐞₁ + 0.0222 𝐞₂ + 0.0257 𝐞₃ + -0.219 𝐞₁₂ + 0.343 𝐞₁₃ + 0.128 𝐞₂₃,\n",
       " 0.0657 + 0.226 𝐞₁ + -0.222 𝐞₂ + 0.00968 𝐞₃ + -2.57 𝐞₁₂ + 0.0616 𝐞₁₃ + 0.0495 𝐞₂₃,\n",
       " 0.0657 + -0.51 𝐞₁ + 0.13 𝐞₂ + -0.501 𝐞₃ + 0.238 𝐞₁₂ + -0.373 𝐞₁₃ + -0.139 𝐞₂₃ + 2.02e-18 𝐞₁₂₃,\n",
       " 0.0657 + -0.558 𝐞₁ + 1.83 𝐞₂ + -0.0547 𝐞₃ + 2.79 𝐞₁₂ + -0.067 𝐞₁₃ + -0.0538 𝐞₂₃)"
      ]
     },
     "execution_count": 38,
     "metadata": {},
     "output_type": "execute_result"
    }
   ],
   "source": [
    "PC = P(C, I)\n",
    "PC1 = P(C, I1)\n",
    "PC1, fa_(PC1)(x), f__(PC)(x), fa(f__(PC))(x)"
   ]
  },
  {
   "cell_type": "code",
   "execution_count": null,
   "metadata": {},
   "outputs": [],
   "source": []
  }
 ],
 "metadata": {
  "kernelspec": {
   "display_name": "3.10.5",
   "language": "python",
   "name": "python3"
  },
  "language_info": {
   "codemirror_mode": {
    "name": "ipython",
    "version": 3
   },
   "file_extension": ".py",
   "mimetype": "text/x-python",
   "name": "python",
   "nbconvert_exporter": "python",
   "pygments_lexer": "ipython3",
   "version": "3.10.5"
  }
 },
 "nbformat": 4,
 "nbformat_minor": 2
}
