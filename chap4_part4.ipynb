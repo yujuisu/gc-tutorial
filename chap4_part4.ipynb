{
 "cells": [
  {
   "cell_type": "markdown",
   "metadata": {},
   "source": [
    "## Complex Numbers and Conformal Transformation"
   ]
  },
  {
   "cell_type": "markdown",
   "metadata": {},
   "source": [
    "1. conjugation is reversion\n",
    "2. Real/imaginary parts are scalar/pseudoscalar parts"
   ]
  },
  {
   "cell_type": "code",
   "execution_count": 3,
   "metadata": {},
   "outputs": [
    {
     "data": {
      "text/plain": [
       "(0.62 + 0.789 𝐞₁₂, 0.62 + -0.789 𝐞₁₂, 0.62, 0.789)"
      ]
     },
     "execution_count": 3,
     "metadata": {},
     "output_type": "execute_result"
    }
   ],
   "source": [
    "#7.1\n",
    "# complex plane as even subalgebra\n",
    "from gc_utils import *\n",
    "alg = Algebra(2)\n",
    "locals().update(alg.blades)\n",
    "\n",
    "def random_study_number(alg):\n",
    "    a, b = np.random.rand(2)\n",
    "    return (a + alg.pseudoscalar((b,)))\n",
    "\n",
    "\n",
    "z = random_study_number(alg)\n",
    "zr = z.reverse()\n",
    "z, zr, (z + zr)/2, -e12 * (z - zr)/2, "
   ]
  },
  {
   "cell_type": "code",
   "execution_count": 4,
   "metadata": {},
   "outputs": [
    {
     "data": {
      "text/plain": [
       "0"
      ]
     },
     "execution_count": 4,
     "metadata": {},
     "output_type": "execute_result"
    }
   ],
   "source": [
    "#7.2 a real vector x lives in the space i\n",
    "i = e12\n",
    "x = random_vector(alg)\n",
    "x ^ i"
   ]
  },
  {
   "cell_type": "markdown",
   "metadata": {},
   "source": [
    "A complex number z sends a real vector to another real vector"
   ]
  },
  {
   "cell_type": "code",
   "execution_count": 5,
   "metadata": {},
   "outputs": [
    {
     "data": {
      "text/plain": [
       "(0.812 𝐞₁ + 0.658 𝐞₂, -0.0152 𝐞₁ + 1.05 𝐞₂)"
      ]
     },
     "execution_count": 5,
     "metadata": {},
     "output_type": "execute_result"
    }
   ],
   "source": [
    "#7.3\n",
    "a = random_vector(alg)\n",
    "x = a*z\n",
    "ai = inv(a)\n",
    "a, x"
   ]
  },
  {
   "cell_type": "code",
   "execution_count": 6,
   "metadata": {},
   "outputs": [
    {
     "data": {
      "text/plain": [
       "(0.62 + 0.789 𝐞₁₂, 0.62 + 0.789 𝐞₁₂, 0.62, 0.789 𝐞₁₂)"
      ]
     },
     "execution_count": 6,
     "metadata": {},
     "output_type": "execute_result"
    }
   ],
   "source": [
    "#7.4 the real/img parts corresponds to inner/outor products\n",
    "z, ai*x, (a|x)/normsq(a), (a^x)/normsq(a)"
   ]
  },
  {
   "cell_type": "code",
   "execution_count": 7,
   "metadata": {},
   "outputs": [
    {
     "data": {
      "text/plain": [
       "(0.62 + -0.789 𝐞₁₂, 0.62 + -0.789 𝐞₁₂, 0.62 + -0.789 𝐞₁₂)"
      ]
     },
     "execution_count": 7,
     "metadata": {},
     "output_type": "execute_result"
    }
   ],
   "source": [
    "#7.5 the conjugation of z is a reflection of z\n",
    "z.reverse(), x*ai, a.sw(z)/normsq(a)"
   ]
  },
  {
   "cell_type": "code",
   "execution_count": 8,
   "metadata": {},
   "outputs": [
    {
     "data": {
      "text/plain": [
       "1.0 + 1.11e-16 𝐞₁₂"
      ]
     },
     "execution_count": 8,
     "metadata": {},
     "output_type": "execute_result"
    }
   ],
   "source": [
    "# z is invertible with simple inversion\n",
    "inv(z) * z"
   ]
  },
  {
   "cell_type": "markdown",
   "metadata": {},
   "source": [
    "### Complex Number as Roter\n",
    "The complex number $z$ is the simplest motion sends $a$ to $x$:\n",
    "\n",
    "Its norm dilates;\n",
    "\n",
    "The normalized part rotates."
   ]
  },
  {
   "cell_type": "code",
   "execution_count": 9,
   "metadata": {},
   "outputs": [
    {
     "data": {
      "text/plain": [
       "(1.0036228911214462, 1.0036228911214464, 0.9043495906335014, 0.904 𝐞₁₂)"
      ]
     },
     "execution_count": 9,
     "metadata": {},
     "output_type": "execute_result"
    }
   ],
   "source": [
    "(\n",
    "    norm(x)/norm(a), \n",
    "    norm(z),\n",
    "    np.arccos((normalize(x) | normalize(a))[0]),\n",
    "    simple_rotor_log(normalize(z))\n",
    "    )"
   ]
  },
  {
   "cell_type": "markdown",
   "metadata": {},
   "source": [
    "### Complex Number as Exponent"
   ]
  },
  {
   "cell_type": "code",
   "execution_count": 10,
   "metadata": {},
   "outputs": [
    {
     "data": {
      "text/plain": [
       "(0.62 + 0.789 𝐞₁₂, 0.62 + 0.789 𝐞₁₂)"
      ]
     },
     "execution_count": 10,
     "metadata": {},
     "output_type": "execute_result"
    }
   ],
   "source": [
    "def cexp(z):\n",
    "    return np.exp(z.e)*blade_exp(z.grade(2))\n",
    "\n",
    "n, l = np.log(norm(z)), simple_rotor_log(normalize(z))\n",
    "z, cexp(n+l)"
   ]
  },
  {
   "cell_type": "markdown",
   "metadata": {},
   "source": [
    "We can view a complex function as a function of real vectors to complex numbers."
   ]
  },
  {
   "cell_type": "code",
   "execution_count": 11,
   "metadata": {},
   "outputs": [
    {
     "data": {
      "text/plain": [
       "(0.187 + -0.237 𝐞₁₂, 0.187 + -0.237 𝐞₁₂)"
      ]
     },
     "execution_count": 11,
     "metadata": {},
     "output_type": "execute_result"
    }
   ],
   "source": [
    "#7.7\n",
    "b = random_vector(alg)\n",
    "F = lambda z: b.sw(z)\n",
    "FR2 = lambda x: F(ai*x)\n",
    "F(z),  FR2(x)"
   ]
  },
  {
   "cell_type": "code",
   "execution_count": 12,
   "metadata": {},
   "outputs": [
    {
     "data": {
      "text/plain": [
       "(0.448 𝐞₁ + 0.363 𝐞₂, -1.11e-10 𝐞₁ + -1.11e-10 𝐞₂)"
      ]
     },
     "execution_count": 12,
     "metadata": {},
     "output_type": "execute_result"
    }
   ],
   "source": [
    "#7.8 A real version of Cauchy-Riemann equation\n",
    "G = lambda z: cexp(inv(z))\n",
    "GR2 = lambda x: G(ai*x)\n",
    "deriv_ = lambda F: lambda x: derivative(F, x, alg, grade=1)\n",
    "\n",
    "deriv_(FR2)(x), deriv_(GR2)(x)"
   ]
  },
  {
   "cell_type": "markdown",
   "metadata": {},
   "source": [
    "The vector derivative of this real input version is equivalent to the complex derivative."
   ]
  },
  {
   "cell_type": "code",
   "execution_count": 13,
   "metadata": {},
   "outputs": [
    {
     "data": {
      "text/plain": [
       "(6.94e-12, -6.94e-12 𝐞₁₂, 1.57 + 0.96 𝐞₁₂, 1.57 + 0.96 𝐞₁₂)"
      ]
     },
     "execution_count": 13,
     "metadata": {},
     "output_type": "execute_result"
    }
   ],
   "source": [
    "#7.9\n",
    "def cderivative(F, z):\n",
    "    return 0.5*(differential(F, z, 1) - i*differential(F, z, i))\n",
    "\n",
    "\n",
    "def cderivative_(F, z, alg):\n",
    "    a = random_vector(alg)\n",
    "    x = a * z\n",
    "    ai = inv(a)\n",
    "    aFR2 = lambda x: a*F(ai*x)\n",
    "    return 0.5*derivative(aFR2, x, alg, grade=1)\n",
    "\n",
    "cderivative(F, z), cderivative_(F, z, alg), cderivative(G, z), cderivative_(G, z, alg)"
   ]
  },
  {
   "cell_type": "code",
   "execution_count": 14,
   "metadata": {},
   "outputs": [
    {
     "data": {
      "text/plain": [
       "(0.301, 0.301 + 5.65e-12 𝐞₁₂, 1.67e-10 + 1.11e-10 𝐞₁₂, 1.65e-11 + 2.05e-11 𝐞₁₂)"
      ]
     },
     "execution_count": 14,
     "metadata": {},
     "output_type": "execute_result"
    }
   ],
   "source": [
    "#7.9\n",
    "def conj_cderivative(F, z):\n",
    "    return 0.5*(differential(F, z, 1) + i*differential(F, z, i))\n",
    "\n",
    "def conj_cderivative_(F, z, alg):\n",
    "    a = random_vector(alg)\n",
    "    x = a * z\n",
    "    ai = inv(a)\n",
    "    FR2 = lambda x: F(ai*x)\n",
    "    return 0.5*a*derivative(FR2, x, alg, grade=1)\n",
    "\n",
    "conj_cderivative(F, z), conj_cderivative_(F, z, alg), conj_cderivative(G, z), conj_cderivative_(G, z, alg)"
   ]
  },
  {
   "cell_type": "markdown",
   "metadata": {},
   "source": [
    "For an analytic function G, we have several equivalent derivatives:"
   ]
  },
  {
   "cell_type": "code",
   "execution_count": 15,
   "metadata": {},
   "outputs": [
    {
     "data": {
      "text/plain": [
       "(1.67e-10 + 1.11e-10 𝐞₁₂,\n",
       " 1.57 + 0.96 𝐞₁₂,\n",
       " 1.57 + 0.96 𝐞₁₂,\n",
       " 1.57 + 0.96 𝐞₁₂,\n",
       " ,\n",
       " 1.57 + 0.96 𝐞₁₂)"
      ]
     },
     "execution_count": 15,
     "metadata": {},
     "output_type": "execute_result"
    }
   ],
   "source": [
    "#7.13, 7.14, 7.15\n",
    "(\n",
    "    conj_cderivative(G, z), \n",
    "    cderivative(G, z), \n",
    "    differential(G, z, 1), \n",
    "    -i*differential(G, z, i),\n",
    "    differential(G, z, a),\n",
    "    differential(GR2, x, a),\n",
    "    )"
   ]
  },
  {
   "cell_type": "code",
   "execution_count": 16,
   "metadata": {},
   "outputs": [
    {
     "data": {
      "text/plain": [
       "(0.5, 1.5, 2.0, 1.0, 0.106 𝐞₁ + 0.538 𝐞₂, 0.806 + 0.337 𝐞₁₂)"
      ]
     },
     "execution_count": 16,
     "metadata": {},
     "output_type": "execute_result"
    }
   ],
   "source": [
    "# For non-analytic\n",
    "H = lambda z: z.grade(0) + z\n",
    "HR2 = lambda x: H(ai*x)\n",
    "(\n",
    "    conj_cderivative(H, z), \n",
    "    cderivative(H, z), \n",
    "    differential(H, z, 1), \n",
    "    -i*differential(H, z, i),\n",
    "    differential(H, z, b),\n",
    "    differential(HR2, x, b),\n",
    "    )"
   ]
  },
  {
   "cell_type": "markdown",
   "metadata": {},
   "source": [
    "#### Examples of Analytic Functions\n",
    "z, 1/z, z^k for any integer k"
   ]
  },
  {
   "cell_type": "code",
   "execution_count": 17,
   "metadata": {},
   "outputs": [
    {
     "data": {
      "text/plain": [
       "5.55e-11 𝐞₁ + -5.55e-11 𝐞₂"
      ]
     },
     "execution_count": 17,
     "metadata": {},
     "output_type": "execute_result"
    }
   ],
   "source": [
    "#7.16\n",
    "deriv_(lambda x: ai*x)(x)"
   ]
  },
  {
   "cell_type": "code",
   "execution_count": 18,
   "metadata": {},
   "outputs": [
    {
     "data": {
      "text/plain": [
       "5.55e-11 𝐞₁ + 5.55e-11 𝐞₂"
      ]
     },
     "execution_count": 18,
     "metadata": {},
     "output_type": "execute_result"
    }
   ],
   "source": [
    "#7.17\n",
    "deriv_(lambda x: inv(x)*a)(x)"
   ]
  },
  {
   "cell_type": "code",
   "execution_count": 19,
   "metadata": {},
   "outputs": [
    {
     "data": {
      "text/plain": [
       "(1.11e-10 𝐞₁ + 1.94e-10 𝐞₂, 2.78e-11 𝐞₁ + -2.22e-10 𝐞₂)"
      ]
     },
     "execution_count": 19,
     "metadata": {},
     "output_type": "execute_result"
    }
   ],
   "source": [
    "#7.18 note that a and x are symmetric\n",
    "k = 3\n",
    "deriv_(lambda x: (ai*x)**k)(x), deriv_(lambda x: (inv(x)*a)**k)(x) # -k"
   ]
  },
  {
   "cell_type": "markdown",
   "metadata": {},
   "source": [
    "A complex function corresponds to a real function:"
   ]
  },
  {
   "cell_type": "code",
   "execution_count": 20,
   "metadata": {},
   "outputs": [
    {
     "data": {
      "text/plain": [
       "(1.31 + -1.31 𝐞₁₂, 1.31 + -1.31 𝐞₁₂, 1.93 𝐞₁ + -0.198 𝐞₂)"
      ]
     },
     "execution_count": 20,
     "metadata": {},
     "output_type": "execute_result"
    }
   ],
   "source": [
    "#7.19\n",
    "g = lambda x: a*G(ai*x)\n",
    "G(z), ai*g(x), g(x)"
   ]
  },
  {
   "cell_type": "code",
   "execution_count": 21,
   "metadata": {},
   "outputs": [
    {
     "data": {
      "text/plain": [
       "(1.57 + 0.96 𝐞₁₂,\n",
       " 1.57 + 0.96 𝐞₁₂,\n",
       " 1.57 + 0.96 𝐞₁₂,\n",
       " 1.57 + 0.96 𝐞₁₂,\n",
       " 1.57 + 0.96 𝐞₁₂)"
      ]
     },
     "execution_count": 21,
     "metadata": {},
     "output_type": "execute_result"
    }
   ],
   "source": [
    "#7.20 7.21 Any random direction a\n",
    "(\n",
    "    cderivative(G, z), \n",
    "    differential(G, z, 1),\n",
    "    -i*differential(G, z, i), \n",
    "    0.5*deriv_(g)(x), \n",
    "    inv(a) * differential(g, x, a)\n",
    "    )"
   ]
  },
  {
   "cell_type": "code",
   "execution_count": 22,
   "metadata": {},
   "outputs": [
    {
     "data": {
      "text/plain": [
       "(1.67e-10 + 1.11e-10 𝐞₁₂, , -1.11e-10 𝐞₁ + -1.11e-10 𝐞₂)"
      ]
     },
     "execution_count": 22,
     "metadata": {},
     "output_type": "execute_result"
    }
   ],
   "source": [
    "# Yet zero gradient for the complex function G\n",
    "conj_cderivative(G, z), differential(G, z, a), deriv_(GR2)(x)"
   ]
  },
  {
   "cell_type": "markdown",
   "metadata": {},
   "source": [
    "### Conformal Transformation"
   ]
  },
  {
   "cell_type": "code",
   "execution_count": 23,
   "metadata": {},
   "outputs": [
    {
     "data": {
      "text/plain": [
       "[array([0.09061519]), array([0.09061518])]"
      ]
     },
     "execution_count": 23,
     "metadata": {},
     "output_type": "execute_result"
    }
   ],
   "source": [
    "#7.22 F is not analytic, yet conformal\n",
    "f = lambda x: a*F(ai*x)\n",
    "f_vec = lambda a: lambda x: differential(f, x, a)\n",
    "g_vec = lambda a: lambda x: differential(g, x, a)\n",
    "f_ = lambda A: outermorphism_(f_vec, A, alg, h=1e-3)\n",
    "g_ = lambda A: outermorphism_(g_vec, A, alg, h=1e-3)\n",
    "c, d = random_r_vectors(2, alg)\n",
    "\n",
    "[terms_ratio(f_(a)(x)|f_(b)(x), a|b) for a, b in [(a,b), (c,d)]]"
   ]
  },
  {
   "cell_type": "code",
   "execution_count": 24,
   "metadata": {},
   "outputs": [
    {
     "data": {
      "text/plain": [
       "[array([3.37861396]), array([3.37861352])]"
      ]
     },
     "execution_count": 24,
     "metadata": {},
     "output_type": "execute_result"
    }
   ],
   "source": [
    "# G is both conformal and analytic\n",
    "[terms_ratio(g_(a)(x)|g_(b)(x), a|b) for a, b in [(a,b), (c,d)]]"
   ]
  },
  {
   "cell_type": "code",
   "execution_count": 25,
   "metadata": {},
   "outputs": [
    {
     "data": {
      "text/plain": [
       "(, [(, 0.44), (, 0.28)], [array([3.6612386e-08]), array([3.66123859e-08])])"
      ]
     },
     "execution_count": 25,
     "metadata": {},
     "output_type": "execute_result"
    }
   ],
   "source": [
    "# H is analytic, but not conformal at origin\n",
    "H = lambda z: z**2\n",
    "h = lambda x: a*H(ai*x)\n",
    "h_vec = lambda a: lambda x: differential(h, x, a)\n",
    "h_ = lambda A: outermorphism_(h_vec, A, alg)\n",
    "\n",
    "(\n",
    "    conj_cderivative(H, z), \n",
    "    [(h_(a)(0)|h_(b)(0), a|b) for a, b in [(a,b), (c,d)]],\n",
    "\n",
    "    # slightly away from origin\n",
    "    [terms_ratio(h_(a)(1e-4*e1)|h_(b)(1e-4*e1), a|b) for a, b in [(a,b), (c,d)]]\n",
    "    )"
   ]
  },
  {
   "cell_type": "code",
   "execution_count": 26,
   "metadata": {},
   "outputs": [
    {
     "data": {
      "text/plain": [
       "(0.5, [array([4.00049703]), array([4.00102487])])"
      ]
     },
     "execution_count": 26,
     "metadata": {},
     "output_type": "execute_result"
    }
   ],
   "source": [
    "# H is not analytic nor conformal\n",
    "H = lambda z: z.grade(0) + z\n",
    "h = lambda x: a*H(ai*x)\n",
    "h_vec = lambda a: lambda x: differential(h, x, a)\n",
    "h_ = lambda A: outermorphism_(h_vec, A, alg)\n",
    "\n",
    "conj_cderivative(H, z), [terms_ratio(h_(a)(x)|h_(b)(x), a|b) for a, b in [(a,b), (c,d)]]"
   ]
  },
  {
   "cell_type": "markdown",
   "metadata": {},
   "source": [
    "An orthogonal transformation admits a rotor representation.\n",
    "\n",
    "On the other hand, a rotor is a normalized complex number in Cl(2)."
   ]
  },
  {
   "cell_type": "code",
   "execution_count": 27,
   "metadata": {},
   "outputs": [
    {
     "data": {
      "text/plain": [
       "(0.641 𝐞₁ + 1.81 𝐞₂, 0.641 𝐞₁ + 1.81 𝐞₂, 0.962 + 0.271 𝐞₁₂)"
      ]
     },
     "execution_count": 27,
     "metadata": {},
     "output_type": "execute_result"
    }
   ],
   "source": [
    "#7.22b\n",
    "psi = ai * g_(a)(x)\n",
    "l = norm(psi)\n",
    "r = simple_rotor_sqrt(psi/l)\n",
    "\n",
    "g_(a)(x), l * r.reverse().sw(a), r"
   ]
  },
  {
   "cell_type": "code",
   "execution_count": 28,
   "metadata": {},
   "outputs": [
    {
     "data": {
      "text/plain": [
       "(0.641 𝐞₁ + 1.81 𝐞₂, 0.641 𝐞₁ + 1.81 𝐞₂)"
      ]
     },
     "execution_count": 28,
     "metadata": {},
     "output_type": "execute_result"
    }
   ],
   "source": [
    "#7.22c In 2D, a sandwich product can be a one side product\n",
    "a * psi, psi.reverse()*a"
   ]
  },
  {
   "cell_type": "code",
   "execution_count": 29,
   "metadata": {},
   "outputs": [
    {
     "data": {
      "text/plain": [
       "(1.9 𝐞₁ + 0.251 𝐞₂, 1.9 𝐞₁ + 0.251 𝐞₂, 1.9 𝐞₁ + 0.251 𝐞₂)"
      ]
     },
     "execution_count": 29,
     "metadata": {},
     "output_type": "execute_result"
    }
   ],
   "source": [
    "#7.23 the adjoint\n",
    "ga = lambda A: adjoint_outermorphism_(g_vec, A, alg)\n",
    "ga(a)(x), psi*a, a*psi.reverse()"
   ]
  },
  {
   "cell_type": "code",
   "execution_count": 30,
   "metadata": {},
   "outputs": [
    {
     "data": {
      "text/plain": [
       "(1.57 + 0.96 𝐞₁₂, 1.57 + 0.96 𝐞₁₂)"
      ]
     },
     "execution_count": 30,
     "metadata": {},
     "output_type": "execute_result"
    }
   ],
   "source": [
    "#7.24 We can derive psi in 2 ways:\n",
    "ai * g_(a)(x), 0.5*deriv_(g)(x)"
   ]
  },
  {
   "cell_type": "markdown",
   "metadata": {},
   "source": [
    "The euality of the 2 expression of psi is equivalent to analyticity condition.\n",
    "\n",
    "So the conformal condition on g is equivalent to analyticity condition on G."
   ]
  },
  {
   "cell_type": "code",
   "execution_count": 31,
   "metadata": {},
   "outputs": [],
   "source": [
    "def randint(): \n",
    "    return np.random.randint(low=2, high=9)"
   ]
  },
  {
   "cell_type": "code",
   "execution_count": 32,
   "metadata": {},
   "outputs": [
    {
     "data": {
      "text/plain": [
       "(0.00152 𝐞₁ + -0.00106 𝐞₂, -8.92e-08 𝐞₁ + -5.95e-08 𝐞₂)"
      ]
     },
     "execution_count": 32,
     "metadata": {},
     "output_type": "execute_result"
    }
   ],
   "source": [
    "#7.25 the analyticity of psi\n",
    "psi = lambda x: ai * g_(a)(x)\n",
    "deriv_ = lambda F: lambda x: derivative(F, x, alg, grade=1, h=randint()*1e-5)\n",
    "deriv_(psi)(x), deriv_(deriv_(g))(x)"
   ]
  },
  {
   "cell_type": "code",
   "execution_count": 33,
   "metadata": {},
   "outputs": [
    {
     "data": {
      "text/plain": [
       "(1.24 𝐞₁₂, 1.24 𝐞₁₂, 1.24 𝐞₁₂)"
      ]
     },
     "execution_count": 33,
     "metadata": {},
     "output_type": "execute_result"
    }
   ],
   "source": [
    "#7.26\n",
    "g_(a^b)(x), g_(a)(x)^g_(b)(x), normsq(psi(x))*a^b"
   ]
  },
  {
   "cell_type": "code",
   "execution_count": 34,
   "metadata": {},
   "outputs": [
    {
     "data": {
      "text/plain": [
       "(3.3786134713000413, 3.3786134713000413, 3.3786133271525536)"
      ]
     },
     "execution_count": 34,
     "metadata": {},
     "output_type": "execute_result"
    }
   ],
   "source": [
    "#7.27\n",
    "l ** 2, normsq(psi(x)), normsq(deriv_(g)(x))/4"
   ]
  },
  {
   "cell_type": "code",
   "execution_count": 35,
   "metadata": {},
   "outputs": [
    {
     "data": {
      "text/plain": [
       "(5.29 𝐞₁ + -16.8 𝐞₂, 5.29 𝐞₁ + -16.8 𝐞₂, 5.28 𝐞₁ + -16.8 𝐞₂)"
      ]
     },
     "execution_count": 35,
     "metadata": {},
     "output_type": "execute_result"
    }
   ],
   "source": [
    "#7.28 because deriv_(psi) is zero, by product rule:\n",
    "(\n",
    "    deriv_(lambda x: psi(x) * psi(x).reverse())(x), \n",
    "    psi(x).reverse() * deriv_(lambda x: psi(x).reverse())(x), \n",
    "    deriv_(lambda x: psi(x).reverse())(x)*psi(x)\n",
    "    )"
   ]
  },
  {
   "cell_type": "code",
   "execution_count": 36,
   "metadata": {},
   "outputs": [
    {
     "data": {
      "text/plain": [
       "(4.7 + 2.88 𝐞₁₂, 4.7 + 2.88 𝐞₁₂, 4.7 + 2.88 𝐞₁₂)"
      ]
     },
     "execution_count": 36,
     "metadata": {},
     "output_type": "execute_result"
    }
   ],
   "source": [
    "#7.29\n",
    "Ix = lambda x: e12\n",
    "back_deriv = lambda F: lambda x: sum(r * o(F) for r, o in back_derivative_gen(x, g, alg, Ix, h=randint()*1e-4))\n",
    "\n",
    "(\n",
    "    deriv_(lambda x: h(g(x)))(x), \n",
    "    back_deriv(h)(x),\n",
    "    psi(x) * deriv_(h)(g(x))\n",
    "    )"
   ]
  },
  {
   "cell_type": "code",
   "execution_count": 37,
   "metadata": {},
   "outputs": [
    {
     "data": {
      "text/plain": [
       "(3.0 + -1.54e-07 𝐞₁₂, 3.0 + -0.000158 𝐞₁₂, 3.0 + 2.78e-12 𝐞₁₂)"
      ]
     },
     "execution_count": 37,
     "metadata": {},
     "output_type": "execute_result"
    }
   ],
   "source": [
    "#7.29\n",
    "Ix = lambda x: e12\n",
    "forward_deriv = lambda F: lambda x:sum(r * o(F) for r, o in forward_derivative_gen(x, g, alg, Ix, h=randint()*1e-4))\n",
    "(\n",
    "    inv(psi(x)) * deriv_(lambda x: h(g(x)))(x),\n",
    "    forward_deriv(lambda x: h(g(x)))(x),\n",
    "    deriv_(h)(g(x))\n",
    "    )"
   ]
  },
  {
   "cell_type": "code",
   "execution_count": 38,
   "metadata": {},
   "outputs": [
    {
     "data": {
      "text/plain": [
       "(2.17 𝐞₁ + 1.81 𝐞₂, 2.17 𝐞₁ + 1.81 𝐞₂)"
      ]
     },
     "execution_count": 38,
     "metadata": {},
     "output_type": "execute_result"
    }
   ],
   "source": [
    "#7.30 Note that psi measures the same point as h\n",
    "ga = lambda A: adjoint_outermorphism_(g_vec, A, alg, h=1e-3)\n",
    "ga(h)(x), psi(x) * h(x)"
   ]
  },
  {
   "cell_type": "code",
   "execution_count": 39,
   "metadata": {},
   "outputs": [
    {
     "data": {
      "text/plain": [
       "(5.33 𝐞₁ + -1.83 𝐞₂, 5.33 𝐞₁ + -1.83 𝐞₂)"
      ]
     },
     "execution_count": 39,
     "metadata": {},
     "output_type": "execute_result"
    }
   ],
   "source": [
    "#7.30 Modify the case so psi measures the point before the transformation\n",
    "# This matches 7.29\n",
    "ga(lambda x: h(g(x)))(x), psi(x) * h(g(x))"
   ]
  },
  {
   "cell_type": "markdown",
   "metadata": {},
   "source": [
    "The textbook seems to make a mistake here: \n",
    "\n",
    "despite the same symbol psi, it measures at 2 points: \n",
    "\n",
    "before and after transformation."
   ]
  },
  {
   "cell_type": "code",
   "execution_count": 40,
   "metadata": {},
   "outputs": [
    {
     "data": {
      "text/plain": [
       "(-0.407 + 2.33 𝐞₁₂, -0.407 + 2.32 𝐞₁₂, -0.406 + 2.32 𝐞₁₂)"
      ]
     },
     "execution_count": 40,
     "metadata": {},
     "output_type": "execute_result"
    }
   ],
   "source": [
    "#7.31\n",
    "E = lambda x: psi(g(x)) * h(g(x))\n",
    "E_ = lambda x: psi(x) * h(x)\n",
    "(\n",
    "    deriv_(E)(x), \n",
    "    back_deriv(E_)(x), \n",
    "    psi(x)*psi(g(x)).reverse() * deriv_(h)(g(x))\n",
    "    )"
   ]
  },
  {
   "cell_type": "code",
   "execution_count": 41,
   "metadata": {},
   "outputs": [
    {
     "data": {
      "text/plain": [
       "(-0.135 + 0.775 𝐞₁₂, 3.3786134713000413)"
      ]
     },
     "execution_count": 41,
     "metadata": {},
     "output_type": "execute_result"
    }
   ],
   "source": [
    "# Istead of a dilation (scalar), it's a dilated rotation (study number).\n",
    "psi(x)*psi(g(x)).reverse(), l**2"
   ]
  },
  {
   "cell_type": "code",
   "execution_count": 42,
   "metadata": {},
   "outputs": [
    {
     "data": {
      "text/plain": [
       "(10.1 + -0.00334 𝐞₁₂, 10.1 + -0.00784 𝐞₁₂, 10.1)"
      ]
     },
     "execution_count": 42,
     "metadata": {},
     "output_type": "execute_result"
    }
   ],
   "source": [
    "#7.31 modified\n",
    "E = lambda x: psi(x) * h(g(x))\n",
    "E_ = lambda x: psi(x) * h(x)\n",
    "(\n",
    "    deriv_(E)(x), \n",
    "    deriv_(ga(lambda x: h(g(x))))(x), \n",
    "    normsq(psi(x)) * deriv_(h)(g(x))\n",
    "    )"
   ]
  },
  {
   "cell_type": "code",
   "execution_count": 43,
   "metadata": {},
   "outputs": [
    {
     "data": {
      "text/plain": [
       "(13.5 + -0.000263 𝐞₁₂, 13.5)"
      ]
     },
     "execution_count": 43,
     "metadata": {},
     "output_type": "execute_result"
    }
   ],
   "source": [
    "#7.32 normsq has nonzero laplacian\n",
    "deriv_(deriv_(lambda x: normsq(g(x))))(x), normsq(psi(x))*deriv_(deriv_(normsq))(g(x))"
   ]
  },
  {
   "cell_type": "code",
   "execution_count": 44,
   "metadata": {},
   "outputs": [
    {
     "data": {
      "text/plain": [
       "(-3.47 + 4.71 𝐞₁₂, -3.47 + 4.71 𝐞₁₂, -3.47 + 4.7 𝐞₁₂, -3.47 + 4.71 𝐞₁₂)"
      ]
     },
     "execution_count": 44,
     "metadata": {},
     "output_type": "execute_result"
    }
   ],
   "source": [
    "#7.35\n",
    "(\n",
    "    forward_deriv(g_(h))(x),\n",
    "    inv(psi(x))*deriv_(lambda x: psi(x).reverse()*h(x))(x),\n",
    "    inv(psi(x))*deriv_(lambda x: psi(x).reverse())(x)*h(x) + deriv_(h)(x),\n",
    "    deriv_(lambda x: normsq(psi(x))*h(x))(x) / normsq(psi(x))\n",
    "    )"
   ]
  },
  {
   "cell_type": "markdown",
   "metadata": {},
   "source": [
    "### Analytic Continuation\n",
    "\n",
    "In **conformal geometric algebra (CGA)**, functions can be mapped to a higher-dimensional space where branch cuts and singularities are interpreted as geometric transformations. CGA represents points in a **higher-dimensional Minkowski space**, allowing for a unified treatment of **stereographic projection, Möbius transformations, and analytic continuation**."
   ]
  },
  {
   "cell_type": "markdown",
   "metadata": {},
   "source": [
    "Branching as rotor states, or paths how an object moved to its current state"
   ]
  },
  {
   "cell_type": "code",
   "execution_count": 63,
   "metadata": {},
   "outputs": [
    {
     "data": {
      "text/plain": [
       "(0.707 + -0.707 𝐞₁₂,\n",
       " -0.707 + 0.707 𝐞₁₂,\n",
       " -1.05 𝐞₁ + -0.0152 𝐞₂,\n",
       " -1.05 𝐞₁ + -0.0152 𝐞₂)"
      ]
     },
     "execution_count": 63,
     "metadata": {},
     "output_type": "execute_result"
    }
   ],
   "source": [
    "# R1, R2 represents -pi/4, 3pi/4 rotations, same final states, but different rotors\n",
    "R1, R2 = blade_exp((-np.pi/4)*i), blade_exp((3*np.pi/4)*i)\n",
    "R1, R2, R1.sw(x), R2.sw(x)"
   ]
  },
  {
   "cell_type": "code",
   "execution_count": 68,
   "metadata": {},
   "outputs": [
    {
     "data": {
      "text/plain": [
       "(0.707 + -0.707 𝐞₁₂, -0.785 𝐞₁₂, -0.785 𝐞₁₂, -0.7853981633974483)"
      ]
     },
     "execution_count": 68,
     "metadata": {},
     "output_type": "execute_result"
    }
   ],
   "source": [
    "R3 = blade_exp((7*np.pi/4)*i)\n",
    "R3, simple_rotor_log(R3), simple_rotor_log(R1), -np.pi/4"
   ]
  },
  {
   "cell_type": "code",
   "execution_count": null,
   "metadata": {},
   "outputs": [
    {
     "data": {
      "text/plain": [
       "(0.62 + 0.789 𝐞₁₂, 0.618 + 0.786 𝐞₁₂, 0.618 + 0.786 𝐞₁₂)"
      ]
     },
     "execution_count": 50,
     "metadata": {},
     "output_type": "execute_result"
    }
   ],
   "source": [
    "# double covering\n",
    "r = simple_rotor_sqrt(normalize(z))\n",
    "z, r ** 2, (-r)**2"
   ]
  },
  {
   "cell_type": "code",
   "execution_count": null,
   "metadata": {},
   "outputs": [],
   "source": [
    "# check multiple coverings by recover the bivector "
   ]
  }
 ],
 "metadata": {
  "kernelspec": {
   "display_name": "3.10.5",
   "language": "python",
   "name": "python3"
  },
  "language_info": {
   "codemirror_mode": {
    "name": "ipython",
    "version": 3
   },
   "file_extension": ".py",
   "mimetype": "text/x-python",
   "name": "python",
   "nbconvert_exporter": "python",
   "pygments_lexer": "ipython3",
   "version": "3.10.5"
  }
 },
 "nbformat": 4,
 "nbformat_minor": 2
}
