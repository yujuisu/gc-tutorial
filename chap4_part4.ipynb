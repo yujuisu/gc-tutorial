{
 "cells": [
  {
   "cell_type": "markdown",
   "metadata": {},
   "source": [
    "## Complex Numbers and Conformal Transformation"
   ]
  },
  {
   "cell_type": "markdown",
   "metadata": {},
   "source": [
    "1. conjugation is reversion\n",
    "2. Real/imaginary parts are scalar/pseudoscalar parts"
   ]
  },
  {
   "cell_type": "code",
   "execution_count": 1,
   "metadata": {},
   "outputs": [
    {
     "data": {
      "text/plain": [
       "(0.243 + 0.886 𝐞₁₂, 0.243 + -0.886 𝐞₁₂, 0.243, 0.886)"
      ]
     },
     "execution_count": 1,
     "metadata": {},
     "output_type": "execute_result"
    }
   ],
   "source": [
    "#7.1\n",
    "# complex plane as even subalgebra\n",
    "from gc_utils import *\n",
    "alg = Algebra(2)\n",
    "locals().update(alg.blades)\n",
    "\n",
    "def random_study_number(alg):\n",
    "    a, b = np.random.rand(2)\n",
    "    return (a + alg.pseudoscalar((b,)))\n",
    "\n",
    "\n",
    "z = random_study_number(alg)\n",
    "zr = z.reverse()\n",
    "z, zr, (z + zr)/2, -e12 * (z - zr)/2, "
   ]
  },
  {
   "cell_type": "code",
   "execution_count": 2,
   "metadata": {},
   "outputs": [
    {
     "data": {
      "text/plain": [
       "0"
      ]
     },
     "execution_count": 2,
     "metadata": {},
     "output_type": "execute_result"
    }
   ],
   "source": [
    "#7.2 a real vector x lives in the space i\n",
    "i = e12\n",
    "x = random_vector(alg)\n",
    "x ^ i"
   ]
  },
  {
   "cell_type": "markdown",
   "metadata": {},
   "source": [
    "A complex number z sends a real vector to another real vector"
   ]
  },
  {
   "cell_type": "code",
   "execution_count": 3,
   "metadata": {},
   "outputs": [
    {
     "data": {
      "text/plain": [
       "(0.0862 𝐞₁ + 0.399 𝐞₂, -0.333 𝐞₁ + 0.173 𝐞₂)"
      ]
     },
     "execution_count": 3,
     "metadata": {},
     "output_type": "execute_result"
    }
   ],
   "source": [
    "#7.3\n",
    "a = random_vector(alg)\n",
    "x = a*z\n",
    "ai = inv(a)\n",
    "a, x"
   ]
  },
  {
   "cell_type": "code",
   "execution_count": 4,
   "metadata": {},
   "outputs": [
    {
     "data": {
      "text/plain": [
       "(0.243 + 0.886 𝐞₁₂, 0.243 + 0.886 𝐞₁₂, 0.243, 0.886 𝐞₁₂)"
      ]
     },
     "execution_count": 4,
     "metadata": {},
     "output_type": "execute_result"
    }
   ],
   "source": [
    "#7.4 the real/img parts corresponds to inner/outor products\n",
    "z, ai*x, (a|x)/normsq(a), (a^x)/normsq(a)"
   ]
  },
  {
   "cell_type": "code",
   "execution_count": 5,
   "metadata": {},
   "outputs": [
    {
     "data": {
      "text/plain": [
       "(0.243 + -0.886 𝐞₁₂, 0.243 + -0.886 𝐞₁₂, 0.243 + -0.886 𝐞₁₂)"
      ]
     },
     "execution_count": 5,
     "metadata": {},
     "output_type": "execute_result"
    }
   ],
   "source": [
    "#7.5 the conjugation of z is a reflection of z\n",
    "z.reverse(), x*ai, a.sw(z)/normsq(a)"
   ]
  },
  {
   "cell_type": "code",
   "execution_count": 6,
   "metadata": {},
   "outputs": [
    {
     "data": {
      "text/plain": [
       "1.0 + 5.55e-17 𝐞₁₂"
      ]
     },
     "execution_count": 6,
     "metadata": {},
     "output_type": "execute_result"
    }
   ],
   "source": [
    "# z is invertible with simple inversion\n",
    "inv(z) * z"
   ]
  },
  {
   "cell_type": "markdown",
   "metadata": {},
   "source": [
    "### Complex Number as Roter\n",
    "The complex number $z$ is the simplest motion sends $a$ to $x$:\n",
    "\n",
    "Its norm dilates;\n",
    "\n",
    "The normalized part rotates."
   ]
  },
  {
   "cell_type": "code",
   "execution_count": 7,
   "metadata": {},
   "outputs": [
    {
     "data": {
      "text/plain": [
       "(0.9190078082565571, 0.9190078082565573, 1.3033418687869647, 1.3 𝐞₁₂)"
      ]
     },
     "execution_count": 7,
     "metadata": {},
     "output_type": "execute_result"
    }
   ],
   "source": [
    "(\n",
    "    norm(x)/norm(a), \n",
    "    norm(z),\n",
    "    np.arccos((normalize(x) | normalize(a))[0]),\n",
    "    simple_rotor_log(normalize(z))\n",
    "    )"
   ]
  },
  {
   "cell_type": "markdown",
   "metadata": {},
   "source": [
    "### Complex Number as Exponent"
   ]
  },
  {
   "cell_type": "code",
   "execution_count": 8,
   "metadata": {},
   "outputs": [
    {
     "data": {
      "text/plain": [
       "(0.243 + 0.886 𝐞₁₂, 0.243 + 0.886 𝐞₁₂)"
      ]
     },
     "execution_count": 8,
     "metadata": {},
     "output_type": "execute_result"
    }
   ],
   "source": [
    "def cexp(z):\n",
    "    return np.exp(z.e)*blade_exp(z.grade(2))\n",
    "\n",
    "n, l = np.log(norm(z)), simple_rotor_log(normalize(z))\n",
    "z, cexp(n+l)"
   ]
  },
  {
   "cell_type": "markdown",
   "metadata": {},
   "source": [
    "We can view a complex function as a function of real vectors to complex numbers."
   ]
  },
  {
   "cell_type": "code",
   "execution_count": 9,
   "metadata": {},
   "outputs": [
    {
     "data": {
      "text/plain": [
       "(0.0361 + -0.132 𝐞₁₂, 0.0361 + -0.132 𝐞₁₂)"
      ]
     },
     "execution_count": 9,
     "metadata": {},
     "output_type": "execute_result"
    }
   ],
   "source": [
    "#7.7\n",
    "b = random_vector(alg)\n",
    "F = lambda z: b.sw(z)\n",
    "FR2 = lambda x: F(ai*x)\n",
    "F(z),  FR2(x)"
   ]
  },
  {
   "cell_type": "code",
   "execution_count": 10,
   "metadata": {},
   "outputs": [
    {
     "data": {
      "text/plain": [
       "(0.154 𝐞₁ + 0.712 𝐞₂, 1.11e-10 𝐞₁ + 1.11e-10 𝐞₂)"
      ]
     },
     "execution_count": 10,
     "metadata": {},
     "output_type": "execute_result"
    }
   ],
   "source": [
    "#7.8 A real version of Cauchy-Riemann equation\n",
    "G = lambda z: cexp(inv(z))\n",
    "GR2 = lambda x: G(ai*x)\n",
    "deriv_ = lambda F: lambda x: derivative(F, x, alg, grade=1)\n",
    "\n",
    "deriv_(FR2)(x), deriv_(GR2)(x)"
   ]
  },
  {
   "cell_type": "markdown",
   "metadata": {},
   "source": [
    "The vector derivative of this real input version is equivalent to the complex derivative."
   ]
  },
  {
   "cell_type": "code",
   "execution_count": 11,
   "metadata": {},
   "outputs": [
    {
     "data": {
      "text/plain": [
       "(-5.2e-12, 1.73e-12 𝐞₁₂, 1.37 + -0.777 𝐞₁₂, 1.37 + -0.777 𝐞₁₂)"
      ]
     },
     "execution_count": 11,
     "metadata": {},
     "output_type": "execute_result"
    }
   ],
   "source": [
    "#7.9\n",
    "def cderivative(F, z):\n",
    "    return 0.5*(differential(F, z, 1) - i*differential(F, z, i))\n",
    "\n",
    "\n",
    "def cderivative_(F, z, alg):\n",
    "    a = random_vector(alg)\n",
    "    x = a * z\n",
    "    ai = inv(a)\n",
    "    aFR2 = lambda x: a*F(ai*x)\n",
    "    return 0.5*derivative(aFR2, x, alg, grade=1)\n",
    "\n",
    "cderivative(F, z), cderivative_(F, z, alg), cderivative(G, z), cderivative_(G, z, alg)"
   ]
  },
  {
   "cell_type": "code",
   "execution_count": 12,
   "metadata": {},
   "outputs": [
    {
     "data": {
      "text/plain": [
       "(0.149, 0.149 + 3.9e-12 𝐞₁₂, 1.11e-10 𝐞₁₂, 2.65e-11 + 2.34e-11 𝐞₁₂)"
      ]
     },
     "execution_count": 12,
     "metadata": {},
     "output_type": "execute_result"
    }
   ],
   "source": [
    "#7.9\n",
    "def conj_cderivative(F, z):\n",
    "    return 0.5*(differential(F, z, 1) + i*differential(F, z, i))\n",
    "\n",
    "def conj_cderivative_(F, z, alg):\n",
    "    a = random_vector(alg)\n",
    "    x = a * z\n",
    "    ai = inv(a)\n",
    "    FR2 = lambda x: F(ai*x)\n",
    "    return 0.5*a*derivative(FR2, x, alg, grade=1)\n",
    "\n",
    "conj_cderivative(F, z), conj_cderivative_(F, z, alg), conj_cderivative(G, z), conj_cderivative_(G, z, alg)"
   ]
  },
  {
   "cell_type": "markdown",
   "metadata": {},
   "source": [
    "For an analytic function G, we have several equivalent derivatives:"
   ]
  },
  {
   "cell_type": "code",
   "execution_count": 13,
   "metadata": {},
   "outputs": [
    {
     "data": {
      "text/plain": [
       "(1.11e-10 𝐞₁₂,\n",
       " 1.37 + -0.777 𝐞₁₂,\n",
       " 1.37 + -0.777 𝐞₁₂,\n",
       " 1.37 + -0.777 𝐞₁₂,\n",
       " ,\n",
       " 1.37 + -0.777 𝐞₁₂)"
      ]
     },
     "execution_count": 13,
     "metadata": {},
     "output_type": "execute_result"
    }
   ],
   "source": [
    "#7.13, 7.14, 7.15\n",
    "(\n",
    "    conj_cderivative(G, z), \n",
    "    cderivative(G, z), \n",
    "    differential(G, z, 1), \n",
    "    -i*differential(G, z, i),\n",
    "    differential(G, z, a),\n",
    "    differential(GR2, x, a),\n",
    "    )"
   ]
  },
  {
   "cell_type": "code",
   "execution_count": 14,
   "metadata": {},
   "outputs": [
    {
     "data": {
      "text/plain": [
       "(0.5, 1.5, 2.0, 1.0, 0.25 𝐞₁ + 0.294 𝐞₂, 1.66 + -0.446 𝐞₁₂)"
      ]
     },
     "execution_count": 14,
     "metadata": {},
     "output_type": "execute_result"
    }
   ],
   "source": [
    "# For non-analytic\n",
    "H = lambda z: z.grade(0) + z\n",
    "HR2 = lambda x: H(ai*x)\n",
    "(\n",
    "    conj_cderivative(H, z), \n",
    "    cderivative(H, z), \n",
    "    differential(H, z, 1), \n",
    "    -i*differential(H, z, i),\n",
    "    differential(H, z, b),\n",
    "    differential(HR2, x, b),\n",
    "    )"
   ]
  },
  {
   "cell_type": "markdown",
   "metadata": {},
   "source": [
    "#### Examples of Analytic Functions\n",
    "z, 1/z, z^k for any integer k"
   ]
  },
  {
   "cell_type": "code",
   "execution_count": 15,
   "metadata": {},
   "outputs": [
    {
     "data": {
      "text/plain": [
       "-1.39e-11 𝐞₁ + 5.55e-11 𝐞₂"
      ]
     },
     "execution_count": 15,
     "metadata": {},
     "output_type": "execute_result"
    }
   ],
   "source": [
    "#7.16\n",
    "deriv_(lambda x: ai*x)(x)"
   ]
  },
  {
   "cell_type": "code",
   "execution_count": 16,
   "metadata": {},
   "outputs": [
    {
     "data": {
      "text/plain": [
       "-8.33e-11 𝐞₁ + 1.39e-10 𝐞₂"
      ]
     },
     "execution_count": 16,
     "metadata": {},
     "output_type": "execute_result"
    }
   ],
   "source": [
    "#7.17\n",
    "deriv_(lambda x: inv(x)*a)(x)"
   ]
  },
  {
   "cell_type": "code",
   "execution_count": 17,
   "metadata": {},
   "outputs": [
    {
     "data": {
      "text/plain": [
       "(-5.55e-11 𝐞₁ + -1.11e-10 𝐞₂, 2.78e-10 𝐞₁ + -4.44e-10 𝐞₂)"
      ]
     },
     "execution_count": 17,
     "metadata": {},
     "output_type": "execute_result"
    }
   ],
   "source": [
    "#7.18 note that a and x are symmetric\n",
    "k = 3\n",
    "deriv_(lambda x: (ai*x)**k)(x), deriv_(lambda x: (inv(x)*a)**k)(x) # -k"
   ]
  },
  {
   "cell_type": "markdown",
   "metadata": {},
   "source": [
    "A complex function corresponds to a real function:"
   ]
  },
  {
   "cell_type": "code",
   "execution_count": 18,
   "metadata": {},
   "outputs": [
    {
     "data": {
      "text/plain": [
       "(0.664 + -1.16 𝐞₁₂, 0.664 + -1.16 𝐞₁₂, 0.519 𝐞₁ + 0.165 𝐞₂)"
      ]
     },
     "execution_count": 18,
     "metadata": {},
     "output_type": "execute_result"
    }
   ],
   "source": [
    "#7.19\n",
    "g = lambda x: a*G(ai*x)\n",
    "G(z), ai*g(x), g(x)"
   ]
  },
  {
   "cell_type": "code",
   "execution_count": 19,
   "metadata": {},
   "outputs": [
    {
     "data": {
      "text/plain": [
       "(1.37 + -0.777 𝐞₁₂,\n",
       " 1.37 + -0.777 𝐞₁₂,\n",
       " 1.37 + -0.777 𝐞₁₂,\n",
       " 1.37 + -0.777 𝐞₁₂,\n",
       " 1.37 + -0.777 𝐞₁₂)"
      ]
     },
     "execution_count": 19,
     "metadata": {},
     "output_type": "execute_result"
    }
   ],
   "source": [
    "#7.20 7.21 Any random direction a\n",
    "(\n",
    "    cderivative(G, z), \n",
    "    differential(G, z, 1),\n",
    "    -i*differential(G, z, i), \n",
    "    0.5*deriv_(g)(x), \n",
    "    inv(a) * differential(g, x, a)\n",
    "    )"
   ]
  },
  {
   "cell_type": "code",
   "execution_count": 20,
   "metadata": {},
   "outputs": [
    {
     "data": {
      "text/plain": [
       "(1.11e-10 𝐞₁₂, , 1.11e-10 𝐞₁ + 1.11e-10 𝐞₂)"
      ]
     },
     "execution_count": 20,
     "metadata": {},
     "output_type": "execute_result"
    }
   ],
   "source": [
    "# Yet zero gradient for the complex function G\n",
    "conj_cderivative(G, z), differential(G, z, a), deriv_(GR2)(x)"
   ]
  },
  {
   "cell_type": "markdown",
   "metadata": {},
   "source": [
    "### Conformal Transformation"
   ]
  },
  {
   "cell_type": "code",
   "execution_count": 21,
   "metadata": {},
   "outputs": [
    {
     "data": {
      "text/plain": [
       "[array([0.02213824]), array([0.02213824])]"
      ]
     },
     "execution_count": 21,
     "metadata": {},
     "output_type": "execute_result"
    }
   ],
   "source": [
    "#7.22 F is not analytic, yet conformal\n",
    "f = lambda x: a*F(ai*x)\n",
    "f_vec = lambda a: lambda x: differential(f, x, a)\n",
    "g_vec = lambda a: lambda x: differential(g, x, a)\n",
    "f_ = lambda A: outermorphism_(f_vec, A, alg, h=1e-3)\n",
    "g_ = lambda A: outermorphism_(g_vec, A, alg, h=1e-3)\n",
    "c, d = random_r_vectors(2, alg)\n",
    "\n",
    "[terms_ratio(f_(a)(x)|f_(b)(x), a|b) for a, b in [(a,b), (c,d)]]"
   ]
  },
  {
   "cell_type": "code",
   "execution_count": 22,
   "metadata": {},
   "outputs": [
    {
     "data": {
      "text/plain": [
       "[array([2.49173339]), array([2.49173348])]"
      ]
     },
     "execution_count": 22,
     "metadata": {},
     "output_type": "execute_result"
    }
   ],
   "source": [
    "# G is both conformal and analytic\n",
    "[terms_ratio(g_(a)(x)|g_(b)(x), a|b) for a, b in [(a,b), (c,d)]]"
   ]
  },
  {
   "cell_type": "code",
   "execution_count": 23,
   "metadata": {},
   "outputs": [
    {
     "data": {
      "text/plain": [
       "(1.39e-11 + -4.16e-11 𝐞₁₂,\n",
       " [(, 0.139), (, 0.838)],\n",
       " [array([2.3988901e-07]), array([2.39889009e-07])])"
      ]
     },
     "execution_count": 23,
     "metadata": {},
     "output_type": "execute_result"
    }
   ],
   "source": [
    "# H is analytic, but not conformal at origin\n",
    "H = lambda z: z**2\n",
    "h = lambda x: a*H(ai*x)\n",
    "h_vec = lambda a: lambda x: differential(h, x, a)\n",
    "h_ = lambda A: outermorphism_(h_vec, A, alg)\n",
    "\n",
    "(\n",
    "    conj_cderivative(H, z), \n",
    "    [(h_(a)(0)|h_(b)(0), a|b) for a, b in [(a,b), (c,d)]],\n",
    "\n",
    "    # slightly away from origin\n",
    "    [terms_ratio(h_(a)(1e-4*e1)|h_(b)(1e-4*e1), a|b) for a, b in [(a,b), (c,d)]]\n",
    "    )"
   ]
  },
  {
   "cell_type": "code",
   "execution_count": 24,
   "metadata": {},
   "outputs": [
    {
     "data": {
      "text/plain": [
       "(0.5, [array([3.99998662]), array([1.86707955])])"
      ]
     },
     "execution_count": 24,
     "metadata": {},
     "output_type": "execute_result"
    }
   ],
   "source": [
    "# H is not analytic nor conformal\n",
    "H = lambda z: z.grade(0) + z\n",
    "h = lambda x: a*H(ai*x)\n",
    "h_vec = lambda a: lambda x: differential(h, x, a)\n",
    "h_ = lambda A: outermorphism_(h_vec, A, alg)\n",
    "\n",
    "conj_cderivative(H, z), [terms_ratio(h_(a)(x)|h_(b)(x), a|b) for a, b in [(a,b), (c,d)]]"
   ]
  },
  {
   "cell_type": "markdown",
   "metadata": {},
   "source": [
    "An orthogonal transformation admits a rotor representation.\n",
    "\n",
    "On the other hand, a rotor is a normalized complex number in Cl(2)."
   ]
  },
  {
   "cell_type": "code",
   "execution_count": 25,
   "metadata": {},
   "outputs": [
    {
     "data": {
      "text/plain": [
       "(0.428 𝐞₁ + 0.482 𝐞₂, 0.428 𝐞₁ + 0.482 𝐞₂, 0.967 + -0.254 𝐞₁₂)"
      ]
     },
     "execution_count": 25,
     "metadata": {},
     "output_type": "execute_result"
    }
   ],
   "source": [
    "#7.22b\n",
    "psi = ai * g_(a)(x)\n",
    "l = norm(psi)\n",
    "r = simple_rotor_sqrt(psi/l)\n",
    "\n",
    "g_(a)(x), l * r.reverse().sw(a), r"
   ]
  },
  {
   "cell_type": "code",
   "execution_count": 26,
   "metadata": {},
   "outputs": [
    {
     "data": {
      "text/plain": [
       "(0.428 𝐞₁ + 0.482 𝐞₂, 0.428 𝐞₁ + 0.482 𝐞₂)"
      ]
     },
     "execution_count": 26,
     "metadata": {},
     "output_type": "execute_result"
    }
   ],
   "source": [
    "#7.22c In 2D, a sandwich product can be a one side product\n",
    "a * psi, psi.reverse()*a"
   ]
  },
  {
   "cell_type": "code",
   "execution_count": 27,
   "metadata": {},
   "outputs": [
    {
     "data": {
      "text/plain": [
       "(-0.192 𝐞₁ + 0.615 𝐞₂, -0.192 𝐞₁ + 0.615 𝐞₂, -0.192 𝐞₁ + 0.615 𝐞₂)"
      ]
     },
     "execution_count": 27,
     "metadata": {},
     "output_type": "execute_result"
    }
   ],
   "source": [
    "#7.23 the adjoint\n",
    "ga = lambda A: adjoint_outermorphism_(g_vec, A, alg)\n",
    "ga(a)(x), psi*a, a*psi.reverse()"
   ]
  },
  {
   "cell_type": "code",
   "execution_count": 28,
   "metadata": {},
   "outputs": [
    {
     "data": {
      "text/plain": [
       "(1.37 + -0.777 𝐞₁₂, 1.37 + -0.777 𝐞₁₂)"
      ]
     },
     "execution_count": 28,
     "metadata": {},
     "output_type": "execute_result"
    }
   ],
   "source": [
    "#7.24 We can derive psi in 2 ways:\n",
    "ai * g_(a)(x), 0.5*deriv_(g)(x)"
   ]
  },
  {
   "cell_type": "markdown",
   "metadata": {},
   "source": [
    "The euality of the 2 expression of psi is equivalent to analyticity condition.\n",
    "\n",
    "So the conformal condition on g is equivalent to analyticity condition on G."
   ]
  },
  {
   "cell_type": "code",
   "execution_count": 29,
   "metadata": {},
   "outputs": [],
   "source": [
    "def randint(): \n",
    "    return np.random.randint(low=2, high=9)"
   ]
  },
  {
   "cell_type": "code",
   "execution_count": 30,
   "metadata": {},
   "outputs": [
    {
     "data": {
      "text/plain": [
       "(0.000385 𝐞₁ + -0.000434 𝐞₂, 2.35e-06 𝐞₁ + -4.54e-07 𝐞₂)"
      ]
     },
     "execution_count": 30,
     "metadata": {},
     "output_type": "execute_result"
    }
   ],
   "source": [
    "#7.25 the analyticity of psi\n",
    "psi = lambda x: ai * g_(a)(x)\n",
    "deriv_ = lambda F: lambda x: derivative(F, x, alg, grade=1, h=randint()*1e-5)\n",
    "deriv_(psi)(x), deriv_(deriv_(g))(x)"
   ]
  },
  {
   "cell_type": "code",
   "execution_count": 31,
   "metadata": {},
   "outputs": [
    {
     "data": {
      "text/plain": [
       "(-0.186 𝐞₁₂, -0.186 𝐞₁₂, -0.186 𝐞₁₂)"
      ]
     },
     "execution_count": 31,
     "metadata": {},
     "output_type": "execute_result"
    }
   ],
   "source": [
    "#7.26\n",
    "g_(a^b)(x), g_(a)(x)^g_(b)(x), normsq(psi(x))*a^b"
   ]
  },
  {
   "cell_type": "code",
   "execution_count": 32,
   "metadata": {},
   "outputs": [
    {
     "data": {
      "text/plain": [
       "(2.4917333825622996, 2.491733382562299, 2.4917335696759104)"
      ]
     },
     "execution_count": 32,
     "metadata": {},
     "output_type": "execute_result"
    }
   ],
   "source": [
    "#7.27\n",
    "l ** 2, normsq(psi(x)), normsq(deriv_(g)(x))/4"
   ]
  },
  {
   "cell_type": "code",
   "execution_count": 33,
   "metadata": {},
   "outputs": [
    {
     "data": {
      "text/plain": [
       "(33.4 𝐞₁ + -1.66 𝐞₂, 33.4 𝐞₁ + -1.67 𝐞₂, 33.4 𝐞₁ + -1.67 𝐞₂)"
      ]
     },
     "execution_count": 33,
     "metadata": {},
     "output_type": "execute_result"
    }
   ],
   "source": [
    "#7.28 because deriv_(psi) is zero, by product rule:\n",
    "(\n",
    "    deriv_(lambda x: psi(x) * psi(x).reverse())(x), \n",
    "    psi(x).reverse() * deriv_(lambda x: psi(x).reverse())(x), \n",
    "    deriv_(lambda x: psi(x).reverse())(x)*psi(x)\n",
    "    )"
   ]
  },
  {
   "cell_type": "code",
   "execution_count": 54,
   "metadata": {},
   "outputs": [
    {
     "data": {
      "text/plain": [
       "(4.12 + -2.33 𝐞₁₂, 4.12 + -2.33 𝐞₁₂, 4.12 + -2.33 𝐞₁₂)"
      ]
     },
     "execution_count": 54,
     "metadata": {},
     "output_type": "execute_result"
    }
   ],
   "source": [
    "#7.29\n",
    "Ix = lambda x: e12\n",
    "back_deriv = lambda F: lambda x: sum(r * o(F) for r, o in back_derivative_gen(x, g, alg, Ix, h=randint()*1e-4))\n",
    "\n",
    "(\n",
    "    deriv_(lambda x: h(g(x)))(x), \n",
    "    back_deriv(h)(x),\n",
    "    psi(x) * deriv_(h)(g(x))\n",
    "    )"
   ]
  },
  {
   "cell_type": "code",
   "execution_count": 55,
   "metadata": {},
   "outputs": [
    {
     "data": {
      "text/plain": [
       "(3.0 + 2.31e-08 𝐞₁₂, 3.0 + -1.37e-05 𝐞₁₂, 3.0 + 1.39e-12 𝐞₁₂)"
      ]
     },
     "execution_count": 55,
     "metadata": {},
     "output_type": "execute_result"
    }
   ],
   "source": [
    "#7.29\n",
    "Ix = lambda x: e12\n",
    "forward_deriv = lambda F: lambda x:sum(r * o(F) for r, o in forward_derivative_gen(x, g, alg, Ix, h=randint()*1e-4))\n",
    "(\n",
    "    inv(psi(x)) * deriv_(lambda x: h(g(x)))(x),\n",
    "    forward_deriv(lambda x: h(g(x)))(x),\n",
    "    deriv_(h)(g(x))\n",
    "    )"
   ]
  },
  {
   "cell_type": "code",
   "execution_count": null,
   "metadata": {},
   "outputs": [
    {
     "data": {
      "text/plain": [
       "(-0.639 𝐞₁ + 0.129 𝐞₂, -0.639 𝐞₁ + 0.129 𝐞₂)"
      ]
     },
     "execution_count": 37,
     "metadata": {},
     "output_type": "execute_result"
    }
   ],
   "source": [
    "#7.30 Note that psi measures the same point as h\n",
    "ga = lambda A: adjoint_outermorphism_(g_vec, A, alg, h=1e-3)\n",
    "ga(h)(x), psi(x) * h(x)"
   ]
  },
  {
   "cell_type": "code",
   "execution_count": null,
   "metadata": {},
   "outputs": [
    {
     "data": {
      "text/plain": [
       "(0.457 𝐞₁ + 1.04 𝐞₂, 0.457 𝐞₁ + 1.04 𝐞₂)"
      ]
     },
     "execution_count": 46,
     "metadata": {},
     "output_type": "execute_result"
    }
   ],
   "source": [
    "#7.30 Modify the case so psi measures the point before the transformation\n",
    "# This matches 7.29\n",
    "ga(lambda x: h(g(x)))(x), psi(x) * h(g(x))"
   ]
  },
  {
   "cell_type": "markdown",
   "metadata": {},
   "source": [
    "The textbook seems to make a mistake here: \n",
    "\n",
    "despite the same symbol psi, it measures at 2 points: \n",
    "\n",
    "before and after transformation."
   ]
  },
  {
   "cell_type": "code",
   "execution_count": 56,
   "metadata": {},
   "outputs": [
    {
     "data": {
      "text/plain": [
       "(3.84 + -0.472 𝐞₁₂, 3.84 + -0.472 𝐞₁₂, 3.84 + -0.472 𝐞₁₂)"
      ]
     },
     "execution_count": 56,
     "metadata": {},
     "output_type": "execute_result"
    }
   ],
   "source": [
    "#7.31\n",
    "E = lambda x: psi(g(x)) * h(g(x))\n",
    "E_ = lambda x: psi(x) * h(x)\n",
    "(\n",
    "    deriv_(E)(x), \n",
    "    back_deriv(E_)(x), \n",
    "    psi(x)*psi(g(x)).reverse() * deriv_(h)(g(x))\n",
    "    )"
   ]
  },
  {
   "cell_type": "code",
   "execution_count": null,
   "metadata": {},
   "outputs": [
    {
     "data": {
      "text/plain": [
       "(1.28 + -0.157 𝐞₁₂, 2.4917333825622996)"
      ]
     },
     "execution_count": 39,
     "metadata": {},
     "output_type": "execute_result"
    }
   ],
   "source": [
    "# Istead of a dilation (scalar), it's a dilated rotation (study number).\n",
    "psi(x)*psi(g(x)).reverse(), l**2"
   ]
  },
  {
   "cell_type": "code",
   "execution_count": 48,
   "metadata": {},
   "outputs": [
    {
     "data": {
      "text/plain": [
       "(7.48 + 0.000415 𝐞₁₂, 7.48 + 8.5e-05 𝐞₁₂, 7.48 + 3.46e-12 𝐞₁₂)"
      ]
     },
     "execution_count": 48,
     "metadata": {},
     "output_type": "execute_result"
    }
   ],
   "source": [
    "#7.31 modified\n",
    "E = lambda x: psi(x) * h(g(x))\n",
    "E_ = lambda x: psi(x) * h(x)\n",
    "(\n",
    "    deriv_(E)(x), \n",
    "    deriv_(ga(lambda x: h(g(x))))(x), \n",
    "    normsq(psi(x)) * deriv_(h)(g(x))\n",
    "    )"
   ]
  },
  {
   "cell_type": "code",
   "execution_count": 40,
   "metadata": {},
   "outputs": [
    {
     "data": {
      "text/plain": [
       "(9.97 + 0.00104 𝐞₁₂, 9.97)"
      ]
     },
     "execution_count": 40,
     "metadata": {},
     "output_type": "execute_result"
    }
   ],
   "source": [
    "#7.32 normsq has nonzero laplacian\n",
    "deriv_(deriv_(lambda x: normsq(g(x))))(x), normsq(psi(x))*deriv_(deriv_(normsq))(g(x))"
   ]
  },
  {
   "cell_type": "code",
   "execution_count": 94,
   "metadata": {},
   "outputs": [
    {
     "data": {
      "text/plain": [
       "(-1.36 + 3.41 𝐞₁₂, -1.36 + 3.41 𝐞₁₂, -1.36 + 3.41 𝐞₁₂, -1.36 + 3.41 𝐞₁₂)"
      ]
     },
     "execution_count": 94,
     "metadata": {},
     "output_type": "execute_result"
    }
   ],
   "source": [
    "#7.35\n",
    "(\n",
    "    forward_deriv(g_(h))(x),\n",
    "    inv(psi(x))*deriv_(lambda x: psi(x).reverse()*h(x))(x),\n",
    "    inv(psi(x))*deriv_(lambda x: psi(x).reverse())(x)*h(x) + deriv_(h)(x),\n",
    "    deriv_(lambda x: normsq(psi(x))*h(x))(x) / normsq(psi(x))\n",
    "    )"
   ]
  },
  {
   "cell_type": "markdown",
   "metadata": {},
   "source": [
    "### Analytic Continuation"
   ]
  }
 ],
 "metadata": {
  "kernelspec": {
   "display_name": "3.10.5",
   "language": "python",
   "name": "python3"
  },
  "language_info": {
   "codemirror_mode": {
    "name": "ipython",
    "version": 3
   },
   "file_extension": ".py",
   "mimetype": "text/x-python",
   "name": "python",
   "nbconvert_exporter": "python",
   "pygments_lexer": "ipython3",
   "version": "3.10.5"
  }
 },
 "nbformat": 4,
 "nbformat_minor": 2
}
