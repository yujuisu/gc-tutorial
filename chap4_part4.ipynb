{
 "cells": [
  {
   "cell_type": "code",
   "execution_count": 1,
   "metadata": {},
   "outputs": [
    {
     "data": {
      "text/plain": [
       "0.823 + 0.0249 𝐞₁₂"
      ]
     },
     "execution_count": 1,
     "metadata": {},
     "output_type": "execute_result"
    }
   ],
   "source": [
    "from gc_utils import *\n",
    "alg = Algebra(2)\n",
    "locals().update(alg.blades)\n",
    "\n",
    "def random_study_number(alg):\n",
    "    a, b = np.random.rand(2)\n",
    "    return (a + alg.pseudoscalar((b,)))\n",
    "\n",
    "random_study_number(alg)"
   ]
  },
  {
   "cell_type": "code",
   "execution_count": 2,
   "metadata": {},
   "outputs": [
    {
     "data": {
      "text/plain": [
       "(0.496 + 0.488 𝐞₁₂, 0.496 + -0.488 𝐞₁₂, 0.496, 0.488)"
      ]
     },
     "execution_count": 2,
     "metadata": {},
     "output_type": "execute_result"
    }
   ],
   "source": [
    "#7.1\n",
    "z = random_study_number(alg)\n",
    "zr = z.reverse()\n",
    "z, zr, (z + zr)/2, -e12 * (z - zr)/2, "
   ]
  },
  {
   "cell_type": "code",
   "execution_count": 3,
   "metadata": {},
   "outputs": [
    {
     "data": {
      "text/plain": [
       "0"
      ]
     },
     "execution_count": 3,
     "metadata": {},
     "output_type": "execute_result"
    }
   ],
   "source": [
    "#7.2\n",
    "i = e12\n",
    "x = random_vector(alg)\n",
    "x ^ i"
   ]
  },
  {
   "cell_type": "code",
   "execution_count": 4,
   "metadata": {},
   "outputs": [
    {
     "data": {
      "text/plain": [
       "(0.496 + 0.488 𝐞₁₂, 0.496 + 0.488 𝐞₁₂)"
      ]
     },
     "execution_count": 4,
     "metadata": {},
     "output_type": "execute_result"
    }
   ],
   "source": [
    "#7.3\n",
    "ai = z * inv(x)\n",
    "z, ai*x"
   ]
  },
  {
   "cell_type": "code",
   "execution_count": 5,
   "metadata": {},
   "outputs": [
    {
     "data": {
      "text/plain": [
       "(0.496, 0.488 𝐞₁₂)"
      ]
     },
     "execution_count": 5,
     "metadata": {},
     "output_type": "execute_result"
    }
   ],
   "source": [
    "#7.4\n",
    "a = inv(ai)\n",
    "(a|x)/normsq(a), (a^x)/normsq(a)"
   ]
  },
  {
   "cell_type": "code",
   "execution_count": 6,
   "metadata": {},
   "outputs": [
    {
     "data": {
      "text/plain": [
       "(0.496 + -0.488 𝐞₁₂, 0.496 + -0.488 𝐞₁₂, 0.496 + -0.488 𝐞₁₂)"
      ]
     },
     "execution_count": 6,
     "metadata": {},
     "output_type": "execute_result"
    }
   ],
   "source": [
    "#7.5\n",
    "z.reverse(), x*ai, a.sw(z)/normsq(a)"
   ]
  },
  {
   "cell_type": "code",
   "execution_count": 7,
   "metadata": {},
   "outputs": [
    {
     "data": {
      "text/plain": [
       "(0.472 𝐞₁ + 0.69 𝐞₂, 0.472 𝐞₁ + 0.69 𝐞₂)"
      ]
     },
     "execution_count": 7,
     "metadata": {},
     "output_type": "execute_result"
    }
   ],
   "source": [
    "#7.6\n",
    "x, a*z"
   ]
  },
  {
   "cell_type": "code",
   "execution_count": 8,
   "metadata": {},
   "outputs": [
    {
     "data": {
      "text/plain": [
       "1.0 + 5.55e-17 𝐞₁₂"
      ]
     },
     "execution_count": 8,
     "metadata": {},
     "output_type": "execute_result"
    }
   ],
   "source": [
    "# z is invertible with simple inversion\n",
    "inv(z) * z"
   ]
  },
  {
   "cell_type": "code",
   "execution_count": 9,
   "metadata": {},
   "outputs": [
    {
     "data": {
      "text/plain": [
       "(0.0316 + -0.0311 𝐞₁₂, 0.0316 + -0.0311 𝐞₁₂)"
      ]
     },
     "execution_count": 9,
     "metadata": {},
     "output_type": "execute_result"
    }
   ],
   "source": [
    "#7.7\n",
    "b = random_vector(alg)\n",
    "F = lambda z: b.sw(z)\n",
    "FR2 = lambda x: F(ai*x)\n",
    "F(z),  FR2(x)"
   ]
  },
  {
   "cell_type": "code",
   "execution_count": 10,
   "metadata": {},
   "outputs": [
    {
     "data": {
      "text/plain": [
       "(0.104 𝐞₁ + 0.0204 𝐞₂, -1.11e-10 𝐞₁ + 1.11e-10 𝐞₂)"
      ]
     },
     "execution_count": 10,
     "metadata": {},
     "output_type": "execute_result"
    }
   ],
   "source": [
    "#7.8\n",
    "def cexp(z):\n",
    "    return np.exp(z.e)*blade_exp(z.grade(2))\n",
    "G = lambda z: cexp(inv(z))\n",
    "GR2 = lambda x: G(ai*x)\n",
    "deriv_ = lambda F: lambda x: derivative(F, x, alg, grade=1)\n",
    "\n",
    "deriv_(FR2)(x), deriv_(GR2)(x)"
   ]
  },
  {
   "cell_type": "code",
   "execution_count": 11,
   "metadata": {},
   "outputs": [
    {
     "data": {
      "text/plain": [
       "(,\n",
       " -2.6e-12 + 1.73e-12 𝐞₁₂,\n",
       " 2.17e-13 + -2.17e-13 𝐞₁₂,\n",
       " 4.81 + 3.15 𝐞₁₂,\n",
       " 4.81 + 3.15 𝐞₁₂,\n",
       " 4.81 + 3.15 𝐞₁₂)"
      ]
     },
     "execution_count": 11,
     "metadata": {},
     "output_type": "execute_result"
    }
   ],
   "source": [
    "#7.9\n",
    "def cderivative(F, z):\n",
    "    return 0.5*(differential(F, z, 1) - i*differential(F, z, i))\n",
    "\n",
    "\n",
    "def cderivative_(F, z, a, alg):\n",
    "    x = a * z\n",
    "    ai = inv(a)\n",
    "    aFR2 = lambda x: a*F(ai*x)\n",
    "    return 0.5*derivative(aFR2, x, alg, grade=1)\n",
    "\n",
    "cderivative(F, z), cderivative_(F, z, a, alg), cderivative_(F, z, b, alg), cderivative(G, z), cderivative_(G, z, a, alg), cderivative_(G, z, b, alg)"
   ]
  },
  {
   "cell_type": "code",
   "execution_count": 12,
   "metadata": {},
   "outputs": [
    {
     "data": {
      "text/plain": [
       "(0.0636,\n",
       " 0.0636 + -1.1e-12 𝐞₁₂,\n",
       " 0.0636 + -6.4e-14 𝐞₁₂,\n",
       " 5.55e-11 + -2.22e-10 𝐞₁₂,\n",
       " -2.35e-10 + -1.58e-10 𝐞₁₂,\n",
       " 3.09e-10 + 2.69e-10 𝐞₁₂)"
      ]
     },
     "execution_count": 12,
     "metadata": {},
     "output_type": "execute_result"
    }
   ],
   "source": [
    "#7.9\n",
    "def conj_cderivative(F, z):\n",
    "    return 0.5*(differential(F, z, 1) + i*differential(F, z, i))\n",
    "\n",
    "def conj_cderivative_(F, z, a, alg):\n",
    "    x = a * z\n",
    "    ai = inv(a)\n",
    "    FR2 = lambda x: F(ai*x)\n",
    "    return 0.5*a*derivative(FR2, x, alg, grade=1)\n",
    "\n",
    "conj_cderivative(F, z), conj_cderivative_(F, z, a, alg), conj_cderivative_(F, z, b, alg), conj_cderivative(G, z), conj_cderivative_(G, z, a, alg), conj_cderivative_(G, z, b, alg)"
   ]
  },
  {
   "cell_type": "code",
   "execution_count": 13,
   "metadata": {},
   "outputs": [
    {
     "data": {
      "text/plain": [
       "(5.55e-11 + -2.22e-10 𝐞₁₂,\n",
       " 4.81 + 3.15 𝐞₁₂,\n",
       " 4.81 + 3.15 𝐞₁₂,\n",
       " 4.81 + 3.15 𝐞₁₂,\n",
       " ,\n",
       " 4.81 + 3.15 𝐞₁₂)"
      ]
     },
     "execution_count": 13,
     "metadata": {},
     "output_type": "execute_result"
    }
   ],
   "source": [
    "#7.13, 7.14, 7.15\n",
    "(\n",
    "    conj_cderivative(G, z), \n",
    "    cderivative(G, z), \n",
    "    differential(G, z, 1), \n",
    "    -i*differential(G, z, i),\n",
    "    differential(G, z, a),\n",
    "    differential(GR2, x, a),\n",
    "    )"
   ]
  },
  {
   "cell_type": "code",
   "execution_count": 14,
   "metadata": {},
   "outputs": [
    {
     "data": {
      "text/plain": [
       "-5.55e-11 𝐞₁"
      ]
     },
     "execution_count": 14,
     "metadata": {},
     "output_type": "execute_result"
    }
   ],
   "source": [
    "#7.16\n",
    "deriv_(lambda x: ai*x)(x)"
   ]
  },
  {
   "cell_type": "code",
   "execution_count": 15,
   "metadata": {},
   "outputs": [
    {
     "data": {
      "text/plain": [
       "1.11e-10 𝐞₁"
      ]
     },
     "execution_count": 15,
     "metadata": {},
     "output_type": "execute_result"
    }
   ],
   "source": [
    "#7.17\n",
    "deriv_(lambda x: inv(x)*a)(x)"
   ]
  },
  {
   "cell_type": "code",
   "execution_count": 16,
   "metadata": {},
   "outputs": [
    {
     "data": {
      "text/plain": [
       "(-1.39e-11 𝐞₁ + -6.94e-11 𝐞₂, -2.22e-10 𝐞₁ + -2.22e-10 𝐞₂)"
      ]
     },
     "execution_count": 16,
     "metadata": {},
     "output_type": "execute_result"
    }
   ],
   "source": [
    "#7.18 note that a and x are symmetric\n",
    "k = 3\n",
    "deriv_(lambda x: (ai*x)**k)(x), deriv_(lambda x: (inv(x)*a)**k)(x)"
   ]
  },
  {
   "cell_type": "code",
   "execution_count": 17,
   "metadata": {},
   "outputs": [
    {
     "data": {
      "text/plain": [
       "(1.49 + -2.36 𝐞₁₂, 1.49 + -2.36 𝐞₁₂)"
      ]
     },
     "execution_count": 17,
     "metadata": {},
     "output_type": "execute_result"
    }
   ],
   "source": [
    "#7.19\n",
    "g = lambda x: a*G(ai*x)\n",
    "G(z), ai*g(x)"
   ]
  },
  {
   "cell_type": "code",
   "execution_count": 18,
   "metadata": {},
   "outputs": [
    {
     "data": {
      "text/plain": [
       "(4.81 + 3.15 𝐞₁₂, 4.81 + 3.15 𝐞₁₂)"
      ]
     },
     "execution_count": 18,
     "metadata": {},
     "output_type": "execute_result"
    }
   ],
   "source": [
    "#7.20\n",
    "cderivative(G, z), 0.5*deriv_(g)(x)"
   ]
  },
  {
   "cell_type": "code",
   "execution_count": 19,
   "metadata": {},
   "outputs": [
    {
     "data": {
      "text/plain": [
       "(5.55e-11 + -2.22e-10 𝐞₁₂, -1.11e-10 𝐞₁ + 1.11e-10 𝐞₂, 4.81 + 3.15 𝐞₁₂)"
      ]
     },
     "execution_count": 19,
     "metadata": {},
     "output_type": "execute_result"
    }
   ],
   "source": [
    "#7.21\n",
    "conj_cderivative(G, z), deriv_(GR2)(x), inv(b) * differential(g, x, b)"
   ]
  },
  {
   "cell_type": "code",
   "execution_count": 20,
   "metadata": {},
   "outputs": [
    {
     "data": {
      "text/plain": [
       "[array([0.00405103]), array([0.00405102])]"
      ]
     },
     "execution_count": 20,
     "metadata": {},
     "output_type": "execute_result"
    }
   ],
   "source": [
    "#7.22\n",
    "f = lambda x: a*F(ai*x)\n",
    "f_vec = lambda a: lambda x: differential(f, x, a)\n",
    "g_vec = lambda a: lambda x: differential(g, x, a)\n",
    "f_ = lambda A: outermorphism_(f_vec, A, alg)\n",
    "g_ = lambda A: outermorphism_(g_vec, A, alg)\n",
    "c, d = random_r_vectors(2, alg)\n",
    "\n",
    "[terms_ratio(f_(a)(x)|f_(b)(x), a|b) for a, b in [(a,b), (c,d)]]"
   ]
  },
  {
   "cell_type": "code",
   "execution_count": 21,
   "metadata": {},
   "outputs": [
    {
     "data": {
      "text/plain": [
       "[array([33.08178313]), array([33.08404453])]"
      ]
     },
     "execution_count": 21,
     "metadata": {},
     "output_type": "execute_result"
    }
   ],
   "source": [
    "[terms_ratio(g_(a)(x)|g_(b)(x), a|b) for a, b in [(a,b), (c,d)]]"
   ]
  },
  {
   "cell_type": "code",
   "execution_count": 30,
   "metadata": {},
   "outputs": [
    {
     "data": {
      "text/plain": [
       "(4.94 𝐞₁ + 4.83 𝐞₂, 4.94 𝐞₁ + 4.83 𝐞₂, 4.94 𝐞₁ + 4.83 𝐞₂, 4.94 𝐞₁ + 4.83 𝐞₂)"
      ]
     },
     "execution_count": 30,
     "metadata": {},
     "output_type": "execute_result"
    }
   ],
   "source": [
    "#7.22b,c\n",
    "psi = ai * g_(a)(x)\n",
    "l = norm(psi)\n",
    "r = simple_rotor_sqrt(psi/l)\n",
    "\n",
    "g_(a)(x), a * psi, psi.reverse()*a, l * r.reverse().sw(a)"
   ]
  },
  {
   "cell_type": "code",
   "execution_count": 31,
   "metadata": {},
   "outputs": [
    {
     "data": {
      "text/plain": [
       "(6.4 𝐞₁ + -2.61 𝐞₂, 6.4 𝐞₁ + -2.61 𝐞₂, 6.4 𝐞₁ + -2.61 𝐞₂)"
      ]
     },
     "execution_count": 31,
     "metadata": {},
     "output_type": "execute_result"
    }
   ],
   "source": [
    "#7.23\n",
    "ga = lambda A: adjoint_outermorphism_(g_vec, A, alg)\n",
    "ga(a)(x), psi*a, a*psi.reverse()"
   ]
  },
  {
   "cell_type": "code",
   "execution_count": 33,
   "metadata": {},
   "outputs": [
    {
     "data": {
      "text/plain": [
       "(4.81 + 3.15 𝐞₁₂, 4.81 + 3.15 𝐞₁₂)"
      ]
     },
     "execution_count": 33,
     "metadata": {},
     "output_type": "execute_result"
    }
   ],
   "source": [
    "#7.24 equivalent to analyticity condition\n",
    "ai * g_(a)(x), 0.5*deriv_(g)(x)"
   ]
  },
  {
   "cell_type": "code",
   "execution_count": null,
   "metadata": {},
   "outputs": [],
   "source": [
    "#7.25\n"
   ]
  }
 ],
 "metadata": {
  "kernelspec": {
   "display_name": "3.10.5",
   "language": "python",
   "name": "python3"
  },
  "language_info": {
   "codemirror_mode": {
    "name": "ipython",
    "version": 3
   },
   "file_extension": ".py",
   "mimetype": "text/x-python",
   "name": "python",
   "nbconvert_exporter": "python",
   "pygments_lexer": "ipython3",
   "version": "3.10.5"
  }
 },
 "nbformat": 4,
 "nbformat_minor": 2
}
