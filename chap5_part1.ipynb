{
 "cells": [
  {
   "cell_type": "markdown",
   "metadata": {},
   "source": [
    "## Differential Geometry of Vector Manifolds\n",
    "Emphasis on the curvature tensor\n",
    "1. extringsic geometry\n",
    "2. behavior under transformation\n",
    "3. generalization to nonReimannian curvature\n",
    "4. unification of intrinsic and extrinsic geometry\n",
    "5. regard the curl, rather than the curvature as the fundamental object in differential geometry"
   ]
  },
  {
   "cell_type": "markdown",
   "metadata": {},
   "source": [
    "But shouldn't the intrinsic geometry employ only tensors with values in the tangent algebra?\n",
    "\n",
    "Hestene’s point is that insisting on a formulation that uses only the tangent-bundle–valued tensors to describe intrinsic geometry may lead to complicated bookkeeping—especially when one is also interested in extrinsic aspects. By instead using a curl tensor that captures the rotational (or twisting) information of the manifold in a unified way, one can potentially reconcile intrinsic and extrinsic descriptions into a single, compact framework. This approach emphasizes the geometric idea that the “twisting” of fields on a manifold is the central feature, regardless of whether that twisting comes from internal or embedding properties."
   ]
  },
  {
   "cell_type": "code",
   "execution_count": 1,
   "metadata": {},
   "outputs": [
    {
     "data": {
      "text/plain": [
       "(1.0 𝐞₁₂ + -0.024 𝐞₁₃ + -0.0192 𝐞₂₃, 1.29e-15 𝐞₁₂₃)"
      ]
     },
     "execution_count": 1,
     "metadata": {},
     "output_type": "execute_result"
    }
   ],
   "source": [
    "# Let M be an ellipsoid in R3, (ax)^{2}+(by)^{2}+z^{2}=d\n",
    "# x = 1/a*cos(p)*sin(t)*e1 + 1/b*sin(p)*sin(t)*e2 + cos(t)*e3, t, p in R\n",
    "\n",
    "from gc_utils import *\n",
    "alg = Algebra(3)\n",
    "locals().update(alg.blades)\n",
    "\n",
    "c2e = lambda p, t: 4*np.cos(p)*np.sin(t)*e1 + 5*np.sin(p)*np.sin(t)*e2 + np.cos(t)*e3\n",
    "e_p = lambda p, t: -4*np.sin(p)*np.sin(t)*e1 + 5*np.cos(p)*np.sin(t)*e2\n",
    "e_t = lambda p, t: (4*np.cos(p)*np.cos(t)*e1) + (5*np.sin(p)*np.cos(t)*e2) - (np.sin(t)*e3)\n",
    "def Ix(x):\n",
    "    p = np.arctan((4/5)*x.e2/x.e1)\n",
    "    t = np.arccos(x.e3)\n",
    "    return e_p(p, t) ^ e_t(p, t)\n",
    "\n",
    "# |p| < pi/2, 0 < t < pi for unique arctan & arccos\n",
    "p, t = -1, 3\n",
    "x = c2e(p, t)\n",
    "I = Ix(x)\n",
    "nIx = lambda x: normalize(Ix(x))\n",
    "nI = nIx(x)\n",
    "\n",
    "nI, nI ^ (3*e_t(p,t) + 5*e_p(p,t))"
   ]
  },
  {
   "cell_type": "markdown",
   "metadata": {},
   "source": [
    "### Curl and Curvature\n"
   ]
  },
  {
   "cell_type": "code",
   "execution_count": 2,
   "metadata": {},
   "outputs": [
    {
     "data": {
      "text/plain": [
       "(23.7 𝐞₁₂ + -73.5 𝐞₁₃ + -13.8 𝐞₂₃, 23.7 𝐞₁₂ + -73.5 𝐞₁₃ + -13.8 𝐞₂₃)"
      ]
     },
     "execution_count": 2,
     "metadata": {},
     "output_type": "execute_result"
    }
   ],
   "source": [
    "# setups\n",
    "C, D, E = [random_multivector(alg) for _ in range(3)]\n",
    "V1, V2 = [random_versor(2, alg) for _ in range(2)]\n",
    "f = lambda x: V1.sw(inv(x)) + V2.sw(x**3)  # transformation\n",
    "A = lambda x: E*x**2 + C*x*D  # multivector field\n",
    "a = lambda x: A(x).grade(1)  # vector field\n",
    "PA = lambda x: P(A(x), Ix(x))  # projected\n",
    "pa = lambda x: P(a(x), Ix(x))\n",
    "B = lambda x: C*x**2 + E*x*D\n",
    "b = lambda x: B(x).grade(1)\n",
    "pb = lambda x: P(b(x), Ix(x))\n",
    "f_vec = lambda a: lambda x: differential(f, x, a)\n",
    "f_ = lambda A: outermorphism_(f_vec, A, alg, h=1e-3)\n",
    "f_vec(a(x))(x) ^ f_vec(b(x))(x), f_(a(x)^b(x))(x)"
   ]
  },
  {
   "cell_type": "code",
   "execution_count": 3,
   "metadata": {},
   "outputs": [
    {
     "data": {
      "text/plain": [
       "('shape with inputs from tangent space',\n",
       " -3.53e-11 + -0.00246 𝐞₁₂ + -0.101 𝐞₁₃ + -0.00205 𝐞₂₃,\n",
       " -0.00246 𝐞₁₂ + -0.101 𝐞₁₃ + -0.00205 𝐞₂₃,\n",
       " -0.00246 𝐞₁₂ + -0.101 𝐞₁₃ + -0.00205 𝐞₂₃,\n",
       " -4.71e-12 + -0.00246 𝐞₁₂ + -0.101 𝐞₁₃ + -0.00205 𝐞₂₃,\n",
       " 'shape with inputs from cotangent space',\n",
       " 0.0334 + -4.24e-12 𝐞₁₂ + 1.01e-13 𝐞₁₃ + 8.66e-14 𝐞₂₃,\n",
       " 0.0334 + -3.49e-19 𝐞₁₂ + 8.86e-21 𝐞₁₃ + 7.71e-20 𝐞₂₃,\n",
       " 0.0334,\n",
       " 0.0334,\n",
       " 'manifold spur',\n",
       " -0.00201 𝐞₁ + 0.0025 𝐞₂ + 0.104 𝐞₃,\n",
       " -0.00201 𝐞₁ + 0.0025 𝐞₂ + 0.104 𝐞₃ + -9.88e-12 𝐞₁₂₃,\n",
       " -0.00201 𝐞₁ + 0.0025 𝐞₂ + 0.104 𝐞₃,\n",
       " -0.00201 𝐞₁ + 0.0025 𝐞₂ + 0.104 𝐞₃ + -9.82e-09 𝐞₁₂₃)"
      ]
     },
     "execution_count": 3,
     "metadata": {},
     "output_type": "execute_result"
    }
   ],
   "source": [
    "# Recall these: \n",
    "# the shape operator\n",
    "# def shape(Ix, alg):\n",
    "#     return lambda x, A: derivative(lambda x: P(A, Ix(x)), x, alg, Ix=Ix)\n",
    "\n",
    "def shape(Ix, alg):\n",
    "    return lambda x: lambda A: derivative(lambda x: P(A, Ix(x)), x, alg, Ix=Ix)\n",
    "\n",
    "def manifold_curl(Ix, alg):\n",
    "    return lambda x: lambda A: curl(lambda x: P(A, Ix(x)), x, alg, Ix=Ix)\n",
    "\n",
    "# the curl tensor\n",
    "# curl_tensor = lambda a, x: curl(lambda x: P(a, Ix(x)), x, alg, Ix=Ix)\n",
    "\n",
    "def manifold_spur(Ix, alg):\n",
    "    return lambda x: sum(o(lambda x: P(r, Ix(x))) for r, o in derivative_gen(x, alg, Ix=Ix))\n",
    "\n",
    "S = shape(Ix, alg)(x)\n",
    "N = manifold_spur(Ix, alg)\n",
    "Sa = manifold_curl(Ix, alg)(x)\n",
    "ar = lambda x: a(x) - pa(x)\n",
    "(   \n",
    "    'shape with inputs from tangent space',\n",
    "    S(pa(x)),\n",
    "    Sa(pa(x)), \n",
    "    Sa(a(x)),\n",
    "    inv(nI)*differential(nIx, x, pa(x)),\n",
    "    'shape with inputs from cotangent space',\n",
    "    S(ar(x)),\n",
    "    div(lambda y: P(a(x), Ix(y)), x, alg, Ix=Ix),\n",
    "    N(x) | a(x),\n",
    "    N(x) | ar(x),\n",
    "    'manifold spur',\n",
    "    N(x),\n",
    "    -derivative(nIx, x, alg, Ix=Ix)*inv(nI),\n",
    "    div(Sa, a(x), alg, grade=1, h=1e-3),  # the most drastic direction to change the curl\n",
    "    derivative(Sa, a(x), alg, grade=1, h=1e-3)\n",
    "    )"
   ]
  },
  {
   "cell_type": "code",
   "execution_count": 8,
   "metadata": {},
   "outputs": [
    {
     "data": {
      "text/plain": [
       "-0.00246 𝐞₁₂ + -0.101 𝐞₁₃ + -0.00205 𝐞₂₃"
      ]
     },
     "execution_count": 8,
     "metadata": {},
     "output_type": "execute_result"
    }
   ],
   "source": [
    "differential(nIx, x, pa(x)).cp(nI)"
   ]
  },
  {
   "cell_type": "code",
   "execution_count": null,
   "metadata": {},
   "outputs": [],
   "source": []
  },
  {
   "cell_type": "code",
   "execution_count": 12,
   "metadata": {},
   "outputs": [
    {
     "data": {
      "text/plain": [
       "(0.0334 + -0.00246 𝐞₁₂ + -0.101 𝐞₁₃ + -0.00205 𝐞₂₃,\n",
       " 0.0334 + -4.24e-12 𝐞₁₂ + 1.01e-13 𝐞₁₃ + 8.66e-14 𝐞₂₃,\n",
       " -3.53e-11 + -0.00246 𝐞₁₂ + -0.101 𝐞₁₃ + -0.00205 𝐞₂₃)"
      ]
     },
     "execution_count": 12,
     "metadata": {},
     "output_type": "execute_result"
    }
   ],
   "source": [
    "S(a(x)), S(ar(x)), S(pa(x))"
   ]
  },
  {
   "cell_type": "code",
   "execution_count": 14,
   "metadata": {},
   "outputs": [
    {
     "data": {
      "text/plain": [
       "(-4.71e-12 + -0.00246 𝐞₁₂ + -0.101 𝐞₁₃ + -0.00205 𝐞₂₃,\n",
       " -0.0334 + 2.87e-12 𝐞₁₂ + 5.98e-13 𝐞₁₃ + -1.58e-11 𝐞₂₃)"
      ]
     },
     "execution_count": 14,
     "metadata": {},
     "output_type": "execute_result"
    }
   ],
   "source": [
    "inv(nI)*differential(nIx, x, pa(x)), (derivative(nIx, x, alg, Ix=Ix)*inv(nI)) | a(x)"
   ]
  },
  {
   "cell_type": "markdown",
   "metadata": {},
   "source": [
    "The curl tensor $Sa$ is the angular velocity of the psuedoscalar $I$ as it slides along the manifold in a direction $a$"
   ]
  },
  {
   "cell_type": "code",
   "execution_count": 4,
   "metadata": {},
   "outputs": [
    {
     "data": {
      "text/plain": [
       "(-0.000927 𝐞₁₂ + 0.0171 𝐞₁₃ + -0.0695 𝐞₂₃,\n",
       " -9.03e-11 + -0.000927 𝐞₁₂ + 0.0171 𝐞₁₃ + -0.0695 𝐞₂₃,\n",
       " -0.000927 𝐞₁₂ + 0.0171 𝐞₁₃ + -0.0695 𝐞₂₃)"
      ]
     },
     "execution_count": 4,
     "metadata": {},
     "output_type": "execute_result"
    }
   ],
   "source": [
    "differential(nIx, x, pa(x)), nI * Sa(a(x)), nI.cp(Sa(a(x)))"
   ]
  },
  {
   "cell_type": "code",
   "execution_count": 5,
   "metadata": {},
   "outputs": [
    {
     "data": {
      "text/plain": [
       "1 𝐞₁₃"
      ]
     },
     "execution_count": 5,
     "metadata": {},
     "output_type": "execute_result"
    }
   ],
   "source": [
    "# the angular velocity?\n",
    "# bivector cross bivector are just:\n",
    "e12.cp(e23)"
   ]
  },
  {
   "cell_type": "code",
   "execution_count": 6,
   "metadata": {},
   "outputs": [
    {
     "data": {
      "text/plain": [
       "-0.991 + -0.131 𝐞₁₂ + 0.00315 𝐞₁₃ + 0.00253 𝐞₂₃"
      ]
     },
     "execution_count": 6,
     "metadata": {},
     "output_type": "execute_result"
    }
   ],
   "source": [
    "# Note that the angular velocity and pa are in general not aligned.\n",
    "# So it's a screw motion.\n",
    "# How much it twists?\n",
    "normalize(N(x) | Sa(pa(x))) * normalize(pa(x))"
   ]
  },
  {
   "cell_type": "code",
   "execution_count": 7,
   "metadata": {},
   "outputs": [
    {
     "data": {
      "text/plain": [
       "(0.187 + 0.16 𝐞₁ + -0.0386 𝐞₂ + 0.004 𝐞₃ + 0.174 𝐞₁₂ + -0.00418 𝐞₁₃ + -0.00335 𝐞₂₃,\n",
       " 0.187 + 0.16 𝐞₁ + -0.0386 𝐞₂ + 0.004 𝐞₃ + 0.174 𝐞₁₂ + -0.00418 𝐞₁₃ + -0.00335 𝐞₂₃)"
      ]
     },
     "execution_count": 7,
     "metadata": {},
     "output_type": "execute_result"
    }
   ],
   "source": [
    "#1.2 see 4.3.13\n",
    "frame = blade_split(I, alg)\n",
    "r_frame = reciprocal(frame)\n",
    "codiff_a = lambda A: lambda y: codiff(A, y, a(x), Ix, h=1e-3) # a(x) as a fixed direction\n",
    "codiff_b = lambda A: lambda y: codiff(A, y, b(x), Ix, h=1e-3)\n",
    "def operator_cp(f, g):\n",
    "    return lambda A: lambda x: f(g(A))(x) - g(f(A))(x)\n",
    "\n",
    "a_ = a(x)\n",
    "b_ = b(x)\n",
    "\n",
    "(\n",
    "    operator_cp(codiff_a, codiff_b)(A)(x),\n",
    "    sum(o1(lambda x: sum(((b_^a_)|(r1^r))* o(A) for r, o in coderivative_gen(x, alg, Ix=Ix))) for r1, o1 in coderivative_gen(x, alg, Ix=Ix, h=1e-3))\n",
    "    )"
   ]
  },
  {
   "cell_type": "code",
   "execution_count": 72,
   "metadata": {},
   "outputs": [
    {
     "data": {
      "text/plain": [
       "(-0.00405 + 0.0284 𝐞₁ + 0.0782 𝐞₂ + -0.00133 𝐞₃ + 0.0622 𝐞₁₂ + -0.00149 𝐞₁₃ + -0.0012 𝐞₂₃,\n",
       " 0.337 + -0.856 𝐞₁ + -2.87 𝐞₂ + 0.0524 𝐞₃ + -2.49 𝐞₁₂ + 0.0596 𝐞₁₃ + 0.0479 𝐞₂₃)"
      ]
     },
     "execution_count": 72,
     "metadata": {},
     "output_type": "execute_result"
    }
   ],
   "source": [
    "#1.2 Observe the subltle difference between codifferential and directional coderivative\n",
    "lie = lie_bracket(a, b, alg, Ix)\n",
    "codiff_a_ = lambda A: lambda y: codiff(A, y, a(y), Ix, h=1e-3) # a(y) as a coordinate line\n",
    "codiff_b_ = lambda A: lambda y: codiff(A, y, b(y), Ix, h=1e-3)\n",
    "(\n",
    "    operator_cp(codiff_a_, codiff_b_)(A)(x) - codiff(A, x, lie(x), Ix, h=1e-3), \n",
    "    operator_cp(codiff_a_, codiff_b_)(A)(x)\n",
    "    )"
   ]
  },
  {
   "cell_type": "code",
   "execution_count": null,
   "metadata": {},
   "outputs": [
    {
     "data": {
      "text/plain": [
       "(1.71 + 0.41 𝐞₁ + -0.568 𝐞₂ + 0.0215 𝐞₃ + -0.626 𝐞₁₂ + 0.015 𝐞₁₃ + 0.0121 𝐞₂₃,\n",
       " 1.71 + 0.41 𝐞₁ + -0.568 𝐞₂ + 0.0215 𝐞₃ + -0.626 𝐞₁₂ + 0.015 𝐞₁₃ + 0.0121 𝐞₂₃,\n",
       " 1.71 + 0.41 𝐞₁ + -0.568 𝐞₂ + 0.0215 𝐞₃ + -0.626 𝐞₁₂ + 0.015 𝐞₁₃ + 0.0121 𝐞₂₃)"
      ]
     },
     "execution_count": 166,
     "metadata": {},
     "output_type": "execute_result"
    }
   ],
   "source": [
    "#1.3\n",
    "PA = lambda x: P(A(x), Ix(x))\n",
    "diff_a = lambda F: lambda x: differential(F, x, pa(x))\n",
    "diff_b = lambda F: lambda x: differential(F, x, pb(x))\n",
    "pb_ = pb(x)\n",
    "pa_ = pa(x)\n",
    "Pb = projection_differential(Ix, pb)\n",
    "Pa = projection_differential(Ix, pa)\n",
    "Sb = manifold_curl(pb(x), x)\n",
    "(\n",
    "    codiff_b_(codiff_a_(PA))(x), \n",
    "    P(diff_b(diff_a(PA))(x), I) + Pb(Pa(PA))(x),\n",
    "    P(diff_b(diff_a(PA))(x), I) + P(Sb.cp(A(x).cp(Sa)), I),\n",
    "    )"
   ]
  },
  {
   "cell_type": "code",
   "execution_count": null,
   "metadata": {},
   "outputs": [
    {
     "data": {
      "text/plain": [
       "(0.486 + -0.116 𝐞₁ + 0.566 𝐞₂ + 0.0383 𝐞₃ + 0.453 𝐞₁₂ + -0.00582 𝐞₁₃ + -0.0144 𝐞₂₃,\n",
       " 0.486 + -0.116 𝐞₁ + 0.566 𝐞₂ + 0.0383 𝐞₃ + 0.453 𝐞₁₂ + -0.00582 𝐞₁₃ + -0.0144 𝐞₂₃)"
      ]
     },
     "execution_count": 138,
     "metadata": {},
     "output_type": "execute_result"
    }
   ],
   "source": [
    "#1.3 first eq from this and apply 4.2.11\n",
    "diff_a(PA)(x), Pa(PA)(x) + P(diff_a(PA)(x), I)"
   ]
  },
  {
   "cell_type": "code",
   "execution_count": null,
   "metadata": {},
   "outputs": [
    {
     "data": {
      "text/plain": [
       "(-2.53e-08 + -0.00185 𝐞₁ + 0.00134 𝐞₂ + -6.78e-05 𝐞₃ + 1.06e-07 𝐞₁₂ + -2.54e-09 𝐞₁₃ + -2.04e-09 𝐞₂₃,\n",
       " -1.26e-26 + -0.00185 𝐞₁ + 0.00134 𝐞₂ + -6.78e-05 𝐞₃ + -4.76e-14 𝐞₁₂ + 7.91e-12 𝐞₁₃ + -1.23e-11 𝐞₂₃,\n",
       " -0.00185 𝐞₁ + 0.00134 𝐞₂ + -6.78e-05 𝐞₃ + 8.47e-22 𝐞₁₃)"
      ]
     },
     "execution_count": 159,
     "metadata": {},
     "output_type": "execute_result"
    }
   ],
   "source": [
    "#1.4\n",
    "codiff_a = lambda A: lambda y: codiff(A, y, pa(x), Ix, h=1e-3) # a(x) as a fixed direction\n",
    "codiff_b = lambda A: lambda y: codiff(A, y, pb(x), Ix, h=1e-3)\n",
    "(\n",
    "    operator_cp(codiff_a, codiff_b)(PA)(x), \n",
    "    operator_cp(Pa, Pb)(PA)(x), \n",
    "    PA(x).cp(P(Sa.cp(Sb), I))\n",
    "    )"
   ]
  },
  {
   "cell_type": "code",
   "execution_count": null,
   "metadata": {},
   "outputs": [
    {
     "data": {
      "text/plain": [
       "(0.00216 𝐞₁₂ + -5.18e-05 𝐞₁₃ + -4.15e-05 𝐞₂₃,\n",
       " 0.00216 𝐞₁₂ + -5.18e-05 𝐞₁₃ + -4.15e-05 𝐞₂₃)"
      ]
     },
     "execution_count": 164,
     "metadata": {},
     "output_type": "execute_result"
    }
   ],
   "source": [
    "#1.5\n",
    "Sb_ = lambda x: curl_tensor(pb(x), x)\n",
    "(\n",
    "    P(Sa.cp(Sb), I),\n",
    "    Pa(Sb_)(x), #4.2.34\n",
    "    \n",
    "    )"
   ]
  },
  {
   "cell_type": "code",
   "execution_count": 5,
   "metadata": {},
   "outputs": [],
   "source": [
    "# The curvature tensor\n"
   ]
  },
  {
   "cell_type": "markdown",
   "metadata": {},
   "source": [
    "Intrinsic geometry:\n",
    "1. Unaware of deformations that preserve distances\n",
    "2. sum of the angles in a triangle exceed pi -> how curved the space\n",
    "3. Gaussian curvature\n",
    "\n",
    "Extrinsic geometry:\n",
    "1. mean curvature and second fundamental form\n",
    "2. Plane vs. cylinder\n",
    "\n",
    "Connection:\n",
    "\n",
    "Gauss-Codazzi equations:\n",
    "\n",
    "The second fundamental form (extrinsic curvature) is constrained by the first fundamental form (intrinsic metric)\n",
    "\n",
    "The Gauss equation relates the Riemann curvature (intrinsic) to the shape operator (extrinsic).\n",
    "\n",
    "The Codazzi equations describe how the second fundamental form varies across the surface."
   ]
  },
  {
   "cell_type": "markdown",
   "metadata": {},
   "source": []
  },
  {
   "cell_type": "code",
   "execution_count": null,
   "metadata": {},
   "outputs": [],
   "source": []
  }
 ],
 "metadata": {
  "kernelspec": {
   "display_name": "3.10.5",
   "language": "python",
   "name": "python3"
  },
  "language_info": {
   "codemirror_mode": {
    "name": "ipython",
    "version": 3
   },
   "file_extension": ".py",
   "mimetype": "text/x-python",
   "name": "python",
   "nbconvert_exporter": "python",
   "pygments_lexer": "ipython3",
   "version": "3.10.5"
  }
 },
 "nbformat": 4,
 "nbformat_minor": 2
}
