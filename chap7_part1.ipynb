{
 "cells": [
  {
   "cell_type": "markdown",
   "metadata": {},
   "source": [
    "### Directed Integration Theory\n",
    "directed measure, vector derivative and multivector-valued forms\n",
    "\n",
    "new form of the fundamental theorem of calculus\n",
    "\n",
    "generalization of Cauch's integral formula\n",
    "\n",
    "inverse and implicit function theorems\n",
    "\n",
    "#### a manifold (connected) within a bunny mesh\n",
    "1. A path\n",
    "2. A loop\n",
    "3. The bunny itself\n",
    "4. A patch closed by a loop\n",
    "5. A vertex"
   ]
  },
  {
   "cell_type": "code",
   "execution_count": 54,
   "metadata": {},
   "outputs": [
    {
     "data": {
      "text/plain": [
       "(0.755 𝐞₁ + 0.757 𝐞₂, 0.185 𝐞₁ + 0.79 𝐞₂)"
      ]
     },
     "execution_count": 54,
     "metadata": {},
     "output_type": "execute_result"
    }
   ],
   "source": [
    "from gc_utils import *\n",
    "alg = Algebra(2)\n",
    "locals().update(alg.blades)\n",
    "a, x = random_vector(alg), random_vector(alg)\n",
    "ai = inv(a)\n",
    "a, x"
   ]
  },
  {
   "cell_type": "code",
   "execution_count": 170,
   "metadata": {},
   "outputs": [
    {
     "data": {
      "text/plain": [
       "-3.17 𝐞₁ + 3.64 𝐞₂"
      ]
     },
     "execution_count": 170,
     "metadata": {},
     "output_type": "execute_result"
    }
   ],
   "source": [
    "# H is not analytic nor conformal\n",
    "H = lambda z: (z.grade(0) + z) ** 5\n",
    "h = lambda x: a*H(ai*x)\n",
    "h(x)"
   ]
  },
  {
   "cell_type": "code",
   "execution_count": 176,
   "metadata": {},
   "outputs": [
    {
     "name": "stdout",
     "output_type": "stream",
     "text": [
      "N =    2, Integral =  [-871.0410405607417, -2275.255895433063]\n",
      "N =    4, Integral =  [-436.8699024298994, -1070.446065596476]\n",
      "N =    8, Integral =  [-475.0834156715806, -816.1920564916688]\n",
      "N =   16, Integral =  [-475.08341567158084, -816.1920564916691]\n",
      "N =   32, Integral =  [-475.0834156715807, -816.1920564916692]\n",
      "N =   64, Integral =  [-475.0834156715807, -816.1920564916694]\n"
     ]
    }
   ],
   "source": [
    "#1.1 Let M be a circle centering x with orientation counterclock\n",
    "def cexp(z):\n",
    "    return np.exp(z.e)*blade_exp(z.grade(2))\n",
    "circle = lambda r, t: r*cexp(e12*t) * a\n",
    "N_values = [2,4,8,16,32,64]\n",
    "errors = []\n",
    "\n",
    "\n",
    "for N in N_values:\n",
    "    theta = np.linspace(0, 2 * np.pi, N, endpoint=False)\n",
    "    I_num = 0\n",
    "    for t in theta:\n",
    "        z = circle(1, t) + x\n",
    "        dz = (2 * np.pi/ N) * e12 * z  # dz = i e^{iθ} Δθ\n",
    "        integrand = h(z) * dz\n",
    "        I_num += integrand\n",
    "\n",
    "    print(f\"N = {N:4d}, Integral = \", I_num[:],) # f\"Error = {error:.2e}\")"
   ]
  },
  {
   "cell_type": "code",
   "execution_count": null,
   "metadata": {},
   "outputs": [
    {
     "name": "stdout",
     "output_type": "stream",
     "text": [
      "r = 1, Integral =  1.2e+02 + 1.08e+02 𝐞₁₂ Error = 1.02e+02\n",
      "r = 0.25, Integral =  23.8 + 50.5 𝐞₁₂ Error = 5.62e+00\n",
      "r = 0.0625, Integral =  18.5 + 47.0 𝐞₁₂ Error = 3.48e-01\n",
      "r = 0.015625, Integral =  18.2 + 46.7 𝐞₁₂ Error = 2.18e-02\n",
      "r = 0.00390625, Integral =  18.2 + 46.7 𝐞₁₂ Error = 1.36e-03\n",
      "r = 0.0009765625, Integral =  18.2 + 46.7 𝐞₁₂ Error = 8.50e-05\n",
      "r = 0.000244140625, Integral =  18.2 + 46.7 𝐞₁₂ Error = 5.31e-06\n",
      "r = 6.103515625e-05, Integral =  18.2 + 46.7 𝐞₁₂ Error = 3.31e-07\n",
      "r = 1.52587890625e-05, Integral =  18.2 + 46.7 𝐞₁₂ Error = 1.94e-08\n",
      "r = 3.814697265625e-06, Integral =  18.2 + 46.7 𝐞₁₂ Error = 5.42e-10\n",
      "r = 9.5367431640625e-07, Integral =  18.2 + 46.7 𝐞₁₂ Error = 2.25e-09\n"
     ]
    }
   ],
   "source": [
    "#2.1 Let the circle shrink to see the convergence\n",
    "circle = lambda r, t: r*cexp(e12*t)*e1\n",
    "errors = []\n",
    "\n",
    "I_frame = derivative(h, x, alg, grade=1)\n",
    "N = 16\n",
    "\n",
    "for p in [0,1,2,3,4,5,6,7,8,9,10]:\n",
    "    r = 4**(-p)\n",
    "    theta = np.linspace(0, 2 * np.pi, N, endpoint=False)\n",
    "    I_num = 0\n",
    "    for t in theta:\n",
    "        z = circle(r, t) + x\n",
    "        dz = (2 * np.pi / N) * e12 * circle(r, t)  # dz = i e^{iθ} Δθ\n",
    "        integrand = dz * h(z)\n",
    "        I_num += integrand\n",
    "    I_num = -e12 * I_num * (1/(np.pi*r**2))\n",
    "\n",
    "    error = max_diff(I_num, I_frame)\n",
    "    errors.append(error)\n",
    "\n",
    "    print(f\"r = {r}, Integral = \", I_num, f\"Error = {error:.2e}\")"
   ]
  },
  {
   "cell_type": "code",
   "execution_count": 179,
   "metadata": {},
   "outputs": [
    {
     "data": {
      "text/plain": [
       "8.54 𝐞₁ + 61.3 𝐞₂"
      ]
     },
     "execution_count": 179,
     "metadata": {},
     "output_type": "execute_result"
    }
   ],
   "source": [
    "#2.9\n",
    "b = random_vector(alg)\n",
    "G = lambda z: b.sw(z)\n",
    "g = lambda x: a*G(ai*x)\n",
    "frame, r_frame = alg.frame, alg.frame\n",
    "hdg = 0\n",
    "for v, r in zip(frame, r_frame):\n",
    "    hdg += differential(lambda X: h(X)*r*g(X), x, v)\n",
    "hdg"
   ]
  },
  {
   "cell_type": "code",
   "execution_count": null,
   "metadata": {},
   "outputs": [
    {
     "name": "stdout",
     "output_type": "stream",
     "text": [
      "r = 1, Integral =  1.49e+02 𝐞₁ + 4.21e+02 𝐞₂ Error = 3.60e+02\n",
      "r = 0.25, Integral =  13.3 𝐞₁ + 77.7 𝐞₂ Error = 1.64e+01\n",
      "r = 0.0625, Integral =  8.82 𝐞₁ + 62.3 𝐞₂ Error = 1.00e+00\n",
      "r = 0.015625, Integral =  8.56 𝐞₁ + 61.4 𝐞₂ Error = 6.24e-02\n",
      "r = 0.00390625, Integral =  8.54 𝐞₁ + 61.3 𝐞₂ Error = 3.90e-03\n",
      "r = 0.0009765625, Integral =  8.54 𝐞₁ + 61.3 𝐞₂ Error = 2.44e-04\n",
      "r = 0.000244140625, Integral =  8.54 𝐞₁ + 61.3 𝐞₂ Error = 1.52e-05\n",
      "r = 6.103515625e-05, Integral =  8.54 𝐞₁ + 61.3 𝐞₂ Error = 9.50e-07\n",
      "r = 1.52587890625e-05, Integral =  8.54 𝐞₁ + 61.3 𝐞₂ Error = 5.65e-08\n",
      "r = 3.814697265625e-06, Integral =  8.54 𝐞₁ + 61.3 𝐞₂ Error = 1.22e-09\n",
      "r = 9.5367431640625e-07, Integral =  8.54 𝐞₁ + 61.3 𝐞₂ Error = 3.89e-09\n"
     ]
    }
   ],
   "source": [
    "#2.9\n",
    "for p in [0,1,2,3,4,5,6,7,8,9,10]:\n",
    "    r = 4**(-p)\n",
    "    theta = np.linspace(0, 2 * np.pi, N, endpoint=False)\n",
    "    I_num = 0\n",
    "    for t in theta:\n",
    "        z = circle(r, t) + x\n",
    "        dz = (2 * np.pi / N) * e12 * circle(r, t)  # dz = i e^{iθ} Δθ\n",
    "        integrand = h(z) * (-e12) * dz * g(z)\n",
    "        I_num += integrand\n",
    "    I_num = I_num * (1/(np.pi*r**2))\n",
    "\n",
    "    error = max_diff(I_num, hdg)\n",
    "    errors.append(error)\n",
    "\n",
    "    print(f\"r = {r}, Integral = \", I_num, f\"Error = {error:.2e}\")"
   ]
  },
  {
   "cell_type": "code",
   "execution_count": 214,
   "metadata": {},
   "outputs": [
    {
     "name": "stdout",
     "output_type": "stream",
     "text": [
      "r = 1, Integral =  7.25 + 0.59 𝐞₁₂ Error = 3.00e+00\n",
      "r = 0.25, Integral =  4.44 + 0.59 𝐞₁₂ Error = 1.87e-01\n",
      "r = 0.0625, Integral =  4.26 + 0.59 𝐞₁₂ Error = 1.17e-02\n",
      "r = 0.015625, Integral =  4.25 + 0.59 𝐞₁₂ Error = 7.32e-04\n",
      "r = 0.00390625, Integral =  4.25 + 0.59 𝐞₁₂ Error = 4.58e-05\n",
      "r = 0.0009765625, Integral =  4.25 + 0.59 𝐞₁₂ Error = 2.86e-06\n",
      "r = 0.000244140625, Integral =  4.25 + 0.59 𝐞₁₂ Error = 1.79e-07\n",
      "r = 6.103515625e-05, Integral =  4.25 + 0.59 𝐞₁₂ Error = 1.11e-08\n",
      "r = 1.52587890625e-05, Integral =  4.25 + 0.59 𝐞₁₂ Error = 5.89e-10\n",
      "r = 3.814697265625e-06, Integral =  4.25 + 0.59 𝐞₁₂ Error = 5.21e-11\n",
      "r = 9.5367431640625e-07, Integral =  4.25 + 0.59 𝐞₁₂ Error = 2.33e-10\n"
     ]
    }
   ],
   "source": [
    "#2.13 Let the circle shrink to see the convergence\n",
    "H = lambda z: (z.grade(0) + z)\n",
    "T = lambda x, A: a*H(ai*x)*x**2*A  # must be linear in A\n",
    "circle = lambda r, t: r*cexp(e12*t)*e1\n",
    "errors = []\n",
    "I_frame =  sum(differential(lambda x: T(x, r), x, v) for v, r in zip(frame, r_frame))\n",
    "\n",
    "N = 16\n",
    "\n",
    "for p in [0,1,2,3,4,5,6,7,8,9,10]:\n",
    "    r = 4**(-p)\n",
    "    theta = np.linspace(0, 2 * np.pi, N, endpoint=False)\n",
    "    I_num = 0\n",
    "    for t in theta:\n",
    "        z = circle(r, t) + x\n",
    "        dz = (2 * np.pi / N) * e12 * circle(r, t)  # dz = i e^{iθ} Δθ\n",
    "        integrand = T(z, -e12 * dz)\n",
    "        I_num += integrand\n",
    "    I_num =  I_num * (1/(np.pi*r**2))\n",
    "\n",
    "    error = max_diff(I_num, I_frame)\n",
    "    errors.append(error)\n",
    "\n",
    "    print(f\"r = {r}, Integral = \", I_num, f\"Error = {error:.2e}\")"
   ]
  },
  {
   "cell_type": "code",
   "execution_count": null,
   "metadata": {},
   "outputs": [
    {
     "name": "stdout",
     "output_type": "stream",
     "text": [
      "r = 1, Integral =  0.186 + 4.17 𝐞₁ + 5.12 𝐞₂ + -2.28 𝐞₁₂ Error = 1.82e+00\n",
      "r = 0.25, Integral =  0.186 + 2.46 𝐞₁ + 3.46 𝐞₂ + -1.4 𝐞₁₂ Error = 1.14e-01\n",
      "r = 0.0625, Integral =  0.186 + 2.36 𝐞₁ + 3.36 𝐞₂ + -1.34 𝐞₁₂ Error = 7.10e-03\n",
      "r = 0.015625, Integral =  0.186 + 2.35 𝐞₁ + 3.35 𝐞₂ + -1.34 𝐞₁₂ Error = 4.44e-04\n",
      "r = 0.00390625, Integral =  0.186 + 2.35 𝐞₁ + 3.35 𝐞₂ + -1.34 𝐞₁₂ Error = 2.77e-05\n",
      "r = 0.0009765625, Integral =  0.186 + 2.35 𝐞₁ + 3.35 𝐞₂ + -1.34 𝐞₁₂ Error = 1.73e-06\n",
      "r = 0.000244140625, Integral =  0.186 + 2.35 𝐞₁ + 3.35 𝐞₂ + -1.34 𝐞₁₂ Error = 1.08e-07\n",
      "r = 6.103515625e-05, Integral =  0.186 + 2.35 𝐞₁ + 3.35 𝐞₂ + -1.34 𝐞₁₂ Error = 6.74e-09\n",
      "r = 1.52587890625e-05, Integral =  0.186 + 2.35 𝐞₁ + 3.35 𝐞₂ + -1.34 𝐞₁₂ Error = 3.89e-10\n",
      "r = 3.814697265625e-06, Integral =  0.186 + 2.35 𝐞₁ + 3.35 𝐞₂ + -1.34 𝐞₁₂ Error = 5.71e-11\n",
      "r = 9.5367431640625e-07, Integral =  0.186 + 2.35 𝐞₁ + 3.35 𝐞₂ + -1.34 𝐞₁₂ Error = 1.96e-10\n"
     ]
    }
   ],
   "source": [
    "#2.14 Let the circle shrink to see the convergence\n",
    "H = lambda z: (z.grade(0) + z)\n",
    "T = lambda x, A: a*H(ai*x)*x**2*A  # must be linear in A\n",
    "circle = lambda r, t: r*cexp(e12*t)*e1\n",
    "errors = []\n",
    "B = random_multivector(alg)\n",
    "I_frame =  sum(differential(lambda x: T(x, inner(B,r)), x, v) for v, r in zip(frame, r_frame))\n",
    "\n",
    "N = 16\n",
    "\n",
    "for p in [0,1,2,3,4,5,6,7,8,9,10]:\n",
    "    r = 4**(-p)\n",
    "    theta = np.linspace(0, 2 * np.pi, N, endpoint=False)\n",
    "    I_num = 0\n",
    "    for t in theta:\n",
    "        z = circle(r, t) + x\n",
    "        dz = (2 * np.pi / N) * e12 * circle(r, t)  # dz = i e^{iθ} Δθ\n",
    "        integrand = T(z, inner(B, -e12 * dz))\n",
    "        I_num += integrand\n",
    "    I_num =  I_num * (1/(np.pi*r**2))\n",
    "\n",
    "    error = max_diff(I_num, I_frame)\n",
    "    errors.append(error)\n",
    "\n",
    "    print(f\"r = {r}, Integral = \", I_num, f\"Error = {error:.2e}\")"
   ]
  },
  {
   "cell_type": "code",
   "execution_count": null,
   "metadata": {},
   "outputs": [
    {
     "data": {
      "text/plain": [
       "0.186 + 2.35 𝐞₁ + 3.35 𝐞₂ + -1.34 𝐞₁₂"
      ]
     },
     "execution_count": 232,
     "metadata": {},
     "output_type": "execute_result"
    }
   ],
   "source": [
    "#2.14\n",
    "C = random_multivector(alg)\n",
    "y = x\n",
    "(\n",
    "    sum(differential(lambda x: T(x, inner(B + C*(x-y),r)), x, v) for v, r in zip(frame, r_frame)) - \n",
    "     T(x, sum(differential(lambda x: inner(B + C*(x-y),r), x, v) for v, r in zip(frame, r_frame)))\n",
    ")"
   ]
  },
  {
   "cell_type": "code",
   "execution_count": 233,
   "metadata": {},
   "outputs": [
    {
     "data": {
      "text/plain": [
       "(1.0 𝐞₁₂ + -0.024 𝐞₁₃ + -0.0192 𝐞₂₃, 1.29e-15 𝐞₁₂₃)"
      ]
     },
     "execution_count": 233,
     "metadata": {},
     "output_type": "execute_result"
    }
   ],
   "source": [
    "# Let M be an ellipsoid in R3, (ax)^{2}+(by)^{2}+z^{2}=d\n",
    "# x = 1/a*cos(p)*sin(t)*e1 + 1/b*sin(p)*sin(t)*e2 + cos(t)*e3, t, p in R\n",
    "\n",
    "from gc_utils import *\n",
    "alg = Algebra(3)\n",
    "locals().update(alg.blades)\n",
    "\n",
    "c2e = lambda p, t: 4*np.cos(p)*np.sin(t)*e1 + 5*np.sin(p)*np.sin(t)*e2 + np.cos(t)*e3\n",
    "e_p = lambda p, t: -4*np.sin(p)*np.sin(t)*e1 + 5*np.cos(p)*np.sin(t)*e2\n",
    "e_t = lambda p, t: (4*np.cos(p)*np.cos(t)*e1) + (5*np.sin(p)*np.cos(t)*e2) - (np.sin(t)*e3)\n",
    "def Ix(x):\n",
    "    p = np.arctan((4/5)*x.e2/x.e1)\n",
    "    t = np.arccos(x.e3)\n",
    "    return e_p(p, t) ^ e_t(p, t)\n",
    "\n",
    "# |p| < pi/2, 0 < t < pi for unique arctan & arccos\n",
    "p, t = -1, 3\n",
    "x = c2e(p, t)\n",
    "I = Ix(x)\n",
    "nIx = lambda x: normalize(Ix(x))\n",
    "nI = nIx(x)\n",
    "\n",
    "nI, nI ^ (3*e_t(p,t) + 5*e_p(p,t))"
   ]
  },
  {
   "cell_type": "code",
   "execution_count": 235,
   "metadata": {},
   "outputs": [
    {
     "data": {
      "text/plain": [
       "-0.00201 𝐞₁ + 0.0025 𝐞₂ + 0.104 𝐞₃"
      ]
     },
     "execution_count": 235,
     "metadata": {},
     "output_type": "execute_result"
    }
   ],
   "source": [
    "N = lambda x: sum(o(lambda x: P(r, Ix(x))) for r, o in derivative_gen(x, alg, Ix=Ix))\n",
    "N(x)"
   ]
  },
  {
   "cell_type": "code",
   "execution_count": 237,
   "metadata": {},
   "outputs": [
    {
     "data": {
      "text/plain": [
       "-0.00201 𝐞₁ + 0.0025 𝐞₂ + 0.104 𝐞₃ + -9.88e-12 𝐞₁₂₃"
      ]
     },
     "execution_count": 237,
     "metadata": {},
     "output_type": "execute_result"
    }
   ],
   "source": [
    "#2.6\n",
    "derivative(nIx, x, alg, Ix=Ix) * nI"
   ]
  },
  {
   "cell_type": "code",
   "execution_count": null,
   "metadata": {},
   "outputs": [
    {
     "name": "stdout",
     "output_type": "stream",
     "text": [
      "r = 1, Integral =  0.186 + 4.17 𝐞₁ + 5.12 𝐞₂ + -2.28 𝐞₁₂ Error = 1.82e+00\n",
      "r = 0.25, Integral =  0.186 + 2.46 𝐞₁ + 3.46 𝐞₂ + -1.4 𝐞₁₂ Error = 1.14e-01\n",
      "r = 0.0625, Integral =  0.186 + 2.36 𝐞₁ + 3.36 𝐞₂ + -1.34 𝐞₁₂ Error = 7.10e-03\n",
      "r = 0.015625, Integral =  0.186 + 2.35 𝐞₁ + 3.35 𝐞₂ + -1.34 𝐞₁₂ Error = 4.44e-04\n",
      "r = 0.00390625, Integral =  0.186 + 2.35 𝐞₁ + 3.35 𝐞₂ + -1.34 𝐞₁₂ Error = 2.77e-05\n",
      "r = 0.0009765625, Integral =  0.186 + 2.35 𝐞₁ + 3.35 𝐞₂ + -1.34 𝐞₁₂ Error = 1.73e-06\n",
      "r = 0.000244140625, Integral =  0.186 + 2.35 𝐞₁ + 3.35 𝐞₂ + -1.34 𝐞₁₂ Error = 1.08e-07\n",
      "r = 6.103515625e-05, Integral =  0.186 + 2.35 𝐞₁ + 3.35 𝐞₂ + -1.34 𝐞₁₂ Error = 6.74e-09\n",
      "r = 1.52587890625e-05, Integral =  0.186 + 2.35 𝐞₁ + 3.35 𝐞₂ + -1.34 𝐞₁₂ Error = 3.89e-10\n",
      "r = 3.814697265625e-06, Integral =  0.186 + 2.35 𝐞₁ + 3.35 𝐞₂ + -1.34 𝐞₁₂ Error = 5.71e-11\n",
      "r = 9.5367431640625e-07, Integral =  0.186 + 2.35 𝐞₁ + 3.35 𝐞₂ + -1.34 𝐞₁₂ Error = 1.96e-10\n"
     ]
    }
   ],
   "source": [
    "#2.6 Let the circle shrink to see the convergence\n",
    "frame = blade_split(nI, alg)\n",
    "r_frame = reciprocal(frame)\n",
    "circle = lambda r, t: r*cexp(nI*t)*frame[0]\n",
    "errors = []\n",
    "I_frame =  N(x)\n",
    "\n",
    "N = 16\n",
    "\n",
    "for p in [0,1,2,3,4,5,6,7,8,9,10]:\n",
    "    r = 4**(-p)\n",
    "    theta = np.linspace(0, 2 * np.pi, N, endpoint=False)\n",
    "    I_num = 0\n",
    "    for t in theta:\n",
    "        z = circle(r, t) + x\n",
    "        dz = (2 * np.pi / N) * e12 * circle(r, t)  # dz = i e^{iθ} Δθ\n",
    "        integrand = T(z, inner(B, -e12 * dz))\n",
    "        I_num += integrand\n",
    "    I_num =  I_num * (1/(np.pi*r**2))\n",
    "\n",
    "    error = max_diff(I_num, I_frame)\n",
    "    errors.append(error)\n",
    "\n",
    "    print(f\"r = {r}, Integral = \", I_num, f\"Error = {error:.2e}\")"
   ]
  },
  {
   "cell_type": "code",
   "execution_count": 2,
   "metadata": {},
   "outputs": [],
   "source": [
    "import trimesh\n",
    "\n",
    "def build_ellipsoid_mesh(a, b, c, subdivisions=3):\n",
    "    # Step 1: Create an icosphere (unit sphere using subdivided icosahedron)\n",
    "    sphere = trimesh.creation.icosphere(subdivisions=subdivisions, radius=1.0)\n",
    "\n",
    "    # Step 2: Map the vertices to the ellipsoid\n",
    "    vertices = sphere.vertices.copy()\n",
    "    vertices[:, 0] *= a\n",
    "    vertices[:, 1] *= b\n",
    "    vertices[:, 2] *= c\n",
    "\n",
    "    # Step 3: Create a new mesh with transformed vertices\n",
    "    ellipsoid = trimesh.Trimesh(vertices=vertices, faces=sphere.faces)\n",
    "\n",
    "    return ellipsoid\n",
    "\n",
    "# Example: Ellipsoid with radii (a=4, b=5, c=1)\n",
    "mesh = build_ellipsoid_mesh(4, 5, 1)"
   ]
  },
  {
   "cell_type": "code",
   "execution_count": 3,
   "metadata": {},
   "outputs": [
    {
     "data": {
      "text/plain": [
       "(TrackedArray([[-2.10292445,  4.25325404,  0.        ],\n",
       "               [ 2.10292445,  4.25325404,  0.        ],\n",
       "               [-2.10292445, -4.25325404,  0.        ]]),\n",
       " TrackedArray([[  0, 532, 196],\n",
       "               [532, 137, 534],\n",
       "               [196, 534,  53]]))"
      ]
     },
     "execution_count": 3,
     "metadata": {},
     "output_type": "execute_result"
    }
   ],
   "source": [
    "mesh.vertices[:3], mesh.faces[:3]"
   ]
  },
  {
   "cell_type": "code",
   "execution_count": 7,
   "metadata": {},
   "outputs": [
    {
     "data": {
      "text/plain": [
       "(1280,\n",
       " 3840,\n",
       " 642,\n",
       " {'vtx': [0, 532, 196],\n",
       "  'plane': -0.301 𝐞₀ + -0.0496 𝐞₁ + 0.0606 𝐞₂ + 0.0295 𝐞₃,\n",
       "  'idx': 0,\n",
       "  'edge': 2},\n",
       " {'vtx': 0.99 𝐞₀₁₂ + -0.31 𝐞₀₁₃ + 1 𝐞₁₂₃, 'edge': 3574},\n",
       " {'from': 196,\n",
       "  'to': 0,\n",
       "  'line': -0.427 𝐞₀₁ + -0.276 𝐞₀₂ + 0.687 𝐞₀₃ + -0.131 𝐞₁₂ + 0.0714 𝐞₁₃ + -0.165 𝐞₂₃,\n",
       "  'face': {'vtx': [0, 532, 196],\n",
       "   'plane': -0.301 𝐞₀ + -0.0496 𝐞₁ + 0.0606 𝐞₂ + 0.0295 𝐞₃,\n",
       "   'idx': 0,\n",
       "   'edge': 2},\n",
       "  'next': 0,\n",
       "  'prev': 1,\n",
       "  'idx': 2,\n",
       "  'twin': 192})"
      ]
     },
     "execution_count": 7,
     "metadata": {},
     "output_type": "execute_result"
    }
   ],
   "source": [
    "pts, HE, faces = half_edge((mesh.vertices, mesh.faces))\n",
    "len(faces), len(HE), len(pts), faces[0], pts[281], HE[2]"
   ]
  },
  {
   "cell_type": "code",
   "execution_count": 8,
   "metadata": {},
   "outputs": [
    {
     "data": {
      "text/plain": [
       "(0.862 + 2.7 𝐞₀ + 2.75 𝐞₁ + 0.799 𝐞₂ + -0.263 𝐞₃ + -0.66 𝐞₀₁ + -2.15 𝐞₀₂ + 4.81 𝐞₀₃ + -0.228 𝐞₁₂ + 3.77 𝐞₁₃ + -0.849 𝐞₂₃ + -3.29 𝐞₀₁₂ + -0.94 𝐞₀₁₃ + -5.45 𝐞₀₂₃ + -2.86 𝐞₁₂₃ + -6.19 𝐞₀₁₂₃,\n",
       " 0.862 + 2.7 𝐞₀ + 2.75 𝐞₁ + 0.799 𝐞₂ + -0.263 𝐞₃ + -0.66 𝐞₀₁ + -2.15 𝐞₀₂ + 4.81 𝐞₀₃ + -0.228 𝐞₁₂ + 3.77 𝐞₁₃ + -0.849 𝐞₂₃ + -3.29 𝐞₀₁₂ + -0.94 𝐞₀₁₃ + -5.45 𝐞₀₂₃ + -2.86 𝐞₁₂₃ + -6.19 𝐞₀₁₂₃)"
      ]
     },
     "execution_count": 8,
     "metadata": {},
     "output_type": "execute_result"
    }
   ],
   "source": [
    "A, B, C, D = [random_multivector(alg) for _ in range(4)]\n",
    "a, b, c, d = random_r_vectors(4, alg)\n",
    "xt = lambda t: x + (C*t*D).grade(1)\n",
    "a = differential(xt, 0, 1)\n",
    "F = lambda x: A * x * x * B + C * x * A + D\n",
    "differential(F, x, a), differential(lambda t: F(xt(t)), 0, 1)"
   ]
  },
  {
   "cell_type": "code",
   "execution_count": 9,
   "metadata": {},
   "outputs": [
    {
     "data": {
      "text/plain": [
       "1.98 + -2.88e+02 𝐞₀ + 2.2e+02 𝐞₁ + 1.15e+02 𝐞₂ + -2.12e+02 𝐞₃ + 3.35e+03 𝐞₀₁ + -3.02e+03 𝐞₀₂ + -1.74e+03 𝐞₀₃ + -1.88e+02 𝐞₁₂ + 4.83e+02 𝐞₁₃ + 6.68 𝐞₂₃ + -3.92e+03 𝐞₀₁₂ + 6.45e+03 𝐞₀₁₃ + -7.26e+03 𝐞₀₂₃ + -4.07e+02 𝐞₁₂₃ + -9.76e+03 𝐞₀₁₂₃"
      ]
     },
     "execution_count": 9,
     "metadata": {},
     "output_type": "execute_result"
    }
   ],
   "source": [
    "# 1.1 In discrete setting, how to assign volume to a point?\n",
    "# Dual mesh.\n",
    "# For a face, its dual is its center point\n",
    "# Ignoring the convexity may not the best practice\n",
    "# Add some offset along the normal?\n",
    "sum(f['plane'] * F((sum(pts[i]['vtx'] for i in f['vtx'])/3).dual()) for f in faces)"
   ]
  },
  {
   "cell_type": "code",
   "execution_count": 10,
   "metadata": {},
   "outputs": [
    {
     "data": {
      "text/plain": [
       "1.98 + -2.87e+02 𝐞₀ + 2.2e+02 𝐞₁ + 1.15e+02 𝐞₂ + -2.12e+02 𝐞₃ + 3.38e+03 𝐞₀₁ + -3.03e+03 𝐞₀₂ + -1.75e+03 𝐞₀₃ + -1.88e+02 𝐞₁₂ + 4.83e+02 𝐞₁₃ + 6.68 𝐞₂₃ + -3.95e+03 𝐞₀₁₂ + 6.51e+03 𝐞₀₁₃ + -7.31e+03 𝐞₀₂₃ + -4.07e+02 𝐞₁₂₃ + -9.82e+03 𝐞₀₁₂₃"
      ]
     },
     "execution_count": 10,
     "metadata": {},
     "output_type": "execute_result"
    }
   ],
   "source": [
    "# 1.1 Or we sample F on the vertices\n",
    "sum(f['plane'] * (sum(F(pts[i]['vtx'].dual()) for i in f['vtx'])/3) for f in faces)"
   ]
  },
  {
   "cell_type": "code",
   "execution_count": 11,
   "metadata": {},
   "outputs": [
    {
     "data": {
      "text/plain": [
       "278.5699897150097"
      ]
     },
     "execution_count": 11,
     "metadata": {},
     "output_type": "execute_result"
    }
   ],
   "source": [
    "# 1.4\n",
    "sum(norm(f['plane']) for f in faces)"
   ]
  },
  {
   "cell_type": "code",
   "execution_count": 12,
   "metadata": {},
   "outputs": [
    {
     "data": {
      "text/plain": [
       "-33.2 𝐞₀ + -3.79 𝐞₁ + 5.01 𝐞₂ + 18.6 𝐞₃"
      ]
     },
     "execution_count": 12,
     "metadata": {},
     "output_type": "execute_result"
    }
   ],
   "source": [
    "# 1.5 some part of faces\n",
    "sum(f['plane'] for f in faces[:100])"
   ]
  },
  {
   "cell_type": "code",
   "execution_count": 13,
   "metadata": {},
   "outputs": [
    {
     "data": {
      "text/plain": [
       "-4.98e+02 𝐞₀ + 1.43e-14 𝐞₁ + -1.91e-15 𝐞₂ + -1.99e-14 𝐞₃"
      ]
     },
     "execution_count": 13,
     "metadata": {},
     "output_type": "execute_result"
    }
   ],
   "source": [
    "# 1.7\n",
    "sum(f['plane'] for f in faces)"
   ]
  },
  {
   "cell_type": "code",
   "execution_count": 14,
   "metadata": {},
   "outputs": [
    {
     "data": {
      "text/plain": [
       "-3.57e+03 + 3.19e+05 𝐞₀ + 4.19e+03 𝐞₁ + -1.39e+04 𝐞₂ + -1.53e+03 𝐞₃ + 1.52e+05 𝐞₀₁ + -1.84e+05 𝐞₀₂ + 3.82e+05 𝐞₀₃ + -3.72e+02 𝐞₁₂ + 9.99e+03 𝐞₁₃ + -1.73e+04 𝐞₂₃ + 3.36e+05 𝐞₀₁₂ + -2.07e+05 𝐞₀₁₃ + -1.18e+05 𝐞₀₂₃ + -1.37e+04 𝐞₁₂₃ + 2.45e+05 𝐞₀₁₂₃"
      ]
     },
     "execution_count": 14,
     "metadata": {},
     "output_type": "execute_result"
    }
   ],
   "source": [
    "# 1.8\n",
    "G = lambda x: C * x * x * D + B * x * C + A\n",
    "sum(sum((G(pts[i]['vtx'].dual()) * f['plane'] * F(pts[i]['vtx'].dual()) for i in f['vtx']))/3 for f in faces)"
   ]
  },
  {
   "cell_type": "code",
   "execution_count": 15,
   "metadata": {},
   "outputs": [
    {
     "data": {
      "text/plain": [
       "-2.69e+02 + -1.04e+04 𝐞₀ + -94.5 𝐞₁ + 2.27e+02 𝐞₂ + 1.12e+03 𝐞₃ + -6.79e+02 𝐞₀₁ + 2.7e+03 𝐞₀₂ + -1.25e+04 𝐞₀₃ + 1.71e+03 𝐞₁₂ + 5.71e+02 𝐞₁₃ + -7.14e+02 𝐞₂₃ + 1.71e+03 𝐞₀₁₂ + 1.04e+04 𝐞₀₁₃ + -8.66e+03 𝐞₀₂₃ + 4.6e+02 𝐞₁₂₃ + 6.2e+03 𝐞₀₁₂₃"
      ]
     },
     "execution_count": 15,
     "metadata": {},
     "output_type": "execute_result"
    }
   ],
   "source": [
    "# 1.9\n",
    "L = lambda x, dx: C * x * dx * x * D + B * x * C + A * dx\n",
    "sum(sum(L(pts[i]['vtx'].dual(), f['plane']) for i in f['vtx'])/3 for f in faces)"
   ]
  },
  {
   "cell_type": "code",
   "execution_count": 25,
   "metadata": {},
   "outputs": [],
   "source": [
    "Ix_ = lambda x: (faces[0]['plane'] * e0).dual()"
   ]
  },
  {
   "cell_type": "code",
   "execution_count": 26,
   "metadata": {},
   "outputs": [
    {
     "data": {
      "text/plain": [
       "-0.537 + 6.3 𝐞₀ + 3.93 𝐞₁ + -2.34 𝐞₂ + -1.26 𝐞₃ + -2.99 𝐞₀₁ + 4.65 𝐞₀₂ + 4.25 𝐞₀₃ + 3.43 𝐞₁₂ + 3.02 𝐞₁₃ + -1.24 𝐞₂₃ + -11.3 𝐞₀₁₂ + -3.9 𝐞₀₁₃ + 2.43 𝐞₀₂₃ + 0.978 𝐞₁₂₃ + -7.48 𝐞₀₁₂₃"
      ]
     },
     "execution_count": 26,
     "metadata": {},
     "output_type": "execute_result"
    }
   ],
   "source": [
    "#2.1 let x be the center of face-0\n",
    "x = sum(pts[i]['vtx'].dual() for i in faces[0]['vtx'])/3\n",
    "derivative(F, x, alg, Ix=Ix_)"
   ]
  },
  {
   "cell_type": "code",
   "execution_count": 27,
   "metadata": {},
   "outputs": [
    {
     "data": {
      "text/plain": [
       "5.89 + -4.82 𝐞₀ + -4.76 𝐞₁ + -0.547 𝐞₂ + -1.63 𝐞₃ + -2.1 𝐞₀₁ + 6.1 𝐞₀₂ + 7.09 𝐞₀₃ + 0.0549 𝐞₁₂ + 0.653 𝐞₁₃ + 2.34 𝐞₂₃ + 6.09 𝐞₀₁₂ + 5.91 𝐞₀₁₃ + -8.87 𝐞₀₂₃ + -2.79 𝐞₁₂₃ + 0.554 𝐞₀₁₂₃"
      ]
     },
     "execution_count": 27,
     "metadata": {},
     "output_type": "execute_result"
    }
   ],
   "source": [
    "#2.1\n",
    "def sample_on_ends(e, s):\n",
    "    if s is None:\n",
    "        s = 0\n",
    "    i = e['from']\n",
    "    j = e['to']\n",
    "    s += (e['line']*e0).dual() * (F(pts[i]['vtx'].dual()) + F(pts[j]['vtx'].dual()))/2\n",
    "    return s\n",
    "    \n",
    "\n",
    "edges(faces[0], sample_on_ends) * inv(Ix_(x))"
   ]
  },
  {
   "cell_type": "code",
   "execution_count": null,
   "metadata": {},
   "outputs": [],
   "source": []
  }
 ],
 "metadata": {
  "kernelspec": {
   "display_name": "3.10.5",
   "language": "python",
   "name": "python3"
  },
  "language_info": {
   "codemirror_mode": {
    "name": "ipython",
    "version": 3
   },
   "file_extension": ".py",
   "mimetype": "text/x-python",
   "name": "python",
   "nbconvert_exporter": "python",
   "pygments_lexer": "ipython3",
   "version": "3.10.5"
  }
 },
 "nbformat": 4,
 "nbformat_minor": 2
}
