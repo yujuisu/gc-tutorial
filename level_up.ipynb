{
 "cells": [
  {
   "cell_type": "code",
   "execution_count": 2,
   "metadata": {},
   "outputs": [],
   "source": [
    "from gc_utils import *\n",
    "\n",
    "ga2 = Algebra(2)\n",
    "locals().update(ga2.blades)"
   ]
  },
  {
   "cell_type": "code",
   "execution_count": 3,
   "metadata": {},
   "outputs": [
    {
     "data": {
      "text/plain": [
       "[1, 1 𝐞₁, 1 𝐞₂, 1 𝐞₁₂]"
      ]
     },
     "execution_count": 3,
     "metadata": {},
     "output_type": "execute_result"
    }
   ],
   "source": [
    "multi_frame(ga2.frame)"
   ]
  },
  {
   "cell_type": "code",
   "execution_count": 4,
   "metadata": {},
   "outputs": [
    {
     "data": {
      "text/plain": [
       "(0.5 + 0.5 𝐞₁, , , 0.5 + -0.5 𝐞₁)"
      ]
     },
     "execution_count": 4,
     "metadata": {},
     "output_type": "execute_result"
    }
   ],
   "source": [
    "A, B = (random_multivector(ga2) for _ in range(2))\n",
    "Pp, Pm = 0.5 * (1 + e1), 0.5 * (1 - e1)\n",
    "Pp ** 2, Pp * Pm, Pm * Pp, Pm ** 2"
   ]
  },
  {
   "cell_type": "code",
   "execution_count": 5,
   "metadata": {},
   "outputs": [
    {
     "data": {
      "text/plain": [
       "(0.0808 + 0.188 𝐞₁ + 0.798 𝐞₂ + 0.316 𝐞₁₂,\n",
       " 0.0808 + 0.188 𝐞₁ + 0.798 𝐞₂ + 0.316 𝐞₁₂,\n",
       " [0.134 + 0.134 𝐞₁,\n",
       "  0.557 𝐞₂ + 0.557 𝐞₁₂,\n",
       "  0.241 𝐞₂ + -0.241 𝐞₁₂,\n",
       "  -0.0537 + 0.0537 𝐞₁])"
      ]
     },
     "execution_count": 5,
     "metadata": {},
     "output_type": "execute_result"
    }
   ],
   "source": [
    "expand = [l * A * r for l, r in product([Pp, Pm], repeat=2)]\n",
    "sum(expand), A, expand"
   ]
  },
  {
   "cell_type": "code",
   "execution_count": 6,
   "metadata": {},
   "outputs": [
    {
     "data": {
      "text/plain": [
       "(0.0808 + 0.188 𝐞₁ + 0.798 𝐞₂ + 0.316 𝐞₁₂,\n",
       " array([0.08083455, 0.18813465, 0.79826763, 0.31561331]))"
      ]
     },
     "execution_count": 6,
     "metadata": {},
     "output_type": "execute_result"
    }
   ],
   "source": [
    "A, A[:]"
   ]
  },
  {
   "cell_type": "code",
   "execution_count": 7,
   "metadata": {},
   "outputs": [
    {
     "data": {
      "text/plain": [
       "0.292 + -0.0233 𝐞₁ + 0.399 𝐞₂ + -0.399 𝐞₁₂"
      ]
     },
     "execution_count": 7,
     "metadata": {},
     "output_type": "execute_result"
    }
   ],
   "source": [
    "sum([l * Aij * r for Aij, (l, r) in zip([A[0] + A[1], A[1]*e1, A[2]*e2, A[3]], product([Pp, Pm], repeat=2))])"
   ]
  },
  {
   "cell_type": "code",
   "execution_count": 19,
   "metadata": {},
   "outputs": [
    {
     "data": {
      "text/plain": [
       "(0.134 + 0.134 𝐞₁, 0.134 + 0.134 𝐞₁, -0.0537 + 0.0537 𝐞₁, 0.0404 + -0.0404 𝐞₁)"
      ]
     },
     "execution_count": 19,
     "metadata": {},
     "output_type": "execute_result"
    }
   ],
   "source": [
    "Pp * A * Pp, Pp * (A[0] + A[1]) *Pp, Pm * A *Pm,  Pm * A.grade[0] *Pm"
   ]
  },
  {
   "cell_type": "code",
   "execution_count": 29,
   "metadata": {},
   "outputs": [],
   "source": [
    "def assert_simple(A, tol=1e-8):\n",
    "    Asquare = A**2\n",
    "    if isinstance(A, (int, float)):\n",
    "        return Asquare\n",
    "    if Asquare[1:]:\n",
    "        assert np.max(np.abs(Asquare[1:])) < tol, f\"{tol}, not simple\"\n",
    "    return Asquare[0]\n",
    "\n",
    "def P(a, A, tol=1e-6):  # projection of a onto a simple blade A\n",
    "    Asquare = assert_simple(A)\n",
    "    if abs(Asquare) < tol:\n",
    "        return (a|A)|A\n",
    "    return (1/Asquare)*((a|A)|A)"
   ]
  },
  {
   "cell_type": "code",
   "execution_count": 40,
   "metadata": {},
   "outputs": [
    {
     "data": {
      "text/plain": [
       "([(0, 0.0808345539565336),\n",
       "  (1, 0.18813464910630795),\n",
       "  (2, 0.7982676278244702),\n",
       "  (3, 0.3156133108174878)],\n",
       " -0.0537 + 0.0537 𝐞₁)"
      ]
     },
     "execution_count": 40,
     "metadata": {},
     "output_type": "execute_result"
    }
   ],
   "source": [
    "list(A.items()), Pm * A *Pm"
   ]
  },
  {
   "cell_type": "code",
   "execution_count": 9,
   "metadata": {},
   "outputs": [
    {
     "data": {
      "text/plain": [
       "[('a', 'a'), ('a', 'b'), ('b', 'a'), ('b', 'b')]"
      ]
     },
     "execution_count": 9,
     "metadata": {},
     "output_type": "execute_result"
    }
   ],
   "source": [
    "list(product(['a', 'b'], repeat=2))"
   ]
  },
  {
   "cell_type": "code",
   "execution_count": null,
   "metadata": {},
   "outputs": [],
   "source": []
  }
 ],
 "metadata": {
  "kernelspec": {
   "display_name": "Python 3",
   "language": "python",
   "name": "python3"
  },
  "language_info": {
   "codemirror_mode": {
    "name": "ipython",
    "version": 3
   },
   "file_extension": ".py",
   "mimetype": "text/x-python",
   "name": "python",
   "nbconvert_exporter": "python",
   "pygments_lexer": "ipython3",
   "version": "3.10.5"
  }
 },
 "nbformat": 4,
 "nbformat_minor": 2
}
