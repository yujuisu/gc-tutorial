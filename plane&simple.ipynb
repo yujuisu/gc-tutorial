{
 "cells": [
  {
   "cell_type": "code",
   "execution_count": 3,
   "metadata": {},
   "outputs": [],
   "source": [
    "from gc_utils import *"
   ]
  },
  {
   "cell_type": "code",
   "execution_count": 26,
   "metadata": {},
   "outputs": [
    {
     "name": "stdout",
     "output_type": "stream",
     "text": [
      "1.0 + -5.55e-17 𝐞₀₃ + -5.55e-17 𝐞₁₃ + 5.55e-17 𝐞₃₄\n",
      "1.0 + -4.16e-17 𝐞₀₁ + -4.86e-17 𝐞₀₂ + 2.78e-17 𝐞₀₃ + -5.55e-17 𝐞₀₄ + -6.94e-18 𝐞₁₄ + -1.39e-17 𝐞₂₃ + 5.55e-17 𝐞₀₁₂₃ + -3.12e-17 𝐞₀₁₂₄ + -4.16e-17 𝐞₀₁₃₄ + 1.11e-16 𝐞₀₂₃₄\n",
      "1.0 + -5.55e-17 𝐞₀₂ + 8.33e-17 𝐞₀₃ + -2.78e-17 𝐞₀₄ + 2.78e-17 𝐞₁₄ + 5.55e-17 𝐞₂₄ + 5.55e-17 𝐞₃₄ + 2.78e-17 𝐞₀₁₂₃ + -1.39e-16 𝐞₀₁₂₄ + -1.39e-17 𝐞₀₁₃₄ + 2.78e-17 𝐞₀₂₃₄\n",
      "1.0\n"
     ]
    }
   ],
   "source": [
    "def inv(A: MultiVector, tol=1e-6):\n",
    "    Ar = A.reverse()\n",
    "    n = A.sp(Ar)[0]\n",
    "    assert abs(n) > tol, f\"norm {n}\"\n",
    "    return Ar / n\n",
    "\n",
    "stpga = Algebra(1, 3, 1)\n",
    "pga = Algebra(3, 0, 1)\n",
    "cga = Algebra(4,1)\n",
    "for k in range(1, 5):\n",
    "    B = random_r_blade(k, stpga)\n",
    "    print(B * inv(B))"
   ]
  },
  {
   "cell_type": "code",
   "execution_count": 27,
   "metadata": {},
   "outputs": [
    {
     "data": {
      "text/plain": [
       "[0, 0, -1]"
      ]
     },
     "execution_count": 27,
     "metadata": {},
     "output_type": "execute_result"
    }
   ],
   "source": [
    "# If the pseudoscalar is null, not invertible\n",
    "algs = [stpga, pga, cga]\n",
    "[alg.pseudoscalar((1,)) ** 2 for alg in algs]"
   ]
  },
  {
   "cell_type": "code",
   "execution_count": 30,
   "metadata": {},
   "outputs": [
    {
     "data": {
      "text/plain": [
       "1.0 + 1.46 𝐞₀ + 2.69 𝐞₁ + 12.2 𝐞₂ + -5.39 𝐞₃ + -17.4 𝐞₄ + 4.44e-15 𝐞₀₁ + -8.88e-16 𝐞₀₂ + -8.88e-16 𝐞₀₃ + 7.77e-16 𝐞₀₄ + -8.88e-16 𝐞₁₂ + 3.33e-16 𝐞₁₃ + -1.11e-15 𝐞₂₄ + 1.11e-15 𝐞₃₄ + 1.78e-15 𝐞₀₁₂ + -4.44e-16 𝐞₀₁₃ + 3.55e-15 𝐞₀₁₄ + 1.78e-15 𝐞₀₂₃ + 3.33e-15 𝐞₀₂₄ + 1.33e-15 𝐞₀₃₄ + 8.88e-16 𝐞₁₂₄ + 2.22e-16 𝐞₁₃₄ + 2.78e-16 𝐞₂₃₄ + -9.71 𝐞₀₁₂₃ + 4.32 𝐞₀₁₂₄ + 11.1 𝐞₀₁₃₄ + 13.7 𝐞₀₂₃₄ + 6.3 𝐞₁₂₃₄ + 18.2 𝐞₀₁₂₃₄"
      ]
     },
     "execution_count": 30,
     "metadata": {},
     "output_type": "execute_result"
    }
   ],
   "source": [
    "# this inverse doesn't apply to general multivector\n",
    "X = random_multivector(stpga)\n",
    "X * inv(X)"
   ]
  },
  {
   "cell_type": "code",
   "execution_count": 44,
   "metadata": {},
   "outputs": [
    {
     "data": {
      "text/plain": [
       "(1.0 + -1.94e-16 𝐞₀₁ + -1.18e-16 𝐞₀₂ + -2.78e-16 𝐞₀₃ + 8.33e-17 𝐞₀₄ + -1.11e-16 𝐞₁₃ + 2.91e-16 𝐞₂₄ + 1.11e-16 𝐞₃₄ + 5.83e-16 𝐞₀₁₂₃ + 1.11e-16 𝐞₀₁₂₄ + -4.44e-16 𝐞₀₁₃₄ + 2.78e-16 𝐞₀₂₃₄ + 6.18e-16 𝐞₁₂₃₄,\n",
       " 1.0 + -4.37e-16 𝐞₀₁ + -3.11e-15 𝐞₀₂ + -8.88e-16 𝐞₀₃ + -2.66e-15 𝐞₀₄ + -8.6e-16 𝐞₁₂ + -8.88e-16 𝐞₁₃ + -8.88e-16 𝐞₁₄ + 8.88e-16 𝐞₂₃ + -1.78e-15 𝐞₂₄ + 4.44e-16 𝐞₃₄ + 5.33e-15 𝐞₀₁₂₃ + 2.54e-15 𝐞₀₁₂₄ + 5.33e-15 𝐞₀₁₃₄ + -1.78e-15 𝐞₀₂₃₄ + -1.78e-15 𝐞₁₂₃₄)"
      ]
     },
     "execution_count": 44,
     "metadata": {},
     "output_type": "execute_result"
    }
   ],
   "source": [
    "# but works for versors\n",
    "U, V = random_versor(4, stpga), random_versor(3, stpga)\n",
    "U * inv(U), V * inv(V)"
   ]
  },
  {
   "cell_type": "code",
   "execution_count": 60,
   "metadata": {},
   "outputs": [
    {
     "data": {
      "text/plain": [
       "(0.389 𝐞₀ + 0.919 𝐞₁ + 0.911 𝐞₂ + 0.737 𝐞₃ + 0.605 𝐞₄,\n",
       " -0.389 𝐞₀ + -0.919 𝐞₁ + -0.911 𝐞₂ + -0.737 𝐞₃ + -0.605 𝐞₄,\n",
       " 0.0153 + -0.108 𝐞₀₁ + 0.139 𝐞₀₂ + -0.104 𝐞₀₃ + 0.0735 𝐞₀₄ + 0.326 𝐞₁₂ + -0.0391 𝐞₁₃ + 0.284 𝐞₁₄ + -0.256 𝐞₂₃ + -0.16 𝐞₂₄ + 0.25 𝐞₃₄ + -0.0514 𝐞₀₁₂₃ + 0.114 𝐞₀₁₂₄ + -0.0204 𝐞₀₁₃₄ + -0.048 𝐞₀₂₃₄ + 0.156 𝐞₁₂₃₄,\n",
       " 0.0153 + -0.108 𝐞₀₁ + 0.139 𝐞₀₂ + -0.104 𝐞₀₃ + 0.0735 𝐞₀₄ + 0.326 𝐞₁₂ + -0.0391 𝐞₁₃ + 0.284 𝐞₁₄ + -0.256 𝐞₂₃ + -0.16 𝐞₂₄ + 0.25 𝐞₃₄ + -0.0514 𝐞₀₁₂₃ + 0.114 𝐞₀₁₂₄ + -0.0204 𝐞₀₁₃₄ + -0.048 𝐞₀₂₃₄ + 0.156 𝐞₁₂₃₄,\n",
       " 0.525 𝐞₀ + 0.618 𝐞₁ + 0.0359 𝐞₂ + 0.568 𝐞₃ + 0.299 𝐞₄ + 0.426 𝐞₀₁₂ + 0.00159 𝐞₀₁₃ + -0.0787 𝐞₀₁₄ + -0.454 𝐞₀₂₃ + -0.549 𝐞₀₂₄ + -0.0859 𝐞₀₃₄ + -0.0735 𝐞₁₂₃ + -0.397 𝐞₁₂₄ + -0.0151 𝐞₁₃₄ + 0.329 𝐞₂₃₄ + 2.4e-15 𝐞₀₁₂₃₄,\n",
       " -0.525 𝐞₀ + -0.618 𝐞₁ + -0.0359 𝐞₂ + -0.568 𝐞₃ + -0.299 𝐞₄ + -0.426 𝐞₀₁₂ + -0.00159 𝐞₀₁₃ + 0.0787 𝐞₀₁₄ + 0.454 𝐞₀₂₃ + 0.549 𝐞₀₂₄ + 0.0859 𝐞₀₃₄ + 0.0735 𝐞₁₂₃ + 0.397 𝐞₁₂₄ + 0.0151 𝐞₁₃₄ + -0.329 𝐞₂₃₄)"
      ]
     },
     "execution_count": 60,
     "metadata": {},
     "output_type": "execute_result"
    }
   ],
   "source": [
    "# conjugation for versors\n",
    "def conjugate(U, V):\n",
    "    k, _ = max_grade(U)\n",
    "    l, _ = max_grade(V)\n",
    "    return (-1) ** (k*l) * U * V * inv(U)\n",
    "u, v = random_r_vectors(2, stpga)\n",
    "u, conjugate(u, u), conjugate(U, U), U, conjugate(V, V), V"
   ]
  },
  {
   "cell_type": "code",
   "execution_count": 62,
   "metadata": {},
   "outputs": [
    {
     "data": {
      "text/plain": [
       "(1.0 + -4.16e-17 𝐞₁₂ + -9.37e-17 𝐞₁₃ + -2.78e-17 𝐞₁₄ + -2.78e-17 𝐞₂₃ + -3.82e-16 𝐞₂₄ + -1.11e-16 𝐞₃₄ + -6.18e-16 𝐞₁₂₃₄,\n",
       " -1.0 + -4.44e-16 𝐞₁₂ + -8.88e-16 𝐞₁₄ + -6.66e-16 𝐞₂₃ + -1.78e-15 𝐞₂₄ + -4.44e-16 𝐞₃₄ + -1.78e-15 𝐞₁₂₃₄)"
      ]
     },
     "execution_count": 62,
     "metadata": {},
     "output_type": "execute_result"
    }
   ],
   "source": [
    "I = stpga.pseudoscalar((1,))\n",
    "\n",
    "conjugate(U, I).dual(), conjugate(V, I).dual() # hodge star dual"
   ]
  },
  {
   "cell_type": "code",
   "execution_count": 81,
   "metadata": {},
   "outputs": [
    {
     "data": {
      "text/plain": [
       "(-0.71 + -0.128 𝐞₀₁ + -0.25 𝐞₀₂ + 0.1 𝐞₀₃ + 0.119 𝐞₀₄ + 0.0636 𝐞₁₂ + 0.228 𝐞₁₃ + 0.286 𝐞₁₄ + 0.498 𝐞₂₃ + 0.621 𝐞₂₄ + -0.0122 𝐞₃₄,\n",
       " -0.71 + -0.128 𝐞₀₁ + -0.25 𝐞₀₂ + 0.1 𝐞₀₃ + 0.119 𝐞₀₄ + 0.0636 𝐞₁₂ + 0.228 𝐞₁₃ + 0.286 𝐞₁₄ + 0.498 𝐞₂₃ + 0.621 𝐞₂₄ + -0.0122 𝐞₃₄)"
      ]
     },
     "execution_count": 81,
     "metadata": {},
     "output_type": "execute_result"
    }
   ],
   "source": [
    "# 3 types of rotors (Spin+)\n",
    "def type_convert(n):\n",
    "    if n > 1e-6:\n",
    "        return 1\n",
    "    elif n < -1e-6:\n",
    "        return -1\n",
    "    else:\n",
    "        return 0\n",
    "\n",
    "# Unfortunately parabolic rotors are of measure zero, \n",
    "# so this function has zero chance generating them\n",
    "def random_simple_rotor(alg, signature=None, max_iter=100):\n",
    "    for _ in range(max_iter):\n",
    "        S = random_versor(2, alg)\n",
    "        if signature is not None:\n",
    "            if type_convert((S.grade(2) ** 2)[0]) != signature:\n",
    "                continue\n",
    "        sign  = (S.reverse().sp(S))[0]\n",
    "        if sign > 0:\n",
    "            return S/norm(S)\n",
    "        \n",
    "def simple_rotor_log(R: MultiVector, tol=1e-6):\n",
    "    blade = R.grade(2)\n",
    "    signature = (blade ** 2)[0]\n",
    "    if signature > tol:\n",
    "        return np.arccosh(R[0]) / norm(blade) * blade\n",
    "    if signature < -tol:\n",
    "        return np.arccos(R[0]) / norm(blade) * blade\n",
    "    else:\n",
    "        return blade\n",
    "        \n",
    "R = random_simple_rotor(stpga)\n",
    "B = simple_rotor_log(R)\n",
    "R, blade_exp(B)"
   ]
  },
  {
   "cell_type": "code",
   "execution_count": 125,
   "metadata": {},
   "outputs": [
    {
     "data": {
      "text/plain": [
       "(-0.301 + -0.188 𝐞₀₁ + -0.181 𝐞₀₂ + 0.0815 𝐞₀₃ + -0.594 𝐞₀₄ + -0.257 𝐞₁₂ + -0.397 𝐞₁₃ + 0.0013 𝐞₁₄ + -0.457 𝐞₂₃ + 0.632 𝐞₂₄ + 0.749 𝐞₃₄ + 0.0237 𝐞₀₁₂₃ + -0.114 𝐞₀₁₂₄ + -0.317 𝐞₀₁₃₄ + -0.281 𝐞₀₂₃₄ + -0.192 𝐞₁₂₃₄,\n",
       " -0.301 + -0.188 𝐞₀₁ + -0.181 𝐞₀₂ + 0.0815 𝐞₀₃ + -0.594 𝐞₀₄ + -0.257 𝐞₁₂ + -0.397 𝐞₁₃ + 0.0013 𝐞₁₄ + -0.457 𝐞₂₃ + 0.632 𝐞₂₄ + 0.749 𝐞₃₄ + 0.0237 𝐞₀₁₂₃ + -0.114 𝐞₀₁₂₄ + -0.317 𝐞₀₁₃₄ + -0.281 𝐞₀₂₃₄ + -0.192 𝐞₁₂₃₄,\n",
       " -0.301 + -0.188 𝐞₀₁ + -0.181 𝐞₀₂ + 0.0815 𝐞₀₃ + -0.594 𝐞₀₄ + -0.257 𝐞₁₂ + -0.397 𝐞₁₃ + 0.0013 𝐞₁₄ + -0.457 𝐞₂₃ + 0.632 𝐞₂₄ + 0.749 𝐞₃₄ + 0.0237 𝐞₀₁₂₃ + -0.114 𝐞₀₁₂₄ + -0.317 𝐞₀₁₃₄ + -0.281 𝐞₀₂₃₄ + -0.192 𝐞₁₂₃₄)"
      ]
     },
     "execution_count": 125,
     "metadata": {},
     "output_type": "execute_result"
    }
   ],
   "source": [
    "def random_even_versor(alg):\n",
    "    d = alg.d\n",
    "    if (alg.d % 2):\n",
    "        d -= 1\n",
    "    return gprod(random_r_vectors(d, alg))\n",
    "\n",
    "\n",
    "def random_rotor(alg, max_iter=100):\n",
    "    for _ in range(max_iter):\n",
    "        S = random_even_versor(alg)\n",
    "        sign  = (S.reverse().sp(S))[0]\n",
    "        if sign > 0:\n",
    "            return S/norm(S)\n",
    "\n",
    "\n",
    "def rotor_split(R: MultiVector, alg: Algebra, tol=1e-6):\n",
    "    # FIXME: when the tangent not well defined\n",
    "    assert normsq(R.grade(2)) > tol, \"zero bivector\"\n",
    "    tangent = R.grade(2) / R[0]\n",
    "    tangents = bivector_split(tangent, alg)\n",
    "    splits = sorted([normalize(1 + t) for t in tangents], key=lambda item: abs(item[0]))\n",
    "    sign = np.round(gprod(r[0] for r in splits)/R[0])\n",
    "    splits[0] = splits[0] * sign # to keep the sign of R\n",
    "    return splits\n",
    "        \n",
    "        \n",
    "R = random_rotor(stpga)\n",
    "R_splits = rotor_split(R)\n",
    "R, gprod(R_splits), gprod([blade_exp(simple_rotor_log(r)) for r in R_splits])\n"
   ]
  },
  {
   "cell_type": "code",
   "execution_count": null,
   "metadata": {},
   "outputs": [],
   "source": []
  }
 ],
 "metadata": {
  "kernelspec": {
   "display_name": "Python 3",
   "language": "python",
   "name": "python3"
  },
  "language_info": {
   "codemirror_mode": {
    "name": "ipython",
    "version": 3
   },
   "file_extension": ".py",
   "mimetype": "text/x-python",
   "name": "python",
   "nbconvert_exporter": "python",
   "pygments_lexer": "ipython3",
   "version": "3.10.5"
  }
 },
 "nbformat": 4,
 "nbformat_minor": 2
}
