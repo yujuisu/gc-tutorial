{
 "cells": [
  {
   "cell_type": "markdown",
   "metadata": {},
   "source": [
    "# Simple Questions\n",
    "A quideline of geometric calculus through my notes, consisting of what question raised and where it answered. "
   ]
  },
  {
   "cell_type": "markdown",
   "metadata": {},
   "source": [
    "### k-blades\n",
    "1. How to assert a k-vector being simple? [1.1.51](chap1.ipynb#k-blade-simple-k-vector), [determinant?]\n",
    "2. How to split a k-vector into simple ones?\n",
    "3. How to find the common subspace? [1.2.22](chap1.ipynb#222)"
   ]
  },
  {
   "cell_type": "markdown",
   "metadata": {},
   "source": [
    "\n",
    "[Curl and Curvature](./chap5_part1.ipynb#curl-and-curvature)"
   ]
  },
  {
   "cell_type": "markdown",
   "metadata": {},
   "source": [
    "### Indexes"
   ]
  }
 ],
 "metadata": {
  "kernelspec": {
   "display_name": "3.10.5",
   "language": "python",
   "name": "python3"
  },
  "language_info": {
   "name": "python",
   "version": "3.10.5"
  }
 },
 "nbformat": 4,
 "nbformat_minor": 2
}
