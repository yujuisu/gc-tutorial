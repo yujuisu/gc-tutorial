{
 "cells": [
  {
   "cell_type": "code",
   "execution_count": 3,
   "metadata": {},
   "outputs": [
    {
     "data": {
      "text/plain": [
       "(1.71 𝐞₁ + 1.1 𝐞₂ + 0.413 𝐞₃ + 3.51 𝐞₄, 1.54 𝐞₁ + 1.09 𝐞₂ + 1.86 𝐞₃ + 2.62 𝐞₄)"
      ]
     },
     "execution_count": 3,
     "metadata": {},
     "output_type": "execute_result"
    }
   ],
   "source": [
    "from gc_utils import *\n",
    "alg = Algebra(4)\n",
    "locals().update(alg.blades)\n",
    "a,b,c,d,e = random_r_vectors(5, alg)\n",
    "a | (b*c + d*e), (a|b)*c + (a|d)*e"
   ]
  },
  {
   "cell_type": "code",
   "execution_count": 2,
   "metadata": {},
   "outputs": [
    {
     "data": {
      "text/plain": [
       "(0.524 𝐞₁ + -0.973 𝐞₂ + 0.176 𝐞₃ + 0.133 𝐞₄ + 0.754 𝐞₁₂₃ + 0.449 𝐞₁₂₄,\n",
       " 0.524 𝐞₁ + -0.973 𝐞₂ + 0.176 𝐞₃ + 0.133 𝐞₄ + 0.754 𝐞₁₂₃ + 0.449 𝐞₁₂₄)"
      ]
     },
     "execution_count": 2,
     "metadata": {},
     "output_type": "execute_result"
    }
   ],
   "source": [
    "e1 * (e1*c + e2*e), e1*e1*c + e1*e2*e"
   ]
  },
  {
   "cell_type": "code",
   "execution_count": 16,
   "metadata": {},
   "outputs": [
    {
     "data": {
      "text/plain": [
       "(1.28 𝐞₂, 1.28 𝐞₁₂)"
      ]
     },
     "execution_count": 16,
     "metadata": {},
     "output_type": "execute_result"
    }
   ],
   "source": [
    "F = lambda x: (x.e1)**2*e2\n",
    "differential(F, a, e1), derivative(F, a, alg, grade=1)"
   ]
  },
  {
   "cell_type": "code",
   "execution_count": 13,
   "metadata": {},
   "outputs": [
    {
     "data": {
      "text/plain": [
       "(1.28 𝐞₁, 3.09)"
      ]
     },
     "execution_count": 13,
     "metadata": {},
     "output_type": "execute_result"
    }
   ],
   "source": [
    "F = lambda x: (x.e1)**2*e1 + (x.e2)**2*e2\n",
    "differential(F, a, e1), derivative(F, a, alg, grade=1)"
   ]
  },
  {
   "cell_type": "code",
   "execution_count": 14,
   "metadata": {},
   "outputs": [
    {
     "data": {
      "text/plain": [
       "(1.28 𝐞₂, 1.82 + 1.28 𝐞₁₂)"
      ]
     },
     "execution_count": 14,
     "metadata": {},
     "output_type": "execute_result"
    }
   ],
   "source": [
    "F = lambda x: (x.e1)**2*e2 + (x.e2)**2*e2\n",
    "differential(F, a, e1), derivative(F, a, alg, grade=1)"
   ]
  },
  {
   "cell_type": "code",
   "execution_count": 15,
   "metadata": {},
   "outputs": [
    {
     "data": {
      "text/plain": [
       "(1.28 𝐞₂, -0.542 𝐞₁₂)"
      ]
     },
     "execution_count": 15,
     "metadata": {},
     "output_type": "execute_result"
    }
   ],
   "source": [
    "F = lambda x: (x.e1)**2*e2 + (x.e2)**2*e1\n",
    "differential(F, a, e1), derivative(F, a, alg, grade=1)"
   ]
  },
  {
   "cell_type": "code",
   "execution_count": 19,
   "metadata": {},
   "outputs": [
    {
     "data": {
      "text/plain": [
       "5 + -1 𝐞₁₂"
      ]
     },
     "execution_count": 19,
     "metadata": {},
     "output_type": "execute_result"
    }
   ],
   "source": [
    "e1*(e1+2*e2) + e2*(3*e1+4*e2)"
   ]
  },
  {
   "cell_type": "code",
   "execution_count": null,
   "metadata": {},
   "outputs": [],
   "source": []
  }
 ],
 "metadata": {
  "kernelspec": {
   "display_name": "3.10.5",
   "language": "python",
   "name": "python3"
  },
  "language_info": {
   "codemirror_mode": {
    "name": "ipython",
    "version": 3
   },
   "file_extension": ".py",
   "mimetype": "text/x-python",
   "name": "python",
   "nbconvert_exporter": "python",
   "pygments_lexer": "ipython3",
   "version": "3.10.5"
  }
 },
 "nbformat": 4,
 "nbformat_minor": 2
}
